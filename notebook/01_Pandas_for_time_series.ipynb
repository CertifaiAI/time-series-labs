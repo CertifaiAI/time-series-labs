{
  "nbformat": 4,
  "nbformat_minor": 0,
  "metadata": {
    "colab": {
      "name": "01 - Pandas for time series.ipynb",
      "provenance": []
    },
    "kernelspec": {
      "name": "python3",
      "display_name": "Python 3"
    }
  },
  "cells": [
    {
      "cell_type": "markdown",
      "metadata": {
        "id": "WY3yWu9_m6ZT",
        "colab_type": "text"
      },
      "source": [
        "# Pandas Basic\n",
        "\n",
        "Pandas is built \"on top\" of NumPy which allows us to work on data easily. Thus, Numpy functions will generally work on pandas objects as well. At first, we will import both libraries:"
      ]
    },
    {
      "cell_type": "code",
      "metadata": {
        "id": "83ArqlL8msXF",
        "colab_type": "code",
        "colab": {}
      },
      "source": [
        "import numpy as np\n",
        "import pandas as pd"
      ],
      "execution_count": 0,
      "outputs": []
    },
    {
      "cell_type": "markdown",
      "metadata": {
        "id": "j66UUA3VrNE1",
        "colab_type": "text"
      },
      "source": [
        "## DataFrame Class Pt. 1\n",
        "\n",
        "Here, we will learn some basic operations using Pandas library"
      ]
    },
    {
      "cell_type": "markdown",
      "metadata": {
        "id": "4iHHHJP2vdr_",
        "colab_type": "text"
      },
      "source": [
        "### Create new DataFrame"
      ]
    },
    {
      "cell_type": "code",
      "metadata": {
        "id": "wJz5phjKp9g2",
        "colab_type": "code",
        "outputId": "07500d44-a080-4bd1-f559-bcb0d2de729c",
        "colab": {
          "base_uri": "https://localhost:8080/",
          "height": 166
        }
      },
      "source": [
        "data = [10, 20, 30, 40]\n",
        "df = pd.DataFrame(data, columns=['numbers'], index=['a', 'b', 'c', 'd'])\n",
        "df"
      ],
      "execution_count": 2,
      "outputs": [
        {
          "output_type": "execute_result",
          "data": {
            "text/html": [
              "<div>\n",
              "<style scoped>\n",
              "    .dataframe tbody tr th:only-of-type {\n",
              "        vertical-align: middle;\n",
              "    }\n",
              "\n",
              "    .dataframe tbody tr th {\n",
              "        vertical-align: top;\n",
              "    }\n",
              "\n",
              "    .dataframe thead th {\n",
              "        text-align: right;\n",
              "    }\n",
              "</style>\n",
              "<table border=\"1\" class=\"dataframe\">\n",
              "  <thead>\n",
              "    <tr style=\"text-align: right;\">\n",
              "      <th></th>\n",
              "      <th>numbers</th>\n",
              "    </tr>\n",
              "  </thead>\n",
              "  <tbody>\n",
              "    <tr>\n",
              "      <th>a</th>\n",
              "      <td>10</td>\n",
              "    </tr>\n",
              "    <tr>\n",
              "      <th>b</th>\n",
              "      <td>20</td>\n",
              "    </tr>\n",
              "    <tr>\n",
              "      <th>c</th>\n",
              "      <td>30</td>\n",
              "    </tr>\n",
              "    <tr>\n",
              "      <th>d</th>\n",
              "      <td>40</td>\n",
              "    </tr>\n",
              "  </tbody>\n",
              "</table>\n",
              "</div>"
            ],
            "text/plain": [
              "   numbers\n",
              "a       10\n",
              "b       20\n",
              "c       30\n",
              "d       40"
            ]
          },
          "metadata": {
            "tags": []
          },
          "execution_count": 2
        }
      ]
    },
    {
      "cell_type": "markdown",
      "metadata": {
        "id": "oCqe0dS9r-Rb",
        "colab_type": "text"
      },
      "source": [
        "### Typical operations on DataFrame objects"
      ]
    },
    {
      "cell_type": "markdown",
      "metadata": {
        "id": "7xBsvY4H60AQ",
        "colab_type": "text"
      },
      "source": [
        "Read all index"
      ]
    },
    {
      "cell_type": "code",
      "metadata": {
        "id": "Djp_x55Lu9aK",
        "colab_type": "code",
        "outputId": "f7a3b77a-adff-46ac-d263-be821bc5b57c",
        "colab": {
          "base_uri": "https://localhost:8080/",
          "height": 33
        }
      },
      "source": [
        "df.index"
      ],
      "execution_count": 3,
      "outputs": [
        {
          "output_type": "execute_result",
          "data": {
            "text/plain": [
              "Index(['a', 'b', 'c', 'd'], dtype='object')"
            ]
          },
          "metadata": {
            "tags": []
          },
          "execution_count": 3
        }
      ]
    },
    {
      "cell_type": "markdown",
      "metadata": {
        "id": "lJbi0hEr67xx",
        "colab_type": "text"
      },
      "source": [
        "Determine what are the available columns."
      ]
    },
    {
      "cell_type": "code",
      "metadata": {
        "id": "gdEiu8aHviIE",
        "colab_type": "code",
        "outputId": "5a266613-b3ab-4850-a64f-71c40e99f110",
        "colab": {
          "base_uri": "https://localhost:8080/",
          "height": 33
        }
      },
      "source": [
        "df.columns"
      ],
      "execution_count": 4,
      "outputs": [
        {
          "output_type": "execute_result",
          "data": {
            "text/plain": [
              "Index(['numbers'], dtype='object')"
            ]
          },
          "metadata": {
            "tags": []
          },
          "execution_count": 4
        }
      ]
    },
    {
      "cell_type": "markdown",
      "metadata": {
        "id": "E1PjHyLv7Wjd",
        "colab_type": "text"
      },
      "source": [
        "Index slicing using characters or strings."
      ]
    },
    {
      "cell_type": "code",
      "metadata": {
        "id": "gaEHfD0kvtGO",
        "colab_type": "code",
        "outputId": "93af2480-b40c-4bc3-ed86-cc77b99348db",
        "colab": {
          "base_uri": "https://localhost:8080/",
          "height": 50
        }
      },
      "source": [
        "df.loc['c']"
      ],
      "execution_count": 5,
      "outputs": [
        {
          "output_type": "execute_result",
          "data": {
            "text/plain": [
              "numbers    30\n",
              "Name: c, dtype: int64"
            ]
          },
          "metadata": {
            "tags": []
          },
          "execution_count": 5
        }
      ]
    },
    {
      "cell_type": "markdown",
      "metadata": {
        "id": "ii8H3P117GdU",
        "colab_type": "text"
      },
      "source": [
        "Index slicing using integers."
      ]
    },
    {
      "cell_type": "code",
      "metadata": {
        "id": "ek4bBzkFvvCc",
        "colab_type": "code",
        "outputId": "4ea4752b-d423-440f-efa1-6b372baaccbf",
        "colab": {
          "base_uri": "https://localhost:8080/",
          "height": 107
        }
      },
      "source": [
        "data = [10, 20, 30, 40]\n",
        "df_num_idx = pd.DataFrame(data, columns=['numbers'])\n",
        "df_num_idx.iloc[1:3]"
      ],
      "execution_count": 6,
      "outputs": [
        {
          "output_type": "execute_result",
          "data": {
            "text/html": [
              "<div>\n",
              "<style scoped>\n",
              "    .dataframe tbody tr th:only-of-type {\n",
              "        vertical-align: middle;\n",
              "    }\n",
              "\n",
              "    .dataframe tbody tr th {\n",
              "        vertical-align: top;\n",
              "    }\n",
              "\n",
              "    .dataframe thead th {\n",
              "        text-align: right;\n",
              "    }\n",
              "</style>\n",
              "<table border=\"1\" class=\"dataframe\">\n",
              "  <thead>\n",
              "    <tr style=\"text-align: right;\">\n",
              "      <th></th>\n",
              "      <th>numbers</th>\n",
              "    </tr>\n",
              "  </thead>\n",
              "  <tbody>\n",
              "    <tr>\n",
              "      <th>1</th>\n",
              "      <td>20</td>\n",
              "    </tr>\n",
              "    <tr>\n",
              "      <th>2</th>\n",
              "      <td>30</td>\n",
              "    </tr>\n",
              "  </tbody>\n",
              "</table>\n",
              "</div>"
            ],
            "text/plain": [
              "   numbers\n",
              "1       20\n",
              "2       30"
            ]
          },
          "metadata": {
            "tags": []
          },
          "execution_count": 6
        }
      ]
    },
    {
      "cell_type": "markdown",
      "metadata": {
        "id": "ftcQiW0ckWzq",
        "colab_type": "text"
      },
      "source": [
        "Sum up every numbers in rows"
      ]
    },
    {
      "cell_type": "code",
      "metadata": {
        "id": "H2RGt8zbwE6a",
        "colab_type": "code",
        "outputId": "76815fee-433c-4121-ca42-edd60155a28f",
        "colab": {
          "base_uri": "https://localhost:8080/",
          "height": 50
        }
      },
      "source": [
        "df.sum()"
      ],
      "execution_count": 7,
      "outputs": [
        {
          "output_type": "execute_result",
          "data": {
            "text/plain": [
              "numbers    100\n",
              "dtype: int64"
            ]
          },
          "metadata": {
            "tags": []
          },
          "execution_count": 7
        }
      ]
    },
    {
      "cell_type": "markdown",
      "metadata": {
        "id": "gg2UGbx0kfGP",
        "colab_type": "text"
      },
      "source": [
        "Perform numeric operation on each data"
      ]
    },
    {
      "cell_type": "code",
      "metadata": {
        "id": "qmI2QvkKwZXA",
        "colab_type": "code",
        "outputId": "795f0b43-7746-48ae-c1e9-a3e3ebea8e12",
        "colab": {
          "base_uri": "https://localhost:8080/",
          "height": 166
        }
      },
      "source": [
        "df.apply(lambda x: x**2)"
      ],
      "execution_count": 8,
      "outputs": [
        {
          "output_type": "execute_result",
          "data": {
            "text/html": [
              "<div>\n",
              "<style scoped>\n",
              "    .dataframe tbody tr th:only-of-type {\n",
              "        vertical-align: middle;\n",
              "    }\n",
              "\n",
              "    .dataframe tbody tr th {\n",
              "        vertical-align: top;\n",
              "    }\n",
              "\n",
              "    .dataframe thead th {\n",
              "        text-align: right;\n",
              "    }\n",
              "</style>\n",
              "<table border=\"1\" class=\"dataframe\">\n",
              "  <thead>\n",
              "    <tr style=\"text-align: right;\">\n",
              "      <th></th>\n",
              "      <th>numbers</th>\n",
              "    </tr>\n",
              "  </thead>\n",
              "  <tbody>\n",
              "    <tr>\n",
              "      <th>a</th>\n",
              "      <td>100</td>\n",
              "    </tr>\n",
              "    <tr>\n",
              "      <th>b</th>\n",
              "      <td>400</td>\n",
              "    </tr>\n",
              "    <tr>\n",
              "      <th>c</th>\n",
              "      <td>900</td>\n",
              "    </tr>\n",
              "    <tr>\n",
              "      <th>d</th>\n",
              "      <td>1600</td>\n",
              "    </tr>\n",
              "  </tbody>\n",
              "</table>\n",
              "</div>"
            ],
            "text/plain": [
              "   numbers\n",
              "a      100\n",
              "b      400\n",
              "c      900\n",
              "d     1600"
            ]
          },
          "metadata": {
            "tags": []
          },
          "execution_count": 8
        }
      ]
    },
    {
      "cell_type": "markdown",
      "metadata": {
        "id": "A9mfxw8wkl9X",
        "colab_type": "text"
      },
      "source": [
        "Add a new column to the DataFrame"
      ]
    },
    {
      "cell_type": "code",
      "metadata": {
        "id": "mRINYrbpweiF",
        "colab_type": "code",
        "outputId": "e31eba01-547a-4742-d482-7462c53f74b4",
        "colab": {
          "base_uri": "https://localhost:8080/",
          "height": 166
        }
      },
      "source": [
        "df['floats']=(1.5, 2.5, 3.5, 4.5);df"
      ],
      "execution_count": 9,
      "outputs": [
        {
          "output_type": "execute_result",
          "data": {
            "text/html": [
              "<div>\n",
              "<style scoped>\n",
              "    .dataframe tbody tr th:only-of-type {\n",
              "        vertical-align: middle;\n",
              "    }\n",
              "\n",
              "    .dataframe tbody tr th {\n",
              "        vertical-align: top;\n",
              "    }\n",
              "\n",
              "    .dataframe thead th {\n",
              "        text-align: right;\n",
              "    }\n",
              "</style>\n",
              "<table border=\"1\" class=\"dataframe\">\n",
              "  <thead>\n",
              "    <tr style=\"text-align: right;\">\n",
              "      <th></th>\n",
              "      <th>numbers</th>\n",
              "      <th>floats</th>\n",
              "    </tr>\n",
              "  </thead>\n",
              "  <tbody>\n",
              "    <tr>\n",
              "      <th>a</th>\n",
              "      <td>10</td>\n",
              "      <td>1.5</td>\n",
              "    </tr>\n",
              "    <tr>\n",
              "      <th>b</th>\n",
              "      <td>20</td>\n",
              "      <td>2.5</td>\n",
              "    </tr>\n",
              "    <tr>\n",
              "      <th>c</th>\n",
              "      <td>30</td>\n",
              "      <td>3.5</td>\n",
              "    </tr>\n",
              "    <tr>\n",
              "      <th>d</th>\n",
              "      <td>40</td>\n",
              "      <td>4.5</td>\n",
              "    </tr>\n",
              "  </tbody>\n",
              "</table>\n",
              "</div>"
            ],
            "text/plain": [
              "   numbers  floats\n",
              "a       10     1.5\n",
              "b       20     2.5\n",
              "c       30     3.5\n",
              "d       40     4.5"
            ]
          },
          "metadata": {
            "tags": []
          },
          "execution_count": 9
        }
      ]
    },
    {
      "cell_type": "markdown",
      "metadata": {
        "id": "4Sk-Hp_Ik_y4",
        "colab_type": "text"
      },
      "source": [
        "Select the data at specific column"
      ]
    },
    {
      "cell_type": "code",
      "metadata": {
        "id": "H7AElsuwyAv8",
        "colab_type": "code",
        "outputId": "913b6240-08ae-4027-ed11-90d915ffa234",
        "colab": {
          "base_uri": "https://localhost:8080/",
          "height": 100
        }
      },
      "source": [
        "df['floats']"
      ],
      "execution_count": 10,
      "outputs": [
        {
          "output_type": "execute_result",
          "data": {
            "text/plain": [
              "a    1.5\n",
              "b    2.5\n",
              "c    3.5\n",
              "d    4.5\n",
              "Name: floats, dtype: float64"
            ]
          },
          "metadata": {
            "tags": []
          },
          "execution_count": 10
        }
      ]
    },
    {
      "cell_type": "markdown",
      "metadata": {
        "id": "S4Z-eS1En-5M",
        "colab_type": "text"
      },
      "source": [
        "We can also create a new column by using a Dataframe."
      ]
    },
    {
      "cell_type": "code",
      "metadata": {
        "id": "gMzNi2anyEZ0",
        "colab_type": "code",
        "outputId": "ac62dcb1-2d8f-4217-e2c1-451b6fc0f47f",
        "colab": {
          "base_uri": "https://localhost:8080/",
          "height": 166
        }
      },
      "source": [
        "df['names'] = pd.DataFrame(['Ali', 'Mutu', 'Lim', 'John'], index=['d', 'b', 'a', 'c']); df"
      ],
      "execution_count": 11,
      "outputs": [
        {
          "output_type": "execute_result",
          "data": {
            "text/html": [
              "<div>\n",
              "<style scoped>\n",
              "    .dataframe tbody tr th:only-of-type {\n",
              "        vertical-align: middle;\n",
              "    }\n",
              "\n",
              "    .dataframe tbody tr th {\n",
              "        vertical-align: top;\n",
              "    }\n",
              "\n",
              "    .dataframe thead th {\n",
              "        text-align: right;\n",
              "    }\n",
              "</style>\n",
              "<table border=\"1\" class=\"dataframe\">\n",
              "  <thead>\n",
              "    <tr style=\"text-align: right;\">\n",
              "      <th></th>\n",
              "      <th>numbers</th>\n",
              "      <th>floats</th>\n",
              "      <th>names</th>\n",
              "    </tr>\n",
              "  </thead>\n",
              "  <tbody>\n",
              "    <tr>\n",
              "      <th>a</th>\n",
              "      <td>10</td>\n",
              "      <td>1.5</td>\n",
              "      <td>Lim</td>\n",
              "    </tr>\n",
              "    <tr>\n",
              "      <th>b</th>\n",
              "      <td>20</td>\n",
              "      <td>2.5</td>\n",
              "      <td>Mutu</td>\n",
              "    </tr>\n",
              "    <tr>\n",
              "      <th>c</th>\n",
              "      <td>30</td>\n",
              "      <td>3.5</td>\n",
              "      <td>John</td>\n",
              "    </tr>\n",
              "    <tr>\n",
              "      <th>d</th>\n",
              "      <td>40</td>\n",
              "      <td>4.5</td>\n",
              "      <td>Ali</td>\n",
              "    </tr>\n",
              "  </tbody>\n",
              "</table>\n",
              "</div>"
            ],
            "text/plain": [
              "   numbers  floats names\n",
              "a       10     1.5   Lim\n",
              "b       20     2.5  Mutu\n",
              "c       30     3.5  John\n",
              "d       40     4.5   Ali"
            ]
          },
          "metadata": {
            "tags": []
          },
          "execution_count": 11
        }
      ]
    },
    {
      "cell_type": "markdown",
      "metadata": {
        "id": "BSorS8R7r66f",
        "colab_type": "text"
      },
      "source": [
        "If we want to add a new row to the dataset, we can use append. But do note that this is just a temporary DataFrame and will not affect the original DataFrame.\n",
        "\n",
        "Here, we show that we can add a new row of data by using a dictionary."
      ]
    },
    {
      "cell_type": "code",
      "metadata": {
        "id": "U-eXphzmyYvg",
        "colab_type": "code",
        "outputId": "b4d4b3ce-2697-41da-e6c1-b9fcf6645feb",
        "colab": {
          "base_uri": "https://localhost:8080/",
          "height": 196
        }
      },
      "source": [
        "df.append({'numbers':25, 'floats': 24.72, 'names':'Fatimah'}, ignore_index=True)\n",
        "#temporary object, will not affect the original df\n",
        "#df"
      ],
      "execution_count": 12,
      "outputs": [
        {
          "output_type": "execute_result",
          "data": {
            "text/html": [
              "<div>\n",
              "<style scoped>\n",
              "    .dataframe tbody tr th:only-of-type {\n",
              "        vertical-align: middle;\n",
              "    }\n",
              "\n",
              "    .dataframe tbody tr th {\n",
              "        vertical-align: top;\n",
              "    }\n",
              "\n",
              "    .dataframe thead th {\n",
              "        text-align: right;\n",
              "    }\n",
              "</style>\n",
              "<table border=\"1\" class=\"dataframe\">\n",
              "  <thead>\n",
              "    <tr style=\"text-align: right;\">\n",
              "      <th></th>\n",
              "      <th>numbers</th>\n",
              "      <th>floats</th>\n",
              "      <th>names</th>\n",
              "    </tr>\n",
              "  </thead>\n",
              "  <tbody>\n",
              "    <tr>\n",
              "      <th>0</th>\n",
              "      <td>10</td>\n",
              "      <td>1.50</td>\n",
              "      <td>Lim</td>\n",
              "    </tr>\n",
              "    <tr>\n",
              "      <th>1</th>\n",
              "      <td>20</td>\n",
              "      <td>2.50</td>\n",
              "      <td>Mutu</td>\n",
              "    </tr>\n",
              "    <tr>\n",
              "      <th>2</th>\n",
              "      <td>30</td>\n",
              "      <td>3.50</td>\n",
              "      <td>John</td>\n",
              "    </tr>\n",
              "    <tr>\n",
              "      <th>3</th>\n",
              "      <td>40</td>\n",
              "      <td>4.50</td>\n",
              "      <td>Ali</td>\n",
              "    </tr>\n",
              "    <tr>\n",
              "      <th>4</th>\n",
              "      <td>25</td>\n",
              "      <td>24.72</td>\n",
              "      <td>Fatimah</td>\n",
              "    </tr>\n",
              "  </tbody>\n",
              "</table>\n",
              "</div>"
            ],
            "text/plain": [
              "   numbers  floats    names\n",
              "0       10    1.50      Lim\n",
              "1       20    2.50     Mutu\n",
              "2       30    3.50     John\n",
              "3       40    4.50      Ali\n",
              "4       25   24.72  Fatimah"
            ]
          },
          "metadata": {
            "tags": []
          },
          "execution_count": 12
        }
      ]
    },
    {
      "cell_type": "markdown",
      "metadata": {
        "id": "7Cv6hHwLsPEV",
        "colab_type": "text"
      },
      "source": [
        "Thus, we need to replace the old variable in order to 'replace' it. \n",
        "\n",
        "We can append a new row of data using DataFrame as well instead of a dictionary."
      ]
    },
    {
      "cell_type": "code",
      "metadata": {
        "id": "t9eALb9Mys8U",
        "colab_type": "code",
        "outputId": "acafd5ef-f0a0-404e-b697-f0d03318617b",
        "colab": {
          "base_uri": "https://localhost:8080/",
          "height": 196
        }
      },
      "source": [
        "df = df.append(pd.DataFrame({'numbers': 10, 'floats': 5.6,'names': 'Henry'}, index=['z']));df"
      ],
      "execution_count": 13,
      "outputs": [
        {
          "output_type": "execute_result",
          "data": {
            "text/html": [
              "<div>\n",
              "<style scoped>\n",
              "    .dataframe tbody tr th:only-of-type {\n",
              "        vertical-align: middle;\n",
              "    }\n",
              "\n",
              "    .dataframe tbody tr th {\n",
              "        vertical-align: top;\n",
              "    }\n",
              "\n",
              "    .dataframe thead th {\n",
              "        text-align: right;\n",
              "    }\n",
              "</style>\n",
              "<table border=\"1\" class=\"dataframe\">\n",
              "  <thead>\n",
              "    <tr style=\"text-align: right;\">\n",
              "      <th></th>\n",
              "      <th>numbers</th>\n",
              "      <th>floats</th>\n",
              "      <th>names</th>\n",
              "    </tr>\n",
              "  </thead>\n",
              "  <tbody>\n",
              "    <tr>\n",
              "      <th>a</th>\n",
              "      <td>10</td>\n",
              "      <td>1.5</td>\n",
              "      <td>Lim</td>\n",
              "    </tr>\n",
              "    <tr>\n",
              "      <th>b</th>\n",
              "      <td>20</td>\n",
              "      <td>2.5</td>\n",
              "      <td>Mutu</td>\n",
              "    </tr>\n",
              "    <tr>\n",
              "      <th>c</th>\n",
              "      <td>30</td>\n",
              "      <td>3.5</td>\n",
              "      <td>John</td>\n",
              "    </tr>\n",
              "    <tr>\n",
              "      <th>d</th>\n",
              "      <td>40</td>\n",
              "      <td>4.5</td>\n",
              "      <td>Ali</td>\n",
              "    </tr>\n",
              "    <tr>\n",
              "      <th>z</th>\n",
              "      <td>10</td>\n",
              "      <td>5.6</td>\n",
              "      <td>Henry</td>\n",
              "    </tr>\n",
              "  </tbody>\n",
              "</table>\n",
              "</div>"
            ],
            "text/plain": [
              "   numbers  floats  names\n",
              "a       10     1.5    Lim\n",
              "b       20     2.5   Mutu\n",
              "c       30     3.5   John\n",
              "d       40     4.5    Ali\n",
              "z       10     5.6  Henry"
            ]
          },
          "metadata": {
            "tags": []
          },
          "execution_count": 13
        }
      ]
    },
    {
      "cell_type": "markdown",
      "metadata": {
        "id": "2NguHZGWwbzg",
        "colab_type": "text"
      },
      "source": [
        "## DataFrame Class Pt. 2\n",
        "\n",
        "New, we will work on numerical data, add on new feature like DateTimeIndex and do some basic analysis."
      ]
    },
    {
      "cell_type": "markdown",
      "metadata": {
        "id": "HhuoVp2exxhI",
        "colab_type": "text"
      },
      "source": [
        "First, we can generate some data for us to use."
      ]
    },
    {
      "cell_type": "code",
      "metadata": {
        "id": "waJnfbvW4_cj",
        "colab_type": "code",
        "outputId": "18f7ec95-eb34-4513-f1a5-a8c769b4d363",
        "colab": {
          "base_uri": "https://localhost:8080/",
          "height": 167
        }
      },
      "source": [
        "np.random.seed(123)\n",
        "gen_data = np.random.standard_normal((9,4))\n",
        "gen_data.round(6)"
      ],
      "execution_count": 67,
      "outputs": [
        {
          "output_type": "execute_result",
          "data": {
            "text/plain": [
              "array([[-1.085631,  0.997345,  0.282978, -1.506295],\n",
              "       [-0.5786  ,  1.651437, -2.426679, -0.428913],\n",
              "       [ 1.265936, -0.86674 , -0.678886, -0.094709],\n",
              "       [ 1.49139 , -0.638902, -0.443982, -0.434351],\n",
              "       [ 2.20593 ,  2.186786,  1.004054,  0.386186],\n",
              "       [ 0.737369,  1.490732, -0.935834,  1.175829],\n",
              "       [-1.253881, -0.637752,  0.907105, -1.428681],\n",
              "       [-0.140069, -0.861755, -0.255619, -2.798589],\n",
              "       [-1.771533, -0.699877,  0.927462, -0.173636]])"
            ]
          },
          "metadata": {
            "tags": []
          },
          "execution_count": 67
        }
      ]
    },
    {
      "cell_type": "markdown",
      "metadata": {
        "id": "3xV0zibeyRTS",
        "colab_type": "text"
      },
      "source": [
        "We can create a DataFrame directly by using the array object"
      ]
    },
    {
      "cell_type": "code",
      "metadata": {
        "id": "OF4-x6z-yDYu",
        "colab_type": "code",
        "outputId": "280d9f34-1a57-47fb-aaf8-49fb51fb6a9f",
        "colab": {
          "base_uri": "https://localhost:8080/",
          "height": 316
        }
      },
      "source": [
        "df = pd.DataFrame(gen_data);df"
      ],
      "execution_count": 68,
      "outputs": [
        {
          "output_type": "execute_result",
          "data": {
            "text/html": [
              "<div>\n",
              "<style scoped>\n",
              "    .dataframe tbody tr th:only-of-type {\n",
              "        vertical-align: middle;\n",
              "    }\n",
              "\n",
              "    .dataframe tbody tr th {\n",
              "        vertical-align: top;\n",
              "    }\n",
              "\n",
              "    .dataframe thead th {\n",
              "        text-align: right;\n",
              "    }\n",
              "</style>\n",
              "<table border=\"1\" class=\"dataframe\">\n",
              "  <thead>\n",
              "    <tr style=\"text-align: right;\">\n",
              "      <th></th>\n",
              "      <th>0</th>\n",
              "      <th>1</th>\n",
              "      <th>2</th>\n",
              "      <th>3</th>\n",
              "    </tr>\n",
              "  </thead>\n",
              "  <tbody>\n",
              "    <tr>\n",
              "      <th>0</th>\n",
              "      <td>-1.085631</td>\n",
              "      <td>0.997345</td>\n",
              "      <td>0.282978</td>\n",
              "      <td>-1.506295</td>\n",
              "    </tr>\n",
              "    <tr>\n",
              "      <th>1</th>\n",
              "      <td>-0.578600</td>\n",
              "      <td>1.651437</td>\n",
              "      <td>-2.426679</td>\n",
              "      <td>-0.428913</td>\n",
              "    </tr>\n",
              "    <tr>\n",
              "      <th>2</th>\n",
              "      <td>1.265936</td>\n",
              "      <td>-0.866740</td>\n",
              "      <td>-0.678886</td>\n",
              "      <td>-0.094709</td>\n",
              "    </tr>\n",
              "    <tr>\n",
              "      <th>3</th>\n",
              "      <td>1.491390</td>\n",
              "      <td>-0.638902</td>\n",
              "      <td>-0.443982</td>\n",
              "      <td>-0.434351</td>\n",
              "    </tr>\n",
              "    <tr>\n",
              "      <th>4</th>\n",
              "      <td>2.205930</td>\n",
              "      <td>2.186786</td>\n",
              "      <td>1.004054</td>\n",
              "      <td>0.386186</td>\n",
              "    </tr>\n",
              "    <tr>\n",
              "      <th>5</th>\n",
              "      <td>0.737369</td>\n",
              "      <td>1.490732</td>\n",
              "      <td>-0.935834</td>\n",
              "      <td>1.175829</td>\n",
              "    </tr>\n",
              "    <tr>\n",
              "      <th>6</th>\n",
              "      <td>-1.253881</td>\n",
              "      <td>-0.637752</td>\n",
              "      <td>0.907105</td>\n",
              "      <td>-1.428681</td>\n",
              "    </tr>\n",
              "    <tr>\n",
              "      <th>7</th>\n",
              "      <td>-0.140069</td>\n",
              "      <td>-0.861755</td>\n",
              "      <td>-0.255619</td>\n",
              "      <td>-2.798589</td>\n",
              "    </tr>\n",
              "    <tr>\n",
              "      <th>8</th>\n",
              "      <td>-1.771533</td>\n",
              "      <td>-0.699877</td>\n",
              "      <td>0.927462</td>\n",
              "      <td>-0.173636</td>\n",
              "    </tr>\n",
              "  </tbody>\n",
              "</table>\n",
              "</div>"
            ],
            "text/plain": [
              "          0         1         2         3\n",
              "0 -1.085631  0.997345  0.282978 -1.506295\n",
              "1 -0.578600  1.651437 -2.426679 -0.428913\n",
              "2  1.265936 -0.866740 -0.678886 -0.094709\n",
              "3  1.491390 -0.638902 -0.443982 -0.434351\n",
              "4  2.205930  2.186786  1.004054  0.386186\n",
              "5  0.737369  1.490732 -0.935834  1.175829\n",
              "6 -1.253881 -0.637752  0.907105 -1.428681\n",
              "7 -0.140069 -0.861755 -0.255619 -2.798589\n",
              "8 -1.771533 -0.699877  0.927462 -0.173636"
            ]
          },
          "metadata": {
            "tags": []
          },
          "execution_count": 68
        }
      ]
    },
    {
      "cell_type": "markdown",
      "metadata": {
        "id": "LLnTxPUnylZk",
        "colab_type": "text"
      },
      "source": [
        "Next, we can rename all columns"
      ]
    },
    {
      "cell_type": "code",
      "metadata": {
        "id": "1doZ7mxJygEb",
        "colab_type": "code",
        "outputId": "0bb29a69-d2c4-4c81-afa7-53bc673a66cb",
        "colab": {
          "base_uri": "https://localhost:8080/",
          "height": 316
        }
      },
      "source": [
        "df.columns = [['x1', 'x2', 'x3', 'x4']];df"
      ],
      "execution_count": 69,
      "outputs": [
        {
          "output_type": "execute_result",
          "data": {
            "text/html": [
              "<div>\n",
              "<style scoped>\n",
              "    .dataframe tbody tr th:only-of-type {\n",
              "        vertical-align: middle;\n",
              "    }\n",
              "\n",
              "    .dataframe tbody tr th {\n",
              "        vertical-align: top;\n",
              "    }\n",
              "\n",
              "    .dataframe thead tr th {\n",
              "        text-align: left;\n",
              "    }\n",
              "</style>\n",
              "<table border=\"1\" class=\"dataframe\">\n",
              "  <thead>\n",
              "    <tr>\n",
              "      <th></th>\n",
              "      <th>x1</th>\n",
              "      <th>x2</th>\n",
              "      <th>x3</th>\n",
              "      <th>x4</th>\n",
              "    </tr>\n",
              "  </thead>\n",
              "  <tbody>\n",
              "    <tr>\n",
              "      <th>0</th>\n",
              "      <td>-1.085631</td>\n",
              "      <td>0.997345</td>\n",
              "      <td>0.282978</td>\n",
              "      <td>-1.506295</td>\n",
              "    </tr>\n",
              "    <tr>\n",
              "      <th>1</th>\n",
              "      <td>-0.578600</td>\n",
              "      <td>1.651437</td>\n",
              "      <td>-2.426679</td>\n",
              "      <td>-0.428913</td>\n",
              "    </tr>\n",
              "    <tr>\n",
              "      <th>2</th>\n",
              "      <td>1.265936</td>\n",
              "      <td>-0.866740</td>\n",
              "      <td>-0.678886</td>\n",
              "      <td>-0.094709</td>\n",
              "    </tr>\n",
              "    <tr>\n",
              "      <th>3</th>\n",
              "      <td>1.491390</td>\n",
              "      <td>-0.638902</td>\n",
              "      <td>-0.443982</td>\n",
              "      <td>-0.434351</td>\n",
              "    </tr>\n",
              "    <tr>\n",
              "      <th>4</th>\n",
              "      <td>2.205930</td>\n",
              "      <td>2.186786</td>\n",
              "      <td>1.004054</td>\n",
              "      <td>0.386186</td>\n",
              "    </tr>\n",
              "    <tr>\n",
              "      <th>5</th>\n",
              "      <td>0.737369</td>\n",
              "      <td>1.490732</td>\n",
              "      <td>-0.935834</td>\n",
              "      <td>1.175829</td>\n",
              "    </tr>\n",
              "    <tr>\n",
              "      <th>6</th>\n",
              "      <td>-1.253881</td>\n",
              "      <td>-0.637752</td>\n",
              "      <td>0.907105</td>\n",
              "      <td>-1.428681</td>\n",
              "    </tr>\n",
              "    <tr>\n",
              "      <th>7</th>\n",
              "      <td>-0.140069</td>\n",
              "      <td>-0.861755</td>\n",
              "      <td>-0.255619</td>\n",
              "      <td>-2.798589</td>\n",
              "    </tr>\n",
              "    <tr>\n",
              "      <th>8</th>\n",
              "      <td>-1.771533</td>\n",
              "      <td>-0.699877</td>\n",
              "      <td>0.927462</td>\n",
              "      <td>-0.173636</td>\n",
              "    </tr>\n",
              "  </tbody>\n",
              "</table>\n",
              "</div>"
            ],
            "text/plain": [
              "         x1        x2        x3        x4\n",
              "0 -1.085631  0.997345  0.282978 -1.506295\n",
              "1 -0.578600  1.651437 -2.426679 -0.428913\n",
              "2  1.265936 -0.866740 -0.678886 -0.094709\n",
              "3  1.491390 -0.638902 -0.443982 -0.434351\n",
              "4  2.205930  2.186786  1.004054  0.386186\n",
              "5  0.737369  1.490732 -0.935834  1.175829\n",
              "6 -1.253881 -0.637752  0.907105 -1.428681\n",
              "7 -0.140069 -0.861755 -0.255619 -2.798589\n",
              "8 -1.771533 -0.699877  0.927462 -0.173636"
            ]
          },
          "metadata": {
            "tags": []
          },
          "execution_count": 69
        }
      ]
    },
    {
      "cell_type": "markdown",
      "metadata": {
        "id": "3lz051Rz050T",
        "colab_type": "text"
      },
      "source": [
        "To handle with time series data efficiently, we must learn how to use time indices. \n",
        "\n",
        "Assume that our data in the four columns correspind to a month-end data, beginning in Jan 2020. We can generate a DateTimeIndex object using date_range as follows:"
      ]
    },
    {
      "cell_type": "code",
      "metadata": {
        "id": "S87iy6u7yy6X",
        "colab_type": "code",
        "outputId": "3991d526-624c-4436-90ff-10aeaea1f24f",
        "colab": {
          "base_uri": "https://localhost:8080/",
          "height": 84
        }
      },
      "source": [
        "#periods = number of periods\n",
        "#freq = frequency, can be weekly, monthly, quaterly or yearly\n",
        "all_dates = pd.date_range('2020-1-1', periods=9, freq='M'); all_dates"
      ],
      "execution_count": 70,
      "outputs": [
        {
          "output_type": "execute_result",
          "data": {
            "text/plain": [
              "DatetimeIndex(['2020-01-31', '2020-02-29', '2020-03-31', '2020-04-30',\n",
              "               '2020-05-31', '2020-06-30', '2020-07-31', '2020-08-31',\n",
              "               '2020-09-30'],\n",
              "              dtype='datetime64[ns]', freq='M')"
            ]
          },
          "metadata": {
            "tags": []
          },
          "execution_count": 70
        }
      ]
    },
    {
      "cell_type": "markdown",
      "metadata": {
        "id": "pAGZWRi11vPU",
        "colab_type": "text"
      },
      "source": [
        "Previosly, we encountered indices composed of a string and int. For timeseries data, the indices we use is the DateTimeIndex object we generated earlier."
      ]
    },
    {
      "cell_type": "code",
      "metadata": {
        "id": "EsxlxIUb1ujw",
        "colab_type": "code",
        "outputId": "275bb269-86cf-45e7-c674-cd010c68ee4a",
        "colab": {
          "base_uri": "https://localhost:8080/",
          "height": 316
        }
      },
      "source": [
        "df.index = all_dates; df"
      ],
      "execution_count": 71,
      "outputs": [
        {
          "output_type": "execute_result",
          "data": {
            "text/html": [
              "<div>\n",
              "<style scoped>\n",
              "    .dataframe tbody tr th:only-of-type {\n",
              "        vertical-align: middle;\n",
              "    }\n",
              "\n",
              "    .dataframe tbody tr th {\n",
              "        vertical-align: top;\n",
              "    }\n",
              "\n",
              "    .dataframe thead tr th {\n",
              "        text-align: left;\n",
              "    }\n",
              "</style>\n",
              "<table border=\"1\" class=\"dataframe\">\n",
              "  <thead>\n",
              "    <tr>\n",
              "      <th></th>\n",
              "      <th>x1</th>\n",
              "      <th>x2</th>\n",
              "      <th>x3</th>\n",
              "      <th>x4</th>\n",
              "    </tr>\n",
              "  </thead>\n",
              "  <tbody>\n",
              "    <tr>\n",
              "      <th>2020-01-31</th>\n",
              "      <td>-1.085631</td>\n",
              "      <td>0.997345</td>\n",
              "      <td>0.282978</td>\n",
              "      <td>-1.506295</td>\n",
              "    </tr>\n",
              "    <tr>\n",
              "      <th>2020-02-29</th>\n",
              "      <td>-0.578600</td>\n",
              "      <td>1.651437</td>\n",
              "      <td>-2.426679</td>\n",
              "      <td>-0.428913</td>\n",
              "    </tr>\n",
              "    <tr>\n",
              "      <th>2020-03-31</th>\n",
              "      <td>1.265936</td>\n",
              "      <td>-0.866740</td>\n",
              "      <td>-0.678886</td>\n",
              "      <td>-0.094709</td>\n",
              "    </tr>\n",
              "    <tr>\n",
              "      <th>2020-04-30</th>\n",
              "      <td>1.491390</td>\n",
              "      <td>-0.638902</td>\n",
              "      <td>-0.443982</td>\n",
              "      <td>-0.434351</td>\n",
              "    </tr>\n",
              "    <tr>\n",
              "      <th>2020-05-31</th>\n",
              "      <td>2.205930</td>\n",
              "      <td>2.186786</td>\n",
              "      <td>1.004054</td>\n",
              "      <td>0.386186</td>\n",
              "    </tr>\n",
              "    <tr>\n",
              "      <th>2020-06-30</th>\n",
              "      <td>0.737369</td>\n",
              "      <td>1.490732</td>\n",
              "      <td>-0.935834</td>\n",
              "      <td>1.175829</td>\n",
              "    </tr>\n",
              "    <tr>\n",
              "      <th>2020-07-31</th>\n",
              "      <td>-1.253881</td>\n",
              "      <td>-0.637752</td>\n",
              "      <td>0.907105</td>\n",
              "      <td>-1.428681</td>\n",
              "    </tr>\n",
              "    <tr>\n",
              "      <th>2020-08-31</th>\n",
              "      <td>-0.140069</td>\n",
              "      <td>-0.861755</td>\n",
              "      <td>-0.255619</td>\n",
              "      <td>-2.798589</td>\n",
              "    </tr>\n",
              "    <tr>\n",
              "      <th>2020-09-30</th>\n",
              "      <td>-1.771533</td>\n",
              "      <td>-0.699877</td>\n",
              "      <td>0.927462</td>\n",
              "      <td>-0.173636</td>\n",
              "    </tr>\n",
              "  </tbody>\n",
              "</table>\n",
              "</div>"
            ],
            "text/plain": [
              "                  x1        x2        x3        x4\n",
              "2020-01-31 -1.085631  0.997345  0.282978 -1.506295\n",
              "2020-02-29 -0.578600  1.651437 -2.426679 -0.428913\n",
              "2020-03-31  1.265936 -0.866740 -0.678886 -0.094709\n",
              "2020-04-30  1.491390 -0.638902 -0.443982 -0.434351\n",
              "2020-05-31  2.205930  2.186786  1.004054  0.386186\n",
              "2020-06-30  0.737369  1.490732 -0.935834  1.175829\n",
              "2020-07-31 -1.253881 -0.637752  0.907105 -1.428681\n",
              "2020-08-31 -0.140069 -0.861755 -0.255619 -2.798589\n",
              "2020-09-30 -1.771533 -0.699877  0.927462 -0.173636"
            ]
          },
          "metadata": {
            "tags": []
          },
          "execution_count": 71
        }
      ]
    },
    {
      "cell_type": "markdown",
      "metadata": {
        "id": "UnE7kNmf9FIf",
        "colab_type": "text"
      },
      "source": [
        "With Datetime as the index we can select a range of data by a certain range."
      ]
    },
    {
      "cell_type": "code",
      "metadata": {
        "id": "RbVXaRHc9L4A",
        "colab_type": "code",
        "colab": {
          "base_uri": "https://localhost:8080/",
          "height": 763
        },
        "outputId": "e560bb06-037f-4d01-faa5-41f67fe412ba"
      },
      "source": [
        "gen_data = np.random.standard_normal((24,4))\n",
        "gen_data.round(6)\n",
        "\n",
        "dates = pd.date_range('2020-1-1', periods=24, freq='M')\n",
        "df_twoYears = pd.DataFrame(gen_data, index=dates, columns=['x1', 'x2', 'x3', 'x4']); df_twoYears"
      ],
      "execution_count": 156,
      "outputs": [
        {
          "output_type": "execute_result",
          "data": {
            "text/html": [
              "<div>\n",
              "<style scoped>\n",
              "    .dataframe tbody tr th:only-of-type {\n",
              "        vertical-align: middle;\n",
              "    }\n",
              "\n",
              "    .dataframe tbody tr th {\n",
              "        vertical-align: top;\n",
              "    }\n",
              "\n",
              "    .dataframe thead th {\n",
              "        text-align: right;\n",
              "    }\n",
              "</style>\n",
              "<table border=\"1\" class=\"dataframe\">\n",
              "  <thead>\n",
              "    <tr style=\"text-align: right;\">\n",
              "      <th></th>\n",
              "      <th>x1</th>\n",
              "      <th>x2</th>\n",
              "      <th>x3</th>\n",
              "      <th>x4</th>\n",
              "    </tr>\n",
              "  </thead>\n",
              "  <tbody>\n",
              "    <tr>\n",
              "      <th>2020-01-31</th>\n",
              "      <td>-0.602340</td>\n",
              "      <td>-0.379730</td>\n",
              "      <td>0.032407</td>\n",
              "      <td>0.946186</td>\n",
              "    </tr>\n",
              "    <tr>\n",
              "      <th>2020-02-29</th>\n",
              "      <td>0.581590</td>\n",
              "      <td>-0.234415</td>\n",
              "      <td>-0.272176</td>\n",
              "      <td>-1.160130</td>\n",
              "    </tr>\n",
              "    <tr>\n",
              "      <th>2020-03-31</th>\n",
              "      <td>-0.759835</td>\n",
              "      <td>-0.654381</td>\n",
              "      <td>-0.149291</td>\n",
              "      <td>1.986763</td>\n",
              "    </tr>\n",
              "    <tr>\n",
              "      <th>2020-04-30</th>\n",
              "      <td>-0.675469</td>\n",
              "      <td>-0.295829</td>\n",
              "      <td>-2.052398</td>\n",
              "      <td>0.600571</td>\n",
              "    </tr>\n",
              "    <tr>\n",
              "      <th>2020-05-31</th>\n",
              "      <td>-1.577449</td>\n",
              "      <td>-0.906590</td>\n",
              "      <td>1.042335</td>\n",
              "      <td>-2.104928</td>\n",
              "    </tr>\n",
              "    <tr>\n",
              "      <th>2020-06-30</th>\n",
              "      <td>0.095920</td>\n",
              "      <td>0.800930</td>\n",
              "      <td>1.525444</td>\n",
              "      <td>-0.920093</td>\n",
              "    </tr>\n",
              "    <tr>\n",
              "      <th>2020-07-31</th>\n",
              "      <td>-0.624025</td>\n",
              "      <td>1.804436</td>\n",
              "      <td>-0.025060</td>\n",
              "      <td>-0.736264</td>\n",
              "    </tr>\n",
              "    <tr>\n",
              "      <th>2020-08-31</th>\n",
              "      <td>-0.717486</td>\n",
              "      <td>-0.972556</td>\n",
              "      <td>-0.439672</td>\n",
              "      <td>1.088220</td>\n",
              "    </tr>\n",
              "    <tr>\n",
              "      <th>2020-09-30</th>\n",
              "      <td>0.887766</td>\n",
              "      <td>-1.174270</td>\n",
              "      <td>0.214586</td>\n",
              "      <td>-0.402160</td>\n",
              "    </tr>\n",
              "    <tr>\n",
              "      <th>2020-10-31</th>\n",
              "      <td>0.782440</td>\n",
              "      <td>-0.156360</td>\n",
              "      <td>0.371525</td>\n",
              "      <td>-0.158605</td>\n",
              "    </tr>\n",
              "    <tr>\n",
              "      <th>2020-11-30</th>\n",
              "      <td>-2.187086</td>\n",
              "      <td>0.047002</td>\n",
              "      <td>-1.271747</td>\n",
              "      <td>0.747128</td>\n",
              "    </tr>\n",
              "    <tr>\n",
              "      <th>2020-12-31</th>\n",
              "      <td>-0.679828</td>\n",
              "      <td>-0.605013</td>\n",
              "      <td>-0.008903</td>\n",
              "      <td>0.577794</td>\n",
              "    </tr>\n",
              "    <tr>\n",
              "      <th>2021-01-31</th>\n",
              "      <td>-0.169744</td>\n",
              "      <td>1.642183</td>\n",
              "      <td>1.648818</td>\n",
              "      <td>1.715469</td>\n",
              "    </tr>\n",
              "    <tr>\n",
              "      <th>2021-02-28</th>\n",
              "      <td>-0.234319</td>\n",
              "      <td>-1.481958</td>\n",
              "      <td>1.220079</td>\n",
              "      <td>-0.416345</td>\n",
              "    </tr>\n",
              "    <tr>\n",
              "      <th>2021-03-31</th>\n",
              "      <td>0.038166</td>\n",
              "      <td>0.628320</td>\n",
              "      <td>-1.604436</td>\n",
              "      <td>1.629121</td>\n",
              "    </tr>\n",
              "    <tr>\n",
              "      <th>2021-04-30</th>\n",
              "      <td>0.874962</td>\n",
              "      <td>0.352272</td>\n",
              "      <td>0.890917</td>\n",
              "      <td>0.556953</td>\n",
              "    </tr>\n",
              "    <tr>\n",
              "      <th>2021-05-31</th>\n",
              "      <td>0.116828</td>\n",
              "      <td>-0.307774</td>\n",
              "      <td>-0.739142</td>\n",
              "      <td>0.287214</td>\n",
              "    </tr>\n",
              "    <tr>\n",
              "      <th>2021-06-30</th>\n",
              "      <td>0.361203</td>\n",
              "      <td>1.083199</td>\n",
              "      <td>0.200660</td>\n",
              "      <td>-0.853202</td>\n",
              "    </tr>\n",
              "    <tr>\n",
              "      <th>2021-07-31</th>\n",
              "      <td>-1.576233</td>\n",
              "      <td>-0.127562</td>\n",
              "      <td>-0.027458</td>\n",
              "      <td>-0.098092</td>\n",
              "    </tr>\n",
              "    <tr>\n",
              "      <th>2021-08-31</th>\n",
              "      <td>-1.530513</td>\n",
              "      <td>1.074465</td>\n",
              "      <td>1.072630</td>\n",
              "      <td>-0.823285</td>\n",
              "    </tr>\n",
              "    <tr>\n",
              "      <th>2021-09-30</th>\n",
              "      <td>0.805982</td>\n",
              "      <td>0.952831</td>\n",
              "      <td>0.038447</td>\n",
              "      <td>-0.948499</td>\n",
              "    </tr>\n",
              "    <tr>\n",
              "      <th>2021-10-31</th>\n",
              "      <td>1.613382</td>\n",
              "      <td>0.380921</td>\n",
              "      <td>-0.251037</td>\n",
              "      <td>0.772845</td>\n",
              "    </tr>\n",
              "    <tr>\n",
              "      <th>2021-11-30</th>\n",
              "      <td>1.622208</td>\n",
              "      <td>-0.497160</td>\n",
              "      <td>0.691423</td>\n",
              "      <td>1.943160</td>\n",
              "    </tr>\n",
              "    <tr>\n",
              "      <th>2021-12-31</th>\n",
              "      <td>-1.116565</td>\n",
              "      <td>-0.549254</td>\n",
              "      <td>-0.597855</td>\n",
              "      <td>-0.158327</td>\n",
              "    </tr>\n",
              "  </tbody>\n",
              "</table>\n",
              "</div>"
            ],
            "text/plain": [
              "                  x1        x2        x3        x4\n",
              "2020-01-31 -0.602340 -0.379730  0.032407  0.946186\n",
              "2020-02-29  0.581590 -0.234415 -0.272176 -1.160130\n",
              "2020-03-31 -0.759835 -0.654381 -0.149291  1.986763\n",
              "2020-04-30 -0.675469 -0.295829 -2.052398  0.600571\n",
              "2020-05-31 -1.577449 -0.906590  1.042335 -2.104928\n",
              "2020-06-30  0.095920  0.800930  1.525444 -0.920093\n",
              "2020-07-31 -0.624025  1.804436 -0.025060 -0.736264\n",
              "2020-08-31 -0.717486 -0.972556 -0.439672  1.088220\n",
              "2020-09-30  0.887766 -1.174270  0.214586 -0.402160\n",
              "2020-10-31  0.782440 -0.156360  0.371525 -0.158605\n",
              "2020-11-30 -2.187086  0.047002 -1.271747  0.747128\n",
              "2020-12-31 -0.679828 -0.605013 -0.008903  0.577794\n",
              "2021-01-31 -0.169744  1.642183  1.648818  1.715469\n",
              "2021-02-28 -0.234319 -1.481958  1.220079 -0.416345\n",
              "2021-03-31  0.038166  0.628320 -1.604436  1.629121\n",
              "2021-04-30  0.874962  0.352272  0.890917  0.556953\n",
              "2021-05-31  0.116828 -0.307774 -0.739142  0.287214\n",
              "2021-06-30  0.361203  1.083199  0.200660 -0.853202\n",
              "2021-07-31 -1.576233 -0.127562 -0.027458 -0.098092\n",
              "2021-08-31 -1.530513  1.074465  1.072630 -0.823285\n",
              "2021-09-30  0.805982  0.952831  0.038447 -0.948499\n",
              "2021-10-31  1.613382  0.380921 -0.251037  0.772845\n",
              "2021-11-30  1.622208 -0.497160  0.691423  1.943160\n",
              "2021-12-31 -1.116565 -0.549254 -0.597855 -0.158327"
            ]
          },
          "metadata": {
            "tags": []
          },
          "execution_count": 156
        }
      ]
    },
    {
      "cell_type": "code",
      "metadata": {
        "id": "n74b-lGu-GeF",
        "colab_type": "code",
        "colab": {
          "base_uri": "https://localhost:8080/",
          "height": 405
        },
        "outputId": "d0eb99a0-7632-4dfc-f750-95d43c688f57"
      },
      "source": [
        "#select data from year 2020\n",
        "df_twoYears['2020']"
      ],
      "execution_count": 153,
      "outputs": [
        {
          "output_type": "execute_result",
          "data": {
            "text/html": [
              "<div>\n",
              "<style scoped>\n",
              "    .dataframe tbody tr th:only-of-type {\n",
              "        vertical-align: middle;\n",
              "    }\n",
              "\n",
              "    .dataframe tbody tr th {\n",
              "        vertical-align: top;\n",
              "    }\n",
              "\n",
              "    .dataframe thead th {\n",
              "        text-align: right;\n",
              "    }\n",
              "</style>\n",
              "<table border=\"1\" class=\"dataframe\">\n",
              "  <thead>\n",
              "    <tr style=\"text-align: right;\">\n",
              "      <th></th>\n",
              "      <th>x1</th>\n",
              "      <th>x2</th>\n",
              "      <th>x3</th>\n",
              "      <th>x4</th>\n",
              "    </tr>\n",
              "  </thead>\n",
              "  <tbody>\n",
              "    <tr>\n",
              "      <th>2020-01-31</th>\n",
              "      <td>-0.145364</td>\n",
              "      <td>1.868726</td>\n",
              "      <td>-0.518704</td>\n",
              "      <td>-0.062399</td>\n",
              "    </tr>\n",
              "    <tr>\n",
              "      <th>2020-02-29</th>\n",
              "      <td>-0.102911</td>\n",
              "      <td>-0.282628</td>\n",
              "      <td>0.142426</td>\n",
              "      <td>0.541231</td>\n",
              "    </tr>\n",
              "    <tr>\n",
              "      <th>2020-03-31</th>\n",
              "      <td>1.340099</td>\n",
              "      <td>-1.569256</td>\n",
              "      <td>-0.510343</td>\n",
              "      <td>-0.447771</td>\n",
              "    </tr>\n",
              "    <tr>\n",
              "      <th>2020-04-30</th>\n",
              "      <td>0.937850</td>\n",
              "      <td>-0.356663</td>\n",
              "      <td>-1.895176</td>\n",
              "      <td>0.087730</td>\n",
              "    </tr>\n",
              "    <tr>\n",
              "      <th>2020-05-31</th>\n",
              "      <td>-0.033689</td>\n",
              "      <td>0.179752</td>\n",
              "      <td>-1.040163</td>\n",
              "      <td>1.719035</td>\n",
              "    </tr>\n",
              "    <tr>\n",
              "      <th>2020-06-30</th>\n",
              "      <td>-0.323860</td>\n",
              "      <td>-0.188297</td>\n",
              "      <td>-0.900009</td>\n",
              "      <td>-0.931002</td>\n",
              "    </tr>\n",
              "    <tr>\n",
              "      <th>2020-07-31</th>\n",
              "      <td>-1.222737</td>\n",
              "      <td>-0.393311</td>\n",
              "      <td>-0.957582</td>\n",
              "      <td>2.056467</td>\n",
              "    </tr>\n",
              "    <tr>\n",
              "      <th>2020-08-31</th>\n",
              "      <td>-1.888492</td>\n",
              "      <td>-1.128331</td>\n",
              "      <td>-0.401414</td>\n",
              "      <td>0.673491</td>\n",
              "    </tr>\n",
              "    <tr>\n",
              "      <th>2020-09-30</th>\n",
              "      <td>-0.413757</td>\n",
              "      <td>0.675963</td>\n",
              "      <td>-0.986804</td>\n",
              "      <td>0.059291</td>\n",
              "    </tr>\n",
              "    <tr>\n",
              "      <th>2020-10-31</th>\n",
              "      <td>1.744041</td>\n",
              "      <td>-0.967744</td>\n",
              "      <td>0.419568</td>\n",
              "      <td>0.206928</td>\n",
              "    </tr>\n",
              "    <tr>\n",
              "      <th>2020-11-30</th>\n",
              "      <td>-2.251535</td>\n",
              "      <td>-0.588971</td>\n",
              "      <td>1.131152</td>\n",
              "      <td>0.135078</td>\n",
              "    </tr>\n",
              "    <tr>\n",
              "      <th>2020-12-31</th>\n",
              "      <td>-1.212269</td>\n",
              "      <td>0.690777</td>\n",
              "      <td>-0.479123</td>\n",
              "      <td>0.360051</td>\n",
              "    </tr>\n",
              "  </tbody>\n",
              "</table>\n",
              "</div>"
            ],
            "text/plain": [
              "                  x1        x2        x3        x4\n",
              "2020-01-31 -0.145364  1.868726 -0.518704 -0.062399\n",
              "2020-02-29 -0.102911 -0.282628  0.142426  0.541231\n",
              "2020-03-31  1.340099 -1.569256 -0.510343 -0.447771\n",
              "2020-04-30  0.937850 -0.356663 -1.895176  0.087730\n",
              "2020-05-31 -0.033689  0.179752 -1.040163  1.719035\n",
              "2020-06-30 -0.323860 -0.188297 -0.900009 -0.931002\n",
              "2020-07-31 -1.222737 -0.393311 -0.957582  2.056467\n",
              "2020-08-31 -1.888492 -1.128331 -0.401414  0.673491\n",
              "2020-09-30 -0.413757  0.675963 -0.986804  0.059291\n",
              "2020-10-31  1.744041 -0.967744  0.419568  0.206928\n",
              "2020-11-30 -2.251535 -0.588971  1.131152  0.135078\n",
              "2020-12-31 -1.212269  0.690777 -0.479123  0.360051"
            ]
          },
          "metadata": {
            "tags": []
          },
          "execution_count": 153
        }
      ]
    },
    {
      "cell_type": "markdown",
      "metadata": {
        "id": "OzIRLa045cLF",
        "colab_type": "text"
      },
      "source": [
        "## Basic Analytics"
      ]
    },
    {
      "cell_type": "markdown",
      "metadata": {
        "id": "JATA8a2S5yPs",
        "colab_type": "text"
      },
      "source": [
        "Just like NumPy arrays, we can apply perform multiple operations on the array via DataFrame. We can get column-wise sums, means and cumulative means as follows:"
      ]
    },
    {
      "cell_type": "code",
      "metadata": {
        "id": "-OqUchYf1oG3",
        "colab_type": "code",
        "outputId": "ea5d4a7b-1491-45ed-b066-8e4a5ba39176",
        "colab": {
          "base_uri": "https://localhost:8080/",
          "height": 100
        }
      },
      "source": [
        "df.sum()"
      ],
      "execution_count": 72,
      "outputs": [
        {
          "output_type": "execute_result",
          "data": {
            "text/plain": [
              "x1    0.870911\n",
              "x2    2.621274\n",
              "x3   -1.619401\n",
              "x4   -5.303158\n",
              "dtype: float64"
            ]
          },
          "metadata": {
            "tags": []
          },
          "execution_count": 72
        }
      ]
    },
    {
      "cell_type": "code",
      "metadata": {
        "id": "BQ1xQnS16Eda",
        "colab_type": "code",
        "outputId": "c9bea544-1210-4645-9ec3-d0fe48cb3b81",
        "colab": {
          "base_uri": "https://localhost:8080/",
          "height": 100
        }
      },
      "source": [
        "df.mean()"
      ],
      "execution_count": 73,
      "outputs": [
        {
          "output_type": "execute_result",
          "data": {
            "text/plain": [
              "x1    0.096768\n",
              "x2    0.291253\n",
              "x3   -0.179933\n",
              "x4   -0.589240\n",
              "dtype: float64"
            ]
          },
          "metadata": {
            "tags": []
          },
          "execution_count": 73
        }
      ]
    },
    {
      "cell_type": "code",
      "metadata": {
        "id": "t2BDfuMy6GXO",
        "colab_type": "code",
        "outputId": "1cf253e7-22de-4014-e58a-c4fdf8290957",
        "colab": {
          "base_uri": "https://localhost:8080/",
          "height": 316
        }
      },
      "source": [
        "df.cumsum()"
      ],
      "execution_count": 74,
      "outputs": [
        {
          "output_type": "execute_result",
          "data": {
            "text/html": [
              "<div>\n",
              "<style scoped>\n",
              "    .dataframe tbody tr th:only-of-type {\n",
              "        vertical-align: middle;\n",
              "    }\n",
              "\n",
              "    .dataframe tbody tr th {\n",
              "        vertical-align: top;\n",
              "    }\n",
              "\n",
              "    .dataframe thead tr th {\n",
              "        text-align: left;\n",
              "    }\n",
              "</style>\n",
              "<table border=\"1\" class=\"dataframe\">\n",
              "  <thead>\n",
              "    <tr>\n",
              "      <th></th>\n",
              "      <th>x1</th>\n",
              "      <th>x2</th>\n",
              "      <th>x3</th>\n",
              "      <th>x4</th>\n",
              "    </tr>\n",
              "  </thead>\n",
              "  <tbody>\n",
              "    <tr>\n",
              "      <th>2020-01-31</th>\n",
              "      <td>-1.085631</td>\n",
              "      <td>0.997345</td>\n",
              "      <td>0.282978</td>\n",
              "      <td>-1.506295</td>\n",
              "    </tr>\n",
              "    <tr>\n",
              "      <th>2020-02-29</th>\n",
              "      <td>-1.664231</td>\n",
              "      <td>2.648782</td>\n",
              "      <td>-2.143701</td>\n",
              "      <td>-1.935207</td>\n",
              "    </tr>\n",
              "    <tr>\n",
              "      <th>2020-03-31</th>\n",
              "      <td>-0.398295</td>\n",
              "      <td>1.782042</td>\n",
              "      <td>-2.822587</td>\n",
              "      <td>-2.029916</td>\n",
              "    </tr>\n",
              "    <tr>\n",
              "      <th>2020-04-30</th>\n",
              "      <td>1.093095</td>\n",
              "      <td>1.143140</td>\n",
              "      <td>-3.266569</td>\n",
              "      <td>-2.464268</td>\n",
              "    </tr>\n",
              "    <tr>\n",
              "      <th>2020-05-31</th>\n",
              "      <td>3.299025</td>\n",
              "      <td>3.329926</td>\n",
              "      <td>-2.262515</td>\n",
              "      <td>-2.078081</td>\n",
              "    </tr>\n",
              "    <tr>\n",
              "      <th>2020-06-30</th>\n",
              "      <td>4.036394</td>\n",
              "      <td>4.820658</td>\n",
              "      <td>-3.198349</td>\n",
              "      <td>-0.902252</td>\n",
              "    </tr>\n",
              "    <tr>\n",
              "      <th>2020-07-31</th>\n",
              "      <td>2.782513</td>\n",
              "      <td>4.182906</td>\n",
              "      <td>-2.291244</td>\n",
              "      <td>-2.330933</td>\n",
              "    </tr>\n",
              "    <tr>\n",
              "      <th>2020-08-31</th>\n",
              "      <td>2.642444</td>\n",
              "      <td>3.321151</td>\n",
              "      <td>-2.546863</td>\n",
              "      <td>-5.129522</td>\n",
              "    </tr>\n",
              "    <tr>\n",
              "      <th>2020-09-30</th>\n",
              "      <td>0.870911</td>\n",
              "      <td>2.621274</td>\n",
              "      <td>-1.619401</td>\n",
              "      <td>-5.303158</td>\n",
              "    </tr>\n",
              "  </tbody>\n",
              "</table>\n",
              "</div>"
            ],
            "text/plain": [
              "                  x1        x2        x3        x4\n",
              "2020-01-31 -1.085631  0.997345  0.282978 -1.506295\n",
              "2020-02-29 -1.664231  2.648782 -2.143701 -1.935207\n",
              "2020-03-31 -0.398295  1.782042 -2.822587 -2.029916\n",
              "2020-04-30  1.093095  1.143140 -3.266569 -2.464268\n",
              "2020-05-31  3.299025  3.329926 -2.262515 -2.078081\n",
              "2020-06-30  4.036394  4.820658 -3.198349 -0.902252\n",
              "2020-07-31  2.782513  4.182906 -2.291244 -2.330933\n",
              "2020-08-31  2.642444  3.321151 -2.546863 -5.129522\n",
              "2020-09-30  0.870911  2.621274 -1.619401 -5.303158"
            ]
          },
          "metadata": {
            "tags": []
          },
          "execution_count": 74
        }
      ]
    },
    {
      "cell_type": "markdown",
      "metadata": {
        "id": "52qzDtZ16Nlb",
        "colab_type": "text"
      },
      "source": [
        "There's a shortcut to an often-used statistics for numerical datasets, the describe method:"
      ]
    },
    {
      "cell_type": "code",
      "metadata": {
        "id": "jZnJjl1j6H3p",
        "colab_type": "code",
        "outputId": "54482185-9cfa-4167-851c-c403ba656461",
        "colab": {
          "base_uri": "https://localhost:8080/",
          "height": 286
        }
      },
      "source": [
        "df.describe()"
      ],
      "execution_count": 75,
      "outputs": [
        {
          "output_type": "execute_result",
          "data": {
            "text/html": [
              "<div>\n",
              "<style scoped>\n",
              "    .dataframe tbody tr th:only-of-type {\n",
              "        vertical-align: middle;\n",
              "    }\n",
              "\n",
              "    .dataframe tbody tr th {\n",
              "        vertical-align: top;\n",
              "    }\n",
              "\n",
              "    .dataframe thead tr th {\n",
              "        text-align: left;\n",
              "    }\n",
              "</style>\n",
              "<table border=\"1\" class=\"dataframe\">\n",
              "  <thead>\n",
              "    <tr>\n",
              "      <th></th>\n",
              "      <th>x1</th>\n",
              "      <th>x2</th>\n",
              "      <th>x3</th>\n",
              "      <th>x4</th>\n",
              "    </tr>\n",
              "  </thead>\n",
              "  <tbody>\n",
              "    <tr>\n",
              "      <th>count</th>\n",
              "      <td>9.000000</td>\n",
              "      <td>9.000000</td>\n",
              "      <td>9.000000</td>\n",
              "      <td>9.000000</td>\n",
              "    </tr>\n",
              "    <tr>\n",
              "      <th>mean</th>\n",
              "      <td>0.096768</td>\n",
              "      <td>0.291253</td>\n",
              "      <td>-0.179933</td>\n",
              "      <td>-0.589240</td>\n",
              "    </tr>\n",
              "    <tr>\n",
              "      <th>std</th>\n",
              "      <td>1.387261</td>\n",
              "      <td>1.263003</td>\n",
              "      <td>1.116230</td>\n",
              "      <td>1.170512</td>\n",
              "    </tr>\n",
              "    <tr>\n",
              "      <th>min</th>\n",
              "      <td>-1.771533</td>\n",
              "      <td>-0.866740</td>\n",
              "      <td>-2.426679</td>\n",
              "      <td>-2.798589</td>\n",
              "    </tr>\n",
              "    <tr>\n",
              "      <th>25%</th>\n",
              "      <td>-1.085631</td>\n",
              "      <td>-0.699877</td>\n",
              "      <td>-0.678886</td>\n",
              "      <td>-1.428681</td>\n",
              "    </tr>\n",
              "    <tr>\n",
              "      <th>50%</th>\n",
              "      <td>-0.140069</td>\n",
              "      <td>-0.637752</td>\n",
              "      <td>-0.255619</td>\n",
              "      <td>-0.428913</td>\n",
              "    </tr>\n",
              "    <tr>\n",
              "      <th>75%</th>\n",
              "      <td>1.265936</td>\n",
              "      <td>1.490732</td>\n",
              "      <td>0.907105</td>\n",
              "      <td>-0.094709</td>\n",
              "    </tr>\n",
              "    <tr>\n",
              "      <th>max</th>\n",
              "      <td>2.205930</td>\n",
              "      <td>2.186786</td>\n",
              "      <td>1.004054</td>\n",
              "      <td>1.175829</td>\n",
              "    </tr>\n",
              "  </tbody>\n",
              "</table>\n",
              "</div>"
            ],
            "text/plain": [
              "             x1        x2        x3        x4\n",
              "count  9.000000  9.000000  9.000000  9.000000\n",
              "mean   0.096768  0.291253 -0.179933 -0.589240\n",
              "std    1.387261  1.263003  1.116230  1.170512\n",
              "min   -1.771533 -0.866740 -2.426679 -2.798589\n",
              "25%   -1.085631 -0.699877 -0.678886 -1.428681\n",
              "50%   -0.140069 -0.637752 -0.255619 -0.428913\n",
              "75%    1.265936  1.490732  0.907105 -0.094709\n",
              "max    2.205930  2.186786  1.004054  1.175829"
            ]
          },
          "metadata": {
            "tags": []
          },
          "execution_count": 75
        }
      ]
    },
    {
      "cell_type": "markdown",
      "metadata": {
        "id": "TWNRGMeH6ZWI",
        "colab_type": "text"
      },
      "source": [
        "In general, we can apply Numpy universal functions to pandas DataFrame objects.\n",
        "\n",
        "For example:"
      ]
    },
    {
      "cell_type": "code",
      "metadata": {
        "id": "mx00joVh7XkW",
        "colab_type": "code",
        "outputId": "0586e502-3871-40db-b877-af4c83a7e7da",
        "colab": {
          "base_uri": "https://localhost:8080/",
          "height": 349
        }
      },
      "source": [
        "np.sqrt(df)"
      ],
      "execution_count": 76,
      "outputs": [
        {
          "output_type": "stream",
          "text": [
            "/usr/local/lib/python3.6/dist-packages/ipykernel_launcher.py:1: RuntimeWarning: invalid value encountered in sqrt\n",
            "  \"\"\"Entry point for launching an IPython kernel.\n"
          ],
          "name": "stderr"
        },
        {
          "output_type": "execute_result",
          "data": {
            "text/html": [
              "<div>\n",
              "<style scoped>\n",
              "    .dataframe tbody tr th:only-of-type {\n",
              "        vertical-align: middle;\n",
              "    }\n",
              "\n",
              "    .dataframe tbody tr th {\n",
              "        vertical-align: top;\n",
              "    }\n",
              "\n",
              "    .dataframe thead tr th {\n",
              "        text-align: left;\n",
              "    }\n",
              "</style>\n",
              "<table border=\"1\" class=\"dataframe\">\n",
              "  <thead>\n",
              "    <tr>\n",
              "      <th></th>\n",
              "      <th>x1</th>\n",
              "      <th>x2</th>\n",
              "      <th>x3</th>\n",
              "      <th>x4</th>\n",
              "    </tr>\n",
              "  </thead>\n",
              "  <tbody>\n",
              "    <tr>\n",
              "      <th>2020-01-31</th>\n",
              "      <td>NaN</td>\n",
              "      <td>0.998672</td>\n",
              "      <td>0.531957</td>\n",
              "      <td>NaN</td>\n",
              "    </tr>\n",
              "    <tr>\n",
              "      <th>2020-02-29</th>\n",
              "      <td>NaN</td>\n",
              "      <td>1.285082</td>\n",
              "      <td>NaN</td>\n",
              "      <td>NaN</td>\n",
              "    </tr>\n",
              "    <tr>\n",
              "      <th>2020-03-31</th>\n",
              "      <td>1.125138</td>\n",
              "      <td>NaN</td>\n",
              "      <td>NaN</td>\n",
              "      <td>NaN</td>\n",
              "    </tr>\n",
              "    <tr>\n",
              "      <th>2020-04-30</th>\n",
              "      <td>1.221225</td>\n",
              "      <td>NaN</td>\n",
              "      <td>NaN</td>\n",
              "      <td>NaN</td>\n",
              "    </tr>\n",
              "    <tr>\n",
              "      <th>2020-05-31</th>\n",
              "      <td>1.485237</td>\n",
              "      <td>1.478779</td>\n",
              "      <td>1.002025</td>\n",
              "      <td>0.621439</td>\n",
              "    </tr>\n",
              "    <tr>\n",
              "      <th>2020-06-30</th>\n",
              "      <td>0.858702</td>\n",
              "      <td>1.220955</td>\n",
              "      <td>NaN</td>\n",
              "      <td>1.084357</td>\n",
              "    </tr>\n",
              "    <tr>\n",
              "      <th>2020-07-31</th>\n",
              "      <td>NaN</td>\n",
              "      <td>NaN</td>\n",
              "      <td>0.952421</td>\n",
              "      <td>NaN</td>\n",
              "    </tr>\n",
              "    <tr>\n",
              "      <th>2020-08-31</th>\n",
              "      <td>NaN</td>\n",
              "      <td>NaN</td>\n",
              "      <td>NaN</td>\n",
              "      <td>NaN</td>\n",
              "    </tr>\n",
              "    <tr>\n",
              "      <th>2020-09-30</th>\n",
              "      <td>NaN</td>\n",
              "      <td>NaN</td>\n",
              "      <td>0.963049</td>\n",
              "      <td>NaN</td>\n",
              "    </tr>\n",
              "  </tbody>\n",
              "</table>\n",
              "</div>"
            ],
            "text/plain": [
              "                  x1        x2        x3        x4\n",
              "2020-01-31       NaN  0.998672  0.531957       NaN\n",
              "2020-02-29       NaN  1.285082       NaN       NaN\n",
              "2020-03-31  1.125138       NaN       NaN       NaN\n",
              "2020-04-30  1.221225       NaN       NaN       NaN\n",
              "2020-05-31  1.485237  1.478779  1.002025  0.621439\n",
              "2020-06-30  0.858702  1.220955       NaN  1.084357\n",
              "2020-07-31       NaN       NaN  0.952421       NaN\n",
              "2020-08-31       NaN       NaN       NaN       NaN\n",
              "2020-09-30       NaN       NaN  0.963049       NaN"
            ]
          },
          "metadata": {
            "tags": []
          },
          "execution_count": 76
        }
      ]
    },
    {
      "cell_type": "markdown",
      "metadata": {
        "id": "SHIoDQ_t8gjO",
        "colab_type": "text"
      },
      "source": [
        "We can plot out the graph easily by using the plot method.\n",
        "\n",
        "Pandas provide a wrapper around matplotlib (a library that allows us to plot graph), but specifically designed for DataFrame object."
      ]
    },
    {
      "cell_type": "code",
      "metadata": {
        "id": "mlyGAcST7Y42",
        "colab_type": "code",
        "outputId": "802bc1ef-f442-4378-ab1d-0690a6bf3530",
        "colab": {
          "base_uri": "https://localhost:8080/",
          "height": 294
        }
      },
      "source": [
        "df.cumsum().plot(lw=2.0)"
      ],
      "execution_count": 77,
      "outputs": [
        {
          "output_type": "execute_result",
          "data": {
            "text/plain": [
              "<matplotlib.axes._subplots.AxesSubplot at 0x7fe69decf0b8>"
            ]
          },
          "metadata": {
            "tags": []
          },
          "execution_count": 77
        },
        {
          "output_type": "display_data",
          "data": {
            "image/png": "[encoded data removed]",
            "text/plain": [
              "<Figure size 432x288 with 1 Axes>"
            ]
          },
          "metadata": {
            "tags": [],
            "needs_background": "light"
          }
        }
      ]
    },
    {
      "cell_type": "markdown",
      "metadata": {
        "id": "8GUB8q91TlVB",
        "colab_type": "text"
      },
      "source": [
        "## Series Class\n",
        "\n",
        "So far, we have been dealing with DataFrame class: "
      ]
    },
    {
      "cell_type": "code",
      "metadata": {
        "id": "DRUSi_HUTvOU",
        "colab_type": "code",
        "colab": {
          "base_uri": "https://localhost:8080/",
          "height": 33
        },
        "outputId": "6bde6a55-1a4d-466f-c803-e4ca1f57faf6"
      },
      "source": [
        "type(df)"
      ],
      "execution_count": 78,
      "outputs": [
        {
          "output_type": "execute_result",
          "data": {
            "text/plain": [
              "pandas.core.frame.DataFrame"
            ]
          },
          "metadata": {
            "tags": []
          },
          "execution_count": 78
        }
      ]
    },
    {
      "cell_type": "markdown",
      "metadata": {
        "id": "asC4dxl_T78-",
        "colab_type": "text"
      },
      "source": [
        "There's also a class call Series class. We can get this class when selecting only a single column form the DataFrame object."
      ]
    },
    {
      "cell_type": "code",
      "metadata": {
        "id": "hrNXoV6_Tn05",
        "colab_type": "code",
        "colab": {
          "base_uri": "https://localhost:8080/",
          "height": 316
        },
        "outputId": "9254cc28-5c0e-41c9-b742-db8fbf5d8643"
      },
      "source": [
        "df[['x1']]"
      ],
      "execution_count": 79,
      "outputs": [
        {
          "output_type": "execute_result",
          "data": {
            "text/html": [
              "<div>\n",
              "<style scoped>\n",
              "    .dataframe tbody tr th:only-of-type {\n",
              "        vertical-align: middle;\n",
              "    }\n",
              "\n",
              "    .dataframe tbody tr th {\n",
              "        vertical-align: top;\n",
              "    }\n",
              "\n",
              "    .dataframe thead tr th {\n",
              "        text-align: left;\n",
              "    }\n",
              "</style>\n",
              "<table border=\"1\" class=\"dataframe\">\n",
              "  <thead>\n",
              "    <tr>\n",
              "      <th></th>\n",
              "      <th>x1</th>\n",
              "    </tr>\n",
              "  </thead>\n",
              "  <tbody>\n",
              "    <tr>\n",
              "      <th>2020-01-31</th>\n",
              "      <td>-1.085631</td>\n",
              "    </tr>\n",
              "    <tr>\n",
              "      <th>2020-02-29</th>\n",
              "      <td>-0.578600</td>\n",
              "    </tr>\n",
              "    <tr>\n",
              "      <th>2020-03-31</th>\n",
              "      <td>1.265936</td>\n",
              "    </tr>\n",
              "    <tr>\n",
              "      <th>2020-04-30</th>\n",
              "      <td>1.491390</td>\n",
              "    </tr>\n",
              "    <tr>\n",
              "      <th>2020-05-31</th>\n",
              "      <td>2.205930</td>\n",
              "    </tr>\n",
              "    <tr>\n",
              "      <th>2020-06-30</th>\n",
              "      <td>0.737369</td>\n",
              "    </tr>\n",
              "    <tr>\n",
              "      <th>2020-07-31</th>\n",
              "      <td>-1.253881</td>\n",
              "    </tr>\n",
              "    <tr>\n",
              "      <th>2020-08-31</th>\n",
              "      <td>-0.140069</td>\n",
              "    </tr>\n",
              "    <tr>\n",
              "      <th>2020-09-30</th>\n",
              "      <td>-1.771533</td>\n",
              "    </tr>\n",
              "  </tbody>\n",
              "</table>\n",
              "</div>"
            ],
            "text/plain": [
              "                  x1\n",
              "2020-01-31 -1.085631\n",
              "2020-02-29 -0.578600\n",
              "2020-03-31  1.265936\n",
              "2020-04-30  1.491390\n",
              "2020-05-31  2.205930\n",
              "2020-06-30  0.737369\n",
              "2020-07-31 -1.253881\n",
              "2020-08-31 -0.140069\n",
              "2020-09-30 -1.771533"
            ]
          },
          "metadata": {
            "tags": []
          },
          "execution_count": 79
        }
      ]
    },
    {
      "cell_type": "code",
      "metadata": {
        "id": "c-xY1nMIV7Sr",
        "colab_type": "code",
        "colab": {
          "base_uri": "https://localhost:8080/",
          "height": 33
        },
        "outputId": "49a03f8c-9448-44a0-c4ba-e303d0c03321"
      },
      "source": [
        "type(df[['x1']])"
      ],
      "execution_count": 80,
      "outputs": [
        {
          "output_type": "execute_result",
          "data": {
            "text/plain": [
              "pandas.core.frame.DataFrame"
            ]
          },
          "metadata": {
            "tags": []
          },
          "execution_count": 80
        }
      ]
    },
    {
      "cell_type": "markdown",
      "metadata": {
        "id": "petF-S46WgZ9",
        "colab_type": "text"
      },
      "source": [
        "The main DataFrame methods works on Series objects as well. For example, we can plot out the cummulative summation plot as follows:"
      ]
    },
    {
      "cell_type": "code",
      "metadata": {
        "id": "0p2MTyDvWdYG",
        "colab_type": "code",
        "colab": {
          "base_uri": "https://localhost:8080/",
          "height": 308
        },
        "outputId": "3273ec1e-2ab8-440a-cde1-c53b36207e11"
      },
      "source": [
        "import matplotlib.pyplot as plt\n",
        "\n",
        "df[['x1']].cumsum().plot()\n",
        "plt.xlabel('date')\n",
        "plt.ylabel('value')"
      ],
      "execution_count": 84,
      "outputs": [
        {
          "output_type": "execute_result",
          "data": {
            "text/plain": [
              "Text(0, 0.5, 'value')"
            ]
          },
          "metadata": {
            "tags": []
          },
          "execution_count": 84
        },
        {
          "output_type": "display_data",
          "data": {
            "image/png": "[encoded data removed]",
            "text/plain": [
              "<Figure size 432x288 with 1 Axes>"
            ]
          },
          "metadata": {
            "tags": [],
            "needs_background": "light"
          }
        }
      ]
    },
    {
      "cell_type": "markdown",
      "metadata": {
        "id": "vlGC_in8bGkE",
        "colab_type": "text"
      },
      "source": [
        "Refer here for further details on Series class: https://pandas.pydata.org/pandas-docs/stable/reference/api/pandas.Series.html#pandas.Series"
      ]
    },
    {
      "cell_type": "markdown",
      "metadata": {
        "id": "XYYpZFD3Q7be",
        "colab_type": "text"
      },
      "source": [
        "## More on dates and times"
      ]
    },
    {
      "cell_type": "markdown",
      "metadata": {
        "id": "CxYzz9o9RRCg",
        "colab_type": "text"
      },
      "source": [
        "Dates and times creation"
      ]
    },
    {
      "cell_type": "code",
      "metadata": {
        "id": "RULAtg6xRDl3",
        "colab_type": "code",
        "colab": {
          "base_uri": "https://localhost:8080/",
          "height": 84
        },
        "outputId": "3cc27041-377e-4e11-e330-8d1b5024c227"
      },
      "source": [
        "# TIMES\n",
        "rng = pd.date_range('2020 Jan 1', periods = 10, freq = 'D');rng"
      ],
      "execution_count": 30,
      "outputs": [
        {
          "output_type": "execute_result",
          "data": {
            "text/plain": [
              "DatetimeIndex(['2020-01-01', '2020-01-02', '2020-01-03', '2020-01-04',\n",
              "               '2020-01-05', '2020-01-06', '2020-01-07', '2020-01-08',\n",
              "               '2020-01-09', '2020-01-10'],\n",
              "              dtype='datetime64[ns]', freq='D')"
            ]
          },
          "metadata": {
            "tags": []
          },
          "execution_count": 30
        }
      ]
    },
    {
      "cell_type": "markdown",
      "metadata": {
        "id": "27sZ0K8gR_ze",
        "colab_type": "text"
      },
      "source": [
        "### Timestamp"
      ]
    },
    {
      "cell_type": "markdown",
      "metadata": {
        "id": "WubMTuZihHja",
        "colab_type": "text"
      },
      "source": [
        "Each DatetimeIndex consists of Time Stamp"
      ]
    },
    {
      "cell_type": "code",
      "metadata": {
        "id": "TgcBXcqOhGko",
        "colab_type": "code",
        "colab": {
          "base_uri": "https://localhost:8080/",
          "height": 33
        },
        "outputId": "a5446a6f-3191-402f-9b96-6351bdf4ae58"
      },
      "source": [
        "df.index[0]"
      ],
      "execution_count": 87,
      "outputs": [
        {
          "output_type": "execute_result",
          "data": {
            "text/plain": [
              "Timestamp('2020-01-31 00:00:00', freq='M')"
            ]
          },
          "metadata": {
            "tags": []
          },
          "execution_count": 87
        }
      ]
    },
    {
      "cell_type": "markdown",
      "metadata": {
        "id": "QlCGjw_AhbBr",
        "colab_type": "text"
      },
      "source": [
        "We can generate Timestamp by using the following methods."
      ]
    },
    {
      "cell_type": "code",
      "metadata": {
        "id": "Hb4dyxRZRYLS",
        "colab_type": "code",
        "colab": {
          "base_uri": "https://localhost:8080/",
          "height": 33
        },
        "outputId": "b7cc351e-d497-45a6-f510-3134a08248c6"
      },
      "source": [
        "pd.Timestamp('2020-07-10')"
      ],
      "execution_count": 93,
      "outputs": [
        {
          "output_type": "execute_result",
          "data": {
            "text/plain": [
              "Timestamp('2020-07-10 00:00:00')"
            ]
          },
          "metadata": {
            "tags": []
          },
          "execution_count": 93
        }
      ]
    },
    {
      "cell_type": "code",
      "metadata": {
        "id": "0Gr4W8V4RwFN",
        "colab_type": "code",
        "colab": {
          "base_uri": "https://localhost:8080/",
          "height": 33
        },
        "outputId": "56630147-c780-4b42-8c7e-a114eb7ec15e"
      },
      "source": [
        "# We can include more details \n",
        "pd.Timestamp('2020-07-10 10')"
      ],
      "execution_count": 94,
      "outputs": [
        {
          "output_type": "execute_result",
          "data": {
            "text/plain": [
              "Timestamp('2020-07-10 10:00:00')"
            ]
          },
          "metadata": {
            "tags": []
          },
          "execution_count": 94
        }
      ]
    },
    {
      "cell_type": "code",
      "metadata": {
        "id": "4T4jOjWuR3Sc",
        "colab_type": "code",
        "colab": {
          "base_uri": "https://localhost:8080/",
          "height": 33
        },
        "outputId": "75efac7c-f96f-47e7-c75d-b1728b648c20"
      },
      "source": [
        "# Or even more...\n",
        "pd.Timestamp('2020-07-10 10:15')"
      ],
      "execution_count": 95,
      "outputs": [
        {
          "output_type": "execute_result",
          "data": {
            "text/plain": [
              "Timestamp('2020-07-10 10:15:00')"
            ]
          },
          "metadata": {
            "tags": []
          },
          "execution_count": 95
        }
      ]
    },
    {
      "cell_type": "code",
      "metadata": {
        "id": "4Qzy5URbR-z5",
        "colab_type": "code",
        "colab": {
          "base_uri": "https://localhost:8080/",
          "height": 33
        },
        "outputId": "95a5a156-ac15-41e7-d15b-bf30a761cdce"
      },
      "source": [
        "# we can create Timestamp via datetime.datetime object\n",
        "pd.Timestamp(2020, 7, 10, 10)"
      ],
      "execution_count": 96,
      "outputs": [
        {
          "output_type": "execute_result",
          "data": {
            "text/plain": [
              "Timestamp('2020-07-10 10:00:00')"
            ]
          },
          "metadata": {
            "tags": []
          },
          "execution_count": 96
        }
      ]
    },
    {
      "cell_type": "markdown",
      "metadata": {
        "id": "-A6HG24YjphR",
        "colab_type": "text"
      },
      "source": [
        "With Timestamp we can perform date and time arithmetic with absolute and relative time increments."
      ]
    },
    {
      "cell_type": "code",
      "metadata": {
        "id": "i6Yr0lyjjzGf",
        "colab_type": "code",
        "colab": {
          "base_uri": "https://localhost:8080/",
          "height": 33
        },
        "outputId": "b1ec144e-5c21-4c8e-e4f0-45a22f97f856"
      },
      "source": [
        "#what day is 10th of July 2020?\n",
        "\n",
        "date = pd.Timestamp('2020-07-10')\n",
        "date.day_name()"
      ],
      "execution_count": 99,
      "outputs": [
        {
          "output_type": "execute_result",
          "data": {
            "text/plain": [
              "'Friday'"
            ]
          },
          "metadata": {
            "tags": []
          },
          "execution_count": 99
        }
      ]
    },
    {
      "cell_type": "markdown",
      "metadata": {
        "id": "Fph32OUhkE8X",
        "colab_type": "text"
      },
      "source": [
        "We can also perform arithmetic operation on the Timestamp object."
      ]
    },
    {
      "cell_type": "code",
      "metadata": {
        "id": "KVoSoGR0kYhi",
        "colab_type": "code",
        "colab": {
          "base_uri": "https://localhost:8080/",
          "height": 33
        },
        "outputId": "98f86c1a-91e0-4bab-f899-8a6ca8888d00"
      },
      "source": [
        "# add 1 day\n",
        "friday = date\n",
        "saturday = friday + pd.Timedelta('1 day')\n",
        "saturday.day_name()"
      ],
      "execution_count": 107,
      "outputs": [
        {
          "output_type": "execute_result",
          "data": {
            "text/plain": [
              "'Saturday'"
            ]
          },
          "metadata": {
            "tags": []
          },
          "execution_count": 107
        }
      ]
    },
    {
      "cell_type": "code",
      "metadata": {
        "id": "YIBUBaUdlFlb",
        "colab_type": "code",
        "colab": {
          "base_uri": "https://localhost:8080/",
          "height": 33
        },
        "outputId": "9f6a3dfa-85cd-4034-ff0c-275ec7350535"
      },
      "source": [
        "# add 1 business day\n",
        "\n",
        "monday = friday + pd.offsets.BDay()\n",
        "monday.day_name()"
      ],
      "execution_count": 110,
      "outputs": [
        {
          "output_type": "execute_result",
          "data": {
            "text/plain": [
              "'Monday'"
            ]
          },
          "metadata": {
            "tags": []
          },
          "execution_count": 110
        }
      ]
    },
    {
      "cell_type": "markdown",
      "metadata": {
        "id": "Dw5uV_FBintd",
        "colab_type": "text"
      },
      "source": [
        "### Timespans"
      ]
    },
    {
      "cell_type": "markdown",
      "metadata": {
        "id": "LmCdYv8knilF",
        "colab_type": "text"
      },
      "source": [
        "Timestamped data is basic type of time series data that associates values with points in time."
      ]
    },
    {
      "cell_type": "code",
      "metadata": {
        "id": "05bEXYL1nXuJ",
        "colab_type": "code",
        "colab": {
          "base_uri": "https://localhost:8080/",
          "height": 33
        },
        "outputId": "de68da33-1537-48ed-9d96-d79d135d02e4"
      },
      "source": [
        "pd.Timestamp('2020-07-10')"
      ],
      "execution_count": 119,
      "outputs": [
        {
          "output_type": "execute_result",
          "data": {
            "text/plain": [
              "Timestamp('2020-07-10 00:00:00')"
            ]
          },
          "metadata": {
            "tags": []
          },
          "execution_count": 119
        }
      ]
    },
    {
      "cell_type": "markdown",
      "metadata": {
        "id": "UDqi0fp_xaCt",
        "colab_type": "text"
      },
      "source": [
        "In many cases, it is more natural to associate things like change variables with a time span instead. We can represent the span using Period. For example:"
      ]
    },
    {
      "cell_type": "code",
      "metadata": {
        "id": "R78-dEdfitID",
        "colab_type": "code",
        "colab": {
          "base_uri": "https://localhost:8080/",
          "height": 33
        },
        "outputId": "de2f2955-cd77-48ac-def3-4fc4ccfa5edf"
      },
      "source": [
        "#What are the extra details given by the code?\n",
        "pd.Period('2020-07')"
      ],
      "execution_count": 122,
      "outputs": [
        {
          "output_type": "execute_result",
          "data": {
            "text/plain": [
              "Period('2020-07', 'M')"
            ]
          },
          "metadata": {
            "tags": []
          },
          "execution_count": 122
        }
      ]
    },
    {
      "cell_type": "code",
      "metadata": {
        "id": "emAIvPw9mxMv",
        "colab_type": "code",
        "colab": {
          "base_uri": "https://localhost:8080/",
          "height": 33
        },
        "outputId": "755dcc8b-5ecb-442d-e3bd-9f5d771fbc72"
      },
      "source": [
        "#How details it can go?\n",
        "pd.Period('2020-07-10')"
      ],
      "execution_count": 123,
      "outputs": [
        {
          "output_type": "execute_result",
          "data": {
            "text/plain": [
              "Period('2020-07-10', 'D')"
            ]
          },
          "metadata": {
            "tags": []
          },
          "execution_count": 123
        }
      ]
    },
    {
      "cell_type": "code",
      "metadata": {
        "id": "wppQJrnWnIlW",
        "colab_type": "code",
        "colab": {
          "base_uri": "https://localhost:8080/",
          "height": 33
        },
        "outputId": "0bb55b4e-cc96-48f2-b201-a96978f41cbe"
      },
      "source": [
        "pd.Period('2020-07-10 10')"
      ],
      "execution_count": 115,
      "outputs": [
        {
          "output_type": "execute_result",
          "data": {
            "text/plain": [
              "Period('2020-07-10 10:00', 'H')"
            ]
          },
          "metadata": {
            "tags": []
          },
          "execution_count": 115
        }
      ]
    },
    {
      "cell_type": "code",
      "metadata": {
        "id": "QY1XvgsQnHc8",
        "colab_type": "code",
        "colab": {
          "base_uri": "https://localhost:8080/",
          "height": 33
        },
        "outputId": "d8b56d29-d046-4807-8bb8-01dbcdec45a0"
      },
      "source": [
        "pd.Period('2020-07-10 10:10')"
      ],
      "execution_count": 116,
      "outputs": [
        {
          "output_type": "execute_result",
          "data": {
            "text/plain": [
              "Period('2020-07-10 10:10', 'T')"
            ]
          },
          "metadata": {
            "tags": []
          },
          "execution_count": 116
        }
      ]
    },
    {
      "cell_type": "code",
      "metadata": {
        "id": "DN6KyAaJm75A",
        "colab_type": "code",
        "colab": {
          "base_uri": "https://localhost:8080/",
          "height": 33
        },
        "outputId": "301ae366-3bac-4e28-cf93-a20fa91936c1"
      },
      "source": [
        "pd.Period('2020-07-10 10:10:10')"
      ],
      "execution_count": 114,
      "outputs": [
        {
          "output_type": "execute_result",
          "data": {
            "text/plain": [
              "Period('2020-07-10 10:10:10', 'S')"
            ]
          },
          "metadata": {
            "tags": []
          },
          "execution_count": 114
        }
      ]
    },
    {
      "cell_type": "markdown",
      "metadata": {
        "id": "h9_8tacqxXwS",
        "colab_type": "text"
      },
      "source": [
        "Arithmetric operations work on Period as well."
      ]
    },
    {
      "cell_type": "code",
      "metadata": {
        "id": "1_UUrGNEm9st",
        "colab_type": "code",
        "colab": {
          "base_uri": "https://localhost:8080/",
          "height": 33
        },
        "outputId": "8662170f-0656-4c84-9148-daa23a4c9d23"
      },
      "source": [
        "pd.Period('2016-01-01 10:10') + pd.Timedelta('2 day')"
      ],
      "execution_count": 121,
      "outputs": [
        {
          "output_type": "execute_result",
          "data": {
            "text/plain": [
              "Period('2016-01-03 10:10', 'T')"
            ]
          },
          "metadata": {
            "tags": []
          },
          "execution_count": 121
        }
      ]
    },
    {
      "cell_type": "markdown",
      "metadata": {
        "id": "sHoNlHng4zXI",
        "colab_type": "text"
      },
      "source": [
        "Remember how we can create a range of Timestamp using date_range? We can create a range of Periods using period_range"
      ]
    },
    {
      "cell_type": "code",
      "metadata": {
        "id": "XQ36_Zvb4yvI",
        "colab_type": "code",
        "colab": {
          "base_uri": "https://localhost:8080/",
          "height": 84
        },
        "outputId": "953eda88-d7c5-4c5b-f7cc-80626930a666"
      },
      "source": [
        "#create a range of periods of 10 business days\n",
        "prng= pd.period_range('2020-07-10 10:10', freq = 'B', periods = 10);prng"
      ],
      "execution_count": 130,
      "outputs": [
        {
          "output_type": "execute_result",
          "data": {
            "text/plain": [
              "PeriodIndex(['2020-07-10', '2020-07-13', '2020-07-14', '2020-07-15',\n",
              "             '2020-07-16', '2020-07-17', '2020-07-20', '2020-07-21',\n",
              "             '2020-07-22', '2020-07-23'],\n",
              "            dtype='period[B]', freq='B')"
            ]
          },
          "metadata": {
            "tags": []
          },
          "execution_count": 130
        }
      ]
    },
    {
      "cell_type": "markdown",
      "metadata": {
        "id": "67HzCXKt68AS",
        "colab_type": "text"
      },
      "source": [
        "Indexing with Time Objects"
      ]
    },
    {
      "cell_type": "code",
      "metadata": {
        "id": "a4f2ChJt6-64",
        "colab_type": "code",
        "colab": {
          "base_uri": "https://localhost:8080/",
          "height": 201
        },
        "outputId": "f4774ea3-c3fe-4a33-91a7-227bb8b247e7"
      },
      "source": [
        "#from previous example, we can create a Series with Timestamp such as follows\n",
        "rng = pd.date_range('2020 Jul 1', periods = 10, freq = 'D')\n",
        "rng\n",
        "ts_idx_timestamp = pd.Series(range(len(rng)), index = rng)\n",
        "ts_idx_timestamp"
      ],
      "execution_count": 137,
      "outputs": [
        {
          "output_type": "execute_result",
          "data": {
            "text/plain": [
              "2020-07-01    0\n",
              "2020-07-02    1\n",
              "2020-07-03    2\n",
              "2020-07-04    3\n",
              "2020-07-05    4\n",
              "2020-07-06    5\n",
              "2020-07-07    6\n",
              "2020-07-08    7\n",
              "2020-07-09    8\n",
              "2020-07-10    9\n",
              "Freq: D, dtype: int64"
            ]
          },
          "metadata": {
            "tags": []
          },
          "execution_count": 137
        }
      ]
    },
    {
      "cell_type": "code",
      "metadata": {
        "id": "EqxnI18-7bbc",
        "colab_type": "code",
        "colab": {
          "base_uri": "https://localhost:8080/",
          "height": 84
        },
        "outputId": "782b5a2f-0937-46ec-f4fc-6082f5cd5cc3"
      },
      "source": [
        "# Sometimes, it makes more sense to think about the index as a time span rather than a single point in time\n",
        "\n",
        "periods = [pd.Period('2020-01'), pd.Period('2020-02'), pd.Period('2020-03')]\n",
        "ts_idx_periods = pd.Series(np.random.randn(len(periods)), index = periods)\n",
        "ts_idx_periods"
      ],
      "execution_count": 136,
      "outputs": [
        {
          "output_type": "execute_result",
          "data": {
            "text/plain": [
              "2020-01    0.283627\n",
              "2020-02   -0.805367\n",
              "2020-03   -1.727669\n",
              "Freq: M, dtype: float64"
            ]
          },
          "metadata": {
            "tags": []
          },
          "execution_count": 136
        }
      ]
    },
    {
      "cell_type": "markdown",
      "metadata": {
        "id": "5DiB2DlD8Q2c",
        "colab_type": "text"
      },
      "source": [
        "Pandas will convert the Timestamp and Period to DatetimeIndex and PeriodIndex repectively."
      ]
    },
    {
      "cell_type": "code",
      "metadata": {
        "id": "1whWv5SO8P7F",
        "colab_type": "code",
        "colab": {
          "base_uri": "https://localhost:8080/",
          "height": 33
        },
        "outputId": "35391a4a-c77e-443e-d71b-3a0badb613b4"
      },
      "source": [
        "type(ts_idx_timestamp.index)"
      ],
      "execution_count": 143,
      "outputs": [
        {
          "output_type": "execute_result",
          "data": {
            "text/plain": [
              "pandas.core.indexes.datetimes.DatetimeIndex"
            ]
          },
          "metadata": {
            "tags": []
          },
          "execution_count": 143
        }
      ]
    },
    {
      "cell_type": "code",
      "metadata": {
        "id": "5hvh00sj7bXk",
        "colab_type": "code",
        "colab": {
          "base_uri": "https://localhost:8080/",
          "height": 33
        },
        "outputId": "56c3d65a-faba-44d8-ef40-05aae913ae35"
      },
      "source": [
        "type(ts_idx_periods.index)"
      ],
      "execution_count": 144,
      "outputs": [
        {
          "output_type": "execute_result",
          "data": {
            "text/plain": [
              "pandas.core.indexes.period.PeriodIndex"
            ]
          },
          "metadata": {
            "tags": []
          },
          "execution_count": 144
        }
      ]
    },
    {
      "cell_type": "markdown",
      "metadata": {
        "id": "EEFaRCaCAAdU",
        "colab_type": "text"
      },
      "source": [
        "We can convert Timestamp to Period  indices with to_period and vice versa with to_timestamp"
      ]
    },
    {
      "cell_type": "code",
      "metadata": {
        "id": "5cqG9T5wAAJK",
        "colab_type": "code",
        "colab": {
          "base_uri": "https://localhost:8080/",
          "height": 201
        },
        "outputId": "629c7f4d-5f68-406f-8874-62b7011dbce1"
      },
      "source": [
        "ts = pd.Series(range(10), pd.date_range('2020-01-10 8:00', periods = 10, freq = 'H'))\n",
        "ts"
      ],
      "execution_count": 158,
      "outputs": [
        {
          "output_type": "execute_result",
          "data": {
            "text/plain": [
              "2020-01-10 08:00:00    0\n",
              "2020-01-10 09:00:00    1\n",
              "2020-01-10 10:00:00    2\n",
              "2020-01-10 11:00:00    3\n",
              "2020-01-10 12:00:00    4\n",
              "2020-01-10 13:00:00    5\n",
              "2020-01-10 14:00:00    6\n",
              "2020-01-10 15:00:00    7\n",
              "2020-01-10 16:00:00    8\n",
              "2020-01-10 17:00:00    9\n",
              "Freq: H, dtype: int64"
            ]
          },
          "metadata": {
            "tags": []
          },
          "execution_count": 158
        }
      ]
    },
    {
      "cell_type": "code",
      "metadata": {
        "id": "zAK4G54WAkND",
        "colab_type": "code",
        "colab": {
          "base_uri": "https://localhost:8080/",
          "height": 201
        },
        "outputId": "543fe161-fd39-482a-8dba-d9bbdd39e85e"
      },
      "source": [
        "ts_period = ts.to_period()\n",
        "ts_period"
      ],
      "execution_count": 159,
      "outputs": [
        {
          "output_type": "execute_result",
          "data": {
            "text/plain": [
              "2020-01-10 08:00    0\n",
              "2020-01-10 09:00    1\n",
              "2020-01-10 10:00    2\n",
              "2020-01-10 11:00    3\n",
              "2020-01-10 12:00    4\n",
              "2020-01-10 13:00    5\n",
              "2020-01-10 14:00    6\n",
              "2020-01-10 15:00    7\n",
              "2020-01-10 16:00    8\n",
              "2020-01-10 17:00    9\n",
              "Freq: H, dtype: int64"
            ]
          },
          "metadata": {
            "tags": []
          },
          "execution_count": 159
        }
      ]
    },
    {
      "cell_type": "code",
      "metadata": {
        "id": "viYpntBdAn-J",
        "colab_type": "code",
        "colab": {
          "base_uri": "https://localhost:8080/",
          "height": 100
        },
        "outputId": "6dccf1d6-2c7d-4c97-abbe-2eb125bf56d9"
      },
      "source": [
        "ts_period['2020-01-10 08:30':'2020-01-10 11:45'] # we have the concept of overlap with time periods"
      ],
      "execution_count": 161,
      "outputs": [
        {
          "output_type": "execute_result",
          "data": {
            "text/plain": [
              "2020-01-10 08:00    0\n",
              "2020-01-10 09:00    1\n",
              "2020-01-10 10:00    2\n",
              "2020-01-10 11:00    3\n",
              "Freq: H, dtype: int64"
            ]
          },
          "metadata": {
            "tags": []
          },
          "execution_count": 161
        }
      ]
    },
    {
      "cell_type": "code",
      "metadata": {
        "id": "IyE9qWVDA2xa",
        "colab_type": "code",
        "colab": {
          "base_uri": "https://localhost:8080/",
          "height": 84
        },
        "outputId": "64c312b8-e9ca-4d1a-dba7-7551cbdf4909"
      },
      "source": [
        "ts['2020-01-10 08:30':'2020-01-10 11:45'] # we have the concept of include with timestamps"
      ],
      "execution_count": 164,
      "outputs": [
        {
          "output_type": "execute_result",
          "data": {
            "text/plain": [
              "2020-01-10 09:00:00    1\n",
              "2020-01-10 10:00:00    2\n",
              "2020-01-10 11:00:00    3\n",
              "Freq: H, dtype: int64"
            ]
          },
          "metadata": {
            "tags": []
          },
          "execution_count": 164
        }
      ]
    },
    {
      "cell_type": "markdown",
      "metadata": {
        "id": "bcX-aLmIBGpj",
        "colab_type": "text"
      },
      "source": [
        "Time Stamp vs Time Span (Period) "
      ]
    },
    {
      "cell_type": "code",
      "metadata": {
        "id": "hLEClxxNxTjp",
        "colab_type": "code",
        "colab": {
          "base_uri": "https://localhost:8080/",
          "height": 33
        },
        "outputId": "291d0cb9-3a4a-42d9-8e7e-f375c7b31808"
      },
      "source": [
        "p = pd.Period('2017-06-13')\n",
        "test = pd.Timestamp('2017-06-13 22:11')\n",
        "p.start_time < test < p.end_time"
      ],
      "execution_count": 165,
      "outputs": [
        {
          "output_type": "execute_result",
          "data": {
            "text/plain": [
              "True"
            ]
          },
          "metadata": {
            "tags": []
          },
          "execution_count": 165
        }
      ]
    },
    {
      "cell_type": "markdown",
      "metadata": {
        "id": "4n5GtBHpBUkw",
        "colab_type": "text"
      },
      "source": [
        "## References\n",
        "\n",
        "1. Python for Finance (2014), Yves Hilpisch\n",
        "2. https://github.com/AileenNielsen/TimeSeriesAnalysisWithPython/blob/master/1.%20Dates%20%26%20Times.ipynb"
      ]
    }
  ]
}