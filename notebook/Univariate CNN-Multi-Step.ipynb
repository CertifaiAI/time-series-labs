{
 "cells": [
  {
   "cell_type": "markdown",
   "metadata": {},
   "source": [
    "## Univariate Multi-Step CNN"
   ]
  },
  {
   "cell_type": "code",
   "execution_count": 10,
   "metadata": {},
   "outputs": [],
   "source": [
    "# import packages needed\n",
    "import numpy as np\n",
    "import pandas as pd\n",
    "import matplotlib.pyplot as plt\n",
    "import torch\n",
    "import torch.nn as nn\n",
    "import torch.nn.functional as F\n",
    "from torch.utils.data import DataLoader, TensorDataset\n",
    "from sklearn.metrics import mean_squared_error\n",
    "from sklearn.preprocessing import MinMaxScaler\n",
    "import math"
   ]
  },
  {
   "cell_type": "code",
   "execution_count": 11,
   "metadata": {},
   "outputs": [],
   "source": [
    "def univariate_multi_step(sequence, window_size, n_multistep):\n",
    "    x, y = list(), list()\n",
    "    for i in range(len(sequence)):\n",
    "        # find the end of this pattern\n",
    "        end_ix = i + window_size\n",
    "        out_ix = end_ix + n_multistep\n",
    "        # check if we are beyond the sequence\n",
    "        if out_ix > len(sequence):\n",
    "            break\n",
    "        # gather input and output parts of the pattern\n",
    "        seq_x, seq_y = sequence[i:end_ix], sequence[end_ix:out_ix]\n",
    "        x.append(seq_x)\n",
    "        y.append(seq_y)\n",
    "    return np.array(x), np.array(y)"
   ]
  },
  {
   "cell_type": "markdown",
   "metadata": {},
   "source": [
    "## Hyper parameter"
   ]
  },
  {
   "cell_type": "code",
   "execution_count": 29,
   "metadata": {},
   "outputs": [
    {
     "data": {
      "text/plain": [
       "<torch._C.Generator at 0x1d99d40d5b0>"
      ]
     },
     "execution_count": 29,
     "metadata": {},
     "output_type": "execute_result"
    }
   ],
   "source": [
    "split_ratio = 0.70\n",
    "num_epochs = 4\n",
    "window_size = 3\n",
    "batch_size = 1\n",
    "n_step = 2\n",
    "learning_rate = 0.1\n",
    "# seed\n",
    "torch.manual_seed(123)"
   ]
  },
  {
   "cell_type": "markdown",
   "metadata": {},
   "source": [
    "## Data Preparation"
   ]
  },
  {
   "cell_type": "code",
   "execution_count": 30,
   "metadata": {},
   "outputs": [
    {
     "name": "stdout",
     "output_type": "stream",
     "text": [
      "train_data_shape\n",
      "(28,)\n",
      "test_data_shape\n",
      "(12,)\n"
     ]
    }
   ],
   "source": [
    "# Synthetic Data\n",
    "univariate_series = np.array([x for x in range(0, 400, 10)])\n",
    "\n",
    "split_data = round(len(univariate_series) * split_ratio)\n",
    "# split data by indexing\n",
    "train_data = univariate_series[:split_data]\n",
    "test_data = univariate_series[split_data:]\n",
    "print(\"train_data_shape\")\n",
    "print(train_data.shape)\n",
    "print(\"test_data_shape\")\n",
    "print(test_data.shape)"
   ]
  },
  {
   "cell_type": "markdown",
   "metadata": {},
   "source": [
    "## Data Normalization"
   ]
  },
  {
   "cell_type": "code",
   "execution_count": 31,
   "metadata": {},
   "outputs": [],
   "source": [
    "scaler = MinMaxScaler(feature_range=(-1, 1))\n",
    "train_data_normalized = scaler.fit_transform(train_data.reshape(-1, 1))\n",
    "\n",
    "test_data_normalized = scaler.fit_transform(test_data.reshape(-1, 1))"
   ]
  },
  {
   "cell_type": "markdown",
   "metadata": {},
   "source": [
    "## Data Sequencing"
   ]
  },
  {
   "cell_type": "code",
   "execution_count": 32,
   "metadata": {},
   "outputs": [
    {
     "name": "stdout",
     "output_type": "stream",
     "text": [
      "trainX shape:(24, 3, 1) trainY shape:(24, 2, 1)\n",
      "\n",
      "testX shape:(8, 3, 1) testX shape:(8, 2, 1)\n"
     ]
    }
   ],
   "source": [
    "trainX, trainY = univariate_multi_step(train_data_normalized, window_size, n_step)\n",
    "testX, testY = univariate_multi_step(test_data_normalized, window_size, n_step)\n",
    "print(f\"trainX shape:{trainX.shape} trainY shape:{trainY.shape}\\n\")\n",
    "print(f\"testX shape:{testX.shape} testX shape:{testY.shape}\")"
   ]
  },
  {
   "cell_type": "markdown",
   "metadata": {},
   "source": [
    "## Data Transform"
   ]
  },
  {
   "cell_type": "code",
   "execution_count": 33,
   "metadata": {},
   "outputs": [
    {
     "name": "stdout",
     "output_type": "stream",
     "text": [
      "trainX shape:torch.Size([24, 3, 1]) trainY shape:torch.Size([24, 2, 1])\n",
      "\n",
      "testX shape:torch.Size([8, 3, 1]) testY shape:torch.Size([8, 2, 1])\n"
     ]
    }
   ],
   "source": [
    "# transfrom to Pytorch tensor\n",
    "trainX = torch.from_numpy(trainX).type(torch.Tensor)\n",
    "trainY = torch.from_numpy(trainY).type(torch.Tensor)\n",
    "testX = torch.from_numpy(testX).type(torch.Tensor)\n",
    "testY = torch.from_numpy(testY).type(torch.Tensor)\n",
    "print(f\"trainX shape:{trainX.shape} trainY shape:{trainY.shape}\\n\")\n",
    "print(f\"testX shape:{testX.shape} testY shape:{testY.shape}\")"
   ]
  },
  {
   "cell_type": "code",
   "execution_count": 34,
   "metadata": {},
   "outputs": [
    {
     "name": "stdout",
     "output_type": "stream",
     "text": [
      "after transpose trainX shape:torch.Size([24, 1, 3]) trainY shape:torch.Size([24, 2, 1])\n",
      "\n",
      "after transpose shape:torch.Size([8, 1, 3]) testY shape:torch.Size([8, 2, 1])\n"
     ]
    }
   ],
   "source": [
    "# Data Transpose to suit for CNN \n",
    "trainX = torch.transpose(trainX, 1, 2)\n",
    "testX = torch.transpose(testX, 1, 2)\n",
    "\n",
    "print(f\"after transpose trainX shape:{trainX.shape} trainY shape:{trainY.shape}\\n\")\n",
    "print(f\"after transpose shape:{testX.shape} testY shape:{testY.shape}\")"
   ]
  },
  {
   "cell_type": "code",
   "execution_count": 35,
   "metadata": {},
   "outputs": [],
   "source": [
    "# Create Iterator\n",
    "train_dataset = TensorDataset(trainX, trainY)\n",
    "train_iter = DataLoader(train_dataset, batch_size=batch_size, shuffle=False)\n",
    "\n",
    "test_dataset = TensorDataset(testX, testY)\n",
    "test_iter = DataLoader(test_dataset, batch_size=batch_size, shuffle=False)"
   ]
  },
  {
   "cell_type": "markdown",
   "metadata": {},
   "source": [
    "## CNN Configuration"
   ]
  },
  {
   "cell_type": "code",
   "execution_count": 36,
   "metadata": {},
   "outputs": [],
   "source": [
    "class CNN_Multistep(nn.Module):\n",
    "\n",
    "    def __init__(self,timeseries,n_step):\n",
    "        super(CNN_Multistep, self).__init__()\n",
    "        self.timeseries=timeseries\n",
    "        self.n_step = n_step\n",
    "        \n",
    "        # Conv1d1d kernel_size is base on the number of time series\n",
    "        self.conv1 = nn.Conv1d(in_channels=self.timeseries, out_channels=64, kernel_size=2)\n",
    "        \n",
    "        # Maxpool1d kernel_size is base on the number of time series\n",
    "        # For example Input:(N,C,Lin) Output : (N,C,Lout)\n",
    "        self.poo1 = nn.MaxPool1d(kernel_size=2)\n",
    "        self.fc1 = nn.Linear(64, 50)\n",
    "        self.fc2 = nn.Linear(50,n_step)\n",
    "\n",
    "    def forward(self, x):\n",
    "        \n",
    "        x = self.poo1(F.relu(self.conv1(x)))\n",
    "        \n",
    "        # Flatten\n",
    "        x = x.view(-1,64)\n",
    "        x = F.relu(self.fc1(x))\n",
    "        x = self.fc2(x)\n",
    "\n",
    "        return x"
   ]
  },
  {
   "cell_type": "markdown",
   "metadata": {},
   "source": [
    "## Model Deployment"
   ]
  },
  {
   "cell_type": "code",
   "execution_count": 37,
   "metadata": {},
   "outputs": [
    {
     "name": "stdout",
     "output_type": "stream",
     "text": [
      "CNN_Multistep(\n",
      "  (conv1): Conv1d(1, 64, kernel_size=(2,), stride=(1,))\n",
      "  (poo1): MaxPool1d(kernel_size=2, stride=2, padding=0, dilation=1, ceil_mode=False)\n",
      "  (fc1): Linear(in_features=64, out_features=50, bias=True)\n",
      "  (fc2): Linear(in_features=50, out_features=2, bias=True)\n",
      ")\n"
     ]
    }
   ],
   "source": [
    "model = CNN_Multistep(timeseries=trainX.shape[1], n_step=n_step)\n",
    "print(model.eval())\n",
    "optimizer = torch.optim.SGD(model.parameters(), lr=learning_rate)\n",
    "loss_fn = nn.MSELoss()"
   ]
  },
  {
   "cell_type": "code",
   "execution_count": 38,
   "metadata": {},
   "outputs": [
    {
     "data": {
      "text/plain": [
       "CNN_Multistep(\n",
       "  (conv1): Conv1d(1, 64, kernel_size=(2,), stride=(1,))\n",
       "  (poo1): MaxPool1d(kernel_size=2, stride=2, padding=0, dilation=1, ceil_mode=False)\n",
       "  (fc1): Linear(in_features=64, out_features=50, bias=True)\n",
       "  (fc2): Linear(in_features=50, out_features=2, bias=True)\n",
       ")"
      ]
     },
     "execution_count": 38,
     "metadata": {},
     "output_type": "execute_result"
    }
   ],
   "source": [
    "def weights_init(m):\n",
    "    if isinstance(m, nn.Conv1d):\n",
    "        nn.init.xavier_uniform_(m.weight.data)\n",
    "        \n",
    "model.apply(weights_init)"
   ]
  },
  {
   "cell_type": "markdown",
   "metadata": {},
   "source": [
    "## Training"
   ]
  },
  {
   "cell_type": "code",
   "execution_count": 39,
   "metadata": {},
   "outputs": [],
   "source": [
    "def training(num_epochs, train_iter, test_iter, optimiser, loss_fn, model):\n",
    "    train_loss = np.zeros(num_epochs)\n",
    "    val_loss = np.zeros(num_epochs)\n",
    "    for t in range(num_epochs):\n",
    "        # Initialise hidden state\n",
    "        #     Don't do this if you want your LSTM to be stateful\n",
    "        #     model.hidden = model.init_hidden()\n",
    "        running_loss_train = 0\n",
    "        running_loss_valid = 0\n",
    "        for _, (train_X, train_Y) in enumerate(train_iter):\n",
    "            # Forward pass\n",
    "            y_train_pred = model(train_X)\n",
    "\n",
    "            # Reshape to perform MSE\n",
    "            y_train_pred = torch.reshape(y_train_pred, (train_Y.shape[0], train_Y.shape[1],train_Y.shape[2]))\n",
    "\n",
    "            loss_train = loss_fn(y_train_pred, train_Y)\n",
    "\n",
    "            # Zero out gradient, else they will accumulate between epochs\n",
    "            optimiser.zero_grad()\n",
    "\n",
    "            # Backward pass\n",
    "            loss_train.backward()\n",
    "\n",
    "            # Update parameters\n",
    "            optimiser.step()\n",
    "\n",
    "            running_loss_train += loss_train.item()\n",
    "\n",
    "        epoch_loss_train = running_loss_train / len(train_X)\n",
    "        train_loss[t] = epoch_loss_train\n",
    "\n",
    "        with torch.no_grad():\n",
    "            for _, (test_X, test_Y) in enumerate(test_iter):\n",
    "                y_test_pred = model(test_X)\n",
    "\n",
    "                # Reshape to perform MSE\n",
    "                y_test_pred = torch.reshape(y_test_pred, (test_Y.shape[0], test_Y.shape[1],test_Y.shape[2]))\n",
    "                loss_test = loss_fn(y_test_pred, test_Y)\n",
    "                running_loss_valid += loss_test.item()\n",
    "\n",
    "        epoch_loss_test = running_loss_valid / len(test_X)\n",
    "\n",
    "        val_loss[t] = epoch_loss_test\n",
    "\n",
    "    return train_loss, val_loss"
   ]
  },
  {
   "cell_type": "code",
   "execution_count": 40,
   "metadata": {},
   "outputs": [],
   "source": [
    "train_loss, val_loss = training(num_epochs, train_iter, test_iter, optimizer, loss_fn, model)"
   ]
  },
  {
   "cell_type": "code",
   "execution_count": 41,
   "metadata": {},
   "outputs": [
    {
     "data": {
      "image/png": "[encoded data removed]",
      "text/plain": [
       "<Figure size 720x432 with 1 Axes>"
      ]
     },
     "metadata": {
      "needs_background": "light"
     },
     "output_type": "display_data"
    }
   ],
   "source": [
    "plt.figure(figsize=(10, 6))\n",
    "plt.plot(train_loss, label=\"Training\")\n",
    "plt.plot(val_loss, label=\"Testing\")\n",
    "plt.xlabel(\"Epoch\")\n",
    "plt.ylabel(\"MSE\")\n",
    "plt.legend()\n",
    "plt.show()"
   ]
  },
  {
   "cell_type": "markdown",
   "metadata": {},
   "source": [
    "## Inference"
   ]
  },
  {
   "cell_type": "code",
   "execution_count": 42,
   "metadata": {},
   "outputs": [],
   "source": [
    "# make predictions\n",
    "y_train_prediction = model(trainX)\n",
    "y_test_prediction = model(testX)"
   ]
  },
  {
   "cell_type": "code",
   "execution_count": 43,
   "metadata": {},
   "outputs": [],
   "source": [
    "# Reshape to original data\n",
    "y_train_prediction = torch.reshape(y_train_prediction, (y_train_prediction.shape[0], y_train_prediction.shape[1]))\n",
    "trainY = torch.reshape(trainY, (trainY.shape[0], trainY.shape[1]))\n",
    "y_test_prediction = torch.reshape(y_test_prediction, (y_test_prediction.shape[0], y_test_prediction.shape[1]))\n",
    "testY = torch.reshape(testY, (testY.shape[0], testY.shape[1]))"
   ]
  },
  {
   "cell_type": "code",
   "execution_count": 44,
   "metadata": {},
   "outputs": [],
   "source": [
    "# Invert predictions\n",
    "y_train_prediction = scaler.inverse_transform(y_train_prediction.detach().numpy())\n",
    "y_train = scaler.inverse_transform(trainY.detach().numpy())\n",
    "y_test_prediction = scaler.inverse_transform(y_test_prediction.detach().numpy())\n",
    "y_test = scaler.inverse_transform(testY.detach().numpy())"
   ]
  },
  {
   "cell_type": "code",
   "execution_count": 45,
   "metadata": {},
   "outputs": [
    {
     "name": "stdout",
     "output_type": "stream",
     "text": [
      "[310. 320.]\t\t[315.2844  321.11963]\n",
      "[320. 330.]\t\t[323.58014 329.0546 ]\n",
      "[330. 340.]\t\t[332.02872 337.0963 ]\n",
      "[340. 350.]\t\t[340.55728 345.2829 ]\n",
      "[350. 360.]\t\t[349.1671  353.66266]\n",
      "[360. 370.]\t\t[357.72968 362.05292]\n",
      "[370. 380.]\t\t[366.27515 370.36615]\n",
      "[380. 390.]\t\t[374.32474 378.1254 ]\n"
     ]
    }
   ],
   "source": [
    "for i in range(len(y_test_prediction)):\n",
    "    print(f\"{y_test[i]}\\t\\t{y_test_prediction[i]}\")"
   ]
  },
  {
   "cell_type": "code",
   "execution_count": 46,
   "metadata": {},
   "outputs": [
    {
     "name": "stdout",
     "output_type": "stream",
     "text": [
      "Train Score: 10.82 RMSE\n",
      "Test Score: 3.48 RMSE\n"
     ]
    }
   ],
   "source": [
    "# calculate root mean squared error\n",
    "trainScore = math.sqrt(mean_squared_error(y_train[:,0], y_train_prediction[:,0]))\n",
    "print('Train Score: %.2f RMSE' % (trainScore))\n",
    "testScore = math.sqrt(mean_squared_error(y_test[:,0], y_test_prediction[:,0]))\n",
    "print('Test Score: %.2f RMSE' % (testScore))"
   ]
  },
  {
   "cell_type": "markdown",
   "metadata": {},
   "source": [
    "## Exercise for Univariate (Solution)"
   ]
  },
  {
   "cell_type": "code",
   "execution_count": 149,
   "metadata": {},
   "outputs": [
    {
     "data": {
      "text/plain": [
       "<torch._C.Generator at 0x1d99d40d5b0>"
      ]
     },
     "execution_count": 149,
     "metadata": {},
     "output_type": "execute_result"
    }
   ],
   "source": [
    "#Hyperparameter\n",
    "num_epochs_shampoo = 120\n",
    "split_ratio = 0.70\n",
    "n_step_shampoo = 2\n",
    "batch_size_shampoo = 1\n",
    "window_size_shampoo = 3\n",
    "learing_rate_shampoo = 0.001\n",
    "\n",
    "#seed\n",
    "torch.manual_seed(123)"
   ]
  },
  {
   "cell_type": "code",
   "execution_count": 150,
   "metadata": {},
   "outputs": [
    {
     "data": {
      "text/plain": [
       "0    266.0\n",
       "1    145.9\n",
       "2    183.1\n",
       "3    119.3\n",
       "4    180.3\n",
       "Name: sales, dtype: float64"
      ]
     },
     "execution_count": 150,
     "metadata": {},
     "output_type": "execute_result"
    }
   ],
   "source": [
    "shampoo = pd.read_csv(r'C:\\Users\\boonkai.yeoh\\Desktop\\shampoo-sales.csv')\n",
    "# shampoo = pd.read_csv('../datasets/others/shampoo-sales.csv')\n",
    "shampoo_ts =shampoo['sales']\n",
    "shampoo_ts.head()"
   ]
  },
  {
   "cell_type": "code",
   "execution_count": 151,
   "metadata": {},
   "outputs": [
    {
     "data": {
      "text/plain": [
       "25"
      ]
     },
     "execution_count": 151,
     "metadata": {},
     "output_type": "execute_result"
    }
   ],
   "source": [
    "#split data by indexing \n",
    "split_data = round(len(shampoo_ts)*split_ratio)\n",
    "split_data"
   ]
  },
  {
   "cell_type": "code",
   "execution_count": 152,
   "metadata": {},
   "outputs": [
    {
     "name": "stdout",
     "output_type": "stream",
     "text": [
      "train_data_shampoo_shape\n",
      "(25,)\n",
      "test_data_shampoo_shape\n",
      "(11,)\n"
     ]
    }
   ],
   "source": [
    "train_data_shampoo = shampoo_ts[:split_data]\n",
    "test_data_shampoo = shampoo_ts[split_data:]\n",
    "train_time = shampoo_ts.index[:split_data]\n",
    "test_time = shampoo_ts.index[split_data:]\n",
    "print(\"train_data_shampoo_shape\")\n",
    "print(train_data_shampoo.shape)\n",
    "print(\"test_data_shampoo_shape\")\n",
    "print(test_data_shampoo.shape)"
   ]
  },
  {
   "cell_type": "code",
   "execution_count": 153,
   "metadata": {},
   "outputs": [
    {
     "data": {
      "text/plain": [
       "array([[-0.82401588],\n",
       "       [-0.57790275],\n",
       "       [-1.        ],\n",
       "       [-0.59642739],\n",
       "       [-0.67449553]])"
      ]
     },
     "execution_count": 153,
     "metadata": {},
     "output_type": "execute_result"
    }
   ],
   "source": [
    "#Data Normalization\n",
    "\n",
    "#Reshape before normalize\n",
    "train_data_shampoo = train_data_shampoo.values.reshape(-1, 1)\n",
    "test_data_shampoo = test_data_shampoo.values.reshape((-1, 1))\n",
    "\n",
    "#Build Scaler\n",
    "scaler = MinMaxScaler(feature_range=(-1, 1))\n",
    "train_data_normalized_shampoo = scaler.fit_transform(train_data_shampoo)\n",
    "\n",
    "test_data_normalized_shampoo = scaler.fit_transform(test_data_shampoo)\n",
    "train_data_normalized_shampoo[1:6]"
   ]
  },
  {
   "cell_type": "code",
   "execution_count": 154,
   "metadata": {},
   "outputs": [
    {
     "name": "stdout",
     "output_type": "stream",
     "text": [
      "trainX shape:(21, 3, 1) trainY shape:(21, 2, 1)\n",
      "\n",
      "testX shape:(7, 3, 1) testY shape:(7, 2, 1)\n"
     ]
    }
   ],
   "source": [
    "#Data Sequencing \n",
    "trainX_shampoo ,trainY_shampoo =  univariate_multi_step(train_data_normalized_shampoo,window_size_shampoo,n_step_shampoo)\n",
    "testX_shampoo , testY_shampoo = univariate_multi_step(test_data_normalized_shampoo,window_size_shampoo,n_step_shampoo)\n",
    "print(f\"trainX shape:{trainX_shampoo.shape} trainY shape:{trainY_shampoo.shape}\\n\")\n",
    "print(f\"testX shape:{testX_shampoo.shape} testY shape:{testY_shampoo.shape}\")"
   ]
  },
  {
   "cell_type": "code",
   "execution_count": 155,
   "metadata": {},
   "outputs": [
    {
     "name": "stdout",
     "output_type": "stream",
     "text": [
      "trainX shape:torch.Size([21, 3, 1]) trainY shape:torch.Size([21, 2, 1])\n",
      "\n",
      "testX shape:torch.Size([7, 3, 1]) testX shape:torch.Size([7, 2, 1])\n"
     ]
    }
   ],
   "source": [
    "#Transfrom numpy to Pytorch tensor\n",
    "trainX_shampoo = torch.from_numpy(trainX_shampoo).type(torch.Tensor)\n",
    "trainY_shampoo = torch.from_numpy(trainY_shampoo).type(torch.Tensor)\n",
    "testX_shampoo = torch.from_numpy(testX_shampoo).type(torch.Tensor)\n",
    "testY_shampoo = torch.from_numpy(testY_shampoo).type(torch.Tensor)\n",
    "print(f\"trainX shape:{trainX_shampoo.shape} trainY shape:{trainY_shampoo.shape}\\n\")\n",
    "print(f\"testX shape:{testX_shampoo.shape} testX shape:{testY_shampoo.shape}\")"
   ]
  },
  {
   "cell_type": "code",
   "execution_count": 156,
   "metadata": {},
   "outputs": [
    {
     "name": "stdout",
     "output_type": "stream",
     "text": [
      "after transpose trainX shape:torch.Size([24, 1, 3]) trainY shape:torch.Size([24, 2])\n",
      "\n",
      "after transpose shape:torch.Size([8, 1, 3]) testY shape:torch.Size([8, 2])\n"
     ]
    }
   ],
   "source": [
    "# Data Transpose to suit for CNN \n",
    "trainX_shampoo = torch.transpose(trainX_shampoo, 1, 2)\n",
    "testX_shampoo= torch.transpose(testX_shampoo, 1, 2)\n",
    "\n",
    "print(f\"after transpose trainX shape:{trainX.shape} trainY shape:{trainY.shape}\\n\")\n",
    "print(f\"after transpose shape:{testX.shape} testY shape:{testY.shape}\")"
   ]
  },
  {
   "cell_type": "code",
   "execution_count": 157,
   "metadata": {},
   "outputs": [],
   "source": [
    "# Create Iterator\n",
    "train_dataset_shampoo = TensorDataset(trainX_shampoo, trainY_shampoo)\n",
    "train_iter_shampoo = DataLoader(train_dataset_shampoo,batch_size=batch_size_shampoo,shuffle=False)\n",
    "\n",
    "test_dataset_shampoo = TensorDataset(testX_shampoo, testY_shampoo)\n",
    "test_iter_shampoo = DataLoader(test_dataset_shampoo,batch_size=batch_size_shampoo,shuffle=False)"
   ]
  },
  {
   "cell_type": "code",
   "execution_count": 158,
   "metadata": {},
   "outputs": [
    {
     "name": "stdout",
     "output_type": "stream",
     "text": [
      "CNN_Multistep(\n",
      "  (conv1): Conv1d(1, 64, kernel_size=(2,), stride=(1,))\n",
      "  (poo1): MaxPool1d(kernel_size=2, stride=2, padding=0, dilation=1, ceil_mode=False)\n",
      "  (fc1): Linear(in_features=64, out_features=50, bias=True)\n",
      "  (fc2): Linear(in_features=50, out_features=2, bias=True)\n",
      ")\n"
     ]
    }
   ],
   "source": [
    "model_shampoo = CNN_Multistep(timeseries=trainX_shampoo.shape[1], n_step=n_step_shampoo)\n",
    "print(model_shampoo.eval())\n",
    "optimiser_shampoo = torch.optim.Adam(model_shampoo.parameters(), lr=learing_rate_shampoo)\n",
    "loss_fn_shampoo = nn.MSELoss()"
   ]
  },
  {
   "cell_type": "code",
   "execution_count": 159,
   "metadata": {},
   "outputs": [
    {
     "data": {
      "text/plain": [
       "CNN_Multistep(\n",
       "  (conv1): Conv1d(1, 64, kernel_size=(2,), stride=(1,))\n",
       "  (poo1): MaxPool1d(kernel_size=2, stride=2, padding=0, dilation=1, ceil_mode=False)\n",
       "  (fc1): Linear(in_features=64, out_features=50, bias=True)\n",
       "  (fc2): Linear(in_features=50, out_features=2, bias=True)\n",
       ")"
      ]
     },
     "execution_count": 159,
     "metadata": {},
     "output_type": "execute_result"
    }
   ],
   "source": [
    "def weights_init(m):\n",
    "    if isinstance(m, nn.Conv1d):\n",
    "        nn.init.xavier_uniform_(m.weight.data)\n",
    "        \n",
    "model_shampoo.apply(weights_init)"
   ]
  },
  {
   "cell_type": "code",
   "execution_count": 160,
   "metadata": {},
   "outputs": [],
   "source": [
    "train_loss_shampoo,val_loss_shampoo = training(num_epochs_shampoo,train_iter_shampoo,test_iter_shampoo,optimiser_shampoo,loss_fn_shampoo,model_shampoo)"
   ]
  },
  {
   "cell_type": "code",
   "execution_count": 161,
   "metadata": {},
   "outputs": [
    {
     "data": {
      "image/png": "[encoded data removed]",
      "text/plain": [
       "<Figure size 720x432 with 1 Axes>"
      ]
     },
     "metadata": {
      "needs_background": "light"
     },
     "output_type": "display_data"
    }
   ],
   "source": [
    "plt.figure(figsize=(10,6))\n",
    "plt.plot(train_loss_shampoo, label=\"Training loss\")\n",
    "plt.plot(val_loss_shampoo, label=\"Testing loss\")\n",
    "plt.xlabel(\"Epoch_shampoo\")\n",
    "plt.ylabel(\"MSE_shampoo\")\n",
    "plt.legend()\n",
    "plt.show()"
   ]
  },
  {
   "cell_type": "code",
   "execution_count": 163,
   "metadata": {},
   "outputs": [
    {
     "data": {
      "image/png": "[encoded data removed]",
      "text/plain": [
       "<Figure size 720x432 with 1 Axes>"
      ]
     },
     "metadata": {
      "needs_background": "light"
     },
     "output_type": "display_data"
    }
   ],
   "source": [
    "# Zoom in by fill in start_epoch and end_epoch\n",
    "start_epoch = 100\n",
    "end_epoch = 120\n",
    "plt.figure(figsize=(10,6))\n",
    "plt.plot(train_loss_shampoo[start_epoch:end_epoch], label=\"Training loss\")\n",
    "plt.plot(val_loss_shampoo[start_epoch:end_epoch], label=\"Testing loss\")\n",
    "plt.title(\"Losses\")\n",
    "plt.xlabel(\"Epoch_Demand\")\n",
    "plt.ylabel(\"MSE_Demand\")\n",
    "position=range(end_epoch-start_epoch)\n",
    "labels=range(start_epoch,end_epoch)\n",
    "plt.xticks(position, labels)\n",
    "plt.legend()\n",
    "plt.show()"
   ]
  },
  {
   "cell_type": "code",
   "execution_count": 167,
   "metadata": {},
   "outputs": [],
   "source": [
    "#Make predictions\n",
    "with torch.no_grad():\n",
    "    y_train_prediction_shampoo= model_shampoo(trainX_shampoo)\n",
    "    y_test_prediction_shampoo= model_shampoo(testX_shampoo)\n",
    "\n",
    "#Reshape to original data\n",
    "y_train_prediction_shampoo = torch.reshape(y_train_prediction_shampoo,(y_train_prediction_shampoo.shape[0],y_train_prediction_shampoo.shape[1]))\n",
    "trainY_shampoo = torch.reshape(trainY_shampoo,(trainY_shampoo.shape[0],trainY_shampoo.shape[1]))\n",
    "y_test_prediction_shampoo = torch.reshape(y_test_prediction_shampoo,(y_test_prediction_shampoo.shape[0],y_test_prediction_shampoo.shape[1]))\n",
    "testY_shampoo = torch.reshape(testY_shampoo,(testY_shampoo.shape[0],testY_shampoo.shape[1]))"
   ]
  },
  {
   "cell_type": "code",
   "execution_count": 168,
   "metadata": {},
   "outputs": [],
   "source": [
    "#Invert predictions\n",
    "y_train_pred_shampoo = scaler.inverse_transform(y_train_prediction_shampoo.detach().numpy())\n",
    "y_train_shampoo = scaler.inverse_transform(trainY_shampoo.detach().numpy())\n",
    "y_test_pred_shampoo = scaler.inverse_transform(y_test_prediction_shampoo.detach().numpy())\n",
    "y_test_shampoo = scaler.inverse_transform(testY_shampoo.detach().numpy())"
   ]
  },
  {
   "cell_type": "code",
   "execution_count": 169,
   "metadata": {},
   "outputs": [
    {
     "name": "stdout",
     "output_type": "stream",
     "text": [
      "[401.30002 437.4    ]\t\t[377.42908 381.259  ]\n",
      "[437.4 575.5]\t\t[398.56326 399.45346]\n",
      "[575.5     407.60004]\t\t[445.40906 464.09662]\n",
      "[407.60004 682.     ]\t\t[542.7855  548.20465]\n",
      "[682.  475.3]\t\t[532.65784 566.5082 ]\n",
      "[475.3 581.3]\t\t[560.745  554.8669]\n",
      "[581.3 646.9]\t\t[567.1936 536.2129]\n"
     ]
    }
   ],
   "source": [
    "for i in range(len(y_test_shampoo)):\n",
    "    print(f\"{y_test_shampoo[i]}\\t\\t{y_test_pred_shampoo[i]}\")"
   ]
  },
  {
   "cell_type": "code",
   "execution_count": 170,
   "metadata": {},
   "outputs": [
    {
     "name": "stdout",
     "output_type": "stream",
     "text": [
      "Train Score: 61.78 RMSE\n",
      "Test Score: 97.89 RMSE\n"
     ]
    }
   ],
   "source": [
    "#calculate root mean squared error\n",
    "trainScore_shampoo = math.sqrt(mean_squared_error(y_train_shampoo[:,0], y_train_pred_shampoo[:,0]))\n",
    "print('Train Score: %.2f RMSE' % (trainScore_shampoo))\n",
    "testScore_shampoo = math.sqrt(mean_squared_error(y_test_shampoo[:,0], y_test_pred_shampoo[:,0]))\n",
    "print('Test Score: %.2f RMSE' % (testScore_shampoo))"
   ]
  },
  {
   "cell_type": "markdown",
   "metadata": {},
   "source": [
    "## Plot Explanation\n",
    "- Blue Line-Indicate as test data before sequencing\n",
    "- Green Line-Indicate as the testY data after sequencing\n",
    "- Red Line-Indicate as the predicted testY data (Forecast) after sequencing \n",
    "\n",
    "Window size = 4 , hence the time need start from +3 due to taking 3 data point as x-feature.\n",
    "\n",
    "- **x-feature = window size -1**\n",
    "\n",
    "[ time+3,time+4 ] - This is because n_step_demand = 2 .If n_step_demand = 3 ,[ time+3,time+4,time_5 ] is need"
   ]
  },
  {
   "cell_type": "code",
   "execution_count": 171,
   "metadata": {},
   "outputs": [
    {
     "data": {
      "image/png": "[encoded data removed]",
      "text/plain": [
       "<Figure size 720x432 with 1 Axes>"
      ]
     },
     "metadata": {
      "needs_background": "light"
     },
     "output_type": "display_data"
    }
   ],
   "source": [
    "# Plot testY and predictionY data\n",
    "plt.figure(figsize=(10,6))\n",
    "\n",
    "for time in range(len(y_test_shampoo)):\n",
    "        TestY_data=[y_test_shampoo[time][0],y_test_shampoo[time][1]]\n",
    "        plt.plot([time+window_size_shampoo,time+window_size_shampoo+1],TestY_data,color=\"green\",marker='o',label='TestY')\n",
    "    \n",
    "        text_prediction_data=[y_test_pred_shampoo[time][0],y_test_pred_shampoo[time][1]]\n",
    "        plt.plot([time+window_size_shampoo,time+window_size_shampoo+1], text_prediction_data,color=\"red\",marker='o',label='Forecast')"
   ]
  },
  {
   "cell_type": "code",
   "execution_count": 172,
   "metadata": {},
   "outputs": [
    {
     "data": {
      "text/plain": [
       "<matplotlib.legend.Legend at 0x1d9aa0303c8>"
      ]
     },
     "execution_count": 172,
     "metadata": {},
     "output_type": "execute_result"
    },
    {
     "data": {
      "image/png": "[encoded data removed]",
      "text/plain": [
       "<Figure size 720x432 with 1 Axes>"
      ]
     },
     "metadata": {
      "needs_background": "light"
     },
     "output_type": "display_data"
    }
   ],
   "source": [
    "# Plot Original Test Data\n",
    "plt.figure(figsize=(10,6))\n",
    "plt.plot(test_time,test_data_shampoo,marker='x',color=\"blue\",label=\"Test Data Before Sequencing\")\n",
    "plt.legend()"
   ]
  },
  {
   "cell_type": "code",
   "execution_count": 173,
   "metadata": {},
   "outputs": [
    {
     "data": {
      "image/png": "[encoded data removed]",
      "text/plain": [
       "<Figure size 720x432 with 1 Axes>"
      ]
     },
     "metadata": {
      "needs_background": "light"
     },
     "output_type": "display_data"
    }
   ],
   "source": [
    "# Plot orginal test data , testY and predict testY after sequencing \n",
    "plt.figure(figsize=(10,6))\n",
    "position = range(len(test_data_shampoo))\n",
    "label=test_time\n",
    "plt.xticks(position, label)\n",
    "plt.plot(test_data_shampoo[:,-1],marker='x',color=\"blue\",label=\"Test Data Before Sequencing\")\n",
    "plt.xlabel(\"Time\")\n",
    "plt.ylabel(\"Sales\")\n",
    "\n",
    "for time in range(len(y_test_shampoo)):\n",
    "        TestY_data=[y_test_shampoo[time][0],y_test_shampoo[time][1]]\n",
    "        plt.plot([time+window_size_shampoo,time+window_size_shampoo+1],TestY_data,color=\"green\",marker='o',label='TestY')\n",
    "    \n",
    "        text_prediction_data=[y_test_pred_shampoo[time][0],y_test_pred_shampoo[time][1]]\n",
    "        plt.plot([time+window_size_shampoo,time+window_size_shampoo+1], text_prediction_data,color=\"red\",marker='o',label='Forecast')"
   ]
  },
  {
   "cell_type": "markdown",
   "metadata": {},
   "source": [
    "## Reference\n",
    "1. https://machinelearningmastery.com/multi-step-time-series-forecasting-long-short-term-memory-networks-python/\n",
    "2. Deep Learning for Time Series Forecasting (Predict the Future with MLPs,CNNs and LSTMs in Python) , Jason Brownlee"
   ]
  }
 ],
 "metadata": {
  "kernelspec": {
   "display_name": "Python 3",
   "language": "python",
   "name": "python3"
  },
  "language_info": {
   "codemirror_mode": {
    "name": "ipython",
    "version": 3
   },
   "file_extension": ".py",
   "mimetype": "text/x-python",
   "name": "python",
   "nbconvert_exporter": "python",
   "pygments_lexer": "ipython3",
   "version": "3.7.9"
  }
 },
 "nbformat": 4,
 "nbformat_minor": 4
}
