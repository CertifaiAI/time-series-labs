{
 "cells": [
  {
   "cell_type": "markdown",
   "metadata": {
    "deletable": false,
    "editable": false
   },
   "source": [
    "![logo](../../picture/license_logo.png)\n",
    "> **Copyright &copy; 2020 - 2021 CertifAI Sdn. Bhd.**<br>\n",
    " <br>\n",
    "This program and the accompanying materials are made available under the\n",
    "terms of the [Apache License, Version 2.0](https://www.apache.org/licenses/LICENSE-2.0). \\\n",
    "Unless required by applicable law or agreed to in writing, software\n",
    "distributed under the License is distributed on an \"AS IS\" BASIS, WITHOUT\n",
    "WARRANTIES OR CONDITIONS OF ANY KIND, either express or implied. See the\n",
    "License for the specific language governing permissions and limitations\n",
    "under the License. <br>\n",
    "<br>**SPDX-License-Identifier: Apache-2.0**"
   ]
  },
  {
   "cell_type": "markdown",
   "metadata": {},
   "source": [
    "# Requirement\n",
    "You should complete the LSTM tutorial before starting the CNN tutorial. This is because most of the functions used will be based on `data_module.py` and `deep_learning_module.py`\n",
    "\n",
    "Please proceed to the LSTM notebook if you haven't complete it yet.<br>\n",
    "\n",
    "1. [04 - LSTM_Univariate_SingleStep](./04%20-%20LSTM_Univariate_SingleStep.ipynb)\n",
    "2. [04 - LSTM_Univariate_MultiStep.ipynb](./04%20-%20LSTM_Univariate_MultiStep.ipynb)\n",
    "3. [04 - LSTM_Multivariate_Univariate_SingleStep](./04%20-%20LSTM_Multivariate_Univariate_SingleStep.ipynb)<br>\n",
    "4. [04 - LSTM_Multivariate_Univariate_MultiStep](./04%20-%20LSTM_Multivariate_Univariate_MultiStep.ipynb)<br>"
   ]
  },
  {
   "cell_type": "markdown",
   "metadata": {},
   "source": [
    "## Multivariate Input, Univariate Output CNN, Single Step\n",
    "This tutorial is to demonstrate the process in build CNN for Multivariate Input, Univariate Output  for Single Step. <br>\n",
    "\n",
    "It consists of 2 major parts which are :\n",
    "\n",
    "Part 1 - The Demonstration of Building CNN using Synthetic data <br>\n",
    "Part 2 - Exercise of building CNN using COVID-19 Data.<br>\n",
    "\n",
    "\n",
    "## What will we accomplish?\n",
    "First, we will show the step in building the CNN :\n",
    "\n",
    "Step 1. Data Preparation (Data Splitting,Data Sequencing,Data Standardization and Batching the Data) <br>\n",
    "Step 2. Model Configuration for CNN<br>\n",
    "Step 3. Train the model<br>\n",
    "Step 4. Validate the model using graph<br>\n",
    "Step 5. Evaluation Metrics such as MSE<br>\n",
    "Step 6. Plot the forecast result<br>\n",
    "\n",
    "Let's import the package needed"
   ]
  },
  {
   "cell_type": "code",
   "execution_count": 1,
   "metadata": {},
   "outputs": [],
   "source": [
    "# import packages needed\n",
    "import numpy as np\n",
    "import pandas as pd\n",
    "import matplotlib.pyplot as plt\n",
    "import torch\n",
    "import torch.nn as nn\n",
    "import torch.nn.functional as F\n",
    "from torch.utils.data import DataLoader, TensorDataset\n",
    "from sklearn.metrics import mean_squared_error\n",
    "from sklearn.preprocessing import StandardScaler , MinMaxScaler\n",
    "import math\n",
    "from torchsummaryX import summary\n",
    "\n",
    "# To auto load the customise module\n",
    "%load_ext autoreload\n",
    "%autoreload 2\n",
    "import deep_learning_module\n",
    "import data_module"
   ]
  },
  {
   "cell_type": "markdown",
   "metadata": {},
   "source": [
    "# Part 1 : Demonstration of Building CNN using Synthetic data\n",
    "\n",
    "## Hyperparameter\n",
    "Define the hyperparameter that is needed to tune the model."
   ]
  },
  {
   "cell_type": "code",
   "execution_count": 2,
   "metadata": {},
   "outputs": [],
   "source": [
    "split_ratio = 0.70\n",
    "num_epochs = 200\n",
    "window_size = 10\n",
    "batch_size = 5\n",
    "n_step = 1\n",
    "learning_rate = 0.001"
   ]
  },
  {
   "cell_type": "markdown",
   "metadata": {},
   "source": [
    "# Step 1 : Data Preparation\n",
    "We create synthetic data to make sure the model is created correctly and having the ability to perform the forecasting. <br>\n",
    "\n",
    "1. First, we will create a sequence of data with `np.array`.\n",
    "2. Then, we will assign a date to the sequence of data with `pd.date_range` and store it in a series format by using `pd.Series`."
   ]
  },
  {
   "cell_type": "code",
   "execution_count": 3,
   "metadata": {},
   "outputs": [],
   "source": [
    "in_seq1 = np.array([x for x in range(0, 400, 10)])\n",
    "in_seq2 = np.array([x for x in range(5, 405, 10)])\n",
    "out_seq = np.array([in_seq1[i] + in_seq2[i] for i in range(len(in_seq1))])\n",
    "\n",
    "# convert to [rows, columns] structure\n",
    "in_seq1 = in_seq1.reshape((len(in_seq1), 1))\n",
    "in_seq2 = in_seq2.reshape((len(in_seq2), 1))\n",
    "out_seq = out_seq.reshape((len(out_seq), 1))\n",
    "\n",
    "# horizontally stack columns\n",
    "dataset = np.hstack((in_seq1, in_seq2, out_seq))"
   ]
  },
  {
   "cell_type": "code",
   "execution_count": 4,
   "metadata": {},
   "outputs": [
    {
     "data": {
      "text/html": [
       "<div>\n",
       "<style scoped>\n",
       "    .dataframe tbody tr th:only-of-type {\n",
       "        vertical-align: middle;\n",
       "    }\n",
       "\n",
       "    .dataframe tbody tr th {\n",
       "        vertical-align: top;\n",
       "    }\n",
       "\n",
       "    .dataframe thead th {\n",
       "        text-align: right;\n",
       "    }\n",
       "</style>\n",
       "<table border=\"1\" class=\"dataframe\">\n",
       "  <thead>\n",
       "    <tr style=\"text-align: right;\">\n",
       "      <th></th>\n",
       "      <th>in_seq1</th>\n",
       "      <th>in_seq2</th>\n",
       "      <th>out_seq</th>\n",
       "    </tr>\n",
       "    <tr>\n",
       "      <th>Date</th>\n",
       "      <th></th>\n",
       "      <th></th>\n",
       "      <th></th>\n",
       "    </tr>\n",
       "  </thead>\n",
       "  <tbody>\n",
       "    <tr>\n",
       "      <th>2020-01-01</th>\n",
       "      <td>0</td>\n",
       "      <td>5</td>\n",
       "      <td>5</td>\n",
       "    </tr>\n",
       "    <tr>\n",
       "      <th>2020-01-02</th>\n",
       "      <td>10</td>\n",
       "      <td>15</td>\n",
       "      <td>25</td>\n",
       "    </tr>\n",
       "    <tr>\n",
       "      <th>2020-01-03</th>\n",
       "      <td>20</td>\n",
       "      <td>25</td>\n",
       "      <td>45</td>\n",
       "    </tr>\n",
       "    <tr>\n",
       "      <th>2020-01-04</th>\n",
       "      <td>30</td>\n",
       "      <td>35</td>\n",
       "      <td>65</td>\n",
       "    </tr>\n",
       "    <tr>\n",
       "      <th>2020-01-05</th>\n",
       "      <td>40</td>\n",
       "      <td>45</td>\n",
       "      <td>85</td>\n",
       "    </tr>\n",
       "  </tbody>\n",
       "</table>\n",
       "</div>"
      ],
      "text/plain": [
       "            in_seq1  in_seq2  out_seq\n",
       "Date                                 \n",
       "2020-01-01        0        5        5\n",
       "2020-01-02       10       15       25\n",
       "2020-01-03       20       25       45\n",
       "2020-01-04       30       35       65\n",
       "2020-01-05       40       45       85"
      ]
     },
     "execution_count": 4,
     "metadata": {},
     "output_type": "execute_result"
    }
   ],
   "source": [
    "dataset = pd.DataFrame(dataset,columns =[\"in_seq1\",\"in_seq2\",\"out_seq\"],\n",
    "                      index = pd.date_range(\"1/1/2020\",periods=len(dataset),freq='D'))\n",
    "dataset.index.name=\"Date\"\n",
    "dataset.head()"
   ]
  },
  {
   "cell_type": "markdown",
   "metadata": {},
   "source": [
    "## Data Visualization\n",
    "Data visualization is important for us to visualize the pattern of data such as trend and seasonality. As seen in the graph below, there is an increasing trend in data."
   ]
  },
  {
   "cell_type": "code",
   "execution_count": 5,
   "metadata": {},
   "outputs": [
    {
     "data": {
      "text/plain": [
       "Text(0.5, 1.0, 'Synthetic Data')"
      ]
     },
     "execution_count": 5,
     "metadata": {},
     "output_type": "execute_result"
    },
    {
     "data": {
      "image/png": "[encoded data removed]",
      "text/plain": [
       "<Figure size 432x288 with 1 Axes>"
      ]
     },
     "metadata": {
      "needs_background": "light"
     },
     "output_type": "display_data"
    }
   ],
   "source": [
    "dataset.plot()\n",
    "plt.title(\"Synthetic Data\")"
   ]
  },
  {
   "cell_type": "markdown",
   "metadata": {},
   "source": [
    "## Data Splitting\n",
    "In Deep Learning, we will split the data into training and test dataset. The training data is used to train the model where the test data is used to validate the performance of the model."
   ]
  },
  {
   "cell_type": "code",
   "execution_count": 6,
   "metadata": {},
   "outputs": [
    {
     "data": {
      "text/plain": [
       "28"
      ]
     },
     "execution_count": 6,
     "metadata": {},
     "output_type": "execute_result"
    }
   ],
   "source": [
    "# Calculate the split ratio \n",
    "split_data = round(len(dataset)*split_ratio)\n",
    "split_data"
   ]
  },
  {
   "cell_type": "code",
   "execution_count": 7,
   "metadata": {},
   "outputs": [
    {
     "name": "stdout",
     "output_type": "stream",
     "text": [
      "train_data_shape\n",
      "(28, 3)\n",
      "test_data_shape\n",
      "(12, 3)\n"
     ]
    }
   ],
   "source": [
    "# Split data by indexing \n",
    "train_data = dataset[:split_data]\n",
    "test_data = dataset[split_data:]\n",
    "train_time = dataset.index[:split_data]\n",
    "test_time = dataset.index[split_data:]\n",
    "print(\"train_data_shape\")\n",
    "print(train_data.shape)\n",
    "print(\"test_data_shape\")\n",
    "print(test_data.shape)"
   ]
  },
  {
   "cell_type": "markdown",
   "metadata": {},
   "source": [
    "## Data Standardization\n",
    "Standardize your numeric attributes to have 0 mean and unit variance.\n"
   ]
  },
  {
   "cell_type": "code",
   "execution_count": 8,
   "metadata": {},
   "outputs": [],
   "source": [
    "# Build the standard scaler, Use to fit the train data and take the statistic of train data apply in test data\n",
    "scaler = StandardScaler().fit(train_data.values.reshape(-1,1))\n",
    "train_data_standard = scaler.transform(train_data.values.reshape(-1, 1))\n",
    "test_data_standard = scaler.transform(test_data.values.reshape(-1, 1))"
   ]
  },
  {
   "cell_type": "code",
   "execution_count": 9,
   "metadata": {},
   "outputs": [
    {
     "name": "stdout",
     "output_type": "stream",
     "text": [
      "test_data_standardlized(28, 3)\n",
      "test_data_standardlized(12, 3)\n"
     ]
    }
   ],
   "source": [
    "# transform after scaling\n",
    "train_data_standard  = train_data_standard.reshape(train_data.shape[0], train_data.shape[1])\n",
    "print(\"test_data_standardlized\" + str(train_data_standard .shape))\n",
    "\n",
    "test_data_standard = test_data_standard.reshape(test_data.shape[0], test_data.shape[1])\n",
    "print(\"test_data_standardlized\" + str(test_data_standard.shape))"
   ]
  },
  {
   "cell_type": "markdown",
   "metadata": {},
   "source": [
    "## Data Sequencing\n",
    "Sequencing the data by taking in the multivariate series into `x-feature` and `y-label`\n",
    "<img src = \"../../picture/multivariate univariate.png\"  width=\"300\" height  =\"300\" align=\"center\" />"
   ]
  },
  {
   "cell_type": "code",
   "execution_count": 10,
   "metadata": {},
   "outputs": [
    {
     "name": "stdout",
     "output_type": "stream",
     "text": [
      "trainX shape:(19, 10, 2) trainY shape:(19,)\n",
      "\n",
      "testX shape:(3, 10, 2) testY shape:(3,)\n"
     ]
    }
   ],
   "source": [
    "trainX, trainY = data_module.multivariate_univariate_single_step(train_data_standard, window_size)\n",
    "testX, testY = data_module.multivariate_univariate_single_step(test_data_standard, window_size)\n",
    "print(f\"trainX shape:{trainX.shape} trainY shape:{trainY.shape}\\n\")\n",
    "print(f\"testX shape:{testX.shape} testY shape:{testY.shape}\")"
   ]
  },
  {
   "cell_type": "code",
   "execution_count": 11,
   "metadata": {},
   "outputs": [
    {
     "name": "stdout",
     "output_type": "stream",
     "text": [
      "trainY shape:(19, 1, 1)\n",
      "testY shape:(3, 1, 1)\n"
     ]
    }
   ],
   "source": [
    "trainY = trainY.reshape(trainY.shape[0],n_step,1)\n",
    "testY = testY.reshape(testY.shape[0],n_step,1)\n",
    "print(f\"trainY shape:{trainY.shape}\")\n",
    "print(f\"testY shape:{testY.shape}\")"
   ]
  },
  {
   "cell_type": "markdown",
   "metadata": {},
   "source": [
    "## Data Transform\n",
    "Data needs to transformed from `NumPy` to `PyTorch` tensor before being fed into the model"
   ]
  },
  {
   "cell_type": "code",
   "execution_count": 12,
   "metadata": {},
   "outputs": [],
   "source": [
    "train_data_dict ,test_data_dict = data_module.key_assign(trainingX = trainX  , \n",
    "                       testingX = testX, \n",
    "                       trainingY = trainY, \n",
    "                       testingY = testY)\n",
    "train_data_dict ,test_data_dict = data_module.transform(train_data_dict ,test_data_dict)"
   ]
  },
  {
   "cell_type": "code",
   "execution_count": 13,
   "metadata": {},
   "outputs": [
    {
     "name": "stdout",
     "output_type": "stream",
     "text": [
      "train_data_x_feature shape : torch.Size([19, 10, 2])\n",
      "train_data_y_label shape : torch.Size([19, 1, 1])\n",
      "test_data_x_feature shape : torch.Size([3, 10, 2])\n",
      "test_data_y_label shape : torch.Size([3, 1, 1])\n"
     ]
    }
   ],
   "source": [
    "data_module.sanity_check(train_data_dict , test_data_dict)"
   ]
  },
  {
   "cell_type": "markdown",
   "metadata": {},
   "source": [
    "## Data Transpose \n",
    "You are require to transpose the `x-feature` data in such a way that : <br>\n",
    ">`(batch_size, number_of_features, sequence_length)`."
   ]
  },
  {
   "cell_type": "code",
   "execution_count": 14,
   "metadata": {},
   "outputs": [],
   "source": [
    "# Data Transpose to suit for CNN \n",
    "train_data_dict , test_data_dict= data_module.transpose(train_data_dict,test_data_dict)"
   ]
  },
  {
   "cell_type": "code",
   "execution_count": 15,
   "metadata": {},
   "outputs": [
    {
     "name": "stdout",
     "output_type": "stream",
     "text": [
      "train_data_x_feature shape : torch.Size([19, 2, 10])\n",
      "train_data_y_label shape : torch.Size([19, 1, 1])\n",
      "test_data_x_feature shape : torch.Size([3, 2, 10])\n",
      "test_data_y_label shape : torch.Size([3, 1, 1])\n"
     ]
    }
   ],
   "source": [
    "data_module.sanity_check(train_data_dict , test_data_dict)"
   ]
  },
  {
   "cell_type": "markdown",
   "metadata": {},
   "source": [
    "## Data Iterator\n",
    "Iterator is created to allow the data separate into several batches to fasten the training process\n",
    ">**Instruction** : <br>\n",
    "Use `data_module.iterator` to create data iterator."
   ]
  },
  {
   "cell_type": "code",
   "execution_count": 16,
   "metadata": {},
   "outputs": [],
   "source": [
    "train_iter , test_iter = data_module.iterator(train_data_dict ,test_data_dict,batch_size = batch_size)"
   ]
  },
  {
   "cell_type": "markdown",
   "metadata": {},
   "source": [
    "# Step 2 :  CNN Model Configuration\n",
    "You may choose to use the CNN configuration that have been saved in the `deep_learning_module.py` or code it by yourself. For demonstration purposes, we will use the CNN configuration in `deep_learning_module.py`"
   ]
  },
  {
   "cell_type": "markdown",
   "metadata": {},
   "source": [
    "## Input Model\n",
    "The number of features and number of steps are fed as attributes into the model. The other attributes such as `kernel_size` , `in_channels` and `out_channels` for each convolution layer need to configured in the network configuration by the practitioner."
   ]
  },
  {
   "cell_type": "code",
   "execution_count": 17,
   "metadata": {},
   "outputs": [],
   "source": [
    "# seed\n",
    "torch.manual_seed(123)\n",
    "### BEGIN SOLUTION\n",
    "\n",
    "# Input the attribute need by the model \n",
    "\n",
    "# Define the optimizer (Here we use SGD as our optimizer)\n",
    "\n",
    "# Define the loss function (Here we use MSE as the loss function)\n",
    "\n",
    "### END SOLUTION"
   ]
  },
  {
   "cell_type": "code",
   "execution_count": 18,
   "metadata": {},
   "outputs": [
    {
     "name": "stdout",
     "output_type": "stream",
     "text": [
      "====================================================\n",
      "        Kernel Shape Output Shape Params Mult-Adds\n",
      "Layer                                             \n",
      "0_conv1   [2, 30, 3]   [5, 30, 8]  210.0     1.44k\n",
      "1_poo1             -   [5, 30, 4]      -         -\n",
      "2_conv2  [30, 20, 2]   [5, 20, 3]  1.22k      3.6k\n",
      "3_pool2            -   [5, 20, 1]      -         -\n",
      "4_fc1       [20, 10]      [5, 10]  210.0     200.0\n",
      "5_fc2        [10, 1]       [5, 1]   11.0      10.0\n",
      "----------------------------------------------------\n",
      "                      Totals\n",
      "Total params          1.651k\n",
      "Trainable params      1.651k\n",
      "Non-trainable params     0.0\n",
      "Mult-Adds              5.25k\n",
      "====================================================\n",
      "        Kernel Shape Output Shape  Params  Mult-Adds\n",
      "Layer                                               \n",
      "0_conv1   [2, 30, 3]   [5, 30, 8]   210.0     1440.0\n",
      "1_poo1             -   [5, 30, 4]     NaN        NaN\n",
      "2_conv2  [30, 20, 2]   [5, 20, 3]  1220.0     3600.0\n",
      "3_pool2            -   [5, 20, 1]     NaN        NaN\n",
      "4_fc1       [20, 10]      [5, 10]   210.0      200.0\n",
      "5_fc2        [10, 1]       [5, 1]    11.0       10.0\n"
     ]
    }
   ],
   "source": [
    "seq_length = train_data_dict['train_data_x_feature'].shape[2]\n",
    "inputs = torch.zeros((batch_size,n_feature ,seq_length),dtype=torch.float) # batch size ,input_dim ,seq_length\n",
    "print(summary(model,inputs))"
   ]
  },
  {
   "cell_type": "code",
   "execution_count": 19,
   "metadata": {},
   "outputs": [
    {
     "data": {
      "text/plain": [
       "CNN(\n",
       "  (conv1): Conv1d(2, 30, kernel_size=(3,), stride=(1,))\n",
       "  (poo1): MaxPool1d(kernel_size=2, stride=2, padding=0, dilation=1, ceil_mode=False)\n",
       "  (conv2): Conv1d(30, 20, kernel_size=(2,), stride=(1,))\n",
       "  (pool2): AdaptiveMaxPool1d(output_size=1)\n",
       "  (fc1): Linear(in_features=20, out_features=10, bias=True)\n",
       "  (fc2): Linear(in_features=10, out_features=1, bias=True)\n",
       ")"
      ]
     },
     "execution_count": 19,
     "metadata": {},
     "output_type": "execute_result"
    }
   ],
   "source": [
    "# seed\n",
    "torch.manual_seed(123)\n",
    "\n",
    "#  Xavier Weight Initialize \n",
    "def weights_init(m):\n",
    "    if isinstance(m, nn.Conv1d):\n",
    "        nn.init.xavier_uniform_(m.weight.data)\n",
    "        \n",
    "model.apply(weights_init)"
   ]
  },
  {
   "cell_type": "markdown",
   "metadata": {},
   "source": [
    "# Step 3 : Training"
   ]
  },
  {
   "cell_type": "code",
   "execution_count": 20,
   "metadata": {},
   "outputs": [],
   "source": [
    "# seed\n",
    "torch.manual_seed(123)\n",
    "# Start Training\n",
    "train_loss, val_loss = deep_learning_module.training(num_epochs, train_iter, test_iter, optimizer, loss_fn, model)"
   ]
  },
  {
   "cell_type": "markdown",
   "metadata": {},
   "source": [
    "# Step 4 : Validation \n",
    "A learning curve is plotted to define how well the data fits in the model "
   ]
  },
  {
   "cell_type": "code",
   "execution_count": 21,
   "metadata": {
    "scrolled": true
   },
   "outputs": [
    {
     "data": {
      "image/png": "[encoded data removed]",
      "text/plain": [
       "<Figure size 720x432 with 1 Axes>"
      ]
     },
     "metadata": {
      "needs_background": "light"
     },
     "output_type": "display_data"
    },
    {
     "name": "stdout",
     "output_type": "stream",
     "text": [
      "Epoch : 0 , training loss : 1.9394897369569855 , validation loss : 17.984899520874023\n",
      "Epoch : 1 , training loss : 1.9003961584285687 , validation loss : 17.837356567382812\n",
      "Epoch : 2 , training loss : 1.8762143201341754 , validation loss : 17.67344856262207\n",
      "Epoch : 3 , training loss : 1.8599939560027499 , validation loss : 17.50529670715332\n",
      "Epoch : 4 , training loss : 1.8433378979955848 , validation loss : 17.366514205932617\n",
      "Epoch : 5 , training loss : 1.8262099337420965 , validation loss : 17.239593505859375\n",
      "Epoch : 6 , training loss : 1.8084463922208862 , validation loss : 17.13066291809082\n",
      "Epoch : 7 , training loss : 1.7899091810380157 , validation loss : 17.035829544067383\n",
      "Epoch : 8 , training loss : 1.7701526043054305 , validation loss : 16.950883865356445\n",
      "Epoch : 9 , training loss : 1.7489593229011486 , validation loss : 16.870771408081055\n",
      "Epoch : 10 , training loss : 1.7261745698357884 , validation loss : 16.78141212463379\n",
      "Epoch : 11 , training loss : 1.7018303614305823 , validation loss : 16.666915893554688\n",
      "Epoch : 12 , training loss : 1.6758954717140448 , validation loss : 16.540143966674805\n",
      "Epoch : 13 , training loss : 1.6482691874629574 , validation loss : 16.396574020385742\n",
      "Epoch : 14 , training loss : 1.6187249953417402 , validation loss : 16.234636306762695\n",
      "Epoch : 15 , training loss : 1.587206248782183 , validation loss : 16.053733825683594\n",
      "Epoch : 16 , training loss : 1.5536781329857676 , validation loss : 15.847206115722656\n",
      "Epoch : 17 , training loss : 1.5180642349939597 , validation loss : 15.617324829101562\n",
      "Epoch : 18 , training loss : 1.4804486091199673 , validation loss : 15.373312950134277\n",
      "Epoch : 19 , training loss : 1.4405237851958526 , validation loss : 15.051849365234375\n",
      "Epoch : 20 , training loss : 1.3982883378079063 , validation loss : 14.678868293762207\n",
      "Epoch : 21 , training loss : 1.353865514068227 , validation loss : 14.276515007019043\n",
      "Epoch : 22 , training loss : 1.307275421133167 , validation loss : 13.838154792785645\n",
      "Epoch : 23 , training loss : 1.2584746330976486 , validation loss : 13.371989250183105\n",
      "Epoch : 24 , training loss : 1.2076739857071324 , validation loss : 12.8873872756958\n",
      "Epoch : 25 , training loss : 1.1547284314506931 , validation loss : 12.390739440917969\n",
      "Epoch : 26 , training loss : 1.100291645056323 , validation loss : 11.883129119873047\n",
      "Epoch : 27 , training loss : 1.0439022975532632 , validation loss : 11.31155776977539\n",
      "Epoch : 28 , training loss : 0.9856626030645872 , validation loss : 10.663777351379395\n",
      "Epoch : 29 , training loss : 0.9261698283647236 , validation loss : 10.009784698486328\n",
      "Epoch : 30 , training loss : 0.8651779623408067 , validation loss : 9.324902534484863\n",
      "Epoch : 31 , training loss : 0.8026643352288949 , validation loss : 8.60693073272705\n",
      "Epoch : 32 , training loss : 0.7392976429117354 , validation loss : 7.811163425445557\n",
      "Epoch : 33 , training loss : 0.6747663530864214 , validation loss : 6.988254547119141\n",
      "Epoch : 34 , training loss : 0.6093145503025306 , validation loss : 6.174540996551514\n",
      "Epoch : 35 , training loss : 0.5429432027434048 , validation loss : 5.390220642089844\n",
      "Epoch : 36 , training loss : 0.4761874448311956 , validation loss : 4.616518497467041\n",
      "Epoch : 37 , training loss : 0.4090377911925316 , validation loss : 3.8407249450683594\n",
      "Epoch : 38 , training loss : 0.34293756790851293 , validation loss : 3.080850839614868\n",
      "Epoch : 39 , training loss : 0.2793832535022183 , validation loss : 2.387101888656616\n",
      "Epoch : 40 , training loss : 0.2204202866475833 , validation loss : 1.7600177526474\n",
      "Epoch : 41 , training loss : 0.16787606771839292 , validation loss : 1.216233730316162\n",
      "Epoch : 42 , training loss : 0.12309184905729796 , validation loss : 0.7724382877349854\n",
      "Epoch : 43 , training loss : 0.0870662674699959 , validation loss : 0.43791863322257996\n",
      "Epoch : 44 , training loss : 0.05945014875186117 , validation loss : 0.2095872163772583\n",
      "Epoch : 45 , training loss : 0.03952057934121082 , validation loss : 0.07434777170419693\n",
      "Epoch : 46 , training loss : 0.02625314793304393 , validation loss : 0.012414739467203617\n",
      "Epoch : 47 , training loss : 0.018180338812893944 , validation loss : 0.0006232294836081564\n",
      "Epoch : 48 , training loss : 0.01372817913560491 , validation loss : 0.016297517344355583\n",
      "Epoch : 49 , training loss : 0.01150464338838662 , validation loss : 0.04087723419070244\n",
      "Epoch : 50 , training loss : 0.010440861567315695 , validation loss : 0.06217080354690552\n",
      "Epoch : 51 , training loss : 0.009732076107818437 , validation loss : 0.07446975260972977\n",
      "Epoch : 52 , training loss : 0.009103635329091432 , validation loss : 0.07697826623916626\n",
      "Epoch : 53 , training loss : 0.008391278189312863 , validation loss : 0.07191643863916397\n",
      "Epoch : 54 , training loss : 0.007624837401396546 , validation loss : 0.06246301531791687\n",
      "Epoch : 55 , training loss : 0.006897510060011164 , validation loss : 0.051499079912900925\n",
      "Epoch : 56 , training loss : 0.0062259952047545655 , validation loss : 0.04100774973630905\n",
      "Epoch : 57 , training loss : 0.005644295324792007 , validation loss : 0.03201550245285034\n",
      "Epoch : 58 , training loss : 0.00515603465120014 , validation loss : 0.024888724088668823\n",
      "Epoch : 59 , training loss : 0.004732782296119503 , validation loss : 0.019501332193613052\n",
      "Epoch : 60 , training loss : 0.00436984080749282 , validation loss : 0.015584379434585571\n",
      "Epoch : 61 , training loss : 0.004070042722129361 , validation loss : 0.012852209620177746\n",
      "Epoch : 62 , training loss : 0.003802262780434256 , validation loss : 0.010967002250254154\n",
      "Epoch : 63 , training loss : 0.003548953961542697 , validation loss : 0.009676776826381683\n",
      "Epoch : 64 , training loss : 0.003312259370623475 , validation loss : 0.008799495175480843\n",
      "Epoch : 65 , training loss : 0.003086177134766905 , validation loss : 0.008177820593118668\n",
      "Epoch : 66 , training loss : 0.002877817912361168 , validation loss : 0.007714796811342239\n",
      "Epoch : 67 , training loss : 0.0026830674145649504 , validation loss : 0.007324878126382828\n",
      "Epoch : 68 , training loss : 0.0025054344141129774 , validation loss : 0.006970568094402552\n",
      "Epoch : 69 , training loss : 0.002343702034857798 , validation loss : 0.006621509790420532\n",
      "Epoch : 70 , training loss : 0.0021957069006212373 , validation loss : 0.006259723100811243\n",
      "Epoch : 71 , training loss : 0.0020620579163828793 , validation loss : 0.0058827162720263\n",
      "Epoch : 72 , training loss : 0.0019400302559293586 , validation loss : 0.005484854336827993\n",
      "Epoch : 73 , training loss : 0.0018278026857986237 , validation loss : 0.00508666317909956\n",
      "Epoch : 74 , training loss : 0.0017225062876700815 , validation loss : 0.004708221182227135\n",
      "Epoch : 75 , training loss : 0.0016243542107220396 , validation loss : 0.004345664754509926\n",
      "Epoch : 76 , training loss : 0.0015359245402291172 , validation loss : 0.004008356016129255\n",
      "Epoch : 77 , training loss : 0.0014584804601709995 , validation loss : 0.0037180334329605103\n",
      "Epoch : 78 , training loss : 0.0013843798224115744 , validation loss : 0.003457808867096901\n",
      "Epoch : 79 , training loss : 0.0013151926242770922 , validation loss : 0.0032340295147150755\n",
      "Epoch : 80 , training loss : 0.001249558658807808 , validation loss : 0.0030338624492287636\n",
      "Epoch : 81 , training loss : 0.0011880452695645783 , validation loss : 0.002855786820873618\n",
      "Epoch : 82 , training loss : 0.0011320989333877438 , validation loss : 0.002700083889067173\n",
      "Epoch : 83 , training loss : 0.0010851781629945005 , validation loss : 0.002582922810688615\n",
      "Epoch : 84 , training loss : 0.0010379431861158657 , validation loss : 0.002491422463208437\n",
      "Epoch : 85 , training loss : 0.0009917578687523737 , validation loss : 0.0024096707347780466\n",
      "Epoch : 86 , training loss : 0.0009487246823386828 , validation loss : 0.0023355574812740088\n",
      "Epoch : 87 , training loss : 0.0009083476608410772 , validation loss : 0.002254837891086936\n",
      "Epoch : 88 , training loss : 0.000872797142763279 , validation loss : 0.0021863931324332952\n",
      "Epoch : 89 , training loss : 0.0008402613932144289 , validation loss : 0.0021321873646229506\n",
      "Epoch : 90 , training loss : 0.0008083203505712414 , validation loss : 0.002078430727124214\n",
      "Epoch : 91 , training loss : 0.0007788225882809217 , validation loss : 0.0020274233538657427\n",
      "Epoch : 92 , training loss : 0.0007500711730436274 , validation loss : 0.0019698746036738157\n",
      "Epoch : 93 , training loss : 0.0007257219986058772 , validation loss : 0.0019250406185165048\n",
      "Epoch : 94 , training loss : 0.0007023757643764839 , validation loss : 0.00190020352602005\n",
      "Epoch : 95 , training loss : 0.0006786903571705089 , validation loss : 0.001870982930995524\n",
      "Epoch : 96 , training loss : 0.0006559375630642631 , validation loss : 0.001840854180045426\n",
      "Epoch : 97 , training loss : 0.0006361473849545675 , validation loss : 0.001817856333218515\n",
      "Epoch : 98 , training loss : 0.0006178134591257395 , validation loss : 0.0018102810718119144\n",
      "Epoch : 99 , training loss : 0.0005991420498742771 , validation loss : 0.0018128935480490327\n",
      "Epoch : 100 , training loss : 0.0005816050206225267 , validation loss : 0.0018142135813832283\n",
      "Epoch : 101 , training loss : 0.0005642200726709378 , validation loss : 0.0018074879189953208\n",
      "Epoch : 102 , training loss : 0.0005496641725154692 , validation loss : 0.0018129475647583604\n",
      "Epoch : 103 , training loss : 0.0005354006762469286 , validation loss : 0.0018322557443752885\n",
      "Epoch : 104 , training loss : 0.00052100754156096 , validation loss : 0.0018491335213184357\n",
      "Epoch : 105 , training loss : 0.0005067114842332606 , validation loss : 0.0018563087796792388\n",
      "Epoch : 106 , training loss : 0.0004951617148962166 , validation loss : 0.0018788250163197517\n",
      "Epoch : 107 , training loss : 0.0004832932930807338 , validation loss : 0.0019118795171380043\n",
      "Epoch : 108 , training loss : 0.00047192763993639107 , validation loss : 0.0019345059990882874\n",
      "Epoch : 109 , training loss : 0.0004592477849464079 , validation loss : 0.0019513973966240883\n",
      "Epoch : 110 , training loss : 0.0004498619719494232 , validation loss : 0.0019823629409074783\n",
      "Epoch : 111 , training loss : 0.0004402254822994827 , validation loss : 0.002023599110543728\n",
      "Epoch : 112 , training loss : 0.0004303947421967199 , validation loss : 0.002062559360638261\n",
      "Epoch : 113 , training loss : 0.00042120893072263385 , validation loss : 0.0021082423627376556\n",
      "Epoch : 114 , training loss : 0.000412490109355483 , validation loss : 0.002150780288502574\n",
      "Epoch : 115 , training loss : 0.0004040298517793417 , validation loss : 0.0021995569113641977\n",
      "Epoch : 116 , training loss : 0.0003958121187200672 , validation loss : 0.0022525417152792215\n",
      "Epoch : 117 , training loss : 0.00038798576210147555 , validation loss : 0.0022999991197139025\n",
      "Epoch : 118 , training loss : 0.0003802373891965927 , validation loss : 0.002339825965464115\n",
      "Epoch : 119 , training loss : 0.00037314159501540035 , validation loss : 0.0023890698794275522\n",
      "Epoch : 120 , training loss : 0.00036636061275586193 , validation loss : 0.0024396192748099566\n",
      "Epoch : 121 , training loss : 0.00035967447528444037 , validation loss : 0.002487333258613944\n",
      "Epoch : 122 , training loss : 0.00035308244811236173 , validation loss : 0.002542429603636265\n",
      "Epoch : 123 , training loss : 0.00034631061288037976 , validation loss : 0.002594799967482686\n",
      "Epoch : 124 , training loss : 0.0003401261791096706 , validation loss : 0.00264125969260931\n",
      "Epoch : 125 , training loss : 0.0003342350514446336 , validation loss : 0.0026974102947860956\n",
      "Epoch : 126 , training loss : 0.00032831994069151973 , validation loss : 0.0027599327731877565\n",
      "Epoch : 127 , training loss : 0.0003225252156354193 , validation loss : 0.0028225742280483246\n",
      "Epoch : 128 , training loss : 0.0003163265336249759 , validation loss : 0.002874684287235141\n",
      "Epoch : 129 , training loss : 0.0003114098140749296 , validation loss : 0.0029333161655813456\n",
      "Epoch : 130 , training loss : 0.00030604161752547184 , validation loss : 0.002992173656821251\n",
      "Epoch : 131 , training loss : 0.00030143198474481895 , validation loss : 0.003055439330637455\n",
      "Epoch : 132 , training loss : 0.0002964973590630842 , validation loss : 0.0031181208323687315\n",
      "Epoch : 133 , training loss : 0.0002917815455523516 , validation loss : 0.003176507307216525\n",
      "Epoch : 134 , training loss : 0.00028716042556640645 , validation loss : 0.003231052542105317\n",
      "Epoch : 135 , training loss : 0.0002827668152014284 , validation loss : 0.003291253698989749\n",
      "Epoch : 136 , training loss : 0.0002783908700956473 , validation loss : 0.0033473086077719927\n",
      "Epoch : 137 , training loss : 0.0002742721779596698 , validation loss : 0.003401451511308551\n",
      "Epoch : 138 , training loss : 0.0002703830426693649 , validation loss : 0.003459543688222766\n",
      "Epoch : 139 , training loss : 0.0002662786640652676 , validation loss : 0.003515377640724182\n",
      "Epoch : 140 , training loss : 0.00026253256720864507 , validation loss : 0.003575015114620328\n",
      "Epoch : 141 , training loss : 0.0002586379491013328 , validation loss : 0.003633285639807582\n",
      "Epoch : 142 , training loss : 0.0002547954773992962 , validation loss : 0.003682053415104747\n",
      "Epoch : 143 , training loss : 0.0002515240038950364 , validation loss : 0.0037412948440760374\n",
      "Epoch : 144 , training loss : 0.0002480102427254774 , validation loss : 0.003802694147452712\n",
      "Epoch : 145 , training loss : 0.0002445245250112892 , validation loss : 0.003862423822283745\n",
      "Epoch : 146 , training loss : 0.00024100294754852687 , validation loss : 0.003916075918823481\n",
      "Epoch : 147 , training loss : 0.00023753162991181997 , validation loss : 0.0039725168608129025\n",
      "Epoch : 148 , training loss : 0.00023436089261514624 , validation loss : 0.004023424815386534\n",
      "Epoch : 149 , training loss : 0.00023093557741192758 , validation loss : 0.004072051029652357\n",
      "Epoch : 150 , training loss : 0.00022619986549742813 , validation loss : 0.004115323070436716\n",
      "Epoch : 151 , training loss : 0.00022160618965771342 , validation loss : 0.00416468596085906\n",
      "Epoch : 152 , training loss : 0.0002168640614974337 , validation loss : 0.00422024168074131\n",
      "Epoch : 153 , training loss : 0.0002118169374482118 , validation loss : 0.004269062075763941\n",
      "Epoch : 154 , training loss : 0.0002071267444989644 , validation loss : 0.0043071419931948185\n",
      "Epoch : 155 , training loss : 0.000202446632580464 , validation loss : 0.004354237113147974\n",
      "Epoch : 156 , training loss : 0.00019797664275469478 , validation loss : 0.0044111949391663074\n",
      "Epoch : 157 , training loss : 0.00019358386558259984 , validation loss : 0.004465678706765175\n",
      "Epoch : 158 , training loss : 0.0001891033455314372 , validation loss : 0.004522706847637892\n",
      "Epoch : 159 , training loss : 0.00018511587251467923 , validation loss : 0.004586953204125166\n",
      "Epoch : 160 , training loss : 0.00018109376172728125 , validation loss : 0.00464618718251586\n",
      "Epoch : 161 , training loss : 0.00017708422408184944 , validation loss : 0.004702191799879074\n",
      "Epoch : 162 , training loss : 0.00017347848006465938 , validation loss : 0.0047634621150791645\n",
      "Epoch : 163 , training loss : 0.000170003270843728 , validation loss : 0.004815216176211834\n",
      "Epoch : 164 , training loss : 0.00016648163067369942 , validation loss : 0.00486850505694747\n",
      "Epoch : 165 , training loss : 0.00016341660289311366 , validation loss : 0.004921400919556618\n",
      "Epoch : 166 , training loss : 0.00016019276843412387 , validation loss : 0.004982423037290573\n",
      "Epoch : 167 , training loss : 0.00015722856647028637 , validation loss : 0.005030096974223852\n",
      "Epoch : 168 , training loss : 0.0001540706680795043 , validation loss : 0.005068447906523943\n",
      "Epoch : 169 , training loss : 0.00015138874225254097 , validation loss : 0.005113511811941862\n",
      "Epoch : 170 , training loss : 0.00014878957728414158 , validation loss : 0.00516535947099328\n",
      "Epoch : 171 , training loss : 0.00014613249262957222 , validation loss : 0.005207555368542671\n",
      "Epoch : 172 , training loss : 0.00014377417296361128 , validation loss : 0.0052532777190208435\n",
      "Epoch : 173 , training loss : 0.00014142278651936642 , validation loss : 0.005307863000780344\n",
      "Epoch : 174 , training loss : 0.00013896329590735198 , validation loss : 0.005356062203645706\n",
      "Epoch : 175 , training loss : 0.0001369327710563084 , validation loss : 0.005392879247665405\n",
      "Epoch : 176 , training loss : 0.00013473868239088915 , validation loss : 0.005438689142465591\n",
      "Epoch : 177 , training loss : 0.00013270987973986562 , validation loss : 0.005483534652739763\n",
      "Epoch : 178 , training loss : 0.00013070291759887417 , validation loss : 0.005531329661607742\n",
      "Epoch : 179 , training loss : 0.00012887780854055708 , validation loss : 0.005559158977121115\n",
      "Epoch : 180 , training loss : 0.00012701478638183815 , validation loss : 0.005591975059360266\n",
      "Epoch : 181 , training loss : 0.0001253819317226819 , validation loss : 0.005630047991871834\n",
      "Epoch : 182 , training loss : 0.00012364744481218573 , validation loss : 0.00567084364593029\n",
      "Epoch : 183 , training loss : 0.00012204709625956112 , validation loss : 0.005696376319974661\n",
      "Epoch : 184 , training loss : 0.00012045697176769241 , validation loss : 0.0057303160429000854\n",
      "Epoch : 185 , training loss : 0.00011898572589224817 , validation loss : 0.0057716830633580685\n",
      "Epoch : 186 , training loss : 0.00011747569542900524 , validation loss : 0.0058069005608558655\n",
      "Epoch : 187 , training loss : 0.00011602921423266372 , validation loss : 0.005832361523061991\n",
      "Epoch : 188 , training loss : 0.00011478127400646611 , validation loss : 0.005865926388651133\n",
      "Epoch : 189 , training loss : 0.00011350299772809529 , validation loss : 0.005895642098039389\n",
      "Epoch : 190 , training loss : 0.00011220264906641157 , validation loss : 0.005930371582508087\n",
      "Epoch : 191 , training loss : 0.00011096171266743975 , validation loss : 0.005959317088127136\n",
      "Epoch : 192 , training loss : 0.0001097063599636864 , validation loss : 0.0059852623380720615\n",
      "Epoch : 193 , training loss : 0.00010875975735153158 , validation loss : 0.006020460743457079\n",
      "Epoch : 194 , training loss : 0.00010780021586087012 , validation loss : 0.00606492767110467\n",
      "Epoch : 195 , training loss : 0.00010683271437684245 , validation loss : 0.006096366792917252\n",
      "Epoch : 196 , training loss : 0.00010591829346881958 , validation loss : 0.006129469722509384\n",
      "Epoch : 197 , training loss : 0.00010506323224035441 , validation loss : 0.006167375948280096\n",
      "Epoch : 198 , training loss : 0.00010426627870018772 , validation loss : 0.006197670940309763\n",
      "Epoch : 199 , training loss : 0.0001033894242075468 , validation loss : 0.006224012468010187\n"
     ]
    }
   ],
   "source": [
    "data_module.learning_curve(num_epochs = num_epochs , train_loss = train_loss , val_loss = val_loss )"
   ]
  },
  {
   "cell_type": "markdown",
   "metadata": {},
   "source": [
    "# Step 5 : Evaluation\n",
    "This section is to inference the model by feeding in testing data, determining the output forecast value and calculating the RMSE.\n",
    "\n",
    "It consists of 4 sections :\n",
    "\n",
    "Section 1 : Feed in the train and test data to the model <br>\n",
    "Section 2 : Reshape both to the original data dimension <br> \n",
    "Section 3 : Invert the scaling back to the original data value <br>\n",
    "Section 4 : Calculate the RMSE of train and test data"
   ]
  },
  {
   "cell_type": "code",
   "execution_count": 22,
   "metadata": {},
   "outputs": [],
   "source": [
    "# Section 1 : make predictions\n",
    "with torch.no_grad():\n",
    "    y_train_prediction = model(train_data_dict['train_data_x_feature'])\n",
    "    y_test_prediction = model(test_data_dict['test_data_x_feature'])"
   ]
  },
  {
   "cell_type": "code",
   "execution_count": 23,
   "metadata": {},
   "outputs": [],
   "source": [
    "# Assign evaluation key\n",
    "\n",
    "prediction , output = data_module.key_assign_evaluation(y_train_prediction,\n",
    "                                                        y_test_prediction,\n",
    "                                                        train_data_dict,\n",
    "                                                        test_data_dict)\n",
    "# Section 2 : Reshape to original data\n",
    "# Squeeze the output dimension\n",
    "output_data = data_module.squeeze_dimension(output)\n"
   ]
  },
  {
   "cell_type": "code",
   "execution_count": 24,
   "metadata": {},
   "outputs": [
    {
     "name": "stdout",
     "output_type": "stream",
     "text": [
      "train_data_output shape : torch.Size([19, 1])\n",
      "test_data_output shape : torch.Size([3, 1])\n"
     ]
    }
   ],
   "source": [
    "data_module.sanity_check(data_1 = output_data,data_2 = {})"
   ]
  },
  {
   "cell_type": "code",
   "execution_count": 25,
   "metadata": {},
   "outputs": [],
   "source": [
    "# Section 3 : Invert predictions\n",
    "prediction = data_module.inverse_scaler(prediction,scaler)\n",
    "output_data  = data_module.inverse_scaler(output_data ,scaler)"
   ]
  },
  {
   "cell_type": "code",
   "execution_count": 26,
   "metadata": {},
   "outputs": [
    {
     "name": "stdout",
     "output_type": "stream",
     "text": [
      "Test Data\t\t\tForecast\n",
      "[744.99994]\t\t[753.6096]\n",
      "[765.]\t\t[775.27386]\n",
      "[784.99994]\t\t[796.93805]\n"
     ]
    }
   ],
   "source": [
    "# List the forecast value\n",
    "data_module.list_forecast_value(output_data,prediction) "
   ]
  },
  {
   "cell_type": "code",
   "execution_count": 27,
   "metadata": {},
   "outputs": [
    {
     "name": "stdout",
     "output_type": "stream",
     "text": [
      "Train Score: 1.33 RMSE\n",
      "Test Score: 10.36 RMSE\n"
     ]
    }
   ],
   "source": [
    "# Section 4 : Calculate the RMSE of train and test data\n",
    "### BEGIN SOLUTION\n",
    "### END SOLUTION\n",
    "print('Train Score: %.2f RMSE' % (trainScore))\n",
    "print('Test Score: %.2f RMSE' % (testScore))"
   ]
  },
  {
   "cell_type": "markdown",
   "metadata": {},
   "source": [
    "# Step 6 : Forecast Plot"
   ]
  },
  {
   "cell_type": "code",
   "execution_count": 28,
   "metadata": {},
   "outputs": [],
   "source": [
    "plot_details ={\"x-axis\" : \"Day\",\n",
    "          \"y-axis\" : \"Values\",\n",
    "          \"title\"  : \"Synthetic Data\"\n",
    "         }"
   ]
  },
  {
   "cell_type": "code",
   "execution_count": 29,
   "metadata": {},
   "outputs": [
    {
     "data": {
      "image/png": "[encoded data removed]",
      "text/plain": [
       "<Figure size 720x432 with 1 Axes>"
      ]
     },
     "metadata": {
      "needs_background": "light"
     },
     "output_type": "display_data"
    }
   ],
   "source": [
    "data_module.single_step_plot(original_test_data = test_data,\n",
    "                            sequence_test_data = output_data['test_data_output'],\n",
    "                            forecast_data = prediction['test_data_prediction'],\n",
    "                            test_time = test_time,\n",
    "                            window_size =  window_size,\n",
    "                            original_plot= False,\n",
    "                            multivariate= True)"
   ]
  },
  {
   "cell_type": "markdown",
   "metadata": {},
   "source": [
    "***"
   ]
  },
  {
   "cell_type": "markdown",
   "metadata": {},
   "source": [
    "# Part 2 : Exercise for Multivariate Multi-step\n",
    "\n",
    "## Task : Predicting the total number of death cases in COVID-19 Malaysia 3 day into the future\n",
    "\n",
    "### Introduction \n",
    "You are given a set of data that contain information about COVID-19 cases worldwide. You are required to perform some data analysis on it and predict the death cases.<br>\n",
    "\n",
    "Please follow the instruction and try to code the exercise. Please also feel free to use online resources to find out how to use a particular function in the data exploration part<br>\n",
    "\n",
    "\n",
    "\n",
    "Data Source : \n",
    "https://www.kaggle.com/sudalairajkumar/novel-corona-virus-2019-dataset"
   ]
  },
  {
   "cell_type": "markdown",
   "metadata": {},
   "source": [
    "## Hyperparameter\n",
    ">**Instruction** : <br>\n",
    "You are required to fill `None` with a suitable value to make the model converge\n",
    "\n",
    ">**Expected Result** : <br>\n",
    "Train Score <= 50 RMSE<br>\n",
    "Test Score <= 50 RMSE<br>"
   ]
  },
  {
   "cell_type": "code",
   "execution_count": 30,
   "metadata": {},
   "outputs": [
    {
     "data": {
      "text/plain": [
       "<torch._C.Generator at 0x1cf6ec1c3f0>"
      ]
     },
     "execution_count": 30,
     "metadata": {},
     "output_type": "execute_result"
    }
   ],
   "source": [
    "#Hyperameter\n",
    "split_ratio_covid = 0.80\n",
    "num_epochs_covid = 150\n",
    "window_size_covid = 20\n",
    "n_step_covid = 1\n",
    "learning_rate_covid = 0.001\n",
    "batch_size_covid = 5\n",
    "#seed\n",
    "torch.manual_seed(123)"
   ]
  },
  {
   "cell_type": "markdown",
   "metadata": {},
   "source": [
    "# Step 1 : Data Preparation\n",
    "In this tutorial, you will face a complex real-world dataset. You are required to use some of the data exploration techniques to help you prepare the data.\n",
    "\n",
    ">**Instruction** : <br>\n",
    "Read the file using `pd.read_csv`<br>\n",
    "Save your data as `cases`<br>\n",
    "Your file path `../../datasets/others/covid_19_data.csv`"
   ]
  },
  {
   "cell_type": "code",
   "execution_count": 31,
   "metadata": {},
   "outputs": [
    {
     "data": {
      "text/html": [
       "<div>\n",
       "<style scoped>\n",
       "    .dataframe tbody tr th:only-of-type {\n",
       "        vertical-align: middle;\n",
       "    }\n",
       "\n",
       "    .dataframe tbody tr th {\n",
       "        vertical-align: top;\n",
       "    }\n",
       "\n",
       "    .dataframe thead th {\n",
       "        text-align: right;\n",
       "    }\n",
       "</style>\n",
       "<table border=\"1\" class=\"dataframe\">\n",
       "  <thead>\n",
       "    <tr style=\"text-align: right;\">\n",
       "      <th></th>\n",
       "      <th>SNo</th>\n",
       "      <th>ObservationDate</th>\n",
       "      <th>Province/State</th>\n",
       "      <th>Country/Region</th>\n",
       "      <th>Last Update</th>\n",
       "      <th>Confirmed</th>\n",
       "      <th>Deaths</th>\n",
       "      <th>Recovered</th>\n",
       "    </tr>\n",
       "  </thead>\n",
       "  <tbody>\n",
       "    <tr>\n",
       "      <th>0</th>\n",
       "      <td>1</td>\n",
       "      <td>01/22/2020</td>\n",
       "      <td>Anhui</td>\n",
       "      <td>Mainland China</td>\n",
       "      <td>1/22/2020 17:00</td>\n",
       "      <td>1.0</td>\n",
       "      <td>0.0</td>\n",
       "      <td>0.0</td>\n",
       "    </tr>\n",
       "    <tr>\n",
       "      <th>1</th>\n",
       "      <td>2</td>\n",
       "      <td>01/22/2020</td>\n",
       "      <td>Beijing</td>\n",
       "      <td>Mainland China</td>\n",
       "      <td>1/22/2020 17:00</td>\n",
       "      <td>14.0</td>\n",
       "      <td>0.0</td>\n",
       "      <td>0.0</td>\n",
       "    </tr>\n",
       "    <tr>\n",
       "      <th>2</th>\n",
       "      <td>3</td>\n",
       "      <td>01/22/2020</td>\n",
       "      <td>Chongqing</td>\n",
       "      <td>Mainland China</td>\n",
       "      <td>1/22/2020 17:00</td>\n",
       "      <td>6.0</td>\n",
       "      <td>0.0</td>\n",
       "      <td>0.0</td>\n",
       "    </tr>\n",
       "    <tr>\n",
       "      <th>3</th>\n",
       "      <td>4</td>\n",
       "      <td>01/22/2020</td>\n",
       "      <td>Fujian</td>\n",
       "      <td>Mainland China</td>\n",
       "      <td>1/22/2020 17:00</td>\n",
       "      <td>1.0</td>\n",
       "      <td>0.0</td>\n",
       "      <td>0.0</td>\n",
       "    </tr>\n",
       "    <tr>\n",
       "      <th>4</th>\n",
       "      <td>5</td>\n",
       "      <td>01/22/2020</td>\n",
       "      <td>Gansu</td>\n",
       "      <td>Mainland China</td>\n",
       "      <td>1/22/2020 17:00</td>\n",
       "      <td>0.0</td>\n",
       "      <td>0.0</td>\n",
       "      <td>0.0</td>\n",
       "    </tr>\n",
       "  </tbody>\n",
       "</table>\n",
       "</div>"
      ],
      "text/plain": [
       "   SNo ObservationDate Province/State  Country/Region      Last Update  \\\n",
       "0    1      01/22/2020          Anhui  Mainland China  1/22/2020 17:00   \n",
       "1    2      01/22/2020        Beijing  Mainland China  1/22/2020 17:00   \n",
       "2    3      01/22/2020      Chongqing  Mainland China  1/22/2020 17:00   \n",
       "3    4      01/22/2020         Fujian  Mainland China  1/22/2020 17:00   \n",
       "4    5      01/22/2020          Gansu  Mainland China  1/22/2020 17:00   \n",
       "\n",
       "   Confirmed  Deaths  Recovered  \n",
       "0        1.0     0.0        0.0  \n",
       "1       14.0     0.0        0.0  \n",
       "2        6.0     0.0        0.0  \n",
       "3        1.0     0.0        0.0  \n",
       "4        0.0     0.0        0.0  "
      ]
     },
     "execution_count": 31,
     "metadata": {},
     "output_type": "execute_result"
    }
   ],
   "source": [
    "### BEGIN SOLUTION\n",
    "### END SOLUTION\n",
    "cases.head()"
   ]
  },
  {
   "cell_type": "markdown",
   "metadata": {},
   "source": [
    "As you can see, the data contains info on COVID-19 cases from other countries as well. Hence, you need to slice the COVID-19 info only for Malaysia.\n",
    "\n",
    ">**Instruction** : <br>\n",
    "Slice Malaysia's COVID-19 info out. You might need to use `df.loc[]` to help you slice the data.\n",
    "\n",
    ">**Expected Result** :<br>\n",
    "Example of first 5 rows of data :\n",
    "\n",
    "---\t|SNo\t|ObservationDate\t|Province/State\t|Country/Region\t|Last Update\t|Confirmed\t|Deaths\t|Recovered\n",
    " ---|---\t|---\t            |---\t        |---\t        |---\t        |---\t    |---\t|---\n",
    "78\t|79\t    |01/23/2020\t|NaN\t|Malaysia\t|1/23/20 |17:00\t|0.0\t|0.0\t|0.0\n",
    "168\t|169\t|01/25/2020\t|NaN\t|Malaysia\t|1/25/20 |17:00\t|3.0\t|0.0\t|0.0\n",
    "214\t|215\t|01/26/2020\t|NaN\t|Malaysia\t|1/26/20 |16:00\t|4.0\t|0.0\t|0.0\n",
    "260\t|261\t|01/27/2020\t|NaN\t|Malaysia\t|1/27/20 |23:59\t|4.0\t|0.0\t|0.0\n",
    "311\t|312\t|01/28/2020\t|NaN\t|Malaysia\t|1/28/20 |23:00\t|4.0\t|0.0\t|0.0"
   ]
  },
  {
   "cell_type": "code",
   "execution_count": 32,
   "metadata": {
    "scrolled": true
   },
   "outputs": [
    {
     "data": {
      "text/plain": [
       "array(['Mainland China', 'Hong Kong', 'Macau', 'Taiwan', 'US', 'Japan',\n",
       "       'Thailand', 'South Korea', 'Singapore', 'Philippines', 'Malaysia',\n",
       "       'Vietnam', 'Australia', 'Mexico', 'Brazil', 'Colombia', 'France',\n",
       "       'Nepal', 'Canada', 'Cambodia', 'Sri Lanka', 'Ivory Coast',\n",
       "       'Germany', 'Finland', 'United Arab Emirates', 'India', 'Italy',\n",
       "       'UK', 'Russia', 'Sweden', 'Spain', 'Belgium', 'Others', 'Egypt',\n",
       "       'Iran', 'Israel', 'Lebanon', 'Iraq', 'Oman', 'Afghanistan',\n",
       "       'Bahrain', 'Kuwait', 'Austria', 'Algeria', 'Croatia',\n",
       "       'Switzerland', 'Pakistan', 'Georgia', 'Greece', 'North Macedonia',\n",
       "       'Norway', 'Romania', 'Denmark', 'Estonia', 'Netherlands',\n",
       "       'San Marino', ' Azerbaijan', 'Belarus', 'Iceland', 'Lithuania',\n",
       "       'New Zealand', 'Nigeria', 'North Ireland', 'Ireland', 'Luxembourg',\n",
       "       'Monaco', 'Qatar', 'Ecuador', 'Azerbaijan', 'Czech Republic',\n",
       "       'Armenia', 'Dominican Republic', 'Indonesia', 'Portugal',\n",
       "       'Andorra', 'Latvia', 'Morocco', 'Saudi Arabia', 'Senegal',\n",
       "       'Argentina', 'Chile', 'Jordan', 'Ukraine', 'Saint Barthelemy',\n",
       "       'Hungary', 'Faroe Islands', 'Gibraltar', 'Liechtenstein', 'Poland',\n",
       "       'Tunisia', 'Palestine', 'Bosnia and Herzegovina', 'Slovenia',\n",
       "       'South Africa', 'Bhutan', 'Cameroon', 'Costa Rica', 'Peru',\n",
       "       'Serbia', 'Slovakia', 'Togo', 'Vatican City', 'French Guiana',\n",
       "       'Malta', 'Martinique', 'Republic of Ireland', 'Bulgaria',\n",
       "       'Maldives', 'Bangladesh', 'Moldova', 'Paraguay', 'Albania',\n",
       "       'Cyprus', 'St. Martin', 'Brunei', 'occupied Palestinian territory',\n",
       "       \"('St. Martin',)\", 'Burkina Faso', 'Channel Islands', 'Holy See',\n",
       "       'Mongolia', 'Panama', 'Bolivia', 'Honduras', 'Congo (Kinshasa)',\n",
       "       'Jamaica', 'Reunion', 'Turkey', 'Cuba', 'Guyana', 'Kazakhstan',\n",
       "       'Cayman Islands', 'Guadeloupe', 'Ethiopia', 'Sudan', 'Guinea',\n",
       "       'Antigua and Barbuda', 'Aruba', 'Kenya', 'Uruguay', 'Ghana',\n",
       "       'Jersey', 'Namibia', 'Seychelles', 'Trinidad and Tobago',\n",
       "       'Venezuela', 'Curacao', 'Eswatini', 'Gabon', 'Guatemala',\n",
       "       'Guernsey', 'Mauritania', 'Rwanda', 'Saint Lucia',\n",
       "       'Saint Vincent and the Grenadines', 'Suriname', 'Kosovo',\n",
       "       'Central African Republic', 'Congo (Brazzaville)',\n",
       "       'Equatorial Guinea', 'Uzbekistan', 'Guam', 'Puerto Rico', 'Benin',\n",
       "       'Greenland', 'Liberia', 'Mayotte', 'Republic of the Congo',\n",
       "       'Somalia', 'Tanzania', 'The Bahamas', 'Barbados', 'Montenegro',\n",
       "       'The Gambia', 'Kyrgyzstan', 'Mauritius', 'Zambia', 'Djibouti',\n",
       "       'Gambia, The', 'Bahamas, The', 'Chad', 'El Salvador', 'Fiji',\n",
       "       'Nicaragua', 'Madagascar', 'Haiti', 'Angola', 'Cabo Verde',\n",
       "       'Niger', 'Papua New Guinea', 'Zimbabwe', 'Cape Verde',\n",
       "       'East Timor', 'Eritrea', 'Uganda', 'Bahamas', 'Dominica', 'Gambia',\n",
       "       'Grenada', 'Mozambique', 'Samoa', 'Syria', 'Timor-Leste', 'Belize',\n",
       "       'Laos', 'Libya', 'Diamond Princess', 'Guinea-Bissau', 'Mali',\n",
       "       'Saint Kitts and Nevis', 'West Bank and Gaza', 'Burma',\n",
       "       'MS Zaandam', 'Botswana', 'Burundi', 'Sierra Leone', 'Malawi',\n",
       "       'South Sudan', 'Sao Tome and Principe', 'Yemen', 'Comoros',\n",
       "       'Tajikistan', 'Lesotho', 'Solomon Islands', 'Marshall Islands',\n",
       "       'Vanuatu', 'Micronesia'], dtype=object)"
      ]
     },
     "execution_count": 32,
     "metadata": {},
     "output_type": "execute_result"
    }
   ],
   "source": [
    "cases[\"Country/Region\"].unique()"
   ]
  },
  {
   "cell_type": "code",
   "execution_count": 33,
   "metadata": {},
   "outputs": [
    {
     "data": {
      "text/html": [
       "<div>\n",
       "<style scoped>\n",
       "    .dataframe tbody tr th:only-of-type {\n",
       "        vertical-align: middle;\n",
       "    }\n",
       "\n",
       "    .dataframe tbody tr th {\n",
       "        vertical-align: top;\n",
       "    }\n",
       "\n",
       "    .dataframe thead th {\n",
       "        text-align: right;\n",
       "    }\n",
       "</style>\n",
       "<table border=\"1\" class=\"dataframe\">\n",
       "  <thead>\n",
       "    <tr style=\"text-align: right;\">\n",
       "      <th></th>\n",
       "      <th>SNo</th>\n",
       "      <th>ObservationDate</th>\n",
       "      <th>Province/State</th>\n",
       "      <th>Country/Region</th>\n",
       "      <th>Last Update</th>\n",
       "      <th>Confirmed</th>\n",
       "      <th>Deaths</th>\n",
       "      <th>Recovered</th>\n",
       "    </tr>\n",
       "  </thead>\n",
       "  <tbody>\n",
       "    <tr>\n",
       "      <th>78</th>\n",
       "      <td>79</td>\n",
       "      <td>01/23/2020</td>\n",
       "      <td>NaN</td>\n",
       "      <td>Malaysia</td>\n",
       "      <td>1/23/20 17:00</td>\n",
       "      <td>0.0</td>\n",
       "      <td>0.0</td>\n",
       "      <td>0.0</td>\n",
       "    </tr>\n",
       "    <tr>\n",
       "      <th>168</th>\n",
       "      <td>169</td>\n",
       "      <td>01/25/2020</td>\n",
       "      <td>NaN</td>\n",
       "      <td>Malaysia</td>\n",
       "      <td>1/25/20 17:00</td>\n",
       "      <td>3.0</td>\n",
       "      <td>0.0</td>\n",
       "      <td>0.0</td>\n",
       "    </tr>\n",
       "    <tr>\n",
       "      <th>214</th>\n",
       "      <td>215</td>\n",
       "      <td>01/26/2020</td>\n",
       "      <td>NaN</td>\n",
       "      <td>Malaysia</td>\n",
       "      <td>1/26/20 16:00</td>\n",
       "      <td>4.0</td>\n",
       "      <td>0.0</td>\n",
       "      <td>0.0</td>\n",
       "    </tr>\n",
       "    <tr>\n",
       "      <th>260</th>\n",
       "      <td>261</td>\n",
       "      <td>01/27/2020</td>\n",
       "      <td>NaN</td>\n",
       "      <td>Malaysia</td>\n",
       "      <td>1/27/20 23:59</td>\n",
       "      <td>4.0</td>\n",
       "      <td>0.0</td>\n",
       "      <td>0.0</td>\n",
       "    </tr>\n",
       "    <tr>\n",
       "      <th>311</th>\n",
       "      <td>312</td>\n",
       "      <td>01/28/2020</td>\n",
       "      <td>NaN</td>\n",
       "      <td>Malaysia</td>\n",
       "      <td>1/28/20 23:00</td>\n",
       "      <td>4.0</td>\n",
       "      <td>0.0</td>\n",
       "      <td>0.0</td>\n",
       "    </tr>\n",
       "  </tbody>\n",
       "</table>\n",
       "</div>"
      ],
      "text/plain": [
       "     SNo ObservationDate Province/State Country/Region    Last Update  \\\n",
       "78    79      01/23/2020            NaN       Malaysia  1/23/20 17:00   \n",
       "168  169      01/25/2020            NaN       Malaysia  1/25/20 17:00   \n",
       "214  215      01/26/2020            NaN       Malaysia  1/26/20 16:00   \n",
       "260  261      01/27/2020            NaN       Malaysia  1/27/20 23:59   \n",
       "311  312      01/28/2020            NaN       Malaysia  1/28/20 23:00   \n",
       "\n",
       "     Confirmed  Deaths  Recovered  \n",
       "78         0.0     0.0        0.0  \n",
       "168        3.0     0.0        0.0  \n",
       "214        4.0     0.0        0.0  \n",
       "260        4.0     0.0        0.0  \n",
       "311        4.0     0.0        0.0  "
      ]
     },
     "execution_count": 33,
     "metadata": {},
     "output_type": "execute_result"
    }
   ],
   "source": [
    "### BEGIN SOLUTION\n",
    "\n",
    "### END SOLUTION"
   ]
  },
  {
   "cell_type": "markdown",
   "metadata": {},
   "source": [
    "We need to make sure there is no missing value in our data\n",
    ">**Instruction** : <br>\n",
    "Use `df.isnull().values.any()` to check any missing data in our dataset. `True` would mean that there is `NaN` in our dataset<br>\n",
    "Most of the column does not contain `NaN` values except for `Province/State `. This is acceptable since this data is not particularly useful to our use case which will be dropped later.\n",
    "\n",
    ">**Expected Result** :<br>\n",
    "\n",
    "Columns|Status\n",
    "---|---\n",
    "SNo                |False\n",
    "ObservationDate    |False\n",
    "Province/State      |True\n",
    "Country/Region     |False\n",
    "Last Update        |False\n",
    "Confirmed          |False\n",
    "Deaths             |False\n",
    "Recovered          |False"
   ]
  },
  {
   "cell_type": "code",
   "execution_count": 34,
   "metadata": {},
   "outputs": [
    {
     "data": {
      "text/plain": [
       "SNo                False\n",
       "ObservationDate    False\n",
       "Province/State      True\n",
       "Country/Region     False\n",
       "Last Update        False\n",
       "Confirmed          False\n",
       "Deaths             False\n",
       "Recovered          False\n",
       "dtype: bool"
      ]
     },
     "execution_count": 34,
     "metadata": {},
     "output_type": "execute_result"
    }
   ],
   "source": [
    "### BEGIN SOLUTION\n",
    "### END SOLUTION"
   ]
  },
  {
   "cell_type": "markdown",
   "metadata": {},
   "source": [
    ">**Instruction** : <br>\n",
    "Set the `ObservationDate` as the index for the dataset. You are required to convert `ObservationDate` to datetime using `pd.to_datetime()` <br>\n",
    "\n",
    ">**Expected Result** :<br>\n",
    "Example of first 5 row data :\n",
    "\n",
    "ObservationDate\t|SNo\t|ObservationDate\t|Province/State\t|Country/Region\t|Last Update\t|Confirmed\t|Deaths\t|Recovered\n",
    " ---|---\t|---\t            |---\t        |---\t        |---\t        |---\t    |---\t|---\n",
    "01/23/2020\t|79\t    |01/23/2020\t|NaN\t|Malaysia\t|1/23/20 |17:00\t|0.0\t|0.0\t|0.0\n",
    "01/25/2020\t|169\t|01/25/2020\t|NaN\t|Malaysia\t|1/25/20 |17:00\t|3.0\t|0.0\t|0.0\n",
    "01/26/2020\t|215\t|01/26/2020\t|NaN\t|Malaysia\t|1/26/20 |16:00\t|4.0\t|0.0\t|0.0\n",
    "01/27/2020\t|261\t|01/27/2020\t|NaN\t|Malaysia\t|1/27/20 |23:59\t|4.0\t|0.0\t|0.0\n",
    "01/28/2020\t|312\t|01/28/2020\t|NaN\t|Malaysia\t|1/28/20 |23:00\t|4.0\t|0.0\t|0.0"
   ]
  },
  {
   "cell_type": "code",
   "execution_count": 35,
   "metadata": {},
   "outputs": [
    {
     "data": {
      "text/html": [
       "<div>\n",
       "<style scoped>\n",
       "    .dataframe tbody tr th:only-of-type {\n",
       "        vertical-align: middle;\n",
       "    }\n",
       "\n",
       "    .dataframe tbody tr th {\n",
       "        vertical-align: top;\n",
       "    }\n",
       "\n",
       "    .dataframe thead th {\n",
       "        text-align: right;\n",
       "    }\n",
       "</style>\n",
       "<table border=\"1\" class=\"dataframe\">\n",
       "  <thead>\n",
       "    <tr style=\"text-align: right;\">\n",
       "      <th></th>\n",
       "      <th>SNo</th>\n",
       "      <th>ObservationDate</th>\n",
       "      <th>Province/State</th>\n",
       "      <th>Country/Region</th>\n",
       "      <th>Last Update</th>\n",
       "      <th>Confirmed</th>\n",
       "      <th>Deaths</th>\n",
       "      <th>Recovered</th>\n",
       "    </tr>\n",
       "    <tr>\n",
       "      <th>ObservationDate</th>\n",
       "      <th></th>\n",
       "      <th></th>\n",
       "      <th></th>\n",
       "      <th></th>\n",
       "      <th></th>\n",
       "      <th></th>\n",
       "      <th></th>\n",
       "      <th></th>\n",
       "    </tr>\n",
       "  </thead>\n",
       "  <tbody>\n",
       "    <tr>\n",
       "      <th>2020-01-23</th>\n",
       "      <td>79</td>\n",
       "      <td>01/23/2020</td>\n",
       "      <td>NaN</td>\n",
       "      <td>Malaysia</td>\n",
       "      <td>1/23/20 17:00</td>\n",
       "      <td>0.0</td>\n",
       "      <td>0.0</td>\n",
       "      <td>0.0</td>\n",
       "    </tr>\n",
       "    <tr>\n",
       "      <th>2020-01-25</th>\n",
       "      <td>169</td>\n",
       "      <td>01/25/2020</td>\n",
       "      <td>NaN</td>\n",
       "      <td>Malaysia</td>\n",
       "      <td>1/25/20 17:00</td>\n",
       "      <td>3.0</td>\n",
       "      <td>0.0</td>\n",
       "      <td>0.0</td>\n",
       "    </tr>\n",
       "    <tr>\n",
       "      <th>2020-01-26</th>\n",
       "      <td>215</td>\n",
       "      <td>01/26/2020</td>\n",
       "      <td>NaN</td>\n",
       "      <td>Malaysia</td>\n",
       "      <td>1/26/20 16:00</td>\n",
       "      <td>4.0</td>\n",
       "      <td>0.0</td>\n",
       "      <td>0.0</td>\n",
       "    </tr>\n",
       "    <tr>\n",
       "      <th>2020-01-27</th>\n",
       "      <td>261</td>\n",
       "      <td>01/27/2020</td>\n",
       "      <td>NaN</td>\n",
       "      <td>Malaysia</td>\n",
       "      <td>1/27/20 23:59</td>\n",
       "      <td>4.0</td>\n",
       "      <td>0.0</td>\n",
       "      <td>0.0</td>\n",
       "    </tr>\n",
       "    <tr>\n",
       "      <th>2020-01-28</th>\n",
       "      <td>312</td>\n",
       "      <td>01/28/2020</td>\n",
       "      <td>NaN</td>\n",
       "      <td>Malaysia</td>\n",
       "      <td>1/28/20 23:00</td>\n",
       "      <td>4.0</td>\n",
       "      <td>0.0</td>\n",
       "      <td>0.0</td>\n",
       "    </tr>\n",
       "  </tbody>\n",
       "</table>\n",
       "</div>"
      ],
      "text/plain": [
       "                 SNo ObservationDate Province/State Country/Region  \\\n",
       "ObservationDate                                                      \n",
       "2020-01-23        79      01/23/2020            NaN       Malaysia   \n",
       "2020-01-25       169      01/25/2020            NaN       Malaysia   \n",
       "2020-01-26       215      01/26/2020            NaN       Malaysia   \n",
       "2020-01-27       261      01/27/2020            NaN       Malaysia   \n",
       "2020-01-28       312      01/28/2020            NaN       Malaysia   \n",
       "\n",
       "                   Last Update  Confirmed  Deaths  Recovered  \n",
       "ObservationDate                                               \n",
       "2020-01-23       1/23/20 17:00        0.0     0.0        0.0  \n",
       "2020-01-25       1/25/20 17:00        3.0     0.0        0.0  \n",
       "2020-01-26       1/26/20 16:00        4.0     0.0        0.0  \n",
       "2020-01-27       1/27/20 23:59        4.0     0.0        0.0  \n",
       "2020-01-28       1/28/20 23:00        4.0     0.0        0.0  "
      ]
     },
     "execution_count": 35,
     "metadata": {},
     "output_type": "execute_result"
    }
   ],
   "source": [
    "### BEGIN SOLUTION\n",
    "### END SOLUTION\n",
    "\n",
    "new_covid_data.head()"
   ]
  },
  {
   "cell_type": "markdown",
   "metadata": {},
   "source": [
    "Columns such as `SNo`,`ObservationDate`,`Province/State`,`Country/Region`,`Last Update` do not provide any useful information to us. Hence, we need to drop it to make the data look cleaner. \n",
    "\n",
    ">**Instruction** : <br>\n",
    "Use `df.drop` to drop the `columns = ['SNo','ObservationDate','Province/State','Country/Region','Last Update']`<br>\n",
    "\n",
    ">**Expected Result** :<br>\n",
    "\n",
    "ObservationDate\t|Confirmed\t|Deaths\t|Recovered\n",
    "\t---|---|---|---\t\t\n",
    "2020-01-23|\t0.0|\t0.0|\t0.0\n",
    "2020-01-25|\t3.0|\t0.0|\t0.0\n",
    "2020-01-26|\t4.0|\t0.0|\t0.0\n",
    "2020-01-27|\t4.0|\t0.0|\t0.0\n",
    "2020-01-28|\t4.0|    0.0|\t0.0"
   ]
  },
  {
   "cell_type": "code",
   "execution_count": 36,
   "metadata": {},
   "outputs": [
    {
     "data": {
      "text/html": [
       "<div>\n",
       "<style scoped>\n",
       "    .dataframe tbody tr th:only-of-type {\n",
       "        vertical-align: middle;\n",
       "    }\n",
       "\n",
       "    .dataframe tbody tr th {\n",
       "        vertical-align: top;\n",
       "    }\n",
       "\n",
       "    .dataframe thead th {\n",
       "        text-align: right;\n",
       "    }\n",
       "</style>\n",
       "<table border=\"1\" class=\"dataframe\">\n",
       "  <thead>\n",
       "    <tr style=\"text-align: right;\">\n",
       "      <th></th>\n",
       "      <th>Confirmed</th>\n",
       "      <th>Deaths</th>\n",
       "      <th>Recovered</th>\n",
       "    </tr>\n",
       "    <tr>\n",
       "      <th>ObservationDate</th>\n",
       "      <th></th>\n",
       "      <th></th>\n",
       "      <th></th>\n",
       "    </tr>\n",
       "  </thead>\n",
       "  <tbody>\n",
       "    <tr>\n",
       "      <th>2020-01-23</th>\n",
       "      <td>0.0</td>\n",
       "      <td>0.0</td>\n",
       "      <td>0.0</td>\n",
       "    </tr>\n",
       "    <tr>\n",
       "      <th>2020-01-25</th>\n",
       "      <td>3.0</td>\n",
       "      <td>0.0</td>\n",
       "      <td>0.0</td>\n",
       "    </tr>\n",
       "    <tr>\n",
       "      <th>2020-01-26</th>\n",
       "      <td>4.0</td>\n",
       "      <td>0.0</td>\n",
       "      <td>0.0</td>\n",
       "    </tr>\n",
       "    <tr>\n",
       "      <th>2020-01-27</th>\n",
       "      <td>4.0</td>\n",
       "      <td>0.0</td>\n",
       "      <td>0.0</td>\n",
       "    </tr>\n",
       "    <tr>\n",
       "      <th>2020-01-28</th>\n",
       "      <td>4.0</td>\n",
       "      <td>0.0</td>\n",
       "      <td>0.0</td>\n",
       "    </tr>\n",
       "  </tbody>\n",
       "</table>\n",
       "</div>"
      ],
      "text/plain": [
       "                 Confirmed  Deaths  Recovered\n",
       "ObservationDate                              \n",
       "2020-01-23             0.0     0.0        0.0\n",
       "2020-01-25             3.0     0.0        0.0\n",
       "2020-01-26             4.0     0.0        0.0\n",
       "2020-01-27             4.0     0.0        0.0\n",
       "2020-01-28             4.0     0.0        0.0"
      ]
     },
     "execution_count": 36,
     "metadata": {},
     "output_type": "execute_result"
    }
   ],
   "source": [
    "### BEGIN SOLUTION\n",
    "### END SOLUTION\n",
    "new_covid_data.head()"
   ]
  },
  {
   "cell_type": "markdown",
   "metadata": {},
   "source": [
    "To make our sliding window function working. You need to rearrange the data columns such as the targeted forecast series will be the last column of the data\n",
    ">**Instruction** : <br>\n",
    "Rearrange the data column using `df[]`<br>\n",
    "For example : <br>\n",
    "columns = [`A`,`B`,`C`]<br>\n",
    "rearrage columns = [`A`,`C`,`B`]<br>\n",
    "`df =  df[rearrage columns]`\n",
    "\n",
    ">**Expected Result** :<br>\n",
    "\n",
    "ObservationDate|\tConfirmed|\tRecovered|\tDeaths\n",
    "\t\t---|---|---|---\t\n",
    "2020-01-23|\t0.0|\t0.0|\t0.0\n",
    "2020-01-25|\t3.0|\t0.0|\t0.0\n",
    "2020-01-26|\t4.0|\t0.0|\t0.0\n",
    "2020-01-27|\t4.0|\t0.0|\t0.0\n",
    "2020-01-28|\t4.0|\t0.0|\t0.0"
   ]
  },
  {
   "cell_type": "code",
   "execution_count": 37,
   "metadata": {},
   "outputs": [
    {
     "data": {
      "text/html": [
       "<div>\n",
       "<style scoped>\n",
       "    .dataframe tbody tr th:only-of-type {\n",
       "        vertical-align: middle;\n",
       "    }\n",
       "\n",
       "    .dataframe tbody tr th {\n",
       "        vertical-align: top;\n",
       "    }\n",
       "\n",
       "    .dataframe thead th {\n",
       "        text-align: right;\n",
       "    }\n",
       "</style>\n",
       "<table border=\"1\" class=\"dataframe\">\n",
       "  <thead>\n",
       "    <tr style=\"text-align: right;\">\n",
       "      <th></th>\n",
       "      <th>Confirmed</th>\n",
       "      <th>Recovered</th>\n",
       "      <th>Deaths</th>\n",
       "    </tr>\n",
       "    <tr>\n",
       "      <th>ObservationDate</th>\n",
       "      <th></th>\n",
       "      <th></th>\n",
       "      <th></th>\n",
       "    </tr>\n",
       "  </thead>\n",
       "  <tbody>\n",
       "    <tr>\n",
       "      <th>2020-01-23</th>\n",
       "      <td>0.0</td>\n",
       "      <td>0.0</td>\n",
       "      <td>0.0</td>\n",
       "    </tr>\n",
       "    <tr>\n",
       "      <th>2020-01-25</th>\n",
       "      <td>3.0</td>\n",
       "      <td>0.0</td>\n",
       "      <td>0.0</td>\n",
       "    </tr>\n",
       "    <tr>\n",
       "      <th>2020-01-26</th>\n",
       "      <td>4.0</td>\n",
       "      <td>0.0</td>\n",
       "      <td>0.0</td>\n",
       "    </tr>\n",
       "    <tr>\n",
       "      <th>2020-01-27</th>\n",
       "      <td>4.0</td>\n",
       "      <td>0.0</td>\n",
       "      <td>0.0</td>\n",
       "    </tr>\n",
       "    <tr>\n",
       "      <th>2020-01-28</th>\n",
       "      <td>4.0</td>\n",
       "      <td>0.0</td>\n",
       "      <td>0.0</td>\n",
       "    </tr>\n",
       "  </tbody>\n",
       "</table>\n",
       "</div>"
      ],
      "text/plain": [
       "                 Confirmed  Recovered  Deaths\n",
       "ObservationDate                              \n",
       "2020-01-23             0.0        0.0     0.0\n",
       "2020-01-25             3.0        0.0     0.0\n",
       "2020-01-26             4.0        0.0     0.0\n",
       "2020-01-27             4.0        0.0     0.0\n",
       "2020-01-28             4.0        0.0     0.0"
      ]
     },
     "execution_count": 37,
     "metadata": {},
     "output_type": "execute_result"
    }
   ],
   "source": [
    "### BEGIN SOLUTION\n",
    "### END SOLUTION\n",
    "new_covid_data.head()"
   ]
  },
  {
   "cell_type": "markdown",
   "metadata": {},
   "source": [
    "## Data Visualization\n",
    "Data visualization is important for us to visualize the pattern of data such as trend and seasonality. Seeing the graph below, it is quite clear that there is an increasing trend in data"
   ]
  },
  {
   "cell_type": "code",
   "execution_count": 38,
   "metadata": {},
   "outputs": [
    {
     "data": {
      "image/png": "[encoded data removed]",
      "text/plain": [
       "<Figure size 792x648 with 3 Axes>"
      ]
     },
     "metadata": {
      "needs_background": "light"
     },
     "output_type": "display_data"
    }
   ],
   "source": [
    "# Visualize Data \n",
    "axes = new_covid_data[new_covid_data.columns].plot(alpha=1.0, linestyle='-', figsize=(11, 9), subplots=True)\n",
    "for ax in axes:\n",
    "    ax.set_ylabel('COVID-19-Malaysia')"
   ]
  },
  {
   "cell_type": "markdown",
   "metadata": {},
   "source": [
    "However, the data is in cumulative form. To perform time-series prediction, we need to convert the cumulative cases into daily cases.\n",
    "\n",
    ">**Instruction** : <br>\n",
    "Remove the cumulative counts. You might need to use a `For loop` to loop through the data for each columns .Use `new_covid_data[name] - new_covid_data[name].shift().fillna(0)` as the math operation to remove the cumulative<br>\n",
    "\n",
    ">**Expected Result** :<br>\n",
    "\n",
    "ObservationDate|\tConfirmed|\tRecovered|\tDeaths|\n",
    "\t---|\t---|---|---\t\n",
    "2020-01-23|\t0.0|\t0.0|\t0.0|\n",
    "2020-01-25|\t3.0|\t0.0|\t0.0|\n",
    "2020-01-26|\t1.0|\t0.0|\t0.0|\n",
    "2020-01-27|\t0.0|\t0.0|\t0.0|\n",
    "2020-01-28|\t0.0|\t0.0|\t0.0|"
   ]
  },
  {
   "cell_type": "code",
   "execution_count": 39,
   "metadata": {},
   "outputs": [
    {
     "data": {
      "text/html": [
       "<div>\n",
       "<style scoped>\n",
       "    .dataframe tbody tr th:only-of-type {\n",
       "        vertical-align: middle;\n",
       "    }\n",
       "\n",
       "    .dataframe tbody tr th {\n",
       "        vertical-align: top;\n",
       "    }\n",
       "\n",
       "    .dataframe thead th {\n",
       "        text-align: right;\n",
       "    }\n",
       "</style>\n",
       "<table border=\"1\" class=\"dataframe\">\n",
       "  <thead>\n",
       "    <tr style=\"text-align: right;\">\n",
       "      <th></th>\n",
       "      <th>Confirmed</th>\n",
       "      <th>Recovered</th>\n",
       "      <th>Deaths</th>\n",
       "    </tr>\n",
       "    <tr>\n",
       "      <th>ObservationDate</th>\n",
       "      <th></th>\n",
       "      <th></th>\n",
       "      <th></th>\n",
       "    </tr>\n",
       "  </thead>\n",
       "  <tbody>\n",
       "    <tr>\n",
       "      <th>2020-01-23</th>\n",
       "      <td>0.0</td>\n",
       "      <td>0.0</td>\n",
       "      <td>0.0</td>\n",
       "    </tr>\n",
       "    <tr>\n",
       "      <th>2020-01-25</th>\n",
       "      <td>3.0</td>\n",
       "      <td>0.0</td>\n",
       "      <td>0.0</td>\n",
       "    </tr>\n",
       "    <tr>\n",
       "      <th>2020-01-26</th>\n",
       "      <td>1.0</td>\n",
       "      <td>0.0</td>\n",
       "      <td>0.0</td>\n",
       "    </tr>\n",
       "    <tr>\n",
       "      <th>2020-01-27</th>\n",
       "      <td>0.0</td>\n",
       "      <td>0.0</td>\n",
       "      <td>0.0</td>\n",
       "    </tr>\n",
       "    <tr>\n",
       "      <th>2020-01-28</th>\n",
       "      <td>0.0</td>\n",
       "      <td>0.0</td>\n",
       "      <td>0.0</td>\n",
       "    </tr>\n",
       "  </tbody>\n",
       "</table>\n",
       "</div>"
      ],
      "text/plain": [
       "                 Confirmed  Recovered  Deaths\n",
       "ObservationDate                              \n",
       "2020-01-23             0.0        0.0     0.0\n",
       "2020-01-25             3.0        0.0     0.0\n",
       "2020-01-26             1.0        0.0     0.0\n",
       "2020-01-27             0.0        0.0     0.0\n",
       "2020-01-28             0.0        0.0     0.0"
      ]
     },
     "execution_count": 39,
     "metadata": {},
     "output_type": "execute_result"
    }
   ],
   "source": [
    "### BEGIN SOLUTION\n",
    "### END SOLUTION\n",
    "new_covid_data.head()"
   ]
  },
  {
   "cell_type": "code",
   "execution_count": 40,
   "metadata": {},
   "outputs": [
    {
     "data": {
      "image/png": "[encoded data removed]",
      "text/plain": [
       "<Figure size 792x648 with 3 Axes>"
      ]
     },
     "metadata": {
      "needs_background": "light"
     },
     "output_type": "display_data"
    }
   ],
   "source": [
    "# Visualize Data \n",
    "axes = new_covid_data[new_covid_data.columns].plot(alpha=1.0, linestyle='-', figsize=(11, 9), subplots=True)\n",
    "for ax in axes:\n",
    "    ax.set_ylabel('COVID-19-Malaysia')"
   ]
  },
  {
   "cell_type": "markdown",
   "metadata": {},
   "source": [
    "## Data Splitting\n",
    "In Deep Learning, we will split the data into training and test dataset. The training data is used to train the model where the test data is used to validate the performance of the model."
   ]
  },
  {
   "cell_type": "code",
   "execution_count": 41,
   "metadata": {},
   "outputs": [
    {
     "data": {
      "text/plain": [
       "28"
      ]
     },
     "execution_count": 41,
     "metadata": {},
     "output_type": "execute_result"
    }
   ],
   "source": [
    "split_data_covid = round(len(dataset)*split_ratio)\n",
    "split_data_covid"
   ]
  },
  {
   "cell_type": "code",
   "execution_count": 42,
   "metadata": {},
   "outputs": [
    {
     "name": "stdout",
     "output_type": "stream",
     "text": [
      "train_data_shape\n",
      "(373, 3)\n",
      "test_data_shape\n",
      "(28, 3)\n"
     ]
    }
   ],
   "source": [
    "# Split data by indexing \n",
    "train_data_covid = new_covid_data[:-split_data_covid ]\n",
    "test_data_covid = new_covid_data[-split_data_covid :]\n",
    "train_time_covid = new_covid_data.index[:-split_data_covid ]\n",
    "test_time_covid = new_covid_data.index[-split_data_covid :]\n",
    "\n",
    "print(\"train_data_shape\")\n",
    "print(train_data_covid.shape)\n",
    "print(\"test_data_shape\")\n",
    "print(test_data_covid.shape)"
   ]
  },
  {
   "cell_type": "markdown",
   "metadata": {},
   "source": [
    "## Data Normalization \n",
    "Normalize the data into range of 0 to 1"
   ]
  },
  {
   "cell_type": "code",
   "execution_count": 43,
   "metadata": {},
   "outputs": [
    {
     "name": "stdout",
     "output_type": "stream",
     "text": [
      "train_data_normalized_demand(1119, 1)\n",
      "test_data_normalized_demand(84, 1)\n"
     ]
    }
   ],
   "source": [
    "scaler_covid = MinMaxScaler().fit(train_data_covid.values.reshape(-1,1))\n",
    "train_data_normalized_covid  = scaler_covid.transform(train_data_covid.values.reshape(-1, 1))\n",
    "test_data_normalized_covid = scaler_covid.transform(test_data_covid.values.reshape(-1, 1))\n",
    "print(\"train_data_normalized_demand\"+str(train_data_normalized_covid.shape))\n",
    "print(\"test_data_normalized_demand\"+str(test_data_normalized_covid.shape))"
   ]
  },
  {
   "cell_type": "markdown",
   "metadata": {},
   "source": [
    "Transform back to original data shape because the MinMaxScaler from sklearn library can only work in 1D dimension"
   ]
  },
  {
   "cell_type": "code",
   "execution_count": 44,
   "metadata": {},
   "outputs": [
    {
     "name": "stdout",
     "output_type": "stream",
     "text": [
      "test_data_normalized(373, 3)\n",
      "test_data_normalized(28, 3)\n"
     ]
    }
   ],
   "source": [
    "# Transform after scaling \n",
    "train_data_normalized_covid = train_data_normalized_covid.reshape(train_data_covid.shape[0],train_data_covid.shape[1])\n",
    "print(\"test_data_normalized\"+str(train_data_normalized_covid.shape))\n",
    "\n",
    "test_data_normalized_covid = test_data_normalized_covid.reshape(test_data_covid.shape[0],test_data_covid.shape[1])\n",
    "print(\"test_data_normalized\"+str(test_data_normalized_covid.shape))"
   ]
  },
  {
   "cell_type": "markdown",
   "metadata": {},
   "source": [
    "## Data Sequencing\n",
    "Sequencing the data by taking in the multivariate series into `x-feature` and `y-label`\n",
    "<img src = \"../../picture/multivariate univariate.png\"  width=\"300\" height  =\"300\" align=\"center\" />"
   ]
  },
  {
   "cell_type": "code",
   "execution_count": 45,
   "metadata": {},
   "outputs": [
    {
     "name": "stdout",
     "output_type": "stream",
     "text": [
      "trainX_demand shape:(354, 20, 2) trainY_demand shape:(354, 1)\n",
      "\n",
      "testX_demand shape:(9, 20, 2) testY_demand shape:(9, 1)\n"
     ]
    }
   ],
   "source": [
    "trainX_covid ,trainY_covid=  data_module.multivariate_univariate_multi_step(train_data_normalized_covid,window_size_covid,n_step_covid)\n",
    "testX_covid , testY_covid = data_module.multivariate_univariate_multi_step(test_data_normalized_covid,window_size_covid,n_step_covid)\n",
    "print(f\"trainX_demand shape:{trainX_covid.shape} trainY_demand shape:{trainY_covid.shape}\\n\")\n",
    "print(f\"testX_demand shape:{testX_covid.shape} testY_demand shape:{testY_covid.shape}\")"
   ]
  },
  {
   "cell_type": "code",
   "execution_count": 46,
   "metadata": {},
   "outputs": [
    {
     "name": "stdout",
     "output_type": "stream",
     "text": [
      "trainY shape:(354, 1, 1)\n",
      "testY shape:(9, 1, 1)\n"
     ]
    }
   ],
   "source": [
    "trainY_covid = trainY_covid.reshape(trainY_covid.shape[0],n_step_covid,1)\n",
    "testY_covid= testY_covid.reshape(testY_covid.shape[0],n_step_covid,1)\n",
    "print(f\"trainY shape:{trainY_covid.shape}\")\n",
    "print(f\"testY shape:{testY_covid.shape}\")"
   ]
  },
  {
   "cell_type": "markdown",
   "metadata": {},
   "source": [
    "### Data Transform\n",
    "Data needs to be transformed from numpy to pytorch tensor before being fed into the model.\n",
    "\n",
    ">**Instruction** : <br>\n",
    "Use `data_module.key_assign` to assign the key and `data_module.transform` to transform the data."
   ]
  },
  {
   "cell_type": "code",
   "execution_count": 47,
   "metadata": {},
   "outputs": [],
   "source": [
    "### BEGIN SOLUTION\n",
    "\n",
    "### END SOLUTION"
   ]
  },
  {
   "cell_type": "code",
   "execution_count": 48,
   "metadata": {},
   "outputs": [
    {
     "name": "stdout",
     "output_type": "stream",
     "text": [
      "train_data_x_feature shape : torch.Size([354, 20, 2])\n",
      "train_data_y_label shape : torch.Size([354, 1, 1])\n",
      "test_data_x_feature shape : torch.Size([9, 20, 2])\n",
      "test_data_y_label shape : torch.Size([9, 1, 1])\n"
     ]
    }
   ],
   "source": [
    "data_module.sanity_check(train_data_dict_covid , test_data_dict_covid)"
   ]
  },
  {
   "cell_type": "markdown",
   "metadata": {},
   "source": [
    "## Data Transpose \n",
    "You are require to transpose the `x-feature` data in such a way that : <br>\n",
    ">`(batch_size, number_of_features, sequence_length)`.\n",
    "\n",
    ">**Instruction** : <br>\n",
    "Use `transpose` function in `data_module.py` to transpose the suitable input data for CNN model."
   ]
  },
  {
   "cell_type": "code",
   "execution_count": 49,
   "metadata": {},
   "outputs": [],
   "source": [
    "train_data_dict_covid , test_data_dict_covid = data_module.transpose(train_data_dict_covid,\n",
    "                                                                     test_data_dict_covid)"
   ]
  },
  {
   "cell_type": "code",
   "execution_count": 50,
   "metadata": {},
   "outputs": [
    {
     "name": "stdout",
     "output_type": "stream",
     "text": [
      "train_data_x_feature shape : torch.Size([354, 2, 20])\n",
      "train_data_y_label shape : torch.Size([354, 1, 1])\n",
      "test_data_x_feature shape : torch.Size([9, 2, 20])\n",
      "test_data_y_label shape : torch.Size([9, 1, 1])\n"
     ]
    }
   ],
   "source": [
    "data_module.sanity_check(train_data_dict_covid , test_data_dict_covid)"
   ]
  },
  {
   "cell_type": "markdown",
   "metadata": {},
   "source": [
    "## Data Iterator\n",
    "Iterator is created to allow the data to separate into several batches to fasten the training process\n",
    ">**Instruction** : <br>\n",
    "Use `data_module.iterator` to create data iterator."
   ]
  },
  {
   "cell_type": "code",
   "execution_count": 51,
   "metadata": {},
   "outputs": [],
   "source": [
    "### BEGIN SOLUTION\n",
    "\n",
    "### END SOLUTION"
   ]
  },
  {
   "cell_type": "markdown",
   "metadata": {},
   "source": [
    "# Step 2 :  CNN Model Configuration\n",
    "You may choose to use the CNN configuration that have been saved in the `deep_learning_module.py` or code it by yourself."
   ]
  },
  {
   "cell_type": "code",
   "execution_count": 52,
   "metadata": {},
   "outputs": [],
   "source": [
    "class CNN(nn.Module):\n",
    "\n",
    "    def __init__(self,n_feature,n_step):\n",
    "        super(CNN, self).__init__()\n",
    "        \n",
    "        self.n_feature = n_feature\n",
    "        self.n_step = n_step\n",
    "\n",
    "        # Conv1d in_channels is base on num time series\n",
    "        # Input:(N,C,Lin) Output : (N,C,Lout)\n",
    "        self.conv1 = nn.Conv1d(in_channels = n_feature, out_channels = 30, kernel_size = 3)\n",
    "        \n",
    "        # For example Input:(N,C,Lin) Output : (N,C,Lout)\n",
    "        self.pool1 = nn.MaxPool1d(kernel_size=2)\n",
    "        \n",
    "        self.conv2 = nn.Conv1d(in_channels = 30, out_channels = 20, kernel_size = 2)\n",
    "        \n",
    "        self.pool2 = nn.MaxPool1d(kernel_size=2)\n",
    "        \n",
    "        self.conv3 = nn.Conv1d(in_channels = 20, out_channels = 10, kernel_size = 2)\n",
    "        \n",
    "        # AdaptiveMaxPool1d use to make sure it always will output  = 1 ,to make sure return the correct batch size \n",
    "        self.pool3 = nn.AdaptiveMaxPool1d(1)\n",
    "        self.fc1 = nn.Linear(10, 5)\n",
    "        self.fc2 = nn.Linear(5,n_step)\n",
    "\n",
    "    def forward(self, x):\n",
    "        x = F.relu(self.conv1(x))\n",
    "        x = self.pool1(x)\n",
    "        x = F.relu(self.conv2(x))\n",
    "        x = self.pool2(x)\n",
    "        x = F.relu(self.conv3(x))\n",
    "        x = self.pool3(x)\n",
    "        x = x.view(-1,10)\n",
    "        x = F.relu(self.fc1(x))\n",
    "        x = self.fc2(x)\n",
    "\n",
    "        return x"
   ]
  },
  {
   "cell_type": "markdown",
   "metadata": {},
   "source": [
    "## Input Model\n",
    "\n",
    ">**Instruction** : <br>\n",
    "Input the model that you have configured, use `Adam` as the optimizer and `MSE` as the loss function"
   ]
  },
  {
   "cell_type": "code",
   "execution_count": 53,
   "metadata": {},
   "outputs": [],
   "source": [
    "# seed\n",
    "torch.manual_seed(123)\n",
    "\n",
    "n_feature_covid = train_data_dict_covid['train_data_x_feature'].shape[1]\n",
    "### BEGIN SOLUTION\n",
    "# Input the attribute need by the model \n",
    "\n",
    "\n",
    "### END SOLUTION\n",
    "\n",
    "# Define the optimizer (Here we use Adam as our optimizer)\n",
    "### BEGIN SOLUTION\n",
    "### END SOLUTION\n",
    "\n",
    "# Define the loss function (Here we use MSE as the loss function)\n",
    "### BEGIN SOLUTION\n",
    "### END SOLUTION"
   ]
  },
  {
   "cell_type": "code",
   "execution_count": 54,
   "metadata": {},
   "outputs": [
    {
     "name": "stdout",
     "output_type": "stream",
     "text": [
      "====================================================\n",
      "        Kernel Shape Output Shape Params Mult-Adds\n",
      "Layer                                             \n",
      "0_conv1   [2, 30, 3]  [5, 30, 18]  210.0     3.24k\n",
      "1_pool1            -   [5, 30, 9]      -         -\n",
      "2_conv2  [30, 20, 2]   [5, 20, 8]  1.22k      9.6k\n",
      "3_pool2            -   [5, 20, 4]      -         -\n",
      "4_conv3  [20, 10, 2]   [5, 10, 3]  410.0      1.2k\n",
      "5_pool3            -   [5, 10, 1]      -         -\n",
      "6_fc1        [10, 5]       [5, 5]   55.0      50.0\n",
      "7_fc2         [5, 1]       [5, 1]    6.0       5.0\n",
      "----------------------------------------------------\n",
      "                       Totals\n",
      "Total params           1.901k\n",
      "Trainable params       1.901k\n",
      "Non-trainable params      0.0\n",
      "Mult-Adds             14.095k\n",
      "====================================================\n",
      "        Kernel Shape Output Shape  Params  Mult-Adds\n",
      "Layer                                               \n",
      "0_conv1   [2, 30, 3]  [5, 30, 18]   210.0     3240.0\n",
      "1_pool1            -   [5, 30, 9]     NaN        NaN\n",
      "2_conv2  [30, 20, 2]   [5, 20, 8]  1220.0     9600.0\n",
      "3_pool2            -   [5, 20, 4]     NaN        NaN\n",
      "4_conv3  [20, 10, 2]   [5, 10, 3]   410.0     1200.0\n",
      "5_pool3            -   [5, 10, 1]     NaN        NaN\n",
      "6_fc1        [10, 5]       [5, 5]    55.0       50.0\n",
      "7_fc2         [5, 1]       [5, 1]     6.0        5.0\n"
     ]
    }
   ],
   "source": [
    "seq_length_covid = train_data_dict_covid['train_data_x_feature'].shape[2]\n",
    "\n",
    "# batch size ,input_dim ,seq_length\n",
    "inputs = torch.zeros((batch_size_covid,\n",
    "                      n_feature_covid ,\n",
    "                      seq_length_covid),dtype=torch.float) \n",
    "\n",
    "print(summary(model_covid,inputs))"
   ]
  },
  {
   "cell_type": "code",
   "execution_count": 55,
   "metadata": {},
   "outputs": [
    {
     "data": {
      "text/plain": [
       "CNN(\n",
       "  (conv1): Conv1d(2, 30, kernel_size=(3,), stride=(1,))\n",
       "  (pool1): MaxPool1d(kernel_size=2, stride=2, padding=0, dilation=1, ceil_mode=False)\n",
       "  (conv2): Conv1d(30, 20, kernel_size=(2,), stride=(1,))\n",
       "  (pool2): MaxPool1d(kernel_size=2, stride=2, padding=0, dilation=1, ceil_mode=False)\n",
       "  (conv3): Conv1d(20, 10, kernel_size=(2,), stride=(1,))\n",
       "  (pool3): AdaptiveMaxPool1d(output_size=1)\n",
       "  (fc1): Linear(in_features=10, out_features=5, bias=True)\n",
       "  (fc2): Linear(in_features=5, out_features=1, bias=True)\n",
       ")"
      ]
     },
     "execution_count": 55,
     "metadata": {},
     "output_type": "execute_result"
    }
   ],
   "source": [
    "torch.manual_seed(123)\n",
    "\n",
    "# Xavier weight intialization\n",
    "def weights_init(m):\n",
    "    if isinstance(m, nn.Conv1d):\n",
    "        nn.init.xavier_uniform_(m.weight.data)\n",
    "        \n",
    "model_covid.apply(weights_init)"
   ]
  },
  {
   "cell_type": "markdown",
   "metadata": {},
   "source": [
    "# Step 3 : Training\n",
    ">**Instruction** : <br>\n",
    "Use `deep_learning_module.training` to train the model."
   ]
  },
  {
   "cell_type": "code",
   "execution_count": 56,
   "metadata": {},
   "outputs": [],
   "source": [
    "#seed\n",
    "torch.manual_seed(123)\n",
    "### BEGIN SOLUTION\n",
    "\n",
    "# Start training \n",
    "\n",
    "### END SOLUTION"
   ]
  },
  {
   "cell_type": "markdown",
   "metadata": {},
   "source": [
    "# Step 4 : Validation"
   ]
  },
  {
   "cell_type": "code",
   "execution_count": 57,
   "metadata": {
    "scrolled": true
   },
   "outputs": [
    {
     "data": {
      "image/png": "[encoded data removed]",
      "text/plain": [
       "<Figure size 720x432 with 1 Axes>"
      ]
     },
     "metadata": {
      "needs_background": "light"
     },
     "output_type": "display_data"
    },
    {
     "name": "stdout",
     "output_type": "stream",
     "text": [
      "Epoch : 0 , training loss : 0.00028513053666957323 , validation loss : 4.041451423593874e-06\n",
      "Epoch : 1 , training loss : 7.424821750438009e-06 , validation loss : 6.746298721635766e-06\n",
      "Epoch : 2 , training loss : 2.009515990548397e-06 , validation loss : 4.7632459932679514e-05\n",
      "Epoch : 3 , training loss : 5.355492847875393e-06 , validation loss : 1.6947019907497128e-05\n",
      "Epoch : 4 , training loss : 7.181668010592086e-06 , validation loss : 1.9407941686545706e-05\n",
      "Epoch : 5 , training loss : 2.2263578901560166e-06 , validation loss : 3.3887674766851385e-05\n",
      "Epoch : 6 , training loss : 4.515865702413373e-06 , validation loss : 1.4774530629640341e-05\n",
      "Epoch : 7 , training loss : 2.296805908418028e-06 , validation loss : 3.910116396986673e-05\n",
      "Epoch : 8 , training loss : 6.9539902604920004e-06 , validation loss : 4.440918847750355e-05\n",
      "Epoch : 9 , training loss : 1.8035468893021095e-06 , validation loss : 4.466900807326763e-05\n",
      "Epoch : 10 , training loss : 4.753279498290406e-06 , validation loss : 3.110301764132196e-05\n",
      "Epoch : 11 , training loss : 9.637796045849958e-07 , validation loss : 4.1579326029427146e-05\n",
      "Epoch : 12 , training loss : 2.8851483894135382e-06 , validation loss : 4.2874233056661775e-05\n",
      "Epoch : 13 , training loss : 1.5505741824014421e-06 , validation loss : 4.589176144994175e-05\n",
      "Epoch : 14 , training loss : 2.4163228862805503e-06 , validation loss : 4.717187989121562e-05\n",
      "Epoch : 15 , training loss : 1.924023769224169e-06 , validation loss : 4.727609929331164e-05\n",
      "Epoch : 16 , training loss : 2.753165788892065e-06 , validation loss : 4.884290521860951e-05\n",
      "Epoch : 17 , training loss : 2.142937229255302e-06 , validation loss : 4.746788140942549e-05\n",
      "Epoch : 18 , training loss : 3.111519644447144e-06 , validation loss : 5.213877213666112e-05\n",
      "Epoch : 19 , training loss : 2.465133585200799e-06 , validation loss : 5.157906020435298e-05\n",
      "Epoch : 20 , training loss : 3.499408849597018e-06 , validation loss : 5.827626591781154e-05\n",
      "Epoch : 21 , training loss : 2.525864933013869e-06 , validation loss : 5.555043066528419e-05\n",
      "Epoch : 22 , training loss : 3.7111918937483137e-06 , validation loss : 6.342556581431482e-05\n",
      "Epoch : 23 , training loss : 2.3129866368524895e-06 , validation loss : 5.409692352663519e-05\n",
      "Epoch : 24 , training loss : 5.258112137184171e-06 , validation loss : 6.336439077535438e-05\n",
      "Epoch : 25 , training loss : 1.5904581004641805e-06 , validation loss : 5.363331042139584e-05\n",
      "Epoch : 26 , training loss : 6.762613388338947e-06 , validation loss : 6.049156339334635e-05\n",
      "Epoch : 27 , training loss : 1.4619314580937675e-06 , validation loss : 4.721794377676108e-05\n",
      "Epoch : 28 , training loss : 7.51886042668171e-06 , validation loss : 5.78567717942254e-05\n",
      "Epoch : 29 , training loss : 1.2132544272023787e-06 , validation loss : 4.153475391730252e-05\n",
      "Epoch : 30 , training loss : 4.977491489929905e-06 , validation loss : 5.457509582306052e-05\n",
      "Epoch : 31 , training loss : 1.3653479928480044e-06 , validation loss : 4.08163165654211e-05\n",
      "Epoch : 32 , training loss : 5.27139428563243e-06 , validation loss : 4.210517424022934e-05\n",
      "Epoch : 33 , training loss : 1.656000570573945e-06 , validation loss : 3.948061971136162e-05\n",
      "Epoch : 34 , training loss : 5.460151509635478e-06 , validation loss : 4.862992298310726e-05\n",
      "Epoch : 35 , training loss : 1.966188059106718e-06 , validation loss : 5.505843647471112e-05\n",
      "Epoch : 36 , training loss : 3.353273291258463e-06 , validation loss : 6.95141692024966e-05\n",
      "Epoch : 37 , training loss : 3.029206813287116e-06 , validation loss : 6.872812041870525e-05\n",
      "Epoch : 38 , training loss : 4.644329875909364e-06 , validation loss : 6.06949086229886e-05\n",
      "Epoch : 39 , training loss : 2.9225859158553733e-06 , validation loss : 4.850945414444949e-05\n",
      "Epoch : 40 , training loss : 5.4111329514286355e-06 , validation loss : 6.603120790613402e-05\n",
      "Epoch : 41 , training loss : 4.048696006038176e-06 , validation loss : 7.728408672846854e-05\n",
      "Epoch : 42 , training loss : 3.946435858505717e-06 , validation loss : 8.358796670412023e-05\n",
      "Epoch : 43 , training loss : 4.196180064421568e-06 , validation loss : 8.731091939908866e-05\n",
      "Epoch : 44 , training loss : 5.4787981519121746e-06 , validation loss : 9.470750471033777e-05\n",
      "Epoch : 45 , training loss : 4.436783296117551e-06 , validation loss : 9.105866451540755e-05\n",
      "Epoch : 46 , training loss : 6.9437109027597564e-06 , validation loss : 9.350659820483997e-05\n",
      "Epoch : 47 , training loss : 6.3135225886297215e-06 , validation loss : 0.00011477477124167813\n",
      "Epoch : 48 , training loss : 4.4852321812575535e-06 , validation loss : 3.267667731658245e-05\n",
      "Epoch : 49 , training loss : 1.1634489119935005e-05 , validation loss : 6.70167941684162e-05\n",
      "Epoch : 50 , training loss : 3.06242164290327e-06 , validation loss : 4.9520083242290035e-05\n",
      "Epoch : 51 , training loss : 1.0002911276062937e-05 , validation loss : 4.390167628621889e-05\n",
      "Epoch : 52 , training loss : 2.2692676413062963e-06 , validation loss : 6.698462433026482e-05\n",
      "Epoch : 53 , training loss : 8.402990018974312e-06 , validation loss : 2.610691222394558e-05\n",
      "Epoch : 54 , training loss : 1.5770351919412643e-06 , validation loss : 3.958580782637e-05\n",
      "Epoch : 55 , training loss : 2.7500054981636457e-06 , validation loss : 3.7137065090872864e-05\n",
      "Epoch : 56 , training loss : 2.734246659072247e-06 , validation loss : 3.778807230345491e-05\n",
      "Epoch : 57 , training loss : 3.072767811806673e-06 , validation loss : 4.1238413460733784e-05\n",
      "Epoch : 58 , training loss : 3.1253693903313414e-06 , validation loss : 4.169032702823946e-05\n",
      "Epoch : 59 , training loss : 3.5736471103887813e-06 , validation loss : 4.1986377659163234e-05\n",
      "Epoch : 60 , training loss : 3.640028541429404e-06 , validation loss : 4.015954942183776e-05\n",
      "Epoch : 61 , training loss : 3.7675884217621323e-06 , validation loss : 4.043140304727583e-05\n",
      "Epoch : 62 , training loss : 3.913984850691353e-06 , validation loss : 4.004360117606767e-05\n",
      "Epoch : 63 , training loss : 4.032298225655423e-06 , validation loss : 4.267850191455283e-05\n",
      "Epoch : 64 , training loss : 4.012407298735422e-06 , validation loss : 4.3224205203134465e-05\n",
      "Epoch : 65 , training loss : 4.3010143856279944e-06 , validation loss : 4.424272063058904e-05\n",
      "Epoch : 66 , training loss : 4.181127735958183e-06 , validation loss : 3.919582599741666e-05\n",
      "Epoch : 67 , training loss : 4.312869737466956e-06 , validation loss : 4.2009659106649146e-05\n",
      "Epoch : 68 , training loss : 4.391971596295268e-06 , validation loss : 3.263081129666211e-05\n",
      "Epoch : 69 , training loss : 4.654565536311484e-06 , validation loss : 4.292296499544237e-05\n",
      "Epoch : 70 , training loss : 3.2515641648103928e-06 , validation loss : 3.826269676210359e-05\n",
      "Epoch : 71 , training loss : 4.206633092240911e-06 , validation loss : 3.2911325939090195e-05\n",
      "Epoch : 72 , training loss : 4.343010663412901e-06 , validation loss : 3.015419881396358e-05\n",
      "Epoch : 73 , training loss : 4.340499764333536e-06 , validation loss : 2.5130320460044055e-05\n",
      "Epoch : 74 , training loss : 4.05700326423527e-06 , validation loss : 2.170832037033203e-05\n",
      "Epoch : 75 , training loss : 4.047935958080146e-06 , validation loss : 1.3050720655074758e-05\n",
      "Epoch : 76 , training loss : 4.323260440010161e-06 , validation loss : 5.523426453793137e-06\n",
      "Epoch : 77 , training loss : 3.474225931917414e-06 , validation loss : 1.2028247308787993e-06\n",
      "Epoch : 78 , training loss : 3.4510363037533644e-06 , validation loss : 1.3386517012905742e-06\n",
      "Epoch : 79 , training loss : 5.09504340925971e-07 , validation loss : 1.5334326488098466e-06\n",
      "Epoch : 80 , training loss : 4.2083006744732876e-07 , validation loss : 1.446051934787344e-06\n",
      "Epoch : 81 , training loss : 3.8462674451426845e-07 , validation loss : 1.36201189585942e-06\n",
      "Epoch : 82 , training loss : 3.608223638632888e-07 , validation loss : 1.326131357220422e-06\n",
      "Epoch : 83 , training loss : 3.406861020334338e-07 , validation loss : 1.3585767596345654e-06\n",
      "Epoch : 84 , training loss : 3.2375044894573675e-07 , validation loss : 1.3696389436922295e-06\n",
      "Epoch : 85 , training loss : 3.05246423650981e-07 , validation loss : 1.2667436900907585e-06\n",
      "Epoch : 86 , training loss : 2.8559185964327306e-07 , validation loss : 1.286446376980166e-06\n",
      "Epoch : 87 , training loss : 2.769406469959427e-07 , validation loss : 1.205278699166633e-06\n",
      "Epoch : 88 , training loss : 2.5603992938351345e-07 , validation loss : 1.3600505200075631e-06\n",
      "Epoch : 89 , training loss : 2.816776427410085e-07 , validation loss : 1.192574763485431e-06\n",
      "Epoch : 90 , training loss : 2.2110325558255037e-07 , validation loss : 1.492145277855646e-06\n",
      "Epoch : 91 , training loss : 3.0503070225605926e-07 , validation loss : 1.2411358941082856e-06\n",
      "Epoch : 92 , training loss : 1.9417368398038295e-07 , validation loss : 1.6189959903082733e-06\n",
      "Epoch : 93 , training loss : 3.056816230613883e-07 , validation loss : 1.2807053306258038e-06\n",
      "Epoch : 94 , training loss : 1.7672672369079554e-07 , validation loss : 1.6666062189566826e-06\n",
      "Epoch : 95 , training loss : 2.1418414234616293e-07 , validation loss : 1.4293608627566655e-06\n",
      "Epoch : 96 , training loss : 1.6487079019822914e-07 , validation loss : 1.2387868714035399e-06\n",
      "Epoch : 97 , training loss : 1.6333310185610607e-07 , validation loss : 1.6351165059960395e-06\n",
      "Epoch : 98 , training loss : 1.9705864138713936e-07 , validation loss : 1.3581607163359877e-06\n",
      "Epoch : 99 , training loss : 1.50909016637505e-07 , validation loss : 1.3018654069835773e-06\n",
      "Epoch : 100 , training loss : 1.6438898081323187e-07 , validation loss : 1.4415481801835185e-06\n",
      "Epoch : 101 , training loss : 1.585017833528675e-07 , validation loss : 1.5391107379198527e-06\n",
      "Epoch : 102 , training loss : 1.715422353801084e-07 , validation loss : 1.6693581857099262e-06\n",
      "Epoch : 103 , training loss : 1.36866258344325e-07 , validation loss : 1.7035507021824337e-06\n",
      "Epoch : 104 , training loss : 1.6980728047875958e-07 , validation loss : 1.6292776005381409e-06\n",
      "Epoch : 105 , training loss : 1.302857694968356e-07 , validation loss : 1.702408465260103e-06\n",
      "Epoch : 106 , training loss : 1.7530690979935842e-07 , validation loss : 1.7709339519771877e-06\n",
      "Epoch : 107 , training loss : 1.2577873175576807e-07 , validation loss : 1.945189903077941e-06\n",
      "Epoch : 108 , training loss : 1.9582926940268912e-07 , validation loss : 1.960999902116277e-06\n",
      "Epoch : 109 , training loss : 1.1723987165814537e-07 , validation loss : 1.8183345168330966e-06\n",
      "Epoch : 110 , training loss : 1.8764304975654013e-07 , validation loss : 1.6454277253311982e-06\n",
      "Epoch : 111 , training loss : 1.411510081270192e-07 , validation loss : 1.8571337881844051e-06\n",
      "Epoch : 112 , training loss : 1.3576634879309592e-07 , validation loss : 2.2234066566145175e-06\n",
      "Epoch : 113 , training loss : 1.4616310881127707e-07 , validation loss : 2.098609141083014e-06\n",
      "Epoch : 114 , training loss : 1.093016701508912e-07 , validation loss : 1.8100947222087093e-06\n",
      "Epoch : 115 , training loss : 1.5997472916009338e-07 , validation loss : 2.4785936400601513e-06\n",
      "Epoch : 116 , training loss : 1.318217157395512e-07 , validation loss : 1.2966073717911463e-06\n",
      "Epoch : 117 , training loss : 3.1952098767006217e-07 , validation loss : 7.972519111060844e-07\n",
      "Epoch : 118 , training loss : 1.1463245984023293e-07 , validation loss : 1.026327203766818e-06\n",
      "Epoch : 119 , training loss : 1.0757705043205698e-07 , validation loss : 9.167383596933279e-07\n",
      "Epoch : 120 , training loss : 1.3047999780692266e-07 , validation loss : 1.4192701579910743e-06\n",
      "Epoch : 121 , training loss : 1.166797834009652e-07 , validation loss : 9.43913707689919e-07\n",
      "Epoch : 122 , training loss : 2.3042442422175278e-07 , validation loss : 9.586159611293017e-07\n",
      "Epoch : 123 , training loss : 1.3042908680298094e-07 , validation loss : 6.340870899950662e-07\n",
      "Epoch : 124 , training loss : 1.805343743405726e-07 , validation loss : 1.6891460872001417e-06\n",
      "Epoch : 125 , training loss : 1.3311794721363381e-07 , validation loss : 1.2883828112030137e-06\n",
      "Epoch : 126 , training loss : 2.0608017274870287e-07 , validation loss : 8.642536941907666e-07\n",
      "Epoch : 127 , training loss : 1.9155183260909413e-07 , validation loss : 4.98445887034096e-07\n",
      "Epoch : 128 , training loss : 2.459935020748063e-07 , validation loss : 7.147035792816799e-07\n",
      "Epoch : 129 , training loss : 2.423054778303661e-07 , validation loss : 4.977804021816862e-07\n",
      "Epoch : 130 , training loss : 3.5581767524944893e-07 , validation loss : 7.840828604659894e-07\n",
      "Epoch : 131 , training loss : 4.119341374499772e-07 , validation loss : 3.2003712943959624e-07\n",
      "Epoch : 132 , training loss : 6.02595447519495e-07 , validation loss : 6.70591115673839e-07\n",
      "Epoch : 133 , training loss : 3.1757741692454e-07 , validation loss : 3.430082481751621e-07\n",
      "Epoch : 134 , training loss : 3.3163100330045174e-07 , validation loss : 6.894850817692107e-07\n",
      "Epoch : 135 , training loss : 1.4077769545136313e-07 , validation loss : 8.163856364262756e-07\n",
      "Epoch : 136 , training loss : 1.4450913043553477e-07 , validation loss : 1.0522567713956555e-06\n",
      "Epoch : 137 , training loss : 1.5122797539125632e-07 , validation loss : 8.61764186134274e-07\n",
      "Epoch : 138 , training loss : 2.2280031174167838e-07 , validation loss : 8.621070435310685e-07\n",
      "Epoch : 139 , training loss : 2.0817673338025668e-07 , validation loss : 9.650948855879606e-07\n",
      "Epoch : 140 , training loss : 2.038145377942806e-07 , validation loss : 8.587279928128232e-07\n",
      "Epoch : 141 , training loss : 2.355283128129409e-07 , validation loss : 1.022760304497044e-06\n",
      "Epoch : 142 , training loss : 2.325161971163232e-07 , validation loss : 1.064943931952358e-06\n",
      "Epoch : 143 , training loss : 2.538270555442626e-07 , validation loss : 1.0665744601586387e-06\n",
      "Epoch : 144 , training loss : 2.9874927003860644e-07 , validation loss : 8.743781671051288e-07\n",
      "Epoch : 145 , training loss : 3.6896598411736054e-07 , validation loss : 8.19090985260118e-07\n",
      "Epoch : 146 , training loss : 3.55540867988877e-07 , validation loss : 8.187109206877116e-07\n",
      "Epoch : 147 , training loss : 3.4641014005070527e-07 , validation loss : 9.556278873409003e-07\n",
      "Epoch : 148 , training loss : 2.6132838513373103e-07 , validation loss : 5.36876364599771e-07\n",
      "Epoch : 149 , training loss : 4.723592249706539e-07 , validation loss : 1.0262479703568615e-06\n"
     ]
    }
   ],
   "source": [
    "# Plot Learning Curve \n",
    "### BEGIN SOLUTION\n",
    "\n",
    "\n",
    "### END SOLUTION"
   ]
  },
  {
   "cell_type": "markdown",
   "metadata": {},
   "source": [
    "# Step 5 : Evaluation\n",
    "This section is to inference the model by feeding in testing data, determining the output forecast values and calculating the RMSE. For this exercise, use the function in `data_module` to run in each section.\n",
    "\n",
    "It consists of 4 sections :\n",
    "\n",
    "Section 1 : Feed in the train and test data to the model <br>\n",
    "Section 2 : Reshape both to the original data dimension <br> \n",
    "Section 3 : Invert the scaling back to the original data value <br>\n",
    "Section 4 : Calculate the RMSE of train and test data\n",
    "\n",
    ">**Instruction** : <br>\n",
    "Complete each section with the function in `data_module.py`"
   ]
  },
  {
   "cell_type": "code",
   "execution_count": 58,
   "metadata": {},
   "outputs": [],
   "source": [
    "# Section 1 : Make predictions\n",
    "\n",
    "### BEGIN SOLUTION\n",
    "\n",
    "### END SOLUTION"
   ]
  },
  {
   "cell_type": "code",
   "execution_count": 59,
   "metadata": {},
   "outputs": [],
   "source": [
    "# Assign evaluation key\n",
    "### BEGIN SOLUTION\n",
    "\n",
    "### END SOLUTION\n",
    "\n",
    "\n",
    "# Section 2 : Reshape data\n",
    "### BEGIN SOLUTION\n",
    "# Squeeze the output dimension\n",
    "### END SOLUTION"
   ]
  },
  {
   "cell_type": "code",
   "execution_count": 60,
   "metadata": {},
   "outputs": [
    {
     "name": "stdout",
     "output_type": "stream",
     "text": [
      "train_data_output shape : torch.Size([354, 1])\n",
      "test_data_output shape : torch.Size([9, 1])\n"
     ]
    }
   ],
   "source": [
    "data_module.sanity_check(data_1 = output_data_covid,data_2 = {})"
   ]
  },
  {
   "cell_type": "code",
   "execution_count": 61,
   "metadata": {},
   "outputs": [],
   "source": [
    "# Section 3 : Invert the scaling back to orignal data value\n",
    "### BEGIN SOLUTION\n",
    "\n",
    "### END SOLUTION"
   ]
  },
  {
   "cell_type": "markdown",
   "metadata": {},
   "source": [
    "`np.rint` is use to round our data to integer since the death cases should be an integer."
   ]
  },
  {
   "cell_type": "code",
   "execution_count": 62,
   "metadata": {},
   "outputs": [],
   "source": [
    "prediction_covid['test_data_prediction'] = np.rint(prediction_covid['test_data_prediction'])\n",
    "output_data_covid['test_data_output'] =  np.rint(output_data_covid['test_data_output']) "
   ]
  },
  {
   "cell_type": "code",
   "execution_count": 63,
   "metadata": {},
   "outputs": [
    {
     "name": "stdout",
     "output_type": "stream",
     "text": [
      "Test Data\t\t\tForecast\n",
      "[13.]\t\t[9.]\n",
      "[8.]\t\t[3.]\n",
      "[5.]\t\t[2.]\n",
      "[6.]\t\t[8.]\n",
      "[14.]\t\t[12.]\n",
      "[12.]\t\t[10.]\n",
      "[12.]\t\t[2.]\n",
      "[11.]\t\t[4.]\n",
      "[10.]\t\t[0.]\n"
     ]
    }
   ],
   "source": [
    "# List the forecast value\n",
    "### BEGIN SOLUTION\n",
    "### END SOLUTION"
   ]
  },
  {
   "cell_type": "code",
   "execution_count": 64,
   "metadata": {},
   "outputs": [
    {
     "name": "stdout",
     "output_type": "stream",
     "text": [
      "Train Score: 5.38 RMSE\n",
      "Test Score: 5.88 RMSE\n"
     ]
    }
   ],
   "source": [
    "# calculate root mean squared error\n",
    "### BEGIN SOLUTION\n",
    "print('Train Score: %.2f RMSE' % (trainScore_covid))\n",
    "print('Test Score: %.2f RMSE' % (testScore_covid))\n",
    "### END SOLUTION"
   ]
  },
  {
   "cell_type": "markdown",
   "metadata": {},
   "source": [
    "# Step 6 : Forecast Plot"
   ]
  },
  {
   "cell_type": "code",
   "execution_count": 65,
   "metadata": {},
   "outputs": [
    {
     "data": {
      "image/png": "[encoded data removed]",
      "text/plain": [
       "<Figure size 720x432 with 1 Axes>"
      ]
     },
     "metadata": {
      "needs_background": "light"
     },
     "output_type": "display_data"
    }
   ],
   "source": [
    "data_module.single_step_plot(original_test_data = test_data_covid[\"Deaths\"],\n",
    "                 sequence_test_data = output_data_covid['test_data_output'],\n",
    "                 forecast_data = prediction_covid['test_data_prediction'],\n",
    "                 test_time = test_time_covid,\n",
    "                 window_size = window_size_covid,\n",
    "                 original_plot = True,\n",
    "                 multivariate = True)\n"
   ]
  },
  {
   "cell_type": "markdown",
   "metadata": {},
   "source": [
    "## Summary\n",
    "In this tutorial you should have learnt:\n",
    "\n",
    "1. The flow of using CNN to perform multivariate input, univariate output single-step forecasting<br>\n",
    "\n",
    "Congratulations, that concludes this lesson.<br>\n",
    "\n",
    "\n",
    "Please proceed to other notebooks for other types of data in CNN forecasting  <br>\n",
    "\n",
    "1. ~~*[04 - CNN_Univariate_SingleStep]*~~ *Complete*\n",
    "2. ~~*[04 - CNN_Univariate_MultiStep]*~~*Complete*\n",
    "3. ~~*[04 - CNN_Multivariate_Univariate_SingleStep]*~~*Complete*\n",
    "4. [04 - CNN_Multivariate_Univariate_MultiStep](./04%20-%20CNN_Multivariate_Univariate_MultiStep.ipynb)<br>"
   ]
  },
  {
   "cell_type": "markdown",
   "metadata": {},
   "source": [
    "## Reference\n",
    "1. [Deep Learning for Time Series Forecasting (Predict the Future with MLPs,CNNs and LSTMs in Python) , Jason Brownlee](https://machinelearningmastery.com/deep-learning-for-time-series-forecasting/)"
   ]
  }
 ],
 "metadata": {
  "kernelspec": {
   "display_name": "Python 3",
   "language": "python",
   "name": "python3"
  },
  "language_info": {
   "codemirror_mode": {
    "name": "ipython",
    "version": 3
   },
   "file_extension": ".py",
   "mimetype": "text/x-python",
   "name": "python",
   "nbconvert_exporter": "python",
   "pygments_lexer": "ipython3",
   "version": "3.7.9"
  }
 },
 "nbformat": 4,
 "nbformat_minor": 4
}
