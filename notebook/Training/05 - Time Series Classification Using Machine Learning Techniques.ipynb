{
 "cells": [
  {
   "cell_type": "markdown",
   "metadata": {
    "deletable": false,
    "editable": false
   },
   "source": [
    "![logo](../../picture/license_header_logo.png)\n",
    "> **Copyright &copy; 2020 - 2021 CertifAI Sdn. Bhd.**<br>\n",
    " <br>\n",
    "This program and the accompanying materials are made available under the\n",
    "terms of the [Apache License, Version 2.0](https://www.apache.org/licenses/LICENSE-2.0). <br>\n",
    "Unless required by applicable law or agreed to in writing, software\n",
    "distributed under the License is distributed on an \"AS IS\" BASIS, WITHOUT\n",
    "WARRANTIES OR CONDITIONS OF ANY KIND, either express or implied. See the\n",
    "License for the specific language governing permissions and limitations\n",
    "under the License. <br>\n",
    "<br>**SPDX-License-Identifier: Apache-2.0**"
   ]
  },
  {
   "cell_type": "markdown",
   "metadata": {},
   "source": [
    "# 05 - Time Series Classification Using Machine Learning Techniques\n",
    "## Notebook Description\n",
    "This tutorial will walk you through on how to perform time series classification using machine learning techniques. All the techniques are readily available in sktime library. An exercise section is attached for you to practice and hone your skills. Do make good use of it.\n",
    "\n",
    "By the end of this tutorial, you will be able to:\n",
    "\n",
    "1. Prepare dataset to be feed into machine learning model\n",
    "2. Build and apply IndividualBOSS and time series forest model \n",
    "3. Perform supervised classification tasks on univariate time series data\n",
    "\n",
    "## Notebook Outline\n",
    "Below is the outline for this tutorial:\n",
    "1. [Notebook Configurations](#configuration)\n",
    "2. [Dataset](#dataset)\n",
    "3. [Basic Analytics](#analytics)\n",
    "4. [Model Development](#model-dev) \n",
    "\n",
    "    *  [IndividualBOSS](#boss) \n",
    "    *  [Time Series Forest](#tsf)\n",
    "5. [Evaluation](#evaluation)\n",
    "6. [Exercise](#exercise)\n",
    "7. [Reference](#reference)\n",
    "8. [Bonus](#bonus)\n",
    "\n"
   ]
  },
  {
   "cell_type": "markdown",
   "metadata": {},
   "source": [
    "## <a name=\"configuration\">Notebook configurations</a>\n",
    "Following are the modules that will be used for this tutorial. This notebook will heavily use `sktime` as they provide great API for time series modeling. You can find out more about them [here](https://www.sktime.org/en/latest/about.html)."
   ]
  },
  {
   "cell_type": "code",
   "execution_count": 1,
   "metadata": {},
   "outputs": [],
   "source": [
    "# Importing libraries\n",
    "import sys\n",
    "import numpy as np\n",
    "import matplotlib.pyplot as plt\n",
    "from sktime.datasets import load_gunpoint\n",
    "from sklearn.preprocessing import LabelBinarizer\n",
    "from sklearn.tree import DecisionTreeClassifier\n",
    "from sklearn.pipeline import Pipeline\n",
    "from sktime.utils.slope_and_trend import _slope\n",
    "from sktime.classification.compose import TimeSeriesForestClassifier\n",
    "from sktime.classification.dictionary_based._boss import IndividualBOSS\n",
    "\n",
    "# seed configuration\n",
    "seed = 38\n",
    "np.random.seed(seed)\n"
   ]
  },
  {
   "cell_type": "markdown",
   "metadata": {},
   "source": [
    "## <a name=\"dataset\">Dataset</a>\n",
    "The dataset to be used is the GunPoint dataset. Quoting the dataset descriptions from http://www.timeseriesclassification.com/description.php?Dataset=GunPoint.\n",
    "\n",
    "`\"This dataset involves one female actor and one male actor making a motion with their hand. The two classes are: Gun-Draw and Point: For Gun-Draw the actors have their hands by their sides. They draw a replicate gun from a hip-mounted holster, point it at a target for approximately one second, then return the gun to the holster, and their hands to their sides. For Point the actors have their gun by their sides. They point with their index fingers to a target for approximately one second, and then return their hands to their sides. For both classes, we tracked the centroid of the actor's right hands in both X- and Y-axes, which appear to be highly correlated. The data in the archive is just the X-axis.\"`\n",
    "\n",
    "`sktime` has provided some in-built datasets that shipped along with their module, and GunPoint dataset is one of them."
   ]
  },
  {
   "cell_type": "code",
   "execution_count": 2,
   "metadata": {},
   "outputs": [],
   "source": [
    "# load dataset\n",
    "df_train = load_gunpoint(split=\"train\")\n",
    "df_test = load_gunpoint(split=\"test\")"
   ]
  },
  {
   "cell_type": "markdown",
   "metadata": {},
   "source": [
    "## <a name=\"analytics\">Basic Analytics</a>\n",
    "Let's do some basic analytics and see what nugget can we find out of the training dataset! Let first find out the number of rows and columns of the training dataset.\n",
    "\n",
    "**Note: Since we are not supposed to know any information about the test dataset, we will not perform any analytics on it.**"
   ]
  },
  {
   "cell_type": "code",
   "execution_count": 3,
   "metadata": {},
   "outputs": [
    {
     "name": "stdout",
     "output_type": "stream",
     "text": [
      "Shape of dataset is: (50, 2)\n",
      "Rows of train data are: 50\n",
      "Columns of train data are: 2\n"
     ]
    }
   ],
   "source": [
    "# compute the number of rows and columns of train data\n",
    "df_train_rows = df_train.shape[0]\n",
    "df_train_columns = df_train.shape[1]\n",
    "\n",
    "print(f\"Shape of dataset is: {df_train.shape}\")\n",
    "print(\"Rows of train data are: \" + str(df_train_rows))\n",
    "print(\"Columns of train data are: \" + str(df_train_columns))"
   ]
  },
  {
   "cell_type": "markdown",
   "metadata": {},
   "source": [
    "So we have 50 rows of training data with 2 features. Let us inspect closely at each feature to find out more information."
   ]
  },
  {
   "cell_type": "code",
   "execution_count": 4,
   "metadata": {},
   "outputs": [
    {
     "data": {
      "text/plain": [
       "Index(['dim_0', 'class_val'], dtype='object')"
      ]
     },
     "execution_count": 4,
     "metadata": {},
     "output_type": "execute_result"
    }
   ],
   "source": [
    "# print out the names of the columns\n",
    "df_train.columns"
   ]
  },
  {
   "cell_type": "code",
   "execution_count": 5,
   "metadata": {},
   "outputs": [
    {
     "data": {
      "text/html": [
       "<div>\n",
       "<style scoped>\n",
       "    .dataframe tbody tr th:only-of-type {\n",
       "        vertical-align: middle;\n",
       "    }\n",
       "\n",
       "    .dataframe tbody tr th {\n",
       "        vertical-align: top;\n",
       "    }\n",
       "\n",
       "    .dataframe thead th {\n",
       "        text-align: right;\n",
       "    }\n",
       "</style>\n",
       "<table border=\"1\" class=\"dataframe\">\n",
       "  <thead>\n",
       "    <tr style=\"text-align: right;\">\n",
       "      <th></th>\n",
       "      <th>dim_0</th>\n",
       "      <th>class_val</th>\n",
       "    </tr>\n",
       "  </thead>\n",
       "  <tbody>\n",
       "    <tr>\n",
       "      <th>0</th>\n",
       "      <td>0     -0.64789\n",
       "1     -0.64199\n",
       "2     -0.63819\n",
       "3...</td>\n",
       "      <td>2</td>\n",
       "    </tr>\n",
       "    <tr>\n",
       "      <th>1</th>\n",
       "      <td>0     -0.64443\n",
       "1     -0.64540\n",
       "2     -0.64706\n",
       "3...</td>\n",
       "      <td>2</td>\n",
       "    </tr>\n",
       "    <tr>\n",
       "      <th>2</th>\n",
       "      <td>0     -0.77835\n",
       "1     -0.77828\n",
       "2     -0.77715\n",
       "3...</td>\n",
       "      <td>1</td>\n",
       "    </tr>\n",
       "    <tr>\n",
       "      <th>3</th>\n",
       "      <td>0     -0.75006\n",
       "1     -0.74810\n",
       "2     -0.74616\n",
       "3...</td>\n",
       "      <td>1</td>\n",
       "    </tr>\n",
       "    <tr>\n",
       "      <th>4</th>\n",
       "      <td>0     -0.59954\n",
       "1     -0.59742\n",
       "2     -0.59927\n",
       "3...</td>\n",
       "      <td>2</td>\n",
       "    </tr>\n",
       "  </tbody>\n",
       "</table>\n",
       "</div>"
      ],
      "text/plain": [
       "                                               dim_0 class_val\n",
       "0  0     -0.64789\n",
       "1     -0.64199\n",
       "2     -0.63819\n",
       "3...         2\n",
       "1  0     -0.64443\n",
       "1     -0.64540\n",
       "2     -0.64706\n",
       "3...         2\n",
       "2  0     -0.77835\n",
       "1     -0.77828\n",
       "2     -0.77715\n",
       "3...         1\n",
       "3  0     -0.75006\n",
       "1     -0.74810\n",
       "2     -0.74616\n",
       "3...         1\n",
       "4  0     -0.59954\n",
       "1     -0.59742\n",
       "2     -0.59927\n",
       "3...         2"
      ]
     },
     "execution_count": 5,
     "metadata": {},
     "output_type": "execute_result"
    }
   ],
   "source": [
    "# inspect first 5 rows of data\n",
    "df_train.head(5)"
   ]
  },
  {
   "cell_type": "code",
   "execution_count": 6,
   "metadata": {},
   "outputs": [
    {
     "data": {
      "text/plain": [
       "count                                                    50\n",
       "unique                                                   50\n",
       "top       0     -0.61464\n",
       "1     -0.61499\n",
       "2     -0.61479\n",
       "3...\n",
       "freq                                                      1\n",
       "Name: dim_0, dtype: object"
      ]
     },
     "execution_count": 6,
     "metadata": {},
     "output_type": "execute_result"
    }
   ],
   "source": [
    "# inspecting first column\n",
    "df_train.dim_0.describe()"
   ]
  },
  {
   "cell_type": "code",
   "execution_count": 7,
   "metadata": {},
   "outputs": [
    {
     "data": {
      "text/plain": [
       "count     50\n",
       "unique     2\n",
       "top        2\n",
       "freq      26\n",
       "Name: class_val, dtype: object"
      ]
     },
     "execution_count": 7,
     "metadata": {},
     "output_type": "execute_result"
    }
   ],
   "source": [
    "# inspecting second column\n",
    "df_train.class_val.describe()"
   ]
  },
  {
   "cell_type": "markdown",
   "metadata": {},
   "source": [
    "When using describe method on each column, it appears to not generate much information for us. This is due to the fact that the first column is not ``int`` or ``float`` data type. As for the second column, it only has two values which is `1` and `2`. So it may very well be the label for each sample. Of course, if we check on the documentation for this dataset, we know that this is in fact the case. So to avoid any confusion, we will separate the feature and the label for subsequent analysis."
   ]
  },
  {
   "cell_type": "code",
   "execution_count": 8,
   "metadata": {},
   "outputs": [
    {
     "name": "stdout",
     "output_type": "stream",
     "text": [
      "The labels available for train dataset are: ['1' '2']\n",
      "The number of samples for each label are: [24 26]\n"
     ]
    }
   ],
   "source": [
    "# split feature and label\n",
    "x_train, y_train = df_train.dim_0, df_train.class_val\n",
    "x_test, y_test = df_test.dim_0, df_test.class_val\n",
    "\n",
    "# count class distribution\n",
    "train_labels, train_counts = np.unique(y_train, return_counts=True)\n",
    "print(f\"The labels available for train dataset are: {train_labels}\")\n",
    "print(f\"The number of samples for each label are: {train_counts}\")"
   ]
  },
  {
   "cell_type": "markdown",
   "metadata": {},
   "source": [
    "We see that there are 24 samples with the label `1` and 26 samples with the label `2`. This is a balanced dataset and we do not have to perform any pre-processing to adjust the class distribution. This is often not the case with real-world data, as it usually has class distribution issues. \n",
    "\n",
    "Another thing to note that the current class has a `str` data type. We will convert it to `int` label using sklearn's `LabelBinarizer`."
   ]
  },
  {
   "cell_type": "code",
   "execution_count": 9,
   "metadata": {},
   "outputs": [],
   "source": [
    "# convert str dtype to int dtype\n",
    "lb = LabelBinarizer()\n",
    "y_train_binarized = lb.fit_transform(y_train)\n",
    "y_test_binarized = lb.transform(y_test)\n",
    "\n",
    "# reassign train_labels and train_counts\n",
    "train_labels, train_counts = np.unique(y_train_binarized, return_counts=True)"
   ]
  },
  {
   "cell_type": "markdown",
   "metadata": {},
   "source": [
    "After binarizing the label, we will visualize the data in the form of time plot. The values in `dim_1` are actually values recorded at subsequent timestamp, so a time plot will be able to give us insights on the values for each class."
   ]
  },
  {
   "cell_type": "code",
   "execution_count": 10,
   "metadata": {},
   "outputs": [
    {
     "data": {
      "image/png": "[encoded data removed]",
      "text/plain": [
       "<Figure size 1152x288 with 1 Axes>"
      ]
     },
     "metadata": {
      "needs_background": "light"
     },
     "output_type": "display_data"
    }
   ],
   "source": [
    "# plot time plot for feature\n",
    "fig, ax = plt.subplots(1, figsize=plt.figaspect(0.25))\n",
    "for label in train_labels:\n",
    "    x_train.loc[y_train_binarized == label].iloc[5].plot(ax=ax, label=f\"class {label}\")\n",
    "plt.legend()\n",
    "ax.set_title(\"Time Plot\")\n",
    "ax.set_ylabel(\"Value\")\n",
    "ax.set_xlabel(\"Time\");"
   ]
  },
  {
   "cell_type": "markdown",
   "metadata": {},
   "source": [
    "The time plot actually shows that the value distribution for class 0 and class 1 are quite different from each other. A reasonably good classification model should be able to classify them fairly accurately. With this information at hand, let us proceed to develop model to perform this task."
   ]
  },
  {
   "cell_type": "markdown",
   "metadata": {},
   "source": [
    "## <a name=\"model-dev\">Model Development</a>\n",
    "After performing some basic analytics on the dataset at hand, we will start to build models to classify time series for this dataset. We will be guiding you through the process of developing two different models here, which are IndividualBOSS and Time Series Forest. Both can be easily implemented using API provided by `sktime`."
   ]
  },
  {
   "cell_type": "code",
   "execution_count": 11,
   "metadata": {},
   "outputs": [],
   "source": [
    "x_train_df, x_test_df = x_train.to_frame(), x_test.to_frame()\n",
    "y_train_array, y_test_array = np.ravel(y_train_binarized), np.ravel(y_test_binarized)"
   ]
  },
  {
   "cell_type": "markdown",
   "metadata": {},
   "source": [
    "`sktime` model requires the input data to be in either `NumPy ndarray` data type or `Pandas DataFrame` data type. The code above converts the input data to `Pandas DataFrame`."
   ]
  },
  {
   "cell_type": "markdown",
   "metadata": {},
   "source": [
    "### a. <a name=\"boss\">IndividualBOSS</a>\n",
    "\n",
    "BOSS is actually the acronym for Bag-of-SFA Symbols (BOSS). It is an algorithm developed to extract words from time series data. It builds features that represent the frequencies of each word for the time series. It is classified under bag-of-words approach, which is a common approach in time series.\n",
    "\n",
    "In `sktime`, there are two versions of BOSS being implemented using different API. One of them is `BOSSEnsemble`, whreby it utilizes BOSS algorithm in an ensemble manner. The other one is `IndividualBOSS`, where just one (individual) classifier is built to classify the data. We will be implementing `IndividualBOSS` in the following section.\n",
    "\n",
    "For more information on BOSS algorithm, please refer to the original paper, \"The BOSS is concerned with time series classification in the presence of noise\", at [here](https://www.researchgate.net/publication/282271002_The_BOSS_is_concerned_with_time_series_classification_in_the_presence_of_noise)."
   ]
  },
  {
   "cell_type": "code",
   "execution_count": 12,
   "metadata": {},
   "outputs": [
    {
     "data": {
      "text/plain": [
       "IndividualBOSS(random_state=38)"
      ]
     },
     "execution_count": 12,
     "metadata": {},
     "output_type": "execute_result"
    }
   ],
   "source": [
    "# building IndividualBOSS model\n",
    "boss = IndividualBOSS(random_state=seed)\n",
    "boss.fit(x_train_df, y_train_array)"
   ]
  },
  {
   "cell_type": "markdown",
   "metadata": {},
   "source": [
    "As shown above, using `sktime` API allows us to instantiate and fit an IndividualBOSS model in just 2 lines of codes. Pretty neat, huh?"
   ]
  },
  {
   "cell_type": "markdown",
   "metadata": {},
   "source": [
    "### b. <a name=\"tsf\">Time Series Forest</a>\n",
    "\n",
    "Time series forest is a tree-based model that is, in a way, akin to random forest for cross-sectional data. At its core, the algorithm consists of many decision trees built on random intervals. It is an ensemble model and classifications are performed through voting method. A time series forest is an ensemble of decision trees built on random intervals.\n",
    "\n",
    "More detailed information can be found by reading the original paper, \"A Time Series Forest for Classification and Feature Extraction\" authored by Houtao Deng, George Runger, Eugene Tuv and Martyanov Vladimir at [here](https://arxiv.org/abs/1302.2277)."
   ]
  },
  {
   "cell_type": "code",
   "execution_count": 13,
   "metadata": {},
   "outputs": [
    {
     "data": {
      "text/plain": [
       "TimeSeriesForestClassifier(random_state=38)"
      ]
     },
     "execution_count": 13,
     "metadata": {},
     "output_type": "execute_result"
    }
   ],
   "source": [
    "# building TSF model\n",
    "tsf = TimeSeriesForestClassifier(n_estimators=100, criterion='entropy', random_state=seed)\n",
    "tsf.fit(x_train_df, y_train_array)"
   ]
  },
  {
   "cell_type": "markdown",
   "metadata": {},
   "source": [
    "As shown above, using `sktime` API allows us to instantiate and fit a TSF model in just 2 lines of codes."
   ]
  },
  {
   "cell_type": "code",
   "execution_count": 14,
   "metadata": {},
   "outputs": [
    {
     "name": "stderr",
     "output_type": "stream",
     "text": [
      "C:\\Users\\User\\miniconda3\\envs\\nbgPy37\\lib\\site-packages\\pandas\\plotting\\_matplotlib\\core.py:584: UserWarning: The handle <matplotlib.lines.Line2D object at 0x00000297CB13CCC8> has a label of '_slope' which cannot be automatically added to the legend.\n",
      "  ax.legend(handles, labels, loc=\"best\", title=title)\n"
     ]
    },
    {
     "data": {
      "text/plain": [
       "<AxesSubplot:>"
      ]
     },
     "execution_count": 14,
     "metadata": {},
     "output_type": "execute_result"
    },
    {
     "data": {
      "image/png": "[encoded data removed]",
      "text/plain": [
       "<Figure size 1152x288 with 1 Axes>"
      ]
     },
     "metadata": {
      "needs_background": "light"
     },
     "output_type": "display_data"
    }
   ],
   "source": [
    "# plot feature importance\n",
    "feature_importance = tsf.feature_importances_\n",
    "fig, ax = plt.subplots(1, figsize=plt.figaspect(0.25))\n",
    "feature_importance.plot(ax=ax)"
   ]
  },
  {
   "cell_type": "markdown",
   "metadata": {},
   "source": [
    "The feature importance for different features and intervals can also be plotted out as shown above."
   ]
  },
  {
   "cell_type": "markdown",
   "metadata": {},
   "source": [
    "## <a name=\"evaluation\">Evaluation</a>\n",
    "Model evaluation can be done by simply calling the `score` method. This method returns the accuracy score of our model predictions when compared to our ground truth. We will first examine the performance of IndividualBOSS model first."
   ]
  },
  {
   "cell_type": "code",
   "execution_count": 15,
   "metadata": {},
   "outputs": [
    {
     "name": "stdout",
     "output_type": "stream",
     "text": [
      "Accuracy score of IndividualBOSS for training set is: 1.0\n",
      "Accuracy score of IndividualBOSS for test set is: 0.9133333333333333\n"
     ]
    }
   ],
   "source": [
    "# compute accuracy score of BOSS model\n",
    "boss_train_score = boss.score(x_train_df, y_train_array)\n",
    "boss_test_score = boss.score(x_test_df, y_test_array)\n",
    "\n",
    "print(f\"Accuracy score of IndividualBOSS for training set is: {boss_train_score}\")\n",
    "print(f\"Accuracy score of IndividualBOSS for test set is: {boss_test_score}\")"
   ]
  },
  {
   "cell_type": "markdown",
   "metadata": {},
   "source": [
    "We see that IndividualBOSS model has a good accuracy score when tested on unseen data. Note that this is just by using the default hyperparameteres. We can improve the model performance if we perform hyperparameter tuning."
   ]
  },
  {
   "cell_type": "code",
   "execution_count": 16,
   "metadata": {},
   "outputs": [
    {
     "name": "stdout",
     "output_type": "stream",
     "text": [
      "Accuracy score of TSF for training set is: 1.0\n",
      "Accuracy score of TSF for test set is: 0.96\n"
     ]
    }
   ],
   "source": [
    "# compute accuracy score of TSF model\n",
    "tsf_train_score = tsf.score(x_train_df, y_train_array)\n",
    "tsf_test_score = tsf.score(x_test_df, y_test_array)\n",
    "\n",
    "print(f\"Accuracy score of TSF for training set is: {tsf_train_score}\")\n",
    "print(f\"Accuracy score of TSF for test set is: {tsf_test_score}\")"
   ]
  },
  {
   "cell_type": "markdown",
   "metadata": {},
   "source": [
    "We can see that TSF model has a pretty stellar performance even before tuning the hyperparameters. It even outperforms IndividualBOSS model by a small margin."
   ]
  },
  {
   "cell_type": "markdown",
   "metadata": {},
   "source": [
    "## <a name=\"exercise\">Exercise</a>\n",
    "\n",
    "This exercise section is attached for you to practice and hone your skills. Try your best effort to complete it without referring to the solution."
   ]
  },
  {
   "cell_type": "markdown",
   "metadata": {},
   "source": [
    "### Notebook Configurations\n",
    "You can import any module that you wish to use for this exercise. However, if you run the cells from the start of this notebook, most probably all the modules that you need has already been imported at this point."
   ]
  },
  {
   "cell_type": "code",
   "execution_count": 17,
   "metadata": {},
   "outputs": [],
   "source": [
    "# import modules\n",
    "### BEGIN SOLUTION\n",
    "\n",
    "\n",
    "### END SOLUTION"
   ]
  },
  {
   "cell_type": "markdown",
   "metadata": {},
   "source": [
    "### Dataset\n",
    "**INSTRUCTIONS:** We will be using ArrowHead, a dataset provided by UCR in their \"Time Series Classification Archive\". It is also available as part of the `sktime` module, so we can just make use of it to load the data."
   ]
  },
  {
   "cell_type": "code",
   "execution_count": 18,
   "metadata": {},
   "outputs": [],
   "source": [
    "# load data using sktime method\n",
    "### BEGIN SOLUTION\n",
    "\n",
    "\n",
    "### END SOLUTION"
   ]
  },
  {
   "cell_type": "markdown",
   "metadata": {},
   "source": [
    "### Basic Analytics\n",
    "**INSTRUCTIONS**: Perform some basic analytics on the dataset by following the guidelines that are provided in each cell."
   ]
  },
  {
   "cell_type": "code",
   "execution_count": 19,
   "metadata": {},
   "outputs": [
    {
     "name": "stdout",
     "output_type": "stream",
     "text": [
      "Shape of dataset is: None\n",
      "Rows of train data are: None\n",
      "Columns of train data are: None\n"
     ]
    }
   ],
   "source": [
    "# compute the number of rows and columns of train data\n",
    "### BEGIN SOLUTION\n",
    "df_train_shape = None\n",
    "df_train_rows = None\n",
    "df_train_columns = None\n",
    "### END SOLUTION\n",
    "\n",
    "print(f\"Shape of dataset is: {df_train_shape}\")\n",
    "print(\"Rows of train data are: \" + str(df_train_rows))\n",
    "print(\"Columns of train data are: \" + str(df_train_columns))"
   ]
  },
  {
   "cell_type": "code",
   "execution_count": 20,
   "metadata": {},
   "outputs": [],
   "source": [
    "# print out the names of the columns\n",
    "### BEGIN SOLUTION\n",
    "\n",
    "### END SOLUTION"
   ]
  },
  {
   "cell_type": "code",
   "execution_count": 21,
   "metadata": {},
   "outputs": [],
   "source": [
    "# inspect first 20 rows of data\n",
    "### BEGIN SOLUTION\n",
    "\n",
    "### END SOLUTION"
   ]
  },
  {
   "cell_type": "code",
   "execution_count": 22,
   "metadata": {},
   "outputs": [],
   "source": [
    "# computing descriptive statistics for first column by indexing using iloc method\n",
    "### BEGIN SOLUTION\n",
    "\n",
    "### END SOLUTION"
   ]
  },
  {
   "cell_type": "code",
   "execution_count": 23,
   "metadata": {},
   "outputs": [],
   "source": [
    "# computing descriptive statistics for second column by indexing using iloc method\n",
    "### BEGIN SOLUTION\n",
    "\n",
    "### END SOLUTION"
   ]
  },
  {
   "cell_type": "code",
   "execution_count": 24,
   "metadata": {},
   "outputs": [],
   "source": [
    "# split feature and label\n",
    "### BEGIN SOLUTION\n",
    "\n",
    "\n",
    "### END SOLUTION"
   ]
  },
  {
   "cell_type": "code",
   "execution_count": 25,
   "metadata": {},
   "outputs": [
    {
     "name": "stdout",
     "output_type": "stream",
     "text": [
      "The labels available for train dataset are: None\n",
      "The number of samples for each label are: None\n"
     ]
    }
   ],
   "source": [
    "# convert str dtype of label into binary matrix\n",
    "### BEGIN SOLUTION\n",
    "\n",
    "\n",
    "### END SOLUTION\n",
    "\n",
    "# count label class distribution\n",
    "### BEGIN SOLUTION\n",
    "train_labels, train_counts = None, None\n",
    "### END SOLUTION\n",
    "\n",
    "print(f\"The labels available for train dataset are: {train_labels}\")\n",
    "print(f\"The number of samples for each label are: {train_counts}\")"
   ]
  },
  {
   "cell_type": "code",
   "execution_count": 26,
   "metadata": {
    "scrolled": true
   },
   "outputs": [],
   "source": [
    "# plot time plot for feature by class\n",
    "### BEGIN SOLUTION\n",
    "\n",
    "\n",
    "\n",
    "\n",
    "\n",
    "### END SOLUTION"
   ]
  },
  {
   "cell_type": "markdown",
   "metadata": {},
   "source": [
    "### Model Development\n",
    "**INSTRUCTIONS**: Choose a machine learning model that you are comfortable with and follow the provided guidelines to buiild it out."
   ]
  },
  {
   "cell_type": "code",
   "execution_count": 27,
   "metadata": {},
   "outputs": [],
   "source": [
    "# perform required data preparation before feeding into the model\n",
    "### BEGIN SOLUTION\n",
    "\n",
    "### END SOLUTION"
   ]
  },
  {
   "cell_type": "markdown",
   "metadata": {},
   "source": [
    "`sktime` model requires the input data to be in either `NumPy ndarray` data type or `Pandas DataFrame` data type. The code above converts the input data to `Pandas DataFrame`."
   ]
  },
  {
   "cell_type": "code",
   "execution_count": 28,
   "metadata": {},
   "outputs": [],
   "source": [
    "# building model\n",
    "### BEGIN SOLUTION\n",
    "\n",
    "\n",
    "### END SOLUTION"
   ]
  },
  {
   "cell_type": "code",
   "execution_count": 29,
   "metadata": {
    "scrolled": true
   },
   "outputs": [],
   "source": [
    "# plot feature importance (only applies for tree-based model)\n",
    "### BEGIN SOLUTION\n",
    "\n",
    "\n",
    "\n",
    "### END SOLUTION"
   ]
  },
  {
   "cell_type": "markdown",
   "metadata": {},
   "source": [
    "### Evaluation\n",
    "**INSTRUCTIONS:** Follow the guidelines given in the cells to evaluate performance of model."
   ]
  },
  {
   "cell_type": "code",
   "execution_count": 30,
   "metadata": {},
   "outputs": [
    {
     "name": "stdout",
     "output_type": "stream",
     "text": [
      "Accuracy score of model for training set is: None\n",
      "Accuracy score of model for test set is: None\n"
     ]
    }
   ],
   "source": [
    "# compute accuracy score of model\n",
    "### BEGIN SOLUTION\n",
    "model_train_score = None\n",
    "model_test_score = None\n",
    "### END SOOLUTION\n",
    "\n",
    "print(f\"Accuracy score of model for training set is: {model_train_score}\")\n",
    "print(f\"Accuracy score of model for test set is: {model_test_score}\")"
   ]
  },
  {
   "cell_type": "markdown",
   "metadata": {},
   "source": [
    "## <a name=\"reference\">Reference</a>\n",
    "1. [Univariate time series classification with sktime](https://github.com/alan-turing-institute/sktime/blob/master/examples/02_classification_univariate.ipynb)\n",
    "2. [sktime API Reference](https://www.sktime.org/en/latest/api_reference.html)\n",
    "3. [Dataset: GunPoint](http://www.timeseriesclassification.com/description.php?Dataset=GunPoint)\n",
    "4. [Dataset: ArrowHead](https://timeseriesclassification.com/description.php?Dataset=ArrowHead)\n",
    "5. [A Time Series Forest for Classification and Feature Extraction](https://arxiv.org/abs/1302.2277)\n",
    "6. [The BOSS is concerned with time series classification in the presence of noise](https://www.researchgate.net/publication/282271002_The_BOSS_is_concerned_with_time_series_classification_in_the_presence_of_noise)"
   ]
  },
  {
   "cell_type": "markdown",
   "metadata": {},
   "source": [
    "## <a name=\"bonus\">Bonus</a>\n",
    "`pyts` is another module developed for time series classification tasks using Python. It might contains some other features that currently not implemented by `sktime` yet. If you are interested, you can visit their GitHub repo at [here]((https://github.com/johannfaouzi/pyts) for more information."
   ]
  }
 ],
 "metadata": {
  "kernelspec": {
   "display_name": "Python 3",
   "language": "python",
   "name": "python3"
  },
  "language_info": {
   "codemirror_mode": {
    "name": "ipython",
    "version": 3
   },
   "file_extension": ".py",
   "mimetype": "text/x-python",
   "name": "python",
   "nbconvert_exporter": "python",
   "pygments_lexer": "ipython3",
   "version": "3.9.1"
  }
 },
 "nbformat": 4,
 "nbformat_minor": 4
}
