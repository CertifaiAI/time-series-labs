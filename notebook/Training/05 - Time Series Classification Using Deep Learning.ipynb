{
 "cells": [
  {
   "cell_type": "markdown",
   "metadata": {
    "deletable": false,
    "editable": false
   },
   "source": [
    "![logo](../../picture/license_header_logo.png)\n",
    "> **Copyright &copy; 2020 - 2021 CertifAI Sdn. Bhd.**<br>\n",
    " <br>\n",
    "This program and the accompanying materials are made available under the\n",
    "terms of the [Apache License, Version 2.0](https://www.apache.org/licenses/LICENSE-2.0). <br>\n",
    "Unless required by applicable law or agreed to in writing, software\n",
    "distributed under the License is distributed on an \"AS IS\" BASIS, WITHOUT\n",
    "WARRANTIES OR CONDITIONS OF ANY KIND, either express or implied. See the\n",
    "License for the specific language governing permissions and limitations\n",
    "under the License. <br>\n",
    "<br>**SPDX-License-Identifier: Apache-2.0**"
   ]
  },
  {
   "cell_type": "markdown",
   "metadata": {},
   "source": [
    "# 05 - Time Series Classification Using Deep Learning\n",
    "\n",
    "Revised by: [Kian Yang Lee](https://github.com/KianYang-Lee) - kianyang.lee@certifai.ai\n"
   ]
  },
  {
   "cell_type": "markdown",
   "metadata": {},
   "source": [
    "## Notebook Description\n",
    "\n",
    "This tutorial will showcase how to perform time series classifiation using long short-term memory network, a variation of deep learning model. PyTorch deep learning framework is used for this notebook. An exercise section is attached for you to practice and hone your skills. Do make good use of it.\n",
    "\n",
    "By the end of this tutorial, you will be able to:\n",
    "\n",
    "1. Prepare dataset to be feed into deep learning model\n",
    "2. Build and apply LSTM model \n",
    "3. Perform classification tasks on time series data\n",
    "\n",
    "## Notebook Outline\n",
    "Below is the outline for this tutorial:\n",
    "1. [Notebook Configurations](#configuration)\n",
    "2. [Dataset](#dataset)\n",
    "3. [Basic Analytics](#analytics)\n",
    "4. [Model Development](#model-dev) \n",
    "5. [Evaluation](#evaluation)\n",
    "6. [Exercise](#exercise)\n",
    "7. [Reference](#reference)\n",
    "8. [Bonus](#bonus)\n",
    "\n"
   ]
  },
  {
   "cell_type": "markdown",
   "metadata": {},
   "source": [
    "## <a name=\"configuration\">Notebook Configurations</a>\n",
    "Following are the modules that will be used for this tutorial. This notebook will heavily use `PyTorch` as they provide great APIs when for building deep learning models. You can find out more about them [here](https://pytorch.org/)."
   ]
  },
  {
   "cell_type": "code",
   "execution_count": 1,
   "metadata": {},
   "outputs": [
    {
     "data": {
      "text/plain": [
       "<torch._C.Generator at 0x25fca066730>"
      ]
     },
     "execution_count": 1,
     "metadata": {},
     "output_type": "execute_result"
    }
   ],
   "source": [
    "from collections import Counter\n",
    "import pandas as pd\n",
    "import numpy as np\n",
    "import matplotlib.pyplot as plt\n",
    "from sklearn.preprocessing import MinMaxScaler\n",
    "from sklearn.metrics import roc_auc_score, accuracy_score, classification_report\n",
    "import sys\n",
    "from torch.utils.data import Dataset, DataLoader, TensorDataset, IterableDataset\n",
    "import torch\n",
    "from torch import nn, optim\n",
    "import torch.nn.functional as F\n",
    "\n",
    "# Ignore warnings\n",
    "import warnings\n",
    "warnings.filterwarnings('ignore')\n",
    "pd.set_option('display.max_columns', None)\n",
    "\n",
    "# reproducibility\n",
    "seed = 38\n",
    "np.random.seed(seed)\n",
    "torch.manual_seed(seed)"
   ]
  },
  {
   "cell_type": "markdown",
   "metadata": {},
   "source": [
    "## <a name=\"dataset\">Dataset</a>\n",
    "The dataset to be used is the NASA Turbofan dataset. You can read more about the dataset [here](https://www.kaggle.com/c/predictive-maintenance)\n",
    "\n",
    "The dataset consists of different multivariate time-series. These different time-series refer to different engines. The sampling of the time series is 1 point per engine cycle.\n",
    "\n",
    "Predictive maintenance techniques are designed to help determine the condition of in-service equipment in order to\n",
    "estimate when maintenance should be performed. Predictive maintenance can be modeled in several ways,\n",
    "1. Predict the Remaining Useful Life (RUL), or Time to Failure (TTF)\n",
    "2. Predict if the asset will fail by given a certain time frame\n",
    "3. Predict critical level of the asset by give a certain time frame\n",
    "\n",
    "For this example, we will be using the 2nd modeling strategy. We are going to predict weather the asset is going to fail. \n",
    "\n",
    "The target variable to be used is \"Label1\". It consist of 0 and 1. 0 means the assets is working fine and 1 means it require maintenance."
   ]
  },
  {
   "cell_type": "code",
   "execution_count": 2,
   "metadata": {},
   "outputs": [],
   "source": [
    "# importing dataset\n",
    "df_train = pd.read_csv(\"../../datasets/predictive_maintenance/train.csv\")\n",
    "df_test = pd.read_csv(\"../../datasets/predictive_maintenance/test.csv\")"
   ]
  },
  {
   "cell_type": "markdown",
   "metadata": {},
   "source": [
    "## <a name=\"analytics\">Basic Analytics</a>\n",
    "Let's do some basic analytics and see what nugget can we find out of the training dataset! Let first find out the number of rows and columns of the training dataset.\n",
    "\n",
    "**Note: Since we are not supposed to know any information about the test dataset, we will not perform any analytics on it.**"
   ]
  },
  {
   "cell_type": "code",
   "execution_count": 3,
   "metadata": {},
   "outputs": [
    {
     "data": {
      "text/html": [
       "<div>\n",
       "<style scoped>\n",
       "    .dataframe tbody tr th:only-of-type {\n",
       "        vertical-align: middle;\n",
       "    }\n",
       "\n",
       "    .dataframe tbody tr th {\n",
       "        vertical-align: top;\n",
       "    }\n",
       "\n",
       "    .dataframe thead th {\n",
       "        text-align: right;\n",
       "    }\n",
       "</style>\n",
       "<table border=\"1\" class=\"dataframe\">\n",
       "  <thead>\n",
       "    <tr style=\"text-align: right;\">\n",
       "      <th></th>\n",
       "      <th>id</th>\n",
       "      <th>cycle</th>\n",
       "      <th>setting1</th>\n",
       "      <th>setting2</th>\n",
       "      <th>setting3</th>\n",
       "      <th>s1</th>\n",
       "      <th>s2</th>\n",
       "      <th>s3</th>\n",
       "      <th>s4</th>\n",
       "      <th>s5</th>\n",
       "      <th>s6</th>\n",
       "      <th>s7</th>\n",
       "      <th>s8</th>\n",
       "      <th>s9</th>\n",
       "      <th>s10</th>\n",
       "      <th>s11</th>\n",
       "      <th>s12</th>\n",
       "      <th>s13</th>\n",
       "      <th>s14</th>\n",
       "      <th>s15</th>\n",
       "      <th>s16</th>\n",
       "      <th>s17</th>\n",
       "      <th>s18</th>\n",
       "      <th>s19</th>\n",
       "      <th>s20</th>\n",
       "      <th>s21</th>\n",
       "      <th>cycle_norm</th>\n",
       "      <th>RUL</th>\n",
       "      <th>label1</th>\n",
       "      <th>label2</th>\n",
       "    </tr>\n",
       "  </thead>\n",
       "  <tbody>\n",
       "    <tr>\n",
       "      <th>0</th>\n",
       "      <td>1</td>\n",
       "      <td>1</td>\n",
       "      <td>0.459770</td>\n",
       "      <td>0.166667</td>\n",
       "      <td>0</td>\n",
       "      <td>0</td>\n",
       "      <td>0.183735</td>\n",
       "      <td>0.406802</td>\n",
       "      <td>0.309757</td>\n",
       "      <td>0</td>\n",
       "      <td>1</td>\n",
       "      <td>0.726248</td>\n",
       "      <td>0.242424</td>\n",
       "      <td>0.109755</td>\n",
       "      <td>0</td>\n",
       "      <td>0.369048</td>\n",
       "      <td>0.633262</td>\n",
       "      <td>0.205882</td>\n",
       "      <td>0.199608</td>\n",
       "      <td>0.363986</td>\n",
       "      <td>0</td>\n",
       "      <td>0.333333</td>\n",
       "      <td>0</td>\n",
       "      <td>0</td>\n",
       "      <td>0.713178</td>\n",
       "      <td>0.724662</td>\n",
       "      <td>0.00000</td>\n",
       "      <td>191</td>\n",
       "      <td>0</td>\n",
       "      <td>0</td>\n",
       "    </tr>\n",
       "    <tr>\n",
       "      <th>1</th>\n",
       "      <td>1</td>\n",
       "      <td>2</td>\n",
       "      <td>0.609195</td>\n",
       "      <td>0.250000</td>\n",
       "      <td>0</td>\n",
       "      <td>0</td>\n",
       "      <td>0.283133</td>\n",
       "      <td>0.453019</td>\n",
       "      <td>0.352633</td>\n",
       "      <td>0</td>\n",
       "      <td>1</td>\n",
       "      <td>0.628019</td>\n",
       "      <td>0.212121</td>\n",
       "      <td>0.100242</td>\n",
       "      <td>0</td>\n",
       "      <td>0.380952</td>\n",
       "      <td>0.765458</td>\n",
       "      <td>0.279412</td>\n",
       "      <td>0.162813</td>\n",
       "      <td>0.411312</td>\n",
       "      <td>0</td>\n",
       "      <td>0.333333</td>\n",
       "      <td>0</td>\n",
       "      <td>0</td>\n",
       "      <td>0.666667</td>\n",
       "      <td>0.731014</td>\n",
       "      <td>0.00277</td>\n",
       "      <td>190</td>\n",
       "      <td>0</td>\n",
       "      <td>0</td>\n",
       "    </tr>\n",
       "    <tr>\n",
       "      <th>2</th>\n",
       "      <td>1</td>\n",
       "      <td>3</td>\n",
       "      <td>0.252874</td>\n",
       "      <td>0.750000</td>\n",
       "      <td>0</td>\n",
       "      <td>0</td>\n",
       "      <td>0.343373</td>\n",
       "      <td>0.369523</td>\n",
       "      <td>0.370527</td>\n",
       "      <td>0</td>\n",
       "      <td>1</td>\n",
       "      <td>0.710145</td>\n",
       "      <td>0.272727</td>\n",
       "      <td>0.140043</td>\n",
       "      <td>0</td>\n",
       "      <td>0.250000</td>\n",
       "      <td>0.795309</td>\n",
       "      <td>0.220588</td>\n",
       "      <td>0.171793</td>\n",
       "      <td>0.357445</td>\n",
       "      <td>0</td>\n",
       "      <td>0.166667</td>\n",
       "      <td>0</td>\n",
       "      <td>0</td>\n",
       "      <td>0.627907</td>\n",
       "      <td>0.621375</td>\n",
       "      <td>0.00554</td>\n",
       "      <td>189</td>\n",
       "      <td>0</td>\n",
       "      <td>0</td>\n",
       "    </tr>\n",
       "    <tr>\n",
       "      <th>3</th>\n",
       "      <td>1</td>\n",
       "      <td>4</td>\n",
       "      <td>0.540230</td>\n",
       "      <td>0.500000</td>\n",
       "      <td>0</td>\n",
       "      <td>0</td>\n",
       "      <td>0.343373</td>\n",
       "      <td>0.256159</td>\n",
       "      <td>0.331195</td>\n",
       "      <td>0</td>\n",
       "      <td>1</td>\n",
       "      <td>0.740741</td>\n",
       "      <td>0.318182</td>\n",
       "      <td>0.124518</td>\n",
       "      <td>0</td>\n",
       "      <td>0.166667</td>\n",
       "      <td>0.889126</td>\n",
       "      <td>0.294118</td>\n",
       "      <td>0.174889</td>\n",
       "      <td>0.166603</td>\n",
       "      <td>0</td>\n",
       "      <td>0.333333</td>\n",
       "      <td>0</td>\n",
       "      <td>0</td>\n",
       "      <td>0.573643</td>\n",
       "      <td>0.662386</td>\n",
       "      <td>0.00831</td>\n",
       "      <td>188</td>\n",
       "      <td>0</td>\n",
       "      <td>0</td>\n",
       "    </tr>\n",
       "    <tr>\n",
       "      <th>4</th>\n",
       "      <td>1</td>\n",
       "      <td>5</td>\n",
       "      <td>0.390805</td>\n",
       "      <td>0.333333</td>\n",
       "      <td>0</td>\n",
       "      <td>0</td>\n",
       "      <td>0.349398</td>\n",
       "      <td>0.257467</td>\n",
       "      <td>0.404625</td>\n",
       "      <td>0</td>\n",
       "      <td>1</td>\n",
       "      <td>0.668277</td>\n",
       "      <td>0.242424</td>\n",
       "      <td>0.149960</td>\n",
       "      <td>0</td>\n",
       "      <td>0.255952</td>\n",
       "      <td>0.746269</td>\n",
       "      <td>0.235294</td>\n",
       "      <td>0.174734</td>\n",
       "      <td>0.402078</td>\n",
       "      <td>0</td>\n",
       "      <td>0.416667</td>\n",
       "      <td>0</td>\n",
       "      <td>0</td>\n",
       "      <td>0.589147</td>\n",
       "      <td>0.704502</td>\n",
       "      <td>0.01108</td>\n",
       "      <td>187</td>\n",
       "      <td>0</td>\n",
       "      <td>0</td>\n",
       "    </tr>\n",
       "  </tbody>\n",
       "</table>\n",
       "</div>"
      ],
      "text/plain": [
       "   id  cycle  setting1  setting2  setting3  s1        s2        s3        s4  \\\n",
       "0   1      1  0.459770  0.166667         0   0  0.183735  0.406802  0.309757   \n",
       "1   1      2  0.609195  0.250000         0   0  0.283133  0.453019  0.352633   \n",
       "2   1      3  0.252874  0.750000         0   0  0.343373  0.369523  0.370527   \n",
       "3   1      4  0.540230  0.500000         0   0  0.343373  0.256159  0.331195   \n",
       "4   1      5  0.390805  0.333333         0   0  0.349398  0.257467  0.404625   \n",
       "\n",
       "   s5  s6        s7        s8        s9  s10       s11       s12       s13  \\\n",
       "0   0   1  0.726248  0.242424  0.109755    0  0.369048  0.633262  0.205882   \n",
       "1   0   1  0.628019  0.212121  0.100242    0  0.380952  0.765458  0.279412   \n",
       "2   0   1  0.710145  0.272727  0.140043    0  0.250000  0.795309  0.220588   \n",
       "3   0   1  0.740741  0.318182  0.124518    0  0.166667  0.889126  0.294118   \n",
       "4   0   1  0.668277  0.242424  0.149960    0  0.255952  0.746269  0.235294   \n",
       "\n",
       "        s14       s15  s16       s17  s18  s19       s20       s21  \\\n",
       "0  0.199608  0.363986    0  0.333333    0    0  0.713178  0.724662   \n",
       "1  0.162813  0.411312    0  0.333333    0    0  0.666667  0.731014   \n",
       "2  0.171793  0.357445    0  0.166667    0    0  0.627907  0.621375   \n",
       "3  0.174889  0.166603    0  0.333333    0    0  0.573643  0.662386   \n",
       "4  0.174734  0.402078    0  0.416667    0    0  0.589147  0.704502   \n",
       "\n",
       "   cycle_norm  RUL  label1  label2  \n",
       "0     0.00000  191       0       0  \n",
       "1     0.00277  190       0       0  \n",
       "2     0.00554  189       0       0  \n",
       "3     0.00831  188       0       0  \n",
       "4     0.01108  187       0       0  "
      ]
     },
     "execution_count": 3,
     "metadata": {},
     "output_type": "execute_result"
    }
   ],
   "source": [
    "# inspect first 5 rows of training data\n",
    "df_train.head()"
   ]
  },
  {
   "cell_type": "markdown",
   "metadata": {},
   "source": [
    "One important note is that the target variable needs to have balanced distribution for us to decide which metrics that is suitable to be used for model evaluation. So, we will check for distribution of target variable first."
   ]
  },
  {
   "cell_type": "code",
   "execution_count": 4,
   "metadata": {},
   "outputs": [
    {
     "name": "stdout",
     "output_type": "stream",
     "text": [
      "Classes in train dataset: Counter({0: 17531, 1: 3100})\n"
     ]
    }
   ],
   "source": [
    "# compute class distribution\n",
    "class_distribution = Counter(df_train[\"label1\"])\n",
    "\n",
    "print('Classes in train dataset:', class_distribution)"
   ]
  },
  {
   "cell_type": "markdown",
   "metadata": {},
   "source": [
    "The above class distribution shwows that the dataset has imbalance class, with ratio of around 3.5 : 1. Next, we will inspect are there any missing values in the dataset."
   ]
  },
  {
   "cell_type": "code",
   "execution_count": 5,
   "metadata": {},
   "outputs": [
    {
     "data": {
      "text/plain": [
       "id            0\n",
       "cycle         0\n",
       "setting1      0\n",
       "setting2      0\n",
       "setting3      0\n",
       "s1            0\n",
       "s2            0\n",
       "s3            0\n",
       "s4            0\n",
       "s5            0\n",
       "s6            0\n",
       "s7            0\n",
       "s8            0\n",
       "s9            0\n",
       "s10           0\n",
       "s11           0\n",
       "s12           0\n",
       "s13           0\n",
       "s14           0\n",
       "s15           0\n",
       "s16           0\n",
       "s17           0\n",
       "s18           0\n",
       "s19           0\n",
       "s20           0\n",
       "s21           0\n",
       "cycle_norm    0\n",
       "RUL           0\n",
       "label1        0\n",
       "label2        0\n",
       "dtype: int64"
      ]
     },
     "execution_count": 5,
     "metadata": {},
     "output_type": "execute_result"
    }
   ],
   "source": [
    "# inspect missing values\n",
    "df_train.isna().sum() # shows that there are no missing values"
   ]
  },
  {
   "cell_type": "markdown",
   "metadata": {},
   "source": [
    "There appears to be no missing values based on the above display. Currently, the dataset contains a number of features. However, not all features are useful for model building. We will first remove some unnecessary features before we proceed with model building. "
   ]
  },
  {
   "cell_type": "code",
   "execution_count": 6,
   "metadata": {},
   "outputs": [
    {
     "name": "stdout",
     "output_type": "stream",
     "text": [
      "The original dataset has 30 columns.\n",
      "After removing unnecessary columns, the dataset now has 21 columns.\n"
     ]
    },
    {
     "data": {
      "text/html": [
       "<div>\n",
       "<style scoped>\n",
       "    .dataframe tbody tr th:only-of-type {\n",
       "        vertical-align: middle;\n",
       "    }\n",
       "\n",
       "    .dataframe tbody tr th {\n",
       "        vertical-align: top;\n",
       "    }\n",
       "\n",
       "    .dataframe thead th {\n",
       "        text-align: right;\n",
       "    }\n",
       "</style>\n",
       "<table border=\"1\" class=\"dataframe\">\n",
       "  <thead>\n",
       "    <tr style=\"text-align: right;\">\n",
       "      <th></th>\n",
       "      <th>id</th>\n",
       "      <th>cycle</th>\n",
       "      <th>setting1</th>\n",
       "      <th>setting2</th>\n",
       "      <th>s2</th>\n",
       "      <th>s3</th>\n",
       "      <th>s4</th>\n",
       "      <th>s6</th>\n",
       "      <th>s7</th>\n",
       "      <th>s8</th>\n",
       "      <th>s9</th>\n",
       "      <th>s11</th>\n",
       "      <th>s12</th>\n",
       "      <th>s13</th>\n",
       "      <th>s14</th>\n",
       "      <th>s15</th>\n",
       "      <th>s17</th>\n",
       "      <th>s20</th>\n",
       "      <th>s21</th>\n",
       "      <th>cycle_norm</th>\n",
       "      <th>label1</th>\n",
       "    </tr>\n",
       "  </thead>\n",
       "  <tbody>\n",
       "    <tr>\n",
       "      <th>0</th>\n",
       "      <td>1</td>\n",
       "      <td>1</td>\n",
       "      <td>0.459770</td>\n",
       "      <td>0.166667</td>\n",
       "      <td>0.183735</td>\n",
       "      <td>0.406802</td>\n",
       "      <td>0.309757</td>\n",
       "      <td>1</td>\n",
       "      <td>0.726248</td>\n",
       "      <td>0.242424</td>\n",
       "      <td>0.109755</td>\n",
       "      <td>0.369048</td>\n",
       "      <td>0.633262</td>\n",
       "      <td>0.205882</td>\n",
       "      <td>0.199608</td>\n",
       "      <td>0.363986</td>\n",
       "      <td>0.333333</td>\n",
       "      <td>0.713178</td>\n",
       "      <td>0.724662</td>\n",
       "      <td>0.00000</td>\n",
       "      <td>0</td>\n",
       "    </tr>\n",
       "    <tr>\n",
       "      <th>1</th>\n",
       "      <td>1</td>\n",
       "      <td>2</td>\n",
       "      <td>0.609195</td>\n",
       "      <td>0.250000</td>\n",
       "      <td>0.283133</td>\n",
       "      <td>0.453019</td>\n",
       "      <td>0.352633</td>\n",
       "      <td>1</td>\n",
       "      <td>0.628019</td>\n",
       "      <td>0.212121</td>\n",
       "      <td>0.100242</td>\n",
       "      <td>0.380952</td>\n",
       "      <td>0.765458</td>\n",
       "      <td>0.279412</td>\n",
       "      <td>0.162813</td>\n",
       "      <td>0.411312</td>\n",
       "      <td>0.333333</td>\n",
       "      <td>0.666667</td>\n",
       "      <td>0.731014</td>\n",
       "      <td>0.00277</td>\n",
       "      <td>0</td>\n",
       "    </tr>\n",
       "    <tr>\n",
       "      <th>2</th>\n",
       "      <td>1</td>\n",
       "      <td>3</td>\n",
       "      <td>0.252874</td>\n",
       "      <td>0.750000</td>\n",
       "      <td>0.343373</td>\n",
       "      <td>0.369523</td>\n",
       "      <td>0.370527</td>\n",
       "      <td>1</td>\n",
       "      <td>0.710145</td>\n",
       "      <td>0.272727</td>\n",
       "      <td>0.140043</td>\n",
       "      <td>0.250000</td>\n",
       "      <td>0.795309</td>\n",
       "      <td>0.220588</td>\n",
       "      <td>0.171793</td>\n",
       "      <td>0.357445</td>\n",
       "      <td>0.166667</td>\n",
       "      <td>0.627907</td>\n",
       "      <td>0.621375</td>\n",
       "      <td>0.00554</td>\n",
       "      <td>0</td>\n",
       "    </tr>\n",
       "    <tr>\n",
       "      <th>3</th>\n",
       "      <td>1</td>\n",
       "      <td>4</td>\n",
       "      <td>0.540230</td>\n",
       "      <td>0.500000</td>\n",
       "      <td>0.343373</td>\n",
       "      <td>0.256159</td>\n",
       "      <td>0.331195</td>\n",
       "      <td>1</td>\n",
       "      <td>0.740741</td>\n",
       "      <td>0.318182</td>\n",
       "      <td>0.124518</td>\n",
       "      <td>0.166667</td>\n",
       "      <td>0.889126</td>\n",
       "      <td>0.294118</td>\n",
       "      <td>0.174889</td>\n",
       "      <td>0.166603</td>\n",
       "      <td>0.333333</td>\n",
       "      <td>0.573643</td>\n",
       "      <td>0.662386</td>\n",
       "      <td>0.00831</td>\n",
       "      <td>0</td>\n",
       "    </tr>\n",
       "    <tr>\n",
       "      <th>4</th>\n",
       "      <td>1</td>\n",
       "      <td>5</td>\n",
       "      <td>0.390805</td>\n",
       "      <td>0.333333</td>\n",
       "      <td>0.349398</td>\n",
       "      <td>0.257467</td>\n",
       "      <td>0.404625</td>\n",
       "      <td>1</td>\n",
       "      <td>0.668277</td>\n",
       "      <td>0.242424</td>\n",
       "      <td>0.149960</td>\n",
       "      <td>0.255952</td>\n",
       "      <td>0.746269</td>\n",
       "      <td>0.235294</td>\n",
       "      <td>0.174734</td>\n",
       "      <td>0.402078</td>\n",
       "      <td>0.416667</td>\n",
       "      <td>0.589147</td>\n",
       "      <td>0.704502</td>\n",
       "      <td>0.01108</td>\n",
       "      <td>0</td>\n",
       "    </tr>\n",
       "  </tbody>\n",
       "</table>\n",
       "</div>"
      ],
      "text/plain": [
       "   id  cycle  setting1  setting2        s2        s3        s4  s6        s7  \\\n",
       "0   1      1  0.459770  0.166667  0.183735  0.406802  0.309757   1  0.726248   \n",
       "1   1      2  0.609195  0.250000  0.283133  0.453019  0.352633   1  0.628019   \n",
       "2   1      3  0.252874  0.750000  0.343373  0.369523  0.370527   1  0.710145   \n",
       "3   1      4  0.540230  0.500000  0.343373  0.256159  0.331195   1  0.740741   \n",
       "4   1      5  0.390805  0.333333  0.349398  0.257467  0.404625   1  0.668277   \n",
       "\n",
       "         s8        s9       s11       s12       s13       s14       s15  \\\n",
       "0  0.242424  0.109755  0.369048  0.633262  0.205882  0.199608  0.363986   \n",
       "1  0.212121  0.100242  0.380952  0.765458  0.279412  0.162813  0.411312   \n",
       "2  0.272727  0.140043  0.250000  0.795309  0.220588  0.171793  0.357445   \n",
       "3  0.318182  0.124518  0.166667  0.889126  0.294118  0.174889  0.166603   \n",
       "4  0.242424  0.149960  0.255952  0.746269  0.235294  0.174734  0.402078   \n",
       "\n",
       "        s17       s20       s21  cycle_norm  label1  \n",
       "0  0.333333  0.713178  0.724662     0.00000       0  \n",
       "1  0.333333  0.666667  0.731014     0.00277       0  \n",
       "2  0.166667  0.627907  0.621375     0.00554       0  \n",
       "3  0.333333  0.573643  0.662386     0.00831       0  \n",
       "4  0.416667  0.589147  0.704502     0.01108       0  "
      ]
     },
     "execution_count": 6,
     "metadata": {},
     "output_type": "execute_result"
    }
   ],
   "source": [
    "# removing the unnecessary columns\n",
    "drop_columns_list = [\"setting3\", \"s1\", \"s5\", \"s10\", \"s16\", \"s18\", \"s19\", \"RUL\", \"label2\"]\n",
    "df_train_cleaned = df_train.drop(drop_columns_list, axis=1)\n",
    "df_test_cleaned = df_test.drop(drop_columns_list, axis=1)\n",
    "\n",
    "print(f\"The original dataset has {df_train.shape[1]} columns.\")\n",
    "print(f\"After removing unnecessary columns, the dataset now has {df_train_cleaned.shape[1]} columns.\")\n",
    "\n",
    "df_train_cleaned.head()"
   ]
  },
  {
   "cell_type": "markdown",
   "metadata": {},
   "source": [
    "We are also interested in the data type of each column when we are building a model. We will analyze the data type of each column."
   ]
  },
  {
   "cell_type": "code",
   "execution_count": 7,
   "metadata": {},
   "outputs": [
    {
     "data": {
      "text/plain": [
       "id              int64\n",
       "cycle           int64\n",
       "setting1      float64\n",
       "setting2      float64\n",
       "s2            float64\n",
       "s3            float64\n",
       "s4            float64\n",
       "s6              int64\n",
       "s7            float64\n",
       "s8            float64\n",
       "s9            float64\n",
       "s11           float64\n",
       "s12           float64\n",
       "s13           float64\n",
       "s14           float64\n",
       "s15           float64\n",
       "s17           float64\n",
       "s20           float64\n",
       "s21           float64\n",
       "cycle_norm    float64\n",
       "label1          int64\n",
       "dtype: object"
      ]
     },
     "execution_count": 7,
     "metadata": {},
     "output_type": "execute_result"
    }
   ],
   "source": [
    "# check for the data types\n",
    "df_train_cleaned.dtypes"
   ]
  },
  {
   "cell_type": "markdown",
   "metadata": {},
   "source": [
    "We can take note of a few things here. First, the 'ID' column should be indicative of which machine that the data is collected, while the 'Cycle' column indicates the time step that the measurement is taken from. The rest all of the variables have values of more or less the same scale, that is within 0 and 1. This could indicate that someone has already performed Min-Max Normalization for us. Nonetheless, we will also perform it later just to be on the safe side. Before we proceed though, we will first separate out the features and labels for later usage."
   ]
  },
  {
   "cell_type": "code",
   "execution_count": 8,
   "metadata": {},
   "outputs": [
    {
     "name": "stdout",
     "output_type": "stream",
     "text": [
      "Shape for y of train dataset:  (20631,)\n",
      "Shape for x of train dataset:  (20631, 20)\n",
      "Shape for y of test dataset:  (13096,)\n",
      "Shape for x of test dataset:  (13096, 20)\n"
     ]
    }
   ],
   "source": [
    "# separate out features and target variable\n",
    "y_train = df_train_cleaned['label1']\n",
    "X_train = df_train_cleaned.drop('label1', axis=1)\n",
    "y_test = df_test_cleaned['label1']\n",
    "X_test = df_test_cleaned.drop('label1', axis=1)\n",
    "\n",
    "print('Shape for y of train dataset: ', y_train.shape)\n",
    "print('Shape for x of train dataset: ', X_train.shape)\n",
    "print('Shape for y of test dataset: ', y_test.shape)\n",
    "print('Shape for x of test dataset: ', X_test.shape)"
   ]
  },
  {
   "cell_type": "markdown",
   "metadata": {},
   "source": [
    "We have separated out the features and the label. We also see that we have 20,631 samples for our training data and 13,096 samples for our test data. Next, we will perform feature scaling using min-max normalization."
   ]
  },
  {
   "cell_type": "code",
   "execution_count": 9,
   "metadata": {},
   "outputs": [],
   "source": [
    "# data pre-processing : min-max normalization\n",
    "scaler = MinMaxScaler()\n",
    "X_train_scaled = scaler.fit_transform(X_train)\n",
    "X_test_scaled = scaler.transform(X_test)"
   ]
  },
  {
   "cell_type": "markdown",
   "metadata": {},
   "source": [
    "## <a name=\"model-dev\">Model Development</a>\n",
    "After performing some basic analytics on the dataset at hand, we will start to build deep learning model to classify time series for this dataset. We will be guiding you through the process of developing a LSTM model using `PyTorch`.\n",
    "\n",
    "LSTM is a variant of recurrent neural network (RNN). RNNs have loops in the network that, theoretically, allows for past information to persist. This feature helps to overcome one of the shortcomings of a traditional neural network, where it is ineffective in modeling sequential data.\n",
    "\n",
    "RNNs have been applied successfully in many tasks involving sequential data, such as language modeling, machine translation, etc. However, there are certain downsides to a vanilla RNN. RNN is notoriously known for its inability to handle long-term dependencies, and result in vanishing gradient issue. This is not a good news for a network that was initially designed to for such task.\n",
    "\n",
    "Therefore, LSTMs is popularizeed over RNNs in order to more effectively model sequential data. Its combination of forget gate, input gate, memory gate and hidden cell along with other model architecture details enable it to more effectively handle long-term dependencies over RNN. We will be guiding you on how to build a LSTM model in this tutorial.\n",
    "\n",
    "If you are interested to find out more about LSTM, Colah provides a great explanation of LSTM, which can be found [here](https://colah.github.io/posts/2015-08-Understanding-LSTMs/).\n",
    "\n",
    "Before we start building the model though, we have to first prepare our data into the format that can be fed into LSTM model."
   ]
  },
  {
   "cell_type": "code",
   "execution_count": 10,
   "metadata": {},
   "outputs": [
    {
     "name": "stdout",
     "output_type": "stream",
     "text": [
      "<class 'numpy.ndarray'>\n",
      "<class 'numpy.ndarray'>\n",
      "<class 'numpy.ndarray'>\n",
      "<class 'numpy.ndarray'>\n"
     ]
    }
   ],
   "source": [
    "# convert dtype to np.ndarray and reshaping it to 2D array\n",
    "y_train = y_train.to_numpy().reshape(-1, 1)\n",
    "y_test = y_test.to_numpy().reshape(-1, 1)\n",
    "\n",
    "print(type(X_train_scaled))\n",
    "print(type(X_test_scaled))\n",
    "print(type(y_train))\n",
    "print(type(y_test))"
   ]
  },
  {
   "cell_type": "markdown",
   "metadata": {},
   "source": [
    "We should have `np.ndarray` as the data type for both features and labels now. And indeed the above cell output confirms this. Recall that we need to prepare our dataset into format that is suitable for LSTM to be trained on. We will write a helper function to perform this."
   ]
  },
  {
   "cell_type": "code",
   "execution_count": 11,
   "metadata": {},
   "outputs": [
    {
     "name": "stdout",
     "output_type": "stream",
     "text": [
      "Total samples for X train: 20602\n",
      "Total samples for y train: 20602\n",
      "Total samples for X test: 13067\n",
      "Total samples for y test: 13067\n"
     ]
    }
   ],
   "source": [
    "def sequencing_data(x_data, y_data, sequence_length):\n",
    "    \"\"\"\n",
    "    Helper function to sample sub-sequence of training data.\n",
    "    Input data must be numpy.\n",
    "    \"\"\"\n",
    "    x, y = [], []\n",
    "\n",
    "    # Fill the batch with random sequences of data\n",
    "    for i in range(x_data.shape[0] - sequence_length):\n",
    "\n",
    "        # copy the sequences of data starting at this index\n",
    "        x.append(x_data[i:i + sequence_length + 1])\n",
    "        y.append(y_data[i + sequence_length])\n",
    "    \n",
    "    return x, y\n",
    "\n",
    "# converting data shape and sequence\n",
    "X_sequence_train, y_sequence_train = sequencing_data(X_train_scaled, y_train, 29)\n",
    "X_sequence_test, y_sequence_test = sequencing_data(X_test_scaled, y_test, 29)\n",
    "\n",
    "# sanity check \n",
    "print(\"Total samples for X train: \" + str(len(X_sequence_train)))\n",
    "print(\"Total samples for y train: \" + str(len(y_sequence_train)))\n",
    "print(\"Total samples for X test: \" + str(len(X_sequence_test)))\n",
    "print(\"Total samples for y test: \" + str(len(y_sequence_test)))"
   ]
  },
  {
   "cell_type": "markdown",
   "metadata": {},
   "source": [
    "Let us use write a customized class that inherits `Dataset` class from `PyTorch` to transform our dataset into `Dataset` class. This then allows us to make use of `DataLoader` method of `PyTorch` to load data batch by batch into the model during training process. This is also the typical way of preparing input data in `PyTorch`."
   ]
  },
  {
   "cell_type": "code",
   "execution_count": 12,
   "metadata": {},
   "outputs": [],
   "source": [
    "# write a customized Dataset class\n",
    "class MaintenanceDataset(Dataset):\n",
    "    \"\"\"\n",
    "    Convert input data into torch FloatTensor. \n",
    "    Inherit Dataset class. Return length of instance when len method is called and return specific sample\n",
    "    of data when indexed.\n",
    "    \"\"\"\n",
    "    def __init__(self, x, y):\n",
    "        self.x = torch.FloatTensor(x)\n",
    "        self.y = torch.FloatTensor(y)\n",
    "        \n",
    "    def __len__(self):\n",
    "        return self.x.size(0)\n",
    "    \n",
    "    def __getitem__(self, idx):\n",
    "        return self.x[idx], self.y[idx]"
   ]
  },
  {
   "cell_type": "markdown",
   "metadata": {},
   "source": [
    "We will also do a sanity check after using Dataset class of PyTorch to ensure that we have prepared our data into the right format before we feed them into the model."
   ]
  },
  {
   "cell_type": "code",
   "execution_count": 13,
   "metadata": {},
   "outputs": [
    {
     "name": "stdout",
     "output_type": "stream",
     "text": [
      "20602\n",
      "2\n",
      "30\n",
      "20\n"
     ]
    }
   ],
   "source": [
    "# creating train and test datasets\n",
    "train_ds = MaintenanceDataset(X_sequence_train, y_sequence_train)\n",
    "test_ds = MaintenanceDataset(X_sequence_test, y_sequence_test)\n",
    "\n",
    "# let us print out the first two rows of train dataset and check the shape of dataset too\n",
    "print(len(train_ds))          # print out number of samples\n",
    "print(len(train_ds[0]))       # print out the tuple of first sample\n",
    "print(len(train_ds[0][0]))    # print out number of features/channels\n",
    "print(len(train_ds[0][0][0])) # print out number of sequence"
   ]
  },
  {
   "cell_type": "markdown",
   "metadata": {},
   "source": [
    "Next, after preparing it into the right format, we will use DataLoader to transform our data into iterable."
   ]
  },
  {
   "cell_type": "code",
   "execution_count": 14,
   "metadata": {},
   "outputs": [],
   "source": [
    "# instantiate DataLoader instance\n",
    "batch_size = 200\n",
    "train_loader = DataLoader(dataset=train_ds,\n",
    "                          batch_size=batch_size,\n",
    "                          shuffle=False)\n",
    "\n",
    "test_loader = DataLoader(dataset=test_ds,\n",
    "                          batch_size=batch_size,\n",
    "                          shuffle=False)\n",
    "\n",
    "dataloaders = {'train': train_loader, 'test': test_loader}"
   ]
  },
  {
   "cell_type": "markdown",
   "metadata": {},
   "source": [
    "Our input data are finally ready. Nevertheless, we still need to define the architecture of our model. The codes below show how we can define a LSTM model for this task."
   ]
  },
  {
   "cell_type": "code",
   "execution_count": 15,
   "metadata": {},
   "outputs": [
    {
     "name": "stdout",
     "output_type": "stream",
     "text": [
      "Model architecture is: \n",
      "\n",
      "\n",
      "LSTM(\n",
      "  (lstm): LSTM(20, 128, num_layers=2, batch_first=True)\n",
      "  (linear): Linear(in_features=128, out_features=1, bias=True)\n",
      ")\n"
     ]
    }
   ],
   "source": [
    "# defining model architecture\n",
    "class LSTM(nn.Module):\n",
    "    def __init__(self, input_size, hidden_size, num_layers, num_classes):\n",
    "        super(LSTM, self).__init__() \n",
    "        self.hidden_size = hidden_size \n",
    "        self.num_layers = num_layers\n",
    "        self.lstm = nn.LSTM(input_size, hidden_size, num_layers, batch_first=True) # LSTM receives input in the form of (batch_size, sequence_length, n_features)\n",
    "        self.linear = nn.Linear(hidden_size, num_classes)\n",
    "        \n",
    "    def forward(self, x):\n",
    "        h0 = torch.zeros(self.num_layers, x.size(0), self.hidden_size) # initiate zeros tensor with (num_layers, batch_size, hidden_size)\n",
    "        c0 = torch.zeros(self.num_layers, x.size(0), self.hidden_size)\n",
    "        \n",
    "        out, _ = self.lstm(x, (h0, c0))\n",
    "        out = out[:, -1, :] # we just using last time step to do prediction\n",
    "        out = self.linear(out)\n",
    "        return out\n",
    "\n",
    "num_layers = 2       # stack 2 RNN together\n",
    "num_classes = 1\n",
    "input_size = 20      # since one row has 20 features, we are reading one row at a time\n",
    "hidden_size = 128 \n",
    "    \n",
    "model = LSTM(input_size, hidden_size, num_layers, num_classes)\n",
    "print(\"Model architecture is: \\n\\n\")\n",
    "print(model)"
   ]
  },
  {
   "cell_type": "markdown",
   "metadata": {},
   "source": [
    "Next, we will have to configure our hyperparameters before we proceed to model training. Do note that the values shown here are not the only options that you can use. Hyperparameter tuning is a trial-and-error process. You will have to find out for yourself what kind of hyperparameter works best for different datasets and model."
   ]
  },
  {
   "cell_type": "code",
   "execution_count": 16,
   "metadata": {},
   "outputs": [],
   "source": [
    "# set hyperparameters for model\n",
    "epochs = 5\n",
    "learning_rate = 0.001\n",
    "optimizer = torch.optim.Adam(model.parameters(), lr=learning_rate)\n",
    "criterion = nn.BCEWithLogitsLoss(reduction='mean')"
   ]
  },
  {
   "cell_type": "markdown",
   "metadata": {},
   "source": [
    "Now, we are going to write code to perform model training and validation. For each epoch, we will train our model on training set and validate it on test set. We will have to set our model to `train` model during model training for backpropagation to occur, and set our model to `eval` mode to disable model parameters from updating."
   ]
  },
  {
   "cell_type": "code",
   "execution_count": 17,
   "metadata": {},
   "outputs": [
    {
     "name": "stdout",
     "output_type": "stream",
     "text": [
      "Epoch 1/5\n",
      "TRAIN Loss: 0.31239788825448744\n",
      "TEST Loss: 0.07645066037148025\n",
      "Epoch 2/5\n",
      "TRAIN Loss: 0.15999575623364173\n",
      "TEST Loss: 0.04655626958642781\n",
      "Epoch 3/5\n",
      "TRAIN Loss: 0.1365068609500878\n",
      "TEST Loss: 0.04325956883612546\n",
      "Epoch 4/5\n",
      "TRAIN Loss: 0.11921028146176153\n",
      "TEST Loss: 0.03838639199649846\n",
      "Epoch 5/5\n",
      "TRAIN Loss: 0.10986944579585964\n",
      "TEST Loss: 0.04330266736282601\n"
     ]
    }
   ],
   "source": [
    "loss_score = {'train': [], 'test': []}\n",
    "for epoch in range(epochs):\n",
    "    print(f'Epoch {epoch+1}/{epochs}')\n",
    "    for phase in ['train', 'test']:\n",
    "        if phase == 'train':\n",
    "            model.train()\n",
    "        else:\n",
    "            model.eval()\n",
    "\n",
    "        loss_cumsum = 0.0\n",
    "        total_iterations = 0.0\n",
    "\n",
    "        for i, (X, y) in enumerate(dataloaders[phase]):\n",
    "            with torch.set_grad_enabled(phase == 'train'):\n",
    "                out = model(X)\n",
    "                loss = criterion(out, y)\n",
    "\n",
    "                if phase == 'train':\n",
    "                    optimizer.zero_grad()\n",
    "                    loss.backward()\n",
    "                    optimizer.step()\n",
    "\n",
    "            loss_cumsum += loss.item() * out.size(0)\n",
    "            total_iterations += out.size(0)\n",
    "\n",
    "        epoch_loss = loss_cumsum / total_iterations\n",
    "        print(f'{phase.upper()} Loss: {epoch_loss}')\n",
    "        loss_score[phase].append(epoch_loss)"
   ]
  },
  {
   "cell_type": "markdown",
   "metadata": {},
   "source": [
    "Note that we have stored the loss score during model training and validation for each epoch. We will plot a line chart of loss score (y-axis) against number of epochs (x-axis). This plot will help us to check whether the model is converging."
   ]
  },
  {
   "cell_type": "code",
   "execution_count": 18,
   "metadata": {},
   "outputs": [
    {
     "data": {
      "image/png": "[encoded data removed]",
      "text/plain": [
       "<Figure size 1008x504 with 1 Axes>"
      ]
     },
     "metadata": {
      "needs_background": "light"
     },
     "output_type": "display_data"
    }
   ],
   "source": [
    "# plot loss score for training and validation loop\n",
    "fig, ax = plt.subplots()\n",
    "fig.set_size_inches(14, 7)\n",
    "ax.set_title(\"Loss Score against Epoch\")\n",
    "ax.grid(b=True)\n",
    "ax.set_xlabel(\"Epoch Number\")\n",
    "ax.set_ylabel(\"Loss Score\")\n",
    "ax.plot(loss_score['train'], color='goldenrod', label='Training Loss')\n",
    "ax.plot(loss_score['test'], color='green', label='Test Loss')\n",
    "ax.legend();"
   ]
  },
  {
   "cell_type": "markdown",
   "metadata": {},
   "source": [
    "We can see from the loss score plot above that the model is converging as there are no sudden upward spikes at the last few epochs. Our model is ready to be tested to check for its performance on unseen data."
   ]
  },
  {
   "cell_type": "markdown",
   "metadata": {},
   "source": [
    "## <a name=\"evaluation\">Evaluation</a>\n",
    "Since this is a classification task, we will be using the following metrics for model evaluation:\n",
    "* accuracy\n",
    "* ROC score\n",
    "* precision\n",
    "* recall\n",
    "* f1-score\n",
    "\n",
    "We will first examine the performance of the model on both the training and test set."
   ]
  },
  {
   "cell_type": "code",
   "execution_count": 19,
   "metadata": {},
   "outputs": [
    {
     "name": "stdout",
     "output_type": "stream",
     "text": [
      "MODEL PERFORMANCE ON TRAINING DATASET\n",
      "\n",
      "\n",
      "ROC AUC score: 0.988\n",
      "              precision    recall  f1-score   support\n",
      "\n",
      "         0.0       0.97      0.97      0.97     17502\n",
      "         1.0       0.85      0.86      0.86      3100\n",
      "\n",
      "    accuracy                           0.96     20602\n",
      "   macro avg       0.91      0.92      0.92     20602\n",
      "weighted avg       0.96      0.96      0.96     20602\n",
      "\n"
     ]
    }
   ],
   "source": [
    "# using threshold to determine which prediction belongs to class 1 or 0\n",
    "threshold = 0.5\n",
    "\n",
    "# compute prediction results in the form of numpy ndarray\n",
    "model.eval()\n",
    "true_list, preds_list = [], []\n",
    "for x_test, y_test in DataLoader(dataset=train_ds, batch_size=1, shuffle=False):\n",
    "    with torch.no_grad():\n",
    "        true_list.append(y_test.detach().numpy())\n",
    "        preds = model(x_test)\n",
    "        preds = torch.sigmoid(preds)\n",
    "        preds_list.append(preds.detach().numpy())\n",
    "\n",
    "train_true_np, train_preds_np = np.concatenate(true_list), np.concatenate(preds_list)\n",
    "\n",
    "# compute evaluation metrics including ROC AUC score, accuracy score, f1-score, precision and recall\n",
    "print(\"MODEL PERFORMANCE ON TRAINING DATASET\")\n",
    "print(f'\\n\\nROC AUC score: {round(roc_auc_score(train_true_np, train_preds_np), 3)}')\n",
    "print(classification_report(y_true=train_true_np, y_pred=(train_preds_np > threshold).astype(int)))"
   ]
  },
  {
   "cell_type": "code",
   "execution_count": 20,
   "metadata": {},
   "outputs": [
    {
     "name": "stdout",
     "output_type": "stream",
     "text": [
      "MODEL PERFORMANCE ON TEST DATASET\n",
      "\n",
      "\n",
      "ROC AUC score: 0.989\n",
      "              precision    recall  f1-score   support\n",
      "\n",
      "         0.0       0.99      0.99      0.99     12735\n",
      "         1.0       0.74      0.65      0.70       332\n",
      "\n",
      "    accuracy                           0.99     13067\n",
      "   macro avg       0.87      0.82      0.84     13067\n",
      "weighted avg       0.98      0.99      0.99     13067\n",
      "\n"
     ]
    }
   ],
   "source": [
    "# compute prediction results in the form of numpy ndarray\n",
    "model.eval()\n",
    "true_list, preds_list = [], []\n",
    "for x_test, y_test in DataLoader(dataset=test_ds, batch_size=1, shuffle=False):\n",
    "    with torch.no_grad():\n",
    "        true_list.append(y_test.detach().numpy())\n",
    "        preds = model(x_test)\n",
    "        preds = torch.sigmoid(preds)\n",
    "        preds_list.append(preds.detach().numpy())\n",
    "\n",
    "test_true_np, test_preds_np = np.concatenate(true_list), np.concatenate(preds_list)\n",
    "\n",
    "# compute evaluation metrics including ROC AUC score, accuracy score, f1-score, precision and recall\n",
    "print(\"MODEL PERFORMANCE ON TEST DATASET\")\n",
    "print(f'\\n\\nROC AUC score: {round(roc_auc_score(test_true_np, test_preds_np), 3)}')\n",
    "print(classification_report(y_true=test_true_np, y_pred=(test_preds_np > threshold).astype(int)))"
   ]
  },
  {
   "cell_type": "markdown",
   "metadata": {},
   "source": [
    "Well, our model has shows consistent performance for when tested on both training and test set. This shows that the model does not suffer from overfitting issue. Also, the accuracy score is quite satisfactory and shows no indication of underfitting. Nevertheless, the recall for class 1 is on the down side. This could be due to the imbalance class distribution that was found out earlier. You can try to improve the model performance by tackling the class imbalance issue, for example using undersampling or oversampling techinque. Next, we will be going into the exercise section."
   ]
  },
  {
   "cell_type": "markdown",
   "metadata": {},
   "source": [
    "## <a name=\"exercise\">Exercise</a>\n",
    "\n",
    "This exercise section is attached for you to practice and hone your skills. Try your best effort to complete it without referring to the solution."
   ]
  },
  {
   "cell_type": "markdown",
   "metadata": {},
   "source": [
    "### Notebook Configurations\n",
    "You can import any module that you wish to use for this exercise. However, if you run the cells from the start of this notebook, most probably all the modules which you need had already been imported at this point."
   ]
  },
  {
   "cell_type": "code",
   "execution_count": 21,
   "metadata": {},
   "outputs": [],
   "source": [
    "# import modules\n",
    "### BEGIN SOLUTION\n",
    "\n",
    "\n",
    "### END SOLUTION"
   ]
  },
  {
   "cell_type": "markdown",
   "metadata": {},
   "source": [
    "### Dataset\n",
    "**INSTRUCTIONS**: Please perform binary classification task using the same dataset and features but instead choose the target variable of \"label2\". Feel free to experiment with other features or use feature engineering techniques."
   ]
  },
  {
   "cell_type": "code",
   "execution_count": 22,
   "metadata": {},
   "outputs": [],
   "source": [
    "# import training and test dataset\n",
    "### BEGIN SOLUTION\n",
    "\n",
    "\n",
    "### END SOLUTION"
   ]
  },
  {
   "cell_type": "markdown",
   "metadata": {},
   "source": [
    "### Basic Analytics\n",
    "**INSTRUCTIONS**: Perform some basic analytics on the dataset by following the guidelines that are provided in each cell."
   ]
  },
  {
   "cell_type": "code",
   "execution_count": 23,
   "metadata": {},
   "outputs": [
    {
     "name": "stdout",
     "output_type": "stream",
     "text": [
      "Shape of dataset is: None\n",
      "Rows of train data are: None\n",
      "Columns of train data are: None\n"
     ]
    }
   ],
   "source": [
    "# compute the number of rows and columns of train data\n",
    "### BEGIN SOLUTION\n",
    "df_train_shape = None\n",
    "df_train_rows = None\n",
    "df_train_columns = None\n",
    "### END SOLUTION\n",
    "\n",
    "print(f\"Shape of dataset is: {df_train_shape}\")\n",
    "print(\"Rows of train data are: \" + str(df_train_rows))\n",
    "print(\"Columns of train data are: \" + str(df_train_columns))"
   ]
  },
  {
   "cell_type": "code",
   "execution_count": 24,
   "metadata": {},
   "outputs": [],
   "source": [
    "# inspect first 5 rows of training data\n",
    "### BEGIN SOLUTION\n",
    "\n",
    "### END SOLUTION"
   ]
  },
  {
   "cell_type": "code",
   "execution_count": 25,
   "metadata": {},
   "outputs": [
    {
     "name": "stdout",
     "output_type": "stream",
     "text": [
      "Classes in train dataset: None\n"
     ]
    }
   ],
   "source": [
    "# compute class distribution\n",
    "### BEGIN SOLUTION\n",
    "class_distribution = None\n",
    "### END SOLUTION\n",
    "\n",
    "print('Classes in train dataset:', class_distribution)"
   ]
  },
  {
   "cell_type": "code",
   "execution_count": 26,
   "metadata": {},
   "outputs": [],
   "source": [
    "# inspect missing values\n",
    "### BEGIN SOLUTION\n",
    "\n",
    "### END SOLUTION"
   ]
  },
  {
   "cell_type": "code",
   "execution_count": 27,
   "metadata": {},
   "outputs": [],
   "source": [
    "# removing the unnecessary columns\n",
    "### BEGIN SOLUTION\n",
    "\n",
    "\n",
    "\n",
    "### END SOLUTION"
   ]
  },
  {
   "cell_type": "code",
   "execution_count": 28,
   "metadata": {},
   "outputs": [],
   "source": [
    "# check for the data types\n",
    "### BEGIN SOLUTION\n",
    "\n",
    "### END SOLUTION"
   ]
  },
  {
   "cell_type": "code",
   "execution_count": 29,
   "metadata": {},
   "outputs": [],
   "source": [
    "# separate out features and target variable\n",
    "### BEGIN SOLUTION\n",
    "\n",
    "\n",
    "\n",
    "### END SOLUTION"
   ]
  },
  {
   "cell_type": "code",
   "execution_count": 30,
   "metadata": {},
   "outputs": [],
   "source": [
    "# data pre-processing : min-max normalization\n",
    "### BEGIN SOLUTION\n",
    "\n",
    "\n",
    "### END SOLUTION"
   ]
  },
  {
   "cell_type": "markdown",
   "metadata": {},
   "source": [
    "### Model Development\n",
    "**INSTRUCTIONS**: Prepare the input data and define your own LSTM model. Implement training and validation loop at each epoch."
   ]
  },
  {
   "cell_type": "code",
   "execution_count": 31,
   "metadata": {},
   "outputs": [],
   "source": [
    "# write a helper function which slices through the features using the sequence_length parameter and index the labe at the time step\n",
    "# function should return features in sequence and labels\n",
    "def sequencing_data(x_data, y_data, sequence_length):\n",
    "    \"\"\"\n",
    "    Helper function to sample sub-sequence of training data.\n",
    "    Input data must be numpy.\n",
    "    \"\"\"\n",
    "    ### BEGIN SOLUTION\n",
    "    pass\n",
    "    ### END SOLUTION\n",
    "    \n",
    "    return x, y\n",
    "\n",
    "# calling the helper function and store them in variables\n",
    "### BEGIN SOLUTION\n",
    "\n",
    "\n",
    "### END SOLUTION\n",
    "\n",
    "# sanity check \n",
    "### BEGIN SOLUTION\n",
    "# print(\"Total samples for X train: \" + str(len(X_sequence_train)))\n",
    "# print(\"Total samples for y train: \" + str(len(y_sequence_train)))\n",
    "# print(\"Total samples for X test: \" + str(len(X_sequence_test)))\n",
    "# print(\"Total samples for y test: \" + str(len(y_sequence_test)))\n",
    "### END SOLUTION"
   ]
  },
  {
   "cell_type": "code",
   "execution_count": 32,
   "metadata": {},
   "outputs": [],
   "source": [
    "# write a customized Dataset class\n",
    "class MaintenanceDataset(Dataset):\n",
    "    \"\"\"\n",
    "    Convert input data into torch FloatTensor. \n",
    "    Inherit Dataset class. Return length of instance when len method is called and return specific sample\n",
    "    of data when indexed.\n",
    "    \"\"\"    \n",
    "    ### BEGIN SOLUTION\n",
    "    pass\n",
    "    \n",
    "    \n",
    "    \n",
    "    \n",
    "    \n",
    "    \n",
    "    ### END SOLUTION"
   ]
  },
  {
   "cell_type": "code",
   "execution_count": 33,
   "metadata": {},
   "outputs": [],
   "source": [
    "# instantiate Dataset object\n",
    "### BEGIN SOLUTION\n",
    "\n",
    "\n",
    "### END SOLUTION"
   ]
  },
  {
   "cell_type": "code",
   "execution_count": 34,
   "metadata": {},
   "outputs": [],
   "source": [
    "# instantiate DataLoader object\n",
    "### BEGIN SOLUTION\n",
    "batch_size = None\n",
    "\n",
    "\n",
    "\n",
    "\n",
    "\n",
    "\n",
    "\n",
    "\n",
    "\n",
    "\n",
    "### END SOLUTION"
   ]
  },
  {
   "cell_type": "code",
   "execution_count": 35,
   "metadata": {},
   "outputs": [
    {
     "name": "stdout",
     "output_type": "stream",
     "text": [
      "Model architecture is: \n",
      "\n",
      "\n",
      "None\n"
     ]
    }
   ],
   "source": [
    "# defining model architecture\n",
    "class LSTM(nn.Module):\n",
    "    ### BEGIN SOLUTION\n",
    "    pass\n",
    "\n",
    "\n",
    "\n",
    "\n",
    "\n",
    "\n",
    "\n",
    "\n",
    "    ### END SOLUTION\n",
    "\n",
    "# declaring number of layers, number of classes/output categories, input size and hidden size\n",
    "### BEGIN SOLUTION\n",
    "\n",
    "\n",
    "\n",
    "\n",
    "### END SOLUTION\n",
    "\n",
    "# instantiate LSTM object\n",
    "### BEGIN SOLUTION\n",
    "model = None\n",
    "### END SOLUTION\n",
    "\n",
    "print(\"Model architecture is: \\n\\n\")\n",
    "print(model)"
   ]
  },
  {
   "cell_type": "code",
   "execution_count": 36,
   "metadata": {},
   "outputs": [],
   "source": [
    "# set hyperparameters for model\n",
    "### BEGIN SOLUTION\n",
    "\n",
    "\n",
    "\n",
    "\n",
    "### END SOLUTION"
   ]
  },
  {
   "cell_type": "code",
   "execution_count": 37,
   "metadata": {},
   "outputs": [],
   "source": [
    "# implement model training and validation loop\n",
    "### BEGIN SOLUTION\n",
    "\n",
    "\n",
    "\n",
    "\n",
    "\n",
    "\n",
    "\n",
    "\n",
    "\n",
    "\n",
    "\n",
    "\n",
    "\n",
    "\n",
    "\n",
    "\n",
    "\n",
    "\n",
    "\n",
    "\n",
    "\n",
    "\n",
    "\n",
    "\n",
    "### END SOLUTION"
   ]
  },
  {
   "cell_type": "code",
   "execution_count": 38,
   "metadata": {},
   "outputs": [],
   "source": [
    "# plot loss score for training and validation loop\n",
    "### BEGIN SOLUTION\n",
    "\n",
    "\n",
    "\n",
    "\n",
    "\n",
    "\n",
    "\n",
    "\n",
    "\n",
    "\n",
    "\n",
    "\n",
    "### END SOLUTION"
   ]
  },
  {
   "cell_type": "markdown",
   "metadata": {},
   "source": [
    "### Evaluation\n",
    "**INSTRUCTIONS:** Follow the guidelines given in the cells to evaluate performance of model."
   ]
  },
  {
   "cell_type": "code",
   "execution_count": 39,
   "metadata": {},
   "outputs": [],
   "source": [
    "# compute prediction results in the form of numpy ndarray and evaluation metrics including accuracy score, f1-score, precision and recall\n",
    "### BEGIN SOLUTION\n",
    "\n",
    "\n",
    "\n",
    "\n",
    "\n",
    "\n",
    "\n",
    "\n",
    "\n",
    "\n",
    "\n",
    "\n",
    "\n",
    "\n",
    "\n",
    "\n",
    "\n",
    "### END SOLUTION"
   ]
  },
  {
   "cell_type": "markdown",
   "metadata": {},
   "source": [
    "## <a name=\"reference\">Reference</a>:\n",
    "1. [Deep Learning for tabular data using Pytorch](https://jovian.ai/aakanksha-ns/shelter-outcome)\n",
    "2. [pytorch custom dataset: DataLoader returns a list of tensors rather than tensor of a list](https://stackoverflow.com/questions/62208904/pytorch-custom-dataset-dataloader-returns-a-list-of-tensors-rather-than-tensor)\n",
    "3. [Predictive maintenance - NASA Turbofan Dataset](https://www.kaggle.com/c/predictive-maintenance)\n",
    "4. [Understanding LSTM Networks](https://colah.github.io/posts/2015-08-Understanding-LSTMs/)"
   ]
  },
  {
   "cell_type": "markdown",
   "metadata": {},
   "source": [
    "## <a name=\"bonus\">Bonus</a>\n",
    "We can also just load one batch of DataLoader as checking, by converting DataLoader to iterator and calling `next` method"
   ]
  },
  {
   "cell_type": "code",
   "execution_count": 40,
   "metadata": {},
   "outputs": [
    {
     "data": {
      "text/plain": [
       "[tensor([[[0.0000, 0.0000, 0.4598,  ..., 0.7132, 0.7247, 0.0000],\n",
       "          [0.0000, 0.0028, 0.6092,  ..., 0.6667, 0.7310, 0.0028],\n",
       "          [0.0000, 0.0055, 0.2529,  ..., 0.6279, 0.6214, 0.0055],\n",
       "          ...,\n",
       "          [0.0000, 0.0748, 0.3621,  ..., 0.6744, 0.5384, 0.0748],\n",
       "          [0.0000, 0.0776, 0.5690,  ..., 0.6124, 0.6428, 0.0776],\n",
       "          [0.0000, 0.0803, 0.3736,  ..., 0.7054, 0.7136, 0.0803]],\n",
       " \n",
       "         [[0.0000, 0.0028, 0.6092,  ..., 0.6667, 0.7310, 0.0028],\n",
       "          [0.0000, 0.0055, 0.2529,  ..., 0.6279, 0.6214, 0.0055],\n",
       "          [0.0000, 0.0083, 0.5402,  ..., 0.5736, 0.6624, 0.0083],\n",
       "          ...,\n",
       "          [0.0000, 0.0776, 0.5690,  ..., 0.6124, 0.6428, 0.0776],\n",
       "          [0.0000, 0.0803, 0.3736,  ..., 0.7054, 0.7136, 0.0803],\n",
       "          [0.0000, 0.0831, 0.5805,  ..., 0.6202, 0.6091, 0.0831]],\n",
       " \n",
       "         [[0.0000, 0.0055, 0.2529,  ..., 0.6279, 0.6214, 0.0055],\n",
       "          [0.0000, 0.0083, 0.5402,  ..., 0.5736, 0.6624, 0.0083],\n",
       "          [0.0000, 0.0111, 0.3908,  ..., 0.5891, 0.7045, 0.0111],\n",
       "          ...,\n",
       "          [0.0000, 0.0803, 0.3736,  ..., 0.7054, 0.7136, 0.0803],\n",
       "          [0.0000, 0.0831, 0.5805,  ..., 0.6202, 0.6091, 0.0831],\n",
       "          [0.0000, 0.0859, 0.5287,  ..., 0.6822, 0.8364, 0.0859]],\n",
       " \n",
       "         ...,\n",
       " \n",
       "         [[0.0101, 0.0139, 0.4425,  ..., 0.7829, 0.7357, 0.0139],\n",
       "          [0.0101, 0.0166, 0.5057,  ..., 0.7442, 0.7976, 0.0166],\n",
       "          [0.0101, 0.0194, 0.5862,  ..., 0.7519, 0.7510, 0.0194],\n",
       "          ...,\n",
       "          [0.0101, 0.0886, 0.3161,  ..., 0.6744, 0.7584, 0.0886],\n",
       "          [0.0101, 0.0914, 0.7414,  ..., 0.5659, 0.7773, 0.0914],\n",
       "          [0.0101, 0.0942, 0.6149,  ..., 0.7132, 0.8756, 0.0942]],\n",
       " \n",
       "         [[0.0101, 0.0166, 0.5057,  ..., 0.7442, 0.7976, 0.0166],\n",
       "          [0.0101, 0.0194, 0.5862,  ..., 0.7519, 0.7510, 0.0194],\n",
       "          [0.0101, 0.0222, 0.5977,  ..., 0.7132, 0.8192, 0.0222],\n",
       "          ...,\n",
       "          [0.0101, 0.0914, 0.7414,  ..., 0.5659, 0.7773, 0.0914],\n",
       "          [0.0101, 0.0942, 0.6149,  ..., 0.7132, 0.8756, 0.0942],\n",
       "          [0.0101, 0.0970, 0.5747,  ..., 0.7597, 0.6820, 0.0970]],\n",
       " \n",
       "         [[0.0101, 0.0194, 0.5862,  ..., 0.7519, 0.7510, 0.0194],\n",
       "          [0.0101, 0.0222, 0.5977,  ..., 0.7132, 0.8192, 0.0222],\n",
       "          [0.0101, 0.0249, 0.2414,  ..., 0.8217, 0.9753, 0.0249],\n",
       "          ...,\n",
       "          [0.0101, 0.0942, 0.6149,  ..., 0.7132, 0.8756, 0.0942],\n",
       "          [0.0101, 0.0970, 0.5747,  ..., 0.7597, 0.6820, 0.0970],\n",
       "          [0.0101, 0.0997, 0.7874,  ..., 0.7287, 0.7049, 0.0997]]]),\n",
       " tensor([[0.],\n",
       "         [0.],\n",
       "         [0.],\n",
       "         [0.],\n",
       "         [0.],\n",
       "         [0.],\n",
       "         [0.],\n",
       "         [0.],\n",
       "         [0.],\n",
       "         [0.],\n",
       "         [0.],\n",
       "         [0.],\n",
       "         [0.],\n",
       "         [0.],\n",
       "         [0.],\n",
       "         [0.],\n",
       "         [0.],\n",
       "         [0.],\n",
       "         [0.],\n",
       "         [0.],\n",
       "         [0.],\n",
       "         [0.],\n",
       "         [0.],\n",
       "         [0.],\n",
       "         [0.],\n",
       "         [0.],\n",
       "         [0.],\n",
       "         [0.],\n",
       "         [0.],\n",
       "         [0.],\n",
       "         [0.],\n",
       "         [0.],\n",
       "         [0.],\n",
       "         [0.],\n",
       "         [0.],\n",
       "         [0.],\n",
       "         [0.],\n",
       "         [0.],\n",
       "         [0.],\n",
       "         [0.],\n",
       "         [0.],\n",
       "         [0.],\n",
       "         [0.],\n",
       "         [0.],\n",
       "         [0.],\n",
       "         [0.],\n",
       "         [0.],\n",
       "         [0.],\n",
       "         [0.],\n",
       "         [0.],\n",
       "         [0.],\n",
       "         [0.],\n",
       "         [0.],\n",
       "         [0.],\n",
       "         [0.],\n",
       "         [0.],\n",
       "         [0.],\n",
       "         [0.],\n",
       "         [0.],\n",
       "         [0.],\n",
       "         [0.],\n",
       "         [0.],\n",
       "         [0.],\n",
       "         [0.],\n",
       "         [0.],\n",
       "         [0.],\n",
       "         [0.],\n",
       "         [0.],\n",
       "         [0.],\n",
       "         [0.],\n",
       "         [0.],\n",
       "         [0.],\n",
       "         [0.],\n",
       "         [0.],\n",
       "         [0.],\n",
       "         [0.],\n",
       "         [0.],\n",
       "         [0.],\n",
       "         [0.],\n",
       "         [0.],\n",
       "         [0.],\n",
       "         [0.],\n",
       "         [0.],\n",
       "         [0.],\n",
       "         [0.],\n",
       "         [0.],\n",
       "         [0.],\n",
       "         [0.],\n",
       "         [0.],\n",
       "         [0.],\n",
       "         [0.],\n",
       "         [0.],\n",
       "         [0.],\n",
       "         [0.],\n",
       "         [0.],\n",
       "         [0.],\n",
       "         [0.],\n",
       "         [0.],\n",
       "         [0.],\n",
       "         [0.],\n",
       "         [0.],\n",
       "         [0.],\n",
       "         [0.],\n",
       "         [0.],\n",
       "         [0.],\n",
       "         [0.],\n",
       "         [0.],\n",
       "         [0.],\n",
       "         [0.],\n",
       "         [0.],\n",
       "         [0.],\n",
       "         [0.],\n",
       "         [0.],\n",
       "         [0.],\n",
       "         [0.],\n",
       "         [0.],\n",
       "         [0.],\n",
       "         [0.],\n",
       "         [0.],\n",
       "         [0.],\n",
       "         [0.],\n",
       "         [0.],\n",
       "         [0.],\n",
       "         [0.],\n",
       "         [0.],\n",
       "         [0.],\n",
       "         [0.],\n",
       "         [0.],\n",
       "         [0.],\n",
       "         [0.],\n",
       "         [0.],\n",
       "         [0.],\n",
       "         [1.],\n",
       "         [1.],\n",
       "         [1.],\n",
       "         [1.],\n",
       "         [1.],\n",
       "         [1.],\n",
       "         [1.],\n",
       "         [1.],\n",
       "         [1.],\n",
       "         [1.],\n",
       "         [1.],\n",
       "         [1.],\n",
       "         [1.],\n",
       "         [1.],\n",
       "         [1.],\n",
       "         [1.],\n",
       "         [1.],\n",
       "         [1.],\n",
       "         [1.],\n",
       "         [1.],\n",
       "         [1.],\n",
       "         [1.],\n",
       "         [1.],\n",
       "         [1.],\n",
       "         [1.],\n",
       "         [1.],\n",
       "         [1.],\n",
       "         [1.],\n",
       "         [1.],\n",
       "         [1.],\n",
       "         [1.],\n",
       "         [0.],\n",
       "         [0.],\n",
       "         [0.],\n",
       "         [0.],\n",
       "         [0.],\n",
       "         [0.],\n",
       "         [0.],\n",
       "         [0.],\n",
       "         [0.],\n",
       "         [0.],\n",
       "         [0.],\n",
       "         [0.],\n",
       "         [0.],\n",
       "         [0.],\n",
       "         [0.],\n",
       "         [0.],\n",
       "         [0.],\n",
       "         [0.],\n",
       "         [0.],\n",
       "         [0.],\n",
       "         [0.],\n",
       "         [0.],\n",
       "         [0.],\n",
       "         [0.],\n",
       "         [0.],\n",
       "         [0.],\n",
       "         [0.],\n",
       "         [0.],\n",
       "         [0.],\n",
       "         [0.],\n",
       "         [0.],\n",
       "         [0.],\n",
       "         [0.],\n",
       "         [0.],\n",
       "         [0.],\n",
       "         [0.],\n",
       "         [0.]])]"
      ]
     },
     "execution_count": 40,
     "metadata": {},
     "output_type": "execute_result"
    }
   ],
   "source": [
    "next(iter(train_loader))"
   ]
  }
 ],
 "metadata": {
  "kernelspec": {
   "display_name": "Python 3",
   "language": "python",
   "name": "python3"
  },
  "language_info": {
   "codemirror_mode": {
    "name": "ipython",
    "version": 3
   },
   "file_extension": ".py",
   "mimetype": "text/x-python",
   "name": "python",
   "nbconvert_exporter": "python",
   "pygments_lexer": "ipython3",
   "version": "3.9.1"
  }
 },
 "nbformat": 4,
 "nbformat_minor": 4
}
