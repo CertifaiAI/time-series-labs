{
 "cells": [
  {
   "cell_type": "markdown",
   "metadata": {
    "deletable": false,
    "editable": false
   },
   "source": [
    "> **Copyright &copy; 2020 CertifAI Sdn. Bhd.**<br>\n",
    " **Copyright &copy; 2021 CertifAI Sdn. Bhd.**<br>\n",
    " <br>\n",
    "This program and the accompanying materials are made available under the\n",
    "terms of the [Apache License, Version 2.0](https://www.apache.org/licenses/LICENSE-2.0). \\\n",
    "Unless required by applicable law or agreed to in writing, software\n",
    "distributed under the License is distributed on an \"AS IS\" BASIS, WITHOUT\n",
    "WARRANTIES OR CONDITIONS OF ANY KIND, either express or implied. See the\n",
    "License for the specific language governing permissions and limitations\n",
    "under the License. <br>\n",
    "<br>**SPDX-License-Identifier: Apache-2.0**> "
   ]
  },
  {
   "cell_type": "markdown",
   "metadata": {},
   "source": [
    "# 05 - Semi-supervised Anomaly Detection Using Convolutional Autoencoder\n",
    "\n",
    "Authored by: [Kian Yang Lee](https://github.com/KianYang-Lee) - kianyang.lee@certifai.ai"
   ]
  },
  {
   "cell_type": "markdown",
   "metadata": {},
   "source": [
    "## Notebook Description\n",
    "This tutorial will walk you through on how to perform anomaly detection using convolutional autoencoder and how to interpret it. All the techniques is readily available in Scikit-learn library. An exercise section is attached for you to practice and hone your skills. Do make good use of it.\n",
    "\n",
    "By the end of this tutorial, you will be able to:\n",
    "\n",
    "1. Prepare dataset to be feed into deep learning model\n",
    "2. Build and apply convolutional autoencoder model \n",
    "3. Perform unsupervised anomaly detection tasks on time series data\n",
    "\n",
    "## Notebook Outline\n",
    "Below is the outline for this tutorial:\n",
    "1. [Notebook Configurations](#configuration)\n",
    "2. [Dataset](#dataset)\n",
    "3. [Basic Analytics](#analytics)\n",
    "3. [Model Development](#model-dev) \n",
    "4. [Evaluation](#evaluation)\n",
    "5. [Exercise](#exercise)\n",
    "6. [Reference](#reference)\n",
    "7. [Bonus](#bonus)\n",
    "\n"
   ]
  },
  {
   "cell_type": "markdown",
   "metadata": {},
   "source": [
    "## <a name=\"configuration\">Notebook configurations</a>\n",
    "Following are the libraries that needs to be imported and used for this tutorial."
   ]
  },
  {
   "cell_type": "code",
   "execution_count": 1,
   "metadata": {},
   "outputs": [
    {
     "data": {
      "text/plain": [
       "<torch._C.Generator at 0x1c07c62f7f0>"
      ]
     },
     "execution_count": 1,
     "metadata": {},
     "output_type": "execute_result"
    }
   ],
   "source": [
    "# Importing libraries\n",
    "import sys\n",
    "from datetime import datetime\n",
    "import numpy as np\n",
    "import pandas as pd\n",
    "from tqdm import tqdm\n",
    "import torch\n",
    "import torch.nn as nn\n",
    "import torch.nn.functional as F\n",
    "import torch.optim as optim\n",
    "from torch.utils.data import Dataset, DataLoader\n",
    "import matplotlib.pyplot as plt\n",
    "from sklearn.model_selection import train_test_split\n",
    "from sklearn.preprocessing import MinMaxScaler\n",
    "\n",
    "# seed configuration\n",
    "np.random.seed(38)\n",
    "torch.manual_seed(38)"
   ]
  },
  {
   "cell_type": "markdown",
   "metadata": {},
   "source": [
    "## <a name=\"dataset\">Dataset</a>\n",
    "The dataset will be generated using NumPy and Pandas library. Two datasets will be generated, with both constituting normal data and also anomalous data that differs from normal data. For the first dataset (hereinafter known as training set), normal data are generated as being in the normal distribution of mean 3 and standard deviation of 1, while anomalous data are generated in the uniform distribution ranging from 10 to 20. For the second dataset (hereinafter known as test set), normal data are generated as being in the normal distribution of mean 3 and standard deviation of 1, while anomalous data are generated in the uniform distribution ranging from 20 to 25."
   ]
  },
  {
   "cell_type": "code",
   "execution_count": 2,
   "metadata": {},
   "outputs": [],
   "source": [
    "\"\"\"Generate training data\"\"\"\n",
    "# instantiate datetime object and datetimeindex for Pandas DataFrame\n",
    "start_time = datetime(2021, 1, 1, 0, 0, 0)\n",
    "end_time = datetime(2021, 1, 14, 0, 0, 0)\n",
    "datetime_index = pd.date_range(start=start_time, end=end_time, freq=\"H\")\n",
    "\n",
    "# generate 280 samples of normal data that has normal distribution of mean 3 and standard deviation of 1\n",
    "normal_data = 3 + np.random.randn(280, 1)\n",
    "\n",
    "# generate 33 samples of anomaly data that has uniform distribution in the range of 10 to 20\n",
    "anomaly_data = np.random.uniform(low=10, high=20, size=(33, 1))\n",
    "\n",
    "# concantenate normal data and anomaly data along first axis\n",
    "data = np.r_[normal_data, anomaly_data]\n",
    "\n",
    "# construct a Pandas DataFrame using generated data\n",
    "df_train = pd.DataFrame(data=data, index=datetime_index, columns=['value'])\n",
    "\n",
    "# preparing ground truth for evaluation\n",
    "df_train['anomaly_label'] = np.where(df_train['value'] > 10, 1, 0)"
   ]
  },
  {
   "cell_type": "code",
   "execution_count": 3,
   "metadata": {},
   "outputs": [],
   "source": [
    "\"\"\"Generate test data\"\"\"\n",
    "# instantiate datetime object and datetimeindex for Pandas DataFrame\n",
    "start_time = datetime(2021, 1, 15, 0, 0, 0)\n",
    "end_time = datetime(2021, 1, 28, 0, 0, 0)\n",
    "datetime_index = pd.date_range(start=start_time, end=end_time, freq=\"H\")\n",
    "\n",
    "# generate 280 samples of normal data that has normal distribution of mean 3 and standard deviation of 1\n",
    "normal_data = 3 + np.random.randn(280, 1)\n",
    "\n",
    "# generate 33 samples of anomaly data that has uniform distribution in the range of 15 to 25\n",
    "anomaly_data = np.random.uniform(low=15, high=25, size=(33, 1))\n",
    "\n",
    "# concantenate normal data and anomaly data along first axis\n",
    "data = np.r_[normal_data, anomaly_data]\n",
    "\n",
    "# construct a Pandas DataFrame using generated data\n",
    "df_test = pd.DataFrame(data=data, index=datetime_index, columns=['value'])\n",
    "\n",
    "# preparing ground truth for evaluation\n",
    "df_test['anomaly_label'] = np.where(df_test['value'] > 20, 1, 0)"
   ]
  },
  {
   "cell_type": "markdown",
   "metadata": {},
   "source": [
    "## <a name=\"analytics\">Basic Analytics</a>\n",
    "Let's do some basic analytics and see what nugget can we find out of the training dataset! We will first compute the descriptive statistics for the data.\n",
    "\n",
    "**Note: Since we are not supposed to know any information about the test dataset, we will not perform any analytics on it.**"
   ]
  },
  {
   "cell_type": "code",
   "execution_count": 4,
   "metadata": {},
   "outputs": [
    {
     "data": {
      "text/plain": [
       "count    313.000000\n",
       "mean       4.386052\n",
       "std        3.873258\n",
       "min        0.422327\n",
       "25%        2.489656\n",
       "50%        3.246259\n",
       "75%        4.166395\n",
       "max       19.824927\n",
       "Name: value, dtype: float64"
      ]
     },
     "execution_count": 4,
     "metadata": {},
     "output_type": "execute_result"
    }
   ],
   "source": [
    "df_train.value.describe()"
   ]
  },
  {
   "cell_type": "markdown",
   "metadata": {},
   "source": [
    "We can see from the statistics above that the mean for the data is 4.39, while standard deviation is 3.87. It deviates quite significantly from what we intended it to be for the normal data. Let us also compute the number of anomaly data that are in the data (which were generated by us earlier)."
   ]
  },
  {
   "cell_type": "code",
   "execution_count": 5,
   "metadata": {},
   "outputs": [
    {
     "name": "stdout",
     "output_type": "stream",
     "text": [
      "0    280\n",
      "1     33\n",
      "Name: anomaly_label, dtype: int64\n",
      "\n",
      "\n",
      "Total number of samples is: 313\n",
      "\n",
      "\n",
      "Ratio of anomaly data to normal data is: 0.12\n"
     ]
    }
   ],
   "source": [
    "anomaly_class_counts = df_train.anomaly_label.value_counts()\n",
    "total_samples = len(df_train)\n",
    "\n",
    "print(anomaly_class_counts)\n",
    "print(f\"\\n\\nTotal number of samples is: {total_samples}\")\n",
    "print(f\"\\n\\nRatio of anomaly data to normal data is: {df_train.anomaly_label.value_counts()[1]/df_train.anomaly_label.value_counts()[0]:.2f}\")"
   ]
  },
  {
   "cell_type": "markdown",
   "metadata": {},
   "source": [
    "We can see that there are a total of 33 anomaly data out of 313 samples of data. That constitutes 12% of the entire dataset. Could it be that the presence of anomaly data skewed the distribution of the data? Let's compute the descriptive statistics of normal data only using boolean indexing on Pandas DataFrame."
   ]
  },
  {
   "cell_type": "code",
   "execution_count": 6,
   "metadata": {},
   "outputs": [
    {
     "data": {
      "text/html": [
       "<div>\n",
       "<style scoped>\n",
       "    .dataframe tbody tr th:only-of-type {\n",
       "        vertical-align: middle;\n",
       "    }\n",
       "\n",
       "    .dataframe tbody tr th {\n",
       "        vertical-align: top;\n",
       "    }\n",
       "\n",
       "    .dataframe thead th {\n",
       "        text-align: right;\n",
       "    }\n",
       "</style>\n",
       "<table border=\"1\" class=\"dataframe\">\n",
       "  <thead>\n",
       "    <tr style=\"text-align: right;\">\n",
       "      <th></th>\n",
       "      <th>value</th>\n",
       "      <th>anomaly_label</th>\n",
       "    </tr>\n",
       "  </thead>\n",
       "  <tbody>\n",
       "    <tr>\n",
       "      <th>count</th>\n",
       "      <td>280.000000</td>\n",
       "      <td>280.0</td>\n",
       "    </tr>\n",
       "    <tr>\n",
       "      <th>mean</th>\n",
       "      <td>3.141839</td>\n",
       "      <td>0.0</td>\n",
       "    </tr>\n",
       "    <tr>\n",
       "      <th>std</th>\n",
       "      <td>1.062202</td>\n",
       "      <td>0.0</td>\n",
       "    </tr>\n",
       "    <tr>\n",
       "      <th>min</th>\n",
       "      <td>0.422327</td>\n",
       "      <td>0.0</td>\n",
       "    </tr>\n",
       "    <tr>\n",
       "      <th>25%</th>\n",
       "      <td>2.434580</td>\n",
       "      <td>0.0</td>\n",
       "    </tr>\n",
       "    <tr>\n",
       "      <th>50%</th>\n",
       "      <td>3.141056</td>\n",
       "      <td>0.0</td>\n",
       "    </tr>\n",
       "    <tr>\n",
       "      <th>75%</th>\n",
       "      <td>3.744570</td>\n",
       "      <td>0.0</td>\n",
       "    </tr>\n",
       "    <tr>\n",
       "      <th>max</th>\n",
       "      <td>6.074830</td>\n",
       "      <td>0.0</td>\n",
       "    </tr>\n",
       "  </tbody>\n",
       "</table>\n",
       "</div>"
      ],
      "text/plain": [
       "            value  anomaly_label\n",
       "count  280.000000          280.0\n",
       "mean     3.141839            0.0\n",
       "std      1.062202            0.0\n",
       "min      0.422327            0.0\n",
       "25%      2.434580            0.0\n",
       "50%      3.141056            0.0\n",
       "75%      3.744570            0.0\n",
       "max      6.074830            0.0"
      ]
     },
     "execution_count": 6,
     "metadata": {},
     "output_type": "execute_result"
    }
   ],
   "source": [
    "df_train[df_train[\"anomaly_label\"]==0].describe()"
   ]
  },
  {
   "cell_type": "markdown",
   "metadata": {},
   "source": [
    "Indeed, we can see that the mean and standard deviation of normal data are 3.14 and 1.06 respectively, fairly close to our expected values of 3 and 1. Do note that there will be slight discrepancies of the actual statistics as this is a randomly generated data with a finite size. Now, we will plot a scatter plot to visualize the data distribution."
   ]
  },
  {
   "cell_type": "code",
   "execution_count": 7,
   "metadata": {},
   "outputs": [
    {
     "data": {
      "image/png": "[encoded data removed]",
      "text/plain": [
       "<Figure size 1152x504 with 1 Axes>"
      ]
     },
     "metadata": {
      "needs_background": "light"
     },
     "output_type": "display_data"
    }
   ],
   "source": [
    "fig, ax = plt.subplots()\n",
    "fig.set_size_inches(16, 7)\n",
    "plt.title(\"Scatterplot of Data against Time\")\n",
    "plt.scatter(x=df_train.index, y=df_train['value'], color='k', s=3., label='Normal Data')\n",
    "plt.scatter(x=df_train.index[df_train['anomaly_label']==1], y=df_train['value'][df_train['anomaly_label']==1], color='r', s=10, label='Anomaly Data')\n",
    "plt.legend()\n",
    "plt.show();"
   ]
  },
  {
   "cell_type": "markdown",
   "metadata": {},
   "source": [
    "## <a name=\"model-dev\">Model Development</a>\n",
    "After performing some basic analytics on the dataset at hand, we will start to build a model to detect anomalies in the dataset. However, we need to do some pre-processing first before building the model. We will first separete out the feature first, and then reshape it into a 2D array."
   ]
  },
  {
   "cell_type": "code",
   "execution_count": 8,
   "metadata": {},
   "outputs": [],
   "source": [
    "# extract the features and reshape to 2D array\n",
    "x_train = df_train.value.to_numpy().reshape(-1, 1)\n",
    "x_test = df_test.value.to_numpy().reshape(-1, 1)\n",
    "\n",
    "# filtering normal data only for model development and reshape to 2D array\n",
    "x_train_normal = df_train.value[df_train.anomaly_label == 0].to_numpy().reshape(-1, 1)\n",
    "\n",
    "# split data for validation\n",
    "x_train_normal, x_valid_normal = train_test_split(x_train_normal, test_size=0.2, random_state=38, shuffle=False)"
   ]
  },
  {
   "cell_type": "markdown",
   "metadata": {},
   "source": [
    "It is vital to prepare our data into a form that is ingestible by our model, and for convolutional model it will usually be transformed into the shape of ``(N, C, L)``, where N denotes batch size, C denotes number of channels, and L denotes length of signal sequence. The transformation process is done alongside the transformation of NumPy ``ndarray`` into Torch ``FloatTensor``. A customized class inheriting from PyTorch's ``Dataset`` class is written to return a ``Dataset`` instance."
   ]
  },
  {
   "cell_type": "code",
   "execution_count": 9,
   "metadata": {},
   "outputs": [
    {
     "name": "stdout",
     "output_type": "stream",
     "text": [
      "The first sample in the train_tensor instance is: \n",
      "tensor([[4.0087, 2.6769, 3.1277, 3.2798, 4.2887, 4.6253, 2.5308, 1.7506, 2.7396,\n",
      "         2.8524]])\n",
      "\n",
      "\n",
      "The shape of one sample is: torch.Size([1, 10])\n"
     ]
    }
   ],
   "source": [
    "class PytorchDataset(Dataset):\n",
    "    \"\"\"\n",
    "    Customized class inheriting from Dataset class of PyTorch module.\n",
    "    Initialize argument to torch.FloatTensor and unrolling it to shape (N, C, L) where N = batch size, C = number of channels and L = length of signal sequence.\n",
    "    Return length of class and particular sample when indexing.\n",
    "    \"\"\"\n",
    "    def __init__(self, x: np.ndarray, size: int, step: int = 1):\n",
    "        self.sequences = torch.FloatTensor(x).unfold(0, size, step)\n",
    "\n",
    "    \n",
    "    def __len__(self):\n",
    "        return self.sequences.size(0)\n",
    "    \n",
    "    def __getitem__(self, index):\n",
    "        x = self.sequences[index]\n",
    "        return x\n",
    "    \n",
    "# instantiate a tensor using the custom class\n",
    "train_tensor = PytorchDataset(x_train_normal, 10)\n",
    "valid_tensor = PytorchDataset(x_valid_normal, 10)\n",
    "test_tensor = PytorchDataset(x_test, 10)\n",
    "\n",
    "\n",
    "print(f\"The first sample in the train_tensor instance is: \\n{train_tensor[0]}\")\n",
    "print(f\"\\n\\nThe shape of one sample is: {train_tensor[0].shape}\")"
   ]
  },
  {
   "cell_type": "markdown",
   "metadata": {},
   "source": [
    "We see that we have successfully transformed the ``ndarray`` into ``FloatTensor`` with one channel and sequence of length 10. Let's continue and convert it to a ``DataLoader`` then for batch training purpose."
   ]
  },
  {
   "cell_type": "code",
   "execution_count": 10,
   "metadata": {},
   "outputs": [],
   "source": [
    "# feeding Dataset into DataLoader for batching during model training\n",
    "batch_size = 32\n",
    "train_loader = DataLoader(dataset=train_tensor,\n",
    "                            batch_size=batch_size,\n",
    "                            shuffle=False)\n",
    "valid_loader = DataLoader(dataset=valid_tensor,\n",
    "                            batch_size=batch_size,\n",
    "                            shuffle=False)\n",
    "\n",
    "dataloaders = {'train': train_loader, 'valid': valid_loader}"
   ]
  },
  {
   "cell_type": "code",
   "execution_count": 11,
   "metadata": {},
   "outputs": [
    {
     "data": {
      "text/plain": [
       "32"
      ]
     },
     "execution_count": 11,
     "metadata": {},
     "output_type": "execute_result"
    }
   ],
   "source": [
    "# sanity check for one batch of data\n",
    "len(next(iter(train_loader)))"
   ]
  },
  {
   "cell_type": "markdown",
   "metadata": {},
   "source": [
    "The ``train_loader`` does return 32 samples of data when one batch of data is loaded. Now, we are ready to build our deep learning model! We will be using a convolutional autoencoder for the purpose of anomaly detection. Model architecture of a convolutional autoencoder can be defined as follow."
   ]
  },
  {
   "cell_type": "code",
   "execution_count": 12,
   "metadata": {},
   "outputs": [
    {
     "name": "stdout",
     "output_type": "stream",
     "text": [
      "ConvAutoencoder(\n",
      "  (conv1d1): Conv1d(1, 32, kernel_size=(5,), stride=(2,), padding=(3,))\n",
      "  (dropout1): Dropout(p=0.2, inplace=True)\n",
      "  (conv1d2): Conv1d(32, 16, kernel_size=(5,), stride=(2,), padding=(3,))\n",
      "  (convtranspose1d1): ConvTranspose1d(16, 16, kernel_size=(5,), stride=(2,), padding=(3,))\n",
      "  (dropout2): Dropout(p=0.2, inplace=True)\n",
      "  (convtranspose1d2): ConvTranspose1d(16, 32, kernel_size=(5,), stride=(2,), padding=(3,))\n",
      "  (convtranspose1d3): ConvTranspose1d(32, 1, kernel_size=(4,), stride=(2,), padding=(3,))\n",
      ")\n"
     ]
    }
   ],
   "source": [
    "# define model architecture\n",
    "class ConvAutoencoder(nn.Module):\n",
    "    def __init__(self, in_channels: int, out_channels: int):\n",
    "        super(ConvAutoencoder, self).__init__()\n",
    "        ## encoder layers ##\n",
    "        self.conv1d1 = nn.Conv1d(in_channels, 32, 5, stride=2, padding=3)\n",
    "        self.dropout1 = nn.Dropout(p=0.2, inplace=True)\n",
    "        self.conv1d2 = nn.Conv1d(32, 16, 5, stride=2, padding=3)\n",
    "        ## bottleneck ##\n",
    "        self.convtranspose1d1 = nn.ConvTranspose1d(16, 16, 5, stride=2, padding=3)\n",
    "        self.dropout2 = nn.Dropout(p=0.2, inplace=True)\n",
    "        ## decoder layer ##\n",
    "        self.convtranspose1d2 = nn.ConvTranspose1d(16, 32, 5, stride=2, padding=3)\n",
    "        self.convtranspose1d3 = nn.ConvTranspose1d(32, out_channels, 4, stride=2, padding=3)\n",
    "        \n",
    "    def forward(self, x):\n",
    "        x = F.relu(self.conv1d1(x))\n",
    "        x = F.relu(self.conv1d2(x))\n",
    "        x = F.relu(self.convtranspose1d1(x))\n",
    "        x = F.relu(self.convtranspose1d2(x))\n",
    "        x = self.convtranspose1d3(x)\n",
    "                \n",
    "        return x\n",
    "\n",
    "# instantiate the model\n",
    "model = ConvAutoencoder(in_channels=1, out_channels=1)\n",
    "print(model)"
   ]
  },
  {
   "cell_type": "markdown",
   "metadata": {},
   "source": [
    "After configuring the model, we need to configure certain hyperparameters that are required for model training."
   ]
  },
  {
   "cell_type": "code",
   "execution_count": 13,
   "metadata": {},
   "outputs": [],
   "source": [
    "epochs = 50\n",
    "learning_rate = 0.001\n",
    "criterion = nn.MSELoss()\n",
    "optimizer = optim.Adam(model.parameters(), lr=learning_rate)"
   ]
  },
  {
   "cell_type": "markdown",
   "metadata": {},
   "source": [
    "Then, we will write a training loop to implement model training and validation at each epoch."
   ]
  },
  {
   "cell_type": "code",
   "execution_count": 14,
   "metadata": {},
   "outputs": [],
   "source": [
    "loss_score = {'train': [], 'valid': []}\n",
    "for epoch in range(epochs):\n",
    "    # uncomment to view number of epoch during training/validation\n",
    "#     print(f'Epoch {epoch+1}/{epochs}')\n",
    "    for phase in ['train', 'valid']:\n",
    "        if phase == 'train':\n",
    "            model.train()\n",
    "        else:\n",
    "            model.eval()\n",
    "\n",
    "        loss_cumsum = 0.0\n",
    "        total_iterations = 0.0\n",
    "\n",
    "        # Loop over batches of data\n",
    "        for idx, x in enumerate(dataloaders[phase]):\n",
    "\n",
    "            with torch.set_grad_enabled(phase == 'train'):\n",
    "                out = model(x)\n",
    "                loss = criterion(out, x)\n",
    "\n",
    "                # if the current phase is training phase, then do backward propagation\n",
    "                if phase == 'train':\n",
    "                    optimizer.zero_grad()\n",
    "                    loss.backward()\n",
    "                    optimizer.step()\n",
    "\n",
    "            loss_cumsum += loss.item() * out.size(0)\n",
    "            total_iterations += out.size(0)\n",
    "\n",
    "        epoch_loss = loss_cumsum / total_iterations\n",
    "        # uncomment to view loss score by epoch\n",
    "#         print(f'{phase.upper()} Loss: {epoch_loss}')\n",
    "        loss_score[phase].append(epoch_loss)"
   ]
  },
  {
   "cell_type": "markdown",
   "metadata": {},
   "source": [
    "Loss scores can then be plotted to check whether the model has converged."
   ]
  },
  {
   "cell_type": "code",
   "execution_count": 15,
   "metadata": {},
   "outputs": [
    {
     "data": {
      "image/png": "[encoded data removed]",
      "text/plain": [
       "<Figure size 1008x504 with 1 Axes>"
      ]
     },
     "metadata": {
      "needs_background": "light"
     },
     "output_type": "display_data"
    }
   ],
   "source": [
    "fig, ax = plt.subplots()\n",
    "fig.set_size_inches(14, 7)\n",
    "ax.set_title(\"Loss Score against Epoch\")\n",
    "ax.grid(b=True)\n",
    "ax.set_xlabel(\"Epoch Number\")\n",
    "ax.set_ylabel(\"Loss Score\")\n",
    "ax.plot(loss_score['train'], color='goldenrod', label='Training Loss')\n",
    "ax.plot(loss_score['valid'], color='green', label='Validation Loss')\n",
    "ax.legend();"
   ]
  },
  {
   "cell_type": "markdown",
   "metadata": {},
   "source": [
    "## <a name=\"evaluation\">Evaluation</a>\n",
    "Our model is ready to be evaluated! We will be evaluating our model against all three datasets on hand, which are training set, validation set and test set. Since this is a semi-supervised task where we only train our model using normal data, we have to set a threshold to determine whether the data is considered as normal or anomalous data. Recall that the working principle of an autoencoder is to reconstruct the data from input. So if the output of a trained autoencoder differs significantly from the input, we consider the input data as an anomaly as the autoencoder model was not able to recreate it in a similar fashion. The threshold is the important hyperparameter to determine whether the reconstruction loss is high enough for us to consider the input data as an anomaly. To summarize the usage of threshold:\n",
    "\n",
    "* if reconstruction loss > threshold: input data is anomaly\n",
    "* else if reconstruction loss < threshold: input data is normal\n",
    "\n",
    "We are now going to demonstrate on how we can determine the threshold using MSE."
   ]
  },
  {
   "cell_type": "code",
   "execution_count": 16,
   "metadata": {},
   "outputs": [
    {
     "data": {
      "image/png": "[encoded data removed]",
      "text/plain": [
       "<Figure size 432x288 with 1 Axes>"
      ]
     },
     "metadata": {
      "needs_background": "light"
     },
     "output_type": "display_data"
    },
    {
     "name": "stdout",
     "output_type": "stream",
     "text": [
      "The threshold selected for train reconstruction loss is: 0.18416845798492432\n"
     ]
    }
   ],
   "source": [
    "model.eval()\n",
    "train_reconstruction_loss = []\n",
    "for idx, x in enumerate(DataLoader(train_tensor, batch_size=1, shuffle=False)):\n",
    "    with torch.no_grad():\n",
    "        output = model(x)\n",
    "        reconstruction_loss = criterion(x, output)\n",
    "        train_reconstruction_loss.append(reconstruction_loss.item())\n",
    "\n",
    "\n",
    "plt.hist(train_reconstruction_loss, bins=100)\n",
    "plt.xlabel(\"Train Reconstruction Loss (MSE)\")\n",
    "plt.ylabel(\"No. of samples\")\n",
    "plt.show()\n",
    "\n",
    "threshold = np.max(train_reconstruction_loss)\n",
    "print(f\"The threshold selected for train reconstruction loss is: {threshold}\")"
   ]
  },
  {
   "cell_type": "markdown",
   "metadata": {},
   "source": [
    "We can see that most of the training sample's reconstruction loss is grouped around 0.000 to 0.075. We will choose the largest reconstruction loss and set it as the threshold. It is then just a simple of filtering any input data that when reconstructed by the model, has reconstruction loss more than the threshold. We will be using the entire training dataset (which includes anomalous data) to inspect the performance of our model."
   ]
  },
  {
   "cell_type": "code",
   "execution_count": 17,
   "metadata": {},
   "outputs": [
    {
     "name": "stdout",
     "output_type": "stream",
     "text": [
      "Total of anomaly sequence: 33\n",
      "\n",
      "\n",
      "Indices of anomaly sequence: (array([271, 272, 273, 274, 275, 276, 277, 278, 279, 280, 281, 282, 283,\n",
      "       284, 285, 286, 287, 288, 289, 290, 291, 292, 293, 294, 295, 296,\n",
      "       297, 298, 299, 300, 301, 302, 303], dtype=int64),)\n"
     ]
    }
   ],
   "source": [
    "model.eval()\n",
    "train_reconstruction_loss = []\n",
    "for idx, x in enumerate(DataLoader(PytorchDataset(x_train, 10), batch_size=1, shuffle=False)):\n",
    "    with torch.no_grad():\n",
    "        output = model(x)\n",
    "        reconstruction_loss = criterion(x, output)\n",
    "        train_reconstruction_loss.append(reconstruction_loss.item())\n",
    "\n",
    "# return boolean array indicating whether the sequence is an anomaly (True) or not (False)\n",
    "anomalies = train_reconstruction_loss > threshold\n",
    "print(f\"Total of anomaly sequence: {np.sum(anomalies)}\")\n",
    "print(f\"\\n\\nIndices of anomaly sequence: {np.where(anomalies)}\")"
   ]
  },
  {
   "cell_type": "markdown",
   "metadata": {},
   "source": [
    "We see that using the threshold set, we can find certain data that result in reconstruction loss larger than the threshold. The code above actually return a list of indices of such data. \n",
    "\n",
    "Since we know the indices of anomalous data, we can also identify the corresponding timestamps from the DataFrame. Below is a simple description of how this is achieved.\n",
    "\n",
    "In our case, we are using a sequence length of 10 for each sample of data that is fed into our model. It might help you if you imagine it as a window, whereby for each window there are 10 consecutive values that are fed into the model for it to reconstruct a new window (or sequence) of 10 consecutive values. We have actually prepared our data in the following manner (values shown is the index of data in the DataFrame, instead of the values): \n",
    "\n",
    "* 0, 1, 2, 3, 4, 5, 6, 7, 8, 9, 10\n",
    "* 1, 2, 3, 4, 5, 6, 7, 8, 9, 10, 11\n",
    "* 2, 3, 4, 5, 6, 7, 8, 9, 10, 11, 12\n",
    "* 3, 4, 5, 6, 7, 8, 9, 10, 11, 12, 13\n",
    "* ...\n",
    "\n",
    "Other than the initial and the final (window_size - 1) data values, all other data will appear in more than one of the sequences of data. Since we are trying to reconstruct a sequence of data, even if a sequence is identified as containing anomalous data, how can we know whether which data in the sequence is an anomaly? \n",
    "\n",
    "A simple way to solve this is to check for which of these data occurred in sequences that are all marked as anomalous. In our example above, if the first 3 sequences are marked as anomaly, we will mark all the data that corresponds to the indices which are present in all the three anomalous sequences above (which are ``1, 2, 3, 4, 5, 6, 7, 8, 9, 10``) as anomaly while data that corresponds to the indices that only present in certain sequences as normal data (which are ``0, 12, 13``).\n",
    "\n",
    "We are going to implement this logic in the following code."
   ]
  },
  {
   "cell_type": "code",
   "execution_count": 18,
   "metadata": {},
   "outputs": [
    {
     "name": "stdout",
     "output_type": "stream",
     "text": [
      "\n",
      "\n",
      "Number of detected anomalies are: 24\n"
     ]
    },
    {
     "data": {
      "image/png": "[encoded data removed]",
      "text/plain": [
       "<Figure size 1152x504 with 1 Axes>"
      ]
     },
     "metadata": {
      "needs_background": "light"
     },
     "output_type": "display_data"
    }
   ],
   "source": [
    "# data i is an anomaly if samples [(i - timesteps + 1) to (i)] are anomalies\n",
    "anomalous_data_indices = []\n",
    "\n",
    "# window here corresponds to the sequence length of data feed into the model, which is 10 in this case\n",
    "sequence_length = 10\n",
    "\n",
    "# this code specifies that the first value to be counted start from 9, which is the 10th value so that the body of for-loop can loop over the previous number without negative indexing\n",
    "# this code also specifies the condition to stop at len(data) - window + 1, which is the last available data which we can input into the model as we need at least sequence length of 10 for inference\n",
    "for data_idx in range(sequence_length - 1, len(x_train) - sequence_length + 1):\n",
    "    # return the index of data if the data is considered as an anomaly in multiple inferences\n",
    "    if np.all(anomalies[data_idx - sequence_length + 1 : data_idx]):\n",
    "        anomalous_data_indices.append(data_idx)\n",
    "        \n",
    "# overlaying anomalies on original test data plot\n",
    "df_detected_anomalies = df_train.iloc[anomalous_data_indices]\n",
    "fig, ax = plt.subplots()\n",
    "fig.set_size_inches(16, 7)\n",
    "# ax.scatter(x=df_train.index, y=df_train.value, c='b', s=3., label='normal data')\n",
    "# ax.scatter(x=df_detected_anomalies.index, y=df_detected_anomalies.value, c='r', s=16., label='detected anomaly')\n",
    "ax.plot(df_train.value, c='b', label='normal data')\n",
    "ax.plot(df_detected_anomalies.value, c='r', label='detected anomaly')\n",
    "ax.set_xlabel(\"Time\")\n",
    "ax.set_ylabel(\"Values\")\n",
    "ax.set_title(\"Values against Time\")\n",
    "ax.legend()\n",
    "print(f\"\\n\\nNumber of detected anomalies are: {len(df_detected_anomalies)}\")"
   ]
  },
  {
   "cell_type": "markdown",
   "metadata": {},
   "source": [
    "Based on the visualization, we can see that our model can accurately detect anomalies in our training data. Note that there are a number of anomalies at the end which are not detected as anomaly, this is simply because they are not fed into the data as there are not enough data to be grouped into a sample with sequence length of 10 into the model. Now, by using the same logic, we will test our model against the prepared test dataset."
   ]
  },
  {
   "cell_type": "code",
   "execution_count": 19,
   "metadata": {},
   "outputs": [
    {
     "name": "stdout",
     "output_type": "stream",
     "text": [
      "The threshold selected for test reconstruction loss is: 0.18416845798492432\n",
      "\n",
      "\n",
      "Total of anomaly sequence: 41\n",
      "\n",
      "\n",
      "Indices of anomaly sequence: (array([ 28,  81,  85, 200, 203, 204, 205, 260, 271, 272, 273, 274, 275,\n",
      "       276, 277, 278, 279, 280, 281, 282, 283, 284, 285, 286, 287, 288,\n",
      "       289, 290, 291, 292, 293, 294, 295, 296, 297, 298, 299, 300, 301,\n",
      "       302, 303], dtype=int64),)\n",
      "\n",
      "\n",
      "Number of detected anomalies are: 24\n"
     ]
    },
    {
     "data": {
      "image/png": "[encoded data removed]",
      "text/plain": [
       "<Figure size 1152x504 with 1 Axes>"
      ]
     },
     "metadata": {
      "needs_background": "light"
     },
     "output_type": "display_data"
    }
   ],
   "source": [
    "model.eval()\n",
    "test_reconstruction_loss = []\n",
    "for idx, x in enumerate(DataLoader(test_tensor, batch_size=1, shuffle=False)):\n",
    "    with torch.no_grad():\n",
    "        output = model(x)\n",
    "        reconstruction_loss = criterion(x, output)\n",
    "        test_reconstruction_loss.append(reconstruction_loss.item())\n",
    "\n",
    "print(f\"The threshold selected for test reconstruction loss is: {threshold}\")        \n",
    "\n",
    "test_anomalies = test_reconstruction_loss > threshold\n",
    "print(f\"\\n\\nTotal of anomaly sequence: {np.sum(test_anomalies)}\")\n",
    "print(f\"\\n\\nIndices of anomaly sequence: {np.where(test_anomalies)}\")\n",
    "\n",
    "test_anomalous_data_indices = []\n",
    "sequence_length = 10\n",
    "\n",
    "for data_idx in range(sequence_length - 1, len(x_test) - sequence_length + 1):\n",
    "    if np.all(test_anomalies[data_idx - sequence_length + 1 : data_idx]):\n",
    "        test_anomalous_data_indices.append(data_idx)\n",
    "        \n",
    "df_test_detected_anomalies = df_test.iloc[test_anomalous_data_indices]\n",
    "fig, ax = plt.subplots()\n",
    "fig.set_size_inches(16, 7)\n",
    "ax.scatter(x=df_test.index, y=df_test.value, c='b', s=3., label='normal data')\n",
    "ax.scatter(x=df_test_detected_anomalies.index, y=df_test_detected_anomalies.value, c='r', s=16., label='detected anomaly')\n",
    "# ax.plot(df_test.value, c='b', label='normal data')\n",
    "# ax.plot(df_test_detected_anomalies.value, c='r', label='detected anomaly')\n",
    "ax.set_xlabel(\"Time\")\n",
    "ax.set_ylabel(\"Values\")\n",
    "ax.set_title(\"Values against Time\")\n",
    "ax.legend()\n",
    "print(f\"\\n\\nNumber of detected anomalies are: {len(df_test_detected_anomalies)}\")"
   ]
  },
  {
   "cell_type": "markdown",
   "metadata": {},
   "source": [
    "From the visualization, we can see that our model performs fairly well for when tested. "
   ]
  },
  {
   "cell_type": "markdown",
   "metadata": {},
   "source": [
    "## <a name=\"exercise\">Exercise</a>\n",
    "\n",
    "This exercise section is attached for you to practice and hone your skills. Try your best effort to complete it without referring to the solution."
   ]
  },
  {
   "cell_type": "markdown",
   "metadata": {},
   "source": [
    "### Notebook Configurations\n",
    "**INSTRUCTIONS**: You can import any module that you wish to use for this exercise. However, if you run the cells from the start of this notebook, most probably all the modules that you need has already been imported at this point."
   ]
  },
  {
   "cell_type": "code",
   "execution_count": 20,
   "metadata": {},
   "outputs": [],
   "source": [
    "# import modules\n",
    "### BEGIN SOLUTION\n",
    "\n",
    "### END SOLUTION"
   ]
  },
  {
   "cell_type": "markdown",
   "metadata": {},
   "source": [
    "### Dataset\n",
    "**INSTRUCTIONS:** We will be using an artificial data, which is provided in the *Numenta Anomaly Benchmark* (NAB) repo. Load the data into a DataFrame using URL provided. Note that the training data only contains normal data as this is a semi-supervised task. The test data consists of both normal and anomalous data."
   ]
  },
  {
   "cell_type": "code",
   "execution_count": 21,
   "metadata": {},
   "outputs": [],
   "source": [
    "# this is one way of loading data on the fly, just by specifying the URL\n",
    "master_url_root = \"https://raw.githubusercontent.com/numenta/NAB/master/data/\"\n",
    "train_data_url_suffix = \"artificialNoAnomaly/art_daily_small_noise.csv\"\n",
    "train_data_url = master_url_root + train_data_url_suffix\n",
    "test_data_url_suffix = \"artificialWithAnomaly/art_daily_jumpsup.csv\"\n",
    "test_data_url = master_url_root + test_data_url_suffix\n",
    "\n",
    "# load data using URL specified URL, passing 'timestamp' columns as the index column\n",
    "### BEGIN SOLUTION\n",
    "\n",
    "\n",
    "### END SOLUTION"
   ]
  },
  {
   "cell_type": "code",
   "execution_count": 22,
   "metadata": {},
   "outputs": [],
   "source": [
    "# inspect dataset by printing first 10 rows\n",
    "### BEGIN SOLUTION\n",
    "\n",
    "### END SOLUTION"
   ]
  },
  {
   "cell_type": "markdown",
   "metadata": {},
   "source": [
    "### Basic Analytics\n",
    "**INSTRUCTIONS**: Perform some basic analytics on train dataset by following the comment."
   ]
  },
  {
   "cell_type": "code",
   "execution_count": 23,
   "metadata": {},
   "outputs": [],
   "source": [
    "# compute descriptive statistics for train DataFrame\n",
    "### BEGIN SOLUTION\n",
    "\n",
    "### END SOLUTION"
   ]
  },
  {
   "cell_type": "code",
   "execution_count": 24,
   "metadata": {},
   "outputs": [],
   "source": [
    "# compute the number of rows and columns of train data\n",
    "### BEGIN SOLUTION\n",
    "\n",
    "\n",
    "\n",
    "### END SOLUTION"
   ]
  },
  {
   "cell_type": "code",
   "execution_count": 25,
   "metadata": {},
   "outputs": [],
   "source": [
    "# plot a line plot for train DataFrame\n",
    "### BEGIN SOLUTION\n",
    "\n",
    "\n",
    "\n",
    "### END SOLUTION"
   ]
  },
  {
   "cell_type": "code",
   "execution_count": 26,
   "metadata": {},
   "outputs": [],
   "source": [
    "# plot scatter plot for test data\n",
    "### BEGIN SOLUTION\n",
    "\n",
    "\n",
    "\n",
    "\n",
    "### END SOLUTION"
   ]
  },
  {
   "cell_type": "markdown",
   "metadata": {},
   "source": [
    "### Model Development\n",
    "**INSTRUCTIONS**: Follow the provided guidelines to build a convolutional autoencoder model."
   ]
  },
  {
   "cell_type": "code",
   "execution_count": 27,
   "metadata": {},
   "outputs": [],
   "source": [
    "# perform Min-max normalization\n",
    "### BEGIN SOLUTION\n",
    "\n",
    "\n",
    "\n",
    "### END SOLUTION"
   ]
  },
  {
   "cell_type": "code",
   "execution_count": 28,
   "metadata": {},
   "outputs": [
    {
     "name": "stdout",
     "output_type": "stream",
     "text": [
      "\n",
      "\n",
      "The shape of one sample/sequence is: torch.Size([1, 10])\n"
     ]
    }
   ],
   "source": [
    "# define a custom class inheriting from PyTorch Dataset class\n",
    "# the resultant class should return the length of instance when called and return a sample/sequence with sequence length 288\n",
    "### BEGIN SOLUTION\n",
    "\n",
    "\n",
    "\n",
    "\n",
    "\n",
    "\n",
    "\n",
    "\n",
    "\n",
    "\n",
    "\n",
    "### END SOLUTION\n",
    "\n",
    "# print(f\"The first sample/sequence in the train_tensor instance is: \\n{train_tensor[0]}\")\n",
    "print(f\"\\n\\nThe shape of one sample/sequence is: {train_tensor[0].shape}\")"
   ]
  },
  {
   "cell_type": "code",
   "execution_count": 29,
   "metadata": {},
   "outputs": [],
   "source": [
    "# use DataLoader built-in for Pytorch to perform batching\n",
    "### BEGIN SOLUTION\n",
    "\n",
    "\n",
    "\n",
    "### END SOLUTION"
   ]
  },
  {
   "cell_type": "code",
   "execution_count": 30,
   "metadata": {},
   "outputs": [
    {
     "name": "stdout",
     "output_type": "stream",
     "text": [
      "ConvAutoencoder(\n",
      "  (conv1d1): Conv1d(1, 32, kernel_size=(5,), stride=(2,), padding=(3,))\n",
      "  (dropout1): Dropout(p=0.2, inplace=True)\n",
      "  (conv1d2): Conv1d(32, 16, kernel_size=(5,), stride=(2,), padding=(3,))\n",
      "  (convtranspose1d1): ConvTranspose1d(16, 16, kernel_size=(5,), stride=(2,), padding=(3,))\n",
      "  (dropout2): Dropout(p=0.2, inplace=True)\n",
      "  (convtranspose1d2): ConvTranspose1d(16, 32, kernel_size=(5,), stride=(2,), padding=(3,))\n",
      "  (convtranspose1d3): ConvTranspose1d(32, 1, kernel_size=(4,), stride=(2,), padding=(3,))\n",
      ")\n"
     ]
    }
   ],
   "source": [
    "# define architecture for model\n",
    "### BEGIN SOLUTION\n",
    "\n",
    "\n",
    "\n",
    "\n",
    "\n",
    "\n",
    "\n",
    "\n",
    "\n",
    "\n",
    "\n",
    "\n",
    "\n",
    "\n",
    "\n",
    "### END SOLUTION\n",
    "print(model)"
   ]
  },
  {
   "cell_type": "code",
   "execution_count": 31,
   "metadata": {},
   "outputs": [],
   "source": [
    "# configure hyperparameters for model training\n",
    "### BEGIN SOLUTION\n",
    "\n",
    "\n",
    "\n",
    "\n",
    "### END SOLUTION"
   ]
  },
  {
   "cell_type": "code",
   "execution_count": 32,
   "metadata": {},
   "outputs": [],
   "source": [
    "# write training function to train on train_loader and validate on test_loader\n",
    "### BEGIN SOLUTION\n",
    "\n",
    "\n",
    "\n",
    "\n",
    "\n",
    "\n",
    "\n",
    "\n",
    "\n",
    "\n",
    "\n",
    "\n",
    "\n",
    "\n",
    "\n",
    "\n",
    "\n",
    "\n",
    "\n",
    "\n",
    "### END SOLUTION"
   ]
  },
  {
   "cell_type": "code",
   "execution_count": 33,
   "metadata": {},
   "outputs": [],
   "source": [
    "# plot loss score\n",
    "### BEGIN SOLUTION\n",
    "\n",
    "\n",
    "\n",
    "\n",
    "\n",
    "\n",
    "\n",
    "\n",
    "\n",
    "\n",
    "\n",
    "\n",
    "\n",
    "### END SOLUTION"
   ]
  },
  {
   "cell_type": "markdown",
   "metadata": {},
   "source": [
    "### Evaluation\n",
    "**INSTRUCTIONS**: Follow the guidelines given to evaluate the ability of the model to perform anomaly detection."
   ]
  },
  {
   "cell_type": "code",
   "execution_count": 34,
   "metadata": {},
   "outputs": [],
   "source": [
    "# finding suitable threshold based on model training loss\n",
    "### BEGIN SOLUTION\n",
    "\n",
    "\n",
    "\n",
    "\n",
    "\n",
    "\n",
    "\n",
    "\n",
    "\n",
    "\n",
    "\n",
    "\n",
    "### END SOLUTION"
   ]
  },
  {
   "cell_type": "code",
   "execution_count": 35,
   "metadata": {},
   "outputs": [
    {
     "name": "stdout",
     "output_type": "stream",
     "text": [
      "The threshold selected for test reconstruction loss is: 0.18416845798492432\n",
      "\n",
      "\n",
      "Total of anomaly sequence: 41\n",
      "\n",
      "\n",
      "Indices of anomaly sequence: (array([ 28,  81,  85, 200, 203, 204, 205, 260, 271, 272, 273, 274, 275,\n",
      "       276, 277, 278, 279, 280, 281, 282, 283, 284, 285, 286, 287, 288,\n",
      "       289, 290, 291, 292, 293, 294, 295, 296, 297, 298, 299, 300, 301,\n",
      "       302, 303], dtype=int64),)\n",
      "\n",
      "\n",
      "Number of detected anomalies are: 24\n"
     ]
    }
   ],
   "source": [
    "# generate a list of reconstruction loss on test data\n",
    "### BEGIN SOLUTION\n",
    "\n",
    "\n",
    "\n",
    "\n",
    "\n",
    "\n",
    "\n",
    "### END SOLUTION\n",
    "\n",
    "# using threshold to return an array of boolean value indicating whether the sample is an anomaly\n",
    "### BEGIN SOLUTION\n",
    "\n",
    "### END SOLUTION\n",
    "\n",
    "# return a list of indices for data where all the sequences that it appeared in are marked as anomalous by the model\n",
    "### BEGIN SOLUTION\n",
    "\n",
    "\n",
    "\n",
    "\n",
    "\n",
    "\n",
    "\n",
    "### END SOLUTION\n",
    "        \n",
    "# plot a line plot indicating normal and anomalous data using legend\n",
    "### BEGIN SOLUTION\n",
    "\n",
    "\n",
    "\n",
    "\n",
    "\n",
    "\n",
    "\n",
    "\n",
    "### END SOLUTION\n",
    "\n",
    "print(f\"The threshold selected for test reconstruction loss is: {threshold}\")        \n",
    "print(f\"\\n\\nTotal of anomaly sequence: {np.sum(test_anomalies)}\")\n",
    "print(f\"\\n\\nIndices of anomaly sequence: {np.where(test_anomalies)}\")\n",
    "print(f\"\\n\\nNumber of detected anomalies are: {len(df_test_detected_anomalies)}\")"
   ]
  },
  {
   "cell_type": "markdown",
   "metadata": {},
   "source": [
    "## <a name=\"reference\">Reference</a>\n",
    "1. [Timeseries anomaly detection using an Autoencoder](https://keras.io/examples/timeseries/timeseries_anomaly_detection/)\n",
    "2. [NAB Data Corpus](https://github.com/numenta/NAB/tree/master/data)"
   ]
  },
  {
   "cell_type": "markdown",
   "metadata": {},
   "source": [
    "## <a name=\"bonus\">Bonus</a>\n",
    "One way to determine what kernel size, stride and padding to be set for each convolutional layer is to simply print the output layer by layer, in order to know what is the shape of the resulting output."
   ]
  },
  {
   "cell_type": "code",
   "execution_count": 36,
   "metadata": {},
   "outputs": [
    {
     "name": "stdout",
     "output_type": "stream",
     "text": [
      "torch.Size([32, 32, 9])\n",
      "torch.Size([32, 16, 9])\n",
      "torch.Size([32, 16, 5])\n",
      "torch.Size([32, 32, 7])\n",
      "torch.Size([32, 1, 12])\n"
     ]
    }
   ],
   "source": [
    "# the keeping of shape is important for autoencoder, so let us try to print out shape for each layer\n",
    "conv1d1 = nn.Conv1d(1, 32, 3, stride=2, padding=5)\n",
    "dropout1 = nn.Dropout(p=0.2)\n",
    "conv1d2 = nn.Conv1d(32, 16, 3, stride=2, padding=5)\n",
    "convtranspose1d1 = nn.ConvTranspose1d(16, 16, 3, stride=1, padding=3)\n",
    "dropout2 = nn.Dropout(p=0.2)\n",
    "convtranspose1d2 = nn.ConvTranspose1d(16, 32, 5, stride=2, padding=3)\n",
    "convtranspose1d3 = nn.ConvTranspose1d(32, 1, 6, stride=2, padding=3)\n",
    "\n",
    "out = conv1d1(next(iter(train_loader)))\n",
    "print(out.shape)\n",
    "out = conv1d2(out)\n",
    "print(out.shape)\n",
    "out = convtranspose1d1(out)\n",
    "print(out.shape)\n",
    "out = convtranspose1d2(out)\n",
    "print(out.shape)\n",
    "out = convtranspose1d3(out)\n",
    "print(out.shape)"
   ]
  }
 ],
 "metadata": {
  "kernelspec": {
   "display_name": "Python 3",
   "language": "python",
   "name": "python3"
  },
  "language_info": {
   "codemirror_mode": {
    "name": "ipython",
    "version": 3
   },
   "file_extension": ".py",
   "mimetype": "text/x-python",
   "name": "python",
   "nbconvert_exporter": "python",
   "pygments_lexer": "ipython3",
   "version": "3.9.1"
  }
 },
 "nbformat": 4,
 "nbformat_minor": 4
}
