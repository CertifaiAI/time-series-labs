{
 "cells": [
  {
   "cell_type": "markdown",
   "metadata": {
    "deletable": false,
    "editable": false
   },
   "source": [
    "![logo](../../picture/license_header_logo.png)\n",
    "> **Copyright &copy; 2020 - 2021 CertifAI Sdn. Bhd.**<br>\n",
    " <br>\n",
    "This program and the accompanying materials are made available under the\n",
    "terms of the [Apache License, Version 2.0](https://www.apache.org/licenses/LICENSE-2.0). <br>\n",
    "Unless required by applicable law or agreed to in writing, software\n",
    "distributed under the License is distributed on an \"AS IS\" BASIS, WITHOUT\n",
    "WARRANTIES OR CONDITIONS OF ANY KIND, either express or implied. See the\n",
    "License for the specific language governing permissions and limitations\n",
    "under the License. <br>\n",
    "<br>**SPDX-License-Identifier: Apache-2.0**"
   ]
  },
  {
   "cell_type": "markdown",
   "metadata": {},
   "source": [
    "# 05 - Unsupervised Anomaly Detection Using LSTM\n",
    "\n",
    "Authored by: [Kian Yang Lee](https://github.com/KianYang-Lee) - kianyang.lee@certifai.ai"
   ]
  },
  {
   "cell_type": "markdown",
   "metadata": {},
   "source": [
    "## Notebook Description\n",
    "\n",
    "This tutorial will showcase the application of long short-term memory (LSTM) network in anomaly detection. The deep learning framework to be used is `PyTorch`. An exercise section is attached for you to practice and hone your skills. Do make good use of it.\n",
    "\n",
    "By the end of this tutorial, you will be able to:\n",
    "\n",
    "1. Prepare time series data to be feed into deep learning model\n",
    "2. Build and apply LSTM network on anomaly detection\n",
    "3. Compare and contrast performance of anomaly detection algorithms\n",
    "\n",
    "## Notebook Outline\n",
    "Below is the outline for this tutorial:\n",
    "1. [Notebook Configurations](#configuration)\n",
    "2. [Dataset](#dataset)\n",
    "3. [Basic Analytics](#analytics)\n",
    "4. [Model Development](#model-dev)\n",
    "5. [Evaluation](#evaluation)\n",
    "6. [Exercise](#exercise)\n",
    "7. [Reference](#reference)\n",
    "8. [Bonus](#bonus)"
   ]
  },
  {
   "cell_type": "markdown",
   "metadata": {},
   "source": [
    "## <a name=\"configuration\">Notebook Configurations</a>\n",
    "Following are the modules that will be used for this tutorial. This notebook will heavily use `PyTorch` as they provide great APIs when for building deep learning models. You can find out more about them [here](https://pytorch.org/)."
   ]
  },
  {
   "cell_type": "code",
   "execution_count": 1,
   "metadata": {},
   "outputs": [],
   "source": [
    "# libraries\n",
    "%matplotlib inline\n",
    "\n",
    "import pandas as pd\n",
    "import numpy as np\n",
    "from pathlib import Path\n",
    "import json\n",
    "import sys\n",
    "import matplotlib.pyplot as plt\n",
    "from sklearn.metrics import precision_recall_fscore_support\n",
    "from torch.utils.data import Dataset, DataLoader, TensorDataset, IterableDataset\n",
    "import torch\n",
    "from torch import nn, optim\n",
    "import torch.nn.functional as F\n",
    "\n",
    "# reproducibility\n",
    "seed = 38\n",
    "torch.manual_seed(seed)\n",
    "np.random.seed(38)"
   ]
  },
  {
   "cell_type": "markdown",
   "metadata": {},
   "source": [
    "## <a name=\"dataset\">Dataset</a>\n",
    "\n",
    "This tutorial uses dataset on cost-per-click (CLC), a metric commonly used by online advertisement service providers to quantify cost for customers. The dataset is part of the NAB Data Corpus, which can be found [here](https://github.com/numenta/NAB/tree/master/data). "
   ]
  },
  {
   "cell_type": "code",
   "execution_count": 2,
   "metadata": {},
   "outputs": [],
   "source": [
    "# path specification\n",
    "dataset_dir_path = Path().resolve().parent.parent/'datasets'\n",
    "label_dir_path = dataset_dir_path/'labels'\n",
    "data_dir_path = dataset_dir_path/'cpc'\n",
    "training_file_name = 'cpc_results_3.csv' \n",
    "test_file_name = 'cpc_results_4.csv' \n",
    "\n",
    "# import dataset\n",
    "df_train = pd.read_csv(data_dir_path/training_file_name)\n",
    "df_test = pd.read_csv(data_dir_path/test_file_name)\n",
    "\n",
    "# import label\n",
    "labels_file_path = label_dir_path/'labels.json'\n",
    "with open(labels_file_path, 'r') as f:\n",
    "    labeled_anomalies = json.load(f)"
   ]
  },
  {
   "cell_type": "markdown",
   "metadata": {},
   "source": [
    "## <a name=\"analytics\">Basic Analytics</a>\n",
    "Let's do some basic analytics and see what nugget can we find out of the training dataset! Let first find out the number of rows and columns of the training dataset.\n",
    "\n",
    "**Note: Since we are not supposed to know any information about the test dataset, we will not perform any analytics on it.**"
   ]
  },
  {
   "cell_type": "code",
   "execution_count": 3,
   "metadata": {},
   "outputs": [
    {
     "name": "stdout",
     "output_type": "stream",
     "text": [
      "<class 'pandas.core.frame.DataFrame'>\n",
      "RangeIndex: 1538 entries, 0 to 1537\n",
      "Data columns (total 2 columns):\n",
      " #   Column     Non-Null Count  Dtype  \n",
      "---  ------     --------------  -----  \n",
      " 0   timestamp  1538 non-null   object \n",
      " 1   value      1538 non-null   float64\n",
      "dtypes: float64(1), object(1)\n",
      "memory usage: 24.2+ KB\n"
     ]
    }
   ],
   "source": [
    "# compute info on training dataset\n",
    "df_train.info()"
   ]
  },
  {
   "cell_type": "markdown",
   "metadata": {},
   "source": [
    "`info` method offers us a high-level view of the DataFrame, including number of entries, number of columns, column names, data type stored in the column and memory usage. We noticed that \"timestamp\" column is currently stored as `object` data type. Let's take a closer look on that column."
   ]
  },
  {
   "cell_type": "code",
   "execution_count": 4,
   "metadata": {},
   "outputs": [
    {
     "data": {
      "text/plain": [
       "0    2011-07-01 00:15:01\n",
       "1    2011-07-01 01:15:01\n",
       "2    2011-07-01 02:15:01\n",
       "3    2011-07-01 03:15:01\n",
       "4    2011-07-01 04:15:01\n",
       "5    2011-07-01 05:15:01\n",
       "6    2011-07-01 06:15:01\n",
       "7    2011-07-01 07:15:01\n",
       "8    2011-07-01 08:15:01\n",
       "9    2011-07-01 09:15:01\n",
       "Name: timestamp, dtype: object"
      ]
     },
     "execution_count": 4,
     "metadata": {},
     "output_type": "execute_result"
    }
   ],
   "source": [
    "# inspect the 'timestamp' column\n",
    "df_train['timestamp'].head(10)"
   ]
  },
  {
   "cell_type": "markdown",
   "metadata": {},
   "source": [
    "As suspected, the column stores timestamp information of each sample. We can convert it to the proper data type, which is `datetime` data type."
   ]
  },
  {
   "cell_type": "code",
   "execution_count": 5,
   "metadata": {},
   "outputs": [
    {
     "data": {
      "text/plain": [
       "0   2011-07-01 00:15:01\n",
       "1   2011-07-01 01:15:01\n",
       "2   2011-07-01 02:15:01\n",
       "3   2011-07-01 03:15:01\n",
       "4   2011-07-01 04:15:01\n",
       "5   2011-07-01 05:15:01\n",
       "6   2011-07-01 06:15:01\n",
       "7   2011-07-01 07:15:01\n",
       "8   2011-07-01 08:15:01\n",
       "9   2011-07-01 09:15:01\n",
       "Name: timestamp, dtype: datetime64[ns]"
      ]
     },
     "execution_count": 5,
     "metadata": {},
     "output_type": "execute_result"
    }
   ],
   "source": [
    "# convert data type to datetime\n",
    "df_train['timestamp'] = pd.to_datetime(df_train['timestamp'], infer_datetime_format=True)\n",
    "df_test['timestamp'] = pd.to_datetime(df_test['timestamp'], infer_datetime_format=True)\n",
    "\n",
    "df_train['timestamp'].head(10)"
   ]
  },
  {
   "cell_type": "markdown",
   "metadata": {},
   "source": [
    "We have succesfully converted the data type to `datetime`. It seems like the data were sampled hourly. We can know when did the data collection start and end with simple code manipulations."
   ]
  },
  {
   "cell_type": "code",
   "execution_count": 6,
   "metadata": {},
   "outputs": [
    {
     "data": {
      "text/plain": [
       "Timestamp('2011-07-01 00:15:01')"
      ]
     },
     "execution_count": 6,
     "metadata": {},
     "output_type": "execute_result"
    }
   ],
   "source": [
    "# return minimum value\n",
    "df_train['timestamp'].min()"
   ]
  },
  {
   "cell_type": "code",
   "execution_count": 7,
   "metadata": {},
   "outputs": [
    {
     "data": {
      "text/plain": [
       "Timestamp('2011-09-07 14:15:01')"
      ]
     },
     "execution_count": 7,
     "metadata": {},
     "output_type": "execute_result"
    }
   ],
   "source": [
    "# return maximum value\n",
    "df_train['timestamp'].max()"
   ]
  },
  {
   "cell_type": "code",
   "execution_count": 8,
   "metadata": {},
   "outputs": [
    {
     "data": {
      "text/plain": [
       "1538"
      ]
     },
     "execution_count": 8,
     "metadata": {},
     "output_type": "execute_result"
    }
   ],
   "source": [
    "# return total count\n",
    "len(df_train['timestamp'])"
   ]
  },
  {
   "cell_type": "markdown",
   "metadata": {},
   "source": [
    "The data were collected from 01/07/2011 to 07/09/2011 on hourly basis, with a total of 1538 samples. Now, let us turn our attention to the 'value' column. Since it is in `int64` data type, analysing it is as straightforward as using `describe` method to return a list of descriptive statistics."
   ]
  },
  {
   "cell_type": "code",
   "execution_count": 9,
   "metadata": {},
   "outputs": [
    {
     "data": {
      "text/plain": [
       "count    1538.000000\n",
       "mean        0.137259\n",
       "std         0.075671\n",
       "min         0.038899\n",
       "25%         0.097923\n",
       "50%         0.118184\n",
       "75%         0.153230\n",
       "max         1.034000\n",
       "Name: value, dtype: float64"
      ]
     },
     "execution_count": 9,
     "metadata": {},
     "output_type": "execute_result"
    }
   ],
   "source": [
    "# return descriptive statistics\n",
    "df_train.value.describe()"
   ]
  },
  {
   "cell_type": "markdown",
   "metadata": {},
   "source": [
    "We see that it has a mean of 0.137 and standard deviation of 0.076. However, the maximum value is 1.034, which indicates the presence of anomalous data in the dataset. Nonetheless, specific statistics can also be returned using other methods, with examples shown below."
   ]
  },
  {
   "cell_type": "code",
   "execution_count": 10,
   "metadata": {},
   "outputs": [
    {
     "name": "stdout",
     "output_type": "stream",
     "text": [
      "The mean for 'value' column is: 0.1372592718990712\n",
      "\n",
      "The standard deviation for 'value' column is: 0.07567099651288671\n"
     ]
    }
   ],
   "source": [
    "# return Series mean\n",
    "mean = df_train['value'].mean()\n",
    "\n",
    "# return Series standard deviation\n",
    "std = df_train['value'].std()\n",
    "\n",
    "print(f\"The mean for 'value' column is: {mean}\")\n",
    "print()\n",
    "print(f\"The standard deviation for 'value' column is: {std}\")"
   ]
  },
  {
   "cell_type": "markdown",
   "metadata": {},
   "source": [
    "Let's visualize the distribution of data in the form of scatter plot."
   ]
  },
  {
   "cell_type": "code",
   "execution_count": 11,
   "metadata": {},
   "outputs": [
    {
     "data": {
      "image/png": "[encoded data removed]",
      "text/plain": [
       "<Figure size 1296x504 with 1 Axes>"
      ]
     },
     "metadata": {
      "needs_background": "light"
     },
     "output_type": "display_data"
    }
   ],
   "source": [
    "# plot scatter plot \n",
    "fig, ax = plt.subplots()\n",
    "fig.set_size_inches(18, 7)\n",
    "ax.set_title(\"CPC against Time\")\n",
    "ax.grid(b=True)\n",
    "ax.set_xlabel(\"Timestamp\")\n",
    "ax.set_ylabel(\"CPC\")\n",
    "ax.scatter(\n",
    "    x=df_train['timestamp'],\n",
    "    y=df_train['value'],\n",
    "    s=8, color='blue', label='Data');"
   ]
  },
  {
   "cell_type": "markdown",
   "metadata": {},
   "source": [
    "It seems like there are indeed certain unusual spikes in the data. One challenge with anomaly detection is that we can never have the \"right answer\" as criteria for a data to be considered as an anomaly are defined by organisations. This means that it is different in a case-by-case basis. \n",
    "\n",
    "Fortunately, we already have the list of anomalies availabel to us in this case. Let us import the data in 'labels.json'."
   ]
  },
  {
   "cell_type": "code",
   "execution_count": 12,
   "metadata": {},
   "outputs": [
    {
     "name": "stdout",
     "output_type": "stream",
     "text": [
      "The list of anomalies as recorded in 'labels.json' file is:\n",
      "\n",
      "\n",
      "['2011-07-14 10:15:01', '2011-07-20 10:15:01', '2011-08-13 10:15:01']\n"
     ]
    }
   ],
   "source": [
    "# display anomalies in json file\n",
    "list_of_train_anomalies = labeled_anomalies[training_file_name]\n",
    "\n",
    "print(\"The list of anomalies as recorded in 'labels.json' file is:\")\n",
    "print(\"\\n\")\n",
    "print(list_of_train_anomalies)"
   ]
  },
  {
   "cell_type": "markdown",
   "metadata": {},
   "source": [
    "We see that there are 3 anomalies labeled in the dataset. To make the process of model development easier, we will create another column named \"anomaly_label\" and give it a value of 1 for anomalous data and 0 for normal data. "
   ]
  },
  {
   "cell_type": "code",
   "execution_count": 13,
   "metadata": {},
   "outputs": [],
   "source": [
    "# insert new column and write 1 if sample is anomaly else 0\n",
    "df_train['anomaly_label'] = df_train['timestamp'].isin(labeled_anomalies[training_file_name]).astype(int)\n",
    "df_test['anomaly_label'] = df_test['timestamp'].isin(labeled_anomalies[test_file_name]).astype(int)"
   ]
  },
  {
   "cell_type": "markdown",
   "metadata": {},
   "source": [
    "We will now highlight which of these data are anomalies in the scatter plot. This gives us a better sense of why that particular instance(s) are anomalous."
   ]
  },
  {
   "cell_type": "code",
   "execution_count": 14,
   "metadata": {},
   "outputs": [
    {
     "data": {
      "image/png": "[encoded data removed]",
      "text/plain": [
       "<Figure size 1296x504 with 1 Axes>"
      ]
     },
     "metadata": {
      "needs_background": "light"
     },
     "output_type": "display_data"
    }
   ],
   "source": [
    "# plot scatter plot \n",
    "fig, ax = plt.subplots()\n",
    "fig.set_size_inches(18, 7)\n",
    "ax.set_title(\"CPC against Time\")\n",
    "ax.grid(b=True)\n",
    "ax.set_xlabel(\"Timestamp\")\n",
    "ax.set_ylabel(\"CPC\")\n",
    "ax.scatter(\n",
    "    x=df_train['timestamp'],\n",
    "    y=df_train['value'],\n",
    "    s=8, color='blue', label='Data')\n",
    "ax.scatter(x=df_train['timestamp'][df_train['anomaly_label']==1], \n",
    "           y=df_train['value'][df_train['anomaly_label']==1], \n",
    "           s=100, c='red', label='Anomaly')\n",
    "ax.legend();"
   ]
  },
  {
   "cell_type": "markdown",
   "metadata": {},
   "source": [
    "We can see that the 3 anomalies are dispersed at different points in time and are quite far apart. Most of them appeared to have a sudden spike in terms of value when compared to the neighboring data."
   ]
  },
  {
   "cell_type": "markdown",
   "metadata": {},
   "source": [
    "## <a name=\"model-dev\">Model Development</a>\n",
    "After performing some basic analytics on the dataset at hand, we will start to build deep learning model to classify time series for this dataset. We will be guiding you through the process of developing a LSTM model using `PyTorch`.\n",
    "\n",
    "LSTM is a variant of recurrent neural network (RNN). RNNs have loops in the network that, theoretically, allows for past information to persist. This feature helps to overcome one of the shortcomings of a traditional neural network, where it is ineffective in modeling sequential data.\n",
    "\n",
    "RNNs have been applied successfully in many tasks involving sequential data, such as language modeling, machine translation, etc. However, there are certain downsides to a vanilla RNN. RNN is notoriously known for its inability to handle long-term dependencies, and result in vanishing gradient issue. This is not a good news for a network that was initially designed to for such task.\n",
    "\n",
    "Therefore, LSTMs is popularizeed over RNNs in order to more effectively model sequential data. Its combination of forget gate, input gate, memory gate and hidden cell along with other model architecture details enable it to more effectively handle long-term dependencies over RNN. We will be guiding you on how to build a LSTM model in this tutorial.\n",
    "\n",
    "If you are interested to find out more about LSTM, Colah provides a great explanation of LSTM, which can be found [here](https://colah.github.io/posts/2015-08-Understanding-LSTMs/).\n",
    "\n",
    "Before we start building the model though, we have to first prepare our data into the format that can be fed into LSTM model."
   ]
  },
  {
   "cell_type": "code",
   "execution_count": 15,
   "metadata": {},
   "outputs": [],
   "source": [
    "# extract the features and reshape to 2D array\n",
    "x_train = df_train.value.to_numpy().reshape(-1, 1)\n",
    "x_test = df_test.value.to_numpy().reshape(-1, 1)"
   ]
  },
  {
   "cell_type": "markdown",
   "metadata": {},
   "source": [
    "It is vital to prepare our data into a form that is ingestible by our model, and for LSTM model it will usually be transformed into the shape of ``(N, L, C)``, where N denotes batch size, C denotes number of channels, and L denotes length of signal sequence. The transformation process is done alongside the transformation of NumPy ``ndarray`` into Torch ``FloatTensor``. A customized class inheriting from PyTorch's ``Dataset`` class is written to return a ``Dataset`` instance."
   ]
  },
  {
   "cell_type": "code",
   "execution_count": 16,
   "metadata": {},
   "outputs": [],
   "source": [
    "# writing customized Dataset\n",
    "class CPCDataset(Dataset):\n",
    "    \"\"\"\n",
    "    Convert input data into torch FloatTensor. \n",
    "    Inherit Dataset class. Return length of instance when len method is called and return specific sample\n",
    "    of data when indexed.\n",
    "    \"\"\"    \n",
    "    def __init__(self, data: np.ndarray, size: int):\n",
    "        self.sequences = torch.FloatTensor(data).unfold(0, size, size)\n",
    "\n",
    "    def __len__(self):\n",
    "        return self.sequences.size(0)\n",
    "        \n",
    "    def __getitem__(self, index):\n",
    "        x = self.sequences[index]\n",
    "        return x\n",
    "    \n",
    "# instantiating CPCDataset instance using sequence length of 24\n",
    "train_torch_dataset = CPCDataset(x_train, 24)\n",
    "test_torch_dataset = CPCDataset(x_test, 24)"
   ]
  },
  {
   "cell_type": "markdown",
   "metadata": {},
   "source": [
    "Next, we will generate `DataLoader` instance using the `Dataset` objects. One parameter needed to be specified here is the `batch_size` parameter. "
   ]
  },
  {
   "cell_type": "code",
   "execution_count": 17,
   "metadata": {},
   "outputs": [],
   "source": [
    "# define batch size of 32\n",
    "batch_size = 32\n",
    "\n",
    "# define train and test DataLoader\n",
    "train_loader = DataLoader(train_torch_dataset, batch_size, shuffle=False)\n",
    "test_loader = DataLoader(test_torch_dataset, batch_size, shuffle=False)\n",
    "dataloaders = {'train': train_loader,\n",
    "               'test': test_loader\n",
    "              }"
   ]
  },
  {
   "cell_type": "markdown",
   "metadata": {},
   "source": [
    "Then, it is time to define the model architecture of our LSTM and instantiating it."
   ]
  },
  {
   "cell_type": "code",
   "execution_count": 18,
   "metadata": {},
   "outputs": [],
   "source": [
    "# define model architecture for model\n",
    "class LSTM(nn.Module):\n",
    "\n",
    "    def __init__(self, \n",
    "                 input_size: int, \n",
    "                 hidden_size: int, \n",
    "                 out_size: int,\n",
    "                 num_layers: int,\n",
    "                ):\n",
    "        super(LSTM, self).__init__()\n",
    "        self.hidden_size = hidden_size\n",
    "        self.num_layers = num_layers\n",
    "        self.lstm = nn.LSTM(input_size, hidden_size, num_layers)\n",
    "        self.linear = nn.Linear(hidden_size, out_size)\n",
    "        self.initialize_hidden_state()\n",
    "        \n",
    "    def forward(self, x):\n",
    "        out, self.hidden_state = self.lstm(x.view(len(x), 1, -1), self.hidden_state)\n",
    "        self.hidden_state = tuple([h.detach() for h in self.hidden_state])\n",
    "        out = out.view(len(x), -1)\n",
    "        out = self.linear(out)\n",
    "        return out\n",
    "        \n",
    "    def initialize_hidden_state(self):\n",
    "        self.hidden_state = (\n",
    "            torch.zeros((self.num_layers, 1, self.hidden_size)),\n",
    "            torch.zeros((self.num_layers, 1, self.hidden_size)))\n",
    "        \n",
    "model = LSTM(input_size=1, hidden_size=32, out_size=1, num_layers=1)"
   ]
  },
  {
   "cell_type": "markdown",
   "metadata": {},
   "source": [
    "We are still not done yet. We need to configure some hyperparameters before we can conduct model training.  Do note that the values shown here are not the only options that you can use. Hyperparameter tuning is a trial-and-error process. You will have to find out for yourself what kind of hyperparameter works best for different datasets and model."
   ]
  },
  {
   "cell_type": "code",
   "execution_count": 19,
   "metadata": {},
   "outputs": [],
   "source": [
    "# set hyperparameters for model\n",
    "epochs = 200\n",
    "learning_rate = 0.001\n",
    "optimizer = torch.optim.Adam(model.parameters(), lr=learning_rate)\n",
    "criterion = nn.MSELoss()"
   ]
  },
  {
   "cell_type": "markdown",
   "metadata": {},
   "source": [
    "Let's write some code to perform model training according to the number of epochs. For each epoch, model training and validation will be carried out."
   ]
  },
  {
   "cell_type": "code",
   "execution_count": 20,
   "metadata": {},
   "outputs": [],
   "source": [
    "# model training and validation\n",
    "loss_score = {'train': [], 'test': []}\n",
    "for epoch in range(epochs):\n",
    "    # uncomment to print epoch number\n",
    "#     print(f'Epoch {epoch+1}/{epochs}')\n",
    "    for phase in ['train', 'test']:\n",
    "        if phase == 'train':\n",
    "            model.train()\n",
    "        else:\n",
    "            model.eval()\n",
    "\n",
    "        loss_cumsum = 0.0\n",
    "        total_iterations = 0.0\n",
    "\n",
    "        for i, sequence in enumerate(dataloaders[phase]):\n",
    "            value = sequence\n",
    "            with torch.set_grad_enabled(phase == 'train'):\n",
    "                out = model(value.view(-1, 1))\n",
    "                loss = criterion(out.view(-1), value.view(-1))\n",
    "\n",
    "                # if the current phase is training phase, then do backward propagation\n",
    "                if phase == 'train':\n",
    "                    optimizer.zero_grad()\n",
    "                    loss.backward()\n",
    "                    optimizer.step()\n",
    "\n",
    "            loss_cumsum += loss.item() * out.size(0)\n",
    "            total_iterations += out.size(0)\n",
    "\n",
    "        epoch_loss = loss_cumsum / total_iterations\n",
    "        # uncomment to print training and validation loss\n",
    "#         print(f'{phase.upper()} Loss: {epoch_loss}')\n",
    "        loss_score[phase].append(epoch_loss)"
   ]
  },
  {
   "cell_type": "markdown",
   "metadata": {},
   "source": [
    "Note that we have stored the loss score during model training and validation for each epoch. We will plot a line chart of loss score (y-axis) against number of epochs (x-axis). This plot will help us to check whether the model is converging."
   ]
  },
  {
   "cell_type": "code",
   "execution_count": 21,
   "metadata": {},
   "outputs": [
    {
     "data": {
      "image/png": "[encoded data removed]",
      "text/plain": [
       "<Figure size 1008x504 with 1 Axes>"
      ]
     },
     "metadata": {
      "needs_background": "light"
     },
     "output_type": "display_data"
    }
   ],
   "source": [
    "# plot loss score for training and validation loop\n",
    "fig, ax = plt.subplots()\n",
    "fig.set_size_inches(14, 7)\n",
    "ax.set_title(\"Loss Score against Epoch\")\n",
    "ax.grid(b=True)\n",
    "ax.set_xlabel(\"Epoch Number\")\n",
    "ax.set_ylabel(\"Loss Score\")\n",
    "ax.plot(loss_score['train'], color='goldenrod', label='Training Loss')\n",
    "ax.plot(loss_score['test'], color='green', label='Test Loss')\n",
    "ax.legend();"
   ]
  },
  {
   "cell_type": "markdown",
   "metadata": {},
   "source": [
    "We can see from the loss score plot above that the model is converging as there are no sudden upward spikes at the last few epochs. Our model is ready to be tested to check for its performance on unseen data."
   ]
  },
  {
   "cell_type": "markdown",
   "metadata": {},
   "source": [
    "## <a name=\"evaluation\">Evaluation</a>\n",
    "Since this is a classification task, we will be using the following metrics for model evaluation:\n",
    "* accuracy\n",
    "* precision\n",
    "* recall\n",
    "* f1-score\n",
    "\n",
    "We will examine the performance of the model on both the training and test set. The steps to examine the model is as follows:\n",
    "\n",
    "1. Prepare input data into format that is ingestible by the model\n",
    "2. Set model to `eval` mode\n",
    "3. Feed input data into the model and generate reconstructed values\n",
    "4. Compare each reconstructed value against the original value using suitable loss criterion to generate a list of reconstruction errors\n",
    "5. Based on the reconstruction errors, generate a threshold. In this notebook, static threshold of 3 Sigma rule is used, which means that reconstruction errors that is higher than 3 standard deviation of mean value is considered as anomaly.\n",
    "6. Using the detected anomalies classified by the threshold criteria, compare and compute confusion matrix, precision, recall and F2-score\n",
    "7. Display scatter plot indicating which are the anomalies detected by the model\n",
    "\n",
    "The following codes are the implementations for the steps mentioned above."
   ]
  },
  {
   "cell_type": "code",
   "execution_count": 22,
   "metadata": {},
   "outputs": [],
   "source": [
    "# prepare data   \n",
    "actual_values = torch.Tensor(df_train['value'].values.astype(np.float32).flatten())\n",
    "model.eval()\n",
    "\n",
    "# reconstruct values based on input data\n",
    "with torch.no_grad():\n",
    "    reconstructed_values = model(actual_values)\n",
    "\n",
    "# return a list of reconstruction errors for each reconstructed value \n",
    "reconstruction_errors = []\n",
    "for actual_value, reconstructed_value in zip(actual_values.view(-1), reconstructed_values.view(-1)):\n",
    "    reconstruction_errors = np.append(reconstruction_errors, \n",
    "                                      criterion(actual_value, reconstructed_value).numpy().flatten())\n",
    "\n",
    "# compute static threshold using 3 Sigma rule\n",
    "error_threshold = np.mean(reconstruction_errors) + 3*np.std(reconstruction_errors)\n",
    "\n",
    "# return anomaly indices in list \n",
    "anomalies_indices = []\n",
    "for i in range(len(reconstruction_errors)):\n",
    "    is_anomaly = reconstruction_errors[i] > error_threshold\n",
    "    if is_anomaly:\n",
    "        anomalies_indices.append(i)\n"
   ]
  },
  {
   "cell_type": "code",
   "execution_count": 23,
   "metadata": {},
   "outputs": [
    {
     "name": "stdout",
     "output_type": "stream",
     "text": [
      "CONFUSION MATRIX:\n",
      "anomaly_predicted     0  1   All\n",
      "anomaly_label                   \n",
      "0                  1532  3  1535\n",
      "1                     1  2     3\n",
      "All                1533  5  1538\n",
      "\n",
      "\n",
      "MODEL PERFORMANCE METRICS ON TRAINING SET:\n",
      "\n",
      "Precision: 0.400\n",
      "Recall: 0.667\n",
      "F2 score: 0.588\n"
     ]
    }
   ],
   "source": [
    "def compute_metrics(\n",
    "    ground_truth: pd.DataFrame, anomalies_idxs: list, train: bool = True\n",
    "    ):\n",
    "    \"\"\"Return confusion matrix, precision, recall and F2-score of model by comparing detected anomalies and ground truth.\"\"\"\n",
    "    \n",
    "    predictions = pd.DataFrame(\n",
    "        index=range(len(ground_truth)), \n",
    "        columns=['anomaly_predicted']\n",
    "    )\n",
    "    predictions['anomaly_predicted'] = 0\n",
    "    predictions.iloc[anomalies_idxs] = 1\n",
    "    \n",
    "    # Calculation of the confusion matrix can be done using pandas\n",
    "    confusion_matrix = pd.crosstab(\n",
    "        ground_truth.loc[:, 'anomaly_label'],\n",
    "        predictions['anomaly_predicted'], \n",
    "        margins=True\n",
    "    )\n",
    "    precision, recall, f2, _ = precision_recall_fscore_support(\n",
    "        ground_truth.loc[:, 'anomaly_label'],\n",
    "        predictions['anomaly_predicted'], \n",
    "        beta=2., \n",
    "        average='binary',\n",
    "        zero_division=0\n",
    "    )\n",
    "    \n",
    "    # display output\n",
    "    print(\"CONFUSION MATRIX:\")\n",
    "    print(confusion_matrix)\n",
    "    if train:\n",
    "        print(f'\\n\\nMODEL PERFORMANCE METRICS ON TRAINING SET:\\n\\nPrecision: {precision:.3f}\\n' \n",
    "              f'Recall: {recall:.3f}\\n' \n",
    "              f'F2 score: {f2:.3f}')\n",
    "    else:\n",
    "        print(f'\\n\\nMODEL PERFORMANCE METRICS ON TEST SET:\\nPrecision: {precision:.3f}\\n' \n",
    "              f'Recall: {recall:.3f}\\n' \n",
    "              f'F2 score: {f2:.3f}')        \n",
    "        \n",
    "    return confusion_matrix, precision, recall, f2\n",
    "\n",
    "train_conf_matrix, *train_metrics = compute_metrics(df_train, anomalies_indices)"
   ]
  },
  {
   "cell_type": "code",
   "execution_count": 24,
   "metadata": {},
   "outputs": [
    {
     "data": {
      "image/png": "[encoded data removed]",
      "text/plain": [
       "<Figure size 1296x504 with 1 Axes>"
      ]
     },
     "metadata": {
      "needs_background": "light"
     },
     "output_type": "display_data"
    }
   ],
   "source": [
    "# plot scatter plot \n",
    "fig, ax = plt.subplots()\n",
    "fig.set_size_inches(18, 7)\n",
    "ax.set_title(\"CPC against Time\")\n",
    "ax.grid(b=True)\n",
    "ax.set_xlabel(\"Timestamp\")\n",
    "ax.set_ylabel(\"CPC\")\n",
    "ax.scatter(\n",
    "    x=df_train['timestamp'],\n",
    "    y=df_train['value'],\n",
    "    s=8, color='blue', label='Data')\n",
    "ax.scatter(x=df_train['timestamp'][df_train['anomaly_label']==1], \n",
    "           y=df_train['value'][df_train['anomaly_label']==1], \n",
    "           s=100, c='red', label='Anomaly')\n",
    "ax.scatter(x=df_train['timestamp'].iloc[anomalies_indices], \n",
    "           y=df_train['value'].iloc[anomalies_indices], \n",
    "           s=60, c='yellow', label='Detected Anomaly')\n",
    "ax.legend();"
   ]
  },
  {
   "cell_type": "markdown",
   "metadata": {},
   "source": [
    "Our model seems to have a good performance, where it was able to detect all 3 anomalies and achieve a recall score of 1.0. In real-world application, false negatives are costlier compared to false positives, so emphasis will be given to an anomaly detection model's ability to achieve a high recall score.\n",
    "\n",
    "Next, we will examine the model performance against test data."
   ]
  },
  {
   "cell_type": "code",
   "execution_count": 25,
   "metadata": {},
   "outputs": [
    {
     "name": "stdout",
     "output_type": "stream",
     "text": [
      "CONFUSION MATRIX:\n",
      "anomaly_predicted     0  1   All\n",
      "anomaly_label                   \n",
      "0                  1639  1  1640\n",
      "1                     1  2     3\n",
      "All                1640  3  1643\n",
      "\n",
      "\n",
      "MODEL PERFORMANCE METRICS ON TRAINING SET:\n",
      "\n",
      "Precision: 0.667\n",
      "Recall: 0.667\n",
      "F2 score: 0.667\n"
     ]
    }
   ],
   "source": [
    "# prepare data   \n",
    "test_values = torch.Tensor(df_test['value'].values.astype(np.float32).flatten())\n",
    "model.eval()\n",
    "\n",
    "# reconstruct values based on input data\n",
    "with torch.no_grad():\n",
    "    reconstructed_values = model(test_values)\n",
    "\n",
    "# return a list of reconstruction errors for each reconstructed value \n",
    "reconstruction_errors = []\n",
    "for test_value, reconstructed_value in zip(test_values.view(-1), reconstructed_values.view(-1)):\n",
    "    reconstruction_errors = np.append(reconstruction_errors, \n",
    "                                      criterion(test_value, reconstructed_value).numpy().flatten())\n",
    "\n",
    "# compute static threshold\n",
    "error_threshold = np.mean(reconstruction_errors) + 3*np.std(reconstruction_errors)\n",
    "\n",
    "# return anomaly indices in list \n",
    "anomalies_indices = []\n",
    "for i in range(len(reconstruction_errors)):\n",
    "    is_anomaly = reconstruction_errors[i] > error_threshold\n",
    "    if is_anomaly:\n",
    "        anomalies_indices.append(i)\n",
    "\n",
    "test_conf_matrix, *test_metrics = compute_metrics(df_test, anomalies_indices)        "
   ]
  },
  {
   "cell_type": "code",
   "execution_count": 26,
   "metadata": {},
   "outputs": [
    {
     "data": {
      "image/png": "[encoded data removed]",
      "text/plain": [
       "<Figure size 1296x504 with 1 Axes>"
      ]
     },
     "metadata": {
      "needs_background": "light"
     },
     "output_type": "display_data"
    }
   ],
   "source": [
    "# plot scatter plot \n",
    "fig, ax = plt.subplots()\n",
    "fig.set_size_inches(18, 7)\n",
    "ax.set_title(\"CPC against Time\")\n",
    "ax.grid(b=True)\n",
    "ax.set_xlabel(\"Timestamp\")\n",
    "ax.set_ylabel(\"CPC\")\n",
    "ax.scatter(\n",
    "    x=df_test['timestamp'],\n",
    "    y=df_test['value'],\n",
    "    s=8, color='blue', label='Data')\n",
    "ax.scatter(x=df_test['timestamp'][df_test['anomaly_label']==1], \n",
    "           y=df_test['value'][df_test['anomaly_label']==1], \n",
    "           s=100, c='red', label='Anomaly')\n",
    "ax.scatter(x=df_test['timestamp'].iloc[anomalies_indices], \n",
    "           y=df_test['value'].iloc[anomalies_indices], \n",
    "           s=60, c='yellow', label='Detected Anomaly')\n",
    "ax.legend();"
   ]
  },
  {
   "cell_type": "markdown",
   "metadata": {},
   "source": [
    "The model is able to detect 2 out of 3 anomalies for test set. This seems not so satisfactory, however upon closer inspection, the second anomaly actually quite resembles what a normal data should look like. This could explain why the model fails to detect it as an anomaly. However, measures should be taken to how to further improve this model so that it can have a better performance.\n",
    "\n",
    "The following will be Exercise section."
   ]
  },
  {
   "cell_type": "markdown",
   "metadata": {},
   "source": [
    "## <a name=\"exercise\">Exercise</a>\n",
    "\n",
    "This exercise section is attached for you to practice and hone your skills. Try your best effort to complete it without referring to the solution."
   ]
  },
  {
   "cell_type": "markdown",
   "metadata": {},
   "source": [
    "### Notebook Configurations\n",
    "You can import any module that you wish to use for this exercise. However, if you run the cells from the start of this notebook, most probably all the modules which you need had already been imported at this point."
   ]
  },
  {
   "cell_type": "code",
   "execution_count": 27,
   "metadata": {},
   "outputs": [],
   "source": [
    "# import modules\n",
    "### BEGIN SOLUTION\n",
    "\n",
    "\n",
    "### END SOLUTION"
   ]
  },
  {
   "cell_type": "markdown",
   "metadata": {},
   "source": [
    "### Dataset\n",
    "**INSTRUCTIONS**: Please use the \"cpc_results_4\" as the training dataset and \"cpc_results_3\" as the test dataset for the remainder of this exercise. "
   ]
  },
  {
   "cell_type": "code",
   "execution_count": 28,
   "metadata": {},
   "outputs": [],
   "source": [
    "# path specification\n",
    "### BEGIN SOLUTION\n",
    "\n",
    "\n",
    "\n",
    "\n",
    "\n",
    "\n",
    "### END SOLUTION\n",
    "\n",
    "# import dataset\n",
    "### BEGIN SOLUTION\n",
    "\n",
    "\n",
    "### END SOLUTION\n",
    "\n",
    "# import label\n",
    "### BEGIN SOLUTION\n",
    "\n",
    "\n",
    "\n",
    "### END SOLUTION"
   ]
  },
  {
   "cell_type": "markdown",
   "metadata": {},
   "source": [
    "### Basic Analytics\n",
    "**INSTRUCTIONS**: Perform some basic analytics on the dataset by following the guidelines that are provided in each cell."
   ]
  },
  {
   "cell_type": "code",
   "execution_count": 29,
   "metadata": {},
   "outputs": [],
   "source": [
    "# compute info on training dataset\n",
    "### BEGIN SOLUTION\n",
    "\n",
    "### END SOLUTION"
   ]
  },
  {
   "cell_type": "code",
   "execution_count": 30,
   "metadata": {},
   "outputs": [],
   "source": [
    "# inspect the 'timestamp' column\n",
    "### BEGIN SOLUTION\n",
    "\n",
    "### END SOLUTION"
   ]
  },
  {
   "cell_type": "markdown",
   "metadata": {},
   "source": [
    "As suspected, the column stores timestamp information of each sample. We can convert it to the proper data type, which is `datetime` data type."
   ]
  },
  {
   "cell_type": "code",
   "execution_count": 31,
   "metadata": {},
   "outputs": [],
   "source": [
    "# convert 'timestamp' column data type to datetime\n",
    "### BEGIN SOLUTION\n",
    "\n",
    "\n",
    "### END SOLUTION"
   ]
  },
  {
   "cell_type": "code",
   "execution_count": 32,
   "metadata": {},
   "outputs": [],
   "source": [
    "# return maximum value of 'timestamp' column\n",
    "### BEGIN SOLUTION\n",
    "\n",
    "### END SOLUTION"
   ]
  },
  {
   "cell_type": "code",
   "execution_count": 33,
   "metadata": {},
   "outputs": [],
   "source": [
    "# return descriptive statistics of 'value' column\n",
    "### BEGIN SOLUTION\n",
    "\n",
    "### END SOLUTION"
   ]
  },
  {
   "cell_type": "code",
   "execution_count": 34,
   "metadata": {},
   "outputs": [
    {
     "name": "stdout",
     "output_type": "stream",
     "text": [
      "The list of anomalies as recorded in 'labels.json' file is:\n",
      "\n",
      "\n",
      "None\n"
     ]
    }
   ],
   "source": [
    "# display anomalies in json file\n",
    "### BEGIN SOLUTION\n",
    "list_of_train_anomalies = None\n",
    "### END SOLUTION\n",
    "\n",
    "print(\"The list of anomalies as recorded in 'labels.json' file is:\")\n",
    "print(\"\\n\")\n",
    "print(list_of_train_anomalies)"
   ]
  },
  {
   "cell_type": "code",
   "execution_count": 35,
   "metadata": {},
   "outputs": [],
   "source": [
    "# insert new 'anomaly_label' column and write 1 if sample is anomaly else 0\n",
    "### BEGIN SOLUTION\n",
    "\n",
    "\n",
    "### END SOLUTION"
   ]
  },
  {
   "cell_type": "code",
   "execution_count": 36,
   "metadata": {},
   "outputs": [],
   "source": [
    "# plot scatter plot of 'value' against 'timestamp' with legend indicationg normal data and anomaly\n",
    "### BEGIN SOLUTION\n",
    "\n",
    "\n",
    "\n",
    "\n",
    "\n",
    "\n",
    "\n",
    "\n",
    "\n",
    "\n",
    "\n",
    "### END SOLUTION"
   ]
  },
  {
   "cell_type": "markdown",
   "metadata": {},
   "source": [
    "### Model Development\n",
    "**INSTRUCTIONS**: Prepare the input data and define your own LSTM model. Implement training and validation loop at each epoch."
   ]
  },
  {
   "cell_type": "code",
   "execution_count": 37,
   "metadata": {},
   "outputs": [],
   "source": [
    "# extract the features and reshape to 2D array\n",
    "### BEGIN SOLUTION\n",
    "\n",
    "\n",
    "### END SOLUTION"
   ]
  },
  {
   "cell_type": "code",
   "execution_count": 38,
   "metadata": {},
   "outputs": [],
   "source": [
    "# writing customized Dataset\n",
    "### BEGIN SOLUTION\n",
    "\n",
    "\n",
    "\n",
    "\n",
    "\n",
    "\n",
    "\n",
    "\n",
    "\n",
    "### END SOLUTION\n",
    "    \n",
    "# instantiating Dataset instance using sequence length of 24\n",
    "### BEGIN SOLUTION\n",
    "train_torch_dataset = None\n",
    "test_torch_dataset = None\n",
    "### END SOLUTION"
   ]
  },
  {
   "cell_type": "code",
   "execution_count": 39,
   "metadata": {},
   "outputs": [],
   "source": [
    "# define train and test DataLoader with a batch size of 128\n",
    "### BEGIN SOLUTION\n",
    "\n",
    "\n",
    "\n",
    "\n",
    "\n",
    "### END SOLUTION"
   ]
  },
  {
   "cell_type": "code",
   "execution_count": 40,
   "metadata": {},
   "outputs": [],
   "source": [
    "# define model architecture for model\n",
    "\n",
    "class LSTM(nn.Module):\n",
    "    ### BEGIN SOLUTION\n",
    "    pass\n",
    "    ### END SOLUTION\n",
    "\n",
    "# instantiating LSTM model with 1 layers and hidden size of 48\n",
    "### BEGIN SOLUTION\n",
    "model = None\n",
    "### END SOLUTION"
   ]
  },
  {
   "cell_type": "code",
   "execution_count": 41,
   "metadata": {},
   "outputs": [],
   "source": [
    "# set hyperparameters for model\n",
    "### BEGIN SOLUTION\n",
    "\n",
    "\n",
    "\n",
    "\n",
    "### END SOLUTION"
   ]
  },
  {
   "cell_type": "code",
   "execution_count": 42,
   "metadata": {},
   "outputs": [],
   "source": [
    "# implement model training and validation loop, storing loss score for training and validation phase of each epoch in a dictionary\n",
    "### BEGIN SOLUTION\n",
    "\n",
    "\n",
    "\n",
    "\n",
    "\n",
    "\n",
    "\n",
    "\n",
    "\n",
    "\n",
    "\n",
    "\n",
    "\n",
    "\n",
    "\n",
    "### END SOLUTION"
   ]
  },
  {
   "cell_type": "code",
   "execution_count": 43,
   "metadata": {},
   "outputs": [],
   "source": [
    "# plot loss score for training and validation loop\n",
    "### BEGIN SOLUTION\n",
    "\n",
    "\n",
    "\n",
    "\n",
    "\n",
    "\n",
    "\n",
    "\n",
    "\n",
    "\n",
    "\n",
    "\n",
    "### END SOLUTION"
   ]
  },
  {
   "cell_type": "markdown",
   "metadata": {},
   "source": [
    "### Evaluation\n",
    "**INSTRUCTIONS:** Follow the guidelines given in the cells to evaluate performance of model."
   ]
  },
  {
   "cell_type": "code",
   "execution_count": 44,
   "metadata": {},
   "outputs": [],
   "source": [
    "# prepare test data for model evaluation\n",
    "### BEGIN SOLUTION\n",
    "\n",
    "\n",
    "### END SOLUTION\n",
    "\n",
    "# reconstruct values based on input data\n",
    "### BEGIN SOLUTION\n",
    "\n",
    "\n",
    "### END SOLUTION\n",
    "\n",
    "# return a list of reconstruction errors for each reconstructed value \n",
    "### BEGIN SOLUTION\n",
    "\n",
    "\n",
    "\n",
    "### END SOLUTION\n",
    "    \n",
    "# compute static threshold using 3 Sigma rule\n",
    "### BEGIN SOLUTION\n",
    "error_threshold = None\n",
    "### END SOLUTION\n",
    "\n",
    "# return anomaly indices in list \n",
    "### BEGIN SOLUTION\n",
    "\n",
    "\n",
    "\n",
    "\n",
    "\n",
    "### END SOLUTION\n",
    "\n",
    "# compute confusion matrix, recall, precision and F2-score\n",
    "### BEGIN SOLUTION\n",
    "\n",
    "### END SOLUTION"
   ]
  },
  {
   "cell_type": "code",
   "execution_count": 45,
   "metadata": {},
   "outputs": [],
   "source": [
    "# plot scatter plot using legend to indicate normal data, anomaly (grouund truth) and detected anomaly\n",
    "### BEGIN SOLUTION\n",
    "\n",
    "\n",
    "\n",
    "\n",
    "\n",
    "\n",
    "\n",
    "\n",
    "\n",
    "\n",
    "\n",
    "\n",
    "\n",
    "### END SOLUTION"
   ]
  },
  {
   "cell_type": "markdown",
   "metadata": {},
   "source": [
    "## <a name=\"reference\">Reference</a>\n",
    "1. [Understanding LSTM Networks](https://colah.github.io/posts/2015-08-Understanding-LSTMs/)\n",
    "2. [NAB Data Corpus](https://github.com/numenta/NAB/tree/master/data)"
   ]
  },
  {
   "cell_type": "markdown",
   "metadata": {},
   "source": [
    "## <a name=\"bonus\">Bonus</a>\n",
    "Do you know that LSTM was first introduced in 1995, way before the popularization of the now infamous term \"deep learning\"? It was originally proposed by Sepp Hochreiter and Jürgen Schmidhuber. LSTM tackles the vanishing gradient problem using Constant Error Carousel (CEC) units. The first version of LSTM block consists of cells, input and output gates. You can read more about the history of LSTM [here](https://en.wikipedia.org/wiki/Long_short-term_memory)."
   ]
  }
 ],
 "metadata": {
  "kernelspec": {
   "display_name": "Python 3",
   "language": "python",
   "name": "python3"
  },
  "language_info": {
   "codemirror_mode": {
    "name": "ipython",
    "version": 3
   },
   "file_extension": ".py",
   "mimetype": "text/x-python",
   "name": "python",
   "nbconvert_exporter": "python",
   "pygments_lexer": "ipython3",
   "version": "3.9.1"
  }
 },
 "nbformat": 4,
 "nbformat_minor": 4
}
