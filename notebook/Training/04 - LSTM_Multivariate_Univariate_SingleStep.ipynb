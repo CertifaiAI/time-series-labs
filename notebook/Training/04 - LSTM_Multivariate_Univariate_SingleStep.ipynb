{
 "cells": [
  {
   "cell_type": "markdown",
   "metadata": {
    "deletable": false,
    "editable": false
   },
   "source": [
    "> **Copyright &copy; 2020 CertifAI Sdn. Bhd.**<br>\n",
    " **Copyright &copy; 2021 CertifAI Sdn. Bhd.**<br>\n",
    " <br>\n",
    "This program and the accompanying materials are made available under the\n",
    "terms of the [Apache License, Version 2.0](https://www.apache.org/licenses/LICENSE-2.0). \\\n",
    "Unless required by applicable law or agreed to in writing, software\n",
    "distributed under the License is distributed on an \"AS IS\" BASIS, WITHOUT\n",
    "WARRANTIES OR CONDITIONS OF ANY KIND, either express or implied. See the\n",
    "License for the specific language governing permissions and limitations\n",
    "under the License. <br>\n",
    "<br>**SPDX-License-Identifier: Apache-2.0**"
   ]
  },
  {
   "cell_type": "markdown",
   "metadata": {},
   "source": [
    "# Multivariate Input, Univariate Output LSTM, Single Step\n",
    "\n",
    "## Introduction\n",
    "This tutorial is to demonstrate the process to build LSTM for the Multivariate Input, Univariate Output LSTM, Single Step<br>\n",
    "\n",
    "It consists of 2 major parts which are :<br>\n",
    "\n",
    "Part 1 - The Demonstration of Building LSTM using Synthetic data<br>\n",
    "Part 2 - Exercise of building LSTM using COVID-19 Data.<br>\n",
    "\n",
    "\n",
    "## What will we accomplish?\n",
    "First, we will show the step in building the LSTM :\n",
    "\n",
    "Step 1. Data Preparation (Data Splitting, Data Sequencing, Data Standardization and Batching the Data)<br>\n",
    "Step 2. Model Configuration (Vanilla LSTM, Stacked LSTM, Bidirectional LSTM)<br>\n",
    "Step 3. Train the model<br>\n",
    "Step 4. Validate the model using a graph<br>\n",
    "Step 5. Evaluation Metrics such as MSE<br>\n",
    "Step 6. Plot the forecast result<br>\n",
    "\n",
    "Secondly, learn to import the function from module `data_module.py` and `deep_learning_module.py`<br>\n",
    "\n",
    "Thirdly, some data exploration technique on COVID-19 data\n",
    "\n",
    "Let's import the package needed"
   ]
  },
  {
   "cell_type": "code",
   "execution_count": 1,
   "metadata": {},
   "outputs": [],
   "source": [
    "# import libary need\n",
    "import numpy as np\n",
    "import pandas as pd\n",
    "import matplotlib.pyplot as plt\n",
    "import torch\n",
    "import torch.nn as nn\n",
    "from torch.utils.data import DataLoader,TensorDataset\n",
    "from sklearn.metrics import mean_squared_error\n",
    "from sklearn.preprocessing import StandardScaler,MinMaxScaler\n",
    "import math\n",
    "from torchsummaryX import summary\n",
    "\n",
    "# To auto load the customise module\n",
    "%load_ext autoreload\n",
    "%autoreload 2\n",
    "import deep_learning_module\n",
    "import data_module"
   ]
  },
  {
   "cell_type": "markdown",
   "metadata": {},
   "source": [
    "# Part 1 : Demonstration of Building LSTM using Synthetic data"
   ]
  },
  {
   "cell_type": "markdown",
   "metadata": {},
   "source": [
    "## Hyperparameter\n",
    "Define the hyperparameter that needs to be tuned."
   ]
  },
  {
   "cell_type": "code",
   "execution_count": 2,
   "metadata": {},
   "outputs": [],
   "source": [
    "split_ratio = 0.70\n",
    "num_epochs = 300\n",
    "window_size = 4\n",
    "n_step = 1\n",
    "learning_rate = 0.01\n",
    "batch_size = 10\n"
   ]
  },
  {
   "cell_type": "markdown",
   "metadata": {},
   "source": [
    "# Step 1 : Data Preparation\n",
    "We create synthetic data to make sure the model is created correctly and having the ability to perform the forecasting. <br>\n",
    "\n",
    "1. First, we will create a sequence of data with `np.array`.\n",
    "2. Then, we will assign a date to the sequence of data with `pd.date_range` and store it to series data by using `pd.Series`.\n"
   ]
  },
  {
   "cell_type": "code",
   "execution_count": 3,
   "metadata": {},
   "outputs": [],
   "source": [
    "#Synthetic Data\n",
    "in_seq1 = np.array([x for x in range(0, 300, 10)])\n",
    "in_seq2 = np.array([x for x in range(5, 305, 10)])\n",
    "out_seq = np.array([in_seq1[i] + in_seq2[i] for i in range(len(in_seq1))])\n",
    "\n",
    "# convert to [rows, columns] structure\n",
    "in_seq1 = in_seq1.reshape((len(in_seq1), 1))\n",
    "in_seq2 = in_seq2.reshape((len(in_seq2), 1))\n",
    "out_seq = out_seq.reshape((len(out_seq), 1))\n",
    "\n",
    "# horizontally stack columns\n",
    "dataset = np.hstack((in_seq1, in_seq2, out_seq))"
   ]
  },
  {
   "cell_type": "code",
   "execution_count": 4,
   "metadata": {},
   "outputs": [
    {
     "data": {
      "text/html": [
       "<div>\n",
       "<style scoped>\n",
       "    .dataframe tbody tr th:only-of-type {\n",
       "        vertical-align: middle;\n",
       "    }\n",
       "\n",
       "    .dataframe tbody tr th {\n",
       "        vertical-align: top;\n",
       "    }\n",
       "\n",
       "    .dataframe thead th {\n",
       "        text-align: right;\n",
       "    }\n",
       "</style>\n",
       "<table border=\"1\" class=\"dataframe\">\n",
       "  <thead>\n",
       "    <tr style=\"text-align: right;\">\n",
       "      <th></th>\n",
       "      <th>in_seq1</th>\n",
       "      <th>in_seq2</th>\n",
       "      <th>out_seq</th>\n",
       "    </tr>\n",
       "    <tr>\n",
       "      <th>Date</th>\n",
       "      <th></th>\n",
       "      <th></th>\n",
       "      <th></th>\n",
       "    </tr>\n",
       "  </thead>\n",
       "  <tbody>\n",
       "    <tr>\n",
       "      <th>2020-01-01</th>\n",
       "      <td>0</td>\n",
       "      <td>5</td>\n",
       "      <td>5</td>\n",
       "    </tr>\n",
       "    <tr>\n",
       "      <th>2020-01-02</th>\n",
       "      <td>10</td>\n",
       "      <td>15</td>\n",
       "      <td>25</td>\n",
       "    </tr>\n",
       "    <tr>\n",
       "      <th>2020-01-03</th>\n",
       "      <td>20</td>\n",
       "      <td>25</td>\n",
       "      <td>45</td>\n",
       "    </tr>\n",
       "    <tr>\n",
       "      <th>2020-01-04</th>\n",
       "      <td>30</td>\n",
       "      <td>35</td>\n",
       "      <td>65</td>\n",
       "    </tr>\n",
       "    <tr>\n",
       "      <th>2020-01-05</th>\n",
       "      <td>40</td>\n",
       "      <td>45</td>\n",
       "      <td>85</td>\n",
       "    </tr>\n",
       "  </tbody>\n",
       "</table>\n",
       "</div>"
      ],
      "text/plain": [
       "            in_seq1  in_seq2  out_seq\n",
       "Date                                 \n",
       "2020-01-01        0        5        5\n",
       "2020-01-02       10       15       25\n",
       "2020-01-03       20       25       45\n",
       "2020-01-04       30       35       65\n",
       "2020-01-05       40       45       85"
      ]
     },
     "execution_count": 4,
     "metadata": {},
     "output_type": "execute_result"
    }
   ],
   "source": [
    "dataset = pd.DataFrame(dataset,columns =[\"in_seq1\",\"in_seq2\",\"out_seq\"],\n",
    "                      index = pd.date_range(\"1/1/2020\",periods=len(dataset),freq='D'))\n",
    "dataset.index.name=\"Date\"\n",
    "dataset.head()"
   ]
  },
  {
   "cell_type": "markdown",
   "metadata": {},
   "source": [
    "## Data Visualization\n",
    "Data visualization is important for us to visualize the pattern of data such as trend and seasonality. As seen in the graph below, there is an increasing trend in the data."
   ]
  },
  {
   "cell_type": "code",
   "execution_count": 5,
   "metadata": {},
   "outputs": [
    {
     "data": {
      "text/plain": [
       "Text(0.5, 1.0, 'Synthetic Data')"
      ]
     },
     "execution_count": 5,
     "metadata": {},
     "output_type": "execute_result"
    },
    {
     "data": {
      "image/png": "[encoded data removed]",
      "text/plain": [
       "<Figure size 432x288 with 1 Axes>"
      ]
     },
     "metadata": {
      "needs_background": "light"
     },
     "output_type": "display_data"
    }
   ],
   "source": [
    "dataset.plot()\n",
    "plt.title(\"Synthetic Data\")"
   ]
  },
  {
   "cell_type": "markdown",
   "metadata": {},
   "source": [
    "## Data Splitting\n",
    "In Deep Learning, we will split the data into training and test dataset. The training data is used to train the model whereas the test data is used to validate the performance of the model."
   ]
  },
  {
   "cell_type": "code",
   "execution_count": 6,
   "metadata": {},
   "outputs": [
    {
     "data": {
      "text/plain": [
       "21"
      ]
     },
     "execution_count": 6,
     "metadata": {},
     "output_type": "execute_result"
    }
   ],
   "source": [
    "split_data = round(len(dataset)*split_ratio)\n",
    "split_data"
   ]
  },
  {
   "cell_type": "code",
   "execution_count": 7,
   "metadata": {},
   "outputs": [
    {
     "name": "stdout",
     "output_type": "stream",
     "text": [
      "train_data_shape\n",
      "(21, 3)\n",
      "test_data_shape\n",
      "(9, 3)\n"
     ]
    }
   ],
   "source": [
    "#split data by indexing \n",
    "train_data = dataset[:split_data]\n",
    "test_data = dataset[split_data:]\n",
    "train_time = dataset.index[:split_data]\n",
    "test_time = dataset.index[split_data:]\n",
    "\n",
    "print(\"train_data_shape\")\n",
    "print(train_data.shape)\n",
    "print(\"test_data_shape\")\n",
    "print(test_data.shape)"
   ]
  },
  {
   "cell_type": "markdown",
   "metadata": {},
   "source": [
    "## Data Standardization\n",
    "Standardize the data to have 0 mean and unit variance in order to make our model converge faster."
   ]
  },
  {
   "cell_type": "code",
   "execution_count": 8,
   "metadata": {},
   "outputs": [],
   "source": [
    "scaler = StandardScaler().fit(train_data.values.reshape(-1,1))\n",
    "train_data_standard = scaler.transform(train_data.values.reshape(-1, 1))\n",
    "test_data_standard = scaler.transform(test_data.values.reshape(-1, 1))"
   ]
  },
  {
   "cell_type": "code",
   "execution_count": 9,
   "metadata": {},
   "outputs": [
    {
     "name": "stdout",
     "output_type": "stream",
     "text": [
      "train_data_standardized(21, 3)\n",
      "test_data_standardized(9, 3)\n"
     ]
    }
   ],
   "source": [
    "# Transform after scaling\n",
    "train_data_standard = train_data_standard.reshape(train_data.shape[0],train_data.shape[1])\n",
    "print(\"train_data_standardized\"+str(train_data_standard.shape))\n",
    "\n",
    "test_data_standard = test_data_standard.reshape(test_data.shape[0],test_data.shape[1])\n",
    "print(\"test_data_standardized\"+str(test_data_standard.shape))"
   ]
  },
  {
   "cell_type": "markdown",
   "metadata": {},
   "source": [
    "## Data Sequencing\n",
    "Sequencing the data by taking in the multivariate series into `feature` and `label`\n",
    "<img src = \"../../picture/Multivariate Data Sequencing.png\"  width=\"300\" height  =\"300\" align=\"center\" />"
   ]
  },
  {
   "cell_type": "code",
   "execution_count": 10,
   "metadata": {},
   "outputs": [
    {
     "name": "stdout",
     "output_type": "stream",
     "text": [
      "trainX shape:(18, 4, 2) trainY shape:(18,)\n",
      "\n",
      "testX shape:(6, 4, 2) testY shape:(6,)\n"
     ]
    }
   ],
   "source": [
    "\n",
    "trainX ,trainY = data_module.multivariate_univariate_single_step(train_data_standard,window_size)\n",
    "testX , testY = data_module.multivariate_univariate_single_step(test_data_standard,window_size)\n",
    "\n",
    "\n",
    "print(f\"trainX shape:{trainX.shape} trainY shape:{trainY.shape}\\n\")\n",
    "print(f\"testX shape:{testX.shape} testY shape:{testY.shape}\")"
   ]
  },
  {
   "cell_type": "code",
   "execution_count": 11,
   "metadata": {},
   "outputs": [
    {
     "name": "stdout",
     "output_type": "stream",
     "text": [
      "trainY shape:(18, 1, 1)\n",
      "testY shape:(6, 1, 1)\n"
     ]
    }
   ],
   "source": [
    "trainY = trainY.reshape(trainY.shape[0],1,n_step)\n",
    "testY = testY.reshape(testY.shape[0],1,n_step)\n",
    "print(f\"trainY shape:{trainY.shape}\")\n",
    "print(f\"testY shape:{testY.shape}\")"
   ]
  },
  {
   "cell_type": "markdown",
   "metadata": {},
   "source": [
    "## Data Transformation\n",
    "Data needs to be transformed from NumPy to PyTorch tensor before being fed into the model. The input of an LSTM model has to be 3-dimensional.\n",
    "\n",
    ">**Instruction** : <br>\n",
    "Use `data_module.key_assign` to assign the key and `data_module.transform` to transform the data."
   ]
  },
  {
   "cell_type": "code",
   "execution_count": 12,
   "metadata": {},
   "outputs": [],
   "source": [
    "\n",
    "train_data_dict ,test_data_dict = data_module.key_assign(trainingX = trainX  , \n",
    "                       testingX = testX, \n",
    "                       trainingY = trainY, \n",
    "                       testingY = testY)\n",
    "train_data_dict ,test_data_dict = data_module.transform(train_data_dict ,test_data_dict)\n"
   ]
  },
  {
   "cell_type": "code",
   "execution_count": 13,
   "metadata": {},
   "outputs": [
    {
     "name": "stdout",
     "output_type": "stream",
     "text": [
      "train_data_x_feature shape : torch.Size([18, 4, 2])\n",
      "train_data_y_label shape : torch.Size([18, 1, 1])\n",
      "test_data_x_feature shape : torch.Size([6, 4, 2])\n",
      "test_data_y_label shape : torch.Size([6, 1, 1])\n"
     ]
    }
   ],
   "source": [
    "data_module.sanity_check(train_data_dict , test_data_dict)"
   ]
  },
  {
   "cell_type": "markdown",
   "metadata": {},
   "source": [
    "## Data Iterator\n",
    "Iterator is created to separate the data into several batches to fasten the training process.\n",
    ">**Instruction** : <br>\n",
    "Use `data_module.iterator` to create data iterator."
   ]
  },
  {
   "cell_type": "code",
   "execution_count": 14,
   "metadata": {},
   "outputs": [],
   "source": [
    "train_iter , test_iter = data_module.iterator(train_data_dict ,test_data_dict,batch_size = batch_size)"
   ]
  },
  {
   "cell_type": "markdown",
   "metadata": {},
   "source": [
    "# Step 2 : LSTM Model Configuration \n",
    "Please refer to [04 - LSTM_Univariate_SingleStep # Step 2 : LSTM Model Configuration ](./04%20-%20LSTM_Univariate_SingleStep.ipynb) for the explanation"
   ]
  },
  {
   "cell_type": "markdown",
   "metadata": {},
   "source": [
    "## Input Model\n",
    "The model is initiated with the following required attributes: **number of input layer**, **output layer** and **hidden layer**.\n",
    "\n",
    "How to Use : \n",
    "\n",
    "1. Select one of the model base on the application as below and comment out other models\n",
    "2. IF use Vanilla LSTM, set num_layer = 1 and use `model = LSTM()`\n",
    "3. IF use stacked LSTM, set num_layer more than 1 and use `model = LSTM()`\n",
    "4. IF use Bidirectional LSTM, use  `model = BidirectionalLSTM()`\n",
    "\n",
    ">**Instruction** : <br>\n",
    "Import the LSTM model from `deep_learning_module`. You are required to import both Vanilla LSTM and Bidirectional LSTM and save it as `model` <br>\n",
    "\n",
    "*Feel free to comment out one of the model to use it*"
   ]
  },
  {
   "cell_type": "code",
   "execution_count": 15,
   "metadata": {},
   "outputs": [],
   "source": [
    "#seed\n",
    "torch.manual_seed(123)\n",
    "\n",
    "#Arguments for LSTM model\n",
    "hidden_dim = 32\n",
    "number_of_time_series = trainX.shape[2] \n",
    "\n",
    "#1 for vanila LSTM , >1 is mean stacked LSTM\n",
    "num_layers = 1\n",
    "\n",
    "#Vanila , Stacked LSTM\n",
    "model = deep_learning_module.LSTM(n_feature = number_of_time_series, \n",
    "                                  hidden_dim = hidden_dim ,\n",
    "                                  num_layers = num_layers , \n",
    "                                  n_step = n_step )\n",
    "\n",
    "#Bidirectional LSTM\n",
    "# model = deep_learning_module.BidirectionalLSTM(n_feature = number_of_time_series, \n",
    "#                                                hidden_dim = hidden_dim ,\n",
    "#                                                num_layers = num_layers , \n",
    "#                                                n_step = n_step)"
   ]
  },
  {
   "cell_type": "code",
   "execution_count": 16,
   "metadata": {},
   "outputs": [
    {
     "name": "stdout",
     "output_type": "stream",
     "text": [
      "===================================================\n",
      "       Kernel Shape Output Shape  Params  Mult-Adds\n",
      "Layer                                              \n",
      "0_lstm            -  [10, 4, 32]    4608       4352\n",
      "1_fc        [32, 1]      [10, 1]      33         32\n",
      "---------------------------------------------------\n",
      "                      Totals\n",
      "Total params            4641\n",
      "Trainable params        4641\n",
      "Non-trainable params       0\n",
      "Mult-Adds               4384\n",
      "===================================================\n",
      "       Kernel Shape Output Shape  Params  Mult-Adds\n",
      "Layer                                              \n",
      "0_lstm            -  [10, 4, 32]    4608       4352\n",
      "1_fc        [32, 1]      [10, 1]      33         32\n"
     ]
    }
   ],
   "source": [
    "# print the summary of the LSTM model\n",
    "inputs = torch.zeros((batch_size,window_size,trainX.shape[2]),dtype=torch.float) # batch size , seq_length , input_dim\n",
    "print(summary(model,inputs))"
   ]
  },
  {
   "cell_type": "markdown",
   "metadata": {},
   "source": [
    "Define the MSE as loss function and use Adam as the model optimizer"
   ]
  },
  {
   "cell_type": "code",
   "execution_count": 17,
   "metadata": {},
   "outputs": [],
   "source": [
    "#loss function \n",
    "loss_fn = torch.nn.MSELoss()\n",
    "\n",
    "#optimiser\n",
    "optimizer = torch.optim.Adam(model.parameters(), lr=learning_rate)"
   ]
  },
  {
   "cell_type": "markdown",
   "metadata": {},
   "source": [
    "# Step 3 : Training\n",
    ">**Instruction** : <br>\n",
    "Use `deep_learning_module.training` to train the model.\n"
   ]
  },
  {
   "cell_type": "code",
   "execution_count": 18,
   "metadata": {},
   "outputs": [],
   "source": [
    "#seed\n",
    "torch.manual_seed(123)\n",
    "\n",
    "# Start Training\n",
    "train_loss,val_loss = deep_learning_module.training(num_epochs= num_epochs ,\n",
    "                                                    train_iter = train_iter,\n",
    "                                                    test_iter = test_iter ,\n",
    "                                                    optimizer = optimizer,\n",
    "                                                    loss_fn = loss_fn,\n",
    "                                                    model = model)"
   ]
  },
  {
   "cell_type": "markdown",
   "metadata": {},
   "source": [
    "# Step 4 : Validation\n",
    "A train loss and val loss is plotted to define how well the data is fits into the model"
   ]
  },
  {
   "cell_type": "code",
   "execution_count": 19,
   "metadata": {},
   "outputs": [
    {
     "data": {
      "image/png": "[encoded data removed]",
      "text/plain": [
       "<Figure size 720x432 with 1 Axes>"
      ]
     },
     "metadata": {
      "needs_background": "light"
     },
     "output_type": "display_data"
    },
    {
     "name": "stdout",
     "output_type": "stream",
     "text": [
      "Epoch : 0 , training loss : 1.739800535970264 , validation loss : 13.694636344909668\n",
      "Epoch : 1 , training loss : 1.5272985365655687 , validation loss : 12.2131986618042\n",
      "Epoch : 2 , training loss : 1.2830836706691318 , validation loss : 10.366715431213379\n",
      "Epoch : 3 , training loss : 0.9808756212393442 , validation loss : 8.00965404510498\n",
      "Epoch : 4 , training loss : 0.6180358628431956 , validation loss : 5.261457920074463\n",
      "Epoch : 5 , training loss : 0.2502811493145095 , validation loss : 2.6663806438446045\n",
      "Epoch : 6 , training loss : 0.040401791946755514 , validation loss : 0.9466440081596375\n",
      "Epoch : 7 , training loss : 0.14782404320107567 , validation loss : 0.398113489151001\n",
      "Epoch : 8 , training loss : 0.2219762975970904 , validation loss : 0.44134053587913513\n",
      "Epoch : 9 , training loss : 0.14440281896127594 , validation loss : 0.775478184223175\n",
      "Epoch : 10 , training loss : 0.07480944030814701 , validation loss : 1.3172072172164917\n",
      "Epoch : 11 , training loss : 0.05478303051657147 , validation loss : 1.8970232009887695\n",
      "Epoch : 12 , training loss : 0.06044874754216936 , validation loss : 2.3289871215820312\n",
      "Epoch : 13 , training loss : 0.0667660567495558 , validation loss : 2.5155489444732666\n",
      "Epoch : 14 , training loss : 0.06330915209319857 , validation loss : 2.458608388900757\n",
      "Epoch : 15 , training loss : 0.051453578803274364 , validation loss : 2.222048044204712\n",
      "Epoch : 16 , training loss : 0.038828428420755595 , validation loss : 1.896986961364746\n",
      "Epoch : 17 , training loss : 0.032704409625795156 , validation loss : 1.5751246213912964\n",
      "Epoch : 18 , training loss : 0.03367195982072088 , validation loss : 1.325283408164978\n",
      "Epoch : 19 , training loss : 0.03525574588113361 , validation loss : 1.1795614957809448\n",
      "Epoch : 20 , training loss : 0.03178729944758945 , validation loss : 1.1364787817001343\n",
      "Epoch : 21 , training loss : 0.025074798199865553 , validation loss : 1.1734251976013184\n",
      "Epoch : 22 , training loss : 0.02082782280113962 , validation loss : 1.2562775611877441\n",
      "Epoch : 23 , training loss : 0.02129068784415722 , validation loss : 1.346335768699646\n",
      "Epoch : 24 , training loss : 0.023794032219383452 , validation loss : 1.4094923734664917\n",
      "Epoch : 25 , training loss : 0.02457310466302766 , validation loss : 1.4258408546447754\n",
      "Epoch : 26 , training loss : 0.022281500200430553 , validation loss : 1.3942354917526245\n",
      "Epoch : 27 , training loss : 0.018449697643518448 , validation loss : 1.3296091556549072\n",
      "Epoch : 28 , training loss : 0.015553870548804602 , validation loss : 1.2550419569015503\n",
      "Epoch : 29 , training loss : 0.014688183863957724 , validation loss : 1.1923965215682983\n",
      "Epoch : 30 , training loss : 0.014796491712331772 , validation loss : 1.1551152467727661\n",
      "Epoch : 31 , training loss : 0.014137225639488962 , validation loss : 1.145167350769043\n",
      "Epoch : 32 , training loss : 0.012307068539990319 , validation loss : 1.1541354656219482\n",
      "Epoch : 33 , training loss : 0.01041583489212725 , validation loss : 1.1674264669418335\n",
      "Epoch : 34 , training loss : 0.009493588469922543 , validation loss : 1.1702839136123657\n",
      "Epoch : 35 , training loss : 0.009347684164014127 , validation loss : 1.1535751819610596\n",
      "Epoch : 36 , training loss : 0.009040774674051337 , validation loss : 1.1169042587280273\n",
      "Epoch : 37 , training loss : 0.008098944400747618 , validation loss : 1.0676504373550415\n",
      "Epoch : 38 , training loss : 0.006944352812651131 , validation loss : 1.0167053937911987\n",
      "Epoch : 39 , training loss : 0.006160623859614134 , validation loss : 0.9733290672302246\n",
      "Epoch : 40 , training loss : 0.005716641640497578 , validation loss : 0.9416100382804871\n",
      "Epoch : 41 , training loss : 0.005190918842951457 , validation loss : 0.919717013835907\n",
      "Epoch : 42 , training loss : 0.004484480453862084 , validation loss : 0.9017475247383118\n",
      "Epoch : 43 , training loss : 0.0038909437652263376 , validation loss : 0.8810770511627197\n",
      "Epoch : 44 , training loss : 0.0035518761724233627 , validation loss : 0.8536508083343506\n",
      "Epoch : 45 , training loss : 0.003251003955180446 , validation loss : 0.8196660876274109\n",
      "Epoch : 46 , training loss : 0.0028192926353464523 , validation loss : 0.782916247844696\n",
      "Epoch : 47 , training loss : 0.0023915766117473445 , validation loss : 0.7484197616577148\n",
      "Epoch : 48 , training loss : 0.002103184336899883 , validation loss : 0.7198455929756165\n",
      "Epoch : 49 , training loss : 0.0018588629318401217 , validation loss : 0.6980703473091125\n",
      "Epoch : 50 , training loss : 0.0015725674780292644 , validation loss : 0.6813092827796936\n",
      "Epoch : 51 , training loss : 0.0013316454650420281 , validation loss : 0.66645747423172\n",
      "Epoch : 52 , training loss : 0.0011802079518222148 , validation loss : 0.6508183479309082\n",
      "Epoch : 53 , training loss : 0.0010284317864312066 , validation loss : 0.6333242058753967\n",
      "Epoch : 54 , training loss : 0.0008576819802530938 , validation loss : 0.6147090792655945\n",
      "Epoch : 55 , training loss : 0.0007327519189048973 , validation loss : 0.5967203974723816\n",
      "Epoch : 56 , training loss : 0.0006386615439421601 , validation loss : 0.5809822678565979\n",
      "Epoch : 57 , training loss : 0.0005407855399729063 , validation loss : 0.568156898021698\n",
      "Epoch : 58 , training loss : 0.0004681776497616536 , validation loss : 0.5577590465545654\n",
      "Epoch : 59 , training loss : 0.00041856141049518355 , validation loss : 0.548586905002594\n",
      "Epoch : 60 , training loss : 0.00036593962835872336 , validation loss : 0.5394505858421326\n",
      "Epoch : 61 , training loss : 0.0003271605011023995 , validation loss : 0.5297912955284119\n",
      "Epoch : 62 , training loss : 0.00030162991121566546 , validation loss : 0.5198855996131897\n",
      "Epoch : 63 , training loss : 0.00027419570930457365 , validation loss : 0.5105538964271545\n",
      "Epoch : 64 , training loss : 0.0002566952154868179 , validation loss : 0.5025871396064758\n",
      "Epoch : 65 , training loss : 0.0002456630544555891 , validation loss : 0.49627676606178284\n",
      "Epoch : 66 , training loss : 0.00023263134547354033 , validation loss : 0.49130821228027344\n",
      "Epoch : 67 , training loss : 0.00022612918433474583 , validation loss : 0.4870366156101227\n",
      "Epoch : 68 , training loss : 0.00022184462836270945 , validation loss : 0.48291170597076416\n",
      "Epoch : 69 , training loss : 0.00021640967073229453 , validation loss : 0.478765606880188\n",
      "Epoch : 70 , training loss : 0.00021389144401635148 , validation loss : 0.47480225563049316\n",
      "Epoch : 71 , training loss : 0.00021123136199700335 , validation loss : 0.4713580906391144\n",
      "Epoch : 72 , training loss : 0.0002095665954079272 , validation loss : 0.4686422348022461\n",
      "Epoch : 73 , training loss : 0.0002092783462204453 , validation loss : 0.4666067361831665\n",
      "Epoch : 74 , training loss : 0.00020766487998318754 , validation loss : 0.46499648690223694\n",
      "Epoch : 75 , training loss : 0.0002064559990281446 , validation loss : 0.4635086953639984\n",
      "Epoch : 76 , training loss : 0.00020528942534130893 , validation loss : 0.46195828914642334\n",
      "Epoch : 77 , training loss : 0.0002039726338504503 , validation loss : 0.46035632491111755\n",
      "Epoch : 78 , training loss : 0.0002032571711525735 , validation loss : 0.4588625431060791\n",
      "Epoch : 79 , training loss : 0.00020199378680748245 , validation loss : 0.4576486647129059\n",
      "Epoch : 80 , training loss : 0.00020051700670996474 , validation loss : 0.45676493644714355\n",
      "Epoch : 81 , training loss : 0.00019905285929174474 , validation loss : 0.45610904693603516\n",
      "Epoch : 82 , training loss : 0.0001975690667879664 , validation loss : 0.4555068016052246\n",
      "Epoch : 83 , training loss : 0.00019635006093368348 , validation loss : 0.45483824610710144\n",
      "Epoch : 84 , training loss : 0.00019489645718648616 , validation loss : 0.45410260558128357\n",
      "Epoch : 85 , training loss : 0.00019332071113037981 , validation loss : 0.4533867835998535\n",
      "Epoch : 86 , training loss : 0.00019182989975282302 , validation loss : 0.4527725875377655\n",
      "Epoch : 87 , training loss : 0.0001904116312895591 , validation loss : 0.452271431684494\n",
      "Epoch : 88 , training loss : 0.00018912595664409714 , validation loss : 0.4518209993839264\n",
      "Epoch : 89 , training loss : 0.00018775209415859231 , validation loss : 0.4513390064239502\n",
      "Epoch : 90 , training loss : 0.0001863078230396948 , validation loss : 0.4507741630077362\n",
      "Epoch : 91 , training loss : 0.00018489917339239683 , validation loss : 0.45013168454170227\n",
      "Epoch : 92 , training loss : 0.00018356696657267294 , validation loss : 0.4494543969631195\n",
      "Epoch : 93 , training loss : 0.00018231767009840242 , validation loss : 0.44878605008125305\n",
      "Epoch : 94 , training loss : 0.00018103093639688773 , validation loss : 0.44814133644104004\n",
      "Epoch : 95 , training loss : 0.0001797071648373579 , validation loss : 0.44749927520751953\n",
      "Epoch : 96 , training loss : 0.0001784034442001333 , validation loss : 0.4468216896057129\n",
      "Epoch : 97 , training loss : 0.00017714841588814225 , validation loss : 0.4460873305797577\n",
      "Epoch : 98 , training loss : 0.00017593228161179772 , validation loss : 0.4453047215938568\n",
      "Epoch : 99 , training loss : 0.0001747019107117214 , validation loss : 0.44450435042381287\n",
      "Epoch : 100 , training loss : 0.00017346176577525007 , validation loss : 0.44371065497398376\n",
      "Epoch : 101 , training loss : 0.00017223977839522477 , validation loss : 0.4429243803024292\n",
      "Epoch : 102 , training loss : 0.00017105104052461684 , validation loss : 0.4421267509460449\n",
      "Epoch : 103 , training loss : 0.00016987701949094317 , validation loss : 0.4412979185581207\n",
      "Epoch : 104 , training loss : 0.00016869056950478503 , validation loss : 0.440435528755188\n",
      "Epoch : 105 , training loss : 0.00016750030206619867 , validation loss : 0.43955135345458984\n",
      "Epoch : 106 , training loss : 0.0001663308018275226 , validation loss : 0.43866169452667236\n",
      "Epoch : 107 , training loss : 0.0001651815610886034 , validation loss : 0.43777504563331604\n",
      "Epoch : 108 , training loss : 0.0001640392034055872 , validation loss : 0.436888188123703\n",
      "Epoch : 109 , training loss : 0.0001628886934162842 , validation loss : 0.43599334359169006\n",
      "Epoch : 110 , training loss : 0.00016174074618094083 , validation loss : 0.4350855052471161\n",
      "Epoch : 111 , training loss : 0.00016060731367259804 , validation loss : 0.43416669964790344\n",
      "Epoch : 112 , training loss : 0.00015949158761132922 , validation loss : 0.433245450258255\n",
      "Epoch : 113 , training loss : 0.00015838017700136534 , validation loss : 0.4323294162750244\n",
      "Epoch : 114 , training loss : 0.00015726676146085892 , validation loss : 0.43142059445381165\n",
      "Epoch : 115 , training loss : 0.00015616338189122162 , validation loss : 0.43051376938819885\n",
      "Epoch : 116 , training loss : 0.000155072369832649 , validation loss : 0.4296046197414398\n",
      "Epoch : 117 , training loss : 0.00015399189659446065 , validation loss : 0.42869067192077637\n",
      "Epoch : 118 , training loss : 0.0001529140524022902 , validation loss : 0.42777717113494873\n",
      "Epoch : 119 , training loss : 0.0001518414032438563 , validation loss : 0.42686787247657776\n",
      "Epoch : 120 , training loss : 0.00015077768572761366 , validation loss : 0.42596447467803955\n",
      "Epoch : 121 , training loss : 0.00014972571645759873 , validation loss : 0.4250655472278595\n",
      "Epoch : 122 , training loss : 0.00014867960675878244 , validation loss : 0.42416784167289734\n",
      "Epoch : 123 , training loss : 0.0001476388942036364 , validation loss : 0.42327022552490234\n",
      "Epoch : 124 , training loss : 0.00014660360789599104 , validation loss : 0.42237409949302673\n",
      "Epoch : 125 , training loss : 0.0001455785742210638 , validation loss : 0.421482115983963\n",
      "Epoch : 126 , training loss : 0.00014456363149090775 , validation loss : 0.42059561610221863\n",
      "Epoch : 127 , training loss : 0.00014355365904824188 , validation loss : 0.41971370577812195\n",
      "Epoch : 128 , training loss : 0.00014255185993129594 , validation loss : 0.41883429884910583\n",
      "Epoch : 129 , training loss : 0.00014155482252438864 , validation loss : 0.4179566204547882\n",
      "Epoch : 130 , training loss : 0.00014056913318604024 , validation loss : 0.41708096861839294\n",
      "Epoch : 131 , training loss : 0.0001395900940729512 , validation loss : 0.4162079095840454\n",
      "Epoch : 132 , training loss : 0.0001386191652272828 , validation loss : 0.4153387248516083\n",
      "Epoch : 133 , training loss : 0.00013765417356302755 , validation loss : 0.4144729673862457\n",
      "Epoch : 134 , training loss : 0.00013669758239605775 , validation loss : 0.4136097729206085\n",
      "Epoch : 135 , training loss : 0.00013574944427495616 , validation loss : 0.41274774074554443\n",
      "Epoch : 136 , training loss : 0.00013480687872894728 , validation loss : 0.4118877649307251\n",
      "Epoch : 137 , training loss : 0.00013387375090840377 , validation loss : 0.4110301733016968\n",
      "Epoch : 138 , training loss : 0.00013294707847914347 , validation loss : 0.4101756811141968\n",
      "Epoch : 139 , training loss : 0.00013202784531232383 , validation loss : 0.409324049949646\n",
      "Epoch : 140 , training loss : 0.00013111684852952344 , validation loss : 0.4084745943546295\n",
      "Epoch : 141 , training loss : 0.00013021313902249353 , validation loss : 0.40762653946876526\n",
      "Epoch : 142 , training loss : 0.00012931640392505668 , validation loss : 0.4067807197570801\n",
      "Epoch : 143 , training loss : 0.00012842635139046857 , validation loss : 0.4059372842311859\n",
      "Epoch : 144 , training loss : 0.00012754685303661972 , validation loss : 0.405096173286438\n",
      "Epoch : 145 , training loss : 0.00012667209860713532 , validation loss : 0.4042573869228363\n",
      "Epoch : 146 , training loss : 0.000125805227273506 , validation loss : 0.4034207761287689\n",
      "Epoch : 147 , training loss : 0.00012494554296912005 , validation loss : 0.4025862514972687\n",
      "Epoch : 148 , training loss : 0.00012409358573172035 , validation loss : 0.40175387263298035\n",
      "Epoch : 149 , training loss : 0.00012324824961574955 , validation loss : 0.4009235203266144\n",
      "Epoch : 150 , training loss : 0.00012241158320749592 , validation loss : 0.40009573101997375\n",
      "Epoch : 151 , training loss : 0.00012158000916113249 , validation loss : 0.3992706537246704\n",
      "Epoch : 152 , training loss : 0.0001207569722383697 , validation loss : 0.3984473645687103\n",
      "Epoch : 153 , training loss : 0.0001199398660295022 , validation loss : 0.39762648940086365\n",
      "Epoch : 154 , training loss : 0.00011913226302971857 , validation loss : 0.3968081474304199\n",
      "Epoch : 155 , training loss : 0.00011832893101705445 , validation loss : 0.3959921598434448\n",
      "Epoch : 156 , training loss : 0.00011753283292313831 , validation loss : 0.39517879486083984\n",
      "Epoch : 157 , training loss : 0.00011674622510327026 , validation loss : 0.39436784386634827\n",
      "Epoch : 158 , training loss : 0.00011596428844819052 , validation loss : 0.3935595452785492\n",
      "Epoch : 159 , training loss : 0.00011518905295007344 , validation loss : 0.3927536904811859\n",
      "Epoch : 160 , training loss : 0.00011442198107639949 , validation loss : 0.39195024967193604\n",
      "Epoch : 161 , training loss : 0.00011366061678725398 , validation loss : 0.3911494314670563\n",
      "Epoch : 162 , training loss : 0.00011290601267117179 , validation loss : 0.39035114645957947\n",
      "Epoch : 163 , training loss : 0.00011215837245496611 , validation loss : 0.3895557224750519\n",
      "Epoch : 164 , training loss : 0.00011141788854729384 , validation loss : 0.38876286149024963\n",
      "Epoch : 165 , training loss : 0.00011068233127136611 , validation loss : 0.3879725933074951\n",
      "Epoch : 166 , training loss : 0.00010995404429397442 , validation loss : 0.3871851861476898\n",
      "Epoch : 167 , training loss : 0.00010923258539858377 , validation loss : 0.3864001929759979\n",
      "Epoch : 168 , training loss : 0.00010851733451191749 , validation loss : 0.38561829924583435\n",
      "Epoch : 169 , training loss : 0.0001078083870298643 , validation loss : 0.3848387897014618\n",
      "Epoch : 170 , training loss : 0.0001071054672744746 , validation loss : 0.38406214118003845\n",
      "Epoch : 171 , training loss : 0.00010640925514356543 , validation loss : 0.3832881450653076\n",
      "Epoch : 172 , training loss : 0.00010571915562549193 , validation loss : 0.38251686096191406\n",
      "Epoch : 173 , training loss : 0.00010503545733323942 , validation loss : 0.381748765707016\n",
      "Epoch : 174 , training loss : 0.00010435706402252738 , validation loss : 0.3809833526611328\n",
      "Epoch : 175 , training loss : 0.0001036847784740126 , validation loss : 0.38022032380104065\n",
      "Epoch : 176 , training loss : 0.00010301915608579293 , validation loss : 0.37945985794067383\n",
      "Epoch : 177 , training loss : 0.00010235869558528066 , validation loss : 0.37870240211486816\n",
      "Epoch : 178 , training loss : 0.00010170535097131506 , validation loss : 0.3779478073120117\n",
      "Epoch : 179 , training loss : 0.00010105645924340934 , validation loss : 0.37719640135765076\n",
      "Epoch : 180 , training loss : 0.0001004145839639629 , validation loss : 0.37644731998443604\n",
      "Epoch : 181 , training loss : 9.977791665328873e-05 , validation loss : 0.37570083141326904\n",
      "Epoch : 182 , training loss : 9.914604500712206e-05 , validation loss : 0.37495747208595276\n",
      "Epoch : 183 , training loss : 9.852039511315525e-05 , validation loss : 0.3742167055606842\n",
      "Epoch : 184 , training loss : 9.790075030953933e-05 , validation loss : 0.37347927689552307\n",
      "Epoch : 185 , training loss : 9.728538296056083e-05 , validation loss : 0.3727443516254425\n",
      "Epoch : 186 , training loss : 9.667723012777667e-05 , validation loss : 0.37201178073883057\n",
      "Epoch : 187 , training loss : 9.607300631210415e-05 , validation loss : 0.37128233909606934\n",
      "Epoch : 188 , training loss : 9.547509964452022e-05 , validation loss : 0.3705556094646454\n",
      "Epoch : 189 , training loss : 9.4881936092861e-05 , validation loss : 0.36983171105384827\n",
      "Epoch : 190 , training loss : 9.429352940060198e-05 , validation loss : 0.3691106140613556\n",
      "Epoch : 191 , training loss : 9.371123774649782e-05 , validation loss : 0.36839213967323303\n",
      "Epoch : 192 , training loss : 9.313304164809072e-05 , validation loss : 0.36767682433128357\n",
      "Epoch : 193 , training loss : 9.256131872664102e-05 , validation loss : 0.3669642210006714\n",
      "Epoch : 194 , training loss : 9.199432921983923e-05 , validation loss : 0.36625435948371887\n",
      "Epoch : 195 , training loss : 9.14315169211477e-05 , validation loss : 0.36554694175720215\n",
      "Epoch : 196 , training loss : 9.087335638469085e-05 , validation loss : 0.36484232544898987\n",
      "Epoch : 197 , training loss : 9.032124621121006e-05 , validation loss : 0.3641407787799835\n",
      "Epoch : 198 , training loss : 8.977349918697857e-05 , validation loss : 0.36344191431999207\n",
      "Epoch : 199 , training loss : 8.92308081448492e-05 , validation loss : 0.36274591088294983\n",
      "Epoch : 200 , training loss : 8.869182703266334e-05 , validation loss : 0.36205223202705383\n",
      "Epoch : 201 , training loss : 8.815803933733453e-05 , validation loss : 0.36136147379875183\n",
      "Epoch : 202 , training loss : 8.762944344198331e-05 , validation loss : 0.3606736361980438\n",
      "Epoch : 203 , training loss : 8.710377894911087e-05 , validation loss : 0.35998836159706116\n",
      "Epoch : 204 , training loss : 8.658546236498903e-05 , validation loss : 0.3593060076236725\n",
      "Epoch : 205 , training loss : 8.60699300473142e-05 , validation loss : 0.35862645506858826\n",
      "Epoch : 206 , training loss : 8.555898724201445e-05 , validation loss : 0.35794904828071594\n",
      "Epoch : 207 , training loss : 8.505240758596401e-05 , validation loss : 0.35727453231811523\n",
      "Epoch : 208 , training loss : 8.454974077823054e-05 , validation loss : 0.35660314559936523\n",
      "Epoch : 209 , training loss : 8.405215420579124e-05 , validation loss : 0.3559339940547943\n",
      "Epoch : 210 , training loss : 8.355843682592321e-05 , validation loss : 0.355267733335495\n",
      "Epoch : 211 , training loss : 8.306919901062631e-05 , validation loss : 0.354604035615921\n",
      "Epoch : 212 , training loss : 8.258301467220817e-05 , validation loss : 0.3539431393146515\n",
      "Epoch : 213 , training loss : 8.210247243469994e-05 , validation loss : 0.3532843589782715\n",
      "Epoch : 214 , training loss : 8.16254840982664e-05 , validation loss : 0.3526287376880646\n",
      "Epoch : 215 , training loss : 8.11521329322002e-05 , validation loss : 0.35197576880455017\n",
      "Epoch : 216 , training loss : 8.068315785041907e-05 , validation loss : 0.35132527351379395\n",
      "Epoch : 217 , training loss : 8.021779972801192e-05 , validation loss : 0.3506772220134735\n",
      "Epoch : 218 , training loss : 7.97569931213123e-05 , validation loss : 0.3500320017337799\n",
      "Epoch : 219 , training loss : 7.929951890319999e-05 , validation loss : 0.34938952326774597\n",
      "Epoch : 220 , training loss : 7.884606586432912e-05 , validation loss : 0.34874942898750305\n",
      "Epoch : 221 , training loss : 7.839597108411706e-05 , validation loss : 0.3481117784976959\n",
      "Epoch : 222 , training loss : 7.794967597065907e-05 , validation loss : 0.3474767506122589\n",
      "Epoch : 223 , training loss : 7.750768660722922e-05 , validation loss : 0.3468441069126129\n",
      "Epoch : 224 , training loss : 7.706902073954957e-05 , validation loss : 0.34621429443359375\n",
      "Epoch : 225 , training loss : 7.663326848867453e-05 , validation loss : 0.34558650851249695\n",
      "Epoch : 226 , training loss : 7.62021340455653e-05 , validation loss : 0.3449613153934479\n",
      "Epoch : 227 , training loss : 7.577386794663552e-05 , validation loss : 0.344338983297348\n",
      "Epoch : 228 , training loss : 7.534975076042529e-05 , validation loss : 0.34371957182884216\n",
      "Epoch : 229 , training loss : 7.492820764633102e-05 , validation loss : 0.34310176968574524\n",
      "Epoch : 230 , training loss : 7.451098160042117e-05 , validation loss : 0.3424864709377289\n",
      "Epoch : 231 , training loss : 7.40965341618802e-05 , validation loss : 0.34187400341033936\n",
      "Epoch : 232 , training loss : 7.368511028794778e-05 , validation loss : 0.3412637412548065\n",
      "Epoch : 233 , training loss : 7.327815951106863e-05 , validation loss : 0.34065601229667664\n",
      "Epoch : 234 , training loss : 7.287413043539143e-05 , validation loss : 0.3400508165359497\n",
      "Epoch : 235 , training loss : 7.247220896210315e-05 , validation loss : 0.33944761753082275\n",
      "Epoch : 236 , training loss : 7.207508962084021e-05 , validation loss : 0.3388470709323883\n",
      "Epoch : 237 , training loss : 7.167989840834505e-05 , validation loss : 0.33824869990348816\n",
      "Epoch : 238 , training loss : 7.128883993977474e-05 , validation loss : 0.3376530408859253\n",
      "Epoch : 239 , training loss : 7.090042345225811e-05 , validation loss : 0.33705925941467285\n",
      "Epoch : 240 , training loss : 7.051469260154085e-05 , validation loss : 0.3364681005477905\n",
      "Epoch : 241 , training loss : 7.01324728045923e-05 , validation loss : 0.3358790874481201\n",
      "Epoch : 242 , training loss : 6.975397021354486e-05 , validation loss : 0.3352925479412079\n",
      "Epoch : 243 , training loss : 6.937700042423482e-05 , validation loss : 0.33470821380615234\n",
      "Epoch : 244 , training loss : 6.900347458819549e-05 , validation loss : 0.33412599563598633\n",
      "Epoch : 245 , training loss : 6.863329569265868e-05 , validation loss : 0.3335462510585785\n",
      "Epoch : 246 , training loss : 6.826575150221793e-05 , validation loss : 0.33296889066696167\n",
      "Epoch : 247 , training loss : 6.790068760488389e-05 , validation loss : 0.33239349722862244\n",
      "Epoch : 248 , training loss : 6.753969986069326e-05 , validation loss : 0.331820547580719\n",
      "Epoch : 249 , training loss : 6.717910703931314e-05 , validation loss : 0.33124953508377075\n",
      "Epoch : 250 , training loss : 6.68237694804298e-05 , validation loss : 0.3306809067726135\n",
      "Epoch : 251 , training loss : 6.64700609276123e-05 , validation loss : 0.33011454343795776\n",
      "Epoch : 252 , training loss : 6.611973529086552e-05 , validation loss : 0.3295501470565796\n",
      "Epoch : 253 , training loss : 6.577107463575278e-05 , validation loss : 0.32898786664009094\n",
      "Epoch : 254 , training loss : 6.542576658022072e-05 , validation loss : 0.32842782139778137\n",
      "Epoch : 255 , training loss : 6.508256531863783e-05 , validation loss : 0.3278699815273285\n",
      "Epoch : 256 , training loss : 6.474325224796e-05 , validation loss : 0.3273145854473114\n",
      "Epoch : 257 , training loss : 6.440561911505129e-05 , validation loss : 0.3267609775066376\n",
      "Epoch : 258 , training loss : 6.406926210426415e-05 , validation loss : 0.32620951533317566\n",
      "Epoch : 259 , training loss : 6.373706855811179e-05 , validation loss : 0.3256599009037018\n",
      "Epoch : 260 , training loss : 6.34070501190662e-05 , validation loss : 0.32511255145072937\n",
      "Epoch : 261 , training loss : 6.30795778609657e-05 , validation loss : 0.32456740736961365\n",
      "Epoch : 262 , training loss : 6.275402200925682e-05 , validation loss : 0.3240242302417755\n",
      "Epoch : 263 , training loss : 6.243169668272862e-05 , validation loss : 0.3234829902648926\n",
      "Epoch : 264 , training loss : 6.211076227676433e-05 , validation loss : 0.3229435682296753\n",
      "Epoch : 265 , training loss : 6.17928938784947e-05 , validation loss : 0.32240650057792664\n",
      "Epoch : 266 , training loss : 6.147708538466961e-05 , validation loss : 0.32187125086784363\n",
      "Epoch : 267 , training loss : 6.116423739715376e-05 , validation loss : 0.3213381767272949\n",
      "Epoch : 268 , training loss : 6.0852842984281276e-05 , validation loss : 0.32080698013305664\n",
      "Epoch : 269 , training loss : 6.054438846250479e-05 , validation loss : 0.3202773332595825\n",
      "Epoch : 270 , training loss : 6.023798010169735e-05 , validation loss : 0.31974998116493225\n",
      "Epoch : 271 , training loss : 5.9933275123411375e-05 , validation loss : 0.3192248046398163\n",
      "Epoch : 272 , training loss : 5.963183017835642e-05 , validation loss : 0.3187013566493988\n",
      "Epoch : 273 , training loss : 5.9331376784636326e-05 , validation loss : 0.3181796967983246\n",
      "Epoch : 274 , training loss : 5.903337902661102e-05 , validation loss : 0.3176601231098175\n",
      "Epoch : 275 , training loss : 5.87384121091519e-05 , validation loss : 0.3171425759792328\n",
      "Epoch : 276 , training loss : 5.8445103301589065e-05 , validation loss : 0.31662651896476746\n",
      "Epoch : 277 , training loss : 5.815329172441529e-05 , validation loss : 0.31611260771751404\n",
      "Epoch : 278 , training loss : 5.786408008942898e-05 , validation loss : 0.31560036540031433\n",
      "Epoch : 279 , training loss : 5.757643197688999e-05 , validation loss : 0.31509003043174744\n",
      "Epoch : 280 , training loss : 5.7291524070832464e-05 , validation loss : 0.3145815432071686\n",
      "Epoch : 281 , training loss : 5.700865747510559e-05 , validation loss : 0.314074844121933\n",
      "Epoch : 282 , training loss : 5.672767656506039e-05 , validation loss : 0.3135700523853302\n",
      "Epoch : 283 , training loss : 5.644813103976453e-05 , validation loss : 0.3130669593811035\n",
      "Epoch : 284 , training loss : 5.617104236282305e-05 , validation loss : 0.31256577372550964\n",
      "Epoch : 285 , training loss : 5.589562109283482e-05 , validation loss : 0.3120664656162262\n",
      "Epoch : 286 , training loss : 5.562262352517185e-05 , validation loss : 0.3115687072277069\n",
      "Epoch : 287 , training loss : 5.5350955840872805e-05 , validation loss : 0.31107255816459656\n",
      "Epoch : 288 , training loss : 5.508208374117708e-05 , validation loss : 0.310578316450119\n",
      "Epoch : 289 , training loss : 5.481339071088264e-05 , validation loss : 0.3100860118865967\n",
      "Epoch : 290 , training loss : 5.454801349616092e-05 , validation loss : 0.30959513783454895\n",
      "Epoch : 291 , training loss : 5.428357366731184e-05 , validation loss : 0.3091059923171997\n",
      "Epoch : 292 , training loss : 5.402157047582376e-05 , validation loss : 0.30861878395080566\n",
      "Epoch : 293 , training loss : 5.376150026374186e-05 , validation loss : 0.30813321471214294\n",
      "Epoch : 294 , training loss : 5.3502907475275504e-05 , validation loss : 0.3076492249965668\n",
      "Epoch : 295 , training loss : 5.3246469987142416e-05 , validation loss : 0.30716684460639954\n",
      "Epoch : 296 , training loss : 5.299137612584875e-05 , validation loss : 0.30668649077415466\n",
      "Epoch : 297 , training loss : 5.273806446995069e-05 , validation loss : 0.3062073886394501\n",
      "Epoch : 298 , training loss : 5.248643962355951e-05 , validation loss : 0.30572962760925293\n",
      "Epoch : 299 , training loss : 5.223647652504345e-05 , validation loss : 0.30525410175323486\n"
     ]
    }
   ],
   "source": [
    "data_module.learning_curve(num_epochs = num_epochs,\n",
    "                           train_loss = train_loss ,\n",
    "                           val_loss = val_loss)\n",
    "                           "
   ]
  },
  {
   "cell_type": "markdown",
   "metadata": {},
   "source": [
    "# Step 5 : Evaluation\n",
    "This section is to inference the model by feeding in testing data, determining the output forecast value and calculating the RMSE. For this tutorial, we will use the function in `data_module` to run in each section.\n",
    "\n",
    "It consists of 4 sections :\n",
    "\n",
    "Section 1 : Feed in the train and test data to the model <br>\n",
    "Section 2 : Reshape both to the original data dimension <br> \n",
    "Section 3 : Invert the scaling back to the original data value <br>\n",
    "Section 4 : Calculate the RMSE of train and test data"
   ]
  },
  {
   "cell_type": "code",
   "execution_count": 20,
   "metadata": {},
   "outputs": [],
   "source": [
    "# Section 1 : make predictions\n",
    "y_train_prediction = model(train_data_dict['train_data_x_feature'])\n",
    "y_test_prediction = model(test_data_dict['test_data_x_feature'])\n"
   ]
  },
  {
   "cell_type": "code",
   "execution_count": 21,
   "metadata": {},
   "outputs": [],
   "source": [
    "# Assign evaluation key\n",
    "prediction , output = data_module.key_assign_evaluation(y_train_prediction,\n",
    "    y_test_prediction,\n",
    "    train_data_dict,\n",
    "    test_data_dict)\n",
    "# Squeeze the output dimension\n",
    "output_data = data_module.squeeze_dimension(output)"
   ]
  },
  {
   "cell_type": "code",
   "execution_count": 22,
   "metadata": {},
   "outputs": [
    {
     "name": "stdout",
     "output_type": "stream",
     "text": [
      "train_data_output shape : torch.Size([18, 1])\n",
      "test_data_output shape : torch.Size([6, 1])\n"
     ]
    }
   ],
   "source": [
    "data_module.sanity_check(data_1 = output_data,data_2 = {})"
   ]
  },
  {
   "cell_type": "code",
   "execution_count": 23,
   "metadata": {},
   "outputs": [],
   "source": [
    "# Section 3 : Invert predictions\n",
    "prediction = data_module.inverse_scaler(prediction,scaler)\n",
    "output_data  = data_module.inverse_scaler(output_data ,scaler)"
   ]
  },
  {
   "cell_type": "code",
   "execution_count": 24,
   "metadata": {},
   "outputs": [
    {
     "name": "stdout",
     "output_type": "stream",
     "text": [
      "train_data_prediction shape : (18, 1)\n",
      "test_data_prediction shape : (6, 1)\n",
      "train_data_output shape : (18, 1)\n",
      "test_data_output shape : (6, 1)\n"
     ]
    }
   ],
   "source": [
    "data_module.sanity_check(data_1 = prediction,data_2 = output_data )"
   ]
  },
  {
   "cell_type": "code",
   "execution_count": 25,
   "metadata": {},
   "outputs": [
    {
     "name": "stdout",
     "output_type": "stream",
     "text": [
      "Test Data\t\t\tForecast\n",
      "[485.]\t\t[461.88516]\n",
      "[504.99997]\t\t[472.57318]\n",
      "[525.]\t\t[481.9189]\n",
      "[545.]\t\t[490.07333]\n",
      "[565.]\t\t[497.18793]\n",
      "[585.]\t\t[503.4051]\n"
     ]
    }
   ],
   "source": [
    "# List the forecast value\n",
    "data_module.list_forecast_value(output_data,prediction) "
   ]
  },
  {
   "cell_type": "code",
   "execution_count": 26,
   "metadata": {},
   "outputs": [
    {
     "name": "stdout",
     "output_type": "stream",
     "text": [
      "Train Score: 0.71 RMSE\n",
      "Test Score: 54.34 RMSE\n"
     ]
    }
   ],
   "source": [
    "# Section 4 : Calculate the RMSE of train and test data\n",
    "trainScore,testScore = data_module.rmse(prediction,output_data)\n",
    "print('Train Score: %.2f RMSE' % (trainScore))\n",
    "print('Test Score: %.2f RMSE' % (testScore))"
   ]
  },
  {
   "cell_type": "markdown",
   "metadata": {},
   "source": [
    "# Step 6 : Forecast Plot"
   ]
  },
  {
   "cell_type": "markdown",
   "metadata": {},
   "source": [
    "Referring to the data sequence diagram (Figure 2) for the multivariate input, univariate output, the red box indicates a sliding window that contains 3 data points (which meant that `window_size = 3` in this case). You can find that the last data point within the red box is at the same location (`time series 1 = 30`,`time series 2 = 35`,`output series 3 = 65`).<br>\n",
    "\n",
    "If you are using the `single_step_plot` from `data_module` you can find that the time index for test data after sequence(window sliding) is using `test_time[window_size:]`. Due to Python's indexing properties, it will slide from the 4th position of the time index (the time index for `output series 3 = 85`).<br>\n",
    "\n",
    "To make sure your time index for test data after data sequencing is correct, you need to modify the `single_step_plot` by adding in `test_time[window_size - 1:] `if `multivariate = True`\n",
    "\n",
    "<img src = \"../../picture/Data Sequencing in Univariate Single Step.png\"   width=\"300\" height  =\"300\" align=\"center\" /><br>\n",
    "#### <center>Figure 1 : Data sequence diagram for univariate single step</center>\n",
    "<img src = \"../../picture/Multivariate Data Sequencing.png\"  width=\"300\" height  =\"300\" align=\"center\" /><br>\n",
    "#### <center>Figure 2 : Data sequence diagram for multivariate input , univariate output</center>\n",
    "\n",
    "As you can observe in below, the length for `test_time[window_size:] = 5` but `output_data['test_data_output']  = 6` and `prediction['test_data_prediction'].shape = 6`"
   ]
  },
  {
   "cell_type": "code",
   "execution_count": 27,
   "metadata": {},
   "outputs": [
    {
     "name": "stdout",
     "output_type": "stream",
     "text": [
      "Length of test time in single_step_plot function  = 5\n",
      "Length of test_data_output = 6\n",
      "Length of test_data_prediction  = 6\n",
      "Length of test time for test_time[window_size-1] = 6\n"
     ]
    }
   ],
   "source": [
    "print(f\"Length of test time in single_step_plot function  = {len(test_time[window_size:])}\")\n",
    "print(f\"Length of test_data_output = {len(output_data['test_data_output'])}\")\n",
    "print(f\"Length of test_data_prediction  = {len(prediction['test_data_prediction'])}\")\n",
    "print(f\"Length of test time for test_time[window_size-1] = {len(test_time[window_size-1:])}\")"
   ]
  },
  {
   "cell_type": "code",
   "execution_count": 28,
   "metadata": {},
   "outputs": [
    {
     "data": {
      "image/png": "[encoded data removed]",
      "text/plain": [
       "<Figure size 720x432 with 1 Axes>"
      ]
     },
     "metadata": {
      "needs_background": "light"
     },
     "output_type": "display_data"
    }
   ],
   "source": [
    "def single_step_plot(original_test_data,sequence_test_data,forecast_data,test_time,window_size,\n",
    "                     original_plot =False,multivariate = False):\n",
    "    sequence_test_time = test_time[window_size:]\n",
    "    plt.figure(figsize=(10,6))\n",
    "    \n",
    "    if multivariate:\n",
    "        sequence_test_time = test_time[window_size-1:]\n",
    "                                 \n",
    "    if original_plot:\n",
    "        plt.plot(test_time,original_test_data,color=\"blue\",label = 'Test Data')\n",
    "        \n",
    "    plt.plot(sequence_test_time,sequence_test_data,color=\"green\", label = 'Test Data After Sequence')\n",
    "    plt.plot(sequence_test_time,forecast_data,color=\"red\", label = 'Forecast')\n",
    "    plt.xticks(rotation = 45)\n",
    "    plt.ylabel(\"Value\")\n",
    "    plt.title(\"Forecast plot\")\n",
    "    plt.legend()\n",
    "\n",
    "single_step_plot(original_test_data = test_data[\"out_seq\"],\n",
    "                 sequence_test_data = output_data['test_data_output'],\n",
    "                 forecast_data = prediction['test_data_prediction'],\n",
    "                 test_time = test_time,\n",
    "                 window_size = window_size,\n",
    "                 original_plot = True,\n",
    "                 multivariate = True)"
   ]
  },
  {
   "cell_type": "markdown",
   "metadata": {},
   "source": [
    "# Part 2 : Exercise for Multivariate\n",
    "## Task : Predict the total number of death cases in COVID-19 Malaysia \n",
    "\n",
    "### Introduction \n",
    "You are given a set of data that contains information about COVID-19 cases worldwide. You are required to perform some data analysis on it and predict the death cases.<br>\n",
    "\n",
    "Please follow the instruction and try to code the exercise.Please feel free to google to find out how to use a particular function in the data exploration part<br>\n",
    "\n",
    "\n",
    "\n",
    "Data Source : \n",
    "https://www.kaggle.com/sudalairajkumar/novel-corona-virus-2019-dataset\n",
    "\n"
   ]
  },
  {
   "cell_type": "markdown",
   "metadata": {},
   "source": [
    "## Hyperparameter\n",
    ">**Instruction** : <br>\n",
    "You are required to fill `None` with a suitable value to make the model converge\n",
    "\n",
    ">**Expected Result** : <br>\n",
    "Train Score <= 10 RMSE<br>\n",
    "Test Score <= 10 RMSE<br>"
   ]
  },
  {
   "cell_type": "code",
   "execution_count": 29,
   "metadata": {},
   "outputs": [
    {
     "data": {
      "text/plain": [
       "<torch._C.Generator at 0x28de74d93f0>"
      ]
     },
     "execution_count": 29,
     "metadata": {},
     "output_type": "execute_result"
    }
   ],
   "source": [
    "#Hyperameter\n",
    "split_ratio_covid = 0.70\n",
    "num_epochs_covid = 290\n",
    "window_size_covid = 10\n",
    "n_step_covid = 1\n",
    "learning_rate_covid = 0.001\n",
    "batch_size_covid = 10\n",
    "#seed\n",
    "torch.manual_seed(123)"
   ]
  },
  {
   "cell_type": "markdown",
   "metadata": {},
   "source": [
    "# Step 1 : Data Preparation\n",
    "In this tutorial, you will face a complex real-world dataset. You are required to use some of the data exploration technique to help you prepare the data.\n",
    "\n",
    ">**Instruction** : <br>\n",
    "Read the file using `pd.read_csv`<br>\n",
    "Save your data as `cases`<br>\n",
    "Your file path `../../datasets/others/covid_19_data.csv`"
   ]
  },
  {
   "cell_type": "code",
   "execution_count": 30,
   "metadata": {},
   "outputs": [
    {
     "data": {
      "text/html": [
       "<div>\n",
       "<style scoped>\n",
       "    .dataframe tbody tr th:only-of-type {\n",
       "        vertical-align: middle;\n",
       "    }\n",
       "\n",
       "    .dataframe tbody tr th {\n",
       "        vertical-align: top;\n",
       "    }\n",
       "\n",
       "    .dataframe thead th {\n",
       "        text-align: right;\n",
       "    }\n",
       "</style>\n",
       "<table border=\"1\" class=\"dataframe\">\n",
       "  <thead>\n",
       "    <tr style=\"text-align: right;\">\n",
       "      <th></th>\n",
       "      <th>SNo</th>\n",
       "      <th>ObservationDate</th>\n",
       "      <th>Province/State</th>\n",
       "      <th>Country/Region</th>\n",
       "      <th>Last Update</th>\n",
       "      <th>Confirmed</th>\n",
       "      <th>Deaths</th>\n",
       "      <th>Recovered</th>\n",
       "    </tr>\n",
       "  </thead>\n",
       "  <tbody>\n",
       "    <tr>\n",
       "      <th>0</th>\n",
       "      <td>1</td>\n",
       "      <td>01/22/2020</td>\n",
       "      <td>Anhui</td>\n",
       "      <td>Mainland China</td>\n",
       "      <td>1/22/2020 17:00</td>\n",
       "      <td>1.0</td>\n",
       "      <td>0.0</td>\n",
       "      <td>0.0</td>\n",
       "    </tr>\n",
       "    <tr>\n",
       "      <th>1</th>\n",
       "      <td>2</td>\n",
       "      <td>01/22/2020</td>\n",
       "      <td>Beijing</td>\n",
       "      <td>Mainland China</td>\n",
       "      <td>1/22/2020 17:00</td>\n",
       "      <td>14.0</td>\n",
       "      <td>0.0</td>\n",
       "      <td>0.0</td>\n",
       "    </tr>\n",
       "    <tr>\n",
       "      <th>2</th>\n",
       "      <td>3</td>\n",
       "      <td>01/22/2020</td>\n",
       "      <td>Chongqing</td>\n",
       "      <td>Mainland China</td>\n",
       "      <td>1/22/2020 17:00</td>\n",
       "      <td>6.0</td>\n",
       "      <td>0.0</td>\n",
       "      <td>0.0</td>\n",
       "    </tr>\n",
       "    <tr>\n",
       "      <th>3</th>\n",
       "      <td>4</td>\n",
       "      <td>01/22/2020</td>\n",
       "      <td>Fujian</td>\n",
       "      <td>Mainland China</td>\n",
       "      <td>1/22/2020 17:00</td>\n",
       "      <td>1.0</td>\n",
       "      <td>0.0</td>\n",
       "      <td>0.0</td>\n",
       "    </tr>\n",
       "    <tr>\n",
       "      <th>4</th>\n",
       "      <td>5</td>\n",
       "      <td>01/22/2020</td>\n",
       "      <td>Gansu</td>\n",
       "      <td>Mainland China</td>\n",
       "      <td>1/22/2020 17:00</td>\n",
       "      <td>0.0</td>\n",
       "      <td>0.0</td>\n",
       "      <td>0.0</td>\n",
       "    </tr>\n",
       "  </tbody>\n",
       "</table>\n",
       "</div>"
      ],
      "text/plain": [
       "   SNo ObservationDate Province/State  Country/Region      Last Update  \\\n",
       "0    1      01/22/2020          Anhui  Mainland China  1/22/2020 17:00   \n",
       "1    2      01/22/2020        Beijing  Mainland China  1/22/2020 17:00   \n",
       "2    3      01/22/2020      Chongqing  Mainland China  1/22/2020 17:00   \n",
       "3    4      01/22/2020         Fujian  Mainland China  1/22/2020 17:00   \n",
       "4    5      01/22/2020          Gansu  Mainland China  1/22/2020 17:00   \n",
       "\n",
       "   Confirmed  Deaths  Recovered  \n",
       "0        1.0     0.0        0.0  \n",
       "1       14.0     0.0        0.0  \n",
       "2        6.0     0.0        0.0  \n",
       "3        1.0     0.0        0.0  \n",
       "4        0.0     0.0        0.0  "
      ]
     },
     "execution_count": 30,
     "metadata": {},
     "output_type": "execute_result"
    }
   ],
   "source": [
    "### BEGIN SOLUTION\n",
    "### END SOLUTION\n",
    "cases.head()"
   ]
  },
  {
   "cell_type": "markdown",
   "metadata": {},
   "source": [
    "As you can see, the data contains info on COVID-19 cases from other countries as well. You will need to slice the COVID-19 info for Malaysia.\n",
    "\n",
    ">**Instruction** : <br>\n",
    "Slice the COVID-19 info for Malaysia. You might need to use `df.loc[]` to help you slice the data.\n",
    "\n",
    ">**Expected Result** :<br>\n",
    "Example of first 5 rows of data:\n",
    "\n",
    "---\t|SNo\t|ObservationDate\t|Province/State\t|Country/Region\t|Last Update\t|Confirmed\t|Deaths\t|Recovered\n",
    " ---|---\t|---\t            |---\t        |---\t        |---\t        |---\t    |---\t|---\n",
    "78\t|79\t    |01/23/2020\t|NaN\t|Malaysia\t|1/23/20 |17:00\t|0.0\t|0.0\t|0.0\n",
    "168\t|169\t|01/25/2020\t|NaN\t|Malaysia\t|1/25/20 |17:00\t|3.0\t|0.0\t|0.0\n",
    "214\t|215\t|01/26/2020\t|NaN\t|Malaysia\t|1/26/20 |16:00\t|4.0\t|0.0\t|0.0\n",
    "260\t|261\t|01/27/2020\t|NaN\t|Malaysia\t|1/27/20 |23:59\t|4.0\t|0.0\t|0.0\n",
    "311\t|312\t|01/28/2020\t|NaN\t|Malaysia\t|1/28/20 |23:00\t|4.0\t|0.0\t|0.0\n"
   ]
  },
  {
   "cell_type": "code",
   "execution_count": 31,
   "metadata": {
    "scrolled": true
   },
   "outputs": [
    {
     "data": {
      "text/plain": [
       "array(['Mainland China', 'Hong Kong', 'Macau', 'Taiwan', 'US', 'Japan',\n",
       "       'Thailand', 'South Korea', 'Singapore', 'Philippines', 'Malaysia',\n",
       "       'Vietnam', 'Australia', 'Mexico', 'Brazil', 'Colombia', 'France',\n",
       "       'Nepal', 'Canada', 'Cambodia', 'Sri Lanka', 'Ivory Coast',\n",
       "       'Germany', 'Finland', 'United Arab Emirates', 'India', 'Italy',\n",
       "       'UK', 'Russia', 'Sweden', 'Spain', 'Belgium', 'Others', 'Egypt',\n",
       "       'Iran', 'Israel', 'Lebanon', 'Iraq', 'Oman', 'Afghanistan',\n",
       "       'Bahrain', 'Kuwait', 'Austria', 'Algeria', 'Croatia',\n",
       "       'Switzerland', 'Pakistan', 'Georgia', 'Greece', 'North Macedonia',\n",
       "       'Norway', 'Romania', 'Denmark', 'Estonia', 'Netherlands',\n",
       "       'San Marino', ' Azerbaijan', 'Belarus', 'Iceland', 'Lithuania',\n",
       "       'New Zealand', 'Nigeria', 'North Ireland', 'Ireland', 'Luxembourg',\n",
       "       'Monaco', 'Qatar', 'Ecuador', 'Azerbaijan', 'Czech Republic',\n",
       "       'Armenia', 'Dominican Republic', 'Indonesia', 'Portugal',\n",
       "       'Andorra', 'Latvia', 'Morocco', 'Saudi Arabia', 'Senegal',\n",
       "       'Argentina', 'Chile', 'Jordan', 'Ukraine', 'Saint Barthelemy',\n",
       "       'Hungary', 'Faroe Islands', 'Gibraltar', 'Liechtenstein', 'Poland',\n",
       "       'Tunisia', 'Palestine', 'Bosnia and Herzegovina', 'Slovenia',\n",
       "       'South Africa', 'Bhutan', 'Cameroon', 'Costa Rica', 'Peru',\n",
       "       'Serbia', 'Slovakia', 'Togo', 'Vatican City', 'French Guiana',\n",
       "       'Malta', 'Martinique', 'Republic of Ireland', 'Bulgaria',\n",
       "       'Maldives', 'Bangladesh', 'Moldova', 'Paraguay', 'Albania',\n",
       "       'Cyprus', 'St. Martin', 'Brunei', 'occupied Palestinian territory',\n",
       "       \"('St. Martin',)\", 'Burkina Faso', 'Channel Islands', 'Holy See',\n",
       "       'Mongolia', 'Panama', 'Bolivia', 'Honduras', 'Congo (Kinshasa)',\n",
       "       'Jamaica', 'Reunion', 'Turkey', 'Cuba', 'Guyana', 'Kazakhstan',\n",
       "       'Cayman Islands', 'Guadeloupe', 'Ethiopia', 'Sudan', 'Guinea',\n",
       "       'Antigua and Barbuda', 'Aruba', 'Kenya', 'Uruguay', 'Ghana',\n",
       "       'Jersey', 'Namibia', 'Seychelles', 'Trinidad and Tobago',\n",
       "       'Venezuela', 'Curacao', 'Eswatini', 'Gabon', 'Guatemala',\n",
       "       'Guernsey', 'Mauritania', 'Rwanda', 'Saint Lucia',\n",
       "       'Saint Vincent and the Grenadines', 'Suriname', 'Kosovo',\n",
       "       'Central African Republic', 'Congo (Brazzaville)',\n",
       "       'Equatorial Guinea', 'Uzbekistan', 'Guam', 'Puerto Rico', 'Benin',\n",
       "       'Greenland', 'Liberia', 'Mayotte', 'Republic of the Congo',\n",
       "       'Somalia', 'Tanzania', 'The Bahamas', 'Barbados', 'Montenegro',\n",
       "       'The Gambia', 'Kyrgyzstan', 'Mauritius', 'Zambia', 'Djibouti',\n",
       "       'Gambia, The', 'Bahamas, The', 'Chad', 'El Salvador', 'Fiji',\n",
       "       'Nicaragua', 'Madagascar', 'Haiti', 'Angola', 'Cabo Verde',\n",
       "       'Niger', 'Papua New Guinea', 'Zimbabwe', 'Cape Verde',\n",
       "       'East Timor', 'Eritrea', 'Uganda', 'Bahamas', 'Dominica', 'Gambia',\n",
       "       'Grenada', 'Mozambique', 'Samoa', 'Syria', 'Timor-Leste', 'Belize',\n",
       "       'Laos', 'Libya', 'Diamond Princess', 'Guinea-Bissau', 'Mali',\n",
       "       'Saint Kitts and Nevis', 'West Bank and Gaza', 'Burma',\n",
       "       'MS Zaandam', 'Botswana', 'Burundi', 'Sierra Leone', 'Malawi',\n",
       "       'South Sudan', 'Sao Tome and Principe', 'Yemen', 'Comoros',\n",
       "       'Tajikistan', 'Lesotho', 'Solomon Islands', 'Marshall Islands',\n",
       "       'Vanuatu', 'Micronesia'], dtype=object)"
      ]
     },
     "execution_count": 31,
     "metadata": {},
     "output_type": "execute_result"
    }
   ],
   "source": [
    "cases[\"Country/Region\"].unique()"
   ]
  },
  {
   "cell_type": "code",
   "execution_count": 32,
   "metadata": {},
   "outputs": [
    {
     "data": {
      "text/html": [
       "<div>\n",
       "<style scoped>\n",
       "    .dataframe tbody tr th:only-of-type {\n",
       "        vertical-align: middle;\n",
       "    }\n",
       "\n",
       "    .dataframe tbody tr th {\n",
       "        vertical-align: top;\n",
       "    }\n",
       "\n",
       "    .dataframe thead th {\n",
       "        text-align: right;\n",
       "    }\n",
       "</style>\n",
       "<table border=\"1\" class=\"dataframe\">\n",
       "  <thead>\n",
       "    <tr style=\"text-align: right;\">\n",
       "      <th></th>\n",
       "      <th>SNo</th>\n",
       "      <th>ObservationDate</th>\n",
       "      <th>Province/State</th>\n",
       "      <th>Country/Region</th>\n",
       "      <th>Last Update</th>\n",
       "      <th>Confirmed</th>\n",
       "      <th>Deaths</th>\n",
       "      <th>Recovered</th>\n",
       "    </tr>\n",
       "  </thead>\n",
       "  <tbody>\n",
       "    <tr>\n",
       "      <th>78</th>\n",
       "      <td>79</td>\n",
       "      <td>01/23/2020</td>\n",
       "      <td>NaN</td>\n",
       "      <td>Malaysia</td>\n",
       "      <td>1/23/20 17:00</td>\n",
       "      <td>0.0</td>\n",
       "      <td>0.0</td>\n",
       "      <td>0.0</td>\n",
       "    </tr>\n",
       "    <tr>\n",
       "      <th>168</th>\n",
       "      <td>169</td>\n",
       "      <td>01/25/2020</td>\n",
       "      <td>NaN</td>\n",
       "      <td>Malaysia</td>\n",
       "      <td>1/25/20 17:00</td>\n",
       "      <td>3.0</td>\n",
       "      <td>0.0</td>\n",
       "      <td>0.0</td>\n",
       "    </tr>\n",
       "    <tr>\n",
       "      <th>214</th>\n",
       "      <td>215</td>\n",
       "      <td>01/26/2020</td>\n",
       "      <td>NaN</td>\n",
       "      <td>Malaysia</td>\n",
       "      <td>1/26/20 16:00</td>\n",
       "      <td>4.0</td>\n",
       "      <td>0.0</td>\n",
       "      <td>0.0</td>\n",
       "    </tr>\n",
       "    <tr>\n",
       "      <th>260</th>\n",
       "      <td>261</td>\n",
       "      <td>01/27/2020</td>\n",
       "      <td>NaN</td>\n",
       "      <td>Malaysia</td>\n",
       "      <td>1/27/20 23:59</td>\n",
       "      <td>4.0</td>\n",
       "      <td>0.0</td>\n",
       "      <td>0.0</td>\n",
       "    </tr>\n",
       "    <tr>\n",
       "      <th>311</th>\n",
       "      <td>312</td>\n",
       "      <td>01/28/2020</td>\n",
       "      <td>NaN</td>\n",
       "      <td>Malaysia</td>\n",
       "      <td>1/28/20 23:00</td>\n",
       "      <td>4.0</td>\n",
       "      <td>0.0</td>\n",
       "      <td>0.0</td>\n",
       "    </tr>\n",
       "  </tbody>\n",
       "</table>\n",
       "</div>"
      ],
      "text/plain": [
       "     SNo ObservationDate Province/State Country/Region    Last Update  \\\n",
       "78    79      01/23/2020            NaN       Malaysia  1/23/20 17:00   \n",
       "168  169      01/25/2020            NaN       Malaysia  1/25/20 17:00   \n",
       "214  215      01/26/2020            NaN       Malaysia  1/26/20 16:00   \n",
       "260  261      01/27/2020            NaN       Malaysia  1/27/20 23:59   \n",
       "311  312      01/28/2020            NaN       Malaysia  1/28/20 23:00   \n",
       "\n",
       "     Confirmed  Deaths  Recovered  \n",
       "78         0.0     0.0        0.0  \n",
       "168        3.0     0.0        0.0  \n",
       "214        4.0     0.0        0.0  \n",
       "260        4.0     0.0        0.0  \n",
       "311        4.0     0.0        0.0  "
      ]
     },
     "execution_count": 32,
     "metadata": {},
     "output_type": "execute_result"
    }
   ],
   "source": [
    "### BEGIN SOLUTION\n",
    "\n",
    "### END SOLUTION"
   ]
  },
  {
   "cell_type": "markdown",
   "metadata": {},
   "source": [
    "We need to make sure there is no missing value in our data\n",
    ">**Instruction** : <br>\n",
    "Use `df.isnull().values.any()` to check any missing data in our dataset. `True` would imply that there is a `NaN` value in our dataset<br>\n",
    "Most of the columns does not contain `NaN` except for `Province/State `. This is acceptable since this data is not really useful for our use case which we will drop later.\n",
    "\n",
    "Columns|Status\n",
    "---|---\n",
    "SNo                |False\n",
    "ObservationDate    |False\n",
    "Province/State      |True\n",
    "Country/Region     |False\n",
    "Last Update        |False\n",
    "Confirmed          |False\n",
    "Deaths             |False\n",
    "Recovered          |False"
   ]
  },
  {
   "cell_type": "code",
   "execution_count": 33,
   "metadata": {},
   "outputs": [
    {
     "data": {
      "text/plain": [
       "SNo                False\n",
       "ObservationDate    False\n",
       "Province/State      True\n",
       "Country/Region     False\n",
       "Last Update        False\n",
       "Confirmed          False\n",
       "Deaths             False\n",
       "Recovered          False\n",
       "dtype: bool"
      ]
     },
     "execution_count": 33,
     "metadata": {},
     "output_type": "execute_result"
    }
   ],
   "source": [
    "### BEGIN SOLUTION\n",
    "### END SOLUTION"
   ]
  },
  {
   "cell_type": "markdown",
   "metadata": {},
   "source": [
    ">**Instruction** : <br>\n",
    "Set the `ObservationDate` as the index for the dataset. You are required to convert `ObservationDate` to datetime using `pd.to_datetime()` <br>\n",
    "\n",
    ">**Expected Result** :<br>\n",
    "Example of the first 5 rows of data:\n",
    "\n",
    "ObservationDate\t|SNo\t|ObservationDate\t|Province/State\t|Country/Region\t|Last Update\t|Confirmed\t|Deaths\t|Recovered\n",
    " ---|---\t|---\t            |---\t        |---\t        |---\t        |---\t    |---\t|---\n",
    "01/23/2020\t|79\t    |01/23/2020\t|NaN\t|Malaysia\t|1/23/20 |17:00\t|0.0\t|0.0\t|0.0\n",
    "01/25/2020\t|169\t|01/25/2020\t|NaN\t|Malaysia\t|1/25/20 |17:00\t|3.0\t|0.0\t|0.0\n",
    "01/26/2020\t|215\t|01/26/2020\t|NaN\t|Malaysia\t|1/26/20 |16:00\t|4.0\t|0.0\t|0.0\n",
    "01/27/2020\t|261\t|01/27/2020\t|NaN\t|Malaysia\t|1/27/20 |23:59\t|4.0\t|0.0\t|0.0\n",
    "01/28/2020\t|312\t|01/28/2020\t|NaN\t|Malaysia\t|1/28/20 |23:00\t|4.0\t|0.0\t|0.0"
   ]
  },
  {
   "cell_type": "code",
   "execution_count": 34,
   "metadata": {},
   "outputs": [
    {
     "data": {
      "text/html": [
       "<div>\n",
       "<style scoped>\n",
       "    .dataframe tbody tr th:only-of-type {\n",
       "        vertical-align: middle;\n",
       "    }\n",
       "\n",
       "    .dataframe tbody tr th {\n",
       "        vertical-align: top;\n",
       "    }\n",
       "\n",
       "    .dataframe thead th {\n",
       "        text-align: right;\n",
       "    }\n",
       "</style>\n",
       "<table border=\"1\" class=\"dataframe\">\n",
       "  <thead>\n",
       "    <tr style=\"text-align: right;\">\n",
       "      <th></th>\n",
       "      <th>SNo</th>\n",
       "      <th>ObservationDate</th>\n",
       "      <th>Province/State</th>\n",
       "      <th>Country/Region</th>\n",
       "      <th>Last Update</th>\n",
       "      <th>Confirmed</th>\n",
       "      <th>Deaths</th>\n",
       "      <th>Recovered</th>\n",
       "    </tr>\n",
       "    <tr>\n",
       "      <th>ObservationDate</th>\n",
       "      <th></th>\n",
       "      <th></th>\n",
       "      <th></th>\n",
       "      <th></th>\n",
       "      <th></th>\n",
       "      <th></th>\n",
       "      <th></th>\n",
       "      <th></th>\n",
       "    </tr>\n",
       "  </thead>\n",
       "  <tbody>\n",
       "    <tr>\n",
       "      <th>2020-01-23</th>\n",
       "      <td>79</td>\n",
       "      <td>01/23/2020</td>\n",
       "      <td>NaN</td>\n",
       "      <td>Malaysia</td>\n",
       "      <td>1/23/20 17:00</td>\n",
       "      <td>0.0</td>\n",
       "      <td>0.0</td>\n",
       "      <td>0.0</td>\n",
       "    </tr>\n",
       "    <tr>\n",
       "      <th>2020-01-25</th>\n",
       "      <td>169</td>\n",
       "      <td>01/25/2020</td>\n",
       "      <td>NaN</td>\n",
       "      <td>Malaysia</td>\n",
       "      <td>1/25/20 17:00</td>\n",
       "      <td>3.0</td>\n",
       "      <td>0.0</td>\n",
       "      <td>0.0</td>\n",
       "    </tr>\n",
       "    <tr>\n",
       "      <th>2020-01-26</th>\n",
       "      <td>215</td>\n",
       "      <td>01/26/2020</td>\n",
       "      <td>NaN</td>\n",
       "      <td>Malaysia</td>\n",
       "      <td>1/26/20 16:00</td>\n",
       "      <td>4.0</td>\n",
       "      <td>0.0</td>\n",
       "      <td>0.0</td>\n",
       "    </tr>\n",
       "    <tr>\n",
       "      <th>2020-01-27</th>\n",
       "      <td>261</td>\n",
       "      <td>01/27/2020</td>\n",
       "      <td>NaN</td>\n",
       "      <td>Malaysia</td>\n",
       "      <td>1/27/20 23:59</td>\n",
       "      <td>4.0</td>\n",
       "      <td>0.0</td>\n",
       "      <td>0.0</td>\n",
       "    </tr>\n",
       "    <tr>\n",
       "      <th>2020-01-28</th>\n",
       "      <td>312</td>\n",
       "      <td>01/28/2020</td>\n",
       "      <td>NaN</td>\n",
       "      <td>Malaysia</td>\n",
       "      <td>1/28/20 23:00</td>\n",
       "      <td>4.0</td>\n",
       "      <td>0.0</td>\n",
       "      <td>0.0</td>\n",
       "    </tr>\n",
       "  </tbody>\n",
       "</table>\n",
       "</div>"
      ],
      "text/plain": [
       "                 SNo ObservationDate Province/State Country/Region  \\\n",
       "ObservationDate                                                      \n",
       "2020-01-23        79      01/23/2020            NaN       Malaysia   \n",
       "2020-01-25       169      01/25/2020            NaN       Malaysia   \n",
       "2020-01-26       215      01/26/2020            NaN       Malaysia   \n",
       "2020-01-27       261      01/27/2020            NaN       Malaysia   \n",
       "2020-01-28       312      01/28/2020            NaN       Malaysia   \n",
       "\n",
       "                   Last Update  Confirmed  Deaths  Recovered  \n",
       "ObservationDate                                               \n",
       "2020-01-23       1/23/20 17:00        0.0     0.0        0.0  \n",
       "2020-01-25       1/25/20 17:00        3.0     0.0        0.0  \n",
       "2020-01-26       1/26/20 16:00        4.0     0.0        0.0  \n",
       "2020-01-27       1/27/20 23:59        4.0     0.0        0.0  \n",
       "2020-01-28       1/28/20 23:00        4.0     0.0        0.0  "
      ]
     },
     "execution_count": 34,
     "metadata": {},
     "output_type": "execute_result"
    }
   ],
   "source": [
    "### BEGIN SOLUTION\n",
    "### END SOLUTION\n",
    "\n",
    "new_covid_data.head()"
   ]
  },
  {
   "cell_type": "markdown",
   "metadata": {},
   "source": [
    "Columns such as `SNo`,`ObservationDate`,`Province/State`,`Country/Region`,`Last Update` does not provide any useful information to us. Hence we need to drop it to make the data look cleaner. \n",
    "\n",
    ">**Instruction** : <br>\n",
    "Use `df.drop` to drop the `columns = ['SNo','ObservationDate','Province/State','Country/Region','Last Update']`<br>\n",
    "\n",
    ">**Expected Result** :<br>\n",
    "\n",
    "ObservationDate\t|Confirmed\t|Deaths\t|Recovered\n",
    "\t---|---|---|---\t\t\n",
    "2020-01-23|\t0.0|\t0.0|\t0.0\n",
    "2020-01-25|\t3.0|\t0.0|\t0.0\n",
    "2020-01-26|\t4.0|\t0.0|\t0.0\n",
    "2020-01-27|\t4.0|\t0.0|\t0.0\n",
    "2020-01-28|\t4.0|    0.0|\t0.0"
   ]
  },
  {
   "cell_type": "code",
   "execution_count": 35,
   "metadata": {},
   "outputs": [
    {
     "data": {
      "text/html": [
       "<div>\n",
       "<style scoped>\n",
       "    .dataframe tbody tr th:only-of-type {\n",
       "        vertical-align: middle;\n",
       "    }\n",
       "\n",
       "    .dataframe tbody tr th {\n",
       "        vertical-align: top;\n",
       "    }\n",
       "\n",
       "    .dataframe thead th {\n",
       "        text-align: right;\n",
       "    }\n",
       "</style>\n",
       "<table border=\"1\" class=\"dataframe\">\n",
       "  <thead>\n",
       "    <tr style=\"text-align: right;\">\n",
       "      <th></th>\n",
       "      <th>Confirmed</th>\n",
       "      <th>Deaths</th>\n",
       "      <th>Recovered</th>\n",
       "    </tr>\n",
       "    <tr>\n",
       "      <th>ObservationDate</th>\n",
       "      <th></th>\n",
       "      <th></th>\n",
       "      <th></th>\n",
       "    </tr>\n",
       "  </thead>\n",
       "  <tbody>\n",
       "    <tr>\n",
       "      <th>2020-01-23</th>\n",
       "      <td>0.0</td>\n",
       "      <td>0.0</td>\n",
       "      <td>0.0</td>\n",
       "    </tr>\n",
       "    <tr>\n",
       "      <th>2020-01-25</th>\n",
       "      <td>3.0</td>\n",
       "      <td>0.0</td>\n",
       "      <td>0.0</td>\n",
       "    </tr>\n",
       "    <tr>\n",
       "      <th>2020-01-26</th>\n",
       "      <td>4.0</td>\n",
       "      <td>0.0</td>\n",
       "      <td>0.0</td>\n",
       "    </tr>\n",
       "    <tr>\n",
       "      <th>2020-01-27</th>\n",
       "      <td>4.0</td>\n",
       "      <td>0.0</td>\n",
       "      <td>0.0</td>\n",
       "    </tr>\n",
       "    <tr>\n",
       "      <th>2020-01-28</th>\n",
       "      <td>4.0</td>\n",
       "      <td>0.0</td>\n",
       "      <td>0.0</td>\n",
       "    </tr>\n",
       "  </tbody>\n",
       "</table>\n",
       "</div>"
      ],
      "text/plain": [
       "                 Confirmed  Deaths  Recovered\n",
       "ObservationDate                              \n",
       "2020-01-23             0.0     0.0        0.0\n",
       "2020-01-25             3.0     0.0        0.0\n",
       "2020-01-26             4.0     0.0        0.0\n",
       "2020-01-27             4.0     0.0        0.0\n",
       "2020-01-28             4.0     0.0        0.0"
      ]
     },
     "execution_count": 35,
     "metadata": {},
     "output_type": "execute_result"
    }
   ],
   "source": [
    "### BEGIN SOLUTION\n",
    "### END SOLUTION\n",
    "new_covid_data.head()\n"
   ]
  },
  {
   "cell_type": "markdown",
   "metadata": {},
   "source": [
    "To make the sliding window function to work, you need to rearrange the data columns such a way that the targeted forecast series will be the last column of the data.\n",
    ">**Instruction** : <br>\n",
    "Rearrage the data column using `df[]`<br>\n",
    "For example : <br>\n",
    "columns = [`A`,`B`,`C`]<br>\n",
    "rearrage columns = [`A`,`C`,`B`]<br>\n",
    "`df =  df[rearrage columns]`\n",
    "\n",
    ">**Expected Result** :<br>\n",
    "\n",
    "ObservationDate|\tConfirmed|\tRecovered|\tDeaths\n",
    "\t\t---|---|---|---\t\n",
    "2020-01-23|\t0.0|\t0.0|\t0.0\n",
    "2020-01-25|\t3.0|\t0.0|\t0.0\n",
    "2020-01-26|\t4.0|\t0.0|\t0.0\n",
    "2020-01-27|\t4.0|\t0.0|\t0.0\n",
    "2020-01-28|\t4.0|\t0.0|\t0.0"
   ]
  },
  {
   "cell_type": "code",
   "execution_count": 36,
   "metadata": {},
   "outputs": [
    {
     "data": {
      "text/html": [
       "<div>\n",
       "<style scoped>\n",
       "    .dataframe tbody tr th:only-of-type {\n",
       "        vertical-align: middle;\n",
       "    }\n",
       "\n",
       "    .dataframe tbody tr th {\n",
       "        vertical-align: top;\n",
       "    }\n",
       "\n",
       "    .dataframe thead th {\n",
       "        text-align: right;\n",
       "    }\n",
       "</style>\n",
       "<table border=\"1\" class=\"dataframe\">\n",
       "  <thead>\n",
       "    <tr style=\"text-align: right;\">\n",
       "      <th></th>\n",
       "      <th>Confirmed</th>\n",
       "      <th>Recovered</th>\n",
       "      <th>Deaths</th>\n",
       "    </tr>\n",
       "    <tr>\n",
       "      <th>ObservationDate</th>\n",
       "      <th></th>\n",
       "      <th></th>\n",
       "      <th></th>\n",
       "    </tr>\n",
       "  </thead>\n",
       "  <tbody>\n",
       "    <tr>\n",
       "      <th>2020-01-23</th>\n",
       "      <td>0.0</td>\n",
       "      <td>0.0</td>\n",
       "      <td>0.0</td>\n",
       "    </tr>\n",
       "    <tr>\n",
       "      <th>2020-01-25</th>\n",
       "      <td>3.0</td>\n",
       "      <td>0.0</td>\n",
       "      <td>0.0</td>\n",
       "    </tr>\n",
       "    <tr>\n",
       "      <th>2020-01-26</th>\n",
       "      <td>4.0</td>\n",
       "      <td>0.0</td>\n",
       "      <td>0.0</td>\n",
       "    </tr>\n",
       "    <tr>\n",
       "      <th>2020-01-27</th>\n",
       "      <td>4.0</td>\n",
       "      <td>0.0</td>\n",
       "      <td>0.0</td>\n",
       "    </tr>\n",
       "    <tr>\n",
       "      <th>2020-01-28</th>\n",
       "      <td>4.0</td>\n",
       "      <td>0.0</td>\n",
       "      <td>0.0</td>\n",
       "    </tr>\n",
       "  </tbody>\n",
       "</table>\n",
       "</div>"
      ],
      "text/plain": [
       "                 Confirmed  Recovered  Deaths\n",
       "ObservationDate                              \n",
       "2020-01-23             0.0        0.0     0.0\n",
       "2020-01-25             3.0        0.0     0.0\n",
       "2020-01-26             4.0        0.0     0.0\n",
       "2020-01-27             4.0        0.0     0.0\n",
       "2020-01-28             4.0        0.0     0.0"
      ]
     },
     "execution_count": 36,
     "metadata": {},
     "output_type": "execute_result"
    }
   ],
   "source": [
    "### BEGIN SOLUTION\n",
    "### END SOLUTION\n",
    "new_covid_data.head()"
   ]
  },
  {
   "cell_type": "markdown",
   "metadata": {},
   "source": [
    "## Data Visualization\n",
    "Data visualization is vital for us to visualize the pattern of data such as trend and seasonality. The plot below shows that there is an increasing trend in data."
   ]
  },
  {
   "cell_type": "code",
   "execution_count": 37,
   "metadata": {},
   "outputs": [
    {
     "data": {
      "image/png": "[encoded data removed]",
      "text/plain": [
       "<Figure size 792x648 with 3 Axes>"
      ]
     },
     "metadata": {
      "needs_background": "light"
     },
     "output_type": "display_data"
    }
   ],
   "source": [
    "# Visualize Data \n",
    "axes = new_covid_data[new_covid_data.columns].plot(alpha=1.0, linestyle='-', figsize=(11, 9), subplots=True)\n",
    "for ax in axes:\n",
    "    ax.set_ylabel('COVID-19-Malaysia')"
   ]
  },
  {
   "cell_type": "markdown",
   "metadata": {},
   "source": [
    "However, the data is in a cumulative form. To perform time-series prediction, we need to convert the cumulative cases into daily cases.\n",
    "\n",
    ">**Instruction** : <br>\n",
    "Remove the cumulative counts. You might need to use a `For loop` to loop through the data for each columns. Use `new_covid_data[name] - new_covid_data[name].shift().fillna(0)` as the math operation to remove the cummulative<br>\n",
    "\n",
    ">**Expected Result** :<br>\n",
    "\n",
    "ObservationDate|\tConfirmed|\tRecovered|\tDeaths|\n",
    "\t---|\t---|---|---\t\n",
    "2020-01-23|\t0.0|\t0.0|\t0.0|\n",
    "2020-01-25|\t3.0|\t0.0|\t0.0|\n",
    "2020-01-26|\t1.0|\t0.0|\t0.0|\n",
    "2020-01-27|\t0.0|\t0.0|\t0.0|\n",
    "2020-01-28|\t0.0|\t0.0|\t0.0|"
   ]
  },
  {
   "cell_type": "code",
   "execution_count": 38,
   "metadata": {},
   "outputs": [
    {
     "data": {
      "text/html": [
       "<div>\n",
       "<style scoped>\n",
       "    .dataframe tbody tr th:only-of-type {\n",
       "        vertical-align: middle;\n",
       "    }\n",
       "\n",
       "    .dataframe tbody tr th {\n",
       "        vertical-align: top;\n",
       "    }\n",
       "\n",
       "    .dataframe thead th {\n",
       "        text-align: right;\n",
       "    }\n",
       "</style>\n",
       "<table border=\"1\" class=\"dataframe\">\n",
       "  <thead>\n",
       "    <tr style=\"text-align: right;\">\n",
       "      <th></th>\n",
       "      <th>Confirmed</th>\n",
       "      <th>Recovered</th>\n",
       "      <th>Deaths</th>\n",
       "    </tr>\n",
       "    <tr>\n",
       "      <th>ObservationDate</th>\n",
       "      <th></th>\n",
       "      <th></th>\n",
       "      <th></th>\n",
       "    </tr>\n",
       "  </thead>\n",
       "  <tbody>\n",
       "    <tr>\n",
       "      <th>2020-01-23</th>\n",
       "      <td>0.0</td>\n",
       "      <td>0.0</td>\n",
       "      <td>0.0</td>\n",
       "    </tr>\n",
       "    <tr>\n",
       "      <th>2020-01-25</th>\n",
       "      <td>3.0</td>\n",
       "      <td>0.0</td>\n",
       "      <td>0.0</td>\n",
       "    </tr>\n",
       "    <tr>\n",
       "      <th>2020-01-26</th>\n",
       "      <td>1.0</td>\n",
       "      <td>0.0</td>\n",
       "      <td>0.0</td>\n",
       "    </tr>\n",
       "    <tr>\n",
       "      <th>2020-01-27</th>\n",
       "      <td>0.0</td>\n",
       "      <td>0.0</td>\n",
       "      <td>0.0</td>\n",
       "    </tr>\n",
       "    <tr>\n",
       "      <th>2020-01-28</th>\n",
       "      <td>0.0</td>\n",
       "      <td>0.0</td>\n",
       "      <td>0.0</td>\n",
       "    </tr>\n",
       "  </tbody>\n",
       "</table>\n",
       "</div>"
      ],
      "text/plain": [
       "                 Confirmed  Recovered  Deaths\n",
       "ObservationDate                              \n",
       "2020-01-23             0.0        0.0     0.0\n",
       "2020-01-25             3.0        0.0     0.0\n",
       "2020-01-26             1.0        0.0     0.0\n",
       "2020-01-27             0.0        0.0     0.0\n",
       "2020-01-28             0.0        0.0     0.0"
      ]
     },
     "execution_count": 38,
     "metadata": {},
     "output_type": "execute_result"
    }
   ],
   "source": [
    "### BEGIN SOLUTION\n",
    "\n",
    "### END SOLUTION\n",
    "new_covid_data.head()  "
   ]
  },
  {
   "cell_type": "code",
   "execution_count": 39,
   "metadata": {},
   "outputs": [
    {
     "data": {
      "image/png": "[encoded data removed]",
      "text/plain": [
       "<Figure size 792x648 with 3 Axes>"
      ]
     },
     "metadata": {
      "needs_background": "light"
     },
     "output_type": "display_data"
    }
   ],
   "source": [
    "# Visualize Data \n",
    "axes = new_covid_data[new_covid_data.columns].plot(alpha=1.0, linestyle='-', figsize=(11, 9), subplots=True)\n",
    "for ax in axes:\n",
    "    ax.set_ylabel('COVID-19-Malaysia')"
   ]
  },
  {
   "cell_type": "markdown",
   "metadata": {},
   "source": [
    "## Data Splitting\n",
    "In Deep Learning, we often split data into training and test dataset. The training data is used to train the model whereas the test data is used to validate the performance of the model."
   ]
  },
  {
   "cell_type": "code",
   "execution_count": 40,
   "metadata": {},
   "outputs": [
    {
     "data": {
      "text/plain": [
       "21"
      ]
     },
     "execution_count": 40,
     "metadata": {},
     "output_type": "execute_result"
    }
   ],
   "source": [
    "split_data_covid = round(len(dataset)*split_ratio)\n",
    "split_data_covid"
   ]
  },
  {
   "cell_type": "code",
   "execution_count": 41,
   "metadata": {},
   "outputs": [
    {
     "name": "stdout",
     "output_type": "stream",
     "text": [
      "train_data_shape\n",
      "(380, 3)\n",
      "test_data_shape\n",
      "(21, 3)\n"
     ]
    }
   ],
   "source": [
    "# Split data by indexing \n",
    "train_data_covid = new_covid_data[:-split_data_covid ]\n",
    "test_data_covid = new_covid_data[-split_data_covid :]\n",
    "train_time_covid = new_covid_data.index[:-split_data_covid ]\n",
    "test_time_covid = new_covid_data.index[-split_data_covid :]\n",
    "\n",
    "print(\"train_data_shape\")\n",
    "print(train_data_covid.shape)\n",
    "print(\"test_data_shape\")\n",
    "print(test_data_covid.shape)"
   ]
  },
  {
   "cell_type": "markdown",
   "metadata": {},
   "source": [
    "## Data Normalization \n",
    "Normalize the data into range of 0 to 1"
   ]
  },
  {
   "cell_type": "code",
   "execution_count": 42,
   "metadata": {},
   "outputs": [
    {
     "name": "stdout",
     "output_type": "stream",
     "text": [
      "train_data_normalized_demand(1140, 1)\n",
      "test_data_normalized_demand(63, 1)\n"
     ]
    }
   ],
   "source": [
    "scaler_covid = MinMaxScaler().fit(train_data_covid.values.reshape(-1,1))\n",
    "train_data_normalized_covid  = scaler_covid.transform(train_data_covid.values.reshape(-1, 1))\n",
    "test_data_normalized_covid = scaler_covid.transform(test_data_covid.values.reshape(-1, 1))\n",
    "print(\"train_data_normalized_demand\"+str(train_data_normalized_covid.shape))\n",
    "print(\"test_data_normalized_demand\"+str(test_data_normalized_covid.shape))"
   ]
  },
  {
   "cell_type": "markdown",
   "metadata": {},
   "source": [
    "Transform back to original data shape because the MinMaxScaler from sklearn library only can work in 1D dimension"
   ]
  },
  {
   "cell_type": "code",
   "execution_count": 43,
   "metadata": {},
   "outputs": [
    {
     "name": "stdout",
     "output_type": "stream",
     "text": [
      "test_data_normalized(380, 3)\n",
      "test_data_normalized(21, 3)\n"
     ]
    }
   ],
   "source": [
    "# Transform after scaling \n",
    "train_data_normalized_covid = train_data_normalized_covid.reshape(train_data_covid.shape[0],train_data_covid.shape[1])\n",
    "print(\"test_data_normalized\"+str(train_data_normalized_covid.shape))\n",
    "\n",
    "test_data_normalized_covid = test_data_normalized_covid.reshape(test_data_covid.shape[0],test_data_covid.shape[1])\n",
    "print(\"test_data_normalized\"+str(test_data_normalized_covid.shape))\n"
   ]
  },
  {
   "cell_type": "markdown",
   "metadata": {},
   "source": [
    "## Data Sequencing\n",
    "Sequencing the data by taking in the multivariate series into feature and label\n",
    "<img src = \"../../picture/Multivariate Data Sequencing.png\"  width=\"300\" height  =\"300\" align=\"center\" />"
   ]
  },
  {
   "cell_type": "code",
   "execution_count": 44,
   "metadata": {},
   "outputs": [
    {
     "name": "stdout",
     "output_type": "stream",
     "text": [
      "trainX_demand shape:(371, 10, 2) trainY_demand shape:(371,)\n",
      "\n",
      "testX_demand shape:(12, 10, 2) testY_demand shape:(12,)\n"
     ]
    }
   ],
   "source": [
    "trainX_covid ,trainY_covid=  data_module.multivariate_univariate_single_step(train_data_normalized_covid,window_size_covid)\n",
    "testX_covid , testY_covid = data_module.multivariate_univariate_single_step(test_data_normalized_covid,window_size_covid)\n",
    "print(f\"trainX_demand shape:{trainX_covid.shape} trainY_demand shape:{trainY_covid.shape}\\n\")\n",
    "print(f\"testX_demand shape:{testX_covid.shape} testY_demand shape:{testY_covid.shape}\")"
   ]
  },
  {
   "cell_type": "code",
   "execution_count": 45,
   "metadata": {},
   "outputs": [
    {
     "name": "stdout",
     "output_type": "stream",
     "text": [
      "trainY shape:(371, 1, 1)\n",
      "testY shape:(12, 1, 1)\n"
     ]
    }
   ],
   "source": [
    "trainY_covid = trainY_covid.reshape(trainY_covid.shape[0],1,n_step)\n",
    "testY_covid = testY_covid.reshape(testY_covid.shape[0],1,n_step)\n",
    "print(f\"trainY shape:{trainY_covid.shape}\")\n",
    "print(f\"testY shape:{testY_covid.shape}\")"
   ]
  },
  {
   "cell_type": "markdown",
   "metadata": {},
   "source": [
    "### Data Transform\n",
    "Data need to transformed from numpy to a 3D pytorch tensor before being fed into the LSTM model. \n",
    "\n",
    ">**Instruction** : <br>\n",
    "Use `data_module.key_assign` to assign the key and `data_module.transform` to transform the data."
   ]
  },
  {
   "cell_type": "code",
   "execution_count": 46,
   "metadata": {},
   "outputs": [],
   "source": [
    "### BEGIN SOLUTION\n",
    "\n",
    "train_data_dict_covid ,test_data_dict_covid = data_module.transform(train_data_dict_covid ,test_data_dict_covid)\n",
    "### END SOLUTION"
   ]
  },
  {
   "cell_type": "code",
   "execution_count": 47,
   "metadata": {},
   "outputs": [
    {
     "name": "stdout",
     "output_type": "stream",
     "text": [
      "train_data_x_feature shape : torch.Size([371, 10, 2])\n",
      "train_data_y_label shape : torch.Size([371, 1, 1])\n",
      "test_data_x_feature shape : torch.Size([12, 10, 2])\n",
      "test_data_y_label shape : torch.Size([12, 1, 1])\n"
     ]
    }
   ],
   "source": [
    "data_module.sanity_check(train_data_dict_covid , test_data_dict_covid)"
   ]
  },
  {
   "cell_type": "markdown",
   "metadata": {},
   "source": [
    "## Data Iterator\n",
    "Iterator is created to separate the data into several batches to fasten the training process.\n",
    ">**Instruction** : <br>\n",
    "Use `data_module.iterator` to create data iterator."
   ]
  },
  {
   "cell_type": "code",
   "execution_count": 48,
   "metadata": {},
   "outputs": [],
   "source": [
    "### BEGIN SOLUTION\n",
    "\n",
    "### END SOLUTION"
   ]
  },
  {
   "cell_type": "markdown",
   "metadata": {},
   "source": [
    "## Input Model\n",
    "The model is inputted with the following required attributes: number of input layer, output layer and hidden layer.\n",
    "\n",
    "How to Use :\n",
    "\n",
    "1. Select one of the model base on the application as below and comment others model\n",
    "2. IF use Vanilla LSTM , set num_layer = 1 and use the model = LSTM()\n",
    "3. IF use stacked LSTM , set num_layer more than 1 and use the model = LSTM()\n",
    "4. IF use Bidirectional LSTM, use the model = BidirectionalLSTM()\n",
    "\n",
    ">**Instruction** : <br>\n",
    "Import the LSTM model from `deep_learning_module`.You are require to import both Vanilla LSTM and Bidirectional LSTM and save it as `model` <br>\n",
    "\n",
    "*Feel free to comment out one of the model to use it*"
   ]
  },
  {
   "cell_type": "code",
   "execution_count": 49,
   "metadata": {},
   "outputs": [],
   "source": [
    "#seed\n",
    "torch.manual_seed(123)\n",
    "### BEGIN SOLUTION\n",
    "#Arguments for LSTM model\n",
    "hidden_dim_covid = None\n",
    "n_feature_covid = None\n",
    "\n",
    "#1 for vanila LSTM , >1 is mean stacked LSTM\n",
    "num_layers_covid = None\n",
    "\n",
    "n_step_covid = None\n",
    "\n",
    "#Vanilla , Stacked LSTM\n",
    "\n",
    "\n",
    "#Bidirectional LSTM\n",
    "\n",
    "            \n",
    "### END SOLUTION\n"
   ]
  },
  {
   "cell_type": "code",
   "execution_count": 50,
   "metadata": {},
   "outputs": [],
   "source": [
    "#loss function \n",
    "loss_fn_covid = torch.nn.MSELoss()\n",
    "\n",
    "#optimiser\n",
    "optimizer_covid = torch.optim.Adam(model_covid.parameters(), lr=learning_rate_covid)"
   ]
  },
  {
   "cell_type": "code",
   "execution_count": 51,
   "metadata": {},
   "outputs": [
    {
     "name": "stdout",
     "output_type": "stream",
     "text": [
      "====================================================\n",
      "       Kernel Shape  Output Shape  Params  Mult-Adds\n",
      "Layer                                               \n",
      "0_lstm            -  [10, 10, 32]    4608       4352\n",
      "1_fc        [32, 1]       [10, 1]      33         32\n",
      "----------------------------------------------------\n",
      "                      Totals\n",
      "Total params            4641\n",
      "Trainable params        4641\n",
      "Non-trainable params       0\n",
      "Mult-Adds               4384\n",
      "====================================================\n",
      "       Kernel Shape  Output Shape  Params  Mult-Adds\n",
      "Layer                                               \n",
      "0_lstm            -  [10, 10, 32]    4608       4352\n",
      "1_fc        [32, 1]       [10, 1]      33         32\n"
     ]
    }
   ],
   "source": [
    "# print the summary of the LSTM model\n",
    "inputs = torch.zeros((batch_size_covid,window_size_covid,trainX_covid.shape[2]),dtype=torch.float) # batch size , seq_length , input_dim\n",
    "print(summary(model_covid,inputs))"
   ]
  },
  {
   "cell_type": "markdown",
   "metadata": {},
   "source": [
    "# Step 3 : Training\n",
    ">**Instruction** : <br>\n",
    "Use `deep_learning_module.training` to train the model."
   ]
  },
  {
   "cell_type": "code",
   "execution_count": 52,
   "metadata": {},
   "outputs": [],
   "source": [
    "#seed\n",
    "torch.manual_seed(123)\n",
    "### BEGIN SOLUTION\n",
    "\n",
    "# Start training \n",
    "\n",
    "### END SOLUTION"
   ]
  },
  {
   "cell_type": "markdown",
   "metadata": {},
   "source": [
    ">**Instruction** : <br>\n",
    "Use `data_module.learning_curve` to plot a Learning Curve."
   ]
  },
  {
   "cell_type": "code",
   "execution_count": 53,
   "metadata": {},
   "outputs": [
    {
     "data": {
      "image/png": "[encoded data removed]",
      "text/plain": [
       "<Figure size 720x432 with 1 Axes>"
      ]
     },
     "metadata": {
      "needs_background": "light"
     },
     "output_type": "display_data"
    },
    {
     "name": "stdout",
     "output_type": "stream",
     "text": [
      "Epoch : 0 , training loss : 0.003638600367265839 , validation loss : 1.36208886942768e-05\n",
      "Epoch : 1 , training loss : 1.3719780102206638e-05 , validation loss : 7.078507951518986e-05\n",
      "Epoch : 2 , training loss : 2.625012422477158e-05 , validation loss : 0.00011759032471066651\n",
      "Epoch : 3 , training loss : 9.5057660223195e-06 , validation loss : 9.16688756357568e-05\n",
      "Epoch : 4 , training loss : 1.6623944543471717e-05 , validation loss : 5.915105399859991e-05\n",
      "Epoch : 5 , training loss : 1.2492990335468235e-05 , validation loss : 0.00010728416843145776\n",
      "Epoch : 6 , training loss : 1.654611137747017e-05 , validation loss : 3.404620413978895e-05\n",
      "Epoch : 7 , training loss : 1.0339612911928278e-05 , validation loss : 9.510886108425136e-05\n",
      "Epoch : 8 , training loss : 8.405420136307783e-06 , validation loss : 3.237914218819545e-05\n",
      "Epoch : 9 , training loss : 2.518314102611716e-06 , validation loss : 5.4590224560039737e-05\n",
      "Epoch : 10 , training loss : 1.1786593242281897e-06 , validation loss : 4.092808679464118e-05\n",
      "Epoch : 11 , training loss : 8.827196616950593e-07 , validation loss : 3.209623901057057e-05\n",
      "Epoch : 12 , training loss : 6.355254157779246e-07 , validation loss : 3.086147868695358e-05\n",
      "Epoch : 13 , training loss : 5.832838918734136e-07 , validation loss : 2.7754401647446986e-05\n",
      "Epoch : 14 , training loss : 6.048902251355576e-07 , validation loss : 2.202552301847997e-05\n",
      "Epoch : 15 , training loss : 4.6702047624763367e-07 , validation loss : 1.8900354310365703e-05\n",
      "Epoch : 16 , training loss : 4.2142403866282314e-07 , validation loss : 1.673408223723527e-05\n",
      "Epoch : 17 , training loss : 4.104891046320493e-07 , validation loss : 1.3924375555992205e-05\n",
      "Epoch : 18 , training loss : 3.6786681649054755e-07 , validation loss : 1.177336434921017e-05\n",
      "Epoch : 19 , training loss : 3.499948859040854e-07 , validation loss : 9.877295118106607e-06\n",
      "Epoch : 20 , training loss : 3.2681396308444397e-07 , validation loss : 8.391191234598713e-06\n",
      "Epoch : 21 , training loss : 3.1571118320792e-07 , validation loss : 6.993856989841636e-06\n",
      "Epoch : 22 , training loss : 3.009480633065302e-07 , validation loss : 6.025380040834231e-06\n",
      "Epoch : 23 , training loss : 2.9698799214313315e-07 , validation loss : 4.97205943853866e-06\n",
      "Epoch : 24 , training loss : 2.892880414998838e-07 , validation loss : 4.470238309295382e-06\n",
      "Epoch : 25 , training loss : 2.913254240539538e-07 , validation loss : 3.552930024852685e-06\n",
      "Epoch : 26 , training loss : 2.940478671832273e-07 , validation loss : 3.5766760220212745e-06\n",
      "Epoch : 27 , training loss : 2.971941093748313e-07 , validation loss : 2.484365988190499e-06\n",
      "Epoch : 28 , training loss : 3.3287443035144055e-07 , validation loss : 3.321446001791628e-06\n",
      "Epoch : 29 , training loss : 3.238242936302448e-07 , validation loss : 1.5724608601885848e-06\n",
      "Epoch : 30 , training loss : 4.844354721524046e-07 , validation loss : 3.889930856833719e-06\n",
      "Epoch : 31 , training loss : 4.3863477260258496e-07 , validation loss : 9.152122875851395e-07\n",
      "Epoch : 32 , training loss : 9.57594904454532e-07 , validation loss : 5.455131865043465e-06\n",
      "Epoch : 33 , training loss : 7.688677665166723e-07 , validation loss : 8.485219108086047e-07\n",
      "Epoch : 34 , training loss : 1.7586983250979091e-06 , validation loss : 6.422448526185083e-06\n",
      "Epoch : 35 , training loss : 9.590055833537725e-07 , validation loss : 8.271697543212516e-07\n",
      "Epoch : 36 , training loss : 1.7091624478842178e-06 , validation loss : 3.7909334575185008e-06\n",
      "Epoch : 37 , training loss : 3.593952198743631e-07 , validation loss : 1.8134366162788258e-06\n",
      "Epoch : 38 , training loss : 5.879722533111846e-07 , validation loss : 1.2378191248293053e-06\n",
      "Epoch : 39 , training loss : 6.886276644019958e-07 , validation loss : 3.44580856411388e-06\n",
      "Epoch : 40 , training loss : 3.620402173466064e-07 , validation loss : 1.5142806925420398e-06\n",
      "Epoch : 41 , training loss : 8.829822966498736e-07 , validation loss : 1.6152716095045132e-06\n",
      "Epoch : 42 , training loss : 4.814367434429129e-07 , validation loss : 3.2600073988457248e-06\n",
      "Epoch : 43 , training loss : 4.054332776374557e-07 , validation loss : 1.4471647394505756e-06\n",
      "Epoch : 44 , training loss : 9.929150705024994e-07 , validation loss : 2.345364237044123e-06\n",
      "Epoch : 45 , training loss : 4.353920670902621e-07 , validation loss : 2.2065193737338027e-06\n",
      "Epoch : 46 , training loss : 6.73293966482335e-07 , validation loss : 2.2025527262788578e-06\n",
      "Epoch : 47 , training loss : 6.344711062421728e-07 , validation loss : 2.1524191045803795e-06\n",
      "Epoch : 48 , training loss : 7.086504384846521e-07 , validation loss : 2.354128582737758e-06\n",
      "Epoch : 49 , training loss : 6.921160973539035e-07 , validation loss : 2.1553620020616413e-06\n",
      "Epoch : 50 , training loss : 7.930482000451639e-07 , validation loss : 2.563178895798046e-06\n",
      "Epoch : 51 , training loss : 7.276130040521384e-07 , validation loss : 2.0179737324118228e-06\n",
      "Epoch : 52 , training loss : 9.073582018956444e-07 , validation loss : 3.1362192961144806e-06\n",
      "Epoch : 53 , training loss : 7.078763207533694e-07 , validation loss : 1.5412465093807743e-06\n",
      "Epoch : 54 , training loss : 1.1616669490141828e-06 , validation loss : 5.257077191345161e-06\n",
      "Epoch : 55 , training loss : 7.107031020356153e-07 , validation loss : 9.565160326019395e-07\n",
      "Epoch : 56 , training loss : 2.235079880369941e-06 , validation loss : 1.5137633151122524e-05\n",
      "Epoch : 57 , training loss : 1.9856982310323867e-06 , validation loss : 6.903038335318949e-06\n",
      "Epoch : 58 , training loss : 8.14575565115469e-06 , validation loss : 6.292864782153629e-05\n",
      "Epoch : 59 , training loss : 1.4107186965496644e-05 , validation loss : 3.5939166385408804e-05\n",
      "Epoch : 60 , training loss : 4.086306567074871e-05 , validation loss : 0.00012137976834007229\n",
      "Epoch : 61 , training loss : 6.215116792901117e-05 , validation loss : 1.1602137116521286e-05\n",
      "Epoch : 62 , training loss : 7.688024218510011e-05 , validation loss : 4.094083002807262e-05\n",
      "Epoch : 63 , training loss : 5.411951305946655e-06 , validation loss : 8.447665891253564e-07\n",
      "Epoch : 64 , training loss : 6.724012357872169e-06 , validation loss : 1.944555212200309e-05\n",
      "Epoch : 65 , training loss : 4.994233931266844e-06 , validation loss : 1.0629960153589006e-06\n",
      "Epoch : 66 , training loss : 7.753664648661785e-06 , validation loss : 1.8281969763241552e-05\n",
      "Epoch : 67 , training loss : 4.502148585208496e-06 , validation loss : 1.0829303770757785e-06\n",
      "Epoch : 68 , training loss : 7.039231946730405e-06 , validation loss : 1.5631233509338927e-05\n",
      "Epoch : 69 , training loss : 3.463774590778057e-06 , validation loss : 9.052174239817153e-07\n",
      "Epoch : 70 , training loss : 5.3940773643147e-06 , validation loss : 1.1969054260892639e-05\n",
      "Epoch : 71 , training loss : 2.0703912550129823e-06 , validation loss : 7.634503151147479e-07\n",
      "Epoch : 72 , training loss : 3.296181506572841e-06 , validation loss : 7.776506966668725e-06\n",
      "Epoch : 73 , training loss : 8.198270302460849e-07 , validation loss : 1.1529687734916176e-06\n",
      "Epoch : 74 , training loss : 1.4673616532136453e-06 , validation loss : 4.212573230688577e-06\n",
      "Epoch : 75 , training loss : 3.0865538800001187e-07 , validation loss : 2.2038560321864984e-06\n",
      "Epoch : 76 , training loss : 5.660336877928841e-07 , validation loss : 2.490901124474476e-06\n",
      "Epoch : 77 , training loss : 4.546961106500915e-07 , validation loss : 2.6935823977206987e-06\n",
      "Epoch : 78 , training loss : 3.854013907400738e-07 , validation loss : 2.3235880159215108e-06\n",
      "Epoch : 79 , training loss : 4.808980003191258e-07 , validation loss : 2.3288011637608483e-06\n",
      "Epoch : 80 , training loss : 4.4495023446734564e-07 , validation loss : 2.443944708829804e-06\n",
      "Epoch : 81 , training loss : 4.147431462463409e-07 , validation loss : 2.2708286072277892e-06\n",
      "Epoch : 82 , training loss : 4.709749357975058e-07 , validation loss : 2.2203153851781585e-06\n",
      "Epoch : 83 , training loss : 4.6207627449162973e-07 , validation loss : 2.3056891601906195e-06\n",
      "Epoch : 84 , training loss : 4.4293830842857805e-07 , validation loss : 2.2166697893529395e-06\n",
      "Epoch : 85 , training loss : 4.832958637136416e-07 , validation loss : 2.1606644319642023e-06\n",
      "Epoch : 86 , training loss : 4.882656621301061e-07 , validation loss : 2.20138565509842e-06\n",
      "Epoch : 87 , training loss : 4.832120635255291e-07 , validation loss : 2.157213392213938e-06\n",
      "Epoch : 88 , training loss : 5.107113448489898e-07 , validation loss : 2.132845528043011e-06\n",
      "Epoch : 89 , training loss : 5.193324262993139e-07 , validation loss : 2.1308918197367652e-06\n",
      "Epoch : 90 , training loss : 5.303530795236047e-07 , validation loss : 2.116369804146719e-06\n",
      "Epoch : 91 , training loss : 5.452300705079116e-07 , validation loss : 2.1156735101612867e-06\n",
      "Epoch : 92 , training loss : 5.550708670069485e-07 , validation loss : 2.1142359779939093e-06\n",
      "Epoch : 93 , training loss : 5.659915047852731e-07 , validation loss : 2.1307709327326543e-06\n",
      "Epoch : 94 , training loss : 5.707950820690425e-07 , validation loss : 2.145464804925723e-06\n",
      "Epoch : 95 , training loss : 5.751993575901479e-07 , validation loss : 2.190118834732857e-06\n",
      "Epoch : 96 , training loss : 5.704615508238923e-07 , validation loss : 2.2231724490969404e-06\n",
      "Epoch : 97 , training loss : 5.662177803663546e-07 , validation loss : 2.3144200440583518e-06\n",
      "Epoch : 98 , training loss : 5.491469287948599e-07 , validation loss : 2.3533570659613665e-06\n",
      "Epoch : 99 , training loss : 5.386083912793163e-07 , validation loss : 2.5321337110047657e-06\n",
      "Epoch : 100 , training loss : 5.10185344877947e-07 , validation loss : 2.5133709868896403e-06\n",
      "Epoch : 101 , training loss : 5.02370082333909e-07 , validation loss : 2.9042561209280393e-06\n",
      "Epoch : 102 , training loss : 4.67784613185845e-07 , validation loss : 2.604544116972344e-06\n",
      "Epoch : 103 , training loss : 4.7661146084833937e-07 , validation loss : 3.6159024148219032e-06\n",
      "Epoch : 104 , training loss : 4.4669706932859236e-07 , validation loss : 2.407029152588317e-06\n",
      "Epoch : 105 , training loss : 4.958153677574659e-07 , validation loss : 5.162114424213844e-06\n",
      "Epoch : 106 , training loss : 4.977732642463068e-07 , validation loss : 1.8042633390299063e-06\n",
      "Epoch : 107 , training loss : 6.573134401329823e-07 , validation loss : 7.96151160405619e-06\n",
      "Epoch : 108 , training loss : 6.721518132879108e-07 , validation loss : 1.4025751511326234e-06\n",
      "Epoch : 109 , training loss : 9.377463508104904e-07 , validation loss : 9.007970371991783e-06\n",
      "Epoch : 110 , training loss : 6.151849217999517e-07 , validation loss : 2.7557019848245545e-06\n",
      "Epoch : 111 , training loss : 7.017797289607199e-07 , validation loss : 4.203231621128604e-06\n",
      "Epoch : 112 , training loss : 4.013098048318141e-07 , validation loss : 8.779887139098719e-06\n",
      "Epoch : 113 , training loss : 5.560783388140363e-07 , validation loss : 2.9444764398552556e-06\n",
      "Epoch : 114 , training loss : 9.538033247669977e-07 , validation loss : 3.912098653321057e-06\n",
      "Epoch : 115 , training loss : 4.2864587805908816e-07 , validation loss : 1.3930997283750912e-05\n",
      "Epoch : 116 , training loss : 8.398381346003649e-07 , validation loss : 3.990604682257981e-06\n",
      "Epoch : 117 , training loss : 1.4875622574266771e-06 , validation loss : 1.0647874735999114e-06\n",
      "Epoch : 118 , training loss : 1.6815915759471162e-06 , validation loss : 2.183099362203696e-05\n",
      "Epoch : 119 , training loss : 2.30496079695367e-06 , validation loss : 1.9230241984284174e-05\n",
      "Epoch : 120 , training loss : 1.726861525679076e-06 , validation loss : 5.0116262476270395e-06\n",
      "Epoch : 121 , training loss : 1.0022162564359614e-05 , validation loss : 1.848718511610059e-05\n",
      "Epoch : 122 , training loss : 3.126132810604429e-06 , validation loss : 5.417787906480953e-05\n",
      "Epoch : 123 , training loss : 9.112690139193122e-06 , validation loss : 2.023477372858906e-05\n",
      "Epoch : 124 , training loss : 2.3843876588421827e-05 , validation loss : 9.463639677657436e-05\n",
      "Epoch : 125 , training loss : 2.3329679694202295e-05 , validation loss : 6.1972342185375355e-06\n",
      "Epoch : 126 , training loss : 3.246316212057702e-05 , validation loss : 2.822659007506445e-05\n",
      "Epoch : 127 , training loss : 2.3964004437590913e-05 , validation loss : 5.26372366493888e-06\n",
      "Epoch : 128 , training loss : 4.418576395724694e-06 , validation loss : 8.173243841724798e-07\n",
      "Epoch : 129 , training loss : 6.847610014818684e-06 , validation loss : 1.166645749132537e-05\n",
      "Epoch : 130 , training loss : 3.174983205344252e-06 , validation loss : 6.22022586564223e-06\n",
      "Epoch : 131 , training loss : 6.81491362802141e-07 , validation loss : 1.1482929475429653e-06\n",
      "Epoch : 132 , training loss : 2.955472307171862e-06 , validation loss : 3.7437863890469694e-06\n",
      "Epoch : 133 , training loss : 2.6269195817230205e-07 , validation loss : 5.555034780021136e-06\n",
      "Epoch : 134 , training loss : 5.038920095387158e-07 , validation loss : 2.0410983931166507e-06\n",
      "Epoch : 135 , training loss : 1.1190280874723095e-06 , validation loss : 2.0054854417139722e-06\n",
      "Epoch : 136 , training loss : 4.491484752591914e-07 , validation loss : 3.480211868615394e-06\n",
      "Epoch : 137 , training loss : 3.2276919092961813e-07 , validation loss : 2.5451238343521254e-06\n",
      "Epoch : 138 , training loss : 5.433672949329116e-07 , validation loss : 1.9790166258341437e-06\n",
      "Epoch : 139 , training loss : 5.274076269046191e-07 , validation loss : 2.353439526814327e-06\n",
      "Epoch : 140 , training loss : 3.968955375980978e-07 , validation loss : 2.253434521056382e-06\n",
      "Epoch : 141 , training loss : 4.750430405215118e-07 , validation loss : 2.112519496222376e-06\n",
      "Epoch : 142 , training loss : 4.84750237824901e-07 , validation loss : 2.1032080136743994e-06\n",
      "Epoch : 143 , training loss : 4.857019922284018e-07 , validation loss : 2.0755389490053253e-06\n",
      "Epoch : 144 , training loss : 4.982773434589395e-07 , validation loss : 2.0746147508058734e-06\n",
      "Epoch : 145 , training loss : 5.009055069355449e-07 , validation loss : 2.0728413687720604e-06\n",
      "Epoch : 146 , training loss : 5.062050325744742e-07 , validation loss : 2.1033715711382683e-06\n",
      "Epoch : 147 , training loss : 5.023472978809384e-07 , validation loss : 2.1301376591509324e-06\n",
      "Epoch : 148 , training loss : 4.995897197486417e-07 , validation loss : 2.200317946214151e-06\n",
      "Epoch : 149 , training loss : 4.870792535504614e-07 , validation loss : 2.253176338247916e-06\n",
      "Epoch : 150 , training loss : 4.771608523566667e-07 , validation loss : 2.37690142057545e-06\n",
      "Epoch : 151 , training loss : 4.5750591411875283e-07 , validation loss : 2.4408520857832627e-06\n",
      "Epoch : 152 , training loss : 4.448437942941084e-07 , validation loss : 2.6465526161700836e-06\n",
      "Epoch : 153 , training loss : 4.2350467591283975e-07 , validation loss : 2.6702282790817358e-06\n",
      "Epoch : 154 , training loss : 4.1397165371737487e-07 , validation loss : 3.0336334854534166e-06\n",
      "Epoch : 155 , training loss : 3.9807128743461205e-07 , validation loss : 2.88051145010589e-06\n",
      "Epoch : 156 , training loss : 3.9402177733584784e-07 , validation loss : 3.5975204658219204e-06\n",
      "Epoch : 157 , training loss : 3.898826009055188e-07 , validation loss : 2.9801534158953777e-06\n",
      "Epoch : 158 , training loss : 3.913933173187837e-07 , validation loss : 4.4163196738130255e-06\n",
      "Epoch : 159 , training loss : 3.989986776962318e-07 , validation loss : 2.974316392586237e-06\n",
      "Epoch : 160 , training loss : 4.156167072817688e-07 , validation loss : 5.27406200490077e-06\n",
      "Epoch : 161 , training loss : 4.00657444786972e-07 , validation loss : 3.2831627171011255e-06\n",
      "Epoch : 162 , training loss : 4.3995974984162164e-07 , validation loss : 5.155487997399177e-06\n",
      "Epoch : 163 , training loss : 3.5658711447528433e-07 , validation loss : 4.731188028017641e-06\n",
      "Epoch : 164 , training loss : 4.039532795618801e-07 , validation loss : 4.133831566832669e-06\n",
      "Epoch : 165 , training loss : 4.1924934372349647e-07 , validation loss : 5.848242684199552e-06\n",
      "Epoch : 166 , training loss : 3.4889991118660697e-07 , validation loss : 5.456950248117209e-06\n",
      "Epoch : 167 , training loss : 4.28244934675473e-07 , validation loss : 4.171559453425289e-06\n",
      "Epoch : 168 , training loss : 4.973064515841067e-07 , validation loss : 6.416239330064855e-06\n",
      "Epoch : 169 , training loss : 3.18551606057676e-07 , validation loss : 7.3175020437095855e-06\n",
      "Epoch : 170 , training loss : 4.1137851353313707e-07 , validation loss : 3.997040532037015e-06\n",
      "Epoch : 171 , training loss : 7.483438840968009e-07 , validation loss : 4.9352405161092365e-06\n",
      "Epoch : 172 , training loss : 3.88659557166757e-07 , validation loss : 9.983015843317844e-06\n",
      "Epoch : 173 , training loss : 3.437787950327891e-07 , validation loss : 7.4154008871119e-06\n",
      "Epoch : 174 , training loss : 5.507743728999342e-07 , validation loss : 3.2039319345737263e-06\n",
      "Epoch : 175 , training loss : 1.164834892813653e-06 , validation loss : 4.334330924393726e-06\n",
      "Epoch : 176 , training loss : 5.515283790112815e-07 , validation loss : 1.0341113920731004e-05\n",
      "Epoch : 177 , training loss : 2.891863457766876e-07 , validation loss : 1.2400578725646483e-05\n",
      "Epoch : 178 , training loss : 3.575893367534981e-07 , validation loss : 6.888973227129706e-06\n",
      "Epoch : 179 , training loss : 7.474712521534563e-07 , validation loss : 2.396750270842555e-06\n",
      "Epoch : 180 , training loss : 2.10158693038563e-06 , validation loss : 1.6805992307430036e-06\n",
      "Epoch : 181 , training loss : 2.008016604366912e-06 , validation loss : 6.533554369525518e-06\n",
      "Epoch : 182 , training loss : 3.3147896007541964e-07 , validation loss : 2.1671173575062614e-05\n",
      "Epoch : 183 , training loss : 1.5683305705035948e-06 , validation loss : 2.322932687093271e-05\n",
      "Epoch : 184 , training loss : 1.432289423619914e-06 , validation loss : 4.863856171747709e-06\n",
      "Epoch : 185 , training loss : 1.913005751560791e-06 , validation loss : 2.4675665978672137e-06\n",
      "Epoch : 186 , training loss : 8.512045266088623e-06 , validation loss : 1.3031554407424057e-06\n",
      "Epoch : 187 , training loss : 2.577513665766868e-06 , validation loss : 7.585211642435752e-05\n",
      "Epoch : 188 , training loss : 1.8189812327812826e-05 , validation loss : 2.6597167561703827e-06\n",
      "Epoch : 189 , training loss : 8.285959401383195e-07 , validation loss : 5.614800784314866e-06\n",
      "Epoch : 190 , training loss : 7.362009424449068e-07 , validation loss : 2.1666340520217393e-05\n",
      "Epoch : 191 , training loss : 2.3396319233057356e-06 , validation loss : 1.0935737577710825e-06\n",
      "Epoch : 192 , training loss : 1.9089213135630276e-06 , validation loss : 2.7019917373157416e-05\n",
      "Epoch : 193 , training loss : 3.3025381105269626e-06 , validation loss : 8.578462621737041e-07\n",
      "Epoch : 194 , training loss : 3.099696210833786e-06 , validation loss : 3.5626337800446585e-05\n",
      "Epoch : 195 , training loss : 5.697108590417805e-06 , validation loss : 1.582040169978427e-06\n",
      "Epoch : 196 , training loss : 6.742235854579635e-06 , validation loss : 5.084326342815378e-05\n",
      "Epoch : 197 , training loss : 1.3608233502358742e-05 , validation loss : 1.321324513507231e-06\n",
      "Epoch : 198 , training loss : 1.4719226314509626e-05 , validation loss : 1.7627794477448333e-05\n",
      "Epoch : 199 , training loss : 1.0533841782811373e-05 , validation loss : 4.3732868562074145e-06\n",
      "Epoch : 200 , training loss : 4.5766610074402296e-06 , validation loss : 1.7526964294726592e-06\n",
      "Epoch : 201 , training loss : 5.432091511290791e-07 , validation loss : 5.955871529295109e-06\n",
      "Epoch : 202 , training loss : 5.174615372623302e-07 , validation loss : 3.481992886615141e-06\n",
      "Epoch : 203 , training loss : 5.079514006859913e-07 , validation loss : 2.1666225696511296e-06\n",
      "Epoch : 204 , training loss : 5.299047261244423e-07 , validation loss : 2.3616747739652055e-06\n",
      "Epoch : 205 , training loss : 4.211608524594592e-07 , validation loss : 2.2420069475022806e-06\n",
      "Epoch : 206 , training loss : 4.6450392164950173e-07 , validation loss : 2.1720923086832045e-06\n",
      "Epoch : 207 , training loss : 4.65189592516696e-07 , validation loss : 2.1183545868552756e-06\n",
      "Epoch : 208 , training loss : 4.787401305165455e-07 , validation loss : 2.1319550190431378e-06\n",
      "Epoch : 209 , training loss : 4.767514716186126e-07 , validation loss : 2.14406016615006e-06\n",
      "Epoch : 210 , training loss : 4.790907810045264e-07 , validation loss : 2.2125016130303266e-06\n",
      "Epoch : 211 , training loss : 4.700639809489645e-07 , validation loss : 2.2724452340601906e-06\n",
      "Epoch : 212 , training loss : 4.638318468122324e-07 , validation loss : 2.3980250413539275e-06\n",
      "Epoch : 213 , training loss : 4.483875759407959e-07 , validation loss : 2.4990935874787588e-06\n",
      "Epoch : 214 , training loss : 4.370448273208332e-07 , validation loss : 2.694331783459347e-06\n",
      "Epoch : 215 , training loss : 4.192166118754169e-07 , validation loss : 2.8218660948671945e-06\n",
      "Epoch : 216 , training loss : 4.0768074168655297e-07 , validation loss : 3.1066099381860113e-06\n",
      "Epoch : 217 , training loss : 3.9313776961153184e-07 , validation loss : 3.2187864462684956e-06\n",
      "Epoch : 218 , training loss : 3.8474789469992306e-07 , validation loss : 3.625749210793098e-06\n",
      "Epoch : 219 , training loss : 3.7753139049708614e-07 , validation loss : 3.639311671577161e-06\n",
      "Epoch : 220 , training loss : 3.718519257327539e-07 , validation loss : 4.219495584341833e-06\n",
      "Epoch : 221 , training loss : 3.7171685456797754e-07 , validation loss : 4.039355720427314e-06\n",
      "Epoch : 222 , training loss : 3.6810965639155067e-07 , validation loss : 4.801994085331292e-06\n",
      "Epoch : 223 , training loss : 3.682033933766309e-07 , validation loss : 4.475575072622935e-06\n",
      "Epoch : 224 , training loss : 3.712104260210807e-07 , validation loss : 5.180163877109105e-06\n",
      "Epoch : 225 , training loss : 3.618356203447921e-07 , validation loss : 5.1158802610492176e-06\n",
      "Epoch : 226 , training loss : 3.7263727743378453e-07 , validation loss : 5.280803785960113e-06\n",
      "Epoch : 227 , training loss : 3.682546358059184e-07 , validation loss : 5.758390746753624e-06\n",
      "Epoch : 228 , training loss : 3.6381810535293395e-07 , validation loss : 5.70075909915128e-06\n",
      "Epoch : 229 , training loss : 3.8176034129070914e-07 , validation loss : 5.754252394278107e-06\n",
      "Epoch : 230 , training loss : 3.7941744858666667e-07 , validation loss : 6.381794567763184e-06\n",
      "Epoch : 231 , training loss : 3.6301666014384444e-07 , validation loss : 6.362546779807114e-06\n",
      "Epoch : 232 , training loss : 3.952539296481924e-07 , validation loss : 5.960198526130019e-06\n",
      "Epoch : 233 , training loss : 4.2274333953525036e-07 , validation loss : 6.7408144180565914e-06\n",
      "Epoch : 234 , training loss : 3.662386344861577e-07 , validation loss : 7.4623532479260275e-06\n",
      "Epoch : 235 , training loss : 3.765454116241155e-07 , validation loss : 6.4085507650209666e-06\n",
      "Epoch : 236 , training loss : 4.890924966542843e-07 , validation loss : 6.033990985088167e-06\n",
      "Epoch : 237 , training loss : 4.924957251185218e-07 , validation loss : 7.688250889259507e-06\n",
      "Epoch : 238 , training loss : 3.5539674001725025e-07 , validation loss : 8.668454635577897e-06\n",
      "Epoch : 239 , training loss : 3.6520401731853736e-07 , validation loss : 6.940872935956577e-06\n",
      "Epoch : 240 , training loss : 5.597019963833115e-07 , validation loss : 5.405332103691762e-06\n",
      "Epoch : 241 , training loss : 7.784386995259635e-07 , validation loss : 6.216509063960984e-06\n",
      "Epoch : 242 , training loss : 5.727057907732064e-07 , validation loss : 9.151427699786533e-06\n",
      "Epoch : 243 , training loss : 3.118974774247311e-07 , validation loss : 1.045083035933203e-05\n",
      "Epoch : 244 , training loss : 3.189495949250548e-07 , validation loss : 7.378943261452757e-06\n",
      "Epoch : 245 , training loss : 6.152778507253631e-07 , validation loss : 3.981627249534843e-06\n",
      "Epoch : 246 , training loss : 1.5250358274863552e-06 , validation loss : 3.3863732369354693e-06\n",
      "Epoch : 247 , training loss : 1.594537040339363e-06 , validation loss : 6.638328538125886e-06\n",
      "Epoch : 248 , training loss : 4.5782188985728885e-07 , validation loss : 1.4331888451124541e-05\n",
      "Epoch : 249 , training loss : 4.3213067744435265e-07 , validation loss : 1.3291027244122233e-05\n",
      "Epoch : 250 , training loss : 5.742399835783485e-07 , validation loss : 3.8256555778085994e-06\n",
      "Epoch : 251 , training loss : 1.6326343142655222e-06 , validation loss : 8.59269076632548e-07\n",
      "Epoch : 252 , training loss : 6.097365242898575e-06 , validation loss : 1.7383460620597664e-06\n",
      "Epoch : 253 , training loss : 1.8659274857829603e-06 , validation loss : 4.4723252358380705e-05\n",
      "Epoch : 254 , training loss : 8.441560017035831e-06 , validation loss : 2.1263466199646548e-05\n",
      "Epoch : 255 , training loss : 3.5065465441773213e-06 , validation loss : 1.0428064494287051e-05\n",
      "Epoch : 256 , training loss : 1.8550309418440482e-05 , validation loss : 3.681299798093581e-05\n",
      "Epoch : 257 , training loss : 6.001217154392414e-06 , validation loss : 2.515152649114801e-06\n",
      "Epoch : 258 , training loss : 2.4238459538292738e-06 , validation loss : 1.8153728584972367e-05\n",
      "Epoch : 259 , training loss : 4.959372154787168e-06 , validation loss : 2.855731376409191e-06\n",
      "Epoch : 260 , training loss : 2.9585385267615643e-06 , validation loss : 8.939790708003178e-06\n",
      "Epoch : 261 , training loss : 1.923635587330107e-06 , validation loss : 2.828499342892125e-06\n",
      "Epoch : 262 , training loss : 1.556763174344367e-06 , validation loss : 5.125103901567248e-06\n",
      "Epoch : 263 , training loss : 7.233742301799563e-07 , validation loss : 2.185028241304584e-06\n",
      "Epoch : 264 , training loss : 9.659482691690589e-07 , validation loss : 3.9950480565191055e-06\n",
      "Epoch : 265 , training loss : 5.406430105208964e-07 , validation loss : 1.8059626730367502e-06\n",
      "Epoch : 266 , training loss : 8.479354620210994e-07 , validation loss : 3.863001362939637e-06\n",
      "Epoch : 267 , training loss : 5.493816803745206e-07 , validation loss : 1.5848722417407164e-06\n",
      "Epoch : 268 , training loss : 8.757506199829729e-07 , validation loss : 4.473862190934597e-06\n",
      "Epoch : 269 , training loss : 6.628693895956853e-07 , validation loss : 1.3661550231821213e-06\n",
      "Epoch : 270 , training loss : 1.045928349989033e-06 , validation loss : 6.0580227151755634e-06\n",
      "Epoch : 271 , training loss : 1.0023057346388858e-06 , validation loss : 1.0924852252477042e-06\n",
      "Epoch : 272 , training loss : 1.5169665375395804e-06 , validation loss : 9.108385408277778e-06\n",
      "Epoch : 273 , training loss : 1.844113287404487e-06 , validation loss : 8.686094190579752e-07\n",
      "Epoch : 274 , training loss : 2.560496163170805e-06 , validation loss : 1.2964904726686655e-05\n",
      "Epoch : 275 , training loss : 3.3571569864880784e-06 , validation loss : 8.152916457504489e-07\n",
      "Epoch : 276 , training loss : 4.016645037299472e-06 , validation loss : 1.2597568153675335e-05\n",
      "Epoch : 277 , training loss : 4.188489249292979e-06 , validation loss : 1.1094621991484626e-06\n",
      "Epoch : 278 , training loss : 4.021842625552047e-06 , validation loss : 6.886816890983027e-06\n",
      "Epoch : 279 , training loss : 2.264136081607747e-06 , validation loss : 1.672081339165743e-06\n",
      "Epoch : 280 , training loss : 1.9079140265485223e-06 , validation loss : 4.035646384181746e-06\n",
      "Epoch : 281 , training loss : 7.754126447325784e-07 , validation loss : 1.7502104962356195e-06\n",
      "Epoch : 282 , training loss : 8.930871849473554e-07 , validation loss : 3.173092977704073e-06\n",
      "Epoch : 283 , training loss : 4.884515699080472e-07 , validation loss : 1.6661575349038078e-06\n",
      "Epoch : 284 , training loss : 6.69883170451578e-07 , validation loss : 3.0558306131448867e-06\n",
      "Epoch : 285 , training loss : 4.5724741902100907e-07 , validation loss : 1.639781203266466e-06\n",
      "Epoch : 286 , training loss : 6.103945717061157e-07 , validation loss : 3.3856071771272886e-06\n",
      "Epoch : 287 , training loss : 4.855342981565357e-07 , validation loss : 1.616157665769909e-06\n",
      "Epoch : 288 , training loss : 6.095178309773566e-07 , validation loss : 4.181973129864976e-06\n",
      "Epoch : 289 , training loss : 5.826790750141946e-07 , validation loss : 1.517644989235123e-06\n"
     ]
    }
   ],
   "source": [
    "# Plot Learning Curve \n",
    "### BEGIN SOLUTION\n",
    "\n",
    "\n",
    "### END SOLUTION"
   ]
  },
  {
   "cell_type": "code",
   "execution_count": 54,
   "metadata": {},
   "outputs": [
    {
     "data": {
      "image/png": "[encoded data removed]",
      "text/plain": [
       "<Figure size 720x432 with 1 Axes>"
      ]
     },
     "metadata": {
      "needs_background": "light"
     },
     "output_type": "display_data"
    }
   ],
   "source": [
    "data_module.zoom_learning_curve(start_epoch = 280,\n",
    "                                end_epoch = num_epochs_covid ,\n",
    "                                training_loss = train_loss_covid,\n",
    "                                validation_loss = val_loss_covid)\n",
    " "
   ]
  },
  {
   "cell_type": "markdown",
   "metadata": {},
   "source": [
    "# Step 5 : Evaluation\n",
    "This section is to inference the model by feeding in testing data, determining the output forecast value and calculating the RMSE. For this exercise, use the function in `data_module` to run in each section.\n",
    "\n",
    "It consists of 4 sections :\n",
    "\n",
    "Section 1 : Feed in the train and test data to the model <br>\n",
    "Section 2 : Reshape both to the original data dimension <br> \n",
    "Section 3 : Invert the scaling back to the original data value <br>\n",
    "Section 4 : Calculate the RMSE of train and test data\n",
    "\n",
    ">**Instruction** : <br>\n",
    "Complete each sections with the function in `data_module`"
   ]
  },
  {
   "cell_type": "code",
   "execution_count": 55,
   "metadata": {},
   "outputs": [],
   "source": [
    "# Section 1 : Make predictions\n",
    "\n",
    "### BEGIN SOLUTION\n",
    "\n",
    "\n",
    "### END SOLUTION"
   ]
  },
  {
   "cell_type": "code",
   "execution_count": 56,
   "metadata": {},
   "outputs": [],
   "source": [
    "# Assign evaluation key\n",
    "### BEGIN SOLUTION\n",
    "\n",
    "### END SOLUTION\n",
    "\n",
    "### BEGIN SOLUTION\n",
    "# Squeeze the output dimension\n",
    "\n",
    "### END SOLUTION"
   ]
  },
  {
   "cell_type": "code",
   "execution_count": 57,
   "metadata": {},
   "outputs": [
    {
     "name": "stdout",
     "output_type": "stream",
     "text": [
      "train_data_output shape : torch.Size([371, 1])\n",
      "test_data_output shape : torch.Size([12, 1])\n"
     ]
    }
   ],
   "source": [
    "data_module.sanity_check(data_1 = output_data_covid,data_2 = {})"
   ]
  },
  {
   "cell_type": "code",
   "execution_count": 58,
   "metadata": {},
   "outputs": [],
   "source": [
    "#Invert predictions\n",
    "### BEGIN SOLUTION\n",
    "\n",
    "### END SOLUTION"
   ]
  },
  {
   "cell_type": "markdown",
   "metadata": {},
   "source": [
    "`np.rint` is use to round our data to integer since the death cases should be in the integer form"
   ]
  },
  {
   "cell_type": "code",
   "execution_count": 59,
   "metadata": {},
   "outputs": [],
   "source": [
    "prediction_covid['test_data_prediction'] = np.rint(prediction_covid['test_data_prediction'])\n",
    "output_data_covid['test_data_output'] =  np.rint(output_data_covid['test_data_output']) "
   ]
  },
  {
   "cell_type": "code",
   "execution_count": 60,
   "metadata": {},
   "outputs": [
    {
     "name": "stdout",
     "output_type": "stream",
     "text": [
      "Test Data\t\t\tForecast\n",
      "[8.]\t\t[12.]\n",
      "[22.]\t\t[15.]\n",
      "[25.]\t\t[14.]\n",
      "[13.]\t\t[13.]\n",
      "[8.]\t\t[10.]\n",
      "[5.]\t\t[10.]\n",
      "[6.]\t\t[5.]\n",
      "[14.]\t\t[4.]\n",
      "[12.]\t\t[5.]\n",
      "[12.]\t\t[2.]\n",
      "[11.]\t\t[3.]\n",
      "[10.]\t\t[2.]\n"
     ]
    }
   ],
   "source": [
    "# List the forecast value\n",
    "### BEGIN SOLUTION\n",
    "### END SOLUTION"
   ]
  },
  {
   "cell_type": "code",
   "execution_count": 61,
   "metadata": {},
   "outputs": [
    {
     "name": "stdout",
     "output_type": "stream",
     "text": [
      "Train Score: 7.05 RMSE\n",
      "Test Score: 7.03 RMSE\n"
     ]
    }
   ],
   "source": [
    "# calculate root mean squared error\n",
    "### BEGIN SOLUTION\n",
    "\n",
    "### END SOLUTION"
   ]
  },
  {
   "cell_type": "markdown",
   "metadata": {},
   "source": [
    "# Step 6 : Forecast Plot"
   ]
  },
  {
   "cell_type": "code",
   "execution_count": 62,
   "metadata": {},
   "outputs": [
    {
     "data": {
      "image/png": "[encoded data removed]",
      "text/plain": [
       "<Figure size 720x432 with 1 Axes>"
      ]
     },
     "metadata": {
      "needs_background": "light"
     },
     "output_type": "display_data"
    }
   ],
   "source": [
    "single_step_plot(original_test_data = test_data_covid[\"Deaths\"],\n",
    "                 sequence_test_data = output_data_covid['test_data_output'],\n",
    "                 forecast_data = prediction_covid['test_data_prediction'],\n",
    "                 test_time = test_time_covid,\n",
    "                 window_size = window_size_covid,\n",
    "                 original_plot = True,\n",
    "                 multivariate = True)"
   ]
  },
  {
   "cell_type": "markdown",
   "metadata": {},
   "source": [
    "## Summary\n",
    "From this tutorial you should have learnt:\n",
    "\n",
    "1. The pipeline of using LSTM perform multivariate input univariate output single-step \n",
    "2. How to import function and class from Python module `data_module.py` and `deep_learning_module.py` \n",
    "3. Some basic data exploratory technique\n",
    "\n",
    "Congratulations, that concludes this lesson.<br>\n",
    "\n",
    "Please save the latest `single_step_plot` function to the `data_module.py`\n",
    "\n",
    "\n",
    "Please proceed to other notebooks for other types of data in LSTM forecasting <br>\n",
    "1. ~~*[04 - LSTM_Univariate_SingleStep]*~~  *Complete*\n",
    "2. ~~*[04 - LSTM_Univariate_MultiStep.ipynb]*~~ *Complete*\n",
    "3. ~~[04 - LSTM_Multivariate_Univariate_SingleStep]~~ *Complete*\n",
    "4. [04 - LSTM_Multivariate_Univariate_MultiStep](./04%20-%20LSTM_Multivariate_Univariate_MultiStep.ipynb)<br>"
   ]
  },
  {
   "cell_type": "markdown",
   "metadata": {},
   "source": [
    "## Reference\n",
    "1. [Deep Learning for Time Series Forecasting (Predict the Future with MLPs,CNNs and LSTMs in Python) , Jason Brownlee](https://machinelearningmastery.com/deep-learning-for-time-series-forecasting/)"
   ]
  }
 ],
 "metadata": {
  "kernelspec": {
   "display_name": "Python 3",
   "language": "python",
   "name": "python3"
  },
  "language_info": {
   "codemirror_mode": {
    "name": "ipython",
    "version": 3
   },
   "file_extension": ".py",
   "mimetype": "text/x-python",
   "name": "python",
   "nbconvert_exporter": "python",
   "pygments_lexer": "ipython3",
   "version": "3.7.9"
  }
 },
 "nbformat": 4,
 "nbformat_minor": 4
}
