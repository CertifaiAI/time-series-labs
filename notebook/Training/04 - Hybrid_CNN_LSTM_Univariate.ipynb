{
 "cells": [
  {
   "cell_type": "markdown",
   "metadata": {
    "deletable": false,
    "editable": false
   },
   "source": [
    "![logo](../../picture/license_header_logo.png)\n",
    "> **Copyright (c) 2020-2021 CertifAI Sdn. Bhd.**<br>\n",
    " <br>\n",
    "This program is part of OSRFramework. You can redistribute it and/or modify\n",
    "<br>it under the terms of the GNU Affero General Public License as published by\n",
    "<br>the Free Software Foundation, either version 3 of the License, or\n",
    "<br>(at your option) any later version.\n",
    "<br>\n",
    "<br>This program is distributed in the hope that it will be useful,\n",
    "<br>but WITHOUT ANY WARRANTY; without even the implied warranty of\n",
    "<br>MERCHANTABILITY or FITNESS FOR A PARTICULAR PURPOSE.  See the\n",
    "<br>GNU Affero General Public License for more details.\n",
    "<br>\n",
    "<br>You should have received a copy of the GNU Affero General Public License\n",
    "<br>along with this program.  If not, see <http://www.gnu.org/licenses/>.\n",
    "<br>"
   ]
  },
  {
   "cell_type": "markdown",
   "metadata": {},
   "source": [
    "# Requirement\n",
    "You should complete both LSTM and CNN tutorials before starting this tutorial. This is because most of the function used will be based on  `data_module.py` and `deep_learning_module.py`"
   ]
  },
  {
   "cell_type": "markdown",
   "metadata": {},
   "source": [
    "# Hybrid Model (CNN-LSTM)\n",
    "This hands-on is to demonstrate the process of building a Hybrid model (CNN-LSTM) for univariate single-step time series. <br>\n",
    "This hands-on consists of two main parts which are :<br>\n",
    "\n",
    "1. Demonstration proccess of building hybrid model in synthetic data\n",
    "2. Exercise of building hybrid model using minimum daily temperatures in city Melbourne, Australia. \n",
    "\n",
    "\n",
    "## What will we accomplish?\n",
    "First, we will show the step in building the hybrid model (CNN-LSTM) :\n",
    "\n",
    "Step 1. Data Preparation (Data Splitting,Data Sequencing,Data Normalization and Batching the Data)<br>\n",
    "Step 2. Model Configuration for CNN-LSTM<br>\n",
    "Step 3. Train the model<br>\n",
    "Step 4. Validate the model using graph<br>\n",
    "Step 5. Evaluation Metrics such as MSE<br>\n",
    "Step 6. Plot the forecast result<br>\n",
    "\n",
    "Let's import the packages needed for this hands-on."
   ]
  },
  {
   "cell_type": "code",
   "execution_count": 2,
   "metadata": {},
   "outputs": [],
   "source": [
    "#import packages needed\n",
    "import numpy as np\n",
    "import pandas as pd\n",
    "import matplotlib.pyplot as plt\n",
    "import torch\n",
    "import torch.nn as nn\n",
    "import torch.nn.functional as F\n",
    "from torch.utils.data import DataLoader,TensorDataset\n",
    "from sklearn.metrics import mean_squared_error\n",
    "from sklearn.preprocessing import MinMaxScaler,StandardScaler\n",
    "import math\n",
    "\n",
    "from torchsummaryX import summary\n",
    "\n",
    "# To auto load the customise module\n",
    "%load_ext autoreload\n",
    "%autoreload 2\n",
    "import deep_learning_module\n",
    "import data_module"
   ]
  },
  {
   "cell_type": "markdown",
   "metadata": {},
   "source": [
    "# Part 1 : Demonstration of Building CNN-LSTM using Synthetic data\n",
    "## Hyperparameter\n",
    "Define the hyperparameter that is needed to tune the model."
   ]
  },
  {
   "cell_type": "code",
   "execution_count": 3,
   "metadata": {},
   "outputs": [
    {
     "data": {
      "text/plain": [
       "<torch._C.Generator at 0x1d83d11e950>"
      ]
     },
     "execution_count": 3,
     "metadata": {},
     "output_type": "execute_result"
    }
   ],
   "source": [
    "split_ratio = 0.70\n",
    "num_epochs = 60\n",
    "window_size = 3\n",
    "batch_size = 20\n",
    "learning_rate=0.01\n",
    "n_step = 1\n",
    "#seed\n",
    "torch.manual_seed(123)"
   ]
  },
  {
   "cell_type": "markdown",
   "metadata": {},
   "source": [
    "# Step 1 : Data Preparation\n",
    "We create synthetic data to make sure the model is created correctly and having the ability to perform the forecasting. <br>\n",
    "\n",
    "1. First, we will create a sequence of data with `np.array`.\n",
    "2. Then, we will assign a date to the sequence of data with `pd.date_range` and store it to series data by using `pd.Series`."
   ]
  },
  {
   "cell_type": "code",
   "execution_count": 4,
   "metadata": {},
   "outputs": [
    {
     "name": "stdout",
     "output_type": "stream",
     "text": [
      "(40,)\n"
     ]
    },
    {
     "data": {
      "text/plain": [
       "array([  0,  10,  20,  30,  40,  50,  60,  70,  80,  90, 100, 110, 120,\n",
       "       130, 140, 150, 160, 170, 180, 190, 200, 210, 220, 230, 240, 250,\n",
       "       260, 270, 280, 290, 300, 310, 320, 330, 340, 350, 360, 370, 380,\n",
       "       390])"
      ]
     },
     "execution_count": 4,
     "metadata": {},
     "output_type": "execute_result"
    }
   ],
   "source": [
    "#Synthetic Data\n",
    "univariate_series = np.array([x for x in range(0, 400, 10)])\n",
    "print(univariate_series.shape)\n",
    "univariate_series"
   ]
  },
  {
   "cell_type": "code",
   "execution_count": 5,
   "metadata": {},
   "outputs": [
    {
     "data": {
      "text/plain": [
       "2020-01-01     0\n",
       "2020-01-02    10\n",
       "2020-01-03    20\n",
       "2020-01-04    30\n",
       "2020-01-05    40\n",
       "Freq: D, dtype: int32"
      ]
     },
     "execution_count": 5,
     "metadata": {},
     "output_type": "execute_result"
    }
   ],
   "source": [
    "# Create time index for Synthetic Data\n",
    "univariate_series =pd.Series(univariate_series,pd.date_range(\"1/1/2020\",\n",
    "                                                             periods=len(univariate_series),\n",
    "                                                            freq='D'))\n",
    "univariate_series.head()"
   ]
  },
  {
   "cell_type": "markdown",
   "metadata": {},
   "source": [
    "## Data Visualization\n",
    "Data visualization is important for us to visualize the pattern of data such as trend and seasonality. As the graph below, it is shown that it is an increasing trend in data\n",
    "\n",
    ">**Instruction** : <br>\n",
    "Plot the graph using `univariate_series.plot` with the title `Synthetic Data\"`"
   ]
  },
  {
   "cell_type": "code",
   "execution_count": 6,
   "metadata": {},
   "outputs": [
    {
     "data": {
      "text/plain": [
       "Text(0.5, 1.0, 'Synthetic Data')"
      ]
     },
     "execution_count": 6,
     "metadata": {},
     "output_type": "execute_result"
    },
    {
     "data": {
      "image/png": "[encoded data removed]",
      "text/plain": [
       "<Figure size 432x288 with 1 Axes>"
      ]
     },
     "metadata": {
      "needs_background": "light"
     },
     "output_type": "display_data"
    }
   ],
   "source": [
    "### BEGIN SOLUTION\n",
    "\n",
    "\n",
    "\n",
    "\n",
    "### END SOLUTION"
   ]
  },
  {
   "cell_type": "markdown",
   "metadata": {},
   "source": [
    "## Data Splitting\n",
    "In Deep Learning, we will split the data into training and test dataset.The training data is used to train the model where the test data is used to validate the performance of the model\n",
    ">**Instruction** : <br>\n",
    "Split the data by indexing. Remember to split the time index for later use"
   ]
  },
  {
   "cell_type": "code",
   "execution_count": 7,
   "metadata": {},
   "outputs": [
    {
     "data": {
      "text/plain": [
       "28"
      ]
     },
     "execution_count": 7,
     "metadata": {},
     "output_type": "execute_result"
    }
   ],
   "source": [
    "split_data = round(len(univariate_series)*split_ratio)\n",
    "split_data"
   ]
  },
  {
   "cell_type": "code",
   "execution_count": 8,
   "metadata": {},
   "outputs": [
    {
     "name": "stdout",
     "output_type": "stream",
     "text": [
      "train_data_shape\n",
      "(28,)\n",
      "test_data_shape\n",
      "(12,)\n"
     ]
    }
   ],
   "source": [
    "#split data by indexing \n",
    "train_data = univariate_series[:split_data]\n",
    "test_data = univariate_series[split_data:]\n",
    "train_time = univariate_series.index[:split_data]\n",
    "test_time = univariate_series.index[split_data:]\n",
    "print(\"train_data_shape\")\n",
    "print(train_data.shape)\n",
    "print(\"test_data_shape\")\n",
    "print(test_data.shape)"
   ]
  },
  {
   "cell_type": "markdown",
   "metadata": {},
   "source": [
    "## Data Normalization\n",
    "Use MinMaxScaler to normalize the data into values ranging from 0 to 1."
   ]
  },
  {
   "cell_type": "code",
   "execution_count": 9,
   "metadata": {},
   "outputs": [],
   "source": [
    "scaler = MinMaxScaler().fit(train_data.values.reshape(-1, 1))\n",
    "train_data_normalized = scaler.transform(train_data.values.reshape(-1, 1))\n",
    "\n",
    "test_data_normalized = scaler.transform(test_data.values.reshape(-1, 1))"
   ]
  },
  {
   "cell_type": "markdown",
   "metadata": {},
   "source": [
    "## Data Sequencing\n",
    "Sequencing the data by taking in the univariate series into `x-feature` and `y-label`<br>\n",
    "<img src = \"../../picture/Data Sequencing in Univariate Single Step.png\"  width=\"300\" height  =\"300\" align=\"center\" />"
   ]
  },
  {
   "cell_type": "code",
   "execution_count": 10,
   "metadata": {},
   "outputs": [
    {
     "name": "stdout",
     "output_type": "stream",
     "text": [
      "trainX shape:(25, 3, 1) trainY shape:(25, 1)\n",
      "\n",
      "testX shape:(9, 3, 1) testY shape:(9, 1)\n"
     ]
    }
   ],
   "source": [
    "trainX ,trainY =  data_module.univariate_single_step(train_data_normalized,window_size)\n",
    "testX , testY = data_module.univariate_single_step(test_data_normalized,window_size)\n",
    "print(f\"trainX shape:{trainX.shape} trainY shape:{trainY.shape}\\n\")\n",
    "print(f\"testX shape:{testX.shape} testY shape:{testY.shape}\")"
   ]
  },
  {
   "cell_type": "code",
   "execution_count": 11,
   "metadata": {},
   "outputs": [
    {
     "name": "stdout",
     "output_type": "stream",
     "text": [
      "trainY shape:(25, 1, 1)\n",
      "testY shape:(9, 1, 1)\n"
     ]
    }
   ],
   "source": [
    "trainY = trainY.reshape(trainY.shape[0],n_step,1)\n",
    "testY = testY.reshape(testY.shape[0],n_step,1)\n",
    "print(f\"trainY shape:{trainY.shape}\")\n",
    "print(f\"testY shape:{testY.shape}\")"
   ]
  },
  {
   "cell_type": "markdown",
   "metadata": {},
   "source": [
    "## Data Transform\n",
    "Data need to be transformed from `NumPy` to `PyTorch` tensor before feeding into the CNN-LSTM model."
   ]
  },
  {
   "cell_type": "code",
   "execution_count": 12,
   "metadata": {},
   "outputs": [],
   "source": [
    "\n",
    "train_data_dict ,test_data_dict = data_module.key_assign(trainingX = trainX  , \n",
    "                       testingX = testX, \n",
    "                       trainingY = trainY, \n",
    "                       testingY = testY)\n",
    "\n",
    "\n",
    "\n",
    "train_data_dict ,test_data_dict = data_module.transform(train_data_dict ,test_data_dict)\n"
   ]
  },
  {
   "cell_type": "code",
   "execution_count": 13,
   "metadata": {},
   "outputs": [
    {
     "name": "stdout",
     "output_type": "stream",
     "text": [
      "train_data_x_feature shape : torch.Size([25, 3, 1])\n",
      "train_data_y_label shape : torch.Size([25, 1, 1])\n",
      "test_data_x_feature shape : torch.Size([9, 3, 1])\n",
      "test_data_y_label shape : torch.Size([9, 1, 1])\n"
     ]
    }
   ],
   "source": [
    "data_module.sanity_check(train_data_dict , test_data_dict)"
   ]
  },
  {
   "cell_type": "markdown",
   "metadata": {},
   "source": [
    "## Data Transpose \n",
    "You are required to transpose the x-feature data in such a way that : <br>\n",
    ">`(batch_size, number_of_features, sequence_length)`.\n",
    "\n",
    "This is because CNN requires the input shape as `(batch_size, number_of_features, sequence_length)`. Hence, we will create a function that accepts the dictionary data of train data and test data as input. Transpose of the x-features for both train data and test data is done using `torch.transpose()`. The return of the function will be in a dictionary class type."
   ]
  },
  {
   "cell_type": "code",
   "execution_count": 14,
   "metadata": {},
   "outputs": [],
   "source": [
    "# Data Transpose\n",
    "train_data_dict , test_data_dict= data_module.transpose(train_data_dict,test_data_dict)"
   ]
  },
  {
   "cell_type": "code",
   "execution_count": 15,
   "metadata": {},
   "outputs": [
    {
     "name": "stdout",
     "output_type": "stream",
     "text": [
      "train_data_x_feature shape : torch.Size([25, 1, 3])\n",
      "train_data_y_label shape : torch.Size([25, 1, 1])\n",
      "test_data_x_feature shape : torch.Size([9, 1, 3])\n",
      "test_data_y_label shape : torch.Size([9, 1, 1])\n"
     ]
    }
   ],
   "source": [
    "data_module.sanity_check(train_data_dict , test_data_dict)"
   ]
  },
  {
   "cell_type": "markdown",
   "metadata": {},
   "source": [
    "## Data Iterator\n",
    "Iterator is created to separate the data into several batches to fasten the training process."
   ]
  },
  {
   "cell_type": "code",
   "execution_count": 16,
   "metadata": {},
   "outputs": [],
   "source": [
    "# Create Iterator\n",
    "train_iter , test_iter = data_module.iterator(train_data_dict ,test_data_dict,batch_size = batch_size)\n"
   ]
  },
  {
   "cell_type": "markdown",
   "metadata": {},
   "source": [
    "# Step 2 : CNN-LSTM Configuration \n",
    "\n",
    "![CNN-LSTM](https://3qeqpr26caki16dnhd19sv6by6v-wpengine.netdna-ssl.com/wp-content/uploads/2017/07/Convolutional-Neural-Network-Long-Short-Term-Memory-Network-Archiecture.png)\n",
    "<center><b>Data Flow in CNN-LSTM</b></center>\n",
    "\n",
    ">**How does it work**?\n",
    "The input data will first pass to the CNN model followed by the LSTM model as shown in the figure above.<br>\n",
    "\n",
    ">**How to initialize the configuration**?<br>\n",
    "    1. First, you need to initialize the constructor just like the initialization in our previous tutorial Python class `CNN`. The `forward()` method in `CNN_hybrid` will be a similar configuration to the one from the previous tutorial.<br>\n",
    "    2. Secondly, create a new class called `Combine`. Initialize the constructor like the LSTM model with an extra line: `self.cnn = CNN(n_features,n_step)` to enable its access to the `CNN` class. In the `forward()` method, add in `c_out = self.cnn(x)` as the first line of the code to take the input data and input it to the CNN class. The return output of CNN needs to be reshaped before inputting to LSTM.<br>\n",
    "\n"
   ]
  },
  {
   "cell_type": "code",
   "execution_count": 17,
   "metadata": {},
   "outputs": [],
   "source": [
    "class CNN_hybrid(nn.Module):\n",
    "    def __init__(self,n_features,n_step):\n",
    "        super(CNN_hybrid, self).__init__()\n",
    "        self.n_features = n_features\n",
    "        self.n_step = n_step\n",
    "        self.conv1 = nn.Conv1d(in_channels = n_features,out_channels=10, kernel_size=2)\n",
    "        self.poo1 = nn.AdaptiveMaxPool1d(1)\n",
    "        self.fc1 = nn.Linear(10, 20)\n",
    "        self.fc2 = nn.Linear(20, n_step)\n",
    "\n",
    "    def forward(self, x):\n",
    "        x = self.poo1(F.relu(self.conv1(x)))\n",
    "        x = x.view(-1, 10)\n",
    "        x = F.relu(self.fc1(x))\n",
    "        x = self.fc2(x)\n",
    "        return x\n",
    "\n",
    "\n",
    "class Combine(nn.Module):\n",
    "    def __init__(self,n_features,n_step,hidden_size,num_layers):\n",
    "        super(Combine, self).__init__()\n",
    "        self.n_features = n_features\n",
    "        self.n_step = n_step\n",
    "        self.hidden_size = hidden_size\n",
    "        self.num_layers = num_layers \n",
    "\n",
    "        self.cnn = CNN_hybrid(n_features,n_step)\n",
    "\n",
    "        self.lstm = nn.LSTM(\n",
    "            input_size= n_features,\n",
    "            hidden_size= hidden_size,\n",
    "            num_layers= num_layers ,\n",
    "            batch_first=True)\n",
    "        self.linear = nn.Linear(hidden_size,n_step)\n",
    "\n",
    "    def forward(self, x):\n",
    "        # The data flow into CNN first\n",
    "        c_out = self.cnn(x)\n",
    "\n",
    "        # Reshape the c_out to fit in LSTM\n",
    "        c_out = torch.reshape(c_out,(c_out.shape[0],c_out.shape[1],1))\n",
    "\n",
    "        # Initialize hidden state with zeros\n",
    "        h0 = torch.zeros(self.num_layers, x.size(0), self.hidden_size)\n",
    "\n",
    "        # Initialize cell state\n",
    "        c0 = torch.zeros(self.num_layers, x.size(0), self.hidden_size)\n",
    "        \n",
    "        # The output of CNN will flow into LSTM \n",
    "        out, (hn, cn) = self.lstm(c_out, (h0.detach(), c0.detach()))\n",
    "        \n",
    "        out = out[:, -1, :]\n",
    "        \n",
    "        out = self.linear(out)\n",
    "        \n",
    "\n",
    "        return (out)"
   ]
  },
  {
   "cell_type": "markdown",
   "metadata": {},
   "source": [
    "## Input Model"
   ]
  },
  {
   "cell_type": "code",
   "execution_count": 18,
   "metadata": {},
   "outputs": [
    {
     "name": "stdout",
     "output_type": "stream",
     "text": [
      "Combine(\n",
      "  (cnn): CNN_hybrid(\n",
      "    (conv1): Conv1d(1, 10, kernel_size=(2,), stride=(1,))\n",
      "    (poo1): AdaptiveMaxPool1d(output_size=1)\n",
      "    (fc1): Linear(in_features=10, out_features=20, bias=True)\n",
      "    (fc2): Linear(in_features=20, out_features=1, bias=True)\n",
      "  )\n",
      "  (lstm): LSTM(1, 32, batch_first=True)\n",
      "  (linear): Linear(in_features=32, out_features=1, bias=True)\n",
      ")\n"
     ]
    }
   ],
   "source": [
    "# seed\n",
    "torch.manual_seed(123)\n",
    "\n",
    "n_feature = train_data_dict['train_data_x_feature'].shape[1]\n",
    "hidden_size = 32 \n",
    "num_layers = 1\n",
    "\n",
    "model = Combine(n_features = n_feature,\n",
    "             n_step = n_step,\n",
    "             hidden_size = hidden_size,\n",
    "             num_layers = num_layers)\n",
    "print(model.eval())\n",
    "\n",
    "#loss function\n",
    "loss_fn = torch.nn.MSELoss()\n",
    "\n",
    "#optimiser\n",
    "optimizer = torch.optim.Adam(model.parameters(), lr=learning_rate)\n",
    "\n"
   ]
  },
  {
   "cell_type": "code",
   "execution_count": 19,
   "metadata": {},
   "outputs": [
    {
     "data": {
      "text/plain": [
       "Combine(\n",
       "  (cnn): CNN_hybrid(\n",
       "    (conv1): Conv1d(1, 10, kernel_size=(2,), stride=(1,))\n",
       "    (poo1): AdaptiveMaxPool1d(output_size=1)\n",
       "    (fc1): Linear(in_features=10, out_features=20, bias=True)\n",
       "    (fc2): Linear(in_features=20, out_features=1, bias=True)\n",
       "  )\n",
       "  (lstm): LSTM(1, 32, batch_first=True)\n",
       "  (linear): Linear(in_features=32, out_features=1, bias=True)\n",
       ")"
      ]
     },
     "execution_count": 19,
     "metadata": {},
     "output_type": "execute_result"
    }
   ],
   "source": [
    "# seed\n",
    "torch.manual_seed(123)\n",
    "\n",
    "def weights_init(m):\n",
    "    if isinstance(m, nn.Conv1d):\n",
    "        nn.init.xavier_uniform_(m.weight.data)\n",
    "        \n",
    "model.apply(weights_init)"
   ]
  },
  {
   "cell_type": "code",
   "execution_count": 20,
   "metadata": {
    "scrolled": true
   },
   "outputs": [
    {
     "name": "stdout",
     "output_type": "stream",
     "text": [
      "=========================================================================\n",
      "                             Kernel Shape Output Shape Params Mult-Adds\n",
      "Layer                                                                  \n",
      "0_cnn.Conv1d_conv1             [1, 10, 2]  [20, 10, 2]   30.0      40.0\n",
      "1_cnn.AdaptiveMaxPool1d_poo1            -  [20, 10, 1]      -         -\n",
      "2_cnn.Linear_fc1                 [10, 20]     [20, 20]  220.0     200.0\n",
      "3_cnn.Linear_fc2                  [20, 1]      [20, 1]   21.0      20.0\n",
      "4_lstm                                  -  [20, 1, 32]  4.48k    4.224k\n",
      "5_linear                          [32, 1]      [20, 1]   33.0      32.0\n",
      "-------------------------------------------------------------------------\n",
      "                      Totals\n",
      "Total params          4.784k\n",
      "Trainable params      4.784k\n",
      "Non-trainable params     0.0\n",
      "Mult-Adds             4.516k\n",
      "=========================================================================\n",
      "                             Kernel Shape Output Shape  Params  Mult-Adds\n",
      "Layer                                                                    \n",
      "0_cnn.Conv1d_conv1             [1, 10, 2]  [20, 10, 2]    30.0       40.0\n",
      "1_cnn.AdaptiveMaxPool1d_poo1            -  [20, 10, 1]     NaN        NaN\n",
      "2_cnn.Linear_fc1                 [10, 20]     [20, 20]   220.0      200.0\n",
      "3_cnn.Linear_fc2                  [20, 1]      [20, 1]    21.0       20.0\n",
      "4_lstm                                  -  [20, 1, 32]  4480.0     4224.0\n",
      "5_linear                          [32, 1]      [20, 1]    33.0       32.0\n"
     ]
    }
   ],
   "source": [
    "seq_length = train_data_dict['train_data_x_feature'].shape[2]\n",
    "inputs = torch.zeros((batch_size,n_feature ,seq_length),dtype=torch.float) # batch size ,input_dim ,seq_length\n",
    "print(summary(model,inputs))"
   ]
  },
  {
   "cell_type": "markdown",
   "metadata": {},
   "source": [
    "# Step 3 : Training"
   ]
  },
  {
   "cell_type": "code",
   "execution_count": 21,
   "metadata": {},
   "outputs": [],
   "source": [
    "# seed\n",
    "torch.manual_seed(123)\n",
    "# Start Training\n",
    "train_loss, val_loss = deep_learning_module.training(num_epochs, train_iter, test_iter, optimizer, loss_fn, model)"
   ]
  },
  {
   "cell_type": "markdown",
   "metadata": {},
   "source": [
    "# Step 4 : Validation \n",
    "A learning curve is plotted to define how well the data is fitting the model "
   ]
  },
  {
   "cell_type": "code",
   "execution_count": 22,
   "metadata": {
    "scrolled": true
   },
   "outputs": [
    {
     "data": {
      "image/png": "[encoded data removed]",
      "text/plain": [
       "<Figure size 720x432 with 1 Axes>"
      ]
     },
     "metadata": {
      "needs_background": "light"
     },
     "output_type": "display_data"
    },
    {
     "name": "stdout",
     "output_type": "stream",
     "text": [
      "Epoch : 0 , training loss : 0.49378840923309325 , validation loss : 1.7917041778564453\n",
      "Epoch : 1 , training loss : 0.4129299998283386 , validation loss : 1.6274195909500122\n",
      "Epoch : 2 , training loss : 0.3419968247413635 , validation loss : 1.4577746391296387\n",
      "Epoch : 3 , training loss : 0.2731207966804504 , validation loss : 1.2741748094558716\n",
      "Epoch : 4 , training loss : 0.205336594581604 , validation loss : 1.0730152130126953\n",
      "Epoch : 5 , training loss : 0.14186214208602904 , validation loss : 0.8563950061798096\n",
      "Epoch : 6 , training loss : 0.09037506878376007 , validation loss : 0.6336524486541748\n",
      "Epoch : 7 , training loss : 0.06368815302848815 , validation loss : 0.4264334738254547\n",
      "Epoch : 8 , training loss : 0.07509502544999122 , validation loss : 0.27023622393608093\n",
      "Epoch : 9 , training loss : 0.12137908730655908 , validation loss : 0.18873776495456696\n",
      "Epoch : 10 , training loss : 0.16695354897528886 , validation loss : 0.16878217458724976\n",
      "Epoch : 11 , training loss : 0.17975077256560326 , validation loss : 0.18773990869522095\n",
      "Epoch : 12 , training loss : 0.16307290345430375 , validation loss : 0.23004041612148285\n",
      "Epoch : 13 , training loss : 0.13559086248278618 , validation loss : 0.283122181892395\n",
      "Epoch : 14 , training loss : 0.11084351688623428 , validation loss : 0.3359476923942566\n",
      "Epoch : 15 , training loss : 0.09338502511382103 , validation loss : 0.3808480501174927\n",
      "Epoch : 16 , training loss : 0.08264492452144623 , validation loss : 0.4134618043899536\n",
      "Epoch : 17 , training loss : 0.07654392719268799 , validation loss : 0.4325723648071289\n",
      "Epoch : 18 , training loss : 0.07320265024900437 , validation loss : 0.4387414753437042\n",
      "Epoch : 19 , training loss : 0.07151085138320923 , validation loss : 0.43374067544937134\n",
      "Epoch : 20 , training loss : 0.07101146876811981 , validation loss : 0.4200657904148102\n",
      "Epoch : 21 , training loss : 0.07151522189378738 , validation loss : 0.40054142475128174\n",
      "Epoch : 22 , training loss : 0.07295426875352859 , validation loss : 0.3780261278152466\n",
      "Epoch : 23 , training loss : 0.07515469193458557 , validation loss : 0.3551669716835022\n",
      "Epoch : 24 , training loss : 0.07770848721265793 , validation loss : 0.3341604769229889\n",
      "Epoch : 25 , training loss : 0.07996152192354203 , validation loss : 0.31656354665756226\n",
      "Epoch : 26 , training loss : 0.08119317069649697 , validation loss : 0.303139328956604\n",
      "Epoch : 27 , training loss : 0.08080667406320571 , validation loss : 0.29307249188423157\n",
      "Epoch : 28 , training loss : 0.0785083681344986 , validation loss : 0.28683722019195557\n",
      "Epoch : 29 , training loss : 0.07441440336406231 , validation loss : 0.2827519178390503\n",
      "Epoch : 30 , training loss : 0.06899630650877953 , validation loss : 0.2789255678653717\n",
      "Epoch : 31 , training loss : 0.062664308026433 , validation loss : 0.27355092763900757\n",
      "Epoch : 32 , training loss : 0.055730130150914194 , validation loss : 0.2647567689418793\n",
      "Epoch : 33 , training loss : 0.04841007217764855 , validation loss : 0.25101450085639954\n",
      "Epoch : 34 , training loss : 0.04082391634583473 , validation loss : 0.23188836872577667\n",
      "Epoch : 35 , training loss : 0.03315846137702465 , validation loss : 0.20824404060840607\n",
      "Epoch : 36 , training loss : 0.025651202350854874 , validation loss : 0.18133710324764252\n",
      "Epoch : 37 , training loss : 0.018533813674002884 , validation loss : 0.15373559296131134\n",
      "Epoch : 38 , training loss : 0.012064244272187353 , validation loss : 0.1283586174249649\n",
      "Epoch : 39 , training loss : 0.006472379399929196 , validation loss : 0.10783623903989792\n",
      "Epoch : 40 , training loss : 0.0022904288023710253 , validation loss : 0.09265569597482681\n",
      "Epoch : 41 , training loss : 0.0005498174170497805 , validation loss : 0.08102566003799438\n",
      "Epoch : 42 , training loss : 0.001592693367274478 , validation loss : 0.07075151801109314\n",
      "Epoch : 43 , training loss : 0.00369908781722188 , validation loss : 0.061889052391052246\n",
      "Epoch : 44 , training loss : 0.00477542351000011 , validation loss : 0.05672793090343475\n",
      "Epoch : 45 , training loss : 0.0044906757771968845 , validation loss : 0.05634579434990883\n",
      "Epoch : 46 , training loss : 0.0034923020750284193 , validation loss : 0.05931519716978073\n",
      "Epoch : 47 , training loss : 0.002342428208794445 , validation loss : 0.06325779110193253\n",
      "Epoch : 48 , training loss : 0.0013076163246296345 , validation loss : 0.06641672551631927\n",
      "Epoch : 49 , training loss : 0.000591790903126821 , validation loss : 0.06846728920936584\n",
      "Epoch : 50 , training loss : 0.00037928816163912416 , validation loss : 0.07010091096162796\n",
      "Epoch : 51 , training loss : 0.0005556518794037401 , validation loss : 0.07187744230031967\n",
      "Epoch : 52 , training loss : 0.0008071152493357659 , validation loss : 0.07332707196474075\n",
      "Epoch : 53 , training loss : 0.00092851662193425 , validation loss : 0.07344843447208405\n",
      "Epoch : 54 , training loss : 0.0008996529621072113 , validation loss : 0.07150642573833466\n",
      "Epoch : 55 , training loss : 0.0007764450856484473 , validation loss : 0.06805410981178284\n",
      "Epoch : 56 , training loss : 0.0006146872416138649 , validation loss : 0.06436332315206528\n",
      "Epoch : 57 , training loss : 0.0004488614067668095 , validation loss : 0.06141473725438118\n",
      "Epoch : 58 , training loss : 0.00030750519727007486 , validation loss : 0.059403419494628906\n",
      "Epoch : 59 , training loss : 0.0002391204070590902 , validation loss : 0.05770374834537506\n"
     ]
    }
   ],
   "source": [
    "# Create Learining Curve \n",
    "data_module.learning_curve(num_epochs = num_epochs , train_loss = train_loss , val_loss = val_loss )"
   ]
  },
  {
   "cell_type": "markdown",
   "metadata": {},
   "source": [
    "# Step 5 : Evaluation\n",
    "This section is to inference the model by feeding in testing data, determining the output forecast values and calculating the RMSE. \n",
    "\n",
    "> For this exercise, use the function in `data_module` to run in each section.\n",
    "\n",
    "It consists of 4 sections :\n",
    "\n",
    "Section 1 : Feed in the train and test data to the model <br>\n",
    "Section 2 : Reshape both to the original data dimension <br> \n",
    "Section 3 : Invert the scaling back to the original data value <br>\n",
    "Section 4 : Calculate the RMSE of train and test data"
   ]
  },
  {
   "cell_type": "code",
   "execution_count": 23,
   "metadata": {},
   "outputs": [],
   "source": [
    "# make predictions\n",
    "with torch.no_grad():\n",
    "    y_train_prediction = model(train_data_dict['train_data_x_feature'])\n",
    "    y_test_prediction = model(test_data_dict['test_data_x_feature'])"
   ]
  },
  {
   "cell_type": "code",
   "execution_count": 24,
   "metadata": {},
   "outputs": [],
   "source": [
    "# Assign evaluation key\n",
    "prediction , output = data_module.key_assign_evaluation(y_train_prediction,\n",
    "    y_test_prediction,\n",
    "    train_data_dict,\n",
    "    test_data_dict)\n",
    "\n",
    "# Section 2 : Reshape to original data\n",
    "# Squeeze the output dimension\n",
    "output_data = data_module.squeeze_dimension(output)\n"
   ]
  },
  {
   "cell_type": "code",
   "execution_count": 25,
   "metadata": {},
   "outputs": [
    {
     "name": "stdout",
     "output_type": "stream",
     "text": [
      "train_data_output shape : torch.Size([25, 1])\n",
      "test_data_output shape : torch.Size([9, 1])\n"
     ]
    }
   ],
   "source": [
    "data_module.sanity_check(data_1 = output_data,data_2 = {})"
   ]
  },
  {
   "cell_type": "code",
   "execution_count": 26,
   "metadata": {},
   "outputs": [],
   "source": [
    "# Section 3 : Invert predictions\n",
    "prediction = data_module.inverse_scaler(prediction,scaler)\n",
    "output_data  = data_module.inverse_scaler(output_data ,scaler)"
   ]
  },
  {
   "cell_type": "code",
   "execution_count": 27,
   "metadata": {},
   "outputs": [
    {
     "name": "stdout",
     "output_type": "stream",
     "text": [
      "train_data_prediction shape : (25, 1)\n",
      "test_data_prediction shape : (9, 1)\n",
      "train_data_output shape : (25, 1)\n",
      "test_data_output shape : (9, 1)\n"
     ]
    }
   ],
   "source": [
    "data_module.sanity_check(data_1 = prediction,data_2 = output_data )"
   ]
  },
  {
   "cell_type": "code",
   "execution_count": 28,
   "metadata": {},
   "outputs": [
    {
     "name": "stdout",
     "output_type": "stream",
     "text": [
      "Test Data\t\t\tForecast\n",
      "[310.]\t\t[280.90417]\n",
      "[320.]\t\t[284.09375]\n",
      "[330.]\t\t[287.2057]\n",
      "[340.]\t\t[289.06567]\n",
      "[349.99997]\t\t[290.01978]\n",
      "[360.]\t\t[290.97293]\n",
      "[370.]\t\t[291.9251]\n",
      "[380.]\t\t[292.87628]\n",
      "[390.]\t\t[293.82648]\n"
     ]
    }
   ],
   "source": [
    "# List the forecast value\n",
    "data_module.list_forecast_value(output_data,prediction) "
   ]
  },
  {
   "cell_type": "code",
   "execution_count": 29,
   "metadata": {},
   "outputs": [
    {
     "name": "stdout",
     "output_type": "stream",
     "text": [
      "Train Score: 4.27 RMSE\n",
      "Test Score: 64.86 RMSE\n"
     ]
    }
   ],
   "source": [
    "# Section 4 : Calculate the RMSE of train and test data\n",
    "### BEGIN SOLUTION\n",
    "### END SOLUTION\n",
    "print('Train Score: %.2f RMSE' % (trainScore))\n",
    "print('Test Score: %.2f RMSE' % (testScore))"
   ]
  },
  {
   "cell_type": "markdown",
   "metadata": {},
   "source": [
    "# Step 6 : Forecast Plot"
   ]
  },
  {
   "cell_type": "code",
   "execution_count": 30,
   "metadata": {},
   "outputs": [
    {
     "data": {
      "image/png": "[encoded data removed]",
      "text/plain": [
       "<Figure size 720x432 with 1 Axes>"
      ]
     },
     "metadata": {
      "needs_background": "light"
     },
     "output_type": "display_data"
    }
   ],
   "source": [
    "data_module.single_step_plot(original_test_data = test_data,\n",
    "                            sequence_test_data = output_data['test_data_output'],\n",
    "                            forecast_data = prediction['test_data_prediction'],\n",
    "                            test_time = test_time,\n",
    "                            window_size =  window_size,\n",
    "                            original_plot=False,\n",
    "                            multivariate=False)"
   ]
  },
  {
   "cell_type": "markdown",
   "metadata": {},
   "source": [
    "# Part 2 : Exercise for Univariate \n",
    "## Task : Use Hybrid model (CNN-LSTM) to predict the temperature for Melbourne\n",
    "\n",
    "### Introduction\n",
    "You are given a set of dataset that describes the minimum daily temperatures over 10 years (1981-1990) in the city Melbourne, Australia. The units are in degrees Celsius and there are 3650 observations.\n",
    "\n",
    "### Data Sources :\n",
    "[The source of the data is credited as the Australian Bureau of Meteorology.](https://raw.githubusercontent.com/jbrownlee/Datasets/master/daily-min-temperatures.csv)"
   ]
  },
  {
   "cell_type": "markdown",
   "metadata": {},
   "source": [
    "## Hyperparameter\n",
    ">**Instruction** : <br>\n",
    "You are required to fill `None` with a suitable value to make the model converge\n",
    "\n",
    ">**Expected Result** : <br>\n",
    "Train Score <= 10 RMSE<br>\n",
    "Test Score <= 10 RMSE<br>"
   ]
  },
  {
   "cell_type": "code",
   "execution_count": 31,
   "metadata": {},
   "outputs": [
    {
     "data": {
      "text/plain": [
       "<torch._C.Generator at 0x1d83d11e950>"
      ]
     },
     "execution_count": 31,
     "metadata": {},
     "output_type": "execute_result"
    }
   ],
   "source": [
    "## Hyperparameter\n",
    "num_epochs_temperature = 100\n",
    "batch_size_temperature = 30\n",
    "window_size_temperature = 12\n",
    "learning_rate_temperature = 0.001\n",
    "n_step_temperature = 1 \n",
    "split_data_ratio_temperature = 0.70\n",
    "#seed\n",
    "torch.manual_seed(123)"
   ]
  },
  {
   "cell_type": "markdown",
   "metadata": {},
   "source": [
    "# Step 1 : Data Preparation\n",
    ">**Instruction** : <br>\n",
    "Read the `CSV` file using `pd.read_csv`<br>\n",
    "Your file path `https://raw.githubusercontent.com/jbrownlee/Datasets/master/daily-min-temperatures.csv`\n",
    "\n",
    ">**Expected Result**<br>\n",
    "Example of the first 5 rows of data:\n",
    "\n",
    "---|\tDate|\tTemp\n",
    "---|---|---\n",
    "0|\t1981-01-01|\t20.7\n",
    "1|\t1981-01-02|\t17.9\n",
    "2|\t1981-01-03|\t18.8\n",
    "3|\t1981-01-04|\t14.6\n",
    "4|\t1981-01-05|\t15.8"
   ]
  },
  {
   "cell_type": "code",
   "execution_count": 32,
   "metadata": {},
   "outputs": [
    {
     "data": {
      "text/html": [
       "<div>\n",
       "<style scoped>\n",
       "    .dataframe tbody tr th:only-of-type {\n",
       "        vertical-align: middle;\n",
       "    }\n",
       "\n",
       "    .dataframe tbody tr th {\n",
       "        vertical-align: top;\n",
       "    }\n",
       "\n",
       "    .dataframe thead th {\n",
       "        text-align: right;\n",
       "    }\n",
       "</style>\n",
       "<table border=\"1\" class=\"dataframe\">\n",
       "  <thead>\n",
       "    <tr style=\"text-align: right;\">\n",
       "      <th></th>\n",
       "      <th>Date</th>\n",
       "      <th>Temp</th>\n",
       "    </tr>\n",
       "  </thead>\n",
       "  <tbody>\n",
       "    <tr>\n",
       "      <th>0</th>\n",
       "      <td>1981-01-01</td>\n",
       "      <td>20.7</td>\n",
       "    </tr>\n",
       "    <tr>\n",
       "      <th>1</th>\n",
       "      <td>1981-01-02</td>\n",
       "      <td>17.9</td>\n",
       "    </tr>\n",
       "    <tr>\n",
       "      <th>2</th>\n",
       "      <td>1981-01-03</td>\n",
       "      <td>18.8</td>\n",
       "    </tr>\n",
       "    <tr>\n",
       "      <th>3</th>\n",
       "      <td>1981-01-04</td>\n",
       "      <td>14.6</td>\n",
       "    </tr>\n",
       "    <tr>\n",
       "      <th>4</th>\n",
       "      <td>1981-01-05</td>\n",
       "      <td>15.8</td>\n",
       "    </tr>\n",
       "  </tbody>\n",
       "</table>\n",
       "</div>"
      ],
      "text/plain": [
       "         Date  Temp\n",
       "0  1981-01-01  20.7\n",
       "1  1981-01-02  17.9\n",
       "2  1981-01-03  18.8\n",
       "3  1981-01-04  14.6\n",
       "4  1981-01-05  15.8"
      ]
     },
     "execution_count": 32,
     "metadata": {},
     "output_type": "execute_result"
    }
   ],
   "source": [
    "# Read CSV file \n",
    "### BEGIN SOLUTION\n",
    "### END SOLUTION\n",
    "temperature.head() "
   ]
  },
  {
   "cell_type": "markdown",
   "metadata": {},
   "source": [
    ">**Instruction** : <br>\n",
    "Convert the `Date` by using `pd.to_datetime`\n",
    "Set the index as 'Date' using `df.set_index`\n",
    "\n",
    ">**Expected Result** : <br>\n",
    "Example of the first 5 rows:\n",
    "\n",
    "Date|\tTemp\n",
    "---|---\n",
    "1981-01-01|\t20.7\n",
    "1981-01-02|\t17.9\n",
    "1981-01-03|\t18.8\n",
    "1981-01-04|\t14.6\n",
    "1981-01-05|\t15.8"
   ]
  },
  {
   "cell_type": "code",
   "execution_count": 33,
   "metadata": {},
   "outputs": [
    {
     "data": {
      "text/html": [
       "<div>\n",
       "<style scoped>\n",
       "    .dataframe tbody tr th:only-of-type {\n",
       "        vertical-align: middle;\n",
       "    }\n",
       "\n",
       "    .dataframe tbody tr th {\n",
       "        vertical-align: top;\n",
       "    }\n",
       "\n",
       "    .dataframe thead th {\n",
       "        text-align: right;\n",
       "    }\n",
       "</style>\n",
       "<table border=\"1\" class=\"dataframe\">\n",
       "  <thead>\n",
       "    <tr style=\"text-align: right;\">\n",
       "      <th></th>\n",
       "      <th>Temp</th>\n",
       "    </tr>\n",
       "    <tr>\n",
       "      <th>Date</th>\n",
       "      <th></th>\n",
       "    </tr>\n",
       "  </thead>\n",
       "  <tbody>\n",
       "    <tr>\n",
       "      <th>1981-01-01</th>\n",
       "      <td>20.7</td>\n",
       "    </tr>\n",
       "    <tr>\n",
       "      <th>1981-01-02</th>\n",
       "      <td>17.9</td>\n",
       "    </tr>\n",
       "    <tr>\n",
       "      <th>1981-01-03</th>\n",
       "      <td>18.8</td>\n",
       "    </tr>\n",
       "    <tr>\n",
       "      <th>1981-01-04</th>\n",
       "      <td>14.6</td>\n",
       "    </tr>\n",
       "    <tr>\n",
       "      <th>1981-01-05</th>\n",
       "      <td>15.8</td>\n",
       "    </tr>\n",
       "  </tbody>\n",
       "</table>\n",
       "</div>"
      ],
      "text/plain": [
       "            Temp\n",
       "Date            \n",
       "1981-01-01  20.7\n",
       "1981-01-02  17.9\n",
       "1981-01-03  18.8\n",
       "1981-01-04  14.6\n",
       "1981-01-05  15.8"
      ]
     },
     "execution_count": 33,
     "metadata": {},
     "output_type": "execute_result"
    }
   ],
   "source": [
    "### BEGIN SOLUTION\n",
    "\n",
    "### END SOLUTION\n",
    "temperature.head()"
   ]
  },
  {
   "cell_type": "markdown",
   "metadata": {},
   "source": [
    ">**Instruction** : <br>\n",
    "Save the data in `Series` format using `pd.Series`\n",
    "\n",
    ">**Expected Result** : <br>\n",
    "Example of the first 5 rows of data:\n",
    "\n",
    "Date|---\n",
    "---|---\n",
    "1981-01-01|    20.7\n",
    "1981-01-02|    17.9\n",
    "1981-01-03|    18.8\n",
    "1981-01-04|    14.6\n",
    "1981-01-05|    15.8"
   ]
  },
  {
   "cell_type": "code",
   "execution_count": 34,
   "metadata": {},
   "outputs": [
    {
     "data": {
      "text/plain": [
       "Date\n",
       "1981-01-01    20.7\n",
       "1981-01-02    17.9\n",
       "1981-01-03    18.8\n",
       "1981-01-04    14.6\n",
       "1981-01-05    15.8\n",
       "Name: Temp, dtype: float64"
      ]
     },
     "execution_count": 34,
     "metadata": {},
     "output_type": "execute_result"
    }
   ],
   "source": [
    "### BEGIN SOLUTION\n",
    "### END SOLUTION\n",
    "temperature_ts.head()"
   ]
  },
  {
   "cell_type": "markdown",
   "metadata": {},
   "source": [
    "## Data Visualization\n",
    "Data visualization is important for us to visualize the pattern of data such as trend and seasonality.\n",
    ">**Instruction** : <br>\n",
    "Use `df.plot()` to plot the `temperature_ts`"
   ]
  },
  {
   "cell_type": "code",
   "execution_count": 35,
   "metadata": {},
   "outputs": [
    {
     "data": {
      "text/plain": [
       "<AxesSubplot:xlabel='Date'>"
      ]
     },
     "execution_count": 35,
     "metadata": {},
     "output_type": "execute_result"
    },
    {
     "data": {
      "image/png": "[encoded data removed]",
      "text/plain": [
       "<Figure size 432x288 with 1 Axes>"
      ]
     },
     "metadata": {
      "needs_background": "light"
     },
     "output_type": "display_data"
    }
   ],
   "source": [
    "## BEGIN SOLUTION\n",
    "temperature_ts.plot()\n",
    "### END SOLUTION"
   ]
  },
  {
   "cell_type": "markdown",
   "metadata": {},
   "source": [
    "## Data Splitting"
   ]
  },
  {
   "cell_type": "code",
   "execution_count": 36,
   "metadata": {},
   "outputs": [],
   "source": [
    "# Create split data ratio\n",
    "split_ratio = round(len(temperature_ts)*split_data_ratio_temperature)"
   ]
  },
  {
   "cell_type": "code",
   "execution_count": 37,
   "metadata": {},
   "outputs": [
    {
     "name": "stdout",
     "output_type": "stream",
     "text": [
      "train_data_shampoo_shape\n",
      "(2555,)\n",
      "test_data_shampoo_shape\n",
      "(1095,)\n"
     ]
    }
   ],
   "source": [
    "# Split data by indexing \n",
    "train_data_temperature= temperature_ts[:split_ratio]\n",
    "test_data_temperature = temperature_ts[split_ratio:]\n",
    "train_time_temperature = temperature_ts.index[:split_ratio ]\n",
    "test_time_temperature = temperature_ts.index[split_ratio:]\n",
    "print(\"train_data_shampoo_shape\")\n",
    "print(train_data_temperature.shape)\n",
    "print(\"test_data_shampoo_shape\")\n",
    "print(test_data_temperature.shape)"
   ]
  },
  {
   "cell_type": "markdown",
   "metadata": {},
   "source": [
    "## Data Standardization\n",
    ">**Instruction** : <br>\n",
    "Use `StandardScaler()` to  standardize the data, save your data scaler into `scaler_temperature`.<br>\n",
    "Train and test scaled data into `scaler_train_shampoo_data ` and `test_data_scaled_temperature`.<br>\n",
    "\n",
    "Example :<br>\n",
    "`train_data_scaled_temperature = scaler_temperature.transform(train_data_temperature.values.reshape(-1, 1))`\n"
   ]
  },
  {
   "cell_type": "code",
   "execution_count": 38,
   "metadata": {},
   "outputs": [],
   "source": [
    "### BEGIN SOLUTION\n",
    "\n",
    "### END SOLUTION"
   ]
  },
  {
   "cell_type": "markdown",
   "metadata": {},
   "source": [
    "## Data Sequencing \n",
    ">**Instruction** : <br>\n",
    "Use `data_module.univariate_single_step` to perform sliding window operation by taking the scaled data and save your data into respective `x` and `y` variable.<br>\n",
    "\n",
    "Example :<br>\n",
    "`trainX_temperature ,trainY_temperature =  data_module.univariate_single_step(train_data_scaled_temperature,\n",
    "                                                                             window_size_temperature)`"
   ]
  },
  {
   "cell_type": "code",
   "execution_count": 39,
   "metadata": {},
   "outputs": [
    {
     "name": "stdout",
     "output_type": "stream",
     "text": [
      "trainX shape:(2543, 12, 1) trainY shape:(2543, 1)\n",
      "\n",
      "testX shape:(1083, 12, 1) testX shape:(1083, 1)\n"
     ]
    }
   ],
   "source": [
    "### BEGIN SOLUTION\n",
    "\n",
    "### END SOLUTION\n",
    "print(f\"trainX shape:{trainX_temperature.shape} trainY shape:{trainY_temperature.shape}\\n\")\n",
    "print(f\"testX shape:{testX_temperature.shape} testX shape:{testY_temperature.shape}\")"
   ]
  },
  {
   "cell_type": "code",
   "execution_count": 40,
   "metadata": {},
   "outputs": [
    {
     "name": "stdout",
     "output_type": "stream",
     "text": [
      "trainY shape:(2543, 1, 1)\n",
      "testY shape:(1083, 1, 1)\n"
     ]
    }
   ],
   "source": [
    "trainY_temperature= trainY_temperature.reshape(trainY_temperature.shape[0],n_step,1)\n",
    "testY_temperature= testY_temperature.reshape(testY_temperature.shape[0],n_step,1)\n",
    "print(f\"trainY shape:{trainY_temperature.shape}\")\n",
    "print(f\"testY shape:{testY_temperature.shape}\")"
   ]
  },
  {
   "cell_type": "markdown",
   "metadata": {},
   "source": [
    "## Data Transform\n",
    "Data has to be transformed from `NumPy` to `PyTorch` tensor before feeding into the CNN-LSTM model.\n",
    "\n",
    ">**Instruction** : <br>\n",
    "Use `data_module.key_assign` to assign the key and `data_module.transform` to transform the data."
   ]
  },
  {
   "cell_type": "code",
   "execution_count": 41,
   "metadata": {},
   "outputs": [],
   "source": [
    "# Key Assign \n",
    "### BEGIN SOLUTION\n",
    "\n",
    "### END SOLUTION\n",
    "\n",
    "# Transform data\n",
    "### BEGIN SOLUTION\n",
    "\n",
    "### END SOLUTION"
   ]
  },
  {
   "cell_type": "code",
   "execution_count": 42,
   "metadata": {},
   "outputs": [
    {
     "name": "stdout",
     "output_type": "stream",
     "text": [
      "train_data_x_feature shape : torch.Size([2543, 12, 1])\n",
      "train_data_y_label shape : torch.Size([2543, 1, 1])\n",
      "test_data_x_feature shape : torch.Size([1083, 12, 1])\n",
      "test_data_y_label shape : torch.Size([1083, 1, 1])\n"
     ]
    }
   ],
   "source": [
    "data_module.sanity_check(train_data_dict_temperature , test_data_dict_temperature)"
   ]
  },
  {
   "cell_type": "markdown",
   "metadata": {},
   "source": [
    "## Data Transpose \n",
    "You are required to transpose the x-feature data in such a way that : <br>\n",
    ">`(batch_size, number_of_features, sequence_length)`.\n",
    "\n",
    "This is because CNN requires the input shape as `(batch_size, number_of_features, sequence_length)` .\n",
    "\n",
    ">**Instruction** : <br>\n",
    "Use `transpose` function in `data_module.py` to transpose the suitable input data for CNN-LSTM model."
   ]
  },
  {
   "cell_type": "code",
   "execution_count": 43,
   "metadata": {},
   "outputs": [],
   "source": [
    "### BEGIN SOLUTION\n",
    "\n",
    "### END SOLUTION"
   ]
  },
  {
   "cell_type": "markdown",
   "metadata": {},
   "source": [
    "## Data Iterator\n",
    ">**Instruction** : <br>\n",
    "Use `data_module.iterator` to create data iterator"
   ]
  },
  {
   "cell_type": "code",
   "execution_count": 44,
   "metadata": {},
   "outputs": [],
   "source": [
    "# Create Iterator\n",
    "### BEGIN SOLUTION\n",
    "\n",
    "### END SOLUTION"
   ]
  },
  {
   "cell_type": "markdown",
   "metadata": {},
   "source": [
    "# Step 2 : CNN-LSTM Configuration \n",
    ">**Instruction** : <br>\n",
    "You are suggested to configure your own CNN-LSTM model. Name the `Combine` class as `Combine_temperature` "
   ]
  },
  {
   "cell_type": "code",
   "execution_count": 45,
   "metadata": {},
   "outputs": [],
   "source": [
    "class CNN(nn.Module):\n",
    "    def __init__(self,n_features,n_step):\n",
    "        super(CNN, self).__init__()\n",
    "        ### BEGIN SOLUTION\n",
    "        \n",
    "        \n",
    "        ### END SOLUTION\n",
    "\n",
    "    def forward(self, x):\n",
    "        ### BEGIN SOLUTION\n",
    "       \n",
    "    \n",
    "        ### END SOLUTION\n",
    "        return x\n",
    "\n",
    "\n",
    "class Combine_temperature(nn.Module):\n",
    "    def __init__(self,n_features,n_step,hidden_size,num_layers):\n",
    "        super(Combine_temperature, self).__init__()\n",
    "        ### BEGIN SOLUTION\n",
    "        \n",
    "        \n",
    "        ### END SOLUTION\n",
    "\n",
    "    def forward(self, x):\n",
    "        # The data flow into CNN first\n",
    "        c_out = self.cnn(x)\n",
    "\n",
    "        # Reshape the c_out to fit in LSTM\n",
    "        c_out = torch.reshape(c_out,(c_out.shape[0],c_out.shape[1],1))\n",
    "\n",
    "        # Initialize hidden state with zeros\n",
    "        h0 = torch.zeros(self.num_layers, x.size(0), self.hidden_size)\n",
    "\n",
    "        # Initialize cell state\n",
    "        c0 = torch.zeros(self.num_layers, x.size(0), self.hidden_size)\n",
    "        \n",
    "        # The output of CNN will flow into LSTM \n",
    "        out, (hn, cn) = self.lstm(c_out, (h0.detach(), c0.detach()))\n",
    "        \n",
    "        out = out[:, -1, :]\n",
    "        \n",
    "        out = self.linear(out)\n",
    "        ### END SOLUTION\n",
    "        \n",
    "\n",
    "        return (out)"
   ]
  },
  {
   "cell_type": "markdown",
   "metadata": {},
   "source": [
    "## Input Model\n",
    "\n",
    "\n",
    "\n",
    ">**Instruction** : <br>\n",
    "Use the `Combine_temperature` configuration as the model for the temperature data. Use `Adam` as the optimizer and `MSE` as the loss function."
   ]
  },
  {
   "cell_type": "code",
   "execution_count": 46,
   "metadata": {},
   "outputs": [],
   "source": [
    "# seed\n",
    "torch.manual_seed(123)\n",
    "\n",
    "n_feature_temperature = train_data_dict_temperature['train_data_x_feature'].shape[1]\n",
    "hidden_size_temperature = 16\n",
    "num_layers_temperature = 1\n",
    "\n",
    "### BEGIN SOLUTION\n",
    "\n",
    "\n",
    "#loss function\n",
    "\n",
    "\n",
    "#optimiser\n",
    "\n",
    "### END SOLUTION"
   ]
  },
  {
   "cell_type": "code",
   "execution_count": 47,
   "metadata": {},
   "outputs": [
    {
     "name": "stdout",
     "output_type": "stream",
     "text": [
      "==========================================================================\n",
      "                             Kernel Shape  Output Shape  Params Mult-Adds\n",
      "Layer                                                                    \n",
      "0_cnn.Conv1d_conv1             [1, 10, 2]  [30, 10, 11]    30.0     220.0\n",
      "1_cnn.AdaptiveMaxPool1d_poo1            -   [30, 10, 1]       -         -\n",
      "2_cnn.Linear_fc1                 [10, 20]      [30, 20]   220.0     200.0\n",
      "3_cnn.Linear_fc2                  [20, 1]       [30, 1]    21.0      20.0\n",
      "4_lstm                                  -   [30, 1, 16]  1.216k    1.088k\n",
      "5_linear                          [16, 1]       [30, 1]    17.0      16.0\n",
      "--------------------------------------------------------------------------\n",
      "                      Totals\n",
      "Total params          1.504k\n",
      "Trainable params      1.504k\n",
      "Non-trainable params     0.0\n",
      "Mult-Adds             1.544k\n",
      "==========================================================================\n",
      "                             Kernel Shape  Output Shape  Params  Mult-Adds\n",
      "Layer                                                                     \n",
      "0_cnn.Conv1d_conv1             [1, 10, 2]  [30, 10, 11]    30.0      220.0\n",
      "1_cnn.AdaptiveMaxPool1d_poo1            -   [30, 10, 1]     NaN        NaN\n",
      "2_cnn.Linear_fc1                 [10, 20]      [30, 20]   220.0      200.0\n",
      "3_cnn.Linear_fc2                  [20, 1]       [30, 1]    21.0       20.0\n",
      "4_lstm                                  -   [30, 1, 16]  1216.0     1088.0\n",
      "5_linear                          [16, 1]       [30, 1]    17.0       16.0\n"
     ]
    }
   ],
   "source": [
    "seq_length_temperature = train_data_dict_temperature['train_data_x_feature'].shape[2]\n",
    "inputs = torch.zeros((batch_size_temperature,\n",
    "                      n_feature_temperature ,\n",
    "                      seq_length_temperature),dtype=torch.float) # batch size ,input_dim ,seq_length\n",
    "print(summary(model_temperature,inputs))"
   ]
  },
  {
   "cell_type": "code",
   "execution_count": 48,
   "metadata": {},
   "outputs": [
    {
     "data": {
      "text/plain": [
       "Combine_temperature(\n",
       "  (cnn): CNN(\n",
       "    (conv1): Conv1d(1, 10, kernel_size=(2,), stride=(1,))\n",
       "    (poo1): AdaptiveMaxPool1d(output_size=1)\n",
       "    (fc1): Linear(in_features=10, out_features=20, bias=True)\n",
       "    (fc2): Linear(in_features=20, out_features=1, bias=True)\n",
       "  )\n",
       "  (lstm): LSTM(1, 16, batch_first=True)\n",
       "  (linear): Linear(in_features=16, out_features=1, bias=True)\n",
       ")"
      ]
     },
     "execution_count": 48,
     "metadata": {},
     "output_type": "execute_result"
    }
   ],
   "source": [
    "# seed\n",
    "torch.manual_seed(123)\n",
    "\n",
    "def weights_init(m):\n",
    "    if isinstance(m, nn.Conv1d):\n",
    "        nn.init.xavier_uniform_(m.weight.data)\n",
    "        \n",
    "model_temperature.apply(weights_init)"
   ]
  },
  {
   "cell_type": "markdown",
   "metadata": {},
   "source": [
    "# Step 3 : Training"
   ]
  },
  {
   "cell_type": "code",
   "execution_count": 49,
   "metadata": {},
   "outputs": [],
   "source": [
    "torch.manual_seed(123)\n",
    "train_loss_temperature,val_loss_temperature = deep_learning_module.training(num_epochs_temperature,\n",
    "                                                                    train_iter_temperature,\n",
    "                                                                    test_iter_temperature,\n",
    "                                                                    optimizer_temperature,\n",
    "                                                                    loss_fn_temperature,\n",
    "                                                                    model_temperature)"
   ]
  },
  {
   "cell_type": "markdown",
   "metadata": {},
   "source": [
    "# Step 4 : Validation"
   ]
  },
  {
   "cell_type": "code",
   "execution_count": 50,
   "metadata": {},
   "outputs": [
    {
     "data": {
      "image/png": "[encoded data removed]",
      "text/plain": [
       "<Figure size 720x432 with 1 Axes>"
      ]
     },
     "metadata": {
      "needs_background": "light"
     },
     "output_type": "display_data"
    },
    {
     "name": "stdout",
     "output_type": "stream",
     "text": [
      "Epoch : 0 , training loss : 0.9985006988704838 , validation loss : 0.9572441407848263\n",
      "Epoch : 1 , training loss : 0.9758131004697077 , validation loss : 0.8860651249700636\n",
      "Epoch : 2 , training loss : 0.777093138556006 , validation loss : 0.5314532666572903\n",
      "Epoch : 3 , training loss : 0.5373430571076067 , validation loss : 0.43756038107370077\n",
      "Epoch : 4 , training loss : 0.5087938759559447 , validation loss : 0.434310194816946\n",
      "Epoch : 5 , training loss : 0.5053702885013277 , validation loss : 0.4335039978294822\n",
      "Epoch : 6 , training loss : 0.503176428146171 , validation loss : 0.4327814174078178\n",
      "Epoch : 7 , training loss : 0.5013193616799562 , validation loss : 0.4320527714292759\n",
      "Epoch : 8 , training loss : 0.49974827892049956 , validation loss : 0.4312915934915358\n",
      "Epoch : 9 , training loss : 0.4983278688276278 , validation loss : 0.4306610502777337\n",
      "Epoch : 10 , training loss : 0.4970620739216229 , validation loss : 0.4299441736160553\n",
      "Epoch : 11 , training loss : 0.4959346680977754 , validation loss : 0.4292373319164207\n",
      "Epoch : 12 , training loss : 0.49488347639870656 , validation loss : 0.4286337094458847\n",
      "Epoch : 13 , training loss : 0.4939158684125436 , validation loss : 0.4279923974394468\n",
      "Epoch : 14 , training loss : 0.4929787603082781 , validation loss : 0.4274510086160618\n",
      "Epoch : 15 , training loss : 0.4921086557353054 , validation loss : 0.4268297628187407\n",
      "Epoch : 16 , training loss : 0.4912283139063812 , validation loss : 0.4262143783787281\n",
      "Epoch : 17 , training loss : 0.4904324902800936 , validation loss : 0.42552550050360344\n",
      "Epoch : 18 , training loss : 0.48968448949010174 , validation loss : 0.4249087761561296\n",
      "Epoch : 19 , training loss : 0.4889578012045659 , validation loss : 0.4243364821593187\n",
      "Epoch : 20 , training loss : 0.48825257829076607 , validation loss : 0.42384625310878016\n",
      "Epoch : 21 , training loss : 0.48757008389605344 , validation loss : 0.42342724108299723\n",
      "Epoch : 22 , training loss : 0.486912488972536 , validation loss : 0.4229317332238702\n",
      "Epoch : 23 , training loss : 0.4863161812534587 , validation loss : 0.4224196938266384\n",
      "Epoch : 24 , training loss : 0.4857251270287064 , validation loss : 0.4218235488083224\n",
      "Epoch : 25 , training loss : 0.4851950560082988 , validation loss : 0.42125931485372897\n",
      "Epoch : 26 , training loss : 0.48467495258146037 , validation loss : 0.42082678049885336\n",
      "Epoch : 27 , training loss : 0.48417836809739606 , validation loss : 0.4205189405881137\n",
      "Epoch : 28 , training loss : 0.48369586253278707 , validation loss : 0.4202130890949281\n",
      "Epoch : 29 , training loss : 0.48319076690156304 , validation loss : 0.4199597622961879\n",
      "Epoch : 30 , training loss : 0.48266752451552775 , validation loss : 0.4196622038977298\n",
      "Epoch : 31 , training loss : 0.48211023788071505 , validation loss : 0.41935652362342685\n",
      "Epoch : 32 , training loss : 0.4815588028961591 , validation loss : 0.4190466455145226\n",
      "Epoch : 33 , training loss : 0.4810159188459766 , validation loss : 0.4186802108532174\n",
      "Epoch : 34 , training loss : 0.4805611787210803 , validation loss : 0.41832736889906535\n",
      "Epoch : 35 , training loss : 0.48010917939025965 , validation loss : 0.4180406466167719\n",
      "Epoch : 36 , training loss : 0.47972508805547226 , validation loss : 0.41776411326142887\n",
      "Epoch : 37 , training loss : 0.4793647885135061 , validation loss : 0.4175183962504289\n",
      "Epoch : 38 , training loss : 0.47900019803480326 , validation loss : 0.4171883206701015\n",
      "Epoch : 39 , training loss : 0.4786372305228398 , validation loss : 0.4168901894231252\n",
      "Epoch : 40 , training loss : 0.47826765662237175 , validation loss : 0.41654660224584333\n",
      "Epoch : 41 , training loss : 0.47793551427475167 , validation loss : 0.4162693493831851\n",
      "Epoch : 42 , training loss : 0.4776477371783787 , validation loss : 0.4160774467807067\n",
      "Epoch : 43 , training loss : 0.4773952450121288 , validation loss : 0.41590424278271165\n",
      "Epoch : 44 , training loss : 0.47714091318824653 , validation loss : 0.4157523707257083\n",
      "Epoch : 45 , training loss : 0.476897387032522 , validation loss : 0.4156351825041784\n",
      "Epoch : 46 , training loss : 0.4766536065784909 , validation loss : 0.41555998542467315\n",
      "Epoch : 47 , training loss : 0.4764123206362685 , validation loss : 0.41543545415031613\n",
      "Epoch : 48 , training loss : 0.4761660498542388 , validation loss : 0.4153686713561457\n",
      "Epoch : 49 , training loss : 0.47593841418430555 , validation loss : 0.415336564348345\n",
      "Epoch : 50 , training loss : 0.47571354077830824 , validation loss : 0.4153189725988129\n",
      "Epoch : 51 , training loss : 0.4755000019701644 , validation loss : 0.41529062712291603\n",
      "Epoch : 52 , training loss : 0.47530147305539966 , validation loss : 0.4151734345259759\n",
      "Epoch : 53 , training loss : 0.47510073900316535 , validation loss : 0.4151730469719525\n",
      "Epoch : 54 , training loss : 0.4749234118215034 , validation loss : 0.41507540156141215\n",
      "Epoch : 55 , training loss : 0.4747484843654985 , validation loss : 0.4149807610670285\n",
      "Epoch : 56 , training loss : 0.47456779147853917 , validation loss : 0.41493888471760576\n",
      "Epoch : 57 , training loss : 0.47440261537054607 , validation loss : 0.4148641141167638\n",
      "Epoch : 58 , training loss : 0.4742575191017028 , validation loss : 0.41472286452381896\n",
      "Epoch : 59 , training loss : 0.47408509515797204 , validation loss : 0.4145871346759664\n",
      "Epoch : 60 , training loss : 0.47392650574996537 , validation loss : 0.41444679215509145\n",
      "Epoch : 61 , training loss : 0.47376677127883887 , validation loss : 0.4143167219829031\n",
      "Epoch : 62 , training loss : 0.47357730824695154 , validation loss : 0.41417929980067997\n",
      "Epoch : 63 , training loss : 0.4733982184741425 , validation loss : 0.4140134295680847\n",
      "Epoch : 64 , training loss : 0.47322141050683014 , validation loss : 0.4138744272436131\n",
      "Epoch : 65 , training loss : 0.4730125231696919 , validation loss : 0.41376320415091317\n",
      "Epoch : 66 , training loss : 0.4728453344849681 , validation loss : 0.41364603429785063\n",
      "Epoch : 67 , training loss : 0.4726730410479862 , validation loss : 0.41360595917272436\n",
      "Epoch : 68 , training loss : 0.47253030748335434 , validation loss : 0.413501851570243\n",
      "Epoch : 69 , training loss : 0.47237105478323493 , validation loss : 0.41331676668242406\n",
      "Epoch : 70 , training loss : 0.47217128306592115 , validation loss : 0.41326821799753777\n",
      "Epoch : 71 , training loss : 0.4719728479880402 , validation loss : 0.41319977382708784\n",
      "Epoch : 72 , training loss : 0.4718166409376049 , validation loss : 0.4131837742315435\n",
      "Epoch : 73 , training loss : 0.47166680696673435 , validation loss : 0.4131647577493805\n",
      "Epoch : 74 , training loss : 0.4715286402007608 , validation loss : 0.4131220028918866\n",
      "Epoch : 75 , training loss : 0.4713687522412284 , validation loss : 0.41313671380529116\n",
      "Epoch : 76 , training loss : 0.4712269131916037 , validation loss : 0.4131438674771555\n",
      "Epoch : 77 , training loss : 0.4710853064899317 , validation loss : 0.4131632961559824\n",
      "Epoch : 78 , training loss : 0.47094051386960323 , validation loss : 0.4132243027069562\n",
      "Epoch : 79 , training loss : 0.47078035426711734 , validation loss : 0.4132728123433702\n",
      "Epoch : 80 , training loss : 0.4706283783143869 , validation loss : 0.41325709376473835\n",
      "Epoch : 81 , training loss : 0.470517137612689 , validation loss : 0.4132472816183957\n",
      "Epoch : 82 , training loss : 0.47040983562248223 , validation loss : 0.4132520433855849\n",
      "Epoch : 83 , training loss : 0.47027261480776944 , validation loss : 0.4132689032445654\n",
      "Epoch : 84 , training loss : 0.47012500770205456 , validation loss : 0.4131567912831531\n",
      "Epoch : 85 , training loss : 0.4699880931258342 , validation loss : 0.4132100691673168\n",
      "Epoch : 86 , training loss : 0.4698543543661855 , validation loss : 0.41322035121620526\n",
      "Epoch : 87 , training loss : 0.4697288470712648 , validation loss : 0.41310762818335167\n",
      "Epoch : 88 , training loss : 0.46956847432885074 , validation loss : 0.41311976916241844\n",
      "Epoch : 89 , training loss : 0.46946300482403047 , validation loss : 0.41309826426889096\n",
      "Epoch : 90 , training loss : 0.46935681750865327 , validation loss : 0.41311881123652416\n",
      "Epoch : 91 , training loss : 0.46926214634739316 , validation loss : 0.4131090737610973\n",
      "Epoch : 92 , training loss : 0.46917043253046953 , validation loss : 0.41316890551442914\n",
      "Epoch : 93 , training loss : 0.4690751265082545 , validation loss : 0.4132872837237044\n",
      "Epoch : 94 , training loss : 0.46902203944270365 , validation loss : 0.41331863151527837\n",
      "Epoch : 95 , training loss : 0.4689275035110928 , validation loss : 0.4134225920461882\n",
      "Epoch : 96 , training loss : 0.46886121734502134 , validation loss : 0.4134268743757396\n",
      "Epoch : 97 , training loss : 0.468783214635564 , validation loss : 0.41355109235421444\n",
      "Epoch : 98 , training loss : 0.46871178100018157 , validation loss : 0.41361077171118305\n",
      "Epoch : 99 , training loss : 0.4686232762124845 , validation loss : 0.41365278918822385\n"
     ]
    }
   ],
   "source": [
    "data_module.learning_curve(num_epochs = num_epochs_temperature , train_loss = train_loss_temperature , val_loss = val_loss_temperature )\n"
   ]
  },
  {
   "cell_type": "markdown",
   "metadata": {},
   "source": [
    "# Step 5 : Evaluation\n",
    "This section is to inference the model by feeding in testing data, determining the output forecast values and calculating the RMSE.\n",
    ">**Instruction** : <br>\n",
    "Use the function created in `data_module.py` to perform the task in each section.\n",
    "\n",
    "It consists of 4 sections :\n",
    "\n",
    "Section 1 : Feed in the train and test data to the model <br>\n",
    "Section 2 : Reshape both to the original data dimension <br> \n",
    "Section 3 : Invert the scaling back to the original data value <br>\n",
    "Section 4 : Calculate the RMSE of train and test dat"
   ]
  },
  {
   "cell_type": "code",
   "execution_count": 51,
   "metadata": {},
   "outputs": [],
   "source": [
    "# Section 1 : make predictions\n",
    "### BEGIN SOLUTION\n",
    "\n",
    "\n",
    "    \n",
    "### END SOLUTION"
   ]
  },
  {
   "cell_type": "code",
   "execution_count": 52,
   "metadata": {},
   "outputs": [],
   "source": [
    "# Assign evaluation key\n",
    "### BEGIN SOLUTION\n",
    "\n",
    "\n",
    "### END SOLUTION\n",
    "\n",
    "\n",
    "# Section 2 : Reshape to original data\n",
    "# Squeeze the output dimension\n",
    "### BEGIN SOLUTION\n",
    "\n",
    "### END SOLUTION"
   ]
  },
  {
   "cell_type": "code",
   "execution_count": 53,
   "metadata": {},
   "outputs": [
    {
     "name": "stdout",
     "output_type": "stream",
     "text": [
      "train_data_output shape : torch.Size([2543, 1])\n",
      "test_data_output shape : torch.Size([1083, 1])\n"
     ]
    }
   ],
   "source": [
    "data_module.sanity_check(data_1 = output_temperature,data_2 = {})"
   ]
  },
  {
   "cell_type": "code",
   "execution_count": 54,
   "metadata": {},
   "outputs": [],
   "source": [
    "# Section 3 : Invert the scaling back to orignal data value\n",
    "### BEGIN SOLUTION\n",
    "\n",
    "\n",
    "### END SOLUTION"
   ]
  },
  {
   "cell_type": "code",
   "execution_count": 55,
   "metadata": {},
   "outputs": [
    {
     "name": "stdout",
     "output_type": "stream",
     "text": [
      "Test Data\t\t\tForecast\n",
      "[22.4]\t\t[14.9955015]\n",
      "[21.4]\t\t[15.557701]\n",
      "[20.9]\t\t[15.687998]\n",
      "[17.6]\t\t[15.68926]\n",
      "[15.5]\t\t[16.57226]\n",
      "[16.6]\t\t[16.563574]\n",
      "[16.2]\t\t[16.565306]\n",
      "[15.6]\t\t[16.565306]\n",
      "[14.5]\t\t[16.570417]\n",
      "[14.]\t\t[16.222725]\n",
      "[15.6]\t\t[15.922065]\n",
      "[12.3]\t\t[15.922065]\n",
      "[11.6]\t\t[14.768542]\n",
      "[12.6]\t\t[14.160765]\n",
      "[14.9]\t\t[13.9098]\n",
      "[17.300001]\t\t[13.802186]\n",
      "[21.4]\t\t[13.754175]\n",
      "[23.4]\t\t[14.276303]\n",
      "[14.4]\t\t[14.715338]\n",
      "[14.1]\t\t[14.715338]\n",
      "[15.]\t\t[14.715338]\n",
      "[14.5]\t\t[14.715338]\n",
      "[15.1]\t\t[14.715338]\n",
      "[13.900001]\t\t[14.715338]\n",
      "[13.4]\t\t[15.3437605]\n",
      "[9.2]\t\t[15.8544855]\n",
      "[12.5]\t\t[13.102722]\n",
      "[15.1]\t\t[13.057842]\n",
      "[12.1]\t\t[13.057842]\n",
      "[14.5]\t\t[12.632841]\n",
      "[16.3]\t\t[12.271707]\n",
      "[16.5]\t\t[12.435296]\n",
      "[14.9]\t\t[12.554744]\n",
      "[13.2]\t\t[12.554744]\n",
      "[11.8]\t\t[12.554744]\n",
      "[13.6]\t\t[12.554744]\n",
      "[16.2]\t\t[12.554744]\n",
      "[14.1]\t\t[14.234973]\n",
      "[13.5]\t\t[14.058261]\n",
      "[15.]\t\t[14.016605]\n",
      "[14.8]\t\t[14.016605]\n",
      "[16.2]\t\t[14.016605]\n",
      "[16.2]\t\t[14.016605]\n",
      "[13.3]\t\t[13.972769]\n",
      "[15.3]\t\t[13.972769]\n",
      "[18.4]\t\t[13.972769]\n",
      "[16.2]\t\t[14.888962]\n",
      "[16.3]\t\t[14.996829]\n",
      "[12.4]\t\t[14.996829]\n",
      "[15.6]\t\t[14.473824]\n",
      "[14.9]\t\t[14.622365]\n",
      "[14.8]\t\t[14.622365]\n",
      "[12.7]\t\t[14.622365]\n",
      "[14.2]\t\t[14.600939]\n",
      "[16.8]\t\t[14.589179]\n",
      "[16.7]\t\t[14.589179]\n",
      "[16.2]\t\t[14.589179]\n",
      "[14.5]\t\t[14.651538]\n",
      "[10.]\t\t[14.638639]\n",
      "[12.6]\t\t[13.0334]\n",
      "[11.9]\t\t[12.973426]\n",
      "[11.8]\t\t[12.8615]\n",
      "[13.4]\t\t[12.8615]\n",
      "[14.5]\t\t[12.8615]\n",
      "[15.7]\t\t[12.8615]\n",
      "[15.3]\t\t[12.8615]\n",
      "[13.900001]\t\t[12.940834]\n",
      "[13.7]\t\t[12.868336]\n",
      "[15.1]\t\t[12.695682]\n",
      "[15.6]\t\t[12.695682]\n",
      "[14.4]\t\t[13.938633]\n",
      "[13.900001]\t\t[13.576862]\n",
      "[16.2]\t\t[13.576862]\n",
      "[16.7]\t\t[14.815612]\n",
      "[15.5]\t\t[15.198104]\n",
      "[16.4]\t\t[15.198104]\n",
      "[17.5]\t\t[15.198104]\n",
      "[18.2]\t\t[15.291485]\n",
      "[16.1]\t\t[15.394352]\n",
      "[16.5]\t\t[15.522901]\n",
      "[14.6]\t\t[15.522901]\n",
      "[16.4]\t\t[15.522901]\n",
      "[13.6]\t\t[15.522901]\n",
      "[15.900001]\t\t[15.360127]\n",
      "[11.9]\t\t[15.361797]\n",
      "[14.7]\t\t[14.268104]\n",
      "[9.4]\t\t[14.47011]\n",
      "[6.6]\t\t[12.766207]\n",
      "[7.9]\t\t[10.399885]\n",
      "[11.]\t\t[10.113667]\n",
      "[15.7]\t\t[10.304615]\n",
      "[15.2]\t\t[10.485331]\n",
      "[15.900001]\t\t[10.485331]\n",
      "[10.6]\t\t[10.446864]\n",
      "[8.3]\t\t[10.446864]\n",
      "[8.6]\t\t[10.446864]\n",
      "[12.7]\t\t[10.446864]\n",
      "[10.5]\t\t[10.446864]\n",
      "[12.]\t\t[10.446864]\n",
      "[11.1]\t\t[11.327701]\n",
      "[13.]\t\t[11.682689]\n",
      "[12.4]\t\t[11.682689]\n",
      "[13.3]\t\t[11.731328]\n",
      "[15.900001]\t\t[11.731328]\n",
      "[12.]\t\t[11.63313]\n",
      "[13.7]\t\t[11.63313]\n",
      "[17.6]\t\t[11.903539]\n",
      "[14.3]\t\t[13.44593]\n",
      "[13.7]\t\t[13.281793]\n",
      "[15.2]\t\t[13.689362]\n",
      "[14.5]\t\t[13.720377]\n",
      "[14.9]\t\t[14.250549]\n",
      "[15.5]\t\t[14.277884]\n",
      "[16.4]\t\t[14.328795]\n",
      "[14.5]\t\t[14.329002]\n",
      "[12.6]\t\t[14.329002]\n",
      "[13.6]\t\t[14.723796]\n",
      "[11.2]\t\t[14.734097]\n",
      "[11.]\t\t[13.200839]\n",
      "[12.]\t\t[12.99983]\n",
      "[6.8]\t\t[12.99983]\n",
      "[10.6]\t\t[9.818344]\n",
      "[13.1]\t\t[10.794568]\n",
      "[13.5]\t\t[10.794568]\n",
      "[11.7]\t\t[10.794568]\n",
      "[13.2]\t\t[10.582198]\n",
      "[12.]\t\t[10.278867]\n",
      "[10.4]\t\t[10.278867]\n",
      "[10.]\t\t[10.278867]\n",
      "[8.2]\t\t[10.278867]\n",
      "[9.4]\t\t[10.278867]\n",
      "[10.3]\t\t[10.278867]\n",
      "[8.1]\t\t[11.259556]\n",
      "[8.7]\t\t[10.610548]\n",
      "[12.6]\t\t[10.198802]\n",
      "[10.9]\t\t[11.002093]\n",
      "[8.7]\t\t[11.002093]\n",
      "[9.3]\t\t[10.915328]\n",
      "[6.3]\t\t[10.765846]\n",
      "[7.8]\t\t[9.48966]\n",
      "[10.]\t\t[9.409219]\n",
      "[11.]\t\t[9.409219]\n",
      "[11.1]\t\t[9.409219]\n",
      "[12.6]\t\t[9.409219]\n",
      "[10.2]\t\t[9.530794]\n",
      "[11.1]\t\t[9.530794]\n",
      "[8.7]\t\t[9.038143]\n",
      "[9.5]\t\t[9.038143]\n",
      "[9.7]\t\t[9.038143]\n",
      "[8.2]\t\t[9.038143]\n",
      "[4.9999995]\t\t[10.001874]\n",
      "[6.5]\t\t[8.276715]\n",
      "[12.1]\t\t[8.105534]\n",
      "[8.9]\t\t[9.251224]\n",
      "[6.1000004]\t\t[9.251224]\n",
      "[2.7999997]\t\t[9.010433]\n",
      "[3.6999998]\t\t[7.727866]\n",
      "[6.8]\t\t[7.60175]\n",
      "[6.6]\t\t[7.60175]\n",
      "[7.]\t\t[7.60175]\n",
      "[7.3]\t\t[7.60175]\n",
      "[7.9]\t\t[7.60175]\n",
      "[10.6]\t\t[7.60175]\n",
      "[8.1]\t\t[7.60175]\n",
      "[6.7]\t\t[6.990358]\n",
      "[8.]\t\t[6.990358]\n",
      "[10.]\t\t[6.990358]\n",
      "[6.7]\t\t[7.4313197]\n",
      "[9.4]\t\t[8.951243]\n",
      "[9.3]\t\t[8.910669]\n",
      "[6.]\t\t[8.959052]\n",
      "[5.7999997]\t\t[8.647437]\n",
      "[4.9]\t\t[8.44097]\n",
      "[4.9999995]\t\t[7.9533324]\n",
      "[8.400001]\t\t[7.8483605]\n",
      "[12.3]\t\t[8.087513]\n",
      "[13.]\t\t[8.4117155]\n",
      "[11.4]\t\t[8.68105]\n",
      "[6.8]\t\t[8.68105]\n",
      "[7.6]\t\t[8.68105]\n",
      "[12.4]\t\t[8.68105]\n",
      "[7.1]\t\t[8.9756775]\n",
      "[7.5]\t\t[8.9756775]\n",
      "[10.]\t\t[8.9756775]\n",
      "[5.3]\t\t[9.060747]\n",
      "[6.3]\t\t[9.310465]\n",
      "[8.]\t\t[9.224784]\n",
      "[8.3]\t\t[9.224784]\n",
      "[9.3]\t\t[9.049324]\n",
      "[9.5]\t\t[8.915183]\n",
      "[5.6]\t\t[8.915183]\n",
      "[7.]\t\t[8.915183]\n",
      "[8.5]\t\t[7.9869933]\n",
      "[8.5]\t\t[7.9869933]\n",
      "[8.2]\t\t[7.9869933]\n",
      "[8.5]\t\t[7.811738]\n",
      "[9.6]\t\t[7.9546804]\n",
      "[9.7]\t\t[8.023547]\n",
      "[7.1]\t\t[8.000612]\n",
      "[8.400001]\t\t[8.000612]\n",
      "[9.2]\t\t[8.000612]\n",
      "[9.8]\t\t[8.000612]\n",
      "[8.1]\t\t[8.70836]\n",
      "[9.4]\t\t[8.9299345]\n",
      "[10.]\t\t[8.867037]\n",
      "[5.1]\t\t[8.8959]\n",
      "[6.7]\t\t[7.7781157]\n",
      "[6.9]\t\t[7.800798]\n",
      "[6.8]\t\t[7.800798]\n",
      "[8.6]\t\t[7.800798]\n",
      "[9.1]\t\t[7.8021994]\n",
      "[3.8999996]\t\t[7.8021994]\n",
      "[4.8]\t\t[7.227428]\n",
      "[8.400001]\t\t[7.103733]\n",
      "[11.6]\t\t[7.5869403]\n",
      "[12.1]\t\t[7.7203836]\n",
      "[12.4]\t\t[7.9118214]\n",
      "[10.]\t\t[7.9677544]\n",
      "[10.1]\t\t[7.9677544]\n",
      "[9.7]\t\t[7.9677544]\n",
      "[11.7]\t\t[7.9677544]\n",
      "[7.9]\t\t[7.9677544]\n",
      "[8.6]\t\t[7.9677544]\n",
      "[7.7000003]\t\t[8.562271]\n",
      "[5.7999997]\t\t[10.390683]\n",
      "[8.7]\t\t[9.046139]\n",
      "[10.6]\t\t[9.045426]\n",
      "[6.7]\t\t[9.045426]\n",
      "[8.8]\t\t[8.838189]\n",
      "[9.7]\t\t[8.838189]\n",
      "[9.]\t\t[8.838189]\n",
      "[11.8]\t\t[8.838189]\n",
      "[15.2]\t\t[8.817254]\n",
      "[10.]\t\t[9.400497]\n",
      "[10.5]\t\t[9.400497]\n",
      "[5.5]\t\t[9.400497]\n",
      "[9.4]\t\t[9.214424]\n",
      "[8.8]\t\t[9.549955]\n",
      "[5.3]\t\t[9.549955]\n",
      "[13.]\t\t[9.427993]\n",
      "[15.2]\t\t[10.521801]\n",
      "[13.2]\t\t[10.585438]\n",
      "[11.5]\t\t[10.585438]\n",
      "[6.8]\t\t[10.585438]\n",
      "[4.7]\t\t[10.585438]\n",
      "[5.2]\t\t[10.116639]\n",
      "[6.8]\t\t[10.044676]\n",
      "[10.7]\t\t[10.044676]\n",
      "[10.1]\t\t[10.044676]\n",
      "[10.]\t\t[10.044676]\n",
      "[9.8]\t\t[10.044676]\n",
      "[5.5]\t\t[8.932458]\n",
      "[13.5]\t\t[8.78234]\n",
      "[16.6]\t\t[9.57404]\n",
      "[8.400001]\t\t[10.291863]\n",
      "[8.2]\t\t[10.291863]\n",
      "[11.1]\t\t[10.5688095]\n",
      "[10.8]\t\t[10.856514]\n",
      "[8.8]\t\t[11.00476]\n",
      "[10.8]\t\t[11.00476]\n",
      "[8.7]\t\t[11.00476]\n",
      "[12.4]\t\t[11.00476]\n",
      "[9.]\t\t[11.00476]\n",
      "[13.5]\t\t[12.67591]\n",
      "[14.7]\t\t[11.450858]\n",
      "[10.9]\t\t[11.296771]\n",
      "[8.5]\t\t[11.574961]\n",
      "[6.]\t\t[11.951413]\n",
      "[12.7]\t\t[9.965605]\n",
      "[11.1]\t\t[10.759544]\n",
      "[8.7]\t\t[10.759544]\n",
      "[12.3]\t\t[10.759544]\n",
      "[13.3]\t\t[10.759544]\n",
      "[5.6]\t\t[10.759544]\n",
      "[13.7]\t\t[10.337466]\n",
      "[8.5]\t\t[10.6214695]\n",
      "[11.2]\t\t[10.361224]\n",
      "[8.7]\t\t[10.361224]\n",
      "[11.7]\t\t[10.361224]\n",
      "[12.5]\t\t[10.729473]\n",
      "[8.2]\t\t[10.755389]\n",
      "[15.6]\t\t[10.755389]\n",
      "[10.3]\t\t[10.729813]\n",
      "[11.4]\t\t[10.729813]\n",
      "[9.7]\t\t[10.729813]\n",
      "[6.3]\t\t[12.544675]\n",
      "[14.3]\t\t[10.713955]\n",
      "[11.3]\t\t[10.998781]\n",
      "[7.3]\t\t[10.998781]\n",
      "[12.8]\t\t[10.998781]\n",
      "[11.9]\t\t[10.998781]\n",
      "[14.3]\t\t[10.998781]\n",
      "[11.6]\t\t[11.011657]\n",
      "[13.2]\t\t[11.088766]\n",
      "[15.5]\t\t[11.088766]\n",
      "[14.1]\t\t[11.320304]\n",
      "[9.5]\t\t[11.320304]\n",
      "[7.2]\t\t[12.199191]\n",
      "[11.8]\t\t[11.372009]\n",
      "[16.8]\t\t[11.372009]\n",
      "[12.5]\t\t[11.206158]\n",
      "[9.4]\t\t[10.89578]\n",
      "[11.9]\t\t[10.89578]\n",
      "[10.3]\t\t[10.89578]\n",
      "[16.9]\t\t[10.89578]\n",
      "[17.5]\t\t[11.312851]\n",
      "[7.5]\t\t[11.672473]\n",
      "[8.6]\t\t[11.457728]\n",
      "[11.1]\t\t[11.421228]\n",
      "[11.5]\t\t[11.540197]\n",
      "[10.7]\t\t[11.540197]\n",
      "[15.7]\t\t[11.540197]\n",
      "[12.8]\t\t[11.540197]\n",
      "[13.]\t\t[11.540197]\n",
      "[12.9]\t\t[11.540197]\n",
      "[14.3]\t\t[11.540197]\n",
      "[13.7]\t\t[11.226466]\n",
      "[12.1]\t\t[10.661439]\n",
      "[11.9]\t\t[11.724773]\n",
      "[11.8]\t\t[13.343715]\n",
      "[11.4]\t\t[13.591686]\n",
      "[10.3]\t\t[13.591686]\n",
      "[11.7]\t\t[13.288953]\n",
      "[12.]\t\t[12.172019]\n",
      "[17.4]\t\t[12.172019]\n",
      "[16.8]\t\t[13.461272]\n",
      "[16.2]\t\t[13.650904]\n",
      "[13.]\t\t[13.650904]\n",
      "[12.5]\t\t[13.650904]\n",
      "[12.4]\t\t[13.650904]\n",
      "[16.1]\t\t[13.650904]\n",
      "[20.2]\t\t[13.650904]\n",
      "[14.3]\t\t[13.874018]\n",
      "[11.]\t\t[14.794815]\n",
      "[14.4]\t\t[14.392122]\n",
      "[15.7]\t\t[14.417657]\n",
      "[19.7]\t\t[13.842942]\n",
      "[20.699999]\t\t[13.842942]\n",
      "[23.9]\t\t[14.084272]\n",
      "[16.6]\t\t[14.268089]\n",
      "[17.5]\t\t[14.268089]\n",
      "[14.9]\t\t[14.275865]\n",
      "[13.6]\t\t[14.268152]\n",
      "[11.9]\t\t[14.250418]\n",
      "[15.2]\t\t[14.250418]\n",
      "[17.300001]\t\t[14.832942]\n",
      "[19.800001]\t\t[14.833741]\n",
      "[15.8]\t\t[14.833741]\n",
      "[9.5]\t\t[14.749717]\n",
      "[12.9]\t\t[13.153436]\n",
      "[12.9]\t\t[12.936235]\n",
      "[14.8]\t\t[12.936235]\n",
      "[14.1]\t\t[12.936235]\n",
      "[14.3]\t\t[12.936235]\n",
      "[17.4]\t\t[12.936235]\n",
      "[18.5]\t\t[12.936235]\n",
      "[16.8]\t\t[12.936235]\n",
      "[11.5]\t\t[12.936235]\n",
      "[9.5]\t\t[12.952445]\n",
      "[12.2]\t\t[12.714004]\n",
      "[15.7]\t\t[12.91356]\n",
      "[16.3]\t\t[12.84153]\n",
      "[13.6]\t\t[12.84153]\n",
      "[12.6]\t\t[12.84153]\n",
      "[13.8]\t\t[12.84153]\n",
      "[12.1]\t\t[12.84153]\n",
      "[13.4]\t\t[12.912939]\n",
      "[17.300001]\t\t[12.802446]\n",
      "[19.4]\t\t[12.502469]\n",
      "[16.6]\t\t[12.9383335]\n",
      "[13.900001]\t\t[14.525664]\n",
      "[13.1]\t\t[14.800053]\n",
      "[16.]\t\t[14.800053]\n",
      "[14.5]\t\t[14.800053]\n",
      "[15.]\t\t[14.800053]\n",
      "[12.6]\t\t[14.800053]\n",
      "[12.5]\t\t[14.800053]\n",
      "[15.2]\t\t[14.997811]\n",
      "[16.2]\t\t[14.997811]\n",
      "[16.5]\t\t[14.692717]\n",
      "[20.1]\t\t[14.690684]\n",
      "[20.6]\t\t[14.6500845]\n",
      "[16.9]\t\t[14.881058]\n",
      "[16.5]\t\t[14.881058]\n",
      "[16.1]\t\t[14.881058]\n",
      "[14.4]\t\t[14.881058]\n",
      "[16.3]\t\t[14.881058]\n",
      "[15.7]\t\t[14.934076]\n",
      "[14.2]\t\t[16.068924]\n",
      "[13.2]\t\t[16.010483]\n",
      "[16.8]\t\t[15.393248]\n",
      "[18.5]\t\t[15.50718]\n",
      "[16.7]\t\t[15.707202]\n",
      "[15.3]\t\t[15.402556]\n",
      "[15.900001]\t\t[15.402556]\n",
      "[15.2]\t\t[15.402556]\n",
      "[17.5]\t\t[15.402556]\n",
      "[18.3]\t\t[15.402556]\n",
      "[19.4]\t\t[15.410116]\n",
      "[19.4]\t\t[15.545718]\n",
      "[19.5]\t\t[15.594156]\n",
      "[20.5]\t\t[16.644943]\n",
      "[15.7]\t\t[16.20547]\n",
      "[15.]\t\t[16.20547]\n",
      "[16.1]\t\t[16.169369]\n",
      "[14.3]\t\t[16.169369]\n",
      "[13.]\t\t[15.869505]\n",
      "[16.2]\t\t[15.051017]\n",
      "[17.7]\t\t[15.404829]\n",
      "[13.2]\t\t[15.404829]\n",
      "[15.8]\t\t[15.359728]\n",
      "[18.5]\t\t[15.359728]\n",
      "[20.4]\t\t[15.359728]\n",
      "[22.]\t\t[15.238998]\n",
      "[19.7]\t\t[15.39748]\n",
      "[19.6]\t\t[15.39748]\n",
      "[20.3]\t\t[15.39748]\n",
      "[18.3]\t\t[15.39748]\n",
      "[18.9]\t\t[15.566444]\n",
      "[20.3]\t\t[15.378975]\n",
      "[21.4]\t\t[15.378975]\n",
      "[18.3]\t\t[16.46885]\n",
      "[17.8]\t\t[16.345907]\n",
      "[17.7]\t\t[15.989158]\n",
      "[12.8]\t\t[15.816181]\n",
      "[15.1]\t\t[14.599971]\n",
      "[15.]\t\t[15.053206]\n",
      "[14.8]\t\t[15.053206]\n",
      "[12.]\t\t[15.053206]\n",
      "[12.5]\t\t[14.554693]\n",
      "[15.]\t\t[14.480495]\n",
      "[17.1]\t\t[14.556083]\n",
      "[17.300001]\t\t[14.536192]\n",
      "[16.9]\t\t[14.324397]\n",
      "[16.5]\t\t[14.287527]\n",
      "[13.6]\t\t[14.202402]\n",
      "[13.2]\t\t[14.202402]\n",
      "[9.4]\t\t[14.202402]\n",
      "[9.5]\t\t[12.459967]\n",
      "[11.8]\t\t[12.044075]\n",
      "[10.4]\t\t[12.094181]\n",
      "[9.7]\t\t[12.094181]\n",
      "[12.6]\t\t[12.094181]\n",
      "[13.3]\t\t[12.360206]\n",
      "[15.1]\t\t[12.315938]\n",
      "[14.2]\t\t[12.240779]\n",
      "[14.2]\t\t[11.863619]\n",
      "[19.199999]\t\t[11.863619]\n",
      "[12.6]\t\t[12.477312]\n",
      "[14.2]\t\t[12.707992]\n",
      "[11.9]\t\t[12.929647]\n",
      "[13.900001]\t\t[12.929647]\n",
      "[13.5]\t\t[12.929647]\n",
      "[15.3]\t\t[14.437149]\n",
      "[13.900001]\t\t[14.601982]\n",
      "[14.]\t\t[14.601982]\n",
      "[12.9]\t\t[14.601982]\n",
      "[8.5]\t\t[14.601982]\n",
      "[11.4]\t\t[12.200547]\n",
      "[10.9]\t\t[11.520085]\n",
      "[12.]\t\t[11.520085]\n",
      "[8.6]\t\t[11.520085]\n",
      "[9.]\t\t[11.5017605]\n",
      "[9.6]\t\t[11.269955]\n",
      "[10.2]\t\t[11.269955]\n",
      "[9.8]\t\t[11.171044]\n",
      "[8.3]\t\t[11.1124935]\n",
      "[11.]\t\t[10.906217]\n",
      "[11.9]\t\t[10.6244335]\n",
      "[14.]\t\t[10.6620245]\n",
      "[15.8]\t\t[10.924398]\n",
      "[14.5]\t\t[11.279112]\n",
      "[13.2]\t\t[11.279112]\n",
      "[14.2]\t\t[11.279112]\n",
      "[14.6]\t\t[11.326882]\n",
      "[11.8]\t\t[11.326882]\n",
      "[14.4]\t\t[11.326882]\n",
      "[10.4]\t\t[11.326882]\n",
      "[10.3]\t\t[12.665839]\n",
      "[10.8]\t\t[12.585377]\n",
      "[10.5]\t\t[12.585377]\n",
      "[9.5]\t\t[12.585377]\n",
      "[12.5]\t\t[12.033514]\n",
      "[13.7]\t\t[12.196327]\n",
      "[12.7]\t\t[12.196327]\n",
      "[11.9]\t\t[12.196327]\n",
      "[11.4]\t\t[12.045322]\n",
      "[9.7]\t\t[12.045322]\n",
      "[8.3]\t\t[11.985605]\n",
      "[8.1]\t\t[11.011478]\n",
      "[11.7]\t\t[10.758749]\n",
      "[11.6]\t\t[11.023777]\n",
      "[7.4]\t\t[11.023777]\n",
      "[5.2]\t\t[10.493677]\n",
      "[11.]\t\t[8.97781]\n",
      "[9.5]\t\t[9.68824]\n",
      "[9.2]\t\t[9.528713]\n",
      "[10.7]\t\t[9.437649]\n",
      "[9.]\t\t[9.437649]\n",
      "[10.2]\t\t[9.437649]\n",
      "[10.3]\t\t[9.437649]\n",
      "[12.1]\t\t[9.437649]\n",
      "[13.2]\t\t[9.437649]\n",
      "[6.6]\t\t[9.674237]\n",
      "[2.2999997]\t\t[9.674237]\n",
      "[1.4000001]\t\t[7.8732924]\n",
      "[2.1]\t\t[6.3512764]\n",
      "[6.6]\t\t[6.345257]\n",
      "[8.9]\t\t[7.0773487]\n",
      "[7.8]\t\t[7.0773487]\n",
      "[9.]\t\t[7.0773487]\n",
      "[10.3]\t\t[7.0773487]\n",
      "[7.9]\t\t[7.0773487]\n",
      "[7.2]\t\t[7.0773487]\n",
      "[8.6]\t\t[6.7044544]\n",
      "[8.8]\t\t[6.7044544]\n",
      "[6.2]\t\t[6.7044544]\n",
      "[9.5]\t\t[7.003444]\n",
      "[10.2]\t\t[9.114044]\n",
      "[9.7]\t\t[9.021442]\n",
      "[11.2]\t\t[9.021442]\n",
      "[10.2]\t\t[9.162141]\n",
      "[10.1]\t\t[9.162141]\n",
      "[8.1]\t\t[9.162141]\n",
      "[6.6]\t\t[9.162141]\n",
      "[4.9999995]\t\t[9.1502495]\n",
      "[4.7]\t\t[8.362829]\n",
      "[5.3]\t\t[8.146712]\n",
      "[4.5]\t\t[8.146712]\n",
      "[2.2999997]\t\t[7.468865]\n",
      "[1.4000001]\t\t[6.462198]\n",
      "[0.49999955]\t\t[6.099728]\n",
      "[2.4]\t\t[5.7362933]\n",
      "[8.]\t\t[5.9584184]\n",
      "[6.]\t\t[6.390556]\n",
      "[7.1]\t\t[6.3235164]\n",
      "[9.7]\t\t[6.3235164]\n",
      "[6.9]\t\t[6.427484]\n",
      "[5.3]\t\t[6.427484]\n",
      "[7.]\t\t[6.427484]\n",
      "[6.2]\t\t[6.427484]\n",
      "[7.]\t\t[6.427484]\n",
      "[9.7]\t\t[6.427484]\n",
      "[8.]\t\t[7.2401524]\n",
      "[8.5]\t\t[8.963936]\n",
      "[7.1]\t\t[8.054123]\n",
      "[7.5]\t\t[8.054123]\n",
      "[3.3000002]\t\t[8.054123]\n",
      "[1.7999997]\t\t[7.0327525]\n",
      "[2.6]\t\t[6.3291187]\n",
      "[5.3]\t\t[6.311295]\n",
      "[5.7999997]\t\t[6.401556]\n",
      "[5.7999997]\t\t[6.401556]\n",
      "[7.2]\t\t[6.401556]\n",
      "[5.3]\t\t[6.3485556]\n",
      "[1.5999999]\t\t[6.337774]\n",
      "[3.1000004]\t\t[6.1999993]\n",
      "[5.3]\t\t[6.1999993]\n",
      "[7.7000003]\t\t[6.1999993]\n",
      "[4.2000003]\t\t[6.1999993]\n",
      "[5.5]\t\t[6.2195163]\n",
      "[9.]\t\t[6.2253766]\n",
      "[11.2]\t\t[6.309037]\n",
      "[8.]\t\t[6.589515]\n",
      "[7.6]\t\t[6.589515]\n",
      "[3.6999998]\t\t[6.589515]\n",
      "[7.5]\t\t[6.589515]\n",
      "[8.1]\t\t[7.375512]\n",
      "[8.400001]\t\t[7.725952]\n",
      "[7.1]\t\t[7.7697644]\n",
      "[7.6]\t\t[7.7697644]\n",
      "[7.6]\t\t[7.7697644]\n",
      "[5.6]\t\t[7.8159494]\n",
      "[7.]\t\t[7.8159494]\n",
      "[10.5]\t\t[7.5558376]\n",
      "[7.3]\t\t[7.65504]\n",
      "[7.8]\t\t[7.65504]\n",
      "[5.7999997]\t\t[8.682951]\n",
      "[3.8000002]\t\t[8.541234]\n",
      "[5.7999997]\t\t[7.509491]\n",
      "[6.7]\t\t[7.5036316]\n",
      "[6.6]\t\t[7.5036316]\n",
      "[6.6]\t\t[7.5036316]\n",
      "[9.]\t\t[7.5036316]\n",
      "[8.1]\t\t[7.5036316]\n",
      "[5.1]\t\t[7.5036316]\n",
      "[8.6]\t\t[7.08825]\n",
      "[7.]\t\t[7.3841314]\n",
      "[5.5]\t\t[7.3841314]\n",
      "[7.4]\t\t[7.3841314]\n",
      "[6.2]\t\t[7.9779596]\n",
      "[4.2000003]\t\t[8.117006]\n",
      "[6.3]\t\t[7.605149]\n",
      "[7.]\t\t[7.6006284]\n",
      "[4.]\t\t[7.6006284]\n",
      "[8.]\t\t[7.4945602]\n",
      "[8.8]\t\t[7.6015196]\n",
      "[8.8]\t\t[7.686264]\n",
      "[6.1000004]\t\t[7.7194448]\n",
      "[8.6]\t\t[7.7194448]\n",
      "[8.9]\t\t[7.7194448]\n",
      "[7.8]\t\t[7.722166]\n",
      "[4.9999995]\t\t[7.722166]\n",
      "[7.]\t\t[7.724602]\n",
      "[13.3]\t\t[7.74775]\n",
      "[7.9]\t\t[8.695052]\n",
      "[7.5]\t\t[9.307338]\n",
      "[8.3]\t\t[9.311011]\n",
      "[7.2]\t\t[9.311011]\n",
      "[6.5]\t\t[9.311011]\n",
      "[8.9]\t\t[9.311011]\n",
      "[7.4]\t\t[9.311011]\n",
      "[9.9]\t\t[9.311011]\n",
      "[9.3]\t\t[9.311011]\n",
      "[10.6]\t\t[10.253407]\n",
      "[8.6]\t\t[10.333374]\n",
      "[7.2]\t\t[8.928448]\n",
      "[12.6]\t\t[8.928448]\n",
      "[7.8]\t\t[10.000642]\n",
      "[6.3]\t\t[10.000642]\n",
      "[9.2]\t\t[9.866525]\n",
      "[5.7999997]\t\t[9.88409]\n",
      "[9.]\t\t[9.553593]\n",
      "[4.9999995]\t\t[9.553593]\n",
      "[11.9]\t\t[9.065731]\n",
      "[13.4]\t\t[9.608108]\n",
      "[10.5]\t\t[9.959856]\n",
      "[6.2]\t\t[9.959856]\n",
      "[5.1]\t\t[9.959856]\n",
      "[9.5]\t\t[9.773782]\n",
      "[11.7]\t\t[9.773782]\n",
      "[9.2]\t\t[9.773782]\n",
      "[7.3]\t\t[9.773782]\n",
      "[9.7]\t\t[9.773783]\n",
      "[9.4]\t\t[9.773782]\n",
      "[10.]\t\t[9.947006]\n",
      "[10.9]\t\t[9.15905]\n",
      "[11.]\t\t[8.855761]\n",
      "[10.9]\t\t[8.821271]\n",
      "[8.]\t\t[8.821271]\n",
      "[11.2]\t\t[10.2783785]\n",
      "[7.5]\t\t[9.928028]\n",
      "[7.2]\t\t[9.905133]\n",
      "[13.2]\t\t[9.6937065]\n",
      "[12.9]\t\t[10.773864]\n",
      "[9.4]\t\t[11.041655]\n",
      "[10.2]\t\t[11.041655]\n",
      "[9.5]\t\t[11.041655]\n",
      "[12.4]\t\t[11.041655]\n",
      "[10.2]\t\t[11.041655]\n",
      "[13.4]\t\t[11.041655]\n",
      "[11.6]\t\t[11.041655]\n",
      "[8.]\t\t[11.041655]\n",
      "[9.]\t\t[11.053768]\n",
      "[9.3]\t\t[11.737592]\n",
      "[13.5]\t\t[10.666493]\n",
      "[8.]\t\t[10.964565]\n",
      "[8.1]\t\t[10.8754225]\n",
      "[10.]\t\t[10.692649]\n",
      "[8.5]\t\t[10.692649]\n",
      "[12.5]\t\t[10.692649]\n",
      "[15.]\t\t[10.692649]\n",
      "[13.3]\t\t[11.029272]\n",
      "[11.]\t\t[11.029272]\n",
      "[11.9]\t\t[11.029272]\n",
      "[8.3]\t\t[11.029272]\n",
      "[9.7]\t\t[11.029272]\n",
      "[11.3]\t\t[10.991415]\n",
      "[12.5]\t\t[11.228504]\n",
      "[9.4]\t\t[11.503932]\n",
      "[11.4]\t\t[11.503932]\n",
      "[13.2]\t\t[11.544297]\n",
      "[13.8]\t\t[10.859672]\n",
      "[16.]\t\t[10.705855]\n",
      "[10.9]\t\t[11.012618]\n",
      "[11.9]\t\t[11.012618]\n",
      "[12.4]\t\t[11.012618]\n",
      "[13.2]\t\t[11.6563015]\n",
      "[15.5]\t\t[11.98053]\n",
      "[21.6]\t\t[11.98053]\n",
      "[14.9]\t\t[13.121158]\n",
      "[14.4]\t\t[13.924304]\n",
      "[12.9]\t\t[14.198631]\n",
      "[13.1]\t\t[14.198631]\n",
      "[14.]\t\t[14.198631]\n",
      "[17.9]\t\t[14.198631]\n",
      "[17.7]\t\t[14.915683]\n",
      "[16.3]\t\t[15.244524]\n",
      "[18.3]\t\t[15.52334]\n",
      "[13.7]\t\t[15.534044]\n",
      "[13.3]\t\t[15.534044]\n",
      "[10.6]\t\t[15.063326]\n",
      "[14.1]\t\t[13.573731]\n",
      "[16.]\t\t[13.573731]\n",
      "[16.5]\t\t[13.573731]\n",
      "[14.1]\t\t[13.573731]\n",
      "[18.7]\t\t[13.573731]\n",
      "[16.2]\t\t[13.664754]\n",
      "[14.8]\t\t[13.664375]\n",
      "[12.6]\t\t[13.664375]\n",
      "[10.4]\t\t[13.607846]\n",
      "[12.2]\t\t[13.461315]\n",
      "[12.6]\t\t[13.438677]\n",
      "[12.1]\t\t[13.438677]\n",
      "[17.300001]\t\t[13.438677]\n",
      "[16.4]\t\t[13.718171]\n",
      "[12.6]\t\t[13.718171]\n",
      "[12.3]\t\t[13.718171]\n",
      "[11.8]\t\t[13.701255]\n",
      "[12.]\t\t[13.658166]\n",
      "[12.7]\t\t[13.658166]\n",
      "[16.4]\t\t[13.658166]\n",
      "[16.]\t\t[14.5620575]\n",
      "[13.3]\t\t[14.610358]\n",
      "[11.7]\t\t[14.610358]\n",
      "[10.4]\t\t[14.517432]\n",
      "[14.4]\t\t[13.336074]\n",
      "[12.7]\t\t[13.429034]\n",
      "[14.8]\t\t[13.429034]\n",
      "[13.3]\t\t[13.429034]\n",
      "[15.6]\t\t[13.429034]\n",
      "[14.5]\t\t[13.429034]\n",
      "[14.3]\t\t[13.429034]\n",
      "[15.3]\t\t[13.565739]\n",
      "[16.4]\t\t[13.368]\n",
      "[14.8]\t\t[13.563826]\n",
      "[17.4]\t\t[13.563826]\n",
      "[18.800001]\t\t[15.072074]\n",
      "[22.1]\t\t[14.784228]\n",
      "[19.]\t\t[15.246176]\n",
      "[15.5]\t\t[15.257406]\n",
      "[15.8]\t\t[15.863342]\n",
      "[14.7]\t\t[15.863342]\n",
      "[10.7]\t\t[15.863342]\n",
      "[11.5]\t\t[13.538462]\n",
      "[15.]\t\t[13.410807]\n",
      "[14.5]\t\t[13.759907]\n",
      "[14.5]\t\t[13.759907]\n",
      "[13.3]\t\t[13.759907]\n",
      "[14.3]\t\t[13.759907]\n",
      "[14.3]\t\t[14.169368]\n",
      "[20.5]\t\t[13.560085]\n",
      "[15.]\t\t[14.0227585]\n",
      "[17.1]\t\t[14.0227585]\n",
      "[16.9]\t\t[14.0227585]\n",
      "[16.9]\t\t[14.601012]\n",
      "[13.6]\t\t[15.776523]\n",
      "[16.4]\t\t[15.797094]\n",
      "[16.1]\t\t[15.797094]\n",
      "[12.]\t\t[15.797094]\n",
      "[12.2]\t\t[15.006678]\n",
      "[14.8]\t\t[14.82652]\n",
      "[14.8]\t\t[14.82652]\n",
      "[14.4]\t\t[14.10145]\n",
      "[12.9]\t\t[14.10145]\n",
      "[13.4]\t\t[14.1078205]\n",
      "[15.900001]\t\t[14.098087]\n",
      "[16.1]\t\t[13.97001]\n",
      "[17.6]\t\t[13.97001]\n",
      "[15.6]\t\t[14.134229]\n",
      "[15.]\t\t[14.134229]\n",
      "[13.]\t\t[14.415439]\n",
      "[14.1]\t\t[14.880197]\n",
      "[17.300001]\t\t[14.805176]\n",
      "[15.7]\t\t[14.886836]\n",
      "[18.6]\t\t[14.886836]\n",
      "[12.7]\t\t[14.938085]\n",
      "[14.]\t\t[14.670674]\n",
      "[13.7]\t\t[14.66231]\n",
      "[16.3]\t\t[14.66231]\n",
      "[20.]\t\t[14.66231]\n",
      "[17.]\t\t[14.746966]\n",
      "[15.2]\t\t[14.746966]\n",
      "[16.5]\t\t[14.806461]\n",
      "[16.5]\t\t[14.806461]\n",
      "[17.300001]\t\t[14.806461]\n",
      "[19.1]\t\t[14.806461]\n",
      "[19.3]\t\t[14.806461]\n",
      "[17.300001]\t\t[15.516635]\n",
      "[19.]\t\t[15.538501]\n",
      "[19.800001]\t\t[16.327961]\n",
      "[19.3]\t\t[16.39626]\n",
      "[17.2]\t\t[15.91264]\n",
      "[14.2]\t\t[15.91264]\n",
      "[10.3]\t\t[15.549957]\n",
      "[13.]\t\t[12.9371605]\n",
      "[15.3]\t\t[13.492584]\n",
      "[15.]\t\t[13.492584]\n",
      "[12.1]\t\t[13.511374]\n",
      "[9.2]\t\t[13.511374]\n",
      "[11.]\t\t[12.680892]\n",
      "[15.]\t\t[12.575935]\n",
      "[11.6]\t\t[13.137989]\n",
      "[11.6]\t\t[12.852786]\n",
      "[15.1]\t\t[12.349656]\n",
      "[15.]\t\t[12.349656]\n",
      "[13.6]\t\t[12.349656]\n",
      "[12.5]\t\t[12.349656]\n",
      "[14.3]\t\t[12.349656]\n",
      "[16.]\t\t[12.339381]\n",
      "[17.4]\t\t[12.434565]\n",
      "[16.9]\t\t[13.942765]\n",
      "[18.]\t\t[14.364393]\n",
      "[20.6]\t\t[14.264105]\n",
      "[14.2]\t\t[14.421651]\n",
      "[10.9]\t\t[15.029794]\n",
      "[11.9]\t\t[13.436421]\n",
      "[13.3]\t\t[13.385877]\n",
      "[15.3]\t\t[13.385877]\n",
      "[14.7]\t\t[13.385877]\n",
      "[11.]\t\t[13.385877]\n",
      "[12.2]\t\t[13.385877]\n",
      "[14.2]\t\t[13.385877]\n",
      "[17.]\t\t[13.407595]\n",
      "[15.8]\t\t[13.600652]\n",
      "[15.2]\t\t[13.27069]\n",
      "[15.1]\t\t[13.27069]\n",
      "[14.7]\t\t[13.328038]\n",
      "[18.5]\t\t[13.3424425]\n",
      "[16.4]\t\t[13.647649]\n",
      "[18.4]\t\t[13.647649]\n",
      "[15.1]\t\t[13.718756]\n",
      "[9.9]\t\t[14.533467]\n",
      "[10.2]\t\t[13.015754]\n",
      "[12.6]\t\t[12.619093]\n",
      "[13.2]\t\t[12.619093]\n",
      "[11.5]\t\t[12.619093]\n",
      "[13.8]\t\t[12.619093]\n",
      "[14.5]\t\t[12.619093]\n",
      "[14.7]\t\t[12.619093]\n",
      "[11.2]\t\t[12.487165]\n",
      "[12.7]\t\t[12.487165]\n",
      "[13.7]\t\t[12.327644]\n",
      "[11.5]\t\t[12.072251]\n",
      "[10.4]\t\t[12.477302]\n",
      "[8.9]\t\t[12.742805]\n",
      "[11.1]\t\t[11.4352865]\n",
      "[9.5]\t\t[11.504513]\n",
      "[13.]\t\t[11.504513]\n",
      "[13.900001]\t\t[11.935587]\n",
      "[12.6]\t\t[11.935587]\n",
      "[14.3]\t\t[11.7484665]\n",
      "[16.]\t\t[11.782648]\n",
      "[13.3]\t\t[12.103218]\n",
      "[7.]\t\t[12.103218]\n",
      "[4.9]\t\t[10.762345]\n",
      "[6.9]\t\t[9.085426]\n",
      "[13.7]\t\t[9.075119]\n",
      "[10.6]\t\t[10.085781]\n",
      "[12.3]\t\t[10.085781]\n",
      "[11.1]\t\t[10.085781]\n",
      "[10.2]\t\t[10.085781]\n",
      "[9.5]\t\t[10.085781]\n",
      "[8.9]\t\t[10.085781]\n",
      "[13.4]\t\t[9.801864]\n",
      "[9.1]\t\t[9.4524555]\n",
      "[9.4]\t\t[9.4524555]\n",
      "[8.7]\t\t[10.749254]\n",
      "[5.7999997]\t\t[12.348797]\n",
      "[4.5]\t\t[9.429422]\n",
      "[7.2]\t\t[8.530164]\n",
      "[10.]\t\t[8.530164]\n",
      "[10.5]\t\t[8.530164]\n",
      "[10.7]\t\t[8.530164]\n",
      "[8.2]\t\t[8.530164]\n",
      "[6.1000004]\t\t[8.530164]\n",
      "[4.5]\t\t[7.920965]\n",
      "[6.1000004]\t\t[7.9100304]\n",
      "[9.8]\t\t[7.9100304]\n",
      "[9.7]\t\t[8.130138]\n",
      "[8.2]\t\t[8.130138]\n",
      "[8.400001]\t\t[8.14381]\n",
      "[8.5]\t\t[8.14381]\n",
      "[10.4]\t\t[8.14381]\n",
      "[6.8]\t\t[8.14381]\n",
      "[6.]\t\t[8.020536]\n",
      "[6.6]\t\t[8.020536]\n",
      "[7.8]\t\t[8.020536]\n",
      "[10.3]\t\t[8.800073]\n",
      "[7.2]\t\t[8.932386]\n",
      "[7.4]\t\t[8.522195]\n",
      "[11.4]\t\t[8.522195]\n",
      "[5.3999996]\t\t[9.05397]\n",
      "[4.4]\t\t[8.585524]\n",
      "[6.4]\t\t[8.060566]\n",
      "[9.3]\t\t[8.060566]\n",
      "[7.7000003]\t\t[8.060566]\n",
      "[8.1]\t\t[8.060566]\n",
      "[8.3]\t\t[8.060566]\n",
      "[9.1]\t\t[8.060566]\n",
      "[7.7000003]\t\t[8.060566]\n",
      "[10.6]\t\t[8.060566]\n",
      "[8.2]\t\t[8.060566]\n",
      "[7.9]\t\t[7.722314]\n",
      "[5.2]\t\t[7.722314]\n",
      "[5.9]\t\t[8.14476]\n",
      "[3.6999998]\t\t[8.157081]\n",
      "[5.6]\t\t[7.33403]\n",
      "[9.4]\t\t[7.319931]\n",
      "[7.4]\t\t[7.5983863]\n",
      "[7.3]\t\t[7.5983863]\n",
      "[7.7000003]\t\t[7.5983863]\n",
      "[7.7000003]\t\t[7.5983863]\n",
      "[9.3]\t\t[7.4591026]\n",
      "[4.4]\t\t[7.459869]\n",
      "[5.7000003]\t\t[7.459869]\n",
      "[10.2]\t\t[7.459869]\n",
      "[10.2]\t\t[7.6468782]\n",
      "[9.3]\t\t[8.149882]\n",
      "[5.3999996]\t\t[8.1980505]\n",
      "[4.9999995]\t\t[8.1980505]\n",
      "[7.6]\t\t[8.158871]\n",
      "[9.6]\t\t[8.158871]\n",
      "[10.4]\t\t[8.158871]\n",
      "[11.2]\t\t[8.158871]\n",
      "[9.1]\t\t[8.287191]\n",
      "[11.2]\t\t[8.712544]\n",
      "[6.8]\t\t[8.726341]\n",
      "[8.3]\t\t[8.206297]\n",
      "[9.7]\t\t[8.206297]\n",
      "[9.6]\t\t[8.206297]\n",
      "[9.8]\t\t[8.206297]\n",
      "[10.8]\t\t[9.169659]\n",
      "[9.2]\t\t[9.081994]\n",
      "[6.5]\t\t[9.060216]\n",
      "[8.1]\t\t[8.906002]\n",
      "[7.3]\t\t[8.824058]\n",
      "[7.9]\t\t[8.824058]\n",
      "[6.]\t\t[8.746822]\n",
      "[4.9999995]\t\t[8.454993]\n",
      "[6.8]\t\t[7.833054]\n",
      "[9.8]\t\t[7.9311056]\n",
      "[5.7000003]\t\t[8.200737]\n",
      "[8.6]\t\t[8.200737]\n",
      "[10.6]\t\t[8.063694]\n",
      "[7.8]\t\t[8.130657]\n",
      "[7.7000003]\t\t[8.130657]\n",
      "[8.6]\t\t[8.130657]\n",
      "[6.5]\t\t[8.130657]\n",
      "[6.9]\t\t[8.130657]\n",
      "[6.4]\t\t[8.130657]\n",
      "[8.5]\t\t[8.4908285]\n",
      "[7.8]\t\t[8.556796]\n",
      "[9.3]\t\t[8.556796]\n",
      "[8.400001]\t\t[8.978061]\n",
      "[7.8]\t\t[8.716071]\n",
      "[7.4]\t\t[8.515714]\n",
      "[7.7000003]\t\t[8.515714]\n",
      "[8.9]\t\t[8.515714]\n",
      "[9.7]\t\t[8.515714]\n",
      "[9.9]\t\t[8.639194]\n",
      "[6.1000004]\t\t[8.702302]\n",
      "[6.6]\t\t[8.550222]\n",
      "[7.6]\t\t[8.209684]\n",
      "[7.4]\t\t[8.209684]\n",
      "[8.]\t\t[8.130217]\n",
      "[2.1]\t\t[8.130217]\n",
      "[5.9]\t\t[6.330033]\n",
      "[11.6]\t\t[6.90202]\n",
      "[8.6]\t\t[7.255985]\n",
      "[7.9]\t\t[7.255985]\n",
      "[6.]\t\t[7.255985]\n",
      "[9.5]\t\t[7.255985]\n",
      "[8.6]\t\t[7.255985]\n",
      "[7.6]\t\t[7.255985]\n",
      "[10.4]\t\t[7.255985]\n",
      "[10.3]\t\t[7.255985]\n",
      "[7.5]\t\t[7.2959623]\n",
      "[3.]\t\t[9.248114]\n"
     ]
    },
    {
     "name": "stdout",
     "output_type": "stream",
     "text": [
      "[5.3]\t\t[7.832893]\n",
      "[10.5]\t\t[7.2095327]\n",
      "[14.6]\t\t[7.6408687]\n",
      "[12.6]\t\t[8.132916]\n",
      "[9.8]\t\t[8.132916]\n",
      "[7.2]\t\t[8.132916]\n",
      "[10.1]\t\t[8.132916]\n",
      "[10.4]\t\t[8.132916]\n",
      "[3.6999998]\t\t[8.132916]\n",
      "[7.3]\t\t[8.132916]\n",
      "[11.6]\t\t[8.132916]\n",
      "[16.3]\t\t[8.46277]\n",
      "[9.6]\t\t[8.687518]\n",
      "[6.8]\t\t[8.362532]\n",
      "[5.2]\t\t[8.362532]\n",
      "[10.6]\t\t[8.362532]\n",
      "[16.3]\t\t[8.749685]\n",
      "[9.8]\t\t[8.682087]\n",
      "[4.6000004]\t\t[8.682087]\n",
      "[11.1]\t\t[8.682087]\n",
      "[8.7]\t\t[9.569133]\n",
      "[10.]\t\t[9.6176195]\n",
      "[11.3]\t\t[9.6176195]\n",
      "[10.5]\t\t[9.5665865]\n",
      "[9.9]\t\t[9.5665865]\n",
      "[11.]\t\t[9.5665865]\n",
      "[14.]\t\t[9.685863]\n",
      "[9.2]\t\t[9.685863]\n",
      "[9.8]\t\t[9.642259]\n",
      "[6.]\t\t[9.642259]\n",
      "[9.8]\t\t[10.591762]\n",
      "[9.2]\t\t[9.650903]\n",
      "[11.8]\t\t[9.650903]\n",
      "[10.3]\t\t[9.650903]\n",
      "[7.5]\t\t[9.650903]\n",
      "[7.7000003]\t\t[9.650903]\n",
      "[15.8]\t\t[9.634547]\n",
      "[14.6]\t\t[10.645268]\n",
      "[10.5]\t\t[10.907129]\n",
      "[11.3]\t\t[10.907129]\n",
      "[10.9]\t\t[10.907129]\n",
      "[6.4]\t\t[11.818655]\n",
      "[10.9]\t\t[11.15293]\n",
      "[9.]\t\t[11.15293]\n",
      "[10.9]\t\t[11.15293]\n",
      "[12.4]\t\t[11.15293]\n",
      "[11.6]\t\t[11.15293]\n",
      "[13.3]\t\t[11.265114]\n",
      "[14.4]\t\t[10.547184]\n",
      "[18.4]\t\t[10.392597]\n",
      "[13.6]\t\t[10.651361]\n",
      "[14.9]\t\t[10.651361]\n",
      "[14.8]\t\t[10.651361]\n",
      "[15.400001]\t\t[12.417617]\n",
      "[11.8]\t\t[12.135796]\n",
      "[13.]\t\t[13.448971]\n",
      "[11.1]\t\t[14.077503]\n",
      "[12.5]\t\t[13.789905]\n",
      "[18.3]\t\t[13.781686]\n",
      "[19.199999]\t\t[14.301216]\n",
      "[15.400001]\t\t[14.589122]\n",
      "[13.1]\t\t[14.589122]\n",
      "[11.5]\t\t[14.589122]\n",
      "[8.6]\t\t[14.589122]\n",
      "[12.6]\t\t[12.749457]\n",
      "[13.8]\t\t[12.749457]\n",
      "[14.6]\t\t[12.749457]\n",
      "[13.2]\t\t[12.749457]\n",
      "[12.3]\t\t[12.749457]\n",
      "[8.8]\t\t[12.749457]\n",
      "[10.7]\t\t[12.638046]\n",
      "[9.9]\t\t[12.265461]\n",
      "[8.3]\t\t[11.877675]\n",
      "[15.]\t\t[11.602405]\n",
      "[12.2]\t\t[12.282761]\n",
      "[10.5]\t\t[12.282761]\n",
      "[11.1]\t\t[12.282761]\n",
      "[13.]\t\t[12.282761]\n",
      "[12.9]\t\t[12.132696]\n",
      "[8.8]\t\t[12.054207]\n",
      "[14.7]\t\t[12.054207]\n",
      "[14.7]\t\t[12.054207]\n",
      "[12.7]\t\t[12.34266]\n",
      "[13.3]\t\t[12.34266]\n",
      "[13.2]\t\t[12.904799]\n",
      "[16.2]\t\t[12.712108]\n",
      "[17.300001]\t\t[12.838537]\n",
      "[20.5]\t\t[13.138612]\n",
      "[20.2]\t\t[13.317202]\n",
      "[19.4]\t\t[13.43767]\n",
      "[15.5]\t\t[13.43767]\n",
      "[14.1]\t\t[15.931266]\n",
      "[11.]\t\t[14.954194]\n",
      "[11.1]\t\t[13.851091]\n",
      "[14.]\t\t[13.657809]\n",
      "[11.4]\t\t[13.704969]\n",
      "[12.5]\t\t[13.704969]\n",
      "[13.4]\t\t[13.704969]\n",
      "[13.6]\t\t[13.704969]\n",
      "[13.900001]\t\t[14.042067]\n",
      "[17.2]\t\t[14.044627]\n",
      "[14.7]\t\t[13.371468]\n",
      "[15.400001]\t\t[13.321888]\n",
      "[13.1]\t\t[13.321888]\n",
      "[13.2]\t\t[13.515636]\n",
      "[13.900001]\t\t[13.758859]\n",
      "[10.]\t\t[13.758859]\n",
      "[12.9]\t\t[12.817565]\n",
      "[14.6]\t\t[12.808252]\n",
      "[14.]\t\t[12.808252]\n",
      "[13.6]\t\t[12.808252]\n",
      "[13.5]\t\t[12.808252]\n",
      "[15.7]\t\t[12.821974]\n",
      "[13.]\t\t[12.789267]\n"
     ]
    }
   ],
   "source": [
    "# List the forecast value\n",
    "### BEGIN SOLUTION\n",
    "\n",
    "### END SOLUTION"
   ]
  },
  {
   "cell_type": "code",
   "execution_count": 56,
   "metadata": {},
   "outputs": [
    {
     "name": "stdout",
     "output_type": "stream",
     "text": [
      "Train Score: 2.79 RMSE\n",
      "Test Score: 2.63 RMSE\n"
     ]
    }
   ],
   "source": [
    "# calculate root mean squared error\n",
    "### BEGIN SOLUTION\n",
    "\n",
    "print('Train Score: %.2f RMSE' % (trainScore_temperature))\n",
    "print('Test Score: %.2f RMSE' % (testScore_temperature))\n",
    "### END SOLUTION"
   ]
  },
  {
   "cell_type": "markdown",
   "metadata": {},
   "source": [
    "# Step 6 : Forecast Plot\n",
    ">Instruction :<br>\n",
    "Use `data_module.single_step_plot` function to plot the forecast result."
   ]
  },
  {
   "cell_type": "code",
   "execution_count": 58,
   "metadata": {},
   "outputs": [
    {
     "data": {
      "image/png": "[encoded data removed]",
      "text/plain": [
       "<Figure size 720x432 with 1 Axes>"
      ]
     },
     "metadata": {
      "needs_background": "light"
     },
     "output_type": "display_data"
    }
   ],
   "source": [
    "### BEGIN SOLUTION\n",
    "\n",
    "\n",
    "### END SOLUTION"
   ]
  },
  {
   "cell_type": "markdown",
   "metadata": {},
   "source": [
    "## Summary\n",
    "In this tutorial you should have learnt:\n",
    "\n",
    "1. The flow of using Hybrid Model (CNN-LSTM) to perform univariate forecasting.<br>\n",
    "2. The configuration of the Hybrid Model (CNN-LSTM) and the concept of it<br>\n",
    "\n",
    "Congratulations, that concludes this lesson.<br>"
   ]
  },
  {
   "cell_type": "markdown",
   "metadata": {},
   "source": [
    "## Reference \n",
    "1. [Deep Learning for Time Series Forecasting (Predict the Future with MLPs,CNNs and LSTMs in Python) , Jason Brownlee](https://machinelearningmastery.com/deep-learning-for-time-series-forecasting/)\n",
    "2. [[CNN]Time-series Forecasting with Pytorch](https://www.kaggle.com/hanjoonchoe/cnn-time-series-forecasting-with-pytorch)\n",
    "3. [PyTorch: learning conv1D,conv2D and conv3D](https://programmer.group/pytorch-learning-conv1d-conv2d-and-conv3d.html)"
   ]
  }
 ],
 "metadata": {
  "kernelspec": {
   "display_name": "Python 3",
   "language": "python",
   "name": "python3"
  },
  "language_info": {
   "codemirror_mode": {
    "name": "ipython",
    "version": 3
   },
   "file_extension": ".py",
   "mimetype": "text/x-python",
   "name": "python",
   "nbconvert_exporter": "python",
   "pygments_lexer": "ipython3",
   "version": "3.7.10"
  },
  "varInspector": {
   "cols": {
    "lenName": 16,
    "lenType": 16,
    "lenVar": 40
   },
   "kernels_config": {
    "python": {
     "delete_cmd_postfix": "",
     "delete_cmd_prefix": "del ",
     "library": "var_list.py",
     "varRefreshCmd": "print(var_dic_list())"
    },
    "r": {
     "delete_cmd_postfix": ") ",
     "delete_cmd_prefix": "rm(",
     "library": "var_list.r",
     "varRefreshCmd": "cat(var_dic_list()) "
    }
   },
   "types_to_exclude": [
    "module",
    "function",
    "builtin_function_or_method",
    "instance",
    "_Feature"
   ],
   "window_display": false
  }
 },
 "nbformat": 4,
 "nbformat_minor": 4
}
