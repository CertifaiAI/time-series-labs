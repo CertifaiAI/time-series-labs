{
 "cells": [
  {
   "cell_type": "markdown",
   "metadata": {
    "deletable": false,
    "editable": false
   },
   "source": [
    "> **Copyright &copy; 2020 CertifAI Sdn. Bhd.**<br>\n",
    " **Copyright &copy; 2021 CertifAI Sdn. Bhd.**<br>\n",
    " <br>\n",
    "This program and the accompanying materials are made available under the\n",
    "terms of the [Apache License, Version 2.0](https://www.apache.org/licenses/LICENSE-2.0). \\\n",
    "Unless required by applicable law or agreed to in writing, software\n",
    "distributed under the License is distributed on an \"AS IS\" BASIS, WITHOUT\n",
    "WARRANTIES OR CONDITIONS OF ANY KIND, either express or implied. See the\n",
    "License for the specific language governing permissions and limitations\n",
    "under the License. <br>\n",
    "<br>**SPDX-License-Identifier: Apache-2.0**"
   ]
  },
  {
   "cell_type": "markdown",
   "metadata": {
    "colab_type": "text",
    "id": "WY3yWu9_m6ZT"
   },
   "source": [
    "# Pandas Basic\n",
    "\n",
    "Pandas is built \"on top\" of NumPy which allows us to work on data easily. Thus, Numpy functions will generally work on pandas objects as well. At first, we will import both libraries:"
   ]
  },
  {
   "cell_type": "code",
   "execution_count": 1,
   "metadata": {
    "colab": {},
    "colab_type": "code",
    "id": "83ArqlL8msXF"
   },
   "outputs": [],
   "source": [
    "import numpy as np\n",
    "import pandas as pd\n",
    "import matplotlib.pyplot as plt\n",
    "\n",
    "import warnings\n",
    "warnings.filterwarnings('ignore')"
   ]
  },
  {
   "cell_type": "markdown",
   "metadata": {
    "colab_type": "text",
    "id": "j66UUA3VrNE1"
   },
   "source": [
    "## DataFrame Class Pt. 1\n",
    "\n",
    "Here, we will learn some basic operations using Pandas library"
   ]
  },
  {
   "cell_type": "markdown",
   "metadata": {
    "colab_type": "text",
    "id": "4iHHHJP2vdr_"
   },
   "source": [
    "### Create new DataFrame"
   ]
  },
  {
   "cell_type": "code",
   "execution_count": 2,
   "metadata": {
    "colab": {
     "base_uri": "https://localhost:8080/",
     "height": 166
    },
    "colab_type": "code",
    "id": "wJz5phjKp9g2",
    "outputId": "07500d44-a080-4bd1-f559-bcb0d2de729c"
   },
   "outputs": [
    {
     "data": {
      "text/html": [
       "<div>\n",
       "<style scoped>\n",
       "    .dataframe tbody tr th:only-of-type {\n",
       "        vertical-align: middle;\n",
       "    }\n",
       "\n",
       "    .dataframe tbody tr th {\n",
       "        vertical-align: top;\n",
       "    }\n",
       "\n",
       "    .dataframe thead th {\n",
       "        text-align: right;\n",
       "    }\n",
       "</style>\n",
       "<table border=\"1\" class=\"dataframe\">\n",
       "  <thead>\n",
       "    <tr style=\"text-align: right;\">\n",
       "      <th></th>\n",
       "      <th>numbers</th>\n",
       "    </tr>\n",
       "  </thead>\n",
       "  <tbody>\n",
       "    <tr>\n",
       "      <th>a</th>\n",
       "      <td>10</td>\n",
       "    </tr>\n",
       "    <tr>\n",
       "      <th>b</th>\n",
       "      <td>20</td>\n",
       "    </tr>\n",
       "    <tr>\n",
       "      <th>c</th>\n",
       "      <td>30</td>\n",
       "    </tr>\n",
       "    <tr>\n",
       "      <th>d</th>\n",
       "      <td>40</td>\n",
       "    </tr>\n",
       "  </tbody>\n",
       "</table>\n",
       "</div>"
      ],
      "text/plain": [
       "   numbers\n",
       "a       10\n",
       "b       20\n",
       "c       30\n",
       "d       40"
      ]
     },
     "execution_count": 2,
     "metadata": {},
     "output_type": "execute_result"
    }
   ],
   "source": [
    "data = [10, 20, 30, 40]\n",
    "df = pd.DataFrame(data, columns=['numbers'], index=['a', 'b', 'c', 'd']);df"
   ]
  },
  {
   "cell_type": "markdown",
   "metadata": {
    "colab_type": "text",
    "id": "oCqe0dS9r-Rb"
   },
   "source": [
    "### Typical operations on DataFrame objects"
   ]
  },
  {
   "cell_type": "markdown",
   "metadata": {
    "colab_type": "text",
    "id": "7xBsvY4H60AQ"
   },
   "source": [
    "Read all index"
   ]
  },
  {
   "cell_type": "code",
   "execution_count": 3,
   "metadata": {
    "colab": {
     "base_uri": "https://localhost:8080/",
     "height": 33
    },
    "colab_type": "code",
    "id": "Djp_x55Lu9aK",
    "outputId": "f7a3b77a-adff-46ac-d263-be821bc5b57c"
   },
   "outputs": [
    {
     "data": {
      "text/plain": [
       "Index(['a', 'b', 'c', 'd'], dtype='object')"
      ]
     },
     "execution_count": 3,
     "metadata": {},
     "output_type": "execute_result"
    }
   ],
   "source": [
    "df.index"
   ]
  },
  {
   "cell_type": "markdown",
   "metadata": {
    "colab_type": "text",
    "id": "lJbi0hEr67xx"
   },
   "source": [
    "Determine what are the available columns."
   ]
  },
  {
   "cell_type": "code",
   "execution_count": 4,
   "metadata": {
    "colab": {
     "base_uri": "https://localhost:8080/",
     "height": 33
    },
    "colab_type": "code",
    "id": "gdEiu8aHviIE",
    "outputId": "5a266613-b3ab-4850-a64f-71c40e99f110"
   },
   "outputs": [
    {
     "data": {
      "text/plain": [
       "Index(['numbers'], dtype='object')"
      ]
     },
     "execution_count": 4,
     "metadata": {},
     "output_type": "execute_result"
    }
   ],
   "source": [
    "df.columns"
   ]
  },
  {
   "cell_type": "markdown",
   "metadata": {
    "colab_type": "text",
    "id": "E1PjHyLv7Wjd"
   },
   "source": [
    "Index slicing using characters or strings."
   ]
  },
  {
   "cell_type": "code",
   "execution_count": 5,
   "metadata": {
    "colab": {
     "base_uri": "https://localhost:8080/",
     "height": 50
    },
    "colab_type": "code",
    "id": "gaEHfD0kvtGO",
    "outputId": "93af2480-b40c-4bc3-ed86-cc77b99348db"
   },
   "outputs": [
    {
     "data": {
      "text/plain": [
       "numbers    30\n",
       "Name: c, dtype: int64"
      ]
     },
     "execution_count": 5,
     "metadata": {},
     "output_type": "execute_result"
    }
   ],
   "source": [
    "df.loc['c']"
   ]
  },
  {
   "cell_type": "markdown",
   "metadata": {
    "colab_type": "text",
    "id": "ii8H3P117GdU"
   },
   "source": [
    "Index slicing using integers."
   ]
  },
  {
   "cell_type": "code",
   "execution_count": 6,
   "metadata": {
    "colab": {
     "base_uri": "https://localhost:8080/",
     "height": 107
    },
    "colab_type": "code",
    "id": "ek4bBzkFvvCc",
    "outputId": "4ea4752b-d423-440f-efa1-6b372baaccbf"
   },
   "outputs": [
    {
     "data": {
      "text/html": [
       "<div>\n",
       "<style scoped>\n",
       "    .dataframe tbody tr th:only-of-type {\n",
       "        vertical-align: middle;\n",
       "    }\n",
       "\n",
       "    .dataframe tbody tr th {\n",
       "        vertical-align: top;\n",
       "    }\n",
       "\n",
       "    .dataframe thead th {\n",
       "        text-align: right;\n",
       "    }\n",
       "</style>\n",
       "<table border=\"1\" class=\"dataframe\">\n",
       "  <thead>\n",
       "    <tr style=\"text-align: right;\">\n",
       "      <th></th>\n",
       "      <th>numbers</th>\n",
       "    </tr>\n",
       "  </thead>\n",
       "  <tbody>\n",
       "    <tr>\n",
       "      <th>1</th>\n",
       "      <td>20</td>\n",
       "    </tr>\n",
       "    <tr>\n",
       "      <th>2</th>\n",
       "      <td>30</td>\n",
       "    </tr>\n",
       "  </tbody>\n",
       "</table>\n",
       "</div>"
      ],
      "text/plain": [
       "   numbers\n",
       "1       20\n",
       "2       30"
      ]
     },
     "execution_count": 6,
     "metadata": {},
     "output_type": "execute_result"
    }
   ],
   "source": [
    "data = [10, 20, 30, 40]\n",
    "df_num_idx = pd.DataFrame(data, columns=['numbers'])\n",
    "df_num_idx.iloc[1:3]"
   ]
  },
  {
   "cell_type": "markdown",
   "metadata": {
    "colab_type": "text",
    "id": "ftcQiW0ckWzq"
   },
   "source": [
    "Sum up every numbers in rows"
   ]
  },
  {
   "cell_type": "code",
   "execution_count": 7,
   "metadata": {
    "colab": {
     "base_uri": "https://localhost:8080/",
     "height": 50
    },
    "colab_type": "code",
    "id": "H2RGt8zbwE6a",
    "outputId": "76815fee-433c-4121-ca42-edd60155a28f"
   },
   "outputs": [
    {
     "data": {
      "text/plain": [
       "numbers    100\n",
       "dtype: int64"
      ]
     },
     "execution_count": 7,
     "metadata": {},
     "output_type": "execute_result"
    }
   ],
   "source": [
    "df.sum()"
   ]
  },
  {
   "cell_type": "markdown",
   "metadata": {
    "colab_type": "text",
    "id": "gg2UGbx0kfGP"
   },
   "source": [
    "Perform numeric operation on each data"
   ]
  },
  {
   "cell_type": "code",
   "execution_count": 8,
   "metadata": {
    "colab": {
     "base_uri": "https://localhost:8080/",
     "height": 166
    },
    "colab_type": "code",
    "id": "qmI2QvkKwZXA",
    "outputId": "795f0b43-7746-48ae-c1e9-a3e3ebea8e12"
   },
   "outputs": [
    {
     "data": {
      "text/html": [
       "<div>\n",
       "<style scoped>\n",
       "    .dataframe tbody tr th:only-of-type {\n",
       "        vertical-align: middle;\n",
       "    }\n",
       "\n",
       "    .dataframe tbody tr th {\n",
       "        vertical-align: top;\n",
       "    }\n",
       "\n",
       "    .dataframe thead th {\n",
       "        text-align: right;\n",
       "    }\n",
       "</style>\n",
       "<table border=\"1\" class=\"dataframe\">\n",
       "  <thead>\n",
       "    <tr style=\"text-align: right;\">\n",
       "      <th></th>\n",
       "      <th>numbers</th>\n",
       "    </tr>\n",
       "  </thead>\n",
       "  <tbody>\n",
       "    <tr>\n",
       "      <th>a</th>\n",
       "      <td>100</td>\n",
       "    </tr>\n",
       "    <tr>\n",
       "      <th>b</th>\n",
       "      <td>400</td>\n",
       "    </tr>\n",
       "    <tr>\n",
       "      <th>c</th>\n",
       "      <td>900</td>\n",
       "    </tr>\n",
       "    <tr>\n",
       "      <th>d</th>\n",
       "      <td>1600</td>\n",
       "    </tr>\n",
       "  </tbody>\n",
       "</table>\n",
       "</div>"
      ],
      "text/plain": [
       "   numbers\n",
       "a      100\n",
       "b      400\n",
       "c      900\n",
       "d     1600"
      ]
     },
     "execution_count": 8,
     "metadata": {},
     "output_type": "execute_result"
    }
   ],
   "source": [
    "df.apply(lambda x: x**2)"
   ]
  },
  {
   "cell_type": "markdown",
   "metadata": {
    "colab_type": "text",
    "id": "A9mfxw8wkl9X"
   },
   "source": [
    "Add a new column to the DataFrame"
   ]
  },
  {
   "cell_type": "code",
   "execution_count": 9,
   "metadata": {
    "colab": {
     "base_uri": "https://localhost:8080/",
     "height": 166
    },
    "colab_type": "code",
    "id": "mRINYrbpweiF",
    "outputId": "e31eba01-547a-4742-d482-7462c53f74b4"
   },
   "outputs": [
    {
     "data": {
      "text/html": [
       "<div>\n",
       "<style scoped>\n",
       "    .dataframe tbody tr th:only-of-type {\n",
       "        vertical-align: middle;\n",
       "    }\n",
       "\n",
       "    .dataframe tbody tr th {\n",
       "        vertical-align: top;\n",
       "    }\n",
       "\n",
       "    .dataframe thead th {\n",
       "        text-align: right;\n",
       "    }\n",
       "</style>\n",
       "<table border=\"1\" class=\"dataframe\">\n",
       "  <thead>\n",
       "    <tr style=\"text-align: right;\">\n",
       "      <th></th>\n",
       "      <th>numbers</th>\n",
       "      <th>floats</th>\n",
       "    </tr>\n",
       "  </thead>\n",
       "  <tbody>\n",
       "    <tr>\n",
       "      <th>a</th>\n",
       "      <td>10</td>\n",
       "      <td>1.5</td>\n",
       "    </tr>\n",
       "    <tr>\n",
       "      <th>b</th>\n",
       "      <td>20</td>\n",
       "      <td>2.5</td>\n",
       "    </tr>\n",
       "    <tr>\n",
       "      <th>c</th>\n",
       "      <td>30</td>\n",
       "      <td>3.5</td>\n",
       "    </tr>\n",
       "    <tr>\n",
       "      <th>d</th>\n",
       "      <td>40</td>\n",
       "      <td>4.5</td>\n",
       "    </tr>\n",
       "  </tbody>\n",
       "</table>\n",
       "</div>"
      ],
      "text/plain": [
       "   numbers  floats\n",
       "a       10     1.5\n",
       "b       20     2.5\n",
       "c       30     3.5\n",
       "d       40     4.5"
      ]
     },
     "execution_count": 9,
     "metadata": {},
     "output_type": "execute_result"
    }
   ],
   "source": [
    "df['floats']=(1.5, 2.5, 3.5, 4.5);df"
   ]
  },
  {
   "cell_type": "markdown",
   "metadata": {
    "colab_type": "text",
    "id": "4Sk-Hp_Ik_y4"
   },
   "source": [
    "Select the data at specific column"
   ]
  },
  {
   "cell_type": "code",
   "execution_count": 13,
   "metadata": {
    "colab": {
     "base_uri": "https://localhost:8080/",
     "height": 100
    },
    "colab_type": "code",
    "id": "H7AElsuwyAv8",
    "outputId": "913b6240-08ae-4027-ed11-90d915ffa234"
   },
   "outputs": [
    {
     "data": {
      "text/plain": [
       "a    1.5\n",
       "b    2.5\n",
       "c    3.5\n",
       "d    4.5\n",
       "Name: floats, dtype: float64"
      ]
     },
     "execution_count": 13,
     "metadata": {},
     "output_type": "execute_result"
    }
   ],
   "source": [
    "df['floats']"
   ]
  },
  {
   "cell_type": "markdown",
   "metadata": {
    "colab_type": "text",
    "id": "S4Z-eS1En-5M"
   },
   "source": [
    "We can also create a new column by using a Dataframe."
   ]
  },
  {
   "cell_type": "code",
   "execution_count": 15,
   "metadata": {
    "colab": {
     "base_uri": "https://localhost:8080/",
     "height": 166
    },
    "colab_type": "code",
    "id": "gMzNi2anyEZ0",
    "outputId": "ac62dcb1-2d8f-4217-e2c1-451b6fc0f47f"
   },
   "outputs": [
    {
     "data": {
      "text/html": [
       "<div>\n",
       "<style scoped>\n",
       "    .dataframe tbody tr th:only-of-type {\n",
       "        vertical-align: middle;\n",
       "    }\n",
       "\n",
       "    .dataframe tbody tr th {\n",
       "        vertical-align: top;\n",
       "    }\n",
       "\n",
       "    .dataframe thead th {\n",
       "        text-align: right;\n",
       "    }\n",
       "</style>\n",
       "<table border=\"1\" class=\"dataframe\">\n",
       "  <thead>\n",
       "    <tr style=\"text-align: right;\">\n",
       "      <th></th>\n",
       "      <th>numbers</th>\n",
       "      <th>floats</th>\n",
       "      <th>names</th>\n",
       "    </tr>\n",
       "  </thead>\n",
       "  <tbody>\n",
       "    <tr>\n",
       "      <th>a</th>\n",
       "      <td>10</td>\n",
       "      <td>1.5</td>\n",
       "      <td>Lim</td>\n",
       "    </tr>\n",
       "    <tr>\n",
       "      <th>b</th>\n",
       "      <td>20</td>\n",
       "      <td>2.5</td>\n",
       "      <td>Mutu</td>\n",
       "    </tr>\n",
       "    <tr>\n",
       "      <th>c</th>\n",
       "      <td>30</td>\n",
       "      <td>3.5</td>\n",
       "      <td>John</td>\n",
       "    </tr>\n",
       "    <tr>\n",
       "      <th>d</th>\n",
       "      <td>40</td>\n",
       "      <td>4.5</td>\n",
       "      <td>Ali</td>\n",
       "    </tr>\n",
       "  </tbody>\n",
       "</table>\n",
       "</div>"
      ],
      "text/plain": [
       "   numbers  floats names\n",
       "a       10     1.5   Lim\n",
       "b       20     2.5  Mutu\n",
       "c       30     3.5  John\n",
       "d       40     4.5   Ali"
      ]
     },
     "execution_count": 15,
     "metadata": {},
     "output_type": "execute_result"
    }
   ],
   "source": [
    "df['names'] = pd.DataFrame(['Ali', 'Mutu', 'Lim', 'John'], index=['d', 'b', 'a', 'c']); df"
   ]
  },
  {
   "cell_type": "markdown",
   "metadata": {
    "colab_type": "text",
    "id": "BSorS8R7r66f"
   },
   "source": [
    "If we want to add a new row to the dataset, we can use append. But do note that this is just a temporary DataFrame and will not affect the original DataFrame.\n",
    "\n",
    "Here, we show that we can add a new row of data by using a dictionary."
   ]
  },
  {
   "cell_type": "code",
   "execution_count": 20,
   "metadata": {
    "colab": {
     "base_uri": "https://localhost:8080/",
     "height": 196
    },
    "colab_type": "code",
    "id": "U-eXphzmyYvg",
    "outputId": "b4d4b3ce-2697-41da-e6c1-b9fcf6645feb"
   },
   "outputs": [
    {
     "data": {
      "text/html": [
       "<div>\n",
       "<style scoped>\n",
       "    .dataframe tbody tr th:only-of-type {\n",
       "        vertical-align: middle;\n",
       "    }\n",
       "\n",
       "    .dataframe tbody tr th {\n",
       "        vertical-align: top;\n",
       "    }\n",
       "\n",
       "    .dataframe thead th {\n",
       "        text-align: right;\n",
       "    }\n",
       "</style>\n",
       "<table border=\"1\" class=\"dataframe\">\n",
       "  <thead>\n",
       "    <tr style=\"text-align: right;\">\n",
       "      <th></th>\n",
       "      <th>numbers</th>\n",
       "      <th>floats</th>\n",
       "      <th>names</th>\n",
       "    </tr>\n",
       "  </thead>\n",
       "  <tbody>\n",
       "    <tr>\n",
       "      <th>0</th>\n",
       "      <td>10</td>\n",
       "      <td>1.50</td>\n",
       "      <td>Lim</td>\n",
       "    </tr>\n",
       "    <tr>\n",
       "      <th>1</th>\n",
       "      <td>20</td>\n",
       "      <td>2.50</td>\n",
       "      <td>Mutu</td>\n",
       "    </tr>\n",
       "    <tr>\n",
       "      <th>2</th>\n",
       "      <td>30</td>\n",
       "      <td>3.50</td>\n",
       "      <td>John</td>\n",
       "    </tr>\n",
       "    <tr>\n",
       "      <th>3</th>\n",
       "      <td>40</td>\n",
       "      <td>4.50</td>\n",
       "      <td>Ali</td>\n",
       "    </tr>\n",
       "    <tr>\n",
       "      <th>4</th>\n",
       "      <td>25</td>\n",
       "      <td>24.72</td>\n",
       "      <td>Fatimah</td>\n",
       "    </tr>\n",
       "  </tbody>\n",
       "</table>\n",
       "</div>"
      ],
      "text/plain": [
       "   numbers  floats    names\n",
       "0       10    1.50      Lim\n",
       "1       20    2.50     Mutu\n",
       "2       30    3.50     John\n",
       "3       40    4.50      Ali\n",
       "4       25   24.72  Fatimah"
      ]
     },
     "execution_count": 20,
     "metadata": {},
     "output_type": "execute_result"
    }
   ],
   "source": [
    "df.append({'numbers':25, 'floats': 24.72, 'names':'Fatimah'}, ignore_index=True)\n",
    "#temporary object, will not affect the original df\n",
    "# df"
   ]
  },
  {
   "cell_type": "markdown",
   "metadata": {
    "colab_type": "text",
    "id": "7Cv6hHwLsPEV"
   },
   "source": [
    "Thus, we need to replace the old variable in order to 'replace' it. \n",
    "\n",
    "We can append a new row of data using DataFrame as well instead of a dictionary."
   ]
  },
  {
   "cell_type": "code",
   "execution_count": 21,
   "metadata": {
    "colab": {
     "base_uri": "https://localhost:8080/",
     "height": 196
    },
    "colab_type": "code",
    "id": "t9eALb9Mys8U",
    "outputId": "acafd5ef-f0a0-404e-b697-f0d03318617b"
   },
   "outputs": [
    {
     "data": {
      "text/html": [
       "<div>\n",
       "<style scoped>\n",
       "    .dataframe tbody tr th:only-of-type {\n",
       "        vertical-align: middle;\n",
       "    }\n",
       "\n",
       "    .dataframe tbody tr th {\n",
       "        vertical-align: top;\n",
       "    }\n",
       "\n",
       "    .dataframe thead th {\n",
       "        text-align: right;\n",
       "    }\n",
       "</style>\n",
       "<table border=\"1\" class=\"dataframe\">\n",
       "  <thead>\n",
       "    <tr style=\"text-align: right;\">\n",
       "      <th></th>\n",
       "      <th>numbers</th>\n",
       "      <th>floats</th>\n",
       "      <th>names</th>\n",
       "    </tr>\n",
       "  </thead>\n",
       "  <tbody>\n",
       "    <tr>\n",
       "      <th>a</th>\n",
       "      <td>10</td>\n",
       "      <td>1.5</td>\n",
       "      <td>Lim</td>\n",
       "    </tr>\n",
       "    <tr>\n",
       "      <th>b</th>\n",
       "      <td>20</td>\n",
       "      <td>2.5</td>\n",
       "      <td>Mutu</td>\n",
       "    </tr>\n",
       "    <tr>\n",
       "      <th>c</th>\n",
       "      <td>30</td>\n",
       "      <td>3.5</td>\n",
       "      <td>John</td>\n",
       "    </tr>\n",
       "    <tr>\n",
       "      <th>d</th>\n",
       "      <td>40</td>\n",
       "      <td>4.5</td>\n",
       "      <td>Ali</td>\n",
       "    </tr>\n",
       "    <tr>\n",
       "      <th>z</th>\n",
       "      <td>10</td>\n",
       "      <td>5.6</td>\n",
       "      <td>Henry</td>\n",
       "    </tr>\n",
       "  </tbody>\n",
       "</table>\n",
       "</div>"
      ],
      "text/plain": [
       "   numbers  floats  names\n",
       "a       10     1.5    Lim\n",
       "b       20     2.5   Mutu\n",
       "c       30     3.5   John\n",
       "d       40     4.5    Ali\n",
       "z       10     5.6  Henry"
      ]
     },
     "execution_count": 21,
     "metadata": {},
     "output_type": "execute_result"
    }
   ],
   "source": [
    "df = df.append(pd.DataFrame({'numbers': 10, 'floats': 5.6,'names': 'Henry'}, index=['z']));df"
   ]
  },
  {
   "cell_type": "markdown",
   "metadata": {
    "colab_type": "text",
    "id": "2NguHZGWwbzg"
   },
   "source": [
    "## DataFrame Class Pt. 2\n",
    "\n",
    "New, we will work on numerical data, add on new feature like DateTimeIndex and do some basic analysis."
   ]
  },
  {
   "cell_type": "markdown",
   "metadata": {
    "colab_type": "text",
    "id": "HhuoVp2exxhI"
   },
   "source": [
    "First, we can generate some data for us to use."
   ]
  },
  {
   "cell_type": "code",
   "execution_count": 23,
   "metadata": {
    "colab": {
     "base_uri": "https://localhost:8080/",
     "height": 167
    },
    "colab_type": "code",
    "id": "waJnfbvW4_cj",
    "outputId": "18f7ec95-eb34-4513-f1a5-a8c769b4d363"
   },
   "outputs": [
    {
     "data": {
      "text/plain": [
       "array([[-1.085631,  0.997345,  0.282978, -1.506295],\n",
       "       [-0.5786  ,  1.651437, -2.426679, -0.428913],\n",
       "       [ 1.265936, -0.86674 , -0.678886, -0.094709],\n",
       "       [ 1.49139 , -0.638902, -0.443982, -0.434351],\n",
       "       [ 2.20593 ,  2.186786,  1.004054,  0.386186],\n",
       "       [ 0.737369,  1.490732, -0.935834,  1.175829],\n",
       "       [-1.253881, -0.637752,  0.907105, -1.428681],\n",
       "       [-0.140069, -0.861755, -0.255619, -2.798589],\n",
       "       [-1.771533, -0.699877,  0.927462, -0.173636]])"
      ]
     },
     "execution_count": 23,
     "metadata": {},
     "output_type": "execute_result"
    }
   ],
   "source": [
    "np.random.seed(123)\n",
    "gen_data = np.random.standard_normal((9,4))\n",
    "gen_data.round(6)"
   ]
  },
  {
   "cell_type": "markdown",
   "metadata": {
    "colab_type": "text",
    "id": "3xV0zibeyRTS"
   },
   "source": [
    "We can create a DataFrame directly by using the array object"
   ]
  },
  {
   "cell_type": "code",
   "execution_count": 24,
   "metadata": {
    "colab": {
     "base_uri": "https://localhost:8080/",
     "height": 316
    },
    "colab_type": "code",
    "id": "OF4-x6z-yDYu",
    "outputId": "280d9f34-1a57-47fb-aaf8-49fb51fb6a9f"
   },
   "outputs": [
    {
     "data": {
      "text/html": [
       "<div>\n",
       "<style scoped>\n",
       "    .dataframe tbody tr th:only-of-type {\n",
       "        vertical-align: middle;\n",
       "    }\n",
       "\n",
       "    .dataframe tbody tr th {\n",
       "        vertical-align: top;\n",
       "    }\n",
       "\n",
       "    .dataframe thead th {\n",
       "        text-align: right;\n",
       "    }\n",
       "</style>\n",
       "<table border=\"1\" class=\"dataframe\">\n",
       "  <thead>\n",
       "    <tr style=\"text-align: right;\">\n",
       "      <th></th>\n",
       "      <th>0</th>\n",
       "      <th>1</th>\n",
       "      <th>2</th>\n",
       "      <th>3</th>\n",
       "    </tr>\n",
       "  </thead>\n",
       "  <tbody>\n",
       "    <tr>\n",
       "      <th>0</th>\n",
       "      <td>-1.085631</td>\n",
       "      <td>0.997345</td>\n",
       "      <td>0.282978</td>\n",
       "      <td>-1.506295</td>\n",
       "    </tr>\n",
       "    <tr>\n",
       "      <th>1</th>\n",
       "      <td>-0.578600</td>\n",
       "      <td>1.651437</td>\n",
       "      <td>-2.426679</td>\n",
       "      <td>-0.428913</td>\n",
       "    </tr>\n",
       "    <tr>\n",
       "      <th>2</th>\n",
       "      <td>1.265936</td>\n",
       "      <td>-0.866740</td>\n",
       "      <td>-0.678886</td>\n",
       "      <td>-0.094709</td>\n",
       "    </tr>\n",
       "    <tr>\n",
       "      <th>3</th>\n",
       "      <td>1.491390</td>\n",
       "      <td>-0.638902</td>\n",
       "      <td>-0.443982</td>\n",
       "      <td>-0.434351</td>\n",
       "    </tr>\n",
       "    <tr>\n",
       "      <th>4</th>\n",
       "      <td>2.205930</td>\n",
       "      <td>2.186786</td>\n",
       "      <td>1.004054</td>\n",
       "      <td>0.386186</td>\n",
       "    </tr>\n",
       "    <tr>\n",
       "      <th>5</th>\n",
       "      <td>0.737369</td>\n",
       "      <td>1.490732</td>\n",
       "      <td>-0.935834</td>\n",
       "      <td>1.175829</td>\n",
       "    </tr>\n",
       "    <tr>\n",
       "      <th>6</th>\n",
       "      <td>-1.253881</td>\n",
       "      <td>-0.637752</td>\n",
       "      <td>0.907105</td>\n",
       "      <td>-1.428681</td>\n",
       "    </tr>\n",
       "    <tr>\n",
       "      <th>7</th>\n",
       "      <td>-0.140069</td>\n",
       "      <td>-0.861755</td>\n",
       "      <td>-0.255619</td>\n",
       "      <td>-2.798589</td>\n",
       "    </tr>\n",
       "    <tr>\n",
       "      <th>8</th>\n",
       "      <td>-1.771533</td>\n",
       "      <td>-0.699877</td>\n",
       "      <td>0.927462</td>\n",
       "      <td>-0.173636</td>\n",
       "    </tr>\n",
       "  </tbody>\n",
       "</table>\n",
       "</div>"
      ],
      "text/plain": [
       "          0         1         2         3\n",
       "0 -1.085631  0.997345  0.282978 -1.506295\n",
       "1 -0.578600  1.651437 -2.426679 -0.428913\n",
       "2  1.265936 -0.866740 -0.678886 -0.094709\n",
       "3  1.491390 -0.638902 -0.443982 -0.434351\n",
       "4  2.205930  2.186786  1.004054  0.386186\n",
       "5  0.737369  1.490732 -0.935834  1.175829\n",
       "6 -1.253881 -0.637752  0.907105 -1.428681\n",
       "7 -0.140069 -0.861755 -0.255619 -2.798589\n",
       "8 -1.771533 -0.699877  0.927462 -0.173636"
      ]
     },
     "execution_count": 24,
     "metadata": {},
     "output_type": "execute_result"
    }
   ],
   "source": [
    "df = pd.DataFrame(gen_data);df"
   ]
  },
  {
   "cell_type": "markdown",
   "metadata": {
    "colab_type": "text",
    "id": "LLnTxPUnylZk"
   },
   "source": [
    "Next, we can rename all columns"
   ]
  },
  {
   "cell_type": "code",
   "execution_count": 25,
   "metadata": {
    "colab": {
     "base_uri": "https://localhost:8080/",
     "height": 316
    },
    "colab_type": "code",
    "id": "1doZ7mxJygEb",
    "outputId": "0bb29a69-d2c4-4c81-afa7-53bc673a66cb"
   },
   "outputs": [
    {
     "data": {
      "text/html": [
       "<div>\n",
       "<style scoped>\n",
       "    .dataframe tbody tr th:only-of-type {\n",
       "        vertical-align: middle;\n",
       "    }\n",
       "\n",
       "    .dataframe tbody tr th {\n",
       "        vertical-align: top;\n",
       "    }\n",
       "\n",
       "    .dataframe thead tr th {\n",
       "        text-align: left;\n",
       "    }\n",
       "</style>\n",
       "<table border=\"1\" class=\"dataframe\">\n",
       "  <thead>\n",
       "    <tr>\n",
       "      <th></th>\n",
       "      <th>x1</th>\n",
       "      <th>x2</th>\n",
       "      <th>x3</th>\n",
       "      <th>x4</th>\n",
       "    </tr>\n",
       "  </thead>\n",
       "  <tbody>\n",
       "    <tr>\n",
       "      <th>0</th>\n",
       "      <td>-1.085631</td>\n",
       "      <td>0.997345</td>\n",
       "      <td>0.282978</td>\n",
       "      <td>-1.506295</td>\n",
       "    </tr>\n",
       "    <tr>\n",
       "      <th>1</th>\n",
       "      <td>-0.578600</td>\n",
       "      <td>1.651437</td>\n",
       "      <td>-2.426679</td>\n",
       "      <td>-0.428913</td>\n",
       "    </tr>\n",
       "    <tr>\n",
       "      <th>2</th>\n",
       "      <td>1.265936</td>\n",
       "      <td>-0.866740</td>\n",
       "      <td>-0.678886</td>\n",
       "      <td>-0.094709</td>\n",
       "    </tr>\n",
       "    <tr>\n",
       "      <th>3</th>\n",
       "      <td>1.491390</td>\n",
       "      <td>-0.638902</td>\n",
       "      <td>-0.443982</td>\n",
       "      <td>-0.434351</td>\n",
       "    </tr>\n",
       "    <tr>\n",
       "      <th>4</th>\n",
       "      <td>2.205930</td>\n",
       "      <td>2.186786</td>\n",
       "      <td>1.004054</td>\n",
       "      <td>0.386186</td>\n",
       "    </tr>\n",
       "    <tr>\n",
       "      <th>5</th>\n",
       "      <td>0.737369</td>\n",
       "      <td>1.490732</td>\n",
       "      <td>-0.935834</td>\n",
       "      <td>1.175829</td>\n",
       "    </tr>\n",
       "    <tr>\n",
       "      <th>6</th>\n",
       "      <td>-1.253881</td>\n",
       "      <td>-0.637752</td>\n",
       "      <td>0.907105</td>\n",
       "      <td>-1.428681</td>\n",
       "    </tr>\n",
       "    <tr>\n",
       "      <th>7</th>\n",
       "      <td>-0.140069</td>\n",
       "      <td>-0.861755</td>\n",
       "      <td>-0.255619</td>\n",
       "      <td>-2.798589</td>\n",
       "    </tr>\n",
       "    <tr>\n",
       "      <th>8</th>\n",
       "      <td>-1.771533</td>\n",
       "      <td>-0.699877</td>\n",
       "      <td>0.927462</td>\n",
       "      <td>-0.173636</td>\n",
       "    </tr>\n",
       "  </tbody>\n",
       "</table>\n",
       "</div>"
      ],
      "text/plain": [
       "         x1        x2        x3        x4\n",
       "0 -1.085631  0.997345  0.282978 -1.506295\n",
       "1 -0.578600  1.651437 -2.426679 -0.428913\n",
       "2  1.265936 -0.866740 -0.678886 -0.094709\n",
       "3  1.491390 -0.638902 -0.443982 -0.434351\n",
       "4  2.205930  2.186786  1.004054  0.386186\n",
       "5  0.737369  1.490732 -0.935834  1.175829\n",
       "6 -1.253881 -0.637752  0.907105 -1.428681\n",
       "7 -0.140069 -0.861755 -0.255619 -2.798589\n",
       "8 -1.771533 -0.699877  0.927462 -0.173636"
      ]
     },
     "execution_count": 25,
     "metadata": {},
     "output_type": "execute_result"
    }
   ],
   "source": [
    "df.columns = [['x1', 'x2', 'x3', 'x4']];df"
   ]
  },
  {
   "cell_type": "markdown",
   "metadata": {
    "colab_type": "text",
    "id": "3lz051Rz050T"
   },
   "source": [
    "To handle with time series data efficiently, we must learn how to use time indices. \n",
    "\n",
    "Assume that our data in the four columns correspind to a month-end data, beginning in Jan 2020. We can generate a DateTimeIndex object using date_range as follows:"
   ]
  },
  {
   "cell_type": "code",
   "execution_count": 26,
   "metadata": {
    "colab": {
     "base_uri": "https://localhost:8080/",
     "height": 84
    },
    "colab_type": "code",
    "id": "S87iy6u7yy6X",
    "outputId": "3991d526-624c-4436-90ff-10aeaea1f24f"
   },
   "outputs": [
    {
     "data": {
      "text/plain": [
       "DatetimeIndex(['2020-01-31', '2020-02-29', '2020-03-31', '2020-04-30',\n",
       "               '2020-05-31', '2020-06-30', '2020-07-31', '2020-08-31',\n",
       "               '2020-09-30'],\n",
       "              dtype='datetime64[ns]', freq='M')"
      ]
     },
     "execution_count": 26,
     "metadata": {},
     "output_type": "execute_result"
    }
   ],
   "source": [
    "#periods = number of periods\n",
    "#freq = frequency, can be weekly, monthly, quaterly or yearly\n",
    "all_dates = pd.date_range('2020-1-1', periods=9, freq='M'); all_dates"
   ]
  },
  {
   "cell_type": "markdown",
   "metadata": {
    "colab_type": "text",
    "id": "pAGZWRi11vPU"
   },
   "source": [
    "Previosly, we encountered indices composed of a string and int. For timeseries data, the indices we use is the DateTimeIndex object we generated earlier."
   ]
  },
  {
   "cell_type": "code",
   "execution_count": 27,
   "metadata": {
    "colab": {
     "base_uri": "https://localhost:8080/",
     "height": 316
    },
    "colab_type": "code",
    "id": "EsxlxIUb1ujw",
    "outputId": "275bb269-86cf-45e7-c674-cd010c68ee4a"
   },
   "outputs": [
    {
     "data": {
      "text/html": [
       "<div>\n",
       "<style scoped>\n",
       "    .dataframe tbody tr th:only-of-type {\n",
       "        vertical-align: middle;\n",
       "    }\n",
       "\n",
       "    .dataframe tbody tr th {\n",
       "        vertical-align: top;\n",
       "    }\n",
       "\n",
       "    .dataframe thead tr th {\n",
       "        text-align: left;\n",
       "    }\n",
       "</style>\n",
       "<table border=\"1\" class=\"dataframe\">\n",
       "  <thead>\n",
       "    <tr>\n",
       "      <th></th>\n",
       "      <th>x1</th>\n",
       "      <th>x2</th>\n",
       "      <th>x3</th>\n",
       "      <th>x4</th>\n",
       "    </tr>\n",
       "  </thead>\n",
       "  <tbody>\n",
       "    <tr>\n",
       "      <th>2020-01-31</th>\n",
       "      <td>-1.085631</td>\n",
       "      <td>0.997345</td>\n",
       "      <td>0.282978</td>\n",
       "      <td>-1.506295</td>\n",
       "    </tr>\n",
       "    <tr>\n",
       "      <th>2020-02-29</th>\n",
       "      <td>-0.578600</td>\n",
       "      <td>1.651437</td>\n",
       "      <td>-2.426679</td>\n",
       "      <td>-0.428913</td>\n",
       "    </tr>\n",
       "    <tr>\n",
       "      <th>2020-03-31</th>\n",
       "      <td>1.265936</td>\n",
       "      <td>-0.866740</td>\n",
       "      <td>-0.678886</td>\n",
       "      <td>-0.094709</td>\n",
       "    </tr>\n",
       "    <tr>\n",
       "      <th>2020-04-30</th>\n",
       "      <td>1.491390</td>\n",
       "      <td>-0.638902</td>\n",
       "      <td>-0.443982</td>\n",
       "      <td>-0.434351</td>\n",
       "    </tr>\n",
       "    <tr>\n",
       "      <th>2020-05-31</th>\n",
       "      <td>2.205930</td>\n",
       "      <td>2.186786</td>\n",
       "      <td>1.004054</td>\n",
       "      <td>0.386186</td>\n",
       "    </tr>\n",
       "    <tr>\n",
       "      <th>2020-06-30</th>\n",
       "      <td>0.737369</td>\n",
       "      <td>1.490732</td>\n",
       "      <td>-0.935834</td>\n",
       "      <td>1.175829</td>\n",
       "    </tr>\n",
       "    <tr>\n",
       "      <th>2020-07-31</th>\n",
       "      <td>-1.253881</td>\n",
       "      <td>-0.637752</td>\n",
       "      <td>0.907105</td>\n",
       "      <td>-1.428681</td>\n",
       "    </tr>\n",
       "    <tr>\n",
       "      <th>2020-08-31</th>\n",
       "      <td>-0.140069</td>\n",
       "      <td>-0.861755</td>\n",
       "      <td>-0.255619</td>\n",
       "      <td>-2.798589</td>\n",
       "    </tr>\n",
       "    <tr>\n",
       "      <th>2020-09-30</th>\n",
       "      <td>-1.771533</td>\n",
       "      <td>-0.699877</td>\n",
       "      <td>0.927462</td>\n",
       "      <td>-0.173636</td>\n",
       "    </tr>\n",
       "  </tbody>\n",
       "</table>\n",
       "</div>"
      ],
      "text/plain": [
       "                  x1        x2        x3        x4\n",
       "2020-01-31 -1.085631  0.997345  0.282978 -1.506295\n",
       "2020-02-29 -0.578600  1.651437 -2.426679 -0.428913\n",
       "2020-03-31  1.265936 -0.866740 -0.678886 -0.094709\n",
       "2020-04-30  1.491390 -0.638902 -0.443982 -0.434351\n",
       "2020-05-31  2.205930  2.186786  1.004054  0.386186\n",
       "2020-06-30  0.737369  1.490732 -0.935834  1.175829\n",
       "2020-07-31 -1.253881 -0.637752  0.907105 -1.428681\n",
       "2020-08-31 -0.140069 -0.861755 -0.255619 -2.798589\n",
       "2020-09-30 -1.771533 -0.699877  0.927462 -0.173636"
      ]
     },
     "execution_count": 27,
     "metadata": {},
     "output_type": "execute_result"
    }
   ],
   "source": [
    "df.index = all_dates; df"
   ]
  },
  {
   "cell_type": "markdown",
   "metadata": {
    "colab_type": "text",
    "id": "UnE7kNmf9FIf"
   },
   "source": [
    "With Datetime as the index we can select a range of data by a certain range."
   ]
  },
  {
   "cell_type": "code",
   "execution_count": 28,
   "metadata": {
    "colab": {
     "base_uri": "https://localhost:8080/",
     "height": 763
    },
    "colab_type": "code",
    "id": "RbVXaRHc9L4A",
    "outputId": "e560bb06-037f-4d01-faa5-41f67fe412ba"
   },
   "outputs": [
    {
     "data": {
      "text/html": [
       "<div>\n",
       "<style scoped>\n",
       "    .dataframe tbody tr th:only-of-type {\n",
       "        vertical-align: middle;\n",
       "    }\n",
       "\n",
       "    .dataframe tbody tr th {\n",
       "        vertical-align: top;\n",
       "    }\n",
       "\n",
       "    .dataframe thead th {\n",
       "        text-align: right;\n",
       "    }\n",
       "</style>\n",
       "<table border=\"1\" class=\"dataframe\">\n",
       "  <thead>\n",
       "    <tr style=\"text-align: right;\">\n",
       "      <th></th>\n",
       "      <th>x1</th>\n",
       "      <th>x2</th>\n",
       "      <th>x3</th>\n",
       "      <th>x4</th>\n",
       "    </tr>\n",
       "  </thead>\n",
       "  <tbody>\n",
       "    <tr>\n",
       "      <th>2020-01-31</th>\n",
       "      <td>0.002846</td>\n",
       "      <td>0.688223</td>\n",
       "      <td>-0.879536</td>\n",
       "      <td>0.283627</td>\n",
       "    </tr>\n",
       "    <tr>\n",
       "      <th>2020-02-29</th>\n",
       "      <td>-0.805367</td>\n",
       "      <td>-1.727669</td>\n",
       "      <td>-0.390900</td>\n",
       "      <td>0.573806</td>\n",
       "    </tr>\n",
       "    <tr>\n",
       "      <th>2020-03-31</th>\n",
       "      <td>0.338589</td>\n",
       "      <td>-0.011830</td>\n",
       "      <td>2.392365</td>\n",
       "      <td>0.412912</td>\n",
       "    </tr>\n",
       "    <tr>\n",
       "      <th>2020-04-30</th>\n",
       "      <td>0.978736</td>\n",
       "      <td>2.238143</td>\n",
       "      <td>-1.294085</td>\n",
       "      <td>-1.038788</td>\n",
       "    </tr>\n",
       "    <tr>\n",
       "      <th>2020-05-31</th>\n",
       "      <td>1.743712</td>\n",
       "      <td>-0.798063</td>\n",
       "      <td>0.029683</td>\n",
       "      <td>1.069316</td>\n",
       "    </tr>\n",
       "    <tr>\n",
       "      <th>2020-06-30</th>\n",
       "      <td>0.890706</td>\n",
       "      <td>1.754886</td>\n",
       "      <td>1.495644</td>\n",
       "      <td>1.069393</td>\n",
       "    </tr>\n",
       "    <tr>\n",
       "      <th>2020-07-31</th>\n",
       "      <td>-0.772709</td>\n",
       "      <td>0.794863</td>\n",
       "      <td>0.314272</td>\n",
       "      <td>-1.326265</td>\n",
       "    </tr>\n",
       "    <tr>\n",
       "      <th>2020-08-31</th>\n",
       "      <td>1.417299</td>\n",
       "      <td>0.807237</td>\n",
       "      <td>0.045490</td>\n",
       "      <td>-0.233092</td>\n",
       "    </tr>\n",
       "    <tr>\n",
       "      <th>2020-09-30</th>\n",
       "      <td>-1.198301</td>\n",
       "      <td>0.199524</td>\n",
       "      <td>0.468439</td>\n",
       "      <td>-0.831155</td>\n",
       "    </tr>\n",
       "    <tr>\n",
       "      <th>2020-10-31</th>\n",
       "      <td>1.162204</td>\n",
       "      <td>-1.097203</td>\n",
       "      <td>-2.123100</td>\n",
       "      <td>1.039727</td>\n",
       "    </tr>\n",
       "    <tr>\n",
       "      <th>2020-11-30</th>\n",
       "      <td>-0.403366</td>\n",
       "      <td>-0.126030</td>\n",
       "      <td>-0.837517</td>\n",
       "      <td>-1.605963</td>\n",
       "    </tr>\n",
       "    <tr>\n",
       "      <th>2020-12-31</th>\n",
       "      <td>1.255237</td>\n",
       "      <td>-0.688869</td>\n",
       "      <td>1.660952</td>\n",
       "      <td>0.807308</td>\n",
       "    </tr>\n",
       "    <tr>\n",
       "      <th>2021-01-31</th>\n",
       "      <td>-0.314758</td>\n",
       "      <td>-1.085902</td>\n",
       "      <td>-0.732462</td>\n",
       "      <td>-1.212523</td>\n",
       "    </tr>\n",
       "    <tr>\n",
       "      <th>2021-02-28</th>\n",
       "      <td>2.087113</td>\n",
       "      <td>0.164441</td>\n",
       "      <td>1.150206</td>\n",
       "      <td>-1.267352</td>\n",
       "    </tr>\n",
       "    <tr>\n",
       "      <th>2021-03-31</th>\n",
       "      <td>0.181035</td>\n",
       "      <td>1.177862</td>\n",
       "      <td>-0.335011</td>\n",
       "      <td>1.031114</td>\n",
       "    </tr>\n",
       "    <tr>\n",
       "      <th>2021-04-30</th>\n",
       "      <td>-1.084568</td>\n",
       "      <td>-1.363472</td>\n",
       "      <td>0.379401</td>\n",
       "      <td>-0.379176</td>\n",
       "    </tr>\n",
       "    <tr>\n",
       "      <th>2021-05-31</th>\n",
       "      <td>0.642055</td>\n",
       "      <td>-1.977888</td>\n",
       "      <td>0.712265</td>\n",
       "      <td>2.598304</td>\n",
       "    </tr>\n",
       "    <tr>\n",
       "      <th>2021-06-30</th>\n",
       "      <td>-0.024626</td>\n",
       "      <td>0.034142</td>\n",
       "      <td>0.179549</td>\n",
       "      <td>-1.861976</td>\n",
       "    </tr>\n",
       "    <tr>\n",
       "      <th>2021-07-31</th>\n",
       "      <td>0.426147</td>\n",
       "      <td>-1.605410</td>\n",
       "      <td>-0.427680</td>\n",
       "      <td>1.242870</td>\n",
       "    </tr>\n",
       "    <tr>\n",
       "      <th>2021-08-31</th>\n",
       "      <td>-0.735217</td>\n",
       "      <td>0.501249</td>\n",
       "      <td>1.012739</td>\n",
       "      <td>0.278741</td>\n",
       "    </tr>\n",
       "    <tr>\n",
       "      <th>2021-09-30</th>\n",
       "      <td>-1.370948</td>\n",
       "      <td>-0.332475</td>\n",
       "      <td>1.959411</td>\n",
       "      <td>-2.025046</td>\n",
       "    </tr>\n",
       "    <tr>\n",
       "      <th>2021-10-31</th>\n",
       "      <td>-0.275786</td>\n",
       "      <td>-0.552108</td>\n",
       "      <td>0.120747</td>\n",
       "      <td>0.748216</td>\n",
       "    </tr>\n",
       "    <tr>\n",
       "      <th>2021-11-30</th>\n",
       "      <td>1.608691</td>\n",
       "      <td>-0.270232</td>\n",
       "      <td>0.812341</td>\n",
       "      <td>0.499740</td>\n",
       "    </tr>\n",
       "    <tr>\n",
       "      <th>2021-12-31</th>\n",
       "      <td>0.474347</td>\n",
       "      <td>-0.563924</td>\n",
       "      <td>-0.997321</td>\n",
       "      <td>-1.100043</td>\n",
       "    </tr>\n",
       "  </tbody>\n",
       "</table>\n",
       "</div>"
      ],
      "text/plain": [
       "                  x1        x2        x3        x4\n",
       "2020-01-31  0.002846  0.688223 -0.879536  0.283627\n",
       "2020-02-29 -0.805367 -1.727669 -0.390900  0.573806\n",
       "2020-03-31  0.338589 -0.011830  2.392365  0.412912\n",
       "2020-04-30  0.978736  2.238143 -1.294085 -1.038788\n",
       "2020-05-31  1.743712 -0.798063  0.029683  1.069316\n",
       "2020-06-30  0.890706  1.754886  1.495644  1.069393\n",
       "2020-07-31 -0.772709  0.794863  0.314272 -1.326265\n",
       "2020-08-31  1.417299  0.807237  0.045490 -0.233092\n",
       "2020-09-30 -1.198301  0.199524  0.468439 -0.831155\n",
       "2020-10-31  1.162204 -1.097203 -2.123100  1.039727\n",
       "2020-11-30 -0.403366 -0.126030 -0.837517 -1.605963\n",
       "2020-12-31  1.255237 -0.688869  1.660952  0.807308\n",
       "2021-01-31 -0.314758 -1.085902 -0.732462 -1.212523\n",
       "2021-02-28  2.087113  0.164441  1.150206 -1.267352\n",
       "2021-03-31  0.181035  1.177862 -0.335011  1.031114\n",
       "2021-04-30 -1.084568 -1.363472  0.379401 -0.379176\n",
       "2021-05-31  0.642055 -1.977888  0.712265  2.598304\n",
       "2021-06-30 -0.024626  0.034142  0.179549 -1.861976\n",
       "2021-07-31  0.426147 -1.605410 -0.427680  1.242870\n",
       "2021-08-31 -0.735217  0.501249  1.012739  0.278741\n",
       "2021-09-30 -1.370948 -0.332475  1.959411 -2.025046\n",
       "2021-10-31 -0.275786 -0.552108  0.120747  0.748216\n",
       "2021-11-30  1.608691 -0.270232  0.812341  0.499740\n",
       "2021-12-31  0.474347 -0.563924 -0.997321 -1.100043"
      ]
     },
     "execution_count": 28,
     "metadata": {},
     "output_type": "execute_result"
    }
   ],
   "source": [
    "gen_data = np.random.standard_normal((24,4))\n",
    "gen_data.round(6)\n",
    "\n",
    "dates = pd.date_range('2020-1-1', periods=24, freq='M')\n",
    "df_twoYears = pd.DataFrame(gen_data, index=dates, columns=['x1', 'x2', 'x3', 'x4']); df_twoYears"
   ]
  },
  {
   "cell_type": "code",
   "execution_count": 29,
   "metadata": {
    "colab": {
     "base_uri": "https://localhost:8080/",
     "height": 405
    },
    "colab_type": "code",
    "id": "n74b-lGu-GeF",
    "outputId": "d0eb99a0-7632-4dfc-f750-95d43c688f57"
   },
   "outputs": [
    {
     "data": {
      "text/html": [
       "<div>\n",
       "<style scoped>\n",
       "    .dataframe tbody tr th:only-of-type {\n",
       "        vertical-align: middle;\n",
       "    }\n",
       "\n",
       "    .dataframe tbody tr th {\n",
       "        vertical-align: top;\n",
       "    }\n",
       "\n",
       "    .dataframe thead th {\n",
       "        text-align: right;\n",
       "    }\n",
       "</style>\n",
       "<table border=\"1\" class=\"dataframe\">\n",
       "  <thead>\n",
       "    <tr style=\"text-align: right;\">\n",
       "      <th></th>\n",
       "      <th>x1</th>\n",
       "      <th>x2</th>\n",
       "      <th>x3</th>\n",
       "      <th>x4</th>\n",
       "    </tr>\n",
       "  </thead>\n",
       "  <tbody>\n",
       "    <tr>\n",
       "      <th>2020-01-31</th>\n",
       "      <td>0.002846</td>\n",
       "      <td>0.688223</td>\n",
       "      <td>-0.879536</td>\n",
       "      <td>0.283627</td>\n",
       "    </tr>\n",
       "    <tr>\n",
       "      <th>2020-02-29</th>\n",
       "      <td>-0.805367</td>\n",
       "      <td>-1.727669</td>\n",
       "      <td>-0.390900</td>\n",
       "      <td>0.573806</td>\n",
       "    </tr>\n",
       "    <tr>\n",
       "      <th>2020-03-31</th>\n",
       "      <td>0.338589</td>\n",
       "      <td>-0.011830</td>\n",
       "      <td>2.392365</td>\n",
       "      <td>0.412912</td>\n",
       "    </tr>\n",
       "    <tr>\n",
       "      <th>2020-04-30</th>\n",
       "      <td>0.978736</td>\n",
       "      <td>2.238143</td>\n",
       "      <td>-1.294085</td>\n",
       "      <td>-1.038788</td>\n",
       "    </tr>\n",
       "    <tr>\n",
       "      <th>2020-05-31</th>\n",
       "      <td>1.743712</td>\n",
       "      <td>-0.798063</td>\n",
       "      <td>0.029683</td>\n",
       "      <td>1.069316</td>\n",
       "    </tr>\n",
       "    <tr>\n",
       "      <th>2020-06-30</th>\n",
       "      <td>0.890706</td>\n",
       "      <td>1.754886</td>\n",
       "      <td>1.495644</td>\n",
       "      <td>1.069393</td>\n",
       "    </tr>\n",
       "    <tr>\n",
       "      <th>2020-07-31</th>\n",
       "      <td>-0.772709</td>\n",
       "      <td>0.794863</td>\n",
       "      <td>0.314272</td>\n",
       "      <td>-1.326265</td>\n",
       "    </tr>\n",
       "    <tr>\n",
       "      <th>2020-08-31</th>\n",
       "      <td>1.417299</td>\n",
       "      <td>0.807237</td>\n",
       "      <td>0.045490</td>\n",
       "      <td>-0.233092</td>\n",
       "    </tr>\n",
       "    <tr>\n",
       "      <th>2020-09-30</th>\n",
       "      <td>-1.198301</td>\n",
       "      <td>0.199524</td>\n",
       "      <td>0.468439</td>\n",
       "      <td>-0.831155</td>\n",
       "    </tr>\n",
       "    <tr>\n",
       "      <th>2020-10-31</th>\n",
       "      <td>1.162204</td>\n",
       "      <td>-1.097203</td>\n",
       "      <td>-2.123100</td>\n",
       "      <td>1.039727</td>\n",
       "    </tr>\n",
       "    <tr>\n",
       "      <th>2020-11-30</th>\n",
       "      <td>-0.403366</td>\n",
       "      <td>-0.126030</td>\n",
       "      <td>-0.837517</td>\n",
       "      <td>-1.605963</td>\n",
       "    </tr>\n",
       "    <tr>\n",
       "      <th>2020-12-31</th>\n",
       "      <td>1.255237</td>\n",
       "      <td>-0.688869</td>\n",
       "      <td>1.660952</td>\n",
       "      <td>0.807308</td>\n",
       "    </tr>\n",
       "  </tbody>\n",
       "</table>\n",
       "</div>"
      ],
      "text/plain": [
       "                  x1        x2        x3        x4\n",
       "2020-01-31  0.002846  0.688223 -0.879536  0.283627\n",
       "2020-02-29 -0.805367 -1.727669 -0.390900  0.573806\n",
       "2020-03-31  0.338589 -0.011830  2.392365  0.412912\n",
       "2020-04-30  0.978736  2.238143 -1.294085 -1.038788\n",
       "2020-05-31  1.743712 -0.798063  0.029683  1.069316\n",
       "2020-06-30  0.890706  1.754886  1.495644  1.069393\n",
       "2020-07-31 -0.772709  0.794863  0.314272 -1.326265\n",
       "2020-08-31  1.417299  0.807237  0.045490 -0.233092\n",
       "2020-09-30 -1.198301  0.199524  0.468439 -0.831155\n",
       "2020-10-31  1.162204 -1.097203 -2.123100  1.039727\n",
       "2020-11-30 -0.403366 -0.126030 -0.837517 -1.605963\n",
       "2020-12-31  1.255237 -0.688869  1.660952  0.807308"
      ]
     },
     "execution_count": 29,
     "metadata": {},
     "output_type": "execute_result"
    }
   ],
   "source": [
    "#select data from year 2020\n",
    "df_twoYears['2020']"
   ]
  },
  {
   "cell_type": "code",
   "execution_count": 30,
   "metadata": {},
   "outputs": [
    {
     "data": {
      "text/html": [
       "<div>\n",
       "<style scoped>\n",
       "    .dataframe tbody tr th:only-of-type {\n",
       "        vertical-align: middle;\n",
       "    }\n",
       "\n",
       "    .dataframe tbody tr th {\n",
       "        vertical-align: top;\n",
       "    }\n",
       "\n",
       "    .dataframe thead th {\n",
       "        text-align: right;\n",
       "    }\n",
       "</style>\n",
       "<table border=\"1\" class=\"dataframe\">\n",
       "  <thead>\n",
       "    <tr style=\"text-align: right;\">\n",
       "      <th></th>\n",
       "      <th>x1</th>\n",
       "      <th>x2</th>\n",
       "      <th>x3</th>\n",
       "      <th>x4</th>\n",
       "    </tr>\n",
       "  </thead>\n",
       "  <tbody>\n",
       "    <tr>\n",
       "      <th>2020-03-31</th>\n",
       "      <td>0.338589</td>\n",
       "      <td>-0.011830</td>\n",
       "      <td>2.392365</td>\n",
       "      <td>0.412912</td>\n",
       "    </tr>\n",
       "    <tr>\n",
       "      <th>2020-04-30</th>\n",
       "      <td>0.978736</td>\n",
       "      <td>2.238143</td>\n",
       "      <td>-1.294085</td>\n",
       "      <td>-1.038788</td>\n",
       "    </tr>\n",
       "    <tr>\n",
       "      <th>2020-05-31</th>\n",
       "      <td>1.743712</td>\n",
       "      <td>-0.798063</td>\n",
       "      <td>0.029683</td>\n",
       "      <td>1.069316</td>\n",
       "    </tr>\n",
       "    <tr>\n",
       "      <th>2020-06-30</th>\n",
       "      <td>0.890706</td>\n",
       "      <td>1.754886</td>\n",
       "      <td>1.495644</td>\n",
       "      <td>1.069393</td>\n",
       "    </tr>\n",
       "    <tr>\n",
       "      <th>2020-07-31</th>\n",
       "      <td>-0.772709</td>\n",
       "      <td>0.794863</td>\n",
       "      <td>0.314272</td>\n",
       "      <td>-1.326265</td>\n",
       "    </tr>\n",
       "    <tr>\n",
       "      <th>2020-08-31</th>\n",
       "      <td>1.417299</td>\n",
       "      <td>0.807237</td>\n",
       "      <td>0.045490</td>\n",
       "      <td>-0.233092</td>\n",
       "    </tr>\n",
       "    <tr>\n",
       "      <th>2020-09-30</th>\n",
       "      <td>-1.198301</td>\n",
       "      <td>0.199524</td>\n",
       "      <td>0.468439</td>\n",
       "      <td>-0.831155</td>\n",
       "    </tr>\n",
       "    <tr>\n",
       "      <th>2020-10-31</th>\n",
       "      <td>1.162204</td>\n",
       "      <td>-1.097203</td>\n",
       "      <td>-2.123100</td>\n",
       "      <td>1.039727</td>\n",
       "    </tr>\n",
       "    <tr>\n",
       "      <th>2020-11-30</th>\n",
       "      <td>-0.403366</td>\n",
       "      <td>-0.126030</td>\n",
       "      <td>-0.837517</td>\n",
       "      <td>-1.605963</td>\n",
       "    </tr>\n",
       "  </tbody>\n",
       "</table>\n",
       "</div>"
      ],
      "text/plain": [
       "                  x1        x2        x3        x4\n",
       "2020-03-31  0.338589 -0.011830  2.392365  0.412912\n",
       "2020-04-30  0.978736  2.238143 -1.294085 -1.038788\n",
       "2020-05-31  1.743712 -0.798063  0.029683  1.069316\n",
       "2020-06-30  0.890706  1.754886  1.495644  1.069393\n",
       "2020-07-31 -0.772709  0.794863  0.314272 -1.326265\n",
       "2020-08-31  1.417299  0.807237  0.045490 -0.233092\n",
       "2020-09-30 -1.198301  0.199524  0.468439 -0.831155\n",
       "2020-10-31  1.162204 -1.097203 -2.123100  1.039727\n",
       "2020-11-30 -0.403366 -0.126030 -0.837517 -1.605963"
      ]
     },
     "execution_count": 30,
     "metadata": {},
     "output_type": "execute_result"
    }
   ],
   "source": [
    "#select data from March to November\n",
    "df_twoYears['2020-03':'2020-11']"
   ]
  },
  {
   "cell_type": "code",
   "execution_count": 31,
   "metadata": {},
   "outputs": [
    {
     "data": {
      "text/plain": [
       "2020-01-31    0.002846\n",
       "2020-02-29   -0.805367\n",
       "2020-03-31    0.338589\n",
       "2020-04-30    0.978736\n",
       "2020-05-31    1.743712\n",
       "2020-06-30    0.890706\n",
       "2020-07-31   -0.772709\n",
       "2020-08-31    1.417299\n",
       "2020-09-30   -1.198301\n",
       "2020-10-31    1.162204\n",
       "2020-11-30   -0.403366\n",
       "2020-12-31    1.255237\n",
       "2021-01-31   -0.314758\n",
       "2021-02-28    2.087113\n",
       "2021-03-31    0.181035\n",
       "2021-04-30   -1.084568\n",
       "2021-05-31    0.642055\n",
       "2021-06-30   -0.024626\n",
       "2021-07-31    0.426147\n",
       "2021-08-31   -0.735217\n",
       "2021-09-30   -1.370948\n",
       "2021-10-31   -0.275786\n",
       "2021-11-30    1.608691\n",
       "2021-12-31    0.474347\n",
       "Freq: M, Name: x1, dtype: float64"
      ]
     },
     "execution_count": 31,
     "metadata": {},
     "output_type": "execute_result"
    }
   ],
   "source": [
    "# select columns\n",
    "df_twoYears['x1']"
   ]
  },
  {
   "cell_type": "code",
   "execution_count": 32,
   "metadata": {},
   "outputs": [
    {
     "data": {
      "image/png": "[encoded data removed]",
      "text/plain": [
       "<Figure size 432x288 with 1 Axes>"
      ]
     },
     "metadata": {
      "needs_background": "light"
     },
     "output_type": "display_data"
    }
   ],
   "source": [
    "plt.plot(df_twoYears['x1'])\n",
    "plt.show()"
   ]
  },
  {
   "cell_type": "markdown",
   "metadata": {
    "colab_type": "text",
    "id": "OzIRLa045cLF"
   },
   "source": [
    "## Basic Analytics"
   ]
  },
  {
   "cell_type": "markdown",
   "metadata": {
    "colab_type": "text",
    "id": "JATA8a2S5yPs"
   },
   "source": [
    "Just like NumPy arrays, we can apply perform multiple operations on the array via DataFrame. We can get row-wise sums, means and cumulative means as follows:"
   ]
  },
  {
   "cell_type": "code",
   "execution_count": 35,
   "metadata": {
    "colab": {
     "base_uri": "https://localhost:8080/",
     "height": 100
    },
    "colab_type": "code",
    "id": "-OqUchYf1oG3",
    "outputId": "ea5d4a7b-1491-45ed-b066-8e4a5ba39176"
   },
   "outputs": [
    {
     "data": {
      "text/plain": [
       "x1    0.870911\n",
       "x2    2.621274\n",
       "x3   -1.619401\n",
       "x4   -5.303158\n",
       "dtype: float64"
      ]
     },
     "execution_count": 35,
     "metadata": {},
     "output_type": "execute_result"
    }
   ],
   "source": [
    "df.sum(axis=0)"
   ]
  },
  {
   "cell_type": "code",
   "execution_count": 36,
   "metadata": {
    "colab": {
     "base_uri": "https://localhost:8080/",
     "height": 100
    },
    "colab_type": "code",
    "id": "BQ1xQnS16Eda",
    "outputId": "c9bea544-1210-4645-9ec3-d0fe48cb3b81"
   },
   "outputs": [
    {
     "data": {
      "text/plain": [
       "x1    0.096768\n",
       "x2    0.291253\n",
       "x3   -0.179933\n",
       "x4   -0.589240\n",
       "dtype: float64"
      ]
     },
     "execution_count": 36,
     "metadata": {},
     "output_type": "execute_result"
    }
   ],
   "source": [
    "df.mean()"
   ]
  },
  {
   "cell_type": "code",
   "execution_count": 37,
   "metadata": {
    "colab": {
     "base_uri": "https://localhost:8080/",
     "height": 316
    },
    "colab_type": "code",
    "id": "t2BDfuMy6GXO",
    "outputId": "1cf253e7-22de-4014-e58a-c4fdf8290957"
   },
   "outputs": [
    {
     "data": {
      "text/html": [
       "<div>\n",
       "<style scoped>\n",
       "    .dataframe tbody tr th:only-of-type {\n",
       "        vertical-align: middle;\n",
       "    }\n",
       "\n",
       "    .dataframe tbody tr th {\n",
       "        vertical-align: top;\n",
       "    }\n",
       "\n",
       "    .dataframe thead tr th {\n",
       "        text-align: left;\n",
       "    }\n",
       "</style>\n",
       "<table border=\"1\" class=\"dataframe\">\n",
       "  <thead>\n",
       "    <tr>\n",
       "      <th></th>\n",
       "      <th>x1</th>\n",
       "      <th>x2</th>\n",
       "      <th>x3</th>\n",
       "      <th>x4</th>\n",
       "    </tr>\n",
       "  </thead>\n",
       "  <tbody>\n",
       "    <tr>\n",
       "      <th>2020-01-31</th>\n",
       "      <td>-1.085631</td>\n",
       "      <td>0.997345</td>\n",
       "      <td>0.282978</td>\n",
       "      <td>-1.506295</td>\n",
       "    </tr>\n",
       "    <tr>\n",
       "      <th>2020-02-29</th>\n",
       "      <td>-1.664231</td>\n",
       "      <td>2.648782</td>\n",
       "      <td>-2.143701</td>\n",
       "      <td>-1.935207</td>\n",
       "    </tr>\n",
       "    <tr>\n",
       "      <th>2020-03-31</th>\n",
       "      <td>-0.398295</td>\n",
       "      <td>1.782042</td>\n",
       "      <td>-2.822587</td>\n",
       "      <td>-2.029916</td>\n",
       "    </tr>\n",
       "    <tr>\n",
       "      <th>2020-04-30</th>\n",
       "      <td>1.093095</td>\n",
       "      <td>1.143140</td>\n",
       "      <td>-3.266569</td>\n",
       "      <td>-2.464268</td>\n",
       "    </tr>\n",
       "    <tr>\n",
       "      <th>2020-05-31</th>\n",
       "      <td>3.299025</td>\n",
       "      <td>3.329926</td>\n",
       "      <td>-2.262515</td>\n",
       "      <td>-2.078081</td>\n",
       "    </tr>\n",
       "    <tr>\n",
       "      <th>2020-06-30</th>\n",
       "      <td>4.036394</td>\n",
       "      <td>4.820658</td>\n",
       "      <td>-3.198349</td>\n",
       "      <td>-0.902252</td>\n",
       "    </tr>\n",
       "    <tr>\n",
       "      <th>2020-07-31</th>\n",
       "      <td>2.782513</td>\n",
       "      <td>4.182906</td>\n",
       "      <td>-2.291244</td>\n",
       "      <td>-2.330933</td>\n",
       "    </tr>\n",
       "    <tr>\n",
       "      <th>2020-08-31</th>\n",
       "      <td>2.642444</td>\n",
       "      <td>3.321151</td>\n",
       "      <td>-2.546863</td>\n",
       "      <td>-5.129522</td>\n",
       "    </tr>\n",
       "    <tr>\n",
       "      <th>2020-09-30</th>\n",
       "      <td>0.870911</td>\n",
       "      <td>2.621274</td>\n",
       "      <td>-1.619401</td>\n",
       "      <td>-5.303158</td>\n",
       "    </tr>\n",
       "  </tbody>\n",
       "</table>\n",
       "</div>"
      ],
      "text/plain": [
       "                  x1        x2        x3        x4\n",
       "2020-01-31 -1.085631  0.997345  0.282978 -1.506295\n",
       "2020-02-29 -1.664231  2.648782 -2.143701 -1.935207\n",
       "2020-03-31 -0.398295  1.782042 -2.822587 -2.029916\n",
       "2020-04-30  1.093095  1.143140 -3.266569 -2.464268\n",
       "2020-05-31  3.299025  3.329926 -2.262515 -2.078081\n",
       "2020-06-30  4.036394  4.820658 -3.198349 -0.902252\n",
       "2020-07-31  2.782513  4.182906 -2.291244 -2.330933\n",
       "2020-08-31  2.642444  3.321151 -2.546863 -5.129522\n",
       "2020-09-30  0.870911  2.621274 -1.619401 -5.303158"
      ]
     },
     "execution_count": 37,
     "metadata": {},
     "output_type": "execute_result"
    }
   ],
   "source": [
    "df.cumsum()"
   ]
  },
  {
   "cell_type": "markdown",
   "metadata": {
    "colab_type": "text",
    "id": "52qzDtZ16Nlb"
   },
   "source": [
    "There's a shortcut to an often-used statistics for numerical datasets, the describe method:"
   ]
  },
  {
   "cell_type": "code",
   "execution_count": 38,
   "metadata": {
    "colab": {
     "base_uri": "https://localhost:8080/",
     "height": 286
    },
    "colab_type": "code",
    "id": "jZnJjl1j6H3p",
    "outputId": "54482185-9cfa-4167-851c-c403ba656461"
   },
   "outputs": [
    {
     "data": {
      "text/html": [
       "<div>\n",
       "<style scoped>\n",
       "    .dataframe tbody tr th:only-of-type {\n",
       "        vertical-align: middle;\n",
       "    }\n",
       "\n",
       "    .dataframe tbody tr th {\n",
       "        vertical-align: top;\n",
       "    }\n",
       "\n",
       "    .dataframe thead tr th {\n",
       "        text-align: left;\n",
       "    }\n",
       "</style>\n",
       "<table border=\"1\" class=\"dataframe\">\n",
       "  <thead>\n",
       "    <tr>\n",
       "      <th></th>\n",
       "      <th>x1</th>\n",
       "      <th>x2</th>\n",
       "      <th>x3</th>\n",
       "      <th>x4</th>\n",
       "    </tr>\n",
       "  </thead>\n",
       "  <tbody>\n",
       "    <tr>\n",
       "      <th>count</th>\n",
       "      <td>9.000000</td>\n",
       "      <td>9.000000</td>\n",
       "      <td>9.000000</td>\n",
       "      <td>9.000000</td>\n",
       "    </tr>\n",
       "    <tr>\n",
       "      <th>mean</th>\n",
       "      <td>0.096768</td>\n",
       "      <td>0.291253</td>\n",
       "      <td>-0.179933</td>\n",
       "      <td>-0.589240</td>\n",
       "    </tr>\n",
       "    <tr>\n",
       "      <th>std</th>\n",
       "      <td>1.387261</td>\n",
       "      <td>1.263003</td>\n",
       "      <td>1.116230</td>\n",
       "      <td>1.170512</td>\n",
       "    </tr>\n",
       "    <tr>\n",
       "      <th>min</th>\n",
       "      <td>-1.771533</td>\n",
       "      <td>-0.866740</td>\n",
       "      <td>-2.426679</td>\n",
       "      <td>-2.798589</td>\n",
       "    </tr>\n",
       "    <tr>\n",
       "      <th>25%</th>\n",
       "      <td>-1.085631</td>\n",
       "      <td>-0.699877</td>\n",
       "      <td>-0.678886</td>\n",
       "      <td>-1.428681</td>\n",
       "    </tr>\n",
       "    <tr>\n",
       "      <th>50%</th>\n",
       "      <td>-0.140069</td>\n",
       "      <td>-0.637752</td>\n",
       "      <td>-0.255619</td>\n",
       "      <td>-0.428913</td>\n",
       "    </tr>\n",
       "    <tr>\n",
       "      <th>75%</th>\n",
       "      <td>1.265936</td>\n",
       "      <td>1.490732</td>\n",
       "      <td>0.907105</td>\n",
       "      <td>-0.094709</td>\n",
       "    </tr>\n",
       "    <tr>\n",
       "      <th>max</th>\n",
       "      <td>2.205930</td>\n",
       "      <td>2.186786</td>\n",
       "      <td>1.004054</td>\n",
       "      <td>1.175829</td>\n",
       "    </tr>\n",
       "  </tbody>\n",
       "</table>\n",
       "</div>"
      ],
      "text/plain": [
       "             x1        x2        x3        x4\n",
       "count  9.000000  9.000000  9.000000  9.000000\n",
       "mean   0.096768  0.291253 -0.179933 -0.589240\n",
       "std    1.387261  1.263003  1.116230  1.170512\n",
       "min   -1.771533 -0.866740 -2.426679 -2.798589\n",
       "25%   -1.085631 -0.699877 -0.678886 -1.428681\n",
       "50%   -0.140069 -0.637752 -0.255619 -0.428913\n",
       "75%    1.265936  1.490732  0.907105 -0.094709\n",
       "max    2.205930  2.186786  1.004054  1.175829"
      ]
     },
     "execution_count": 38,
     "metadata": {},
     "output_type": "execute_result"
    }
   ],
   "source": [
    "df.describe()"
   ]
  },
  {
   "cell_type": "markdown",
   "metadata": {
    "colab_type": "text",
    "id": "TWNRGMeH6ZWI"
   },
   "source": [
    "In general, we can apply Numpy universal functions to pandas DataFrame objects.\n",
    "\n",
    "For example:"
   ]
  },
  {
   "cell_type": "code",
   "execution_count": 39,
   "metadata": {
    "colab": {
     "base_uri": "https://localhost:8080/",
     "height": 349
    },
    "colab_type": "code",
    "id": "mx00joVh7XkW",
    "outputId": "0586e502-3871-40db-b877-af4c83a7e7da"
   },
   "outputs": [
    {
     "data": {
      "text/html": [
       "<div>\n",
       "<style scoped>\n",
       "    .dataframe tbody tr th:only-of-type {\n",
       "        vertical-align: middle;\n",
       "    }\n",
       "\n",
       "    .dataframe tbody tr th {\n",
       "        vertical-align: top;\n",
       "    }\n",
       "\n",
       "    .dataframe thead tr th {\n",
       "        text-align: left;\n",
       "    }\n",
       "</style>\n",
       "<table border=\"1\" class=\"dataframe\">\n",
       "  <thead>\n",
       "    <tr>\n",
       "      <th></th>\n",
       "      <th>x1</th>\n",
       "      <th>x2</th>\n",
       "      <th>x3</th>\n",
       "      <th>x4</th>\n",
       "    </tr>\n",
       "  </thead>\n",
       "  <tbody>\n",
       "    <tr>\n",
       "      <th>2020-01-31</th>\n",
       "      <td>NaN</td>\n",
       "      <td>0.998672</td>\n",
       "      <td>0.531957</td>\n",
       "      <td>NaN</td>\n",
       "    </tr>\n",
       "    <tr>\n",
       "      <th>2020-02-29</th>\n",
       "      <td>NaN</td>\n",
       "      <td>1.285082</td>\n",
       "      <td>NaN</td>\n",
       "      <td>NaN</td>\n",
       "    </tr>\n",
       "    <tr>\n",
       "      <th>2020-03-31</th>\n",
       "      <td>1.125138</td>\n",
       "      <td>NaN</td>\n",
       "      <td>NaN</td>\n",
       "      <td>NaN</td>\n",
       "    </tr>\n",
       "    <tr>\n",
       "      <th>2020-04-30</th>\n",
       "      <td>1.221225</td>\n",
       "      <td>NaN</td>\n",
       "      <td>NaN</td>\n",
       "      <td>NaN</td>\n",
       "    </tr>\n",
       "    <tr>\n",
       "      <th>2020-05-31</th>\n",
       "      <td>1.485237</td>\n",
       "      <td>1.478779</td>\n",
       "      <td>1.002025</td>\n",
       "      <td>0.621439</td>\n",
       "    </tr>\n",
       "    <tr>\n",
       "      <th>2020-06-30</th>\n",
       "      <td>0.858702</td>\n",
       "      <td>1.220955</td>\n",
       "      <td>NaN</td>\n",
       "      <td>1.084357</td>\n",
       "    </tr>\n",
       "    <tr>\n",
       "      <th>2020-07-31</th>\n",
       "      <td>NaN</td>\n",
       "      <td>NaN</td>\n",
       "      <td>0.952421</td>\n",
       "      <td>NaN</td>\n",
       "    </tr>\n",
       "    <tr>\n",
       "      <th>2020-08-31</th>\n",
       "      <td>NaN</td>\n",
       "      <td>NaN</td>\n",
       "      <td>NaN</td>\n",
       "      <td>NaN</td>\n",
       "    </tr>\n",
       "    <tr>\n",
       "      <th>2020-09-30</th>\n",
       "      <td>NaN</td>\n",
       "      <td>NaN</td>\n",
       "      <td>0.963049</td>\n",
       "      <td>NaN</td>\n",
       "    </tr>\n",
       "  </tbody>\n",
       "</table>\n",
       "</div>"
      ],
      "text/plain": [
       "                  x1        x2        x3        x4\n",
       "2020-01-31       NaN  0.998672  0.531957       NaN\n",
       "2020-02-29       NaN  1.285082       NaN       NaN\n",
       "2020-03-31  1.125138       NaN       NaN       NaN\n",
       "2020-04-30  1.221225       NaN       NaN       NaN\n",
       "2020-05-31  1.485237  1.478779  1.002025  0.621439\n",
       "2020-06-30  0.858702  1.220955       NaN  1.084357\n",
       "2020-07-31       NaN       NaN  0.952421       NaN\n",
       "2020-08-31       NaN       NaN       NaN       NaN\n",
       "2020-09-30       NaN       NaN  0.963049       NaN"
      ]
     },
     "execution_count": 39,
     "metadata": {},
     "output_type": "execute_result"
    }
   ],
   "source": [
    "np.sqrt(df)"
   ]
  },
  {
   "cell_type": "markdown",
   "metadata": {
    "colab_type": "text",
    "id": "SHIoDQ_t8gjO"
   },
   "source": [
    "We can plot out the graph easily by using the plot method.\n",
    "\n",
    "Pandas provide a wrapper around matplotlib (a library that allows us to plot graph), but specifically designed for DataFrame object."
   ]
  },
  {
   "cell_type": "code",
   "execution_count": 40,
   "metadata": {
    "colab": {
     "base_uri": "https://localhost:8080/",
     "height": 294
    },
    "colab_type": "code",
    "id": "mlyGAcST7Y42",
    "outputId": "802bc1ef-f442-4378-ab1d-0690a6bf3530"
   },
   "outputs": [
    {
     "data": {
      "image/png": "[encoded data removed]",
      "text/plain": [
       "<Figure size 432x288 with 1 Axes>"
      ]
     },
     "metadata": {
      "needs_background": "light"
     },
     "output_type": "display_data"
    }
   ],
   "source": [
    "df.cumsum().plot(lw=2.0)\n",
    "plt.show()"
   ]
  },
  {
   "cell_type": "markdown",
   "metadata": {
    "colab_type": "text",
    "id": "XYYpZFD3Q7be"
   },
   "source": [
    "## More on dates and times <I>(Optional)</I>"
   ]
  },
  {
   "cell_type": "markdown",
   "metadata": {
    "colab_type": "text",
    "id": "CxYzz9o9RRCg"
   },
   "source": [
    "In this section, we will discuss about the difference between Timestamps and Timespans. But first, let us create dates and times."
   ]
  },
  {
   "cell_type": "code",
   "execution_count": 41,
   "metadata": {
    "colab": {
     "base_uri": "https://localhost:8080/",
     "height": 84
    },
    "colab_type": "code",
    "id": "RULAtg6xRDl3",
    "outputId": "3cc27041-377e-4e11-e330-8d1b5024c227"
   },
   "outputs": [
    {
     "data": {
      "text/plain": [
       "DatetimeIndex(['2020-01-01', '2020-01-02', '2020-01-03', '2020-01-04',\n",
       "               '2020-01-05', '2020-01-06', '2020-01-07', '2020-01-08',\n",
       "               '2020-01-09', '2020-01-10'],\n",
       "              dtype='datetime64[ns]', freq='D')"
      ]
     },
     "execution_count": 41,
     "metadata": {},
     "output_type": "execute_result"
    }
   ],
   "source": [
    "# TIMES\n",
    "rng = pd.date_range('2020 Jan 1', periods = 10, freq = 'D');rng"
   ]
  },
  {
   "cell_type": "markdown",
   "metadata": {
    "colab_type": "text",
    "id": "27sZ0K8gR_ze"
   },
   "source": [
    "### Timestamp"
   ]
  },
  {
   "cell_type": "markdown",
   "metadata": {
    "colab_type": "text",
    "id": "WubMTuZihHja"
   },
   "source": [
    "Each DatetimeIndex consists of Time Stamp"
   ]
  },
  {
   "cell_type": "code",
   "execution_count": 42,
   "metadata": {
    "colab": {
     "base_uri": "https://localhost:8080/",
     "height": 33
    },
    "colab_type": "code",
    "id": "TgcBXcqOhGko",
    "outputId": "a5446a6f-3191-402f-9b96-6351bdf4ae58"
   },
   "outputs": [
    {
     "data": {
      "text/plain": [
       "Timestamp('2020-01-31 00:00:00', freq='M')"
      ]
     },
     "execution_count": 42,
     "metadata": {},
     "output_type": "execute_result"
    }
   ],
   "source": [
    "df.index[0]"
   ]
  },
  {
   "cell_type": "markdown",
   "metadata": {
    "colab_type": "text",
    "id": "QlCGjw_AhbBr"
   },
   "source": [
    "We can generate Timestamp by using the following methods."
   ]
  },
  {
   "cell_type": "code",
   "execution_count": 43,
   "metadata": {
    "colab": {
     "base_uri": "https://localhost:8080/",
     "height": 33
    },
    "colab_type": "code",
    "id": "Hb4dyxRZRYLS",
    "outputId": "b7cc351e-d497-45a6-f510-3134a08248c6"
   },
   "outputs": [
    {
     "data": {
      "text/plain": [
       "Timestamp('2020-07-10 00:00:00')"
      ]
     },
     "execution_count": 43,
     "metadata": {},
     "output_type": "execute_result"
    }
   ],
   "source": [
    "pd.Timestamp('2020-07-10')"
   ]
  },
  {
   "cell_type": "code",
   "execution_count": 44,
   "metadata": {
    "colab": {
     "base_uri": "https://localhost:8080/",
     "height": 33
    },
    "colab_type": "code",
    "id": "0Gr4W8V4RwFN",
    "outputId": "56630147-c780-4b42-8c7e-a114eb7ec15e"
   },
   "outputs": [
    {
     "data": {
      "text/plain": [
       "Timestamp('2020-07-10 10:00:00')"
      ]
     },
     "execution_count": 44,
     "metadata": {},
     "output_type": "execute_result"
    }
   ],
   "source": [
    "# We can include more details \n",
    "pd.Timestamp('2020-07-10 10')"
   ]
  },
  {
   "cell_type": "code",
   "execution_count": 45,
   "metadata": {
    "colab": {
     "base_uri": "https://localhost:8080/",
     "height": 33
    },
    "colab_type": "code",
    "id": "4T4jOjWuR3Sc",
    "outputId": "75efac7c-f96f-47e7-c75d-b1728b648c20"
   },
   "outputs": [
    {
     "data": {
      "text/plain": [
       "Timestamp('2020-07-10 10:15:00')"
      ]
     },
     "execution_count": 45,
     "metadata": {},
     "output_type": "execute_result"
    }
   ],
   "source": [
    "# Or even more...\n",
    "pd.Timestamp('2020-07-10 10:15')"
   ]
  },
  {
   "cell_type": "code",
   "execution_count": 46,
   "metadata": {
    "colab": {
     "base_uri": "https://localhost:8080/",
     "height": 33
    },
    "colab_type": "code",
    "id": "4Qzy5URbR-z5",
    "outputId": "95a5a156-ac15-41e7-d15b-bf30a761cdce"
   },
   "outputs": [
    {
     "data": {
      "text/plain": [
       "Timestamp('2020-07-10 10:00:00')"
      ]
     },
     "execution_count": 46,
     "metadata": {},
     "output_type": "execute_result"
    }
   ],
   "source": [
    "# we can create Timestamp via datetime.datetime object\n",
    "pd.Timestamp(2020, 7, 10, 10)"
   ]
  },
  {
   "cell_type": "markdown",
   "metadata": {
    "colab_type": "text",
    "id": "-A6HG24YjphR"
   },
   "source": [
    "With Timestamp we can perform date and time arithmetic with absolute and relative time increments."
   ]
  },
  {
   "cell_type": "code",
   "execution_count": 47,
   "metadata": {
    "colab": {
     "base_uri": "https://localhost:8080/",
     "height": 33
    },
    "colab_type": "code",
    "id": "i6Yr0lyjjzGf",
    "outputId": "b1ec144e-5c21-4c8e-e4f0-45a22f97f856"
   },
   "outputs": [
    {
     "data": {
      "text/plain": [
       "'Friday'"
      ]
     },
     "execution_count": 47,
     "metadata": {},
     "output_type": "execute_result"
    }
   ],
   "source": [
    "#what day is 10th of July 2020?\n",
    "\n",
    "date = pd.Timestamp('2020-07-10')\n",
    "date.day_name()"
   ]
  },
  {
   "cell_type": "markdown",
   "metadata": {
    "colab_type": "text",
    "id": "Fph32OUhkE8X"
   },
   "source": [
    "We can also perform arithmetic operation on the Timestamp object."
   ]
  },
  {
   "cell_type": "code",
   "execution_count": 48,
   "metadata": {
    "colab": {
     "base_uri": "https://localhost:8080/",
     "height": 33
    },
    "colab_type": "code",
    "id": "KVoSoGR0kYhi",
    "outputId": "98f86c1a-91e0-4bab-f899-8a6ca8888d00"
   },
   "outputs": [
    {
     "data": {
      "text/plain": [
       "'Saturday'"
      ]
     },
     "execution_count": 48,
     "metadata": {},
     "output_type": "execute_result"
    }
   ],
   "source": [
    "# add 1 day\n",
    "friday = date\n",
    "saturday = friday + pd.Timedelta('1 day')\n",
    "saturday.day_name()"
   ]
  },
  {
   "cell_type": "code",
   "execution_count": 49,
   "metadata": {
    "colab": {
     "base_uri": "https://localhost:8080/",
     "height": 33
    },
    "colab_type": "code",
    "id": "YIBUBaUdlFlb",
    "outputId": "9f6a3dfa-85cd-4034-ff0c-275ec7350535"
   },
   "outputs": [
    {
     "data": {
      "text/plain": [
       "'Monday'"
      ]
     },
     "execution_count": 49,
     "metadata": {},
     "output_type": "execute_result"
    }
   ],
   "source": [
    "# add 1 business day\n",
    "\n",
    "monday = friday + pd.offsets.BDay()\n",
    "monday.day_name()"
   ]
  },
  {
   "cell_type": "markdown",
   "metadata": {},
   "source": [
    "### Timestamp vs Timespans"
   ]
  },
  {
   "cell_type": "code",
   "execution_count": 50,
   "metadata": {},
   "outputs": [
    {
     "data": {
      "text/plain": [
       "True"
      ]
     },
     "execution_count": 50,
     "metadata": {},
     "output_type": "execute_result"
    }
   ],
   "source": [
    "p = pd.Period('2017-06-13') #timespan\n",
    "test = pd.Timestamp('2017-06-13 22:11') #timestamp\n",
    "p.start_time < test < p.end_time"
   ]
  },
  {
   "cell_type": "markdown",
   "metadata": {
    "colab_type": "text",
    "id": "Dw5uV_FBintd"
   },
   "source": [
    "### Timespans"
   ]
  },
  {
   "cell_type": "markdown",
   "metadata": {
    "colab_type": "text",
    "id": "LmCdYv8knilF"
   },
   "source": [
    "Timestamped data is basic type of time series data that associates values with points in time."
   ]
  },
  {
   "cell_type": "code",
   "execution_count": 51,
   "metadata": {
    "colab": {
     "base_uri": "https://localhost:8080/",
     "height": 33
    },
    "colab_type": "code",
    "id": "05bEXYL1nXuJ",
    "outputId": "de68da33-1537-48ed-9d96-d79d135d02e4"
   },
   "outputs": [
    {
     "data": {
      "text/plain": [
       "Timestamp('2020-07-10 00:00:00')"
      ]
     },
     "execution_count": 51,
     "metadata": {},
     "output_type": "execute_result"
    }
   ],
   "source": [
    "pd.Timestamp('2020-07-10')"
   ]
  },
  {
   "cell_type": "markdown",
   "metadata": {
    "colab_type": "text",
    "id": "UDqi0fp_xaCt"
   },
   "source": [
    "In many cases, it is more natural to associate things like change variables with a time span instead. \n",
    "We can think of time span as a period of time between fixed points.\n",
    "We can represent the span using Period. For example:"
   ]
  },
  {
   "cell_type": "code",
   "execution_count": 52,
   "metadata": {
    "colab": {
     "base_uri": "https://localhost:8080/",
     "height": 33
    },
    "colab_type": "code",
    "id": "R78-dEdfitID",
    "outputId": "de2f2955-cd77-48ac-def3-4fc4ccfa5edf"
   },
   "outputs": [
    {
     "data": {
      "text/plain": [
       "Period('2020-07', 'M')"
      ]
     },
     "execution_count": 52,
     "metadata": {},
     "output_type": "execute_result"
    }
   ],
   "source": [
    "#What are the extra details given by the code?\n",
    "pd.Period('2020-07')"
   ]
  },
  {
   "cell_type": "code",
   "execution_count": 53,
   "metadata": {
    "colab": {
     "base_uri": "https://localhost:8080/",
     "height": 33
    },
    "colab_type": "code",
    "id": "emAIvPw9mxMv",
    "outputId": "755dcc8b-5ecb-442d-e3bd-9f5d771fbc72"
   },
   "outputs": [
    {
     "data": {
      "text/plain": [
       "Period('2020-07-10', 'D')"
      ]
     },
     "execution_count": 53,
     "metadata": {},
     "output_type": "execute_result"
    }
   ],
   "source": [
    "#How details it can go?\n",
    "pd.Period('2020-07-10')"
   ]
  },
  {
   "cell_type": "code",
   "execution_count": 54,
   "metadata": {
    "colab": {
     "base_uri": "https://localhost:8080/",
     "height": 33
    },
    "colab_type": "code",
    "id": "wppQJrnWnIlW",
    "outputId": "0bb55b4e-cc96-48f2-b201-a96978f41cbe"
   },
   "outputs": [
    {
     "data": {
      "text/plain": [
       "Period('2020-07-10 10:00', 'H')"
      ]
     },
     "execution_count": 54,
     "metadata": {},
     "output_type": "execute_result"
    }
   ],
   "source": [
    "pd.Period('2020-07-10 10')"
   ]
  },
  {
   "cell_type": "code",
   "execution_count": 55,
   "metadata": {
    "colab": {
     "base_uri": "https://localhost:8080/",
     "height": 33
    },
    "colab_type": "code",
    "id": "QY1XvgsQnHc8",
    "outputId": "d8b56d29-d046-4807-8bb8-01dbcdec45a0"
   },
   "outputs": [
    {
     "data": {
      "text/plain": [
       "Period('2020-07-10 10:10', 'T')"
      ]
     },
     "execution_count": 55,
     "metadata": {},
     "output_type": "execute_result"
    }
   ],
   "source": [
    "pd.Period('2020-07-10 10:10')"
   ]
  },
  {
   "cell_type": "code",
   "execution_count": 56,
   "metadata": {
    "colab": {
     "base_uri": "https://localhost:8080/",
     "height": 33
    },
    "colab_type": "code",
    "id": "DN6KyAaJm75A",
    "outputId": "301ae366-3bac-4e28-cf93-a20fa91936c1"
   },
   "outputs": [
    {
     "data": {
      "text/plain": [
       "Period('2020-07-10 10:10:10', 'S')"
      ]
     },
     "execution_count": 56,
     "metadata": {},
     "output_type": "execute_result"
    }
   ],
   "source": [
    "pd.Period('2020-07-10 10:10:10')"
   ]
  },
  {
   "cell_type": "markdown",
   "metadata": {
    "colab_type": "text",
    "id": "h9_8tacqxXwS"
   },
   "source": [
    "Arithmetric operations work on Period as well."
   ]
  },
  {
   "cell_type": "code",
   "execution_count": 57,
   "metadata": {
    "colab": {
     "base_uri": "https://localhost:8080/",
     "height": 33
    },
    "colab_type": "code",
    "id": "1_UUrGNEm9st",
    "outputId": "8662170f-0656-4c84-9148-daa23a4c9d23"
   },
   "outputs": [
    {
     "data": {
      "text/plain": [
       "Period('2016-01-03 10:10', 'T')"
      ]
     },
     "execution_count": 57,
     "metadata": {},
     "output_type": "execute_result"
    }
   ],
   "source": [
    "pd.Period('2016-01-01 10:10') + pd.Timedelta('2 day')"
   ]
  },
  {
   "cell_type": "markdown",
   "metadata": {
    "colab_type": "text",
    "id": "sHoNlHng4zXI"
   },
   "source": [
    "Remember how we can create a range of Timestamp using date_range? We can create a range of Periods using period_range"
   ]
  },
  {
   "cell_type": "code",
   "execution_count": 59,
   "metadata": {
    "colab": {
     "base_uri": "https://localhost:8080/",
     "height": 84
    },
    "colab_type": "code",
    "id": "XQ36_Zvb4yvI",
    "outputId": "953eda88-d7c5-4c5b-f7cc-80626930a666"
   },
   "outputs": [
    {
     "data": {
      "text/plain": [
       "PeriodIndex(['2020-07-10', '2020-07-13', '2020-07-14', '2020-07-15',\n",
       "             '2020-07-16', '2020-07-17', '2020-07-20', '2020-07-21',\n",
       "             '2020-07-22', '2020-07-23'],\n",
       "            dtype='period[B]', freq='B')"
      ]
     },
     "execution_count": 59,
     "metadata": {},
     "output_type": "execute_result"
    }
   ],
   "source": [
    "#create a range of periods of 10 business days\n",
    "prng= pd.period_range('2020-07-10 10:10', freq = 'B', periods = 10);prng"
   ]
  },
  {
   "cell_type": "markdown",
   "metadata": {
    "colab_type": "text",
    "id": "67HzCXKt68AS"
   },
   "source": [
    "Indexing with Time Objects"
   ]
  },
  {
   "cell_type": "code",
   "execution_count": 60,
   "metadata": {
    "colab": {
     "base_uri": "https://localhost:8080/",
     "height": 201
    },
    "colab_type": "code",
    "id": "a4f2ChJt6-64",
    "outputId": "f4774ea3-c3fe-4a33-91a7-227bb8b247e7"
   },
   "outputs": [
    {
     "data": {
      "text/plain": [
       "2020-07-01    0\n",
       "2020-07-02    1\n",
       "2020-07-03    2\n",
       "2020-07-04    3\n",
       "2020-07-05    4\n",
       "2020-07-06    5\n",
       "2020-07-07    6\n",
       "2020-07-08    7\n",
       "2020-07-09    8\n",
       "2020-07-10    9\n",
       "Freq: D, dtype: int64"
      ]
     },
     "execution_count": 60,
     "metadata": {},
     "output_type": "execute_result"
    }
   ],
   "source": [
    "#from previous example, we can create a Series with Timestamp such as follows\n",
    "rng = pd.date_range('2020 Jul 1', periods = 10, freq = 'D')\n",
    "rng\n",
    "ts_idx_timestamp = pd.Series(range(len(rng)), index = rng)\n",
    "ts_idx_timestamp"
   ]
  },
  {
   "cell_type": "code",
   "execution_count": 61,
   "metadata": {
    "colab": {
     "base_uri": "https://localhost:8080/",
     "height": 84
    },
    "colab_type": "code",
    "id": "EqxnI18-7bbc",
    "outputId": "782b5a2f-0937-46ec-f4fc-6082f5cd5cc3"
   },
   "outputs": [
    {
     "data": {
      "text/plain": [
       "2020-01   -0.756437\n",
       "2020-02    0.321687\n",
       "2020-03    0.760949\n",
       "Freq: M, dtype: float64"
      ]
     },
     "execution_count": 61,
     "metadata": {},
     "output_type": "execute_result"
    }
   ],
   "source": [
    "# Sometimes, it makes more sense to think about the index as a time span rather than a single point in time\n",
    "\n",
    "periods = [pd.Period('2020-01'), pd.Period('2020-02'), pd.Period('2020-03')]\n",
    "ts_idx_periods = pd.Series(np.random.randn(len(periods)), index = periods)\n",
    "ts_idx_periods"
   ]
  },
  {
   "cell_type": "markdown",
   "metadata": {
    "colab_type": "text",
    "id": "5DiB2DlD8Q2c"
   },
   "source": [
    "Pandas will convert the Timestamp and Period to DatetimeIndex and PeriodIndex repectively."
   ]
  },
  {
   "cell_type": "code",
   "execution_count": 67,
   "metadata": {
    "colab": {
     "base_uri": "https://localhost:8080/",
     "height": 33
    },
    "colab_type": "code",
    "id": "1whWv5SO8P7F",
    "outputId": "35391a4a-c77e-443e-d71b-3a0badb613b4"
   },
   "outputs": [
    {
     "data": {
      "text/plain": [
       "pandas.core.indexes.datetimes.DatetimeIndex"
      ]
     },
     "execution_count": 67,
     "metadata": {},
     "output_type": "execute_result"
    }
   ],
   "source": [
    "type(ts_idx_timestamp.index)"
   ]
  },
  {
   "cell_type": "code",
   "execution_count": 68,
   "metadata": {
    "colab": {
     "base_uri": "https://localhost:8080/",
     "height": 33
    },
    "colab_type": "code",
    "id": "5hvh00sj7bXk",
    "outputId": "56c3d65a-faba-44d8-ef40-05aae913ae35"
   },
   "outputs": [
    {
     "data": {
      "text/plain": [
       "pandas.core.indexes.period.PeriodIndex"
      ]
     },
     "execution_count": 68,
     "metadata": {},
     "output_type": "execute_result"
    }
   ],
   "source": [
    "type(ts_idx_periods.index)"
   ]
  },
  {
   "cell_type": "markdown",
   "metadata": {
    "colab_type": "text",
    "id": "EEFaRCaCAAdU"
   },
   "source": [
    "We can convert Timestamp to Period  indices with to_period and vice versa with to_timestamp"
   ]
  },
  {
   "cell_type": "code",
   "execution_count": 69,
   "metadata": {
    "colab": {
     "base_uri": "https://localhost:8080/",
     "height": 201
    },
    "colab_type": "code",
    "id": "5cqG9T5wAAJK",
    "outputId": "629c7f4d-5f68-406f-8874-62b7011dbce1"
   },
   "outputs": [
    {
     "data": {
      "text/plain": [
       "2020-01-10 08:00:00    0\n",
       "2020-01-10 09:00:00    1\n",
       "2020-01-10 10:00:00    2\n",
       "2020-01-10 11:00:00    3\n",
       "2020-01-10 12:00:00    4\n",
       "2020-01-10 13:00:00    5\n",
       "2020-01-10 14:00:00    6\n",
       "2020-01-10 15:00:00    7\n",
       "2020-01-10 16:00:00    8\n",
       "2020-01-10 17:00:00    9\n",
       "Freq: H, dtype: int64"
      ]
     },
     "execution_count": 69,
     "metadata": {},
     "output_type": "execute_result"
    }
   ],
   "source": [
    "ts = pd.Series(range(10), pd.date_range('2020-01-10 8:00', periods = 10, freq = 'H'))\n",
    "ts"
   ]
  },
  {
   "cell_type": "code",
   "execution_count": 74,
   "metadata": {},
   "outputs": [
    {
     "data": {
      "text/plain": [
       "DatetimeIndex(['2020-01-10 08:00:00', '2020-01-10 09:00:00',\n",
       "               '2020-01-10 10:00:00', '2020-01-10 11:00:00',\n",
       "               '2020-01-10 12:00:00', '2020-01-10 13:00:00',\n",
       "               '2020-01-10 14:00:00', '2020-01-10 15:00:00',\n",
       "               '2020-01-10 16:00:00', '2020-01-10 17:00:00'],\n",
       "              dtype='datetime64[ns]', freq='H')"
      ]
     },
     "execution_count": 74,
     "metadata": {},
     "output_type": "execute_result"
    }
   ],
   "source": [
    "ts.index"
   ]
  },
  {
   "cell_type": "code",
   "execution_count": 71,
   "metadata": {
    "colab": {
     "base_uri": "https://localhost:8080/",
     "height": 201
    },
    "colab_type": "code",
    "id": "zAK4G54WAkND",
    "outputId": "543fe161-fd39-482a-8dba-d9bbdd39e85e"
   },
   "outputs": [
    {
     "data": {
      "text/plain": [
       "2020-01-10 08:00    0\n",
       "2020-01-10 09:00    1\n",
       "2020-01-10 10:00    2\n",
       "2020-01-10 11:00    3\n",
       "2020-01-10 12:00    4\n",
       "2020-01-10 13:00    5\n",
       "2020-01-10 14:00    6\n",
       "2020-01-10 15:00    7\n",
       "2020-01-10 16:00    8\n",
       "2020-01-10 17:00    9\n",
       "Freq: H, dtype: int64"
      ]
     },
     "execution_count": 71,
     "metadata": {},
     "output_type": "execute_result"
    }
   ],
   "source": [
    "ts_period = ts.to_period()\n",
    "ts_period"
   ]
  },
  {
   "cell_type": "code",
   "execution_count": 75,
   "metadata": {},
   "outputs": [
    {
     "data": {
      "text/plain": [
       "PeriodIndex(['2020-01-10 08:00', '2020-01-10 09:00', '2020-01-10 10:00',\n",
       "             '2020-01-10 11:00', '2020-01-10 12:00', '2020-01-10 13:00',\n",
       "             '2020-01-10 14:00', '2020-01-10 15:00', '2020-01-10 16:00',\n",
       "             '2020-01-10 17:00'],\n",
       "            dtype='period[H]', freq='H')"
      ]
     },
     "execution_count": 75,
     "metadata": {},
     "output_type": "execute_result"
    }
   ],
   "source": [
    "ts_period.index"
   ]
  },
  {
   "cell_type": "code",
   "execution_count": 72,
   "metadata": {
    "colab": {
     "base_uri": "https://localhost:8080/",
     "height": 100
    },
    "colab_type": "code",
    "id": "viYpntBdAn-J",
    "outputId": "6dccf1d6-2c7d-4c97-abbe-2eb125bf56d9"
   },
   "outputs": [
    {
     "data": {
      "text/plain": [
       "2020-01-10 08:00    0\n",
       "2020-01-10 09:00    1\n",
       "2020-01-10 10:00    2\n",
       "2020-01-10 11:00    3\n",
       "Freq: H, dtype: int64"
      ]
     },
     "execution_count": 72,
     "metadata": {},
     "output_type": "execute_result"
    }
   ],
   "source": [
    "ts_period['2020-01-10 08:30':'2020-01-10 11:45'] # we have the concept of overlap with time periods"
   ]
  },
  {
   "cell_type": "code",
   "execution_count": 73,
   "metadata": {
    "colab": {
     "base_uri": "https://localhost:8080/",
     "height": 84
    },
    "colab_type": "code",
    "id": "IyE9qWVDA2xa",
    "outputId": "64c312b8-e9ca-4d1a-dba7-7551cbdf4909"
   },
   "outputs": [
    {
     "data": {
      "text/plain": [
       "2020-01-10 09:00:00    1\n",
       "2020-01-10 10:00:00    2\n",
       "2020-01-10 11:00:00    3\n",
       "Freq: H, dtype: int64"
      ]
     },
     "execution_count": 73,
     "metadata": {},
     "output_type": "execute_result"
    }
   ],
   "source": [
    "ts['2020-01-10 08:30':'2020-01-10 11:45'] # we have the concept of include with timestamps"
   ]
  },
  {
   "cell_type": "markdown",
   "metadata": {},
   "source": [
    "## Exercise"
   ]
  },
  {
   "cell_type": "markdown",
   "metadata": {},
   "source": [
    "We will run through a simple exercise of utilizing Pandas for time series data analysis. "
   ]
  },
  {
   "cell_type": "markdown",
   "metadata": {},
   "source": [
    "Tasks that you are required to perform are list down as comment. Please insert your codes below the comment. An approximation of number of lines *n* is provided as a guideline to help you."
   ]
  },
  {
   "cell_type": "markdown",
   "metadata": {},
   "source": [
    "### a) DataFrame Class Pt. 1"
   ]
  },
  {
   "cell_type": "code",
   "execution_count": 1,
   "metadata": {},
   "outputs": [
    {
     "name": "stdout",
     "output_type": "stream",
     "text": [
      "\n",
      "DataFrame info is : None\n",
      "\n",
      "DataFrame column names are : None\n",
      "\n",
      "DataFrame index is : None\n"
     ]
    }
   ],
   "source": [
    "# import Pandas library (~1 line of code)\n",
    "\n",
    "\n",
    "# Preparing own data\n",
    "# create new DataFrame with specified data (~1 line of code)\n",
    "dataframe = None\n",
    "\n",
    "# sum up all the observations in 'Data' column (~1 line of code)\n",
    "sum_of_data = None\n",
    "\n",
    "# add a new integer column \"Multiplier\" filled with values 2,4,6,8 (~1 line of code)\n",
    "\n",
    "\n",
    "# add a new integer column \"Product\" filled with products of 'Data' and 'Multiplier'  (~1 line of code)\n",
    "\n",
    "\n",
    "# add a new string column \"Fruit\" filled with your favourite fruits (~1 line of code)\n",
    "\n",
    "\n",
    "# sum up all the observations in first row except for 'Fruit' column (~1 line of code)\n",
    "sum_of_first_row = None\n",
    "\n",
    "# drop the 'Fruit' column (~1 line of code)\n",
    "\n",
    "\n",
    "# append a new row of data using Pandas Series or Pandas DataFrame (~1 line of code)\n",
    "# dataframe = dataframe.append(pd.Series({'Data':5, 'Multiplier':10, 'Product':5*10}, name='e'))\n",
    "\n",
    "\n",
    "# Add a new float column 'Quotient' by using lambda function to devide 'Product' by 2 (~1 lines of code)\n",
    "\n",
    "\n",
    "# display info of DataFrame (~1 lines of code)\n",
    "info = None\n",
    "print(f'\\nDataFrame info is : {info}')\n",
    "\n",
    "# display column names of DataFrame (~1 lines of code)\n",
    "columns = None\n",
    "print(f'\\nDataFrame column names are : {columns}')\n",
    "\n",
    "# display index of Dataframe (~1 lines of code)\n",
    "index = None\n",
    "print(f'\\nDataFrame index is : {index}')"
   ]
  },
  {
   "cell_type": "code",
   "execution_count": 2,
   "metadata": {},
   "outputs": [],
   "source": [
    "# output your result here\n",
    "dataframe"
   ]
  },
  {
   "cell_type": "markdown",
   "metadata": {},
   "source": [
    "### b) DataFrame Class Pt. 2"
   ]
  },
  {
   "cell_type": "code",
   "execution_count": 3,
   "metadata": {},
   "outputs": [
    {
     "name": "stdout",
     "output_type": "stream",
     "text": [
      "\n",
      "\n",
      "Data structure is : None\n",
      "\n",
      "\n",
      "Data structure is : None\n",
      "\n",
      "\n",
      "Five years data is : \n",
      "None\n",
      "\n",
      "\n",
      "Five years data is : \n",
      "None\n",
      "\n",
      "\n",
      "Summation is:\n",
      "None \n",
      "\n",
      "Mean is:\n",
      "None \n",
      "\n",
      "Cumulative sum is:\n",
      "None \n",
      "\n",
      "Descriptive statistics is: \n",
      "None\n"
     ]
    }
   ],
   "source": [
    "# import NumPy and Pandas (~2 lines of code)\n",
    "\n",
    "\n",
    "\n",
    "# set random seed 42 for NumPy (~1 lines of code)\n",
    "\n",
    "\n",
    "# generate a normally distrubted random data of 10 rows and 2 columns (~1 lines of code)\n",
    "random_data = None\n",
    "\n",
    "# round them up to just 2 decimal point (~1 lines of code)\n",
    "\n",
    "\n",
    "# display the type of data structure (~1 lines of code)\n",
    "data_struct = None\n",
    "print(f'\\n\\nData structure is : {data_struct}')\n",
    "\n",
    "# convert data structure from numpy ndarray to Pandas DataFrame (~1 lines of code)\n",
    "\n",
    "\n",
    "# display the type of data structure (~1 lines of code)\n",
    "data_struct = None\n",
    "print(f'\\n\\nData structure is : {data_struct}')\n",
    "\n",
    "# rename the columns of DataFrame (~1 line of code) to your desired names\n",
    "\n",
    "\n",
    "# Generate a DateTimeIndex object with yearly frequency, starting from 2020 January\n",
    "# and number of periods matching total rows of our DataFrame (~1 line of code)\n",
    "date_time_index = None\n",
    "\n",
    "# Reset the DataFrame index into our date_time_index (~1 line of code)\n",
    "\n",
    "\n",
    "# Just using loc slicing to retrieve 5 years data starting from 2020 (~1 line of code)\n",
    "five_years_data = None\n",
    "print(f'\\n\\nFive years data is : \\n{five_years_data}')\n",
    "\n",
    "# likewise, iloc slicing to retrieve 5 years data starting from 2020 (~1 line of code)\n",
    "five_years_data = None\n",
    "print(f'\\n\\nFive years data is : \\n{five_years_data}')\n",
    "\n",
    "# for the following, just use the five years data to perform basic analytics\n",
    "# summation of each columns (~1 line of code)\n",
    "summations = None\n",
    "\n",
    "# mean of each columns  (~1 line of code)\n",
    "means = None\n",
    "\n",
    "# cummulative sum of each columns (~1 line of code)\n",
    "cumsums = None\n",
    "\n",
    "# generate descriptive statistics for each column  (~1 line of code)\n",
    "descriptive_stats = None\n",
    "\n",
    "print(f\"\\n\\nSummation is:\\n{summations} \\n\\nMean is:\\n{means} \\n\\nCumulative sum is:\\n{cumsums} \\n\\nDescriptive statistics is: \\n{descriptive_stats}\")"
   ]
  },
  {
   "cell_type": "code",
   "execution_count": 4,
   "metadata": {},
   "outputs": [],
   "source": [
    "# you can display your object here\n",
    "random_data"
   ]
  },
  {
   "cell_type": "markdown",
   "metadata": {
    "colab_type": "text",
    "id": "4n5GtBHpBUkw"
   },
   "source": [
    "## References\n",
    "\n",
    "1. Python for Finance (2014), Yves Hilpisch\n",
    "2. https://github.com/AileenNielsen/TimeSeriesAnalysisWithPython/blob/master/1.%20Dates%20%26%20Times.ipynb"
   ]
  }
 ],
 "metadata": {
  "celltoolbar": "Edit Metadata",
  "colab": {
   "name": "01 - Pandas for time series.ipynb",
   "provenance": []
  },
  "kernelspec": {
   "display_name": "Python 3",
   "language": "python",
   "name": "python3"
  },
  "language_info": {
   "codemirror_mode": {
    "name": "ipython",
    "version": 3
   },
   "file_extension": ".py",
   "mimetype": "text/x-python",
   "name": "python",
   "nbconvert_exporter": "python",
   "pygments_lexer": "ipython3",
   "version": "3.8.5"
  }
 },
 "nbformat": 4,
 "nbformat_minor": 4
}
