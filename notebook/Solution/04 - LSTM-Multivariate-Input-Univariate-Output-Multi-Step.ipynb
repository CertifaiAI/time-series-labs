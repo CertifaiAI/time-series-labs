{
 "cells": [
  {
   "cell_type": "markdown",
   "metadata": {
    "editable": false
   },
   "source": [
    "> **Copyright &copy; 2020 CertifAI Sdn. Bhd.**<br>\n",
    " **Copyright &copy; 2021 CertifAI Sdn. Bhd.**<br>\n",
    " <br>\n",
    "This program and the accompanying materials are made available under the\n",
    "terms of the [Apache License, Version 2.0](https://www.apache.org/licenses/LICENSE-2.0). \\\n",
    "Unless required by applicable law or agreed to in writing, software\n",
    "distributed under the License is distributed on an \"AS IS\" BASIS, WITHOUT\n",
    "WARRANTIES OR CONDITIONS OF ANY KIND, either express or implied. See the\n",
    "License for the specific language governing permissions and limitations\n",
    "under the License. <br>\n",
    "<br>**SPDX-License-Identifier: Apache-2.0**"
   ]
  },
  {
   "cell_type": "markdown",
   "metadata": {},
   "source": [
    "## Multivariate Input ,Univariate Output LSTM ,Multi Step\n",
    "\n",
    "This tutorial is to demonstrate the process in build LSTM for the **Multivariate Input Input ,Univariate Output LSTM ,Multi Step** .It consists of 2 major part which are :\n",
    "\n",
    "Part 1 - The Demostration of Building LSTM using Synthetic data<br>\n",
    "Part 2 - Exercise of building LSTM using COVID-19 Data.<br>\n",
    "\n",
    "\n",
    "## What will we accomplish?\n",
    "First, we will show the step in building the LSTM :\n",
    "\n",
    "Step 1. Data Preparation (Data Splitting, Data Sequencing, Data Standardization and Batching the Data)<br>\n",
    "Step 2. Model Configuration (Vanila LSTM , Stacked LSTM , Bidirectional LSTM)<br>\n",
    "Step 3. Train the model<br>\n",
    "Step 4. Validate the model using a graph<br>\n",
    "Step 5. Evaluation Metrics such as MSE<br>\n",
    "Step 6. Plot the forecast result<br>\n",
    "\n",
    "\n",
    "First , let's us import the package needed"
   ]
  },
  {
   "cell_type": "code",
   "execution_count": 1,
   "metadata": {},
   "outputs": [],
   "source": [
    "%%capture\n",
    "# pip install this package to view the summary of LSTM due to original torchsummary does have the function to view the LSTM\n",
    "# used jupyter install due to it does not have conda version\n",
    "# %%capture suppress information of torchsummaryX installation\n",
    "!pip install torchsummaryX"
   ]
  },
  {
   "cell_type": "code",
   "execution_count": 2,
   "metadata": {},
   "outputs": [],
   "source": [
    "# import libary need\n",
    "import numpy as np\n",
    "import pandas as pd\n",
    "import matplotlib.pyplot as plt\n",
    "import torch\n",
    "import torch.nn as nn\n",
    "from torch.utils.data import DataLoader,TensorDataset\n",
    "from sklearn.metrics import mean_squared_error\n",
    "from sklearn.preprocessing import MinMaxScaler, StandardScaler\n",
    "import math\n",
    "from torchsummaryX import summary\n",
    "\n",
    "# To auto load the customise module\n",
    "%load_ext autoreload\n",
    "%autoreload 2\n",
    "import deep_learning_module\n",
    "import data_module"
   ]
  },
  {
   "cell_type": "markdown",
   "metadata": {},
   "source": [
    "## Hyperparameter\n",
    "Define the hyper parameter that need to tune the model"
   ]
  },
  {
   "cell_type": "code",
   "execution_count": 3,
   "metadata": {},
   "outputs": [],
   "source": [
    "split_ratio = 0.70\n",
    "num_epochs = 300\n",
    "window_size = 4\n",
    "n_step = 2\n",
    "learning_rate = 0.01\n",
    "#seed\n",
    "torch.manual_seed(123)\n",
    "batch_size = 1"
   ]
  },
  {
   "cell_type": "markdown",
   "metadata": {},
   "source": [
    "# Step 1 : Data Preparation\n",
    "We create synthetic data to make sure the model is created correctly and having the ability to perform the forecasting. <br>\n",
    "\n",
    "1. First, we will create a sequence of data with `np.array`.\n",
    "2. Then, we will assign a date to the sequence of data with `pd.date_range` and store it to series data by using `pd.Series`."
   ]
  },
  {
   "cell_type": "code",
   "execution_count": 4,
   "metadata": {},
   "outputs": [],
   "source": [
    "#Synthetic Data\n",
    "in_seq1 = np.array([x for x in range(0, 300, 10)])\n",
    "in_seq2 = np.array([x for x in range(5, 305, 10)])\n",
    "out_seq = np.array([in_seq1[i] + in_seq2[i] for i in range(len(in_seq1))])\n",
    "\n",
    "\n",
    "# convert to [rows, columns] structure\n",
    "in_seq1 = in_seq1.reshape((len(in_seq1), 1))\n",
    "in_seq2 = in_seq2.reshape((len(in_seq2), 1))\n",
    "out_seq = out_seq.reshape((len(out_seq), 1))\n",
    "\n",
    "# horizontally stack columns\n",
    "dataset = np.hstack((in_seq1, in_seq2, out_seq))"
   ]
  },
  {
   "cell_type": "code",
   "execution_count": 5,
   "metadata": {},
   "outputs": [
    {
     "data": {
      "text/html": [
       "<div>\n",
       "<style scoped>\n",
       "    .dataframe tbody tr th:only-of-type {\n",
       "        vertical-align: middle;\n",
       "    }\n",
       "\n",
       "    .dataframe tbody tr th {\n",
       "        vertical-align: top;\n",
       "    }\n",
       "\n",
       "    .dataframe thead th {\n",
       "        text-align: right;\n",
       "    }\n",
       "</style>\n",
       "<table border=\"1\" class=\"dataframe\">\n",
       "  <thead>\n",
       "    <tr style=\"text-align: right;\">\n",
       "      <th></th>\n",
       "      <th>in_seq1</th>\n",
       "      <th>in_seq2</th>\n",
       "      <th>out_seq</th>\n",
       "    </tr>\n",
       "    <tr>\n",
       "      <th>Date</th>\n",
       "      <th></th>\n",
       "      <th></th>\n",
       "      <th></th>\n",
       "    </tr>\n",
       "  </thead>\n",
       "  <tbody>\n",
       "    <tr>\n",
       "      <th>2020-01-01</th>\n",
       "      <td>0</td>\n",
       "      <td>5</td>\n",
       "      <td>5</td>\n",
       "    </tr>\n",
       "    <tr>\n",
       "      <th>2020-01-02</th>\n",
       "      <td>10</td>\n",
       "      <td>15</td>\n",
       "      <td>25</td>\n",
       "    </tr>\n",
       "    <tr>\n",
       "      <th>2020-01-03</th>\n",
       "      <td>20</td>\n",
       "      <td>25</td>\n",
       "      <td>45</td>\n",
       "    </tr>\n",
       "    <tr>\n",
       "      <th>2020-01-04</th>\n",
       "      <td>30</td>\n",
       "      <td>35</td>\n",
       "      <td>65</td>\n",
       "    </tr>\n",
       "    <tr>\n",
       "      <th>2020-01-05</th>\n",
       "      <td>40</td>\n",
       "      <td>45</td>\n",
       "      <td>85</td>\n",
       "    </tr>\n",
       "  </tbody>\n",
       "</table>\n",
       "</div>"
      ],
      "text/plain": [
       "            in_seq1  in_seq2  out_seq\n",
       "Date                                 \n",
       "2020-01-01        0        5        5\n",
       "2020-01-02       10       15       25\n",
       "2020-01-03       20       25       45\n",
       "2020-01-04       30       35       65\n",
       "2020-01-05       40       45       85"
      ]
     },
     "execution_count": 5,
     "metadata": {},
     "output_type": "execute_result"
    }
   ],
   "source": [
    "dataset = pd.DataFrame(dataset,columns =[\"in_seq1\",\"in_seq2\",\"out_seq\"],\n",
    "                      index = pd.date_range(\"1/1/2020\",periods=len(dataset),freq='D'))\n",
    "dataset.index.name=\"Date\"\n",
    "dataset.head()"
   ]
  },
  {
   "cell_type": "markdown",
   "metadata": {},
   "source": [
    "## Data Visualization\n",
    "Data visualization is import for us to visualize the pattern of data such as trend and seasonality. As the graph below, it is shown that there is an increasing trend in data."
   ]
  },
  {
   "cell_type": "code",
   "execution_count": 6,
   "metadata": {},
   "outputs": [
    {
     "data": {
      "text/plain": [
       "Text(0.5, 1.0, 'Synthetic Data')"
      ]
     },
     "execution_count": 6,
     "metadata": {},
     "output_type": "execute_result"
    },
    {
     "data": {
      "image/png": "[encoded data removed]",
      "text/plain": [
       "<Figure size 432x288 with 1 Axes>"
      ]
     },
     "metadata": {
      "needs_background": "light"
     },
     "output_type": "display_data"
    }
   ],
   "source": [
    "dataset.plot()\n",
    "plt.title(\"Synthetic Data\")"
   ]
  },
  {
   "cell_type": "markdown",
   "metadata": {},
   "source": [
    "## Data Splitting\n",
    "In Deep Learning, we will split the data into training and test dataset. The training data is used to train the model where the test data is used to validate the performance of the model."
   ]
  },
  {
   "cell_type": "code",
   "execution_count": 7,
   "metadata": {},
   "outputs": [
    {
     "data": {
      "text/plain": [
       "21"
      ]
     },
     "execution_count": 7,
     "metadata": {},
     "output_type": "execute_result"
    }
   ],
   "source": [
    "# Calculate the split ratio \n",
    "split_data = round(len(dataset)*split_ratio)\n",
    "split_data"
   ]
  },
  {
   "cell_type": "code",
   "execution_count": 8,
   "metadata": {},
   "outputs": [
    {
     "name": "stdout",
     "output_type": "stream",
     "text": [
      "train_data_shape\n",
      "(21, 3)\n",
      "test_data_shape\n",
      "(9, 3)\n"
     ]
    }
   ],
   "source": [
    "# Split data by indexing \n",
    "train_data = dataset[:split_data]\n",
    "test_data = dataset[split_data:]\n",
    "train_time = dataset.index[:split_data]\n",
    "test_time = dataset.index[split_data:]\n",
    "print(\"train_data_shape\")\n",
    "print(train_data.shape)\n",
    "print(\"test_data_shape\")\n",
    "print(test_data.shape)"
   ]
  },
  {
   "cell_type": "markdown",
   "metadata": {},
   "source": [
    "## Data Standardization\n",
    "Standardize the data to have a 0 mean and unit variance to make our model converge faster."
   ]
  },
  {
   "cell_type": "code",
   "execution_count": 9,
   "metadata": {},
   "outputs": [],
   "source": [
    "scaler = StandardScaler().fit(train_data.values.reshape(-1,1))\n",
    "train_data_standard = scaler.transform(train_data.values.reshape(-1, 1))\n",
    "test_data_standard = scaler.transform(test_data.values.reshape(-1, 1))"
   ]
  },
  {
   "cell_type": "code",
   "execution_count": 10,
   "metadata": {},
   "outputs": [
    {
     "name": "stdout",
     "output_type": "stream",
     "text": [
      "train_data_standardized(21, 3)\n",
      "test_data_standardized(9, 3)\n"
     ]
    }
   ],
   "source": [
    "# Transform after scaling\n",
    "train_data_standard = train_data_standard.reshape(train_data.shape[0],train_data.shape[1])\n",
    "print(\"train_data_standardized\"+str(train_data_standard.shape))\n",
    "\n",
    "test_data_standard = test_data_standard.reshape(test_data.shape[0],test_data.shape[1])\n",
    "print(\"test_data_standardized\"+str(test_data_standard.shape))"
   ]
  },
  {
   "cell_type": "markdown",
   "metadata": {},
   "source": [
    "## Data Sequencing\n",
    "Sequencing the data by taking in the multivariate series into x-feature and y-label\n",
    "<img src = \"../../picture/multivariate univariate.png\"  width=\"300\" height  =\"300\" align=\"center\" />"
   ]
  },
  {
   "cell_type": "code",
   "execution_count": 11,
   "metadata": {},
   "outputs": [
    {
     "name": "stdout",
     "output_type": "stream",
     "text": [
      "trainX shape:(17, 4, 2) trainY shape:(17, 2)\n",
      "\n",
      "testX shape:(5, 4, 2) testY shape:(5, 2)\n"
     ]
    }
   ],
   "source": [
    "trainX ,trainY = data_module.multivariate_univariate_multi_step(train_data_standard,window_size,n_step)\n",
    "testX , testY = data_module.multivariate_univariate_multi_step(test_data_standard,window_size,n_step)\n",
    "\n",
    "\n",
    "print(f\"trainX shape:{trainX.shape} trainY shape:{trainY.shape}\\n\")\n",
    "print(f\"testX shape:{testX.shape} testY shape:{testY.shape}\")"
   ]
  },
  {
   "cell_type": "code",
   "execution_count": 12,
   "metadata": {},
   "outputs": [
    {
     "name": "stdout",
     "output_type": "stream",
     "text": [
      "trainY shape:(17, 2, 1)\n",
      "testY shape:(5, 2, 1)\n"
     ]
    }
   ],
   "source": [
    "trainY = trainY.reshape(trainY.shape[0],n_step,1)\n",
    "testY = testY.reshape(testY.shape[0],n_step,1)\n",
    "print(f\"trainY shape:{trainY.shape}\")\n",
    "print(f\"testY shape:{testY.shape}\")"
   ]
  },
  {
   "cell_type": "markdown",
   "metadata": {},
   "source": [
    "## Data Transform\n",
    "Data need to transform from NumPy to PyTorch tensor before feeding into the model and perform 3D Data Transformation for LSTM model.\n",
    "\n",
    ">**Instruction** : <br>\n",
    "Use `data_module.key_assign` to assign the key and `data_module.transform` to transform the data."
   ]
  },
  {
   "cell_type": "code",
   "execution_count": 13,
   "metadata": {},
   "outputs": [],
   "source": [
    "train_data_dict ,test_data_dict = data_module.key_assign(trainingX = trainX  , \n",
    "                       testingX = testX, \n",
    "                       trainingY = trainY, \n",
    "                       testingY = testY)\n",
    "train_data_dict ,test_data_dict = data_module.transform(train_data_dict ,test_data_dict)"
   ]
  },
  {
   "cell_type": "code",
   "execution_count": 14,
   "metadata": {},
   "outputs": [
    {
     "name": "stdout",
     "output_type": "stream",
     "text": [
      "train_data_x_feature shape : torch.Size([17, 4, 2])\n",
      "train_data_y_label shape : torch.Size([17, 2, 1])\n",
      "test_data_x_feature shape : torch.Size([5, 4, 2])\n",
      "test_data_y_label shape : torch.Size([5, 2, 1])\n"
     ]
    }
   ],
   "source": [
    "data_module.sanity_check(train_data_dict , test_data_dict)"
   ]
  },
  {
   "cell_type": "markdown",
   "metadata": {},
   "source": [
    "## Data Iterator\n",
    "Iterator is created to allow the data separate into several batches to fasten the training process\n",
    ">**Instruction** : <br>\n",
    "Use `data_module.iterator` to create data iterator."
   ]
  },
  {
   "cell_type": "code",
   "execution_count": 15,
   "metadata": {},
   "outputs": [],
   "source": [
    "train_iter , test_iter = data_module.iterator(train_data_dict ,test_data_dict,batch_size = batch_size)"
   ]
  },
  {
   "cell_type": "markdown",
   "metadata": {},
   "source": [
    "## Input Model\n",
    "The model is input by feed in the require attributes such as number of input layer, output layer and hidden layer.\n",
    "\n",
    "How to Use :\n",
    "\n",
    "Select one of the model base on the application as below and comment others model<br>\n",
    "IF use Vanila LSTM , set num_layer = 1 and use the model = LSTM()<br>\n",
    "IF use stacked LSTM , set num_layer more than 1 and use the model = LSTM()<br>\n",
    "IF use Bidirectional LSTM, use the model = BidirectionalLSTM()"
   ]
  },
  {
   "cell_type": "code",
   "execution_count": 16,
   "metadata": {},
   "outputs": [],
   "source": [
    "# Arguments for LSTM model\n",
    "hidden_dim = 32\n",
    "number_of_time_series = trainX.shape[2] \n",
    "\n",
    "# num_layers : 1 for vanila LSTM , >1 is mean stacked LSTM\n",
    "num_layers = 1\n",
    " \n",
    "\n",
    "#Vanila , Stacked LSTM\n",
    "model = deep_learning_module.LSTM(n_feature = number_of_time_series, \n",
    "                                  hidden_dim = hidden_dim ,\n",
    "                                  num_layers = num_layers , \n",
    "                                  n_step = n_step )\n",
    "\n",
    "#Bidirectional LSTM\n",
    "# model = deep_learning_module.BidirectionalLSTM(n_feature = number_of_time_series, \n",
    "#                                                hidden_dim = hidden_dim ,\n",
    "#                                                num_layers = num_layers , \n",
    "#                                                n_step = n_step)"
   ]
  },
  {
   "cell_type": "markdown",
   "metadata": {},
   "source": [
    "Define the MSE as loss function and using Adam as the model optimizer"
   ]
  },
  {
   "cell_type": "code",
   "execution_count": 17,
   "metadata": {},
   "outputs": [],
   "source": [
    "# Use MSE as loss function \n",
    "loss_fn = torch.nn.MSELoss()\n",
    "\n",
    "# Optimiser\n",
    "optimizer = torch.optim.Adam(model.parameters(), lr=learning_rate)"
   ]
  },
  {
   "cell_type": "code",
   "execution_count": 18,
   "metadata": {},
   "outputs": [
    {
     "name": "stdout",
     "output_type": "stream",
     "text": [
      "===================================================\n",
      "       Kernel Shape Output Shape  Params  Mult-Adds\n",
      "Layer                                              \n",
      "0_lstm            -   [1, 4, 32]    4608       4352\n",
      "1_fc        [32, 2]       [1, 2]      66         64\n",
      "---------------------------------------------------\n",
      "                      Totals\n",
      "Total params            4674\n",
      "Trainable params        4674\n",
      "Non-trainable params       0\n",
      "Mult-Adds               4416\n",
      "===================================================\n",
      "       Kernel Shape Output Shape  Params  Mult-Adds\n",
      "Layer                                              \n",
      "0_lstm            -   [1, 4, 32]    4608       4352\n",
      "1_fc        [32, 2]       [1, 2]      66         64\n"
     ]
    },
    {
     "data": {
      "text/plain": [
       "1"
      ]
     },
     "execution_count": 18,
     "metadata": {},
     "output_type": "execute_result"
    }
   ],
   "source": [
    "# print the summary of the LSTM model\n",
    "inputs = torch.zeros((batch_size,window_size,trainX.shape[2]),dtype=torch.float) # batch size , seq_length , input_dim\n",
    "print(summary(model,inputs))\n",
    "batch_size"
   ]
  },
  {
   "cell_type": "markdown",
   "metadata": {},
   "source": [
    "# Step 3 : Training\n",
    ">**Instruction** : <br>\n",
    "Use `deep_learning_module.training` to train the model."
   ]
  },
  {
   "cell_type": "code",
   "execution_count": 19,
   "metadata": {},
   "outputs": [],
   "source": [
    "#seed\n",
    "torch.manual_seed(123)\n",
    "\n",
    "# Start Training\n",
    "train_loss,val_loss = deep_learning_module.training(num_epochs= num_epochs ,\n",
    "                                                    train_iter = train_iter,\n",
    "                                                    test_iter = test_iter ,\n",
    "                                                    optimizer = optimizer,\n",
    "                                                    loss_fn = loss_fn,\n",
    "                                                    model = model)"
   ]
  },
  {
   "cell_type": "markdown",
   "metadata": {},
   "source": [
    "# Step 4 : Validation\n",
    "A train loss and val loss is plotted to define how well the data is fitting the model"
   ]
  },
  {
   "cell_type": "code",
   "execution_count": 20,
   "metadata": {},
   "outputs": [
    {
     "data": {
      "image/png": "[encoded data removed]",
      "text/plain": [
       "<Figure size 720x432 with 1 Axes>"
      ]
     },
     "metadata": {
      "needs_background": "light"
     },
     "output_type": "display_data"
    },
    {
     "name": "stdout",
     "output_type": "stream",
     "text": [
      "Epoch : 0 , training loss : 1.710651568191893 , validation loss : 12.592301750183106\n",
      "Epoch : 1 , training loss : 0.6921899544951671 , validation loss : 1.085800051689148\n",
      "Epoch : 2 , training loss : 0.3522811637205236 , validation loss : 0.4167586535215378\n",
      "Epoch : 3 , training loss : 1.838845300652525 , validation loss : 8.966669845581055\n",
      "Epoch : 4 , training loss : 1.122700377696139 , validation loss : 7.662239456176758\n",
      "Epoch : 5 , training loss : 0.45844247624935475 , validation loss : 1.6957819223403932\n",
      "Epoch : 6 , training loss : 0.30921038141583695 , validation loss : 0.2848151192069054\n",
      "Epoch : 7 , training loss : 0.39303928120609594 , validation loss : 1.6573338985443116\n",
      "Epoch : 8 , training loss : 0.10201018911731594 , validation loss : 0.4561119019985199\n",
      "Epoch : 9 , training loss : 0.07298590452410281 , validation loss : 1.198134756088257\n",
      "Epoch : 10 , training loss : 0.04737884172765702 , validation loss : 0.9129003286361694\n",
      "Epoch : 11 , training loss : 0.03014170052654877 , validation loss : 0.9933131337165833\n",
      "Epoch : 12 , training loss : 0.03131727451759884 , validation loss : 0.7315210700035095\n",
      "Epoch : 13 , training loss : 0.029665751077974326 , validation loss : 0.597785884141922\n",
      "Epoch : 14 , training loss : 0.06015170102610307 , validation loss : 0.42269599437713623\n",
      "Epoch : 15 , training loss : 0.053615434341790044 , validation loss : 0.497341513633728\n",
      "Epoch : 16 , training loss : 0.059305702702498395 , validation loss : 0.42081594467163086\n",
      "Epoch : 17 , training loss : 0.06654883469181026 , validation loss : 0.49264822602272035\n",
      "Epoch : 18 , training loss : 0.06725715924232431 , validation loss : 0.4078750550746918\n",
      "Epoch : 19 , training loss : 0.13675587935893632 , validation loss : 0.6512600600719451\n",
      "Epoch : 20 , training loss : 0.10439412002725636 , validation loss : 0.3155961841344833\n",
      "Epoch : 21 , training loss : 0.21515184147146477 , validation loss : 1.3567165374755858\n",
      "Epoch : 22 , training loss : 0.06391684457604938 , validation loss : 0.2985404133796692\n",
      "Epoch : 23 , training loss : 0.04981837917961564 , validation loss : 0.800684654712677\n",
      "Epoch : 24 , training loss : 0.03744839412598487 , validation loss : 0.3050245702266693\n",
      "Epoch : 25 , training loss : 0.03388284568020882 , validation loss : 0.4945262372493744\n",
      "Epoch : 26 , training loss : 0.04805578606422333 , validation loss : 0.21080003008246423\n",
      "Epoch : 27 , training loss : 0.03143626218447667 , validation loss : 0.4655255973339081\n",
      "Epoch : 28 , training loss : 0.027821607932256645 , validation loss : 0.23845077455043792\n",
      "Epoch : 29 , training loss : 0.02686898596755996 , validation loss : 0.4290040135383606\n",
      "Epoch : 30 , training loss : 0.03569243364857838 , validation loss : 0.18184860423207283\n",
      "Epoch : 31 , training loss : 0.04003531445735408 , validation loss : 0.4450578272342682\n",
      "Epoch : 32 , training loss : 0.04776626282974201 , validation loss : 0.17202442809939383\n",
      "Epoch : 33 , training loss : 0.04679599535815856 , validation loss : 0.5167787730693817\n",
      "Epoch : 34 , training loss : 0.039346214192097675 , validation loss : 0.19646041244268417\n",
      "Epoch : 35 , training loss : 0.04416422235354891 , validation loss : 0.5213513374328613\n",
      "Epoch : 36 , training loss : 0.0409501027315855 , validation loss : 0.17245218604803086\n",
      "Epoch : 37 , training loss : 0.04352402050340863 , validation loss : 0.5171499609947204\n",
      "Epoch : 38 , training loss : 0.039715755621300024 , validation loss : 0.1725732684135437\n",
      "Epoch : 39 , training loss : 0.036731346058385336 , validation loss : 0.49385676980018617\n",
      "Epoch : 40 , training loss : 0.03254994177533423 , validation loss : 0.1755703642964363\n",
      "Epoch : 41 , training loss : 0.029835517821672566 , validation loss : 0.4524208068847656\n",
      "Epoch : 42 , training loss : 0.02949298937421511 , validation loss : 0.16551554426550866\n",
      "Epoch : 43 , training loss : 0.026854054059453226 , validation loss : 0.4221737265586853\n",
      "Epoch : 44 , training loss : 0.02818944869453416 , validation loss : 0.16064222529530525\n",
      "Epoch : 45 , training loss : 0.024943682444298995 , validation loss : 0.4059731811285019\n",
      "Epoch : 46 , training loss : 0.026214682004031015 , validation loss : 0.15941052585840226\n",
      "Epoch : 47 , training loss : 0.023606767005677445 , validation loss : 0.3955764502286911\n",
      "Epoch : 48 , training loss : 0.02515789250131039 , validation loss : 0.1563769832253456\n",
      "Epoch : 49 , training loss : 0.023305990921525174 , validation loss : 0.39165431559085845\n",
      "Epoch : 50 , training loss : 0.024962636149104905 , validation loss : 0.15454090014100075\n",
      "Epoch : 51 , training loss : 0.02336413548191023 , validation loss : 0.39295694231987\n",
      "Epoch : 52 , training loss : 0.02465054579079151 , validation loss : 0.1547113835811615\n",
      "Epoch : 53 , training loss : 0.023248009772300172 , validation loss : 0.3956131011247635\n",
      "Epoch : 54 , training loss : 0.024147126426482025 , validation loss : 0.1552635744214058\n",
      "Epoch : 55 , training loss : 0.022974651519154364 , validation loss : 0.3978903591632843\n",
      "Epoch : 56 , training loss : 0.02364893030265675 , validation loss : 0.1559269517660141\n",
      "Epoch : 57 , training loss : 0.022525909161606038 , validation loss : 0.3992382109165192\n",
      "Epoch : 58 , training loss : 0.023032491725376424 , validation loss : 0.15706101730465888\n",
      "Epoch : 59 , training loss : 0.021824151441893157 , validation loss : 0.3990434169769287\n",
      "Epoch : 60 , training loss : 0.02222973947851535 , validation loss : 0.15838037803769112\n",
      "Epoch : 61 , training loss : 0.02095366086509517 , validation loss : 0.3972997784614563\n",
      "Epoch : 62 , training loss : 0.02136892719906481 , validation loss : 0.15955444425344467\n",
      "Epoch : 63 , training loss : 0.02006322760751252 , validation loss : 0.39466917514801025\n",
      "Epoch : 64 , training loss : 0.02055399610167917 , validation loss : 0.16060922741889955\n",
      "Epoch : 65 , training loss : 0.01923341476632392 , validation loss : 0.39182085990905763\n",
      "Epoch : 66 , training loss : 0.019807560821337736 , validation loss : 0.16159724891185762\n",
      "Epoch : 67 , training loss : 0.018499407328336555 , validation loss : 0.38918852210044863\n",
      "Epoch : 68 , training loss : 0.01914687588920488 , validation loss : 0.1624705635011196\n",
      "Epoch : 69 , training loss : 0.017885145025930423 , validation loss : 0.38705322444438933\n",
      "Epoch : 70 , training loss : 0.018591827932087815 , validation loss : 0.16321085169911384\n",
      "Epoch : 71 , training loss : 0.0173933166969458 , validation loss : 0.3855465710163116\n",
      "Epoch : 72 , training loss : 0.01813811143202817 , validation loss : 0.1638474427163601\n",
      "Epoch : 73 , training loss : 0.01700402027242543 , validation loss : 0.38463397026062013\n",
      "Epoch : 74 , training loss : 0.017764124402995494 , validation loss : 0.16439341753721237\n",
      "Epoch : 75 , training loss : 0.01669063382809434 , validation loss : 0.38417391777038573\n",
      "Epoch : 76 , training loss : 0.017448731396785554 , validation loss : 0.16484268233180047\n",
      "Epoch : 77 , training loss : 0.016428688226048562 , validation loss : 0.38398733735084534\n",
      "Epoch : 78 , training loss : 0.017174112980308777 , validation loss : 0.16518906205892564\n",
      "Epoch : 79 , training loss : 0.016196045017910794 , validation loss : 0.38388894498348236\n",
      "Epoch : 80 , training loss : 0.016923135036931318 , validation loss : 0.1654293343424797\n",
      "Epoch : 81 , training loss : 0.015973882612717503 , validation loss : 0.3837076187133789\n",
      "Epoch : 82 , training loss : 0.0166815165156389 , validation loss : 0.16555529534816743\n",
      "Epoch : 83 , training loss : 0.015749342390336096 , validation loss : 0.3833057045936584\n",
      "Epoch : 84 , training loss : 0.016440578325487235 , validation loss : 0.16555506512522697\n",
      "Epoch : 85 , training loss : 0.015516389832448433 , validation loss : 0.3825961023569107\n",
      "Epoch : 86 , training loss : 0.016196999014081323 , validation loss : 0.1654188245534897\n",
      "Epoch : 87 , training loss : 0.015274382155279027 , validation loss : 0.3815398931503296\n",
      "Epoch : 88 , training loss : 0.015951137825408402 , validation loss : 0.1651391714811325\n",
      "Epoch : 89 , training loss : 0.015026315663229017 , validation loss : 0.380141681432724\n",
      "Epoch : 90 , training loss : 0.015705645002205584 , validation loss : 0.16471307277679442\n",
      "Epoch : 91 , training loss : 0.014777399832382798 , validation loss : 0.3784352958202362\n",
      "Epoch : 92 , training loss : 0.015464683008544585 , validation loss : 0.1641392581164837\n",
      "Epoch : 93 , training loss : 0.014533612185486537 , validation loss : 0.37647390365600586\n",
      "Epoch : 94 , training loss : 0.01523265368579065 , validation loss : 0.16342020481824876\n",
      "Epoch : 95 , training loss : 0.014300395255250967 , validation loss : 0.3743177205324173\n",
      "Epoch : 96 , training loss : 0.015013297143227914 , validation loss : 0.16256178468465804\n",
      "Epoch : 97 , training loss : 0.014081794706940213 , validation loss : 0.3720220774412155\n",
      "Epoch : 98 , training loss : 0.01480908039957285 , validation loss : 0.16157176494598388\n",
      "Epoch : 99 , training loss : 0.013880120487609768 , validation loss : 0.3696324735879898\n",
      "Epoch : 100 , training loss : 0.014621073763598414 , validation loss : 0.16045855432748796\n",
      "Epoch : 101 , training loss : 0.013696023756090333 , validation loss : 0.36718149185180665\n",
      "Epoch : 102 , training loss : 0.014449099051382612 , validation loss : 0.15923296958208083\n",
      "Epoch : 103 , training loss : 0.013528753482900998 , validation loss : 0.36468778252601625\n",
      "Epoch : 104 , training loss : 0.014291960746049881 , validation loss : 0.15790422558784484\n",
      "Epoch : 105 , training loss : 0.013376426143462168 , validation loss : 0.36215699315071104\n",
      "Epoch : 106 , training loss : 0.014147587052053389 , validation loss : 0.15648202747106552\n",
      "Epoch : 107 , training loss : 0.013236450250534451 , validation loss : 0.35958507657051086\n",
      "Epoch : 108 , training loss : 0.014013582566643463 , validation loss : 0.15497502237558364\n",
      "Epoch : 109 , training loss : 0.013106035643859822 , validation loss : 0.3569608241319656\n",
      "Epoch : 110 , training loss : 0.013887441169251414 , validation loss : 0.15339019298553466\n",
      "Epoch : 111 , training loss : 0.012982354403528221 , validation loss : 0.35426929891109465\n",
      "Epoch : 112 , training loss : 0.013766761293963474 , validation loss : 0.15173469558358194\n",
      "Epoch : 113 , training loss : 0.012862905380589998 , validation loss : 0.35149550437927246\n",
      "Epoch : 114 , training loss : 0.013649523737566435 , validation loss : 0.1500135138630867\n",
      "Epoch : 115 , training loss : 0.01274577874745078 , validation loss : 0.3486260652542114\n",
      "Epoch : 116 , training loss : 0.013534289866905002 , validation loss : 0.14823039174079894\n",
      "Epoch : 117 , training loss : 0.012629642123904298 , validation loss : 0.3456509053707123\n",
      "Epoch : 118 , training loss : 0.013420073698986979 , validation loss : 0.14638986438512802\n",
      "Epoch : 119 , training loss : 0.012513674001264222 , validation loss : 0.3425644665956497\n",
      "Epoch : 120 , training loss : 0.013306380030425155 , validation loss : 0.14449455440044404\n",
      "Epoch : 121 , training loss : 0.012397633468293968 , validation loss : 0.33936558961868285\n",
      "Epoch : 122 , training loss : 0.013193170923520537 , validation loss : 0.1425468496978283\n",
      "Epoch : 123 , training loss : 0.012281759464017609 , validation loss : 0.3360565721988678\n",
      "Epoch : 124 , training loss : 0.013080819551011218 , validation loss : 0.14054932147264482\n",
      "Epoch : 125 , training loss : 0.012166621601756881 , validation loss : 0.33264583349227905\n",
      "Epoch : 126 , training loss : 0.01296989037655294 , validation loss : 0.13850404024124147\n",
      "Epoch : 127 , training loss : 0.012052902691614102 , validation loss : 0.3291409581899643\n",
      "Epoch : 128 , training loss : 0.012861009988495532 , validation loss : 0.1364134706556797\n",
      "Epoch : 129 , training loss : 0.011941337957978249 , validation loss : 0.325552898645401\n",
      "Epoch : 130 , training loss : 0.012754832832690547 , validation loss : 0.13428002148866652\n",
      "Epoch : 131 , training loss : 0.011832617565660793 , validation loss : 0.3218919336795807\n",
      "Epoch : 132 , training loss : 0.012651909471434705 , validation loss : 0.1321059450507164\n",
      "Epoch : 133 , training loss : 0.011727247003685026 , validation loss : 0.3181676357984543\n",
      "Epoch : 134 , training loss : 0.012552657739861924 , validation loss : 0.1298938736319542\n",
      "Epoch : 135 , training loss : 0.011625629685380879 , validation loss : 0.3143891513347626\n",
      "Epoch : 136 , training loss : 0.012457289130372159 , validation loss : 0.12764667421579362\n",
      "Epoch : 137 , training loss : 0.011527847087777713 , validation loss : 0.3105625659227371\n",
      "Epoch : 138 , training loss : 0.012365796534782824 , validation loss : 0.12536713629961013\n",
      "Epoch : 139 , training loss : 0.011433834305909626 , validation loss : 0.3066923409700394\n",
      "Epoch : 140 , training loss : 0.01227805997683283 , validation loss : 0.12305744737386703\n",
      "Epoch : 141 , training loss : 0.011343374204657534 , validation loss : 0.30278206765651705\n",
      "Epoch : 142 , training loss : 0.012193796457722783 , validation loss : 0.12072111815214157\n",
      "Epoch : 143 , training loss : 0.011256099692271912 , validation loss : 0.2988325238227844\n",
      "Epoch : 144 , training loss : 0.012112609727089019 , validation loss : 0.11836085990071296\n",
      "Epoch : 145 , training loss : 0.01117153839646455 , validation loss : 0.2948450088500977\n",
      "Epoch : 146 , training loss : 0.012034016195684671 , validation loss : 0.11597969010472298\n",
      "Epoch : 147 , training loss : 0.011089202701388037 , validation loss : 0.29081867933273314\n",
      "Epoch : 148 , training loss : 0.011957574183778727 , validation loss : 0.11358000412583351\n",
      "Epoch : 149 , training loss : 0.011008681797915521 , validation loss : 0.28675300180912017\n",
      "Epoch : 150 , training loss : 0.011882915654603173 , validation loss : 0.11116453409194946\n",
      "Epoch : 151 , training loss : 0.01092953999143313 , validation loss : 0.2826481133699417\n",
      "Epoch : 152 , training loss : 0.01180961006321013 , validation loss : 0.10873625576496124\n",
      "Epoch : 153 , training loss : 0.010851377046064418 , validation loss : 0.2785044819116592\n",
      "Epoch : 154 , training loss : 0.011737324434387334 , validation loss : 0.10629762709140778\n",
      "Epoch : 155 , training loss : 0.010773945942192394 , validation loss : 0.2743223696947098\n",
      "Epoch : 156 , training loss : 0.011665896567351678 , validation loss : 0.10385108813643455\n",
      "Epoch : 157 , training loss : 0.010697177583899568 , validation loss : 0.2701045975089073\n",
      "Epoch : 158 , training loss : 0.011595281073823571 , validation loss : 0.1013992466032505\n",
      "Epoch : 159 , training loss : 0.010620943147360402 , validation loss : 0.26585265398025515\n",
      "Epoch : 160 , training loss : 0.011525373453931773 , validation loss : 0.0989446222782135\n",
      "Epoch : 161 , training loss : 0.0105452888426097 , validation loss : 0.26157212555408477\n",
      "Epoch : 162 , training loss : 0.011456247131504557 , validation loss : 0.0964900016784668\n",
      "Epoch : 163 , training loss : 0.010470303912263583 , validation loss : 0.2572661817073822\n",
      "Epoch : 164 , training loss : 0.01138800467528841 , validation loss : 0.09403754845261574\n",
      "Epoch : 165 , training loss : 0.010396038236863473 , validation loss : 0.252939847111702\n",
      "Epoch : 166 , training loss : 0.011320734725278966 , validation loss : 0.09159063436090946\n",
      "Epoch : 167 , training loss : 0.01032274471157614 , validation loss : 0.24859941154718398\n",
      "Epoch : 168 , training loss : 0.011254696298719329 , validation loss : 0.08915093839168549\n",
      "Epoch : 169 , training loss : 0.010250604108852498 , validation loss : 0.2442500561475754\n",
      "Epoch : 170 , training loss : 0.011190072153968847 , validation loss : 0.08672146573662758\n",
      "Epoch : 171 , training loss : 0.010179768919068225 , validation loss : 0.23989755809307098\n",
      "Epoch : 172 , training loss : 0.011126964010626954 , validation loss : 0.08430506736040115\n",
      "Epoch : 173 , training loss : 0.010110319181181052 , validation loss : 0.2355474829673767\n",
      "Epoch : 174 , training loss : 0.011065488434670603 , validation loss : 0.08190424963831902\n",
      "Epoch : 175 , training loss : 0.010042331455384983 , validation loss : 0.23120514154434205\n",
      "Epoch : 176 , training loss : 0.011005719301893431 , validation loss : 0.07952199317514896\n",
      "Epoch : 177 , training loss : 0.009975859703605665 , validation loss : 0.22687487155199051\n",
      "Epoch : 178 , training loss : 0.010947725160376114 , validation loss : 0.07716099321842193\n",
      "Epoch : 179 , training loss : 0.009910881669972749 , validation loss : 0.2225613087415695\n",
      "Epoch : 180 , training loss : 0.010891472742728451 , validation loss : 0.0748236283659935\n",
      "Epoch : 181 , training loss : 0.00984732516329078 , validation loss : 0.21826780438423157\n",
      "Epoch : 182 , training loss : 0.01083689693854574 , validation loss : 0.07251292765140534\n",
      "Epoch : 183 , training loss : 0.00978505827815217 , validation loss : 0.2139982134103775\n",
      "Epoch : 184 , training loss : 0.01078389460385284 , validation loss : 0.07023131474852562\n",
      "Epoch : 185 , training loss : 0.009723952396170181 , validation loss : 0.20975571721792222\n",
      "Epoch : 186 , training loss : 0.01073230164782966 , validation loss : 0.0679817907512188\n",
      "Epoch : 187 , training loss : 0.009663798544994173 , validation loss : 0.20554281771183014\n",
      "Epoch : 188 , training loss : 0.010681950884378132 , validation loss : 0.06576630547642708\n",
      "Epoch : 189 , training loss : 0.009604462189599872 , validation loss : 0.20136229693889618\n",
      "Epoch : 190 , training loss : 0.010632637984064571 , validation loss : 0.06358742564916611\n",
      "Epoch : 191 , training loss : 0.00954572923536248 , validation loss : 0.19721624553203582\n",
      "Epoch : 192 , training loss : 0.010584113434614503 , validation loss : 0.06144758686423302\n",
      "Epoch : 193 , training loss : 0.009487386121798088 , validation loss : 0.193107670545578\n",
      "Epoch : 194 , training loss : 0.010536086635992807 , validation loss : 0.05934911519289017\n",
      "Epoch : 195 , training loss : 0.009429398814544958 , validation loss : 0.18904013633728028\n",
      "Epoch : 196 , training loss : 0.010488488697720802 , validation loss : 0.05729390941560268\n",
      "Epoch : 197 , training loss : 0.00937175312462975 , validation loss : 0.18501760363578795\n",
      "Epoch : 198 , training loss : 0.010441165225689901 , validation loss : 0.05528445430099964\n",
      "Epoch : 199 , training loss : 0.009314406937097801 , validation loss : 0.18104362785816192\n",
      "Epoch : 200 , training loss : 0.010393964701934773 , validation loss : 0.0533225491642952\n",
      "Epoch : 201 , training loss : 0.009257452713106485 , validation loss : 0.1771228313446045\n",
      "Epoch : 202 , training loss : 0.01034692904966719 , validation loss : 0.051410363800823686\n",
      "Epoch : 203 , training loss : 0.00920109442599556 , validation loss : 0.17326130270957946\n",
      "Epoch : 204 , training loss : 0.010300138526979615 , validation loss : 0.04954950176179409\n",
      "Epoch : 205 , training loss : 0.00914554314359146 , validation loss : 0.16946401000022887\n",
      "Epoch : 206 , training loss : 0.010253781261032118 , validation loss : 0.04774172715842724\n",
      "Epoch : 207 , training loss : 0.009091074030627222 , validation loss : 0.16573715955018997\n",
      "Epoch : 208 , training loss : 0.010208020534585504 , validation loss : 0.04598890095949173\n",
      "Epoch : 209 , training loss : 0.009037926464396365 , validation loss : 0.16208681464195251\n",
      "Epoch : 210 , training loss : 0.010163090383524405 , validation loss : 0.04429239742457867\n",
      "Epoch : 211 , training loss : 0.008986337630845168 , validation loss : 0.15851834118366243\n",
      "Epoch : 212 , training loss : 0.010119172758148873 , validation loss : 0.042653640545904634\n",
      "Epoch : 213 , training loss : 0.00893653674489435 , validation loss : 0.1550372362136841\n",
      "Epoch : 214 , training loss : 0.010076504995060317 , validation loss : 0.04107360988855362\n",
      "Epoch : 215 , training loss : 0.008888698511702172 , validation loss : 0.15164880603551864\n",
      "Epoch : 216 , training loss : 0.01003520653637893 , validation loss : 0.039554106444120406\n",
      "Epoch : 217 , training loss : 0.008842926718952024 , validation loss : 0.14835754930973052\n",
      "Epoch : 218 , training loss : 0.009995405192432158 , validation loss : 0.03809578977525234\n",
      "Epoch : 219 , training loss : 0.008799307171584052 , validation loss : 0.14516756534576417\n",
      "Epoch : 220 , training loss : 0.009957152939237216 , validation loss : 0.03669971693307161\n",
      "Epoch : 221 , training loss : 0.008757772745893282 , validation loss : 0.14208115339279176\n",
      "Epoch : 222 , training loss : 0.009920345139963663 , validation loss : 0.03536680322140455\n",
      "Epoch : 223 , training loss : 0.008718225995407385 , validation loss : 0.13910113126039506\n",
      "Epoch : 224 , training loss : 0.009884912438471527 , validation loss : 0.03409791551530361\n",
      "Epoch : 225 , training loss : 0.008680479395586778 , validation loss : 0.13622908443212509\n",
      "Epoch : 226 , training loss : 0.009850612088270923 , validation loss : 0.03289387580007315\n",
      "Epoch : 227 , training loss : 0.00864426520488718 , validation loss : 0.13346532434225084\n",
      "Epoch : 228 , training loss : 0.00981720005545546 , validation loss : 0.03175516612827778\n",
      "Epoch : 229 , training loss : 0.008609298671431401 , validation loss : 0.13081046640872956\n",
      "Epoch : 230 , training loss : 0.009784327792551588 , validation loss : 0.030682378634810447\n",
      "Epoch : 231 , training loss : 0.008575171067872468 , validation loss : 0.1282638356089592\n",
      "Epoch : 232 , training loss : 0.009751617141506252 , validation loss : 0.029676067270338537\n",
      "Epoch : 233 , training loss : 0.008541488170842914 , validation loss : 0.12582522332668306\n",
      "Epoch : 234 , training loss : 0.009718654951190247 , validation loss : 0.028736439906060694\n",
      "Epoch : 235 , training loss : 0.008507861591437283 , validation loss : 0.12349293604493142\n",
      "Epoch : 236 , training loss : 0.00968509424916085 , validation loss : 0.02786380434408784\n",
      "Epoch : 237 , training loss : 0.008473843555240071 , validation loss : 0.12126448303461075\n",
      "Epoch : 238 , training loss : 0.009650478303870735 , validation loss : 0.027057886030524968\n",
      "Epoch : 239 , training loss : 0.008438972139950185 , validation loss : 0.1191387265920639\n",
      "Epoch : 240 , training loss : 0.009614343878210467 , validation loss : 0.02631893027573824\n",
      "Epoch : 241 , training loss : 0.008402806706726551 , validation loss : 0.11711241155862809\n",
      "Epoch : 242 , training loss : 0.009576305185499437 , validation loss : 0.025646311603486537\n",
      "Epoch : 243 , training loss : 0.008364934008568525 , validation loss : 0.11518373638391495\n",
      "Epoch : 244 , training loss : 0.00953597085112158 , validation loss : 0.02503969259560108\n",
      "Epoch : 245 , training loss : 0.008325021850931294 , validation loss : 0.11334925293922424\n",
      "Epoch : 246 , training loss : 0.009493083775262623 , validation loss : 0.024498648848384617\n",
      "Epoch : 247 , training loss : 0.008282766923965776 , validation loss : 0.1116074189543724\n",
      "Epoch : 248 , training loss : 0.009447389090543283 , validation loss : 0.024022023659199476\n",
      "Epoch : 249 , training loss : 0.00823793642442016 , validation loss : 0.10995434522628784\n",
      "Epoch : 250 , training loss : 0.009398727458627784 , validation loss : 0.023608960211277008\n",
      "Epoch : 251 , training loss : 0.008190388887134544 , validation loss : 0.10838875621557235\n",
      "Epoch : 252 , training loss : 0.009347014635910882 , validation loss : 0.023258327413350342\n",
      "Epoch : 253 , training loss : 0.008140052367440042 , validation loss : 0.10690811723470688\n",
      "Epoch : 254 , training loss : 0.009292253621799104 , validation loss : 0.02296908376738429\n",
      "Epoch : 255 , training loss : 0.008086965282392852 , validation loss : 0.10551103577017784\n",
      "Epoch : 256 , training loss : 0.009234594865976012 , validation loss : 0.022739650402218103\n",
      "Epoch : 257 , training loss : 0.00803126854931607 , validation loss : 0.10419620797038079\n",
      "Epoch : 258 , training loss : 0.00917423446662724 , validation loss : 0.02256871433928609\n",
      "Epoch : 259 , training loss : 0.007973214803153978 , validation loss : 0.10296246260404587\n",
      "Epoch : 260 , training loss : 0.009111551869222346 , validation loss : 0.02245479468256235\n",
      "Epoch : 261 , training loss : 0.007913079085376333 , validation loss : 0.10180922746658325\n",
      "Epoch : 262 , training loss : 0.00904682495028657 , validation loss : 0.022396552376449108\n",
      "Epoch : 263 , training loss : 0.007851197315818247 , validation loss : 0.10073622167110444\n",
      "Epoch : 264 , training loss : 0.008980491054792176 , validation loss : 0.022392272809520365\n",
      "Epoch : 265 , training loss : 0.007788038703010362 , validation loss : 0.09974360838532448\n",
      "Epoch : 266 , training loss : 0.008913121439571329 , validation loss : 0.022440729895606637\n",
      "Epoch : 267 , training loss : 0.007724149590905975 , validation loss : 0.09883288741111755\n",
      "Epoch : 268 , training loss : 0.008845298263408682 , validation loss : 0.022540384717285634\n",
      "Epoch : 269 , training loss : 0.007660098757375689 , validation loss : 0.09800452291965485\n",
      "Epoch : 270 , training loss : 0.00877766522770638 , validation loss : 0.022689748648554088\n",
      "Epoch : 271 , training loss : 0.007596521953339963 , validation loss : 0.09726066552102566\n",
      "Epoch : 272 , training loss : 0.008710923536187586 , validation loss : 0.022887459304183722\n",
      "Epoch : 273 , training loss : 0.0075341147261069105 , validation loss : 0.09660214968025685\n",
      "Epoch : 274 , training loss : 0.008645822951460587 , validation loss : 0.02313235350884497\n",
      "Epoch : 275 , training loss : 0.007473564378040678 , validation loss : 0.09603295922279358\n",
      "Epoch : 276 , training loss : 0.008583115831510547 , validation loss : 0.023423416865989567\n",
      "Epoch : 277 , training loss : 0.007415725712609642 , validation loss : 0.09555560350418091\n",
      "Epoch : 278 , training loss : 0.00852374974912142 , validation loss : 0.023759023984894156\n",
      "Epoch : 279 , training loss : 0.007361417649971212 , validation loss : 0.0951737865805626\n",
      "Epoch : 280 , training loss : 0.008468592813348068 , validation loss : 0.024138639960438014\n",
      "Epoch : 281 , training loss : 0.007311599767383407 , validation loss : 0.09489202313125134\n",
      "Epoch : 282 , training loss : 0.008418746984235066 , validation loss : 0.02456073840148747\n",
      "Epoch : 283 , training loss : 0.007267378667807754 , validation loss : 0.09471647664904595\n",
      "Epoch : 284 , training loss : 0.0083754259873839 , validation loss : 0.025024440512061118\n",
      "Epoch : 285 , training loss : 0.00723000370678218 , validation loss : 0.0946538507938385\n",
      "Epoch : 286 , training loss : 0.008340031429029563 , validation loss : 0.025528648775070904\n",
      "Epoch : 287 , training loss : 0.007200911339810666 , validation loss : 0.09471275843679905\n",
      "Epoch : 288 , training loss : 0.008314185385482715 , validation loss : 0.026072062319144607\n",
      "Epoch : 289 , training loss : 0.0071818589588955924 , validation loss : 0.09490351229906083\n",
      "Epoch : 290 , training loss : 0.008299904485123561 , validation loss : 0.026652903063222766\n",
      "Epoch : 291 , training loss : 0.007175034774905618 , validation loss : 0.09523970037698745\n",
      "Epoch : 292 , training loss : 0.008299705469706917 , validation loss : 0.02726929779164493\n",
      "Epoch : 293 , training loss : 0.007183199597741751 , validation loss : 0.09573749080300331\n",
      "Epoch : 294 , training loss : 0.008316759314552388 , validation loss : 0.02791796992532909\n",
      "Epoch : 295 , training loss : 0.007209820015465512 , validation loss : 0.09641749784350395\n",
      "Epoch : 296 , training loss : 0.008355026092270719 , validation loss : 0.028594960970804096\n",
      "Epoch : 297 , training loss : 0.0072593272471910015 , validation loss : 0.09730475991964341\n",
      "Epoch : 298 , training loss : 0.008419574560214053 , validation loss : 0.0292945995926857\n",
      "Epoch : 299 , training loss : 0.007337497437701505 , validation loss : 0.09843204878270626\n"
     ]
    }
   ],
   "source": [
    "data_module.learning_curve(num_epochs = num_epochs,\n",
    "                           train_loss = train_loss ,\n",
    "                           val_loss = val_loss)"
   ]
  },
  {
   "cell_type": "markdown",
   "metadata": {},
   "source": [
    "# Step 5 : Evaluation\n",
    "This section is to inference the model by feeding in testing data and determine the output forecast value and calculate the RMSE. For this tutorial, we will use the function in `data_module` to run in each section.\n",
    "\n",
    "It consists of 4 sections :\n",
    "\n",
    "Section 1 : Feed in the train and test data to the model <br>\n",
    "Section 2 : Reshape both to the original data dimension <br> \n",
    "Section 3 : Invert the scaling back to the original data value <br>\n",
    "Section 4 : Calculate the RMSE of train and test data"
   ]
  },
  {
   "cell_type": "code",
   "execution_count": 21,
   "metadata": {},
   "outputs": [],
   "source": [
    "# Section 1 : make predictions\n",
    "y_train_prediction = model(train_data_dict['train_data_x_feature'])\n",
    "y_test_prediction = model(test_data_dict['test_data_x_feature'])"
   ]
  },
  {
   "cell_type": "code",
   "execution_count": 22,
   "metadata": {},
   "outputs": [],
   "source": [
    "# Assign evaluation key\n",
    "prediction , output = data_module.key_assign_evaluation(y_train_prediction,\n",
    "    y_test_prediction,\n",
    "    train_data_dict,\n",
    "    test_data_dict)\n",
    "# Squeeze the output dimension\n",
    "output_data = data_module.squeeze_dimension(output)"
   ]
  },
  {
   "cell_type": "code",
   "execution_count": 23,
   "metadata": {},
   "outputs": [
    {
     "name": "stdout",
     "output_type": "stream",
     "text": [
      "train_data_output shape : torch.Size([17, 2])\n",
      "test_data_output shape : torch.Size([5, 2])\n"
     ]
    }
   ],
   "source": [
    "data_module.sanity_check(data_1 = output_data,data_2 = {})"
   ]
  },
  {
   "cell_type": "code",
   "execution_count": 24,
   "metadata": {},
   "outputs": [],
   "source": [
    "# Section 3 : Invert predictions\n",
    "prediction = data_module.inverse_scaler(prediction,scaler)\n",
    "output_data  = data_module.inverse_scaler(output_data ,scaler)"
   ]
  },
  {
   "cell_type": "code",
   "execution_count": 25,
   "metadata": {},
   "outputs": [
    {
     "name": "stdout",
     "output_type": "stream",
     "text": [
      "train_data_prediction shape : (17, 2)\n",
      "test_data_prediction shape : (5, 2)\n",
      "train_data_output shape : (17, 2)\n",
      "test_data_output shape : (5, 2)\n"
     ]
    }
   ],
   "source": [
    "data_module.sanity_check(data_1 = prediction,data_2 = output_data )"
   ]
  },
  {
   "cell_type": "code",
   "execution_count": 26,
   "metadata": {},
   "outputs": [
    {
     "name": "stdout",
     "output_type": "stream",
     "text": [
      "Test Data\t\t\tForecast\n",
      "[485.      504.99997]\t\t[469.88898 491.4046 ]\n",
      "[504.99997 525.     ]\t\t[487.6042  506.96536]\n",
      "[525. 545.]\t\t[503.9669 518.9368]\n",
      "[545. 565.]\t\t[517.85266 525.4798 ]\n",
      "[565. 585.]\t\t[527.7589 524.402 ]\n"
     ]
    }
   ],
   "source": [
    "# List the forecast value\n",
    "data_module.list_forecast_value(output_data,prediction) "
   ]
  },
  {
   "cell_type": "code",
   "execution_count": 27,
   "metadata": {},
   "outputs": [
    {
     "name": "stdout",
     "output_type": "stream",
     "text": [
      "Train Score: 8.90 RMSE\n",
      "Test Score: 30.86 RMSE\n"
     ]
    }
   ],
   "source": [
    "# Section 4 : Calculate the RMSE of train and test data\n",
    "trainScore,testScore = data_module.rmse(prediction,output_data)\n",
    "print('Train Score: %.2f RMSE' % (trainScore))\n",
    "print('Test Score: %.2f RMSE' % (testScore))"
   ]
  },
  {
   "cell_type": "markdown",
   "metadata": {},
   "source": [
    "# Step 6 : Forecast Plot\n",
    "Same concept with forecast plot in multivariate input,univariate output single , you need to add an extra `test_time[window_size-1:]` and the condition to the function `multivariate = False` .Please refer [04-LSTM-Multivariate-Input-Univariate-Output-Single-Step # Step 6 : Forecast Plot](./04-LSTM-Multivariate-Input-Univariate-Output-Single-Step.ipynb) for explanation"
   ]
  },
  {
   "cell_type": "code",
   "execution_count": 28,
   "metadata": {},
   "outputs": [],
   "source": [
    "from matplotlib.lines import Line2D\n",
    "def multi_step_plot(original_test_data,\n",
    "                    after_sequence_test_data ,\n",
    "                    forecast_data,test_time,window_size,\n",
    "                    n_step ,\n",
    "                    details = {},\n",
    "                    original_plot = False,\n",
    "                    multivariate = False):\n",
    "    \n",
    "    \"\"\" \n",
    "    Plot the result of multi-step forecast \n",
    "    \n",
    "    Arguments:\n",
    "    original_test_data -- test data before sequence\n",
    "    after_sequence_test_data -- (dict) output data dictionary\n",
    "    forecast_data -- (dict) prediction data dictionary\n",
    "    test_time -- time index for test data before sequence\n",
    "    window_size -- window size for the data sequence\n",
    "    n_step -- the number of future step , 1 -> single >1 -> multi-step\n",
    "    details -- (dict) details for plot such as \"x-axis\" ,\"y-axis\", \"title\"\n",
    "    original_plot -- (boolean) True ->observe how sliding window (data sequence) take place in the test data\n",
    "    \n",
    "    \"\"\"\n",
    "    \n",
    "    after_sequence_test_data = after_sequence_test_data['test_data_output'] \n",
    "    forecast_data = forecast_data[\"test_data_prediction\"]\n",
    "    \n",
    "    \n",
    "    \n",
    "    # Plot Setting\n",
    "    plt.figure(figsize=(10,6))\n",
    "    plt.xticks(rotation=45)    \n",
    "    \n",
    "    # Store test and forecast data into DataFrame type \n",
    "    column_names = [\"timestep_\" + str(i) for i in range(after_sequence_test_data.shape[1])]\n",
    "    y_test_dataframe = pd.DataFrame(after_sequence_test_data,columns = column_names)\n",
    "    y_test_pred_dataframe =pd.DataFrame(forecast_data,columns = column_names)\n",
    "    \n",
    "    # Create time index for data after sequence\n",
    "    if multivariate:\n",
    "        time_index_after_sequence = test_time[window_size-1:]\n",
    "        \n",
    "    else:\n",
    "        time_index_after_sequence = test_time[window_size:]\n",
    "    \n",
    "    # Test Data plot before sliding window(data sequencing)\n",
    "    if original_plot:\n",
    "        plt.plot(test_time,original_test_data,marker='x',color=\"blue\")\n",
    "\n",
    "    # For loop to plot the data step by step base on time index    \n",
    "    start_idx = 0 \n",
    "    for row in range(len(y_test_dataframe)):\n",
    "        \n",
    "               \n",
    "        # Iterate the time index after sequence\n",
    "        time_index = time_index_after_sequence[start_idx:start_idx+n_step]\n",
    "        \n",
    "        \n",
    "        \n",
    "        # Plot the test data\n",
    "        plt.plot(time_index,y_test_dataframe.iloc[row],color=\"green\",marker='o')\n",
    "        \n",
    "        # Plot the forecast data\n",
    "        plt.plot(time_index,y_test_pred_dataframe.iloc[row],color=\"red\",marker='o')\n",
    "        \n",
    "        # Pointer for time_index_after_sequence\n",
    "        start_idx += 1\n",
    "        \n",
    "    # Customize the legend\n",
    "    custom_lines = [Line2D([0], [0], color=\"green\", lw=4),\n",
    "                Line2D([0], [0], color=\"red\", lw=4),\n",
    "                Line2D([0], [0], color=\"blue\", lw=4)]\n",
    "    plt.legend(custom_lines, ['Test Data After Sequencing', 'Forecast Data', 'Test Data Before Sequencing'])\n",
    "    \n",
    "    # Extra details - Optional function\n",
    "    if details != {}:\n",
    "        plt.xlabel(details[\"x-axis\"])\n",
    "        plt.ylabel(details[\"y-axis\"])\n",
    "        plt.title(details[\"title\"])"
   ]
  },
  {
   "cell_type": "code",
   "execution_count": 29,
   "metadata": {},
   "outputs": [
    {
     "data": {
      "image/png": "[encoded data removed]",
      "text/plain": [
       "<Figure size 720x432 with 1 Axes>"
      ]
     },
     "metadata": {
      "needs_background": "light"
     },
     "output_type": "display_data"
    }
   ],
   "source": [
    "multi_step_plot(original_test_data = test_data[\"out_seq\"],\n",
    "                            after_sequence_test_data = output_data,\n",
    "                            forecast_data = prediction,\n",
    "                            test_time = test_time,\n",
    "                            window_size = window_size,\n",
    "                            n_step = n_step,\n",
    "                            details={},\n",
    "                            original_plot=False,\n",
    "                            multivariate = True)"
   ]
  },
  {
   "cell_type": "markdown",
   "metadata": {},
   "source": [
    "# Part 2 : Exercise for Multivariate Multi-step\n",
    "## Task : Predict total number of death case in COVID-19 Malaysia 3 day in future\n",
    "\n",
    "### Introduction \n",
    "You are given a set of data that contain information about COVID-19 cases worldwide. You are required to perform some data analysis on it and predict the death cases.<br>\n",
    "\n",
    "Please follow the instruction and try to code the exercise.Please feel free to google to find out how to use a particular function in the data exploration part<br>\n",
    "\n",
    "\n",
    "\n",
    "Data Source : \n",
    "https://www.kaggle.com/sudalairajkumar/novel-corona-virus-2019-dataset"
   ]
  },
  {
   "cell_type": "markdown",
   "metadata": {},
   "source": [
    "## Hyperparameter\n",
    ">**Instruction** : <br>\n",
    "You are required to fill the `None` with a suitable value to make the model converge\n",
    "\n",
    ">**Expected Result** : <br>\n",
    "Train Score <= 10 RMSE<br>\n",
    "Test Score <= 10 RMSE<br>"
   ]
  },
  {
   "cell_type": "code",
   "execution_count": 30,
   "metadata": {},
   "outputs": [
    {
     "data": {
      "text/plain": [
       "<torch._C.Generator at 0x294e378e950>"
      ]
     },
     "execution_count": 30,
     "metadata": {},
     "output_type": "execute_result"
    }
   ],
   "source": [
    "#Hyperameter\n",
    "split_ratio_covid = 0.70\n",
    "num_epochs_covid = 100\n",
    "window_size_covid = 5\n",
    "n_step_covid = 3\n",
    "learning_rate_covid = 0.001\n",
    "batch_size_covid = 5\n",
    "#seed\n",
    "torch.manual_seed(123)"
   ]
  },
  {
   "cell_type": "markdown",
   "metadata": {},
   "source": [
    "# Step 1 : Data Preparation\n",
    "In this tutorial, you will face a complex real-world dataset. You are required to use some of the data exploration technique to help you prepare the data.\n",
    "\n",
    ">**Instruction** : <br>\n",
    "Read the file using `pd.read_csv`<br>\n",
    "Save your data as `cases`<br>\n",
    "Your file path `../../datasets/others/covid_19_data.csv`"
   ]
  },
  {
   "cell_type": "code",
   "execution_count": 31,
   "metadata": {},
   "outputs": [
    {
     "data": {
      "text/html": [
       "<div>\n",
       "<style scoped>\n",
       "    .dataframe tbody tr th:only-of-type {\n",
       "        vertical-align: middle;\n",
       "    }\n",
       "\n",
       "    .dataframe tbody tr th {\n",
       "        vertical-align: top;\n",
       "    }\n",
       "\n",
       "    .dataframe thead th {\n",
       "        text-align: right;\n",
       "    }\n",
       "</style>\n",
       "<table border=\"1\" class=\"dataframe\">\n",
       "  <thead>\n",
       "    <tr style=\"text-align: right;\">\n",
       "      <th></th>\n",
       "      <th>SNo</th>\n",
       "      <th>ObservationDate</th>\n",
       "      <th>Province/State</th>\n",
       "      <th>Country/Region</th>\n",
       "      <th>Last Update</th>\n",
       "      <th>Confirmed</th>\n",
       "      <th>Deaths</th>\n",
       "      <th>Recovered</th>\n",
       "    </tr>\n",
       "  </thead>\n",
       "  <tbody>\n",
       "    <tr>\n",
       "      <th>0</th>\n",
       "      <td>1</td>\n",
       "      <td>01/22/2020</td>\n",
       "      <td>Anhui</td>\n",
       "      <td>Mainland China</td>\n",
       "      <td>1/22/2020 17:00</td>\n",
       "      <td>1.0</td>\n",
       "      <td>0.0</td>\n",
       "      <td>0.0</td>\n",
       "    </tr>\n",
       "    <tr>\n",
       "      <th>1</th>\n",
       "      <td>2</td>\n",
       "      <td>01/22/2020</td>\n",
       "      <td>Beijing</td>\n",
       "      <td>Mainland China</td>\n",
       "      <td>1/22/2020 17:00</td>\n",
       "      <td>14.0</td>\n",
       "      <td>0.0</td>\n",
       "      <td>0.0</td>\n",
       "    </tr>\n",
       "    <tr>\n",
       "      <th>2</th>\n",
       "      <td>3</td>\n",
       "      <td>01/22/2020</td>\n",
       "      <td>Chongqing</td>\n",
       "      <td>Mainland China</td>\n",
       "      <td>1/22/2020 17:00</td>\n",
       "      <td>6.0</td>\n",
       "      <td>0.0</td>\n",
       "      <td>0.0</td>\n",
       "    </tr>\n",
       "    <tr>\n",
       "      <th>3</th>\n",
       "      <td>4</td>\n",
       "      <td>01/22/2020</td>\n",
       "      <td>Fujian</td>\n",
       "      <td>Mainland China</td>\n",
       "      <td>1/22/2020 17:00</td>\n",
       "      <td>1.0</td>\n",
       "      <td>0.0</td>\n",
       "      <td>0.0</td>\n",
       "    </tr>\n",
       "    <tr>\n",
       "      <th>4</th>\n",
       "      <td>5</td>\n",
       "      <td>01/22/2020</td>\n",
       "      <td>Gansu</td>\n",
       "      <td>Mainland China</td>\n",
       "      <td>1/22/2020 17:00</td>\n",
       "      <td>0.0</td>\n",
       "      <td>0.0</td>\n",
       "      <td>0.0</td>\n",
       "    </tr>\n",
       "  </tbody>\n",
       "</table>\n",
       "</div>"
      ],
      "text/plain": [
       "   SNo ObservationDate Province/State  Country/Region      Last Update  \\\n",
       "0    1      01/22/2020          Anhui  Mainland China  1/22/2020 17:00   \n",
       "1    2      01/22/2020        Beijing  Mainland China  1/22/2020 17:00   \n",
       "2    3      01/22/2020      Chongqing  Mainland China  1/22/2020 17:00   \n",
       "3    4      01/22/2020         Fujian  Mainland China  1/22/2020 17:00   \n",
       "4    5      01/22/2020          Gansu  Mainland China  1/22/2020 17:00   \n",
       "\n",
       "   Confirmed  Deaths  Recovered  \n",
       "0        1.0     0.0        0.0  \n",
       "1       14.0     0.0        0.0  \n",
       "2        6.0     0.0        0.0  \n",
       "3        1.0     0.0        0.0  \n",
       "4        0.0     0.0        0.0  "
      ]
     },
     "execution_count": 31,
     "metadata": {},
     "output_type": "execute_result"
    }
   ],
   "source": [
    "### BEGIN SOLUTION\n",
    "cases = pd.read_csv(\"../../datasets/others/covid_19_data.csv\")\n",
    "### END SOLUTION\n",
    "cases.head()"
   ]
  },
  {
   "cell_type": "markdown",
   "metadata": {},
   "source": [
    "As you can see, the data contain info on COVID-19 cases from other countries as well. Hence you need to slice the COVID-19 info only for Malaysia.\n",
    "\n",
    ">**Instruction** : <br>\n",
    "Slice the COVID-19 info only for Malaysia. You might need to use `df.loc[]` to help you slice the data.\n",
    "\n",
    ">**Expected Result** :<br>\n",
    "Example of first 5 row data :\n",
    "\n",
    "---\t|SNo\t|ObservationDate\t|Province/State\t|Country/Region\t|Last Update\t|Confirmed\t|Deaths\t|Recovered\n",
    " ---|---\t|---\t            |---\t        |---\t        |---\t        |---\t    |---\t|---\n",
    "78\t|79\t    |01/23/2020\t|NaN\t|Malaysia\t|1/23/20 |17:00\t|0.0\t|0.0\t|0.0\n",
    "168\t|169\t|01/25/2020\t|NaN\t|Malaysia\t|1/25/20 |17:00\t|3.0\t|0.0\t|0.0\n",
    "214\t|215\t|01/26/2020\t|NaN\t|Malaysia\t|1/26/20 |16:00\t|4.0\t|0.0\t|0.0\n",
    "260\t|261\t|01/27/2020\t|NaN\t|Malaysia\t|1/27/20 |23:59\t|4.0\t|0.0\t|0.0\n",
    "311\t|312\t|01/28/2020\t|NaN\t|Malaysia\t|1/28/20 |23:00\t|4.0\t|0.0\t|0.0"
   ]
  },
  {
   "cell_type": "code",
   "execution_count": 32,
   "metadata": {
    "scrolled": true
   },
   "outputs": [
    {
     "data": {
      "text/plain": [
       "array(['Mainland China', 'Hong Kong', 'Macau', 'Taiwan', 'US', 'Japan',\n",
       "       'Thailand', 'South Korea', 'Singapore', 'Philippines', 'Malaysia',\n",
       "       'Vietnam', 'Australia', 'Mexico', 'Brazil', 'Colombia', 'France',\n",
       "       'Nepal', 'Canada', 'Cambodia', 'Sri Lanka', 'Ivory Coast',\n",
       "       'Germany', 'Finland', 'United Arab Emirates', 'India', 'Italy',\n",
       "       'UK', 'Russia', 'Sweden', 'Spain', 'Belgium', 'Others', 'Egypt',\n",
       "       'Iran', 'Israel', 'Lebanon', 'Iraq', 'Oman', 'Afghanistan',\n",
       "       'Bahrain', 'Kuwait', 'Austria', 'Algeria', 'Croatia',\n",
       "       'Switzerland', 'Pakistan', 'Georgia', 'Greece', 'North Macedonia',\n",
       "       'Norway', 'Romania', 'Denmark', 'Estonia', 'Netherlands',\n",
       "       'San Marino', ' Azerbaijan', 'Belarus', 'Iceland', 'Lithuania',\n",
       "       'New Zealand', 'Nigeria', 'North Ireland', 'Ireland', 'Luxembourg',\n",
       "       'Monaco', 'Qatar', 'Ecuador', 'Azerbaijan', 'Czech Republic',\n",
       "       'Armenia', 'Dominican Republic', 'Indonesia', 'Portugal',\n",
       "       'Andorra', 'Latvia', 'Morocco', 'Saudi Arabia', 'Senegal',\n",
       "       'Argentina', 'Chile', 'Jordan', 'Ukraine', 'Saint Barthelemy',\n",
       "       'Hungary', 'Faroe Islands', 'Gibraltar', 'Liechtenstein', 'Poland',\n",
       "       'Tunisia', 'Palestine', 'Bosnia and Herzegovina', 'Slovenia',\n",
       "       'South Africa', 'Bhutan', 'Cameroon', 'Costa Rica', 'Peru',\n",
       "       'Serbia', 'Slovakia', 'Togo', 'Vatican City', 'French Guiana',\n",
       "       'Malta', 'Martinique', 'Republic of Ireland', 'Bulgaria',\n",
       "       'Maldives', 'Bangladesh', 'Moldova', 'Paraguay', 'Albania',\n",
       "       'Cyprus', 'St. Martin', 'Brunei', 'occupied Palestinian territory',\n",
       "       \"('St. Martin',)\", 'Burkina Faso', 'Channel Islands', 'Holy See',\n",
       "       'Mongolia', 'Panama', 'Bolivia', 'Honduras', 'Congo (Kinshasa)',\n",
       "       'Jamaica', 'Reunion', 'Turkey', 'Cuba', 'Guyana', 'Kazakhstan',\n",
       "       'Cayman Islands', 'Guadeloupe', 'Ethiopia', 'Sudan', 'Guinea',\n",
       "       'Antigua and Barbuda', 'Aruba', 'Kenya', 'Uruguay', 'Ghana',\n",
       "       'Jersey', 'Namibia', 'Seychelles', 'Trinidad and Tobago',\n",
       "       'Venezuela', 'Curacao', 'Eswatini', 'Gabon', 'Guatemala',\n",
       "       'Guernsey', 'Mauritania', 'Rwanda', 'Saint Lucia',\n",
       "       'Saint Vincent and the Grenadines', 'Suriname', 'Kosovo',\n",
       "       'Central African Republic', 'Congo (Brazzaville)',\n",
       "       'Equatorial Guinea', 'Uzbekistan', 'Guam', 'Puerto Rico', 'Benin',\n",
       "       'Greenland', 'Liberia', 'Mayotte', 'Republic of the Congo',\n",
       "       'Somalia', 'Tanzania', 'The Bahamas', 'Barbados', 'Montenegro',\n",
       "       'The Gambia', 'Kyrgyzstan', 'Mauritius', 'Zambia', 'Djibouti',\n",
       "       'Gambia, The', 'Bahamas, The', 'Chad', 'El Salvador', 'Fiji',\n",
       "       'Nicaragua', 'Madagascar', 'Haiti', 'Angola', 'Cabo Verde',\n",
       "       'Niger', 'Papua New Guinea', 'Zimbabwe', 'Cape Verde',\n",
       "       'East Timor', 'Eritrea', 'Uganda', 'Bahamas', 'Dominica', 'Gambia',\n",
       "       'Grenada', 'Mozambique', 'Samoa', 'Syria', 'Timor-Leste', 'Belize',\n",
       "       'Laos', 'Libya', 'Diamond Princess', 'Guinea-Bissau', 'Mali',\n",
       "       'Saint Kitts and Nevis', 'West Bank and Gaza', 'Burma',\n",
       "       'MS Zaandam', 'Botswana', 'Burundi', 'Sierra Leone', 'Malawi',\n",
       "       'South Sudan', 'Sao Tome and Principe', 'Yemen', 'Comoros',\n",
       "       'Tajikistan', 'Lesotho', 'Solomon Islands', 'Marshall Islands',\n",
       "       'Vanuatu', 'Micronesia'], dtype=object)"
      ]
     },
     "execution_count": 32,
     "metadata": {},
     "output_type": "execute_result"
    }
   ],
   "source": [
    "cases[\"Country/Region\"].unique()"
   ]
  },
  {
   "cell_type": "code",
   "execution_count": 33,
   "metadata": {},
   "outputs": [
    {
     "data": {
      "text/html": [
       "<div>\n",
       "<style scoped>\n",
       "    .dataframe tbody tr th:only-of-type {\n",
       "        vertical-align: middle;\n",
       "    }\n",
       "\n",
       "    .dataframe tbody tr th {\n",
       "        vertical-align: top;\n",
       "    }\n",
       "\n",
       "    .dataframe thead th {\n",
       "        text-align: right;\n",
       "    }\n",
       "</style>\n",
       "<table border=\"1\" class=\"dataframe\">\n",
       "  <thead>\n",
       "    <tr style=\"text-align: right;\">\n",
       "      <th></th>\n",
       "      <th>SNo</th>\n",
       "      <th>ObservationDate</th>\n",
       "      <th>Province/State</th>\n",
       "      <th>Country/Region</th>\n",
       "      <th>Last Update</th>\n",
       "      <th>Confirmed</th>\n",
       "      <th>Deaths</th>\n",
       "      <th>Recovered</th>\n",
       "    </tr>\n",
       "  </thead>\n",
       "  <tbody>\n",
       "    <tr>\n",
       "      <th>78</th>\n",
       "      <td>79</td>\n",
       "      <td>01/23/2020</td>\n",
       "      <td>NaN</td>\n",
       "      <td>Malaysia</td>\n",
       "      <td>1/23/20 17:00</td>\n",
       "      <td>0.0</td>\n",
       "      <td>0.0</td>\n",
       "      <td>0.0</td>\n",
       "    </tr>\n",
       "    <tr>\n",
       "      <th>168</th>\n",
       "      <td>169</td>\n",
       "      <td>01/25/2020</td>\n",
       "      <td>NaN</td>\n",
       "      <td>Malaysia</td>\n",
       "      <td>1/25/20 17:00</td>\n",
       "      <td>3.0</td>\n",
       "      <td>0.0</td>\n",
       "      <td>0.0</td>\n",
       "    </tr>\n",
       "    <tr>\n",
       "      <th>214</th>\n",
       "      <td>215</td>\n",
       "      <td>01/26/2020</td>\n",
       "      <td>NaN</td>\n",
       "      <td>Malaysia</td>\n",
       "      <td>1/26/20 16:00</td>\n",
       "      <td>4.0</td>\n",
       "      <td>0.0</td>\n",
       "      <td>0.0</td>\n",
       "    </tr>\n",
       "    <tr>\n",
       "      <th>260</th>\n",
       "      <td>261</td>\n",
       "      <td>01/27/2020</td>\n",
       "      <td>NaN</td>\n",
       "      <td>Malaysia</td>\n",
       "      <td>1/27/20 23:59</td>\n",
       "      <td>4.0</td>\n",
       "      <td>0.0</td>\n",
       "      <td>0.0</td>\n",
       "    </tr>\n",
       "    <tr>\n",
       "      <th>311</th>\n",
       "      <td>312</td>\n",
       "      <td>01/28/2020</td>\n",
       "      <td>NaN</td>\n",
       "      <td>Malaysia</td>\n",
       "      <td>1/28/20 23:00</td>\n",
       "      <td>4.0</td>\n",
       "      <td>0.0</td>\n",
       "      <td>0.0</td>\n",
       "    </tr>\n",
       "  </tbody>\n",
       "</table>\n",
       "</div>"
      ],
      "text/plain": [
       "     SNo ObservationDate Province/State Country/Region    Last Update  \\\n",
       "78    79      01/23/2020            NaN       Malaysia  1/23/20 17:00   \n",
       "168  169      01/25/2020            NaN       Malaysia  1/25/20 17:00   \n",
       "214  215      01/26/2020            NaN       Malaysia  1/26/20 16:00   \n",
       "260  261      01/27/2020            NaN       Malaysia  1/27/20 23:59   \n",
       "311  312      01/28/2020            NaN       Malaysia  1/28/20 23:00   \n",
       "\n",
       "     Confirmed  Deaths  Recovered  \n",
       "78         0.0     0.0        0.0  \n",
       "168        3.0     0.0        0.0  \n",
       "214        4.0     0.0        0.0  \n",
       "260        4.0     0.0        0.0  \n",
       "311        4.0     0.0        0.0  "
      ]
     },
     "execution_count": 33,
     "metadata": {},
     "output_type": "execute_result"
    }
   ],
   "source": [
    "### BEGIN SOLUTION\n",
    "new_covid_data = cases.loc[cases[\"Country/Region\"] == 'Malaysia']\n",
    "new_covid_data.head()\n",
    "### END SOLUTION"
   ]
  },
  {
   "cell_type": "markdown",
   "metadata": {},
   "source": [
    "We need to make sure there is no missing value in our data\n",
    ">**Instruction** : <br>\n",
    "Use `df.isnull().values.any()` to check any missing data in our dataset. `True` is meant there is `NaN` in our dataset<br>\n",
    "Most of the column does not contain `NaN` except for `Province/State ` . This is acceptable since this data does not useful to us and we will drop it later.\n",
    "\n",
    ">**Expected Result** :<br>\n",
    "\n",
    "Columns|Status\n",
    "---|---\n",
    "SNo                |False\n",
    "ObservationDate    |False\n",
    "Province/State      |True\n",
    "Country/Region     |False\n",
    "Last Update        |False\n",
    "Confirmed          |False\n",
    "Deaths             |False\n",
    "Recovered          |False\n"
   ]
  },
  {
   "cell_type": "code",
   "execution_count": 34,
   "metadata": {},
   "outputs": [
    {
     "data": {
      "text/plain": [
       "SNo                False\n",
       "ObservationDate    False\n",
       "Province/State      True\n",
       "Country/Region     False\n",
       "Last Update        False\n",
       "Confirmed          False\n",
       "Deaths             False\n",
       "Recovered          False\n",
       "dtype: bool"
      ]
     },
     "execution_count": 34,
     "metadata": {},
     "output_type": "execute_result"
    }
   ],
   "source": [
    "### BEGIN SOLUTION\n",
    "new_covid_data.isnull().any()\n",
    "### END SOLUTION"
   ]
  },
  {
   "cell_type": "markdown",
   "metadata": {},
   "source": [
    ">**Instruction** : <br>\n",
    "Set the `ObservationDate` as the index for the dataset.You are required to convert `ObservationDate` to datetime using `pd.to_datetime()` <br>\n",
    "\n",
    ">**Expected Result** :<br>\n",
    "Example of first 5 row data :\n",
    "\n",
    "ObservationDate\t|SNo\t|ObservationDate\t|Province/State\t|Country/Region\t|Last Update\t|Confirmed\t|Deaths\t|Recovered\n",
    " ---|---\t|---\t            |---\t        |---\t        |---\t        |---\t    |---\t|---\n",
    "01/23/2020\t|79\t    |01/23/2020\t|NaN\t|Malaysia\t|1/23/20 |17:00\t|0.0\t|0.0\t|0.0\n",
    "01/25/2020\t|169\t|01/25/2020\t|NaN\t|Malaysia\t|1/25/20 |17:00\t|3.0\t|0.0\t|0.0\n",
    "01/26/2020\t|215\t|01/26/2020\t|NaN\t|Malaysia\t|1/26/20 |16:00\t|4.0\t|0.0\t|0.0\n",
    "01/27/2020\t|261\t|01/27/2020\t|NaN\t|Malaysia\t|1/27/20 |23:59\t|4.0\t|0.0\t|0.0\n",
    "01/28/2020\t|312\t|01/28/2020\t|NaN\t|Malaysia\t|1/28/20 |23:00\t|4.0\t|0.0\t|0.0"
   ]
  },
  {
   "cell_type": "code",
   "execution_count": 35,
   "metadata": {},
   "outputs": [
    {
     "data": {
      "text/html": [
       "<div>\n",
       "<style scoped>\n",
       "    .dataframe tbody tr th:only-of-type {\n",
       "        vertical-align: middle;\n",
       "    }\n",
       "\n",
       "    .dataframe tbody tr th {\n",
       "        vertical-align: top;\n",
       "    }\n",
       "\n",
       "    .dataframe thead th {\n",
       "        text-align: right;\n",
       "    }\n",
       "</style>\n",
       "<table border=\"1\" class=\"dataframe\">\n",
       "  <thead>\n",
       "    <tr style=\"text-align: right;\">\n",
       "      <th></th>\n",
       "      <th>SNo</th>\n",
       "      <th>ObservationDate</th>\n",
       "      <th>Province/State</th>\n",
       "      <th>Country/Region</th>\n",
       "      <th>Last Update</th>\n",
       "      <th>Confirmed</th>\n",
       "      <th>Deaths</th>\n",
       "      <th>Recovered</th>\n",
       "    </tr>\n",
       "    <tr>\n",
       "      <th>ObservationDate</th>\n",
       "      <th></th>\n",
       "      <th></th>\n",
       "      <th></th>\n",
       "      <th></th>\n",
       "      <th></th>\n",
       "      <th></th>\n",
       "      <th></th>\n",
       "      <th></th>\n",
       "    </tr>\n",
       "  </thead>\n",
       "  <tbody>\n",
       "    <tr>\n",
       "      <th>2020-01-23</th>\n",
       "      <td>79</td>\n",
       "      <td>01/23/2020</td>\n",
       "      <td>NaN</td>\n",
       "      <td>Malaysia</td>\n",
       "      <td>1/23/20 17:00</td>\n",
       "      <td>0.0</td>\n",
       "      <td>0.0</td>\n",
       "      <td>0.0</td>\n",
       "    </tr>\n",
       "    <tr>\n",
       "      <th>2020-01-25</th>\n",
       "      <td>169</td>\n",
       "      <td>01/25/2020</td>\n",
       "      <td>NaN</td>\n",
       "      <td>Malaysia</td>\n",
       "      <td>1/25/20 17:00</td>\n",
       "      <td>3.0</td>\n",
       "      <td>0.0</td>\n",
       "      <td>0.0</td>\n",
       "    </tr>\n",
       "    <tr>\n",
       "      <th>2020-01-26</th>\n",
       "      <td>215</td>\n",
       "      <td>01/26/2020</td>\n",
       "      <td>NaN</td>\n",
       "      <td>Malaysia</td>\n",
       "      <td>1/26/20 16:00</td>\n",
       "      <td>4.0</td>\n",
       "      <td>0.0</td>\n",
       "      <td>0.0</td>\n",
       "    </tr>\n",
       "    <tr>\n",
       "      <th>2020-01-27</th>\n",
       "      <td>261</td>\n",
       "      <td>01/27/2020</td>\n",
       "      <td>NaN</td>\n",
       "      <td>Malaysia</td>\n",
       "      <td>1/27/20 23:59</td>\n",
       "      <td>4.0</td>\n",
       "      <td>0.0</td>\n",
       "      <td>0.0</td>\n",
       "    </tr>\n",
       "    <tr>\n",
       "      <th>2020-01-28</th>\n",
       "      <td>312</td>\n",
       "      <td>01/28/2020</td>\n",
       "      <td>NaN</td>\n",
       "      <td>Malaysia</td>\n",
       "      <td>1/28/20 23:00</td>\n",
       "      <td>4.0</td>\n",
       "      <td>0.0</td>\n",
       "      <td>0.0</td>\n",
       "    </tr>\n",
       "  </tbody>\n",
       "</table>\n",
       "</div>"
      ],
      "text/plain": [
       "                 SNo ObservationDate Province/State Country/Region  \\\n",
       "ObservationDate                                                      \n",
       "2020-01-23        79      01/23/2020            NaN       Malaysia   \n",
       "2020-01-25       169      01/25/2020            NaN       Malaysia   \n",
       "2020-01-26       215      01/26/2020            NaN       Malaysia   \n",
       "2020-01-27       261      01/27/2020            NaN       Malaysia   \n",
       "2020-01-28       312      01/28/2020            NaN       Malaysia   \n",
       "\n",
       "                   Last Update  Confirmed  Deaths  Recovered  \n",
       "ObservationDate                                               \n",
       "2020-01-23       1/23/20 17:00        0.0     0.0        0.0  \n",
       "2020-01-25       1/25/20 17:00        3.0     0.0        0.0  \n",
       "2020-01-26       1/26/20 16:00        4.0     0.0        0.0  \n",
       "2020-01-27       1/27/20 23:59        4.0     0.0        0.0  \n",
       "2020-01-28       1/28/20 23:00        4.0     0.0        0.0  "
      ]
     },
     "execution_count": 35,
     "metadata": {},
     "output_type": "execute_result"
    }
   ],
   "source": [
    "### BEGIN SOLUTION\n",
    "new_covid_data = new_covid_data.set_index(pd.to_datetime(new_covid_data[\"ObservationDate\"]))\n",
    "### END SOLUTION\n",
    "\n",
    "new_covid_data.head()"
   ]
  },
  {
   "cell_type": "markdown",
   "metadata": {},
   "source": [
    "Columns such as `SNo`,`ObservationDate`,`Province/State`,`Country/Region`,`Last Update` does not provide any useful information to us . Hence we need to drop it to make the data looks cleaner. \n",
    "\n",
    ">**Instruction** : <br>\n",
    "Use `df.drop` to drop the `columns = ['SNo','ObservationDate','Province/State','Country/Region','Last Update']`<br>\n",
    "\n",
    ">**Expected Result** :<br>\n",
    "\n",
    "ObservationDate\t|Confirmed\t|Deaths\t|Recovered\n",
    "\t---|---|---|---\t\t\n",
    "2020-01-23|\t0.0|\t0.0|\t0.0\n",
    "2020-01-25|\t3.0|\t0.0|\t0.0\n",
    "2020-01-26|\t4.0|\t0.0|\t0.0\n",
    "2020-01-27|\t4.0|\t0.0|\t0.0\n",
    "2020-01-28|\t4.0|    0.0|\t0.0"
   ]
  },
  {
   "cell_type": "code",
   "execution_count": 36,
   "metadata": {},
   "outputs": [
    {
     "data": {
      "text/html": [
       "<div>\n",
       "<style scoped>\n",
       "    .dataframe tbody tr th:only-of-type {\n",
       "        vertical-align: middle;\n",
       "    }\n",
       "\n",
       "    .dataframe tbody tr th {\n",
       "        vertical-align: top;\n",
       "    }\n",
       "\n",
       "    .dataframe thead th {\n",
       "        text-align: right;\n",
       "    }\n",
       "</style>\n",
       "<table border=\"1\" class=\"dataframe\">\n",
       "  <thead>\n",
       "    <tr style=\"text-align: right;\">\n",
       "      <th></th>\n",
       "      <th>Confirmed</th>\n",
       "      <th>Deaths</th>\n",
       "      <th>Recovered</th>\n",
       "    </tr>\n",
       "    <tr>\n",
       "      <th>ObservationDate</th>\n",
       "      <th></th>\n",
       "      <th></th>\n",
       "      <th></th>\n",
       "    </tr>\n",
       "  </thead>\n",
       "  <tbody>\n",
       "    <tr>\n",
       "      <th>2020-01-23</th>\n",
       "      <td>0.0</td>\n",
       "      <td>0.0</td>\n",
       "      <td>0.0</td>\n",
       "    </tr>\n",
       "    <tr>\n",
       "      <th>2020-01-25</th>\n",
       "      <td>3.0</td>\n",
       "      <td>0.0</td>\n",
       "      <td>0.0</td>\n",
       "    </tr>\n",
       "    <tr>\n",
       "      <th>2020-01-26</th>\n",
       "      <td>4.0</td>\n",
       "      <td>0.0</td>\n",
       "      <td>0.0</td>\n",
       "    </tr>\n",
       "    <tr>\n",
       "      <th>2020-01-27</th>\n",
       "      <td>4.0</td>\n",
       "      <td>0.0</td>\n",
       "      <td>0.0</td>\n",
       "    </tr>\n",
       "    <tr>\n",
       "      <th>2020-01-28</th>\n",
       "      <td>4.0</td>\n",
       "      <td>0.0</td>\n",
       "      <td>0.0</td>\n",
       "    </tr>\n",
       "  </tbody>\n",
       "</table>\n",
       "</div>"
      ],
      "text/plain": [
       "                 Confirmed  Deaths  Recovered\n",
       "ObservationDate                              \n",
       "2020-01-23             0.0     0.0        0.0\n",
       "2020-01-25             3.0     0.0        0.0\n",
       "2020-01-26             4.0     0.0        0.0\n",
       "2020-01-27             4.0     0.0        0.0\n",
       "2020-01-28             4.0     0.0        0.0"
      ]
     },
     "execution_count": 36,
     "metadata": {},
     "output_type": "execute_result"
    }
   ],
   "source": [
    "### BEGIN SOLUTION\n",
    "new_covid_data = new_covid_data.drop(columns = ['SNo','ObservationDate','Province/State','Country/Region','Last Update'])\n",
    "### END SOLUTION\n",
    "new_covid_data.head()\n"
   ]
  },
  {
   "cell_type": "markdown",
   "metadata": {},
   "source": [
    "To make our window sliding function working. You need to rearrange the data columns such as the targeted forecast series will be the last column of the data\n",
    ">**Instruction** : <br>\n",
    "Rearrage the data column using `df[]`<br>\n",
    "For example : <br>\n",
    "columns = [`A`,`B`,`C`]<br>\n",
    "rearrage columns = [`A`,`C`,`B`]<br>\n",
    "`df =  df[rearrage columns]`\n",
    "\n",
    ">**Expected Result** :<br>\n",
    "\n",
    "ObservationDate|\tConfirmed|\tRecovered|\tDeaths\n",
    "\t\t---|---|---|---\t\n",
    "2020-01-23|\t0.0|\t0.0|\t0.0\n",
    "2020-01-25|\t3.0|\t0.0|\t0.0\n",
    "2020-01-26|\t4.0|\t0.0|\t0.0\n",
    "2020-01-27|\t4.0|\t0.0|\t0.0\n",
    "2020-01-28|\t4.0|\t0.0|\t0.0"
   ]
  },
  {
   "cell_type": "code",
   "execution_count": 37,
   "metadata": {},
   "outputs": [
    {
     "data": {
      "text/html": [
       "<div>\n",
       "<style scoped>\n",
       "    .dataframe tbody tr th:only-of-type {\n",
       "        vertical-align: middle;\n",
       "    }\n",
       "\n",
       "    .dataframe tbody tr th {\n",
       "        vertical-align: top;\n",
       "    }\n",
       "\n",
       "    .dataframe thead th {\n",
       "        text-align: right;\n",
       "    }\n",
       "</style>\n",
       "<table border=\"1\" class=\"dataframe\">\n",
       "  <thead>\n",
       "    <tr style=\"text-align: right;\">\n",
       "      <th></th>\n",
       "      <th>Confirmed</th>\n",
       "      <th>Recovered</th>\n",
       "      <th>Deaths</th>\n",
       "    </tr>\n",
       "    <tr>\n",
       "      <th>ObservationDate</th>\n",
       "      <th></th>\n",
       "      <th></th>\n",
       "      <th></th>\n",
       "    </tr>\n",
       "  </thead>\n",
       "  <tbody>\n",
       "    <tr>\n",
       "      <th>2020-01-23</th>\n",
       "      <td>0.0</td>\n",
       "      <td>0.0</td>\n",
       "      <td>0.0</td>\n",
       "    </tr>\n",
       "    <tr>\n",
       "      <th>2020-01-25</th>\n",
       "      <td>3.0</td>\n",
       "      <td>0.0</td>\n",
       "      <td>0.0</td>\n",
       "    </tr>\n",
       "    <tr>\n",
       "      <th>2020-01-26</th>\n",
       "      <td>4.0</td>\n",
       "      <td>0.0</td>\n",
       "      <td>0.0</td>\n",
       "    </tr>\n",
       "    <tr>\n",
       "      <th>2020-01-27</th>\n",
       "      <td>4.0</td>\n",
       "      <td>0.0</td>\n",
       "      <td>0.0</td>\n",
       "    </tr>\n",
       "    <tr>\n",
       "      <th>2020-01-28</th>\n",
       "      <td>4.0</td>\n",
       "      <td>0.0</td>\n",
       "      <td>0.0</td>\n",
       "    </tr>\n",
       "  </tbody>\n",
       "</table>\n",
       "</div>"
      ],
      "text/plain": [
       "                 Confirmed  Recovered  Deaths\n",
       "ObservationDate                              \n",
       "2020-01-23             0.0        0.0     0.0\n",
       "2020-01-25             3.0        0.0     0.0\n",
       "2020-01-26             4.0        0.0     0.0\n",
       "2020-01-27             4.0        0.0     0.0\n",
       "2020-01-28             4.0        0.0     0.0"
      ]
     },
     "execution_count": 37,
     "metadata": {},
     "output_type": "execute_result"
    }
   ],
   "source": [
    "### BEGIN SOLUTION\n",
    "new_covid_data = new_covid_data[[\"Confirmed\",\"Recovered\",\"Deaths\"]]\n",
    "### END SOLUTION\n",
    "new_covid_data.head()"
   ]
  },
  {
   "cell_type": "markdown",
   "metadata": {},
   "source": [
    "## Data Visualization\n",
    "Data visualization is import for us to visualize the pattern of data such as trend and seasonality. As the graph below, it is shown that there is an increasing trend in data."
   ]
  },
  {
   "cell_type": "code",
   "execution_count": 38,
   "metadata": {},
   "outputs": [
    {
     "data": {
      "image/png": "[encoded data removed]",
      "text/plain": [
       "<Figure size 792x648 with 3 Axes>"
      ]
     },
     "metadata": {
      "needs_background": "light"
     },
     "output_type": "display_data"
    }
   ],
   "source": [
    "# Visualize Data \n",
    "axes = new_covid_data[new_covid_data.columns].plot(alpha=1.0, linestyle='-', figsize=(11, 9), subplots=True)\n",
    "for ax in axes:\n",
    "    ax.set_ylabel('COVID-19-Malaysia')"
   ]
  },
  {
   "cell_type": "markdown",
   "metadata": {},
   "source": [
    "However, the data is in cumulative form. To perform time-series prediction, we need to convert the cumulative cases into daily cases.\n",
    "\n",
    ">**Instruction** : <br>\n",
    "Remove the cummulative. You might need to use a `For loop` to loop through the data for each columns .Use `new_covid_data[name] - new_covid_data[name].shift().fillna(0)` as the math operation to remove the cummulative<br>\n",
    "\n",
    ">**Expected Result** :<br>\n",
    "\n",
    "ObservationDate|\tConfirmed|\tRecovered|\tDeaths|\n",
    "\t---|\t---|---|---\t\n",
    "2020-01-23|\t0.0|\t0.0|\t0.0|\n",
    "2020-01-25|\t3.0|\t0.0|\t0.0|\n",
    "2020-01-26|\t1.0|\t0.0|\t0.0|\n",
    "2020-01-27|\t0.0|\t0.0|\t0.0|\n",
    "2020-01-28|\t0.0|\t0.0|\t0.0|"
   ]
  },
  {
   "cell_type": "code",
   "execution_count": 39,
   "metadata": {},
   "outputs": [
    {
     "data": {
      "text/html": [
       "<div>\n",
       "<style scoped>\n",
       "    .dataframe tbody tr th:only-of-type {\n",
       "        vertical-align: middle;\n",
       "    }\n",
       "\n",
       "    .dataframe tbody tr th {\n",
       "        vertical-align: top;\n",
       "    }\n",
       "\n",
       "    .dataframe thead th {\n",
       "        text-align: right;\n",
       "    }\n",
       "</style>\n",
       "<table border=\"1\" class=\"dataframe\">\n",
       "  <thead>\n",
       "    <tr style=\"text-align: right;\">\n",
       "      <th></th>\n",
       "      <th>Confirmed</th>\n",
       "      <th>Recovered</th>\n",
       "      <th>Deaths</th>\n",
       "    </tr>\n",
       "    <tr>\n",
       "      <th>ObservationDate</th>\n",
       "      <th></th>\n",
       "      <th></th>\n",
       "      <th></th>\n",
       "    </tr>\n",
       "  </thead>\n",
       "  <tbody>\n",
       "    <tr>\n",
       "      <th>2020-01-23</th>\n",
       "      <td>0.0</td>\n",
       "      <td>0.0</td>\n",
       "      <td>0.0</td>\n",
       "    </tr>\n",
       "    <tr>\n",
       "      <th>2020-01-25</th>\n",
       "      <td>3.0</td>\n",
       "      <td>0.0</td>\n",
       "      <td>0.0</td>\n",
       "    </tr>\n",
       "    <tr>\n",
       "      <th>2020-01-26</th>\n",
       "      <td>1.0</td>\n",
       "      <td>0.0</td>\n",
       "      <td>0.0</td>\n",
       "    </tr>\n",
       "    <tr>\n",
       "      <th>2020-01-27</th>\n",
       "      <td>0.0</td>\n",
       "      <td>0.0</td>\n",
       "      <td>0.0</td>\n",
       "    </tr>\n",
       "    <tr>\n",
       "      <th>2020-01-28</th>\n",
       "      <td>0.0</td>\n",
       "      <td>0.0</td>\n",
       "      <td>0.0</td>\n",
       "    </tr>\n",
       "  </tbody>\n",
       "</table>\n",
       "</div>"
      ],
      "text/plain": [
       "                 Confirmed  Recovered  Deaths\n",
       "ObservationDate                              \n",
       "2020-01-23             0.0        0.0     0.0\n",
       "2020-01-25             3.0        0.0     0.0\n",
       "2020-01-26             1.0        0.0     0.0\n",
       "2020-01-27             0.0        0.0     0.0\n",
       "2020-01-28             0.0        0.0     0.0"
      ]
     },
     "execution_count": 39,
     "metadata": {},
     "output_type": "execute_result"
    }
   ],
   "source": [
    "### BEGIN SOLUTION\n",
    "for name in new_covid_data.columns:\n",
    "        new_covid_data[name] = new_covid_data[name] - new_covid_data[name].shift().fillna(0)\n",
    "### END SOLUTION\n",
    "new_covid_data.head()"
   ]
  },
  {
   "cell_type": "code",
   "execution_count": 40,
   "metadata": {},
   "outputs": [
    {
     "data": {
      "image/png": "[encoded data removed]",
      "text/plain": [
       "<Figure size 792x648 with 3 Axes>"
      ]
     },
     "metadata": {
      "needs_background": "light"
     },
     "output_type": "display_data"
    }
   ],
   "source": [
    "# Visualize Data \n",
    "axes = new_covid_data[new_covid_data.columns].plot(alpha=1.0, linestyle='-', figsize=(11, 9), subplots=True)\n",
    "for ax in axes:\n",
    "    ax.set_ylabel('COVID-19-Malaysia')"
   ]
  },
  {
   "cell_type": "markdown",
   "metadata": {},
   "source": [
    "## Data Splitting\n",
    "In Deep Learning, we will split the data into training and test dataset. The training data is used to train the model where the test data is used to validate the performance of the model."
   ]
  },
  {
   "cell_type": "code",
   "execution_count": 41,
   "metadata": {},
   "outputs": [
    {
     "data": {
      "text/plain": [
       "21"
      ]
     },
     "execution_count": 41,
     "metadata": {},
     "output_type": "execute_result"
    }
   ],
   "source": [
    "split_data_covid = round(len(dataset)*split_ratio)\n",
    "split_data_covid"
   ]
  },
  {
   "cell_type": "code",
   "execution_count": 42,
   "metadata": {},
   "outputs": [
    {
     "name": "stdout",
     "output_type": "stream",
     "text": [
      "train_data_shape\n",
      "(380, 3)\n",
      "test_data_shape\n",
      "(21, 3)\n"
     ]
    }
   ],
   "source": [
    "# Split data by indexing \n",
    "train_data_covid = new_covid_data[:-split_data_covid ]\n",
    "test_data_covid = new_covid_data[-split_data_covid :]\n",
    "train_time_covid = new_covid_data.index[:-split_data_covid ]\n",
    "test_time_covid = new_covid_data.index[-split_data_covid :]\n",
    "\n",
    "print(\"train_data_shape\")\n",
    "print(train_data_covid.shape)\n",
    "print(\"test_data_shape\")\n",
    "print(test_data_covid.shape)"
   ]
  },
  {
   "cell_type": "markdown",
   "metadata": {},
   "source": [
    "## Data Normalization \n",
    "Normalize the data into range of 0 to 1"
   ]
  },
  {
   "cell_type": "code",
   "execution_count": 43,
   "metadata": {},
   "outputs": [
    {
     "name": "stdout",
     "output_type": "stream",
     "text": [
      "train_data_normalized_demand(1140, 1)\n",
      "test_data_normalized_demand(63, 1)\n"
     ]
    }
   ],
   "source": [
    "scaler_covid = MinMaxScaler().fit(train_data_covid.values.reshape(-1,1))\n",
    "train_data_normalized_covid  = scaler_covid.transform(train_data_covid.values.reshape(-1, 1))\n",
    "test_data_normalized_covid = scaler_covid.transform(test_data_covid.values.reshape(-1, 1))\n",
    "print(\"train_data_normalized_demand\"+str(train_data_normalized_covid.shape))\n",
    "print(\"test_data_normalized_demand\"+str(test_data_normalized_covid.shape))"
   ]
  },
  {
   "cell_type": "markdown",
   "metadata": {},
   "source": [
    "Transform back to original data shape cause the MinMaxScaler from sklearn library only can work in 1D dimension"
   ]
  },
  {
   "cell_type": "code",
   "execution_count": 44,
   "metadata": {},
   "outputs": [
    {
     "name": "stdout",
     "output_type": "stream",
     "text": [
      "test_data_normalized(380, 3)\n",
      "test_data_normalized(21, 3)\n"
     ]
    }
   ],
   "source": [
    "# Transform after scaling \n",
    "train_data_normalized_covid = train_data_normalized_covid.reshape(train_data_covid.shape[0],train_data_covid.shape[1])\n",
    "print(\"test_data_normalized\"+str(train_data_normalized_covid.shape))\n",
    "\n",
    "test_data_normalized_covid = test_data_normalized_covid.reshape(test_data_covid.shape[0],test_data_covid.shape[1])\n",
    "print(\"test_data_normalized\"+str(test_data_normalized_covid.shape))"
   ]
  },
  {
   "cell_type": "markdown",
   "metadata": {},
   "source": [
    "## Data Sequencing\n",
    "Sequencing the data by taking in the multivariate series into x-feature and y-label\n",
    "<img src = \"../../picture/multivariate univariate.png\"  width=\"300\" height  =\"300\" align=\"center\" />"
   ]
  },
  {
   "cell_type": "code",
   "execution_count": 45,
   "metadata": {},
   "outputs": [
    {
     "name": "stdout",
     "output_type": "stream",
     "text": [
      "trainX_demand shape:(374, 5, 2) trainY_demand shape:(374, 3)\n",
      "\n",
      "testX_demand shape:(15, 5, 2) testY_demand shape:(15, 3)\n"
     ]
    }
   ],
   "source": [
    "trainX_covid ,trainY_covid=  data_module.multivariate_univariate_multi_step(train_data_normalized_covid,window_size_covid,n_step_covid)\n",
    "testX_covid , testY_covid = data_module.multivariate_univariate_multi_step(test_data_normalized_covid,window_size_covid,n_step_covid)\n",
    "print(f\"trainX_demand shape:{trainX_covid.shape} trainY_demand shape:{trainY_covid.shape}\\n\")\n",
    "print(f\"testX_demand shape:{testX_covid.shape} testY_demand shape:{testY_covid.shape}\")"
   ]
  },
  {
   "cell_type": "code",
   "execution_count": 46,
   "metadata": {},
   "outputs": [
    {
     "name": "stdout",
     "output_type": "stream",
     "text": [
      "trainY shape:(374, 3, 1)\n",
      "testY shape:(15, 3, 1)\n"
     ]
    }
   ],
   "source": [
    "trainY_covid = trainY_covid.reshape(trainY_covid.shape[0],n_step_covid,1)\n",
    "testY_covid= testY_covid.reshape(testY_covid.shape[0],n_step_covid,1)\n",
    "print(f\"trainY shape:{trainY_covid.shape}\")\n",
    "print(f\"testY shape:{testY_covid.shape}\")"
   ]
  },
  {
   "cell_type": "markdown",
   "metadata": {},
   "source": [
    "### Data Transform\n",
    "Data need to transform from numpy to pytorch tensor before feed into the model and perform 3D Data Transformation for LSTM model. \n",
    "\n",
    ">**Instruction** : <br>\n",
    "Use `data_module.key_assign` to assign the key and `data_module.transform` to transform the data."
   ]
  },
  {
   "cell_type": "code",
   "execution_count": 47,
   "metadata": {},
   "outputs": [],
   "source": [
    "### BEGIN SOLUTION\n",
    "train_data_dict_covid ,test_data_dict_covid = data_module.key_assign(trainingX = trainX_covid  , \n",
    "                       testingX = testX_covid, \n",
    "                       trainingY = trainY_covid, \n",
    "                       testingY = testY_covid)\n",
    "train_data_dict_covid ,test_data_dict_covid = data_module.transform(train_data_dict_covid ,test_data_dict_covid)\n",
    "### END SOLUTION"
   ]
  },
  {
   "cell_type": "code",
   "execution_count": 48,
   "metadata": {},
   "outputs": [
    {
     "name": "stdout",
     "output_type": "stream",
     "text": [
      "train_data_x_feature shape : torch.Size([374, 5, 2])\n",
      "train_data_y_label shape : torch.Size([374, 3, 1])\n",
      "test_data_x_feature shape : torch.Size([15, 5, 2])\n",
      "test_data_y_label shape : torch.Size([15, 3, 1])\n"
     ]
    }
   ],
   "source": [
    "data_module.sanity_check(train_data_dict_covid , test_data_dict_covid)"
   ]
  },
  {
   "cell_type": "markdown",
   "metadata": {},
   "source": [
    "## Data Iterator\n",
    "Iterator is created to allow the data separate into several batches to fasten the training process\n",
    ">**Instruction** : <br>\n",
    "Use `data_module.iterator` to create data iterator."
   ]
  },
  {
   "cell_type": "code",
   "execution_count": 49,
   "metadata": {},
   "outputs": [],
   "source": [
    "### BEGIN SOLUTION\n",
    "train_iter_covid , test_iter_covid = data_module.iterator(train_data_dict_covid ,\n",
    "                                                          test_data_dict_covid,\n",
    "                                                          batch_size = batch_size_covid)\n",
    "### END SOLUTION"
   ]
  },
  {
   "cell_type": "markdown",
   "metadata": {},
   "source": [
    "## Input Model\n",
    "The model is input by feed in the require attributes such as number of input layer, output layer and hidden layer.\n",
    "\n",
    "How to Use :\n",
    "\n",
    "1. Select one of the model base on the application as below and comment others model\n",
    "2. IF use Vanila LSTM , set num_layer = 1 and use the model = LSTM()\n",
    "3. IF use stacked LSTM , set num_layer more than 1 and use the model = LSTM()\n",
    "4. IF use Bidirectional LSTM, use the model = BidirectionalLSTM()\n",
    "\n",
    ">**Instruction** : <br>\n",
    "Import the LSTM model from `deep_learning_module`.You are require to import both Vanila LSTM and Bidirectional LSTM and save it as `model` <br>\n",
    "\n",
    "*Feel free to comment one of the model to use the it*"
   ]
  },
  {
   "cell_type": "code",
   "execution_count": 50,
   "metadata": {},
   "outputs": [],
   "source": [
    "#seed\n",
    "torch.manual_seed(123)\n",
    "### BEGIN SOLUTION\n",
    "#Arguments for LSTM model\n",
    "hidden_dim_covid = 32\n",
    "n_feature_covid = trainX_covid.shape[2] \n",
    "\n",
    "#1 for vanila LSTM , >1 is mean stacked LSTM\n",
    "num_layers_covid = 1\n",
    "\n",
    "\n",
    "#Vanila , Stacked LSTM\n",
    "model_covid = deep_learning_module.LSTM(n_feature = n_feature_covid, \n",
    "                                        hidden_dim = hidden_dim_covid ,\n",
    "                                        num_layers = num_layers_covid , \n",
    "                                        n_step = n_step_covid )\n",
    "\n",
    "#Bidirectional LSTM\n",
    "# model_demand = deep_learning_module.BidirectionalLSTM(n_feature = n_feature_covid, \n",
    "            #                                         hidden_dim = hidden_dim_covid ,\n",
    "            #                                         num_layers = num_layers_covid , \n",
    "            #                                         n_step = n_step_covid)\n",
    "            \n",
    "### END SOLUTION"
   ]
  },
  {
   "cell_type": "code",
   "execution_count": 51,
   "metadata": {},
   "outputs": [],
   "source": [
    "#loss function \n",
    "loss_fn_covid = torch.nn.MSELoss()\n",
    "\n",
    "#optimiser\n",
    "optimizer_covid = torch.optim.Adam(model_covid.parameters(), lr=learning_rate_covid)"
   ]
  },
  {
   "cell_type": "code",
   "execution_count": 52,
   "metadata": {},
   "outputs": [
    {
     "name": "stdout",
     "output_type": "stream",
     "text": [
      "===================================================\n",
      "       Kernel Shape Output Shape  Params  Mult-Adds\n",
      "Layer                                              \n",
      "0_lstm            -   [5, 5, 32]    4608       4352\n",
      "1_fc        [32, 3]       [5, 3]      99         96\n",
      "---------------------------------------------------\n",
      "                      Totals\n",
      "Total params            4707\n",
      "Trainable params        4707\n",
      "Non-trainable params       0\n",
      "Mult-Adds               4448\n",
      "===================================================\n",
      "       Kernel Shape Output Shape  Params  Mult-Adds\n",
      "Layer                                              \n",
      "0_lstm            -   [5, 5, 32]    4608       4352\n",
      "1_fc        [32, 3]       [5, 3]      99         96\n"
     ]
    }
   ],
   "source": [
    "# print the summary of the LSTM model\n",
    "inputs = torch.zeros((batch_size_covid,window_size_covid,trainX_covid.shape[2]),dtype=torch.float) # batch size , seq_length , input_dim\n",
    "print(summary(model_covid,inputs))"
   ]
  },
  {
   "cell_type": "markdown",
   "metadata": {},
   "source": [
    "# Step 3 : Training\n",
    ">**Instruction** : <br>\n",
    "Use `deep_learning_module.training` to train the model."
   ]
  },
  {
   "cell_type": "code",
   "execution_count": 53,
   "metadata": {},
   "outputs": [],
   "source": [
    "#seed\n",
    "torch.manual_seed(123)\n",
    "### BEGIN SOLUTION\n",
    "\n",
    "# Start training \n",
    "train_loss_covid,val_loss_covid = deep_learning_module.training(num_epochs= num_epochs_covid ,\n",
    "                                                    train_iter = train_iter_covid,\n",
    "                                                    test_iter = test_iter_covid ,\n",
    "                                                    optimizer = optimizer_covid,\n",
    "                                                    loss_fn = loss_fn_covid,\n",
    "                                                    model = model_covid)\n",
    "### END SOLUTION"
   ]
  },
  {
   "cell_type": "code",
   "execution_count": 54,
   "metadata": {},
   "outputs": [
    {
     "data": {
      "image/png": "[encoded data removed]",
      "text/plain": [
       "<Figure size 720x432 with 1 Axes>"
      ]
     },
     "metadata": {
      "needs_background": "light"
     },
     "output_type": "display_data"
    },
    {
     "name": "stdout",
     "output_type": "stream",
     "text": [
      "Epoch : 0 , training loss : 0.004879716274853488 , validation loss : 6.155941809993237e-05\n",
      "Epoch : 1 , training loss : 5.7493084306868046e-05 , validation loss : 2.4840242986101657e-05\n",
      "Epoch : 2 , training loss : 5.987358573876998e-06 , validation loss : 3.825653281334477e-05\n",
      "Epoch : 3 , training loss : 1.0399796463705657e-05 , validation loss : 1.3270214670531763e-05\n",
      "Epoch : 4 , training loss : 2.2402392139808243e-06 , validation loss : 2.4610136582244497e-05\n",
      "Epoch : 5 , training loss : 5.887686433821572e-06 , validation loss : 1.2551152394735254e-05\n",
      "Epoch : 6 , training loss : 2.6929145417627987e-06 , validation loss : 1.5419561047262203e-05\n",
      "Epoch : 7 , training loss : 5.28905011859092e-06 , validation loss : 1.8723639489811223e-05\n",
      "Epoch : 8 , training loss : 4.801976644552426e-06 , validation loss : 1.5065689998057982e-05\n",
      "Epoch : 9 , training loss : 6.3101205399602304e-06 , validation loss : 2.0683492039097473e-05\n",
      "Epoch : 10 , training loss : 5.9118061140687e-06 , validation loss : 1.537568944816788e-05\n",
      "Epoch : 11 , training loss : 5.5902517354462725e-06 , validation loss : 1.22301974746127e-05\n",
      "Epoch : 12 , training loss : 3.817196935633712e-06 , validation loss : 9.251257324649487e-06\n",
      "Epoch : 13 , training loss : 2.764940120756367e-06 , validation loss : 4.282343828284259e-06\n",
      "Epoch : 14 , training loss : 1.3876570368498134e-06 , validation loss : 4.334935283623054e-06\n",
      "Epoch : 15 , training loss : 9.650685906956392e-07 , validation loss : 1.5803296946614864e-06\n",
      "Epoch : 16 , training loss : 4.740527746855533e-07 , validation loss : 2.212666989483599e-06\n",
      "Epoch : 17 , training loss : 4.913496995987178e-07 , validation loss : 1.7615506067159004e-06\n",
      "Epoch : 18 , training loss : 5.033224567041235e-07 , validation loss : 1.9046991989550104e-06\n",
      "Epoch : 19 , training loss : 5.770968365053633e-07 , validation loss : 2.1291660914357635e-06\n",
      "Epoch : 20 , training loss : 6.186890918068496e-07 , validation loss : 2.114222221886545e-06\n",
      "Epoch : 21 , training loss : 6.029198615575648e-07 , validation loss : 2.210293359894422e-06\n",
      "Epoch : 22 , training loss : 5.062346847819453e-07 , validation loss : 2.0871372801896846e-06\n",
      "Epoch : 23 , training loss : 4.1200793049864343e-07 , validation loss : 2.1120040779957585e-06\n",
      "Epoch : 24 , training loss : 3.221460984399567e-07 , validation loss : 2.0387599685515547e-06\n",
      "Epoch : 25 , training loss : 3.189234202289168e-07 , validation loss : 2.0998909349145833e-06\n",
      "Epoch : 26 , training loss : 3.531007103701042e-07 , validation loss : 2.1594884174191975e-06\n",
      "Epoch : 27 , training loss : 4.7512670775636756e-07 , validation loss : 2.2877229260605723e-06\n",
      "Epoch : 28 , training loss : 6.949398146733352e-07 , validation loss : 2.5366322233821847e-06\n",
      "Epoch : 29 , training loss : 1.0990971994249286e-06 , validation loss : 3.122708600737193e-06\n",
      "Epoch : 30 , training loss : 1.6714004592262663e-06 , validation loss : 4.220981509206467e-06\n",
      "Epoch : 31 , training loss : 2.3391000029940457e-06 , validation loss : 5.00798432767624e-06\n",
      "Epoch : 32 , training loss : 2.743096155840213e-06 , validation loss : 4.51606744415282e-06\n",
      "Epoch : 33 , training loss : 2.4420369924349663e-06 , validation loss : 3.850747058701624e-06\n",
      "Epoch : 34 , training loss : 1.9428723854222435e-06 , validation loss : 3.241021886424278e-06\n",
      "Epoch : 35 , training loss : 1.5195079727945806e-06 , validation loss : 2.7177660892145164e-06\n",
      "Epoch : 36 , training loss : 1.1670522743471373e-06 , validation loss : 2.3772732144304123e-06\n",
      "Epoch : 37 , training loss : 9.070812720459173e-07 , validation loss : 2.221877934971417e-06\n",
      "Epoch : 38 , training loss : 7.417758270391571e-07 , validation loss : 2.2024633684244086e-06\n",
      "Epoch : 39 , training loss : 6.54249624355462e-07 , validation loss : 2.2683591396344127e-06\n",
      "Epoch : 40 , training loss : 6.200779728399075e-07 , validation loss : 2.3876173903166395e-06\n",
      "Epoch : 41 , training loss : 6.146407392888092e-07 , validation loss : 2.5516120558677358e-06\n",
      "Epoch : 42 , training loss : 6.200605580525295e-07 , validation loss : 2.7808763813178907e-06\n",
      "Epoch : 43 , training loss : 6.366979433092933e-07 , validation loss : 3.1262694240770847e-06\n",
      "Epoch : 44 , training loss : 6.920478357101385e-07 , validation loss : 3.643730603168175e-06\n",
      "Epoch : 45 , training loss : 8.175088831625405e-07 , validation loss : 4.333914603193989e-06\n",
      "Epoch : 46 , training loss : 1.0001548568067804e-06 , validation loss : 5.1179858928662725e-06\n",
      "Epoch : 47 , training loss : 1.18744464280647e-06 , validation loss : 5.920764882224224e-06\n",
      "Epoch : 48 , training loss : 1.3409830002308293e-06 , validation loss : 6.707020929752616e-06\n",
      "Epoch : 49 , training loss : 1.4348139587489849e-06 , validation loss : 7.433944271421448e-06\n",
      "Epoch : 50 , training loss : 1.4455707068544206e-06 , validation loss : 8.053867228833648e-06\n",
      "Epoch : 51 , training loss : 1.37656934363349e-06 , validation loss : 8.540857682722466e-06\n",
      "Epoch : 52 , training loss : 1.2573318543893854e-06 , validation loss : 8.902837635105243e-06\n",
      "Epoch : 53 , training loss : 1.1226159480612861e-06 , validation loss : 9.175650726926202e-06\n",
      "Epoch : 54 , training loss : 9.963429813141642e-07 , validation loss : 9.402532972065577e-06\n",
      "Epoch : 55 , training loss : 8.881405394676035e-07 , validation loss : 9.618377589504234e-06\n",
      "Epoch : 56 , training loss : 7.998470219400404e-07 , validation loss : 9.846202980649347e-06\n",
      "Epoch : 57 , training loss : 7.352140481660749e-07 , validation loss : 1.0102021406055428e-05\n",
      "Epoch : 58 , training loss : 7.058608042996298e-07 , validation loss : 1.0400092226821775e-05\n",
      "Epoch : 59 , training loss : 7.263601920626607e-07 , validation loss : 1.0748705790319946e-05\n",
      "Epoch : 60 , training loss : 7.955710922085385e-07 , validation loss : 1.1136049882528217e-05\n",
      "Epoch : 61 , training loss : 8.844033288885738e-07 , validation loss : 1.1515144554626508e-05\n",
      "Epoch : 62 , training loss : 9.578180527454527e-07 , validation loss : 1.1825088525559599e-05\n",
      "Epoch : 63 , training loss : 1.007700566674772e-06 , validation loss : 1.203416377393296e-05\n",
      "Epoch : 64 , training loss : 1.0550339908543519e-06 , validation loss : 1.2160687219875399e-05\n",
      "Epoch : 65 , training loss : 1.1339750925431155e-06 , validation loss : 1.2255218280188274e-05\n",
      "Epoch : 66 , training loss : 1.279626766573183e-06 , validation loss : 1.2359821691158382e-05\n",
      "Epoch : 67 , training loss : 1.5287308734599871e-06 , validation loss : 1.2460999035586914e-05\n",
      "Epoch : 68 , training loss : 1.9452579114402023e-06 , validation loss : 1.2418032686885757e-05\n",
      "Epoch : 69 , training loss : 2.7155924371176193e-06 , validation loss : 1.21544802217007e-05\n",
      "Epoch : 70 , training loss : 4.39746694142137e-06 , validation loss : 1.3151473164422592e-05\n",
      "Epoch : 71 , training loss : 7.4328397379696205e-06 , validation loss : 8.63378257539201e-06\n",
      "Epoch : 72 , training loss : 1.4458797101890457e-05 , validation loss : 1.459991411441782e-05\n",
      "Epoch : 73 , training loss : 3.502806835867011e-05 , validation loss : 5.462046586520349e-05\n",
      "Epoch : 74 , training loss : 5.657346831895437e-05 , validation loss : 4.1040506403078325e-05\n",
      "Epoch : 75 , training loss : 2.4785193382742217e-05 , validation loss : 8.53991105032037e-06\n",
      "Epoch : 76 , training loss : 4.986547257679509e-07 , validation loss : 2.0005132910227985e-06\n",
      "Epoch : 77 , training loss : 2.3704276600792685e-06 , validation loss : 5.624738302382563e-06\n",
      "Epoch : 78 , training loss : 4.871537039408362e-07 , validation loss : 2.662459337443579e-06\n",
      "Epoch : 79 , training loss : 1.141634438967006e-06 , validation loss : 3.68063876976521e-06\n",
      "Epoch : 80 , training loss : 7.020316668468815e-07 , validation loss : 3.075777878317846e-06\n",
      "Epoch : 81 , training loss : 8.178441288547098e-07 , validation loss : 3.011475693407798e-06\n",
      "Epoch : 82 , training loss : 7.94642312545734e-07 , validation loss : 2.896586617377276e-06\n",
      "Epoch : 83 , training loss : 8.081650432266522e-07 , validation loss : 2.7785529255197616e-06\n",
      "Epoch : 84 , training loss : 8.499245644675029e-07 , validation loss : 2.6962524467914286e-06\n",
      "Epoch : 85 , training loss : 9.055283333983666e-07 , validation loss : 2.6518651263055895e-06\n",
      "Epoch : 86 , training loss : 9.707535831581635e-07 , validation loss : 2.643294161922919e-06\n",
      "Epoch : 87 , training loss : 1.0364531607391877e-06 , validation loss : 2.666179890790469e-06\n",
      "Epoch : 88 , training loss : 1.0873404963441642e-06 , validation loss : 2.7111123396631833e-06\n",
      "Epoch : 89 , training loss : 1.1071957596077647e-06 , validation loss : 2.765079292051572e-06\n",
      "Epoch : 90 , training loss : 1.0850256000813693e-06 , validation loss : 2.8128465980140995e-06\n",
      "Epoch : 91 , training loss : 1.0196797600909608e-06 , validation loss : 2.8385321305298325e-06\n",
      "Epoch : 92 , training loss : 9.194843788465965e-07 , validation loss : 2.827411738811255e-06\n",
      "Epoch : 93 , training loss : 7.985040374606228e-07 , validation loss : 2.7691877827843805e-06\n",
      "Epoch : 94 , training loss : 6.723814216751282e-07 , validation loss : 2.660959618575968e-06\n",
      "Epoch : 95 , training loss : 5.554365071742602e-07 , validation loss : 2.5085261465089084e-06\n",
      "Epoch : 96 , training loss : 4.580608759937605e-07 , validation loss : 2.3238297520341198e-06\n",
      "Epoch : 97 , training loss : 3.845375608215004e-07 , validation loss : 2.1211351774278833e-06\n",
      "Epoch : 98 , training loss : 3.3321136244983804e-07 , validation loss : 1.9155734965655333e-06\n",
      "Epoch : 99 , training loss : 3.0108122751885474e-07 , validation loss : 1.7232825750094587e-06\n"
     ]
    }
   ],
   "source": [
    "# Plot Learning Curve \n",
    "### BEGIN SOLUTION\n",
    "data_module.learning_curve(num_epochs = num_epochs_covid,\n",
    "                           train_loss = train_loss_covid ,\n",
    "                           val_loss = val_loss_covid)\n",
    "\n",
    "### END SOLUTION"
   ]
  },
  {
   "cell_type": "markdown",
   "metadata": {},
   "source": [
    "# Step 5 : Evaluation\n",
    "This section is to inference the model by feeding in testing data and determine the output forecast value and calculate the RMSE. For this exercise, use the function in `data_module` to run in each section.\n",
    "\n",
    "It consists of 4 sections :\n",
    "\n",
    "Section 1 : Feed in the train and test data to the model <br>\n",
    "Section 2 : Reshape both to the original data dimension <br> \n",
    "Section 3 : Invert the scaling back to the original data value <br>\n",
    "Section 4 : Calculate the RMSE of train and test data\n",
    "\n",
    ">**Instruction** : <br>\n",
    "Complete each sections with the function in `data_module`"
   ]
  },
  {
   "cell_type": "code",
   "execution_count": 55,
   "metadata": {},
   "outputs": [],
   "source": [
    "# Section 1 : Make predictions\n",
    "\n",
    "### BEGIN SOLUTION\n",
    "with torch.no_grad():\n",
    "    y_train_prediction_covid = model_covid(train_data_dict_covid['train_data_x_feature'])\n",
    "    y_test_prediction_covid = model_covid(test_data_dict_covid['test_data_x_feature'])\n",
    "### END SOLUTION"
   ]
  },
  {
   "cell_type": "code",
   "execution_count": 56,
   "metadata": {},
   "outputs": [],
   "source": [
    "# Assign evaluation key\n",
    "### BEGIN SOLUTION\n",
    "prediction_covid , output_covid = data_module.key_assign_evaluation(y_train_prediction_covid,\n",
    "                                                                    y_test_prediction_covid,\n",
    "                                                                    train_data_dict_covid,\n",
    "                                                                    test_data_dict_covid)\n",
    "### END SOLUTION\n",
    "\n",
    "### BEGIN SOLUTION\n",
    "# Squeeze the output dimension\n",
    "output_data_covid = data_module.squeeze_dimension(output_covid)\n",
    "### END SOLUTION"
   ]
  },
  {
   "cell_type": "code",
   "execution_count": 57,
   "metadata": {},
   "outputs": [
    {
     "name": "stdout",
     "output_type": "stream",
     "text": [
      "train_data_output shape : torch.Size([374, 3])\n",
      "test_data_output shape : torch.Size([15, 3])\n"
     ]
    }
   ],
   "source": [
    "data_module.sanity_check(data_1 = output_data_covid,data_2 = {})"
   ]
  },
  {
   "cell_type": "code",
   "execution_count": 58,
   "metadata": {},
   "outputs": [],
   "source": [
    "#Invert predictions\n",
    "### BEGIN SOLUTION\n",
    "prediction_covid = data_module.inverse_scaler(prediction_covid,scaler_covid)\n",
    "output_data_covid  = data_module.inverse_scaler(output_data_covid ,scaler_covid)\n",
    "### END SOLUTION"
   ]
  },
  {
   "cell_type": "markdown",
   "metadata": {},
   "source": [
    "`np.rint` is use to round our data to integer since the death cases should be in the integer form"
   ]
  },
  {
   "cell_type": "code",
   "execution_count": 59,
   "metadata": {},
   "outputs": [],
   "source": [
    "prediction_covid['test_data_prediction'] = np.rint(prediction_covid['test_data_prediction'])\n",
    "output_data_covid['test_data_output'] =  np.rint(output_data_covid['test_data_output']) "
   ]
  },
  {
   "cell_type": "code",
   "execution_count": 60,
   "metadata": {},
   "outputs": [
    {
     "name": "stdout",
     "output_type": "stream",
     "text": [
      "Test Data\t\t\tForecast\n",
      "[13. 17.  5.]\t\t[10.  8.  8.]\n",
      "[17.  5.  7.]\t\t[9. 9. 9.]\n",
      "[ 5.  7. 10.]\t\t[10. 10. 10.]\n",
      "[ 7. 10.  8.]\t\t[11.  8.  9.]\n",
      "[10.  8. 22.]\t\t[11.  6.  7.]\n",
      "[ 8. 22. 25.]\t\t[14.  2.  6.]\n",
      "[22. 25. 13.]\t\t[15.  2.  7.]\n",
      "[25. 13.  8.]\t\t[15.  3.  8.]\n",
      "[13.  8.  5.]\t\t[14.  4.  8.]\n",
      "[8. 5. 6.]\t\t[13.  4.  7.]\n",
      "[ 5.  6. 14.]\t\t[13.  5.  8.]\n",
      "[ 6. 14. 12.]\t\t[10.  6.  7.]\n",
      "[14. 12. 12.]\t\t[11.  4.  6.]\n",
      "[12. 12. 11.]\t\t[10.  6.  7.]\n",
      "[12. 11. 10.]\t\t[9. 6. 6.]\n"
     ]
    }
   ],
   "source": [
    "# List the forecast value\n",
    "### BEGIN SOLUTION\n",
    "data_module.list_forecast_value(output_data_covid,prediction_covid) \n",
    "### END SOLUTION"
   ]
  },
  {
   "cell_type": "code",
   "execution_count": 61,
   "metadata": {},
   "outputs": [
    {
     "name": "stdout",
     "output_type": "stream",
     "text": [
      "Train Score: 6.19 RMSE\n",
      "Test Score: 7.53 RMSE\n"
     ]
    }
   ],
   "source": [
    "# calculate root mean squared error\n",
    "### BEGIN SOLUTION\n",
    "trainScore_covid,testScore_covid = data_module.rmse(prediction_covid,output_data_covid)\n",
    "print('Train Score: %.2f RMSE' % (trainScore_covid))\n",
    "print('Test Score: %.2f RMSE' % (testScore_covid))\n",
    "### END SOLUTION"
   ]
  },
  {
   "cell_type": "markdown",
   "metadata": {},
   "source": [
    "# Step 6 : Forecast Plot"
   ]
  },
  {
   "cell_type": "code",
   "execution_count": 62,
   "metadata": {},
   "outputs": [
    {
     "data": {
      "image/png": "[encoded data removed]",
      "text/plain": [
       "<Figure size 720x432 with 1 Axes>"
      ]
     },
     "metadata": {
      "needs_background": "light"
     },
     "output_type": "display_data"
    }
   ],
   "source": [
    "multi_step_plot(original_test_data = test_data_covid[\"Deaths\"],\n",
    "                            after_sequence_test_data = output_data_covid,\n",
    "                            forecast_data = prediction_covid,\n",
    "                            test_time = test_time_covid,\n",
    "                            window_size = window_size_covid,\n",
    "                            n_step = n_step_covid,\n",
    "                            details={},\n",
    "                            original_plot=False,\n",
    "                            multivariate = True)\n"
   ]
  },
  {
   "cell_type": "markdown",
   "metadata": {},
   "source": [
    "## Summary\n",
    "In this tutorial you should have learned:\n",
    "\n",
    "1. The pipeline of using LSTM perform multivariate input univariate output multi-step \n",
    "2. How to import function and class from Python module `data_module.py` and `deep_learning_module.py` \n",
    "3. Some basic data exploratory technique\n",
    "\n",
    "Congratulations, that concludes this lesson.<br>\n",
    "\n",
    "Please save the latest `multi_step_plot` function to the `data_module.py`\n",
    "\n",
    "\n",
    "Please proceed to other notebooks for other types of data in LSTM forecasting <br>\n",
    "1. ~~*[04-LSTM-Univariate-Single-Step]*~~  *Complete*\n",
    "2. ~~*[04 - LSTM - Univariate Multi-Step.ipynb]*~~ *Complete*\n",
    "3. ~~[04-LSTM-Multivariate-Input-Univariate-Output-Single-Step]~~ *Complete*\n",
    "4. ~~[04-LSTM-Multivariate-Input-Univariate-Output-Multi-Step]~~*Complete*"
   ]
  },
  {
   "cell_type": "markdown",
   "metadata": {},
   "source": [
    "## Reference\n",
    "1. [Multistep Time Series Forecasting with LSTMs in Python](https://machinelearningmastery.com/multi-step-time-series-forecasting-long-short-term-memory-networks-python/)\n",
    "2. [Deep Learning for Time Series Forecasting (Predict the Future with MLPs,CNNs and LSTMs in Python) , Jason Brownlee](https://machinelearningmastery.com/deep-learning-for-time-series-forecasting/)"
   ]
  }
 ],
 "metadata": {
  "kernelspec": {
   "display_name": "Python 3",
   "language": "python",
   "name": "python3"
  },
  "language_info": {
   "codemirror_mode": {
    "name": "ipython",
    "version": 3
   },
   "file_extension": ".py",
   "mimetype": "text/x-python",
   "name": "python",
   "nbconvert_exporter": "python",
   "pygments_lexer": "ipython3",
   "version": "3.7.9"
  }
 },
 "nbformat": 4,
 "nbformat_minor": 4
}
