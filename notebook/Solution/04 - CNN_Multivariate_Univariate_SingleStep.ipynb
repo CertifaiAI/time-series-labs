{
 "cells": [
  {
   "cell_type": "markdown",
   "metadata": {
    "deletable": false,
    "editable": false
   },
   "source": [
    "![logo](../../picture/license_header_logo.png)\n",
    "> **Copyright &copy; 2020 - 2021 CertifAI Sdn. Bhd.**<br>\n",
    " <br>\n",
    "This program and the accompanying materials are made available under the\n",
    "terms of the [Apache License, Version 2.0](https://www.apache.org/licenses/LICENSE-2.0). <br>\n",
    "Unless required by applicable law or agreed to in writing, software\n",
    "distributed under the License is distributed on an \"AS IS\" BASIS, WITHOUT\n",
    "WARRANTIES OR CONDITIONS OF ANY KIND, either express or implied. See the\n",
    "License for the specific language governing permissions and limitations\n",
    "under the License. <br>\n",
    "<br>**SPDX-License-Identifier: Apache-2.0**"
   ]
  },
  {
   "cell_type": "markdown",
   "metadata": {},
   "source": [
    "# Requirement\n",
    "You should complete the LSTM tutorial before starting the CNN tutorial. This is because most of the functions used will be based on `data_module.py` and `deep_learning_module.py`\n",
    "\n",
    "Please proceed to the LSTM notebook if you haven't complete it yet.<br>\n",
    "\n",
    "1. [04 - LSTM_Univariate_SingleStep](./04%20-%20LSTM_Univariate_SingleStep.ipynb)\n",
    "2. [04 - LSTM_Univariate_MultiStep.ipynb](./04%20-%20LSTM_Univariate_MultiStep.ipynb)\n",
    "3. [04 - LSTM_Multivariate_Univariate_SingleStep](./04%20-%20LSTM_Multivariate_Univariate_SingleStep.ipynb)<br>\n",
    "4. [04 - LSTM_Multivariate_Univariate_MultiStep](./04%20-%20LSTM_Multivariate_Univariate_MultiStep.ipynb)<br>"
   ]
  },
  {
   "cell_type": "markdown",
   "metadata": {},
   "source": [
    "## Multivariate Input, Univariate Output CNN, Single Step\n",
    "This tutorial is to demonstrate the process in build CNN for Multivariate Input, Univariate Output  for Single Step. <br>\n",
    "\n",
    "It consists of 2 major parts which are :\n",
    "\n",
    "Part 1 - The Demonstration of Building CNN using Synthetic data <br>\n",
    "Part 2 - Exercise of building CNN using COVID-19 Data.<br>\n",
    "\n",
    "\n",
    "## What will we accomplish?\n",
    "First, we will show the step in building the CNN :\n",
    "\n",
    "Step 1. Data Preparation (Data Splitting,Data Sequencing,Data Standardization and Batching the Data) <br>\n",
    "Step 2. Model Configuration for CNN<br>\n",
    "Step 3. Train the model<br>\n",
    "Step 4. Validate the model using graph<br>\n",
    "Step 5. Evaluation Metrics such as MSE<br>\n",
    "Step 6. Plot the forecast result<br>\n",
    "\n",
    "Let's import the package needed"
   ]
  },
  {
   "cell_type": "code",
   "execution_count": 1,
   "metadata": {},
   "outputs": [],
   "source": [
    "# import packages needed\n",
    "import numpy as np\n",
    "import pandas as pd\n",
    "import matplotlib.pyplot as plt\n",
    "import torch\n",
    "import torch.nn as nn\n",
    "import torch.nn.functional as F\n",
    "from torch.utils.data import DataLoader, TensorDataset\n",
    "from sklearn.metrics import mean_squared_error\n",
    "from sklearn.preprocessing import StandardScaler , MinMaxScaler\n",
    "import math\n",
    "from torchsummaryX import summary\n",
    "\n",
    "# To auto load the customise module\n",
    "%load_ext autoreload\n",
    "%autoreload 2\n",
    "import deep_learning_module\n",
    "import data_module"
   ]
  },
  {
   "cell_type": "markdown",
   "metadata": {},
   "source": [
    "# Part 1 : Demonstration of Building CNN using Synthetic data\n",
    "\n",
    "## Hyperparameter\n",
    "Define the hyperparameter that is needed to tune the model."
   ]
  },
  {
   "cell_type": "code",
   "execution_count": 2,
   "metadata": {},
   "outputs": [],
   "source": [
    "split_ratio = 0.70\n",
    "num_epochs = 500\n",
    "window_size = 10\n",
    "batch_size = 5\n",
    "n_step = 1\n",
    "learning_rate = 0.001"
   ]
  },
  {
   "cell_type": "markdown",
   "metadata": {},
   "source": [
    "# Step 1 : Data Preparation\n",
    "We create synthetic data to make sure the model is created correctly and having the ability to perform the forecasting. <br>\n",
    "\n",
    "1. First, we will create a sequence of data with `np.array`.\n",
    "2. Then, we will assign a date to the sequence of data with `pd.date_range` and store it in a series format by using `pd.Series`."
   ]
  },
  {
   "cell_type": "code",
   "execution_count": 3,
   "metadata": {},
   "outputs": [],
   "source": [
    "in_seq1 = np.array([x for x in range(0, 400, 10)])\n",
    "in_seq2 = np.array([x for x in range(5, 405, 10)])\n",
    "out_seq = np.array([in_seq1[i] + in_seq2[i] for i in range(len(in_seq1))])\n",
    "\n",
    "# convert to [rows, columns] structure\n",
    "in_seq1 = in_seq1.reshape((len(in_seq1), 1))\n",
    "in_seq2 = in_seq2.reshape((len(in_seq2), 1))\n",
    "out_seq = out_seq.reshape((len(out_seq), 1))\n",
    "\n",
    "# horizontally stack columns\n",
    "dataset = np.hstack((in_seq1, in_seq2, out_seq))"
   ]
  },
  {
   "cell_type": "code",
   "execution_count": 4,
   "metadata": {},
   "outputs": [
    {
     "data": {
      "text/html": [
       "<div>\n",
       "<style scoped>\n",
       "    .dataframe tbody tr th:only-of-type {\n",
       "        vertical-align: middle;\n",
       "    }\n",
       "\n",
       "    .dataframe tbody tr th {\n",
       "        vertical-align: top;\n",
       "    }\n",
       "\n",
       "    .dataframe thead th {\n",
       "        text-align: right;\n",
       "    }\n",
       "</style>\n",
       "<table border=\"1\" class=\"dataframe\">\n",
       "  <thead>\n",
       "    <tr style=\"text-align: right;\">\n",
       "      <th></th>\n",
       "      <th>in_seq1</th>\n",
       "      <th>in_seq2</th>\n",
       "      <th>out_seq</th>\n",
       "    </tr>\n",
       "    <tr>\n",
       "      <th>Date</th>\n",
       "      <th></th>\n",
       "      <th></th>\n",
       "      <th></th>\n",
       "    </tr>\n",
       "  </thead>\n",
       "  <tbody>\n",
       "    <tr>\n",
       "      <th>2020-01-01</th>\n",
       "      <td>0</td>\n",
       "      <td>5</td>\n",
       "      <td>5</td>\n",
       "    </tr>\n",
       "    <tr>\n",
       "      <th>2020-01-02</th>\n",
       "      <td>10</td>\n",
       "      <td>15</td>\n",
       "      <td>25</td>\n",
       "    </tr>\n",
       "    <tr>\n",
       "      <th>2020-01-03</th>\n",
       "      <td>20</td>\n",
       "      <td>25</td>\n",
       "      <td>45</td>\n",
       "    </tr>\n",
       "    <tr>\n",
       "      <th>2020-01-04</th>\n",
       "      <td>30</td>\n",
       "      <td>35</td>\n",
       "      <td>65</td>\n",
       "    </tr>\n",
       "    <tr>\n",
       "      <th>2020-01-05</th>\n",
       "      <td>40</td>\n",
       "      <td>45</td>\n",
       "      <td>85</td>\n",
       "    </tr>\n",
       "  </tbody>\n",
       "</table>\n",
       "</div>"
      ],
      "text/plain": [
       "            in_seq1  in_seq2  out_seq\n",
       "Date                                 \n",
       "2020-01-01        0        5        5\n",
       "2020-01-02       10       15       25\n",
       "2020-01-03       20       25       45\n",
       "2020-01-04       30       35       65\n",
       "2020-01-05       40       45       85"
      ]
     },
     "execution_count": 4,
     "metadata": {},
     "output_type": "execute_result"
    }
   ],
   "source": [
    "dataset = pd.DataFrame(dataset,columns =[\"in_seq1\",\"in_seq2\",\"out_seq\"],\n",
    "                      index = pd.date_range(\"1/1/2020\",periods=len(dataset),freq='D'))\n",
    "dataset.index.name=\"Date\"\n",
    "dataset.head()"
   ]
  },
  {
   "cell_type": "markdown",
   "metadata": {},
   "source": [
    "## Data Visualization\n",
    "Data visualization is important for us to visualize the pattern of data such as trend and seasonality. As seen in the graph below, there is an increasing trend in data."
   ]
  },
  {
   "cell_type": "code",
   "execution_count": 5,
   "metadata": {},
   "outputs": [
    {
     "data": {
      "text/plain": [
       "Text(0.5, 1.0, 'Synthetic Data')"
      ]
     },
     "execution_count": 5,
     "metadata": {},
     "output_type": "execute_result"
    },
    {
     "data": {
      "image/png": "[encoded data removed]",
      "text/plain": [
       "<Figure size 432x288 with 1 Axes>"
      ]
     },
     "metadata": {
      "needs_background": "light"
     },
     "output_type": "display_data"
    }
   ],
   "source": [
    "dataset.plot()\n",
    "plt.title(\"Synthetic Data\")"
   ]
  },
  {
   "cell_type": "markdown",
   "metadata": {},
   "source": [
    "## Data Splitting\n",
    "In Deep Learning, we will split the data into training and test dataset. The training data is used to train the model where the test data is used to validate the performance of the model."
   ]
  },
  {
   "cell_type": "code",
   "execution_count": 6,
   "metadata": {},
   "outputs": [
    {
     "data": {
      "text/plain": [
       "28"
      ]
     },
     "execution_count": 6,
     "metadata": {},
     "output_type": "execute_result"
    }
   ],
   "source": [
    "# Calculate the split ratio \n",
    "split_data = round(len(dataset)*split_ratio)\n",
    "split_data"
   ]
  },
  {
   "cell_type": "code",
   "execution_count": 7,
   "metadata": {},
   "outputs": [
    {
     "name": "stdout",
     "output_type": "stream",
     "text": [
      "train_data_shape\n",
      "(28, 3)\n",
      "test_data_shape\n",
      "(12, 3)\n"
     ]
    }
   ],
   "source": [
    "# Split data by indexing \n",
    "train_data = dataset[:split_data]\n",
    "test_data = dataset[split_data:]\n",
    "train_time = dataset.index[:split_data]\n",
    "test_time = dataset.index[split_data:]\n",
    "print(\"train_data_shape\")\n",
    "print(train_data.shape)\n",
    "print(\"test_data_shape\")\n",
    "print(test_data.shape)"
   ]
  },
  {
   "cell_type": "markdown",
   "metadata": {},
   "source": [
    "## Data Standardization\n",
    "Standardize your numeric attributes to have 0 mean and unit variance.\n"
   ]
  },
  {
   "cell_type": "code",
   "execution_count": 8,
   "metadata": {},
   "outputs": [
    {
     "name": "stdout",
     "output_type": "stream",
     "text": [
      "train_data_standardized(28, 3)\n",
      "test_data_standardized(12, 3)\n"
     ]
    }
   ],
   "source": [
    "data_scalers,train_data_standard, test_data_standard = data_module.multi_data_scaler(train_data,test_data)\n",
    "print(\"train_data_standardized\"+str(train_data_standard.shape))\n",
    "print(\"test_data_standardized\"+str(test_data_standard.shape))"
   ]
  },
  {
   "cell_type": "markdown",
   "metadata": {},
   "source": [
    "## Data Sequencing\n",
    "Sequencing the data by taking in the multivariate series into `x-feature` and `y-label`\n",
    "<img src = \"../../picture/multivariate univariate.png\"  width=\"300\" height  =\"300\" align=\"center\" />"
   ]
  },
  {
   "cell_type": "code",
   "execution_count": 9,
   "metadata": {},
   "outputs": [
    {
     "name": "stdout",
     "output_type": "stream",
     "text": [
      "trainX shape:(19, 10, 2) trainY shape:(19,)\n",
      "\n",
      "testX shape:(3, 10, 2) testY shape:(3,)\n"
     ]
    }
   ],
   "source": [
    "trainX, trainY = data_module.multivariate_univariate_single_step(train_data_standard, window_size)\n",
    "testX, testY = data_module.multivariate_univariate_single_step(test_data_standard, window_size)\n",
    "print(f\"trainX shape:{trainX.shape} trainY shape:{trainY.shape}\\n\")\n",
    "print(f\"testX shape:{testX.shape} testY shape:{testY.shape}\")"
   ]
  },
  {
   "cell_type": "code",
   "execution_count": 10,
   "metadata": {},
   "outputs": [
    {
     "name": "stdout",
     "output_type": "stream",
     "text": [
      "trainY shape:(19, 1, 1)\n",
      "testY shape:(3, 1, 1)\n"
     ]
    }
   ],
   "source": [
    "trainY = trainY.reshape(trainY.shape[0],n_step,1)\n",
    "testY = testY.reshape(testY.shape[0],n_step,1)\n",
    "print(f\"trainY shape:{trainY.shape}\")\n",
    "print(f\"testY shape:{testY.shape}\")"
   ]
  },
  {
   "cell_type": "markdown",
   "metadata": {},
   "source": [
    "## Data Transform\n",
    "Data needs to transformed from `NumPy` to `PyTorch` tensor before being fed into the model"
   ]
  },
  {
   "cell_type": "code",
   "execution_count": 11,
   "metadata": {},
   "outputs": [],
   "source": [
    "train_data_dict ,test_data_dict = data_module.key_assign(trainingX = trainX  , \n",
    "                       testingX = testX, \n",
    "                       trainingY = trainY, \n",
    "                       testingY = testY)\n",
    "train_data_dict ,test_data_dict = data_module.transform(train_data_dict ,test_data_dict)"
   ]
  },
  {
   "cell_type": "code",
   "execution_count": 12,
   "metadata": {},
   "outputs": [
    {
     "name": "stdout",
     "output_type": "stream",
     "text": [
      "train_data_x_feature shape : torch.Size([19, 10, 2])\n",
      "train_data_y_label shape : torch.Size([19, 1, 1])\n",
      "test_data_x_feature shape : torch.Size([3, 10, 2])\n",
      "test_data_y_label shape : torch.Size([3, 1, 1])\n"
     ]
    }
   ],
   "source": [
    "data_module.sanity_check(train_data_dict , test_data_dict)"
   ]
  },
  {
   "cell_type": "markdown",
   "metadata": {},
   "source": [
    "## Data Transpose \n",
    "You are require to transpose the `x-feature` data in such a way that : <br>\n",
    ">`(batch_size, number_of_features, sequence_length)`."
   ]
  },
  {
   "cell_type": "code",
   "execution_count": 13,
   "metadata": {},
   "outputs": [],
   "source": [
    "# Data Transpose to suit for CNN \n",
    "train_data_dict , test_data_dict= data_module.transpose(train_data_dict,test_data_dict)"
   ]
  },
  {
   "cell_type": "code",
   "execution_count": 14,
   "metadata": {},
   "outputs": [
    {
     "name": "stdout",
     "output_type": "stream",
     "text": [
      "train_data_x_feature shape : torch.Size([19, 2, 10])\n",
      "train_data_y_label shape : torch.Size([19, 1, 1])\n",
      "test_data_x_feature shape : torch.Size([3, 2, 10])\n",
      "test_data_y_label shape : torch.Size([3, 1, 1])\n"
     ]
    }
   ],
   "source": [
    "data_module.sanity_check(train_data_dict , test_data_dict)"
   ]
  },
  {
   "cell_type": "markdown",
   "metadata": {},
   "source": [
    "## Data Iterator\n",
    "Iterator is created to allow the data separate into several batches to fasten the training process\n",
    ">**Instruction** : <br>\n",
    "Use `data_module.iterator` to create data iterator."
   ]
  },
  {
   "cell_type": "code",
   "execution_count": 15,
   "metadata": {},
   "outputs": [],
   "source": [
    "train_iter , test_iter = data_module.iterator(train_data_dict ,test_data_dict,batch_size = batch_size)"
   ]
  },
  {
   "cell_type": "markdown",
   "metadata": {},
   "source": [
    "# Step 2 :  CNN Model Configuration\n",
    "You may choose to use the CNN configuration that have been saved in the `deep_learning_module.py` or code it by yourself. For demonstration purposes, we will use the CNN configuration in `deep_learning_module.py`"
   ]
  },
  {
   "cell_type": "markdown",
   "metadata": {},
   "source": [
    "## Input Model\n",
    "The number of features and number of steps are fed as attributes into the model. The other attributes such as `kernel_size` , `in_channels` and `out_channels` for each convolution layer need to configured in the network configuration by the practitioner."
   ]
  },
  {
   "cell_type": "code",
   "execution_count": 16,
   "metadata": {},
   "outputs": [],
   "source": [
    "# seed\n",
    "torch.manual_seed(123)\n",
    "### BEGIN SOLUTION\n",
    "n_feature = train_data_dict['train_data_x_feature'].shape[1]\n",
    "\n",
    "# Input the attribute need by the model \n",
    "model = deep_learning_module.CNN(n_feature = n_feature,n_step = n_step )\n",
    "\n",
    "# Define the optimizer (Here we use SGD as our optimizer)\n",
    "optimizer = torch.optim.Adam(model.parameters(), lr=learning_rate)\n",
    "\n",
    "# Define the loss function (Here we use MSE as the loss function)\n",
    "loss_fn = nn.MSELoss()\n",
    "\n",
    "### END SOLUTION"
   ]
  },
  {
   "cell_type": "code",
   "execution_count": 17,
   "metadata": {},
   "outputs": [
    {
     "name": "stdout",
     "output_type": "stream",
     "text": [
      "====================================================\n",
      "        Kernel Shape Output Shape Params Mult-Adds\n",
      "Layer                                             \n",
      "0_conv1   [2, 30, 3]   [5, 30, 8]  210.0     1.44k\n",
      "1_poo1             -   [5, 30, 4]      -         -\n",
      "2_conv2  [30, 20, 2]   [5, 20, 3]  1.22k      3.6k\n",
      "3_pool2            -   [5, 20, 1]      -         -\n",
      "4_fc1       [20, 10]      [5, 10]  210.0     200.0\n",
      "5_fc2        [10, 1]       [5, 1]   11.0      10.0\n",
      "----------------------------------------------------\n",
      "                      Totals\n",
      "Total params          1.651k\n",
      "Trainable params      1.651k\n",
      "Non-trainable params     0.0\n",
      "Mult-Adds              5.25k\n",
      "====================================================\n",
      "        Kernel Shape Output Shape  Params  Mult-Adds\n",
      "Layer                                               \n",
      "0_conv1   [2, 30, 3]   [5, 30, 8]   210.0     1440.0\n",
      "1_poo1             -   [5, 30, 4]     NaN        NaN\n",
      "2_conv2  [30, 20, 2]   [5, 20, 3]  1220.0     3600.0\n",
      "3_pool2            -   [5, 20, 1]     NaN        NaN\n",
      "4_fc1       [20, 10]      [5, 10]   210.0      200.0\n",
      "5_fc2        [10, 1]       [5, 1]    11.0       10.0\n"
     ]
    }
   ],
   "source": [
    "seq_length = train_data_dict['train_data_x_feature'].shape[2]\n",
    "inputs = torch.zeros((batch_size,n_feature ,seq_length),dtype=torch.float) # batch size ,input_dim ,seq_length\n",
    "print(summary(model,inputs))"
   ]
  },
  {
   "cell_type": "code",
   "execution_count": 18,
   "metadata": {},
   "outputs": [
    {
     "data": {
      "text/plain": [
       "CNN(\n",
       "  (conv1): Conv1d(2, 30, kernel_size=(3,), stride=(1,))\n",
       "  (poo1): MaxPool1d(kernel_size=2, stride=2, padding=0, dilation=1, ceil_mode=False)\n",
       "  (conv2): Conv1d(30, 20, kernel_size=(2,), stride=(1,))\n",
       "  (pool2): AdaptiveMaxPool1d(output_size=1)\n",
       "  (fc1): Linear(in_features=20, out_features=10, bias=True)\n",
       "  (fc2): Linear(in_features=10, out_features=1, bias=True)\n",
       ")"
      ]
     },
     "execution_count": 18,
     "metadata": {},
     "output_type": "execute_result"
    }
   ],
   "source": [
    "# seed\n",
    "torch.manual_seed(123)\n",
    "\n",
    "#  Xavier Weight Initialize \n",
    "def weights_init(m):\n",
    "    if isinstance(m, nn.Conv1d):\n",
    "        nn.init.xavier_uniform_(m.weight.data)\n",
    "        \n",
    "model.apply(weights_init)"
   ]
  },
  {
   "cell_type": "markdown",
   "metadata": {},
   "source": [
    "# Step 3 : Training"
   ]
  },
  {
   "cell_type": "code",
   "execution_count": 19,
   "metadata": {},
   "outputs": [],
   "source": [
    "# seed\n",
    "torch.manual_seed(123)\n",
    "# Start Training\n",
    "train_loss, val_loss = deep_learning_module.training(num_epochs, train_iter, test_iter, optimizer, loss_fn, model)"
   ]
  },
  {
   "cell_type": "markdown",
   "metadata": {},
   "source": [
    "# Step 4 : Validation \n",
    "A learning curve is plotted to define how well the data fits in the model "
   ]
  },
  {
   "cell_type": "code",
   "execution_count": 20,
   "metadata": {
    "scrolled": true
   },
   "outputs": [
    {
     "data": {
      "image/png": "[encoded data removed]",
      "text/plain": [
       "<Figure size 720x432 with 1 Axes>"
      ]
     },
     "metadata": {
      "needs_background": "light"
     },
     "output_type": "display_data"
    },
    {
     "name": "stdout",
     "output_type": "stream",
     "text": [
      "Epoch : 0 , training loss : 0.543220308266188 , validation loss : 7.814478397369385\n",
      "Epoch : 1 , training loss : 0.5314839454857927 , validation loss : 7.781604766845703\n",
      "Epoch : 2 , training loss : 0.5231438796771201 , validation loss : 7.745716094970703\n",
      "Epoch : 3 , training loss : 0.5160793275817445 , validation loss : 7.710849761962891\n",
      "Epoch : 4 , training loss : 0.5125634338902799 , validation loss : 7.681064128875732\n",
      "Epoch : 5 , training loss : 0.5101823932246158 , validation loss : 7.656938076019287\n",
      "Epoch : 6 , training loss : 0.5069121607628307 , validation loss : 7.636131286621094\n",
      "Epoch : 7 , training loss : 0.5032805548490662 , validation loss : 7.616962432861328\n",
      "Epoch : 8 , training loss : 0.49970936520319237 , validation loss : 7.597919464111328\n",
      "Epoch : 9 , training loss : 0.49615804439312533 , validation loss : 7.577637195587158\n",
      "Epoch : 10 , training loss : 0.49239726129331085 , validation loss : 7.555577754974365\n",
      "Epoch : 11 , training loss : 0.4883452488207503 , validation loss : 7.53186559677124\n",
      "Epoch : 12 , training loss : 0.4839865343743249 , validation loss : 7.506080627441406\n",
      "Epoch : 13 , training loss : 0.47927991712563917 , validation loss : 7.477808475494385\n",
      "Epoch : 14 , training loss : 0.47462593234683337 , validation loss : 7.447397708892822\n",
      "Epoch : 15 , training loss : 0.46959632546886015 , validation loss : 7.413796901702881\n",
      "Epoch : 16 , training loss : 0.4641537125173368 , validation loss : 7.377858638763428\n",
      "Epoch : 17 , training loss : 0.45826506310779797 , validation loss : 7.339078426361084\n",
      "Epoch : 18 , training loss : 0.4519308105503258 , validation loss : 7.299278259277344\n",
      "Epoch : 19 , training loss : 0.445012324832772 , validation loss : 7.258701324462891\n",
      "Epoch : 20 , training loss : 0.43758649829971163 , validation loss : 7.216001510620117\n",
      "Epoch : 21 , training loss : 0.429602049095066 , validation loss : 7.16901159286499\n",
      "Epoch : 22 , training loss : 0.4211527880673346 , validation loss : 7.119012832641602\n",
      "Epoch : 23 , training loss : 0.4127690783260684 , validation loss : 7.0657734870910645\n",
      "Epoch : 24 , training loss : 0.4044932724025689 , validation loss : 7.006877899169922\n",
      "Epoch : 25 , training loss : 0.3953158231942277 , validation loss : 6.93823766708374\n",
      "Epoch : 26 , training loss : 0.3858437944007547 , validation loss : 6.874962329864502\n",
      "Epoch : 27 , training loss : 0.37594278509679596 , validation loss : 6.811686992645264\n",
      "Epoch : 28 , training loss : 0.3654914843408685 , validation loss : 6.747053623199463\n",
      "Epoch : 29 , training loss : 0.3549159649563463 , validation loss : 6.679514408111572\n",
      "Epoch : 30 , training loss : 0.34377672376209184 , validation loss : 6.610199451446533\n",
      "Epoch : 31 , training loss : 0.33212554944973244 , validation loss : 6.535572528839111\n",
      "Epoch : 32 , training loss : 0.3196007629954501 , validation loss : 6.451955318450928\n",
      "Epoch : 33 , training loss : 0.30686409653801666 , validation loss : 6.36637544631958\n",
      "Epoch : 34 , training loss : 0.293270081281662 , validation loss : 6.278690814971924\n",
      "Epoch : 35 , training loss : 0.2793183546317251 , validation loss : 6.1863861083984375\n",
      "Epoch : 36 , training loss : 0.2647066664832987 , validation loss : 6.0866851806640625\n",
      "Epoch : 37 , training loss : 0.24976112272002196 , validation loss : 5.987930774688721\n",
      "Epoch : 38 , training loss : 0.2346018610620185 , validation loss : 5.887256622314453\n",
      "Epoch : 39 , training loss : 0.21939228661358356 , validation loss : 5.783017635345459\n",
      "Epoch : 40 , training loss : 0.20386630375134318 , validation loss : 5.67352294921875\n",
      "Epoch : 41 , training loss : 0.1880816136927981 , validation loss : 5.559683322906494\n",
      "Epoch : 42 , training loss : 0.1723269408225621 , validation loss : 5.444756984710693\n",
      "Epoch : 43 , training loss : 0.1570811115058237 , validation loss : 5.326958179473877\n",
      "Epoch : 44 , training loss : 0.14229892909918962 , validation loss : 5.205054759979248\n",
      "Epoch : 45 , training loss : 0.12797587497257873 , validation loss : 5.082834243774414\n",
      "Epoch : 46 , training loss : 0.1142132504671616 , validation loss : 4.960204601287842\n",
      "Epoch : 47 , training loss : 0.10101612323993131 , validation loss : 4.837684631347656\n",
      "Epoch : 48 , training loss : 0.08854638136874296 , validation loss : 4.713508129119873\n",
      "Epoch : 49 , training loss : 0.07698136907512028 , validation loss : 4.584854602813721\n",
      "Epoch : 50 , training loss : 0.06657686404344675 , validation loss : 4.459772109985352\n",
      "Epoch : 51 , training loss : 0.056906149269228705 , validation loss : 4.33905553817749\n",
      "Epoch : 52 , training loss : 0.04836069153756589 , validation loss : 4.222663402557373\n",
      "Epoch : 53 , training loss : 0.04088442256416831 , validation loss : 4.111240386962891\n",
      "Epoch : 54 , training loss : 0.034495651806202274 , validation loss : 3.9982426166534424\n",
      "Epoch : 55 , training loss : 0.02904224139944601 , validation loss : 3.877662420272827\n",
      "Epoch : 56 , training loss : 0.02447397285294229 , validation loss : 3.770784378051758\n",
      "Epoch : 57 , training loss : 0.020746551145604922 , validation loss : 3.674732208251953\n",
      "Epoch : 58 , training loss : 0.01772516658131376 , validation loss : 3.588331937789917\n",
      "Epoch : 59 , training loss : 0.015317958056632625 , validation loss : 3.5096261501312256\n",
      "Epoch : 60 , training loss : 0.013389986589907877 , validation loss : 3.4370315074920654\n",
      "Epoch : 61 , training loss : 0.011841116741906214 , validation loss : 3.3729562759399414\n",
      "Epoch : 62 , training loss : 0.010582185314361644 , validation loss : 3.316537618637085\n",
      "Epoch : 63 , training loss : 0.009543794208806694 , validation loss : 3.2669878005981445\n",
      "Epoch : 64 , training loss : 0.008653463935173166 , validation loss : 3.2235238552093506\n",
      "Epoch : 65 , training loss : 0.007858987696971255 , validation loss : 3.1853179931640625\n",
      "Epoch : 66 , training loss : 0.007133944857694013 , validation loss : 3.151599168777466\n",
      "Epoch : 67 , training loss : 0.006448423800879698 , validation loss : 3.121612548828125\n",
      "Epoch : 68 , training loss : 0.005828757686877476 , validation loss : 3.094639539718628\n",
      "Epoch : 69 , training loss : 0.005271334515878391 , validation loss : 3.069992780685425\n",
      "Epoch : 70 , training loss : 0.004765818019605879 , validation loss : 3.047044515609741\n",
      "Epoch : 71 , training loss : 0.004306391975229704 , validation loss : 3.025336503982544\n",
      "Epoch : 72 , training loss : 0.0038967698182157044 , validation loss : 3.0045554637908936\n",
      "Epoch : 73 , training loss : 0.003535439421523877 , validation loss : 2.984433174133301\n",
      "Epoch : 74 , training loss : 0.0032109046549426 , validation loss : 2.9647858142852783\n",
      "Epoch : 75 , training loss : 0.0029576160358326313 , validation loss : 2.9454939365386963\n",
      "Epoch : 76 , training loss : 0.0027322820717113486 , validation loss : 2.925647735595703\n",
      "Epoch : 77 , training loss : 0.002522920715579714 , validation loss : 2.904392957687378\n",
      "Epoch : 78 , training loss : 0.002332676543645855 , validation loss : 2.8845129013061523\n",
      "Epoch : 79 , training loss : 0.0021668902696355395 , validation loss : 2.865844964981079\n",
      "Epoch : 80 , training loss : 0.0020388224909670257 , validation loss : 2.8482658863067627\n",
      "Epoch : 81 , training loss : 0.0019292768311539763 , validation loss : 2.8317480087280273\n",
      "Epoch : 82 , training loss : 0.0018275909632824263 , validation loss : 2.8162410259246826\n",
      "Epoch : 83 , training loss : 0.0017335628738357244 , validation loss : 2.8017075061798096\n",
      "Epoch : 84 , training loss : 0.0016498254890872264 , validation loss : 2.7880942821502686\n",
      "Epoch : 85 , training loss : 0.0015722377689886152 , validation loss : 2.7753171920776367\n",
      "Epoch : 86 , training loss : 0.0014969930856942053 , validation loss : 2.7632782459259033\n",
      "Epoch : 87 , training loss : 0.001424112858091432 , validation loss : 2.751873254776001\n",
      "Epoch : 88 , training loss : 0.0013656216335795378 , validation loss : 2.740976333618164\n",
      "Epoch : 89 , training loss : 0.0013192522823565493 , validation loss : 2.7304646968841553\n",
      "Epoch : 90 , training loss : 0.0012868815117000945 , validation loss : 2.7204368114471436\n",
      "Epoch : 91 , training loss : 0.0012443272510273872 , validation loss : 2.7111949920654297\n",
      "Epoch : 92 , training loss : 0.0012194940098101813 , validation loss : 2.7029244899749756\n",
      "Epoch : 93 , training loss : 0.0012072559479029703 , validation loss : 2.6958229541778564\n",
      "Epoch : 94 , training loss : 0.0011862028385573801 , validation loss : 2.689690589904785\n",
      "Epoch : 95 , training loss : 0.001165590942132679 , validation loss : 2.6840696334838867\n",
      "Epoch : 96 , training loss : 0.0011405476336796326 , validation loss : 2.678736925125122\n",
      "Epoch : 97 , training loss : 0.0011100898509060866 , validation loss : 2.6737301349639893\n",
      "Epoch : 98 , training loss : 0.001090422957771041 , validation loss : 2.6691973209381104\n",
      "Epoch : 99 , training loss : 0.001076657653213356 , validation loss : 2.6651365756988525\n",
      "Epoch : 100 , training loss : 0.0010690120298501202 , validation loss : 2.661400079727173\n",
      "Epoch : 101 , training loss : 0.0010600791015588727 , validation loss : 2.658010244369507\n",
      "Epoch : 102 , training loss : 0.0010287450572114291 , validation loss : 2.6549320220947266\n",
      "Epoch : 103 , training loss : 0.0010188800186274182 , validation loss : 2.6520345211029053\n",
      "Epoch : 104 , training loss : 0.0010088782651827817 , validation loss : 2.649312734603882\n",
      "Epoch : 105 , training loss : 0.0009848165688086546 , validation loss : 2.646752119064331\n",
      "Epoch : 106 , training loss : 0.0009696464131641397 , validation loss : 2.644172191619873\n",
      "Epoch : 107 , training loss : 0.000958877975599056 , validation loss : 2.6415913105010986\n",
      "Epoch : 108 , training loss : 0.0009369116550691327 , validation loss : 2.639014959335327\n",
      "Epoch : 109 , training loss : 0.0009245337752968465 , validation loss : 2.6363742351531982\n",
      "Epoch : 110 , training loss : 0.0009102711854594466 , validation loss : 2.6337196826934814\n",
      "Epoch : 111 , training loss : 0.0008945680214980568 , validation loss : 2.6311705112457275\n",
      "Epoch : 112 , training loss : 0.0008761724441826932 , validation loss : 2.6287262439727783\n",
      "Epoch : 113 , training loss : 0.0008688447357455612 , validation loss : 2.6262476444244385\n",
      "Epoch : 114 , training loss : 0.0008585818673294087 , validation loss : 2.6237804889678955\n",
      "Epoch : 115 , training loss : 0.0008332010635824286 , validation loss : 2.621333360671997\n",
      "Epoch : 116 , training loss : 0.0008230570984826619 , validation loss : 2.6188268661499023\n",
      "Epoch : 117 , training loss : 0.0008168703490427058 , validation loss : 2.616316556930542\n",
      "Epoch : 118 , training loss : 0.0008072530564325126 , validation loss : 2.6139378547668457\n",
      "Epoch : 119 , training loss : 0.0007962326451792921 , validation loss : 2.611750364303589\n",
      "Epoch : 120 , training loss : 0.0007921134027511519 , validation loss : 2.60980486869812\n",
      "Epoch : 121 , training loss : 0.0007850491739717606 , validation loss : 2.608062505722046\n",
      "Epoch : 122 , training loss : 0.0007814335331204347 , validation loss : 2.6063597202301025\n",
      "Epoch : 123 , training loss : 0.0007735238170042928 , validation loss : 2.60467529296875\n",
      "Epoch : 124 , training loss : 0.000757376443959258 , validation loss : 2.6029317378997803\n",
      "Epoch : 125 , training loss : 0.0007547266860982697 , validation loss : 2.601031541824341\n",
      "Epoch : 126 , training loss : 0.000747906489490752 , validation loss : 2.599031686782837\n",
      "Epoch : 127 , training loss : 0.0007356348969072936 , validation loss : 2.597043037414551\n",
      "Epoch : 128 , training loss : 0.0007265299774237638 , validation loss : 2.5951507091522217\n",
      "Epoch : 129 , training loss : 0.0007238128742564617 , validation loss : 2.593414306640625\n",
      "Epoch : 130 , training loss : 0.0007184558129857147 , validation loss : 2.591879367828369\n",
      "Epoch : 131 , training loss : 0.000709669021920203 , validation loss : 2.590552568435669\n",
      "Epoch : 132 , training loss : 0.0007025644230644071 , validation loss : 2.5894017219543457\n",
      "Epoch : 133 , training loss : 0.0006976739260656023 , validation loss : 2.5883779525756836\n",
      "Epoch : 134 , training loss : 0.0006910841419946672 , validation loss : 2.5874340534210205\n",
      "Epoch : 135 , training loss : 0.0006827733647553128 , validation loss : 2.5864696502685547\n",
      "Epoch : 136 , training loss : 0.0006749141772927128 , validation loss : 2.5854575634002686\n",
      "Epoch : 137 , training loss : 0.0006680164936513297 , validation loss : 2.584383249282837\n",
      "Epoch : 138 , training loss : 0.0006604738878913371 , validation loss : 2.5832529067993164\n",
      "Epoch : 139 , training loss : 0.0006526348779995093 , validation loss : 2.5820767879486084\n",
      "Epoch : 140 , training loss : 0.0006461389978204878 , validation loss : 2.580876350402832\n",
      "Epoch : 141 , training loss : 0.0006371974038637219 , validation loss : 2.5795986652374268\n",
      "Epoch : 142 , training loss : 0.0006338332160866182 , validation loss : 2.5780978202819824\n",
      "Epoch : 143 , training loss : 0.0006251123706629427 , validation loss : 2.5764148235321045\n",
      "Epoch : 144 , training loss : 0.0006141699657171941 , validation loss : 2.574640989303589\n",
      "Epoch : 145 , training loss : 0.0006101613593943368 , validation loss : 2.5728225708007812\n",
      "Epoch : 146 , training loss : 0.0006035758595221284 , validation loss : 2.570967435836792\n",
      "Epoch : 147 , training loss : 0.0005989692430088517 , validation loss : 2.5690202713012695\n",
      "Epoch : 148 , training loss : 0.0005899002527784385 , validation loss : 2.5670347213745117\n",
      "Epoch : 149 , training loss : 0.0005804531972803249 , validation loss : 2.565077543258667\n",
      "Epoch : 150 , training loss : 0.000576274034660616 , validation loss : 2.5632054805755615\n",
      "Epoch : 151 , training loss : 0.0005719804790523516 , validation loss : 2.561478614807129\n",
      "Epoch : 152 , training loss : 0.0005649654983579623 , validation loss : 2.5599365234375\n",
      "Epoch : 153 , training loss : 0.0005586059096937166 , validation loss : 2.5585644245147705\n",
      "Epoch : 154 , training loss : 0.0005538883304229545 , validation loss : 2.557331085205078\n",
      "Epoch : 155 , training loss : 0.0005476726670933299 , validation loss : 2.5561351776123047\n",
      "Epoch : 156 , training loss : 0.000537410743785777 , validation loss : 2.55486798286438\n",
      "Epoch : 157 , training loss : 0.0005330762522996673 , validation loss : 2.5533385276794434\n",
      "Epoch : 158 , training loss : 0.00052391005910498 , validation loss : 2.5515828132629395\n",
      "Epoch : 159 , training loss : 0.0005131050701924036 , validation loss : 2.5496890544891357\n",
      "Epoch : 160 , training loss : 0.0005074957809579485 , validation loss : 2.5477373600006104\n",
      "Epoch : 161 , training loss : 0.0005033098921941066 , validation loss : 2.5458390712738037\n",
      "Epoch : 162 , training loss : 0.00049720267988481 , validation loss : 2.5440871715545654\n",
      "Epoch : 163 , training loss : 0.0004889433766948059 , validation loss : 2.5424258708953857\n",
      "Epoch : 164 , training loss : 0.0004867273939070353 , validation loss : 2.54070782661438\n",
      "Epoch : 165 , training loss : 0.0004785175660799723 , validation loss : 2.5388972759246826\n",
      "Epoch : 166 , training loss : 0.00046799559698372734 , validation loss : 2.5370426177978516\n",
      "Epoch : 167 , training loss : 0.0004628489182084051 , validation loss : 2.5351686477661133\n",
      "Epoch : 168 , training loss : 0.00045816476956947314 , validation loss : 2.5333454608917236\n",
      "Epoch : 169 , training loss : 0.00045188770136998134 , validation loss : 2.5316405296325684\n",
      "Epoch : 170 , training loss : 0.00044384017019183375 , validation loss : 2.5299713611602783\n",
      "Epoch : 171 , training loss : 0.00044161845825759595 , validation loss : 2.5281660556793213\n",
      "Epoch : 172 , training loss : 0.00043420416180819493 , validation loss : 2.526262044906616\n",
      "Epoch : 173 , training loss : 0.00042572257217742796 , validation loss : 2.5243287086486816\n",
      "Epoch : 174 , training loss : 0.00042269514290781346 , validation loss : 2.52241587638855\n",
      "Epoch : 175 , training loss : 0.0004193609623287461 , validation loss : 2.5206034183502197\n",
      "Epoch : 176 , training loss : 0.00041287350273035514 , validation loss : 2.518908739089966\n",
      "Epoch : 177 , training loss : 0.0004073747469718862 , validation loss : 2.517324686050415\n",
      "Epoch : 178 , training loss : 0.00040333153102485657 , validation loss : 2.515826940536499\n",
      "Epoch : 179 , training loss : 0.0003982817244449459 , validation loss : 2.5144004821777344\n",
      "Epoch : 180 , training loss : 0.0003910404926787841 , validation loss : 2.512927293777466\n",
      "Epoch : 181 , training loss : 0.00038767356244007764 , validation loss : 2.5112416744232178\n",
      "Epoch : 182 , training loss : 0.0003811772682973625 , validation loss : 2.5093252658843994\n",
      "Epoch : 183 , training loss : 0.00037558662121515036 , validation loss : 2.507288694381714\n",
      "Epoch : 184 , training loss : 0.0003732730748245223 , validation loss : 2.5051639080047607\n",
      "Epoch : 185 , training loss : 0.00037069101285612164 , validation loss : 2.502910852432251\n",
      "Epoch : 186 , training loss : 0.00036531288998575243 , validation loss : 2.5006563663482666\n",
      "Epoch : 187 , training loss : 0.00036080580589202186 , validation loss : 2.4985101222991943\n",
      "Epoch : 188 , training loss : 0.00035999288210357346 , validation loss : 2.496497392654419\n",
      "Epoch : 189 , training loss : 0.00035599376286355486 , validation loss : 2.49469256401062\n",
      "Epoch : 190 , training loss : 0.0003512307172824972 , validation loss : 2.4930968284606934\n",
      "Epoch : 191 , training loss : 0.00034850321926090767 , validation loss : 2.491655111312866\n",
      "Epoch : 192 , training loss : 0.0003454640797204583 , validation loss : 2.4903106689453125\n",
      "Epoch : 193 , training loss : 0.00034005243995986685 , validation loss : 2.4889333248138428\n",
      "Epoch : 194 , training loss : 0.000337448176938587 , validation loss : 2.487342119216919\n",
      "Epoch : 195 , training loss : 0.0003335526121908946 , validation loss : 2.4855597019195557\n",
      "Epoch : 196 , training loss : 0.00032944359248320227 , validation loss : 2.4835989475250244\n",
      "Epoch : 197 , training loss : 0.00032805002257718066 , validation loss : 2.481411933898926\n",
      "Epoch : 198 , training loss : 0.00032422910551663096 , validation loss : 2.479159355163574\n",
      "Epoch : 199 , training loss : 0.00032045920325847536 , validation loss : 2.4770071506500244\n",
      "Epoch : 200 , training loss : 0.0003198063999374618 , validation loss : 2.4750595092773438\n",
      "Epoch : 201 , training loss : 0.0003174518847357065 , validation loss : 2.4733927249908447\n",
      "Epoch : 202 , training loss : 0.0003144229832335106 , validation loss : 2.472013473510742\n",
      "Epoch : 203 , training loss : 0.0003128994287276567 , validation loss : 2.4708549976348877\n",
      "Epoch : 204 , training loss : 0.0003106076328549534 , validation loss : 2.4698355197906494\n",
      "Epoch : 205 , training loss : 0.0003071488168452082 , validation loss : 2.468846321105957\n",
      "Epoch : 206 , training loss : 0.00030438004729436025 , validation loss : 2.4678196907043457\n",
      "Epoch : 207 , training loss : 0.0003018592247635273 , validation loss : 2.4666357040405273\n",
      "Epoch : 208 , training loss : 0.00029888396104644545 , validation loss : 2.4651548862457275\n",
      "Epoch : 209 , training loss : 0.0002964211937643612 , validation loss : 2.463437557220459\n",
      "Epoch : 210 , training loss : 0.00029395655407202676 , validation loss : 2.461519479751587\n",
      "Epoch : 211 , training loss : 0.0002918320780353449 , validation loss : 2.4593865871429443\n",
      "Epoch : 212 , training loss : 0.00028881113470752577 , validation loss : 2.457216262817383\n",
      "Epoch : 213 , training loss : 0.00028625994328697406 , validation loss : 2.4551689624786377\n",
      "Epoch : 214 , training loss : 0.00028546236966289334 , validation loss : 2.453340530395508\n",
      "Epoch : 215 , training loss : 0.0002828232080853348 , validation loss : 2.4518001079559326\n",
      "Epoch : 216 , training loss : 0.0002805428754838527 , validation loss : 2.4505350589752197\n",
      "Epoch : 217 , training loss : 0.0002792640836177222 , validation loss : 2.4494645595550537\n",
      "Epoch : 218 , training loss : 0.0002766933939710725 , validation loss : 2.448509931564331\n",
      "Epoch : 219 , training loss : 0.00027434968222606634 , validation loss : 2.447601795196533\n",
      "Epoch : 220 , training loss : 0.0002727021819737274 , validation loss : 2.44667911529541\n",
      "Epoch : 221 , training loss : 0.0002706704916291576 , validation loss : 2.44571852684021\n",
      "Epoch : 222 , training loss : 0.0002687485414897214 , validation loss : 2.444723129272461\n",
      "Epoch : 223 , training loss : 0.0002674796154391707 , validation loss : 2.443706750869751\n",
      "Epoch : 224 , training loss : 0.0002659361171505512 , validation loss : 2.4426052570343018\n",
      "Epoch : 225 , training loss : 0.00026522387002171996 , validation loss : 2.4412612915039062\n",
      "Epoch : 226 , training loss : 0.0002619946604490427 , validation loss : 2.4396398067474365\n",
      "Epoch : 227 , training loss : 0.00026032379345882585 , validation loss : 2.4377098083496094\n",
      "Epoch : 228 , training loss : 0.00025790922728973734 , validation loss : 2.4356324672698975\n",
      "Epoch : 229 , training loss : 0.00025602546769445516 , validation loss : 2.4336111545562744\n",
      "Epoch : 230 , training loss : 0.0002545782906389305 , validation loss : 2.4317946434020996\n",
      "Epoch : 231 , training loss : 0.0002524451460646416 , validation loss : 2.430269241333008\n",
      "Epoch : 232 , training loss : 0.0002505762028082053 , validation loss : 2.429032325744629\n",
      "Epoch : 233 , training loss : 0.00024895381303442836 , validation loss : 2.4280107021331787\n",
      "Epoch : 234 , training loss : 0.00024669757093713425 , validation loss : 2.4271137714385986\n",
      "Epoch : 235 , training loss : 0.0002447148826353154 , validation loss : 2.4262568950653076\n",
      "Epoch : 236 , training loss : 0.00024300388701560318 , validation loss : 2.4253756999969482\n",
      "Epoch : 237 , training loss : 0.00024111847290585406 , validation loss : 2.4244415760040283\n",
      "Epoch : 238 , training loss : 0.00023942540945809973 , validation loss : 2.4234602451324463\n",
      "Epoch : 239 , training loss : 0.00023787892477182475 , validation loss : 2.4224483966827393\n",
      "Epoch : 240 , training loss : 0.00023624915526230134 , validation loss : 2.4214327335357666\n",
      "Epoch : 241 , training loss : 0.0002353849411424323 , validation loss : 2.4204394817352295\n",
      "Epoch : 242 , training loss : 0.00023515655649182583 , validation loss : 2.4193108081817627\n",
      "Epoch : 243 , training loss : 0.0002319177338473597 , validation loss : 2.417762517929077\n",
      "Epoch : 244 , training loss : 0.00023148105691162576 , validation loss : 2.4158835411071777\n",
      "Epoch : 245 , training loss : 0.00023038354399767215 , validation loss : 2.413891077041626\n",
      "Epoch : 246 , training loss : 0.00022827783839985435 , validation loss : 2.4120121002197266\n",
      "Epoch : 247 , training loss : 0.00022667705113570648 , validation loss : 2.410440444946289\n",
      "Epoch : 248 , training loss : 0.0002261049483326803 , validation loss : 2.4092190265655518\n",
      "Epoch : 249 , training loss : 0.0002246456403410871 , validation loss : 2.4082956314086914\n",
      "Epoch : 250 , training loss : 0.0002228335441414904 , validation loss : 2.4075777530670166\n",
      "Epoch : 251 , training loss : 0.00022177815749034236 , validation loss : 2.406913995742798\n",
      "Epoch : 252 , training loss : 0.00021990402226373064 , validation loss : 2.40620493888855\n",
      "Epoch : 253 , training loss : 0.000218108577093134 , validation loss : 2.405402898788452\n",
      "Epoch : 254 , training loss : 0.00021673345882414937 , validation loss : 2.4045069217681885\n",
      "Epoch : 255 , training loss : 0.00021504116739379242 , validation loss : 2.4035189151763916\n",
      "Epoch : 256 , training loss : 0.0002136809211821712 , validation loss : 2.402486562728882\n",
      "Epoch : 257 , training loss : 0.00021274590644201167 , validation loss : 2.4013750553131104\n",
      "Epoch : 258 , training loss : 0.00021116479757964904 , validation loss : 2.400040864944458\n",
      "Epoch : 259 , training loss : 0.00020970977531856318 , validation loss : 2.3984591960906982\n",
      "Epoch : 260 , training loss : 0.00020832599042669723 , validation loss : 2.396622657775879\n",
      "Epoch : 261 , training loss : 0.00020649742739471165 , validation loss : 2.3946897983551025\n",
      "Epoch : 262 , training loss : 0.00020543561224353892 , validation loss : 2.392873525619507\n",
      "Epoch : 263 , training loss : 0.00020390651384092818 , validation loss : 2.3913304805755615\n",
      "Epoch : 264 , training loss : 0.00020210976167857697 , validation loss : 2.390089273452759\n",
      "Epoch : 265 , training loss : 0.00020098419860771269 , validation loss : 2.3891501426696777\n",
      "Epoch : 266 , training loss : 0.00019943091702819067 , validation loss : 2.388385772705078\n",
      "Epoch : 267 , training loss : 0.0001978658101028199 , validation loss : 2.3876829147338867\n",
      "Epoch : 268 , training loss : 0.00019674218454287926 , validation loss : 2.386964797973633\n",
      "Epoch : 269 , training loss : 0.0001954876870992226 , validation loss : 2.386190176010132\n",
      "Epoch : 270 , training loss : 0.00019489137584490605 , validation loss : 2.3852732181549072\n",
      "Epoch : 271 , training loss : 0.00019296827897625533 , validation loss : 2.3840744495391846\n",
      "Epoch : 272 , training loss : 0.00019231401874046577 , validation loss : 2.3826730251312256\n",
      "Epoch : 273 , training loss : 0.00019197690198780037 , validation loss : 2.3812382221221924\n",
      "Epoch : 274 , training loss : 0.00019024826772357826 , validation loss : 2.379817485809326\n",
      "Epoch : 275 , training loss : 0.0001884884362593048 , validation loss : 2.378356456756592\n",
      "Epoch : 276 , training loss : 0.000187856601482245 , validation loss : 2.3769190311431885\n",
      "Epoch : 277 , training loss : 0.00018687635230507063 , validation loss : 2.3756120204925537\n",
      "Epoch : 278 , training loss : 0.00018534830527833516 , validation loss : 2.374464273452759\n",
      "Epoch : 279 , training loss : 0.0001844647713848022 , validation loss : 2.3735015392303467\n",
      "Epoch : 280 , training loss : 0.0001832514864968528 , validation loss : 2.3726718425750732\n",
      "Epoch : 281 , training loss : 0.000181726703311525 , validation loss : 2.3719260692596436\n",
      "Epoch : 282 , training loss : 0.00018056404894052416 , validation loss : 2.371232032775879\n",
      "Epoch : 283 , training loss : 0.00017922592585244658 , validation loss : 2.3705217838287354\n",
      "Epoch : 284 , training loss : 0.0001780272598951246 , validation loss : 2.369762659072876\n",
      "Epoch : 285 , training loss : 0.00017756091045540465 , validation loss : 2.368884325027466\n",
      "Epoch : 286 , training loss : 0.00017534693765092495 , validation loss : 2.367727041244507\n",
      "Epoch : 287 , training loss : 0.00017495353945138814 , validation loss : 2.366368055343628\n",
      "Epoch : 288 , training loss : 0.00017396874586426603 , validation loss : 2.3649675846099854\n",
      "Epoch : 289 , training loss : 0.00017193274604659038 , validation loss : 2.3636951446533203\n",
      "Epoch : 290 , training loss : 0.00017097162459609345 , validation loss : 2.3626179695129395\n",
      "Epoch : 291 , training loss : 0.00017010919500056557 , validation loss : 2.3617589473724365\n",
      "Epoch : 292 , training loss : 0.00016856966536387948 , validation loss : 2.3609399795532227\n",
      "Epoch : 293 , training loss : 0.00016703162691555917 , validation loss : 2.359957695007324\n",
      "Epoch : 294 , training loss : 0.0001664479187686658 , validation loss : 2.3587934970855713\n",
      "Epoch : 295 , training loss : 0.00016556294653319607 , validation loss : 2.3575472831726074\n",
      "Epoch : 296 , training loss : 0.00016397956087051794 , validation loss : 2.356335401535034\n",
      "Epoch : 297 , training loss : 0.00016299943040633624 , validation loss : 2.3552582263946533\n",
      "Epoch : 298 , training loss : 0.00016183634560500075 , validation loss : 2.3543503284454346\n",
      "Epoch : 299 , training loss : 0.00016063264736562575 , validation loss : 2.35359525680542\n",
      "Epoch : 300 , training loss : 0.0001601598998700195 , validation loss : 2.3528780937194824\n",
      "Epoch : 301 , training loss : 0.00015819000480788467 , validation loss : 2.3519296646118164\n",
      "Epoch : 302 , training loss : 0.0001581107261651931 , validation loss : 2.35076642036438\n",
      "Epoch : 303 , training loss : 0.00015728075978634144 , validation loss : 2.3495213985443115\n",
      "Epoch : 304 , training loss : 0.00015553620668422235 , validation loss : 2.348323106765747\n",
      "Epoch : 305 , training loss : 0.00015482479284401052 , validation loss : 2.3472981452941895\n",
      "Epoch : 306 , training loss : 0.00015365195021762416 , validation loss : 2.3464863300323486\n",
      "Epoch : 307 , training loss : 0.00015235825278643077 , validation loss : 2.3458173274993896\n",
      "Epoch : 308 , training loss : 0.00015162251599433243 , validation loss : 2.3452329635620117\n",
      "Epoch : 309 , training loss : 0.00015046446404946772 , validation loss : 2.344651460647583\n",
      "Epoch : 310 , training loss : 0.00014960740430213168 , validation loss : 2.3440325260162354\n",
      "Epoch : 311 , training loss : 0.00014876255476050764 , validation loss : 2.3433868885040283\n",
      "Epoch : 312 , training loss : 0.00014777604940862052 , validation loss : 2.342693567276001\n",
      "Epoch : 313 , training loss : 0.00014698607992613688 , validation loss : 2.3419911861419678\n",
      "Epoch : 314 , training loss : 0.00014607225507222066 , validation loss : 2.3413143157958984\n",
      "Epoch : 315 , training loss : 0.0001451086383512072 , validation loss : 2.3406944274902344\n",
      "Epoch : 316 , training loss : 0.00014421192597518186 , validation loss : 2.3401081562042236\n",
      "Epoch : 317 , training loss : 0.00014324795598727897 , validation loss : 2.3395328521728516\n",
      "Epoch : 318 , training loss : 0.0001423404924265158 , validation loss : 2.3389580249786377\n",
      "Epoch : 319 , training loss : 0.00014144590922545545 , validation loss : 2.338374376296997\n",
      "Epoch : 320 , training loss : 0.00014051136244425404 , validation loss : 2.337796449661255\n",
      "Epoch : 321 , training loss : 0.0001396692471309124 , validation loss : 2.337198495864868\n",
      "Epoch : 322 , training loss : 0.00013877055531147083 , validation loss : 2.3365981578826904\n",
      "Epoch : 323 , training loss : 0.00013787186961915148 , validation loss : 2.33599853515625\n",
      "Epoch : 324 , training loss : 0.00013707624863232732 , validation loss : 2.3353936672210693\n",
      "Epoch : 325 , training loss : 0.00013666490677247852 , validation loss : 2.3347222805023193\n",
      "Epoch : 326 , training loss : 0.00013515872840224276 , validation loss : 2.3337931632995605\n",
      "Epoch : 327 , training loss : 0.00013529915036327255 , validation loss : 2.332676887512207\n",
      "Epoch : 328 , training loss : 0.00013502590866808437 , validation loss : 2.331449270248413\n",
      "Epoch : 329 , training loss : 0.00013281228032275592 , validation loss : 2.330059051513672\n",
      "Epoch : 330 , training loss : 0.00013303642155829278 , validation loss : 2.328673839569092\n",
      "Epoch : 331 , training loss : 0.00013167564879710736 , validation loss : 2.3274807929992676\n",
      "Epoch : 332 , training loss : 0.00013045362012283141 , validation loss : 2.326510429382324\n",
      "Epoch : 333 , training loss : 0.00013000632469284987 , validation loss : 2.3258235454559326\n",
      "Epoch : 334 , training loss : 0.00012858986251797577 , validation loss : 2.32532000541687\n",
      "Epoch : 335 , training loss : 0.00012806277338409257 , validation loss : 2.324885368347168\n",
      "Epoch : 336 , training loss : 0.00012731575847474712 , validation loss : 2.3244428634643555\n",
      "Epoch : 337 , training loss : 0.0001264653368898986 , validation loss : 2.323925733566284\n",
      "Epoch : 338 , training loss : 0.0001259546954411474 , validation loss : 2.3233470916748047\n",
      "Epoch : 339 , training loss : 0.00012503041771675557 , validation loss : 2.322725296020508\n",
      "Epoch : 340 , training loss : 0.00012436512157651842 , validation loss : 2.322094678878784\n",
      "Epoch : 341 , training loss : 0.00012359436224965305 , validation loss : 2.3214845657348633\n",
      "Epoch : 342 , training loss : 0.00012277923834565292 , validation loss : 2.320906400680542\n",
      "Epoch : 343 , training loss : 0.0001221490854636374 , validation loss : 2.320341110229492\n",
      "Epoch : 344 , training loss : 0.00012137982019722633 , validation loss : 2.319772481918335\n",
      "Epoch : 345 , training loss : 0.00012066456321534995 , validation loss : 2.3192250728607178\n",
      "Epoch : 346 , training loss : 0.00012003828133425773 , validation loss : 2.3186583518981934\n",
      "Epoch : 347 , training loss : 0.00011929838460912976 , validation loss : 2.3180930614471436\n",
      "Epoch : 348 , training loss : 0.00011866446115355327 , validation loss : 2.3175086975097656\n",
      "Epoch : 349 , training loss : 0.00011797989301205809 , validation loss : 2.3169267177581787\n",
      "Epoch : 350 , training loss : 0.00011728409653618368 , validation loss : 2.31634783744812\n",
      "Epoch : 351 , training loss : 0.00011666501067290818 , validation loss : 2.315765619277954\n",
      "Epoch : 352 , training loss : 0.00011596499643928837 , validation loss : 2.3151843547821045\n",
      "Epoch : 353 , training loss : 0.00011533318416025538 , validation loss : 2.3146049976348877\n",
      "Epoch : 354 , training loss : 0.00011466257523065188 , validation loss : 2.314046859741211\n",
      "Epoch : 355 , training loss : 0.00011404627021922926 , validation loss : 2.3134818077087402\n",
      "Epoch : 356 , training loss : 0.00011342234153600752 , validation loss : 2.3129117488861084\n",
      "Epoch : 357 , training loss : 0.00011274034104165989 , validation loss : 2.312371015548706\n",
      "Epoch : 358 , training loss : 0.00011219623085803745 , validation loss : 2.3118159770965576\n",
      "Epoch : 359 , training loss : 0.00011153794950683062 , validation loss : 2.3112633228302\n",
      "Epoch : 360 , training loss : 0.0001110173934169947 , validation loss : 2.3107144832611084\n",
      "Epoch : 361 , training loss : 0.000110965276307022 , validation loss : 2.310145854949951\n",
      "Epoch : 362 , training loss : 0.00010991430692803605 , validation loss : 2.3092973232269287\n",
      "Epoch : 363 , training loss : 0.00011080447075073607 , validation loss : 2.3081748485565186\n",
      "Epoch : 364 , training loss : 0.00010911661899483174 , validation loss : 2.3067686557769775\n",
      "Epoch : 365 , training loss : 0.00010940974760543261 , validation loss : 2.3052902221679688\n",
      "Epoch : 366 , training loss : 0.00010833211299062608 , validation loss : 2.304039478302002\n",
      "Epoch : 367 , training loss : 0.00010721838694543724 , validation loss : 2.303098678588867\n",
      "Epoch : 368 , training loss : 0.00010697945627295045 , validation loss : 2.30251407623291\n",
      "Epoch : 369 , training loss : 0.00010586703741098877 , validation loss : 2.3021373748779297\n",
      "Epoch : 370 , training loss : 0.00010566239612480306 , validation loss : 2.3018369674682617\n",
      "Epoch : 371 , training loss : 0.00010509506175463015 , validation loss : 2.3014981746673584\n",
      "Epoch : 372 , training loss : 0.0001047279332085868 , validation loss : 2.301053285598755\n",
      "Epoch : 373 , training loss : 0.00010429430949443486 , validation loss : 2.300569534301758\n",
      "Epoch : 374 , training loss : 0.0001037639730815212 , validation loss : 2.300016164779663\n",
      "Epoch : 375 , training loss : 0.00010331962326553797 , validation loss : 2.2994728088378906\n",
      "Epoch : 376 , training loss : 0.00010265520971810666 , validation loss : 2.2989871501922607\n",
      "Epoch : 377 , training loss : 0.00010226465555637045 , validation loss : 2.2985363006591797\n",
      "Epoch : 378 , training loss : 0.00010166025621353918 , validation loss : 2.2981388568878174\n",
      "Epoch : 379 , training loss : 0.00010126797764984842 , validation loss : 2.2977235317230225\n",
      "Epoch : 380 , training loss : 0.00010079357334210439 , validation loss : 2.2972917556762695\n",
      "Epoch : 381 , training loss : 0.00010029626173491124 , validation loss : 2.296833038330078\n",
      "Epoch : 382 , training loss : 9.988597594201565e-05 , validation loss : 2.2963645458221436\n",
      "Epoch : 383 , training loss : 9.93516260725875e-05 , validation loss : 2.2958881855010986\n",
      "Epoch : 384 , training loss : 9.893262511851437e-05 , validation loss : 2.295414686203003\n",
      "Epoch : 385 , training loss : 9.84012450843645e-05 , validation loss : 2.2949674129486084\n",
      "Epoch : 386 , training loss : 9.796935314386103e-05 , validation loss : 2.2945406436920166\n",
      "Epoch : 387 , training loss : 9.752964778224276e-05 , validation loss : 2.294110059738159\n",
      "Epoch : 388 , training loss : 9.70739818417075e-05 , validation loss : 2.2936601638793945\n",
      "Epoch : 389 , training loss : 9.663953891216998e-05 , validation loss : 2.2932016849517822\n",
      "Epoch : 390 , training loss : 9.617507451988978e-05 , validation loss : 2.292739152908325\n",
      "Epoch : 391 , training loss : 9.574001533588958e-05 , validation loss : 2.292278289794922\n",
      "Epoch : 392 , training loss : 9.526336725684814e-05 , validation loss : 2.291839361190796\n",
      "Epoch : 393 , training loss : 9.484988109570143e-05 , validation loss : 2.2914111614227295\n",
      "Epoch : 394 , training loss : 9.441687057245105e-05 , validation loss : 2.2909786701202393\n",
      "Epoch : 395 , training loss : 9.399294561406255e-05 , validation loss : 2.2905309200286865\n",
      "Epoch : 396 , training loss : 9.36310834252876e-05 , validation loss : 2.2900800704956055\n",
      "Epoch : 397 , training loss : 9.365866571897641e-05 , validation loss : 2.2895705699920654\n",
      "Epoch : 398 , training loss : 9.288106440707404e-05 , validation loss : 2.2887208461761475\n",
      "Epoch : 399 , training loss : 9.311079396100372e-05 , validation loss : 2.287663698196411\n",
      "Epoch : 400 , training loss : 9.211760889708163e-05 , validation loss : 2.286635398864746\n",
      "Epoch : 401 , training loss : 9.171337449898649e-05 , validation loss : 2.285768747329712\n",
      "Epoch : 402 , training loss : 9.112021062288764e-05 , validation loss : 2.2852203845977783\n",
      "Epoch : 403 , training loss : 9.054592555912677e-05 , validation loss : 2.2848358154296875\n",
      "Epoch : 404 , training loss : 9.025061449631864e-05 , validation loss : 2.2845754623413086\n",
      "Epoch : 405 , training loss : 8.979476699192004e-05 , validation loss : 2.284254789352417\n",
      "Epoch : 406 , training loss : 8.958583940080931e-05 , validation loss : 2.2838709354400635\n",
      "Epoch : 407 , training loss : 8.911216422060726e-05 , validation loss : 2.283390760421753\n",
      "Epoch : 408 , training loss : 8.882000245074251e-05 , validation loss : 2.2828848361968994\n",
      "Epoch : 409 , training loss : 8.829738975404517e-05 , validation loss : 2.2823727130889893\n",
      "Epoch : 410 , training loss : 8.795463834662529e-05 , validation loss : 2.2818987369537354\n",
      "Epoch : 411 , training loss : 8.747713304489337e-05 , validation loss : 2.281456232070923\n",
      "Epoch : 412 , training loss : 8.708968533411328e-05 , validation loss : 2.281073570251465\n",
      "Epoch : 413 , training loss : 8.67489428568852e-05 , validation loss : 2.2806782722473145\n",
      "Epoch : 414 , training loss : 8.636983712724606e-05 , validation loss : 2.2802610397338867\n",
      "Epoch : 415 , training loss : 8.599969212235392e-05 , validation loss : 2.2798309326171875\n",
      "Epoch : 416 , training loss : 8.562982188059802e-05 , validation loss : 2.279397964477539\n",
      "Epoch : 417 , training loss : 8.525531206702765e-05 , validation loss : 2.27895450592041\n",
      "Epoch : 418 , training loss : 8.486100935107588e-05 , validation loss : 2.278531789779663\n",
      "Epoch : 419 , training loss : 8.449012497485934e-05 , validation loss : 2.2781243324279785\n",
      "Epoch : 420 , training loss : 8.414770548513748e-05 , validation loss : 2.2777087688446045\n",
      "Epoch : 421 , training loss : 8.376980086292238e-05 , validation loss : 2.2772836685180664\n",
      "Epoch : 422 , training loss : 8.339207335283343e-05 , validation loss : 2.276881217956543\n",
      "Epoch : 423 , training loss : 8.306146121053883e-05 , validation loss : 2.276472330093384\n",
      "Epoch : 424 , training loss : 8.269105379249116e-05 , validation loss : 2.27606201171875\n",
      "Epoch : 425 , training loss : 8.231577646112878e-05 , validation loss : 2.2756741046905518\n",
      "Epoch : 426 , training loss : 8.201974957812222e-05 , validation loss : 2.2752673625946045\n",
      "Epoch : 427 , training loss : 8.163524551874664e-05 , validation loss : 2.2748472690582275\n",
      "Epoch : 428 , training loss : 8.130590365334156e-05 , validation loss : 2.274423360824585\n",
      "Epoch : 429 , training loss : 8.094268722695568e-05 , validation loss : 2.274000883102417\n",
      "Epoch : 430 , training loss : 8.06034499155909e-05 , validation loss : 2.2735795974731445\n",
      "Epoch : 431 , training loss : 8.021121749678921e-05 , validation loss : 2.2732059955596924\n",
      "Epoch : 432 , training loss : 7.995584976589798e-05 , validation loss : 2.272808313369751\n",
      "Epoch : 433 , training loss : 7.956906943275642e-05 , validation loss : 2.2724077701568604\n",
      "Epoch : 434 , training loss : 7.928083031354043e-05 , validation loss : 2.271986722946167\n",
      "Epoch : 435 , training loss : 7.891486611218792e-05 , validation loss : 2.271570920944214\n",
      "Epoch : 436 , training loss : 7.860087182627084e-05 , validation loss : 2.271146535873413\n",
      "Epoch : 437 , training loss : 7.820331096522033e-05 , validation loss : 2.270768404006958\n",
      "Epoch : 438 , training loss : 7.791156852028125e-05 , validation loss : 2.2703704833984375\n",
      "Epoch : 439 , training loss : 7.749642176541353e-05 , validation loss : 2.2699944972991943\n",
      "Epoch : 440 , training loss : 7.719486793097243e-05 , validation loss : 2.2695915699005127\n",
      "Epoch : 441 , training loss : 7.679093888375639e-05 , validation loss : 2.26921010017395\n",
      "Epoch : 442 , training loss : 7.649508135823693e-05 , validation loss : 2.2687947750091553\n",
      "Epoch : 443 , training loss : 7.60593870118579e-05 , validation loss : 2.2684311866760254\n",
      "Epoch : 444 , training loss : 7.582457357401788e-05 , validation loss : 2.2680182456970215\n",
      "Epoch : 445 , training loss : 7.536728590869308e-05 , validation loss : 2.2676517963409424\n",
      "Epoch : 446 , training loss : 7.515837176853031e-05 , validation loss : 2.267230987548828\n",
      "Epoch : 447 , training loss : 7.46775910413003e-05 , validation loss : 2.2668750286102295\n",
      "Epoch : 448 , training loss : 7.452183270192778e-05 , validation loss : 2.2664527893066406\n",
      "Epoch : 449 , training loss : 7.402237114499593e-05 , validation loss : 2.266105890274048\n",
      "Epoch : 450 , training loss : 7.39274348329912e-05 , validation loss : 2.2656733989715576\n",
      "Epoch : 451 , training loss : 7.341058455111986e-05 , validation loss : 2.265326499938965\n",
      "Epoch : 452 , training loss : 7.347052345913223e-05 , validation loss : 2.2648379802703857\n",
      "Epoch : 453 , training loss : 7.270461370162114e-05 , validation loss : 2.2643964290618896\n",
      "Epoch : 454 , training loss : 7.312620973128727e-05 , validation loss : 2.2637951374053955\n",
      "Epoch : 455 , training loss : 7.230782907036452e-05 , validation loss : 2.263397216796875\n",
      "Epoch : 456 , training loss : 7.281384990308557e-05 , validation loss : 2.2628514766693115\n",
      "Epoch : 457 , training loss : 7.215171619559681e-05 , validation loss : 2.262576103210449\n",
      "Epoch : 458 , training loss : 7.299147507996837e-05 , validation loss : 2.2620720863342285\n",
      "Epoch : 459 , training loss : 7.240775708420475e-05 , validation loss : 2.2618887424468994\n",
      "Epoch : 460 , training loss : 7.416017141574565e-05 , validation loss : 2.261329412460327\n",
      "Epoch : 461 , training loss : 7.36878877265362e-05 , validation loss : 2.26117205619812\n",
      "Epoch : 462 , training loss : 7.695893806445191e-05 , validation loss : 2.260498285293579\n",
      "Epoch : 463 , training loss : 7.737053769424644e-05 , validation loss : 2.2604024410247803\n",
      "Epoch : 464 , training loss : 8.274965895045745e-05 , validation loss : 2.259509801864624\n",
      "Epoch : 465 , training loss : 8.264045764486869e-05 , validation loss : 2.2590484619140625\n",
      "Epoch : 466 , training loss : 9.760970413864063e-05 , validation loss : 2.2573108673095703\n",
      "Epoch : 467 , training loss : 9.651093454234989e-05 , validation loss : 2.2564048767089844\n",
      "Epoch : 468 , training loss : 0.00012557482161929854 , validation loss : 2.2541890144348145\n",
      "Epoch : 469 , training loss : 0.00014253682667530435 , validation loss : 2.2539265155792236\n",
      "Epoch : 470 , training loss : 0.00018020936003219839 , validation loss : 2.2520062923431396\n",
      "Epoch : 471 , training loss : 0.00022527211560947378 , validation loss : 2.2523319721221924\n",
      "Epoch : 472 , training loss : 0.0003212301154761869 , validation loss : 2.249708652496338\n",
      "Epoch : 473 , training loss : 0.0004047356594942118 , validation loss : 2.24981689453125\n",
      "Epoch : 474 , training loss : 0.0006093541466581978 , validation loss : 2.246187925338745\n",
      "Epoch : 475 , training loss : 0.0007804957958318195 , validation loss : 2.2457828521728516\n",
      "Epoch : 476 , training loss : 0.0011676355582159502 , validation loss : 2.241776704788208\n",
      "Epoch : 477 , training loss : 0.0014825319782463147 , validation loss : 2.23952317237854\n",
      "Epoch : 478 , training loss : 0.0019280709560629667 , validation loss : 2.2364511489868164\n",
      "Epoch : 479 , training loss : 0.0022333527679285524 , validation loss : 2.232041120529175\n",
      "Epoch : 480 , training loss : 0.0023645870065880253 , validation loss : 2.2311153411865234\n",
      "Epoch : 481 , training loss : 0.0022347518717747575 , validation loss : 2.225214719772339\n",
      "Epoch : 482 , training loss : 0.0017594718703644742 , validation loss : 2.225508689880371\n",
      "Epoch : 483 , training loss : 0.0012160628439711505 , validation loss : 2.220158815383911\n",
      "Epoch : 484 , training loss : 0.000608376150730213 , validation loss : 2.218763589859009\n",
      "Epoch : 485 , training loss : 0.0002904942896413176 , validation loss : 2.216554641723633\n",
      "Epoch : 486 , training loss : 0.0001150543204594693 , validation loss : 2.214468002319336\n",
      "Epoch : 487 , training loss : 0.000128402483536966 , validation loss : 2.2148656845092773\n",
      "Epoch : 488 , training loss : 0.00014972130788680116 , validation loss : 2.213420867919922\n",
      "Epoch : 489 , training loss : 0.000154227990797632 , validation loss : 2.214158773422241\n",
      "Epoch : 490 , training loss : 0.00014496849268509418 , validation loss : 2.2134132385253906\n",
      "Epoch : 491 , training loss : 0.00011120451302447596 , validation loss : 2.213778257369995\n",
      "Epoch : 492 , training loss : 9.67757012786981e-05 , validation loss : 2.213531732559204\n",
      "Epoch : 493 , training loss : 7.456653625731154e-05 , validation loss : 2.2135539054870605\n",
      "Epoch : 494 , training loss : 7.26231827636519e-05 , validation loss : 2.2137084007263184\n",
      "Epoch : 495 , training loss : 6.68571442235445e-05 , validation loss : 2.2136645317077637\n",
      "Epoch : 496 , training loss : 6.681473190072116e-05 , validation loss : 2.2139627933502197\n",
      "Epoch : 497 , training loss : 6.613510193251147e-05 , validation loss : 2.213890314102173\n",
      "Epoch : 498 , training loss : 6.380949411035736e-05 , validation loss : 2.2140493392944336\n",
      "Epoch : 499 , training loss : 6.365913627872175e-05 , validation loss : 2.2139031887054443\n"
     ]
    }
   ],
   "source": [
    "data_module.learning_curve(num_epochs = num_epochs , train_loss = train_loss , val_loss = val_loss )"
   ]
  },
  {
   "cell_type": "markdown",
   "metadata": {},
   "source": [
    "# Step 5 : Evaluation\n",
    "This section is to inference the model by feeding in testing data, determining the output forecast value and calculating the RMSE.\n",
    "\n",
    "It consists of 4 sections :\n",
    "\n",
    "Section 1 : Feed in the train and test data to the model <br>\n",
    "Section 2 : Reshape both to the original data dimension <br> \n",
    "Section 3 : Invert the scaling back to the original data value <br>\n",
    "Section 4 : Calculate the RMSE of train and test data"
   ]
  },
  {
   "cell_type": "code",
   "execution_count": 21,
   "metadata": {},
   "outputs": [],
   "source": [
    "# Section 1 : make predictions\n",
    "with torch.no_grad():\n",
    "    y_train_prediction = model(train_data_dict['train_data_x_feature'])\n",
    "    y_test_prediction = model(test_data_dict['test_data_x_feature'])"
   ]
  },
  {
   "cell_type": "code",
   "execution_count": 22,
   "metadata": {},
   "outputs": [],
   "source": [
    "# Assign evaluation key\n",
    "\n",
    "prediction , output = data_module.key_assign_evaluation(y_train_prediction,\n",
    "                                                        y_test_prediction,\n",
    "                                                        train_data_dict,\n",
    "                                                        test_data_dict)\n",
    "# Section 2 : Reshape to original data\n",
    "# Squeeze the output dimension\n",
    "output_data = data_module.squeeze_dimension(output)\n"
   ]
  },
  {
   "cell_type": "code",
   "execution_count": 23,
   "metadata": {},
   "outputs": [
    {
     "name": "stdout",
     "output_type": "stream",
     "text": [
      "train_data_output shape : torch.Size([19, 1])\n",
      "test_data_output shape : torch.Size([3, 1])\n"
     ]
    }
   ],
   "source": [
    "data_module.sanity_check(data_1 = output_data,data_2 = {})"
   ]
  },
  {
   "cell_type": "code",
   "execution_count": 24,
   "metadata": {},
   "outputs": [],
   "source": [
    "# Section 3 : Invert predictions\n",
    "output_data_scaler = data_scalers[list(data_scalers)[-1]]\n",
    "prediction = data_module.inverse_scaler(prediction,output_data_scaler)\n",
    "output_data  = data_module.inverse_scaler(output_data ,output_data_scaler)"
   ]
  },
  {
   "cell_type": "code",
   "execution_count": 25,
   "metadata": {},
   "outputs": [
    {
     "name": "stdout",
     "output_type": "stream",
     "text": [
      "Test Data\t\t\tForecast\n",
      "[745.]\t\t[525.3171]\n",
      "[765.]\t\t[524.5587]\n",
      "[785.]\t\t[525.6238]\n"
     ]
    }
   ],
   "source": [
    "# List the forecast value\n",
    "data_module.list_forecast_value(output_data,prediction) "
   ]
  },
  {
   "cell_type": "code",
   "execution_count": 26,
   "metadata": {},
   "outputs": [
    {
     "name": "stdout",
     "output_type": "stream",
     "text": [
      "Train Score: 1.26 RMSE\n",
      "Test Score: 240.38 RMSE\n"
     ]
    }
   ],
   "source": [
    "# Section 4 : Calculate the RMSE of train and test data\n",
    "### BEGIN SOLUTION\n",
    "trainScore,testScore = data_module.rmse(prediction,output_data)\n",
    "### END SOLUTION\n",
    "print('Train Score: %.2f RMSE' % (trainScore))\n",
    "print('Test Score: %.2f RMSE' % (testScore))"
   ]
  },
  {
   "cell_type": "markdown",
   "metadata": {},
   "source": [
    "# Step 6 : Forecast Plot"
   ]
  },
  {
   "cell_type": "code",
   "execution_count": 27,
   "metadata": {},
   "outputs": [],
   "source": [
    "plot_details ={\"x-axis\" : \"Day\",\n",
    "          \"y-axis\" : \"Values\",\n",
    "          \"title\"  : \"Synthetic Data\"\n",
    "         }"
   ]
  },
  {
   "cell_type": "code",
   "execution_count": 28,
   "metadata": {},
   "outputs": [
    {
     "data": {
      "image/png": "[encoded data removed]",
      "text/plain": [
       "<Figure size 720x432 with 1 Axes>"
      ]
     },
     "metadata": {
      "needs_background": "light"
     },
     "output_type": "display_data"
    }
   ],
   "source": [
    "data_module.single_step_plot(original_test_data = test_data,\n",
    "                            sequence_test_data = output_data['test_data_output'],\n",
    "                            forecast_data = prediction['test_data_prediction'],\n",
    "                            test_time = test_time,\n",
    "                            window_size =  window_size,\n",
    "                            original_plot= False,\n",
    "                            multivariate= True)"
   ]
  },
  {
   "cell_type": "markdown",
   "metadata": {},
   "source": [
    "***"
   ]
  },
  {
   "cell_type": "markdown",
   "metadata": {},
   "source": [
    "# Part 2 : Exercise for Multivariate Multi-step\n",
    "\n",
    "## Task : Predicting the total number of death cases in COVID-19 Malaysia 3 day into the future\n",
    "\n",
    "### Introduction \n",
    "You are given a set of data that contain information about COVID-19 cases worldwide. You are required to perform some data analysis on it and predict the death cases.<br>\n",
    "\n",
    "Please follow the instruction and try to code the exercise. Please also feel free to use online resources to find out how to use a particular function in the data exploration part<br>\n",
    "\n",
    "\n",
    "\n",
    "Data Source : \n",
    "https://www.kaggle.com/sudalairajkumar/novel-corona-virus-2019-dataset"
   ]
  },
  {
   "cell_type": "markdown",
   "metadata": {},
   "source": [
    "## Hyperparameter\n",
    ">**Instruction** : <br>\n",
    "You are required to fill `None` with a suitable value to make the model converge\n",
    "\n",
    ">**Expected Result** : <br>\n",
    "Train Score <= 50 RMSE<br>\n",
    "Test Score <= 50 RMSE<br>"
   ]
  },
  {
   "cell_type": "code",
   "execution_count": 29,
   "metadata": {},
   "outputs": [
    {
     "data": {
      "text/plain": [
       "<torch._C.Generator at 0x1c6e5eb9890>"
      ]
     },
     "execution_count": 29,
     "metadata": {},
     "output_type": "execute_result"
    }
   ],
   "source": [
    "#Hyperameter\n",
    "split_ratio_covid = 0.80\n",
    "num_epochs_covid = 150\n",
    "window_size_covid = 20\n",
    "n_step_covid = 1\n",
    "learning_rate_covid = 0.001\n",
    "batch_size_covid = 5\n",
    "#seed\n",
    "torch.manual_seed(123)"
   ]
  },
  {
   "cell_type": "markdown",
   "metadata": {},
   "source": [
    "# Step 1 : Data Preparation\n",
    "In this tutorial, you will face a complex real-world dataset. You are required to use some of the data exploration techniques to help you prepare the data.\n",
    "\n",
    ">**Instruction** : <br>\n",
    "Read the file using `pd.read_csv`<br>\n",
    "Save your data as `cases`<br>\n",
    "Your file path `../../datasets/others/covid_19_data.csv`"
   ]
  },
  {
   "cell_type": "code",
   "execution_count": 30,
   "metadata": {},
   "outputs": [
    {
     "data": {
      "text/html": [
       "<div>\n",
       "<style scoped>\n",
       "    .dataframe tbody tr th:only-of-type {\n",
       "        vertical-align: middle;\n",
       "    }\n",
       "\n",
       "    .dataframe tbody tr th {\n",
       "        vertical-align: top;\n",
       "    }\n",
       "\n",
       "    .dataframe thead th {\n",
       "        text-align: right;\n",
       "    }\n",
       "</style>\n",
       "<table border=\"1\" class=\"dataframe\">\n",
       "  <thead>\n",
       "    <tr style=\"text-align: right;\">\n",
       "      <th></th>\n",
       "      <th>SNo</th>\n",
       "      <th>ObservationDate</th>\n",
       "      <th>Province/State</th>\n",
       "      <th>Country/Region</th>\n",
       "      <th>Last Update</th>\n",
       "      <th>Confirmed</th>\n",
       "      <th>Deaths</th>\n",
       "      <th>Recovered</th>\n",
       "    </tr>\n",
       "  </thead>\n",
       "  <tbody>\n",
       "    <tr>\n",
       "      <th>0</th>\n",
       "      <td>1</td>\n",
       "      <td>01/22/2020</td>\n",
       "      <td>Anhui</td>\n",
       "      <td>Mainland China</td>\n",
       "      <td>1/22/2020 17:00</td>\n",
       "      <td>1.0</td>\n",
       "      <td>0.0</td>\n",
       "      <td>0.0</td>\n",
       "    </tr>\n",
       "    <tr>\n",
       "      <th>1</th>\n",
       "      <td>2</td>\n",
       "      <td>01/22/2020</td>\n",
       "      <td>Beijing</td>\n",
       "      <td>Mainland China</td>\n",
       "      <td>1/22/2020 17:00</td>\n",
       "      <td>14.0</td>\n",
       "      <td>0.0</td>\n",
       "      <td>0.0</td>\n",
       "    </tr>\n",
       "    <tr>\n",
       "      <th>2</th>\n",
       "      <td>3</td>\n",
       "      <td>01/22/2020</td>\n",
       "      <td>Chongqing</td>\n",
       "      <td>Mainland China</td>\n",
       "      <td>1/22/2020 17:00</td>\n",
       "      <td>6.0</td>\n",
       "      <td>0.0</td>\n",
       "      <td>0.0</td>\n",
       "    </tr>\n",
       "    <tr>\n",
       "      <th>3</th>\n",
       "      <td>4</td>\n",
       "      <td>01/22/2020</td>\n",
       "      <td>Fujian</td>\n",
       "      <td>Mainland China</td>\n",
       "      <td>1/22/2020 17:00</td>\n",
       "      <td>1.0</td>\n",
       "      <td>0.0</td>\n",
       "      <td>0.0</td>\n",
       "    </tr>\n",
       "    <tr>\n",
       "      <th>4</th>\n",
       "      <td>5</td>\n",
       "      <td>01/22/2020</td>\n",
       "      <td>Gansu</td>\n",
       "      <td>Mainland China</td>\n",
       "      <td>1/22/2020 17:00</td>\n",
       "      <td>0.0</td>\n",
       "      <td>0.0</td>\n",
       "      <td>0.0</td>\n",
       "    </tr>\n",
       "  </tbody>\n",
       "</table>\n",
       "</div>"
      ],
      "text/plain": [
       "   SNo ObservationDate Province/State  Country/Region      Last Update  \\\n",
       "0    1      01/22/2020          Anhui  Mainland China  1/22/2020 17:00   \n",
       "1    2      01/22/2020        Beijing  Mainland China  1/22/2020 17:00   \n",
       "2    3      01/22/2020      Chongqing  Mainland China  1/22/2020 17:00   \n",
       "3    4      01/22/2020         Fujian  Mainland China  1/22/2020 17:00   \n",
       "4    5      01/22/2020          Gansu  Mainland China  1/22/2020 17:00   \n",
       "\n",
       "   Confirmed  Deaths  Recovered  \n",
       "0        1.0     0.0        0.0  \n",
       "1       14.0     0.0        0.0  \n",
       "2        6.0     0.0        0.0  \n",
       "3        1.0     0.0        0.0  \n",
       "4        0.0     0.0        0.0  "
      ]
     },
     "execution_count": 30,
     "metadata": {},
     "output_type": "execute_result"
    }
   ],
   "source": [
    "### BEGIN SOLUTION\n",
    "cases = pd.read_csv(\"../../datasets/others/covid_19_data.csv\")\n",
    "### END SOLUTION\n",
    "cases.head()"
   ]
  },
  {
   "cell_type": "markdown",
   "metadata": {},
   "source": [
    "As you can see, the data contains info on COVID-19 cases from other countries as well. Hence, you need to slice the COVID-19 info only for Malaysia.\n",
    "\n",
    ">**Instruction** : <br>\n",
    "Slice Malaysia's COVID-19 info out. You might need to use `df.loc[]` to help you slice the data.\n",
    "\n",
    ">**Expected Result** :<br>\n",
    "Example of first 5 rows of data :\n",
    "\n",
    "---\t|SNo\t|ObservationDate\t|Province/State\t|Country/Region\t|Last Update\t|Confirmed\t|Deaths\t|Recovered\n",
    " ---|---\t|---\t            |---\t        |---\t        |---\t        |---\t    |---\t|---\n",
    "78\t|79\t    |01/23/2020\t|NaN\t|Malaysia\t|1/23/20 |17:00\t|0.0\t|0.0\t|0.0\n",
    "168\t|169\t|01/25/2020\t|NaN\t|Malaysia\t|1/25/20 |17:00\t|3.0\t|0.0\t|0.0\n",
    "214\t|215\t|01/26/2020\t|NaN\t|Malaysia\t|1/26/20 |16:00\t|4.0\t|0.0\t|0.0\n",
    "260\t|261\t|01/27/2020\t|NaN\t|Malaysia\t|1/27/20 |23:59\t|4.0\t|0.0\t|0.0\n",
    "311\t|312\t|01/28/2020\t|NaN\t|Malaysia\t|1/28/20 |23:00\t|4.0\t|0.0\t|0.0"
   ]
  },
  {
   "cell_type": "code",
   "execution_count": 31,
   "metadata": {
    "scrolled": true
   },
   "outputs": [
    {
     "data": {
      "text/plain": [
       "array(['Mainland China', 'Hong Kong', 'Macau', 'Taiwan', 'US', 'Japan',\n",
       "       'Thailand', 'South Korea', 'Singapore', 'Philippines', 'Malaysia',\n",
       "       'Vietnam', 'Australia', 'Mexico', 'Brazil', 'Colombia', 'France',\n",
       "       'Nepal', 'Canada', 'Cambodia', 'Sri Lanka', 'Ivory Coast',\n",
       "       'Germany', 'Finland', 'United Arab Emirates', 'India', 'Italy',\n",
       "       'UK', 'Russia', 'Sweden', 'Spain', 'Belgium', 'Others', 'Egypt',\n",
       "       'Iran', 'Israel', 'Lebanon', 'Iraq', 'Oman', 'Afghanistan',\n",
       "       'Bahrain', 'Kuwait', 'Austria', 'Algeria', 'Croatia',\n",
       "       'Switzerland', 'Pakistan', 'Georgia', 'Greece', 'North Macedonia',\n",
       "       'Norway', 'Romania', 'Denmark', 'Estonia', 'Netherlands',\n",
       "       'San Marino', ' Azerbaijan', 'Belarus', 'Iceland', 'Lithuania',\n",
       "       'New Zealand', 'Nigeria', 'North Ireland', 'Ireland', 'Luxembourg',\n",
       "       'Monaco', 'Qatar', 'Ecuador', 'Azerbaijan', 'Czech Republic',\n",
       "       'Armenia', 'Dominican Republic', 'Indonesia', 'Portugal',\n",
       "       'Andorra', 'Latvia', 'Morocco', 'Saudi Arabia', 'Senegal',\n",
       "       'Argentina', 'Chile', 'Jordan', 'Ukraine', 'Saint Barthelemy',\n",
       "       'Hungary', 'Faroe Islands', 'Gibraltar', 'Liechtenstein', 'Poland',\n",
       "       'Tunisia', 'Palestine', 'Bosnia and Herzegovina', 'Slovenia',\n",
       "       'South Africa', 'Bhutan', 'Cameroon', 'Costa Rica', 'Peru',\n",
       "       'Serbia', 'Slovakia', 'Togo', 'Vatican City', 'French Guiana',\n",
       "       'Malta', 'Martinique', 'Republic of Ireland', 'Bulgaria',\n",
       "       'Maldives', 'Bangladesh', 'Moldova', 'Paraguay', 'Albania',\n",
       "       'Cyprus', 'St. Martin', 'Brunei', 'occupied Palestinian territory',\n",
       "       \"('St. Martin',)\", 'Burkina Faso', 'Channel Islands', 'Holy See',\n",
       "       'Mongolia', 'Panama', 'Bolivia', 'Honduras', 'Congo (Kinshasa)',\n",
       "       'Jamaica', 'Reunion', 'Turkey', 'Cuba', 'Guyana', 'Kazakhstan',\n",
       "       'Cayman Islands', 'Guadeloupe', 'Ethiopia', 'Sudan', 'Guinea',\n",
       "       'Antigua and Barbuda', 'Aruba', 'Kenya', 'Uruguay', 'Ghana',\n",
       "       'Jersey', 'Namibia', 'Seychelles', 'Trinidad and Tobago',\n",
       "       'Venezuela', 'Curacao', 'Eswatini', 'Gabon', 'Guatemala',\n",
       "       'Guernsey', 'Mauritania', 'Rwanda', 'Saint Lucia',\n",
       "       'Saint Vincent and the Grenadines', 'Suriname', 'Kosovo',\n",
       "       'Central African Republic', 'Congo (Brazzaville)',\n",
       "       'Equatorial Guinea', 'Uzbekistan', 'Guam', 'Puerto Rico', 'Benin',\n",
       "       'Greenland', 'Liberia', 'Mayotte', 'Republic of the Congo',\n",
       "       'Somalia', 'Tanzania', 'The Bahamas', 'Barbados', 'Montenegro',\n",
       "       'The Gambia', 'Kyrgyzstan', 'Mauritius', 'Zambia', 'Djibouti',\n",
       "       'Gambia, The', 'Bahamas, The', 'Chad', 'El Salvador', 'Fiji',\n",
       "       'Nicaragua', 'Madagascar', 'Haiti', 'Angola', 'Cabo Verde',\n",
       "       'Niger', 'Papua New Guinea', 'Zimbabwe', 'Cape Verde',\n",
       "       'East Timor', 'Eritrea', 'Uganda', 'Bahamas', 'Dominica', 'Gambia',\n",
       "       'Grenada', 'Mozambique', 'Samoa', 'Syria', 'Timor-Leste', 'Belize',\n",
       "       'Laos', 'Libya', 'Diamond Princess', 'Guinea-Bissau', 'Mali',\n",
       "       'Saint Kitts and Nevis', 'West Bank and Gaza', 'Burma',\n",
       "       'MS Zaandam', 'Botswana', 'Burundi', 'Sierra Leone', 'Malawi',\n",
       "       'South Sudan', 'Sao Tome and Principe', 'Yemen', 'Comoros',\n",
       "       'Tajikistan', 'Lesotho', 'Solomon Islands', 'Marshall Islands',\n",
       "       'Vanuatu', 'Micronesia'], dtype=object)"
      ]
     },
     "execution_count": 31,
     "metadata": {},
     "output_type": "execute_result"
    }
   ],
   "source": [
    "cases[\"Country/Region\"].unique()"
   ]
  },
  {
   "cell_type": "code",
   "execution_count": 32,
   "metadata": {},
   "outputs": [
    {
     "data": {
      "text/html": [
       "<div>\n",
       "<style scoped>\n",
       "    .dataframe tbody tr th:only-of-type {\n",
       "        vertical-align: middle;\n",
       "    }\n",
       "\n",
       "    .dataframe tbody tr th {\n",
       "        vertical-align: top;\n",
       "    }\n",
       "\n",
       "    .dataframe thead th {\n",
       "        text-align: right;\n",
       "    }\n",
       "</style>\n",
       "<table border=\"1\" class=\"dataframe\">\n",
       "  <thead>\n",
       "    <tr style=\"text-align: right;\">\n",
       "      <th></th>\n",
       "      <th>SNo</th>\n",
       "      <th>ObservationDate</th>\n",
       "      <th>Province/State</th>\n",
       "      <th>Country/Region</th>\n",
       "      <th>Last Update</th>\n",
       "      <th>Confirmed</th>\n",
       "      <th>Deaths</th>\n",
       "      <th>Recovered</th>\n",
       "    </tr>\n",
       "  </thead>\n",
       "  <tbody>\n",
       "    <tr>\n",
       "      <th>78</th>\n",
       "      <td>79</td>\n",
       "      <td>01/23/2020</td>\n",
       "      <td>NaN</td>\n",
       "      <td>Malaysia</td>\n",
       "      <td>1/23/20 17:00</td>\n",
       "      <td>0.0</td>\n",
       "      <td>0.0</td>\n",
       "      <td>0.0</td>\n",
       "    </tr>\n",
       "    <tr>\n",
       "      <th>168</th>\n",
       "      <td>169</td>\n",
       "      <td>01/25/2020</td>\n",
       "      <td>NaN</td>\n",
       "      <td>Malaysia</td>\n",
       "      <td>1/25/20 17:00</td>\n",
       "      <td>3.0</td>\n",
       "      <td>0.0</td>\n",
       "      <td>0.0</td>\n",
       "    </tr>\n",
       "    <tr>\n",
       "      <th>214</th>\n",
       "      <td>215</td>\n",
       "      <td>01/26/2020</td>\n",
       "      <td>NaN</td>\n",
       "      <td>Malaysia</td>\n",
       "      <td>1/26/20 16:00</td>\n",
       "      <td>4.0</td>\n",
       "      <td>0.0</td>\n",
       "      <td>0.0</td>\n",
       "    </tr>\n",
       "    <tr>\n",
       "      <th>260</th>\n",
       "      <td>261</td>\n",
       "      <td>01/27/2020</td>\n",
       "      <td>NaN</td>\n",
       "      <td>Malaysia</td>\n",
       "      <td>1/27/20 23:59</td>\n",
       "      <td>4.0</td>\n",
       "      <td>0.0</td>\n",
       "      <td>0.0</td>\n",
       "    </tr>\n",
       "    <tr>\n",
       "      <th>311</th>\n",
       "      <td>312</td>\n",
       "      <td>01/28/2020</td>\n",
       "      <td>NaN</td>\n",
       "      <td>Malaysia</td>\n",
       "      <td>1/28/20 23:00</td>\n",
       "      <td>4.0</td>\n",
       "      <td>0.0</td>\n",
       "      <td>0.0</td>\n",
       "    </tr>\n",
       "  </tbody>\n",
       "</table>\n",
       "</div>"
      ],
      "text/plain": [
       "     SNo ObservationDate Province/State Country/Region    Last Update  \\\n",
       "78    79      01/23/2020            NaN       Malaysia  1/23/20 17:00   \n",
       "168  169      01/25/2020            NaN       Malaysia  1/25/20 17:00   \n",
       "214  215      01/26/2020            NaN       Malaysia  1/26/20 16:00   \n",
       "260  261      01/27/2020            NaN       Malaysia  1/27/20 23:59   \n",
       "311  312      01/28/2020            NaN       Malaysia  1/28/20 23:00   \n",
       "\n",
       "     Confirmed  Deaths  Recovered  \n",
       "78         0.0     0.0        0.0  \n",
       "168        3.0     0.0        0.0  \n",
       "214        4.0     0.0        0.0  \n",
       "260        4.0     0.0        0.0  \n",
       "311        4.0     0.0        0.0  "
      ]
     },
     "execution_count": 32,
     "metadata": {},
     "output_type": "execute_result"
    }
   ],
   "source": [
    "### BEGIN SOLUTION\n",
    "new_covid_data = cases.loc[cases[\"Country/Region\"] == 'Malaysia']\n",
    "new_covid_data.head()\n",
    "### END SOLUTION"
   ]
  },
  {
   "cell_type": "markdown",
   "metadata": {},
   "source": [
    "We need to make sure there is no missing value in our data\n",
    ">**Instruction** : <br>\n",
    "Use `df.isnull().values.any()` to check any missing data in our dataset. `True` would mean that there is `NaN` in our dataset<br>\n",
    "Most of the column does not contain `NaN` values except for `Province/State `. This is acceptable since this data is not particularly useful to our use case which will be dropped later.\n",
    "\n",
    ">**Expected Result** :<br>\n",
    "\n",
    "Columns|Status\n",
    "---|---\n",
    "SNo                |False\n",
    "ObservationDate    |False\n",
    "Province/State      |True\n",
    "Country/Region     |False\n",
    "Last Update        |False\n",
    "Confirmed          |False\n",
    "Deaths             |False\n",
    "Recovered          |False"
   ]
  },
  {
   "cell_type": "code",
   "execution_count": 33,
   "metadata": {},
   "outputs": [
    {
     "data": {
      "text/plain": [
       "SNo                False\n",
       "ObservationDate    False\n",
       "Province/State      True\n",
       "Country/Region     False\n",
       "Last Update        False\n",
       "Confirmed          False\n",
       "Deaths             False\n",
       "Recovered          False\n",
       "dtype: bool"
      ]
     },
     "execution_count": 33,
     "metadata": {},
     "output_type": "execute_result"
    }
   ],
   "source": [
    "### BEGIN SOLUTION\n",
    "new_covid_data.isnull().any()\n",
    "### END SOLUTION"
   ]
  },
  {
   "cell_type": "markdown",
   "metadata": {},
   "source": [
    ">**Instruction** : <br>\n",
    "Set the `ObservationDate` as the index for the dataset. You are required to convert `ObservationDate` to datetime using `pd.to_datetime()` <br>\n",
    "\n",
    ">**Expected Result** :<br>\n",
    "Example of first 5 row data :\n",
    "\n",
    "ObservationDate\t|SNo\t|ObservationDate\t|Province/State\t|Country/Region\t|Last Update\t|Confirmed\t|Deaths\t|Recovered\n",
    " ---|---\t|---\t            |---\t        |---\t        |---\t        |---\t    |---\t|---\n",
    "01/23/2020\t|79\t    |01/23/2020\t|NaN\t|Malaysia\t|1/23/20 |17:00\t|0.0\t|0.0\t|0.0\n",
    "01/25/2020\t|169\t|01/25/2020\t|NaN\t|Malaysia\t|1/25/20 |17:00\t|3.0\t|0.0\t|0.0\n",
    "01/26/2020\t|215\t|01/26/2020\t|NaN\t|Malaysia\t|1/26/20 |16:00\t|4.0\t|0.0\t|0.0\n",
    "01/27/2020\t|261\t|01/27/2020\t|NaN\t|Malaysia\t|1/27/20 |23:59\t|4.0\t|0.0\t|0.0\n",
    "01/28/2020\t|312\t|01/28/2020\t|NaN\t|Malaysia\t|1/28/20 |23:00\t|4.0\t|0.0\t|0.0"
   ]
  },
  {
   "cell_type": "code",
   "execution_count": 34,
   "metadata": {},
   "outputs": [
    {
     "data": {
      "text/html": [
       "<div>\n",
       "<style scoped>\n",
       "    .dataframe tbody tr th:only-of-type {\n",
       "        vertical-align: middle;\n",
       "    }\n",
       "\n",
       "    .dataframe tbody tr th {\n",
       "        vertical-align: top;\n",
       "    }\n",
       "\n",
       "    .dataframe thead th {\n",
       "        text-align: right;\n",
       "    }\n",
       "</style>\n",
       "<table border=\"1\" class=\"dataframe\">\n",
       "  <thead>\n",
       "    <tr style=\"text-align: right;\">\n",
       "      <th></th>\n",
       "      <th>SNo</th>\n",
       "      <th>ObservationDate</th>\n",
       "      <th>Province/State</th>\n",
       "      <th>Country/Region</th>\n",
       "      <th>Last Update</th>\n",
       "      <th>Confirmed</th>\n",
       "      <th>Deaths</th>\n",
       "      <th>Recovered</th>\n",
       "    </tr>\n",
       "    <tr>\n",
       "      <th>ObservationDate</th>\n",
       "      <th></th>\n",
       "      <th></th>\n",
       "      <th></th>\n",
       "      <th></th>\n",
       "      <th></th>\n",
       "      <th></th>\n",
       "      <th></th>\n",
       "      <th></th>\n",
       "    </tr>\n",
       "  </thead>\n",
       "  <tbody>\n",
       "    <tr>\n",
       "      <th>2020-01-23</th>\n",
       "      <td>79</td>\n",
       "      <td>01/23/2020</td>\n",
       "      <td>NaN</td>\n",
       "      <td>Malaysia</td>\n",
       "      <td>1/23/20 17:00</td>\n",
       "      <td>0.0</td>\n",
       "      <td>0.0</td>\n",
       "      <td>0.0</td>\n",
       "    </tr>\n",
       "    <tr>\n",
       "      <th>2020-01-25</th>\n",
       "      <td>169</td>\n",
       "      <td>01/25/2020</td>\n",
       "      <td>NaN</td>\n",
       "      <td>Malaysia</td>\n",
       "      <td>1/25/20 17:00</td>\n",
       "      <td>3.0</td>\n",
       "      <td>0.0</td>\n",
       "      <td>0.0</td>\n",
       "    </tr>\n",
       "    <tr>\n",
       "      <th>2020-01-26</th>\n",
       "      <td>215</td>\n",
       "      <td>01/26/2020</td>\n",
       "      <td>NaN</td>\n",
       "      <td>Malaysia</td>\n",
       "      <td>1/26/20 16:00</td>\n",
       "      <td>4.0</td>\n",
       "      <td>0.0</td>\n",
       "      <td>0.0</td>\n",
       "    </tr>\n",
       "    <tr>\n",
       "      <th>2020-01-27</th>\n",
       "      <td>261</td>\n",
       "      <td>01/27/2020</td>\n",
       "      <td>NaN</td>\n",
       "      <td>Malaysia</td>\n",
       "      <td>1/27/20 23:59</td>\n",
       "      <td>4.0</td>\n",
       "      <td>0.0</td>\n",
       "      <td>0.0</td>\n",
       "    </tr>\n",
       "    <tr>\n",
       "      <th>2020-01-28</th>\n",
       "      <td>312</td>\n",
       "      <td>01/28/2020</td>\n",
       "      <td>NaN</td>\n",
       "      <td>Malaysia</td>\n",
       "      <td>1/28/20 23:00</td>\n",
       "      <td>4.0</td>\n",
       "      <td>0.0</td>\n",
       "      <td>0.0</td>\n",
       "    </tr>\n",
       "  </tbody>\n",
       "</table>\n",
       "</div>"
      ],
      "text/plain": [
       "                 SNo ObservationDate Province/State Country/Region  \\\n",
       "ObservationDate                                                      \n",
       "2020-01-23        79      01/23/2020            NaN       Malaysia   \n",
       "2020-01-25       169      01/25/2020            NaN       Malaysia   \n",
       "2020-01-26       215      01/26/2020            NaN       Malaysia   \n",
       "2020-01-27       261      01/27/2020            NaN       Malaysia   \n",
       "2020-01-28       312      01/28/2020            NaN       Malaysia   \n",
       "\n",
       "                   Last Update  Confirmed  Deaths  Recovered  \n",
       "ObservationDate                                               \n",
       "2020-01-23       1/23/20 17:00        0.0     0.0        0.0  \n",
       "2020-01-25       1/25/20 17:00        3.0     0.0        0.0  \n",
       "2020-01-26       1/26/20 16:00        4.0     0.0        0.0  \n",
       "2020-01-27       1/27/20 23:59        4.0     0.0        0.0  \n",
       "2020-01-28       1/28/20 23:00        4.0     0.0        0.0  "
      ]
     },
     "execution_count": 34,
     "metadata": {},
     "output_type": "execute_result"
    }
   ],
   "source": [
    "### BEGIN SOLUTION\n",
    "new_covid_data = new_covid_data.set_index(pd.to_datetime(new_covid_data[\"ObservationDate\"]))\n",
    "### END SOLUTION\n",
    "\n",
    "new_covid_data.head()"
   ]
  },
  {
   "cell_type": "markdown",
   "metadata": {},
   "source": [
    "Columns such as `SNo`,`ObservationDate`,`Province/State`,`Country/Region`,`Last Update` do not provide any useful information to us. Hence, we need to drop it to make the data look cleaner. \n",
    "\n",
    ">**Instruction** : <br>\n",
    "Use `df.drop` to drop the `columns = ['SNo','ObservationDate','Province/State','Country/Region','Last Update']`<br>\n",
    "\n",
    ">**Expected Result** :<br>\n",
    "\n",
    "ObservationDate\t|Confirmed\t|Deaths\t|Recovered\n",
    "\t---|---|---|---\t\t\n",
    "2020-01-23|\t0.0|\t0.0|\t0.0\n",
    "2020-01-25|\t3.0|\t0.0|\t0.0\n",
    "2020-01-26|\t4.0|\t0.0|\t0.0\n",
    "2020-01-27|\t4.0|\t0.0|\t0.0\n",
    "2020-01-28|\t4.0|    0.0|\t0.0"
   ]
  },
  {
   "cell_type": "code",
   "execution_count": 35,
   "metadata": {},
   "outputs": [
    {
     "data": {
      "text/html": [
       "<div>\n",
       "<style scoped>\n",
       "    .dataframe tbody tr th:only-of-type {\n",
       "        vertical-align: middle;\n",
       "    }\n",
       "\n",
       "    .dataframe tbody tr th {\n",
       "        vertical-align: top;\n",
       "    }\n",
       "\n",
       "    .dataframe thead th {\n",
       "        text-align: right;\n",
       "    }\n",
       "</style>\n",
       "<table border=\"1\" class=\"dataframe\">\n",
       "  <thead>\n",
       "    <tr style=\"text-align: right;\">\n",
       "      <th></th>\n",
       "      <th>Confirmed</th>\n",
       "      <th>Deaths</th>\n",
       "      <th>Recovered</th>\n",
       "    </tr>\n",
       "    <tr>\n",
       "      <th>ObservationDate</th>\n",
       "      <th></th>\n",
       "      <th></th>\n",
       "      <th></th>\n",
       "    </tr>\n",
       "  </thead>\n",
       "  <tbody>\n",
       "    <tr>\n",
       "      <th>2020-01-23</th>\n",
       "      <td>0.0</td>\n",
       "      <td>0.0</td>\n",
       "      <td>0.0</td>\n",
       "    </tr>\n",
       "    <tr>\n",
       "      <th>2020-01-25</th>\n",
       "      <td>3.0</td>\n",
       "      <td>0.0</td>\n",
       "      <td>0.0</td>\n",
       "    </tr>\n",
       "    <tr>\n",
       "      <th>2020-01-26</th>\n",
       "      <td>4.0</td>\n",
       "      <td>0.0</td>\n",
       "      <td>0.0</td>\n",
       "    </tr>\n",
       "    <tr>\n",
       "      <th>2020-01-27</th>\n",
       "      <td>4.0</td>\n",
       "      <td>0.0</td>\n",
       "      <td>0.0</td>\n",
       "    </tr>\n",
       "    <tr>\n",
       "      <th>2020-01-28</th>\n",
       "      <td>4.0</td>\n",
       "      <td>0.0</td>\n",
       "      <td>0.0</td>\n",
       "    </tr>\n",
       "  </tbody>\n",
       "</table>\n",
       "</div>"
      ],
      "text/plain": [
       "                 Confirmed  Deaths  Recovered\n",
       "ObservationDate                              \n",
       "2020-01-23             0.0     0.0        0.0\n",
       "2020-01-25             3.0     0.0        0.0\n",
       "2020-01-26             4.0     0.0        0.0\n",
       "2020-01-27             4.0     0.0        0.0\n",
       "2020-01-28             4.0     0.0        0.0"
      ]
     },
     "execution_count": 35,
     "metadata": {},
     "output_type": "execute_result"
    }
   ],
   "source": [
    "### BEGIN SOLUTION\n",
    "new_covid_data = new_covid_data.drop(columns = ['SNo','ObservationDate','Province/State','Country/Region','Last Update'])\n",
    "### END SOLUTION\n",
    "new_covid_data.head()"
   ]
  },
  {
   "cell_type": "markdown",
   "metadata": {},
   "source": [
    "To make our sliding window function working. You need to rearrange the data columns such as the targeted forecast series will be the last column of the data\n",
    ">**Instruction** : <br>\n",
    "Rearrange the data column using `df[]`<br>\n",
    "For example : <br>\n",
    "columns = [`A`,`B`,`C`]<br>\n",
    "rearrage columns = [`A`,`C`,`B`]<br>\n",
    "`df =  df[rearrage columns]`\n",
    "\n",
    ">**Expected Result** :<br>\n",
    "\n",
    "ObservationDate|\tConfirmed|\tRecovered|\tDeaths\n",
    "\t\t---|---|---|---\t\n",
    "2020-01-23|\t0.0|\t0.0|\t0.0\n",
    "2020-01-25|\t3.0|\t0.0|\t0.0\n",
    "2020-01-26|\t4.0|\t0.0|\t0.0\n",
    "2020-01-27|\t4.0|\t0.0|\t0.0\n",
    "2020-01-28|\t4.0|\t0.0|\t0.0"
   ]
  },
  {
   "cell_type": "code",
   "execution_count": 36,
   "metadata": {},
   "outputs": [
    {
     "data": {
      "text/html": [
       "<div>\n",
       "<style scoped>\n",
       "    .dataframe tbody tr th:only-of-type {\n",
       "        vertical-align: middle;\n",
       "    }\n",
       "\n",
       "    .dataframe tbody tr th {\n",
       "        vertical-align: top;\n",
       "    }\n",
       "\n",
       "    .dataframe thead th {\n",
       "        text-align: right;\n",
       "    }\n",
       "</style>\n",
       "<table border=\"1\" class=\"dataframe\">\n",
       "  <thead>\n",
       "    <tr style=\"text-align: right;\">\n",
       "      <th></th>\n",
       "      <th>Confirmed</th>\n",
       "      <th>Recovered</th>\n",
       "      <th>Deaths</th>\n",
       "    </tr>\n",
       "    <tr>\n",
       "      <th>ObservationDate</th>\n",
       "      <th></th>\n",
       "      <th></th>\n",
       "      <th></th>\n",
       "    </tr>\n",
       "  </thead>\n",
       "  <tbody>\n",
       "    <tr>\n",
       "      <th>2020-01-23</th>\n",
       "      <td>0.0</td>\n",
       "      <td>0.0</td>\n",
       "      <td>0.0</td>\n",
       "    </tr>\n",
       "    <tr>\n",
       "      <th>2020-01-25</th>\n",
       "      <td>3.0</td>\n",
       "      <td>0.0</td>\n",
       "      <td>0.0</td>\n",
       "    </tr>\n",
       "    <tr>\n",
       "      <th>2020-01-26</th>\n",
       "      <td>4.0</td>\n",
       "      <td>0.0</td>\n",
       "      <td>0.0</td>\n",
       "    </tr>\n",
       "    <tr>\n",
       "      <th>2020-01-27</th>\n",
       "      <td>4.0</td>\n",
       "      <td>0.0</td>\n",
       "      <td>0.0</td>\n",
       "    </tr>\n",
       "    <tr>\n",
       "      <th>2020-01-28</th>\n",
       "      <td>4.0</td>\n",
       "      <td>0.0</td>\n",
       "      <td>0.0</td>\n",
       "    </tr>\n",
       "  </tbody>\n",
       "</table>\n",
       "</div>"
      ],
      "text/plain": [
       "                 Confirmed  Recovered  Deaths\n",
       "ObservationDate                              \n",
       "2020-01-23             0.0        0.0     0.0\n",
       "2020-01-25             3.0        0.0     0.0\n",
       "2020-01-26             4.0        0.0     0.0\n",
       "2020-01-27             4.0        0.0     0.0\n",
       "2020-01-28             4.0        0.0     0.0"
      ]
     },
     "execution_count": 36,
     "metadata": {},
     "output_type": "execute_result"
    }
   ],
   "source": [
    "### BEGIN SOLUTION\n",
    "new_covid_data = new_covid_data[[\"Confirmed\",\"Recovered\",\"Deaths\"]]\n",
    "### END SOLUTION\n",
    "new_covid_data.head()"
   ]
  },
  {
   "cell_type": "markdown",
   "metadata": {},
   "source": [
    "## Data Visualization\n",
    "Data visualization is important for us to visualize the pattern of data such as trend and seasonality. Seeing the graph below, it is quite clear that there is an increasing trend in data"
   ]
  },
  {
   "cell_type": "code",
   "execution_count": 37,
   "metadata": {},
   "outputs": [
    {
     "data": {
      "image/png": "[encoded data removed]",
      "text/plain": [
       "<Figure size 792x648 with 3 Axes>"
      ]
     },
     "metadata": {
      "needs_background": "light"
     },
     "output_type": "display_data"
    }
   ],
   "source": [
    "# Visualize Data \n",
    "axes = new_covid_data[new_covid_data.columns].plot(alpha=1.0, linestyle='-', figsize=(11, 9), subplots=True)\n",
    "for ax in axes:\n",
    "    ax.set_ylabel('COVID-19-Malaysia')"
   ]
  },
  {
   "cell_type": "markdown",
   "metadata": {},
   "source": [
    "However, the data is in cumulative form. To perform time-series prediction, we need to convert the cumulative cases into daily cases.\n",
    "\n",
    ">**Instruction** : <br>\n",
    "Remove the cumulative counts. You might need to use a `For loop` to loop through the data for each columns .Use `new_covid_data[name] - new_covid_data[name].shift().fillna(0)` as the math operation to remove the cumulative<br>\n",
    "\n",
    ">**Expected Result** :<br>\n",
    "\n",
    "ObservationDate|\tConfirmed|\tRecovered|\tDeaths|\n",
    "\t---|\t---|---|---\t\n",
    "2020-01-23|\t0.0|\t0.0|\t0.0|\n",
    "2020-01-25|\t3.0|\t0.0|\t0.0|\n",
    "2020-01-26|\t1.0|\t0.0|\t0.0|\n",
    "2020-01-27|\t0.0|\t0.0|\t0.0|\n",
    "2020-01-28|\t0.0|\t0.0|\t0.0|"
   ]
  },
  {
   "cell_type": "code",
   "execution_count": 38,
   "metadata": {},
   "outputs": [
    {
     "data": {
      "text/html": [
       "<div>\n",
       "<style scoped>\n",
       "    .dataframe tbody tr th:only-of-type {\n",
       "        vertical-align: middle;\n",
       "    }\n",
       "\n",
       "    .dataframe tbody tr th {\n",
       "        vertical-align: top;\n",
       "    }\n",
       "\n",
       "    .dataframe thead th {\n",
       "        text-align: right;\n",
       "    }\n",
       "</style>\n",
       "<table border=\"1\" class=\"dataframe\">\n",
       "  <thead>\n",
       "    <tr style=\"text-align: right;\">\n",
       "      <th></th>\n",
       "      <th>Confirmed</th>\n",
       "      <th>Recovered</th>\n",
       "      <th>Deaths</th>\n",
       "    </tr>\n",
       "    <tr>\n",
       "      <th>ObservationDate</th>\n",
       "      <th></th>\n",
       "      <th></th>\n",
       "      <th></th>\n",
       "    </tr>\n",
       "  </thead>\n",
       "  <tbody>\n",
       "    <tr>\n",
       "      <th>2020-01-23</th>\n",
       "      <td>0.0</td>\n",
       "      <td>0.0</td>\n",
       "      <td>0.0</td>\n",
       "    </tr>\n",
       "    <tr>\n",
       "      <th>2020-01-25</th>\n",
       "      <td>3.0</td>\n",
       "      <td>0.0</td>\n",
       "      <td>0.0</td>\n",
       "    </tr>\n",
       "    <tr>\n",
       "      <th>2020-01-26</th>\n",
       "      <td>1.0</td>\n",
       "      <td>0.0</td>\n",
       "      <td>0.0</td>\n",
       "    </tr>\n",
       "    <tr>\n",
       "      <th>2020-01-27</th>\n",
       "      <td>0.0</td>\n",
       "      <td>0.0</td>\n",
       "      <td>0.0</td>\n",
       "    </tr>\n",
       "    <tr>\n",
       "      <th>2020-01-28</th>\n",
       "      <td>0.0</td>\n",
       "      <td>0.0</td>\n",
       "      <td>0.0</td>\n",
       "    </tr>\n",
       "  </tbody>\n",
       "</table>\n",
       "</div>"
      ],
      "text/plain": [
       "                 Confirmed  Recovered  Deaths\n",
       "ObservationDate                              \n",
       "2020-01-23             0.0        0.0     0.0\n",
       "2020-01-25             3.0        0.0     0.0\n",
       "2020-01-26             1.0        0.0     0.0\n",
       "2020-01-27             0.0        0.0     0.0\n",
       "2020-01-28             0.0        0.0     0.0"
      ]
     },
     "execution_count": 38,
     "metadata": {},
     "output_type": "execute_result"
    }
   ],
   "source": [
    "### BEGIN SOLUTION\n",
    "for name in new_covid_data.columns:\n",
    "        new_covid_data[name] = new_covid_data[name] - new_covid_data[name].shift().fillna(0)\n",
    "### END SOLUTION\n",
    "new_covid_data.head()"
   ]
  },
  {
   "cell_type": "code",
   "execution_count": 39,
   "metadata": {},
   "outputs": [
    {
     "data": {
      "image/png": "[encoded data removed]",
      "text/plain": [
       "<Figure size 792x648 with 3 Axes>"
      ]
     },
     "metadata": {
      "needs_background": "light"
     },
     "output_type": "display_data"
    }
   ],
   "source": [
    "# Visualize Data \n",
    "axes = new_covid_data[new_covid_data.columns].plot(alpha=1.0, linestyle='-', figsize=(11, 9), subplots=True)\n",
    "for ax in axes:\n",
    "    ax.set_ylabel('COVID-19-Malaysia')"
   ]
  },
  {
   "cell_type": "markdown",
   "metadata": {},
   "source": [
    "## Data Splitting\n",
    "In Deep Learning, we will split the data into training and test dataset. The training data is used to train the model where the test data is used to validate the performance of the model."
   ]
  },
  {
   "cell_type": "code",
   "execution_count": 40,
   "metadata": {},
   "outputs": [
    {
     "data": {
      "text/plain": [
       "28"
      ]
     },
     "execution_count": 40,
     "metadata": {},
     "output_type": "execute_result"
    }
   ],
   "source": [
    "split_data_covid = round(len(dataset)*split_ratio)\n",
    "split_data_covid"
   ]
  },
  {
   "cell_type": "code",
   "execution_count": 41,
   "metadata": {},
   "outputs": [
    {
     "name": "stdout",
     "output_type": "stream",
     "text": [
      "train_data_shape\n",
      "(373, 3)\n",
      "test_data_shape\n",
      "(28, 3)\n"
     ]
    }
   ],
   "source": [
    "# Split data by indexing \n",
    "train_data_covid = new_covid_data[:-split_data_covid ]\n",
    "test_data_covid = new_covid_data[-split_data_covid :]\n",
    "train_time_covid = new_covid_data.index[:-split_data_covid ]\n",
    "test_time_covid = new_covid_data.index[-split_data_covid :]\n",
    "\n",
    "print(\"train_data_shape\")\n",
    "print(train_data_covid.shape)\n",
    "print(\"test_data_shape\")\n",
    "print(test_data_covid.shape)"
   ]
  },
  {
   "cell_type": "markdown",
   "metadata": {},
   "source": [
    "## Data Normalization \n",
    "Normalize the data into range of 0 to 1"
   ]
  },
  {
   "cell_type": "code",
   "execution_count": 42,
   "metadata": {},
   "outputs": [
    {
     "name": "stdout",
     "output_type": "stream",
     "text": [
      "train_data_normalized_demand(373, 3)\n",
      "test_data_normalized_demand(28, 3)\n"
     ]
    }
   ],
   "source": [
    "scaler_covid,train_data_normalized_covid,test_data_normalized_covid = data_module.multi_data_scaler(train_data_covid,\n",
    "                                                                                         test_data_covid,\n",
    "                                                                                         scale_mode = \"Normalize\")\n",
    "print(\"train_data_normalized_demand\"+str(train_data_normalized_covid.shape))\n",
    "print(\"test_data_normalized_demand\"+str(test_data_normalized_covid.shape))"
   ]
  },
  {
   "cell_type": "markdown",
   "metadata": {},
   "source": [
    "## Data Sequencing\n",
    "Sequencing the data by taking in the multivariate series into `x-feature` and `y-label`\n",
    "<img src = \"../../picture/multivariate univariate.png\"  width=\"300\" height  =\"300\" align=\"center\" />"
   ]
  },
  {
   "cell_type": "code",
   "execution_count": 43,
   "metadata": {},
   "outputs": [
    {
     "name": "stdout",
     "output_type": "stream",
     "text": [
      "trainX_demand shape:(354, 20, 2) trainY_demand shape:(354, 1)\n",
      "\n",
      "testX_demand shape:(9, 20, 2) testY_demand shape:(9, 1)\n"
     ]
    }
   ],
   "source": [
    "trainX_covid ,trainY_covid=  data_module.multivariate_univariate_multi_step(train_data_normalized_covid,window_size_covid,n_step_covid)\n",
    "testX_covid , testY_covid = data_module.multivariate_univariate_multi_step(test_data_normalized_covid,window_size_covid,n_step_covid)\n",
    "print(f\"trainX_demand shape:{trainX_covid.shape} trainY_demand shape:{trainY_covid.shape}\\n\")\n",
    "print(f\"testX_demand shape:{testX_covid.shape} testY_demand shape:{testY_covid.shape}\")"
   ]
  },
  {
   "cell_type": "code",
   "execution_count": 44,
   "metadata": {},
   "outputs": [
    {
     "name": "stdout",
     "output_type": "stream",
     "text": [
      "trainY shape:(354, 1, 1)\n",
      "testY shape:(9, 1, 1)\n"
     ]
    }
   ],
   "source": [
    "trainY_covid = trainY_covid.reshape(trainY_covid.shape[0],n_step_covid,1)\n",
    "testY_covid= testY_covid.reshape(testY_covid.shape[0],n_step_covid,1)\n",
    "print(f\"trainY shape:{trainY_covid.shape}\")\n",
    "print(f\"testY shape:{testY_covid.shape}\")"
   ]
  },
  {
   "cell_type": "markdown",
   "metadata": {},
   "source": [
    "### Data Transform\n",
    "Data needs to be transformed from numpy to pytorch tensor before being fed into the model.\n",
    "\n",
    ">**Instruction** : <br>\n",
    "Use `data_module.key_assign` to assign the key and `data_module.transform` to transform the data."
   ]
  },
  {
   "cell_type": "code",
   "execution_count": 45,
   "metadata": {},
   "outputs": [],
   "source": [
    "### BEGIN SOLUTION\n",
    "train_data_dict_covid ,test_data_dict_covid = data_module.key_assign(trainingX = trainX_covid  , \n",
    "                       testingX = testX_covid, \n",
    "                       trainingY = trainY_covid, \n",
    "                       testingY = testY_covid)\n",
    "train_data_dict_covid ,test_data_dict_covid = data_module.transform(train_data_dict_covid ,test_data_dict_covid)\n",
    "### END SOLUTION"
   ]
  },
  {
   "cell_type": "code",
   "execution_count": 46,
   "metadata": {},
   "outputs": [
    {
     "name": "stdout",
     "output_type": "stream",
     "text": [
      "train_data_x_feature shape : torch.Size([354, 20, 2])\n",
      "train_data_y_label shape : torch.Size([354, 1, 1])\n",
      "test_data_x_feature shape : torch.Size([9, 20, 2])\n",
      "test_data_y_label shape : torch.Size([9, 1, 1])\n"
     ]
    }
   ],
   "source": [
    "data_module.sanity_check(train_data_dict_covid , test_data_dict_covid)"
   ]
  },
  {
   "cell_type": "markdown",
   "metadata": {},
   "source": [
    "## Data Transpose \n",
    "You are require to transpose the `x-feature` data in such a way that : <br>\n",
    ">`(batch_size, number_of_features, sequence_length)`.\n",
    "\n",
    ">**Instruction** : <br>\n",
    "Use `transpose` function in `data_module.py` to transpose the suitable input data for CNN model."
   ]
  },
  {
   "cell_type": "code",
   "execution_count": 47,
   "metadata": {},
   "outputs": [],
   "source": [
    "train_data_dict_covid , test_data_dict_covid = data_module.transpose(train_data_dict_covid,\n",
    "                                                                     test_data_dict_covid)"
   ]
  },
  {
   "cell_type": "code",
   "execution_count": 48,
   "metadata": {},
   "outputs": [
    {
     "name": "stdout",
     "output_type": "stream",
     "text": [
      "train_data_x_feature shape : torch.Size([354, 2, 20])\n",
      "train_data_y_label shape : torch.Size([354, 1, 1])\n",
      "test_data_x_feature shape : torch.Size([9, 2, 20])\n",
      "test_data_y_label shape : torch.Size([9, 1, 1])\n"
     ]
    }
   ],
   "source": [
    "data_module.sanity_check(train_data_dict_covid , test_data_dict_covid)"
   ]
  },
  {
   "cell_type": "markdown",
   "metadata": {},
   "source": [
    "## Data Iterator\n",
    "Iterator is created to allow the data to separate into several batches to fasten the training process\n",
    ">**Instruction** : <br>\n",
    "Use `data_module.iterator` to create data iterator."
   ]
  },
  {
   "cell_type": "code",
   "execution_count": 49,
   "metadata": {},
   "outputs": [],
   "source": [
    "### BEGIN SOLUTION\n",
    "train_iter_covid , test_iter_covid = data_module.iterator(train_data_dict_covid ,\n",
    "                                                          test_data_dict_covid,\n",
    "                                                          batch_size = batch_size_covid)\n",
    "### END SOLUTION"
   ]
  },
  {
   "cell_type": "markdown",
   "metadata": {},
   "source": [
    "# Step 2 :  CNN Model Configuration\n",
    "You may choose to use the CNN configuration that have been saved in the `deep_learning_module.py` or code it by yourself."
   ]
  },
  {
   "cell_type": "code",
   "execution_count": 50,
   "metadata": {},
   "outputs": [],
   "source": [
    "class CNN(nn.Module):\n",
    "\n",
    "    def __init__(self,n_feature,n_step):\n",
    "        super(CNN, self).__init__()\n",
    "        \n",
    "        self.n_feature = n_feature\n",
    "        self.n_step = n_step\n",
    "\n",
    "        # Conv1d in_channels is base on num time series\n",
    "        # Input:(N,C,Lin) Output : (N,C,Lout)\n",
    "        self.conv1 = nn.Conv1d(in_channels = n_feature, out_channels = 30, kernel_size = 3)\n",
    "        \n",
    "        # For example Input:(N,C,Lin) Output : (N,C,Lout)\n",
    "        self.pool1 = nn.MaxPool1d(kernel_size=2)\n",
    "        \n",
    "        self.conv2 = nn.Conv1d(in_channels = 30, out_channels = 20, kernel_size = 2)\n",
    "        \n",
    "        self.pool2 = nn.MaxPool1d(kernel_size=2)\n",
    "        \n",
    "        self.conv3 = nn.Conv1d(in_channels = 20, out_channels = 10, kernel_size = 2)\n",
    "        \n",
    "        # AdaptiveMaxPool1d use to make sure it always will output  = 1 ,to make sure return the correct batch size \n",
    "        self.pool3 = nn.AdaptiveMaxPool1d(1)\n",
    "        self.fc1 = nn.Linear(10, 5)\n",
    "        self.fc2 = nn.Linear(5,n_step)\n",
    "\n",
    "    def forward(self, x):\n",
    "        x = F.relu(self.conv1(x))\n",
    "        x = self.pool1(x)\n",
    "        x = F.relu(self.conv2(x))\n",
    "        x = self.pool2(x)\n",
    "        x = F.relu(self.conv3(x))\n",
    "        x = self.pool3(x)\n",
    "        x = x.view(-1,10)\n",
    "        x = F.relu(self.fc1(x))\n",
    "        x = self.fc2(x)\n",
    "\n",
    "        return x"
   ]
  },
  {
   "cell_type": "markdown",
   "metadata": {},
   "source": [
    "## Input Model\n",
    "\n",
    ">**Instruction** : <br>\n",
    "Input the model that you have configured, use `Adam` as the optimizer and `MSE` as the loss function"
   ]
  },
  {
   "cell_type": "code",
   "execution_count": 51,
   "metadata": {},
   "outputs": [],
   "source": [
    "# seed\n",
    "torch.manual_seed(123)\n",
    "\n",
    "n_feature_covid = train_data_dict_covid['train_data_x_feature'].shape[1]\n",
    "### BEGIN SOLUTION\n",
    "# Input the attribute need by the model \n",
    "model_covid = CNN(n_feature = n_feature_covid,\n",
    "                  n_step = n_step_covid )\n",
    "\n",
    "### END SOLUTION\n",
    "\n",
    "# Define the optimizer (Here we use Adam as our optimizer)\n",
    "### BEGIN SOLUTION\n",
    "optimizer_covid = torch.optim.Adam(model_covid.parameters(), lr=learning_rate_covid)\n",
    "### END SOLUTION\n",
    "\n",
    "# Define the loss function (Here we use MSE as the loss function)\n",
    "### BEGIN SOLUTION\n",
    "loss_fn_covid = nn.MSELoss()\n",
    "### END SOLUTION"
   ]
  },
  {
   "cell_type": "code",
   "execution_count": 52,
   "metadata": {},
   "outputs": [
    {
     "name": "stdout",
     "output_type": "stream",
     "text": [
      "====================================================\n",
      "        Kernel Shape Output Shape Params Mult-Adds\n",
      "Layer                                             \n",
      "0_conv1   [2, 30, 3]  [5, 30, 18]  210.0     3.24k\n",
      "1_pool1            -   [5, 30, 9]      -         -\n",
      "2_conv2  [30, 20, 2]   [5, 20, 8]  1.22k      9.6k\n",
      "3_pool2            -   [5, 20, 4]      -         -\n",
      "4_conv3  [20, 10, 2]   [5, 10, 3]  410.0      1.2k\n",
      "5_pool3            -   [5, 10, 1]      -         -\n",
      "6_fc1        [10, 5]       [5, 5]   55.0      50.0\n",
      "7_fc2         [5, 1]       [5, 1]    6.0       5.0\n",
      "----------------------------------------------------\n",
      "                       Totals\n",
      "Total params           1.901k\n",
      "Trainable params       1.901k\n",
      "Non-trainable params      0.0\n",
      "Mult-Adds             14.095k\n",
      "====================================================\n",
      "        Kernel Shape Output Shape  Params  Mult-Adds\n",
      "Layer                                               \n",
      "0_conv1   [2, 30, 3]  [5, 30, 18]   210.0     3240.0\n",
      "1_pool1            -   [5, 30, 9]     NaN        NaN\n",
      "2_conv2  [30, 20, 2]   [5, 20, 8]  1220.0     9600.0\n",
      "3_pool2            -   [5, 20, 4]     NaN        NaN\n",
      "4_conv3  [20, 10, 2]   [5, 10, 3]   410.0     1200.0\n",
      "5_pool3            -   [5, 10, 1]     NaN        NaN\n",
      "6_fc1        [10, 5]       [5, 5]    55.0       50.0\n",
      "7_fc2         [5, 1]       [5, 1]     6.0        5.0\n"
     ]
    }
   ],
   "source": [
    "seq_length_covid = train_data_dict_covid['train_data_x_feature'].shape[2]\n",
    "\n",
    "# batch size ,input_dim ,seq_length\n",
    "inputs = torch.zeros((batch_size_covid,\n",
    "                      n_feature_covid ,\n",
    "                      seq_length_covid),dtype=torch.float) \n",
    "\n",
    "print(summary(model_covid,inputs))"
   ]
  },
  {
   "cell_type": "code",
   "execution_count": 53,
   "metadata": {},
   "outputs": [
    {
     "data": {
      "text/plain": [
       "CNN(\n",
       "  (conv1): Conv1d(2, 30, kernel_size=(3,), stride=(1,))\n",
       "  (pool1): MaxPool1d(kernel_size=2, stride=2, padding=0, dilation=1, ceil_mode=False)\n",
       "  (conv2): Conv1d(30, 20, kernel_size=(2,), stride=(1,))\n",
       "  (pool2): MaxPool1d(kernel_size=2, stride=2, padding=0, dilation=1, ceil_mode=False)\n",
       "  (conv3): Conv1d(20, 10, kernel_size=(2,), stride=(1,))\n",
       "  (pool3): AdaptiveMaxPool1d(output_size=1)\n",
       "  (fc1): Linear(in_features=10, out_features=5, bias=True)\n",
       "  (fc2): Linear(in_features=5, out_features=1, bias=True)\n",
       ")"
      ]
     },
     "execution_count": 53,
     "metadata": {},
     "output_type": "execute_result"
    }
   ],
   "source": [
    "torch.manual_seed(123)\n",
    "\n",
    "# Xavier weight intialization\n",
    "def weights_init(m):\n",
    "    if isinstance(m, nn.Conv1d):\n",
    "        nn.init.xavier_uniform_(m.weight.data)\n",
    "        \n",
    "model_covid.apply(weights_init)"
   ]
  },
  {
   "cell_type": "markdown",
   "metadata": {},
   "source": [
    "# Step 3 : Training\n",
    ">**Instruction** : <br>\n",
    "Use `deep_learning_module.training` to train the model."
   ]
  },
  {
   "cell_type": "code",
   "execution_count": 54,
   "metadata": {},
   "outputs": [],
   "source": [
    "#seed\n",
    "torch.manual_seed(123)\n",
    "### BEGIN SOLUTION\n",
    "\n",
    "# Start training \n",
    "train_loss_covid,val_loss_covid = deep_learning_module.training(num_epochs= num_epochs_covid ,\n",
    "                                                    train_iter = train_iter_covid,\n",
    "                                                    test_iter = test_iter_covid ,\n",
    "                                                    optimizer = optimizer_covid,\n",
    "                                                    loss_fn = loss_fn_covid,\n",
    "                                                    model = model_covid)\n",
    "### END SOLUTION"
   ]
  },
  {
   "cell_type": "markdown",
   "metadata": {},
   "source": [
    "# Step 4 : Validation"
   ]
  },
  {
   "cell_type": "code",
   "execution_count": 55,
   "metadata": {
    "scrolled": true
   },
   "outputs": [
    {
     "data": {
      "image/png": "[encoded data removed]",
      "text/plain": [
       "<Figure size 720x432 with 1 Axes>"
      ]
     },
     "metadata": {
      "needs_background": "light"
     },
     "output_type": "display_data"
    },
    {
     "name": "stdout",
     "output_type": "stream",
     "text": [
      "Epoch : 0 , training loss : 0.04587828147750102 , validation loss : 0.35442979137102765\n",
      "Epoch : 1 , training loss : 0.04282232887769071 , validation loss : 0.3114966120984819\n",
      "Epoch : 2 , training loss : 0.036973823294027756 , validation loss : 0.2810607784324222\n",
      "Epoch : 3 , training loss : 0.032300587427640894 , validation loss : 0.25497327744960785\n",
      "Epoch : 4 , training loss : 0.028896915759012976 , validation loss : 0.230691553817855\n",
      "Epoch : 5 , training loss : 0.027655095081763392 , validation loss : 0.21720757418208653\n",
      "Epoch : 6 , training loss : 0.0324803649982744 , validation loss : 0.19926045835018158\n",
      "Epoch : 7 , training loss : 0.029799001499889472 , validation loss : 0.20242391361130607\n",
      "Epoch : 8 , training loss : 0.02432450245980188 , validation loss : 0.18925286995040047\n",
      "Epoch : 9 , training loss : 0.026785282546714854 , validation loss : 0.1894764800866445\n",
      "Epoch : 10 , training loss : 0.022317455442707745 , validation loss : 0.17644091778331333\n",
      "Epoch : 11 , training loss : 0.02020466403998506 , validation loss : 0.16586101551850638\n",
      "Epoch : 12 , training loss : 0.019627422934438154 , validation loss : 0.15867074661784702\n",
      "Epoch : 13 , training loss : 0.018597146791536408 , validation loss : 0.151025061806043\n",
      "Epoch : 14 , training loss : 0.01999508371465842 , validation loss : 0.1472272127866745\n",
      "Epoch : 15 , training loss : 0.021076251002932367 , validation loss : 0.14581207765473259\n",
      "Epoch : 16 , training loss : 0.015450171646686309 , validation loss : 0.13958128872844908\n",
      "Epoch : 17 , training loss : 0.017443423307675836 , validation loss : 0.13449746867020926\n",
      "Epoch : 18 , training loss : 0.019278380012048915 , validation loss : 0.1331216361787584\n",
      "Epoch : 19 , training loss : 0.01738616337733307 , validation loss : 0.12769635683960384\n",
      "Epoch : 20 , training loss : 0.029369180167955394 , validation loss : 0.14394389589627585\n",
      "Epoch : 21 , training loss : 0.022579322927176793 , validation loss : 0.13191808760166168\n",
      "Epoch : 22 , training loss : 0.029281256134441914 , validation loss : 0.14757678740554386\n",
      "Epoch : 23 , training loss : 0.02138898166154667 , validation loss : 0.14383367200692496\n",
      "Epoch : 24 , training loss : 0.018354729665342177 , validation loss : 0.13909689750936297\n",
      "Epoch : 25 , training loss : 0.01748434522353094 , validation loss : 0.13329609152343538\n",
      "Epoch : 26 , training loss : 0.017032444204392178 , validation loss : 0.1279621852768792\n",
      "Epoch : 27 , training loss : 0.016754079824143748 , validation loss : 0.1235814823044671\n",
      "Epoch : 28 , training loss : 0.016579064749211832 , validation loss : 0.11981281307008532\n",
      "Epoch : 29 , training loss : 0.016396853307695438 , validation loss : 0.1166634973552492\n",
      "Epoch : 30 , training loss : 0.016297841675026348 , validation loss : 0.11379481024212307\n",
      "Epoch : 31 , training loss : 0.01612408526747398 , validation loss : 0.11175772878858778\n",
      "Epoch : 32 , training loss : 0.016006984449033538 , validation loss : 0.10962986118263668\n",
      "Epoch : 33 , training loss : 0.015869106065288102 , validation loss : 0.10830308165815142\n",
      "Epoch : 34 , training loss : 0.016027528617380358 , validation loss : 0.10610135479105844\n",
      "Epoch : 35 , training loss : 0.017471683931882767 , validation loss : 0.10887492116954592\n",
      "Epoch : 36 , training loss : 0.017177926812348237 , validation loss : 0.10499689314100477\n",
      "Epoch : 37 , training loss : 0.02473852554869596 , validation loss : 0.11838908162381914\n",
      "Epoch : 38 , training loss : 0.017141112655550943 , validation loss : 0.11691546605692969\n",
      "Epoch : 39 , training loss : 0.01639706424078336 , validation loss : 0.11434168782499102\n",
      "Epoch : 40 , training loss : 0.016073021589039917 , validation loss : 0.11179868214660221\n",
      "Epoch : 41 , training loss : 0.01594873567704839 , validation loss : 0.10950340496169196\n",
      "Epoch : 42 , training loss : 0.01583424549214955 , validation loss : 0.10760336286491817\n",
      "Epoch : 43 , training loss : 0.015756633788478924 , validation loss : 0.10602021134561962\n",
      "Epoch : 44 , training loss : 0.015684489643916697 , validation loss : 0.10477110909091102\n",
      "Epoch : 45 , training loss : 0.01563125893374257 , validation loss : 0.10384778595632976\n",
      "Epoch : 46 , training loss : 0.015599748839455337 , validation loss : 0.10299965490897496\n",
      "Epoch : 47 , training loss : 0.015558331447041919 , validation loss : 0.10244064364168379\n",
      "Epoch : 48 , training loss : 0.015529906970532012 , validation loss : 0.10189259797334671\n",
      "Epoch : 49 , training loss : 0.015502722366171373 , validation loss : 0.1015238149298562\n",
      "Epoch : 50 , training loss : 0.01548233435946225 , validation loss : 0.1012541221247779\n",
      "Epoch : 51 , training loss : 0.01546153481160255 , validation loss : 0.10102720393074884\n",
      "Epoch : 52 , training loss : 0.015457849036005104 , validation loss : 0.10088190933068593\n",
      "Epoch : 53 , training loss : 0.015440095918468597 , validation loss : 0.1007550780971845\n",
      "Epoch : 54 , training loss : 0.01542318801148341 , validation loss : 0.10058028085364236\n",
      "Epoch : 55 , training loss : 0.01541568358509472 , validation loss : 0.10045714345243242\n",
      "Epoch : 56 , training loss : 0.015386223228042492 , validation loss : 0.10026129252380794\n",
      "Epoch : 57 , training loss : 0.015379316341734967 , validation loss : 0.10026474710967806\n",
      "Epoch : 58 , training loss : 0.015409620147909336 , validation loss : 0.10012893378734589\n",
      "Epoch : 59 , training loss : 0.015508332390555105 , validation loss : 0.10038405822383033\n",
      "Epoch : 60 , training loss : 0.015596846525200858 , validation loss : 0.10030987775988048\n",
      "Epoch : 61 , training loss : 0.01563737750469605 , validation loss : 0.10012131184339523\n",
      "Epoch : 62 , training loss : 0.015597065052113432 , validation loss : 0.10042516390482585\n",
      "Epoch : 63 , training loss : 0.015579915520342347 , validation loss : 0.10008279979228973\n",
      "Epoch : 64 , training loss : 0.015436470067516755 , validation loss : 0.1001302773753802\n",
      "Epoch : 65 , training loss : 0.015384030480127377 , validation loss : 0.1001718979742792\n",
      "Epoch : 66 , training loss : 0.015233968562876269 , validation loss : 0.09982040027777354\n",
      "Epoch : 67 , training loss : 0.015167284687675158 , validation loss : 0.09939702269103792\n",
      "Epoch : 68 , training loss : 0.015172713675712277 , validation loss : 0.09941127896308899\n",
      "Epoch : 69 , training loss : 0.015271311816087102 , validation loss : 0.09892778760857052\n",
      "Epoch : 70 , training loss : 0.021051551280283156 , validation loss : 0.11919252243306902\n",
      "Epoch : 71 , training loss : 0.01568653235835368 , validation loss : 0.09307528369956547\n",
      "Epoch : 72 , training loss : 0.018356084817719807 , validation loss : 0.12960814932982126\n",
      "Epoch : 73 , training loss : 0.018953455838031735 , validation loss : 0.11837985780504015\n",
      "Epoch : 74 , training loss : 0.017319675348666207 , validation loss : 0.11108648777008057\n",
      "Epoch : 75 , training loss : 0.023505234708555707 , validation loss : 0.12740754998392528\n",
      "Epoch : 76 , training loss : 0.018121396086963733 , validation loss : 0.24068036178747812\n",
      "Epoch : 77 , training loss : 0.016575799561746173 , validation loss : 0.11220045967234506\n",
      "Epoch : 78 , training loss : 0.016928834964329585 , validation loss : 0.4380081163512336\n",
      "Epoch : 79 , training loss : 0.015102026443095239 , validation loss : 0.08560669587718116\n",
      "Epoch : 80 , training loss : 0.017753940907062116 , validation loss : 0.09042529430654314\n",
      "Epoch : 81 , training loss : 0.018527174503167584 , validation loss : 0.09303150905503167\n",
      "Epoch : 82 , training loss : 0.016446386611637973 , validation loss : 0.09458071490128835\n",
      "Epoch : 83 , training loss : 0.01597160880708872 , validation loss : 0.09538909213410483\n",
      "Epoch : 84 , training loss : 0.015773370703518697 , validation loss : 0.09531539844142066\n",
      "Epoch : 85 , training loss : 0.015653319026867105 , validation loss : 0.09540875918335384\n",
      "Epoch : 86 , training loss : 0.015558171164440535 , validation loss : 0.09515485829777187\n",
      "Epoch : 87 , training loss : 0.015493513123326684 , validation loss : 0.09508680800596873\n",
      "Epoch : 88 , training loss : 0.015509640702922775 , validation loss : 0.09478266702757941\n",
      "Epoch : 89 , training loss : 0.015475349856238753 , validation loss : 0.09444723361068302\n",
      "Epoch : 90 , training loss : 0.015354379346502094 , validation loss : 0.09456428057617611\n",
      "Epoch : 91 , training loss : 0.015285729297549634 , validation loss : 0.09423198054234187\n",
      "Epoch : 92 , training loss : 0.015281240150651514 , validation loss : 0.093771583504147\n",
      "Epoch : 93 , training loss : 0.01524022951844146 , validation loss : 0.0937893357541826\n",
      "Epoch : 94 , training loss : 0.015277175988675697 , validation loss : 0.09321059038241704\n",
      "Epoch : 95 , training loss : 0.015227766842080706 , validation loss : 0.09356055905421574\n",
      "Epoch : 96 , training loss : 0.015251464348400313 , validation loss : 0.09239735040399763\n",
      "Epoch : 97 , training loss : 0.015403602078268411 , validation loss : 0.09344331920146942\n",
      "Epoch : 98 , training loss : 0.015593307996823569 , validation loss : 0.09361692600780064\n",
      "Epoch : 99 , training loss : 0.015371725465797039 , validation loss : 0.09392667065064113\n",
      "Epoch : 100 , training loss : 0.015306353793352235 , validation loss : 0.09435131400823593\n",
      "Epoch : 101 , training loss : 0.015476797327723918 , validation loss : 0.0938812709516949\n",
      "Epoch : 102 , training loss : 0.01541674320735522 , validation loss : 0.09518287082513173\n",
      "Epoch : 103 , training loss : 0.015575518088876344 , validation loss : 0.09380140817827648\n",
      "Epoch : 104 , training loss : 0.015621019357769838 , validation loss : 0.09609843707746929\n",
      "Epoch : 105 , training loss : 0.01520402111137078 , validation loss : 0.09446115460660723\n",
      "Epoch : 106 , training loss : 0.015143596445366937 , validation loss : 0.09456081108914481\n",
      "Epoch : 107 , training loss : 0.016365431301472482 , validation loss : 0.09769812971353531\n",
      "Epoch : 108 , training loss : 0.015796491112967815 , validation loss : 0.09687760637866126\n",
      "Epoch : 109 , training loss : 0.01524498162095272 , validation loss : 0.09713829474316703\n",
      "Epoch : 110 , training loss : 0.015027077081148527 , validation loss : 0.09564565867185593\n",
      "Epoch : 111 , training loss : 0.014659981230761846 , validation loss : 0.093364170855946\n",
      "Epoch : 112 , training loss : 0.014275323322227312 , validation loss : 0.09094052430656221\n",
      "Epoch : 113 , training loss : 0.014032430341889316 , validation loss : 0.08894927551349004\n",
      "Epoch : 114 , training loss : 0.015183177827710271 , validation loss : 0.08953664534621769\n",
      "Epoch : 115 , training loss : 0.014627888331319476 , validation loss : 0.08585759335094029\n",
      "Epoch : 116 , training loss : 0.014085495354039643 , validation loss : 0.08556102547380659\n",
      "Epoch : 117 , training loss : 0.013296981817849156 , validation loss : 0.08213414831293954\n",
      "Epoch : 118 , training loss : 0.013141981984299389 , validation loss : 0.07874327070183224\n",
      "Epoch : 119 , training loss : 0.01331740298058136 , validation loss : 0.07635842594835493\n",
      "Epoch : 120 , training loss : 0.017601628992143577 , validation loss : 0.101961064669821\n",
      "Epoch : 121 , training loss : 0.014369258356679385 , validation loss : 0.07296262598699993\n",
      "Epoch : 122 , training loss : 0.015311621689642056 , validation loss : 0.07395485291878383\n",
      "Epoch : 123 , training loss : 0.016607707453938848 , validation loss : 0.07796895172860888\n",
      "Epoch : 124 , training loss : 0.012987026111406296 , validation loss : 0.07991104076306026\n",
      "Epoch : 125 , training loss : 0.015167384675867467 , validation loss : 0.11955629620287153\n",
      "Epoch : 126 , training loss : 0.013837253167443801 , validation loss : 0.08682055274645488\n",
      "Epoch : 127 , training loss : 0.013246210651463333 , validation loss : 0.09252922071350946\n",
      "Epoch : 128 , training loss : 0.013781242271887475 , validation loss : 0.09090700248877208\n",
      "Epoch : 129 , training loss : 0.01245033669800836 , validation loss : 0.09940791957908207\n",
      "Epoch : 130 , training loss : 0.011716693616660924 , validation loss : 0.13578261931737265\n",
      "Epoch : 131 , training loss : 0.011296547381695648 , validation loss : 0.11379758599731657\n",
      "Epoch : 132 , training loss : 0.010885011152305007 , validation loss : 0.14305916594134438\n",
      "Epoch : 133 , training loss : 0.010453657578026737 , validation loss : 0.1264305454161432\n",
      "Epoch : 134 , training loss : 0.01009935197859992 , validation loss : 0.12340083966652553\n",
      "Epoch : 135 , training loss : 0.009864040835959122 , validation loss : 0.1467991140153673\n",
      "Epoch : 136 , training loss : 0.009925608288779324 , validation loss : 0.1057653749982516\n",
      "Epoch : 137 , training loss : 0.010284661498635717 , validation loss : 0.10938606990708245\n",
      "Epoch : 138 , training loss : 0.010064665247907374 , validation loss : 0.1684995243946711\n",
      "Epoch : 139 , training loss : 0.010265191465702633 , validation loss : 0.1079704678720898\n",
      "Epoch : 140 , training loss : 0.011115539700518628 , validation loss : 0.06663377044929399\n",
      "Epoch : 141 , training loss : 0.010777521668315056 , validation loss : 0.17627637750572628\n",
      "Epoch : 142 , training loss : 0.00940047421203941 , validation loss : 0.15987488958570692\n",
      "Epoch : 143 , training loss : 0.01009842906636303 , validation loss : 0.10811079210705227\n",
      "Epoch : 144 , training loss : 0.0093677656160371 , validation loss : 0.1798627343442705\n",
      "Epoch : 145 , training loss : 0.009136069296646846 , validation loss : 0.17885992924372354\n",
      "Epoch : 146 , training loss : 0.008619976175786522 , validation loss : 0.11655418243673113\n",
      "Epoch : 147 , training loss : 0.008772395337115024 , validation loss : 0.15668079257011414\n",
      "Epoch : 148 , training loss : 0.00887418247809832 , validation loss : 0.20562713344891867\n",
      "Epoch : 149 , training loss : 0.009110979608654906 , validation loss : 0.053781643923785954\n"
     ]
    }
   ],
   "source": [
    "# Plot Learning Curve \n",
    "### BEGIN SOLUTION\n",
    "data_module.learning_curve(num_epochs = num_epochs_covid,\n",
    "                           train_loss = train_loss_covid ,\n",
    "                           val_loss = val_loss_covid)\n",
    "\n",
    "### END SOLUTION"
   ]
  },
  {
   "cell_type": "markdown",
   "metadata": {},
   "source": [
    "# Step 5 : Evaluation\n",
    "This section is to inference the model by feeding in testing data, determining the output forecast values and calculating the RMSE. For this exercise, use the function in `data_module` to run in each section.\n",
    "\n",
    "It consists of 4 sections :\n",
    "\n",
    "Section 1 : Feed in the train and test data to the model <br>\n",
    "Section 2 : Reshape both to the original data dimension <br> \n",
    "Section 3 : Invert the scaling back to the original data value <br>\n",
    "Section 4 : Calculate the RMSE of train and test data\n",
    "\n",
    ">**Instruction** : <br>\n",
    "Complete each section with the function in `data_module.py`"
   ]
  },
  {
   "cell_type": "code",
   "execution_count": 56,
   "metadata": {},
   "outputs": [],
   "source": [
    "# Section 1 : Make predictions\n",
    "\n",
    "### BEGIN SOLUTION\n",
    "with torch.no_grad():\n",
    "    y_train_prediction_covid = model_covid(train_data_dict_covid['train_data_x_feature'])\n",
    "    y_test_prediction_covid = model_covid(test_data_dict_covid['test_data_x_feature'])\n",
    "### END SOLUTION"
   ]
  },
  {
   "cell_type": "code",
   "execution_count": 57,
   "metadata": {},
   "outputs": [],
   "source": [
    "# Assign evaluation key\n",
    "### BEGIN SOLUTION\n",
    "prediction_covid , output_covid = data_module.key_assign_evaluation(y_train_prediction_covid,\n",
    "                                                                    y_test_prediction_covid,\n",
    "                                                                    train_data_dict_covid,\n",
    "                                                                    test_data_dict_covid)\n",
    "### END SOLUTION\n",
    "\n",
    "\n",
    "# Section 2 : Reshape data\n",
    "### BEGIN SOLUTION\n",
    "# Squeeze the output dimension\n",
    "output_data_covid = data_module.squeeze_dimension(output_covid)\n",
    "### END SOLUTION"
   ]
  },
  {
   "cell_type": "code",
   "execution_count": 58,
   "metadata": {},
   "outputs": [
    {
     "name": "stdout",
     "output_type": "stream",
     "text": [
      "train_data_output shape : torch.Size([354, 1])\n",
      "test_data_output shape : torch.Size([9, 1])\n"
     ]
    }
   ],
   "source": [
    "data_module.sanity_check(data_1 = output_data_covid,data_2 = {})"
   ]
  },
  {
   "cell_type": "code",
   "execution_count": 59,
   "metadata": {},
   "outputs": [],
   "source": [
    "# Section 3 : Invert the scaling back to orignal data value\n",
    "### BEGIN SOLUTION\n",
    "scaler_covid_output = scaler_covid[list(scaler_covid)[-1]]\n",
    "prediction_covid = data_module.inverse_scaler(prediction_covid,scaler_covid_output)\n",
    "output_data_covid  = data_module.inverse_scaler(output_data_covid, scaler_covid_output)\n",
    "### END SOLUTION"
   ]
  },
  {
   "cell_type": "markdown",
   "metadata": {},
   "source": [
    "`np.rint` is use to round our data to integer since the death cases should be an integer."
   ]
  },
  {
   "cell_type": "code",
   "execution_count": 60,
   "metadata": {},
   "outputs": [],
   "source": [
    "prediction_covid['test_data_prediction'] = np.rint(prediction_covid['test_data_prediction'])\n",
    "output_data_covid['test_data_output'] =  np.rint(output_data_covid['test_data_output']) "
   ]
  },
  {
   "cell_type": "code",
   "execution_count": 61,
   "metadata": {},
   "outputs": [
    {
     "name": "stdout",
     "output_type": "stream",
     "text": [
      "Test Data\t\t\tForecast\n",
      "[13.]\t\t[8.]\n",
      "[8.]\t\t[6.]\n",
      "[5.]\t\t[5.]\n",
      "[6.]\t\t[7.]\n",
      "[14.]\t\t[8.]\n",
      "[12.]\t\t[6.]\n",
      "[12.]\t\t[5.]\n",
      "[11.]\t\t[7.]\n",
      "[10.]\t\t[8.]\n"
     ]
    }
   ],
   "source": [
    "# List the forecast value\n",
    "### BEGIN SOLUTION\n",
    "data_module.list_forecast_value(output_data_covid,prediction_covid) \n",
    "### END SOLUTION"
   ]
  },
  {
   "cell_type": "code",
   "execution_count": 62,
   "metadata": {},
   "outputs": [
    {
     "name": "stdout",
     "output_type": "stream",
     "text": [
      "Train Score: 1.91 RMSE\n",
      "Test Score: 4.36 RMSE\n"
     ]
    }
   ],
   "source": [
    "# calculate root mean squared error\n",
    "### BEGIN SOLUTION\n",
    "trainScore_covid,testScore_covid = data_module.rmse(prediction_covid,output_data_covid)\n",
    "print('Train Score: %.2f RMSE' % (trainScore_covid))\n",
    "print('Test Score: %.2f RMSE' % (testScore_covid))\n",
    "### END SOLUTION"
   ]
  },
  {
   "cell_type": "markdown",
   "metadata": {},
   "source": [
    "# Step 6 : Forecast Plot"
   ]
  },
  {
   "cell_type": "code",
   "execution_count": 63,
   "metadata": {},
   "outputs": [
    {
     "data": {
      "image/png": "[encoded data removed]",
      "text/plain": [
       "<Figure size 720x432 with 1 Axes>"
      ]
     },
     "metadata": {
      "needs_background": "light"
     },
     "output_type": "display_data"
    }
   ],
   "source": [
    "data_module.single_step_plot(original_test_data = test_data_covid[\"Deaths\"],\n",
    "                 sequence_test_data = output_data_covid['test_data_output'],\n",
    "                 forecast_data = prediction_covid['test_data_prediction'],\n",
    "                 test_time = test_time_covid,\n",
    "                 window_size = window_size_covid,\n",
    "                 original_plot = True,\n",
    "                 multivariate = True)\n"
   ]
  },
  {
   "cell_type": "markdown",
   "metadata": {},
   "source": [
    "## Summary\n",
    "In this tutorial you should have learnt:\n",
    "\n",
    "1. The flow of using CNN to perform multivariate input, univariate output single-step forecasting<br>\n",
    "\n",
    "Congratulations, that concludes this lesson.<br>\n",
    "\n",
    "\n",
    "Please proceed to other notebooks for other types of data in CNN forecasting  <br>\n",
    "\n",
    "1. ~~*[04 - CNN_Univariate_SingleStep]*~~ *Complete*\n",
    "2. ~~*[04 - CNN_Univariate_MultiStep]*~~*Complete*\n",
    "3. ~~*[04 - CNN_Multivariate_Univariate_SingleStep]*~~*Complete*\n",
    "4. [04 - CNN_Multivariate_Univariate_MultiStep](./04%20-%20CNN_Multivariate_Univariate_MultiStep.ipynb)<br>"
   ]
  },
  {
   "cell_type": "markdown",
   "metadata": {},
   "source": [
    "## Reference\n",
    "1. [Deep Learning for Time Series Forecasting (Predict the Future with MLPs,CNNs and LSTMs in Python) , Jason Brownlee](https://machinelearningmastery.com/deep-learning-for-time-series-forecasting/)"
   ]
  }
 ],
 "metadata": {
  "kernelspec": {
   "display_name": "Python 3",
   "language": "python",
   "name": "python3"
  },
  "language_info": {
   "codemirror_mode": {
    "name": "ipython",
    "version": 3
   },
   "file_extension": ".py",
   "mimetype": "text/x-python",
   "name": "python",
   "nbconvert_exporter": "python",
   "pygments_lexer": "ipython3",
   "version": "3.7.9"
  },
  "varInspector": {
   "cols": {
    "lenName": 16,
    "lenType": 16,
    "lenVar": 40
   },
   "kernels_config": {
    "python": {
     "delete_cmd_postfix": "",
     "delete_cmd_prefix": "del ",
     "library": "var_list.py",
     "varRefreshCmd": "print(var_dic_list())"
    },
    "r": {
     "delete_cmd_postfix": ") ",
     "delete_cmd_prefix": "rm(",
     "library": "var_list.r",
     "varRefreshCmd": "cat(var_dic_list()) "
    }
   },
   "types_to_exclude": [
    "module",
    "function",
    "builtin_function_or_method",
    "instance",
    "_Feature"
   ],
   "window_display": false
  }
 },
 "nbformat": 4,
 "nbformat_minor": 4
}
