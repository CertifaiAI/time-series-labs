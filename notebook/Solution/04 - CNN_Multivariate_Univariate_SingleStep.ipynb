{
 "cells": [
  {
   "cell_type": "markdown",
   "metadata": {
    "deletable": false,
    "editable": false
   },
   "source": [
    "![logo](../../picture/license_header_logo.png)\n",
    "> **Copyright &copy; 2020 - 2021 CertifAI Sdn. Bhd.**<br>\n",
    " <br>\n",
    "This program and the accompanying materials are made available under the\n",
    "terms of the [Apache License, Version 2.0](https://www.apache.org/licenses/LICENSE-2.0). <br>\n",
    "Unless required by applicable law or agreed to in writing, software\n",
    "distributed under the License is distributed on an \"AS IS\" BASIS, WITHOUT\n",
    "WARRANTIES OR CONDITIONS OF ANY KIND, either express or implied. See the\n",
    "License for the specific language governing permissions and limitations\n",
    "under the License. <br>\n",
    "<br>**SPDX-License-Identifier: Apache-2.0**"
   ]
  },
  {
   "cell_type": "markdown",
   "metadata": {},
   "source": [
    "# Requirement\n",
    "You should complete the LSTM tutorial before starting the CNN tutorial. This is because most of the functions used will be based on `data_module.py` and `deep_learning_module.py`\n",
    "\n",
    "Please proceed to the LSTM notebook if you haven't complete it yet.<br>\n",
    "\n",
    "1. [04 - LSTM_Univariate_SingleStep](./04%20-%20LSTM_Univariate_SingleStep.ipynb)\n",
    "2. [04 - LSTM_Univariate_MultiStep.ipynb](./04%20-%20LSTM_Univariate_MultiStep.ipynb)\n",
    "3. [04 - LSTM_Multivariate_Univariate_SingleStep](./04%20-%20LSTM_Multivariate_Univariate_SingleStep.ipynb)<br>\n",
    "4. [04 - LSTM_Multivariate_Univariate_MultiStep](./04%20-%20LSTM_Multivariate_Univariate_MultiStep.ipynb)<br>"
   ]
  },
  {
   "cell_type": "markdown",
   "metadata": {},
   "source": [
    "## Multivariate Input, Univariate Output CNN, Single Step\n",
    "This tutorial is to demonstrate the process in build CNN for Multivariate Input, Univariate Output  for Single Step. <br>\n",
    "\n",
    "It consists of 2 major parts which are :\n",
    "\n",
    "Part 1 - The Demonstration of Building CNN using Synthetic data <br>\n",
    "Part 2 - Exercise of building CNN using COVID-19 Data.<br>\n",
    "\n",
    "\n",
    "## What will we accomplish?\n",
    "First, we will show the step in building the CNN :\n",
    "\n",
    "Step 1. Data Preparation (Data Splitting,Data Sequencing,Data Standardization and Batching the Data) <br>\n",
    "Step 2. Model Configuration for CNN<br>\n",
    "Step 3. Train the model<br>\n",
    "Step 4. Validate the model using graph<br>\n",
    "Step 5. Evaluation Metrics such as MSE<br>\n",
    "Step 6. Plot the forecast result<br>\n",
    "\n",
    "Let's import the package needed"
   ]
  },
  {
   "cell_type": "code",
   "execution_count": 1,
   "metadata": {},
   "outputs": [],
   "source": [
    "# import packages needed\n",
    "import numpy as np\n",
    "import pandas as pd\n",
    "import matplotlib.pyplot as plt\n",
    "import torch\n",
    "import torch.nn as nn\n",
    "import torch.nn.functional as F\n",
    "from torch.utils.data import DataLoader, TensorDataset\n",
    "from sklearn.metrics import mean_squared_error\n",
    "from sklearn.preprocessing import StandardScaler , MinMaxScaler\n",
    "import math\n",
    "from torchsummaryX import summary\n",
    "\n",
    "# To auto load the customise module\n",
    "%load_ext autoreload\n",
    "%autoreload 2\n",
    "import deep_learning_module\n",
    "import data_module"
   ]
  },
  {
   "cell_type": "markdown",
   "metadata": {},
   "source": [
    "# Part 1 : Demonstration of Building CNN using Synthetic data\n",
    "\n",
    "## Hyperparameter\n",
    "Define the hyperparameter that is needed to tune the model."
   ]
  },
  {
   "cell_type": "code",
   "execution_count": 2,
   "metadata": {},
   "outputs": [],
   "source": [
    "split_ratio = 0.70\n",
    "num_epochs = 500\n",
    "window_size = 10\n",
    "batch_size = 5\n",
    "n_step = 1\n",
    "learning_rate = 0.01"
   ]
  },
  {
   "cell_type": "markdown",
   "metadata": {},
   "source": [
    "# Step 1 : Data Preparation\n",
    "We create synthetic data to make sure the model is created correctly and having the ability to perform the forecasting. <br>\n",
    "\n",
    "1. First, we will create a sequence of data with `np.array`.\n",
    "2. Then, we will assign a date to the sequence of data with `pd.date_range` and store it in a series format by using `pd.Series`."
   ]
  },
  {
   "cell_type": "code",
   "execution_count": 3,
   "metadata": {},
   "outputs": [],
   "source": [
    "in_seq1 = np.array([x for x in range(0, 400, 10)])\n",
    "in_seq2 = np.array([x for x in range(5, 405, 10)])\n",
    "out_seq = np.array([in_seq1[i] + in_seq2[i] for i in range(len(in_seq1))])\n",
    "\n",
    "# convert to [rows, columns] structure\n",
    "in_seq1 = in_seq1.reshape((len(in_seq1), 1))\n",
    "in_seq2 = in_seq2.reshape((len(in_seq2), 1))\n",
    "out_seq = out_seq.reshape((len(out_seq), 1))\n",
    "\n",
    "# horizontally stack columns\n",
    "dataset = np.hstack((in_seq1, in_seq2, out_seq))"
   ]
  },
  {
   "cell_type": "code",
   "execution_count": 4,
   "metadata": {},
   "outputs": [
    {
     "data": {
      "text/html": [
       "<div>\n",
       "<style scoped>\n",
       "    .dataframe tbody tr th:only-of-type {\n",
       "        vertical-align: middle;\n",
       "    }\n",
       "\n",
       "    .dataframe tbody tr th {\n",
       "        vertical-align: top;\n",
       "    }\n",
       "\n",
       "    .dataframe thead th {\n",
       "        text-align: right;\n",
       "    }\n",
       "</style>\n",
       "<table border=\"1\" class=\"dataframe\">\n",
       "  <thead>\n",
       "    <tr style=\"text-align: right;\">\n",
       "      <th></th>\n",
       "      <th>in_seq1</th>\n",
       "      <th>in_seq2</th>\n",
       "      <th>out_seq</th>\n",
       "    </tr>\n",
       "    <tr>\n",
       "      <th>Date</th>\n",
       "      <th></th>\n",
       "      <th></th>\n",
       "      <th></th>\n",
       "    </tr>\n",
       "  </thead>\n",
       "  <tbody>\n",
       "    <tr>\n",
       "      <th>2020-01-01</th>\n",
       "      <td>0</td>\n",
       "      <td>5</td>\n",
       "      <td>5</td>\n",
       "    </tr>\n",
       "    <tr>\n",
       "      <th>2020-01-02</th>\n",
       "      <td>10</td>\n",
       "      <td>15</td>\n",
       "      <td>25</td>\n",
       "    </tr>\n",
       "    <tr>\n",
       "      <th>2020-01-03</th>\n",
       "      <td>20</td>\n",
       "      <td>25</td>\n",
       "      <td>45</td>\n",
       "    </tr>\n",
       "    <tr>\n",
       "      <th>2020-01-04</th>\n",
       "      <td>30</td>\n",
       "      <td>35</td>\n",
       "      <td>65</td>\n",
       "    </tr>\n",
       "    <tr>\n",
       "      <th>2020-01-05</th>\n",
       "      <td>40</td>\n",
       "      <td>45</td>\n",
       "      <td>85</td>\n",
       "    </tr>\n",
       "  </tbody>\n",
       "</table>\n",
       "</div>"
      ],
      "text/plain": [
       "            in_seq1  in_seq2  out_seq\n",
       "Date                                 \n",
       "2020-01-01        0        5        5\n",
       "2020-01-02       10       15       25\n",
       "2020-01-03       20       25       45\n",
       "2020-01-04       30       35       65\n",
       "2020-01-05       40       45       85"
      ]
     },
     "execution_count": 4,
     "metadata": {},
     "output_type": "execute_result"
    }
   ],
   "source": [
    "dataset = pd.DataFrame(dataset,columns =[\"in_seq1\",\"in_seq2\",\"out_seq\"],\n",
    "                      index = pd.date_range(\"1/1/2020\",periods=len(dataset),freq='D'))\n",
    "dataset.index.name=\"Date\"\n",
    "dataset.head()"
   ]
  },
  {
   "cell_type": "markdown",
   "metadata": {},
   "source": [
    "## Data Visualization\n",
    "Data visualization is important for us to visualize the pattern of data such as trend and seasonality. As seen in the graph below, there is an increasing trend in data."
   ]
  },
  {
   "cell_type": "code",
   "execution_count": 5,
   "metadata": {},
   "outputs": [
    {
     "data": {
      "text/plain": [
       "Text(0.5, 1.0, 'Synthetic Data')"
      ]
     },
     "execution_count": 5,
     "metadata": {},
     "output_type": "execute_result"
    },
    {
     "data": {
      "image/png": "[encoded data removed]",
      "text/plain": [
       "<Figure size 432x288 with 1 Axes>"
      ]
     },
     "metadata": {
      "needs_background": "light"
     },
     "output_type": "display_data"
    }
   ],
   "source": [
    "dataset.plot()\n",
    "plt.title(\"Synthetic Data\")"
   ]
  },
  {
   "cell_type": "markdown",
   "metadata": {},
   "source": [
    "## Data Splitting\n",
    "In Deep Learning, we will split the data into training and test dataset. The training data is used to train the model where the test data is used to validate the performance of the model."
   ]
  },
  {
   "cell_type": "code",
   "execution_count": 6,
   "metadata": {},
   "outputs": [
    {
     "data": {
      "text/plain": [
       "28"
      ]
     },
     "execution_count": 6,
     "metadata": {},
     "output_type": "execute_result"
    }
   ],
   "source": [
    "# Calculate the split ratio \n",
    "split_data = round(len(dataset)*split_ratio)\n",
    "split_data"
   ]
  },
  {
   "cell_type": "code",
   "execution_count": 7,
   "metadata": {},
   "outputs": [
    {
     "name": "stdout",
     "output_type": "stream",
     "text": [
      "train_data_shape\n",
      "(28, 3)\n",
      "test_data_shape\n",
      "(12, 3)\n"
     ]
    }
   ],
   "source": [
    "# Split data by indexing \n",
    "train_data = dataset[:split_data]\n",
    "test_data = dataset[split_data:]\n",
    "train_time = dataset.index[:split_data]\n",
    "test_time = dataset.index[split_data:]\n",
    "print(\"train_data_shape\")\n",
    "print(train_data.shape)\n",
    "print(\"test_data_shape\")\n",
    "print(test_data.shape)"
   ]
  },
  {
   "cell_type": "markdown",
   "metadata": {},
   "source": [
    "## Data Standardization\n",
    "Standardize your numeric attributes to have 0 mean and unit variance.\n"
   ]
  },
  {
   "cell_type": "code",
   "execution_count": 8,
   "metadata": {},
   "outputs": [
    {
     "name": "stdout",
     "output_type": "stream",
     "text": [
      "train_data_standardized(28, 3)\n",
      "test_data_standardized(12, 3)\n"
     ]
    }
   ],
   "source": [
    "data_scalers,train_data_standard, test_data_standard = data_module.multi_data_scaler(train_data,test_data)\n",
    "print(\"train_data_standardized\"+str(train_data_standard.shape))\n",
    "print(\"test_data_standardized\"+str(test_data_standard.shape))"
   ]
  },
  {
   "cell_type": "markdown",
   "metadata": {},
   "source": [
    "## Data Sequencing\n",
    "Sequencing the data by taking in the multivariate series into `x-feature` and `y-label`\n",
    "<img src = \"../../picture/multivariate univariate.png\"  width=\"300\" height  =\"300\" align=\"center\" />"
   ]
  },
  {
   "cell_type": "code",
   "execution_count": 9,
   "metadata": {},
   "outputs": [
    {
     "name": "stdout",
     "output_type": "stream",
     "text": [
      "trainX shape:(19, 10, 2) trainY shape:(19,)\n",
      "\n",
      "testX shape:(3, 10, 2) testY shape:(3,)\n"
     ]
    }
   ],
   "source": [
    "trainX, trainY = data_module.multivariate_univariate_single_step(train_data_standard, window_size)\n",
    "testX, testY = data_module.multivariate_univariate_single_step(test_data_standard, window_size)\n",
    "print(f\"trainX shape:{trainX.shape} trainY shape:{trainY.shape}\\n\")\n",
    "print(f\"testX shape:{testX.shape} testY shape:{testY.shape}\")"
   ]
  },
  {
   "cell_type": "code",
   "execution_count": 10,
   "metadata": {},
   "outputs": [
    {
     "name": "stdout",
     "output_type": "stream",
     "text": [
      "trainY shape:(19, 1, 1)\n",
      "testY shape:(3, 1, 1)\n"
     ]
    }
   ],
   "source": [
    "trainY = trainY.reshape(trainY.shape[0],n_step,1)\n",
    "testY = testY.reshape(testY.shape[0],n_step,1)\n",
    "print(f\"trainY shape:{trainY.shape}\")\n",
    "print(f\"testY shape:{testY.shape}\")"
   ]
  },
  {
   "cell_type": "markdown",
   "metadata": {},
   "source": [
    "## Data Transform\n",
    "Data needs to transformed from `NumPy` to `PyTorch` tensor before being fed into the model"
   ]
  },
  {
   "cell_type": "code",
   "execution_count": 11,
   "metadata": {},
   "outputs": [],
   "source": [
    "train_data_dict ,test_data_dict = data_module.key_assign(trainingX = trainX  , \n",
    "                       testingX = testX, \n",
    "                       trainingY = trainY, \n",
    "                       testingY = testY)\n",
    "train_data_dict ,test_data_dict = data_module.transform(train_data_dict ,test_data_dict)"
   ]
  },
  {
   "cell_type": "code",
   "execution_count": 12,
   "metadata": {},
   "outputs": [
    {
     "name": "stdout",
     "output_type": "stream",
     "text": [
      "train_data_x_feature shape : torch.Size([19, 10, 2])\n",
      "train_data_y_label shape : torch.Size([19, 1, 1])\n",
      "test_data_x_feature shape : torch.Size([3, 10, 2])\n",
      "test_data_y_label shape : torch.Size([3, 1, 1])\n"
     ]
    }
   ],
   "source": [
    "data_module.sanity_check(train_data_dict , test_data_dict)"
   ]
  },
  {
   "cell_type": "markdown",
   "metadata": {},
   "source": [
    "## Data Transpose \n",
    "You are require to transpose the `x-feature` data in such a way that : <br>\n",
    ">`(batch_size, number_of_features, sequence_length)`."
   ]
  },
  {
   "cell_type": "code",
   "execution_count": 13,
   "metadata": {},
   "outputs": [],
   "source": [
    "# Data Transpose to suit for CNN \n",
    "train_data_dict , test_data_dict= data_module.transpose(train_data_dict,test_data_dict)"
   ]
  },
  {
   "cell_type": "code",
   "execution_count": 14,
   "metadata": {},
   "outputs": [
    {
     "name": "stdout",
     "output_type": "stream",
     "text": [
      "train_data_x_feature shape : torch.Size([19, 2, 10])\n",
      "train_data_y_label shape : torch.Size([19, 1, 1])\n",
      "test_data_x_feature shape : torch.Size([3, 2, 10])\n",
      "test_data_y_label shape : torch.Size([3, 1, 1])\n"
     ]
    }
   ],
   "source": [
    "data_module.sanity_check(train_data_dict , test_data_dict)"
   ]
  },
  {
   "cell_type": "markdown",
   "metadata": {},
   "source": [
    "## Data Iterator\n",
    "Iterator is created to allow the data separate into several batches to fasten the training process\n",
    ">**Instruction** : <br>\n",
    "Use `data_module.iterator` to create data iterator."
   ]
  },
  {
   "cell_type": "code",
   "execution_count": 15,
   "metadata": {},
   "outputs": [],
   "source": [
    "train_iter , test_iter = data_module.iterator(train_data_dict ,test_data_dict,batch_size = batch_size)"
   ]
  },
  {
   "cell_type": "markdown",
   "metadata": {},
   "source": [
    "# Step 2 :  CNN Model Configuration\n",
    "You may choose to use the CNN configuration that have been saved in the `deep_learning_module.py` or code it by yourself. For demonstration purposes, we will use the CNN configuration in `deep_learning_module.py`"
   ]
  },
  {
   "cell_type": "markdown",
   "metadata": {},
   "source": [
    "## Input Model\n",
    "The number of features and number of steps are fed as attributes into the model. The other attributes such as `kernel_size` , `in_channels` and `out_channels` for each convolution layer need to configured in the network configuration by the practitioner."
   ]
  },
  {
   "cell_type": "code",
   "execution_count": 16,
   "metadata": {},
   "outputs": [],
   "source": [
    "# seed\n",
    "torch.manual_seed(123)\n",
    "### BEGIN SOLUTION\n",
    "n_feature = train_data_dict['train_data_x_feature'].shape[1]\n",
    "\n",
    "# Input the attribute need by the model \n",
    "model = deep_learning_module.CNN(n_feature = n_feature,n_step = n_step )\n",
    "\n",
    "# Define the optimizer (Here we use SGD as our optimizer)\n",
    "optimizer = torch.optim.Adam(model.parameters(), lr=learning_rate)\n",
    "\n",
    "# Define the loss function (Here we use MSE as the loss function)\n",
    "loss_fn = nn.MSELoss()\n",
    "\n",
    "### END SOLUTION"
   ]
  },
  {
   "cell_type": "code",
   "execution_count": 17,
   "metadata": {},
   "outputs": [
    {
     "name": "stdout",
     "output_type": "stream",
     "text": [
      "====================================================\n",
      "        Kernel Shape Output Shape Params Mult-Adds\n",
      "Layer                                             \n",
      "0_conv1   [2, 30, 3]   [5, 30, 8]  210.0     1.44k\n",
      "1_poo1             -   [5, 30, 4]      -         -\n",
      "2_conv2  [30, 20, 2]   [5, 20, 3]  1.22k      3.6k\n",
      "3_pool2            -   [5, 20, 1]      -         -\n",
      "4_fc1       [20, 10]      [5, 10]  210.0     200.0\n",
      "5_fc2        [10, 1]       [5, 1]   11.0      10.0\n",
      "----------------------------------------------------\n",
      "                      Totals\n",
      "Total params          1.651k\n",
      "Trainable params      1.651k\n",
      "Non-trainable params     0.0\n",
      "Mult-Adds              5.25k\n",
      "====================================================\n",
      "        Kernel Shape Output Shape  Params  Mult-Adds\n",
      "Layer                                               \n",
      "0_conv1   [2, 30, 3]   [5, 30, 8]   210.0     1440.0\n",
      "1_poo1             -   [5, 30, 4]     NaN        NaN\n",
      "2_conv2  [30, 20, 2]   [5, 20, 3]  1220.0     3600.0\n",
      "3_pool2            -   [5, 20, 1]     NaN        NaN\n",
      "4_fc1       [20, 10]      [5, 10]   210.0      200.0\n",
      "5_fc2        [10, 1]       [5, 1]    11.0       10.0\n"
     ]
    }
   ],
   "source": [
    "seq_length = train_data_dict['train_data_x_feature'].shape[2]\n",
    "inputs = torch.zeros((batch_size,n_feature ,seq_length),dtype=torch.float) # batch size ,input_dim ,seq_length\n",
    "print(summary(model,inputs))"
   ]
  },
  {
   "cell_type": "code",
   "execution_count": 18,
   "metadata": {},
   "outputs": [
    {
     "data": {
      "text/plain": [
       "CNN(\n",
       "  (conv1): Conv1d(2, 30, kernel_size=(3,), stride=(1,))\n",
       "  (poo1): MaxPool1d(kernel_size=2, stride=2, padding=0, dilation=1, ceil_mode=False)\n",
       "  (conv2): Conv1d(30, 20, kernel_size=(2,), stride=(1,))\n",
       "  (pool2): AdaptiveMaxPool1d(output_size=1)\n",
       "  (fc1): Linear(in_features=20, out_features=10, bias=True)\n",
       "  (fc2): Linear(in_features=10, out_features=1, bias=True)\n",
       ")"
      ]
     },
     "execution_count": 18,
     "metadata": {},
     "output_type": "execute_result"
    }
   ],
   "source": [
    "# seed\n",
    "torch.manual_seed(123)\n",
    "\n",
    "#  Xavier Weight Initialize \n",
    "def weights_init(m):\n",
    "    if isinstance(m, nn.Conv1d):\n",
    "        nn.init.xavier_uniform_(m.weight.data)\n",
    "        \n",
    "model.apply(weights_init)"
   ]
  },
  {
   "cell_type": "markdown",
   "metadata": {},
   "source": [
    "# Step 3 : Training"
   ]
  },
  {
   "cell_type": "code",
   "execution_count": 19,
   "metadata": {},
   "outputs": [],
   "source": [
    "# seed\n",
    "torch.manual_seed(123)\n",
    "# Start Training\n",
    "train_loss, val_loss = deep_learning_module.training(num_epochs, train_iter, test_iter, optimizer, loss_fn, model)"
   ]
  },
  {
   "cell_type": "markdown",
   "metadata": {},
   "source": [
    "# Step 4 : Validation \n",
    "A learning curve is plotted to define how well the data fits in the model "
   ]
  },
  {
   "cell_type": "code",
   "execution_count": 20,
   "metadata": {
    "scrolled": true
   },
   "outputs": [
    {
     "data": {
      "image/png": "[encoded data removed]",
      "text/plain": [
       "<Figure size 720x432 with 1 Axes>"
      ]
     },
     "metadata": {
      "needs_background": "light"
     },
     "output_type": "display_data"
    },
    {
     "name": "stdout",
     "output_type": "stream",
     "text": [
      "Epoch : 0 , training loss : 0.6024459806319914 , validation loss : 7.848367214202881\n",
      "Epoch : 1 , training loss : 0.5148653548799063 , validation loss : 7.5267333984375\n",
      "Epoch : 2 , training loss : 0.4965130276978016 , validation loss : 7.30106782913208\n",
      "Epoch : 3 , training loss : 0.4596887734767638 , validation loss : 7.102354526519775\n",
      "Epoch : 4 , training loss : 0.41062341934364094 , validation loss : 6.8258185386657715\n",
      "Epoch : 5 , training loss : 0.3466624310730319 , validation loss : 6.502195835113525\n",
      "Epoch : 6 , training loss : 0.287044869637803 , validation loss : 6.099008083343506\n",
      "Epoch : 7 , training loss : 0.1991950752899835 , validation loss : 5.5760626792907715\n",
      "Epoch : 8 , training loss : 0.11857148155717082 , validation loss : 4.9114861488342285\n",
      "Epoch : 9 , training loss : 0.0499596141828653 , validation loss : 4.144676685333252\n",
      "Epoch : 10 , training loss : 0.05781691011629606 , validation loss : 3.5090653896331787\n",
      "Epoch : 11 , training loss : 0.048198621229905834 , validation loss : 3.1601102352142334\n",
      "Epoch : 12 , training loss : 0.008253930602222681 , validation loss : 2.9693033695220947\n",
      "Epoch : 13 , training loss : 0.019748824967169447 , validation loss : 2.795635461807251\n",
      "Epoch : 14 , training loss : 0.048894048279371896 , validation loss : 2.769529104232788\n",
      "Epoch : 15 , training loss : 0.029677413403987885 , validation loss : 2.405172824859619\n",
      "Epoch : 16 , training loss : 0.11362352232007604 , validation loss : 2.5558035373687744\n",
      "Epoch : 17 , training loss : 0.1241706374567002 , validation loss : 2.1751484870910645\n",
      "Epoch : 18 , training loss : 0.13371138098208527 , validation loss : 2.2368085384368896\n",
      "Epoch : 19 , training loss : 0.029541221545322946 , validation loss : 2.1830530166625977\n",
      "Epoch : 20 , training loss : 0.023391352084122206 , validation loss : 1.880475640296936\n",
      "Epoch : 21 , training loss : 0.013409687512505212 , validation loss : 1.6754766702651978\n",
      "Epoch : 22 , training loss : 0.019530849604818382 , validation loss : 1.5885100364685059\n",
      "Epoch : 23 , training loss : 0.010863494226022771 , validation loss : 1.5224285125732422\n",
      "Epoch : 24 , training loss : 0.011728023779333421 , validation loss : 1.4518189430236816\n",
      "Epoch : 25 , training loss : 0.007436961940440692 , validation loss : 1.4547395706176758\n",
      "Epoch : 26 , training loss : 0.00566262202750965 , validation loss : 1.531998634338379\n",
      "Epoch : 27 , training loss : 0.0044429865420648924 , validation loss : 1.6076852083206177\n",
      "Epoch : 28 , training loss : 0.0029704991351249383 , validation loss : 1.6376333236694336\n",
      "Epoch : 29 , training loss : 0.0024436639059307423 , validation loss : 1.6601594686508179\n",
      "Epoch : 30 , training loss : 0.0016729563633960328 , validation loss : 1.660483956336975\n",
      "Epoch : 31 , training loss : 0.0013385620856608607 , validation loss : 1.6202048063278198\n",
      "Epoch : 32 , training loss : 0.00090586963319526 , validation loss : 1.5920400619506836\n",
      "Epoch : 33 , training loss : 0.0006538840289546275 , validation loss : 1.5809359550476074\n",
      "Epoch : 34 , training loss : 0.0006912308576590332 , validation loss : 1.56383216381073\n",
      "Epoch : 35 , training loss : 0.0004804785318188614 , validation loss : 1.5594635009765625\n",
      "Epoch : 36 , training loss : 0.0004072052703888499 , validation loss : 1.5551484823226929\n",
      "Epoch : 37 , training loss : 0.00035986048552379206 , validation loss : 1.5402368307113647\n",
      "Epoch : 38 , training loss : 0.0003223331923915171 , validation loss : 1.5276979207992554\n",
      "Epoch : 39 , training loss : 0.0002787694753159916 , validation loss : 1.51286780834198\n",
      "Epoch : 40 , training loss : 0.00023718218251719678 , validation loss : 1.499593734741211\n",
      "Epoch : 41 , training loss : 0.00020913725127588565 , validation loss : 1.4920072555541992\n",
      "Epoch : 42 , training loss : 0.00019892787378538693 , validation loss : 1.4837690591812134\n",
      "Epoch : 43 , training loss : 0.0001748862445023597 , validation loss : 1.477935791015625\n",
      "Epoch : 44 , training loss : 0.00016405242556510004 , validation loss : 1.4726638793945312\n",
      "Epoch : 45 , training loss : 0.00015141596859872438 , validation loss : 1.468025803565979\n",
      "Epoch : 46 , training loss : 0.00013938912735810796 , validation loss : 1.4657764434814453\n",
      "Epoch : 47 , training loss : 0.0001316844737678031 , validation loss : 1.463316559791565\n",
      "Epoch : 48 , training loss : 0.0001215470792407072 , validation loss : 1.4616416692733765\n",
      "Epoch : 49 , training loss : 0.00011542661511492425 , validation loss : 1.4599412679672241\n",
      "Epoch : 50 , training loss : 0.0001076630053974345 , validation loss : 1.4580540657043457\n",
      "Epoch : 51 , training loss : 0.00010117134201879565 , validation loss : 1.4563180208206177\n",
      "Epoch : 52 , training loss : 9.532852709526196e-05 , validation loss : 1.4540928602218628\n",
      "Epoch : 53 , training loss : 8.943721418051466e-05 , validation loss : 1.4519211053848267\n",
      "Epoch : 54 , training loss : 8.496102006909878e-05 , validation loss : 1.4493499994277954\n",
      "Epoch : 55 , training loss : 7.963798443118944e-05 , validation loss : 1.4466228485107422\n",
      "Epoch : 56 , training loss : 7.53192303627178e-05 , validation loss : 1.4437717199325562\n",
      "Epoch : 57 , training loss : 7.094704855454008e-05 , validation loss : 1.4403901100158691\n",
      "Epoch : 58 , training loss : 6.701068258208627e-05 , validation loss : 1.4372185468673706\n",
      "Epoch : 59 , training loss : 6.346441004050001e-05 , validation loss : 1.4342964887619019\n",
      "Epoch : 60 , training loss : 5.993497650610822e-05 , validation loss : 1.4318774938583374\n",
      "Epoch : 61 , training loss : 5.7049440377005866e-05 , validation loss : 1.429421305656433\n",
      "Epoch : 62 , training loss : 5.4121136695596905e-05 , validation loss : 1.4271095991134644\n",
      "Epoch : 63 , training loss : 5.1785974487996244e-05 , validation loss : 1.4248161315917969\n",
      "Epoch : 64 , training loss : 4.9129009886727494e-05 , validation loss : 1.422528624534607\n",
      "Epoch : 65 , training loss : 4.622456713389654e-05 , validation loss : 1.4201253652572632\n",
      "Epoch : 66 , training loss : 4.301926015901508e-05 , validation loss : 1.4176260232925415\n",
      "Epoch : 67 , training loss : 3.9649230505969366e-05 , validation loss : 1.4149192571640015\n",
      "Epoch : 68 , training loss : 3.6455972445094775e-05 , validation loss : 1.4122403860092163\n",
      "Epoch : 69 , training loss : 3.3385842853979406e-05 , validation loss : 1.409341812133789\n",
      "Epoch : 70 , training loss : 3.0403275559365284e-05 , validation loss : 1.4065027236938477\n",
      "Epoch : 71 , training loss : 2.7763154417028235e-05 , validation loss : 1.4036210775375366\n",
      "Epoch : 72 , training loss : 2.513538572058774e-05 , validation loss : 1.401089072227478\n",
      "Epoch : 73 , training loss : 2.4222217521846207e-05 , validation loss : 1.39844810962677\n",
      "Epoch : 74 , training loss : 2.322814534157882e-05 , validation loss : 1.3958231210708618\n",
      "Epoch : 75 , training loss : 2.241167639065105e-05 , validation loss : 1.3933734893798828\n",
      "Epoch : 76 , training loss : 2.14516502589839e-05 , validation loss : 1.3918285369873047\n",
      "Epoch : 77 , training loss : 2.0886775904440774e-05 , validation loss : 1.3903752565383911\n",
      "Epoch : 78 , training loss : 2.028291170350521e-05 , validation loss : 1.389044165611267\n",
      "Epoch : 79 , training loss : 1.9935462396939617e-05 , validation loss : 1.387229323387146\n",
      "Epoch : 80 , training loss : 1.939585550453079e-05 , validation loss : 1.3860172033309937\n",
      "Epoch : 81 , training loss : 1.930785236637396e-05 , validation loss : 1.384557843208313\n",
      "Epoch : 82 , training loss : 1.8890318283650375e-05 , validation loss : 1.3838051557540894\n",
      "Epoch : 83 , training loss : 1.88533467496056e-05 , validation loss : 1.38217294216156\n",
      "Epoch : 84 , training loss : 1.8982972781151674e-05 , validation loss : 1.38150155544281\n",
      "Epoch : 85 , training loss : 1.9403820404381566e-05 , validation loss : 1.379678726196289\n",
      "Epoch : 86 , training loss : 2.02866221905807e-05 , validation loss : 1.3795160055160522\n",
      "Epoch : 87 , training loss : 2.1904639700216266e-05 , validation loss : 1.377357840538025\n",
      "Epoch : 88 , training loss : 2.5580987767170882e-05 , validation loss : 1.377665638923645\n",
      "Epoch : 89 , training loss : 3.066052254565109e-05 , validation loss : 1.3746904134750366\n",
      "Epoch : 90 , training loss : 4.08321592610599e-05 , validation loss : 1.3758193254470825\n",
      "Epoch : 91 , training loss : 5.651419580413188e-05 , validation loss : 1.3716553449630737\n",
      "Epoch : 92 , training loss : 8.656369135301727e-05 , validation loss : 1.374311089515686\n",
      "Epoch : 93 , training loss : 0.00013184485032979865 , validation loss : 1.3681408166885376\n",
      "Epoch : 94 , training loss : 0.00022032856982509417 , validation loss : 1.3733688592910767\n",
      "Epoch : 95 , training loss : 0.0003485390611067966 , validation loss : 1.363754391670227\n",
      "Epoch : 96 , training loss : 0.0006077633904025884 , validation loss : 1.3735193014144897\n",
      "Epoch : 97 , training loss : 0.000977351397810516 , validation loss : 1.358665943145752\n",
      "Epoch : 98 , training loss : 0.0017477893462024727 , validation loss : 1.3771823644638062\n",
      "Epoch : 99 , training loss : 0.0027967238010636435 , validation loss : 1.3534008264541626\n",
      "Epoch : 100 , training loss : 0.00516283223987557 , validation loss : 1.3841475248336792\n",
      "Epoch : 101 , training loss : 0.00750911931237696 , validation loss : 1.3347738981246948\n",
      "Epoch : 102 , training loss : 0.012914809141013967 , validation loss : 1.3774076700210571\n",
      "Epoch : 103 , training loss : 0.01497440321959163 , validation loss : 1.2487338781356812\n",
      "Epoch : 104 , training loss : 0.020978231059224958 , validation loss : 1.2702816724777222\n",
      "Epoch : 105 , training loss : 0.028045901636544027 , validation loss : 1.117431640625\n",
      "Epoch : 106 , training loss : 0.0178452239763972 , validation loss : 1.0587553977966309\n",
      "Epoch : 107 , training loss : 0.012907597723441492 , validation loss : 1.095940351486206\n",
      "Epoch : 108 , training loss : 0.007033305673087996 , validation loss : 1.1873325109481812\n",
      "Epoch : 109 , training loss : 0.0050381229467395885 , validation loss : 1.2361468076705933\n",
      "Epoch : 110 , training loss : 0.0022773042177217768 , validation loss : 1.2602462768554688\n",
      "Epoch : 111 , training loss : 0.0007907555158645233 , validation loss : 1.266047477722168\n",
      "Epoch : 112 , training loss : 0.00036583799029406354 , validation loss : 1.268455982208252\n",
      "Epoch : 113 , training loss : 0.0001232978193480736 , validation loss : 1.26221764087677\n",
      "Epoch : 114 , training loss : 0.00013639350067693923 , validation loss : 1.226712942123413\n",
      "Epoch : 115 , training loss : 7.21381338555722e-05 , validation loss : 1.215325951576233\n",
      "Epoch : 116 , training loss : 0.00021907992751087142 , validation loss : 1.20106041431427\n",
      "Epoch : 117 , training loss : 0.00028265186636800585 , validation loss : 1.207208514213562\n",
      "Epoch : 118 , training loss : 0.000283788437160949 , validation loss : 1.1860653162002563\n",
      "Epoch : 119 , training loss : 0.0005168372312925241 , validation loss : 1.193275809288025\n",
      "Epoch : 120 , training loss : 0.0006844069476145657 , validation loss : 1.1768970489501953\n",
      "Epoch : 121 , training loss : 0.0011216771495367681 , validation loss : 1.195935845375061\n",
      "Epoch : 122 , training loss : 0.00132553278496959 , validation loss : 1.168779730796814\n",
      "Epoch : 123 , training loss : 0.002239302690716278 , validation loss : 1.1915112733840942\n",
      "Epoch : 124 , training loss : 0.0031853164921477927 , validation loss : 1.1484583616256714\n",
      "Epoch : 125 , training loss : 0.005333126790662247 , validation loss : 1.1891549825668335\n",
      "Epoch : 126 , training loss : 0.006731226911621266 , validation loss : 1.1069570779800415\n",
      "Epoch : 127 , training loss : 0.011236798532895352 , validation loss : 1.148186206817627\n",
      "Epoch : 128 , training loss : 0.013130226503371409 , validation loss : 1.0018197298049927\n",
      "Epoch : 129 , training loss : 0.015379616316702021 , validation loss : 1.051897644996643\n",
      "Epoch : 130 , training loss : 0.019001647143771772 , validation loss : 0.9497429728507996\n",
      "Epoch : 131 , training loss : 0.010067104067849485 , validation loss : 0.9005969166755676\n",
      "Epoch : 132 , training loss : 0.005038473454892244 , validation loss : 0.9940980076789856\n",
      "Epoch : 133 , training loss : 0.003804643479126849 , validation loss : 1.0125333070755005\n",
      "Epoch : 134 , training loss : 0.0035068426942942957 , validation loss : 1.1527055501937866\n",
      "Epoch : 135 , training loss : 0.0030951782590770897 , validation loss : 1.1717888116836548\n",
      "Epoch : 136 , training loss : 0.0022505991173123845 , validation loss : 1.2069979906082153\n",
      "Epoch : 137 , training loss : 0.0014081078763985332 , validation loss : 1.188188076019287\n",
      "Epoch : 138 , training loss : 0.0008692353194898093 , validation loss : 1.2166099548339844\n",
      "Epoch : 139 , training loss : 0.0010484358018928968 , validation loss : 1.2084180116653442\n",
      "Epoch : 140 , training loss : 0.0009789558751579438 , validation loss : 1.2381125688552856\n",
      "Epoch : 141 , training loss : 0.0009981717988634237 , validation loss : 1.2040369510650635\n",
      "Epoch : 142 , training loss : 0.0012739613230223767 , validation loss : 1.2342318296432495\n",
      "Epoch : 143 , training loss : 0.001601917643136786 , validation loss : 1.19364595413208\n",
      "Epoch : 144 , training loss : 0.002102038044923622 , validation loss : 1.2352005243301392\n",
      "Epoch : 145 , training loss : 0.002548773969082456 , validation loss : 1.1729861497879028\n",
      "Epoch : 146 , training loss : 0.0034800577145927634 , validation loss : 1.223206877708435\n",
      "Epoch : 147 , training loss : 0.004208334456626816 , validation loss : 1.1247942447662354\n",
      "Epoch : 148 , training loss : 0.004773595502324736 , validation loss : 1.1957701444625854\n",
      "Epoch : 149 , training loss : 0.005361559394881816 , validation loss : 1.1029149293899536\n",
      "Epoch : 150 , training loss : 0.005019904874069126 , validation loss : 1.162143588066101\n",
      "Epoch : 151 , training loss : 0.004501008927993672 , validation loss : 1.1072568893432617\n",
      "Epoch : 152 , training loss : 0.0030228159984720775 , validation loss : 1.1439510583877563\n",
      "Epoch : 153 , training loss : 0.0019140281886058418 , validation loss : 1.1397448778152466\n",
      "Epoch : 154 , training loss : 0.0008722191820484831 , validation loss : 1.1566144227981567\n",
      "Epoch : 155 , training loss : 0.00035326918096918806 , validation loss : 1.1718882322311401\n",
      "Epoch : 156 , training loss : 0.00013466168112293082 , validation loss : 1.1742597818374634\n",
      "Epoch : 157 , training loss : 4.074705903851856e-05 , validation loss : 1.1824041604995728\n",
      "Epoch : 158 , training loss : 3.5338292491360335e-05 , validation loss : 1.182864785194397\n",
      "Epoch : 159 , training loss : 2.4106433362416474e-05 , validation loss : 1.188517451286316\n",
      "Epoch : 160 , training loss : 3.295600307458364e-05 , validation loss : 1.183700680732727\n",
      "Epoch : 161 , training loss : 4.3634843994990855e-05 , validation loss : 1.1873358488082886\n",
      "Epoch : 162 , training loss : 6.865596223130859e-05 , validation loss : 1.182205319404602\n",
      "Epoch : 163 , training loss : 0.00010921521626833534 , validation loss : 1.1893129348754883\n",
      "Epoch : 164 , training loss : 0.0001559468171427924 , validation loss : 1.1786962747573853\n",
      "Epoch : 165 , training loss : 0.0002525189855460715 , validation loss : 1.1896506547927856\n",
      "Epoch : 166 , training loss : 0.0004012153850022801 , validation loss : 1.1726388931274414\n",
      "Epoch : 167 , training loss : 0.0006205289088316739 , validation loss : 1.1911146640777588\n",
      "Epoch : 168 , training loss : 0.000943048486844514 , validation loss : 1.1617990732192993\n",
      "Epoch : 169 , training loss : 0.0014896633579873626 , validation loss : 1.189056396484375\n",
      "Epoch : 170 , training loss : 0.0021980689734367558 , validation loss : 1.1351267099380493\n",
      "Epoch : 171 , training loss : 0.003234162768134602 , validation loss : 1.1808290481567383\n",
      "Epoch : 172 , training loss : 0.004565949576269639 , validation loss : 1.086159586906433\n",
      "Epoch : 173 , training loss : 0.00615179417409787 , validation loss : 1.1731358766555786\n",
      "Epoch : 174 , training loss : 0.006903800372751185 , validation loss : 1.0193439722061157\n",
      "Epoch : 175 , training loss : 0.008772507521299351 , validation loss : 1.1091365814208984\n",
      "Epoch : 176 , training loss : 0.010024475227845343 , validation loss : 0.9948542714118958\n",
      "Epoch : 177 , training loss : 0.008233565941305929 , validation loss : 1.0454671382904053\n",
      "Epoch : 178 , training loss : 0.005489713916751115 , validation loss : 1.0218151807785034\n",
      "Epoch : 179 , training loss : 0.002345919480400258 , validation loss : 1.0338107347488403\n",
      "Epoch : 180 , training loss : 0.0008781901621995004 , validation loss : 1.0692434310913086\n",
      "Epoch : 181 , training loss : 0.00035326028553658704 , validation loss : 1.0625386238098145\n",
      "Epoch : 182 , training loss : 0.00023701281828069018 , validation loss : 1.0862269401550293\n",
      "Epoch : 183 , training loss : 0.00042036894132922356 , validation loss : 1.0709131956100464\n",
      "Epoch : 184 , training loss : 0.0005621627197366539 , validation loss : 1.0914510488510132\n",
      "Epoch : 185 , training loss : 0.0009251509139798337 , validation loss : 1.068084955215454\n",
      "Epoch : 186 , training loss : 0.0015145679997084173 , validation loss : 1.0980497598648071\n",
      "Epoch : 187 , training loss : 0.0021012817979729 , validation loss : 1.0534459352493286\n",
      "Epoch : 188 , training loss : 0.003424950704548361 , validation loss : 1.1049574613571167\n",
      "Epoch : 189 , training loss : 0.004286341690825985 , validation loss : 1.0278301239013672\n",
      "Epoch : 190 , training loss : 0.007039093777022667 , validation loss : 1.1112189292907715\n",
      "Epoch : 191 , training loss : 0.007430181899843247 , validation loss : 0.9522228240966797\n",
      "Epoch : 192 , training loss : 0.010604934714808079 , validation loss : 1.0407296419143677\n",
      "Epoch : 193 , training loss : 0.011088680675081713 , validation loss : 0.910848081111908\n",
      "Epoch : 194 , training loss : 0.041029176662528984 , validation loss : 0.8951031565666199\n",
      "Epoch : 195 , training loss : 0.04949208926164398 , validation loss : 0.6730239987373352\n",
      "Epoch : 196 , training loss : 0.05465559793734237 , validation loss : 0.8659334778785706\n",
      "Epoch : 197 , training loss : 0.051187248606430855 , validation loss : 0.8541452288627625\n",
      "Epoch : 198 , training loss : 0.02104231889212602 , validation loss : 0.5545311570167542\n",
      "Epoch : 199 , training loss : 0.029569087501027082 , validation loss : 0.5857957005500793\n",
      "Epoch : 200 , training loss : 0.014869612666141046 , validation loss : 0.7782425880432129\n",
      "Epoch : 201 , training loss : 0.006576251140550563 , validation loss : 0.8326213359832764\n",
      "Epoch : 202 , training loss : 0.009450208787855349 , validation loss : 0.8824338912963867\n",
      "Epoch : 203 , training loss : 0.0074753644171563025 , validation loss : 0.7884731292724609\n",
      "Epoch : 204 , training loss : 0.004316872132844047 , validation loss : 0.7234456539154053\n",
      "Epoch : 205 , training loss : 0.0014756685291343417 , validation loss : 0.7017076015472412\n",
      "Epoch : 206 , training loss : 0.0008159585857739378 , validation loss : 0.678878128528595\n",
      "Epoch : 207 , training loss : 0.0007465163270305646 , validation loss : 0.680279016494751\n",
      "Epoch : 208 , training loss : 0.0006711935665838322 , validation loss : 0.6305453181266785\n",
      "Epoch : 209 , training loss : 0.0006643590796126151 , validation loss : 0.6424344182014465\n",
      "Epoch : 210 , training loss : 0.000939805858682743 , validation loss : 0.6298605799674988\n",
      "Epoch : 211 , training loss : 0.001377528735534533 , validation loss : 0.6602044105529785\n",
      "Epoch : 212 , training loss : 0.0015189488805940766 , validation loss : 0.6044519543647766\n",
      "Epoch : 213 , training loss : 0.0018425567633178282 , validation loss : 0.6602310538291931\n",
      "Epoch : 214 , training loss : 0.0025944188673747703 , validation loss : 0.5843216776847839\n",
      "Epoch : 215 , training loss : 0.002942168634801515 , validation loss : 0.6593326330184937\n",
      "Epoch : 216 , training loss : 0.0034558543729393647 , validation loss : 0.573436975479126\n",
      "Epoch : 217 , training loss : 0.0039003006332725483 , validation loss : 0.6330857872962952\n",
      "Epoch : 218 , training loss : 0.004546455124478885 , validation loss : 0.5428034663200378\n",
      "Epoch : 219 , training loss : 0.003393222179606949 , validation loss : 0.5950807929039001\n",
      "Epoch : 220 , training loss : 0.0033464914334839896 , validation loss : 0.5461276173591614\n",
      "Epoch : 221 , training loss : 0.0022897036887068105 , validation loss : 0.568229615688324\n",
      "Epoch : 222 , training loss : 0.0014833156325805344 , validation loss : 0.5603724122047424\n",
      "Epoch : 223 , training loss : 0.0008001912961174783 , validation loss : 0.5575971007347107\n",
      "Epoch : 224 , training loss : 0.00039527016825128446 , validation loss : 0.5824267268180847\n",
      "Epoch : 225 , training loss : 0.0003190972835766029 , validation loss : 0.5714744329452515\n",
      "Epoch : 226 , training loss : 0.00023865439135605762 , validation loss : 0.5872848629951477\n",
      "Epoch : 227 , training loss : 0.0003221074654759018 , validation loss : 0.575275719165802\n",
      "Epoch : 228 , training loss : 0.0002820526803445414 , validation loss : 0.5895557999610901\n",
      "Epoch : 229 , training loss : 0.00036920995070862484 , validation loss : 0.5677720904350281\n",
      "Epoch : 230 , training loss : 0.00039909376248129105 , validation loss : 0.5890616178512573\n",
      "Epoch : 231 , training loss : 0.0005566948442911349 , validation loss : 0.5631678700447083\n",
      "Epoch : 232 , training loss : 0.0007618354100390876 , validation loss : 0.5929570198059082\n",
      "Epoch : 233 , training loss : 0.0010334035266025335 , validation loss : 0.5558240413665771\n",
      "Epoch : 234 , training loss : 0.0013694406493174795 , validation loss : 0.5991665720939636\n",
      "Epoch : 235 , training loss : 0.001980046399311457 , validation loss : 0.5380889773368835\n",
      "Epoch : 236 , training loss : 0.0020396762028164965 , validation loss : 0.6034703254699707\n",
      "Epoch : 237 , training loss : 0.0024324558257113062 , validation loss : 0.5276724696159363\n",
      "Epoch : 238 , training loss : 0.002840930908477228 , validation loss : 0.5846008062362671\n",
      "Epoch : 239 , training loss : 0.003450327326749845 , validation loss : 0.5143276453018188\n",
      "Epoch : 240 , training loss : 0.0036311497374538846 , validation loss : 0.5735651850700378\n",
      "Epoch : 241 , training loss : 0.004005157177361022 , validation loss : 0.48869064450263977\n",
      "Epoch : 242 , training loss : 0.003128728440251986 , validation loss : 0.5325636267662048\n",
      "Epoch : 243 , training loss : 0.0032655060242273307 , validation loss : 0.48725780844688416\n",
      "Epoch : 244 , training loss : 0.0023325877172235203 , validation loss : 0.5121729373931885\n",
      "Epoch : 245 , training loss : 0.0015876965388949764 , validation loss : 0.4950842559337616\n",
      "Epoch : 246 , training loss : 0.0009104120851445355 , validation loss : 0.49461427330970764\n",
      "Epoch : 247 , training loss : 0.0004456289676263144 , validation loss : 0.5103442072868347\n",
      "Epoch : 248 , training loss : 0.0002750484372403375 , validation loss : 0.503028929233551\n",
      "Epoch : 249 , training loss : 0.00016124397715382082 , validation loss : 0.5113889575004578\n",
      "Epoch : 250 , training loss : 0.00016591934036114253 , validation loss : 0.5059700012207031\n",
      "Epoch : 251 , training loss : 0.000129175190139856 , validation loss : 0.512441098690033\n",
      "Epoch : 252 , training loss : 0.00017047243344629686 , validation loss : 0.504488468170166\n",
      "Epoch : 253 , training loss : 0.000180319818594542 , validation loss : 0.5134036540985107\n",
      "Epoch : 254 , training loss : 0.0002446336422843543 , validation loss : 0.500929594039917\n",
      "Epoch : 255 , training loss : 0.00033395401030582815 , validation loss : 0.5105143189430237\n",
      "Epoch : 256 , training loss : 0.0005114952197417503 , validation loss : 0.49453306198120117\n",
      "Epoch : 257 , training loss : 0.0006714803855988736 , validation loss : 0.5115248560905457\n",
      "Epoch : 258 , training loss : 0.0009794466896939987 , validation loss : 0.4874844551086426\n",
      "Epoch : 259 , training loss : 0.0013210309277239599 , validation loss : 0.5115387439727783\n",
      "Epoch : 260 , training loss : 0.001969225000050899 , validation loss : 0.4786359369754791\n",
      "Epoch : 261 , training loss : 0.0027347505827875515 , validation loss : 0.5143125057220459\n",
      "Epoch : 262 , training loss : 0.003664343299246148 , validation loss : 0.4530511796474457\n",
      "Epoch : 263 , training loss : 0.004141312693000624 , validation loss : 0.5186331868171692\n",
      "Epoch : 264 , training loss : 0.005116551609023047 , validation loss : 0.4291708469390869\n",
      "Epoch : 265 , training loss : 0.00543639190398512 , validation loss : 0.4608846604824066\n",
      "Epoch : 266 , training loss : 0.006660171622091806 , validation loss : 0.40408214926719666\n",
      "Epoch : 267 , training loss : 0.005804756055831125 , validation loss : 0.4375200569629669\n",
      "Epoch : 268 , training loss : 0.004328371895673244 , validation loss : 0.41175588965415955\n",
      "Epoch : 269 , training loss : 0.0025606636497143066 , validation loss : 0.41618427634239197\n",
      "Epoch : 270 , training loss : 0.001310225723213271 , validation loss : 0.43299809098243713\n",
      "Epoch : 271 , training loss : 0.0005704306914642649 , validation loss : 0.4342412054538727\n",
      "Epoch : 272 , training loss : 0.00027881279646336274 , validation loss : 0.44947901368141174\n",
      "Epoch : 273 , training loss : 0.0003231475904708771 , validation loss : 0.43896159529685974\n",
      "Epoch : 274 , training loss : 0.00023869382972694248 , validation loss : 0.45245829224586487\n",
      "Epoch : 275 , training loss : 0.00039564409948262007 , validation loss : 0.44498300552368164\n",
      "Epoch : 276 , training loss : 0.0005479747012845779 , validation loss : 0.4546957015991211\n",
      "Epoch : 277 , training loss : 0.0006681521954305936 , validation loss : 0.4334547519683838\n",
      "Epoch : 278 , training loss : 0.0009495697694977647 , validation loss : 0.44620251655578613\n",
      "Epoch : 279 , training loss : 0.0014476458523667564 , validation loss : 0.42011818289756775\n",
      "Epoch : 280 , training loss : 0.002236937279935534 , validation loss : 0.44296154379844666\n",
      "Epoch : 281 , training loss : 0.003186552963023515 , validation loss : 0.3919074237346649\n",
      "Epoch : 282 , training loss : 0.003699455572610819 , validation loss : 0.4236001968383789\n",
      "Epoch : 283 , training loss : 0.005637608649282667 , validation loss : 0.345992773771286\n",
      "Epoch : 284 , training loss : 0.005732039556804873 , validation loss : 0.38460397720336914\n",
      "Epoch : 285 , training loss : 0.007824594926971355 , validation loss : 0.31649431586265564\n",
      "Epoch : 286 , training loss : 0.006299812009705133 , validation loss : 0.3410685956478119\n",
      "Epoch : 287 , training loss : 0.004372798028941217 , validation loss : 0.342486709356308\n",
      "Epoch : 288 , training loss : 0.001920234359874341 , validation loss : 0.3251315653324127\n",
      "Epoch : 289 , training loss : 0.0007805769424808922 , validation loss : 0.3673301935195923\n",
      "Epoch : 290 , training loss : 0.0009997107883559931 , validation loss : 0.36818429827690125\n",
      "Epoch : 291 , training loss : 0.001109882820233715 , validation loss : 0.39018431305885315\n",
      "Epoch : 292 , training loss : 0.0015298109712220092 , validation loss : 0.3650491237640381\n",
      "Epoch : 293 , training loss : 0.001432136423414034 , validation loss : 0.3863629996776581\n",
      "Epoch : 294 , training loss : 0.002449416733916702 , validation loss : 0.35706353187561035\n",
      "Epoch : 295 , training loss : 0.0030015532270466026 , validation loss : 0.3800327777862549\n",
      "Epoch : 296 , training loss : 0.004013725434656647 , validation loss : 0.3305060863494873\n",
      "Epoch : 297 , training loss : 0.004756685649657524 , validation loss : 0.3686126172542572\n",
      "Epoch : 298 , training loss : 0.005461345759134642 , validation loss : 0.3027013838291168\n",
      "Epoch : 299 , training loss : 0.005341726778026082 , validation loss : 0.324406236410141\n",
      "Epoch : 300 , training loss : 0.00451520522658125 , validation loss : 0.29013940691947937\n",
      "Epoch : 301 , training loss : 0.0028492583415323965 , validation loss : 0.2931951582431793\n",
      "Epoch : 302 , training loss : 0.0016010501575166064 , validation loss : 0.2897208631038666\n",
      "Epoch : 303 , training loss : 0.0007503905094620821 , validation loss : 0.2874433100223541\n",
      "Epoch : 304 , training loss : 0.0003029367534940033 , validation loss : 0.30153241753578186\n",
      "Epoch : 305 , training loss : 0.00024541111633880064 , validation loss : 0.2956879436969757\n",
      "Epoch : 306 , training loss : 0.00017187190027662406 , validation loss : 0.30640268325805664\n",
      "Epoch : 307 , training loss : 0.00028252112056897634 , validation loss : 0.3009280860424042\n",
      "Epoch : 308 , training loss : 0.0003486083334887792 , validation loss : 0.30891987681388855\n",
      "Epoch : 309 , training loss : 0.000588094973385236 , validation loss : 0.2966111898422241\n",
      "Epoch : 310 , training loss : 0.0008610126403111376 , validation loss : 0.3098776042461395\n",
      "Epoch : 311 , training loss : 0.0013443395536772808 , validation loss : 0.28987351059913635\n",
      "Epoch : 312 , training loss : 0.002017749932986733 , validation loss : 0.3129826784133911\n",
      "Epoch : 313 , training loss : 0.0032654401408140792 , validation loss : 0.280240535736084\n",
      "Epoch : 314 , training loss : 0.0039843419431953835 , validation loss : 0.31458476185798645\n",
      "Epoch : 315 , training loss : 0.0059462059800448755 , validation loss : 0.2522805333137512\n",
      "Epoch : 316 , training loss : 0.006068385823470491 , validation loss : 0.29383721947669983\n",
      "Epoch : 317 , training loss : 0.0083277781653267 , validation loss : 0.23556995391845703\n",
      "Epoch : 318 , training loss : 0.00648775422259381 , validation loss : 0.24810074269771576\n",
      "Epoch : 319 , training loss : 0.0035923414152899853 , validation loss : 0.2549346387386322\n",
      "Epoch : 320 , training loss : 0.0014534980766352657 , validation loss : 0.2370634227991104\n",
      "Epoch : 321 , training loss : 0.0006200839267254004 , validation loss : 0.2690010070800781\n",
      "Epoch : 322 , training loss : 0.0009905765756756362 , validation loss : 0.2660543620586395\n",
      "Epoch : 323 , training loss : 0.0012023530565018422 , validation loss : 0.2786601781845093\n",
      "Epoch : 324 , training loss : 0.0015230540808069666 , validation loss : 0.2569389343261719\n",
      "Epoch : 325 , training loss : 0.0022283328182407117 , validation loss : 0.2694564759731293\n",
      "Epoch : 326 , training loss : 0.0034694493025247204 , validation loss : 0.2436514049768448\n",
      "Epoch : 327 , training loss : 0.0058854914417392325 , validation loss : 0.2750122547149658\n",
      "Epoch : 328 , training loss : 0.006826692475251069 , validation loss : 0.20131933689117432\n",
      "Epoch : 329 , training loss : 0.008647724296775107 , validation loss : 0.2526076138019562\n",
      "Epoch : 330 , training loss : 0.013310129545923127 , validation loss : 0.16803358495235443\n",
      "Epoch : 331 , training loss : 0.012432963979479513 , validation loss : 0.19133897125720978\n",
      "Epoch : 332 , training loss : 0.009167528760276343 , validation loss : 0.1732947826385498\n",
      "Epoch : 333 , training loss : 0.0036139839269851925 , validation loss : 0.13852842152118683\n",
      "Epoch : 334 , training loss : 0.0021913176431936385 , validation loss : 0.1851711869239807\n",
      "Epoch : 335 , training loss : 0.002507533666510809 , validation loss : 0.17896448075771332\n",
      "Epoch : 336 , training loss : 0.0021383321451905525 , validation loss : 0.18267446756362915\n",
      "Epoch : 337 , training loss : 0.0016105740265438247 , validation loss : 0.16677778959274292\n",
      "Epoch : 338 , training loss : 0.0009397366696870641 , validation loss : 0.17790211737155914\n",
      "Epoch : 339 , training loss : 0.0008485784423292467 , validation loss : 0.17266081273555756\n",
      "Epoch : 340 , training loss : 0.0009590045879840067 , validation loss : 0.17769593000411987\n",
      "Epoch : 341 , training loss : 0.000953742090898327 , validation loss : 0.1656063348054886\n",
      "Epoch : 342 , training loss : 0.0011967892994442465 , validation loss : 0.18174560368061066\n",
      "Epoch : 343 , training loss : 0.001533813220847055 , validation loss : 0.16528040170669556\n",
      "Epoch : 344 , training loss : 0.0020703454157276276 , validation loss : 0.18066810071468353\n",
      "Epoch : 345 , training loss : 0.0029988689631481017 , validation loss : 0.15368615090847015\n",
      "Epoch : 346 , training loss : 0.00317635027816945 , validation loss : 0.1747126579284668\n",
      "Epoch : 347 , training loss : 0.0038872317452746516 , validation loss : 0.14409218728542328\n",
      "Epoch : 348 , training loss : 0.00395247945562005 , validation loss : 0.16360564529895782\n",
      "Epoch : 349 , training loss : 0.0037426888685379374 , validation loss : 0.13375379145145416\n",
      "Epoch : 350 , training loss : 0.0026840088677617083 , validation loss : 0.1475810557603836\n",
      "Epoch : 351 , training loss : 0.0016238553186045273 , validation loss : 0.1498442143201828\n",
      "Epoch : 352 , training loss : 0.0008362099209702329 , validation loss : 0.14653019607067108\n",
      "Epoch : 353 , training loss : 0.00026550493854110276 , validation loss : 0.15582871437072754\n",
      "Epoch : 354 , training loss : 0.0002024835586397737 , validation loss : 0.1576453000307083\n",
      "Epoch : 355 , training loss : 0.00013915363639458329 , validation loss : 0.16857372224330902\n",
      "Epoch : 356 , training loss : 0.0001954851148567334 , validation loss : 0.16446983814239502\n",
      "Epoch : 357 , training loss : 0.00023076782389053782 , validation loss : 0.17470479011535645\n",
      "Epoch : 358 , training loss : 0.00038111756571436814 , validation loss : 0.17117315530776978\n",
      "Epoch : 359 , training loss : 0.0005749284740120761 , validation loss : 0.18178200721740723\n",
      "Epoch : 360 , training loss : 0.0008404820297360665 , validation loss : 0.17145724594593048\n",
      "Epoch : 361 , training loss : 0.0011531663262040208 , validation loss : 0.18483483791351318\n",
      "Epoch : 362 , training loss : 0.0018065138291077393 , validation loss : 0.16669420897960663\n",
      "Epoch : 363 , training loss : 0.002783991947868153 , validation loss : 0.18289995193481445\n",
      "Epoch : 364 , training loss : 0.0038753900987917164 , validation loss : 0.14308910071849823\n",
      "Epoch : 365 , training loss : 0.004507983334693371 , validation loss : 0.17097143828868866\n",
      "Epoch : 366 , training loss : 0.005408002658728755 , validation loss : 0.12297544628381729\n",
      "Epoch : 367 , training loss : 0.005114762807926654 , validation loss : 0.14796780049800873\n",
      "Epoch : 368 , training loss : 0.004326821240522948 , validation loss : 0.1268942952156067\n",
      "Epoch : 369 , training loss : 0.002825045657932366 , validation loss : 0.132346972823143\n",
      "Epoch : 370 , training loss : 0.0014551282848084444 , validation loss : 0.14297811686992645\n",
      "Epoch : 371 , training loss : 0.000710484072394473 , validation loss : 0.14072859287261963\n",
      "Epoch : 372 , training loss : 0.0002713787839878167 , validation loss : 0.1605772227048874\n",
      "Epoch : 373 , training loss : 0.0003503039880390708 , validation loss : 0.1576175093650818\n",
      "Epoch : 374 , training loss : 0.0003243807933406635 , validation loss : 0.1709083914756775\n",
      "Epoch : 375 , training loss : 0.00048139902939606385 , validation loss : 0.16595058143138885\n",
      "Epoch : 376 , training loss : 0.0007101868947134598 , validation loss : 0.17599201202392578\n",
      "Epoch : 377 , training loss : 0.0010068629964830745 , validation loss : 0.1640506535768509\n",
      "Epoch : 378 , training loss : 0.0015415864733145817 , validation loss : 0.178264319896698\n",
      "Epoch : 379 , training loss : 0.002268314251284066 , validation loss : 0.15885423123836517\n",
      "Epoch : 380 , training loss : 0.003246955138533131 , validation loss : 0.18137754499912262\n",
      "Epoch : 381 , training loss : 0.004337301754276268 , validation loss : 0.1368079036474228\n",
      "Epoch : 382 , training loss : 0.005149623641620182 , validation loss : 0.16790826618671417\n",
      "Epoch : 383 , training loss : 0.006928010105375985 , validation loss : 0.12016276270151138\n",
      "Epoch : 384 , training loss : 0.006462958872649132 , validation loss : 0.14797906577587128\n",
      "Epoch : 385 , training loss : 0.005056139302292937 , validation loss : 0.13015270233154297\n",
      "Epoch : 386 , training loss : 0.0028132558555195204 , validation loss : 0.12659001350402832\n",
      "Epoch : 387 , training loss : 0.0010775477031098777 , validation loss : 0.14632637798786163\n",
      "Epoch : 388 , training loss : 0.0005050401651763087 , validation loss : 0.1394832283258438\n",
      "Epoch : 389 , training loss : 0.0003548170904985837 , validation loss : 0.150071918964386\n",
      "Epoch : 390 , training loss : 0.0007593316151637976 , validation loss : 0.14221204817295074\n",
      "Epoch : 391 , training loss : 0.000993399663313635 , validation loss : 0.15004077553749084\n",
      "Epoch : 392 , training loss : 0.0015453125478846854 , validation loss : 0.13101691007614136\n",
      "Epoch : 393 , training loss : 0.00253640496980791 , validation loss : 0.14626678824424744\n",
      "Epoch : 394 , training loss : 0.003210939342879053 , validation loss : 0.11529728770256042\n",
      "Epoch : 395 , training loss : 0.005026643492256929 , validation loss : 0.14654980599880219\n",
      "Epoch : 396 , training loss : 0.006557831649460192 , validation loss : 0.10306799411773682\n",
      "Epoch : 397 , training loss : 0.00783500728946245 , validation loss : 0.13761334121227264\n",
      "Epoch : 398 , training loss : 0.008742842866156838 , validation loss : 0.08885294198989868\n",
      "Epoch : 399 , training loss : 0.007482132773331709 , validation loss : 0.11111762374639511\n",
      "Epoch : 400 , training loss : 0.00519250006120848 , validation loss : 0.10470332950353622\n",
      "Epoch : 401 , training loss : 0.002309584208935695 , validation loss : 0.09520947933197021\n",
      "Epoch : 402 , training loss : 0.0009534753932568588 , validation loss : 0.12363415956497192\n",
      "Epoch : 403 , training loss : 0.0008839569621302776 , validation loss : 0.11457761377096176\n",
      "Epoch : 404 , training loss : 0.0009791438801345833 , validation loss : 0.1293947845697403\n",
      "Epoch : 405 , training loss : 0.0014760920651162067 , validation loss : 0.11621177196502686\n",
      "Epoch : 406 , training loss : 0.001760888987184061 , validation loss : 0.13049182295799255\n",
      "Epoch : 407 , training loss : 0.0023856877738389335 , validation loss : 0.10789307206869125\n",
      "Epoch : 408 , training loss : 0.0032197450529661423 , validation loss : 0.13434258103370667\n",
      "Epoch : 409 , training loss : 0.0037502297667455615 , validation loss : 0.10493946075439453\n",
      "Epoch : 410 , training loss : 0.00501505338941474 , validation loss : 0.12916581332683563\n",
      "Epoch : 411 , training loss : 0.005784437351394445 , validation loss : 0.08702614158391953\n",
      "Epoch : 412 , training loss : 0.0058001984434667975 , validation loss : 0.11091935634613037\n",
      "Epoch : 413 , training loss : 0.005432000695452045 , validation loss : 0.07905896753072739\n",
      "Epoch : 414 , training loss : 0.003967246846418436 , validation loss : 0.09022566676139832\n",
      "Epoch : 415 , training loss : 0.0023229170259774514 , validation loss : 0.09186961501836777\n",
      "Epoch : 416 , training loss : 0.001026632585930393 , validation loss : 0.08627801388502121\n",
      "Epoch : 417 , training loss : 0.00039795757718246404 , validation loss : 0.10474362969398499\n",
      "Epoch : 418 , training loss : 0.00041565866941757694 , validation loss : 0.09910259395837784\n",
      "Epoch : 419 , training loss : 0.0004427784897894813 , validation loss : 0.11076325178146362\n",
      "Epoch : 420 , training loss : 0.0006644618467697384 , validation loss : 0.10350912809371948\n",
      "Epoch : 421 , training loss : 0.0008148372883289611 , validation loss : 0.11365368217229843\n",
      "Epoch : 422 , training loss : 0.0011747137752153275 , validation loss : 0.1007939949631691\n",
      "Epoch : 423 , training loss : 0.0016532769399131403 , validation loss : 0.11501093953847885\n",
      "Epoch : 424 , training loss : 0.002232434879835254 , validation loss : 0.09421376138925552\n",
      "Epoch : 425 , training loss : 0.003099841256411501 , validation loss : 0.11135218292474747\n",
      "Epoch : 426 , training loss : 0.0041294305835770885 , validation loss : 0.07763726264238358\n",
      "Epoch : 427 , training loss : 0.004599446773346771 , validation loss : 0.10008052736520767\n",
      "Epoch : 428 , training loss : 0.005303990947523792 , validation loss : 0.06533756852149963\n",
      "Epoch : 429 , training loss : 0.004518412506992095 , validation loss : 0.08485694974660873\n",
      "Epoch : 430 , training loss : 0.003300525572788166 , validation loss : 0.07478361576795578\n",
      "Epoch : 431 , training loss : 0.0018609513369339861 , validation loss : 0.07289516180753708\n",
      "Epoch : 432 , training loss : 0.0007659515035093614 , validation loss : 0.08810549229383469\n",
      "Epoch : 433 , training loss : 0.00034794321043974427 , validation loss : 0.08105061203241348\n",
      "Epoch : 434 , training loss : 0.0002318157870544574 , validation loss : 0.09081524610519409\n",
      "Epoch : 435 , training loss : 0.00043366902785859756 , validation loss : 0.08809409290552139\n",
      "Epoch : 436 , training loss : 0.0005756455717154926 , validation loss : 0.0978424921631813\n",
      "Epoch : 437 , training loss : 0.000810414489502651 , validation loss : 0.08746442943811417\n",
      "Epoch : 438 , training loss : 0.0011455832128903192 , validation loss : 0.10095125436782837\n",
      "Epoch : 439 , training loss : 0.0016886772477607195 , validation loss : 0.08475688844919205\n",
      "Epoch : 440 , training loss : 0.0025058272126204286 , validation loss : 0.10284394025802612\n",
      "Epoch : 441 , training loss : 0.0034839543927534435 , validation loss : 0.06963183730840683\n",
      "Epoch : 442 , training loss : 0.003920687319278889 , validation loss : 0.09028197079896927\n",
      "Epoch : 443 , training loss : 0.005289287536135434 , validation loss : 0.047994088381528854\n",
      "Epoch : 444 , training loss : 0.005042546710587646 , validation loss : 0.06849323213100433\n",
      "Epoch : 445 , training loss : 0.004261364955087437 , validation loss : 0.0490032322704792\n",
      "Epoch : 446 , training loss : 0.0027955668659782724 , validation loss : 0.052260976284742355\n",
      "Epoch : 447 , training loss : 0.001359173498042908 , validation loss : 0.06556686758995056\n",
      "Epoch : 448 , training loss : 0.0005185970482048823 , validation loss : 0.06187928840517998\n",
      "Epoch : 449 , training loss : 0.00016909410947176328 , validation loss : 0.07282615453004837\n",
      "Epoch : 450 , training loss : 0.00027374478601191904 , validation loss : 0.0725817009806633\n",
      "Epoch : 451 , training loss : 0.00034371523705838055 , validation loss : 0.08101096749305725\n",
      "Epoch : 452 , training loss : 0.0005605641597771625 , validation loss : 0.07275617122650146\n",
      "Epoch : 453 , training loss : 0.0008046839778360567 , validation loss : 0.08317852765321732\n",
      "Epoch : 454 , training loss : 0.0012450475853831066 , validation loss : 0.07015977054834366\n",
      "Epoch : 455 , training loss : 0.0018791281510953251 , validation loss : 0.08254483342170715\n",
      "Epoch : 456 , training loss : 0.00269076680017047 , validation loss : 0.06022575497627258\n",
      "Epoch : 457 , training loss : 0.003929706124931966 , validation loss : 0.08261806517839432\n",
      "Epoch : 458 , training loss : 0.004910345814622767 , validation loss : 0.04994772747159004\n",
      "Epoch : 459 , training loss : 0.005647924003393487 , validation loss : 0.07520826905965805\n",
      "Epoch : 460 , training loss : 0.0063857454010040355 , validation loss : 0.03583884611725807\n",
      "Epoch : 461 , training loss : 0.005671017390436885 , validation loss : 0.05481066182255745\n",
      "Epoch : 462 , training loss : 0.004558003378884965 , validation loss : 0.04489139840006828\n",
      "Epoch : 463 , training loss : 0.002760649401400434 , validation loss : 0.04640428349375725\n",
      "Epoch : 464 , training loss : 0.0012306990929094976 , validation loss : 0.06307926774024963\n",
      "Epoch : 465 , training loss : 0.0004804623244318033 , validation loss : 0.05991334840655327\n",
      "Epoch : 466 , training loss : 0.00023103377354441603 , validation loss : 0.074029840528965\n",
      "Epoch : 467 , training loss : 0.0003996595296484884 , validation loss : 0.07250521332025528\n",
      "Epoch : 468 , training loss : 0.0005750960255299058 , validation loss : 0.08271084725856781\n",
      "Epoch : 469 , training loss : 0.0009181984940752093 , validation loss : 0.07343185693025589\n",
      "Epoch : 470 , training loss : 0.0013178963149824228 , validation loss : 0.0893983542919159\n",
      "Epoch : 471 , training loss : 0.0019075685551414561 , validation loss : 0.0718667283654213\n",
      "Epoch : 472 , training loss : 0.002884753345585379 , validation loss : 0.08856663107872009\n",
      "Epoch : 473 , training loss : 0.004063758269981726 , validation loss : 0.0536857545375824\n",
      "Epoch : 474 , training loss : 0.004709999724965249 , validation loss : 0.0780758261680603\n",
      "Epoch : 475 , training loss : 0.005802380987963835 , validation loss : 0.03215325251221657\n",
      "Epoch : 476 , training loss : 0.005830969643092861 , validation loss : 0.05627062916755676\n",
      "Epoch : 477 , training loss : 0.005342675532263361 , validation loss : 0.040518712252378464\n",
      "Epoch : 478 , training loss : 0.0035459553381722224 , validation loss : 0.04433858394622803\n",
      "Epoch : 479 , training loss : 0.0017483525443822145 , validation loss : 0.05230623483657837\n",
      "Epoch : 480 , training loss : 0.000747954002642808 , validation loss : 0.04704074189066887\n",
      "Epoch : 481 , training loss : 0.0002934680158815402 , validation loss : 0.06120085343718529\n",
      "Epoch : 482 , training loss : 0.0003450950915928268 , validation loss : 0.05382511392235756\n",
      "Epoch : 483 , training loss : 0.00047676210631738956 , validation loss : 0.060407619923353195\n",
      "Epoch : 484 , training loss : 0.0008294504433778409 , validation loss : 0.05211040750145912\n",
      "Epoch : 485 , training loss : 0.0012450284725912895 , validation loss : 0.06298569589853287\n",
      "Epoch : 486 , training loss : 0.0016853325911429956 , validation loss : 0.046172648668289185\n",
      "Epoch : 487 , training loss : 0.0024826538865454495 , validation loss : 0.06040922924876213\n",
      "Epoch : 488 , training loss : 0.0035387445455662123 , validation loss : 0.03478432819247246\n",
      "Epoch : 489 , training loss : 0.004244023860481225 , validation loss : 0.05624790117144585\n",
      "Epoch : 490 , training loss : 0.00577295851900616 , validation loss : 0.02380736730992794\n",
      "Epoch : 491 , training loss : 0.005850762931482964 , validation loss : 0.04699574038386345\n",
      "Epoch : 492 , training loss : 0.005395756133734004 , validation loss : 0.028362484648823738\n",
      "Epoch : 493 , training loss : 0.003755699610337615 , validation loss : 0.03403875231742859\n",
      "Epoch : 494 , training loss : 0.002094394147494122 , validation loss : 0.04046401008963585\n",
      "Epoch : 495 , training loss : 0.0008440985387240193 , validation loss : 0.03408808633685112\n",
      "Epoch : 496 , training loss : 0.00026867070573644014 , validation loss : 0.045017022639513016\n",
      "Epoch : 497 , training loss : 0.0003691543465002293 , validation loss : 0.041860293596982956\n",
      "Epoch : 498 , training loss : 0.0004827847733395174 , validation loss : 0.04701177403330803\n",
      "Epoch : 499 , training loss : 0.0008143709794814257 , validation loss : 0.03798176348209381\n"
     ]
    }
   ],
   "source": [
    "data_module.learning_curve(num_epochs = num_epochs , train_loss = train_loss , val_loss = val_loss )"
   ]
  },
  {
   "cell_type": "markdown",
   "metadata": {},
   "source": [
    "# Step 5 : Evaluation\n",
    "This section is to inference the model by feeding in testing data, determining the output forecast value and calculating the RMSE.\n",
    "\n",
    "It consists of 4 sections :\n",
    "\n",
    "Section 1 : Feed in the train and test data to the model <br>\n",
    "Section 2 : Reshape both to the original data dimension <br> \n",
    "Section 3 : Invert the scaling back to the original data value <br>\n",
    "Section 4 : Calculate the RMSE of train and test data"
   ]
  },
  {
   "cell_type": "code",
   "execution_count": 21,
   "metadata": {},
   "outputs": [],
   "source": [
    "# Section 1 : make predictions\n",
    "with torch.no_grad():\n",
    "    y_train_prediction = model(train_data_dict['train_data_x_feature'])\n",
    "    y_test_prediction = model(test_data_dict['test_data_x_feature'])"
   ]
  },
  {
   "cell_type": "code",
   "execution_count": 22,
   "metadata": {},
   "outputs": [],
   "source": [
    "# Assign evaluation key\n",
    "\n",
    "prediction , output = data_module.key_assign_evaluation(y_train_prediction,\n",
    "                                                        y_test_prediction,\n",
    "                                                        train_data_dict,\n",
    "                                                        test_data_dict)\n",
    "# Section 2 : Reshape to original data\n",
    "# Squeeze the output dimension\n",
    "output_data = data_module.squeeze_dimension(output)\n"
   ]
  },
  {
   "cell_type": "code",
   "execution_count": 23,
   "metadata": {},
   "outputs": [
    {
     "name": "stdout",
     "output_type": "stream",
     "text": [
      "train_data_output shape : torch.Size([19, 1])\n",
      "test_data_output shape : torch.Size([3, 1])\n"
     ]
    }
   ],
   "source": [
    "data_module.sanity_check(data_1 = output_data,data_2 = {})"
   ]
  },
  {
   "cell_type": "code",
   "execution_count": 24,
   "metadata": {},
   "outputs": [],
   "source": [
    "# Section 3 : Invert predictions\n",
    "output_data_scaler = data_scalers[list(data_scalers)[-1]]\n",
    "prediction = data_module.inverse_scaler(prediction,output_data_scaler)\n",
    "output_data  = data_module.inverse_scaler(output_data ,output_data_scaler)"
   ]
  },
  {
   "cell_type": "code",
   "execution_count": 25,
   "metadata": {},
   "outputs": [
    {
     "name": "stdout",
     "output_type": "stream",
     "text": [
      "Test Data\t\t\tForecast\n",
      "[745.]\t\t[717.9405]\n",
      "[765.]\t\t[733.7075]\n",
      "[785.]\t\t[749.4678]\n"
     ]
    }
   ],
   "source": [
    "# List the forecast value\n",
    "data_module.list_forecast_value(output_data,prediction) "
   ]
  },
  {
   "cell_type": "code",
   "execution_count": 26,
   "metadata": {},
   "outputs": [
    {
     "name": "stdout",
     "output_type": "stream",
     "text": [
      "Train Score: 6.55 RMSE\n",
      "Test Score: 31.49 RMSE\n"
     ]
    }
   ],
   "source": [
    "# Section 4 : Calculate the RMSE of train and test data\n",
    "### BEGIN SOLUTION\n",
    "trainScore,testScore = data_module.rmse(prediction,output_data)\n",
    "### END SOLUTION\n",
    "print('Train Score: %.2f RMSE' % (trainScore))\n",
    "print('Test Score: %.2f RMSE' % (testScore))"
   ]
  },
  {
   "cell_type": "markdown",
   "metadata": {},
   "source": [
    "# Step 6 : Forecast Plot"
   ]
  },
  {
   "cell_type": "code",
   "execution_count": 27,
   "metadata": {},
   "outputs": [],
   "source": [
    "plot_details ={\"x-axis\" : \"Day\",\n",
    "          \"y-axis\" : \"Values\",\n",
    "          \"title\"  : \"Synthetic Data\"\n",
    "         }"
   ]
  },
  {
   "cell_type": "code",
   "execution_count": 28,
   "metadata": {},
   "outputs": [
    {
     "data": {
      "image/png": "[encoded data removed]",
      "text/plain": [
       "<Figure size 720x432 with 1 Axes>"
      ]
     },
     "metadata": {
      "needs_background": "light"
     },
     "output_type": "display_data"
    }
   ],
   "source": [
    "data_module.single_step_plot(original_test_data = test_data,\n",
    "                            sequence_test_data = output_data['test_data_output'],\n",
    "                            forecast_data = prediction['test_data_prediction'],\n",
    "                            test_time = test_time,\n",
    "                            window_size =  window_size,\n",
    "                            original_plot= False,\n",
    "                            multivariate= True)"
   ]
  },
  {
   "cell_type": "markdown",
   "metadata": {},
   "source": [
    "***"
   ]
  },
  {
   "cell_type": "markdown",
   "metadata": {},
   "source": [
    "# Part 2 : Exercise for Multivariate Multi-step\n",
    "\n",
    "## Task : Predicting the total number of death cases in COVID-19 Malaysia 3 day into the future\n",
    "\n",
    "### Introduction \n",
    "You are given a set of data that contain information about COVID-19 cases worldwide. You are required to perform some data analysis on it and predict the death cases.<br>\n",
    "\n",
    "Please follow the instruction and try to code the exercise. Please also feel free to use online resources to find out how to use a particular function in the data exploration part<br>\n",
    "\n",
    "\n",
    "\n",
    "Data Source : \n",
    "https://www.kaggle.com/sudalairajkumar/novel-corona-virus-2019-dataset"
   ]
  },
  {
   "cell_type": "markdown",
   "metadata": {},
   "source": [
    "## Hyperparameter\n",
    ">**Instruction** : <br>\n",
    "You are required to fill `None` with a suitable value to make the model converge\n",
    "\n",
    ">**Expected Result** : <br>\n",
    "Train Score <= 50 RMSE<br>\n",
    "Test Score <= 50 RMSE<br>"
   ]
  },
  {
   "cell_type": "code",
   "execution_count": 29,
   "metadata": {},
   "outputs": [
    {
     "data": {
      "text/plain": [
       "<torch._C.Generator at 0x23a93c47890>"
      ]
     },
     "execution_count": 29,
     "metadata": {},
     "output_type": "execute_result"
    }
   ],
   "source": [
    "#Hyperameter\n",
    "split_ratio_covid = 0.80\n",
    "num_epochs_covid = 100\n",
    "window_size_covid = 20\n",
    "n_step_covid = 1\n",
    "learning_rate_covid = 0.001\n",
    "batch_size_covid = 8\n",
    "#seed\n",
    "torch.manual_seed(123)"
   ]
  },
  {
   "cell_type": "markdown",
   "metadata": {},
   "source": [
    "# Step 1 : Data Preparation\n",
    "In this tutorial, you will face a complex real-world dataset. You are required to use some of the data exploration techniques to help you prepare the data.\n",
    "\n",
    ">**Instruction** : <br>\n",
    "Read the file using `pd.read_csv`<br>\n",
    "Save your data as `cases`<br>\n",
    "Your file path `../../datasets/others/covid_19_data.csv`"
   ]
  },
  {
   "cell_type": "code",
   "execution_count": 30,
   "metadata": {},
   "outputs": [
    {
     "data": {
      "text/html": [
       "<div>\n",
       "<style scoped>\n",
       "    .dataframe tbody tr th:only-of-type {\n",
       "        vertical-align: middle;\n",
       "    }\n",
       "\n",
       "    .dataframe tbody tr th {\n",
       "        vertical-align: top;\n",
       "    }\n",
       "\n",
       "    .dataframe thead th {\n",
       "        text-align: right;\n",
       "    }\n",
       "</style>\n",
       "<table border=\"1\" class=\"dataframe\">\n",
       "  <thead>\n",
       "    <tr style=\"text-align: right;\">\n",
       "      <th></th>\n",
       "      <th>SNo</th>\n",
       "      <th>ObservationDate</th>\n",
       "      <th>Province/State</th>\n",
       "      <th>Country/Region</th>\n",
       "      <th>Last Update</th>\n",
       "      <th>Confirmed</th>\n",
       "      <th>Deaths</th>\n",
       "      <th>Recovered</th>\n",
       "    </tr>\n",
       "  </thead>\n",
       "  <tbody>\n",
       "    <tr>\n",
       "      <th>0</th>\n",
       "      <td>1</td>\n",
       "      <td>01/22/2020</td>\n",
       "      <td>Anhui</td>\n",
       "      <td>Mainland China</td>\n",
       "      <td>1/22/2020 17:00</td>\n",
       "      <td>1.0</td>\n",
       "      <td>0.0</td>\n",
       "      <td>0.0</td>\n",
       "    </tr>\n",
       "    <tr>\n",
       "      <th>1</th>\n",
       "      <td>2</td>\n",
       "      <td>01/22/2020</td>\n",
       "      <td>Beijing</td>\n",
       "      <td>Mainland China</td>\n",
       "      <td>1/22/2020 17:00</td>\n",
       "      <td>14.0</td>\n",
       "      <td>0.0</td>\n",
       "      <td>0.0</td>\n",
       "    </tr>\n",
       "    <tr>\n",
       "      <th>2</th>\n",
       "      <td>3</td>\n",
       "      <td>01/22/2020</td>\n",
       "      <td>Chongqing</td>\n",
       "      <td>Mainland China</td>\n",
       "      <td>1/22/2020 17:00</td>\n",
       "      <td>6.0</td>\n",
       "      <td>0.0</td>\n",
       "      <td>0.0</td>\n",
       "    </tr>\n",
       "    <tr>\n",
       "      <th>3</th>\n",
       "      <td>4</td>\n",
       "      <td>01/22/2020</td>\n",
       "      <td>Fujian</td>\n",
       "      <td>Mainland China</td>\n",
       "      <td>1/22/2020 17:00</td>\n",
       "      <td>1.0</td>\n",
       "      <td>0.0</td>\n",
       "      <td>0.0</td>\n",
       "    </tr>\n",
       "    <tr>\n",
       "      <th>4</th>\n",
       "      <td>5</td>\n",
       "      <td>01/22/2020</td>\n",
       "      <td>Gansu</td>\n",
       "      <td>Mainland China</td>\n",
       "      <td>1/22/2020 17:00</td>\n",
       "      <td>0.0</td>\n",
       "      <td>0.0</td>\n",
       "      <td>0.0</td>\n",
       "    </tr>\n",
       "  </tbody>\n",
       "</table>\n",
       "</div>"
      ],
      "text/plain": [
       "   SNo ObservationDate Province/State  Country/Region      Last Update  \\\n",
       "0    1      01/22/2020          Anhui  Mainland China  1/22/2020 17:00   \n",
       "1    2      01/22/2020        Beijing  Mainland China  1/22/2020 17:00   \n",
       "2    3      01/22/2020      Chongqing  Mainland China  1/22/2020 17:00   \n",
       "3    4      01/22/2020         Fujian  Mainland China  1/22/2020 17:00   \n",
       "4    5      01/22/2020          Gansu  Mainland China  1/22/2020 17:00   \n",
       "\n",
       "   Confirmed  Deaths  Recovered  \n",
       "0        1.0     0.0        0.0  \n",
       "1       14.0     0.0        0.0  \n",
       "2        6.0     0.0        0.0  \n",
       "3        1.0     0.0        0.0  \n",
       "4        0.0     0.0        0.0  "
      ]
     },
     "execution_count": 30,
     "metadata": {},
     "output_type": "execute_result"
    }
   ],
   "source": [
    "### BEGIN SOLUTION\n",
    "cases = pd.read_csv(\"../../datasets/others/covid_19_data.csv\")\n",
    "### END SOLUTION\n",
    "cases.head()"
   ]
  },
  {
   "cell_type": "markdown",
   "metadata": {},
   "source": [
    "As you can see, the data contains info on COVID-19 cases from other countries as well. Hence, you need to slice the COVID-19 info only for Malaysia.\n",
    "\n",
    ">**Instruction** : <br>\n",
    "Slice Malaysia's COVID-19 info out. You might need to use `df.loc[]` to help you slice the data.\n",
    "\n",
    ">**Expected Result** :<br>\n",
    "Example of first 5 rows of data :\n",
    "\n",
    "---\t|SNo\t|ObservationDate\t|Province/State\t|Country/Region\t|Last Update\t|Confirmed\t|Deaths\t|Recovered\n",
    " ---|---\t|---\t            |---\t        |---\t        |---\t        |---\t    |---\t|---\n",
    "78\t|79\t    |01/23/2020\t|NaN\t|Malaysia\t|1/23/20 |17:00\t|0.0\t|0.0\t|0.0\n",
    "168\t|169\t|01/25/2020\t|NaN\t|Malaysia\t|1/25/20 |17:00\t|3.0\t|0.0\t|0.0\n",
    "214\t|215\t|01/26/2020\t|NaN\t|Malaysia\t|1/26/20 |16:00\t|4.0\t|0.0\t|0.0\n",
    "260\t|261\t|01/27/2020\t|NaN\t|Malaysia\t|1/27/20 |23:59\t|4.0\t|0.0\t|0.0\n",
    "311\t|312\t|01/28/2020\t|NaN\t|Malaysia\t|1/28/20 |23:00\t|4.0\t|0.0\t|0.0"
   ]
  },
  {
   "cell_type": "code",
   "execution_count": 31,
   "metadata": {
    "scrolled": true
   },
   "outputs": [
    {
     "data": {
      "text/plain": [
       "array(['Mainland China', 'Hong Kong', 'Macau', 'Taiwan', 'US', 'Japan',\n",
       "       'Thailand', 'South Korea', 'Singapore', 'Philippines', 'Malaysia',\n",
       "       'Vietnam', 'Australia', 'Mexico', 'Brazil', 'Colombia', 'France',\n",
       "       'Nepal', 'Canada', 'Cambodia', 'Sri Lanka', 'Ivory Coast',\n",
       "       'Germany', 'Finland', 'United Arab Emirates', 'India', 'Italy',\n",
       "       'UK', 'Russia', 'Sweden', 'Spain', 'Belgium', 'Others', 'Egypt',\n",
       "       'Iran', 'Israel', 'Lebanon', 'Iraq', 'Oman', 'Afghanistan',\n",
       "       'Bahrain', 'Kuwait', 'Austria', 'Algeria', 'Croatia',\n",
       "       'Switzerland', 'Pakistan', 'Georgia', 'Greece', 'North Macedonia',\n",
       "       'Norway', 'Romania', 'Denmark', 'Estonia', 'Netherlands',\n",
       "       'San Marino', ' Azerbaijan', 'Belarus', 'Iceland', 'Lithuania',\n",
       "       'New Zealand', 'Nigeria', 'North Ireland', 'Ireland', 'Luxembourg',\n",
       "       'Monaco', 'Qatar', 'Ecuador', 'Azerbaijan', 'Czech Republic',\n",
       "       'Armenia', 'Dominican Republic', 'Indonesia', 'Portugal',\n",
       "       'Andorra', 'Latvia', 'Morocco', 'Saudi Arabia', 'Senegal',\n",
       "       'Argentina', 'Chile', 'Jordan', 'Ukraine', 'Saint Barthelemy',\n",
       "       'Hungary', 'Faroe Islands', 'Gibraltar', 'Liechtenstein', 'Poland',\n",
       "       'Tunisia', 'Palestine', 'Bosnia and Herzegovina', 'Slovenia',\n",
       "       'South Africa', 'Bhutan', 'Cameroon', 'Costa Rica', 'Peru',\n",
       "       'Serbia', 'Slovakia', 'Togo', 'Vatican City', 'French Guiana',\n",
       "       'Malta', 'Martinique', 'Republic of Ireland', 'Bulgaria',\n",
       "       'Maldives', 'Bangladesh', 'Moldova', 'Paraguay', 'Albania',\n",
       "       'Cyprus', 'St. Martin', 'Brunei', 'occupied Palestinian territory',\n",
       "       \"('St. Martin',)\", 'Burkina Faso', 'Channel Islands', 'Holy See',\n",
       "       'Mongolia', 'Panama', 'Bolivia', 'Honduras', 'Congo (Kinshasa)',\n",
       "       'Jamaica', 'Reunion', 'Turkey', 'Cuba', 'Guyana', 'Kazakhstan',\n",
       "       'Cayman Islands', 'Guadeloupe', 'Ethiopia', 'Sudan', 'Guinea',\n",
       "       'Antigua and Barbuda', 'Aruba', 'Kenya', 'Uruguay', 'Ghana',\n",
       "       'Jersey', 'Namibia', 'Seychelles', 'Trinidad and Tobago',\n",
       "       'Venezuela', 'Curacao', 'Eswatini', 'Gabon', 'Guatemala',\n",
       "       'Guernsey', 'Mauritania', 'Rwanda', 'Saint Lucia',\n",
       "       'Saint Vincent and the Grenadines', 'Suriname', 'Kosovo',\n",
       "       'Central African Republic', 'Congo (Brazzaville)',\n",
       "       'Equatorial Guinea', 'Uzbekistan', 'Guam', 'Puerto Rico', 'Benin',\n",
       "       'Greenland', 'Liberia', 'Mayotte', 'Republic of the Congo',\n",
       "       'Somalia', 'Tanzania', 'The Bahamas', 'Barbados', 'Montenegro',\n",
       "       'The Gambia', 'Kyrgyzstan', 'Mauritius', 'Zambia', 'Djibouti',\n",
       "       'Gambia, The', 'Bahamas, The', 'Chad', 'El Salvador', 'Fiji',\n",
       "       'Nicaragua', 'Madagascar', 'Haiti', 'Angola', 'Cabo Verde',\n",
       "       'Niger', 'Papua New Guinea', 'Zimbabwe', 'Cape Verde',\n",
       "       'East Timor', 'Eritrea', 'Uganda', 'Bahamas', 'Dominica', 'Gambia',\n",
       "       'Grenada', 'Mozambique', 'Samoa', 'Syria', 'Timor-Leste', 'Belize',\n",
       "       'Laos', 'Libya', 'Diamond Princess', 'Guinea-Bissau', 'Mali',\n",
       "       'Saint Kitts and Nevis', 'West Bank and Gaza', 'Burma',\n",
       "       'MS Zaandam', 'Botswana', 'Burundi', 'Sierra Leone', 'Malawi',\n",
       "       'South Sudan', 'Sao Tome and Principe', 'Yemen', 'Comoros',\n",
       "       'Tajikistan', 'Lesotho', 'Solomon Islands', 'Marshall Islands',\n",
       "       'Vanuatu', 'Micronesia'], dtype=object)"
      ]
     },
     "execution_count": 31,
     "metadata": {},
     "output_type": "execute_result"
    }
   ],
   "source": [
    "cases[\"Country/Region\"].unique()"
   ]
  },
  {
   "cell_type": "code",
   "execution_count": 32,
   "metadata": {},
   "outputs": [
    {
     "data": {
      "text/html": [
       "<div>\n",
       "<style scoped>\n",
       "    .dataframe tbody tr th:only-of-type {\n",
       "        vertical-align: middle;\n",
       "    }\n",
       "\n",
       "    .dataframe tbody tr th {\n",
       "        vertical-align: top;\n",
       "    }\n",
       "\n",
       "    .dataframe thead th {\n",
       "        text-align: right;\n",
       "    }\n",
       "</style>\n",
       "<table border=\"1\" class=\"dataframe\">\n",
       "  <thead>\n",
       "    <tr style=\"text-align: right;\">\n",
       "      <th></th>\n",
       "      <th>SNo</th>\n",
       "      <th>ObservationDate</th>\n",
       "      <th>Province/State</th>\n",
       "      <th>Country/Region</th>\n",
       "      <th>Last Update</th>\n",
       "      <th>Confirmed</th>\n",
       "      <th>Deaths</th>\n",
       "      <th>Recovered</th>\n",
       "    </tr>\n",
       "  </thead>\n",
       "  <tbody>\n",
       "    <tr>\n",
       "      <th>78</th>\n",
       "      <td>79</td>\n",
       "      <td>01/23/2020</td>\n",
       "      <td>NaN</td>\n",
       "      <td>Malaysia</td>\n",
       "      <td>1/23/20 17:00</td>\n",
       "      <td>0.0</td>\n",
       "      <td>0.0</td>\n",
       "      <td>0.0</td>\n",
       "    </tr>\n",
       "    <tr>\n",
       "      <th>168</th>\n",
       "      <td>169</td>\n",
       "      <td>01/25/2020</td>\n",
       "      <td>NaN</td>\n",
       "      <td>Malaysia</td>\n",
       "      <td>1/25/20 17:00</td>\n",
       "      <td>3.0</td>\n",
       "      <td>0.0</td>\n",
       "      <td>0.0</td>\n",
       "    </tr>\n",
       "    <tr>\n",
       "      <th>214</th>\n",
       "      <td>215</td>\n",
       "      <td>01/26/2020</td>\n",
       "      <td>NaN</td>\n",
       "      <td>Malaysia</td>\n",
       "      <td>1/26/20 16:00</td>\n",
       "      <td>4.0</td>\n",
       "      <td>0.0</td>\n",
       "      <td>0.0</td>\n",
       "    </tr>\n",
       "    <tr>\n",
       "      <th>260</th>\n",
       "      <td>261</td>\n",
       "      <td>01/27/2020</td>\n",
       "      <td>NaN</td>\n",
       "      <td>Malaysia</td>\n",
       "      <td>1/27/20 23:59</td>\n",
       "      <td>4.0</td>\n",
       "      <td>0.0</td>\n",
       "      <td>0.0</td>\n",
       "    </tr>\n",
       "    <tr>\n",
       "      <th>311</th>\n",
       "      <td>312</td>\n",
       "      <td>01/28/2020</td>\n",
       "      <td>NaN</td>\n",
       "      <td>Malaysia</td>\n",
       "      <td>1/28/20 23:00</td>\n",
       "      <td>4.0</td>\n",
       "      <td>0.0</td>\n",
       "      <td>0.0</td>\n",
       "    </tr>\n",
       "  </tbody>\n",
       "</table>\n",
       "</div>"
      ],
      "text/plain": [
       "     SNo ObservationDate Province/State Country/Region    Last Update  \\\n",
       "78    79      01/23/2020            NaN       Malaysia  1/23/20 17:00   \n",
       "168  169      01/25/2020            NaN       Malaysia  1/25/20 17:00   \n",
       "214  215      01/26/2020            NaN       Malaysia  1/26/20 16:00   \n",
       "260  261      01/27/2020            NaN       Malaysia  1/27/20 23:59   \n",
       "311  312      01/28/2020            NaN       Malaysia  1/28/20 23:00   \n",
       "\n",
       "     Confirmed  Deaths  Recovered  \n",
       "78         0.0     0.0        0.0  \n",
       "168        3.0     0.0        0.0  \n",
       "214        4.0     0.0        0.0  \n",
       "260        4.0     0.0        0.0  \n",
       "311        4.0     0.0        0.0  "
      ]
     },
     "execution_count": 32,
     "metadata": {},
     "output_type": "execute_result"
    }
   ],
   "source": [
    "### BEGIN SOLUTION\n",
    "new_covid_data = cases.loc[cases[\"Country/Region\"] == 'Malaysia']\n",
    "new_covid_data.head()\n",
    "### END SOLUTION"
   ]
  },
  {
   "cell_type": "markdown",
   "metadata": {},
   "source": [
    "We need to make sure there is no missing value in our data\n",
    ">**Instruction** : <br>\n",
    "Use `df.isnull().values.any()` to check any missing data in our dataset. `True` would mean that there is `NaN` in our dataset<br>\n",
    "Most of the column does not contain `NaN` values except for `Province/State `. This is acceptable since this data is not particularly useful to our use case which will be dropped later.\n",
    "\n",
    ">**Expected Result** :<br>\n",
    "\n",
    "Columns|Status\n",
    "---|---\n",
    "SNo                |False\n",
    "ObservationDate    |False\n",
    "Province/State      |True\n",
    "Country/Region     |False\n",
    "Last Update        |False\n",
    "Confirmed          |False\n",
    "Deaths             |False\n",
    "Recovered          |False"
   ]
  },
  {
   "cell_type": "code",
   "execution_count": 33,
   "metadata": {},
   "outputs": [
    {
     "data": {
      "text/plain": [
       "SNo                False\n",
       "ObservationDate    False\n",
       "Province/State      True\n",
       "Country/Region     False\n",
       "Last Update        False\n",
       "Confirmed          False\n",
       "Deaths             False\n",
       "Recovered          False\n",
       "dtype: bool"
      ]
     },
     "execution_count": 33,
     "metadata": {},
     "output_type": "execute_result"
    }
   ],
   "source": [
    "### BEGIN SOLUTION\n",
    "new_covid_data.isnull().any()\n",
    "### END SOLUTION"
   ]
  },
  {
   "cell_type": "markdown",
   "metadata": {},
   "source": [
    ">**Instruction** : <br>\n",
    "Set the `ObservationDate` as the index for the dataset. You are required to convert `ObservationDate` to datetime using `pd.to_datetime()` <br>\n",
    "\n",
    ">**Expected Result** :<br>\n",
    "Example of first 5 row data :\n",
    "\n",
    "ObservationDate\t|SNo\t|ObservationDate\t|Province/State\t|Country/Region\t|Last Update\t|Confirmed\t|Deaths\t|Recovered\n",
    " ---|---\t|---\t            |---\t        |---\t        |---\t        |---\t    |---\t|---\n",
    "01/23/2020\t|79\t    |01/23/2020\t|NaN\t|Malaysia\t|1/23/20 |17:00\t|0.0\t|0.0\t|0.0\n",
    "01/25/2020\t|169\t|01/25/2020\t|NaN\t|Malaysia\t|1/25/20 |17:00\t|3.0\t|0.0\t|0.0\n",
    "01/26/2020\t|215\t|01/26/2020\t|NaN\t|Malaysia\t|1/26/20 |16:00\t|4.0\t|0.0\t|0.0\n",
    "01/27/2020\t|261\t|01/27/2020\t|NaN\t|Malaysia\t|1/27/20 |23:59\t|4.0\t|0.0\t|0.0\n",
    "01/28/2020\t|312\t|01/28/2020\t|NaN\t|Malaysia\t|1/28/20 |23:00\t|4.0\t|0.0\t|0.0"
   ]
  },
  {
   "cell_type": "code",
   "execution_count": 34,
   "metadata": {},
   "outputs": [
    {
     "data": {
      "text/html": [
       "<div>\n",
       "<style scoped>\n",
       "    .dataframe tbody tr th:only-of-type {\n",
       "        vertical-align: middle;\n",
       "    }\n",
       "\n",
       "    .dataframe tbody tr th {\n",
       "        vertical-align: top;\n",
       "    }\n",
       "\n",
       "    .dataframe thead th {\n",
       "        text-align: right;\n",
       "    }\n",
       "</style>\n",
       "<table border=\"1\" class=\"dataframe\">\n",
       "  <thead>\n",
       "    <tr style=\"text-align: right;\">\n",
       "      <th></th>\n",
       "      <th>SNo</th>\n",
       "      <th>ObservationDate</th>\n",
       "      <th>Province/State</th>\n",
       "      <th>Country/Region</th>\n",
       "      <th>Last Update</th>\n",
       "      <th>Confirmed</th>\n",
       "      <th>Deaths</th>\n",
       "      <th>Recovered</th>\n",
       "    </tr>\n",
       "    <tr>\n",
       "      <th>ObservationDate</th>\n",
       "      <th></th>\n",
       "      <th></th>\n",
       "      <th></th>\n",
       "      <th></th>\n",
       "      <th></th>\n",
       "      <th></th>\n",
       "      <th></th>\n",
       "      <th></th>\n",
       "    </tr>\n",
       "  </thead>\n",
       "  <tbody>\n",
       "    <tr>\n",
       "      <th>2020-01-23</th>\n",
       "      <td>79</td>\n",
       "      <td>01/23/2020</td>\n",
       "      <td>NaN</td>\n",
       "      <td>Malaysia</td>\n",
       "      <td>1/23/20 17:00</td>\n",
       "      <td>0.0</td>\n",
       "      <td>0.0</td>\n",
       "      <td>0.0</td>\n",
       "    </tr>\n",
       "    <tr>\n",
       "      <th>2020-01-25</th>\n",
       "      <td>169</td>\n",
       "      <td>01/25/2020</td>\n",
       "      <td>NaN</td>\n",
       "      <td>Malaysia</td>\n",
       "      <td>1/25/20 17:00</td>\n",
       "      <td>3.0</td>\n",
       "      <td>0.0</td>\n",
       "      <td>0.0</td>\n",
       "    </tr>\n",
       "    <tr>\n",
       "      <th>2020-01-26</th>\n",
       "      <td>215</td>\n",
       "      <td>01/26/2020</td>\n",
       "      <td>NaN</td>\n",
       "      <td>Malaysia</td>\n",
       "      <td>1/26/20 16:00</td>\n",
       "      <td>4.0</td>\n",
       "      <td>0.0</td>\n",
       "      <td>0.0</td>\n",
       "    </tr>\n",
       "    <tr>\n",
       "      <th>2020-01-27</th>\n",
       "      <td>261</td>\n",
       "      <td>01/27/2020</td>\n",
       "      <td>NaN</td>\n",
       "      <td>Malaysia</td>\n",
       "      <td>1/27/20 23:59</td>\n",
       "      <td>4.0</td>\n",
       "      <td>0.0</td>\n",
       "      <td>0.0</td>\n",
       "    </tr>\n",
       "    <tr>\n",
       "      <th>2020-01-28</th>\n",
       "      <td>312</td>\n",
       "      <td>01/28/2020</td>\n",
       "      <td>NaN</td>\n",
       "      <td>Malaysia</td>\n",
       "      <td>1/28/20 23:00</td>\n",
       "      <td>4.0</td>\n",
       "      <td>0.0</td>\n",
       "      <td>0.0</td>\n",
       "    </tr>\n",
       "  </tbody>\n",
       "</table>\n",
       "</div>"
      ],
      "text/plain": [
       "                 SNo ObservationDate Province/State Country/Region  \\\n",
       "ObservationDate                                                      \n",
       "2020-01-23        79      01/23/2020            NaN       Malaysia   \n",
       "2020-01-25       169      01/25/2020            NaN       Malaysia   \n",
       "2020-01-26       215      01/26/2020            NaN       Malaysia   \n",
       "2020-01-27       261      01/27/2020            NaN       Malaysia   \n",
       "2020-01-28       312      01/28/2020            NaN       Malaysia   \n",
       "\n",
       "                   Last Update  Confirmed  Deaths  Recovered  \n",
       "ObservationDate                                               \n",
       "2020-01-23       1/23/20 17:00        0.0     0.0        0.0  \n",
       "2020-01-25       1/25/20 17:00        3.0     0.0        0.0  \n",
       "2020-01-26       1/26/20 16:00        4.0     0.0        0.0  \n",
       "2020-01-27       1/27/20 23:59        4.0     0.0        0.0  \n",
       "2020-01-28       1/28/20 23:00        4.0     0.0        0.0  "
      ]
     },
     "execution_count": 34,
     "metadata": {},
     "output_type": "execute_result"
    }
   ],
   "source": [
    "### BEGIN SOLUTION\n",
    "new_covid_data = new_covid_data.set_index(pd.to_datetime(new_covid_data[\"ObservationDate\"]))\n",
    "### END SOLUTION\n",
    "\n",
    "new_covid_data.head()"
   ]
  },
  {
   "cell_type": "markdown",
   "metadata": {},
   "source": [
    "Columns such as `SNo`,`ObservationDate`,`Province/State`,`Country/Region`,`Last Update` do not provide any useful information to us. Hence, we need to drop it to make the data look cleaner. \n",
    "\n",
    ">**Instruction** : <br>\n",
    "Use `df.drop` to drop the `columns = ['SNo','ObservationDate','Province/State','Country/Region','Last Update']`<br>\n",
    "\n",
    ">**Expected Result** :<br>\n",
    "\n",
    "ObservationDate\t|Confirmed\t|Deaths\t|Recovered\n",
    "\t---|---|---|---\t\t\n",
    "2020-01-23|\t0.0|\t0.0|\t0.0\n",
    "2020-01-25|\t3.0|\t0.0|\t0.0\n",
    "2020-01-26|\t4.0|\t0.0|\t0.0\n",
    "2020-01-27|\t4.0|\t0.0|\t0.0\n",
    "2020-01-28|\t4.0|    0.0|\t0.0"
   ]
  },
  {
   "cell_type": "code",
   "execution_count": 35,
   "metadata": {},
   "outputs": [
    {
     "data": {
      "text/html": [
       "<div>\n",
       "<style scoped>\n",
       "    .dataframe tbody tr th:only-of-type {\n",
       "        vertical-align: middle;\n",
       "    }\n",
       "\n",
       "    .dataframe tbody tr th {\n",
       "        vertical-align: top;\n",
       "    }\n",
       "\n",
       "    .dataframe thead th {\n",
       "        text-align: right;\n",
       "    }\n",
       "</style>\n",
       "<table border=\"1\" class=\"dataframe\">\n",
       "  <thead>\n",
       "    <tr style=\"text-align: right;\">\n",
       "      <th></th>\n",
       "      <th>Confirmed</th>\n",
       "      <th>Deaths</th>\n",
       "      <th>Recovered</th>\n",
       "    </tr>\n",
       "    <tr>\n",
       "      <th>ObservationDate</th>\n",
       "      <th></th>\n",
       "      <th></th>\n",
       "      <th></th>\n",
       "    </tr>\n",
       "  </thead>\n",
       "  <tbody>\n",
       "    <tr>\n",
       "      <th>2020-01-23</th>\n",
       "      <td>0.0</td>\n",
       "      <td>0.0</td>\n",
       "      <td>0.0</td>\n",
       "    </tr>\n",
       "    <tr>\n",
       "      <th>2020-01-25</th>\n",
       "      <td>3.0</td>\n",
       "      <td>0.0</td>\n",
       "      <td>0.0</td>\n",
       "    </tr>\n",
       "    <tr>\n",
       "      <th>2020-01-26</th>\n",
       "      <td>4.0</td>\n",
       "      <td>0.0</td>\n",
       "      <td>0.0</td>\n",
       "    </tr>\n",
       "    <tr>\n",
       "      <th>2020-01-27</th>\n",
       "      <td>4.0</td>\n",
       "      <td>0.0</td>\n",
       "      <td>0.0</td>\n",
       "    </tr>\n",
       "    <tr>\n",
       "      <th>2020-01-28</th>\n",
       "      <td>4.0</td>\n",
       "      <td>0.0</td>\n",
       "      <td>0.0</td>\n",
       "    </tr>\n",
       "  </tbody>\n",
       "</table>\n",
       "</div>"
      ],
      "text/plain": [
       "                 Confirmed  Deaths  Recovered\n",
       "ObservationDate                              \n",
       "2020-01-23             0.0     0.0        0.0\n",
       "2020-01-25             3.0     0.0        0.0\n",
       "2020-01-26             4.0     0.0        0.0\n",
       "2020-01-27             4.0     0.0        0.0\n",
       "2020-01-28             4.0     0.0        0.0"
      ]
     },
     "execution_count": 35,
     "metadata": {},
     "output_type": "execute_result"
    }
   ],
   "source": [
    "### BEGIN SOLUTION\n",
    "new_covid_data = new_covid_data.drop(columns = ['SNo','ObservationDate','Province/State','Country/Region','Last Update'])\n",
    "### END SOLUTION\n",
    "new_covid_data.head()"
   ]
  },
  {
   "cell_type": "markdown",
   "metadata": {},
   "source": [
    "To make our sliding window function working. You need to rearrange the data columns such as the targeted forecast series will be the last column of the data\n",
    ">**Instruction** : <br>\n",
    "Rearrange the data column using `df[]`<br>\n",
    "For example : <br>\n",
    "columns = [`A`,`B`,`C`]<br>\n",
    "rearrage columns = [`A`,`C`,`B`]<br>\n",
    "`df =  df[rearrage columns]`\n",
    "\n",
    ">**Expected Result** :<br>\n",
    "\n",
    "ObservationDate|\tConfirmed|\tRecovered|\tDeaths\n",
    "\t\t---|---|---|---\t\n",
    "2020-01-23|\t0.0|\t0.0|\t0.0\n",
    "2020-01-25|\t3.0|\t0.0|\t0.0\n",
    "2020-01-26|\t4.0|\t0.0|\t0.0\n",
    "2020-01-27|\t4.0|\t0.0|\t0.0\n",
    "2020-01-28|\t4.0|\t0.0|\t0.0"
   ]
  },
  {
   "cell_type": "code",
   "execution_count": 36,
   "metadata": {},
   "outputs": [
    {
     "data": {
      "text/html": [
       "<div>\n",
       "<style scoped>\n",
       "    .dataframe tbody tr th:only-of-type {\n",
       "        vertical-align: middle;\n",
       "    }\n",
       "\n",
       "    .dataframe tbody tr th {\n",
       "        vertical-align: top;\n",
       "    }\n",
       "\n",
       "    .dataframe thead th {\n",
       "        text-align: right;\n",
       "    }\n",
       "</style>\n",
       "<table border=\"1\" class=\"dataframe\">\n",
       "  <thead>\n",
       "    <tr style=\"text-align: right;\">\n",
       "      <th></th>\n",
       "      <th>Confirmed</th>\n",
       "      <th>Recovered</th>\n",
       "      <th>Deaths</th>\n",
       "    </tr>\n",
       "    <tr>\n",
       "      <th>ObservationDate</th>\n",
       "      <th></th>\n",
       "      <th></th>\n",
       "      <th></th>\n",
       "    </tr>\n",
       "  </thead>\n",
       "  <tbody>\n",
       "    <tr>\n",
       "      <th>2020-01-23</th>\n",
       "      <td>0.0</td>\n",
       "      <td>0.0</td>\n",
       "      <td>0.0</td>\n",
       "    </tr>\n",
       "    <tr>\n",
       "      <th>2020-01-25</th>\n",
       "      <td>3.0</td>\n",
       "      <td>0.0</td>\n",
       "      <td>0.0</td>\n",
       "    </tr>\n",
       "    <tr>\n",
       "      <th>2020-01-26</th>\n",
       "      <td>4.0</td>\n",
       "      <td>0.0</td>\n",
       "      <td>0.0</td>\n",
       "    </tr>\n",
       "    <tr>\n",
       "      <th>2020-01-27</th>\n",
       "      <td>4.0</td>\n",
       "      <td>0.0</td>\n",
       "      <td>0.0</td>\n",
       "    </tr>\n",
       "    <tr>\n",
       "      <th>2020-01-28</th>\n",
       "      <td>4.0</td>\n",
       "      <td>0.0</td>\n",
       "      <td>0.0</td>\n",
       "    </tr>\n",
       "  </tbody>\n",
       "</table>\n",
       "</div>"
      ],
      "text/plain": [
       "                 Confirmed  Recovered  Deaths\n",
       "ObservationDate                              \n",
       "2020-01-23             0.0        0.0     0.0\n",
       "2020-01-25             3.0        0.0     0.0\n",
       "2020-01-26             4.0        0.0     0.0\n",
       "2020-01-27             4.0        0.0     0.0\n",
       "2020-01-28             4.0        0.0     0.0"
      ]
     },
     "execution_count": 36,
     "metadata": {},
     "output_type": "execute_result"
    }
   ],
   "source": [
    "### BEGIN SOLUTION\n",
    "new_covid_data = new_covid_data[[\"Confirmed\",\"Recovered\",\"Deaths\"]]\n",
    "### END SOLUTION\n",
    "new_covid_data.head()"
   ]
  },
  {
   "cell_type": "markdown",
   "metadata": {},
   "source": [
    "## Data Visualization\n",
    "Data visualization is important for us to visualize the pattern of data such as trend and seasonality. Seeing the graph below, it is quite clear that there is an increasing trend in data"
   ]
  },
  {
   "cell_type": "code",
   "execution_count": 37,
   "metadata": {},
   "outputs": [
    {
     "data": {
      "image/png": "[encoded data removed]",
      "text/plain": [
       "<Figure size 792x648 with 3 Axes>"
      ]
     },
     "metadata": {
      "needs_background": "light"
     },
     "output_type": "display_data"
    }
   ],
   "source": [
    "# Visualize Data \n",
    "axes = new_covid_data[new_covid_data.columns].plot(alpha=1.0, linestyle='-', figsize=(11, 9), subplots=True)\n",
    "for ax in axes:\n",
    "    ax.set_ylabel('COVID-19-Malaysia')"
   ]
  },
  {
   "cell_type": "markdown",
   "metadata": {},
   "source": [
    "However, the data is in cumulative form. To perform time-series prediction, we need to convert the cumulative cases into daily cases.\n",
    "\n",
    ">**Instruction** : <br>\n",
    "Remove the cumulative counts. You might need to use a `For loop` to loop through the data for each columns .Use `new_covid_data[name] - new_covid_data[name].shift().fillna(0)` as the math operation to remove the cumulative<br>\n",
    "\n",
    ">**Expected Result** :<br>\n",
    "\n",
    "ObservationDate|\tConfirmed|\tRecovered|\tDeaths|\n",
    "\t---|\t---|---|---\t\n",
    "2020-01-23|\t0.0|\t0.0|\t0.0|\n",
    "2020-01-25|\t3.0|\t0.0|\t0.0|\n",
    "2020-01-26|\t1.0|\t0.0|\t0.0|\n",
    "2020-01-27|\t0.0|\t0.0|\t0.0|\n",
    "2020-01-28|\t0.0|\t0.0|\t0.0|"
   ]
  },
  {
   "cell_type": "code",
   "execution_count": 38,
   "metadata": {},
   "outputs": [
    {
     "data": {
      "text/html": [
       "<div>\n",
       "<style scoped>\n",
       "    .dataframe tbody tr th:only-of-type {\n",
       "        vertical-align: middle;\n",
       "    }\n",
       "\n",
       "    .dataframe tbody tr th {\n",
       "        vertical-align: top;\n",
       "    }\n",
       "\n",
       "    .dataframe thead th {\n",
       "        text-align: right;\n",
       "    }\n",
       "</style>\n",
       "<table border=\"1\" class=\"dataframe\">\n",
       "  <thead>\n",
       "    <tr style=\"text-align: right;\">\n",
       "      <th></th>\n",
       "      <th>Confirmed</th>\n",
       "      <th>Recovered</th>\n",
       "      <th>Deaths</th>\n",
       "    </tr>\n",
       "    <tr>\n",
       "      <th>ObservationDate</th>\n",
       "      <th></th>\n",
       "      <th></th>\n",
       "      <th></th>\n",
       "    </tr>\n",
       "  </thead>\n",
       "  <tbody>\n",
       "    <tr>\n",
       "      <th>2020-01-23</th>\n",
       "      <td>0.0</td>\n",
       "      <td>0.0</td>\n",
       "      <td>0.0</td>\n",
       "    </tr>\n",
       "    <tr>\n",
       "      <th>2020-01-25</th>\n",
       "      <td>3.0</td>\n",
       "      <td>0.0</td>\n",
       "      <td>0.0</td>\n",
       "    </tr>\n",
       "    <tr>\n",
       "      <th>2020-01-26</th>\n",
       "      <td>1.0</td>\n",
       "      <td>0.0</td>\n",
       "      <td>0.0</td>\n",
       "    </tr>\n",
       "    <tr>\n",
       "      <th>2020-01-27</th>\n",
       "      <td>0.0</td>\n",
       "      <td>0.0</td>\n",
       "      <td>0.0</td>\n",
       "    </tr>\n",
       "    <tr>\n",
       "      <th>2020-01-28</th>\n",
       "      <td>0.0</td>\n",
       "      <td>0.0</td>\n",
       "      <td>0.0</td>\n",
       "    </tr>\n",
       "  </tbody>\n",
       "</table>\n",
       "</div>"
      ],
      "text/plain": [
       "                 Confirmed  Recovered  Deaths\n",
       "ObservationDate                              \n",
       "2020-01-23             0.0        0.0     0.0\n",
       "2020-01-25             3.0        0.0     0.0\n",
       "2020-01-26             1.0        0.0     0.0\n",
       "2020-01-27             0.0        0.0     0.0\n",
       "2020-01-28             0.0        0.0     0.0"
      ]
     },
     "execution_count": 38,
     "metadata": {},
     "output_type": "execute_result"
    }
   ],
   "source": [
    "### BEGIN SOLUTION\n",
    "for name in new_covid_data.columns:\n",
    "        new_covid_data[name] = new_covid_data[name] - new_covid_data[name].shift().fillna(0)\n",
    "### END SOLUTION\n",
    "new_covid_data.head()"
   ]
  },
  {
   "cell_type": "code",
   "execution_count": 39,
   "metadata": {},
   "outputs": [
    {
     "data": {
      "image/png": "[encoded data removed]",
      "text/plain": [
       "<Figure size 792x648 with 3 Axes>"
      ]
     },
     "metadata": {
      "needs_background": "light"
     },
     "output_type": "display_data"
    }
   ],
   "source": [
    "# Visualize Data \n",
    "axes = new_covid_data[new_covid_data.columns].plot(alpha=1.0, linestyle='-', figsize=(11, 9), subplots=True)\n",
    "for ax in axes:\n",
    "    ax.set_ylabel('COVID-19-Malaysia')"
   ]
  },
  {
   "cell_type": "markdown",
   "metadata": {},
   "source": [
    "## Data Splitting\n",
    "In Deep Learning, we will split the data into training and test dataset. The training data is used to train the model where the test data is used to validate the performance of the model."
   ]
  },
  {
   "cell_type": "code",
   "execution_count": 40,
   "metadata": {},
   "outputs": [
    {
     "data": {
      "text/plain": [
       "28"
      ]
     },
     "execution_count": 40,
     "metadata": {},
     "output_type": "execute_result"
    }
   ],
   "source": [
    "split_data_covid = round(len(dataset)*split_ratio)\n",
    "split_data_covid"
   ]
  },
  {
   "cell_type": "code",
   "execution_count": 41,
   "metadata": {},
   "outputs": [
    {
     "name": "stdout",
     "output_type": "stream",
     "text": [
      "train_data_shape\n",
      "(373, 3)\n",
      "test_data_shape\n",
      "(28, 3)\n"
     ]
    }
   ],
   "source": [
    "# Split data by indexing \n",
    "train_data_covid = new_covid_data[:-split_data_covid ]\n",
    "test_data_covid = new_covid_data[-split_data_covid :]\n",
    "train_time_covid = new_covid_data.index[:-split_data_covid ]\n",
    "test_time_covid = new_covid_data.index[-split_data_covid :]\n",
    "\n",
    "print(\"train_data_shape\")\n",
    "print(train_data_covid.shape)\n",
    "print(\"test_data_shape\")\n",
    "print(test_data_covid.shape)"
   ]
  },
  {
   "cell_type": "markdown",
   "metadata": {},
   "source": [
    "## Data Normalization \n",
    "Normalize the data into range of 0 to 1"
   ]
  },
  {
   "cell_type": "code",
   "execution_count": 42,
   "metadata": {},
   "outputs": [
    {
     "name": "stdout",
     "output_type": "stream",
     "text": [
      "train_data_normalized_demand(373, 3)\n",
      "test_data_normalized_demand(28, 3)\n"
     ]
    }
   ],
   "source": [
    "scaler_covid,train_data_normalized_covid,test_data_normalized_covid = data_module.multi_data_scaler(train_data_covid,\n",
    "                                                                                         test_data_covid,\n",
    "                                                                                         scale_mode = \"Normalize\")\n",
    "print(\"train_data_normalized_demand\"+str(train_data_normalized_covid.shape))\n",
    "print(\"test_data_normalized_demand\"+str(test_data_normalized_covid.shape))"
   ]
  },
  {
   "cell_type": "markdown",
   "metadata": {},
   "source": [
    "## Data Sequencing\n",
    "Sequencing the data by taking in the multivariate series into `x-feature` and `y-label`\n",
    "<img src = \"../../picture/multivariate univariate.png\"  width=\"300\" height  =\"300\" align=\"center\" />"
   ]
  },
  {
   "cell_type": "code",
   "execution_count": 43,
   "metadata": {},
   "outputs": [
    {
     "name": "stdout",
     "output_type": "stream",
     "text": [
      "trainX_demand shape:(354, 20, 2) trainY_demand shape:(354, 1)\n",
      "\n",
      "testX_demand shape:(9, 20, 2) testY_demand shape:(9, 1)\n"
     ]
    }
   ],
   "source": [
    "trainX_covid ,trainY_covid=  data_module.multivariate_univariate_multi_step(train_data_normalized_covid,window_size_covid,n_step_covid)\n",
    "testX_covid , testY_covid = data_module.multivariate_univariate_multi_step(test_data_normalized_covid,window_size_covid,n_step_covid)\n",
    "print(f\"trainX_demand shape:{trainX_covid.shape} trainY_demand shape:{trainY_covid.shape}\\n\")\n",
    "print(f\"testX_demand shape:{testX_covid.shape} testY_demand shape:{testY_covid.shape}\")"
   ]
  },
  {
   "cell_type": "code",
   "execution_count": 44,
   "metadata": {},
   "outputs": [
    {
     "name": "stdout",
     "output_type": "stream",
     "text": [
      "trainY shape:(354, 1, 1)\n",
      "testY shape:(9, 1, 1)\n"
     ]
    }
   ],
   "source": [
    "trainY_covid = trainY_covid.reshape(trainY_covid.shape[0],n_step_covid,1)\n",
    "testY_covid= testY_covid.reshape(testY_covid.shape[0],n_step_covid,1)\n",
    "print(f\"trainY shape:{trainY_covid.shape}\")\n",
    "print(f\"testY shape:{testY_covid.shape}\")"
   ]
  },
  {
   "cell_type": "markdown",
   "metadata": {},
   "source": [
    "### Data Transform\n",
    "Data needs to be transformed from numpy to pytorch tensor before being fed into the model.\n",
    "\n",
    ">**Instruction** : <br>\n",
    "Use `data_module.key_assign` to assign the key and `data_module.transform` to transform the data."
   ]
  },
  {
   "cell_type": "code",
   "execution_count": 45,
   "metadata": {},
   "outputs": [],
   "source": [
    "### BEGIN SOLUTION\n",
    "train_data_dict_covid ,test_data_dict_covid = data_module.key_assign(trainingX = trainX_covid  , \n",
    "                       testingX = testX_covid, \n",
    "                       trainingY = trainY_covid, \n",
    "                       testingY = testY_covid)\n",
    "train_data_dict_covid ,test_data_dict_covid = data_module.transform(train_data_dict_covid ,test_data_dict_covid)\n",
    "### END SOLUTION"
   ]
  },
  {
   "cell_type": "code",
   "execution_count": 46,
   "metadata": {},
   "outputs": [
    {
     "name": "stdout",
     "output_type": "stream",
     "text": [
      "train_data_x_feature shape : torch.Size([354, 20, 2])\n",
      "train_data_y_label shape : torch.Size([354, 1, 1])\n",
      "test_data_x_feature shape : torch.Size([9, 20, 2])\n",
      "test_data_y_label shape : torch.Size([9, 1, 1])\n"
     ]
    }
   ],
   "source": [
    "data_module.sanity_check(train_data_dict_covid , test_data_dict_covid)"
   ]
  },
  {
   "cell_type": "markdown",
   "metadata": {},
   "source": [
    "## Data Transpose \n",
    "You are require to transpose the `x-feature` data in such a way that : <br>\n",
    ">`(batch_size, number_of_features, sequence_length)`.\n",
    "\n",
    ">**Instruction** : <br>\n",
    "Use `transpose` function in `data_module.py` to transpose the suitable input data for CNN model."
   ]
  },
  {
   "cell_type": "code",
   "execution_count": 47,
   "metadata": {},
   "outputs": [],
   "source": [
    "train_data_dict_covid , test_data_dict_covid = data_module.transpose(train_data_dict_covid,\n",
    "                                                                     test_data_dict_covid)"
   ]
  },
  {
   "cell_type": "code",
   "execution_count": 48,
   "metadata": {},
   "outputs": [
    {
     "name": "stdout",
     "output_type": "stream",
     "text": [
      "train_data_x_feature shape : torch.Size([354, 2, 20])\n",
      "train_data_y_label shape : torch.Size([354, 1, 1])\n",
      "test_data_x_feature shape : torch.Size([9, 2, 20])\n",
      "test_data_y_label shape : torch.Size([9, 1, 1])\n"
     ]
    }
   ],
   "source": [
    "data_module.sanity_check(train_data_dict_covid , test_data_dict_covid)"
   ]
  },
  {
   "cell_type": "markdown",
   "metadata": {},
   "source": [
    "## Data Iterator\n",
    "Iterator is created to allow the data to separate into several batches to fasten the training process\n",
    ">**Instruction** : <br>\n",
    "Use `data_module.iterator` to create data iterator."
   ]
  },
  {
   "cell_type": "code",
   "execution_count": 49,
   "metadata": {},
   "outputs": [],
   "source": [
    "### BEGIN SOLUTION\n",
    "train_iter_covid , test_iter_covid = data_module.iterator(train_data_dict_covid ,\n",
    "                                                          test_data_dict_covid,\n",
    "                                                          batch_size = batch_size_covid)\n",
    "### END SOLUTION"
   ]
  },
  {
   "cell_type": "markdown",
   "metadata": {},
   "source": [
    "# Step 2 :  CNN Model Configuration\n",
    "You may choose to use the CNN configuration that have been saved in the `deep_learning_module.py` or code it by yourself."
   ]
  },
  {
   "cell_type": "code",
   "execution_count": 50,
   "metadata": {},
   "outputs": [],
   "source": [
    "class CNN(nn.Module):\n",
    "\n",
    "    def __init__(self,n_feature,n_step):\n",
    "        super(CNN, self).__init__()\n",
    "        \n",
    "        self.n_feature = n_feature\n",
    "        self.n_step = n_step\n",
    "\n",
    "        # Conv1d in_channels is base on num time series\n",
    "        # Input:(N,C,Lin) Output : (N,C,Lout)\n",
    "        self.conv1 = nn.Conv1d(in_channels = n_feature, out_channels = 30, kernel_size = 3)\n",
    "        \n",
    "        # For example Input:(N,C,Lin) Output : (N,C,Lout)\n",
    "        self.pool1 = nn.MaxPool1d(kernel_size=2)\n",
    "        \n",
    "        self.conv2 = nn.Conv1d(in_channels = 30, out_channels = 20, kernel_size = 2)\n",
    "        \n",
    "        self.pool2 = nn.MaxPool1d(kernel_size=2)\n",
    "        \n",
    "        self.conv3 = nn.Conv1d(in_channels = 20, out_channels = 10, kernel_size = 2)\n",
    "        \n",
    "        # AdaptiveMaxPool1d use to make sure it always will output  = 1 ,to make sure return the correct batch size \n",
    "        self.pool3 = nn.AdaptiveMaxPool1d(1)\n",
    "        self.fc1 = nn.Linear(10, 5)\n",
    "        self.fc2 = nn.Linear(5,n_step)\n",
    "\n",
    "    def forward(self, x):\n",
    "        x = F.relu(self.conv1(x))\n",
    "        x = self.pool1(x)\n",
    "        x = F.relu(self.conv2(x))\n",
    "        x = self.pool2(x)\n",
    "        x = F.relu(self.conv3(x))\n",
    "        x = self.pool3(x)\n",
    "        x = x.view(-1,10)\n",
    "        x = F.relu(self.fc1(x))\n",
    "        x = self.fc2(x)\n",
    "\n",
    "        return x"
   ]
  },
  {
   "cell_type": "markdown",
   "metadata": {},
   "source": [
    "## Input Model\n",
    "\n",
    ">**Instruction** : <br>\n",
    "Input the model that you have configured, use `Adam` as the optimizer and `MSE` as the loss function"
   ]
  },
  {
   "cell_type": "code",
   "execution_count": 51,
   "metadata": {},
   "outputs": [],
   "source": [
    "# seed\n",
    "torch.manual_seed(123)\n",
    "\n",
    "n_feature_covid = train_data_dict_covid['train_data_x_feature'].shape[1]\n",
    "### BEGIN SOLUTION\n",
    "# Input the attribute need by the model \n",
    "model_covid = CNN(n_feature = n_feature_covid,\n",
    "                  n_step = n_step_covid )\n",
    "\n",
    "### END SOLUTION\n",
    "\n",
    "# Define the optimizer (Here we use Adam as our optimizer)\n",
    "### BEGIN SOLUTION\n",
    "optimizer_covid = torch.optim.Adam(model_covid.parameters(), lr=learning_rate_covid)\n",
    "### END SOLUTION\n",
    "\n",
    "# Define the loss function (Here we use MSE as the loss function)\n",
    "### BEGIN SOLUTION\n",
    "loss_fn_covid = nn.MSELoss()\n",
    "### END SOLUTION"
   ]
  },
  {
   "cell_type": "code",
   "execution_count": 52,
   "metadata": {},
   "outputs": [
    {
     "name": "stdout",
     "output_type": "stream",
     "text": [
      "====================================================\n",
      "        Kernel Shape Output Shape Params Mult-Adds\n",
      "Layer                                             \n",
      "0_conv1   [2, 30, 3]  [8, 30, 18]  210.0     3.24k\n",
      "1_pool1            -   [8, 30, 9]      -         -\n",
      "2_conv2  [30, 20, 2]   [8, 20, 8]  1.22k      9.6k\n",
      "3_pool2            -   [8, 20, 4]      -         -\n",
      "4_conv3  [20, 10, 2]   [8, 10, 3]  410.0      1.2k\n",
      "5_pool3            -   [8, 10, 1]      -         -\n",
      "6_fc1        [10, 5]       [8, 5]   55.0      50.0\n",
      "7_fc2         [5, 1]       [8, 1]    6.0       5.0\n",
      "----------------------------------------------------\n",
      "                       Totals\n",
      "Total params           1.901k\n",
      "Trainable params       1.901k\n",
      "Non-trainable params      0.0\n",
      "Mult-Adds             14.095k\n",
      "====================================================\n",
      "        Kernel Shape Output Shape  Params  Mult-Adds\n",
      "Layer                                               \n",
      "0_conv1   [2, 30, 3]  [8, 30, 18]   210.0     3240.0\n",
      "1_pool1            -   [8, 30, 9]     NaN        NaN\n",
      "2_conv2  [30, 20, 2]   [8, 20, 8]  1220.0     9600.0\n",
      "3_pool2            -   [8, 20, 4]     NaN        NaN\n",
      "4_conv3  [20, 10, 2]   [8, 10, 3]   410.0     1200.0\n",
      "5_pool3            -   [8, 10, 1]     NaN        NaN\n",
      "6_fc1        [10, 5]       [8, 5]    55.0       50.0\n",
      "7_fc2         [5, 1]       [8, 1]     6.0        5.0\n"
     ]
    }
   ],
   "source": [
    "seq_length_covid = train_data_dict_covid['train_data_x_feature'].shape[2]\n",
    "\n",
    "# batch size ,input_dim ,seq_length\n",
    "inputs = torch.zeros((batch_size_covid,\n",
    "                      n_feature_covid ,\n",
    "                      seq_length_covid),dtype=torch.float) \n",
    "\n",
    "print(summary(model_covid,inputs))"
   ]
  },
  {
   "cell_type": "code",
   "execution_count": 53,
   "metadata": {},
   "outputs": [
    {
     "data": {
      "text/plain": [
       "CNN(\n",
       "  (conv1): Conv1d(2, 30, kernel_size=(3,), stride=(1,))\n",
       "  (pool1): MaxPool1d(kernel_size=2, stride=2, padding=0, dilation=1, ceil_mode=False)\n",
       "  (conv2): Conv1d(30, 20, kernel_size=(2,), stride=(1,))\n",
       "  (pool2): MaxPool1d(kernel_size=2, stride=2, padding=0, dilation=1, ceil_mode=False)\n",
       "  (conv3): Conv1d(20, 10, kernel_size=(2,), stride=(1,))\n",
       "  (pool3): AdaptiveMaxPool1d(output_size=1)\n",
       "  (fc1): Linear(in_features=10, out_features=5, bias=True)\n",
       "  (fc2): Linear(in_features=5, out_features=1, bias=True)\n",
       ")"
      ]
     },
     "execution_count": 53,
     "metadata": {},
     "output_type": "execute_result"
    }
   ],
   "source": [
    "torch.manual_seed(123)\n",
    "\n",
    "# Xavier weight intialization\n",
    "def weights_init(m):\n",
    "    if isinstance(m, nn.Conv1d):\n",
    "        nn.init.xavier_uniform_(m.weight.data)\n",
    "        \n",
    "model_covid.apply(weights_init)"
   ]
  },
  {
   "cell_type": "markdown",
   "metadata": {},
   "source": [
    "# Step 3 : Training\n",
    ">**Instruction** : <br>\n",
    "Use `deep_learning_module.training` to train the model."
   ]
  },
  {
   "cell_type": "code",
   "execution_count": 54,
   "metadata": {},
   "outputs": [],
   "source": [
    "#seed\n",
    "torch.manual_seed(123)\n",
    "### BEGIN SOLUTION\n",
    "\n",
    "# Start training \n",
    "train_loss_covid,val_loss_covid = deep_learning_module.training(num_epochs= num_epochs_covid ,\n",
    "                                                    train_iter = train_iter_covid,\n",
    "                                                    test_iter = test_iter_covid ,\n",
    "                                                    optimizer = optimizer_covid,\n",
    "                                                    loss_fn = loss_fn_covid,\n",
    "                                                    model = model_covid)\n",
    "### END SOLUTION"
   ]
  },
  {
   "cell_type": "markdown",
   "metadata": {},
   "source": [
    "# Step 4 : Validation"
   ]
  },
  {
   "cell_type": "code",
   "execution_count": 55,
   "metadata": {
    "scrolled": true
   },
   "outputs": [
    {
     "data": {
      "image/png": "[encoded data removed]",
      "text/plain": [
       "<Figure size 720x432 with 1 Axes>"
      ]
     },
     "metadata": {
      "needs_background": "light"
     },
     "output_type": "display_data"
    },
    {
     "name": "stdout",
     "output_type": "stream",
     "text": [
      "Epoch : 0 , training loss : 0.03462915052725581 , validation loss : 0.13407404555214775\n",
      "Epoch : 1 , training loss : 0.034303897228664164 , validation loss : 0.31546368170529604\n",
      "Epoch : 2 , training loss : 0.16584812496041637 , validation loss : 2.586262332068549\n",
      "Epoch : 3 , training loss : 0.05285858058276597 , validation loss : 0.039246098759273686\n",
      "Epoch : 4 , training loss : 0.017445760884316965 , validation loss : 0.03805138501856062\n",
      "Epoch : 5 , training loss : 0.015345315520548377 , validation loss : 0.05799321200336433\n",
      "Epoch : 6 , training loss : 0.015427778102946698 , validation loss : 0.04395468615823322\n",
      "Epoch : 7 , training loss : 0.013950634531335252 , validation loss : 0.05281703339682685\n",
      "Epoch : 8 , training loss : 0.013701938444667622 , validation loss : 0.050149454528258905\n",
      "Epoch : 9 , training loss : 0.014088241290531284 , validation loss : 0.05378193242682351\n",
      "Epoch : 10 , training loss : 0.012659529361726372 , validation loss : 0.061843431658214994\n",
      "Epoch : 11 , training loss : 0.012774747841122315 , validation loss : 0.04465149498234192\n",
      "Epoch : 12 , training loss : 0.014225992785028766 , validation loss : 0.08221077919006348\n",
      "Epoch : 13 , training loss : 0.012172578699867334 , validation loss : 0.0674851420852873\n",
      "Epoch : 14 , training loss : 0.013314983266246923 , validation loss : 0.03288182895630598\n",
      "Epoch : 15 , training loss : 0.01729614085255848 , validation loss : 0.2501036094294654\n",
      "Epoch : 16 , training loss : 0.0159717665911573 , validation loss : 0.0920459810230467\n",
      "Epoch : 17 , training loss : 0.015946228025986886 , validation loss : 0.17220436367723677\n",
      "Epoch : 18 , training loss : 0.014775544542055163 , validation loss : 0.13456771439976162\n",
      "Epoch : 19 , training loss : 0.020224867973889036 , validation loss : 0.22377624445491368\n",
      "Epoch : 20 , training loss : 0.02178164087158646 , validation loss : 0.2798512842920091\n",
      "Epoch : 21 , training loss : 0.019689726913810705 , validation loss : 0.08881884482171801\n",
      "Epoch : 22 , training loss : 0.014822050661675508 , validation loss : 0.1478638235065672\n",
      "Epoch : 23 , training loss : 0.013937263870137821 , validation loss : 0.06480006459686491\n",
      "Epoch : 24 , training loss : 0.011624587323419323 , validation loss : 0.080095032023059\n",
      "Epoch : 25 , training loss : 0.012357669794733213 , validation loss : 0.06278167333867815\n",
      "Epoch : 26 , training loss : 0.01086303262645537 , validation loss : 0.07896842310825984\n",
      "Epoch : 27 , training loss : 0.011433709283993796 , validation loss : 0.07474114414718416\n",
      "Epoch : 28 , training loss : 0.01077510488499622 , validation loss : 0.08379476186301973\n",
      "Epoch : 29 , training loss : 0.011214841575632314 , validation loss : 0.07587132602930069\n",
      "Epoch : 30 , training loss : 0.010657461532795587 , validation loss : 0.09717710895670785\n",
      "Epoch : 31 , training loss : 0.010721068991671084 , validation loss : 0.10264335407151116\n",
      "Epoch : 32 , training loss : 0.01009816456176223 , validation loss : 0.10337812784645292\n",
      "Epoch : 33 , training loss : 0.010251282069049078 , validation loss : 0.1255471325582928\n",
      "Epoch : 34 , training loss : 0.010066050638182129 , validation loss : 0.12004642850822872\n",
      "Epoch : 35 , training loss : 0.010388223447922932 , validation loss : 0.10110319736931059\n",
      "Epoch : 36 , training loss : 0.009799849734613808 , validation loss : 0.12031353182262844\n",
      "Epoch : 37 , training loss : 0.010269248066618013 , validation loss : 0.10481655597686768\n",
      "Epoch : 38 , training loss : 0.009877873767349188 , validation loss : 0.11191865305105846\n",
      "Epoch : 39 , training loss : 0.010056853729203516 , validation loss : 0.12439656257629395\n",
      "Epoch : 40 , training loss : 0.009436986080003675 , validation loss : 0.10921492013666365\n",
      "Epoch : 41 , training loss : 0.009358454688296306 , validation loss : 0.1285103807846705\n",
      "Epoch : 42 , training loss : 0.009039067682767951 , validation loss : 0.11450389358732435\n",
      "Epoch : 43 , training loss : 0.0087288852085854 , validation loss : 0.1137955453660753\n",
      "Epoch : 44 , training loss : 0.008833434465119394 , validation loss : 0.12133452958530849\n",
      "Epoch : 45 , training loss : 0.00858740951826902 , validation loss : 0.12317153811454773\n",
      "Epoch : 46 , training loss : 0.008605101215475332 , validation loss : 0.10052595535914104\n",
      "Epoch : 47 , training loss : 0.00854240051329864 , validation loss : 0.1343790822558933\n",
      "Epoch : 48 , training loss : 0.008354193526383053 , validation loss : 0.09354604946242438\n",
      "Epoch : 49 , training loss : 0.008079048202078432 , validation loss : 0.10461972653865814\n",
      "Epoch : 50 , training loss : 0.008388115183640115 , validation loss : 0.1449991828865475\n",
      "Epoch : 51 , training loss : 0.008240530139011167 , validation loss : 0.13073389728864035\n",
      "Epoch : 52 , training loss : 0.008765628996167377 , validation loss : 0.09846479859617022\n",
      "Epoch : 53 , training loss : 0.008288386552696548 , validation loss : 0.13140517307652366\n",
      "Epoch : 54 , training loss : 0.008197236135861794 , validation loss : 0.19808094700177512\n",
      "Epoch : 55 , training loss : 0.007964815869248318 , validation loss : 0.14915491309430864\n",
      "Epoch : 56 , training loss : 0.007652392633187606 , validation loss : 0.18259376287460327\n",
      "Epoch : 57 , training loss : 0.00759966001743704 , validation loss : 0.11520037386152479\n",
      "Epoch : 58 , training loss : 0.007234835587797086 , validation loss : 0.11203564206759135\n",
      "Epoch : 59 , training loss : 0.007187334580698839 , validation loss : 0.12412758999400669\n",
      "Epoch : 60 , training loss : 0.007152053765328335 , validation loss : 0.1372872855928209\n",
      "Epoch : 61 , training loss : 0.007278224898126661 , validation loss : 0.09733687506781684\n",
      "Epoch : 62 , training loss : 0.007904739949476016 , validation loss : 0.13121453921000162\n",
      "Epoch : 63 , training loss : 0.0076134063255457515 , validation loss : 0.14183681375450558\n",
      "Epoch : 64 , training loss : 0.007142912239325627 , validation loss : 0.11278132100900014\n",
      "Epoch : 65 , training loss : 0.006670537534162289 , validation loss : 0.140345960855484\n",
      "Epoch : 66 , training loss : 0.00663689960546214 , validation loss : 0.15815933545430502\n",
      "Epoch : 67 , training loss : 0.0065215220787865555 , validation loss : 0.18023286925421822\n",
      "Epoch : 68 , training loss : 0.0067553609032624555 , validation loss : 0.13771184947755602\n",
      "Epoch : 69 , training loss : 0.007068342550571858 , validation loss : 0.1896752350860172\n",
      "Epoch : 70 , training loss : 0.006919849164069349 , validation loss : 0.20774589644538033\n",
      "Epoch : 71 , training loss : 0.006932479100903094 , validation loss : 0.10636821720335218\n",
      "Epoch : 72 , training loss : 0.006574486583113831 , validation loss : 0.10090036359098223\n",
      "Epoch : 73 , training loss : 0.008573567186960573 , validation loss : 0.20739358994695875\n",
      "Epoch : 74 , training loss : 0.008796302669480676 , validation loss : 0.22972495357195535\n",
      "Epoch : 75 , training loss : 0.00789907065593512 , validation loss : 0.250876290930642\n",
      "Epoch : 76 , training loss : 0.007970162394860772 , validation loss : 0.17566499445173475\n",
      "Epoch : 77 , training loss : 0.00955834022462026 , validation loss : 0.09059923100802633\n",
      "Epoch : 78 , training loss : 0.011636805390043968 , validation loss : 0.1253838837146759\n",
      "Epoch : 79 , training loss : 0.013247850039608166 , validation loss : 0.07478580934305985\n",
      "Epoch : 80 , training loss : 0.02001072079769341 , validation loss : 0.03210449210988978\n",
      "Epoch : 81 , training loss : 0.015232314235309801 , validation loss : 0.18970774445268843\n",
      "Epoch : 82 , training loss : 0.011546694105826476 , validation loss : 0.07729151431057188\n",
      "Epoch : 83 , training loss : 0.008524626998578087 , validation loss : 0.07961550106604894\n",
      "Epoch : 84 , training loss : 0.007878824669406039 , validation loss : 0.0913689566983117\n",
      "Epoch : 85 , training loss : 0.007148063140802906 , validation loss : 0.10390208330419329\n",
      "Epoch : 86 , training loss : 0.006896071677871632 , validation loss : 0.09863706429799397\n",
      "Epoch : 87 , training loss : 0.0064649261735803265 , validation loss : 0.11514202256997426\n",
      "Epoch : 88 , training loss : 0.0063833125648845536 , validation loss : 0.12922826243771446\n",
      "Epoch : 89 , training loss : 0.0062355532966951914 , validation loss : 0.1080191516213947\n",
      "Epoch : 90 , training loss : 0.005914563789372931 , validation loss : 0.09820868074893951\n",
      "Epoch : 91 , training loss : 0.005953229235752064 , validation loss : 0.11773769391907586\n",
      "Epoch : 92 , training loss : 0.005909773178744237 , validation loss : 0.16536729203330147\n",
      "Epoch : 93 , training loss : 0.0058591991243463135 , validation loss : 0.1536070787244373\n",
      "Epoch : 94 , training loss : 0.006572083558707276 , validation loss : 0.10458560619089338\n",
      "Epoch : 95 , training loss : 0.005866684014303873 , validation loss : 0.09744750791125828\n",
      "Epoch : 96 , training loss : 0.006508321182087138 , validation loss : 0.15311090151468912\n",
      "Epoch : 97 , training loss : 0.006100290561011268 , validation loss : 0.21324320799774593\n",
      "Epoch : 98 , training loss : 0.005765309354516784 , validation loss : 0.18058021366596222\n",
      "Epoch : 99 , training loss : 0.008001672440493532 , validation loss : 0.09972660657432345\n"
     ]
    }
   ],
   "source": [
    "# Plot Learning Curve \n",
    "### BEGIN SOLUTION\n",
    "data_module.learning_curve(num_epochs = num_epochs_covid,\n",
    "                           train_loss = train_loss_covid ,\n",
    "                           val_loss = val_loss_covid)\n",
    "\n",
    "### END SOLUTION"
   ]
  },
  {
   "cell_type": "markdown",
   "metadata": {},
   "source": [
    "# Step 5 : Evaluation\n",
    "This section is to inference the model by feeding in testing data, determining the output forecast values and calculating the RMSE. For this exercise, use the function in `data_module` to run in each section.\n",
    "\n",
    "It consists of 4 sections :\n",
    "\n",
    "Section 1 : Feed in the train and test data to the model <br>\n",
    "Section 2 : Reshape both to the original data dimension <br> \n",
    "Section 3 : Invert the scaling back to the original data value <br>\n",
    "Section 4 : Calculate the RMSE of train and test data\n",
    "\n",
    ">**Instruction** : <br>\n",
    "Complete each section with the function in `data_module.py`"
   ]
  },
  {
   "cell_type": "code",
   "execution_count": 56,
   "metadata": {},
   "outputs": [],
   "source": [
    "# Section 1 : Make predictions\n",
    "\n",
    "### BEGIN SOLUTION\n",
    "with torch.no_grad():\n",
    "    y_train_prediction_covid = model_covid(train_data_dict_covid['train_data_x_feature'])\n",
    "    y_test_prediction_covid = model_covid(test_data_dict_covid['test_data_x_feature'])\n",
    "### END SOLUTION"
   ]
  },
  {
   "cell_type": "code",
   "execution_count": 57,
   "metadata": {},
   "outputs": [],
   "source": [
    "# Assign evaluation key\n",
    "### BEGIN SOLUTION\n",
    "prediction_covid , output_covid = data_module.key_assign_evaluation(y_train_prediction_covid,\n",
    "                                                                    y_test_prediction_covid,\n",
    "                                                                    train_data_dict_covid,\n",
    "                                                                    test_data_dict_covid)\n",
    "### END SOLUTION\n",
    "\n",
    "\n",
    "# Section 2 : Reshape data\n",
    "### BEGIN SOLUTION\n",
    "# Squeeze the output dimension\n",
    "output_data_covid = data_module.squeeze_dimension(output_covid)\n",
    "### END SOLUTION"
   ]
  },
  {
   "cell_type": "code",
   "execution_count": 58,
   "metadata": {},
   "outputs": [
    {
     "name": "stdout",
     "output_type": "stream",
     "text": [
      "train_data_output shape : torch.Size([354, 1])\n",
      "test_data_output shape : torch.Size([9, 1])\n"
     ]
    }
   ],
   "source": [
    "data_module.sanity_check(data_1 = output_data_covid,data_2 = {})"
   ]
  },
  {
   "cell_type": "code",
   "execution_count": 59,
   "metadata": {},
   "outputs": [],
   "source": [
    "# Section 3 : Invert the scaling back to orignal data value\n",
    "### BEGIN SOLUTION\n",
    "scaler_covid_output = scaler_covid[list(scaler_covid)[-1]]\n",
    "prediction_covid = data_module.inverse_scaler(prediction_covid,scaler_covid_output)\n",
    "output_data_covid  = data_module.inverse_scaler(output_data_covid, scaler_covid_output)\n",
    "### END SOLUTION"
   ]
  },
  {
   "cell_type": "markdown",
   "metadata": {},
   "source": [
    "`np.rint` is use to round our data to integer since the death cases should be an integer."
   ]
  },
  {
   "cell_type": "code",
   "execution_count": 60,
   "metadata": {},
   "outputs": [],
   "source": [
    "prediction_covid['test_data_prediction'] = np.rint(prediction_covid['test_data_prediction'])\n",
    "output_data_covid['test_data_output'] =  np.rint(output_data_covid['test_data_output']) "
   ]
  },
  {
   "cell_type": "code",
   "execution_count": 61,
   "metadata": {},
   "outputs": [
    {
     "name": "stdout",
     "output_type": "stream",
     "text": [
      "Test Data\t\t\tForecast\n",
      "[13.]\t\t[7.]\n",
      "[8.]\t\t[9.]\n",
      "[5.]\t\t[7.]\n",
      "[6.]\t\t[10.]\n",
      "[14.]\t\t[6.]\n",
      "[12.]\t\t[6.]\n",
      "[12.]\t\t[4.]\n",
      "[11.]\t\t[4.]\n",
      "[10.]\t\t[5.]\n"
     ]
    }
   ],
   "source": [
    "# List the forecast value\n",
    "### BEGIN SOLUTION\n",
    "data_module.list_forecast_value(output_data_covid,prediction_covid) \n",
    "### END SOLUTION"
   ]
  },
  {
   "cell_type": "code",
   "execution_count": 62,
   "metadata": {},
   "outputs": [
    {
     "name": "stdout",
     "output_type": "stream",
     "text": [
      "Train Score: 1.43 RMSE\n",
      "Test Score: 5.73 RMSE\n"
     ]
    }
   ],
   "source": [
    "# calculate root mean squared error\n",
    "### BEGIN SOLUTION\n",
    "trainScore_covid,testScore_covid = data_module.rmse(prediction_covid,output_data_covid)\n",
    "print('Train Score: %.2f RMSE' % (trainScore_covid))\n",
    "print('Test Score: %.2f RMSE' % (testScore_covid))\n",
    "### END SOLUTION"
   ]
  },
  {
   "cell_type": "markdown",
   "metadata": {},
   "source": [
    "# Step 6 : Forecast Plot"
   ]
  },
  {
   "cell_type": "code",
   "execution_count": 63,
   "metadata": {},
   "outputs": [
    {
     "data": {
      "image/png": "[encoded data removed]",
      "text/plain": [
       "<Figure size 720x432 with 1 Axes>"
      ]
     },
     "metadata": {
      "needs_background": "light"
     },
     "output_type": "display_data"
    }
   ],
   "source": [
    "data_module.single_step_plot(original_test_data = test_data_covid[\"Deaths\"],\n",
    "                 sequence_test_data = output_data_covid['test_data_output'],\n",
    "                 forecast_data = prediction_covid['test_data_prediction'],\n",
    "                 test_time = test_time_covid,\n",
    "                 window_size = window_size_covid,\n",
    "                 original_plot = True,\n",
    "                 multivariate = True)\n"
   ]
  },
  {
   "cell_type": "markdown",
   "metadata": {},
   "source": [
    "## Summary\n",
    "In this tutorial you should have learnt:\n",
    "\n",
    "1. The flow of using CNN to perform multivariate input, univariate output single-step forecasting<br>\n",
    "\n",
    "Congratulations, that concludes this lesson.<br>\n",
    "\n",
    "\n",
    "Please proceed to other notebooks for other types of data in CNN forecasting  <br>\n",
    "\n",
    "1. ~~*[04 - CNN_Univariate_SingleStep]*~~ *Complete*\n",
    "2. ~~*[04 - CNN_Univariate_MultiStep]*~~*Complete*\n",
    "3. ~~*[04 - CNN_Multivariate_Univariate_SingleStep]*~~*Complete*\n",
    "4. [04 - CNN_Multivariate_Univariate_MultiStep](./04%20-%20CNN_Multivariate_Univariate_MultiStep.ipynb)<br>"
   ]
  },
  {
   "cell_type": "markdown",
   "metadata": {},
   "source": [
    "## Reference\n",
    "1. [Deep Learning for Time Series Forecasting (Predict the Future with MLPs,CNNs and LSTMs in Python) , Jason Brownlee](https://machinelearningmastery.com/deep-learning-for-time-series-forecasting/)"
   ]
  }
 ],
 "metadata": {
  "kernelspec": {
   "display_name": "Python 3",
   "language": "python",
   "name": "python3"
  },
  "language_info": {
   "codemirror_mode": {
    "name": "ipython",
    "version": 3
   },
   "file_extension": ".py",
   "mimetype": "text/x-python",
   "name": "python",
   "nbconvert_exporter": "python",
   "pygments_lexer": "ipython3",
   "version": "3.7.9"
  },
  "varInspector": {
   "cols": {
    "lenName": 16,
    "lenType": 16,
    "lenVar": 40
   },
   "kernels_config": {
    "python": {
     "delete_cmd_postfix": "",
     "delete_cmd_prefix": "del ",
     "library": "var_list.py",
     "varRefreshCmd": "print(var_dic_list())"
    },
    "r": {
     "delete_cmd_postfix": ") ",
     "delete_cmd_prefix": "rm(",
     "library": "var_list.r",
     "varRefreshCmd": "cat(var_dic_list()) "
    }
   },
   "types_to_exclude": [
    "module",
    "function",
    "builtin_function_or_method",
    "instance",
    "_Feature"
   ],
   "window_display": false
  }
 },
 "nbformat": 4,
 "nbformat_minor": 4
}
