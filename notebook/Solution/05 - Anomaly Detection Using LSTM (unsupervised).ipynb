{
 "cells": [
  {
   "cell_type": "markdown",
   "metadata": {
    "deletable": false,
    "editable": false
   },
   "source": [
    "> **Copyright &copy; 2020 CertifAI Sdn. Bhd.**<br>\n",
    " **Copyright &copy; 2021 CertifAI Sdn. Bhd.**<br>\n",
    " <br>\n",
    "This program and the accompanying materials are made available under the\n",
    "terms of the [Apache License, Version 2.0](https://www.apache.org/licenses/LICENSE-2.0). \\\n",
    "Unless required by applicable law or agreed to in writing, software\n",
    "distributed under the License is distributed on an \"AS IS\" BASIS, WITHOUT\n",
    "WARRANTIES OR CONDITIONS OF ANY KIND, either express or implied. See the\n",
    "License for the specific language governing permissions and limitations\n",
    "under the License. <br>\n",
    "<br>**SPDX-License-Identifier: Apache-2.0**> "
   ]
  },
  {
   "cell_type": "markdown",
   "metadata": {},
   "source": [
    "To-do: \n",
    "\n",
    "1. check out LSTM structure -> add dropout layer\n",
    "2. Add detailed descriptions of each functions"
   ]
  },
  {
   "cell_type": "markdown",
   "metadata": {},
   "source": [
    "# 05 - Different Anamaly Detection Algorithms"
   ]
  },
  {
   "cell_type": "markdown",
   "metadata": {},
   "source": [
    "This tutorial is to identify anomalies using dataset from Numenta Anomaly Benchmark (NAB). This dataset contains ambient temperature in an office setting without any labelled anomalies. This is a good example to practice how to perform unsupervised learning to identify outliers.\n",
    "\n",
    "In our tutorial, we will be using LSTM to detect anomalies based on the distance between data points.\n",
    "\n",
    "Please note that there will be no accurate score as there is no label. We will visualize the anomalies to verify the performance of algorithm."
   ]
  },
  {
   "source": [
    "## Notebook Description\n",
    "This tutorial will show different approaches other than deep learning that can be applied to search for anomalies. All the techniques is readily available in Scikit-learn library. An exercise section is attached for you to practice and hone your skills. Do make good use of it.\n",
    "\n",
    "By the end of this tutorial, you will be able to:\n",
    "\n",
    "1. Prepare dataset to be feed into anomaly detection algorithms\n",
    "2. Apply different anomaly detection algorithms readily accessible from Scikit-learn API\n",
    "3. Compare and contrast performance of anomaly detection algorithms\n",
    "\n",
    "## Notebook Outline\n",
    "Below is the outline for this tutorial:\n",
    "1. [A Little Bit of Theory](#theory)\n",
    "2. [Choice of Dataset](#dataset)\n",
    "3. [Baseline Performance](#baseline)\n",
    "4. [Anomaly Detection Techniques](#techniques) \n",
    "    * a) [Isolation Forest](#isolation-forest)\n",
    "    * b) [Minimum Covariance Determinant](#minimum-cov-determinant)\n",
    "    * c) [Local Outlier Factor (LOF)](#lof)\n",
    "    * d) [One-class Support Vector Machine (OCSVM)](#ocsvm)\n",
    "\n",
    "5. [Exercise](#exercise)\n",
    "6. [Reference](#reference)"
   ],
   "cell_type": "markdown",
   "metadata": {}
  },
  {
   "cell_type": "code",
   "execution_count": 1,
   "metadata": {},
   "outputs": [],
   "source": [
    "# libraries\n",
    "%matplotlib inline\n",
    "\n",
    "import pandas as pd\n",
    "import numpy as np\n",
    "from pathlib import Path\n",
    "\n",
    "import matplotlib\n",
    "import seaborn\n",
    "import matplotlib.dates as md\n",
    "from matplotlib import pyplot as plt\n",
    "from mpl_toolkits.axes_grid1 import host_subplot\n",
    "import mpl_toolkits.axisartist as AA\n",
    "\n",
    "from sklearn import preprocessing\n",
    "from sklearn.decomposition import PCA\n",
    "from sklearn.cluster import KMeans\n",
    "from sklearn.covariance import EllipticEnvelope\n",
    "from pyemma import msm\n",
    "from sklearn.ensemble import IsolationForest\n",
    "from sklearn.svm import OneClassSVM\n",
    "from fbprophet import Prophet\n",
    "\n",
    "import time"
   ]
  },
  {
   "cell_type": "markdown",
   "metadata": {},
   "source": [
    "## Data Loading"
   ]
  },
  {
   "cell_type": "code",
   "execution_count": 2,
   "metadata": {},
   "outputs": [],
   "source": [
    "ROOT = Path.cwd().parent/'datasets'\n",
    "EXTRACT_DIR = ROOT/'NAB_datasets'\n",
    "\n",
    "# unzip file\n",
    "import zipfile\n",
    "path_to_zip_file = str(ROOT) + \"/NAB-datasets.zip\"\n",
    "directory_to_extract_to = EXTRACT_DIR\n",
    "with zipfile.ZipFile(path_to_zip_file, 'r') as zip_ref:\n",
    "    zip_ref.extractall(directory_to_extract_to)"
   ]
  },
  {
   "cell_type": "code",
   "execution_count": 3,
   "metadata": {},
   "outputs": [],
   "source": [
    "df = pd.read_csv(str(EXTRACT_DIR) + \"/realKnownCause/realKnownCause/ambient_temperature_system_failure.csv\")"
   ]
  },
  {
   "cell_type": "markdown",
   "metadata": {},
   "source": [
    "## Exploratory Data Analysis (EDA)"
   ]
  },
  {
   "cell_type": "code",
   "execution_count": 4,
   "metadata": {},
   "outputs": [
    {
     "name": "stdout",
     "output_type": "stream",
     "text": [
      "<class 'pandas.core.frame.DataFrame'>\n",
      "RangeIndex: 7267 entries, 0 to 7266\n",
      "Data columns (total 2 columns):\n",
      " #   Column     Non-Null Count  Dtype  \n",
      "---  ------     --------------  -----  \n",
      " 0   timestamp  7267 non-null   object \n",
      " 1   value      7267 non-null   float64\n",
      "dtypes: float64(1), object(1)\n",
      "memory usage: 113.7+ KB\n",
      "None\n"
     ]
    }
   ],
   "source": [
    "print(df.info())"
   ]
  },
  {
   "cell_type": "code",
   "execution_count": 5,
   "metadata": {},
   "outputs": [
    {
     "name": "stdout",
     "output_type": "stream",
     "text": [
      "0    2013-07-04 00:00:00\n",
      "1    2013-07-04 01:00:00\n",
      "2    2013-07-04 02:00:00\n",
      "3    2013-07-04 03:00:00\n",
      "4    2013-07-04 04:00:00\n",
      "5    2013-07-04 05:00:00\n",
      "6    2013-07-04 06:00:00\n",
      "7    2013-07-04 07:00:00\n",
      "8    2013-07-04 08:00:00\n",
      "9    2013-07-04 09:00:00\n",
      "Name: timestamp, dtype: object\n"
     ]
    }
   ],
   "source": [
    "# check the timestamp format and frequence \n",
    "print(df['timestamp'].head(10))"
   ]
  },
  {
   "cell_type": "code",
   "execution_count": 6,
   "metadata": {},
   "outputs": [
    {
     "name": "stdout",
     "output_type": "stream",
     "text": [
      "71.2424327082882\n"
     ]
    }
   ],
   "source": [
    "# check the temperature mean\n",
    "print(df['value'].mean())"
   ]
  },
  {
   "cell_type": "code",
   "execution_count": 7,
   "metadata": {},
   "outputs": [
    {
     "data": {
      "image/png": "[encoded data removed]",
      "text/plain": [
       "<Figure size 432x288 with 1 Axes>"
      ]
     },
     "metadata": {
      "needs_background": "light"
     },
     "output_type": "display_data"
    }
   ],
   "source": [
    "# change the type of timestamp column for plotting\n",
    "df['timestamp'] = pd.to_datetime(df['timestamp'])\n",
    "# change fahrenheit to °C (temperature mean= 71 -> fahrenheit)\n",
    "df['value'] = (df['value'] - 32) * 5/9\n",
    "# plot the data\n",
    "df.plot(x='timestamp', y='value');"
   ]
  },
  {
   "cell_type": "markdown",
   "metadata": {},
   "source": [
    "## Feature Engineering"
   ]
  },
  {
   "cell_type": "code",
   "execution_count": 8,
   "metadata": {},
   "outputs": [],
   "source": [
    "# the hours and if it's night or day (7:00-22:00)\n",
    "df['hours'] = df['timestamp'].dt.hour\n",
    "df['daylight'] = ((df['hours'] >= 7) & (df['hours'] <= 22)).astype(int)"
   ]
  },
  {
   "cell_type": "code",
   "execution_count": 9,
   "metadata": {},
   "outputs": [],
   "source": [
    "# the day of the week (Monday=0, Sunday=6) and if it's a week end day or week day.\n",
    "df['DayOfTheWeek'] = df['timestamp'].dt.dayofweek\n",
    "df['WeekDay'] = (df['DayOfTheWeek'] < 5).astype(int)\n",
    "# An estimation of anomly population of the dataset (necessary for several algorithm)\n",
    "outliers_fraction = 0.01"
   ]
  },
  {
   "cell_type": "code",
   "execution_count": 10,
   "metadata": {},
   "outputs": [],
   "source": [
    "# time with int to plot easily\n",
    "df['time_epoch'] = (df['timestamp'].astype(np.int64)/100000000000).astype(np.int64)"
   ]
  },
  {
   "cell_type": "code",
   "execution_count": 11,
   "metadata": {},
   "outputs": [
    {
     "data": {
      "image/png": "[encoded data removed]",
      "text/plain": [
       "<Figure size 432x288 with 1 Axes>"
      ]
     },
     "metadata": {
      "needs_background": "light"
     },
     "output_type": "display_data"
    }
   ],
   "source": [
    "# creation of 4 distinct categories that seem useful (week end/day week & night/day)\n",
    "df['categories'] = df['WeekDay']*2 + df['daylight']\n",
    "\n",
    "a = df.loc[df['categories'] == 0, 'value']\n",
    "b = df.loc[df['categories'] == 1, 'value']\n",
    "c = df.loc[df['categories'] == 2, 'value']\n",
    "d = df.loc[df['categories'] == 3, 'value']\n",
    "\n",
    "fig, ax = plt.subplots()\n",
    "a_heights, a_bins = np.histogram(a)\n",
    "b_heights, b_bins = np.histogram(b, bins=a_bins)\n",
    "c_heights, c_bins = np.histogram(c, bins=a_bins)\n",
    "d_heights, d_bins = np.histogram(d, bins=a_bins)\n",
    "\n",
    "width = (a_bins[1] - a_bins[0])/6\n",
    "\n",
    "ax.bar(a_bins[:-1], a_heights*100/a.count(), width=width, facecolor='blue', label='WeekEndNight')\n",
    "ax.bar(b_bins[:-1]+width, (b_heights*100/b.count()), width=width, facecolor='green', label ='WeekEndLight')\n",
    "ax.bar(c_bins[:-1]+width*2, (c_heights*100/c.count()), width=width, facecolor='red', label ='WeekDayNight')\n",
    "ax.bar(d_bins[:-1]+width*3, (d_heights*100/d.count()), width=width, facecolor='black', label ='WeekDayLight')\n",
    "\n",
    "plt.legend()\n",
    "plt.show()"
   ]
  },
  {
   "cell_type": "markdown",
   "metadata": {},
   "source": [
    "\"We can see that the temperature is more stable during daylight of business day.\""
   ]
  },
  {
   "cell_type": "markdown",
   "metadata": {},
   "source": [
    "## Model Training"
   ]
  },
  {
   "cell_type": "markdown",
   "metadata": {},
   "source": [
    "### 2.7 RNN"
   ]
  },
  {
   "cell_type": "markdown",
   "metadata": {},
   "source": [
    "Use for sequential anomalies (ordered). RNN learn to recognize sequence in the data and then make prediction based on the previous sequence. We consider an anomaly when the next data points are distant from RNN prediction. Aggregation, size of sequence and size of prediction for anomaly are important parameters to have relevant detection.\n",
    "Here we make learn from 50 previous values, and we predict just the 1 next value."
   ]
  },
  {
   "cell_type": "code",
   "execution_count": 12,
   "metadata": {},
   "outputs": [
    {
     "name": "stdout",
     "output_type": "stream",
     "text": [
      "x_train (6165, 50, 5)\n",
      "y_train (6165,)\n",
      "x_test (1000, 50, 5)\n",
      "y_test (1000,)\n"
     ]
    }
   ],
   "source": [
    "#select and standardize data\n",
    "data_n = df[['value', 'hours', 'daylight', 'DayOfTheWeek', 'WeekDay']]\n",
    "min_max_scaler = preprocessing.StandardScaler()\n",
    "np_scaled = min_max_scaler.fit_transform(data_n)\n",
    "data_n = pd.DataFrame(np_scaled)\n",
    "\n",
    "# important parameters and train/test size\n",
    "prediction_time = 1 \n",
    "testdatasize = 1000\n",
    "unroll_length = 50\n",
    "testdatacut = testdatasize + unroll_length  + 1\n",
    "\n",
    "#train data\n",
    "x_train = data_n[0:-prediction_time-testdatacut].to_numpy()\n",
    "y_train = data_n[prediction_time:-testdatacut  ][0].to_numpy()\n",
    "\n",
    "# test data\n",
    "x_test = data_n[0-testdatacut:-prediction_time].to_numpy()\n",
    "y_test = data_n[prediction_time-testdatacut:  ][0].to_numpy()\n",
    "#unroll: create sequence of 50 previous data points for each data points\n",
    "def unroll(data,sequence_length=24):\n",
    "    result = []\n",
    "    for index in range(len(data) - sequence_length):\n",
    "        result.append(data[index: index + sequence_length])\n",
    "    return np.asarray(result)\n",
    "\n",
    "# adapt the datasets for the sequence data shape\n",
    "x_train = unroll(x_train,unroll_length)\n",
    "x_test  = unroll(x_test,unroll_length)\n",
    "y_train = y_train[-x_train.shape[0]:]\n",
    "y_test  = y_test[-x_test.shape[0]:]\n",
    "\n",
    "# see the shape\n",
    "print(\"x_train\", x_train.shape)\n",
    "print(\"y_train\", y_train.shape)\n",
    "print(\"x_test\", x_test.shape)\n",
    "print(\"y_test\", y_test.shape)"
   ]
  },
  {
   "cell_type": "code",
   "execution_count": 13,
   "metadata": {},
   "outputs": [],
   "source": [
    "from torch.utils.data import Dataset, DataLoader, TensorDataset, IterableDataset\n",
    "import torch\n",
    "from torch import nn, optim\n",
    "import torch.nn.functional as F"
   ]
  },
  {
   "cell_type": "code",
   "execution_count": 14,
   "metadata": {},
   "outputs": [],
   "source": [
    "# Let us use the Dataset object to instantiate our dataset, this way it enables the use of len and indexing\n",
    "# This is the preferred way of preparing data in Pytorch\n",
    "class CreateDataset(torch.utils.data.dataset.Dataset):\n",
    "    def __init__(self, x, y):\n",
    "        self.x = torch.Tensor(x)\n",
    "        self.y = torch.Tensor(y)\n",
    "        \n",
    "    def __len__(self):\n",
    "        return len(self.y)\n",
    "    \n",
    "    def __getitem__(self, idx):\n",
    "        return self.x[idx], self.y[idx]"
   ]
  },
  {
   "cell_type": "code",
   "execution_count": 15,
   "metadata": {},
   "outputs": [],
   "source": [
    "train_set = CreateDataset(x_train, y_train)\n",
    "test_set = CreateDataset(x_test, y_test)"
   ]
  },
  {
   "cell_type": "code",
   "execution_count": 16,
   "metadata": {},
   "outputs": [
    {
     "data": {
      "text/plain": [
       "<torch._C.Generator at 0x2765683a0b0>"
      ]
     },
     "execution_count": 16,
     "metadata": {},
     "output_type": "execute_result"
    }
   ],
   "source": [
    "# this is just to configure model hyperparameters\n",
    "# Input configurations\n",
    "input_size = 5      # since one row has 5 features, we are reading one row at a time\n",
    "sequence_length = 50 # since there are 50 rows \n",
    "num_layers = 2       # stack 2 LSTM together\n",
    "\n",
    "# Hyperparameter\n",
    "hidden_size = 128 # i think this is the number of hidden nodes\n",
    "num_classes = 1\n",
    "epochs = 35\n",
    "batch_size = 200\n",
    "learning_rate = 0.001\n",
    "\n",
    "random_seed = 42\n",
    "\n",
    "torch.manual_seed(random_seed) # to ensure reproducivility"
   ]
  },
  {
   "cell_type": "code",
   "execution_count": 17,
   "metadata": {},
   "outputs": [],
   "source": [
    "# Now, we are ready to create iterator using DataLoader\n",
    "train_loader = torch.utils.data.DataLoader(dataset=train_set,\n",
    "                                          batch_size=batch_size,\n",
    "                                          shuffle=False)\n",
    "\n",
    "test_loader = torch.utils.data.DataLoader(dataset=test_set,\n",
    "                                          batch_size=1,\n",
    "                                          shuffle=False)"
   ]
  },
  {
   "cell_type": "markdown",
   "metadata": {},
   "source": [
    "We can just load one batch of data to verify the functionality of our instantiated DataLoader."
   ]
  },
  {
   "cell_type": "code",
   "execution_count": 60,
   "metadata": {},
   "outputs": [
    {
     "data": {
      "text/plain": [
       "[tensor([[[-1.1074,  1.3701,  0.7068, -1.5095,  0.6213],\n",
       "          [-1.0564,  1.5145,  0.7068, -1.5095,  0.6213],\n",
       "          [-1.0756,  1.6589, -1.4148, -1.5095,  0.6213],\n",
       "          [-1.4214, -1.6615, -1.4148, -1.0044,  0.6213],\n",
       "          [-1.4141, -1.5172, -1.4148, -1.0044,  0.6213],\n",
       "          [-1.8215, -1.3728, -1.4148, -1.0044,  0.6213],\n",
       "          [-1.5958, -1.2284, -1.4148, -1.0044,  0.6213],\n",
       "          [-1.8188, -1.0841, -1.4148, -1.0044,  0.6213],\n",
       "          [-1.7948, -0.9397, -1.4148, -1.0044,  0.6213],\n",
       "          [-1.9494, -0.7953, -1.4148, -1.0044,  0.6213],\n",
       "          [-2.2294, -0.6510,  0.7068, -1.0044,  0.6213],\n",
       "          [-1.7159, -0.5066,  0.7068, -1.0044,  0.6213],\n",
       "          [-1.7076, -0.3623,  0.7068, -1.0044,  0.6213],\n",
       "          [-1.2241, -0.2179,  0.7068, -1.0044,  0.6213],\n",
       "          [-0.7299, -0.0735,  0.7068, -1.0044,  0.6213],\n",
       "          [-0.6185,  0.0708,  0.7068, -1.0044,  0.6213],\n",
       "          [-0.5741,  0.2152,  0.7068, -1.0044,  0.6213],\n",
       "          [-0.2340,  0.3596,  0.7068, -1.0044,  0.6213],\n",
       "          [-0.5651,  0.5039,  0.7068, -1.0044,  0.6213],\n",
       "          [-0.0396,  0.6483,  0.7068, -1.0044,  0.6213],\n",
       "          [-0.1048,  0.7927,  0.7068, -1.0044,  0.6213],\n",
       "          [-0.2916,  0.9370,  0.7068, -1.0044,  0.6213],\n",
       "          [-0.3777,  1.0814,  0.7068, -1.0044,  0.6213],\n",
       "          [-0.0309,  1.2258,  0.7068, -1.0044,  0.6213],\n",
       "          [-0.5340,  1.3701,  0.7068, -1.0044,  0.6213],\n",
       "          [-0.6658,  1.5145,  0.7068, -1.0044,  0.6213],\n",
       "          [-0.8503,  1.6589, -1.4148, -1.0044,  0.6213],\n",
       "          [-1.2968, -1.6615, -1.4148, -0.4993,  0.6213],\n",
       "          [-1.3510, -1.5172, -1.4148, -0.4993,  0.6213],\n",
       "          [-1.5188, -1.3728, -1.4148, -0.4993,  0.6213],\n",
       "          [-1.7244, -1.2284, -1.4148, -0.4993,  0.6213],\n",
       "          [-1.5882, -1.0841, -1.4148, -0.4993,  0.6213],\n",
       "          [-1.7817, -0.9397, -1.4148, -0.4993,  0.6213],\n",
       "          [-2.0659, -0.7953, -1.4148, -0.4993,  0.6213],\n",
       "          [-1.8024, -0.6510,  0.7068, -0.4993,  0.6213],\n",
       "          [-1.4734, -0.5066,  0.7068, -0.4993,  0.6213],\n",
       "          [-1.5173, -0.3623,  0.7068, -0.4993,  0.6213],\n",
       "          [-0.9100, -0.2179,  0.7068, -0.4993,  0.6213],\n",
       "          [-0.8726, -0.0735,  0.7068, -0.4993,  0.6213],\n",
       "          [-0.5429,  0.0708,  0.7068, -0.4993,  0.6213],\n",
       "          [-0.5243,  0.2152,  0.7068, -0.4993,  0.6213],\n",
       "          [-0.2899,  0.3596,  0.7068, -0.4993,  0.6213],\n",
       "          [-0.1646,  0.5039,  0.7068, -0.4993,  0.6213],\n",
       "          [-0.2087,  0.6483,  0.7068, -0.4993,  0.6213],\n",
       "          [ 0.1903,  0.7927,  0.7068, -0.4993,  0.6213],\n",
       "          [-0.0957,  0.9370,  0.7068, -0.4993,  0.6213],\n",
       "          [-0.0050,  1.0814,  0.7068, -0.4993,  0.6213],\n",
       "          [-0.2402,  1.2258,  0.7068, -0.4993,  0.6213],\n",
       "          [-0.3319,  1.3701,  0.7068, -0.4993,  0.6213],\n",
       "          [-0.7746,  1.5145,  0.7068, -0.4993,  0.6213]]]),\n",
       " tensor([-0.8889])]"
      ]
     },
     "execution_count": 60,
     "metadata": {},
     "output_type": "execute_result"
    }
   ],
   "source": [
    "next(iter(test_loader))"
   ]
  },
  {
   "cell_type": "code",
   "execution_count": 19,
   "metadata": {},
   "outputs": [
    {
     "name": "stdout",
     "output_type": "stream",
     "text": [
      "LSTM(\n",
      "  (lstm): LSTM(5, 128, num_layers=2, batch_first=True)\n",
      "  (fc): Linear(in_features=128, out_features=1, bias=True)\n",
      ")\n",
      "31\n",
      "Epoch [1/35], Step [15/31], Loss:     0.4377\n",
      "Epoch [1/35], Step [30/31], Loss:     0.7837\n",
      "Epoch [2/35], Step [15/31], Loss:     0.1921\n",
      "Epoch [2/35], Step [30/31], Loss:     0.2006\n",
      "Epoch [3/35], Step [15/31], Loss:     0.0752\n",
      "Epoch [3/35], Step [30/31], Loss:     0.1474\n",
      "Epoch [4/35], Step [15/31], Loss:     0.0594\n",
      "Epoch [4/35], Step [30/31], Loss:     0.1490\n",
      "Epoch [5/35], Step [15/31], Loss:     0.0566\n",
      "Epoch [5/35], Step [30/31], Loss:     0.1712\n",
      "Epoch [6/35], Step [15/31], Loss:     0.0549\n",
      "Epoch [6/35], Step [30/31], Loss:     0.1505\n",
      "Epoch [7/35], Step [15/31], Loss:     0.0508\n",
      "Epoch [7/35], Step [30/31], Loss:     0.1271\n",
      "Epoch [8/35], Step [15/31], Loss:     0.0462\n",
      "Epoch [8/35], Step [30/31], Loss:     0.1200\n",
      "Epoch [9/35], Step [15/31], Loss:     0.0428\n",
      "Epoch [9/35], Step [30/31], Loss:     0.1161\n",
      "Epoch [10/35], Step [15/31], Loss:     0.0400\n",
      "Epoch [10/35], Step [30/31], Loss:     0.1123\n",
      "Epoch [11/35], Step [15/31], Loss:     0.0377\n",
      "Epoch [11/35], Step [30/31], Loss:     0.1078\n",
      "Epoch [12/35], Step [15/31], Loss:     0.0358\n",
      "Epoch [12/35], Step [30/31], Loss:     0.1029\n",
      "Epoch [13/35], Step [15/31], Loss:     0.0340\n",
      "Epoch [13/35], Step [30/31], Loss:     0.0987\n",
      "Epoch [14/35], Step [15/31], Loss:     0.0324\n",
      "Epoch [14/35], Step [30/31], Loss:     0.0964\n",
      "Epoch [15/35], Step [15/31], Loss:     0.0313\n",
      "Epoch [15/35], Step [30/31], Loss:     0.0953\n",
      "Epoch [16/35], Step [15/31], Loss:     0.0308\n",
      "Epoch [16/35], Step [30/31], Loss:     0.0949\n",
      "Epoch [17/35], Step [15/31], Loss:     0.0317\n",
      "Epoch [17/35], Step [30/31], Loss:     0.0952\n",
      "Epoch [18/35], Step [15/31], Loss:     0.0343\n",
      "Epoch [18/35], Step [30/31], Loss:     0.0945\n",
      "Epoch [19/35], Step [15/31], Loss:     0.0345\n",
      "Epoch [19/35], Step [30/31], Loss:     0.0913\n",
      "Epoch [20/35], Step [15/31], Loss:     0.0336\n",
      "Epoch [20/35], Step [30/31], Loss:     0.0913\n",
      "Epoch [21/35], Step [15/31], Loss:     0.0328\n",
      "Epoch [21/35], Step [30/31], Loss:     0.0906\n",
      "Epoch [22/35], Step [15/31], Loss:     0.0320\n",
      "Epoch [22/35], Step [30/31], Loss:     0.0897\n",
      "Epoch [23/35], Step [15/31], Loss:     0.0313\n",
      "Epoch [23/35], Step [30/31], Loss:     0.0888\n",
      "Epoch [24/35], Step [15/31], Loss:     0.0309\n",
      "Epoch [24/35], Step [30/31], Loss:     0.0879\n",
      "Epoch [25/35], Step [15/31], Loss:     0.0304\n",
      "Epoch [25/35], Step [30/31], Loss:     0.0869\n",
      "Epoch [26/35], Step [15/31], Loss:     0.0302\n",
      "Epoch [26/35], Step [30/31], Loss:     0.0859\n",
      "Epoch [27/35], Step [15/31], Loss:     0.0296\n",
      "Epoch [27/35], Step [30/31], Loss:     0.0852\n",
      "Epoch [28/35], Step [15/31], Loss:     0.0296\n",
      "Epoch [28/35], Step [30/31], Loss:     0.0847\n",
      "Epoch [29/35], Step [15/31], Loss:     0.0290\n",
      "Epoch [29/35], Step [30/31], Loss:     0.0839\n",
      "Epoch [30/35], Step [15/31], Loss:     0.0294\n",
      "Epoch [30/35], Step [30/31], Loss:     0.0844\n",
      "Epoch [31/35], Step [15/31], Loss:     0.0287\n",
      "Epoch [31/35], Step [30/31], Loss:     0.0828\n",
      "Epoch [32/35], Step [15/31], Loss:     0.0294\n",
      "Epoch [32/35], Step [30/31], Loss:     0.0845\n",
      "Epoch [33/35], Step [15/31], Loss:     0.0286\n",
      "Epoch [33/35], Step [30/31], Loss:     0.0824\n",
      "Epoch [34/35], Step [15/31], Loss:     0.0294\n",
      "Epoch [34/35], Step [30/31], Loss:     0.0836\n",
      "Epoch [35/35], Step [15/31], Loss:     0.0284\n",
      "Epoch [35/35], Step [30/31], Loss:     0.0823\n"
     ]
    }
   ],
   "source": [
    "# Let's instantiate a model\n",
    "class LSTM(nn.Module):\n",
    "    def __init__(self, input_size, hidden_size, num_layers, num_classes):\n",
    "        super(LSTM, self).__init__() # this is for backward compatibility of Python 2, same as super().__init()\n",
    "        self.hidden_size = hidden_size # this is to set attribute of the instance\n",
    "        self.num_layers = num_layers\n",
    "        self.lstm = nn.LSTM(input_size, hidden_size, num_layers, batch_first=True) # in this order, so (28, 128, 2)\n",
    "                                                                                 # batch_first set number of batch as 1st dimension\n",
    "        # x -> (batch_size, seq, input_size) [the shape needed for the tensor]\n",
    "        self.fc = nn.Linear(hidden_size, num_classes)\n",
    "        \n",
    "    def forward(self, x):\n",
    "        h0 = torch.zeros(self.num_layers, x.size(0), self.hidden_size) # initiate zeros tensor with (num_layers, batch_size, hidden_size)\n",
    "        c0 = torch.zeros(self.num_layers, x.size(0), self.hidden_size) # initiate zeros tensor with (num_layers, batch_size, hidden_size)\n",
    "\n",
    "        out, _ = self.lstm(x, (h0, c0))\n",
    "        # output shape: batch_size, seq_length, hidden_size\n",
    "        # out (N, 28, 128)\n",
    "        out = out[:, -1, :]\n",
    "        # out (N, 128)\n",
    "        out = self.fc(out)\n",
    "        return out\n",
    "    \n",
    "model = LSTM(input_size, hidden_size, num_layers, num_classes)\n",
    "print(model)\n",
    "\n",
    "# let's set loss function and optimizer\n",
    "criterion = nn.MSELoss()\n",
    "optimizer = optim.Adam(model.parameters(), lr=learning_rate)\n",
    "\n",
    "# finally we can start to train\n",
    "n_total_steps = len(train_loader)\n",
    "print(n_total_steps)\n",
    "\n",
    "for epoch in range(epochs):\n",
    "    for i, (x, y) in enumerate(train_loader):          \n",
    "        # forward pass\n",
    "        outputs = model(x)\n",
    "        y = y.view(-1, 1)\n",
    "        loss = criterion(outputs, y)\n",
    "        \n",
    "        # backward pass\n",
    "        optimizer.zero_grad() # this is to clear the parameters, done before each backward pass\n",
    "        loss.backward()\n",
    "        optimizer.step()\n",
    "        \n",
    "        # print out the training performance\n",
    "        if (i+1) % 15 == 0:\n",
    "            print (f'Epoch [{epoch+1}/{epochs}], Step [{i+1}/{n_total_steps}], Loss: {loss.item():10.4f}')"
   ]
  },
  {
   "cell_type": "code",
   "execution_count": 53,
   "metadata": {},
   "outputs": [],
   "source": [
    "import sys\n",
    "# Let's evaluate our model\n",
    "model.eval()\n",
    "# Remember, we don't need to compute gradients as it is not required (and save some precious memory too!)\n",
    "# create the list of difference between prediction and test data\n",
    "p = np.empty_like(y_test.reshape(-1,1))\n",
    "\n",
    "with torch.no_grad():\n",
    "    for i, (x, y) in enumerate (test_loader):\n",
    "        p[i] = model.forward(x).numpy()\n",
    "\n",
    "ratio=[]\n",
    "diff=[]\n",
    "# print(p)\n",
    "for u in range(len(y_test)):\n",
    "    pr = p[u][0].item()\n",
    "    ratio.append((y_test[u]/pr)-1)\n",
    "    diff.append((abs(y_test[u]- pr)))\n"
   ]
  },
  {
   "cell_type": "code",
   "execution_count": 23,
   "metadata": {},
   "outputs": [
    {
     "name": "stdout",
     "output_type": "stream",
     "text": [
      "LSTM(\n",
      "  (lstm): LSTM(5, 128, num_layers=2, batch_first=True)\n",
      "  (fc): Linear(in_features=128, out_features=1, bias=True)\n",
      ")\n"
     ]
    }
   ],
   "source": [
    "print(model)"
   ]
  },
  {
   "cell_type": "code",
   "execution_count": 54,
   "metadata": {},
   "outputs": [
    {
     "data": {
      "image/png": "[encoded data removed]",
      "text/plain": [
       "<Figure size 432x288 with 1 Axes>"
      ]
     },
     "metadata": {
      "needs_background": "light"
     },
     "output_type": "display_data"
    }
   ],
   "source": [
    "# plot the prediction and the reality (for the test data)\n",
    "fig, axs = plt.subplots()\n",
    "axs.plot(p,color='red', label='prediction')\n",
    "axs.plot(y_test,color='blue', label='y_test')\n",
    "plt.legend(loc='upper left')\n",
    "plt.show()"
   ]
  },
  {
   "cell_type": "code",
   "execution_count": 57,
   "metadata": {},
   "outputs": [
    {
     "name": "stdout",
     "output_type": "stream",
     "text": [
      "0    7257\n",
      "1      10\n",
      "Name: anomaly27, dtype: int64\n"
     ]
    }
   ],
   "source": [
    "# select the most distant prediction/reality data points as anomalies\n",
    "diff = pd.Series(diff)\n",
    "number_of_outliers = int(outliers_fraction*len(diff))\n",
    "threshold = diff.nlargest(number_of_outliers).min()\n",
    "# data with anomaly label (test data part)\n",
    "test = (diff >= threshold).astype(int)\n",
    "# the training data part where we didn't predict anything (overfitting possible): no anomaly\n",
    "complement = pd.Series(0, index=np.arange(len(data_n)-testdatasize))\n",
    "# # add the data to the main\n",
    "df['anomaly27'] = complement.append(test, ignore_index='True')\n",
    "print(df['anomaly27'].value_counts())"
   ]
  },
  {
   "cell_type": "code",
   "execution_count": 58,
   "metadata": {},
   "outputs": [
    {
     "data": {
      "image/png": "[encoded data removed]",
      "text/plain": [
       "<Figure size 432x288 with 1 Axes>"
      ]
     },
     "metadata": {
      "needs_background": "light"
     },
     "output_type": "display_data"
    }
   ],
   "source": [
    "# visualisation of anomaly throughout time (viz 1)\n",
    "fig, ax = plt.subplots()\n",
    "\n",
    "a = df.loc[df['anomaly27'] == 1, ['time_epoch', 'value']] #anomaly\n",
    "\n",
    "ax.plot(df['time_epoch'], df['value'], color='blue')\n",
    "ax.scatter(a['time_epoch'],a['value'], color='red')\n",
    "plt.axis([1.370*1e7, 1.405*1e7, 15,30])\n",
    "plt.show()"
   ]
  },
  {
   "cell_type": "code",
   "execution_count": 59,
   "metadata": {},
   "outputs": [
    {
     "name": "stderr",
     "output_type": "stream",
     "text": [
      "No handles with labels found to put in legend.\n"
     ]
    },
    {
     "data": {
      "image/png": "[encoded data removed]",
      "text/plain": [
       "<Figure size 432x288 with 1 Axes>"
      ]
     },
     "metadata": {
      "needs_background": "light"
     },
     "output_type": "display_data"
    }
   ],
   "source": [
    "# visualisation of anomaly with temperature repartition (viz 2)\n",
    "a = df.loc[df['anomaly27'] == 0, 'value']\n",
    "b = df.loc[df['anomaly27'] == 1, 'value']\n",
    "\n",
    "fig, axs = plt.subplots()\n",
    "axs.hist([a,b], bins=32, stacked=True, color=['blue', 'red'])\n",
    "plt.legend()\n",
    "plt.show()"
   ]
  },
  {
   "cell_type": "markdown",
   "metadata": {},
   "source": [
    "### 2.8 Collective and sequential anomalies (Ordered)"
   ]
  },
  {
   "cell_type": "markdown",
   "metadata": {},
   "source": [
    "This class is most general and consider ordering as well as value combinations. We usually use combination of algorithm like cluster+markov model."
   ]
  },
  {
   "cell_type": "markdown",
   "metadata": {},
   "source": [
    "## <a name=\"reference\">Reference</a>:\n",
    "1. [Unsupervised Anomaly Detection](https://github.com/Vicam/Unsupervised_Anomaly_Detection)\n",
    "3. [Numenta Anomaly Benchmark (NAB)](https://www.kaggle.com/boltzmannbrain/nab)"
   ]
  }
 ],
 "metadata": {
  "kernelspec": {
   "display_name": "Python 3",
   "language": "python",
   "name": "python3"
  },
  "language_info": {
   "codemirror_mode": {
    "name": "ipython",
    "version": 3
   },
   "file_extension": ".py",
   "mimetype": "text/x-python",
   "name": "python",
   "nbconvert_exporter": "python",
   "pygments_lexer": "ipython3",
   "version": "3.8.5"
  }
 },
 "nbformat": 4,
 "nbformat_minor": 4
}