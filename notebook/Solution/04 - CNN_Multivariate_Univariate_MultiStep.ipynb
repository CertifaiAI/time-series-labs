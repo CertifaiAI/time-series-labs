{
 "cells": [
  {
   "cell_type": "markdown",
   "metadata": {
    "deletable": false,
    "editable": false
   },
   "source": [
    "> **Copyright &copy; 2020 CertifAI Sdn. Bhd.**<br>\n",
    " **Copyright &copy; 2021 CertifAI Sdn. Bhd.**<br>\n",
    " <br>\n",
    "This program and the accompanying materials are made available under the\n",
    "terms of the [Apache License, Version 2.0](https://www.apache.org/licenses/LICENSE-2.0). \\\n",
    "Unless required by applicable law or agreed to in writing, software\n",
    "distributed under the License is distributed on an \"AS IS\" BASIS, WITHOUT\n",
    "WARRANTIES OR CONDITIONS OF ANY KIND, either express or implied. See the\n",
    "License for the specific language governing permissions and limitations\n",
    "under the License. <br>\n",
    "<br>**SPDX-License-Identifier: Apache-2.0**> "
   ]
  },
  {
   "cell_type": "markdown",
   "metadata": {},
   "source": [
    "# Requirement\n",
    "You should complete the LSTM tutorial before starting the CNN tutorial. This is because most of the functions used will be based on `data_module.py` and `deep_learning_module.py`\n",
    "\n",
    "Please proceed to the LSTM notebook if you haven't complete it.<br>\n",
    "\n",
    "1. [04 - LSTM_Univariate_SingleStep](./04%20-%20LSTM_Univariate_SingleStep.ipynb)\n",
    "2. [04 - LSTM_Univariate_MultiStep.ipynb](./04%20-%20LSTM_Univariate_MultiStep.ipynb)\n",
    "3. [04 - LSTM_Multivariate_Univariate_SingleStep](./04%20-%20LSTM_Multivariate_Univariate_SingleStep.ipynb)<br>\n",
    "4. [04 - LSTM_Multivariate_Univariate_MultiStep](./04%20-%20LSTM_Multivariate_Univariate_MultiStep.ipynb)<br>"
   ]
  },
  {
   "cell_type": "markdown",
   "metadata": {},
   "source": [
    "## Multivariate Input, Univariate Output CNN, Multi-Step\n",
    "This tutorial is to demonstrate the process of building a CNN mdoel for Multivariate Input, Univariate Output for Multi-Step.<br>\n",
    "It consists of 2 major parts which are:<br>\n",
    "\n",
    "Part 1 - The Demonstration of Building CNN using Synthetic data \n",
    "Part 2 - Exercise of building CNN using COVID-19 Data. \n",
    "\n",
    "## What will we accomplish?\n",
    "First, we will show the step in building the CNN :\n",
    "\n",
    "Step 1. Data Preparation (Data Splitting,Data Sequencing,Data Standardization and Batching the Data) <br>\n",
    "Step 2. Model Configuration for CNN<br>\n",
    "Step 3. Train the model<br>\n",
    "Step 4. Validate the model using graph<br>\n",
    "Step 5. Evaluation Metrics such as MSE<br>\n",
    "Step 6. Plot the forecast result<br>\n",
    "\n",
    "Let's import the package needed"
   ]
  },
  {
   "cell_type": "code",
   "execution_count": 1,
   "metadata": {},
   "outputs": [],
   "source": [
    "# import packages needed\n",
    "import numpy as np\n",
    "import pandas as pd\n",
    "import matplotlib.pyplot as plt\n",
    "import torch\n",
    "import torch.nn as nn\n",
    "import torch.nn.functional as F\n",
    "from torch.utils.data import DataLoader, TensorDataset\n",
    "from sklearn.metrics import mean_squared_error\n",
    "from sklearn.preprocessing import StandardScaler , MinMaxScaler\n",
    "import math\n",
    "from torchsummaryX import summary\n",
    "\n",
    "# To auto load the customise module\n",
    "%load_ext autoreload\n",
    "%autoreload 2\n",
    "import deep_learning_module\n",
    "import data_module"
   ]
  },
  {
   "cell_type": "markdown",
   "metadata": {},
   "source": [
    "## Hyperparameter\n",
    "Define the hyperparameter that is needed to tune the model."
   ]
  },
  {
   "cell_type": "code",
   "execution_count": 2,
   "metadata": {},
   "outputs": [],
   "source": [
    "split_ratio = 0.70\n",
    "num_epochs = 200\n",
    "window_size = 5\n",
    "batch_size = 5\n",
    "n_step = 2\n",
    "learning_rate = 0.001"
   ]
  },
  {
   "cell_type": "markdown",
   "metadata": {},
   "source": [
    "# Step 1 : Data Preparation\n",
    "We create synthetic data to make sure the model is created correctly and has the ability to perform forecasting. <br>\n",
    "\n",
    "1. First, we will create a sequence of data with `np.array`.\n",
    "2. Then, we will assign a date to the sequence of data with `pd.date_range` and store it in a series format by using `pd.Series`."
   ]
  },
  {
   "cell_type": "code",
   "execution_count": 3,
   "metadata": {},
   "outputs": [],
   "source": [
    "#Synthetic Data\n",
    "in_seq1 = np.array([x for x in range(0, 300, 10)])\n",
    "in_seq2 = np.array([x for x in range(5, 305, 10)])\n",
    "out_seq = np.array([in_seq1[i] + in_seq2[i] for i in range(len(in_seq1))])\n",
    "\n",
    "\n",
    "# convert to [rows, columns] structure\n",
    "in_seq1 = in_seq1.reshape((len(in_seq1), 1))\n",
    "in_seq2 = in_seq2.reshape((len(in_seq2), 1))\n",
    "out_seq = out_seq.reshape((len(out_seq), 1))\n",
    "\n",
    "# horizontally stack columns\n",
    "dataset = np.hstack((in_seq1, in_seq2, out_seq))"
   ]
  },
  {
   "cell_type": "code",
   "execution_count": 4,
   "metadata": {},
   "outputs": [
    {
     "data": {
      "text/html": [
       "<div>\n",
       "<style scoped>\n",
       "    .dataframe tbody tr th:only-of-type {\n",
       "        vertical-align: middle;\n",
       "    }\n",
       "\n",
       "    .dataframe tbody tr th {\n",
       "        vertical-align: top;\n",
       "    }\n",
       "\n",
       "    .dataframe thead th {\n",
       "        text-align: right;\n",
       "    }\n",
       "</style>\n",
       "<table border=\"1\" class=\"dataframe\">\n",
       "  <thead>\n",
       "    <tr style=\"text-align: right;\">\n",
       "      <th></th>\n",
       "      <th>in_seq1</th>\n",
       "      <th>in_seq2</th>\n",
       "      <th>out_seq</th>\n",
       "    </tr>\n",
       "    <tr>\n",
       "      <th>Date</th>\n",
       "      <th></th>\n",
       "      <th></th>\n",
       "      <th></th>\n",
       "    </tr>\n",
       "  </thead>\n",
       "  <tbody>\n",
       "    <tr>\n",
       "      <th>2020-01-01</th>\n",
       "      <td>0</td>\n",
       "      <td>5</td>\n",
       "      <td>5</td>\n",
       "    </tr>\n",
       "    <tr>\n",
       "      <th>2020-01-02</th>\n",
       "      <td>10</td>\n",
       "      <td>15</td>\n",
       "      <td>25</td>\n",
       "    </tr>\n",
       "    <tr>\n",
       "      <th>2020-01-03</th>\n",
       "      <td>20</td>\n",
       "      <td>25</td>\n",
       "      <td>45</td>\n",
       "    </tr>\n",
       "    <tr>\n",
       "      <th>2020-01-04</th>\n",
       "      <td>30</td>\n",
       "      <td>35</td>\n",
       "      <td>65</td>\n",
       "    </tr>\n",
       "    <tr>\n",
       "      <th>2020-01-05</th>\n",
       "      <td>40</td>\n",
       "      <td>45</td>\n",
       "      <td>85</td>\n",
       "    </tr>\n",
       "  </tbody>\n",
       "</table>\n",
       "</div>"
      ],
      "text/plain": [
       "            in_seq1  in_seq2  out_seq\n",
       "Date                                 \n",
       "2020-01-01        0        5        5\n",
       "2020-01-02       10       15       25\n",
       "2020-01-03       20       25       45\n",
       "2020-01-04       30       35       65\n",
       "2020-01-05       40       45       85"
      ]
     },
     "execution_count": 4,
     "metadata": {},
     "output_type": "execute_result"
    }
   ],
   "source": [
    "dataset = pd.DataFrame(dataset,columns =[\"in_seq1\",\"in_seq2\",\"out_seq\"],\n",
    "                      index = pd.date_range(\"1/1/2020\",periods=len(dataset),freq='D'))\n",
    "dataset.index.name=\"Date\"\n",
    "dataset.head()"
   ]
  },
  {
   "cell_type": "markdown",
   "metadata": {},
   "source": [
    "## Data Visualization\n",
    "Data visualization is important for us to visualize the pattern of data such as trend and seasonality. As seen in the graph below, there is an increasing trend in data."
   ]
  },
  {
   "cell_type": "code",
   "execution_count": 5,
   "metadata": {},
   "outputs": [
    {
     "data": {
      "text/plain": [
       "Text(0.5, 1.0, 'Synthetic Data')"
      ]
     },
     "execution_count": 5,
     "metadata": {},
     "output_type": "execute_result"
    },
    {
     "data": {
      "image/png": "[encoded data removed]",
      "text/plain": [
       "<Figure size 432x288 with 1 Axes>"
      ]
     },
     "metadata": {
      "needs_background": "light"
     },
     "output_type": "display_data"
    }
   ],
   "source": [
    "dataset.plot()\n",
    "plt.title(\"Synthetic Data\")"
   ]
  },
  {
   "cell_type": "markdown",
   "metadata": {},
   "source": [
    "## Data Splitting\n",
    "In Deep Learning, we will split the data into training and test dataset. The training data is used to train the model whereas the test data is used to validate the performance of the model."
   ]
  },
  {
   "cell_type": "code",
   "execution_count": 6,
   "metadata": {},
   "outputs": [
    {
     "data": {
      "text/plain": [
       "21"
      ]
     },
     "execution_count": 6,
     "metadata": {},
     "output_type": "execute_result"
    }
   ],
   "source": [
    "# Calculate the split ratio \n",
    "split_data = round(len(dataset)*split_ratio)\n",
    "split_data"
   ]
  },
  {
   "cell_type": "code",
   "execution_count": 7,
   "metadata": {},
   "outputs": [
    {
     "name": "stdout",
     "output_type": "stream",
     "text": [
      "train_data_shape\n",
      "(21, 3)\n",
      "test_data_shape\n",
      "(9, 3)\n"
     ]
    }
   ],
   "source": [
    "# Split data by indexing \n",
    "train_data = dataset[:split_data]\n",
    "test_data = dataset[split_data:]\n",
    "train_time = dataset.index[:split_data]\n",
    "test_time = dataset.index[split_data:]\n",
    "print(\"train_data_shape\")\n",
    "print(train_data.shape)\n",
    "print(\"test_data_shape\")\n",
    "print(test_data.shape)"
   ]
  },
  {
   "cell_type": "markdown",
   "metadata": {},
   "source": [
    "## Data Standardization\n",
    "Standardize your numeric attributes to have 0 mean and unit variance."
   ]
  },
  {
   "cell_type": "code",
   "execution_count": 8,
   "metadata": {},
   "outputs": [],
   "source": [
    "# Build the standard scaler, Use to fit the train data and take the statistic of train data apply in test data\n",
    "scaler = StandardScaler().fit(train_data.values.reshape(-1,1))\n",
    "train_data_standard = scaler.transform(train_data.values.reshape(-1, 1))\n",
    "test_data_standard = scaler.transform(test_data.values.reshape(-1, 1))"
   ]
  },
  {
   "cell_type": "code",
   "execution_count": 9,
   "metadata": {},
   "outputs": [
    {
     "name": "stdout",
     "output_type": "stream",
     "text": [
      "train_data_standardized(21, 3)\n",
      "test_data_standardized(9, 3)\n"
     ]
    }
   ],
   "source": [
    "# Transform after scaling\n",
    "train_data_standard = train_data_standard.reshape(train_data.shape[0],train_data.shape[1])\n",
    "print(\"train_data_standardized\"+str(train_data_standard.shape))\n",
    "\n",
    "test_data_standard = test_data_standard.reshape(test_data.shape[0],test_data.shape[1])\n",
    "print(\"test_data_standardized\"+str(test_data_standard.shape))"
   ]
  },
  {
   "cell_type": "markdown",
   "metadata": {},
   "source": [
    "## Data Sequencing\n",
    "Sequencing the data by taking in the multivariate series into `x-feature` and `y-label`\n",
    "<img src = \"../../picture/multivariate univariate.png\"  width=\"300\" height  =\"300\" align=\"center\" />"
   ]
  },
  {
   "cell_type": "code",
   "execution_count": 10,
   "metadata": {},
   "outputs": [
    {
     "name": "stdout",
     "output_type": "stream",
     "text": [
      "trainX shape:(16, 5, 2) trainY shape:(16, 2)\n",
      "\n",
      "testX shape:(4, 5, 2) testY shape:(4, 2)\n"
     ]
    }
   ],
   "source": [
    "trainX, trainY = data_module.multivariate_univariate_multi_step(train_data_standard, window_size,n_step)\n",
    "testX, testY = data_module.multivariate_univariate_multi_step(test_data_standard, window_size,n_step)\n",
    "print(f\"trainX shape:{trainX.shape} trainY shape:{trainY.shape}\\n\")\n",
    "print(f\"testX shape:{testX.shape} testY shape:{testY.shape}\")"
   ]
  },
  {
   "cell_type": "code",
   "execution_count": 11,
   "metadata": {},
   "outputs": [
    {
     "name": "stdout",
     "output_type": "stream",
     "text": [
      "trainY shape:(16, 2, 1)\n",
      "testY shape:(4, 2, 1)\n"
     ]
    }
   ],
   "source": [
    "trainY = trainY.reshape(trainY.shape[0],n_step,1)\n",
    "testY = testY.reshape(testY.shape[0],n_step,1)\n",
    "print(f\"trainY shape:{trainY.shape}\")\n",
    "print(f\"testY shape:{testY.shape}\")"
   ]
  },
  {
   "cell_type": "markdown",
   "metadata": {},
   "source": [
    "## Data Transform\n",
    "Data needs to transformed from `NumPy` to `PyTorch` tensor before being fed into the model\n"
   ]
  },
  {
   "cell_type": "code",
   "execution_count": 12,
   "metadata": {},
   "outputs": [],
   "source": [
    "train_data_dict ,test_data_dict = data_module.key_assign(trainingX = trainX  , \n",
    "                       testingX = testX, \n",
    "                       trainingY = trainY, \n",
    "                       testingY = testY)\n",
    "\n",
    "train_data_dict ,test_data_dict = data_module.transform(train_data_dict ,test_data_dict)"
   ]
  },
  {
   "cell_type": "code",
   "execution_count": 13,
   "metadata": {},
   "outputs": [
    {
     "name": "stdout",
     "output_type": "stream",
     "text": [
      "train_data_x_feature shape : torch.Size([16, 5, 2])\n",
      "train_data_y_label shape : torch.Size([16, 2, 1])\n",
      "test_data_x_feature shape : torch.Size([4, 5, 2])\n",
      "test_data_y_label shape : torch.Size([4, 2, 1])\n"
     ]
    }
   ],
   "source": [
    "data_module.sanity_check(train_data_dict , test_data_dict)"
   ]
  },
  {
   "cell_type": "markdown",
   "metadata": {},
   "source": [
    "## Data Transpose \n",
    "You are required to transpose the x-feature data in such a way that : <br>\n",
    ">`(batch_size, number_of_features, sequence_length)`."
   ]
  },
  {
   "cell_type": "code",
   "execution_count": 14,
   "metadata": {},
   "outputs": [],
   "source": [
    "# Data Transpose to suit for CNN \n",
    "train_data_dict , test_data_dict= data_module.transpose(train_data_dict,test_data_dict)"
   ]
  },
  {
   "cell_type": "code",
   "execution_count": 15,
   "metadata": {},
   "outputs": [
    {
     "name": "stdout",
     "output_type": "stream",
     "text": [
      "train_data_x_feature shape : torch.Size([16, 2, 5])\n",
      "train_data_y_label shape : torch.Size([16, 2, 1])\n",
      "test_data_x_feature shape : torch.Size([4, 2, 5])\n",
      "test_data_y_label shape : torch.Size([4, 2, 1])\n"
     ]
    }
   ],
   "source": [
    "data_module.sanity_check(train_data_dict , test_data_dict)"
   ]
  },
  {
   "cell_type": "markdown",
   "metadata": {},
   "source": [
    "## Data Iterator\n",
    "Iterator is created to separate the data into several batches to fasten the training process"
   ]
  },
  {
   "cell_type": "code",
   "execution_count": 16,
   "metadata": {},
   "outputs": [],
   "source": [
    "train_iter , test_iter = data_module.iterator(train_data_dict ,test_data_dict,batch_size = batch_size)"
   ]
  },
  {
   "cell_type": "markdown",
   "metadata": {},
   "source": [
    "# Step 2 :  CNN Model Configuration\n",
    "You may choose to use the CNN configuration that have been saved in the `deep_learning_module.py` or code it by yourself."
   ]
  },
  {
   "cell_type": "code",
   "execution_count": 17,
   "metadata": {},
   "outputs": [],
   "source": [
    "class CNN(nn.Module):\n",
    "\n",
    "    def __init__(self,n_feature,n_step):\n",
    "        super(CNN, self).__init__()\n",
    "        \n",
    "        self.n_feature = n_feature\n",
    "        self.n_step = n_step\n",
    "\n",
    "        # Conv1d in_channels is base on num time series\n",
    "        # Input:(N,C,Lin) Output : (N,C,Lout)\n",
    "        self.conv1 = nn.Conv1d(in_channels = n_feature, out_channels = 30, kernel_size = 2)\n",
    "        \n",
    "        # For example Input:(N,C,Lin) Output : (N,C,Lout)\n",
    "        self.poo1 = nn.MaxPool1d(kernel_size=2)\n",
    "        \n",
    "        self.conv2 = nn.Conv1d(in_channels = 30, out_channels = 20, kernel_size = 2)\n",
    "        \n",
    "        # AdaptiveMaxPool1d use to make sure it always will output  = 1 ,to make sure return the correct batch size \n",
    "        self.pool2 = nn.AdaptiveMaxPool1d(1)\n",
    "        self.fc1 = nn.Linear(20, 10)\n",
    "        self.fc2 = nn.Linear(10,n_step)\n",
    "\n",
    "    def forward(self, x):\n",
    "        x = F.relu(self.conv1(x))\n",
    "        x = self.poo1(x)\n",
    "        x = F.relu(self.conv2(x))\n",
    "        x = self.pool2(x)\n",
    "        x = x.view(-1,20)\n",
    "        x = F.relu(self.fc1(x))\n",
    "        x = self.fc2(x)\n",
    "\n",
    "        return x"
   ]
  },
  {
   "cell_type": "markdown",
   "metadata": {},
   "source": [
    "## Input Model\n",
    "The number of features and number of steps fed are fed as attributes into the model. The other attributes such as `kernel_size` , `in_channels` and `out_channels` for each convolution layer need to configured in the network configuration by the practitioner."
   ]
  },
  {
   "cell_type": "code",
   "execution_count": 18,
   "metadata": {},
   "outputs": [],
   "source": [
    "# seed\n",
    "torch.manual_seed(123)\n",
    "### BEGIN SOLUTION\n",
    "n_feature = train_data_dict['train_data_x_feature'].shape[1]\n",
    "\n",
    "# Input the attribute need by the model \n",
    "model = CNN(n_feature = n_feature,n_step = n_step )\n",
    "\n",
    "# Define the optimizer (Here we use SGD as our optimizer)\n",
    "optimizer = torch.optim.Adam(model.parameters(), lr=learning_rate)\n",
    "\n",
    "# Define the loss function (Here we use MSE as the loss function)\n",
    "loss_fn = nn.MSELoss()\n",
    "\n",
    "### END SOLUTION"
   ]
  },
  {
   "cell_type": "code",
   "execution_count": 19,
   "metadata": {},
   "outputs": [
    {
     "name": "stdout",
     "output_type": "stream",
     "text": [
      "====================================================\n",
      "        Kernel Shape Output Shape Params Mult-Adds\n",
      "Layer                                             \n",
      "0_conv1   [2, 30, 2]   [5, 30, 4]  150.0     480.0\n",
      "1_poo1             -   [5, 30, 2]      -         -\n",
      "2_conv2  [30, 20, 2]   [5, 20, 1]  1.22k      1.2k\n",
      "3_pool2            -   [5, 20, 1]      -         -\n",
      "4_fc1       [20, 10]      [5, 10]  210.0     200.0\n",
      "5_fc2        [10, 2]       [5, 2]   22.0      20.0\n",
      "----------------------------------------------------\n",
      "                      Totals\n",
      "Total params          1.602k\n",
      "Trainable params      1.602k\n",
      "Non-trainable params     0.0\n",
      "Mult-Adds               1.9k\n",
      "====================================================\n",
      "        Kernel Shape Output Shape  Params  Mult-Adds\n",
      "Layer                                               \n",
      "0_conv1   [2, 30, 2]   [5, 30, 4]   150.0      480.0\n",
      "1_poo1             -   [5, 30, 2]     NaN        NaN\n",
      "2_conv2  [30, 20, 2]   [5, 20, 1]  1220.0     1200.0\n",
      "3_pool2            -   [5, 20, 1]     NaN        NaN\n",
      "4_fc1       [20, 10]      [5, 10]   210.0      200.0\n",
      "5_fc2        [10, 2]       [5, 2]    22.0       20.0\n"
     ]
    }
   ],
   "source": [
    "seq_length = train_data_dict['train_data_x_feature'].shape[2]\n",
    "inputs = torch.zeros((batch_size,n_feature ,seq_length),dtype=torch.float) # batch size ,input_dim ,seq_length\n",
    "print(summary(model,inputs))"
   ]
  },
  {
   "cell_type": "code",
   "execution_count": 20,
   "metadata": {},
   "outputs": [
    {
     "data": {
      "text/plain": [
       "CNN(\n",
       "  (conv1): Conv1d(2, 30, kernel_size=(2,), stride=(1,))\n",
       "  (poo1): MaxPool1d(kernel_size=2, stride=2, padding=0, dilation=1, ceil_mode=False)\n",
       "  (conv2): Conv1d(30, 20, kernel_size=(2,), stride=(1,))\n",
       "  (pool2): AdaptiveMaxPool1d(output_size=1)\n",
       "  (fc1): Linear(in_features=20, out_features=10, bias=True)\n",
       "  (fc2): Linear(in_features=10, out_features=2, bias=True)\n",
       ")"
      ]
     },
     "execution_count": 20,
     "metadata": {},
     "output_type": "execute_result"
    }
   ],
   "source": [
    "# seed\n",
    "torch.manual_seed(123)\n",
    "\n",
    "#  Xavier Weight Initialize \n",
    "def weights_init(m):\n",
    "    if isinstance(m, nn.Conv1d):\n",
    "        nn.init.xavier_uniform_(m.weight.data)\n",
    "        \n",
    "model.apply(weights_init)"
   ]
  },
  {
   "cell_type": "markdown",
   "metadata": {},
   "source": [
    "# Step 3 : Training"
   ]
  },
  {
   "cell_type": "code",
   "execution_count": 21,
   "metadata": {},
   "outputs": [],
   "source": [
    "# Start Training\n",
    "# seed\n",
    "torch.manual_seed(123)\n",
    "# Start Training\n",
    "train_loss, val_loss = deep_learning_module.training(num_epochs, train_iter, test_iter, optimizer, loss_fn, model)"
   ]
  },
  {
   "cell_type": "markdown",
   "metadata": {},
   "source": [
    "# Step 4 : Validation \n",
    "A learning curve is plotted to define how well the data fits in the model "
   ]
  },
  {
   "cell_type": "code",
   "execution_count": 22,
   "metadata": {},
   "outputs": [
    {
     "data": {
      "image/png": "[encoded data removed]",
      "text/plain": [
       "<Figure size 720x432 with 1 Axes>"
      ]
     },
     "metadata": {
      "needs_background": "light"
     },
     "output_type": "display_data"
    },
    {
     "name": "stdout",
     "output_type": "stream",
     "text": [
      "Epoch : 0 , training loss : 2.4388997107744217 , validation loss : 18.390308380126953\n",
      "Epoch : 1 , training loss : 2.398174216039479 , validation loss : 18.20909881591797\n",
      "Epoch : 2 , training loss : 2.3569496581330895 , validation loss : 18.013456344604492\n",
      "Epoch : 3 , training loss : 2.313496005255729 , validation loss : 17.802152633666992\n",
      "Epoch : 4 , training loss : 2.2679402204230428 , validation loss : 17.574291229248047\n",
      "Epoch : 5 , training loss : 2.220036224462092 , validation loss : 17.332033157348633\n",
      "Epoch : 6 , training loss : 2.1718964665196836 , validation loss : 17.10694694519043\n",
      "Epoch : 7 , training loss : 2.122897682711482 , validation loss : 16.869060516357422\n",
      "Epoch : 8 , training loss : 2.0707413707859814 , validation loss : 16.603933334350586\n",
      "Epoch : 9 , training loss : 2.014545224606991 , validation loss : 16.307064056396484\n",
      "Epoch : 10 , training loss : 1.9542933953925967 , validation loss : 15.953398704528809\n",
      "Epoch : 11 , training loss : 1.8898042989894748 , validation loss : 15.544201850891113\n",
      "Epoch : 12 , training loss : 1.8208768302574754 , validation loss : 15.08773422241211\n",
      "Epoch : 13 , training loss : 1.7474069613963366 , validation loss : 14.57371711730957\n",
      "Epoch : 14 , training loss : 1.6693614684045315 , validation loss : 13.992683410644531\n",
      "Epoch : 15 , training loss : 1.5866739433258772 , validation loss : 13.359766006469727\n",
      "Epoch : 16 , training loss : 1.4996288605034351 , validation loss : 12.671867370605469\n",
      "Epoch : 17 , training loss : 1.408699014224112 , validation loss : 11.928376197814941\n",
      "Epoch : 18 , training loss : 1.3143987115472555 , validation loss : 11.13116455078125\n",
      "Epoch : 19 , training loss : 1.217460222542286 , validation loss : 10.28146743774414\n",
      "Epoch : 20 , training loss : 1.1188424117863178 , validation loss : 9.376154899597168\n",
      "Epoch : 21 , training loss : 1.0192028693854809 , validation loss : 8.43005084991455\n",
      "Epoch : 22 , training loss : 0.9198390040546656 , validation loss : 7.459982872009277\n",
      "Epoch : 23 , training loss : 0.8220987692475319 , validation loss : 6.486851692199707\n",
      "Epoch : 24 , training loss : 0.7272452795878053 , validation loss : 5.533159255981445\n",
      "Epoch : 25 , training loss : 0.6372573748230934 , validation loss : 4.619381427764893\n",
      "Epoch : 26 , training loss : 0.5528320092707872 , validation loss : 3.771543025970459\n",
      "Epoch : 27 , training loss : 0.4749358268454671 , validation loss : 3.0112051963806152\n",
      "Epoch : 28 , training loss : 0.40445640962570906 , validation loss : 2.3565216064453125\n",
      "Epoch : 29 , training loss : 0.3417237186804414 , validation loss : 1.8128409385681152\n",
      "Epoch : 30 , training loss : 0.2866873098537326 , validation loss : 1.3754096031188965\n",
      "Epoch : 31 , training loss : 0.23833070416003466 , validation loss : 1.033616065979004\n",
      "Epoch : 32 , training loss : 0.19584369589574635 , validation loss : 0.7712444067001343\n",
      "Epoch : 33 , training loss : 0.15874438337050378 , validation loss : 0.5717143416404724\n",
      "Epoch : 34 , training loss : 0.12697017029859126 , validation loss : 0.420891672372818\n",
      "Epoch : 35 , training loss : 0.10112967598251998 , validation loss : 0.3076028525829315\n",
      "Epoch : 36 , training loss : 0.08097741333767772 , validation loss : 0.22414368391036987\n",
      "Epoch : 37 , training loss : 0.06650090252514929 , validation loss : 0.1647455096244812\n",
      "Epoch : 38 , training loss : 0.055965070496313274 , validation loss : 0.12493105232715607\n",
      "Epoch : 39 , training loss : 0.04847890022210777 , validation loss : 0.10053861141204834\n",
      "Epoch : 40 , training loss : 0.043150097131729126 , validation loss : 0.08771882951259613\n",
      "Epoch : 41 , training loss : 0.039279285236261785 , validation loss : 0.0825776606798172\n",
      "Epoch : 42 , training loss : 0.03636996416025795 , validation loss : 0.08166301250457764\n",
      "Epoch : 43 , training loss : 0.034019912069197744 , validation loss : 0.08230863511562347\n",
      "Epoch : 44 , training loss : 0.03197106427978724 , validation loss : 0.08273845165967941\n",
      "Epoch : 45 , training loss : 0.02997356455307454 , validation loss : 0.0820225179195404\n",
      "Epoch : 46 , training loss : 0.028020921017741784 , validation loss : 0.07984651625156403\n",
      "Epoch : 47 , training loss : 0.026187915093032643 , validation loss : 0.07633264362812042\n",
      "Epoch : 48 , training loss : 0.02445961492776405 , validation loss : 0.07175810635089874\n",
      "Epoch : 49 , training loss : 0.022822052444098517 , validation loss : 0.06644539535045624\n",
      "Epoch : 50 , training loss : 0.021287895884597674 , validation loss : 0.06078272685408592\n",
      "Epoch : 51 , training loss : 0.01984995794191491 , validation loss : 0.0551048181951046\n",
      "Epoch : 52 , training loss : 0.018498333141906187 , validation loss : 0.04965602606534958\n",
      "Epoch : 53 , training loss : 0.01725033081311267 , validation loss : 0.04465363547205925\n",
      "Epoch : 54 , training loss : 0.016077666776254773 , validation loss : 0.040159404277801514\n",
      "Epoch : 55 , training loss : 0.014973850105889142 , validation loss : 0.036222245544195175\n",
      "Epoch : 56 , training loss : 0.013952473091194406 , validation loss : 0.032767340540885925\n",
      "Epoch : 57 , training loss : 0.012975782970897853 , validation loss : 0.02973153628408909\n",
      "Epoch : 58 , training loss : 0.012042261681926902 , validation loss : 0.027046630159020424\n",
      "Epoch : 59 , training loss : 0.011141944363771472 , validation loss : 0.024628154933452606\n",
      "Epoch : 60 , training loss : 0.010280879563651979 , validation loss : 0.02242382802069187\n",
      "Epoch : 61 , training loss : 0.009464295748330187 , validation loss : 0.020406579598784447\n",
      "Epoch : 62 , training loss : 0.008698830919456668 , validation loss : 0.018552852794528008\n",
      "Epoch : 63 , training loss : 0.007989862708200235 , validation loss : 0.01683988608419895\n",
      "Epoch : 64 , training loss : 0.007330537584493868 , validation loss : 0.015282122418284416\n",
      "Epoch : 65 , training loss : 0.00673769973218441 , validation loss : 0.0138918561860919\n",
      "Epoch : 66 , training loss : 0.00617863026127452 , validation loss : 0.012644749134778976\n",
      "Epoch : 67 , training loss : 0.005653612424794119 , validation loss : 0.011500654742121696\n",
      "Epoch : 68 , training loss : 0.005174683694349369 , validation loss : 0.010466796346008778\n",
      "Epoch : 69 , training loss : 0.004735181672003819 , validation loss : 0.009537704288959503\n",
      "Epoch : 70 , training loss : 0.004334291290433612 , validation loss : 0.008703847415745258\n",
      "Epoch : 71 , training loss : 0.00396338633436244 , validation loss : 0.007946647703647614\n",
      "Epoch : 72 , training loss : 0.003620075818616897 , validation loss : 0.007256967946887016\n",
      "Epoch : 73 , training loss : 0.0033294058302999474 , validation loss : 0.00664884876459837\n",
      "Epoch : 74 , training loss : 0.0030714322783751413 , validation loss : 0.006125705316662788\n",
      "Epoch : 75 , training loss : 0.002840773380739847 , validation loss : 0.005682748276740313\n",
      "Epoch : 76 , training loss : 0.002628495105454931 , validation loss : 0.00531469751149416\n",
      "Epoch : 77 , training loss : 0.0024336353981198044 , validation loss : 0.005017745308578014\n",
      "Epoch : 78 , training loss : 0.002255655197586748 , validation loss : 0.004778696224093437\n",
      "Epoch : 79 , training loss : 0.0020944182579114567 , validation loss : 0.004588757641613483\n",
      "Epoch : 80 , training loss : 0.0019470422448648605 , validation loss : 0.004435903392732143\n",
      "Epoch : 81 , training loss : 0.0018122279179806355 , validation loss : 0.004311844706535339\n",
      "Epoch : 82 , training loss : 0.0016901187473195023 , validation loss : 0.004209740087389946\n",
      "Epoch : 83 , training loss : 0.001583208064403152 , validation loss : 0.004129456821829081\n",
      "Epoch : 84 , training loss : 0.0014899380703354836 , validation loss : 0.004070266615599394\n",
      "Epoch : 85 , training loss : 0.0014058628839848097 , validation loss : 0.0040317196398973465\n",
      "Epoch : 86 , training loss : 0.0013265529478303506 , validation loss : 0.004012961871922016\n",
      "Epoch : 87 , training loss : 0.001253468851245998 , validation loss : 0.0040130289271473885\n",
      "Epoch : 88 , training loss : 0.0011867808998431428 , validation loss : 0.004027921240776777\n",
      "Epoch : 89 , training loss : 0.0011232845836275374 , validation loss : 0.004056114703416824\n",
      "Epoch : 90 , training loss : 0.0010659427261998644 , validation loss : 0.004089519381523132\n",
      "Epoch : 91 , training loss : 0.0010111572428286308 , validation loss : 0.004126889631152153\n",
      "Epoch : 92 , training loss : 0.0009590816434865701 , validation loss : 0.0041742329485714436\n",
      "Epoch : 93 , training loss : 0.0009109122493100585 , validation loss : 0.004228582605719566\n",
      "Epoch : 94 , training loss : 0.000869129755301401 , validation loss : 0.0042770495638251305\n",
      "Epoch : 95 , training loss : 0.0008273523362731794 , validation loss : 0.004320773296058178\n",
      "Epoch : 96 , training loss : 0.000790312011304195 , validation loss : 0.0043714321218431\n",
      "Epoch : 97 , training loss : 0.0007549139436378027 , validation loss : 0.004426381550729275\n",
      "Epoch : 98 , training loss : 0.000721207267815771 , validation loss : 0.004482852760702372\n",
      "Epoch : 99 , training loss : 0.0006913184192853805 , validation loss : 0.004530891310423613\n",
      "Epoch : 100 , training loss : 0.0006633661751038744 , validation loss : 0.004571611527353525\n",
      "Epoch : 101 , training loss : 0.0006368112890413613 , validation loss : 0.004609736613929272\n",
      "Epoch : 102 , training loss : 0.0006122700783635082 , validation loss : 0.0046522836200892925\n",
      "Epoch : 103 , training loss : 0.0005885031014258857 , validation loss : 0.00469647441059351\n",
      "Epoch : 104 , training loss : 0.0005664377049470204 , validation loss : 0.004730681888759136\n",
      "Epoch : 105 , training loss : 0.000546011609458219 , validation loss : 0.004754485562443733\n",
      "Epoch : 106 , training loss : 0.0005265768672870763 , validation loss : 0.00477947760373354\n",
      "Epoch : 107 , training loss : 0.0005080990795249818 , validation loss : 0.004804885946214199\n",
      "Epoch : 108 , training loss : 0.0004900373342024977 , validation loss : 0.004817585460841656\n",
      "Epoch : 109 , training loss : 0.000470872680125467 , validation loss : 0.004825827665627003\n",
      "Epoch : 110 , training loss : 0.000452756081813277 , validation loss : 0.004837995395064354\n",
      "Epoch : 111 , training loss : 0.000434804546785017 , validation loss : 0.004841578658670187\n",
      "Epoch : 112 , training loss : 0.0004179096354164358 , validation loss : 0.00484137237071991\n",
      "Epoch : 113 , training loss : 0.00040173395836973214 , validation loss : 0.004845873918384314\n",
      "Epoch : 114 , training loss : 0.00038449050043709576 , validation loss : 0.004841447342187166\n",
      "Epoch : 115 , training loss : 0.0003677854397210467 , validation loss : 0.004829369951039553\n",
      "Epoch : 116 , training loss : 0.00035202016624680255 , validation loss : 0.004813638050109148\n",
      "Epoch : 117 , training loss : 0.00033582179003133206 , validation loss : 0.00479961046949029\n",
      "Epoch : 118 , training loss : 0.00031975280444385135 , validation loss : 0.004775368142873049\n",
      "Epoch : 119 , training loss : 0.00030427069032157306 , validation loss : 0.004744055215269327\n",
      "Epoch : 120 , training loss : 0.000287191473034909 , validation loss : 0.004706620704382658\n",
      "Epoch : 121 , training loss : 0.00027174744218427804 , validation loss : 0.00465338584035635\n",
      "Epoch : 122 , training loss : 0.00026224480598102673 , validation loss : 0.0045518712140619755\n",
      "Epoch : 123 , training loss : 0.00025653944658188266 , validation loss : 0.004409763030707836\n",
      "Epoch : 124 , training loss : 0.00025363820259372005 , validation loss : 0.004266193136572838\n",
      "Epoch : 125 , training loss : 0.00025271436243201606 , validation loss : 0.0041671195067465305\n",
      "Epoch : 126 , training loss : 0.00025150442343147006 , validation loss : 0.004118415527045727\n",
      "Epoch : 127 , training loss : 0.0002487721114903252 , validation loss : 0.004118429496884346\n",
      "Epoch : 128 , training loss : 0.000244432742420031 , validation loss : 0.004161749966442585\n",
      "Epoch : 129 , training loss : 0.00023897563778518816 , validation loss : 0.0042131622321903706\n",
      "Epoch : 130 , training loss : 0.00023366863388218917 , validation loss : 0.004258331842720509\n",
      "Epoch : 131 , training loss : 0.0002289176622980449 , validation loss : 0.004287543706595898\n",
      "Epoch : 132 , training loss : 0.00022503313698507554 , validation loss : 0.004300378728657961\n",
      "Epoch : 133 , training loss : 0.0002217253991148027 , validation loss : 0.004299512133002281\n",
      "Epoch : 134 , training loss : 0.00021885893102080445 , validation loss : 0.004295542370527983\n",
      "Epoch : 135 , training loss : 0.00021621823930217943 , validation loss : 0.004290302284061909\n",
      "Epoch : 136 , training loss : 0.0002134296796612034 , validation loss : 0.004292156547307968\n",
      "Epoch : 137 , training loss : 0.00021037464648543391 , validation loss : 0.004298677667975426\n",
      "Epoch : 138 , training loss : 0.00020730217420350527 , validation loss : 0.004314952529966831\n",
      "Epoch : 139 , training loss : 0.00020406676958373282 , validation loss : 0.004324155393987894\n",
      "Epoch : 140 , training loss : 0.00020088841779397626 , validation loss : 0.004331458359956741\n",
      "Epoch : 141 , training loss : 0.00019794003583228914 , validation loss : 0.004337623715400696\n",
      "Epoch : 142 , training loss : 0.0001951433848716988 , validation loss : 0.004337639082223177\n",
      "Epoch : 143 , training loss : 0.0001924111556945718 , validation loss : 0.004333560820668936\n",
      "Epoch : 144 , training loss : 0.00018975459488501656 , validation loss : 0.004330156836658716\n",
      "Epoch : 145 , training loss : 0.0001871547649443528 , validation loss : 0.004327581729739904\n",
      "Epoch : 146 , training loss : 0.00018457931832926988 , validation loss : 0.00433256383985281\n",
      "Epoch : 147 , training loss : 0.00018204987577519205 , validation loss : 0.0043291025795042515\n",
      "Epoch : 148 , training loss : 0.00017930707986124617 , validation loss : 0.004323512315750122\n",
      "Epoch : 149 , training loss : 0.00017671217869974498 , validation loss : 0.00431843101978302\n",
      "Epoch : 150 , training loss : 0.0001743440468544577 , validation loss : 0.004313238896429539\n",
      "Epoch : 151 , training loss : 0.00017193167400364473 , validation loss : 0.004308372735977173\n",
      "Epoch : 152 , training loss : 0.00016951352108662832 , validation loss : 0.004302220419049263\n",
      "Epoch : 153 , training loss : 0.00016712660817574942 , validation loss : 0.004295573569834232\n",
      "Epoch : 154 , training loss : 0.00016485202809235489 , validation loss : 0.004296988248825073\n",
      "Epoch : 155 , training loss : 0.0001624838491807168 , validation loss : 0.004290192853659391\n",
      "Epoch : 156 , training loss : 0.0001602640750206774 , validation loss : 0.004285512957721949\n",
      "Epoch : 157 , training loss : 0.00015805072439434298 , validation loss : 0.004278924316167831\n",
      "Epoch : 158 , training loss : 0.0001558391204525833 , validation loss : 0.004269292112439871\n",
      "Epoch : 159 , training loss : 0.00015369158018074813 , validation loss : 0.0042581697925925255\n",
      "Epoch : 160 , training loss : 0.0001516633051323879 , validation loss : 0.004251205362379551\n",
      "Epoch : 161 , training loss : 0.00014955157917029283 , validation loss : 0.004243070259690285\n",
      "Epoch : 162 , training loss : 0.00014746931037734612 , validation loss : 0.004234345629811287\n",
      "Epoch : 163 , training loss : 0.00014553692312802013 , validation loss : 0.004233323037624359\n",
      "Epoch : 164 , training loss : 0.0001435637925624178 , validation loss : 0.004224200267344713\n",
      "Epoch : 165 , training loss : 0.00014146948092275125 , validation loss : 0.004211242310702801\n",
      "Epoch : 166 , training loss : 0.00013965576499685994 , validation loss : 0.004200543276965618\n",
      "Epoch : 167 , training loss : 0.00013791024980491784 , validation loss : 0.004197716247290373\n",
      "Epoch : 168 , training loss : 0.00013602339959106757 , validation loss : 0.004191608168184757\n",
      "Epoch : 169 , training loss : 0.0001341904503533442 , validation loss : 0.004183150362223387\n",
      "Epoch : 170 , training loss : 0.00013242708132565895 , validation loss : 0.004174661822617054\n",
      "Epoch : 171 , training loss : 0.00013066573205833265 , validation loss : 0.004165709018707275\n",
      "Epoch : 172 , training loss : 0.00012886783974863647 , validation loss : 0.004154561087489128\n",
      "Epoch : 173 , training loss : 0.00012718751497686753 , validation loss : 0.004144864622503519\n",
      "Epoch : 174 , training loss : 0.00012554628403904644 , validation loss : 0.004132472909986973\n",
      "Epoch : 175 , training loss : 0.0001238924204471914 , validation loss : 0.004121124744415283\n",
      "Epoch : 176 , training loss : 0.00012228792149926448 , validation loss : 0.004111184738576412\n",
      "Epoch : 177 , training loss : 0.00012082584078143555 , validation loss : 0.0041116271167993546\n",
      "Epoch : 178 , training loss : 0.00011930835262319306 , validation loss : 0.004104100167751312\n",
      "Epoch : 179 , training loss : 0.00011761865550852235 , validation loss : 0.00409061461687088\n",
      "Epoch : 180 , training loss : 0.00011616316248819203 , validation loss : 0.004081227350980043\n",
      "Epoch : 181 , training loss : 0.00011474292125512875 , validation loss : 0.004070628900080919\n",
      "Epoch : 182 , training loss : 0.00011333589918649523 , validation loss : 0.004060155246406794\n",
      "Epoch : 183 , training loss : 0.00011191353871708998 , validation loss : 0.00405068090185523\n",
      "Epoch : 184 , training loss : 0.00011057629069455288 , validation loss : 0.0040441108867526054\n",
      "Epoch : 185 , training loss : 0.00010916343615008373 , validation loss : 0.004038834944367409\n",
      "Epoch : 186 , training loss : 0.00010775409180041606 , validation loss : 0.004027688875794411\n",
      "Epoch : 187 , training loss : 0.00010666525975011609 , validation loss : 0.004023670684546232\n",
      "Epoch : 188 , training loss : 0.00010520583623474522 , validation loss : 0.004018022213131189\n",
      "Epoch : 189 , training loss : 0.00010392204296749696 , validation loss : 0.004004755523055792\n",
      "Epoch : 190 , training loss : 0.00010269674885421409 , validation loss : 0.003997225314378738\n",
      "Epoch : 191 , training loss : 0.00010152678407848725 , validation loss : 0.003989402204751968\n",
      "Epoch : 192 , training loss : 0.0001003266329462349 , validation loss : 0.003975837491452694\n",
      "Epoch : 193 , training loss : 9.915481473399268e-05 , validation loss : 0.003963346593081951\n",
      "Epoch : 194 , training loss : 9.811573170281918e-05 , validation loss : 0.003954264335334301\n",
      "Epoch : 195 , training loss : 9.695534754428081e-05 , validation loss : 0.003946059849113226\n",
      "Epoch : 196 , training loss : 9.582609754943405e-05 , validation loss : 0.003938453271985054\n",
      "Epoch : 197 , training loss : 9.471522025705781e-05 , validation loss : 0.003929679747670889\n",
      "Epoch : 198 , training loss : 9.368298697154387e-05 , validation loss : 0.003922826144844294\n",
      "Epoch : 199 , training loss : 9.265955213777488e-05 , validation loss : 0.003921841271221638\n"
     ]
    }
   ],
   "source": [
    "data_module.learning_curve(num_epochs = num_epochs , train_loss = train_loss , val_loss = val_loss )"
   ]
  },
  {
   "cell_type": "markdown",
   "metadata": {},
   "source": [
    "# Step 5 : Evaluation\n",
    "This section is to inference the model by feeding in testing data, determining the output forecast value and calculatinh the RMSE.\n",
    "\n",
    "It consists of 4 sections :\n",
    "\n",
    "Section 1 : Feed in the train and test data to the model <br>\n",
    "Section 2 : Reshape both to the original data dimension <br> \n",
    "Section 3 : Invert the scaling back to the original data value <br>\n",
    "Section 4 : Calculate the RMSE of train and test dataata"
   ]
  },
  {
   "cell_type": "code",
   "execution_count": 23,
   "metadata": {},
   "outputs": [],
   "source": [
    "# Section 1 : make predictions\n",
    "with torch.no_grad():\n",
    "    y_train_prediction = model(train_data_dict['train_data_x_feature'])\n",
    "    y_test_prediction = model(test_data_dict['test_data_x_feature'])"
   ]
  },
  {
   "cell_type": "code",
   "execution_count": 24,
   "metadata": {},
   "outputs": [],
   "source": [
    "# Assign evaluation key\n",
    "\n",
    "prediction , output = data_module.key_assign_evaluation(y_train_prediction,\n",
    "                                                        y_test_prediction,\n",
    "                                                        train_data_dict,\n",
    "                                                        test_data_dict)\n",
    "# Section 2 : Reshape to original data\n",
    "# Squeeze the output dimension\n",
    "output_data = data_module.squeeze_dimension(output)"
   ]
  },
  {
   "cell_type": "code",
   "execution_count": 25,
   "metadata": {},
   "outputs": [
    {
     "name": "stdout",
     "output_type": "stream",
     "text": [
      "train_data_output shape : torch.Size([16, 2])\n",
      "test_data_output shape : torch.Size([4, 2])\n"
     ]
    }
   ],
   "source": [
    "data_module.sanity_check(data_1 = output_data,data_2 = {})"
   ]
  },
  {
   "cell_type": "code",
   "execution_count": 26,
   "metadata": {},
   "outputs": [],
   "source": [
    "# Section 3 : Invert the scaling back to the original data value\n",
    "prediction = data_module.inverse_scaler(prediction,scaler)\n",
    "output_data  = data_module.inverse_scaler(output_data ,scaler)"
   ]
  },
  {
   "cell_type": "code",
   "execution_count": 27,
   "metadata": {},
   "outputs": [
    {
     "name": "stdout",
     "output_type": "stream",
     "text": [
      "Test Data\t\t\tForecast\n",
      "[504.99997 525.     ]\t\t[498.11368 523.5175 ]\n",
      "[525. 545.]\t\t[517.0457 543.2595]\n",
      "[545. 565.]\t\t[536.01764 563.042  ]\n",
      "[565. 585.]\t\t[555.0684 582.9044]\n"
     ]
    }
   ],
   "source": [
    "# List the forecast value\n",
    "data_module.list_forecast_value(output_data,prediction) "
   ]
  },
  {
   "cell_type": "code",
   "execution_count": 28,
   "metadata": {},
   "outputs": [
    {
     "name": "stdout",
     "output_type": "stream",
     "text": [
      "Train Score: 0.94 RMSE\n",
      "Test Score: 6.16 RMSE\n"
     ]
    }
   ],
   "source": [
    "# Section 4 : Calculate the RMSE of train and test data\n",
    "### BEGIN SOLUTION\n",
    "trainScore,testScore = data_module.rmse(prediction,output_data)\n",
    "### END SOLUTION\n",
    "print('Train Score: %.2f RMSE' % (trainScore))\n",
    "print('Test Score: %.2f RMSE' % (testScore))"
   ]
  },
  {
   "cell_type": "markdown",
   "metadata": {},
   "source": [
    "# Step 6 : Forecast Plot"
   ]
  },
  {
   "cell_type": "code",
   "execution_count": 29,
   "metadata": {},
   "outputs": [
    {
     "data": {
      "image/png": "[encoded data removed]",
      "text/plain": [
       "<Figure size 720x432 with 1 Axes>"
      ]
     },
     "metadata": {
      "needs_background": "light"
     },
     "output_type": "display_data"
    }
   ],
   "source": [
    "data_module.multi_step_plot(original_test_data = test_data[\"out_seq\"],\n",
    "                            after_sequence_test_data = output_data,\n",
    "                            forecast_data = prediction,\n",
    "                            test_time = test_time,\n",
    "                            window_size = window_size,\n",
    "                            n_step = n_step,\n",
    "                            details={},\n",
    "                            original_plot=True,\n",
    "                            multivariate = True)\n"
   ]
  },
  {
   "cell_type": "markdown",
   "metadata": {},
   "source": [
    "# Part 2 : Exercise for Multivariate Multi-step\n",
    "## Task : Predicting the total number of death cases in COVID-19 Malaysia 3 days into the future\n",
    "\n",
    "### Introduction \n",
    "You are given a set of data that contains information about COVID-19 cases worldwide. You are required to perform some data analysis on it and predict the death cases.<br>\n",
    "\n",
    "Please follow the instruction and try to code the exercise. Please feel free to use online resources to find out how to use a particular function in the data exploration part<br>\n",
    "\n",
    "\n",
    "\n",
    "Data Source : \n",
    "https://www.kaggle.com/sudalairajkumar/novel-corona-virus-2019-dataset"
   ]
  },
  {
   "cell_type": "markdown",
   "metadata": {},
   "source": [
    "## Hyperparameter\n",
    ">**Instruction** : <br>\n",
    "You are required to fill `None` with a suitable value to make the model converge\n",
    "\n",
    ">**Expected Result** : <br>\n",
    "Train Score <= 10 RMSE<br>\n",
    "Test Score <= 10 RMSE<br>"
   ]
  },
  {
   "cell_type": "code",
   "execution_count": 30,
   "metadata": {},
   "outputs": [
    {
     "data": {
      "text/plain": [
       "<torch._C.Generator at 0x249efdaa3f0>"
      ]
     },
     "execution_count": 30,
     "metadata": {},
     "output_type": "execute_result"
    }
   ],
   "source": [
    "#Hyperameter\n",
    "split_ratio_covid = 0.70\n",
    "num_epochs_covid = 100\n",
    "window_size_covid = 10\n",
    "n_step_covid = 3\n",
    "learning_rate_covid = 0.001\n",
    "batch_size_covid = 5\n",
    "#seed\n",
    "torch.manual_seed(123)"
   ]
  },
  {
   "cell_type": "markdown",
   "metadata": {},
   "source": [
    "# Step 1 : Data Preparation\n",
    "In this tutorial, you will face a complex real-world dataset. You are required to use some of the data exploration technique to help you prepare the data.\n",
    "\n",
    ">**Instruction** : <br>\n",
    "Read the file using `pd.read_csv`<br>\n",
    "Save your data as `cases`<br>\n",
    "Your file path `../../datasets/others/covid_19_data.csv`"
   ]
  },
  {
   "cell_type": "code",
   "execution_count": 31,
   "metadata": {},
   "outputs": [
    {
     "data": {
      "text/html": [
       "<div>\n",
       "<style scoped>\n",
       "    .dataframe tbody tr th:only-of-type {\n",
       "        vertical-align: middle;\n",
       "    }\n",
       "\n",
       "    .dataframe tbody tr th {\n",
       "        vertical-align: top;\n",
       "    }\n",
       "\n",
       "    .dataframe thead th {\n",
       "        text-align: right;\n",
       "    }\n",
       "</style>\n",
       "<table border=\"1\" class=\"dataframe\">\n",
       "  <thead>\n",
       "    <tr style=\"text-align: right;\">\n",
       "      <th></th>\n",
       "      <th>SNo</th>\n",
       "      <th>ObservationDate</th>\n",
       "      <th>Province/State</th>\n",
       "      <th>Country/Region</th>\n",
       "      <th>Last Update</th>\n",
       "      <th>Confirmed</th>\n",
       "      <th>Deaths</th>\n",
       "      <th>Recovered</th>\n",
       "    </tr>\n",
       "  </thead>\n",
       "  <tbody>\n",
       "    <tr>\n",
       "      <th>0</th>\n",
       "      <td>1</td>\n",
       "      <td>01/22/2020</td>\n",
       "      <td>Anhui</td>\n",
       "      <td>Mainland China</td>\n",
       "      <td>1/22/2020 17:00</td>\n",
       "      <td>1.0</td>\n",
       "      <td>0.0</td>\n",
       "      <td>0.0</td>\n",
       "    </tr>\n",
       "    <tr>\n",
       "      <th>1</th>\n",
       "      <td>2</td>\n",
       "      <td>01/22/2020</td>\n",
       "      <td>Beijing</td>\n",
       "      <td>Mainland China</td>\n",
       "      <td>1/22/2020 17:00</td>\n",
       "      <td>14.0</td>\n",
       "      <td>0.0</td>\n",
       "      <td>0.0</td>\n",
       "    </tr>\n",
       "    <tr>\n",
       "      <th>2</th>\n",
       "      <td>3</td>\n",
       "      <td>01/22/2020</td>\n",
       "      <td>Chongqing</td>\n",
       "      <td>Mainland China</td>\n",
       "      <td>1/22/2020 17:00</td>\n",
       "      <td>6.0</td>\n",
       "      <td>0.0</td>\n",
       "      <td>0.0</td>\n",
       "    </tr>\n",
       "    <tr>\n",
       "      <th>3</th>\n",
       "      <td>4</td>\n",
       "      <td>01/22/2020</td>\n",
       "      <td>Fujian</td>\n",
       "      <td>Mainland China</td>\n",
       "      <td>1/22/2020 17:00</td>\n",
       "      <td>1.0</td>\n",
       "      <td>0.0</td>\n",
       "      <td>0.0</td>\n",
       "    </tr>\n",
       "    <tr>\n",
       "      <th>4</th>\n",
       "      <td>5</td>\n",
       "      <td>01/22/2020</td>\n",
       "      <td>Gansu</td>\n",
       "      <td>Mainland China</td>\n",
       "      <td>1/22/2020 17:00</td>\n",
       "      <td>0.0</td>\n",
       "      <td>0.0</td>\n",
       "      <td>0.0</td>\n",
       "    </tr>\n",
       "  </tbody>\n",
       "</table>\n",
       "</div>"
      ],
      "text/plain": [
       "   SNo ObservationDate Province/State  Country/Region      Last Update  \\\n",
       "0    1      01/22/2020          Anhui  Mainland China  1/22/2020 17:00   \n",
       "1    2      01/22/2020        Beijing  Mainland China  1/22/2020 17:00   \n",
       "2    3      01/22/2020      Chongqing  Mainland China  1/22/2020 17:00   \n",
       "3    4      01/22/2020         Fujian  Mainland China  1/22/2020 17:00   \n",
       "4    5      01/22/2020          Gansu  Mainland China  1/22/2020 17:00   \n",
       "\n",
       "   Confirmed  Deaths  Recovered  \n",
       "0        1.0     0.0        0.0  \n",
       "1       14.0     0.0        0.0  \n",
       "2        6.0     0.0        0.0  \n",
       "3        1.0     0.0        0.0  \n",
       "4        0.0     0.0        0.0  "
      ]
     },
     "execution_count": 31,
     "metadata": {},
     "output_type": "execute_result"
    }
   ],
   "source": [
    "### BEGIN SOLUTION\n",
    "cases = pd.read_csv(\"../../datasets/others/covid_19_data.csv\")\n",
    "### END SOLUTION\n",
    "cases.head()"
   ]
  },
  {
   "cell_type": "markdown",
   "metadata": {},
   "source": [
    "As you can see, the data contain info on COVID-19 cases from other countries as well. Hence, you need to slice the COVID-19 info only for Malaysia.\n",
    "\n",
    ">**Instruction** : <br>\n",
    "Slice the COVID-19 info only for Malaysia. You might need to use `df.loc[]` to help you slice the data.\n",
    "\n",
    ">**Expected Result** :<br>\n",
    "Example of first 5 row data :\n",
    "\n",
    "---\t|SNo\t|ObservationDate\t|Province/State\t|Country/Region\t|Last Update\t|Confirmed\t|Deaths\t|Recovered\n",
    " ---|---\t|---\t            |---\t        |---\t        |---\t        |---\t    |---\t|---\n",
    "78\t|79\t    |01/23/2020\t|NaN\t|Malaysia\t|1/23/20 |17:00\t|0.0\t|0.0\t|0.0\n",
    "168\t|169\t|01/25/2020\t|NaN\t|Malaysia\t|1/25/20 |17:00\t|3.0\t|0.0\t|0.0\n",
    "214\t|215\t|01/26/2020\t|NaN\t|Malaysia\t|1/26/20 |16:00\t|4.0\t|0.0\t|0.0\n",
    "260\t|261\t|01/27/2020\t|NaN\t|Malaysia\t|1/27/20 |23:59\t|4.0\t|0.0\t|0.0\n",
    "311\t|312\t|01/28/2020\t|NaN\t|Malaysia\t|1/28/20 |23:00\t|4.0\t|0.0\t|0.0"
   ]
  },
  {
   "cell_type": "code",
   "execution_count": 32,
   "metadata": {
    "scrolled": true
   },
   "outputs": [
    {
     "data": {
      "text/plain": [
       "array(['Mainland China', 'Hong Kong', 'Macau', 'Taiwan', 'US', 'Japan',\n",
       "       'Thailand', 'South Korea', 'Singapore', 'Philippines', 'Malaysia',\n",
       "       'Vietnam', 'Australia', 'Mexico', 'Brazil', 'Colombia', 'France',\n",
       "       'Nepal', 'Canada', 'Cambodia', 'Sri Lanka', 'Ivory Coast',\n",
       "       'Germany', 'Finland', 'United Arab Emirates', 'India', 'Italy',\n",
       "       'UK', 'Russia', 'Sweden', 'Spain', 'Belgium', 'Others', 'Egypt',\n",
       "       'Iran', 'Israel', 'Lebanon', 'Iraq', 'Oman', 'Afghanistan',\n",
       "       'Bahrain', 'Kuwait', 'Austria', 'Algeria', 'Croatia',\n",
       "       'Switzerland', 'Pakistan', 'Georgia', 'Greece', 'North Macedonia',\n",
       "       'Norway', 'Romania', 'Denmark', 'Estonia', 'Netherlands',\n",
       "       'San Marino', ' Azerbaijan', 'Belarus', 'Iceland', 'Lithuania',\n",
       "       'New Zealand', 'Nigeria', 'North Ireland', 'Ireland', 'Luxembourg',\n",
       "       'Monaco', 'Qatar', 'Ecuador', 'Azerbaijan', 'Czech Republic',\n",
       "       'Armenia', 'Dominican Republic', 'Indonesia', 'Portugal',\n",
       "       'Andorra', 'Latvia', 'Morocco', 'Saudi Arabia', 'Senegal',\n",
       "       'Argentina', 'Chile', 'Jordan', 'Ukraine', 'Saint Barthelemy',\n",
       "       'Hungary', 'Faroe Islands', 'Gibraltar', 'Liechtenstein', 'Poland',\n",
       "       'Tunisia', 'Palestine', 'Bosnia and Herzegovina', 'Slovenia',\n",
       "       'South Africa', 'Bhutan', 'Cameroon', 'Costa Rica', 'Peru',\n",
       "       'Serbia', 'Slovakia', 'Togo', 'Vatican City', 'French Guiana',\n",
       "       'Malta', 'Martinique', 'Republic of Ireland', 'Bulgaria',\n",
       "       'Maldives', 'Bangladesh', 'Moldova', 'Paraguay', 'Albania',\n",
       "       'Cyprus', 'St. Martin', 'Brunei', 'occupied Palestinian territory',\n",
       "       \"('St. Martin',)\", 'Burkina Faso', 'Channel Islands', 'Holy See',\n",
       "       'Mongolia', 'Panama', 'Bolivia', 'Honduras', 'Congo (Kinshasa)',\n",
       "       'Jamaica', 'Reunion', 'Turkey', 'Cuba', 'Guyana', 'Kazakhstan',\n",
       "       'Cayman Islands', 'Guadeloupe', 'Ethiopia', 'Sudan', 'Guinea',\n",
       "       'Antigua and Barbuda', 'Aruba', 'Kenya', 'Uruguay', 'Ghana',\n",
       "       'Jersey', 'Namibia', 'Seychelles', 'Trinidad and Tobago',\n",
       "       'Venezuela', 'Curacao', 'Eswatini', 'Gabon', 'Guatemala',\n",
       "       'Guernsey', 'Mauritania', 'Rwanda', 'Saint Lucia',\n",
       "       'Saint Vincent and the Grenadines', 'Suriname', 'Kosovo',\n",
       "       'Central African Republic', 'Congo (Brazzaville)',\n",
       "       'Equatorial Guinea', 'Uzbekistan', 'Guam', 'Puerto Rico', 'Benin',\n",
       "       'Greenland', 'Liberia', 'Mayotte', 'Republic of the Congo',\n",
       "       'Somalia', 'Tanzania', 'The Bahamas', 'Barbados', 'Montenegro',\n",
       "       'The Gambia', 'Kyrgyzstan', 'Mauritius', 'Zambia', 'Djibouti',\n",
       "       'Gambia, The', 'Bahamas, The', 'Chad', 'El Salvador', 'Fiji',\n",
       "       'Nicaragua', 'Madagascar', 'Haiti', 'Angola', 'Cabo Verde',\n",
       "       'Niger', 'Papua New Guinea', 'Zimbabwe', 'Cape Verde',\n",
       "       'East Timor', 'Eritrea', 'Uganda', 'Bahamas', 'Dominica', 'Gambia',\n",
       "       'Grenada', 'Mozambique', 'Samoa', 'Syria', 'Timor-Leste', 'Belize',\n",
       "       'Laos', 'Libya', 'Diamond Princess', 'Guinea-Bissau', 'Mali',\n",
       "       'Saint Kitts and Nevis', 'West Bank and Gaza', 'Burma',\n",
       "       'MS Zaandam', 'Botswana', 'Burundi', 'Sierra Leone', 'Malawi',\n",
       "       'South Sudan', 'Sao Tome and Principe', 'Yemen', 'Comoros',\n",
       "       'Tajikistan', 'Lesotho', 'Solomon Islands', 'Marshall Islands',\n",
       "       'Vanuatu', 'Micronesia'], dtype=object)"
      ]
     },
     "execution_count": 32,
     "metadata": {},
     "output_type": "execute_result"
    }
   ],
   "source": [
    "cases[\"Country/Region\"].unique()"
   ]
  },
  {
   "cell_type": "code",
   "execution_count": 33,
   "metadata": {},
   "outputs": [
    {
     "data": {
      "text/html": [
       "<div>\n",
       "<style scoped>\n",
       "    .dataframe tbody tr th:only-of-type {\n",
       "        vertical-align: middle;\n",
       "    }\n",
       "\n",
       "    .dataframe tbody tr th {\n",
       "        vertical-align: top;\n",
       "    }\n",
       "\n",
       "    .dataframe thead th {\n",
       "        text-align: right;\n",
       "    }\n",
       "</style>\n",
       "<table border=\"1\" class=\"dataframe\">\n",
       "  <thead>\n",
       "    <tr style=\"text-align: right;\">\n",
       "      <th></th>\n",
       "      <th>SNo</th>\n",
       "      <th>ObservationDate</th>\n",
       "      <th>Province/State</th>\n",
       "      <th>Country/Region</th>\n",
       "      <th>Last Update</th>\n",
       "      <th>Confirmed</th>\n",
       "      <th>Deaths</th>\n",
       "      <th>Recovered</th>\n",
       "    </tr>\n",
       "  </thead>\n",
       "  <tbody>\n",
       "    <tr>\n",
       "      <th>78</th>\n",
       "      <td>79</td>\n",
       "      <td>01/23/2020</td>\n",
       "      <td>NaN</td>\n",
       "      <td>Malaysia</td>\n",
       "      <td>1/23/20 17:00</td>\n",
       "      <td>0.0</td>\n",
       "      <td>0.0</td>\n",
       "      <td>0.0</td>\n",
       "    </tr>\n",
       "    <tr>\n",
       "      <th>168</th>\n",
       "      <td>169</td>\n",
       "      <td>01/25/2020</td>\n",
       "      <td>NaN</td>\n",
       "      <td>Malaysia</td>\n",
       "      <td>1/25/20 17:00</td>\n",
       "      <td>3.0</td>\n",
       "      <td>0.0</td>\n",
       "      <td>0.0</td>\n",
       "    </tr>\n",
       "    <tr>\n",
       "      <th>214</th>\n",
       "      <td>215</td>\n",
       "      <td>01/26/2020</td>\n",
       "      <td>NaN</td>\n",
       "      <td>Malaysia</td>\n",
       "      <td>1/26/20 16:00</td>\n",
       "      <td>4.0</td>\n",
       "      <td>0.0</td>\n",
       "      <td>0.0</td>\n",
       "    </tr>\n",
       "    <tr>\n",
       "      <th>260</th>\n",
       "      <td>261</td>\n",
       "      <td>01/27/2020</td>\n",
       "      <td>NaN</td>\n",
       "      <td>Malaysia</td>\n",
       "      <td>1/27/20 23:59</td>\n",
       "      <td>4.0</td>\n",
       "      <td>0.0</td>\n",
       "      <td>0.0</td>\n",
       "    </tr>\n",
       "    <tr>\n",
       "      <th>311</th>\n",
       "      <td>312</td>\n",
       "      <td>01/28/2020</td>\n",
       "      <td>NaN</td>\n",
       "      <td>Malaysia</td>\n",
       "      <td>1/28/20 23:00</td>\n",
       "      <td>4.0</td>\n",
       "      <td>0.0</td>\n",
       "      <td>0.0</td>\n",
       "    </tr>\n",
       "  </tbody>\n",
       "</table>\n",
       "</div>"
      ],
      "text/plain": [
       "     SNo ObservationDate Province/State Country/Region    Last Update  \\\n",
       "78    79      01/23/2020            NaN       Malaysia  1/23/20 17:00   \n",
       "168  169      01/25/2020            NaN       Malaysia  1/25/20 17:00   \n",
       "214  215      01/26/2020            NaN       Malaysia  1/26/20 16:00   \n",
       "260  261      01/27/2020            NaN       Malaysia  1/27/20 23:59   \n",
       "311  312      01/28/2020            NaN       Malaysia  1/28/20 23:00   \n",
       "\n",
       "     Confirmed  Deaths  Recovered  \n",
       "78         0.0     0.0        0.0  \n",
       "168        3.0     0.0        0.0  \n",
       "214        4.0     0.0        0.0  \n",
       "260        4.0     0.0        0.0  \n",
       "311        4.0     0.0        0.0  "
      ]
     },
     "execution_count": 33,
     "metadata": {},
     "output_type": "execute_result"
    }
   ],
   "source": [
    "### BEGIN SOLUTION\n",
    "new_covid_data = cases.loc[cases[\"Country/Region\"] == 'Malaysia']\n",
    "new_covid_data.head()\n",
    "### END SOLUTION"
   ]
  },
  {
   "cell_type": "markdown",
   "metadata": {},
   "source": [
    "We need to make sure there is no missing value in our data\n",
    ">**Instruction** : <br>\n",
    "Use `df.isnull().values.any()` to check any missing data in our dataset. `True` would mean that there is `NaN` in our dataset<br>\n",
    "Most of the column does not contain `NaN` values except for `Province/State `. This is acceptable since this data is not particularly useful to our use case which will be dropped later.\n",
    "\n",
    ">**Expected Result** :<br>\n",
    "\n",
    "Columns|Status\n",
    "---|---\n",
    "SNo                |False\n",
    "ObservationDate    |False\n",
    "Province/State      |True\n",
    "Country/Region     |False\n",
    "Last Update        |False\n",
    "Confirmed          |False\n",
    "Deaths             |False\n",
    "Recovered          |False\n"
   ]
  },
  {
   "cell_type": "code",
   "execution_count": 34,
   "metadata": {},
   "outputs": [
    {
     "data": {
      "text/plain": [
       "SNo                False\n",
       "ObservationDate    False\n",
       "Province/State      True\n",
       "Country/Region     False\n",
       "Last Update        False\n",
       "Confirmed          False\n",
       "Deaths             False\n",
       "Recovered          False\n",
       "dtype: bool"
      ]
     },
     "execution_count": 34,
     "metadata": {},
     "output_type": "execute_result"
    }
   ],
   "source": [
    "### BEGIN SOLUTION\n",
    "new_covid_data.isnull().any()\n",
    "### END SOLUTION"
   ]
  },
  {
   "cell_type": "markdown",
   "metadata": {},
   "source": [
    ">**Instruction** : <br>\n",
    "Set the `ObservationDate` as the index for the dataset. You are required to convert `ObservationDate` to datetime using `pd.to_datetime()` <br>\n",
    "\n",
    ">**Expected Result** :<br>\n",
    "Example of first 5 row data :\n",
    "\n",
    "ObservationDate\t|SNo\t|ObservationDate\t|Province/State\t|Country/Region\t|Last Update\t|Confirmed\t|Deaths\t|Recovered\n",
    " ---|---\t|---\t            |---\t        |---\t        |---\t        |---\t    |---\t|---\n",
    "01/23/2020\t|79\t    |01/23/2020\t|NaN\t|Malaysia\t|1/23/20 |17:00\t|0.0\t|0.0\t|0.0\n",
    "01/25/2020\t|169\t|01/25/2020\t|NaN\t|Malaysia\t|1/25/20 |17:00\t|3.0\t|0.0\t|0.0\n",
    "01/26/2020\t|215\t|01/26/2020\t|NaN\t|Malaysia\t|1/26/20 |16:00\t|4.0\t|0.0\t|0.0\n",
    "01/27/2020\t|261\t|01/27/2020\t|NaN\t|Malaysia\t|1/27/20 |23:59\t|4.0\t|0.0\t|0.0\n",
    "01/28/2020\t|312\t|01/28/2020\t|NaN\t|Malaysia\t|1/28/20 |23:00\t|4.0\t|0.0\t|0.0"
   ]
  },
  {
   "cell_type": "code",
   "execution_count": 35,
   "metadata": {},
   "outputs": [
    {
     "data": {
      "text/html": [
       "<div>\n",
       "<style scoped>\n",
       "    .dataframe tbody tr th:only-of-type {\n",
       "        vertical-align: middle;\n",
       "    }\n",
       "\n",
       "    .dataframe tbody tr th {\n",
       "        vertical-align: top;\n",
       "    }\n",
       "\n",
       "    .dataframe thead th {\n",
       "        text-align: right;\n",
       "    }\n",
       "</style>\n",
       "<table border=\"1\" class=\"dataframe\">\n",
       "  <thead>\n",
       "    <tr style=\"text-align: right;\">\n",
       "      <th></th>\n",
       "      <th>SNo</th>\n",
       "      <th>ObservationDate</th>\n",
       "      <th>Province/State</th>\n",
       "      <th>Country/Region</th>\n",
       "      <th>Last Update</th>\n",
       "      <th>Confirmed</th>\n",
       "      <th>Deaths</th>\n",
       "      <th>Recovered</th>\n",
       "    </tr>\n",
       "    <tr>\n",
       "      <th>ObservationDate</th>\n",
       "      <th></th>\n",
       "      <th></th>\n",
       "      <th></th>\n",
       "      <th></th>\n",
       "      <th></th>\n",
       "      <th></th>\n",
       "      <th></th>\n",
       "      <th></th>\n",
       "    </tr>\n",
       "  </thead>\n",
       "  <tbody>\n",
       "    <tr>\n",
       "      <th>2020-01-23</th>\n",
       "      <td>79</td>\n",
       "      <td>01/23/2020</td>\n",
       "      <td>NaN</td>\n",
       "      <td>Malaysia</td>\n",
       "      <td>1/23/20 17:00</td>\n",
       "      <td>0.0</td>\n",
       "      <td>0.0</td>\n",
       "      <td>0.0</td>\n",
       "    </tr>\n",
       "    <tr>\n",
       "      <th>2020-01-25</th>\n",
       "      <td>169</td>\n",
       "      <td>01/25/2020</td>\n",
       "      <td>NaN</td>\n",
       "      <td>Malaysia</td>\n",
       "      <td>1/25/20 17:00</td>\n",
       "      <td>3.0</td>\n",
       "      <td>0.0</td>\n",
       "      <td>0.0</td>\n",
       "    </tr>\n",
       "    <tr>\n",
       "      <th>2020-01-26</th>\n",
       "      <td>215</td>\n",
       "      <td>01/26/2020</td>\n",
       "      <td>NaN</td>\n",
       "      <td>Malaysia</td>\n",
       "      <td>1/26/20 16:00</td>\n",
       "      <td>4.0</td>\n",
       "      <td>0.0</td>\n",
       "      <td>0.0</td>\n",
       "    </tr>\n",
       "    <tr>\n",
       "      <th>2020-01-27</th>\n",
       "      <td>261</td>\n",
       "      <td>01/27/2020</td>\n",
       "      <td>NaN</td>\n",
       "      <td>Malaysia</td>\n",
       "      <td>1/27/20 23:59</td>\n",
       "      <td>4.0</td>\n",
       "      <td>0.0</td>\n",
       "      <td>0.0</td>\n",
       "    </tr>\n",
       "    <tr>\n",
       "      <th>2020-01-28</th>\n",
       "      <td>312</td>\n",
       "      <td>01/28/2020</td>\n",
       "      <td>NaN</td>\n",
       "      <td>Malaysia</td>\n",
       "      <td>1/28/20 23:00</td>\n",
       "      <td>4.0</td>\n",
       "      <td>0.0</td>\n",
       "      <td>0.0</td>\n",
       "    </tr>\n",
       "  </tbody>\n",
       "</table>\n",
       "</div>"
      ],
      "text/plain": [
       "                 SNo ObservationDate Province/State Country/Region  \\\n",
       "ObservationDate                                                      \n",
       "2020-01-23        79      01/23/2020            NaN       Malaysia   \n",
       "2020-01-25       169      01/25/2020            NaN       Malaysia   \n",
       "2020-01-26       215      01/26/2020            NaN       Malaysia   \n",
       "2020-01-27       261      01/27/2020            NaN       Malaysia   \n",
       "2020-01-28       312      01/28/2020            NaN       Malaysia   \n",
       "\n",
       "                   Last Update  Confirmed  Deaths  Recovered  \n",
       "ObservationDate                                               \n",
       "2020-01-23       1/23/20 17:00        0.0     0.0        0.0  \n",
       "2020-01-25       1/25/20 17:00        3.0     0.0        0.0  \n",
       "2020-01-26       1/26/20 16:00        4.0     0.0        0.0  \n",
       "2020-01-27       1/27/20 23:59        4.0     0.0        0.0  \n",
       "2020-01-28       1/28/20 23:00        4.0     0.0        0.0  "
      ]
     },
     "execution_count": 35,
     "metadata": {},
     "output_type": "execute_result"
    }
   ],
   "source": [
    "### BEGIN SOLUTION\n",
    "new_covid_data = new_covid_data.set_index(pd.to_datetime(new_covid_data[\"ObservationDate\"]))\n",
    "### END SOLUTION\n",
    "\n",
    "new_covid_data.head()"
   ]
  },
  {
   "cell_type": "markdown",
   "metadata": {},
   "source": [
    "Columns such as `SNo`,`ObservationDate`,`Province/State`,`Country/Region`,`Last Update` do not provide any useful information to us. Hence, we need to drop it to make the data look cleaner. \n",
    "\n",
    ">**Instruction** : <br>\n",
    "Use `df.drop` to drop the `columns = ['SNo','ObservationDate','Province/State','Country/Region','Last Update']`<br>\n",
    "\n",
    ">**Expected Result** :<br>\n",
    "\n",
    "ObservationDate\t|Confirmed\t|Deaths\t|Recovered\n",
    "\t---|---|---|---\t\t\n",
    "2020-01-23|\t0.0|\t0.0|\t0.0\n",
    "2020-01-25|\t3.0|\t0.0|\t0.0\n",
    "2020-01-26|\t4.0|\t0.0|\t0.0\n",
    "2020-01-27|\t4.0|\t0.0|\t0.0\n",
    "2020-01-28|\t4.0|    0.0|\t0.0"
   ]
  },
  {
   "cell_type": "code",
   "execution_count": 36,
   "metadata": {},
   "outputs": [
    {
     "data": {
      "text/html": [
       "<div>\n",
       "<style scoped>\n",
       "    .dataframe tbody tr th:only-of-type {\n",
       "        vertical-align: middle;\n",
       "    }\n",
       "\n",
       "    .dataframe tbody tr th {\n",
       "        vertical-align: top;\n",
       "    }\n",
       "\n",
       "    .dataframe thead th {\n",
       "        text-align: right;\n",
       "    }\n",
       "</style>\n",
       "<table border=\"1\" class=\"dataframe\">\n",
       "  <thead>\n",
       "    <tr style=\"text-align: right;\">\n",
       "      <th></th>\n",
       "      <th>Confirmed</th>\n",
       "      <th>Deaths</th>\n",
       "      <th>Recovered</th>\n",
       "    </tr>\n",
       "    <tr>\n",
       "      <th>ObservationDate</th>\n",
       "      <th></th>\n",
       "      <th></th>\n",
       "      <th></th>\n",
       "    </tr>\n",
       "  </thead>\n",
       "  <tbody>\n",
       "    <tr>\n",
       "      <th>2020-01-23</th>\n",
       "      <td>0.0</td>\n",
       "      <td>0.0</td>\n",
       "      <td>0.0</td>\n",
       "    </tr>\n",
       "    <tr>\n",
       "      <th>2020-01-25</th>\n",
       "      <td>3.0</td>\n",
       "      <td>0.0</td>\n",
       "      <td>0.0</td>\n",
       "    </tr>\n",
       "    <tr>\n",
       "      <th>2020-01-26</th>\n",
       "      <td>4.0</td>\n",
       "      <td>0.0</td>\n",
       "      <td>0.0</td>\n",
       "    </tr>\n",
       "    <tr>\n",
       "      <th>2020-01-27</th>\n",
       "      <td>4.0</td>\n",
       "      <td>0.0</td>\n",
       "      <td>0.0</td>\n",
       "    </tr>\n",
       "    <tr>\n",
       "      <th>2020-01-28</th>\n",
       "      <td>4.0</td>\n",
       "      <td>0.0</td>\n",
       "      <td>0.0</td>\n",
       "    </tr>\n",
       "  </tbody>\n",
       "</table>\n",
       "</div>"
      ],
      "text/plain": [
       "                 Confirmed  Deaths  Recovered\n",
       "ObservationDate                              \n",
       "2020-01-23             0.0     0.0        0.0\n",
       "2020-01-25             3.0     0.0        0.0\n",
       "2020-01-26             4.0     0.0        0.0\n",
       "2020-01-27             4.0     0.0        0.0\n",
       "2020-01-28             4.0     0.0        0.0"
      ]
     },
     "execution_count": 36,
     "metadata": {},
     "output_type": "execute_result"
    }
   ],
   "source": [
    "### BEGIN SOLUTION\n",
    "new_covid_data = new_covid_data.drop(columns = ['SNo','ObservationDate','Province/State','Country/Region','Last Update'])\n",
    "### END SOLUTION\n",
    "new_covid_data.head()"
   ]
  },
  {
   "cell_type": "markdown",
   "metadata": {},
   "source": [
    "To make our sliding window function work. You need to rearrange the data columns such that the targeted forecast series will be the last column of the data\n",
    ">**Instruction** : <br>\n",
    "Rearrange the data column using `df[]`<br>\n",
    "For example : <br>\n",
    "columns = [`A`,`B`,`C`]<br>\n",
    "rearrage columns = [`A`,`C`,`B`]<br>\n",
    "`df =  df[rearrage columns]`\n",
    "\n",
    ">**Expected Result** :<br>\n",
    "\n",
    "ObservationDate|\tConfirmed|\tRecovered|\tDeaths\n",
    "\t\t---|---|---|---\t\n",
    "2020-01-23|\t0.0|\t0.0|\t0.0\n",
    "2020-01-25|\t3.0|\t0.0|\t0.0\n",
    "2020-01-26|\t4.0|\t0.0|\t0.0\n",
    "2020-01-27|\t4.0|\t0.0|\t0.0\n",
    "2020-01-28|\t4.0|\t0.0|\t0.0"
   ]
  },
  {
   "cell_type": "code",
   "execution_count": 37,
   "metadata": {},
   "outputs": [
    {
     "data": {
      "text/html": [
       "<div>\n",
       "<style scoped>\n",
       "    .dataframe tbody tr th:only-of-type {\n",
       "        vertical-align: middle;\n",
       "    }\n",
       "\n",
       "    .dataframe tbody tr th {\n",
       "        vertical-align: top;\n",
       "    }\n",
       "\n",
       "    .dataframe thead th {\n",
       "        text-align: right;\n",
       "    }\n",
       "</style>\n",
       "<table border=\"1\" class=\"dataframe\">\n",
       "  <thead>\n",
       "    <tr style=\"text-align: right;\">\n",
       "      <th></th>\n",
       "      <th>Confirmed</th>\n",
       "      <th>Recovered</th>\n",
       "      <th>Deaths</th>\n",
       "    </tr>\n",
       "    <tr>\n",
       "      <th>ObservationDate</th>\n",
       "      <th></th>\n",
       "      <th></th>\n",
       "      <th></th>\n",
       "    </tr>\n",
       "  </thead>\n",
       "  <tbody>\n",
       "    <tr>\n",
       "      <th>2020-01-23</th>\n",
       "      <td>0.0</td>\n",
       "      <td>0.0</td>\n",
       "      <td>0.0</td>\n",
       "    </tr>\n",
       "    <tr>\n",
       "      <th>2020-01-25</th>\n",
       "      <td>3.0</td>\n",
       "      <td>0.0</td>\n",
       "      <td>0.0</td>\n",
       "    </tr>\n",
       "    <tr>\n",
       "      <th>2020-01-26</th>\n",
       "      <td>4.0</td>\n",
       "      <td>0.0</td>\n",
       "      <td>0.0</td>\n",
       "    </tr>\n",
       "    <tr>\n",
       "      <th>2020-01-27</th>\n",
       "      <td>4.0</td>\n",
       "      <td>0.0</td>\n",
       "      <td>0.0</td>\n",
       "    </tr>\n",
       "    <tr>\n",
       "      <th>2020-01-28</th>\n",
       "      <td>4.0</td>\n",
       "      <td>0.0</td>\n",
       "      <td>0.0</td>\n",
       "    </tr>\n",
       "  </tbody>\n",
       "</table>\n",
       "</div>"
      ],
      "text/plain": [
       "                 Confirmed  Recovered  Deaths\n",
       "ObservationDate                              \n",
       "2020-01-23             0.0        0.0     0.0\n",
       "2020-01-25             3.0        0.0     0.0\n",
       "2020-01-26             4.0        0.0     0.0\n",
       "2020-01-27             4.0        0.0     0.0\n",
       "2020-01-28             4.0        0.0     0.0"
      ]
     },
     "execution_count": 37,
     "metadata": {},
     "output_type": "execute_result"
    }
   ],
   "source": [
    "### BEGIN SOLUTION\n",
    "new_covid_data = new_covid_data[[\"Confirmed\",\"Recovered\",\"Deaths\"]]\n",
    "### END SOLUTION\n",
    "new_covid_data.head()"
   ]
  },
  {
   "cell_type": "markdown",
   "metadata": {},
   "source": [
    "## Data Visualization\n",
    "Data visualization is important for us to visualize the pattern of data such as trend and seasonality. Seeing the graph below, it is quite clear that there is an increasing trend in data"
   ]
  },
  {
   "cell_type": "code",
   "execution_count": 38,
   "metadata": {},
   "outputs": [
    {
     "data": {
      "image/png": "[encoded data removed]",
      "text/plain": [
       "<Figure size 792x648 with 3 Axes>"
      ]
     },
     "metadata": {
      "needs_background": "light"
     },
     "output_type": "display_data"
    }
   ],
   "source": [
    "# Visualize Data \n",
    "axes = new_covid_data[new_covid_data.columns].plot(alpha=1.0, linestyle='-', figsize=(11, 9), subplots=True)\n",
    "for ax in axes:\n",
    "    ax.set_ylabel('COVID-19-Malaysia')"
   ]
  },
  {
   "cell_type": "markdown",
   "metadata": {},
   "source": [
    "However, the data is in cumulative form. To perform time-series prediction, we need to convert the cumulative cases into daily cases.\n",
    "\n",
    ">**Instruction** : <br>\n",
    "Remove the cumulative. You might need to use a `For loop` to loop through the data for each columns .Use `new_covid_data[name] - new_covid_data[name].shift().fillna(0)` as the math operation to remove the cumulative<br>\n",
    "\n",
    ">**Expected Result** :<br>\n",
    "\n",
    "ObservationDate|\tConfirmed|\tRecovered|\tDeaths|\n",
    "\t---|\t---|---|---\t\n",
    "2020-01-23|\t0.0|\t0.0|\t0.0|\n",
    "2020-01-25|\t3.0|\t0.0|\t0.0|\n",
    "2020-01-26|\t1.0|\t0.0|\t0.0|\n",
    "2020-01-27|\t0.0|\t0.0|\t0.0|\n",
    "2020-01-28|\t0.0|\t0.0|\t0.0|"
   ]
  },
  {
   "cell_type": "code",
   "execution_count": 39,
   "metadata": {},
   "outputs": [
    {
     "data": {
      "text/html": [
       "<div>\n",
       "<style scoped>\n",
       "    .dataframe tbody tr th:only-of-type {\n",
       "        vertical-align: middle;\n",
       "    }\n",
       "\n",
       "    .dataframe tbody tr th {\n",
       "        vertical-align: top;\n",
       "    }\n",
       "\n",
       "    .dataframe thead th {\n",
       "        text-align: right;\n",
       "    }\n",
       "</style>\n",
       "<table border=\"1\" class=\"dataframe\">\n",
       "  <thead>\n",
       "    <tr style=\"text-align: right;\">\n",
       "      <th></th>\n",
       "      <th>Confirmed</th>\n",
       "      <th>Recovered</th>\n",
       "      <th>Deaths</th>\n",
       "    </tr>\n",
       "    <tr>\n",
       "      <th>ObservationDate</th>\n",
       "      <th></th>\n",
       "      <th></th>\n",
       "      <th></th>\n",
       "    </tr>\n",
       "  </thead>\n",
       "  <tbody>\n",
       "    <tr>\n",
       "      <th>2020-01-23</th>\n",
       "      <td>0.0</td>\n",
       "      <td>0.0</td>\n",
       "      <td>0.0</td>\n",
       "    </tr>\n",
       "    <tr>\n",
       "      <th>2020-01-25</th>\n",
       "      <td>3.0</td>\n",
       "      <td>0.0</td>\n",
       "      <td>0.0</td>\n",
       "    </tr>\n",
       "    <tr>\n",
       "      <th>2020-01-26</th>\n",
       "      <td>1.0</td>\n",
       "      <td>0.0</td>\n",
       "      <td>0.0</td>\n",
       "    </tr>\n",
       "    <tr>\n",
       "      <th>2020-01-27</th>\n",
       "      <td>0.0</td>\n",
       "      <td>0.0</td>\n",
       "      <td>0.0</td>\n",
       "    </tr>\n",
       "    <tr>\n",
       "      <th>2020-01-28</th>\n",
       "      <td>0.0</td>\n",
       "      <td>0.0</td>\n",
       "      <td>0.0</td>\n",
       "    </tr>\n",
       "  </tbody>\n",
       "</table>\n",
       "</div>"
      ],
      "text/plain": [
       "                 Confirmed  Recovered  Deaths\n",
       "ObservationDate                              \n",
       "2020-01-23             0.0        0.0     0.0\n",
       "2020-01-25             3.0        0.0     0.0\n",
       "2020-01-26             1.0        0.0     0.0\n",
       "2020-01-27             0.0        0.0     0.0\n",
       "2020-01-28             0.0        0.0     0.0"
      ]
     },
     "execution_count": 39,
     "metadata": {},
     "output_type": "execute_result"
    }
   ],
   "source": [
    "### BEGIN SOLUTION\n",
    "for name in new_covid_data.columns:\n",
    "        new_covid_data[name] = new_covid_data[name] - new_covid_data[name].shift().fillna(0)\n",
    "### END SOLUTION\n",
    "new_covid_data.head()"
   ]
  },
  {
   "cell_type": "code",
   "execution_count": 40,
   "metadata": {},
   "outputs": [
    {
     "data": {
      "image/png": "[encoded data removed]",
      "text/plain": [
       "<Figure size 792x648 with 3 Axes>"
      ]
     },
     "metadata": {
      "needs_background": "light"
     },
     "output_type": "display_data"
    }
   ],
   "source": [
    "# Visualize Data \n",
    "axes = new_covid_data[new_covid_data.columns].plot(alpha=1.0, linestyle='-', figsize=(11, 9), subplots=True)\n",
    "for ax in axes:\n",
    "    ax.set_ylabel('COVID-19-Malaysia')"
   ]
  },
  {
   "cell_type": "markdown",
   "metadata": {},
   "source": [
    "## Data Splitting\n",
    "In Deep Learning, we will split the data into training and test dataset. The training data is used to train the model whereas the test data is used to validate the performance of the model."
   ]
  },
  {
   "cell_type": "code",
   "execution_count": 41,
   "metadata": {},
   "outputs": [
    {
     "data": {
      "text/plain": [
       "21"
      ]
     },
     "execution_count": 41,
     "metadata": {},
     "output_type": "execute_result"
    }
   ],
   "source": [
    "split_data_covid = round(len(dataset)*split_ratio)\n",
    "split_data_covid"
   ]
  },
  {
   "cell_type": "code",
   "execution_count": 42,
   "metadata": {},
   "outputs": [
    {
     "name": "stdout",
     "output_type": "stream",
     "text": [
      "train_data_shape\n",
      "(380, 3)\n",
      "test_data_shape\n",
      "(21, 3)\n"
     ]
    }
   ],
   "source": [
    "# Split data by indexing \n",
    "train_data_covid = new_covid_data[:-split_data_covid ]\n",
    "test_data_covid = new_covid_data[-split_data_covid :]\n",
    "train_time_covid = new_covid_data.index[:-split_data_covid ]\n",
    "test_time_covid = new_covid_data.index[-split_data_covid :]\n",
    "\n",
    "print(\"train_data_shape\")\n",
    "print(train_data_covid.shape)\n",
    "print(\"test_data_shape\")\n",
    "print(test_data_covid.shape)"
   ]
  },
  {
   "cell_type": "markdown",
   "metadata": {},
   "source": [
    "## Data Normalization \n",
    "Normalize the data into range of 0 to 1"
   ]
  },
  {
   "cell_type": "code",
   "execution_count": 43,
   "metadata": {},
   "outputs": [
    {
     "name": "stdout",
     "output_type": "stream",
     "text": [
      "train_data_normalized_demand(1140, 1)\n",
      "test_data_normalized_demand(63, 1)\n"
     ]
    }
   ],
   "source": [
    "scaler_covid = MinMaxScaler().fit(train_data_covid.values.reshape(-1,1))\n",
    "train_data_normalized_covid  = scaler_covid.transform(train_data_covid.values.reshape(-1, 1))\n",
    "test_data_normalized_covid = scaler_covid.transform(test_data_covid.values.reshape(-1, 1))\n",
    "print(\"train_data_normalized_demand\"+str(train_data_normalized_covid.shape))\n",
    "print(\"test_data_normalized_demand\"+str(test_data_normalized_covid.shape))"
   ]
  },
  {
   "cell_type": "code",
   "execution_count": 44,
   "metadata": {},
   "outputs": [
    {
     "name": "stdout",
     "output_type": "stream",
     "text": [
      "test_data_normalized(380, 3)\n",
      "test_data_normalized(21, 3)\n"
     ]
    }
   ],
   "source": [
    "# Transform after scaling \n",
    "train_data_normalized_covid = train_data_normalized_covid.reshape(train_data_covid.shape[0],train_data_covid.shape[1])\n",
    "print(\"test_data_normalized\"+str(train_data_normalized_covid.shape))\n",
    "\n",
    "test_data_normalized_covid = test_data_normalized_covid.reshape(test_data_covid.shape[0],test_data_covid.shape[1])\n",
    "print(\"test_data_normalized\"+str(test_data_normalized_covid.shape))"
   ]
  },
  {
   "cell_type": "markdown",
   "metadata": {},
   "source": [
    "## Data Sequencing\n",
    "Sequencing the data by taking in the multivariate series into x-feature and y-label\n",
    "<img src = \"../../picture/multivariate univariate.png\"  width=\"300\" height  =\"300\" align=\"center\" />"
   ]
  },
  {
   "cell_type": "code",
   "execution_count": 45,
   "metadata": {},
   "outputs": [
    {
     "name": "stdout",
     "output_type": "stream",
     "text": [
      "trainX_demand shape:(369, 10, 2) trainY_demand shape:(369, 3)\n",
      "\n",
      "testX_demand shape:(10, 10, 2) testY_demand shape:(10, 3)\n"
     ]
    }
   ],
   "source": [
    "trainX_covid ,trainY_covid=  data_module.multivariate_univariate_multi_step(train_data_normalized_covid,window_size_covid,n_step_covid)\n",
    "testX_covid , testY_covid = data_module.multivariate_univariate_multi_step(test_data_normalized_covid,window_size_covid,n_step_covid)\n",
    "print(f\"trainX_demand shape:{trainX_covid.shape} trainY_demand shape:{trainY_covid.shape}\\n\")\n",
    "print(f\"testX_demand shape:{testX_covid.shape} testY_demand shape:{testY_covid.shape}\")"
   ]
  },
  {
   "cell_type": "code",
   "execution_count": 46,
   "metadata": {},
   "outputs": [
    {
     "name": "stdout",
     "output_type": "stream",
     "text": [
      "trainY shape:(369, 3, 1)\n",
      "testY shape:(10, 3, 1)\n"
     ]
    }
   ],
   "source": [
    "trainY_covid = trainY_covid.reshape(trainY_covid.shape[0],n_step_covid,1)\n",
    "testY_covid= testY_covid.reshape(testY_covid.shape[0],n_step_covid,1)\n",
    "print(f\"trainY shape:{trainY_covid.shape}\")\n",
    "print(f\"testY shape:{testY_covid.shape}\")"
   ]
  },
  {
   "cell_type": "markdown",
   "metadata": {},
   "source": [
    "### Data Transform\n",
    "Data needs to be transformed from numpy to pytorch tensor before being fed into the model.\n",
    "\n",
    ">**Instruction** : <br>\n",
    "Use `data_module.key_assign` to assign the key and `data_module.transform` to transform the data."
   ]
  },
  {
   "cell_type": "code",
   "execution_count": 47,
   "metadata": {},
   "outputs": [],
   "source": [
    "### BEGIN SOLUTION\n",
    "train_data_dict_covid ,test_data_dict_covid = data_module.key_assign(trainingX = trainX_covid  , \n",
    "                       testingX = testX_covid, \n",
    "                       trainingY = trainY_covid, \n",
    "                       testingY = testY_covid)\n",
    "train_data_dict_covid ,test_data_dict_covid = data_module.transform(train_data_dict_covid ,test_data_dict_covid)\n",
    "### END SOLUTION"
   ]
  },
  {
   "cell_type": "code",
   "execution_count": 48,
   "metadata": {},
   "outputs": [
    {
     "name": "stdout",
     "output_type": "stream",
     "text": [
      "train_data_x_feature shape : torch.Size([369, 10, 2])\n",
      "train_data_y_label shape : torch.Size([369, 3, 1])\n",
      "test_data_x_feature shape : torch.Size([10, 10, 2])\n",
      "test_data_y_label shape : torch.Size([10, 3, 1])\n"
     ]
    }
   ],
   "source": [
    "data_module.sanity_check(train_data_dict_covid , test_data_dict_covid)"
   ]
  },
  {
   "cell_type": "markdown",
   "metadata": {},
   "source": [
    "## Data Transpose \n",
    "You are require to transpose the x-feature data in such a way that : <br>\n",
    ">`(batch_size, number_of_features, sequence_length)`.\n",
    "\n",
    "\n",
    ">**Instruction** : <br>\n",
    "Use `transpose` function in `data_module.py` to transpose the suitable input data for CNN model."
   ]
  },
  {
   "cell_type": "code",
   "execution_count": 49,
   "metadata": {},
   "outputs": [],
   "source": [
    "train_data_dict_covid , test_data_dict_covid = data_module.transpose(train_data_dict_covid,\n",
    "                                                                     test_data_dict_covid)"
   ]
  },
  {
   "cell_type": "code",
   "execution_count": 50,
   "metadata": {},
   "outputs": [
    {
     "name": "stdout",
     "output_type": "stream",
     "text": [
      "train_data_x_feature shape : torch.Size([369, 2, 10])\n",
      "train_data_y_label shape : torch.Size([369, 3, 1])\n",
      "test_data_x_feature shape : torch.Size([10, 2, 10])\n",
      "test_data_y_label shape : torch.Size([10, 3, 1])\n"
     ]
    }
   ],
   "source": [
    "data_module.sanity_check(train_data_dict_covid , test_data_dict_covid)"
   ]
  },
  {
   "cell_type": "markdown",
   "metadata": {},
   "source": [
    "## Data Iterator\n",
    "Iterator is created to separate the data into several batches to fasten the training process\n",
    ">**Instruction** : <br>\n",
    "Use `data_module.iterator` to create data iterator."
   ]
  },
  {
   "cell_type": "code",
   "execution_count": 51,
   "metadata": {},
   "outputs": [],
   "source": [
    "### BEGIN SOLUTION\n",
    "train_iter_covid , test_iter_covid = data_module.iterator(train_data_dict_covid ,\n",
    "                                                          test_data_dict_covid,\n",
    "                                                          batch_size = batch_size_covid)\n",
    "### END SOLUTION"
   ]
  },
  {
   "cell_type": "markdown",
   "metadata": {},
   "source": [
    "## Input Model\n",
    "\n",
    ">**Instruction** : <br>\n",
    "Input the model that you have configured"
   ]
  },
  {
   "cell_type": "code",
   "execution_count": 52,
   "metadata": {},
   "outputs": [],
   "source": [
    "# seed\n",
    "torch.manual_seed(123)\n",
    "\n",
    "n_feature_covid = train_data_dict_covid['train_data_x_feature'].shape[1]\n",
    "### BEGIN SOLUTION\n",
    "# Input the attribute need by the model \n",
    "model_covid = CNN(n_feature = n_feature_covid,\n",
    "                  n_step = n_step_covid )\n",
    "\n",
    "### END SOLUTION\n",
    "\n",
    "# Define the optimizer (Here we use Adam as our optimizer)\n",
    "### BEGIN SOLUTION\n",
    "optimizer_covid = torch.optim.Adam(model_covid.parameters(), lr=learning_rate_covid)\n",
    "### END SOLUTION\n",
    "\n",
    "# Define the loss function (Here we use MSE as the loss function)\n",
    "### BEGIN SOLUTION\n",
    "loss_fn_covid = nn.MSELoss()\n",
    "### END SOLUTION"
   ]
  },
  {
   "cell_type": "code",
   "execution_count": 53,
   "metadata": {},
   "outputs": [
    {
     "name": "stdout",
     "output_type": "stream",
     "text": [
      "====================================================\n",
      "        Kernel Shape Output Shape Params Mult-Adds\n",
      "Layer                                             \n",
      "0_conv1   [2, 30, 2]   [5, 30, 9]  150.0     1.08k\n",
      "1_poo1             -   [5, 30, 4]      -         -\n",
      "2_conv2  [30, 20, 2]   [5, 20, 3]  1.22k      3.6k\n",
      "3_pool2            -   [5, 20, 1]      -         -\n",
      "4_fc1       [20, 10]      [5, 10]  210.0     200.0\n",
      "5_fc2        [10, 3]       [5, 3]   33.0      30.0\n",
      "----------------------------------------------------\n",
      "                      Totals\n",
      "Total params          1.613k\n",
      "Trainable params      1.613k\n",
      "Non-trainable params     0.0\n",
      "Mult-Adds              4.91k\n",
      "====================================================\n",
      "        Kernel Shape Output Shape  Params  Mult-Adds\n",
      "Layer                                               \n",
      "0_conv1   [2, 30, 2]   [5, 30, 9]   150.0     1080.0\n",
      "1_poo1             -   [5, 30, 4]     NaN        NaN\n",
      "2_conv2  [30, 20, 2]   [5, 20, 3]  1220.0     3600.0\n",
      "3_pool2            -   [5, 20, 1]     NaN        NaN\n",
      "4_fc1       [20, 10]      [5, 10]   210.0      200.0\n",
      "5_fc2        [10, 3]       [5, 3]    33.0       30.0\n"
     ]
    }
   ],
   "source": [
    "seq_length_covid = train_data_dict_covid['train_data_x_feature'].shape[2]\n",
    "\n",
    "# batch size ,input_dim ,seq_length\n",
    "inputs = torch.zeros((batch_size_covid,\n",
    "                      n_feature_covid ,\n",
    "                      seq_length_covid),dtype=torch.float) \n",
    "\n",
    "print(summary(model_covid,inputs))"
   ]
  },
  {
   "cell_type": "code",
   "execution_count": 54,
   "metadata": {},
   "outputs": [
    {
     "data": {
      "text/plain": [
       "CNN(\n",
       "  (conv1): Conv1d(2, 30, kernel_size=(2,), stride=(1,))\n",
       "  (poo1): MaxPool1d(kernel_size=2, stride=2, padding=0, dilation=1, ceil_mode=False)\n",
       "  (conv2): Conv1d(30, 20, kernel_size=(2,), stride=(1,))\n",
       "  (pool2): AdaptiveMaxPool1d(output_size=1)\n",
       "  (fc1): Linear(in_features=20, out_features=10, bias=True)\n",
       "  (fc2): Linear(in_features=10, out_features=3, bias=True)\n",
       ")"
      ]
     },
     "execution_count": 54,
     "metadata": {},
     "output_type": "execute_result"
    }
   ],
   "source": [
    "torch.manual_seed(123)\n",
    "\n",
    "# Xavier weight intialization\n",
    "def weights_init(m):\n",
    "    if isinstance(m, nn.Conv1d):\n",
    "        nn.init.xavier_uniform_(m.weight.data)\n",
    "        \n",
    "model_covid.apply(weights_init)"
   ]
  },
  {
   "cell_type": "markdown",
   "metadata": {},
   "source": [
    "# Step 3 : Training\n",
    ">**Instruction** : <br>\n",
    "Use `deep_learning_module.training` to train the model."
   ]
  },
  {
   "cell_type": "code",
   "execution_count": 55,
   "metadata": {},
   "outputs": [],
   "source": [
    "#seed\n",
    "torch.manual_seed(123)\n",
    "### BEGIN SOLUTION\n",
    "\n",
    "# Start training \n",
    "train_loss_covid,val_loss_covid = deep_learning_module.training(num_epochs= num_epochs_covid ,\n",
    "                                                    train_iter = train_iter_covid,\n",
    "                                                    test_iter = test_iter_covid ,\n",
    "                                                    optimizer = optimizer_covid,\n",
    "                                                    loss_fn = loss_fn_covid,\n",
    "                                                    model = model_covid)\n",
    "### END SOLUTION"
   ]
  },
  {
   "cell_type": "markdown",
   "metadata": {},
   "source": [
    "# Step 4 : Validation"
   ]
  },
  {
   "cell_type": "code",
   "execution_count": 56,
   "metadata": {},
   "outputs": [
    {
     "data": {
      "image/png": "[encoded data removed]",
      "text/plain": [
       "<Figure size 720x432 with 1 Axes>"
      ]
     },
     "metadata": {
      "needs_background": "light"
     },
     "output_type": "display_data"
    },
    {
     "name": "stdout",
     "output_type": "stream",
     "text": [
      "Epoch : 0 , training loss : 0.017914985473454503 , validation loss : 0.0008677042205817997\n",
      "Epoch : 1 , training loss : 0.00019197204279299294 , validation loss : 1.3145560842531268e-05\n",
      "Epoch : 2 , training loss : 4.805578873918194e-05 , validation loss : 1.9494360003591282e-05\n",
      "Epoch : 3 , training loss : 1.892400673302271e-05 , validation loss : 3.5657587432069704e-05\n",
      "Epoch : 4 , training loss : 8.930394606246843e-06 , validation loss : 4.349088703747839e-05\n",
      "Epoch : 5 , training loss : 5.480725615694945e-06 , validation loss : 4.6482264224323444e-05\n",
      "Epoch : 6 , training loss : 4.089781870201629e-06 , validation loss : 4.687286673288327e-05\n",
      "Epoch : 7 , training loss : 3.3738806840884186e-06 , validation loss : 4.493790493143024e-05\n",
      "Epoch : 8 , training loss : 2.9385452074178114e-06 , validation loss : 4.302582328818971e-05\n",
      "Epoch : 9 , training loss : 2.692804934693288e-06 , validation loss : 4.1526276618242264e-05\n",
      "Epoch : 10 , training loss : 2.5585814555086942e-06 , validation loss : 4.049792823934695e-05\n",
      "Epoch : 11 , training loss : 2.4775471050413137e-06 , validation loss : 3.963268500228878e-05\n",
      "Epoch : 12 , training loss : 2.4359053101954925e-06 , validation loss : 3.907930658897385e-05\n",
      "Epoch : 13 , training loss : 2.417423474402304e-06 , validation loss : 3.8710500120942015e-05\n",
      "Epoch : 14 , training loss : 2.4321839773167886e-06 , validation loss : 3.858433137793327e-05\n",
      "Epoch : 15 , training loss : 2.4618283268658192e-06 , validation loss : 3.804807965934742e-05\n",
      "Epoch : 16 , training loss : 2.4913773743649487e-06 , validation loss : 3.757909780688351e-05\n",
      "Epoch : 17 , training loss : 2.522546369578742e-06 , validation loss : 3.722240489878459e-05\n",
      "Epoch : 18 , training loss : 2.5359106794230053e-06 , validation loss : 3.676929827634012e-05\n",
      "Epoch : 19 , training loss : 2.591305707001564e-06 , validation loss : 3.6312711927166674e-05\n",
      "Epoch : 20 , training loss : 2.621993896889061e-06 , validation loss : 3.587499577406561e-05\n",
      "Epoch : 21 , training loss : 2.690341306923568e-06 , validation loss : 3.5557668525143526e-05\n",
      "Epoch : 22 , training loss : 2.7168729553465394e-06 , validation loss : 3.5205531276005786e-05\n",
      "Epoch : 23 , training loss : 2.7581436570259266e-06 , validation loss : 3.488296624709619e-05\n",
      "Epoch : 24 , training loss : 2.79756480783814e-06 , validation loss : 3.472264961601468e-05\n",
      "Epoch : 25 , training loss : 2.81038343091292e-06 , validation loss : 3.464633300609421e-05\n",
      "Epoch : 26 , training loss : 2.802592762533911e-06 , validation loss : 3.4623338251549285e-05\n",
      "Epoch : 27 , training loss : 2.7721879446281205e-06 , validation loss : 3.454534180491464e-05\n",
      "Epoch : 28 , training loss : 2.709574545342514e-06 , validation loss : 3.456697413639631e-05\n",
      "Epoch : 29 , training loss : 2.6538836002933617e-06 , validation loss : 3.451103657425847e-05\n",
      "Epoch : 30 , training loss : 2.588251930366206e-06 , validation loss : 3.444093545112992e-05\n",
      "Epoch : 31 , training loss : 2.5347457359570134e-06 , validation loss : 3.413017384445993e-05\n",
      "Epoch : 32 , training loss : 2.4761882263154198e-06 , validation loss : 3.3891291423060466e-05\n",
      "Epoch : 33 , training loss : 2.4470936580046895e-06 , validation loss : 3.370392823853763e-05\n",
      "Epoch : 34 , training loss : 2.417628635722335e-06 , validation loss : 3.323156761325663e-05\n",
      "Epoch : 35 , training loss : 2.370423010076037e-06 , validation loss : 3.304629717604257e-05\n",
      "Epoch : 36 , training loss : 2.3657387580148216e-06 , validation loss : 3.237418150092708e-05\n",
      "Epoch : 37 , training loss : 2.2960104735664036e-06 , validation loss : 3.174392895743949e-05\n",
      "Epoch : 38 , training loss : 2.2543689554230617e-06 , validation loss : 3.1327827855420765e-05\n",
      "Epoch : 39 , training loss : 2.176863213857289e-06 , validation loss : 3.066978570132051e-05\n",
      "Epoch : 40 , training loss : 2.0317453894069775e-06 , validation loss : 3.074099549849052e-05\n",
      "Epoch : 41 , training loss : 1.919150100366373e-06 , validation loss : 3.075166478083702e-05\n",
      "Epoch : 42 , training loss : 1.7756299510236001e-06 , validation loss : 3.0673334549646825e-05\n",
      "Epoch : 43 , training loss : 1.6599746812889917e-06 , validation loss : 3.155352987960214e-05\n",
      "Epoch : 44 , training loss : 1.6281627092477418e-06 , validation loss : 3.1022670555103105e-05\n",
      "Epoch : 45 , training loss : 1.5758823233760307e-06 , validation loss : 3.3417406484659296e-05\n",
      "Epoch : 46 , training loss : 1.6919016295912139e-06 , validation loss : 3.268764794484014e-05\n",
      "Epoch : 47 , training loss : 1.6362499673449076e-06 , validation loss : 3.3081299989135005e-05\n",
      "Epoch : 48 , training loss : 1.6936210991082997e-06 , validation loss : 3.3930544304894283e-05\n",
      "Epoch : 49 , training loss : 1.763591013848524e-06 , validation loss : 3.487421236059163e-05\n",
      "Epoch : 50 , training loss : 1.8384883803361887e-06 , validation loss : 3.5250504879513755e-05\n",
      "Epoch : 51 , training loss : 1.8955555141935395e-06 , validation loss : 3.5889489481633063e-05\n",
      "Epoch : 52 , training loss : 2.0277856252529475e-06 , validation loss : 3.5641181966639124e-05\n",
      "Epoch : 53 , training loss : 2.12054934564853e-06 , validation loss : 3.617029415181605e-05\n",
      "Epoch : 54 , training loss : 2.371272494803103e-06 , validation loss : 3.612440013966989e-05\n",
      "Epoch : 55 , training loss : 2.5601179339581336e-06 , validation loss : 3.5632605431601405e-05\n",
      "Epoch : 56 , training loss : 2.735680576760431e-06 , validation loss : 3.6012761484016664e-05\n",
      "Epoch : 57 , training loss : 2.9295271177859395e-06 , validation loss : 3.582494264264824e-05\n",
      "Epoch : 58 , training loss : 3.222360479127382e-06 , validation loss : 3.58223060175078e-05\n",
      "Epoch : 59 , training loss : 3.4390628339003753e-06 , validation loss : 3.603805635066237e-05\n",
      "Epoch : 60 , training loss : 3.3895938484852747e-06 , validation loss : 3.467860005912371e-05\n",
      "Epoch : 61 , training loss : 2.7671411357963918e-06 , validation loss : 2.9011237529630307e-05\n",
      "Epoch : 62 , training loss : 1.6155082828749662e-06 , validation loss : 2.634188012962113e-05\n",
      "Epoch : 63 , training loss : 1.167931729085234e-06 , validation loss : 2.4971074708446395e-05\n",
      "Epoch : 64 , training loss : 1.0671713389038033e-06 , validation loss : 2.4417132408416364e-05\n",
      "Epoch : 65 , training loss : 1.0772863369329712e-06 , validation loss : 2.4470544758514734e-05\n",
      "Epoch : 66 , training loss : 1.1517745148761006e-06 , validation loss : 2.492018302291399e-05\n",
      "Epoch : 67 , training loss : 1.314158659419464e-06 , validation loss : 2.4297012259921758e-05\n",
      "Epoch : 68 , training loss : 1.5627913772879697e-06 , validation loss : 2.2570953660761006e-05\n",
      "Epoch : 69 , training loss : 2.0436685443268457e-06 , validation loss : 2.218505869677756e-05\n",
      "Epoch : 70 , training loss : 3.2436733272472738e-06 , validation loss : 2.445514746796107e-05\n",
      "Epoch : 71 , training loss : 4.782284292090244e-06 , validation loss : 2.681453815966961e-05\n",
      "Epoch : 72 , training loss : 5.501612157284862e-06 , validation loss : 2.6220554445899324e-05\n",
      "Epoch : 73 , training loss : 5.09948846600836e-06 , validation loss : 2.293082343385322e-05\n",
      "Epoch : 74 , training loss : 3.3028216249685716e-06 , validation loss : 2.3352523385256063e-05\n",
      "Epoch : 75 , training loss : 2.8525329401086767e-06 , validation loss : 2.4482355456711957e-05\n",
      "Epoch : 76 , training loss : 2.775451573754178e-06 , validation loss : 2.4838097942847526e-05\n",
      "Epoch : 77 , training loss : 2.8561154299954742e-06 , validation loss : 2.5112572529906174e-05\n",
      "Epoch : 78 , training loss : 2.9957405248407005e-06 , validation loss : 2.442630193399964e-05\n",
      "Epoch : 79 , training loss : 3.127562795518949e-06 , validation loss : 2.4252607090602396e-05\n",
      "Epoch : 80 , training loss : 3.352681033090182e-06 , validation loss : 2.482131003489485e-05\n",
      "Epoch : 81 , training loss : 3.4368439729968707e-06 , validation loss : 2.5626207843743032e-05\n",
      "Epoch : 82 , training loss : 3.559731583005871e-06 , validation loss : 2.623268983370508e-05\n",
      "Epoch : 83 , training loss : 3.661601600848361e-06 , validation loss : 2.7089382001577178e-05\n",
      "Epoch : 84 , training loss : 3.726637717096275e-06 , validation loss : 2.7484219572215807e-05\n",
      "Epoch : 85 , training loss : 3.7846905743553547e-06 , validation loss : 2.816511232595076e-05\n",
      "Epoch : 86 , training loss : 3.837452996982653e-06 , validation loss : 2.854243211913854e-05\n",
      "Epoch : 87 , training loss : 3.969893663517556e-06 , validation loss : 2.9407731290120864e-05\n",
      "Epoch : 88 , training loss : 4.1206677775208335e-06 , validation loss : 2.9891845315432874e-05\n",
      "Epoch : 89 , training loss : 4.1625101086167105e-06 , validation loss : 3.0599829187849537e-05\n",
      "Epoch : 90 , training loss : 4.233534760609606e-06 , validation loss : 3.1779843993717805e-05\n",
      "Epoch : 91 , training loss : 4.378938793647612e-06 , validation loss : 3.205314669685322e-05\n",
      "Epoch : 92 , training loss : 4.308423095713981e-06 , validation loss : 3.306526286905864e-05\n",
      "Epoch : 93 , training loss : 4.28700112620526e-06 , validation loss : 3.441204989940161e-05\n",
      "Epoch : 94 , training loss : 4.587957670448704e-06 , validation loss : 3.4136079193558544e-05\n",
      "Epoch : 95 , training loss : 4.21313842512966e-06 , validation loss : 3.4381545447104145e-05\n",
      "Epoch : 96 , training loss : 4.064450850525336e-06 , validation loss : 3.4377912925265264e-05\n",
      "Epoch : 97 , training loss : 4.085843785255261e-06 , validation loss : 3.387390916032018e-05\n",
      "Epoch : 98 , training loss : 3.6618158076470016e-06 , validation loss : 3.38356503561954e-05\n",
      "Epoch : 99 , training loss : 3.599860299264247e-06 , validation loss : 3.242620277887909e-05\n"
     ]
    }
   ],
   "source": [
    "# Plot Learning Curve \n",
    "### BEGIN SOLUTION\n",
    "data_module.learning_curve(num_epochs = num_epochs_covid,\n",
    "                           train_loss = train_loss_covid ,\n",
    "                           val_loss = val_loss_covid)\n",
    "\n",
    "### END SOLUTION"
   ]
  },
  {
   "cell_type": "markdown",
   "metadata": {},
   "source": [
    "# Step 5 : Evaluation\n",
    "This section is to inference the model by feeding in testing data, determining the output forecast values and calculating the RMSE. For this exercise, use the function in `data_module` to run in each section.\n",
    "\n",
    "It consists of 4 sections :\n",
    "\n",
    "Section 1 : Feed in the train and test data to the model <br>\n",
    "Section 2 : Reshape both to the original data dimension <br> \n",
    "Section 3 : Invert the scaling back to the original data value <br>\n",
    "Section 4 : Calculate the RMSE of train and test data\n",
    "\n",
    ">**Instruction** : <br>\n",
    "Complete each sections with the function in `data_module.py`"
   ]
  },
  {
   "cell_type": "code",
   "execution_count": 57,
   "metadata": {},
   "outputs": [],
   "source": [
    "# Section 1 : Make predictions\n",
    "\n",
    "### BEGIN SOLUTION\n",
    "with torch.no_grad():\n",
    "    y_train_prediction_covid = model_covid(train_data_dict_covid['train_data_x_feature'])\n",
    "    y_test_prediction_covid = model_covid(test_data_dict_covid['test_data_x_feature'])\n",
    "### END SOLUTION"
   ]
  },
  {
   "cell_type": "code",
   "execution_count": 58,
   "metadata": {},
   "outputs": [],
   "source": [
    "# Assign evaluation key\n",
    "### BEGIN SOLUTION\n",
    "prediction_covid , output_covid = data_module.key_assign_evaluation(y_train_prediction_covid,\n",
    "                                                                    y_test_prediction_covid,\n",
    "                                                                    train_data_dict_covid,\n",
    "                                                                    test_data_dict_covid)\n",
    "### END SOLUTION\n",
    "\n",
    "\n",
    "# Section 2 : Reshape data\n",
    "### BEGIN SOLUTION\n",
    "# Squeeze the output dimension\n",
    "output_data_covid = data_module.squeeze_dimension(output_covid)\n",
    "### END SOLUTION"
   ]
  },
  {
   "cell_type": "code",
   "execution_count": 59,
   "metadata": {},
   "outputs": [
    {
     "name": "stdout",
     "output_type": "stream",
     "text": [
      "train_data_output shape : torch.Size([369, 3])\n",
      "test_data_output shape : torch.Size([10, 3])\n"
     ]
    }
   ],
   "source": [
    "data_module.sanity_check(data_1 = output_data_covid,data_2 = {})"
   ]
  },
  {
   "cell_type": "code",
   "execution_count": 60,
   "metadata": {},
   "outputs": [],
   "source": [
    "# Section 3 : Invert the scaling back to orignal data value\n",
    "### BEGIN SOLUTION\n",
    "prediction_covid = data_module.inverse_scaler(prediction_covid,scaler_covid)\n",
    "output_data_covid  = data_module.inverse_scaler(output_data_covid ,scaler_covid)\n",
    "### END SOLUTION"
   ]
  },
  {
   "cell_type": "markdown",
   "metadata": {},
   "source": [
    "`np.rint` is used to round our data to integer since the death cases should be an integer."
   ]
  },
  {
   "cell_type": "code",
   "execution_count": 61,
   "metadata": {},
   "outputs": [],
   "source": [
    "prediction_covid['test_data_prediction'] = np.rint(prediction_covid['test_data_prediction'])\n",
    "output_data_covid['test_data_output'] =  np.rint(output_data_covid['test_data_output']) "
   ]
  },
  {
   "cell_type": "code",
   "execution_count": 62,
   "metadata": {},
   "outputs": [
    {
     "name": "stdout",
     "output_type": "stream",
     "text": [
      "Test Data\t\t\tForecast\n",
      "[ 8. 22. 25.]\t\t[21. 30.  9.]\n",
      "[22. 25. 13.]\t\t[18. 25.  9.]\n",
      "[25. 13.  8.]\t\t[34. 45. 10.]\n",
      "[13.  8.  5.]\t\t[23. 30. 11.]\n",
      "[8. 5. 6.]\t\t[50. 65. 12.]\n",
      "[ 5.  6. 14.]\t\t[51. 61. 14.]\n",
      "[ 6. 14. 12.]\t\t[60. 69. 16.]\n",
      "[14. 12. 12.]\t\t[70. 81. 18.]\n",
      "[12. 12. 11.]\t\t[39. 45. 15.]\n",
      "[12. 11. 10.]\t\t[46. 60. 13.]\n"
     ]
    }
   ],
   "source": [
    "# List the forecast value\n",
    "### BEGIN SOLUTION\n",
    "data_module.list_forecast_value(output_data_covid,prediction_covid) \n",
    "### END SOLUTION"
   ]
  },
  {
   "cell_type": "code",
   "execution_count": 63,
   "metadata": {},
   "outputs": [
    {
     "name": "stdout",
     "output_type": "stream",
     "text": [
      "Train Score: 30.62 RMSE\n",
      "Test Score: 32.70 RMSE\n"
     ]
    }
   ],
   "source": [
    "# calculate root mean squared error\n",
    "### BEGIN SOLUTION\n",
    "trainScore_covid,testScore_covid = data_module.rmse(prediction_covid,output_data_covid)\n",
    "print('Train Score: %.2f RMSE' % (trainScore_covid))\n",
    "print('Test Score: %.2f RMSE' % (testScore_covid))\n",
    "### END SOLUTION"
   ]
  },
  {
   "cell_type": "markdown",
   "metadata": {},
   "source": [
    "# Step 6 : Forecast Plot"
   ]
  },
  {
   "cell_type": "code",
   "execution_count": 64,
   "metadata": {},
   "outputs": [
    {
     "data": {
      "image/png": "[encoded data removed]",
      "text/plain": [
       "<Figure size 720x432 with 1 Axes>"
      ]
     },
     "metadata": {
      "needs_background": "light"
     },
     "output_type": "display_data"
    }
   ],
   "source": [
    "data_module.multi_step_plot(original_test_data = test_data_covid[\"Deaths\"],\n",
    "                            after_sequence_test_data = output_data_covid,\n",
    "                            forecast_data = prediction_covid,\n",
    "                            test_time = test_time_covid,\n",
    "                            window_size = window_size_covid,\n",
    "                            n_step = n_step_covid,\n",
    "                            details={},\n",
    "                            original_plot=True,\n",
    "                            multivariate = True)\n"
   ]
  },
  {
   "cell_type": "markdown",
   "metadata": {},
   "source": [
    "## Summary\n",
    "In this tutorial you should have learnt:\n",
    "\n",
    "1. The flow of using CNN to perform multivariate input, univariate output multi-step forecasting.<br>\n",
    "\n",
    "Congratulations, that concludes this lesson.<br>\n",
    "\n",
    "1. ~~*[04 - CNN_Univariate_SingleStep]*~~ *Complete*\n",
    "2. ~~*[04 - CNN_Univariate_MultiStep]*~~*Complete*\n",
    "3. ~~*[04 - CNN_Multivariate_Univariate_SingleStep]*~~*Complete*\n",
    "4. ~~*[04 - CNN_Multivariate_Univariate_MultiStep]*~~*Complete*"
   ]
  },
  {
   "cell_type": "markdown",
   "metadata": {},
   "source": [
    "## Reference\n",
    "1. [Deep Learning for Time Series Forecasting (Predict the Future with MLPs,CNNs and LSTMs in Python) , Jason Brownlee](https://machinelearningmastery.com/deep-learning-for-time-series-forecasting/)\n"
   ]
  }
 ],
 "metadata": {
  "kernelspec": {
   "display_name": "Python 3",
   "language": "python",
   "name": "python3"
  },
  "language_info": {
   "codemirror_mode": {
    "name": "ipython",
    "version": 3
   },
   "file_extension": ".py",
   "mimetype": "text/x-python",
   "name": "python",
   "nbconvert_exporter": "python",
   "pygments_lexer": "ipython3",
   "version": "3.7.9"
  }
 },
 "nbformat": 4,
 "nbformat_minor": 4
}
