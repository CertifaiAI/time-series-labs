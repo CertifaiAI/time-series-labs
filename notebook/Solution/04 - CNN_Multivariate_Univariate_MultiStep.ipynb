{
 "cells": [
  {
   "cell_type": "markdown",
   "metadata": {
    "deletable": false,
    "editable": false
   },
   "source": [
    "![logo](../../picture/license_header_logo.png)\n",
    "> **Copyright &copy; 2020 - 2021 CertifAI Sdn. Bhd.**<br>\n",
    " <br>\n",
    "This program and the accompanying materials are made available under the\n",
    "terms of the [Apache License, Version 2.0](https://www.apache.org/licenses/LICENSE-2.0). <br>\n",
    "Unless required by applicable law or agreed to in writing, software\n",
    "distributed under the License is distributed on an \"AS IS\" BASIS, WITHOUT\n",
    "WARRANTIES OR CONDITIONS OF ANY KIND, either express or implied. See the\n",
    "License for the specific language governing permissions and limitations\n",
    "under the License. <br>\n",
    "<br>**SPDX-License-Identifier: Apache-2.0**"
   ]
  },
  {
   "cell_type": "markdown",
   "metadata": {},
   "source": [
    "# Requirement\n",
    "You should complete the LSTM tutorial before starting the CNN tutorial. This is because most of the functions used will be based on `data_module.py` and `deep_learning_module.py`\n",
    "\n",
    "Please proceed to the LSTM notebook if you haven't complete it.<br>\n",
    "\n",
    "1. [04 - LSTM_Univariate_SingleStep](./04%20-%20LSTM_Univariate_SingleStep.ipynb)\n",
    "2. [04 - LSTM_Univariate_MultiStep.ipynb](./04%20-%20LSTM_Univariate_MultiStep.ipynb)\n",
    "3. [04 - LSTM_Multivariate_Univariate_SingleStep](./04%20-%20LSTM_Multivariate_Univariate_SingleStep.ipynb)<br>\n",
    "4. [04 - LSTM_Multivariate_Univariate_MultiStep](./04%20-%20LSTM_Multivariate_Univariate_MultiStep.ipynb)<br>"
   ]
  },
  {
   "cell_type": "markdown",
   "metadata": {},
   "source": [
    "## Multivariate Input, Univariate Output CNN, Multi-Step\n",
    "This tutorial is to demonstrate the process of building a CNN mdoel for Multivariate Input, Univariate Output for Multi-Step.<br>\n",
    "\n",
    "It consists of 2 major parts which are:<br>\n",
    "\n",
    "Part 1 - The Demonstration of Building CNN using Synthetic data<br>\n",
    "Part 2 - Exercise of building CNN using COVID-19 Data. <br>\n",
    "\n",
    "## What will we accomplish?\n",
    "First, we will show the step in building the CNN :\n",
    "\n",
    "Step 1. Data Preparation (Data Splitting,Data Sequencing,Data Standardization and Batching the Data) <br>\n",
    "Step 2. Model Configuration for CNN<br>\n",
    "Step 3. Train the model<br>\n",
    "Step 4. Validate the model using graph<br>\n",
    "Step 5. Evaluation Metrics such as MSE<br>\n",
    "Step 6. Plot the forecast result<br>\n",
    "\n",
    "Let's import the package needed"
   ]
  },
  {
   "cell_type": "code",
   "execution_count": 1,
   "metadata": {},
   "outputs": [],
   "source": [
    "# import packages needed\n",
    "import numpy as np\n",
    "import pandas as pd\n",
    "import matplotlib.pyplot as plt\n",
    "import torch\n",
    "import torch.nn as nn\n",
    "import torch.nn.functional as F\n",
    "from torch.utils.data import DataLoader, TensorDataset\n",
    "from sklearn.metrics import mean_squared_error\n",
    "from sklearn.preprocessing import StandardScaler , MinMaxScaler\n",
    "import math\n",
    "from torchsummaryX import summary\n",
    "\n",
    "# To auto load the customise module\n",
    "%load_ext autoreload\n",
    "%autoreload 2\n",
    "import deep_learning_module\n",
    "import data_module"
   ]
  },
  {
   "cell_type": "markdown",
   "metadata": {},
   "source": [
    "## Hyperparameter\n",
    "Define the hyperparameter that is needed to tune the model."
   ]
  },
  {
   "cell_type": "code",
   "execution_count": 2,
   "metadata": {},
   "outputs": [],
   "source": [
    "split_ratio = 0.70\n",
    "num_epochs = 300\n",
    "window_size = 5\n",
    "batch_size = 2\n",
    "n_step = 2\n",
    "learning_rate = 0.01"
   ]
  },
  {
   "cell_type": "markdown",
   "metadata": {},
   "source": [
    "# Step 1 : Data Preparation\n",
    "We create synthetic data to make sure the model is created correctly and has the ability to perform forecasting. <br>\n",
    "\n",
    "1. First, we will create a sequence of data with `np.array`.\n",
    "2. Then, we will assign a date to the sequence of data with `pd.date_range` and store it in a series format by using `pd.Series`."
   ]
  },
  {
   "cell_type": "code",
   "execution_count": 3,
   "metadata": {},
   "outputs": [],
   "source": [
    "#Synthetic Data\n",
    "in_seq1 = np.array([x for x in range(0, 300, 10)])\n",
    "in_seq2 = np.array([x for x in range(5, 305, 10)])\n",
    "out_seq = np.array([in_seq1[i] + in_seq2[i] for i in range(len(in_seq1))])\n",
    "\n",
    "\n",
    "# convert to [rows, columns] structure\n",
    "in_seq1 = in_seq1.reshape((len(in_seq1), 1))\n",
    "in_seq2 = in_seq2.reshape((len(in_seq2), 1))\n",
    "out_seq = out_seq.reshape((len(out_seq), 1))\n",
    "\n",
    "# horizontally stack columns\n",
    "dataset = np.hstack((in_seq1, in_seq2, out_seq))"
   ]
  },
  {
   "cell_type": "code",
   "execution_count": 4,
   "metadata": {},
   "outputs": [
    {
     "data": {
      "text/html": [
       "<div>\n",
       "<style scoped>\n",
       "    .dataframe tbody tr th:only-of-type {\n",
       "        vertical-align: middle;\n",
       "    }\n",
       "\n",
       "    .dataframe tbody tr th {\n",
       "        vertical-align: top;\n",
       "    }\n",
       "\n",
       "    .dataframe thead th {\n",
       "        text-align: right;\n",
       "    }\n",
       "</style>\n",
       "<table border=\"1\" class=\"dataframe\">\n",
       "  <thead>\n",
       "    <tr style=\"text-align: right;\">\n",
       "      <th></th>\n",
       "      <th>in_seq1</th>\n",
       "      <th>in_seq2</th>\n",
       "      <th>out_seq</th>\n",
       "    </tr>\n",
       "    <tr>\n",
       "      <th>Date</th>\n",
       "      <th></th>\n",
       "      <th></th>\n",
       "      <th></th>\n",
       "    </tr>\n",
       "  </thead>\n",
       "  <tbody>\n",
       "    <tr>\n",
       "      <th>2020-01-01</th>\n",
       "      <td>0</td>\n",
       "      <td>5</td>\n",
       "      <td>5</td>\n",
       "    </tr>\n",
       "    <tr>\n",
       "      <th>2020-01-02</th>\n",
       "      <td>10</td>\n",
       "      <td>15</td>\n",
       "      <td>25</td>\n",
       "    </tr>\n",
       "    <tr>\n",
       "      <th>2020-01-03</th>\n",
       "      <td>20</td>\n",
       "      <td>25</td>\n",
       "      <td>45</td>\n",
       "    </tr>\n",
       "    <tr>\n",
       "      <th>2020-01-04</th>\n",
       "      <td>30</td>\n",
       "      <td>35</td>\n",
       "      <td>65</td>\n",
       "    </tr>\n",
       "    <tr>\n",
       "      <th>2020-01-05</th>\n",
       "      <td>40</td>\n",
       "      <td>45</td>\n",
       "      <td>85</td>\n",
       "    </tr>\n",
       "  </tbody>\n",
       "</table>\n",
       "</div>"
      ],
      "text/plain": [
       "            in_seq1  in_seq2  out_seq\n",
       "Date                                 \n",
       "2020-01-01        0        5        5\n",
       "2020-01-02       10       15       25\n",
       "2020-01-03       20       25       45\n",
       "2020-01-04       30       35       65\n",
       "2020-01-05       40       45       85"
      ]
     },
     "execution_count": 4,
     "metadata": {},
     "output_type": "execute_result"
    }
   ],
   "source": [
    "dataset = pd.DataFrame(dataset,columns =[\"in_seq1\",\"in_seq2\",\"out_seq\"],\n",
    "                      index = pd.date_range(\"1/1/2020\",periods=len(dataset),freq='D'))\n",
    "dataset.index.name=\"Date\"\n",
    "dataset.head()"
   ]
  },
  {
   "cell_type": "markdown",
   "metadata": {},
   "source": [
    "## Data Visualization\n",
    "Data visualization is important for us to visualize the pattern of data such as trend and seasonality. As seen in the graph below, there is an increasing trend in data."
   ]
  },
  {
   "cell_type": "code",
   "execution_count": 5,
   "metadata": {},
   "outputs": [
    {
     "data": {
      "text/plain": [
       "Text(0.5, 1.0, 'Synthetic Data')"
      ]
     },
     "execution_count": 5,
     "metadata": {},
     "output_type": "execute_result"
    },
    {
     "data": {
      "image/png": "[encoded data removed]",
      "text/plain": [
       "<Figure size 432x288 with 1 Axes>"
      ]
     },
     "metadata": {
      "needs_background": "light"
     },
     "output_type": "display_data"
    }
   ],
   "source": [
    "dataset.plot()\n",
    "plt.title(\"Synthetic Data\")"
   ]
  },
  {
   "cell_type": "markdown",
   "metadata": {},
   "source": [
    "## Data Splitting\n",
    "In Deep Learning, we will split the data into training and test dataset. The training data is used to train the model whereas the test data is used to validate the performance of the model."
   ]
  },
  {
   "cell_type": "code",
   "execution_count": 6,
   "metadata": {},
   "outputs": [
    {
     "data": {
      "text/plain": [
       "21"
      ]
     },
     "execution_count": 6,
     "metadata": {},
     "output_type": "execute_result"
    }
   ],
   "source": [
    "# Calculate the split ratio \n",
    "split_data = round(len(dataset)*split_ratio)\n",
    "split_data"
   ]
  },
  {
   "cell_type": "code",
   "execution_count": 7,
   "metadata": {},
   "outputs": [
    {
     "name": "stdout",
     "output_type": "stream",
     "text": [
      "train_data_shape\n",
      "(21, 3)\n",
      "test_data_shape\n",
      "(9, 3)\n"
     ]
    }
   ],
   "source": [
    "# Split data by indexing \n",
    "train_data = dataset[:split_data]\n",
    "test_data = dataset[split_data:]\n",
    "train_time = dataset.index[:split_data]\n",
    "test_time = dataset.index[split_data:]\n",
    "print(\"train_data_shape\")\n",
    "print(train_data.shape)\n",
    "print(\"test_data_shape\")\n",
    "print(test_data.shape)"
   ]
  },
  {
   "cell_type": "markdown",
   "metadata": {},
   "source": [
    "## Data Standardization\n",
    "Standardize your numeric attributes to have 0 mean and unit variance."
   ]
  },
  {
   "cell_type": "code",
   "execution_count": 8,
   "metadata": {},
   "outputs": [
    {
     "name": "stdout",
     "output_type": "stream",
     "text": [
      "train_data_standardized(21, 3)\n",
      "test_data_standardized(9, 3)\n"
     ]
    }
   ],
   "source": [
    "data_scalers,train_data_standard, test_data_standard = data_module.multi_data_scaler(train_data,test_data)\n",
    "print(\"train_data_standardized\"+str(train_data_standard.shape))\n",
    "print(\"test_data_standardized\"+str(test_data_standard.shape))"
   ]
  },
  {
   "cell_type": "markdown",
   "metadata": {},
   "source": [
    "## Data Sequencing\n",
    "Sequencing the data by taking in the multivariate series into `x-feature` and `y-label`\n",
    "<img src = \"../../picture/multivariate univariate.png\"  width=\"300\" height  =\"300\" align=\"center\" />"
   ]
  },
  {
   "cell_type": "code",
   "execution_count": 9,
   "metadata": {},
   "outputs": [
    {
     "name": "stdout",
     "output_type": "stream",
     "text": [
      "trainX shape:(16, 5, 2) trainY shape:(16, 2)\n",
      "\n",
      "testX shape:(4, 5, 2) testY shape:(4, 2)\n"
     ]
    }
   ],
   "source": [
    "trainX, trainY = data_module.multivariate_univariate_multi_step(train_data_standard, window_size,n_step)\n",
    "testX, testY = data_module.multivariate_univariate_multi_step(test_data_standard, window_size,n_step)\n",
    "print(f\"trainX shape:{trainX.shape} trainY shape:{trainY.shape}\\n\")\n",
    "print(f\"testX shape:{testX.shape} testY shape:{testY.shape}\")"
   ]
  },
  {
   "cell_type": "code",
   "execution_count": 10,
   "metadata": {},
   "outputs": [
    {
     "name": "stdout",
     "output_type": "stream",
     "text": [
      "trainY shape:(16, 2, 1)\n",
      "testY shape:(4, 2, 1)\n"
     ]
    }
   ],
   "source": [
    "trainY = trainY.reshape(trainY.shape[0],n_step,1)\n",
    "testY = testY.reshape(testY.shape[0],n_step,1)\n",
    "print(f\"trainY shape:{trainY.shape}\")\n",
    "print(f\"testY shape:{testY.shape}\")"
   ]
  },
  {
   "cell_type": "markdown",
   "metadata": {},
   "source": [
    "## Data Transform\n",
    "Data needs to be transformed from `NumPy` to `PyTorch` tensor before being fed into the model"
   ]
  },
  {
   "cell_type": "code",
   "execution_count": 11,
   "metadata": {},
   "outputs": [],
   "source": [
    "train_data_dict ,test_data_dict = data_module.key_assign(trainingX = trainX  , \n",
    "                       testingX = testX, \n",
    "                       trainingY = trainY, \n",
    "                       testingY = testY)\n",
    "\n",
    "train_data_dict ,test_data_dict = data_module.transform(train_data_dict ,test_data_dict)"
   ]
  },
  {
   "cell_type": "code",
   "execution_count": 12,
   "metadata": {},
   "outputs": [
    {
     "name": "stdout",
     "output_type": "stream",
     "text": [
      "train_data_x_feature shape : torch.Size([16, 5, 2])\n",
      "train_data_y_label shape : torch.Size([16, 2, 1])\n",
      "test_data_x_feature shape : torch.Size([4, 5, 2])\n",
      "test_data_y_label shape : torch.Size([4, 2, 1])\n"
     ]
    }
   ],
   "source": [
    "data_module.sanity_check(train_data_dict , test_data_dict)"
   ]
  },
  {
   "cell_type": "markdown",
   "metadata": {},
   "source": [
    "## Data Transpose \n",
    "You are required to transpose the x-feature data in such a way that : <br>\n",
    ">`(batch_size, number_of_features, sequence_length)`."
   ]
  },
  {
   "cell_type": "code",
   "execution_count": 13,
   "metadata": {},
   "outputs": [],
   "source": [
    "# Data Transpose to suit for CNN \n",
    "train_data_dict , test_data_dict= data_module.transpose(train_data_dict,test_data_dict)"
   ]
  },
  {
   "cell_type": "code",
   "execution_count": 14,
   "metadata": {},
   "outputs": [
    {
     "name": "stdout",
     "output_type": "stream",
     "text": [
      "train_data_x_feature shape : torch.Size([16, 2, 5])\n",
      "train_data_y_label shape : torch.Size([16, 2, 1])\n",
      "test_data_x_feature shape : torch.Size([4, 2, 5])\n",
      "test_data_y_label shape : torch.Size([4, 2, 1])\n"
     ]
    }
   ],
   "source": [
    "data_module.sanity_check(train_data_dict , test_data_dict)"
   ]
  },
  {
   "cell_type": "markdown",
   "metadata": {},
   "source": [
    "## Data Iterator\n",
    "Iterator is created to separate the data into several batches to fasten the training process"
   ]
  },
  {
   "cell_type": "code",
   "execution_count": 15,
   "metadata": {},
   "outputs": [],
   "source": [
    "train_iter , test_iter = data_module.iterator(train_data_dict ,test_data_dict,batch_size = batch_size)"
   ]
  },
  {
   "cell_type": "markdown",
   "metadata": {},
   "source": [
    "# Step 2 :  CNN Model Configuration\n",
    "You may choose to use the CNN configuration that have been saved in the `deep_learning_module.py` or code it by yourself."
   ]
  },
  {
   "cell_type": "code",
   "execution_count": 16,
   "metadata": {},
   "outputs": [],
   "source": [
    "class CNN(nn.Module):\n",
    "\n",
    "    def __init__(self,n_feature,n_step):\n",
    "        super(CNN, self).__init__()\n",
    "        \n",
    "        self.n_feature = n_feature\n",
    "        self.n_step = n_step\n",
    "\n",
    "        # Conv1d in_channels is base on num time series\n",
    "        # Input:(N,C,Lin) Output : (N,C,Lout)\n",
    "        self.conv1 = nn.Conv1d(in_channels = n_feature, out_channels = 30, kernel_size = 2)\n",
    "        \n",
    "        # For example Input:(N,C,Lin) Output : (N,C,Lout)\n",
    "        self.poo1 = nn.MaxPool1d(kernel_size=2)\n",
    "        \n",
    "        self.conv2 = nn.Conv1d(in_channels = 30, out_channels = 20, kernel_size = 2)\n",
    "        \n",
    "        # AdaptiveMaxPool1d use to make sure it always will output  = 1 ,to make sure return the correct batch size \n",
    "        self.pool2 = nn.AdaptiveMaxPool1d(1)\n",
    "        self.fc1 = nn.Linear(20, 10)\n",
    "        self.fc2 = nn.Linear(10,n_step)\n",
    "\n",
    "    def forward(self, x):\n",
    "        x = F.relu(self.conv1(x))\n",
    "        x = self.poo1(x)\n",
    "        x = F.relu(self.conv2(x))\n",
    "        x = self.pool2(x)\n",
    "        x = x.view(-1,20)\n",
    "        x = F.relu(self.fc1(x))\n",
    "        x = self.fc2(x)\n",
    "\n",
    "        return x"
   ]
  },
  {
   "cell_type": "markdown",
   "metadata": {},
   "source": [
    "## Input Model\n",
    "The number of features and number of steps are fed as attributes into the model. The other attributes such as `kernel_size` , `in_channels` and `out_channels` for each convolution layer need to configured in the network configuration by the practitioner."
   ]
  },
  {
   "cell_type": "code",
   "execution_count": 17,
   "metadata": {},
   "outputs": [],
   "source": [
    "# seed\n",
    "torch.manual_seed(123)\n",
    "### BEGIN SOLUTION\n",
    "n_feature = train_data_dict['train_data_x_feature'].shape[1]\n",
    "\n",
    "# Input the attribute need by the model \n",
    "model = CNN(n_feature = n_feature,n_step = n_step )\n",
    "\n",
    "# Define the optimizer (Here we use SGD as our optimizer)\n",
    "optimizer = torch.optim.Adam(model.parameters(), lr=learning_rate)\n",
    "\n",
    "# Define the loss function (Here we use MSE as the loss function)\n",
    "loss_fn = nn.MSELoss()\n",
    "\n",
    "### END SOLUTION"
   ]
  },
  {
   "cell_type": "code",
   "execution_count": 18,
   "metadata": {},
   "outputs": [
    {
     "name": "stdout",
     "output_type": "stream",
     "text": [
      "====================================================\n",
      "        Kernel Shape Output Shape Params Mult-Adds\n",
      "Layer                                             \n",
      "0_conv1   [2, 30, 2]   [2, 30, 4]  150.0     480.0\n",
      "1_poo1             -   [2, 30, 2]      -         -\n",
      "2_conv2  [30, 20, 2]   [2, 20, 1]  1.22k      1.2k\n",
      "3_pool2            -   [2, 20, 1]      -         -\n",
      "4_fc1       [20, 10]      [2, 10]  210.0     200.0\n",
      "5_fc2        [10, 2]       [2, 2]   22.0      20.0\n",
      "----------------------------------------------------\n",
      "                      Totals\n",
      "Total params          1.602k\n",
      "Trainable params      1.602k\n",
      "Non-trainable params     0.0\n",
      "Mult-Adds               1.9k\n",
      "====================================================\n",
      "        Kernel Shape Output Shape  Params  Mult-Adds\n",
      "Layer                                               \n",
      "0_conv1   [2, 30, 2]   [2, 30, 4]   150.0      480.0\n",
      "1_poo1             -   [2, 30, 2]     NaN        NaN\n",
      "2_conv2  [30, 20, 2]   [2, 20, 1]  1220.0     1200.0\n",
      "3_pool2            -   [2, 20, 1]     NaN        NaN\n",
      "4_fc1       [20, 10]      [2, 10]   210.0      200.0\n",
      "5_fc2        [10, 2]       [2, 2]    22.0       20.0\n"
     ]
    }
   ],
   "source": [
    "seq_length = train_data_dict['train_data_x_feature'].shape[2]\n",
    "inputs = torch.zeros((batch_size,n_feature ,seq_length),dtype=torch.float) # batch size ,input_dim ,seq_length\n",
    "print(summary(model,inputs))"
   ]
  },
  {
   "cell_type": "code",
   "execution_count": 19,
   "metadata": {},
   "outputs": [
    {
     "data": {
      "text/plain": [
       "CNN(\n",
       "  (conv1): Conv1d(2, 30, kernel_size=(2,), stride=(1,))\n",
       "  (poo1): MaxPool1d(kernel_size=2, stride=2, padding=0, dilation=1, ceil_mode=False)\n",
       "  (conv2): Conv1d(30, 20, kernel_size=(2,), stride=(1,))\n",
       "  (pool2): AdaptiveMaxPool1d(output_size=1)\n",
       "  (fc1): Linear(in_features=20, out_features=10, bias=True)\n",
       "  (fc2): Linear(in_features=10, out_features=2, bias=True)\n",
       ")"
      ]
     },
     "execution_count": 19,
     "metadata": {},
     "output_type": "execute_result"
    }
   ],
   "source": [
    "# seed\n",
    "torch.manual_seed(123)\n",
    "\n",
    "#  Xavier Weight Initialize \n",
    "def weights_init(m):\n",
    "    if isinstance(m, nn.Conv1d):\n",
    "        nn.init.xavier_uniform_(m.weight.data)\n",
    "        \n",
    "model.apply(weights_init)"
   ]
  },
  {
   "cell_type": "markdown",
   "metadata": {},
   "source": [
    "# Step 3 : Training"
   ]
  },
  {
   "cell_type": "code",
   "execution_count": 20,
   "metadata": {},
   "outputs": [],
   "source": [
    "# Start Training\n",
    "# seed\n",
    "torch.manual_seed(123)\n",
    "# Start Training\n",
    "train_loss, val_loss = deep_learning_module.training(num_epochs, train_iter, test_iter, optimizer, loss_fn, model)"
   ]
  },
  {
   "cell_type": "markdown",
   "metadata": {},
   "source": [
    "# Step 4 : Validation \n",
    "A learning curve is plotted to define how well the data fits in the model "
   ]
  },
  {
   "cell_type": "code",
   "execution_count": 21,
   "metadata": {},
   "outputs": [
    {
     "data": {
      "image/png": "[encoded data removed]",
      "text/plain": [
       "<Figure size 720x432 with 1 Axes>"
      ]
     },
     "metadata": {
      "needs_background": "light"
     },
     "output_type": "display_data"
    },
    {
     "name": "stdout",
     "output_type": "stream",
     "text": [
      "Epoch : 0 , training loss : 0.9156034053303301 , validation loss : 8.95957636833191\n",
      "Epoch : 1 , training loss : 0.787573297158815 , validation loss : 8.595951080322266\n",
      "Epoch : 2 , training loss : 0.7470226886216551 , validation loss : 8.319957256317139\n",
      "Epoch : 3 , training loss : 0.6981503651477396 , validation loss : 7.951911449432373\n",
      "Epoch : 4 , training loss : 0.6546148220077157 , validation loss : 7.490857362747192\n",
      "Epoch : 5 , training loss : 0.5993571528233588 , validation loss : 6.895974636077881\n",
      "Epoch : 6 , training loss : 0.5559805318480358 , validation loss : 6.118077516555786\n",
      "Epoch : 7 , training loss : 0.4486147912684828 , validation loss : 4.794971942901611\n",
      "Epoch : 8 , training loss : 0.25874249305343255 , validation loss : 2.473141312599182\n",
      "Epoch : 9 , training loss : 0.14004250580910593 , validation loss : 0.5159992128610611\n",
      "Epoch : 10 , training loss : 0.1622970853932202 , validation loss : 0.050692747347056866\n",
      "Epoch : 11 , training loss : 0.060572193877305835 , validation loss : 0.5456087589263916\n",
      "Epoch : 12 , training loss : 0.04493862367235124 , validation loss : 1.0778568983078003\n",
      "Epoch : 13 , training loss : 0.025638765713665634 , validation loss : 1.1386330723762512\n",
      "Epoch : 14 , training loss : 0.019964333856478333 , validation loss : 1.2000731229782104\n",
      "Epoch : 15 , training loss : 0.012746204345603473 , validation loss : 1.2781881988048553\n",
      "Epoch : 16 , training loss : 0.009827927548030857 , validation loss : 1.111481785774231\n",
      "Epoch : 17 , training loss : 0.009092217485886067 , validation loss : 0.9981387853622437\n",
      "Epoch : 18 , training loss : 0.008753679940127768 , validation loss : 1.008956640958786\n",
      "Epoch : 19 , training loss : 0.012619425724551547 , validation loss : 0.8641068041324615\n",
      "Epoch : 20 , training loss : 0.007065413481541327 , validation loss : 0.762464165687561\n",
      "Epoch : 21 , training loss : 0.024148950964445248 , validation loss : 0.8947025537490845\n",
      "Epoch : 22 , training loss : 0.05562219102284871 , validation loss : 0.7489711940288544\n",
      "Epoch : 23 , training loss : 0.02334883122239262 , validation loss : 0.3932235389947891\n",
      "Epoch : 24 , training loss : 0.015860835585044697 , validation loss : 0.7249860167503357\n",
      "Epoch : 25 , training loss : 0.011558748665265739 , validation loss : 0.8419800996780396\n",
      "Epoch : 26 , training loss : 0.01027708503534086 , validation loss : 0.7626998126506805\n",
      "Epoch : 27 , training loss : 0.006600325228646398 , validation loss : 0.7628032565116882\n",
      "Epoch : 28 , training loss : 0.004856506842770614 , validation loss : 0.6507376134395599\n",
      "Epoch : 29 , training loss : 0.005483138858835446 , validation loss : 0.759430319070816\n",
      "Epoch : 30 , training loss : 0.014170077527523972 , validation loss : 0.5952944159507751\n",
      "Epoch : 31 , training loss : 0.010632276156684384 , validation loss : 0.536604568362236\n",
      "Epoch : 32 , training loss : 0.015351254434790462 , validation loss : 0.775969386100769\n",
      "Epoch : 33 , training loss : 0.03846946934936568 , validation loss : 0.3898908942937851\n",
      "Epoch : 34 , training loss : 0.04113541827246081 , validation loss : 0.23683154582977295\n",
      "Epoch : 35 , training loss : 0.018409821219393052 , validation loss : 0.763081818819046\n",
      "Epoch : 36 , training loss : 0.009950383204341051 , validation loss : 0.6495653390884399\n",
      "Epoch : 37 , training loss : 0.0065707645553629845 , validation loss : 0.622471883893013\n",
      "Epoch : 38 , training loss : 0.003344256485434016 , validation loss : 0.6931718289852142\n",
      "Epoch : 39 , training loss : 0.006404445593943819 , validation loss : 0.4578845500946045\n",
      "Epoch : 40 , training loss : 0.012154873344115913 , validation loss : 0.4491419941186905\n",
      "Epoch : 41 , training loss : 0.011175940016983077 , validation loss : 0.6465921401977539\n",
      "Epoch : 42 , training loss : 0.013099451582093025 , validation loss : 0.2672136127948761\n",
      "Epoch : 43 , training loss : 0.0396191761828959 , validation loss : 0.3300549238920212\n",
      "Epoch : 44 , training loss : 0.04170223699657072 , validation loss : 0.7062287926673889\n",
      "Epoch : 45 , training loss : 0.013107023074553581 , validation loss : 0.3298368602991104\n",
      "Epoch : 46 , training loss : 0.004997634765459225 , validation loss : 0.4003962129354477\n",
      "Epoch : 47 , training loss : 0.026977667032042518 , validation loss : 0.5248675048351288\n",
      "Epoch : 48 , training loss : 0.04982179233775241 , validation loss : 0.4282492697238922\n",
      "Epoch : 49 , training loss : 0.04411804112896789 , validation loss : 0.07897405698895454\n",
      "Epoch : 50 , training loss : 0.021724752063164487 , validation loss : 0.33899135887622833\n",
      "Epoch : 51 , training loss : 0.023781198222422972 , validation loss : 0.39478032290935516\n",
      "Epoch : 52 , training loss : 0.015496147549129091 , validation loss : 0.30884991586208344\n",
      "Epoch : 53 , training loss : 0.0277313224869431 , validation loss : 0.30461104959249496\n",
      "Epoch : 54 , training loss : 0.021803493400511798 , validation loss : 0.28212596476078033\n",
      "Epoch : 55 , training loss : 0.02950180077459663 , validation loss : 0.1349375694990158\n",
      "Epoch : 56 , training loss : 0.0159791165497154 , validation loss : 0.26302099972963333\n",
      "Epoch : 57 , training loss : 0.017584427405381575 , validation loss : 0.2899666130542755\n",
      "Epoch : 58 , training loss : 0.011610423724050634 , validation loss : 0.26728249341249466\n",
      "Epoch : 59 , training loss : 0.01433644942517276 , validation loss : 0.30468790978193283\n",
      "Epoch : 60 , training loss : 0.01581680727758794 , validation loss : 0.2844970226287842\n",
      "Epoch : 61 , training loss : 0.0211752287868876 , validation loss : 0.16239368170499802\n",
      "Epoch : 62 , training loss : 0.014204479397449177 , validation loss : 0.30258145928382874\n",
      "Epoch : 63 , training loss : 0.010140495331143029 , validation loss : 0.19822601228952408\n",
      "Epoch : 64 , training loss : 0.006102236802689731 , validation loss : 0.25596681237220764\n",
      "Epoch : 65 , training loss : 0.00840451848853263 , validation loss : 0.2853867635130882\n",
      "Epoch : 66 , training loss : 0.01020283199250116 , validation loss : 0.24326549470424652\n",
      "Epoch : 67 , training loss : 0.01689296507902327 , validation loss : 0.18089378625154495\n",
      "Epoch : 68 , training loss : 0.017552554039866664 , validation loss : 0.31505434215068817\n",
      "Epoch : 69 , training loss : 0.011104996658104938 , validation loss : 0.14538860321044922\n",
      "Epoch : 70 , training loss : 0.007521631931922457 , validation loss : 0.2775886207818985\n",
      "Epoch : 71 , training loss : 0.007793706943630241 , validation loss : 0.20832452178001404\n",
      "Epoch : 72 , training loss : 0.007939984709082637 , validation loss : 0.22585445642471313\n",
      "Epoch : 73 , training loss : 0.011708006502885837 , validation loss : 0.16692212224006653\n",
      "Epoch : 74 , training loss : 0.012130662289564498 , validation loss : 0.26357340812683105\n",
      "Epoch : 75 , training loss : 0.009610308097762754 , validation loss : 0.13945458456873894\n",
      "Epoch : 76 , training loss : 0.007055547263007611 , validation loss : 0.2618948817253113\n",
      "Epoch : 77 , training loss : 0.0060986705975665245 , validation loss : 0.1735531911253929\n",
      "Epoch : 78 , training loss : 0.004814368010556791 , validation loss : 0.21959468722343445\n",
      "Epoch : 79 , training loss : 0.006185333697430906 , validation loss : 0.16723493486642838\n",
      "Epoch : 80 , training loss : 0.005631586464005522 , validation loss : 0.22102830559015274\n",
      "Epoch : 81 , training loss : 0.0052133085337118246 , validation loss : 0.16640504822134972\n",
      "Epoch : 82 , training loss : 0.00427535455673933 , validation loss : 0.2443399503827095\n",
      "Epoch : 83 , training loss : 0.003460235850070603 , validation loss : 0.16384126991033554\n",
      "Epoch : 84 , training loss : 0.00206284167143167 , validation loss : 0.23854437470436096\n",
      "Epoch : 85 , training loss : 0.0012864526543125976 , validation loss : 0.16388116776943207\n",
      "Epoch : 86 , training loss : 0.0015163291918725008 , validation loss : 0.2212320640683174\n",
      "Epoch : 87 , training loss : 0.0031842273274378385 , validation loss : 0.16738779842853546\n",
      "Epoch : 88 , training loss : 0.00520464000874199 , validation loss : 0.18371032178401947\n",
      "Epoch : 89 , training loss : 0.006242861547434586 , validation loss : 0.2688640281558037\n",
      "Epoch : 90 , training loss : 0.0034389000502415 , validation loss : 0.11260847002267838\n",
      "Epoch : 91 , training loss : 0.011052585437937523 , validation loss : 0.246626116335392\n",
      "Epoch : 92 , training loss : 0.02501856166691141 , validation loss : 0.15528744459152222\n",
      "Epoch : 93 , training loss : 0.02099222259130329 , validation loss : 0.05772878788411617\n",
      "Epoch : 94 , training loss : 0.017047400164301507 , validation loss : 0.3585096150636673\n",
      "Epoch : 95 , training loss : 0.0044480739525170065 , validation loss : 0.108961321413517\n",
      "Epoch : 96 , training loss : 0.005030083397286944 , validation loss : 0.17529742419719696\n",
      "Epoch : 97 , training loss : 0.003030946489161579 , validation loss : 0.18711788207292557\n",
      "Epoch : 98 , training loss : 0.0021503237876459025 , validation loss : 0.11257438361644745\n",
      "Epoch : 99 , training loss : 0.0013878603767807363 , validation loss : 0.18700230866670609\n",
      "Epoch : 100 , training loss : 0.0023576892072014743 , validation loss : 0.10852063447237015\n",
      "Epoch : 101 , training loss : 0.00702109988196753 , validation loss : 0.1620085947215557\n",
      "Epoch : 102 , training loss : 0.01191857062121926 , validation loss : 0.18535782396793365\n",
      "Epoch : 103 , training loss : 0.006164365491713397 , validation loss : 0.07502336800098419\n",
      "Epoch : 104 , training loss : 0.007553401286713779 , validation loss : 0.23270708322525024\n",
      "Epoch : 105 , training loss : 0.017902832696563564 , validation loss : 0.05809027701616287\n",
      "Epoch : 106 , training loss : 0.030695132532855496 , validation loss : 0.037942176684737206\n",
      "Epoch : 107 , training loss : 0.03498913317162078 , validation loss : 0.2879524379968643\n",
      "Epoch : 108 , training loss : 0.008294034994833055 , validation loss : 0.02758923266083002\n",
      "Epoch : 109 , training loss : 0.0029680350053240545 , validation loss : 0.11555622890591621\n",
      "Epoch : 110 , training loss : 0.0033263076447838102 , validation loss : 0.1738727167248726\n",
      "Epoch : 111 , training loss : 0.005240877602773253 , validation loss : 0.07176951505243778\n",
      "Epoch : 112 , training loss : 0.012905643325211713 , validation loss : 0.08361459709703922\n",
      "Epoch : 113 , training loss : 0.016762691826443188 , validation loss : 0.17661528289318085\n",
      "Epoch : 114 , training loss : 0.006020037710186443 , validation loss : 0.044867655262351036\n",
      "Epoch : 115 , training loss : 0.004489443323109299 , validation loss : 0.17028933763504028\n",
      "Epoch : 116 , training loss : 0.006958005214983132 , validation loss : 0.06637308746576309\n",
      "Epoch : 117 , training loss : 0.014883257026667707 , validation loss : 0.06817604042589664\n",
      "Epoch : 118 , training loss : 0.016190289985388517 , validation loss : 0.17791316658258438\n",
      "Epoch : 119 , training loss : 0.0053069937421241775 , validation loss : 0.03784772753715515\n",
      "Epoch : 120 , training loss : 0.002846995568688726 , validation loss : 0.14188648760318756\n",
      "Epoch : 121 , training loss : 0.0031434506563527975 , validation loss : 0.07780841737985611\n",
      "Epoch : 122 , training loss : 0.005910350639169337 , validation loss : 0.0762043222784996\n",
      "Epoch : 123 , training loss : 0.006342815533571411 , validation loss : 0.1149725541472435\n",
      "Epoch : 124 , training loss : 0.0034193493047496304 , validation loss : 0.05714465491473675\n",
      "Epoch : 125 , training loss : 0.002357985371418181 , validation loss : 0.15006159245967865\n",
      "Epoch : 126 , training loss : 0.004554768391244579 , validation loss : 0.06137595884501934\n",
      "Epoch : 127 , training loss : 0.01088798764249077 , validation loss : 0.08276461809873581\n",
      "Epoch : 128 , training loss : 0.01353915376785153 , validation loss : 0.13814681768417358\n",
      "Epoch : 129 , training loss : 0.005992173500999343 , validation loss : 0.028990098275244236\n",
      "Epoch : 130 , training loss : 0.006178201918373816 , validation loss : 0.15123578906059265\n",
      "Epoch : 131 , training loss : 0.012069217140378896 , validation loss : 0.04943930730223656\n",
      "Epoch : 132 , training loss : 0.01944750943221152 , validation loss : 0.02701175305992365\n",
      "Epoch : 133 , training loss : 0.019771398314333055 , validation loss : 0.16372254490852356\n",
      "Epoch : 134 , training loss : 0.0060362703006831 , validation loss : 0.021034044213593006\n",
      "Epoch : 135 , training loss : 0.0020679079461842775 , validation loss : 0.1070457398891449\n",
      "Epoch : 136 , training loss : 0.0009570529011853068 , validation loss : 0.0882560983300209\n",
      "Epoch : 137 , training loss : 0.000606103628456367 , validation loss : 0.06706017628312111\n",
      "Epoch : 138 , training loss : 0.0005194242748984834 , validation loss : 0.08739427477121353\n",
      "Epoch : 139 , training loss : 0.0012503215457400074 , validation loss : 0.07032739371061325\n",
      "Epoch : 140 , training loss : 0.002136964563760557 , validation loss : 0.08430569246411324\n",
      "Epoch : 141 , training loss : 0.0021144510801605065 , validation loss : 0.10235536471009254\n",
      "Epoch : 142 , training loss : 0.0015459025380550884 , validation loss : 0.04581683874130249\n",
      "Epoch : 143 , training loss : 0.005399107165430905 , validation loss : 0.1109497956931591\n",
      "Epoch : 144 , training loss : 0.012832411463023163 , validation loss : 0.0413728728890419\n",
      "Epoch : 145 , training loss : 0.013490972254658118 , validation loss : 0.020425835624337196\n",
      "Epoch : 146 , training loss : 0.012880284484708682 , validation loss : 0.15554053336381912\n",
      "Epoch : 147 , training loss : 0.0055649957357672974 , validation loss : 0.01522782538086176\n",
      "Epoch : 148 , training loss : 0.00985768738155457 , validation loss : 0.07545307278633118\n",
      "Epoch : 149 , training loss : 0.017748711281456053 , validation loss : 0.043698251247406006\n",
      "Epoch : 150 , training loss : 0.015686575701693073 , validation loss : 0.006668994436040521\n",
      "Epoch : 151 , training loss : 0.0141033507152315 , validation loss : 0.13127507269382477\n",
      "Epoch : 152 , training loss : 0.004370061727968277 , validation loss : 0.01650049677118659\n",
      "Epoch : 153 , training loss : 0.002602669544330638 , validation loss : 0.08415016904473305\n",
      "Epoch : 154 , training loss : 0.003388327244465472 , validation loss : 0.041895538568496704\n",
      "Epoch : 155 , training loss : 0.0048780732686282136 , validation loss : 0.040033554658293724\n",
      "Epoch : 156 , training loss : 0.0051501939678928466 , validation loss : 0.08553348854184151\n",
      "Epoch : 157 , training loss : 0.0027809622697532177 , validation loss : 0.017267456743866205\n",
      "Epoch : 158 , training loss : 0.009037549376444076 , validation loss : 0.09667351469397545\n",
      "Epoch : 159 , training loss : 0.023268491990165785 , validation loss : 0.029149907641112804\n",
      "Epoch : 160 , training loss : 0.01979253267927561 , validation loss : 0.001955152052687481\n",
      "Epoch : 161 , training loss : 0.019649536538054235 , validation loss : 0.16936144977808\n",
      "Epoch : 162 , training loss : 0.006337416321912315 , validation loss : 0.004607955110259354\n",
      "Epoch : 163 , training loss : 0.012189708329970017 , validation loss : 0.030782990157604218\n",
      "Epoch : 164 , training loss : 0.013770614794339053 , validation loss : 0.0487940963357687\n",
      "Epoch : 165 , training loss : 0.008595529769081622 , validation loss : 0.0040026886854320765\n",
      "Epoch : 166 , training loss : 0.005076493496744661 , validation loss : 0.0747134443372488\n",
      "Epoch : 167 , training loss : 0.001871816348284483 , validation loss : 0.02004357986152172\n",
      "Epoch : 168 , training loss : 0.0015641049610621849 , validation loss : 0.04872290790081024\n",
      "Epoch : 169 , training loss : 0.002162066004530061 , validation loss : 0.028364134952425957\n",
      "Epoch : 170 , training loss : 0.003073832078371197 , validation loss : 0.029520520940423012\n",
      "Epoch : 171 , training loss : 0.003202720752597088 , validation loss : 0.055630456656217575\n",
      "Epoch : 172 , training loss : 0.0017655058909440413 , validation loss : 0.01612594025209546\n",
      "Epoch : 173 , training loss : 0.004160884597695258 , validation loss : 0.06259129196405411\n",
      "Epoch : 174 , training loss : 0.010324093536837609 , validation loss : 0.014429026283323765\n",
      "Epoch : 175 , training loss : 0.012735068092297297 , validation loss : 0.006140991346910596\n",
      "Epoch : 176 , training loss : 0.012457321747206151 , validation loss : 0.08902822434902191\n",
      "Epoch : 177 , training loss : 0.0049880969781952444 , validation loss : 0.0033357375068590045\n",
      "Epoch : 178 , training loss : 0.005893300707157323 , validation loss : 0.05827474407851696\n",
      "Epoch : 179 , training loss : 0.010306209020200185 , validation loss : 0.014569652266800404\n",
      "Epoch : 180 , training loss : 0.014752311268239282 , validation loss : 0.0055183121003210545\n",
      "Epoch : 181 , training loss : 0.017405106365913525 , validation loss : 0.0771457813680172\n",
      "Epoch : 182 , training loss : 0.006534267929964699 , validation loss : 0.00026957962472806685\n",
      "Epoch : 183 , training loss : 0.0032503290258318884 , validation loss : 0.05527269095182419\n",
      "Epoch : 184 , training loss : 0.0022760103190648806 , validation loss : 0.010672255419194698\n",
      "Epoch : 185 , training loss : 0.004585088736348553 , validation loss : 0.025771516375243664\n",
      "Epoch : 186 , training loss : 0.00811013748170808 , validation loss : 0.031811803579330444\n",
      "Epoch : 187 , training loss : 0.005228982749031275 , validation loss : 0.007737195119261742\n",
      "Epoch : 188 , training loss : 0.0045733602019026875 , validation loss : 0.07205741479992867\n",
      "Epoch : 189 , training loss : 0.007542026413290159 , validation loss : 0.0008507609309162945\n",
      "Epoch : 190 , training loss : 0.020043289114255458 , validation loss : 0.014270707499235868\n",
      "Epoch : 191 , training loss : 0.03360317537590163 , validation loss : 0.053949957713484764\n",
      "Epoch : 192 , training loss : 0.015465631848201156 , validation loss : 0.004705249099060893\n",
      "Epoch : 193 , training loss : 0.008488650997605873 , validation loss : 0.08801807835698128\n",
      "Epoch : 194 , training loss : 0.0025310278731467406 , validation loss : 0.009974295739084482\n",
      "Epoch : 195 , training loss : 0.002020926069235429 , validation loss : 0.022946352139115334\n",
      "Epoch : 196 , training loss : 0.0019569865453377133 , validation loss : 0.015038032550364733\n",
      "Epoch : 197 , training loss : 0.0013942278792455909 , validation loss : 0.010057896841317415\n",
      "Epoch : 198 , training loss : 0.0011205188966414426 , validation loss : 0.03716346248984337\n",
      "Epoch : 199 , training loss : 0.0017857378974213134 , validation loss : 0.005612353328615427\n",
      "Epoch : 200 , training loss : 0.00806606289188494 , validation loss : 0.02792303543537855\n",
      "Epoch : 201 , training loss : 0.014288956561358646 , validation loss : 0.022207100875675678\n",
      "Epoch : 202 , training loss : 0.007828119662008248 , validation loss : 0.00012374155630823225\n",
      "Epoch : 203 , training loss : 0.007985589269082993 , validation loss : 0.07696167379617691\n",
      "Epoch : 204 , training loss : 0.011889085502843955 , validation loss : 0.0005902824050281197\n",
      "Epoch : 205 , training loss : 0.028637087671086192 , validation loss : 0.000858734012581408\n",
      "Epoch : 206 , training loss : 0.04326633125310764 , validation loss : 0.05792214162647724\n",
      "Epoch : 207 , training loss : 0.018289568011823576 , validation loss : 0.032929341308772564\n",
      "Epoch : 208 , training loss : 0.00604464422485762 , validation loss : 0.044591665267944336\n",
      "Epoch : 209 , training loss : 0.0025112930743489414 , validation loss : 0.01457083411514759\n",
      "Epoch : 210 , training loss : 0.0017690660470179864 , validation loss : 0.01802957383915782\n",
      "Epoch : 211 , training loss : 0.0010202717530773953 , validation loss : 0.03522917162626982\n",
      "Epoch : 212 , training loss : 0.0014666686665805173 , validation loss : 0.013511607889086008\n",
      "Epoch : 213 , training loss : 0.002750830175500596 , validation loss : 0.045381237752735615\n",
      "Epoch : 214 , training loss : 0.006652465897786897 , validation loss : 0.020542913116514683\n",
      "Epoch : 215 , training loss : 0.008096532797935652 , validation loss : 0.015915853437036276\n",
      "Epoch : 216 , training loss : 0.007487714319722727 , validation loss : 0.07934503443539143\n",
      "Epoch : 217 , training loss : 0.008764913560753484 , validation loss : 0.0028788443887606263\n",
      "Epoch : 218 , training loss : 0.029066459432215197 , validation loss : 0.007993315113708377\n",
      "Epoch : 219 , training loss : 0.0483828607830219 , validation loss : 0.038138868287205696\n",
      "Epoch : 220 , training loss : 0.028537037112982944 , validation loss : 0.0614241398870945\n",
      "Epoch : 221 , training loss : 0.007503457713028183 , validation loss : 0.04570692777633667\n",
      "Epoch : 222 , training loss : 0.003402089649171103 , validation loss : 0.01877526007592678\n",
      "Epoch : 223 , training loss : 0.0036116861874688766 , validation loss : 0.02115841256454587\n",
      "Epoch : 224 , training loss : 0.001456470439734403 , validation loss : 0.044323679991066456\n",
      "Epoch : 225 , training loss : 0.0014133616132312454 , validation loss : 0.010995734483003616\n",
      "Epoch : 226 , training loss : 0.002982414652251464 , validation loss : 0.057615580037236214\n",
      "Epoch : 227 , training loss : 0.009871214584563859 , validation loss : 0.014845042489469051\n",
      "Epoch : 228 , training loss : 0.012087310518836603 , validation loss : 0.01060037175193429\n",
      "Epoch : 229 , training loss : 0.011499051701548524 , validation loss : 0.08220192044973373\n",
      "Epoch : 230 , training loss : 0.005846525353263132 , validation loss : 0.0005259633180685341\n",
      "Epoch : 231 , training loss : 0.011983661477643182 , validation loss : 0.040928859263658524\n",
      "Epoch : 232 , training loss : 0.02140264135960024 , validation loss : 0.01457925420254469\n",
      "Epoch : 233 , training loss : 0.01797476817137067 , validation loss : 0.006539746304042637\n",
      "Epoch : 234 , training loss : 0.013772840356978122 , validation loss : 0.05219329334795475\n",
      "Epoch : 235 , training loss : 0.004866602419497212 , validation loss : 0.0015451853469130583\n",
      "Epoch : 236 , training loss : 0.0014884970681805498 , validation loss : 0.04095267504453659\n",
      "Epoch : 237 , training loss : 0.0009145989665739762 , validation loss : 0.03917614743113518\n",
      "Epoch : 238 , training loss : 0.0012416216538895242 , validation loss : 0.030211862176656723\n",
      "Epoch : 239 , training loss : 0.002111937072186265 , validation loss : 0.04713204316794872\n",
      "Epoch : 240 , training loss : 0.004447484643606003 , validation loss : 0.04511433746665716\n",
      "Epoch : 241 , training loss : 0.004030927106214222 , validation loss : 0.023733267560601234\n",
      "Epoch : 242 , training loss : 0.0036485399468801916 , validation loss : 0.09046170860528946\n",
      "Epoch : 243 , training loss : 0.005160008013717743 , validation loss : 0.005716745741665363\n",
      "Epoch : 244 , training loss : 0.013826232563587837 , validation loss : 0.04568175878375769\n",
      "Epoch : 245 , training loss : 0.02478486846666783 , validation loss : 0.035468168556690216\n",
      "Epoch : 246 , training loss : 0.01484361186157912 , validation loss : 0.011710335034877062\n",
      "Epoch : 247 , training loss : 0.011894787996425293 , validation loss : 0.07419156655669212\n",
      "Epoch : 248 , training loss : 0.004776697925990447 , validation loss : 0.0020299638708820567\n",
      "Epoch : 249 , training loss : 0.008520150041931629 , validation loss : 0.03276333585381508\n",
      "Epoch : 250 , training loss : 0.010884951525440556 , validation loss : 0.040136598981916904\n",
      "Epoch : 251 , training loss : 0.005736634680943098 , validation loss : 0.004540299240034074\n",
      "Epoch : 252 , training loss : 0.004059734549400673 , validation loss : 0.05536274239420891\n",
      "Epoch : 253 , training loss : 0.0017751260020304471 , validation loss : 0.009615252958610654\n",
      "Epoch : 254 , training loss : 0.001615332811979897 , validation loss : 0.04917457327246666\n",
      "Epoch : 255 , training loss : 0.0026741294009298144 , validation loss : 0.020315268076956272\n",
      "Epoch : 256 , training loss : 0.003473421387752751 , validation loss : 0.02811007108539343\n",
      "Epoch : 257 , training loss : 0.005401305461418815 , validation loss : 0.04239257797598839\n",
      "Epoch : 258 , training loss : 0.0035318242262292188 , validation loss : 0.005794165888801217\n",
      "Epoch : 259 , training loss : 0.003224435306037776 , validation loss : 0.055821437388658524\n",
      "Epoch : 260 , training loss : 0.004969077349898043 , validation loss : 0.0024421968846581876\n",
      "Epoch : 261 , training loss : 0.009791807424335275 , validation loss : 0.017017864622175694\n",
      "Epoch : 262 , training loss : 0.015809434928087285 , validation loss : 0.025252442806959152\n",
      "Epoch : 263 , training loss : 0.00970387771667447 , validation loss : 0.0008361797008547001\n",
      "Epoch : 264 , training loss : 0.007816148030542536 , validation loss : 0.07460972294211388\n",
      "Epoch : 265 , training loss : 0.003151857041302719 , validation loss : 0.003478863392956555\n",
      "Epoch : 266 , training loss : 0.0053798967130944675 , validation loss : 0.03923123702406883\n",
      "Epoch : 267 , training loss : 0.008327098524205212 , validation loss : 0.0007954405300552025\n",
      "Epoch : 268 , training loss : 0.007980787762789987 , validation loss : 0.006833768100477755\n",
      "Epoch : 269 , training loss : 0.010466259372378772 , validation loss : 0.04052633140236139\n",
      "Epoch : 270 , training loss : 0.006363975742715411 , validation loss : 0.0010212888373644091\n",
      "Epoch : 271 , training loss : 0.004645423003239557 , validation loss : 0.07423105649650097\n",
      "Epoch : 272 , training loss : 0.004242771858116612 , validation loss : 0.007656828849576414\n",
      "Epoch : 273 , training loss : 0.0073936453180749595 , validation loss : 0.03907363023608923\n",
      "Epoch : 274 , training loss : 0.012699161325599562 , validation loss : 0.03307485580444336\n",
      "Epoch : 275 , training loss : 0.009760022832779214 , validation loss : 0.004872688848990947\n",
      "Epoch : 276 , training loss : 0.0100215920683695 , validation loss : 0.08583859726786613\n",
      "Epoch : 277 , training loss : 0.004315598478569882 , validation loss : 0.006802433403208852\n",
      "Epoch : 278 , training loss : 0.0035278885188745335 , validation loss : 0.07588911429047585\n",
      "Epoch : 279 , training loss : 0.004271882908597036 , validation loss : 0.018405661918222904\n",
      "Epoch : 280 , training loss : 0.00652298557361064 , validation loss : 0.03362306114286184\n",
      "Epoch : 281 , training loss : 0.009435933199711144 , validation loss : 0.05090665817260742\n",
      "Epoch : 282 , training loss : 0.005700463385437615 , validation loss : 0.009359305491670966\n",
      "Epoch : 283 , training loss : 0.004570881495055801 , validation loss : 0.08206356130540371\n",
      "Epoch : 284 , training loss : 0.0023692793452028127 , validation loss : 0.013090898282825947\n",
      "Epoch : 285 , training loss : 0.003642489144112915 , validation loss : 0.06172521784901619\n",
      "Epoch : 286 , training loss : 0.006621659153097426 , validation loss : 0.020082593895494938\n",
      "Epoch : 287 , training loss : 0.007818111407686956 , validation loss : 0.019252728670835495\n",
      "Epoch : 288 , training loss : 0.009790972355403937 , validation loss : 0.05951446294784546\n",
      "Epoch : 289 , training loss : 0.0056091606165864505 , validation loss : 0.00512978428741917\n",
      "Epoch : 290 , training loss : 0.004565956332953647 , validation loss : 0.08846421539783478\n",
      "Epoch : 291 , training loss : 0.0036627231384045444 , validation loss : 0.011149150785058737\n",
      "Epoch : 292 , training loss : 0.0072328540993567 , validation loss : 0.05421753041446209\n",
      "Epoch : 293 , training loss : 0.014410660884379922 , validation loss : 0.033278217539191246\n",
      "Epoch : 294 , training loss : 0.010963337859720923 , validation loss : 0.0035705092595890164\n",
      "Epoch : 295 , training loss : 0.011280341888777912 , validation loss : 0.09005016833543777\n",
      "Epoch : 296 , training loss : 0.0045155181069276296 , validation loss : 0.004479070077650249\n",
      "Epoch : 297 , training loss : 0.003949749290768523 , validation loss : 0.07853862270712852\n",
      "Epoch : 298 , training loss : 0.0055815509375634065 , validation loss : 0.01985976193100214\n",
      "Epoch : 299 , training loss : 0.008073315853835084 , validation loss : 0.03428850695490837\n"
     ]
    }
   ],
   "source": [
    "data_module.learning_curve(num_epochs = num_epochs , train_loss = train_loss , val_loss = val_loss )"
   ]
  },
  {
   "cell_type": "markdown",
   "metadata": {},
   "source": [
    "# Step 5 : Evaluation\n",
    "This section is to inference the model by feeding in testing data, determining the output forecast value and calculating the RMSE.\n",
    "\n",
    "It consists of 4 sections :\n",
    "\n",
    "Section 1 : Feed in the train and test data to the model <br>\n",
    "Section 2 : Reshape both to the original data dimension <br> \n",
    "Section 3 : Invert the scaling back to the original data value <br>\n",
    "Section 4 : Calculate the RMSE of train and test data"
   ]
  },
  {
   "cell_type": "code",
   "execution_count": 22,
   "metadata": {},
   "outputs": [],
   "source": [
    "# Section 1 : make predictions\n",
    "with torch.no_grad():\n",
    "    y_train_prediction = model(train_data_dict['train_data_x_feature'])\n",
    "    y_test_prediction = model(test_data_dict['test_data_x_feature'])"
   ]
  },
  {
   "cell_type": "code",
   "execution_count": 23,
   "metadata": {},
   "outputs": [],
   "source": [
    "# Assign evaluation key\n",
    "\n",
    "prediction , output = data_module.key_assign_evaluation(y_train_prediction,\n",
    "                                                        y_test_prediction,\n",
    "                                                        train_data_dict,\n",
    "                                                        test_data_dict)\n",
    "# Section 2 : Reshape to original data\n",
    "# Squeeze the output dimension\n",
    "output_data = data_module.squeeze_dimension(output)"
   ]
  },
  {
   "cell_type": "code",
   "execution_count": 24,
   "metadata": {},
   "outputs": [
    {
     "name": "stdout",
     "output_type": "stream",
     "text": [
      "train_data_output shape : torch.Size([16, 2])\n",
      "test_data_output shape : torch.Size([4, 2])\n"
     ]
    }
   ],
   "source": [
    "data_module.sanity_check(data_1 = output_data,data_2 = {})"
   ]
  },
  {
   "cell_type": "code",
   "execution_count": 25,
   "metadata": {},
   "outputs": [],
   "source": [
    "# Section 3 : Invert the scaling back to the original data value\n",
    "output_data_scaler = data_scalers[list(data_scalers)[-1]]\n",
    "prediction = data_module.inverse_scaler(prediction,output_data_scaler)\n",
    "output_data  = data_module.inverse_scaler(output_data ,output_data_scaler)"
   ]
  },
  {
   "cell_type": "code",
   "execution_count": 26,
   "metadata": {},
   "outputs": [
    {
     "name": "stdout",
     "output_type": "stream",
     "text": [
      "Test Data\t\t\tForecast\n",
      "[505. 525.]\t\t[490.0735 509.0602]\n",
      "[525. 545.]\t\t[505.89847 524.5939 ]\n",
      "[545. 565.]\t\t[521.7467 540.1566]\n",
      "[565. 585.]\t\t[537.5996 555.7368]\n"
     ]
    }
   ],
   "source": [
    "# List the forecast value\n",
    "data_module.list_forecast_value(output_data,prediction) "
   ]
  },
  {
   "cell_type": "code",
   "execution_count": 27,
   "metadata": {},
   "outputs": [
    {
     "name": "stdout",
     "output_type": "stream",
     "text": [
      "Train Score: 13.28 RMSE\n",
      "Test Score: 22.43 RMSE\n"
     ]
    }
   ],
   "source": [
    "# Section 4 : Calculate the RMSE of train and test data\n",
    "### BEGIN SOLUTION\n",
    "trainScore,testScore = data_module.rmse(prediction,output_data)\n",
    "### END SOLUTION\n",
    "print('Train Score: %.2f RMSE' % (trainScore))\n",
    "print('Test Score: %.2f RMSE' % (testScore))"
   ]
  },
  {
   "cell_type": "markdown",
   "metadata": {},
   "source": [
    "# Step 6 : Forecast Plot"
   ]
  },
  {
   "cell_type": "code",
   "execution_count": 28,
   "metadata": {},
   "outputs": [
    {
     "data": {
      "image/png": "[encoded data removed]",
      "text/plain": [
       "<Figure size 720x432 with 1 Axes>"
      ]
     },
     "metadata": {
      "needs_background": "light"
     },
     "output_type": "display_data"
    }
   ],
   "source": [
    "data_module.multi_step_plot(original_test_data = test_data[\"out_seq\"],\n",
    "                            after_sequence_test_data = output_data,\n",
    "                            forecast_data = prediction,\n",
    "                            test_time = test_time,\n",
    "                            window_size = window_size,\n",
    "                            n_step = n_step,\n",
    "                            details={},\n",
    "                            original_plot=True,\n",
    "                            multivariate = True)\n"
   ]
  },
  {
   "cell_type": "markdown",
   "metadata": {},
   "source": [
    "# Part 2 : Exercise for Multivariate Multi-step\n",
    "## Task : Predicting the total number of death cases in COVID-19 Malaysia 3 days into the future\n",
    "\n",
    "### Introduction \n",
    "You are given a set of data that contains information about COVID-19 cases worldwide. You are required to perform some data analysis on it and predict the death cases.<br>\n",
    "\n",
    "Please follow the instruction and try to code the exercise. Please feel free to use online resources to find out how to use a particular function in the data exploration part<br>\n",
    "\n",
    "\n",
    "\n",
    "Data Source : \n",
    "https://www.kaggle.com/sudalairajkumar/novel-corona-virus-2019-dataset"
   ]
  },
  {
   "cell_type": "markdown",
   "metadata": {},
   "source": [
    "## Hyperparameter\n",
    ">**Instruction** : <br>\n",
    "You are required to fill `None` with a suitable value to make the model converge\n",
    "\n",
    ">**Expected Result** : <br>\n",
    "Train Score <= 10 RMSE<br>\n",
    "Test Score <= 10 RMSE<br>"
   ]
  },
  {
   "cell_type": "code",
   "execution_count": 97,
   "metadata": {},
   "outputs": [
    {
     "data": {
      "text/plain": [
       "<torch._C.Generator at 0x1de7a2aa890>"
      ]
     },
     "execution_count": 97,
     "metadata": {},
     "output_type": "execute_result"
    }
   ],
   "source": [
    "#Hyperameter\n",
    "split_ratio_covid = 0.70\n",
    "num_epochs_covid = 100\n",
    "window_size_covid = 10\n",
    "n_step_covid = 2\n",
    "learning_rate_covid = 0.0001\n",
    "batch_size_covid = 5\n",
    "#seed\n",
    "torch.manual_seed(123)"
   ]
  },
  {
   "cell_type": "markdown",
   "metadata": {},
   "source": [
    "# Step 1 : Data Preparation\n",
    "In this tutorial, you will face a complex real-world dataset. You are required to use some of the data exploration technique to help you prepare the data.\n",
    "\n",
    ">**Instruction** : <br>\n",
    "Read the file using `pd.read_csv`<br>\n",
    "Save your data as `cases`<br>\n",
    "Your file path `../../datasets/others/covid_19_data.csv`"
   ]
  },
  {
   "cell_type": "code",
   "execution_count": 98,
   "metadata": {},
   "outputs": [
    {
     "data": {
      "text/html": [
       "<div>\n",
       "<style scoped>\n",
       "    .dataframe tbody tr th:only-of-type {\n",
       "        vertical-align: middle;\n",
       "    }\n",
       "\n",
       "    .dataframe tbody tr th {\n",
       "        vertical-align: top;\n",
       "    }\n",
       "\n",
       "    .dataframe thead th {\n",
       "        text-align: right;\n",
       "    }\n",
       "</style>\n",
       "<table border=\"1\" class=\"dataframe\">\n",
       "  <thead>\n",
       "    <tr style=\"text-align: right;\">\n",
       "      <th></th>\n",
       "      <th>SNo</th>\n",
       "      <th>ObservationDate</th>\n",
       "      <th>Province/State</th>\n",
       "      <th>Country/Region</th>\n",
       "      <th>Last Update</th>\n",
       "      <th>Confirmed</th>\n",
       "      <th>Deaths</th>\n",
       "      <th>Recovered</th>\n",
       "    </tr>\n",
       "  </thead>\n",
       "  <tbody>\n",
       "    <tr>\n",
       "      <th>0</th>\n",
       "      <td>1</td>\n",
       "      <td>01/22/2020</td>\n",
       "      <td>Anhui</td>\n",
       "      <td>Mainland China</td>\n",
       "      <td>1/22/2020 17:00</td>\n",
       "      <td>1.0</td>\n",
       "      <td>0.0</td>\n",
       "      <td>0.0</td>\n",
       "    </tr>\n",
       "    <tr>\n",
       "      <th>1</th>\n",
       "      <td>2</td>\n",
       "      <td>01/22/2020</td>\n",
       "      <td>Beijing</td>\n",
       "      <td>Mainland China</td>\n",
       "      <td>1/22/2020 17:00</td>\n",
       "      <td>14.0</td>\n",
       "      <td>0.0</td>\n",
       "      <td>0.0</td>\n",
       "    </tr>\n",
       "    <tr>\n",
       "      <th>2</th>\n",
       "      <td>3</td>\n",
       "      <td>01/22/2020</td>\n",
       "      <td>Chongqing</td>\n",
       "      <td>Mainland China</td>\n",
       "      <td>1/22/2020 17:00</td>\n",
       "      <td>6.0</td>\n",
       "      <td>0.0</td>\n",
       "      <td>0.0</td>\n",
       "    </tr>\n",
       "    <tr>\n",
       "      <th>3</th>\n",
       "      <td>4</td>\n",
       "      <td>01/22/2020</td>\n",
       "      <td>Fujian</td>\n",
       "      <td>Mainland China</td>\n",
       "      <td>1/22/2020 17:00</td>\n",
       "      <td>1.0</td>\n",
       "      <td>0.0</td>\n",
       "      <td>0.0</td>\n",
       "    </tr>\n",
       "    <tr>\n",
       "      <th>4</th>\n",
       "      <td>5</td>\n",
       "      <td>01/22/2020</td>\n",
       "      <td>Gansu</td>\n",
       "      <td>Mainland China</td>\n",
       "      <td>1/22/2020 17:00</td>\n",
       "      <td>0.0</td>\n",
       "      <td>0.0</td>\n",
       "      <td>0.0</td>\n",
       "    </tr>\n",
       "  </tbody>\n",
       "</table>\n",
       "</div>"
      ],
      "text/plain": [
       "   SNo ObservationDate Province/State  Country/Region      Last Update  \\\n",
       "0    1      01/22/2020          Anhui  Mainland China  1/22/2020 17:00   \n",
       "1    2      01/22/2020        Beijing  Mainland China  1/22/2020 17:00   \n",
       "2    3      01/22/2020      Chongqing  Mainland China  1/22/2020 17:00   \n",
       "3    4      01/22/2020         Fujian  Mainland China  1/22/2020 17:00   \n",
       "4    5      01/22/2020          Gansu  Mainland China  1/22/2020 17:00   \n",
       "\n",
       "   Confirmed  Deaths  Recovered  \n",
       "0        1.0     0.0        0.0  \n",
       "1       14.0     0.0        0.0  \n",
       "2        6.0     0.0        0.0  \n",
       "3        1.0     0.0        0.0  \n",
       "4        0.0     0.0        0.0  "
      ]
     },
     "execution_count": 98,
     "metadata": {},
     "output_type": "execute_result"
    }
   ],
   "source": [
    "### BEGIN SOLUTION\n",
    "cases = pd.read_csv(\"../../datasets/others/covid_19_data.csv\")\n",
    "### END SOLUTION\n",
    "cases.head()"
   ]
  },
  {
   "cell_type": "markdown",
   "metadata": {},
   "source": [
    "As you can see, the data contain info on COVID-19 cases from other countries as well. Hence, you need to slice the COVID-19 info only for Malaysia.\n",
    "\n",
    ">**Instruction** : <br>\n",
    "Slice the COVID-19 info only for Malaysia. You might need to use `df.loc[]` to help you slice the data.\n",
    "\n",
    ">**Expected Result** :<br>\n",
    "Example of first 5 row data :\n",
    "\n",
    "---\t|SNo\t|ObservationDate\t|Province/State\t|Country/Region\t|Last Update\t|Confirmed\t|Deaths\t|Recovered\n",
    " ---|---\t|---\t            |---\t        |---\t        |---\t        |---\t    |---\t|---\n",
    "78\t|79\t    |01/23/2020\t|NaN\t|Malaysia\t|1/23/20 |17:00\t|0.0\t|0.0\t|0.0\n",
    "168\t|169\t|01/25/2020\t|NaN\t|Malaysia\t|1/25/20 |17:00\t|3.0\t|0.0\t|0.0\n",
    "214\t|215\t|01/26/2020\t|NaN\t|Malaysia\t|1/26/20 |16:00\t|4.0\t|0.0\t|0.0\n",
    "260\t|261\t|01/27/2020\t|NaN\t|Malaysia\t|1/27/20 |23:59\t|4.0\t|0.0\t|0.0\n",
    "311\t|312\t|01/28/2020\t|NaN\t|Malaysia\t|1/28/20 |23:00\t|4.0\t|0.0\t|0.0"
   ]
  },
  {
   "cell_type": "code",
   "execution_count": 99,
   "metadata": {
    "scrolled": true
   },
   "outputs": [
    {
     "data": {
      "text/plain": [
       "array(['Mainland China', 'Hong Kong', 'Macau', 'Taiwan', 'US', 'Japan',\n",
       "       'Thailand', 'South Korea', 'Singapore', 'Philippines', 'Malaysia',\n",
       "       'Vietnam', 'Australia', 'Mexico', 'Brazil', 'Colombia', 'France',\n",
       "       'Nepal', 'Canada', 'Cambodia', 'Sri Lanka', 'Ivory Coast',\n",
       "       'Germany', 'Finland', 'United Arab Emirates', 'India', 'Italy',\n",
       "       'UK', 'Russia', 'Sweden', 'Spain', 'Belgium', 'Others', 'Egypt',\n",
       "       'Iran', 'Israel', 'Lebanon', 'Iraq', 'Oman', 'Afghanistan',\n",
       "       'Bahrain', 'Kuwait', 'Austria', 'Algeria', 'Croatia',\n",
       "       'Switzerland', 'Pakistan', 'Georgia', 'Greece', 'North Macedonia',\n",
       "       'Norway', 'Romania', 'Denmark', 'Estonia', 'Netherlands',\n",
       "       'San Marino', ' Azerbaijan', 'Belarus', 'Iceland', 'Lithuania',\n",
       "       'New Zealand', 'Nigeria', 'North Ireland', 'Ireland', 'Luxembourg',\n",
       "       'Monaco', 'Qatar', 'Ecuador', 'Azerbaijan', 'Czech Republic',\n",
       "       'Armenia', 'Dominican Republic', 'Indonesia', 'Portugal',\n",
       "       'Andorra', 'Latvia', 'Morocco', 'Saudi Arabia', 'Senegal',\n",
       "       'Argentina', 'Chile', 'Jordan', 'Ukraine', 'Saint Barthelemy',\n",
       "       'Hungary', 'Faroe Islands', 'Gibraltar', 'Liechtenstein', 'Poland',\n",
       "       'Tunisia', 'Palestine', 'Bosnia and Herzegovina', 'Slovenia',\n",
       "       'South Africa', 'Bhutan', 'Cameroon', 'Costa Rica', 'Peru',\n",
       "       'Serbia', 'Slovakia', 'Togo', 'Vatican City', 'French Guiana',\n",
       "       'Malta', 'Martinique', 'Republic of Ireland', 'Bulgaria',\n",
       "       'Maldives', 'Bangladesh', 'Moldova', 'Paraguay', 'Albania',\n",
       "       'Cyprus', 'St. Martin', 'Brunei', 'occupied Palestinian territory',\n",
       "       \"('St. Martin',)\", 'Burkina Faso', 'Channel Islands', 'Holy See',\n",
       "       'Mongolia', 'Panama', 'Bolivia', 'Honduras', 'Congo (Kinshasa)',\n",
       "       'Jamaica', 'Reunion', 'Turkey', 'Cuba', 'Guyana', 'Kazakhstan',\n",
       "       'Cayman Islands', 'Guadeloupe', 'Ethiopia', 'Sudan', 'Guinea',\n",
       "       'Antigua and Barbuda', 'Aruba', 'Kenya', 'Uruguay', 'Ghana',\n",
       "       'Jersey', 'Namibia', 'Seychelles', 'Trinidad and Tobago',\n",
       "       'Venezuela', 'Curacao', 'Eswatini', 'Gabon', 'Guatemala',\n",
       "       'Guernsey', 'Mauritania', 'Rwanda', 'Saint Lucia',\n",
       "       'Saint Vincent and the Grenadines', 'Suriname', 'Kosovo',\n",
       "       'Central African Republic', 'Congo (Brazzaville)',\n",
       "       'Equatorial Guinea', 'Uzbekistan', 'Guam', 'Puerto Rico', 'Benin',\n",
       "       'Greenland', 'Liberia', 'Mayotte', 'Republic of the Congo',\n",
       "       'Somalia', 'Tanzania', 'The Bahamas', 'Barbados', 'Montenegro',\n",
       "       'The Gambia', 'Kyrgyzstan', 'Mauritius', 'Zambia', 'Djibouti',\n",
       "       'Gambia, The', 'Bahamas, The', 'Chad', 'El Salvador', 'Fiji',\n",
       "       'Nicaragua', 'Madagascar', 'Haiti', 'Angola', 'Cabo Verde',\n",
       "       'Niger', 'Papua New Guinea', 'Zimbabwe', 'Cape Verde',\n",
       "       'East Timor', 'Eritrea', 'Uganda', 'Bahamas', 'Dominica', 'Gambia',\n",
       "       'Grenada', 'Mozambique', 'Samoa', 'Syria', 'Timor-Leste', 'Belize',\n",
       "       'Laos', 'Libya', 'Diamond Princess', 'Guinea-Bissau', 'Mali',\n",
       "       'Saint Kitts and Nevis', 'West Bank and Gaza', 'Burma',\n",
       "       'MS Zaandam', 'Botswana', 'Burundi', 'Sierra Leone', 'Malawi',\n",
       "       'South Sudan', 'Sao Tome and Principe', 'Yemen', 'Comoros',\n",
       "       'Tajikistan', 'Lesotho', 'Solomon Islands', 'Marshall Islands',\n",
       "       'Vanuatu', 'Micronesia'], dtype=object)"
      ]
     },
     "execution_count": 99,
     "metadata": {},
     "output_type": "execute_result"
    }
   ],
   "source": [
    "cases[\"Country/Region\"].unique()"
   ]
  },
  {
   "cell_type": "code",
   "execution_count": 100,
   "metadata": {},
   "outputs": [
    {
     "data": {
      "text/html": [
       "<div>\n",
       "<style scoped>\n",
       "    .dataframe tbody tr th:only-of-type {\n",
       "        vertical-align: middle;\n",
       "    }\n",
       "\n",
       "    .dataframe tbody tr th {\n",
       "        vertical-align: top;\n",
       "    }\n",
       "\n",
       "    .dataframe thead th {\n",
       "        text-align: right;\n",
       "    }\n",
       "</style>\n",
       "<table border=\"1\" class=\"dataframe\">\n",
       "  <thead>\n",
       "    <tr style=\"text-align: right;\">\n",
       "      <th></th>\n",
       "      <th>SNo</th>\n",
       "      <th>ObservationDate</th>\n",
       "      <th>Province/State</th>\n",
       "      <th>Country/Region</th>\n",
       "      <th>Last Update</th>\n",
       "      <th>Confirmed</th>\n",
       "      <th>Deaths</th>\n",
       "      <th>Recovered</th>\n",
       "    </tr>\n",
       "  </thead>\n",
       "  <tbody>\n",
       "    <tr>\n",
       "      <th>78</th>\n",
       "      <td>79</td>\n",
       "      <td>01/23/2020</td>\n",
       "      <td>NaN</td>\n",
       "      <td>Malaysia</td>\n",
       "      <td>1/23/20 17:00</td>\n",
       "      <td>0.0</td>\n",
       "      <td>0.0</td>\n",
       "      <td>0.0</td>\n",
       "    </tr>\n",
       "    <tr>\n",
       "      <th>168</th>\n",
       "      <td>169</td>\n",
       "      <td>01/25/2020</td>\n",
       "      <td>NaN</td>\n",
       "      <td>Malaysia</td>\n",
       "      <td>1/25/20 17:00</td>\n",
       "      <td>3.0</td>\n",
       "      <td>0.0</td>\n",
       "      <td>0.0</td>\n",
       "    </tr>\n",
       "    <tr>\n",
       "      <th>214</th>\n",
       "      <td>215</td>\n",
       "      <td>01/26/2020</td>\n",
       "      <td>NaN</td>\n",
       "      <td>Malaysia</td>\n",
       "      <td>1/26/20 16:00</td>\n",
       "      <td>4.0</td>\n",
       "      <td>0.0</td>\n",
       "      <td>0.0</td>\n",
       "    </tr>\n",
       "    <tr>\n",
       "      <th>260</th>\n",
       "      <td>261</td>\n",
       "      <td>01/27/2020</td>\n",
       "      <td>NaN</td>\n",
       "      <td>Malaysia</td>\n",
       "      <td>1/27/20 23:59</td>\n",
       "      <td>4.0</td>\n",
       "      <td>0.0</td>\n",
       "      <td>0.0</td>\n",
       "    </tr>\n",
       "    <tr>\n",
       "      <th>311</th>\n",
       "      <td>312</td>\n",
       "      <td>01/28/2020</td>\n",
       "      <td>NaN</td>\n",
       "      <td>Malaysia</td>\n",
       "      <td>1/28/20 23:00</td>\n",
       "      <td>4.0</td>\n",
       "      <td>0.0</td>\n",
       "      <td>0.0</td>\n",
       "    </tr>\n",
       "  </tbody>\n",
       "</table>\n",
       "</div>"
      ],
      "text/plain": [
       "     SNo ObservationDate Province/State Country/Region    Last Update  \\\n",
       "78    79      01/23/2020            NaN       Malaysia  1/23/20 17:00   \n",
       "168  169      01/25/2020            NaN       Malaysia  1/25/20 17:00   \n",
       "214  215      01/26/2020            NaN       Malaysia  1/26/20 16:00   \n",
       "260  261      01/27/2020            NaN       Malaysia  1/27/20 23:59   \n",
       "311  312      01/28/2020            NaN       Malaysia  1/28/20 23:00   \n",
       "\n",
       "     Confirmed  Deaths  Recovered  \n",
       "78         0.0     0.0        0.0  \n",
       "168        3.0     0.0        0.0  \n",
       "214        4.0     0.0        0.0  \n",
       "260        4.0     0.0        0.0  \n",
       "311        4.0     0.0        0.0  "
      ]
     },
     "execution_count": 100,
     "metadata": {},
     "output_type": "execute_result"
    }
   ],
   "source": [
    "### BEGIN SOLUTION\n",
    "new_covid_data = cases.loc[cases[\"Country/Region\"] == 'Malaysia']\n",
    "new_covid_data.head()\n",
    "### END SOLUTION"
   ]
  },
  {
   "cell_type": "markdown",
   "metadata": {},
   "source": [
    "We need to make sure there is no missing value in our data\n",
    ">**Instruction** : <br>\n",
    "Use `df.isnull().values.any()` to check any missing data in our dataset. `True` would mean that there is `NaN` in our dataset<br>\n",
    "Most of the column does not contain `NaN` values except for `Province/State `. This is acceptable since this data is not particularly useful to our use case which will be dropped later.\n",
    "\n",
    ">**Expected Result** :<br>\n",
    "\n",
    "Columns|Status\n",
    "---|---\n",
    "SNo                |False\n",
    "ObservationDate    |False\n",
    "Province/State      |True\n",
    "Country/Region     |False\n",
    "Last Update        |False\n",
    "Confirmed          |False\n",
    "Deaths             |False\n",
    "Recovered          |False\n"
   ]
  },
  {
   "cell_type": "code",
   "execution_count": 101,
   "metadata": {},
   "outputs": [
    {
     "data": {
      "text/plain": [
       "SNo                False\n",
       "ObservationDate    False\n",
       "Province/State      True\n",
       "Country/Region     False\n",
       "Last Update        False\n",
       "Confirmed          False\n",
       "Deaths             False\n",
       "Recovered          False\n",
       "dtype: bool"
      ]
     },
     "execution_count": 101,
     "metadata": {},
     "output_type": "execute_result"
    }
   ],
   "source": [
    "### BEGIN SOLUTION\n",
    "new_covid_data.isnull().any()\n",
    "### END SOLUTION"
   ]
  },
  {
   "cell_type": "markdown",
   "metadata": {},
   "source": [
    ">**Instruction** : <br>\n",
    "Set the `ObservationDate` as the index for the dataset. You are required to convert `ObservationDate` to datetime using `pd.to_datetime()` <br>\n",
    "\n",
    ">**Expected Result** :<br>\n",
    "Example of first 5 row data :\n",
    "\n",
    "ObservationDate\t|SNo\t|ObservationDate\t|Province/State\t|Country/Region\t|Last Update\t|Confirmed\t|Deaths\t|Recovered\n",
    " ---|---\t|---\t            |---\t        |---\t        |---\t        |---\t    |---\t|---\n",
    "01/23/2020\t|79\t    |01/23/2020\t|NaN\t|Malaysia\t|1/23/20 |17:00\t|0.0\t|0.0\t|0.0\n",
    "01/25/2020\t|169\t|01/25/2020\t|NaN\t|Malaysia\t|1/25/20 |17:00\t|3.0\t|0.0\t|0.0\n",
    "01/26/2020\t|215\t|01/26/2020\t|NaN\t|Malaysia\t|1/26/20 |16:00\t|4.0\t|0.0\t|0.0\n",
    "01/27/2020\t|261\t|01/27/2020\t|NaN\t|Malaysia\t|1/27/20 |23:59\t|4.0\t|0.0\t|0.0\n",
    "01/28/2020\t|312\t|01/28/2020\t|NaN\t|Malaysia\t|1/28/20 |23:00\t|4.0\t|0.0\t|0.0"
   ]
  },
  {
   "cell_type": "code",
   "execution_count": 102,
   "metadata": {},
   "outputs": [
    {
     "data": {
      "text/html": [
       "<div>\n",
       "<style scoped>\n",
       "    .dataframe tbody tr th:only-of-type {\n",
       "        vertical-align: middle;\n",
       "    }\n",
       "\n",
       "    .dataframe tbody tr th {\n",
       "        vertical-align: top;\n",
       "    }\n",
       "\n",
       "    .dataframe thead th {\n",
       "        text-align: right;\n",
       "    }\n",
       "</style>\n",
       "<table border=\"1\" class=\"dataframe\">\n",
       "  <thead>\n",
       "    <tr style=\"text-align: right;\">\n",
       "      <th></th>\n",
       "      <th>SNo</th>\n",
       "      <th>ObservationDate</th>\n",
       "      <th>Province/State</th>\n",
       "      <th>Country/Region</th>\n",
       "      <th>Last Update</th>\n",
       "      <th>Confirmed</th>\n",
       "      <th>Deaths</th>\n",
       "      <th>Recovered</th>\n",
       "    </tr>\n",
       "    <tr>\n",
       "      <th>ObservationDate</th>\n",
       "      <th></th>\n",
       "      <th></th>\n",
       "      <th></th>\n",
       "      <th></th>\n",
       "      <th></th>\n",
       "      <th></th>\n",
       "      <th></th>\n",
       "      <th></th>\n",
       "    </tr>\n",
       "  </thead>\n",
       "  <tbody>\n",
       "    <tr>\n",
       "      <th>2020-01-23</th>\n",
       "      <td>79</td>\n",
       "      <td>01/23/2020</td>\n",
       "      <td>NaN</td>\n",
       "      <td>Malaysia</td>\n",
       "      <td>1/23/20 17:00</td>\n",
       "      <td>0.0</td>\n",
       "      <td>0.0</td>\n",
       "      <td>0.0</td>\n",
       "    </tr>\n",
       "    <tr>\n",
       "      <th>2020-01-25</th>\n",
       "      <td>169</td>\n",
       "      <td>01/25/2020</td>\n",
       "      <td>NaN</td>\n",
       "      <td>Malaysia</td>\n",
       "      <td>1/25/20 17:00</td>\n",
       "      <td>3.0</td>\n",
       "      <td>0.0</td>\n",
       "      <td>0.0</td>\n",
       "    </tr>\n",
       "    <tr>\n",
       "      <th>2020-01-26</th>\n",
       "      <td>215</td>\n",
       "      <td>01/26/2020</td>\n",
       "      <td>NaN</td>\n",
       "      <td>Malaysia</td>\n",
       "      <td>1/26/20 16:00</td>\n",
       "      <td>4.0</td>\n",
       "      <td>0.0</td>\n",
       "      <td>0.0</td>\n",
       "    </tr>\n",
       "    <tr>\n",
       "      <th>2020-01-27</th>\n",
       "      <td>261</td>\n",
       "      <td>01/27/2020</td>\n",
       "      <td>NaN</td>\n",
       "      <td>Malaysia</td>\n",
       "      <td>1/27/20 23:59</td>\n",
       "      <td>4.0</td>\n",
       "      <td>0.0</td>\n",
       "      <td>0.0</td>\n",
       "    </tr>\n",
       "    <tr>\n",
       "      <th>2020-01-28</th>\n",
       "      <td>312</td>\n",
       "      <td>01/28/2020</td>\n",
       "      <td>NaN</td>\n",
       "      <td>Malaysia</td>\n",
       "      <td>1/28/20 23:00</td>\n",
       "      <td>4.0</td>\n",
       "      <td>0.0</td>\n",
       "      <td>0.0</td>\n",
       "    </tr>\n",
       "  </tbody>\n",
       "</table>\n",
       "</div>"
      ],
      "text/plain": [
       "                 SNo ObservationDate Province/State Country/Region  \\\n",
       "ObservationDate                                                      \n",
       "2020-01-23        79      01/23/2020            NaN       Malaysia   \n",
       "2020-01-25       169      01/25/2020            NaN       Malaysia   \n",
       "2020-01-26       215      01/26/2020            NaN       Malaysia   \n",
       "2020-01-27       261      01/27/2020            NaN       Malaysia   \n",
       "2020-01-28       312      01/28/2020            NaN       Malaysia   \n",
       "\n",
       "                   Last Update  Confirmed  Deaths  Recovered  \n",
       "ObservationDate                                               \n",
       "2020-01-23       1/23/20 17:00        0.0     0.0        0.0  \n",
       "2020-01-25       1/25/20 17:00        3.0     0.0        0.0  \n",
       "2020-01-26       1/26/20 16:00        4.0     0.0        0.0  \n",
       "2020-01-27       1/27/20 23:59        4.0     0.0        0.0  \n",
       "2020-01-28       1/28/20 23:00        4.0     0.0        0.0  "
      ]
     },
     "execution_count": 102,
     "metadata": {},
     "output_type": "execute_result"
    }
   ],
   "source": [
    "### BEGIN SOLUTION\n",
    "new_covid_data = new_covid_data.set_index(pd.to_datetime(new_covid_data[\"ObservationDate\"]))\n",
    "### END SOLUTION\n",
    "\n",
    "new_covid_data.head()"
   ]
  },
  {
   "cell_type": "markdown",
   "metadata": {},
   "source": [
    "Columns such as `SNo`,`ObservationDate`,`Province/State`,`Country/Region`,`Last Update` do not provide any useful information to us. Hence, we need to drop it to make the data look cleaner. \n",
    "\n",
    ">**Instruction** : <br>\n",
    "Use `df.drop` to drop the `columns = ['SNo','ObservationDate','Province/State','Country/Region','Last Update']`<br>\n",
    "\n",
    ">**Expected Result** :<br>\n",
    "\n",
    "ObservationDate\t|Confirmed\t|Deaths\t|Recovered\n",
    "\t---|---|---|---\t\t\n",
    "2020-01-23|\t0.0|\t0.0|\t0.0\n",
    "2020-01-25|\t3.0|\t0.0|\t0.0\n",
    "2020-01-26|\t4.0|\t0.0|\t0.0\n",
    "2020-01-27|\t4.0|\t0.0|\t0.0\n",
    "2020-01-28|\t4.0|    0.0|\t0.0"
   ]
  },
  {
   "cell_type": "code",
   "execution_count": 103,
   "metadata": {},
   "outputs": [
    {
     "data": {
      "text/html": [
       "<div>\n",
       "<style scoped>\n",
       "    .dataframe tbody tr th:only-of-type {\n",
       "        vertical-align: middle;\n",
       "    }\n",
       "\n",
       "    .dataframe tbody tr th {\n",
       "        vertical-align: top;\n",
       "    }\n",
       "\n",
       "    .dataframe thead th {\n",
       "        text-align: right;\n",
       "    }\n",
       "</style>\n",
       "<table border=\"1\" class=\"dataframe\">\n",
       "  <thead>\n",
       "    <tr style=\"text-align: right;\">\n",
       "      <th></th>\n",
       "      <th>Confirmed</th>\n",
       "      <th>Deaths</th>\n",
       "      <th>Recovered</th>\n",
       "    </tr>\n",
       "    <tr>\n",
       "      <th>ObservationDate</th>\n",
       "      <th></th>\n",
       "      <th></th>\n",
       "      <th></th>\n",
       "    </tr>\n",
       "  </thead>\n",
       "  <tbody>\n",
       "    <tr>\n",
       "      <th>2020-01-23</th>\n",
       "      <td>0.0</td>\n",
       "      <td>0.0</td>\n",
       "      <td>0.0</td>\n",
       "    </tr>\n",
       "    <tr>\n",
       "      <th>2020-01-25</th>\n",
       "      <td>3.0</td>\n",
       "      <td>0.0</td>\n",
       "      <td>0.0</td>\n",
       "    </tr>\n",
       "    <tr>\n",
       "      <th>2020-01-26</th>\n",
       "      <td>4.0</td>\n",
       "      <td>0.0</td>\n",
       "      <td>0.0</td>\n",
       "    </tr>\n",
       "    <tr>\n",
       "      <th>2020-01-27</th>\n",
       "      <td>4.0</td>\n",
       "      <td>0.0</td>\n",
       "      <td>0.0</td>\n",
       "    </tr>\n",
       "    <tr>\n",
       "      <th>2020-01-28</th>\n",
       "      <td>4.0</td>\n",
       "      <td>0.0</td>\n",
       "      <td>0.0</td>\n",
       "    </tr>\n",
       "  </tbody>\n",
       "</table>\n",
       "</div>"
      ],
      "text/plain": [
       "                 Confirmed  Deaths  Recovered\n",
       "ObservationDate                              \n",
       "2020-01-23             0.0     0.0        0.0\n",
       "2020-01-25             3.0     0.0        0.0\n",
       "2020-01-26             4.0     0.0        0.0\n",
       "2020-01-27             4.0     0.0        0.0\n",
       "2020-01-28             4.0     0.0        0.0"
      ]
     },
     "execution_count": 103,
     "metadata": {},
     "output_type": "execute_result"
    }
   ],
   "source": [
    "### BEGIN SOLUTION\n",
    "new_covid_data = new_covid_data.drop(columns = ['SNo','ObservationDate','Province/State','Country/Region','Last Update'])\n",
    "### END SOLUTION\n",
    "new_covid_data.head()"
   ]
  },
  {
   "cell_type": "markdown",
   "metadata": {},
   "source": [
    "To make our sliding window function work. You need to rearrange the data columns such that the targeted forecast series will be the last column of the data\n",
    ">**Instruction** : <br>\n",
    "Rearrange the data column using `df[]`<br>\n",
    "For example : <br>\n",
    "columns = [`A`,`B`,`C`]<br>\n",
    "rearrage columns = [`A`,`C`,`B`]<br>\n",
    "`df =  df[rearrage columns]`\n",
    "\n",
    ">**Expected Result** :<br>\n",
    "\n",
    "ObservationDate|\tConfirmed|\tRecovered|\tDeaths\n",
    "\t\t---|---|---|---\t\n",
    "2020-01-23|\t0.0|\t0.0|\t0.0\n",
    "2020-01-25|\t3.0|\t0.0|\t0.0\n",
    "2020-01-26|\t4.0|\t0.0|\t0.0\n",
    "2020-01-27|\t4.0|\t0.0|\t0.0\n",
    "2020-01-28|\t4.0|\t0.0|\t0.0"
   ]
  },
  {
   "cell_type": "code",
   "execution_count": 104,
   "metadata": {},
   "outputs": [
    {
     "data": {
      "text/html": [
       "<div>\n",
       "<style scoped>\n",
       "    .dataframe tbody tr th:only-of-type {\n",
       "        vertical-align: middle;\n",
       "    }\n",
       "\n",
       "    .dataframe tbody tr th {\n",
       "        vertical-align: top;\n",
       "    }\n",
       "\n",
       "    .dataframe thead th {\n",
       "        text-align: right;\n",
       "    }\n",
       "</style>\n",
       "<table border=\"1\" class=\"dataframe\">\n",
       "  <thead>\n",
       "    <tr style=\"text-align: right;\">\n",
       "      <th></th>\n",
       "      <th>Confirmed</th>\n",
       "      <th>Recovered</th>\n",
       "      <th>Deaths</th>\n",
       "    </tr>\n",
       "    <tr>\n",
       "      <th>ObservationDate</th>\n",
       "      <th></th>\n",
       "      <th></th>\n",
       "      <th></th>\n",
       "    </tr>\n",
       "  </thead>\n",
       "  <tbody>\n",
       "    <tr>\n",
       "      <th>2020-01-23</th>\n",
       "      <td>0.0</td>\n",
       "      <td>0.0</td>\n",
       "      <td>0.0</td>\n",
       "    </tr>\n",
       "    <tr>\n",
       "      <th>2020-01-25</th>\n",
       "      <td>3.0</td>\n",
       "      <td>0.0</td>\n",
       "      <td>0.0</td>\n",
       "    </tr>\n",
       "    <tr>\n",
       "      <th>2020-01-26</th>\n",
       "      <td>4.0</td>\n",
       "      <td>0.0</td>\n",
       "      <td>0.0</td>\n",
       "    </tr>\n",
       "    <tr>\n",
       "      <th>2020-01-27</th>\n",
       "      <td>4.0</td>\n",
       "      <td>0.0</td>\n",
       "      <td>0.0</td>\n",
       "    </tr>\n",
       "    <tr>\n",
       "      <th>2020-01-28</th>\n",
       "      <td>4.0</td>\n",
       "      <td>0.0</td>\n",
       "      <td>0.0</td>\n",
       "    </tr>\n",
       "  </tbody>\n",
       "</table>\n",
       "</div>"
      ],
      "text/plain": [
       "                 Confirmed  Recovered  Deaths\n",
       "ObservationDate                              \n",
       "2020-01-23             0.0        0.0     0.0\n",
       "2020-01-25             3.0        0.0     0.0\n",
       "2020-01-26             4.0        0.0     0.0\n",
       "2020-01-27             4.0        0.0     0.0\n",
       "2020-01-28             4.0        0.0     0.0"
      ]
     },
     "execution_count": 104,
     "metadata": {},
     "output_type": "execute_result"
    }
   ],
   "source": [
    "### BEGIN SOLUTION\n",
    "new_covid_data = new_covid_data[[\"Confirmed\",\"Recovered\",\"Deaths\"]]\n",
    "### END SOLUTION\n",
    "new_covid_data.head()"
   ]
  },
  {
   "cell_type": "markdown",
   "metadata": {},
   "source": [
    "## Data Visualization\n",
    "Data visualization is important for us to visualize the pattern of data such as trend and seasonality. Seeing the graph below, it is quite clear that there is an increasing trend in data"
   ]
  },
  {
   "cell_type": "code",
   "execution_count": 105,
   "metadata": {},
   "outputs": [
    {
     "data": {
      "image/png": "[encoded data removed]",
      "text/plain": [
       "<Figure size 792x648 with 3 Axes>"
      ]
     },
     "metadata": {
      "needs_background": "light"
     },
     "output_type": "display_data"
    }
   ],
   "source": [
    "# Visualize Data \n",
    "axes = new_covid_data[new_covid_data.columns].plot(alpha=1.0, linestyle='-', figsize=(11, 9), subplots=True)\n",
    "for ax in axes:\n",
    "    ax.set_ylabel('COVID-19-Malaysia')"
   ]
  },
  {
   "cell_type": "markdown",
   "metadata": {},
   "source": [
    "However, the data is in cumulative form. To perform time-series prediction, we need to convert the cumulative cases into daily cases.\n",
    "\n",
    ">**Instruction** : <br>\n",
    "Remove the cumulative counts. You might need to use a `For loop` to loop through the data for each columns .Use `new_covid_data[name] - new_covid_data[name].shift().fillna(0)` as the math operation to remove the cumulative<br>\n",
    "\n",
    ">**Expected Result** :<br>\n",
    "\n",
    "ObservationDate|\tConfirmed|\tRecovered|\tDeaths|\n",
    "\t---|\t---|---|---\t\n",
    "2020-01-23|\t0.0|\t0.0|\t0.0|\n",
    "2020-01-25|\t3.0|\t0.0|\t0.0|\n",
    "2020-01-26|\t1.0|\t0.0|\t0.0|\n",
    "2020-01-27|\t0.0|\t0.0|\t0.0|\n",
    "2020-01-28|\t0.0|\t0.0|\t0.0|"
   ]
  },
  {
   "cell_type": "code",
   "execution_count": 106,
   "metadata": {},
   "outputs": [
    {
     "data": {
      "text/html": [
       "<div>\n",
       "<style scoped>\n",
       "    .dataframe tbody tr th:only-of-type {\n",
       "        vertical-align: middle;\n",
       "    }\n",
       "\n",
       "    .dataframe tbody tr th {\n",
       "        vertical-align: top;\n",
       "    }\n",
       "\n",
       "    .dataframe thead th {\n",
       "        text-align: right;\n",
       "    }\n",
       "</style>\n",
       "<table border=\"1\" class=\"dataframe\">\n",
       "  <thead>\n",
       "    <tr style=\"text-align: right;\">\n",
       "      <th></th>\n",
       "      <th>Confirmed</th>\n",
       "      <th>Recovered</th>\n",
       "      <th>Deaths</th>\n",
       "    </tr>\n",
       "    <tr>\n",
       "      <th>ObservationDate</th>\n",
       "      <th></th>\n",
       "      <th></th>\n",
       "      <th></th>\n",
       "    </tr>\n",
       "  </thead>\n",
       "  <tbody>\n",
       "    <tr>\n",
       "      <th>2020-01-23</th>\n",
       "      <td>0.0</td>\n",
       "      <td>0.0</td>\n",
       "      <td>0.0</td>\n",
       "    </tr>\n",
       "    <tr>\n",
       "      <th>2020-01-25</th>\n",
       "      <td>3.0</td>\n",
       "      <td>0.0</td>\n",
       "      <td>0.0</td>\n",
       "    </tr>\n",
       "    <tr>\n",
       "      <th>2020-01-26</th>\n",
       "      <td>1.0</td>\n",
       "      <td>0.0</td>\n",
       "      <td>0.0</td>\n",
       "    </tr>\n",
       "    <tr>\n",
       "      <th>2020-01-27</th>\n",
       "      <td>0.0</td>\n",
       "      <td>0.0</td>\n",
       "      <td>0.0</td>\n",
       "    </tr>\n",
       "    <tr>\n",
       "      <th>2020-01-28</th>\n",
       "      <td>0.0</td>\n",
       "      <td>0.0</td>\n",
       "      <td>0.0</td>\n",
       "    </tr>\n",
       "  </tbody>\n",
       "</table>\n",
       "</div>"
      ],
      "text/plain": [
       "                 Confirmed  Recovered  Deaths\n",
       "ObservationDate                              \n",
       "2020-01-23             0.0        0.0     0.0\n",
       "2020-01-25             3.0        0.0     0.0\n",
       "2020-01-26             1.0        0.0     0.0\n",
       "2020-01-27             0.0        0.0     0.0\n",
       "2020-01-28             0.0        0.0     0.0"
      ]
     },
     "execution_count": 106,
     "metadata": {},
     "output_type": "execute_result"
    }
   ],
   "source": [
    "### BEGIN SOLUTION\n",
    "for name in new_covid_data.columns:\n",
    "        new_covid_data[name] = new_covid_data[name] - new_covid_data[name].shift().fillna(0)\n",
    "### END SOLUTION\n",
    "new_covid_data.head()"
   ]
  },
  {
   "cell_type": "code",
   "execution_count": 107,
   "metadata": {},
   "outputs": [
    {
     "data": {
      "image/png": "[encoded data removed]",
      "text/plain": [
       "<Figure size 792x648 with 3 Axes>"
      ]
     },
     "metadata": {
      "needs_background": "light"
     },
     "output_type": "display_data"
    }
   ],
   "source": [
    "# Visualize Data \n",
    "axes = new_covid_data[new_covid_data.columns].plot(alpha=1.0, linestyle='-', figsize=(11, 9), subplots=True)\n",
    "for ax in axes:\n",
    "    ax.set_ylabel('COVID-19-Malaysia')"
   ]
  },
  {
   "cell_type": "markdown",
   "metadata": {},
   "source": [
    "## Data Splitting\n",
    "In Deep Learning, we will split the data into training and test dataset. The training data is used to train the model whereas the test data is used to validate the performance of the model."
   ]
  },
  {
   "cell_type": "code",
   "execution_count": 108,
   "metadata": {},
   "outputs": [
    {
     "data": {
      "text/plain": [
       "21"
      ]
     },
     "execution_count": 108,
     "metadata": {},
     "output_type": "execute_result"
    }
   ],
   "source": [
    "split_data_covid = round(len(dataset)*split_ratio)\n",
    "split_data_covid"
   ]
  },
  {
   "cell_type": "code",
   "execution_count": 109,
   "metadata": {},
   "outputs": [
    {
     "name": "stdout",
     "output_type": "stream",
     "text": [
      "train_data_shape\n",
      "(380, 3)\n",
      "test_data_shape\n",
      "(21, 3)\n"
     ]
    }
   ],
   "source": [
    "# Split data by indexing \n",
    "train_data_covid = new_covid_data[:-split_data_covid ]\n",
    "test_data_covid = new_covid_data[-split_data_covid :]\n",
    "train_time_covid = new_covid_data.index[:-split_data_covid ]\n",
    "test_time_covid = new_covid_data.index[-split_data_covid :]\n",
    "\n",
    "print(\"train_data_shape\")\n",
    "print(train_data_covid.shape)\n",
    "print(\"test_data_shape\")\n",
    "print(test_data_covid.shape)"
   ]
  },
  {
   "cell_type": "markdown",
   "metadata": {},
   "source": [
    "## Data Normalization \n",
    "Normalize the data into range of 0 to 1"
   ]
  },
  {
   "cell_type": "code",
   "execution_count": 110,
   "metadata": {},
   "outputs": [
    {
     "name": "stdout",
     "output_type": "stream",
     "text": [
      "train_data_normalized_demand(380, 3)\n",
      "test_data_normalized_demand(21, 3)\n"
     ]
    }
   ],
   "source": [
    "scaler_covid,train_data_normalized_covid,test_data_normalized_covid = data_module.multi_data_scaler(train_data_covid,\n",
    "                                                                                         test_data_covid,\n",
    "                                                                                         scale_mode = \"Normalize\")\n",
    "print(\"train_data_normalized_demand\"+str(train_data_normalized_covid.shape))\n",
    "print(\"test_data_normalized_demand\"+str(test_data_normalized_covid.shape))"
   ]
  },
  {
   "cell_type": "markdown",
   "metadata": {},
   "source": [
    "## Data Sequencing\n",
    "Sequencing the data by taking in the multivariate series into x-feature and y-label\n",
    "<img src = \"../../picture/multivariate univariate.png\"  width=\"300\" height  =\"300\" align=\"center\" />"
   ]
  },
  {
   "cell_type": "code",
   "execution_count": 111,
   "metadata": {},
   "outputs": [
    {
     "name": "stdout",
     "output_type": "stream",
     "text": [
      "trainX_demand shape:(370, 10, 2) trainY_demand shape:(370, 2)\n",
      "\n",
      "testX_demand shape:(11, 10, 2) testY_demand shape:(11, 2)\n"
     ]
    }
   ],
   "source": [
    "trainX_covid ,trainY_covid=  data_module.multivariate_univariate_multi_step(train_data_normalized_covid,window_size_covid,n_step_covid)\n",
    "testX_covid , testY_covid = data_module.multivariate_univariate_multi_step(test_data_normalized_covid,window_size_covid,n_step_covid)\n",
    "print(f\"trainX_demand shape:{trainX_covid.shape} trainY_demand shape:{trainY_covid.shape}\\n\")\n",
    "print(f\"testX_demand shape:{testX_covid.shape} testY_demand shape:{testY_covid.shape}\")"
   ]
  },
  {
   "cell_type": "code",
   "execution_count": 112,
   "metadata": {},
   "outputs": [
    {
     "name": "stdout",
     "output_type": "stream",
     "text": [
      "trainY shape:(370, 2, 1)\n",
      "testY shape:(11, 2, 1)\n"
     ]
    }
   ],
   "source": [
    "trainY_covid = trainY_covid.reshape(trainY_covid.shape[0],n_step_covid,1)\n",
    "testY_covid= testY_covid.reshape(testY_covid.shape[0],n_step_covid,1)\n",
    "print(f\"trainY shape:{trainY_covid.shape}\")\n",
    "print(f\"testY shape:{testY_covid.shape}\")"
   ]
  },
  {
   "cell_type": "markdown",
   "metadata": {},
   "source": [
    "### Data Transform\n",
    "Data needs to be transformed from numpy to pytorch tensor before being fed into the model.\n",
    "\n",
    ">**Instruction** : <br>\n",
    "Use `data_module.key_assign` to assign the key and `data_module.transform` to transform the data."
   ]
  },
  {
   "cell_type": "code",
   "execution_count": 113,
   "metadata": {},
   "outputs": [],
   "source": [
    "### BEGIN SOLUTION\n",
    "train_data_dict_covid ,test_data_dict_covid = data_module.key_assign(trainingX = trainX_covid  , \n",
    "                       testingX = testX_covid, \n",
    "                       trainingY = trainY_covid, \n",
    "                       testingY = testY_covid)\n",
    "train_data_dict_covid ,test_data_dict_covid = data_module.transform(train_data_dict_covid ,test_data_dict_covid)\n",
    "### END SOLUTION"
   ]
  },
  {
   "cell_type": "code",
   "execution_count": 114,
   "metadata": {},
   "outputs": [
    {
     "name": "stdout",
     "output_type": "stream",
     "text": [
      "train_data_x_feature shape : torch.Size([370, 10, 2])\n",
      "train_data_y_label shape : torch.Size([370, 2, 1])\n",
      "test_data_x_feature shape : torch.Size([11, 10, 2])\n",
      "test_data_y_label shape : torch.Size([11, 2, 1])\n"
     ]
    }
   ],
   "source": [
    "data_module.sanity_check(train_data_dict_covid , test_data_dict_covid)"
   ]
  },
  {
   "cell_type": "markdown",
   "metadata": {},
   "source": [
    "## Data Transpose \n",
    "You are require to transpose the x-feature data in such a way that : <br>\n",
    ">`(batch_size, number_of_features, sequence_length)`.\n",
    "\n",
    "\n",
    ">**Instruction** : <br>\n",
    "Use `transpose` function in `data_module.py` to transpose the suitable input data for CNN model."
   ]
  },
  {
   "cell_type": "code",
   "execution_count": 115,
   "metadata": {},
   "outputs": [],
   "source": [
    "train_data_dict_covid , test_data_dict_covid = data_module.transpose(train_data_dict_covid,\n",
    "                                                                     test_data_dict_covid)"
   ]
  },
  {
   "cell_type": "code",
   "execution_count": 116,
   "metadata": {},
   "outputs": [
    {
     "name": "stdout",
     "output_type": "stream",
     "text": [
      "train_data_x_feature shape : torch.Size([370, 2, 10])\n",
      "train_data_y_label shape : torch.Size([370, 2, 1])\n",
      "test_data_x_feature shape : torch.Size([11, 2, 10])\n",
      "test_data_y_label shape : torch.Size([11, 2, 1])\n"
     ]
    }
   ],
   "source": [
    "data_module.sanity_check(train_data_dict_covid , test_data_dict_covid)"
   ]
  },
  {
   "cell_type": "markdown",
   "metadata": {},
   "source": [
    "## Data Iterator\n",
    "Iterator is created to separate the data into several batches to fasten the training process\n",
    ">**Instruction** : <br>\n",
    "Use `data_module.iterator` to create data iterator."
   ]
  },
  {
   "cell_type": "code",
   "execution_count": 117,
   "metadata": {},
   "outputs": [],
   "source": [
    "### BEGIN SOLUTION\n",
    "train_iter_covid , test_iter_covid = data_module.iterator(train_data_dict_covid ,\n",
    "                                                          test_data_dict_covid,\n",
    "                                                          batch_size = batch_size_covid)\n",
    "### END SOLUTION"
   ]
  },
  {
   "cell_type": "markdown",
   "metadata": {},
   "source": [
    "## Input Model\n",
    "\n",
    ">**Instruction** : <br>\n",
    "Input the model that you have configured"
   ]
  },
  {
   "cell_type": "code",
   "execution_count": 118,
   "metadata": {},
   "outputs": [],
   "source": [
    "# seed\n",
    "torch.manual_seed(123)\n",
    "\n",
    "n_feature_covid = train_data_dict_covid['train_data_x_feature'].shape[1]\n",
    "### BEGIN SOLUTION\n",
    "# Input the attribute need by the model \n",
    "model_covid = CNN(n_feature = n_feature_covid,\n",
    "                  n_step = n_step_covid )\n",
    "\n",
    "### END SOLUTION\n",
    "\n",
    "# Define the optimizer (Here we use Adam as our optimizer)\n",
    "### BEGIN SOLUTION\n",
    "optimizer_covid = torch.optim.Adam(model_covid.parameters(), lr=learning_rate_covid)\n",
    "### END SOLUTION\n",
    "\n",
    "# Define the loss function (Here we use MSE as the loss function)\n",
    "### BEGIN SOLUTION\n",
    "loss_fn_covid = nn.MSELoss()\n",
    "### END SOLUTION"
   ]
  },
  {
   "cell_type": "code",
   "execution_count": 119,
   "metadata": {},
   "outputs": [
    {
     "name": "stdout",
     "output_type": "stream",
     "text": [
      "====================================================\n",
      "        Kernel Shape Output Shape Params Mult-Adds\n",
      "Layer                                             \n",
      "0_conv1   [2, 30, 2]   [5, 30, 9]  150.0     1.08k\n",
      "1_poo1             -   [5, 30, 4]      -         -\n",
      "2_conv2  [30, 20, 2]   [5, 20, 3]  1.22k      3.6k\n",
      "3_pool2            -   [5, 20, 1]      -         -\n",
      "4_fc1       [20, 10]      [5, 10]  210.0     200.0\n",
      "5_fc2        [10, 2]       [5, 2]   22.0      20.0\n",
      "----------------------------------------------------\n",
      "                      Totals\n",
      "Total params          1.602k\n",
      "Trainable params      1.602k\n",
      "Non-trainable params     0.0\n",
      "Mult-Adds               4.9k\n",
      "====================================================\n",
      "        Kernel Shape Output Shape  Params  Mult-Adds\n",
      "Layer                                               \n",
      "0_conv1   [2, 30, 2]   [5, 30, 9]   150.0     1080.0\n",
      "1_poo1             -   [5, 30, 4]     NaN        NaN\n",
      "2_conv2  [30, 20, 2]   [5, 20, 3]  1220.0     3600.0\n",
      "3_pool2            -   [5, 20, 1]     NaN        NaN\n",
      "4_fc1       [20, 10]      [5, 10]   210.0      200.0\n",
      "5_fc2        [10, 2]       [5, 2]    22.0       20.0\n"
     ]
    }
   ],
   "source": [
    "seq_length_covid = train_data_dict_covid['train_data_x_feature'].shape[2]\n",
    "\n",
    "# batch size ,input_dim ,seq_length\n",
    "inputs = torch.zeros((batch_size_covid,\n",
    "                      n_feature_covid ,\n",
    "                      seq_length_covid),dtype=torch.float) \n",
    "\n",
    "print(summary(model_covid,inputs))"
   ]
  },
  {
   "cell_type": "code",
   "execution_count": 120,
   "metadata": {},
   "outputs": [
    {
     "data": {
      "text/plain": [
       "CNN(\n",
       "  (conv1): Conv1d(2, 30, kernel_size=(2,), stride=(1,))\n",
       "  (poo1): MaxPool1d(kernel_size=2, stride=2, padding=0, dilation=1, ceil_mode=False)\n",
       "  (conv2): Conv1d(30, 20, kernel_size=(2,), stride=(1,))\n",
       "  (pool2): AdaptiveMaxPool1d(output_size=1)\n",
       "  (fc1): Linear(in_features=20, out_features=10, bias=True)\n",
       "  (fc2): Linear(in_features=10, out_features=2, bias=True)\n",
       ")"
      ]
     },
     "execution_count": 120,
     "metadata": {},
     "output_type": "execute_result"
    }
   ],
   "source": [
    "torch.manual_seed(123)\n",
    "\n",
    "# Xavier weight intialization\n",
    "def weights_init(m):\n",
    "    if isinstance(m, nn.Conv1d):\n",
    "        nn.init.xavier_uniform_(m.weight.data)\n",
    "        \n",
    "model_covid.apply(weights_init)"
   ]
  },
  {
   "cell_type": "markdown",
   "metadata": {},
   "source": [
    "# Step 3 : Training\n",
    ">**Instruction** : <br>\n",
    "Use `deep_learning_module.training` to train the model."
   ]
  },
  {
   "cell_type": "code",
   "execution_count": 121,
   "metadata": {},
   "outputs": [],
   "source": [
    "#seed\n",
    "torch.manual_seed(123)\n",
    "### BEGIN SOLUTION\n",
    "\n",
    "# Start training \n",
    "train_loss_covid,val_loss_covid = deep_learning_module.training(num_epochs= num_epochs_covid ,\n",
    "                                                    train_iter = train_iter_covid,\n",
    "                                                    test_iter = test_iter_covid ,\n",
    "                                                    optimizer = optimizer_covid,\n",
    "                                                    loss_fn = loss_fn_covid,\n",
    "                                                    model = model_covid)\n",
    "### END SOLUTION"
   ]
  },
  {
   "cell_type": "markdown",
   "metadata": {},
   "source": [
    "# Step 4 : Validation"
   ]
  },
  {
   "cell_type": "code",
   "execution_count": 122,
   "metadata": {},
   "outputs": [
    {
     "data": {
      "image/png": "[encoded data removed]",
      "text/plain": [
       "<Figure size 720x432 with 1 Axes>"
      ]
     },
     "metadata": {
      "needs_background": "light"
     },
     "output_type": "display_data"
    },
    {
     "name": "stdout",
     "output_type": "stream",
     "text": [
      "Epoch : 0 , training loss : 2.943264897157614 , validation loss : 14.014439236034047\n",
      "Epoch : 1 , training loss : 1.2865004019207649 , validation loss : 5.608612667430531\n",
      "Epoch : 2 , training loss : 0.6443500890069314 , validation loss : 2.5043489933013916\n",
      "Epoch : 3 , training loss : 0.3046323132726389 , validation loss : 1.2039689855142073\n",
      "Epoch : 4 , training loss : 0.154807872440968 , validation loss : 0.8404275592077862\n",
      "Epoch : 5 , training loss : 0.09580910422310636 , validation loss : 0.5842970606278289\n",
      "Epoch : 6 , training loss : 0.07491733254613103 , validation loss : 0.49056777074425056\n",
      "Epoch : 7 , training loss : 0.06624819851807646 , validation loss : 0.4593733888733285\n",
      "Epoch : 8 , training loss : 0.060456688188620517 , validation loss : 0.4454912502868948\n",
      "Epoch : 9 , training loss : 0.05659076436800328 , validation loss : 0.4382750416089865\n",
      "Epoch : 10 , training loss : 0.053738696148266665 , validation loss : 0.4422030286355452\n",
      "Epoch : 11 , training loss : 0.051237032201292144 , validation loss : 0.45503811055625026\n",
      "Epoch : 12 , training loss : 0.04888754409133784 , validation loss : 0.4722412757744843\n",
      "Epoch : 13 , training loss : 0.04669185119328668 , validation loss : 0.49165217307480896\n",
      "Epoch : 14 , training loss : 0.04472642023166692 , validation loss : 0.5069265379147097\n",
      "Epoch : 15 , training loss : 0.04295126037873529 , validation loss : 0.5239561381326481\n",
      "Epoch : 16 , training loss : 0.04124323702794877 , validation loss : 0.5324821509420872\n",
      "Epoch : 17 , training loss : 0.03966224378578969 , validation loss : 0.5376155335794796\n",
      "Epoch : 18 , training loss : 0.03813248315221957 , validation loss : 0.5407967455685139\n",
      "Epoch : 19 , training loss : 0.036697384165096526 , validation loss : 0.5391326235099272\n",
      "Epoch : 20 , training loss : 0.0353834226450606 , validation loss : 0.5260634076866236\n",
      "Epoch : 21 , training loss : 0.03405421129050287 , validation loss : 0.5174501297826116\n",
      "Epoch : 22 , training loss : 0.03259503187586528 , validation loss : 0.4996264238249172\n",
      "Epoch : 23 , training loss : 0.031091705587617046 , validation loss : 0.47758477384393866\n",
      "Epoch : 24 , training loss : 0.029759232017740205 , validation loss : 0.4510504136031324\n",
      "Epoch : 25 , training loss : 0.028369721604158748 , validation loss : 0.42479726841503923\n",
      "Epoch : 26 , training loss : 0.026655950265735185 , validation loss : 0.39266979203305463\n",
      "Epoch : 27 , training loss : 0.025364616108630354 , validation loss : 0.3489893253215335\n",
      "Epoch : 28 , training loss : 0.024402648960932385 , validation loss : 0.3213017490607771\n",
      "Epoch : 29 , training loss : 0.02346497280932208 , validation loss : 0.29989692924374883\n",
      "Epoch : 30 , training loss : 0.02258737905523614 , validation loss : 0.27099118661135435\n",
      "Epoch : 31 , training loss : 0.0217218024292772 , validation loss : 0.2507198905064301\n",
      "Epoch : 32 , training loss : 0.021024187530447554 , validation loss : 0.23517897758971562\n",
      "Epoch : 33 , training loss : 0.020356705776459816 , validation loss : 0.22411972402848981\n",
      "Epoch : 34 , training loss : 0.019750149712923007 , validation loss : 0.2132854334671389\n",
      "Epoch : 35 , training loss : 0.01921703212900792 , validation loss : 0.20489566468379714\n",
      "Epoch : 36 , training loss : 0.018715607855041082 , validation loss : 0.19897841560569676\n",
      "Epoch : 37 , training loss : 0.01827982087411943 , validation loss : 0.1908524019474333\n",
      "Epoch : 38 , training loss : 0.017855170549434685 , validation loss : 0.1852310968732292\n",
      "Epoch : 39 , training loss : 0.017470289994742268 , validation loss : 0.18012792481617493\n",
      "Epoch : 40 , training loss : 0.017107916155018266 , validation loss : 0.1750255340540951\n",
      "Epoch : 41 , training loss : 0.0167748425081152 , validation loss : 0.1700697849419984\n",
      "Epoch : 42 , training loss : 0.016459343653656793 , validation loss : 0.1657076891173016\n",
      "Epoch : 43 , training loss : 0.016205680947137268 , validation loss : 0.16088822484016418\n",
      "Epoch : 44 , training loss : 0.015929262387814832 , validation loss : 0.1556723950938745\n",
      "Epoch : 45 , training loss : 0.015615601831185003 , validation loss : 0.1509386317973787\n",
      "Epoch : 46 , training loss : 0.015325578925832225 , validation loss : 0.14706569842316888\n",
      "Epoch : 47 , training loss : 0.015058636207548852 , validation loss : 0.14238642918115313\n",
      "Epoch : 48 , training loss : 0.014808837247663768 , validation loss : 0.138160445981405\n",
      "Epoch : 49 , training loss : 0.014563259728638022 , validation loss : 0.13547820868817242\n",
      "Epoch : 50 , training loss : 0.014336063342133875 , validation loss : 0.13245522264729848\n",
      "Epoch : 51 , training loss : 0.014120833960422149 , validation loss : 0.13000283085487105\n",
      "Epoch : 52 , training loss : 0.013905090768718298 , validation loss : 0.12791994874450294\n",
      "Epoch : 53 , training loss : 0.01370697772887758 , validation loss : 0.1260473235425624\n",
      "Epoch : 54 , training loss : 0.013518402299514736 , validation loss : 0.12429299476471814\n",
      "Epoch : 55 , training loss : 0.013333744230024152 , validation loss : 0.12258130295032804\n",
      "Epoch : 56 , training loss : 0.013158972982047408 , validation loss : 0.12067544832825661\n",
      "Epoch : 57 , training loss : 0.012996990911847821 , validation loss : 0.1184727767990394\n",
      "Epoch : 58 , training loss : 0.012828949320268096 , validation loss : 0.11650229719552127\n",
      "Epoch : 59 , training loss : 0.012674649242644836 , validation loss : 0.11492535810578954\n",
      "Epoch : 60 , training loss : 0.012528633896156837 , validation loss : 0.11330462619662285\n",
      "Epoch : 61 , training loss : 0.012384447979432455 , validation loss : 0.11149323206733573\n",
      "Epoch : 62 , training loss : 0.012262190340766825 , validation loss : 0.11035757342522795\n",
      "Epoch : 63 , training loss : 0.01212635182078835 , validation loss : 0.10934755070642992\n",
      "Epoch : 64 , training loss : 0.012017741029479579 , validation loss : 0.10904300924051892\n",
      "Epoch : 65 , training loss : 0.011891041889513773 , validation loss : 0.10777859186584299\n",
      "Epoch : 66 , training loss : 0.01179154314121587 , validation loss : 0.10876374268396334\n",
      "Epoch : 67 , training loss : 0.011667424853717297 , validation loss : 0.10687380690466274\n",
      "Epoch : 68 , training loss : 0.011554331566789974 , validation loss : 0.10627736202017828\n",
      "Epoch : 69 , training loss : 0.011440404102432768 , validation loss : 0.10542798279361291\n",
      "Epoch : 70 , training loss : 0.01132757719981758 , validation loss : 0.10508030822331255\n",
      "Epoch : 71 , training loss : 0.01122418356740004 , validation loss : 0.1048080518164418\n",
      "Epoch : 72 , training loss : 0.011122537307036927 , validation loss : 0.10421223938465118\n",
      "Epoch : 73 , training loss : 0.011023608309384342 , validation loss : 0.10441393218934536\n",
      "Epoch : 74 , training loss : 0.010946278881444439 , validation loss : 0.10406273823570121\n",
      "Epoch : 75 , training loss : 0.010914563824543793 , validation loss : 0.10769960250366818\n",
      "Epoch : 76 , training loss : 0.010782207848269781 , validation loss : 0.10388979756019333\n",
      "Epoch : 77 , training loss : 0.0106828714247181 , validation loss : 0.1054513430730863\n",
      "Epoch : 78 , training loss : 0.010625675611860258 , validation loss : 0.1052683602002534\n",
      "Epoch : 79 , training loss : 0.010605388414979962 , validation loss : 0.10816443880850618\n",
      "Epoch : 80 , training loss : 0.010490889944579779 , validation loss : 0.10522530194033276\n",
      "Epoch : 81 , training loss : 0.010457280011217557 , validation loss : 0.10954063487323848\n",
      "Epoch : 82 , training loss : 0.010380549843437227 , validation loss : 0.1070373837243427\n",
      "Epoch : 83 , training loss : 0.01041983905983019 , validation loss : 0.11279565705494447\n",
      "Epoch : 84 , training loss : 0.010273245972663013 , validation loss : 0.11130286787043918\n",
      "Epoch : 85 , training loss : 0.010147697097488924 , validation loss : 0.1136738888242028\n",
      "Epoch : 86 , training loss : 0.010295057029784279 , validation loss : 0.11480568992820653\n",
      "Epoch : 87 , training loss : 0.010229729015672756 , validation loss : 0.11881315640427849\n",
      "Epoch : 88 , training loss : 0.010288192840930974 , validation loss : 0.12120806324211034\n",
      "Epoch : 89 , training loss : 0.009868981635942898 , validation loss : 0.11277116225524382\n",
      "Epoch : 90 , training loss : 0.009656407424257408 , validation loss : 0.11160967668349092\n",
      "Epoch : 91 , training loss : 0.009580856910139806 , validation loss : 0.11762400852008299\n",
      "Epoch : 92 , training loss : 0.009486737254396634 , validation loss : 0.11563960564407436\n",
      "Epoch : 93 , training loss : 0.009388980535928765 , validation loss : 0.11940229345451701\n",
      "Epoch : 94 , training loss : 0.009342984168167302 , validation loss : 0.1168177839029919\n",
      "Epoch : 95 , training loss : 0.009241936523746542 , validation loss : 0.11621810631318526\n",
      "Epoch : 96 , training loss : 0.009138307841911572 , validation loss : 0.11765609952536496\n",
      "Epoch : 97 , training loss : 0.009042081975486645 , validation loss : 0.12064203823154623\n",
      "Epoch : 98 , training loss : 0.008997547596663935 , validation loss : 0.11754863573746248\n",
      "Epoch : 99 , training loss : 0.00915033864008807 , validation loss : 0.13149199092930014\n"
     ]
    }
   ],
   "source": [
    "# Plot Learning Curve \n",
    "### BEGIN SOLUTION\n",
    "data_module.learning_curve(num_epochs = num_epochs_covid,\n",
    "                           train_loss = train_loss_covid ,\n",
    "                           val_loss = val_loss_covid)\n",
    "\n",
    "### END SOLUTION"
   ]
  },
  {
   "cell_type": "markdown",
   "metadata": {},
   "source": [
    "# Step 5 : Evaluation\n",
    "This section is to inference the model by feeding in testing data, determining the output forecast values and calculating the RMSE. For this exercise, use the function in `data_module` to run in each section.\n",
    "\n",
    "It consists of 4 sections :\n",
    "\n",
    "Section 1 : Feed in the train and test data to the model <br>\n",
    "Section 2 : Reshape both to the original data dimension <br> \n",
    "Section 3 : Invert the scaling back to the original data value <br>\n",
    "Section 4 : Calculate the RMSE of train and test data\n",
    "\n",
    ">**Instruction** : <br>\n",
    "Complete each section with the function in `data_module.py`"
   ]
  },
  {
   "cell_type": "code",
   "execution_count": 123,
   "metadata": {},
   "outputs": [],
   "source": [
    "# Section 1 : Make predictions\n",
    "\n",
    "### BEGIN SOLUTION\n",
    "with torch.no_grad():\n",
    "    y_train_prediction_covid = model_covid(train_data_dict_covid['train_data_x_feature'])\n",
    "    y_test_prediction_covid = model_covid(test_data_dict_covid['test_data_x_feature'])\n",
    "### END SOLUTION"
   ]
  },
  {
   "cell_type": "code",
   "execution_count": 124,
   "metadata": {},
   "outputs": [],
   "source": [
    "# Assign evaluation key\n",
    "### BEGIN SOLUTION\n",
    "prediction_covid , output_covid = data_module.key_assign_evaluation(y_train_prediction_covid,\n",
    "                                                                    y_test_prediction_covid,\n",
    "                                                                    train_data_dict_covid,\n",
    "                                                                    test_data_dict_covid)\n",
    "### END SOLUTION\n",
    "\n",
    "\n",
    "# Section 2 : Reshape data\n",
    "### BEGIN SOLUTION\n",
    "# Squeeze the output dimension\n",
    "output_data_covid = data_module.squeeze_dimension(output_covid)\n",
    "### END SOLUTION"
   ]
  },
  {
   "cell_type": "code",
   "execution_count": 125,
   "metadata": {},
   "outputs": [
    {
     "name": "stdout",
     "output_type": "stream",
     "text": [
      "train_data_output shape : torch.Size([370, 2])\n",
      "test_data_output shape : torch.Size([11, 2])\n"
     ]
    }
   ],
   "source": [
    "data_module.sanity_check(data_1 = output_data_covid,data_2 = {})"
   ]
  },
  {
   "cell_type": "code",
   "execution_count": 126,
   "metadata": {},
   "outputs": [],
   "source": [
    "# Section 3 : Invert the scaling back to orignal data value\n",
    "### BEGIN SOLUTION\n",
    "scaler_covid_output = scaler_covid[list(scaler_covid)[-1]]\n",
    "prediction_covid = data_module.inverse_scaler(prediction_covid,scaler_covid_output)\n",
    "output_data_covid  = data_module.inverse_scaler(output_data_covid ,scaler_covid_output)\n",
    "### END SOLUTION"
   ]
  },
  {
   "cell_type": "markdown",
   "metadata": {},
   "source": [
    "`np.rint` is used to round our data to integer since the death cases should be an integer."
   ]
  },
  {
   "cell_type": "code",
   "execution_count": 127,
   "metadata": {},
   "outputs": [],
   "source": [
    "prediction_covid['test_data_prediction'] = np.rint(prediction_covid['test_data_prediction'])\n",
    "output_data_covid['test_data_output'] =  np.rint(output_data_covid['test_data_output']) "
   ]
  },
  {
   "cell_type": "code",
   "execution_count": 128,
   "metadata": {},
   "outputs": [
    {
     "name": "stdout",
     "output_type": "stream",
     "text": [
      "Test Data\t\t\tForecast\n",
      "[ 8. 22.]\t\t[ 9. 11.]\n",
      "[22. 25.]\t\t[10. 10.]\n",
      "[25. 13.]\t\t[11.  8.]\n",
      "[13.  8.]\t\t[13. 10.]\n",
      "[8. 5.]\t\t[12.  7.]\n",
      "[5. 6.]\t\t[10.  5.]\n",
      "[ 6. 14.]\t\t[11.  3.]\n",
      "[14. 12.]\t\t[10.  5.]\n",
      "[12. 12.]\t\t[11.  1.]\n",
      "[12. 11.]\t\t[10.  1.]\n",
      "[11. 10.]\t\t[10.  1.]\n"
     ]
    }
   ],
   "source": [
    "# List the forecast value\n",
    "### BEGIN SOLUTION\n",
    "data_module.list_forecast_value(output_data_covid,prediction_covid) \n",
    "### END SOLUTION"
   ]
  },
  {
   "cell_type": "code",
   "execution_count": 129,
   "metadata": {},
   "outputs": [
    {
     "name": "stdout",
     "output_type": "stream",
     "text": [
      "Train Score: 1.98 RMSE\n",
      "Test Score: 7.63 RMSE\n"
     ]
    }
   ],
   "source": [
    "# calculate root mean squared error\n",
    "### BEGIN SOLUTION\n",
    "trainScore_covid,testScore_covid = data_module.rmse(prediction_covid,output_data_covid)\n",
    "print('Train Score: %.2f RMSE' % (trainScore_covid))\n",
    "print('Test Score: %.2f RMSE' % (testScore_covid))\n",
    "### END SOLUTION"
   ]
  },
  {
   "cell_type": "markdown",
   "metadata": {},
   "source": [
    "# Step 6 : Forecast Plot"
   ]
  },
  {
   "cell_type": "code",
   "execution_count": 130,
   "metadata": {},
   "outputs": [
    {
     "data": {
      "image/png": "[encoded data removed]",
      "text/plain": [
       "<Figure size 720x432 with 1 Axes>"
      ]
     },
     "metadata": {
      "needs_background": "light"
     },
     "output_type": "display_data"
    }
   ],
   "source": [
    "data_module.multi_step_plot(original_test_data = test_data_covid[\"Deaths\"],\n",
    "                            after_sequence_test_data = output_data_covid,\n",
    "                            forecast_data = prediction_covid,\n",
    "                            test_time = test_time_covid,\n",
    "                            window_size = window_size_covid,\n",
    "                            n_step = n_step_covid,\n",
    "                            details={},\n",
    "                            original_plot=True,\n",
    "                            multivariate = True)\n"
   ]
  },
  {
   "cell_type": "markdown",
   "metadata": {},
   "source": [
    "## Summary\n",
    "In this tutorial you should have learnt:\n",
    "\n",
    "1. The flow of using CNN to perform multivariate input, univariate output multi-step forecasting.<br>\n",
    "\n",
    "Congratulations, that concludes this lesson.<br>\n",
    "\n",
    "1. ~~*[04 - CNN_Univariate_SingleStep]*~~ *Complete*\n",
    "2. ~~*[04 - CNN_Univariate_MultiStep]*~~*Complete*\n",
    "3. ~~*[04 - CNN_Multivariate_Univariate_SingleStep]*~~*Complete*\n",
    "4. ~~*[04 - CNN_Multivariate_Univariate_MultiStep]*~~*Complete*"
   ]
  },
  {
   "cell_type": "markdown",
   "metadata": {},
   "source": [
    "## Reference\n",
    "1. [Deep Learning for Time Series Forecasting (Predict the Future with MLPs,CNNs and LSTMs in Python) , Jason Brownlee](https://machinelearningmastery.com/deep-learning-for-time-series-forecasting/)\n"
   ]
  }
 ],
 "metadata": {
  "kernelspec": {
   "display_name": "Python 3",
   "language": "python",
   "name": "python3"
  },
  "language_info": {
   "codemirror_mode": {
    "name": "ipython",
    "version": 3
   },
   "file_extension": ".py",
   "mimetype": "text/x-python",
   "name": "python",
   "nbconvert_exporter": "python",
   "pygments_lexer": "ipython3",
   "version": "3.7.9"
  },
  "varInspector": {
   "cols": {
    "lenName": 16,
    "lenType": 16,
    "lenVar": 40
   },
   "kernels_config": {
    "python": {
     "delete_cmd_postfix": "",
     "delete_cmd_prefix": "del ",
     "library": "var_list.py",
     "varRefreshCmd": "print(var_dic_list())"
    },
    "r": {
     "delete_cmd_postfix": ") ",
     "delete_cmd_prefix": "rm(",
     "library": "var_list.r",
     "varRefreshCmd": "cat(var_dic_list()) "
    }
   },
   "types_to_exclude": [
    "module",
    "function",
    "builtin_function_or_method",
    "instance",
    "_Feature"
   ],
   "window_display": false
  }
 },
 "nbformat": 4,
 "nbformat_minor": 4
}
