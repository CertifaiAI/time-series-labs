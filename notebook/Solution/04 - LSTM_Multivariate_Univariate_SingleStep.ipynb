{
 "cells": [
  {
   "cell_type": "markdown",
   "metadata": {
    "deletable": false,
    "editable": false
   },
   "source": [
    "![logo](../../picture/license_header_logo.png)\n",
    "> **Copyright &copy; 2020 - 2021 CertifAI Sdn. Bhd.**<br>\n",
    " <br>\n",
    "This program and the accompanying materials are made available under the\n",
    "terms of the [Apache License, Version 2.0](https://www.apache.org/licenses/LICENSE-2.0). <br>\n",
    "Unless required by applicable law or agreed to in writing, software\n",
    "distributed under the License is distributed on an \"AS IS\" BASIS, WITHOUT\n",
    "WARRANTIES OR CONDITIONS OF ANY KIND, either express or implied. See the\n",
    "License for the specific language governing permissions and limitations\n",
    "under the License. <br>\n",
    "<br>**SPDX-License-Identifier: Apache-2.0**"
   ]
  },
  {
   "cell_type": "markdown",
   "metadata": {},
   "source": [
    "# Multivariate Input, Univariate Output LSTM, Single Step\n",
    "\n",
    "## Introduction\n",
    "This tutorial is to demonstrate the process to build LSTM for the Multivariate Input, Univariate Output LSTM, Single Step<br>\n",
    "\n",
    "It consists of 2 major parts which are :<br>\n",
    "\n",
    "Part 1 - The Demonstration of Building LSTM using Synthetic data<br>\n",
    "Part 2 - Exercise of building LSTM using COVID-19 Data.<br>\n",
    "\n",
    "\n",
    "## What will we accomplish?\n",
    "First, we will show the step in building the LSTM :\n",
    "\n",
    "Step 1. Data Preparation (Data Splitting, Data Sequencing, Data Standardization and Batching the Data)<br>\n",
    "Step 2. Model Configuration (Vanilla LSTM, Stacked LSTM, Bidirectional LSTM)<br>\n",
    "Step 3. Train the model<br>\n",
    "Step 4. Validate the model using a graph<br>\n",
    "Step 5. Evaluation Metrics such as MSE<br>\n",
    "Step 6. Plot the forecast result<br>\n",
    "\n",
    "Secondly, learn to import the function from module `data_module.py` and `deep_learning_module.py`<br>\n",
    "\n",
    "Thirdly, some data exploration technique on COVID-19 data\n",
    "\n",
    "Let's import the package needed"
   ]
  },
  {
   "cell_type": "code",
   "execution_count": 1,
   "metadata": {},
   "outputs": [],
   "source": [
    "# import libary need\n",
    "import numpy as np\n",
    "import pandas as pd\n",
    "import matplotlib.pyplot as plt\n",
    "import torch\n",
    "import torch.nn as nn\n",
    "from torch.utils.data import DataLoader,TensorDataset\n",
    "from sklearn.metrics import mean_squared_error\n",
    "from sklearn.preprocessing import StandardScaler,MinMaxScaler\n",
    "import math\n",
    "from torchsummaryX import summary\n",
    "\n",
    "# To auto load the customise module\n",
    "%load_ext autoreload\n",
    "%autoreload 2\n",
    "import deep_learning_module\n",
    "import data_module"
   ]
  },
  {
   "cell_type": "markdown",
   "metadata": {},
   "source": [
    "# Part 1 : Demonstration of Building LSTM using Synthetic data"
   ]
  },
  {
   "cell_type": "markdown",
   "metadata": {},
   "source": [
    "## Hyperparameter\n",
    "Define the hyperparameter that needs to be tuned."
   ]
  },
  {
   "cell_type": "code",
   "execution_count": 2,
   "metadata": {},
   "outputs": [],
   "source": [
    "split_ratio = 0.70\n",
    "num_epochs = 300\n",
    "window_size = 4\n",
    "n_step = 1\n",
    "learning_rate = 0.01\n",
    "batch_size = 10\n"
   ]
  },
  {
   "cell_type": "markdown",
   "metadata": {},
   "source": [
    "# Step 1 : Data Preparation\n",
    "We create synthetic data to make sure the model is created correctly and having the ability to perform the forecasting. <br>\n",
    "\n",
    "1. First, we will create a sequence of data with `np.array`.\n",
    "2. Then, we will assign a date to the sequence of data with `pd.date_range` and store it to series data by using `pd.Series`.\n"
   ]
  },
  {
   "cell_type": "code",
   "execution_count": 3,
   "metadata": {},
   "outputs": [],
   "source": [
    "#Synthetic Data\n",
    "in_seq1 = np.array([x for x in range(0, 300, 10)])\n",
    "in_seq2 = np.array([x for x in range(5, 305, 10)])\n",
    "out_seq = np.array([in_seq1[i] + in_seq2[i] for i in range(len(in_seq1))])\n",
    "\n",
    "# convert to [rows, columns] structure\n",
    "in_seq1 = in_seq1.reshape((len(in_seq1), 1))\n",
    "in_seq2 = in_seq2.reshape((len(in_seq2), 1))\n",
    "out_seq = out_seq.reshape((len(out_seq), 1))\n",
    "\n",
    "# horizontally stack columns\n",
    "dataset = np.hstack((in_seq1, in_seq2, out_seq))"
   ]
  },
  {
   "cell_type": "code",
   "execution_count": 4,
   "metadata": {},
   "outputs": [
    {
     "data": {
      "text/html": [
       "<div>\n",
       "<style scoped>\n",
       "    .dataframe tbody tr th:only-of-type {\n",
       "        vertical-align: middle;\n",
       "    }\n",
       "\n",
       "    .dataframe tbody tr th {\n",
       "        vertical-align: top;\n",
       "    }\n",
       "\n",
       "    .dataframe thead th {\n",
       "        text-align: right;\n",
       "    }\n",
       "</style>\n",
       "<table border=\"1\" class=\"dataframe\">\n",
       "  <thead>\n",
       "    <tr style=\"text-align: right;\">\n",
       "      <th></th>\n",
       "      <th>in_seq1</th>\n",
       "      <th>in_seq2</th>\n",
       "      <th>out_seq</th>\n",
       "    </tr>\n",
       "    <tr>\n",
       "      <th>Date</th>\n",
       "      <th></th>\n",
       "      <th></th>\n",
       "      <th></th>\n",
       "    </tr>\n",
       "  </thead>\n",
       "  <tbody>\n",
       "    <tr>\n",
       "      <th>2020-01-01</th>\n",
       "      <td>0</td>\n",
       "      <td>5</td>\n",
       "      <td>5</td>\n",
       "    </tr>\n",
       "    <tr>\n",
       "      <th>2020-01-02</th>\n",
       "      <td>10</td>\n",
       "      <td>15</td>\n",
       "      <td>25</td>\n",
       "    </tr>\n",
       "    <tr>\n",
       "      <th>2020-01-03</th>\n",
       "      <td>20</td>\n",
       "      <td>25</td>\n",
       "      <td>45</td>\n",
       "    </tr>\n",
       "    <tr>\n",
       "      <th>2020-01-04</th>\n",
       "      <td>30</td>\n",
       "      <td>35</td>\n",
       "      <td>65</td>\n",
       "    </tr>\n",
       "    <tr>\n",
       "      <th>2020-01-05</th>\n",
       "      <td>40</td>\n",
       "      <td>45</td>\n",
       "      <td>85</td>\n",
       "    </tr>\n",
       "  </tbody>\n",
       "</table>\n",
       "</div>"
      ],
      "text/plain": [
       "            in_seq1  in_seq2  out_seq\n",
       "Date                                 \n",
       "2020-01-01        0        5        5\n",
       "2020-01-02       10       15       25\n",
       "2020-01-03       20       25       45\n",
       "2020-01-04       30       35       65\n",
       "2020-01-05       40       45       85"
      ]
     },
     "execution_count": 4,
     "metadata": {},
     "output_type": "execute_result"
    }
   ],
   "source": [
    "dataset = pd.DataFrame(dataset,columns =[\"in_seq1\",\"in_seq2\",\"out_seq\"],\n",
    "                      index = pd.date_range(\"1/1/2020\",periods=len(dataset),freq='D'))\n",
    "dataset.index.name=\"Date\"\n",
    "dataset.head()"
   ]
  },
  {
   "cell_type": "markdown",
   "metadata": {},
   "source": [
    "## Data Visualization\n",
    "Data visualization is important for us to visualize the pattern of data such as trend and seasonality. As seen in the graph below, there is an increasing trend in the data."
   ]
  },
  {
   "cell_type": "code",
   "execution_count": 5,
   "metadata": {},
   "outputs": [
    {
     "data": {
      "text/plain": [
       "Text(0.5, 1.0, 'Synthetic Data')"
      ]
     },
     "execution_count": 5,
     "metadata": {},
     "output_type": "execute_result"
    },
    {
     "data": {
      "image/png": "[encoded data removed]",
      "text/plain": [
       "<Figure size 432x288 with 1 Axes>"
      ]
     },
     "metadata": {
      "needs_background": "light"
     },
     "output_type": "display_data"
    }
   ],
   "source": [
    "dataset.plot()\n",
    "plt.title(\"Synthetic Data\")"
   ]
  },
  {
   "cell_type": "markdown",
   "metadata": {},
   "source": [
    "## Data Splitting\n",
    "In Deep Learning, we will split the data into training and test dataset. The training data is used to train the model whereas the test data is used to validate the performance of the model."
   ]
  },
  {
   "cell_type": "code",
   "execution_count": 6,
   "metadata": {},
   "outputs": [
    {
     "data": {
      "text/plain": [
       "21"
      ]
     },
     "execution_count": 6,
     "metadata": {},
     "output_type": "execute_result"
    }
   ],
   "source": [
    "split_data = round(len(dataset)*split_ratio)\n",
    "split_data"
   ]
  },
  {
   "cell_type": "code",
   "execution_count": 7,
   "metadata": {},
   "outputs": [
    {
     "name": "stdout",
     "output_type": "stream",
     "text": [
      "train_data_shape\n",
      "(21, 3)\n",
      "test_data_shape\n",
      "(9, 3)\n"
     ]
    }
   ],
   "source": [
    "#split data by indexing \n",
    "train_data = dataset[:split_data]\n",
    "test_data = dataset[split_data:]\n",
    "train_time = dataset.index[:split_data]\n",
    "test_time = dataset.index[split_data:]\n",
    "\n",
    "print(\"train_data_shape\")\n",
    "print(train_data.shape)\n",
    "print(\"test_data_shape\")\n",
    "print(test_data.shape)"
   ]
  },
  {
   "cell_type": "code",
   "execution_count": 8,
   "metadata": {},
   "outputs": [
    {
     "data": {
      "text/plain": [
       "21"
      ]
     },
     "execution_count": 8,
     "metadata": {},
     "output_type": "execute_result"
    }
   ],
   "source": [
    "len(train_data['in_seq1'])"
   ]
  },
  {
   "cell_type": "markdown",
   "metadata": {},
   "source": [
    "## Data Standardization\n",
    "Standardize the data based on every column to have 0 mean and unit variance to make our model converge faster. "
   ]
  },
  {
   "cell_type": "code",
   "execution_count": 9,
   "metadata": {},
   "outputs": [],
   "source": [
    "def multi_data_scaler(train_data,test_data,scale_mode = \"Standardize\"):   \n",
    "    \"\"\" \n",
    "    Perform Data Scalling \n",
    "    \n",
    "    Arguments:\n",
    "    train_data: Train Data\n",
    "    test_data: Test Data\n",
    "    scale_mode: Types of scaler [\"Normalize\": MinMaxScaler(),\"Standardize\": StandardScaler()]\n",
    "    \n",
    "    Returns: \n",
    "    scaler, scaled train data. scaled test data\n",
    "    \"\"\"\n",
    "    scalers = dict()\n",
    "    data_dict = {\"train_data\":train_data,\n",
    "                \"test_data\":test_data}\n",
    "    \n",
    "    scale_type ={\"Normalize\": MinMaxScaler(),\n",
    "                \"Standardize\": StandardScaler()}\n",
    "    \n",
    "    if scale_mode not in scale_type:\n",
    "        print(\"Invalid scale mode. Expected one of: %s\" %scale_type.keys())\n",
    "    \n",
    "    for columns in train_data.columns:\n",
    "        scaler= scale_type[scale_mode].fit(train_data[columns].values.reshape(-1,1))\n",
    "        scalers['scaler+'+columns] = scaler\n",
    "        \n",
    "    for key in data_dict:\n",
    "        data_scaled = list()\n",
    "        for columns in data_dict[key].columns:\n",
    "            data_scaled.append(scaler.transform(data_dict[key][columns].values.reshape(-1,1)))\n",
    "        standard_data = np.array(data_scaled)\n",
    "        data_dict[key] = np.transpose(np.squeeze(standard_data))\n",
    "        \n",
    "    return scalers,data_dict[\"train_data\"],data_dict[\"test_data\"]"
   ]
  },
  {
   "cell_type": "code",
   "execution_count": 10,
   "metadata": {},
   "outputs": [
    {
     "name": "stdout",
     "output_type": "stream",
     "text": [
      "train_data_standardized(21, 3)\n",
      "test_data_standardized(9, 3)\n"
     ]
    }
   ],
   "source": [
    "data_scalers,train_data_standard, test_data_standard = multi_data_scaler(train_data,test_data)\n",
    "print(\"train_data_standardized\"+str(train_data_standard.shape))\n",
    "print(\"test_data_standardized\"+str(test_data_standard.shape))"
   ]
  },
  {
   "cell_type": "markdown",
   "metadata": {},
   "source": [
    "## Data Sequencing\n",
    "Sequencing the data by taking in the multivariate series into `feature` and `label`\n",
    "<img src = \"../../picture/Multivariate Data Sequencing.png\"  width=\"300\" height  =\"300\" align=\"center\" />"
   ]
  },
  {
   "cell_type": "code",
   "execution_count": 11,
   "metadata": {},
   "outputs": [
    {
     "name": "stdout",
     "output_type": "stream",
     "text": [
      "trainX shape:(18, 4, 2) trainY shape:(18,)\n",
      "\n",
      "testX shape:(6, 4, 2) testY shape:(6,)\n"
     ]
    }
   ],
   "source": [
    "\n",
    "trainX ,trainY = data_module.multivariate_univariate_single_step(train_data_standard,window_size)\n",
    "testX , testY = data_module.multivariate_univariate_single_step(test_data_standard,window_size)\n",
    "\n",
    "\n",
    "print(f\"trainX shape:{trainX.shape} trainY shape:{trainY.shape}\\n\")\n",
    "print(f\"testX shape:{testX.shape} testY shape:{testY.shape}\")"
   ]
  },
  {
   "cell_type": "code",
   "execution_count": 12,
   "metadata": {},
   "outputs": [
    {
     "name": "stdout",
     "output_type": "stream",
     "text": [
      "trainY shape:(18, 1, 1)\n",
      "testY shape:(6, 1, 1)\n"
     ]
    }
   ],
   "source": [
    "trainY = trainY.reshape(trainY.shape[0],1,n_step)\n",
    "testY = testY.reshape(testY.shape[0],1,n_step)\n",
    "print(f\"trainY shape:{trainY.shape}\")\n",
    "print(f\"testY shape:{testY.shape}\")"
   ]
  },
  {
   "cell_type": "markdown",
   "metadata": {},
   "source": [
    "## Data Transformation\n",
    "Data needs to be transformed from NumPy to PyTorch tensor before being fed into the model. The input of an LSTM model has to be 3-dimensional.\n",
    "\n",
    ">**Instruction** : <br>\n",
    "Use `data_module.key_assign` to assign the key and `data_module.transform` to transform the data."
   ]
  },
  {
   "cell_type": "code",
   "execution_count": 13,
   "metadata": {},
   "outputs": [],
   "source": [
    "\n",
    "train_data_dict ,test_data_dict = data_module.key_assign(trainingX = trainX  , \n",
    "                       testingX = testX, \n",
    "                       trainingY = trainY, \n",
    "                       testingY = testY)\n",
    "train_data_dict ,test_data_dict = data_module.transform(train_data_dict ,test_data_dict)\n"
   ]
  },
  {
   "cell_type": "code",
   "execution_count": 14,
   "metadata": {},
   "outputs": [
    {
     "name": "stdout",
     "output_type": "stream",
     "text": [
      "train_data_x_feature shape : torch.Size([18, 4, 2])\n",
      "train_data_y_label shape : torch.Size([18, 1, 1])\n",
      "test_data_x_feature shape : torch.Size([6, 4, 2])\n",
      "test_data_y_label shape : torch.Size([6, 1, 1])\n"
     ]
    }
   ],
   "source": [
    "data_module.sanity_check(train_data_dict , test_data_dict)"
   ]
  },
  {
   "cell_type": "markdown",
   "metadata": {},
   "source": [
    "## Data Iterator\n",
    "Iterator is created to separate the data into several batches to fasten the training process.\n",
    ">**Instruction** : <br>\n",
    "Use `data_module.iterator` to create data iterator."
   ]
  },
  {
   "cell_type": "code",
   "execution_count": 15,
   "metadata": {},
   "outputs": [],
   "source": [
    "train_iter , test_iter = data_module.iterator(train_data_dict ,test_data_dict,batch_size = batch_size)"
   ]
  },
  {
   "cell_type": "markdown",
   "metadata": {},
   "source": [
    "# Step 2 : LSTM Model Configuration \n",
    "Please refer to [04 - LSTM_Univariate_SingleStep # Step 2 : LSTM Model Configuration ](./04%20-%20LSTM_Univariate_SingleStep.ipynb) for the explanation"
   ]
  },
  {
   "cell_type": "markdown",
   "metadata": {},
   "source": [
    "## Input Model\n",
    "The model is initiated with the following required attributes: **number of input layer**, **output layer** and **hidden layer**.\n",
    "\n",
    "How to Use : \n",
    "\n",
    "1. Select one of the model base on the application as below and comment out other models\n",
    "2. IF use Vanilla LSTM, set num_layer = 1 and use `model = LSTM()`\n",
    "3. IF use stacked LSTM, set num_layer more than 1 and use `model = LSTM()`\n",
    "4. IF use Bidirectional LSTM, use  `model = BidirectionalLSTM()`\n",
    "\n",
    ">**Instruction** : <br>\n",
    "Import the LSTM model from `deep_learning_module`. You are required to import both Vanilla LSTM and Bidirectional LSTM and save it as `model` <br>\n",
    "\n",
    "*Feel free to comment out one of the model to use it*"
   ]
  },
  {
   "cell_type": "code",
   "execution_count": 16,
   "metadata": {},
   "outputs": [],
   "source": [
    "#seed\n",
    "torch.manual_seed(123)\n",
    "\n",
    "#Arguments for LSTM model\n",
    "hidden_dim = 32\n",
    "number_of_time_series = trainX.shape[2] \n",
    "\n",
    "#1 for vanila LSTM , >1 is mean stacked LSTM\n",
    "num_layers = 1\n",
    "\n",
    "#Vanila , Stacked LSTM\n",
    "model = deep_learning_module.LSTM(n_feature = number_of_time_series, \n",
    "                                  hidden_dim = hidden_dim ,\n",
    "                                  num_layers = num_layers , \n",
    "                                  n_step = n_step )\n",
    "\n",
    "#Bidirectional LSTM\n",
    "# model = deep_learning_module.BidirectionalLSTM(n_feature = number_of_time_series, \n",
    "#                                                hidden_dim = hidden_dim ,\n",
    "#                                                num_layers = num_layers , \n",
    "#                                                n_step = n_step)"
   ]
  },
  {
   "cell_type": "code",
   "execution_count": 17,
   "metadata": {},
   "outputs": [
    {
     "name": "stdout",
     "output_type": "stream",
     "text": [
      "===================================================\n",
      "       Kernel Shape Output Shape  Params  Mult-Adds\n",
      "Layer                                              \n",
      "0_lstm            -  [10, 4, 32]    4608       4352\n",
      "1_fc        [32, 1]      [10, 1]      33         32\n",
      "---------------------------------------------------\n",
      "                      Totals\n",
      "Total params            4641\n",
      "Trainable params        4641\n",
      "Non-trainable params       0\n",
      "Mult-Adds               4384\n",
      "===================================================\n",
      "       Kernel Shape Output Shape  Params  Mult-Adds\n",
      "Layer                                              \n",
      "0_lstm            -  [10, 4, 32]    4608       4352\n",
      "1_fc        [32, 1]      [10, 1]      33         32\n"
     ]
    }
   ],
   "source": [
    "# print the summary of the LSTM model\n",
    "inputs = torch.zeros((batch_size,window_size,trainX.shape[2]),dtype=torch.float) # batch size , seq_length , input_dim\n",
    "print(summary(model,inputs))"
   ]
  },
  {
   "cell_type": "markdown",
   "metadata": {},
   "source": [
    "Define the MSE as loss function and use Adam as the model optimizer"
   ]
  },
  {
   "cell_type": "code",
   "execution_count": 18,
   "metadata": {},
   "outputs": [],
   "source": [
    "#loss function \n",
    "loss_fn = torch.nn.MSELoss()\n",
    "\n",
    "#optimiser\n",
    "optimizer = torch.optim.Adam(model.parameters(), lr=learning_rate)"
   ]
  },
  {
   "cell_type": "markdown",
   "metadata": {},
   "source": [
    "# Step 3 : Training\n",
    ">**Instruction** : <br>\n",
    "Use `deep_learning_module.training` to train the model.\n"
   ]
  },
  {
   "cell_type": "code",
   "execution_count": 19,
   "metadata": {},
   "outputs": [],
   "source": [
    "#seed\n",
    "torch.manual_seed(123)\n",
    "\n",
    "# Start Training\n",
    "train_loss,val_loss = deep_learning_module.training(num_epochs= num_epochs ,\n",
    "                                                    train_iter = train_iter,\n",
    "                                                    test_iter = test_iter ,\n",
    "                                                    optimizer = optimizer,\n",
    "                                                    loss_fn = loss_fn,\n",
    "                                                    model = model)"
   ]
  },
  {
   "cell_type": "markdown",
   "metadata": {},
   "source": [
    "# Step 4 : Validation\n",
    "A train loss and val loss is plotted to define how well the data is fits into the model"
   ]
  },
  {
   "cell_type": "code",
   "execution_count": 20,
   "metadata": {},
   "outputs": [
    {
     "data": {
      "image/png": "[encoded data removed]",
      "text/plain": [
       "<Figure size 720x432 with 1 Axes>"
      ]
     },
     "metadata": {
      "needs_background": "light"
     },
     "output_type": "display_data"
    },
    {
     "name": "stdout",
     "output_type": "stream",
     "text": [
      "Epoch : 0 , training loss : 0.8100464476479424 , validation loss : 6.693227767944336\n",
      "Epoch : 1 , training loss : 0.7088292506006029 , validation loss : 6.419505596160889\n",
      "Epoch : 2 , training loss : 0.657656643125746 , validation loss : 6.121475696563721\n",
      "Epoch : 3 , training loss : 0.605959008137385 , validation loss : 5.799461364746094\n",
      "Epoch : 4 , training loss : 0.5458055635293325 , validation loss : 5.4394049644470215\n",
      "Epoch : 5 , training loss : 0.4706747565004561 , validation loss : 5.021522045135498\n",
      "Epoch : 6 , training loss : 0.37424466013908386 , validation loss : 4.522329330444336\n",
      "Epoch : 7 , training loss : 0.25449493444628185 , validation loss : 3.917255401611328\n",
      "Epoch : 8 , training loss : 0.12597354563573995 , validation loss : 3.193571090698242\n",
      "Epoch : 9 , training loss : 0.04140631096541054 , validation loss : 2.397308826446533\n",
      "Epoch : 10 , training loss : 0.07393988346060117 , validation loss : 1.7903872728347778\n",
      "Epoch : 11 , training loss : 0.13353021608458626 , validation loss : 1.6220382452011108\n",
      "Epoch : 12 , training loss : 0.11284442080391778 , validation loss : 1.739490032196045\n",
      "Epoch : 13 , training loss : 0.05108689930703905 , validation loss : 1.92483651638031\n",
      "Epoch : 14 , training loss : 0.02710076059318251 , validation loss : 2.0384438037872314\n",
      "Epoch : 15 , training loss : 0.03284172641320361 , validation loss : 2.014461040496826\n",
      "Epoch : 16 , training loss : 0.03812830802053213 , validation loss : 1.843222975730896\n",
      "Epoch : 17 , training loss : 0.03269440494477749 , validation loss : 1.5492563247680664\n",
      "Epoch : 18 , training loss : 0.01944806778596507 , validation loss : 1.1872090101242065\n",
      "Epoch : 19 , training loss : 0.00869534035316772 , validation loss : 0.841060221195221\n",
      "Epoch : 20 , training loss : 0.008810015809204843 , validation loss : 0.5955308079719543\n",
      "Epoch : 21 , training loss : 0.013600906926310725 , validation loss : 0.48196685314178467\n",
      "Epoch : 22 , training loss : 0.01458772872057226 , validation loss : 0.4729330241680145\n",
      "Epoch : 23 , training loss : 0.013077954865164228 , validation loss : 0.5218894481658936\n",
      "Epoch : 24 , training loss : 0.009543043043878343 , validation loss : 0.5859794020652771\n",
      "Epoch : 25 , training loss : 0.007514020221100913 , validation loss : 0.6345116496086121\n",
      "Epoch : 26 , training loss : 0.00931676932507091 , validation loss : 0.6521475315093994\n",
      "Epoch : 27 , training loss : 0.01078781620081928 , validation loss : 0.6363623738288879\n",
      "Epoch : 28 , training loss : 0.008981522276169725 , validation loss : 0.5940445065498352\n",
      "Epoch : 29 , training loss : 0.006499628639883465 , validation loss : 0.5403525829315186\n",
      "Epoch : 30 , training loss : 0.006020838084320228 , validation loss : 0.4961245059967041\n",
      "Epoch : 31 , training loss : 0.006622957893543773 , validation loss : 0.4805202782154083\n",
      "Epoch : 32 , training loss : 0.006264082363082303 , validation loss : 0.501464307308197\n",
      "Epoch : 33 , training loss : 0.004864842268741793 , validation loss : 0.5494753122329712\n",
      "Epoch : 34 , training loss : 0.0040118636356459726 , validation loss : 0.6006956100463867\n",
      "Epoch : 35 , training loss : 0.004135260668893655 , validation loss : 0.6307390928268433\n",
      "Epoch : 36 , training loss : 0.004223542184465461 , validation loss : 0.6290087103843689\n",
      "Epoch : 37 , training loss : 0.0038834323382212054 , validation loss : 0.6018670201301575\n",
      "Epoch : 38 , training loss : 0.0034468963276594877 , validation loss : 0.56495600938797\n",
      "Epoch : 39 , training loss : 0.003154781621156467 , validation loss : 0.5326413512229919\n",
      "Epoch : 40 , training loss : 0.0031558098271489143 , validation loss : 0.5120158791542053\n",
      "Epoch : 41 , training loss : 0.0031785209559732014 , validation loss : 0.5029142498970032\n",
      "Epoch : 42 , training loss : 0.002889536450513535 , validation loss : 0.5003923177719116\n",
      "Epoch : 43 , training loss : 0.0025893785835554204 , validation loss : 0.4970715343952179\n",
      "Epoch : 44 , training loss : 0.002484494742626945 , validation loss : 0.4859285354614258\n",
      "Epoch : 45 , training loss : 0.0024055651544282832 , validation loss : 0.4640418589115143\n",
      "Epoch : 46 , training loss : 0.002278005885374215 , validation loss : 0.43492794036865234\n",
      "Epoch : 47 , training loss : 0.002171376927031411 , validation loss : 0.4066098630428314\n",
      "Epoch : 48 , training loss : 0.0021015257419397435 , validation loss : 0.3862195909023285\n",
      "Epoch : 49 , training loss : 0.0020009963773190975 , validation loss : 0.37550604343414307\n",
      "Epoch : 50 , training loss : 0.0018906517264743645 , validation loss : 0.3707446753978729\n",
      "Epoch : 51 , training loss : 0.0018120669863290256 , validation loss : 0.3663710057735443\n",
      "Epoch : 52 , training loss : 0.0017413004922370117 , validation loss : 0.35883399844169617\n",
      "Epoch : 53 , training loss : 0.001663922177006801 , validation loss : 0.34790003299713135\n",
      "Epoch : 54 , training loss : 0.0015732896152055925 , validation loss : 0.3355548679828644\n",
      "Epoch : 55 , training loss : 0.0014976075229545434 , validation loss : 0.3243420124053955\n",
      "Epoch : 56 , training loss : 0.001445184616992871 , validation loss : 0.31614723801612854\n",
      "Epoch : 57 , training loss : 0.0013741011239795221 , validation loss : 0.31130364537239075\n",
      "Epoch : 58 , training loss : 0.0012877676506630248 , validation loss : 0.3082127869129181\n",
      "Epoch : 59 , training loss : 0.0012183282394996947 , validation loss : 0.3042144477367401\n",
      "Epoch : 60 , training loss : 0.0011657541229700048 , validation loss : 0.29752206802368164\n",
      "Epoch : 61 , training loss : 0.0011123179897872938 , validation loss : 0.2885436713695526\n",
      "Epoch : 62 , training loss : 0.0010560438321489426 , validation loss : 0.2792395353317261\n",
      "Epoch : 63 , training loss : 0.0010020620862229003 , validation loss : 0.2712779939174652\n",
      "Epoch : 64 , training loss : 0.000953092847743796 , validation loss : 0.26488444209098816\n",
      "Epoch : 65 , training loss : 0.0009077197820362118 , validation loss : 0.2591532766819\n",
      "Epoch : 66 , training loss : 0.0008618738502264023 , validation loss : 0.2530304491519928\n",
      "Epoch : 67 , training loss : 0.0008177972631528974 , validation loss : 0.2459932565689087\n",
      "Epoch : 68 , training loss : 0.0007772894653802117 , validation loss : 0.23822928965091705\n",
      "Epoch : 69 , training loss : 0.0007414085557684302 , validation loss : 0.23047727346420288\n",
      "Epoch : 70 , training loss : 0.0007072114256314106 , validation loss : 0.2235570102930069\n",
      "Epoch : 71 , training loss : 0.0006707701961406403 , validation loss : 0.21775709092617035\n",
      "Epoch : 72 , training loss : 0.0006349865321276917 , validation loss : 0.21262089908123016\n",
      "Epoch : 73 , training loss : 0.0006034398942978845 , validation loss : 0.20741669833660126\n",
      "Epoch : 74 , training loss : 0.0005740713612693879 , validation loss : 0.20182597637176514\n",
      "Epoch : 75 , training loss : 0.0005445513201670514 , validation loss : 0.1961188167333603\n",
      "Epoch : 76 , training loss : 0.0005157779540038771 , validation loss : 0.1907566785812378\n",
      "Epoch : 77 , training loss : 0.0004890013693107499 , validation loss : 0.1859591007232666\n",
      "Epoch : 78 , training loss : 0.0004633861956083112 , validation loss : 0.18161094188690186\n",
      "Epoch : 79 , training loss : 0.0004379168579665323 , validation loss : 0.17741645872592926\n",
      "Epoch : 80 , training loss : 0.00041361647244128917 , validation loss : 0.17310816049575806\n",
      "Epoch : 81 , training loss : 0.00039125393636317714 , validation loss : 0.16862650215625763\n",
      "Epoch : 82 , training loss : 0.00037028361758631136 , validation loss : 0.16415579617023468\n",
      "Epoch : 83 , training loss : 0.00034974779636185203 , validation loss : 0.15993791818618774\n",
      "Epoch : 84 , training loss : 0.00032974035194557573 , validation loss : 0.15602858364582062\n",
      "Epoch : 85 , training loss : 0.00031104273835404054 , validation loss : 0.15227091312408447\n",
      "Epoch : 86 , training loss : 0.0002935799808862309 , validation loss : 0.14849190413951874\n",
      "Epoch : 87 , training loss : 0.00027680610461781424 , validation loss : 0.144668310880661\n",
      "Epoch : 88 , training loss : 0.0002608070757964419 , validation loss : 0.14090536534786224\n",
      "Epoch : 89 , training loss : 0.00024583314209141664 , validation loss : 0.137318953871727\n",
      "Epoch : 90 , training loss : 0.00023160178291921815 , validation loss : 0.13395006954669952\n",
      "Epoch : 91 , training loss : 0.0002178296918929037 , validation loss : 0.13074825704097748\n",
      "Epoch : 92 , training loss : 0.0002047961849408845 , validation loss : 0.12762205302715302\n",
      "Epoch : 93 , training loss : 0.00019266647642426606 , validation loss : 0.12452737241983414\n",
      "Epoch : 94 , training loss : 0.00018118448820637746 , validation loss : 0.12150799483060837\n",
      "Epoch : 95 , training loss : 0.00017016426297939487 , validation loss : 0.11863520741462708\n",
      "Epoch : 96 , training loss : 0.00015971642925352271 , validation loss : 0.1159239411354065\n",
      "Epoch : 97 , training loss : 0.00014990979980211705 , validation loss : 0.11332716792821884\n",
      "Epoch : 98 , training loss : 0.000140628919729756 , validation loss : 0.11079266667366028\n",
      "Epoch : 99 , training loss : 0.000131842638236574 , validation loss : 0.10830707103013992\n",
      "Epoch : 100 , training loss : 0.00012361426908885024 , validation loss : 0.10589238256216049\n",
      "Epoch : 101 , training loss : 0.0001158891439748307 , validation loss : 0.10357868671417236\n",
      "Epoch : 102 , training loss : 0.0001085580329850523 , validation loss : 0.10137215256690979\n",
      "Epoch : 103 , training loss : 0.00010165367631189938 , validation loss : 0.09924837201833725\n",
      "Epoch : 104 , training loss : 9.522394167207595e-05 , validation loss : 0.09717872738838196\n",
      "Epoch : 105 , training loss : 8.920444977573222e-05 , validation loss : 0.09516217559576035\n",
      "Epoch : 106 , training loss : 8.353853869872789e-05 , validation loss : 0.09321954101324081\n",
      "Epoch : 107 , training loss : 7.823723717592657e-05 , validation loss : 0.09136512875556946\n",
      "Epoch : 108 , training loss : 7.328962965402752e-05 , validation loss : 0.08959314972162247\n",
      "Epoch : 109 , training loss : 6.865323909247915e-05 , validation loss : 0.08788851648569107\n",
      "Epoch : 110 , training loss : 6.432359967018581e-05 , validation loss : 0.08624061942100525\n",
      "Epoch : 111 , training loss : 6.030208735157632e-05 , validation loss : 0.08465192466974258\n",
      "Epoch : 112 , training loss : 5.6553265797750406e-05 , validation loss : 0.08313243091106415\n",
      "Epoch : 113 , training loss : 5.30494039089212e-05 , validation loss : 0.08168529719114304\n",
      "Epoch : 114 , training loss : 4.97930814162828e-05 , validation loss : 0.08030174672603607\n",
      "Epoch : 115 , training loss : 4.677489131507981e-05 , validation loss : 0.07897096127271652\n",
      "Epoch : 116 , training loss : 4.397138885299986e-05 , validation loss : 0.0776900127530098\n",
      "Epoch : 117 , training loss : 4.1371690005891854e-05 , validation loss : 0.07646272331476212\n",
      "Epoch : 118 , training loss : 3.8967145681251874e-05 , validation loss : 0.07529205828905106\n",
      "Epoch : 119 , training loss : 3.674076813493027e-05 , validation loss : 0.07417513430118561\n",
      "Epoch : 120 , training loss : 3.468092513180131e-05 , validation loss : 0.07310572266578674\n",
      "Epoch : 121 , training loss : 3.278308860090975e-05 , validation loss : 0.07207915931940079\n",
      "Epoch : 122 , training loss : 3.103458786629037e-05 , validation loss : 0.07109621912240982\n",
      "Epoch : 123 , training loss : 2.942127482836238e-05 , validation loss : 0.07015969604253769\n",
      "Epoch : 124 , training loss : 2.7936676310168372e-05 , validation loss : 0.06926864385604858\n",
      "Epoch : 125 , training loss : 2.65729407450029e-05 , validation loss : 0.06841915845870972\n",
      "Epoch : 126 , training loss : 2.5319145707827476e-05 , validation loss : 0.06760779768228531\n",
      "Epoch : 127 , training loss : 2.4168722221576092e-05 , validation loss : 0.06683371216058731\n",
      "Epoch : 128 , training loss : 2.311486201102121e-05 , validation loss : 0.06609787791967392\n",
      "Epoch : 129 , training loss : 2.214836098978089e-05 , validation loss : 0.06539996713399887\n",
      "Epoch : 130 , training loss : 2.1263431739902848e-05 , validation loss : 0.06473737210035324\n",
      "Epoch : 131 , training loss : 2.0454752504722113e-05 , validation loss : 0.06410703808069229\n",
      "Epoch : 132 , training loss : 1.9715300267206556e-05 , validation loss : 0.06350772827863693\n",
      "Epoch : 133 , training loss : 1.9039931531652757e-05 , validation loss : 0.06293941289186478\n",
      "Epoch : 134 , training loss : 1.842369116881552e-05 , validation loss : 0.06240161880850792\n",
      "Epoch : 135 , training loss : 1.7861336750178856e-05 , validation loss : 0.06189252436161041\n",
      "Epoch : 136 , training loss : 1.734883395935564e-05 , validation loss : 0.06141010299324989\n",
      "Epoch : 137 , training loss : 1.688168403133103e-05 , validation loss : 0.0609530545771122\n",
      "Epoch : 138 , training loss : 1.6456386826272745e-05 , validation loss : 0.06052105501294136\n",
      "Epoch : 139 , training loss : 1.6069504959482907e-05 , validation loss : 0.060113608837127686\n",
      "Epoch : 140 , training loss : 1.571675501408107e-05 , validation loss : 0.059729576110839844\n",
      "Epoch : 141 , training loss : 1.539598522665781e-05 , validation loss : 0.05936725065112114\n",
      "Epoch : 142 , training loss : 1.5103860379086756e-05 , validation loss : 0.05902567505836487\n",
      "Epoch : 143 , training loss : 1.4837933122180402e-05 , validation loss : 0.05870456621050835\n",
      "Epoch : 144 , training loss : 1.4595959884091928e-05 , validation loss : 0.058403175324201584\n",
      "Epoch : 145 , training loss : 1.4375186866446813e-05 , validation loss : 0.058120355010032654\n",
      "Epoch : 146 , training loss : 1.4174144073169575e-05 , validation loss : 0.05785517394542694\n",
      "Epoch : 147 , training loss : 1.3990759321637193e-05 , validation loss : 0.05760668218135834\n",
      "Epoch : 148 , training loss : 1.3823311847873912e-05 , validation loss : 0.05737447738647461\n",
      "Epoch : 149 , training loss : 1.3670222920659904e-05 , validation loss : 0.057157766073942184\n",
      "Epoch : 150 , training loss : 1.353029968716631e-05 , validation loss : 0.05695561692118645\n",
      "Epoch : 151 , training loss : 1.3401745086917395e-05 , validation loss : 0.05676745995879173\n",
      "Epoch : 152 , training loss : 1.3283966280950051e-05 , validation loss : 0.0565924197435379\n",
      "Epoch : 153 , training loss : 1.3175412934490143e-05 , validation loss : 0.05643005296587944\n",
      "Epoch : 154 , training loss : 1.3075684667758955e-05 , validation loss : 0.056279901415109634\n",
      "Epoch : 155 , training loss : 1.2983339931654175e-05 , validation loss : 0.05614118278026581\n",
      "Epoch : 156 , training loss : 1.2897932214804718e-05 , validation loss : 0.05601309612393379\n",
      "Epoch : 157 , training loss : 1.2818659747103487e-05 , validation loss : 0.05589543655514717\n",
      "Epoch : 158 , training loss : 1.2744702164329485e-05 , validation loss : 0.0557875782251358\n",
      "Epoch : 159 , training loss : 1.2675641402084795e-05 , validation loss : 0.05568917095661163\n",
      "Epoch : 160 , training loss : 1.261116348258737e-05 , validation loss : 0.05559949949383736\n",
      "Epoch : 161 , training loss : 1.255037892001888e-05 , validation loss : 0.05551811680197716\n",
      "Epoch : 162 , training loss : 1.2492879048093326e-05 , validation loss : 0.05544464290142059\n",
      "Epoch : 163 , training loss : 1.2438670839603421e-05 , validation loss : 0.055378690361976624\n",
      "Epoch : 164 , training loss : 1.2387364525541974e-05 , validation loss : 0.05531992390751839\n",
      "Epoch : 165 , training loss : 1.2338304461283971e-05 , validation loss : 0.05526772141456604\n",
      "Epoch : 166 , training loss : 1.2291552896689003e-05 , validation loss : 0.05522185564041138\n",
      "Epoch : 167 , training loss : 1.2246678529158493e-05 , validation loss : 0.05518201366066933\n",
      "Epoch : 168 , training loss : 1.220373168406594e-05 , validation loss : 0.055147867649793625\n",
      "Epoch : 169 , training loss : 1.2161969809514832e-05 , validation loss : 0.05511888489127159\n",
      "Epoch : 170 , training loss : 1.2121730024874625e-05 , validation loss : 0.05509490892291069\n",
      "Epoch : 171 , training loss : 1.2083016675508892e-05 , validation loss : 0.055075760930776596\n",
      "Epoch : 172 , training loss : 1.2045176542111827e-05 , validation loss : 0.05506093427538872\n",
      "Epoch : 173 , training loss : 1.2008069057224526e-05 , validation loss : 0.05505029857158661\n",
      "Epoch : 174 , training loss : 1.1972299034823664e-05 , validation loss : 0.055043671280145645\n",
      "Epoch : 175 , training loss : 1.1936673116805549e-05 , validation loss : 0.055040646344423294\n",
      "Epoch : 176 , training loss : 1.1901986403649466e-05 , validation loss : 0.05504102632403374\n",
      "Epoch : 177 , training loss : 1.1868182809848804e-05 , validation loss : 0.05504482984542847\n",
      "Epoch : 178 , training loss : 1.1834666717428869e-05 , validation loss : 0.05505162104964256\n",
      "Epoch : 179 , training loss : 1.180186154670082e-05 , validation loss : 0.05506109818816185\n",
      "Epoch : 180 , training loss : 1.176938440039521e-05 , validation loss : 0.055073413997888565\n",
      "Epoch : 181 , training loss : 1.1737296214657059e-05 , validation loss : 0.05508830025792122\n",
      "Epoch : 182 , training loss : 1.1705289378167234e-05 , validation loss : 0.05510534718632698\n",
      "Epoch : 183 , training loss : 1.1674103006953374e-05 , validation loss : 0.05512460693717003\n",
      "Epoch : 184 , training loss : 1.1643025775103726e-05 , validation loss : 0.055145930498838425\n",
      "Epoch : 185 , training loss : 1.1612049497165976e-05 , validation loss : 0.05516912415623665\n",
      "Epoch : 186 , training loss : 1.1581784140920112e-05 , validation loss : 0.05519414320588112\n",
      "Epoch : 187 , training loss : 1.1551419346586852e-05 , validation loss : 0.05522069334983826\n",
      "Epoch : 188 , training loss : 1.1521291121931023e-05 , validation loss : 0.05524880811572075\n",
      "Epoch : 189 , training loss : 1.1491352375338061e-05 , validation loss : 0.05527834594249725\n",
      "Epoch : 190 , training loss : 1.1461638678156305e-05 , validation loss : 0.05530931055545807\n",
      "Epoch : 191 , training loss : 1.1432000165869897e-05 , validation loss : 0.05534137785434723\n",
      "Epoch : 192 , training loss : 1.1402750108876111e-05 , validation loss : 0.05537455901503563\n",
      "Epoch : 193 , training loss : 1.1373510662653845e-05 , validation loss : 0.05540876463055611\n",
      "Epoch : 194 , training loss : 1.1344538203654034e-05 , validation loss : 0.055444154888391495\n",
      "Epoch : 195 , training loss : 1.1315626074469441e-05 , validation loss : 0.05548026040196419\n",
      "Epoch : 196 , training loss : 1.1286702425018626e-05 , validation loss : 0.05551712214946747\n",
      "Epoch : 197 , training loss : 1.1258094471284292e-05 , validation loss : 0.05555478110909462\n",
      "Epoch : 198 , training loss : 1.1229663363741969e-05 , validation loss : 0.055593330413103104\n",
      "Epoch : 199 , training loss : 1.1201168995790391e-05 , validation loss : 0.05563228204846382\n",
      "Epoch : 200 , training loss : 1.1172778310234813e-05 , validation loss : 0.055671919137239456\n",
      "Epoch : 201 , training loss : 1.1144706453099692e-05 , validation loss : 0.0557120181620121\n",
      "Epoch : 202 , training loss : 1.1116627117897022e-05 , validation loss : 0.055752623826265335\n",
      "Epoch : 203 , training loss : 1.10887784911837e-05 , validation loss : 0.05579373612999916\n",
      "Epoch : 204 , training loss : 1.10608194113916e-05 , validation loss : 0.05583516135811806\n",
      "Epoch : 205 , training loss : 1.1033178149470283e-05 , validation loss : 0.05587712302803993\n",
      "Epoch : 206 , training loss : 1.1005189662682824e-05 , validation loss : 0.05591920018196106\n",
      "Epoch : 207 , training loss : 1.09778692502813e-05 , validation loss : 0.05596160516142845\n",
      "Epoch : 208 , training loss : 1.0950469206565887e-05 , validation loss : 0.05600437894463539\n",
      "Epoch : 209 , training loss : 1.092310928167232e-05 , validation loss : 0.05604736506938934\n",
      "Epoch : 210 , training loss : 1.0895924586091294e-05 , validation loss : 0.05609038099646568\n",
      "Epoch : 211 , training loss : 1.0868791832763236e-05 , validation loss : 0.05613367632031441\n",
      "Epoch : 212 , training loss : 1.0841706171049736e-05 , validation loss : 0.05617711320519447\n",
      "Epoch : 213 , training loss : 1.0814889719767962e-05 , validation loss : 0.056220751255750656\n",
      "Epoch : 214 , training loss : 1.0788133295136504e-05 , validation loss : 0.05626440420746803\n",
      "Epoch : 215 , training loss : 1.0761253482390506e-05 , validation loss : 0.05630819499492645\n",
      "Epoch : 216 , training loss : 1.0734749897286141e-05 , validation loss : 0.056352078914642334\n",
      "Epoch : 217 , training loss : 1.0708116153384455e-05 , validation loss : 0.05639605596661568\n",
      "Epoch : 218 , training loss : 1.0681588820362878e-05 , validation loss : 0.05644010379910469\n",
      "Epoch : 219 , training loss : 1.0655726631133197e-05 , validation loss : 0.05648411437869072\n",
      "Epoch : 220 , training loss : 1.0629122698446736e-05 , validation loss : 0.05652805045247078\n",
      "Epoch : 221 , training loss : 1.0603114181625036e-05 , validation loss : 0.05657206475734711\n",
      "Epoch : 222 , training loss : 1.0576824731995455e-05 , validation loss : 0.05661618709564209\n",
      "Epoch : 223 , training loss : 1.0551168391733276e-05 , validation loss : 0.05666014552116394\n",
      "Epoch : 224 , training loss : 1.0525315701670479e-05 , validation loss : 0.056704163551330566\n",
      "Epoch : 225 , training loss : 1.0499467255916292e-05 , validation loss : 0.05674814060330391\n",
      "Epoch : 226 , training loss : 1.0473896206046144e-05 , validation loss : 0.056792061775922775\n",
      "Epoch : 227 , training loss : 1.0448213389382647e-05 , validation loss : 0.05683581531047821\n",
      "Epoch : 228 , training loss : 1.0422762999142935e-05 , validation loss : 0.05687962844967842\n",
      "Epoch : 229 , training loss : 1.0397163754937032e-05 , validation loss : 0.056923408061265945\n",
      "Epoch : 230 , training loss : 1.0372245520152825e-05 , validation loss : 0.056967053562402725\n",
      "Epoch : 231 , training loss : 1.0346946712363408e-05 , validation loss : 0.05701061710715294\n",
      "Epoch : 232 , training loss : 1.0321757144993171e-05 , validation loss : 0.0570540726184845\n",
      "Epoch : 233 , training loss : 1.0297088617032083e-05 , validation loss : 0.057097505778074265\n",
      "Epoch : 234 , training loss : 1.0271880152383043e-05 , validation loss : 0.05714096501469612\n",
      "Epoch : 235 , training loss : 1.0247082173009403e-05 , validation loss : 0.05718414485454559\n",
      "Epoch : 236 , training loss : 1.0222393636164876e-05 , validation loss : 0.05722725763916969\n",
      "Epoch : 237 , training loss : 1.0197995531295115e-05 , validation loss : 0.05727037414908409\n",
      "Epoch : 238 , training loss : 1.017331406829827e-05 , validation loss : 0.05731327459216118\n",
      "Epoch : 239 , training loss : 1.0148979324892733e-05 , validation loss : 0.057356104254722595\n",
      "Epoch : 240 , training loss : 1.0124670148393812e-05 , validation loss : 0.05739887058734894\n",
      "Epoch : 241 , training loss : 1.0100175940250563e-05 , validation loss : 0.05744137242436409\n",
      "Epoch : 242 , training loss : 1.0076137692117805e-05 , validation loss : 0.05748395621776581\n",
      "Epoch : 243 , training loss : 1.0052319339592941e-05 , validation loss : 0.057526301592588425\n",
      "Epoch : 244 , training loss : 1.002817579218471e-05 , validation loss : 0.05756848677992821\n",
      "Epoch : 245 , training loss : 1.0004246380251263e-05 , validation loss : 0.057610686868429184\n",
      "Epoch : 246 , training loss : 9.98083366236339e-06 , validation loss : 0.05765264853835106\n",
      "Epoch : 247 , training loss : 9.956753476419382e-06 , validation loss : 0.05769456550478935\n",
      "Epoch : 248 , training loss : 9.933275578077883e-06 , validation loss : 0.057736288756132126\n",
      "Epoch : 249 , training loss : 9.909845781900609e-06 , validation loss : 0.057777971029281616\n",
      "Epoch : 250 , training loss : 9.886407598161088e-06 , validation loss : 0.05781939998269081\n",
      "Epoch : 251 , training loss : 9.863168593761253e-06 , validation loss : 0.057860761880874634\n",
      "Epoch : 252 , training loss : 9.839834496637599e-06 , validation loss : 0.05790206789970398\n",
      "Epoch : 253 , training loss : 9.816968991395293e-06 , validation loss : 0.057943087071180344\n",
      "Epoch : 254 , training loss : 9.793695830416658e-06 , validation loss : 0.05798405036330223\n",
      "Epoch : 255 , training loss : 9.771183411228574e-06 , validation loss : 0.05802492797374725\n",
      "Epoch : 256 , training loss : 9.74801848011945e-06 , validation loss : 0.05806557461619377\n",
      "Epoch : 257 , training loss : 9.725543754434006e-06 , validation loss : 0.05810600146651268\n",
      "Epoch : 258 , training loss : 9.702488063744062e-06 , validation loss : 0.05814659595489502\n",
      "Epoch : 259 , training loss : 9.680564087628025e-06 , validation loss : 0.05818682536482811\n",
      "Epoch : 260 , training loss : 9.657338826703684e-06 , validation loss : 0.058226991444826126\n",
      "Epoch : 261 , training loss : 9.63549721038564e-06 , validation loss : 0.05826696753501892\n",
      "Epoch : 262 , training loss : 9.612727303141986e-06 , validation loss : 0.05830686166882515\n",
      "Epoch : 263 , training loss : 9.591109119355679e-06 , validation loss : 0.058346521109342575\n",
      "Epoch : 264 , training loss : 9.56841833815108e-06 , validation loss : 0.05838606134057045\n",
      "Epoch : 265 , training loss : 9.546919500280637e-06 , validation loss : 0.058425385504961014\n",
      "Epoch : 266 , training loss : 9.524613637444822e-06 , validation loss : 0.058464813977479935\n",
      "Epoch : 267 , training loss : 9.503336918391546e-06 , validation loss : 0.0585038848221302\n",
      "Epoch : 268 , training loss : 9.480904332627284e-06 , validation loss : 0.05854286253452301\n",
      "Epoch : 269 , training loss : 9.459976657429555e-06 , validation loss : 0.05858166515827179\n",
      "Epoch : 270 , training loss : 9.43769949420433e-06 , validation loss : 0.05862037464976311\n",
      "Epoch : 271 , training loss : 9.416923603566829e-06 , validation loss : 0.05865883454680443\n",
      "Epoch : 272 , training loss : 9.394689489757487e-06 , validation loss : 0.05869726464152336\n",
      "Epoch : 273 , training loss : 9.374375420318554e-06 , validation loss : 0.05873538553714752\n",
      "Epoch : 274 , training loss : 9.352272779021101e-06 , validation loss : 0.058773573487997055\n",
      "Epoch : 275 , training loss : 9.332301386974803e-06 , validation loss : 0.05881144106388092\n",
      "Epoch : 276 , training loss : 9.309806046076119e-06 , validation loss : 0.05884931609034538\n",
      "Epoch : 277 , training loss : 9.29070140248061e-06 , validation loss : 0.05888683721423149\n",
      "Epoch : 278 , training loss : 9.267538391415857e-06 , validation loss : 0.05892445519566536\n",
      "Epoch : 279 , training loss : 9.24968096822138e-06 , validation loss : 0.058961447328329086\n",
      "Epoch : 280 , training loss : 9.225252243696661e-06 , validation loss : 0.058999110013246536\n",
      "Epoch : 281 , training loss : 9.209967376793631e-06 , validation loss : 0.059035588055849075\n",
      "Epoch : 282 , training loss : 9.182214550188897e-06 , validation loss : 0.05907304584980011\n",
      "Epoch : 283 , training loss : 9.171924325023105e-06 , validation loss : 0.059108901768922806\n",
      "Epoch : 284 , training loss : 9.137875167652965e-06 , validation loss : 0.05914677307009697\n",
      "Epoch : 285 , training loss : 9.137049649628656e-06 , validation loss : 0.059181105345487595\n",
      "Epoch : 286 , training loss : 9.090201072265498e-06 , validation loss : 0.05922020599246025\n",
      "Epoch : 287 , training loss : 9.109386256669597e-06 , validation loss : 0.05925213173031807\n",
      "Epoch : 288 , training loss : 9.036282184145724e-06 , validation loss : 0.059294071048498154\n",
      "Epoch : 289 , training loss : 9.098798222516456e-06 , validation loss : 0.059321045875549316\n",
      "Epoch : 290 , training loss : 8.971895214118478e-06 , validation loss : 0.05936964973807335\n",
      "Epoch : 291 , training loss : 9.138008257044325e-06 , validation loss : 0.059385593980550766\n",
      "Epoch : 292 , training loss : 8.905390536205636e-06 , validation loss : 0.05945010855793953\n",
      "Epoch : 293 , training loss : 9.3427986737677e-06 , validation loss : 0.05944103002548218\n",
      "Epoch : 294 , training loss : 8.953586883661854e-06 , validation loss : 0.05954328179359436\n",
      "Epoch : 295 , training loss : 1.0225592025866112e-05 , validation loss : 0.05947418138384819\n",
      "Epoch : 296 , training loss : 9.94638756108341e-06 , validation loss : 0.05966852232813835\n",
      "Epoch : 297 , training loss : 1.4387721118206779e-05 , validation loss : 0.05945223569869995\n",
      "Epoch : 298 , training loss : 1.7201627896510116e-05 , validation loss : 0.05987423285841942\n",
      "Epoch : 299 , training loss : 3.658383260093009e-05 , validation loss : 0.059284988790750504\n"
     ]
    }
   ],
   "source": [
    "data_module.learning_curve(num_epochs = num_epochs,\n",
    "                           train_loss = train_loss ,\n",
    "                           val_loss = val_loss)\n",
    "                           "
   ]
  },
  {
   "cell_type": "markdown",
   "metadata": {},
   "source": [
    "# Step 5 : Evaluation\n",
    "This section is to inference the model by feeding in testing data, determining the output forecast value and calculating the RMSE. For this tutorial, we will use the function in `data_module` to run in each section.\n",
    "\n",
    "It consists of 4 sections :\n",
    "\n",
    "Section 1 : Feed in the train and test data to the model <br>\n",
    "Section 2 : Reshape both to the original data dimension <br> \n",
    "Section 3 : Invert the scaling back to the original data value <br>\n",
    "Section 4 : Calculate the RMSE of train and test data"
   ]
  },
  {
   "cell_type": "code",
   "execution_count": 21,
   "metadata": {},
   "outputs": [],
   "source": [
    "# Section 1 : make predictions\n",
    "y_train_prediction = model(train_data_dict['train_data_x_feature'])\n",
    "y_test_prediction = model(test_data_dict['test_data_x_feature'])\n"
   ]
  },
  {
   "cell_type": "code",
   "execution_count": 22,
   "metadata": {},
   "outputs": [],
   "source": [
    "# Assign evaluation key\n",
    "prediction , output = data_module.key_assign_evaluation(y_train_prediction,\n",
    "    y_test_prediction,\n",
    "    train_data_dict,\n",
    "    test_data_dict)\n",
    "# Squeeze the output dimension\n",
    "output_data = data_module.squeeze_dimension(output)"
   ]
  },
  {
   "cell_type": "code",
   "execution_count": 23,
   "metadata": {},
   "outputs": [
    {
     "name": "stdout",
     "output_type": "stream",
     "text": [
      "train_data_output shape : torch.Size([18, 1])\n",
      "test_data_output shape : torch.Size([6, 1])\n"
     ]
    }
   ],
   "source": [
    "data_module.sanity_check(data_1 = output_data,data_2 = {})"
   ]
  },
  {
   "cell_type": "code",
   "execution_count": 24,
   "metadata": {},
   "outputs": [],
   "source": [
    "# Section 3 : Invert predictions\n",
    "output_data_scaler = data_scalers[list(data_scalers)[-1]]\n",
    "prediction = data_module.inverse_scaler(prediction,scaler = output_data_scaler)\n",
    "output_data  = data_module.inverse_scaler(output_data ,scaler = output_data_scaler)"
   ]
  },
  {
   "cell_type": "code",
   "execution_count": 25,
   "metadata": {},
   "outputs": [
    {
     "name": "stdout",
     "output_type": "stream",
     "text": [
      "train_data_prediction shape : (18, 1)\n",
      "test_data_prediction shape : (6, 1)\n",
      "train_data_output shape : (18, 1)\n",
      "test_data_output shape : (6, 1)\n"
     ]
    }
   ],
   "source": [
    "data_module.sanity_check(data_1 = prediction,data_2 = output_data )"
   ]
  },
  {
   "cell_type": "code",
   "execution_count": 26,
   "metadata": {},
   "outputs": [
    {
     "name": "stdout",
     "output_type": "stream",
     "text": [
      "Test Data\t\t\tForecast\n",
      "[485.]\t\t[475.10242]\n",
      "[505.]\t\t[490.0065]\n",
      "[525.]\t\t[503.71637]\n",
      "[545.]\t\t[516.24225]\n",
      "[565.]\t\t[527.6221]\n",
      "[585.]\t\t[537.91284]\n"
     ]
    }
   ],
   "source": [
    "# List the forecast value\n",
    "data_module.list_forecast_value(output_data,prediction) "
   ]
  },
  {
   "cell_type": "code",
   "execution_count": 27,
   "metadata": {},
   "outputs": [
    {
     "name": "stdout",
     "output_type": "stream",
     "text": [
      "Train Score: 1.01 RMSE\n",
      "Test Score: 29.49 RMSE\n"
     ]
    }
   ],
   "source": [
    "# Section 4 : Calculate the RMSE of train and test data\n",
    "trainScore,testScore = data_module.rmse(prediction,output_data)\n",
    "print('Train Score: %.2f RMSE' % (trainScore))\n",
    "print('Test Score: %.2f RMSE' % (testScore))"
   ]
  },
  {
   "cell_type": "markdown",
   "metadata": {},
   "source": [
    "# Step 6 : Forecast Plot"
   ]
  },
  {
   "cell_type": "markdown",
   "metadata": {},
   "source": [
    "Referring to the data sequence diagram (Figure 2) for the multivariate input, univariate output, the red box indicates a sliding window that contains 3 data points (which meant that `window_size = 3` in this case). You can find that the last data point within the red box is at the same location (`time series 1 = 30`,`time series 2 = 35`,`output series 3 = 65`).<br>\n",
    "\n",
    "If you are using the `single_step_plot` from `data_module` you can find that the time index for test data after sequence(window sliding) is using `test_time[window_size:]`. Due to Python's indexing properties, it will slide from the 4th position of the time index (the time index for `output series 3 = 85`).<br>\n",
    "\n",
    "To make sure your time index for test data after data sequencing is correct, you need to modify the `single_step_plot` by adding in `test_time[window_size - 1:] `if `multivariate = True`\n",
    "\n",
    "<img src = \"../../picture/Data Sequencing in Univariate Single Step.png\"   width=\"300\" height  =\"300\" align=\"center\" /><br>\n",
    "#### <center>Figure 1 : Data sequence diagram for univariate single step</center>\n",
    "<img src = \"../../picture/Multivariate Data Sequencing.png\"  width=\"300\" height  =\"300\" align=\"center\" /><br>\n",
    "#### <center>Figure 2 : Data sequence diagram for multivariate input , univariate output</center>\n",
    "\n",
    "As you can observe in below, the length for `test_time[window_size:] = 5` but `output_data['test_data_output']  = 6` and `prediction['test_data_prediction'].shape = 6`"
   ]
  },
  {
   "cell_type": "code",
   "execution_count": 28,
   "metadata": {},
   "outputs": [
    {
     "name": "stdout",
     "output_type": "stream",
     "text": [
      "Length of test time in single_step_plot function  = 5\n",
      "Length of test_data_output = 6\n",
      "Length of test_data_prediction  = 6\n",
      "Length of test time for test_time[window_size-1] = 6\n"
     ]
    }
   ],
   "source": [
    "print(f\"Length of test time in single_step_plot function  = {len(test_time[window_size:])}\")\n",
    "print(f\"Length of test_data_output = {len(output_data['test_data_output'])}\")\n",
    "print(f\"Length of test_data_prediction  = {len(prediction['test_data_prediction'])}\")\n",
    "print(f\"Length of test time for test_time[window_size-1] = {len(test_time[window_size-1:])}\")"
   ]
  },
  {
   "cell_type": "code",
   "execution_count": 29,
   "metadata": {},
   "outputs": [
    {
     "data": {
      "image/png": "[encoded data removed]",
      "text/plain": [
       "<Figure size 720x432 with 1 Axes>"
      ]
     },
     "metadata": {
      "needs_background": "light"
     },
     "output_type": "display_data"
    }
   ],
   "source": [
    "def single_step_plot(original_test_data,sequence_test_data,forecast_data,test_time,window_size,\n",
    "                     original_plot =False,multivariate = False):\n",
    "    sequence_test_time = test_time[window_size:]\n",
    "    plt.figure(figsize=(10,6))\n",
    "    \n",
    "    if multivariate:\n",
    "        sequence_test_time = test_time[window_size-1:]\n",
    "                                 \n",
    "    if original_plot:\n",
    "        plt.plot(test_time,original_test_data,color=\"blue\",label = 'Test Data')\n",
    "        \n",
    "    plt.plot(sequence_test_time,sequence_test_data,color=\"green\", label = 'Test Data After Sequence')\n",
    "    plt.plot(sequence_test_time,forecast_data,color=\"red\", label = 'Forecast')\n",
    "    plt.xticks(rotation = 45)\n",
    "    plt.ylabel(\"Value\")\n",
    "    plt.title(\"Forecast plot\")\n",
    "    plt.legend()\n",
    "\n",
    "single_step_plot(original_test_data = test_data[\"out_seq\"],\n",
    "                 sequence_test_data = output_data['test_data_output'],\n",
    "                 forecast_data = prediction['test_data_prediction'],\n",
    "                 test_time = test_time,\n",
    "                 window_size = window_size,\n",
    "                 original_plot = True,\n",
    "                 multivariate = True)"
   ]
  },
  {
   "cell_type": "markdown",
   "metadata": {},
   "source": [
    "# Part 2 : Exercise for Multivariate\n",
    "## Task : Predict the total number of death cases in COVID-19 Malaysia \n",
    "\n",
    "### Introduction \n",
    "You are given a set of data that contains information about COVID-19 cases worldwide. You are required to perform some data analysis on it and predict the death cases.<br>\n",
    "\n",
    "Please follow the instruction and try to code the exercise.Please feel free to google to find out how to use a particular function in the data exploration part<br>\n",
    "\n",
    "\n",
    "\n",
    "Data Source : \n",
    "https://www.kaggle.com/sudalairajkumar/novel-corona-virus-2019-dataset\n",
    "\n"
   ]
  },
  {
   "cell_type": "markdown",
   "metadata": {},
   "source": [
    "## Hyperparameter\n",
    ">**Instruction** : <br>\n",
    "You are required to fill `None` with a suitable value to make the model converge\n",
    "\n",
    ">**Expected Result** : <br>\n",
    "Train Score <= 10 RMSE<br>\n",
    "Test Score <= 10 RMSE<br>"
   ]
  },
  {
   "cell_type": "code",
   "execution_count": 30,
   "metadata": {},
   "outputs": [
    {
     "data": {
      "text/plain": [
       "<torch._C.Generator at 0x1cc813e9890>"
      ]
     },
     "execution_count": 30,
     "metadata": {},
     "output_type": "execute_result"
    }
   ],
   "source": [
    "#Hyperameter\n",
    "split_ratio_covid = 0.70\n",
    "num_epochs_covid = 100\n",
    "window_size_covid = 10\n",
    "n_step_covid = 1\n",
    "learning_rate_covid = 0.001\n",
    "batch_size_covid = 20\n",
    "#seed\n",
    "torch.manual_seed(123)"
   ]
  },
  {
   "cell_type": "markdown",
   "metadata": {},
   "source": [
    "# Step 1 : Data Preparation\n",
    "In this tutorial, you will face a complex real-world dataset. You are required to use some of the data exploration technique to help you prepare the data.\n",
    "\n",
    ">**Instruction** : <br>\n",
    "Read the file using `pd.read_csv`<br>\n",
    "Save your data as `cases`<br>\n",
    "Your file path `../../datasets/others/covid_19_data.csv`"
   ]
  },
  {
   "cell_type": "code",
   "execution_count": 31,
   "metadata": {},
   "outputs": [
    {
     "data": {
      "text/html": [
       "<div>\n",
       "<style scoped>\n",
       "    .dataframe tbody tr th:only-of-type {\n",
       "        vertical-align: middle;\n",
       "    }\n",
       "\n",
       "    .dataframe tbody tr th {\n",
       "        vertical-align: top;\n",
       "    }\n",
       "\n",
       "    .dataframe thead th {\n",
       "        text-align: right;\n",
       "    }\n",
       "</style>\n",
       "<table border=\"1\" class=\"dataframe\">\n",
       "  <thead>\n",
       "    <tr style=\"text-align: right;\">\n",
       "      <th></th>\n",
       "      <th>SNo</th>\n",
       "      <th>ObservationDate</th>\n",
       "      <th>Province/State</th>\n",
       "      <th>Country/Region</th>\n",
       "      <th>Last Update</th>\n",
       "      <th>Confirmed</th>\n",
       "      <th>Deaths</th>\n",
       "      <th>Recovered</th>\n",
       "    </tr>\n",
       "  </thead>\n",
       "  <tbody>\n",
       "    <tr>\n",
       "      <th>0</th>\n",
       "      <td>1</td>\n",
       "      <td>01/22/2020</td>\n",
       "      <td>Anhui</td>\n",
       "      <td>Mainland China</td>\n",
       "      <td>1/22/2020 17:00</td>\n",
       "      <td>1.0</td>\n",
       "      <td>0.0</td>\n",
       "      <td>0.0</td>\n",
       "    </tr>\n",
       "    <tr>\n",
       "      <th>1</th>\n",
       "      <td>2</td>\n",
       "      <td>01/22/2020</td>\n",
       "      <td>Beijing</td>\n",
       "      <td>Mainland China</td>\n",
       "      <td>1/22/2020 17:00</td>\n",
       "      <td>14.0</td>\n",
       "      <td>0.0</td>\n",
       "      <td>0.0</td>\n",
       "    </tr>\n",
       "    <tr>\n",
       "      <th>2</th>\n",
       "      <td>3</td>\n",
       "      <td>01/22/2020</td>\n",
       "      <td>Chongqing</td>\n",
       "      <td>Mainland China</td>\n",
       "      <td>1/22/2020 17:00</td>\n",
       "      <td>6.0</td>\n",
       "      <td>0.0</td>\n",
       "      <td>0.0</td>\n",
       "    </tr>\n",
       "    <tr>\n",
       "      <th>3</th>\n",
       "      <td>4</td>\n",
       "      <td>01/22/2020</td>\n",
       "      <td>Fujian</td>\n",
       "      <td>Mainland China</td>\n",
       "      <td>1/22/2020 17:00</td>\n",
       "      <td>1.0</td>\n",
       "      <td>0.0</td>\n",
       "      <td>0.0</td>\n",
       "    </tr>\n",
       "    <tr>\n",
       "      <th>4</th>\n",
       "      <td>5</td>\n",
       "      <td>01/22/2020</td>\n",
       "      <td>Gansu</td>\n",
       "      <td>Mainland China</td>\n",
       "      <td>1/22/2020 17:00</td>\n",
       "      <td>0.0</td>\n",
       "      <td>0.0</td>\n",
       "      <td>0.0</td>\n",
       "    </tr>\n",
       "  </tbody>\n",
       "</table>\n",
       "</div>"
      ],
      "text/plain": [
       "   SNo ObservationDate Province/State  Country/Region      Last Update  \\\n",
       "0    1      01/22/2020          Anhui  Mainland China  1/22/2020 17:00   \n",
       "1    2      01/22/2020        Beijing  Mainland China  1/22/2020 17:00   \n",
       "2    3      01/22/2020      Chongqing  Mainland China  1/22/2020 17:00   \n",
       "3    4      01/22/2020         Fujian  Mainland China  1/22/2020 17:00   \n",
       "4    5      01/22/2020          Gansu  Mainland China  1/22/2020 17:00   \n",
       "\n",
       "   Confirmed  Deaths  Recovered  \n",
       "0        1.0     0.0        0.0  \n",
       "1       14.0     0.0        0.0  \n",
       "2        6.0     0.0        0.0  \n",
       "3        1.0     0.0        0.0  \n",
       "4        0.0     0.0        0.0  "
      ]
     },
     "execution_count": 31,
     "metadata": {},
     "output_type": "execute_result"
    }
   ],
   "source": [
    "### BEGIN SOLUTION\n",
    "cases = pd.read_csv(\"../../datasets/others/covid_19_data.csv\")\n",
    "### END SOLUTION\n",
    "cases.head()"
   ]
  },
  {
   "cell_type": "markdown",
   "metadata": {},
   "source": [
    "As you can see, the data contains info on COVID-19 cases from other countries as well. You will need to slice the COVID-19 info for Malaysia.\n",
    "\n",
    ">**Instruction** : <br>\n",
    "Slice the COVID-19 info for Malaysia. You might need to use `df.loc[]` to help you slice the data.\n",
    "\n",
    ">**Expected Result** :<br>\n",
    "Example of first 5 rows of data:\n",
    "\n",
    "---\t|SNo\t|ObservationDate\t|Province/State\t|Country/Region\t|Last Update\t|Confirmed\t|Deaths\t|Recovered\n",
    " ---|---\t|---\t            |---\t        |---\t        |---\t        |---\t    |---\t|---\n",
    "78\t|79\t    |01/23/2020\t|NaN\t|Malaysia\t|1/23/20 |17:00\t|0.0\t|0.0\t|0.0\n",
    "168\t|169\t|01/25/2020\t|NaN\t|Malaysia\t|1/25/20 |17:00\t|3.0\t|0.0\t|0.0\n",
    "214\t|215\t|01/26/2020\t|NaN\t|Malaysia\t|1/26/20 |16:00\t|4.0\t|0.0\t|0.0\n",
    "260\t|261\t|01/27/2020\t|NaN\t|Malaysia\t|1/27/20 |23:59\t|4.0\t|0.0\t|0.0\n",
    "311\t|312\t|01/28/2020\t|NaN\t|Malaysia\t|1/28/20 |23:00\t|4.0\t|0.0\t|0.0\n"
   ]
  },
  {
   "cell_type": "code",
   "execution_count": 32,
   "metadata": {
    "scrolled": true
   },
   "outputs": [
    {
     "data": {
      "text/plain": [
       "array(['Mainland China', 'Hong Kong', 'Macau', 'Taiwan', 'US', 'Japan',\n",
       "       'Thailand', 'South Korea', 'Singapore', 'Philippines', 'Malaysia',\n",
       "       'Vietnam', 'Australia', 'Mexico', 'Brazil', 'Colombia', 'France',\n",
       "       'Nepal', 'Canada', 'Cambodia', 'Sri Lanka', 'Ivory Coast',\n",
       "       'Germany', 'Finland', 'United Arab Emirates', 'India', 'Italy',\n",
       "       'UK', 'Russia', 'Sweden', 'Spain', 'Belgium', 'Others', 'Egypt',\n",
       "       'Iran', 'Israel', 'Lebanon', 'Iraq', 'Oman', 'Afghanistan',\n",
       "       'Bahrain', 'Kuwait', 'Austria', 'Algeria', 'Croatia',\n",
       "       'Switzerland', 'Pakistan', 'Georgia', 'Greece', 'North Macedonia',\n",
       "       'Norway', 'Romania', 'Denmark', 'Estonia', 'Netherlands',\n",
       "       'San Marino', ' Azerbaijan', 'Belarus', 'Iceland', 'Lithuania',\n",
       "       'New Zealand', 'Nigeria', 'North Ireland', 'Ireland', 'Luxembourg',\n",
       "       'Monaco', 'Qatar', 'Ecuador', 'Azerbaijan', 'Czech Republic',\n",
       "       'Armenia', 'Dominican Republic', 'Indonesia', 'Portugal',\n",
       "       'Andorra', 'Latvia', 'Morocco', 'Saudi Arabia', 'Senegal',\n",
       "       'Argentina', 'Chile', 'Jordan', 'Ukraine', 'Saint Barthelemy',\n",
       "       'Hungary', 'Faroe Islands', 'Gibraltar', 'Liechtenstein', 'Poland',\n",
       "       'Tunisia', 'Palestine', 'Bosnia and Herzegovina', 'Slovenia',\n",
       "       'South Africa', 'Bhutan', 'Cameroon', 'Costa Rica', 'Peru',\n",
       "       'Serbia', 'Slovakia', 'Togo', 'Vatican City', 'French Guiana',\n",
       "       'Malta', 'Martinique', 'Republic of Ireland', 'Bulgaria',\n",
       "       'Maldives', 'Bangladesh', 'Moldova', 'Paraguay', 'Albania',\n",
       "       'Cyprus', 'St. Martin', 'Brunei', 'occupied Palestinian territory',\n",
       "       \"('St. Martin',)\", 'Burkina Faso', 'Channel Islands', 'Holy See',\n",
       "       'Mongolia', 'Panama', 'Bolivia', 'Honduras', 'Congo (Kinshasa)',\n",
       "       'Jamaica', 'Reunion', 'Turkey', 'Cuba', 'Guyana', 'Kazakhstan',\n",
       "       'Cayman Islands', 'Guadeloupe', 'Ethiopia', 'Sudan', 'Guinea',\n",
       "       'Antigua and Barbuda', 'Aruba', 'Kenya', 'Uruguay', 'Ghana',\n",
       "       'Jersey', 'Namibia', 'Seychelles', 'Trinidad and Tobago',\n",
       "       'Venezuela', 'Curacao', 'Eswatini', 'Gabon', 'Guatemala',\n",
       "       'Guernsey', 'Mauritania', 'Rwanda', 'Saint Lucia',\n",
       "       'Saint Vincent and the Grenadines', 'Suriname', 'Kosovo',\n",
       "       'Central African Republic', 'Congo (Brazzaville)',\n",
       "       'Equatorial Guinea', 'Uzbekistan', 'Guam', 'Puerto Rico', 'Benin',\n",
       "       'Greenland', 'Liberia', 'Mayotte', 'Republic of the Congo',\n",
       "       'Somalia', 'Tanzania', 'The Bahamas', 'Barbados', 'Montenegro',\n",
       "       'The Gambia', 'Kyrgyzstan', 'Mauritius', 'Zambia', 'Djibouti',\n",
       "       'Gambia, The', 'Bahamas, The', 'Chad', 'El Salvador', 'Fiji',\n",
       "       'Nicaragua', 'Madagascar', 'Haiti', 'Angola', 'Cabo Verde',\n",
       "       'Niger', 'Papua New Guinea', 'Zimbabwe', 'Cape Verde',\n",
       "       'East Timor', 'Eritrea', 'Uganda', 'Bahamas', 'Dominica', 'Gambia',\n",
       "       'Grenada', 'Mozambique', 'Samoa', 'Syria', 'Timor-Leste', 'Belize',\n",
       "       'Laos', 'Libya', 'Diamond Princess', 'Guinea-Bissau', 'Mali',\n",
       "       'Saint Kitts and Nevis', 'West Bank and Gaza', 'Burma',\n",
       "       'MS Zaandam', 'Botswana', 'Burundi', 'Sierra Leone', 'Malawi',\n",
       "       'South Sudan', 'Sao Tome and Principe', 'Yemen', 'Comoros',\n",
       "       'Tajikistan', 'Lesotho', 'Solomon Islands', 'Marshall Islands',\n",
       "       'Vanuatu', 'Micronesia'], dtype=object)"
      ]
     },
     "execution_count": 32,
     "metadata": {},
     "output_type": "execute_result"
    }
   ],
   "source": [
    "cases[\"Country/Region\"].unique()"
   ]
  },
  {
   "cell_type": "code",
   "execution_count": 33,
   "metadata": {},
   "outputs": [
    {
     "data": {
      "text/html": [
       "<div>\n",
       "<style scoped>\n",
       "    .dataframe tbody tr th:only-of-type {\n",
       "        vertical-align: middle;\n",
       "    }\n",
       "\n",
       "    .dataframe tbody tr th {\n",
       "        vertical-align: top;\n",
       "    }\n",
       "\n",
       "    .dataframe thead th {\n",
       "        text-align: right;\n",
       "    }\n",
       "</style>\n",
       "<table border=\"1\" class=\"dataframe\">\n",
       "  <thead>\n",
       "    <tr style=\"text-align: right;\">\n",
       "      <th></th>\n",
       "      <th>SNo</th>\n",
       "      <th>ObservationDate</th>\n",
       "      <th>Province/State</th>\n",
       "      <th>Country/Region</th>\n",
       "      <th>Last Update</th>\n",
       "      <th>Confirmed</th>\n",
       "      <th>Deaths</th>\n",
       "      <th>Recovered</th>\n",
       "    </tr>\n",
       "  </thead>\n",
       "  <tbody>\n",
       "    <tr>\n",
       "      <th>78</th>\n",
       "      <td>79</td>\n",
       "      <td>01/23/2020</td>\n",
       "      <td>NaN</td>\n",
       "      <td>Malaysia</td>\n",
       "      <td>1/23/20 17:00</td>\n",
       "      <td>0.0</td>\n",
       "      <td>0.0</td>\n",
       "      <td>0.0</td>\n",
       "    </tr>\n",
       "    <tr>\n",
       "      <th>168</th>\n",
       "      <td>169</td>\n",
       "      <td>01/25/2020</td>\n",
       "      <td>NaN</td>\n",
       "      <td>Malaysia</td>\n",
       "      <td>1/25/20 17:00</td>\n",
       "      <td>3.0</td>\n",
       "      <td>0.0</td>\n",
       "      <td>0.0</td>\n",
       "    </tr>\n",
       "    <tr>\n",
       "      <th>214</th>\n",
       "      <td>215</td>\n",
       "      <td>01/26/2020</td>\n",
       "      <td>NaN</td>\n",
       "      <td>Malaysia</td>\n",
       "      <td>1/26/20 16:00</td>\n",
       "      <td>4.0</td>\n",
       "      <td>0.0</td>\n",
       "      <td>0.0</td>\n",
       "    </tr>\n",
       "    <tr>\n",
       "      <th>260</th>\n",
       "      <td>261</td>\n",
       "      <td>01/27/2020</td>\n",
       "      <td>NaN</td>\n",
       "      <td>Malaysia</td>\n",
       "      <td>1/27/20 23:59</td>\n",
       "      <td>4.0</td>\n",
       "      <td>0.0</td>\n",
       "      <td>0.0</td>\n",
       "    </tr>\n",
       "    <tr>\n",
       "      <th>311</th>\n",
       "      <td>312</td>\n",
       "      <td>01/28/2020</td>\n",
       "      <td>NaN</td>\n",
       "      <td>Malaysia</td>\n",
       "      <td>1/28/20 23:00</td>\n",
       "      <td>4.0</td>\n",
       "      <td>0.0</td>\n",
       "      <td>0.0</td>\n",
       "    </tr>\n",
       "  </tbody>\n",
       "</table>\n",
       "</div>"
      ],
      "text/plain": [
       "     SNo ObservationDate Province/State Country/Region    Last Update  \\\n",
       "78    79      01/23/2020            NaN       Malaysia  1/23/20 17:00   \n",
       "168  169      01/25/2020            NaN       Malaysia  1/25/20 17:00   \n",
       "214  215      01/26/2020            NaN       Malaysia  1/26/20 16:00   \n",
       "260  261      01/27/2020            NaN       Malaysia  1/27/20 23:59   \n",
       "311  312      01/28/2020            NaN       Malaysia  1/28/20 23:00   \n",
       "\n",
       "     Confirmed  Deaths  Recovered  \n",
       "78         0.0     0.0        0.0  \n",
       "168        3.0     0.0        0.0  \n",
       "214        4.0     0.0        0.0  \n",
       "260        4.0     0.0        0.0  \n",
       "311        4.0     0.0        0.0  "
      ]
     },
     "execution_count": 33,
     "metadata": {},
     "output_type": "execute_result"
    }
   ],
   "source": [
    "### BEGIN SOLUTION\n",
    "new_covid_data = cases.loc[cases[\"Country/Region\"] == 'Malaysia']\n",
    "new_covid_data.head()\n",
    "### END SOLUTION"
   ]
  },
  {
   "cell_type": "markdown",
   "metadata": {},
   "source": [
    "We need to make sure there is no missing value in our data\n",
    ">**Instruction** : <br>\n",
    "Use `df.isnull().values.any()` to check any missing data in our dataset. `True` would imply that there is a `NaN` value in our dataset<br>\n",
    "Most of the columns does not contain `NaN` except for `Province/State `. This is acceptable since this data is not really useful for our use case which we will drop later.\n",
    "\n",
    "Columns|Status\n",
    "---|---\n",
    "SNo                |False\n",
    "ObservationDate    |False\n",
    "Province/State      |True\n",
    "Country/Region     |False\n",
    "Last Update        |False\n",
    "Confirmed          |False\n",
    "Deaths             |False\n",
    "Recovered          |False"
   ]
  },
  {
   "cell_type": "code",
   "execution_count": 34,
   "metadata": {},
   "outputs": [
    {
     "data": {
      "text/plain": [
       "SNo                False\n",
       "ObservationDate    False\n",
       "Province/State      True\n",
       "Country/Region     False\n",
       "Last Update        False\n",
       "Confirmed          False\n",
       "Deaths             False\n",
       "Recovered          False\n",
       "dtype: bool"
      ]
     },
     "execution_count": 34,
     "metadata": {},
     "output_type": "execute_result"
    }
   ],
   "source": [
    "### BEGIN SOLUTION\n",
    "new_covid_data.isnull().any()\n",
    "### END SOLUTION"
   ]
  },
  {
   "cell_type": "markdown",
   "metadata": {},
   "source": [
    ">**Instruction** : <br>\n",
    "Set the `ObservationDate` as the index for the dataset. You are required to convert `ObservationDate` to datetime using `pd.to_datetime()` <br>\n",
    "\n",
    ">**Expected Result** :<br>\n",
    "Example of the first 5 rows of data:\n",
    "\n",
    "ObservationDate\t|SNo\t|ObservationDate\t|Province/State\t|Country/Region\t|Last Update\t|Confirmed\t|Deaths\t|Recovered\n",
    " ---|---\t|---\t            |---\t        |---\t        |---\t        |---\t    |---\t|---\n",
    "01/23/2020\t|79\t    |01/23/2020\t|NaN\t|Malaysia\t|1/23/20 |17:00\t|0.0\t|0.0\t|0.0\n",
    "01/25/2020\t|169\t|01/25/2020\t|NaN\t|Malaysia\t|1/25/20 |17:00\t|3.0\t|0.0\t|0.0\n",
    "01/26/2020\t|215\t|01/26/2020\t|NaN\t|Malaysia\t|1/26/20 |16:00\t|4.0\t|0.0\t|0.0\n",
    "01/27/2020\t|261\t|01/27/2020\t|NaN\t|Malaysia\t|1/27/20 |23:59\t|4.0\t|0.0\t|0.0\n",
    "01/28/2020\t|312\t|01/28/2020\t|NaN\t|Malaysia\t|1/28/20 |23:00\t|4.0\t|0.0\t|0.0"
   ]
  },
  {
   "cell_type": "code",
   "execution_count": 35,
   "metadata": {},
   "outputs": [
    {
     "data": {
      "text/html": [
       "<div>\n",
       "<style scoped>\n",
       "    .dataframe tbody tr th:only-of-type {\n",
       "        vertical-align: middle;\n",
       "    }\n",
       "\n",
       "    .dataframe tbody tr th {\n",
       "        vertical-align: top;\n",
       "    }\n",
       "\n",
       "    .dataframe thead th {\n",
       "        text-align: right;\n",
       "    }\n",
       "</style>\n",
       "<table border=\"1\" class=\"dataframe\">\n",
       "  <thead>\n",
       "    <tr style=\"text-align: right;\">\n",
       "      <th></th>\n",
       "      <th>SNo</th>\n",
       "      <th>ObservationDate</th>\n",
       "      <th>Province/State</th>\n",
       "      <th>Country/Region</th>\n",
       "      <th>Last Update</th>\n",
       "      <th>Confirmed</th>\n",
       "      <th>Deaths</th>\n",
       "      <th>Recovered</th>\n",
       "    </tr>\n",
       "    <tr>\n",
       "      <th>ObservationDate</th>\n",
       "      <th></th>\n",
       "      <th></th>\n",
       "      <th></th>\n",
       "      <th></th>\n",
       "      <th></th>\n",
       "      <th></th>\n",
       "      <th></th>\n",
       "      <th></th>\n",
       "    </tr>\n",
       "  </thead>\n",
       "  <tbody>\n",
       "    <tr>\n",
       "      <th>2020-01-23</th>\n",
       "      <td>79</td>\n",
       "      <td>01/23/2020</td>\n",
       "      <td>NaN</td>\n",
       "      <td>Malaysia</td>\n",
       "      <td>1/23/20 17:00</td>\n",
       "      <td>0.0</td>\n",
       "      <td>0.0</td>\n",
       "      <td>0.0</td>\n",
       "    </tr>\n",
       "    <tr>\n",
       "      <th>2020-01-25</th>\n",
       "      <td>169</td>\n",
       "      <td>01/25/2020</td>\n",
       "      <td>NaN</td>\n",
       "      <td>Malaysia</td>\n",
       "      <td>1/25/20 17:00</td>\n",
       "      <td>3.0</td>\n",
       "      <td>0.0</td>\n",
       "      <td>0.0</td>\n",
       "    </tr>\n",
       "    <tr>\n",
       "      <th>2020-01-26</th>\n",
       "      <td>215</td>\n",
       "      <td>01/26/2020</td>\n",
       "      <td>NaN</td>\n",
       "      <td>Malaysia</td>\n",
       "      <td>1/26/20 16:00</td>\n",
       "      <td>4.0</td>\n",
       "      <td>0.0</td>\n",
       "      <td>0.0</td>\n",
       "    </tr>\n",
       "    <tr>\n",
       "      <th>2020-01-27</th>\n",
       "      <td>261</td>\n",
       "      <td>01/27/2020</td>\n",
       "      <td>NaN</td>\n",
       "      <td>Malaysia</td>\n",
       "      <td>1/27/20 23:59</td>\n",
       "      <td>4.0</td>\n",
       "      <td>0.0</td>\n",
       "      <td>0.0</td>\n",
       "    </tr>\n",
       "    <tr>\n",
       "      <th>2020-01-28</th>\n",
       "      <td>312</td>\n",
       "      <td>01/28/2020</td>\n",
       "      <td>NaN</td>\n",
       "      <td>Malaysia</td>\n",
       "      <td>1/28/20 23:00</td>\n",
       "      <td>4.0</td>\n",
       "      <td>0.0</td>\n",
       "      <td>0.0</td>\n",
       "    </tr>\n",
       "  </tbody>\n",
       "</table>\n",
       "</div>"
      ],
      "text/plain": [
       "                 SNo ObservationDate Province/State Country/Region  \\\n",
       "ObservationDate                                                      \n",
       "2020-01-23        79      01/23/2020            NaN       Malaysia   \n",
       "2020-01-25       169      01/25/2020            NaN       Malaysia   \n",
       "2020-01-26       215      01/26/2020            NaN       Malaysia   \n",
       "2020-01-27       261      01/27/2020            NaN       Malaysia   \n",
       "2020-01-28       312      01/28/2020            NaN       Malaysia   \n",
       "\n",
       "                   Last Update  Confirmed  Deaths  Recovered  \n",
       "ObservationDate                                               \n",
       "2020-01-23       1/23/20 17:00        0.0     0.0        0.0  \n",
       "2020-01-25       1/25/20 17:00        3.0     0.0        0.0  \n",
       "2020-01-26       1/26/20 16:00        4.0     0.0        0.0  \n",
       "2020-01-27       1/27/20 23:59        4.0     0.0        0.0  \n",
       "2020-01-28       1/28/20 23:00        4.0     0.0        0.0  "
      ]
     },
     "execution_count": 35,
     "metadata": {},
     "output_type": "execute_result"
    }
   ],
   "source": [
    "### BEGIN SOLUTION\n",
    "new_covid_data = new_covid_data.set_index(pd.to_datetime(new_covid_data[\"ObservationDate\"]))\n",
    "### END SOLUTION\n",
    "\n",
    "new_covid_data.head()"
   ]
  },
  {
   "cell_type": "markdown",
   "metadata": {},
   "source": [
    "Columns such as `SNo`,`ObservationDate`,`Province/State`,`Country/Region`,`Last Update` does not provide any useful information to us. Hence we need to drop it to make the data look cleaner. \n",
    "\n",
    ">**Instruction** : <br>\n",
    "Use `df.drop` to drop the `columns = ['SNo','ObservationDate','Province/State','Country/Region','Last Update']`<br>\n",
    "\n",
    ">**Expected Result** :<br>\n",
    "\n",
    "ObservationDate\t|Confirmed\t|Deaths\t|Recovered\n",
    "\t---|---|---|---\t\t\n",
    "2020-01-23|\t0.0|\t0.0|\t0.0\n",
    "2020-01-25|\t3.0|\t0.0|\t0.0\n",
    "2020-01-26|\t4.0|\t0.0|\t0.0\n",
    "2020-01-27|\t4.0|\t0.0|\t0.0\n",
    "2020-01-28|\t4.0|    0.0|\t0.0"
   ]
  },
  {
   "cell_type": "code",
   "execution_count": 36,
   "metadata": {},
   "outputs": [
    {
     "data": {
      "text/html": [
       "<div>\n",
       "<style scoped>\n",
       "    .dataframe tbody tr th:only-of-type {\n",
       "        vertical-align: middle;\n",
       "    }\n",
       "\n",
       "    .dataframe tbody tr th {\n",
       "        vertical-align: top;\n",
       "    }\n",
       "\n",
       "    .dataframe thead th {\n",
       "        text-align: right;\n",
       "    }\n",
       "</style>\n",
       "<table border=\"1\" class=\"dataframe\">\n",
       "  <thead>\n",
       "    <tr style=\"text-align: right;\">\n",
       "      <th></th>\n",
       "      <th>Confirmed</th>\n",
       "      <th>Deaths</th>\n",
       "      <th>Recovered</th>\n",
       "    </tr>\n",
       "    <tr>\n",
       "      <th>ObservationDate</th>\n",
       "      <th></th>\n",
       "      <th></th>\n",
       "      <th></th>\n",
       "    </tr>\n",
       "  </thead>\n",
       "  <tbody>\n",
       "    <tr>\n",
       "      <th>2020-01-23</th>\n",
       "      <td>0.0</td>\n",
       "      <td>0.0</td>\n",
       "      <td>0.0</td>\n",
       "    </tr>\n",
       "    <tr>\n",
       "      <th>2020-01-25</th>\n",
       "      <td>3.0</td>\n",
       "      <td>0.0</td>\n",
       "      <td>0.0</td>\n",
       "    </tr>\n",
       "    <tr>\n",
       "      <th>2020-01-26</th>\n",
       "      <td>4.0</td>\n",
       "      <td>0.0</td>\n",
       "      <td>0.0</td>\n",
       "    </tr>\n",
       "    <tr>\n",
       "      <th>2020-01-27</th>\n",
       "      <td>4.0</td>\n",
       "      <td>0.0</td>\n",
       "      <td>0.0</td>\n",
       "    </tr>\n",
       "    <tr>\n",
       "      <th>2020-01-28</th>\n",
       "      <td>4.0</td>\n",
       "      <td>0.0</td>\n",
       "      <td>0.0</td>\n",
       "    </tr>\n",
       "  </tbody>\n",
       "</table>\n",
       "</div>"
      ],
      "text/plain": [
       "                 Confirmed  Deaths  Recovered\n",
       "ObservationDate                              \n",
       "2020-01-23             0.0     0.0        0.0\n",
       "2020-01-25             3.0     0.0        0.0\n",
       "2020-01-26             4.0     0.0        0.0\n",
       "2020-01-27             4.0     0.0        0.0\n",
       "2020-01-28             4.0     0.0        0.0"
      ]
     },
     "execution_count": 36,
     "metadata": {},
     "output_type": "execute_result"
    }
   ],
   "source": [
    "### BEGIN SOLUTION\n",
    "new_covid_data = new_covid_data.drop(columns = ['SNo','ObservationDate','Province/State','Country/Region','Last Update'])\n",
    "### END SOLUTION\n",
    "new_covid_data.head()\n"
   ]
  },
  {
   "cell_type": "markdown",
   "metadata": {},
   "source": [
    "To make the sliding window function to work, you need to rearrange the data columns such a way that the targeted forecast series will be the last column of the data.\n",
    ">**Instruction** : <br>\n",
    "Rearrage the data column using `df[]`<br>\n",
    "For example : <br>\n",
    "columns = [`A`,`B`,`C`]<br>\n",
    "rearrage columns = [`A`,`C`,`B`]<br>\n",
    "`df =  df[rearrage columns]`\n",
    "\n",
    ">**Expected Result** :<br>\n",
    "\n",
    "ObservationDate|\tConfirmed|\tRecovered|\tDeaths\n",
    "\t\t---|---|---|---\t\n",
    "2020-01-23|\t0.0|\t0.0|\t0.0\n",
    "2020-01-25|\t3.0|\t0.0|\t0.0\n",
    "2020-01-26|\t4.0|\t0.0|\t0.0\n",
    "2020-01-27|\t4.0|\t0.0|\t0.0\n",
    "2020-01-28|\t4.0|\t0.0|\t0.0"
   ]
  },
  {
   "cell_type": "code",
   "execution_count": 37,
   "metadata": {},
   "outputs": [
    {
     "data": {
      "text/html": [
       "<div>\n",
       "<style scoped>\n",
       "    .dataframe tbody tr th:only-of-type {\n",
       "        vertical-align: middle;\n",
       "    }\n",
       "\n",
       "    .dataframe tbody tr th {\n",
       "        vertical-align: top;\n",
       "    }\n",
       "\n",
       "    .dataframe thead th {\n",
       "        text-align: right;\n",
       "    }\n",
       "</style>\n",
       "<table border=\"1\" class=\"dataframe\">\n",
       "  <thead>\n",
       "    <tr style=\"text-align: right;\">\n",
       "      <th></th>\n",
       "      <th>Confirmed</th>\n",
       "      <th>Recovered</th>\n",
       "      <th>Deaths</th>\n",
       "    </tr>\n",
       "    <tr>\n",
       "      <th>ObservationDate</th>\n",
       "      <th></th>\n",
       "      <th></th>\n",
       "      <th></th>\n",
       "    </tr>\n",
       "  </thead>\n",
       "  <tbody>\n",
       "    <tr>\n",
       "      <th>2020-01-23</th>\n",
       "      <td>0.0</td>\n",
       "      <td>0.0</td>\n",
       "      <td>0.0</td>\n",
       "    </tr>\n",
       "    <tr>\n",
       "      <th>2020-01-25</th>\n",
       "      <td>3.0</td>\n",
       "      <td>0.0</td>\n",
       "      <td>0.0</td>\n",
       "    </tr>\n",
       "    <tr>\n",
       "      <th>2020-01-26</th>\n",
       "      <td>4.0</td>\n",
       "      <td>0.0</td>\n",
       "      <td>0.0</td>\n",
       "    </tr>\n",
       "    <tr>\n",
       "      <th>2020-01-27</th>\n",
       "      <td>4.0</td>\n",
       "      <td>0.0</td>\n",
       "      <td>0.0</td>\n",
       "    </tr>\n",
       "    <tr>\n",
       "      <th>2020-01-28</th>\n",
       "      <td>4.0</td>\n",
       "      <td>0.0</td>\n",
       "      <td>0.0</td>\n",
       "    </tr>\n",
       "  </tbody>\n",
       "</table>\n",
       "</div>"
      ],
      "text/plain": [
       "                 Confirmed  Recovered  Deaths\n",
       "ObservationDate                              \n",
       "2020-01-23             0.0        0.0     0.0\n",
       "2020-01-25             3.0        0.0     0.0\n",
       "2020-01-26             4.0        0.0     0.0\n",
       "2020-01-27             4.0        0.0     0.0\n",
       "2020-01-28             4.0        0.0     0.0"
      ]
     },
     "execution_count": 37,
     "metadata": {},
     "output_type": "execute_result"
    }
   ],
   "source": [
    "### BEGIN SOLUTION\n",
    "new_covid_data = new_covid_data[[\"Confirmed\",\"Recovered\",\"Deaths\"]]\n",
    "### END SOLUTION\n",
    "new_covid_data.head()"
   ]
  },
  {
   "cell_type": "markdown",
   "metadata": {},
   "source": [
    "## Data Visualization\n",
    "Data visualization is vital for us to visualize the pattern of data such as trend and seasonality. The plot below shows that there is an increasing trend in data."
   ]
  },
  {
   "cell_type": "code",
   "execution_count": 38,
   "metadata": {},
   "outputs": [
    {
     "data": {
      "image/png": "[encoded data removed]",
      "text/plain": [
       "<Figure size 792x648 with 3 Axes>"
      ]
     },
     "metadata": {
      "needs_background": "light"
     },
     "output_type": "display_data"
    }
   ],
   "source": [
    "# Visualize Data \n",
    "axes = new_covid_data[new_covid_data.columns].plot(alpha=1.0, linestyle='-', figsize=(11, 9), subplots=True)\n",
    "for ax in axes:\n",
    "    ax.set_ylabel('COVID-19-Malaysia')"
   ]
  },
  {
   "cell_type": "markdown",
   "metadata": {},
   "source": [
    "However, the data is in a cumulative form. To perform time-series prediction, we need to convert the cumulative cases into daily cases.\n",
    "\n",
    ">**Instruction** : <br>\n",
    "Remove the cumulative counts. You might need to use a `For loop` to loop through the data for each columns. Use `new_covid_data[name] - new_covid_data[name].shift().fillna(0)` as the math operation to remove the cummulative<br>\n",
    "\n",
    ">**Expected Result** :<br>\n",
    "\n",
    "ObservationDate|\tConfirmed|\tRecovered|\tDeaths|\n",
    "\t---|\t---|---|---\t\n",
    "2020-01-23|\t0.0|\t0.0|\t0.0|\n",
    "2020-01-25|\t3.0|\t0.0|\t0.0|\n",
    "2020-01-26|\t1.0|\t0.0|\t0.0|\n",
    "2020-01-27|\t0.0|\t0.0|\t0.0|\n",
    "2020-01-28|\t0.0|\t0.0|\t0.0|"
   ]
  },
  {
   "cell_type": "code",
   "execution_count": 39,
   "metadata": {},
   "outputs": [
    {
     "data": {
      "text/html": [
       "<div>\n",
       "<style scoped>\n",
       "    .dataframe tbody tr th:only-of-type {\n",
       "        vertical-align: middle;\n",
       "    }\n",
       "\n",
       "    .dataframe tbody tr th {\n",
       "        vertical-align: top;\n",
       "    }\n",
       "\n",
       "    .dataframe thead th {\n",
       "        text-align: right;\n",
       "    }\n",
       "</style>\n",
       "<table border=\"1\" class=\"dataframe\">\n",
       "  <thead>\n",
       "    <tr style=\"text-align: right;\">\n",
       "      <th></th>\n",
       "      <th>Confirmed</th>\n",
       "      <th>Recovered</th>\n",
       "      <th>Deaths</th>\n",
       "    </tr>\n",
       "    <tr>\n",
       "      <th>ObservationDate</th>\n",
       "      <th></th>\n",
       "      <th></th>\n",
       "      <th></th>\n",
       "    </tr>\n",
       "  </thead>\n",
       "  <tbody>\n",
       "    <tr>\n",
       "      <th>2020-01-23</th>\n",
       "      <td>0.0</td>\n",
       "      <td>0.0</td>\n",
       "      <td>0.0</td>\n",
       "    </tr>\n",
       "    <tr>\n",
       "      <th>2020-01-25</th>\n",
       "      <td>3.0</td>\n",
       "      <td>0.0</td>\n",
       "      <td>0.0</td>\n",
       "    </tr>\n",
       "    <tr>\n",
       "      <th>2020-01-26</th>\n",
       "      <td>1.0</td>\n",
       "      <td>0.0</td>\n",
       "      <td>0.0</td>\n",
       "    </tr>\n",
       "    <tr>\n",
       "      <th>2020-01-27</th>\n",
       "      <td>0.0</td>\n",
       "      <td>0.0</td>\n",
       "      <td>0.0</td>\n",
       "    </tr>\n",
       "    <tr>\n",
       "      <th>2020-01-28</th>\n",
       "      <td>0.0</td>\n",
       "      <td>0.0</td>\n",
       "      <td>0.0</td>\n",
       "    </tr>\n",
       "  </tbody>\n",
       "</table>\n",
       "</div>"
      ],
      "text/plain": [
       "                 Confirmed  Recovered  Deaths\n",
       "ObservationDate                              \n",
       "2020-01-23             0.0        0.0     0.0\n",
       "2020-01-25             3.0        0.0     0.0\n",
       "2020-01-26             1.0        0.0     0.0\n",
       "2020-01-27             0.0        0.0     0.0\n",
       "2020-01-28             0.0        0.0     0.0"
      ]
     },
     "execution_count": 39,
     "metadata": {},
     "output_type": "execute_result"
    }
   ],
   "source": [
    "### BEGIN SOLUTION\n",
    "for name in new_covid_data.columns:\n",
    "        new_covid_data[name] = new_covid_data[name] - new_covid_data[name].shift().fillna(0)\n",
    "### END SOLUTION\n",
    "new_covid_data.head()  "
   ]
  },
  {
   "cell_type": "code",
   "execution_count": 40,
   "metadata": {},
   "outputs": [
    {
     "data": {
      "image/png": "[encoded data removed]",
      "text/plain": [
       "<Figure size 792x648 with 3 Axes>"
      ]
     },
     "metadata": {
      "needs_background": "light"
     },
     "output_type": "display_data"
    }
   ],
   "source": [
    "# Visualize Data \n",
    "axes = new_covid_data[new_covid_data.columns].plot(alpha=1.0, linestyle='-', figsize=(11, 9), subplots=True)\n",
    "for ax in axes:\n",
    "    ax.set_ylabel('COVID-19-Malaysia')"
   ]
  },
  {
   "cell_type": "markdown",
   "metadata": {},
   "source": [
    "## Data Splitting\n",
    "In Deep Learning, we often split data into training and test dataset. The training data is used to train the model whereas the test data is used to validate the performance of the model."
   ]
  },
  {
   "cell_type": "code",
   "execution_count": 41,
   "metadata": {},
   "outputs": [
    {
     "data": {
      "text/plain": [
       "21"
      ]
     },
     "execution_count": 41,
     "metadata": {},
     "output_type": "execute_result"
    }
   ],
   "source": [
    "split_data_covid = round(len(dataset)*split_ratio)\n",
    "split_data_covid"
   ]
  },
  {
   "cell_type": "code",
   "execution_count": 42,
   "metadata": {},
   "outputs": [
    {
     "name": "stdout",
     "output_type": "stream",
     "text": [
      "train_data_shape\n",
      "(380, 3)\n",
      "test_data_shape\n",
      "(21, 3)\n"
     ]
    }
   ],
   "source": [
    "# Split data by indexing \n",
    "train_data_covid = new_covid_data[:-split_data_covid ]\n",
    "test_data_covid = new_covid_data[-split_data_covid :]\n",
    "train_time_covid = new_covid_data.index[:-split_data_covid ]\n",
    "test_time_covid = new_covid_data.index[-split_data_covid :]\n",
    "\n",
    "print(\"train_data_shape\")\n",
    "print(train_data_covid.shape)\n",
    "print(\"test_data_shape\")\n",
    "print(test_data_covid.shape)"
   ]
  },
  {
   "cell_type": "markdown",
   "metadata": {},
   "source": [
    "## Data Normalization \n",
    "Normalize the data into range of 0 to 1"
   ]
  },
  {
   "cell_type": "code",
   "execution_count": 43,
   "metadata": {},
   "outputs": [
    {
     "name": "stdout",
     "output_type": "stream",
     "text": [
      "train_data_normalized_demand(380, 3)\n",
      "test_data_normalized_demand(21, 3)\n"
     ]
    }
   ],
   "source": [
    "scaler_covid,train_data_normalized_covid,test_data_normalized_covid = multi_data_scaler(train_data_covid,\n",
    "                                                                                         test_data_covid,\n",
    "                                                                                         scale_mode = \"Normalize\")\n",
    "print(\"train_data_normalized_demand\"+str(train_data_normalized_covid.shape))\n",
    "print(\"test_data_normalized_demand\"+str(test_data_normalized_covid.shape))"
   ]
  },
  {
   "cell_type": "markdown",
   "metadata": {},
   "source": [
    "## Data Sequencing\n",
    "Sequencing the data by taking in the multivariate series into feature and label\n",
    "<img src = \"../../picture/Multivariate Data Sequencing.png\"  width=\"300\" height  =\"300\" align=\"center\" />"
   ]
  },
  {
   "cell_type": "code",
   "execution_count": 44,
   "metadata": {},
   "outputs": [
    {
     "name": "stdout",
     "output_type": "stream",
     "text": [
      "trainX_demand shape:(371, 10, 2) trainY_demand shape:(371,)\n",
      "\n",
      "testX_demand shape:(12, 10, 2) testY_demand shape:(12,)\n"
     ]
    }
   ],
   "source": [
    "trainX_covid ,trainY_covid=  data_module.multivariate_univariate_single_step(train_data_normalized_covid,window_size_covid)\n",
    "testX_covid , testY_covid = data_module.multivariate_univariate_single_step(test_data_normalized_covid,window_size_covid)\n",
    "print(f\"trainX_demand shape:{trainX_covid.shape} trainY_demand shape:{trainY_covid.shape}\\n\")\n",
    "print(f\"testX_demand shape:{testX_covid.shape} testY_demand shape:{testY_covid.shape}\")"
   ]
  },
  {
   "cell_type": "code",
   "execution_count": 45,
   "metadata": {},
   "outputs": [
    {
     "name": "stdout",
     "output_type": "stream",
     "text": [
      "trainY shape:(371, 1, 1)\n",
      "testY shape:(12, 1, 1)\n"
     ]
    }
   ],
   "source": [
    "trainY_covid = trainY_covid.reshape(trainY_covid.shape[0],1,n_step)\n",
    "testY_covid = testY_covid.reshape(testY_covid.shape[0],1,n_step)\n",
    "print(f\"trainY shape:{trainY_covid.shape}\")\n",
    "print(f\"testY shape:{testY_covid.shape}\")"
   ]
  },
  {
   "cell_type": "markdown",
   "metadata": {},
   "source": [
    "### Data Transform\n",
    "Data need to transformed from numpy to a 3D pytorch tensor before being fed into the LSTM model. \n",
    "\n",
    ">**Instruction** : <br>\n",
    "Use `data_module.key_assign` to assign the key and `data_module.transform` to transform the data."
   ]
  },
  {
   "cell_type": "code",
   "execution_count": 46,
   "metadata": {},
   "outputs": [],
   "source": [
    "### BEGIN SOLUTION\n",
    "train_data_dict_covid ,test_data_dict_covid = data_module.key_assign(trainingX = trainX_covid  , \n",
    "                       testingX = testX_covid, \n",
    "                       trainingY = trainY_covid, \n",
    "                       testingY = testY_covid)\n",
    "train_data_dict_covid ,test_data_dict_covid = data_module.transform(train_data_dict_covid ,test_data_dict_covid)\n",
    "### END SOLUTION"
   ]
  },
  {
   "cell_type": "code",
   "execution_count": 47,
   "metadata": {},
   "outputs": [
    {
     "name": "stdout",
     "output_type": "stream",
     "text": [
      "train_data_x_feature shape : torch.Size([371, 10, 2])\n",
      "train_data_y_label shape : torch.Size([371, 1, 1])\n",
      "test_data_x_feature shape : torch.Size([12, 10, 2])\n",
      "test_data_y_label shape : torch.Size([12, 1, 1])\n"
     ]
    }
   ],
   "source": [
    "data_module.sanity_check(train_data_dict_covid , test_data_dict_covid)"
   ]
  },
  {
   "cell_type": "markdown",
   "metadata": {},
   "source": [
    "## Data Iterator\n",
    "Iterator is created to separate the data into several batches to fasten the training process.\n",
    ">**Instruction** : <br>\n",
    "Use `data_module.iterator` to create data iterator."
   ]
  },
  {
   "cell_type": "code",
   "execution_count": 48,
   "metadata": {},
   "outputs": [],
   "source": [
    "### BEGIN SOLUTION\n",
    "train_iter_covid , test_iter_covid = data_module.iterator(train_data_dict_covid ,\n",
    "                                                          test_data_dict_covid,\n",
    "                                                          batch_size = batch_size_covid)\n",
    "### END SOLUTION"
   ]
  },
  {
   "cell_type": "markdown",
   "metadata": {},
   "source": [
    "## Input Model\n",
    "The model is inputted with the following required attributes: number of input layer, output layer and hidden layer.\n",
    "\n",
    "How to Use :\n",
    "\n",
    "1. Select one of the model base on the application as below and comment others model\n",
    "2. IF use Vanilla LSTM , set num_layer = 1 and use the model = LSTM()\n",
    "3. IF use stacked LSTM , set num_layer more than 1 and use the model = LSTM()\n",
    "4. IF use Bidirectional LSTM, use the model = BidirectionalLSTM()\n",
    "\n",
    ">**Instruction** : <br>\n",
    "Import the LSTM model from `deep_learning_module`.You are require to import both Vanilla LSTM and Bidirectional LSTM and save it as `model` <br>\n",
    "\n",
    "*Feel free to comment out one of the model to use it*"
   ]
  },
  {
   "cell_type": "code",
   "execution_count": 49,
   "metadata": {},
   "outputs": [],
   "source": [
    "#seed\n",
    "torch.manual_seed(123)\n",
    "### BEGIN SOLUTION\n",
    "#Arguments for LSTM model\n",
    "hidden_dim_covid = 32\n",
    "n_feature_covid = trainX_covid.shape[2] \n",
    "\n",
    "#1 for vanila LSTM , >1 is mean stacked LSTM\n",
    "num_layers_covid = 1\n",
    "\n",
    "n_step_covid = 1\n",
    "\n",
    "#Vanilla , Stacked LSTM\n",
    "model_covid = deep_learning_module.LSTM(n_feature = n_feature_covid, \n",
    "                                        hidden_dim = hidden_dim_covid ,\n",
    "                                        num_layers = num_layers_covid , \n",
    "                                        n_step = n_step_covid )\n",
    "\n",
    "#Bidirectional LSTM\n",
    "# model_demand = deep_learning_module.BidirectionalLSTM(n_feature = n_feature_covid, \n",
    "            #                                         hidden_dim = hidden_dim_covid ,\n",
    "            #                                         num_layers = num_layers_covid , \n",
    "            #                                         n_step = n_step_covid)\n",
    "            \n",
    "### END SOLUTION\n"
   ]
  },
  {
   "cell_type": "code",
   "execution_count": 50,
   "metadata": {},
   "outputs": [],
   "source": [
    "#loss function \n",
    "loss_fn_covid = torch.nn.MSELoss()\n",
    "\n",
    "#optimiser\n",
    "optimizer_covid = torch.optim.Adam(model_covid.parameters(), lr=learning_rate_covid)"
   ]
  },
  {
   "cell_type": "code",
   "execution_count": 51,
   "metadata": {},
   "outputs": [
    {
     "name": "stdout",
     "output_type": "stream",
     "text": [
      "====================================================\n",
      "       Kernel Shape  Output Shape  Params  Mult-Adds\n",
      "Layer                                               \n",
      "0_lstm            -  [20, 10, 32]    4608       4352\n",
      "1_fc        [32, 1]       [20, 1]      33         32\n",
      "----------------------------------------------------\n",
      "                      Totals\n",
      "Total params            4641\n",
      "Trainable params        4641\n",
      "Non-trainable params       0\n",
      "Mult-Adds               4384\n",
      "====================================================\n",
      "       Kernel Shape  Output Shape  Params  Mult-Adds\n",
      "Layer                                               \n",
      "0_lstm            -  [20, 10, 32]    4608       4352\n",
      "1_fc        [32, 1]       [20, 1]      33         32\n"
     ]
    }
   ],
   "source": [
    "# print the summary of the LSTM model\n",
    "inputs = torch.zeros((batch_size_covid,window_size_covid,trainX_covid.shape[2]),dtype=torch.float) # batch size , seq_length , input_dim\n",
    "print(summary(model_covid,inputs))"
   ]
  },
  {
   "cell_type": "markdown",
   "metadata": {},
   "source": [
    "# Step 3 : Training\n",
    ">**Instruction** : <br>\n",
    "Use `deep_learning_module.training` to train the model."
   ]
  },
  {
   "cell_type": "code",
   "execution_count": 52,
   "metadata": {},
   "outputs": [],
   "source": [
    "#seed\n",
    "torch.manual_seed(123)\n",
    "### BEGIN SOLUTION\n",
    "\n",
    "# Start training \n",
    "train_loss_covid,val_loss_covid = deep_learning_module.training(num_epochs= num_epochs_covid ,\n",
    "                                                    train_iter = train_iter_covid,\n",
    "                                                    test_iter = test_iter_covid ,\n",
    "                                                    optimizer = optimizer_covid,\n",
    "                                                    loss_fn = loss_fn_covid,\n",
    "                                                    model = model_covid)\n",
    "### END SOLUTION"
   ]
  },
  {
   "cell_type": "markdown",
   "metadata": {},
   "source": [
    ">**Instruction** : <br>\n",
    "Use `data_module.learning_curve` to plot a Learning Curve."
   ]
  },
  {
   "cell_type": "code",
   "execution_count": 53,
   "metadata": {},
   "outputs": [
    {
     "data": {
      "image/png": "[encoded data removed]",
      "text/plain": [
       "<Figure size 720x432 with 1 Axes>"
      ]
     },
     "metadata": {
      "needs_background": "light"
     },
     "output_type": "display_data"
    },
    {
     "name": "stdout",
     "output_type": "stream",
     "text": [
      "Epoch : 0 , training loss : 0.03187710095970136 , validation loss : 0.10566601157188416\n",
      "Epoch : 1 , training loss : 0.02067573887931128 , validation loss : 0.11504349857568741\n",
      "Epoch : 2 , training loss : 0.014211062099841094 , validation loss : 0.18080003559589386\n",
      "Epoch : 3 , training loss : 0.012440143677254139 , validation loss : 0.2058461308479309\n",
      "Epoch : 4 , training loss : 0.011614522102352915 , validation loss : 0.20292337238788605\n",
      "Epoch : 5 , training loss : 0.010906383423592816 , validation loss : 0.20903320610523224\n",
      "Epoch : 6 , training loss : 0.01037084217098726 , validation loss : 0.22423167526721954\n",
      "Epoch : 7 , training loss : 0.010189109599012085 , validation loss : 0.21722210943698883\n",
      "Epoch : 8 , training loss : 0.009757851944901984 , validation loss : 0.21941985189914703\n",
      "Epoch : 9 , training loss : 0.009657341464908388 , validation loss : 0.2136705368757248\n",
      "Epoch : 10 , training loss : 0.009354955781808323 , validation loss : 0.2142292708158493\n",
      "Epoch : 11 , training loss : 0.009264010875048887 , validation loss : 0.20834362506866455\n",
      "Epoch : 12 , training loss : 0.009078701599282991 , validation loss : 0.2059796303510666\n",
      "Epoch : 13 , training loss : 0.008861659884730836 , validation loss : 0.19876480102539062\n",
      "Epoch : 14 , training loss : 0.008820384536553526 , validation loss : 0.19625462591648102\n",
      "Epoch : 15 , training loss : 0.008482856812715565 , validation loss : 0.18446291983127594\n",
      "Epoch : 16 , training loss : 0.008354353497945138 , validation loss : 0.18203698098659515\n",
      "Epoch : 17 , training loss : 0.008094595063972284 , validation loss : 0.17074881494045258\n",
      "Epoch : 18 , training loss : 0.008079551602619627 , validation loss : 0.17820174992084503\n",
      "Epoch : 19 , training loss : 0.008198804210594069 , validation loss : 0.16311077773571014\n",
      "Epoch : 20 , training loss : 0.008260711211112775 , validation loss : 0.17016585171222687\n",
      "Epoch : 21 , training loss : 0.008606382750471767 , validation loss : 0.15262605249881744\n",
      "Epoch : 22 , training loss : 0.009346811405410977 , validation loss : 0.165890634059906\n",
      "Epoch : 23 , training loss : 0.010564792169680984 , validation loss : 0.1419379711151123\n",
      "Epoch : 24 , training loss : 0.01287279939128342 , validation loss : 0.1491134613752365\n",
      "Epoch : 25 , training loss : 0.013306655610705704 , validation loss : 0.14333957433700562\n",
      "Epoch : 26 , training loss : 0.015601685720638967 , validation loss : 0.14909695088863373\n",
      "Epoch : 27 , training loss : 0.013227767449730851 , validation loss : 0.14416289329528809\n",
      "Epoch : 28 , training loss : 0.014633223159625283 , validation loss : 0.13189537823200226\n",
      "Epoch : 29 , training loss : 0.011689891644698705 , validation loss : 0.14801208674907684\n",
      "Epoch : 30 , training loss : 0.014035837399171455 , validation loss : 0.13040028512477875\n",
      "Epoch : 31 , training loss : 0.010277157280624715 , validation loss : 0.15440969169139862\n",
      "Epoch : 32 , training loss : 0.010803673300745262 , validation loss : 0.13331986963748932\n",
      "Epoch : 33 , training loss : 0.008688761712244378 , validation loss : 0.15112005174160004\n",
      "Epoch : 34 , training loss : 0.00889476759327391 , validation loss : 0.136676624417305\n",
      "Epoch : 35 , training loss : 0.007980055338185346 , validation loss : 0.14562387764453888\n",
      "Epoch : 36 , training loss : 0.008233824032090536 , validation loss : 0.1378115862607956\n",
      "Epoch : 37 , training loss : 0.00775934214566025 , validation loss : 0.14241071045398712\n",
      "Epoch : 38 , training loss : 0.008157920146551149 , validation loss : 0.13878393173217773\n",
      "Epoch : 39 , training loss : 0.007808149072841211 , validation loss : 0.13934537768363953\n",
      "Epoch : 40 , training loss : 0.008419512730277573 , validation loss : 0.13613903522491455\n",
      "Epoch : 41 , training loss : 0.00815778570392156 , validation loss : 0.13564792275428772\n",
      "Epoch : 42 , training loss : 0.009232006376989517 , validation loss : 0.13238279521465302\n",
      "Epoch : 43 , training loss : 0.008914882263090078 , validation loss : 0.1317695826292038\n",
      "Epoch : 44 , training loss : 0.010510933267440887 , validation loss : 0.12495989352464676\n",
      "Epoch : 45 , training loss : 0.009687915421761742 , validation loss : 0.1304924190044403\n",
      "Epoch : 46 , training loss : 0.011442435555777581 , validation loss : 0.1210428848862648\n",
      "Epoch : 47 , training loss : 0.009844422322467931 , validation loss : 0.1323181539773941\n",
      "Epoch : 48 , training loss : 0.011049654704896416 , validation loss : 0.12011919170618057\n",
      "Epoch : 49 , training loss : 0.00926731421522852 , validation loss : 0.13393287360668182\n",
      "Epoch : 50 , training loss : 0.010019845782491727 , validation loss : 0.12199141830205917\n",
      "Epoch : 51 , training loss : 0.008533054189421446 , validation loss : 0.13338355720043182\n",
      "Epoch : 52 , training loss : 0.00893120011179821 , validation loss : 0.12177982181310654\n",
      "Epoch : 53 , training loss : 0.008014773869748472 , validation loss : 0.13067156076431274\n",
      "Epoch : 54 , training loss : 0.008531938572138086 , validation loss : 0.12384087592363358\n",
      "Epoch : 55 , training loss : 0.007871282900930601 , validation loss : 0.12783218920230865\n",
      "Epoch : 56 , training loss : 0.008486975310903765 , validation loss : 0.12141215801239014\n",
      "Epoch : 57 , training loss : 0.007941244182499252 , validation loss : 0.12498331815004349\n",
      "Epoch : 58 , training loss : 0.008711894502489253 , validation loss : 0.12006755918264389\n",
      "Epoch : 59 , training loss : 0.008184348002870896 , validation loss : 0.12385313957929611\n",
      "Epoch : 60 , training loss : 0.009152672266885086 , validation loss : 0.11824806779623032\n",
      "Epoch : 61 , training loss : 0.00849482418733913 , validation loss : 0.12349716573953629\n",
      "Epoch : 62 , training loss : 0.009540743711956769 , validation loss : 0.11630221456289291\n",
      "Epoch : 63 , training loss : 0.008697483456566348 , validation loss : 0.1227891817688942\n",
      "Epoch : 64 , training loss : 0.009731664640968288 , validation loss : 0.11397986859083176\n",
      "Epoch : 65 , training loss : 0.008675303661559126 , validation loss : 0.12309662252664566\n",
      "Epoch : 66 , training loss : 0.00952259691543827 , validation loss : 0.11357486248016357\n",
      "Epoch : 67 , training loss : 0.008438661764864198 , validation loss : 0.12279653549194336\n",
      "Epoch : 68 , training loss : 0.00915312366494206 , validation loss : 0.113142229616642\n",
      "Epoch : 69 , training loss : 0.008158680113322558 , validation loss : 0.1221269741654396\n",
      "Epoch : 70 , training loss : 0.008773092299573014 , validation loss : 0.11328166723251343\n",
      "Epoch : 71 , training loss : 0.007943286364294632 , validation loss : 0.12072524428367615\n",
      "Epoch : 72 , training loss : 0.008587206750568455 , validation loss : 0.11293812841176987\n",
      "Epoch : 73 , training loss : 0.007861895518826689 , validation loss : 0.11948636174201965\n",
      "Epoch : 74 , training loss : 0.008511071793284428 , validation loss : 0.11221804469823837\n",
      "Epoch : 75 , training loss : 0.007865223258920374 , validation loss : 0.11824444681406021\n",
      "Epoch : 76 , training loss : 0.0086233011467917 , validation loss : 0.11160630732774734\n",
      "Epoch : 77 , training loss : 0.007963834270545296 , validation loss : 0.11765193194150925\n",
      "Epoch : 78 , training loss : 0.008708621098658678 , validation loss : 0.1101786270737648\n",
      "Epoch : 79 , training loss : 0.008035967276930386 , validation loss : 0.11700122803449631\n",
      "Epoch : 80 , training loss : 0.008886953164237198 , validation loss : 0.10971620678901672\n",
      "Epoch : 81 , training loss : 0.008117267351331298 , validation loss : 0.11699514836072922\n",
      "Epoch : 82 , training loss : 0.008824171362861469 , validation loss : 0.107968270778656\n",
      "Epoch : 83 , training loss : 0.008040958562751478 , validation loss : 0.11636439710855484\n",
      "Epoch : 84 , training loss : 0.008833018920573876 , validation loss : 0.1082674190402031\n",
      "Epoch : 85 , training loss : 0.007997738133099732 , validation loss : 0.11649549007415771\n",
      "Epoch : 86 , training loss : 0.008581643420644356 , validation loss : 0.10664839297533035\n",
      "Epoch : 87 , training loss : 0.007805846120954763 , validation loss : 0.11641300469636917\n",
      "Epoch : 88 , training loss : 0.008498653163568612 , validation loss : 0.10794031620025635\n",
      "Epoch : 89 , training loss : 0.00775473546539951 , validation loss : 0.11604637652635574\n",
      "Epoch : 90 , training loss : 0.00828943660748229 , validation loss : 0.10610371083021164\n",
      "Epoch : 91 , training loss : 0.007622822545147331 , validation loss : 0.11490761488676071\n",
      "Epoch : 92 , training loss : 0.008312929236371513 , validation loss : 0.10681391507387161\n",
      "Epoch : 93 , training loss : 0.007662582079738892 , validation loss : 0.11450830847024918\n",
      "Epoch : 94 , training loss : 0.008235690579310341 , validation loss : 0.10490253567695618\n",
      "Epoch : 95 , training loss : 0.007616447072108703 , validation loss : 0.11356598883867264\n",
      "Epoch : 96 , training loss : 0.008352261116964155 , validation loss : 0.10527495294809341\n",
      "Epoch : 97 , training loss : 0.007704907318299782 , validation loss : 0.11330953985452652\n",
      "Epoch : 98 , training loss : 0.008308441444856146 , validation loss : 0.10319721698760986\n",
      "Epoch : 99 , training loss : 0.007650722354197701 , validation loss : 0.11255881935358047\n"
     ]
    }
   ],
   "source": [
    "# Plot Learning Curve \n",
    "### BEGIN SOLUTION\n",
    "data_module.learning_curve(num_epochs = num_epochs_covid,\n",
    "                           train_loss = train_loss_covid ,\n",
    "                           val_loss = val_loss_covid)\n",
    "\n",
    "### END SOLUTION"
   ]
  },
  {
   "cell_type": "code",
   "execution_count": 54,
   "metadata": {},
   "outputs": [
    {
     "data": {
      "image/png": "[encoded data removed]",
      "text/plain": [
       "<Figure size 720x432 with 1 Axes>"
      ]
     },
     "metadata": {
      "needs_background": "light"
     },
     "output_type": "display_data"
    }
   ],
   "source": [
    "data_module.zoom_learning_curve(start_epoch = 280,\n",
    "                                end_epoch = num_epochs_covid ,\n",
    "                                training_loss = train_loss_covid,\n",
    "                                validation_loss = val_loss_covid)\n",
    " "
   ]
  },
  {
   "cell_type": "markdown",
   "metadata": {},
   "source": [
    "# Step 5 : Evaluation\n",
    "This section is to inference the model by feeding in testing data, determining the output forecast value and calculating the RMSE. For this exercise, use the function in `data_module` to run in each section.\n",
    "\n",
    "It consists of 4 sections :\n",
    "\n",
    "Section 1 : Feed in the train and test data to the model <br>\n",
    "Section 2 : Reshape both to the original data dimension <br> \n",
    "Section 3 : Invert the scaling back to the original data value <br>\n",
    "Section 4 : Calculate the RMSE of train and test data\n",
    "\n",
    ">**Instruction** : <br>\n",
    "Complete each sections with the function in `data_module`"
   ]
  },
  {
   "cell_type": "code",
   "execution_count": 55,
   "metadata": {},
   "outputs": [],
   "source": [
    "# Section 1 : Make predictions\n",
    "\n",
    "### BEGIN SOLUTION\n",
    "with torch.no_grad():\n",
    "    y_train_prediction_covid = model_covid(train_data_dict_covid['train_data_x_feature'])\n",
    "    y_test_prediction_covid = model_covid(test_data_dict_covid['test_data_x_feature'])\n",
    "### END SOLUTION"
   ]
  },
  {
   "cell_type": "code",
   "execution_count": 56,
   "metadata": {},
   "outputs": [],
   "source": [
    "# Assign evaluation key\n",
    "### BEGIN SOLUTION\n",
    "prediction_covid , output_covid = data_module.key_assign_evaluation(y_train_prediction_covid,\n",
    "                                                                    y_test_prediction_covid,\n",
    "                                                                    train_data_dict_covid,\n",
    "                                                                    test_data_dict_covid)\n",
    "### END SOLUTION\n",
    "\n",
    "### BEGIN SOLUTION\n",
    "# Squeeze the output dimension\n",
    "output_data_covid = data_module.squeeze_dimension(output_covid)\n",
    "### END SOLUTION"
   ]
  },
  {
   "cell_type": "code",
   "execution_count": 57,
   "metadata": {},
   "outputs": [
    {
     "name": "stdout",
     "output_type": "stream",
     "text": [
      "train_data_output shape : torch.Size([371, 1])\n",
      "test_data_output shape : torch.Size([12, 1])\n"
     ]
    }
   ],
   "source": [
    "data_module.sanity_check(data_1 = output_data_covid,data_2 = {})"
   ]
  },
  {
   "cell_type": "code",
   "execution_count": 58,
   "metadata": {},
   "outputs": [],
   "source": [
    "#Invert predictions\n",
    "### BEGIN SOLUTION\n",
    "scaler_covid_output = scaler_covid[list(scaler_covid)[-1]]\n",
    "prediction_covid = data_module.inverse_scaler(prediction_covid,scaler_covid_output)\n",
    "output_data_covid  = data_module.inverse_scaler(output_data_covid ,scaler_covid_output)\n",
    "### END SOLUTION"
   ]
  },
  {
   "cell_type": "markdown",
   "metadata": {},
   "source": [
    "`np.rint` is use to round our data to integer since the death cases should be in the integer form"
   ]
  },
  {
   "cell_type": "code",
   "execution_count": 59,
   "metadata": {},
   "outputs": [],
   "source": [
    "prediction_covid['test_data_prediction'] = np.rint(prediction_covid['test_data_prediction'])\n",
    "output_data_covid['test_data_output'] =  np.rint(output_data_covid['test_data_output']) "
   ]
  },
  {
   "cell_type": "code",
   "execution_count": 60,
   "metadata": {},
   "outputs": [
    {
     "name": "stdout",
     "output_type": "stream",
     "text": [
      "Test Data\t\t\tForecast\n",
      "[8.]\t\t[7.]\n",
      "[22.]\t\t[8.]\n",
      "[25.]\t\t[8.]\n",
      "[13.]\t\t[9.]\n",
      "[8.]\t\t[8.]\n",
      "[5.]\t\t[7.]\n",
      "[6.]\t\t[8.]\n",
      "[14.]\t\t[9.]\n",
      "[12.]\t\t[9.]\n",
      "[12.]\t\t[7.]\n",
      "[11.]\t\t[7.]\n",
      "[10.]\t\t[7.]\n"
     ]
    }
   ],
   "source": [
    "# List the forecast value\n",
    "### BEGIN SOLUTION\n",
    "data_module.list_forecast_value(output_data_covid,prediction_covid) \n",
    "### END SOLUTION"
   ]
  },
  {
   "cell_type": "code",
   "execution_count": 61,
   "metadata": {},
   "outputs": [
    {
     "name": "stdout",
     "output_type": "stream",
     "text": [
      "Train Score: 1.68 RMSE\n",
      "Test Score: 7.04 RMSE\n"
     ]
    }
   ],
   "source": [
    "# calculate root mean squared error\n",
    "### BEGIN SOLUTION\n",
    "trainScore_covid,testScore_covid = data_module.rmse(prediction_covid,output_data_covid)\n",
    "print('Train Score: %.2f RMSE' % (trainScore_covid))\n",
    "print('Test Score: %.2f RMSE' % (testScore_covid))\n",
    "### END SOLUTION"
   ]
  },
  {
   "cell_type": "markdown",
   "metadata": {},
   "source": [
    "# Step 6 : Forecast Plot"
   ]
  },
  {
   "cell_type": "code",
   "execution_count": 62,
   "metadata": {},
   "outputs": [
    {
     "data": {
      "image/png": "[encoded data removed]",
      "text/plain": [
       "<Figure size 720x432 with 1 Axes>"
      ]
     },
     "metadata": {
      "needs_background": "light"
     },
     "output_type": "display_data"
    }
   ],
   "source": [
    "single_step_plot(original_test_data = test_data_covid[\"Deaths\"],\n",
    "                 sequence_test_data = output_data_covid['test_data_output'],\n",
    "                 forecast_data = prediction_covid['test_data_prediction'],\n",
    "                 test_time = test_time_covid,\n",
    "                 window_size = window_size_covid,\n",
    "                 original_plot = True,\n",
    "                 multivariate = True)"
   ]
  },
  {
   "cell_type": "markdown",
   "metadata": {},
   "source": [
    "## Summary\n",
    "From this tutorial you should have learnt:\n",
    "\n",
    "1. The pipeline of using LSTM perform multivariate input univariate output single-step \n",
    "2. How to import function and class from Python module `data_module.py` and `deep_learning_module.py` \n",
    "3. Some basic data exploratory technique\n",
    "\n",
    "Congratulations, that concludes this lesson.<br>\n",
    "\n",
    "Please save the latest `single_step_plot` and `multi_data_scaler` function to the `data_module.py`\n",
    "\n",
    "\n",
    "Please proceed to other notebooks for other types of data in LSTM forecasting <br>\n",
    "1. ~~*[04 - LSTM_Univariate_SingleStep]*~~  *Complete*\n",
    "2. ~~*[04 - LSTM_Univariate_MultiStep.ipynb]*~~ *Complete*\n",
    "3. ~~[04 - LSTM_Multivariate_Univariate_SingleStep]~~ *Complete*\n",
    "4. [04 - LSTM_Multivariate_Univariate_MultiStep](./04%20-%20LSTM_Multivariate_Univariate_MultiStep.ipynb)<br>"
   ]
  },
  {
   "cell_type": "markdown",
   "metadata": {},
   "source": [
    "## Reference\n",
    "1. [Deep Learning for Time Series Forecasting (Predict the Future with MLPs,CNNs and LSTMs in Python) , Jason Brownlee](https://machinelearningmastery.com/deep-learning-for-time-series-forecasting/)"
   ]
  }
 ],
 "metadata": {
  "kernelspec": {
   "display_name": "Python 3",
   "language": "python",
   "name": "python3"
  },
  "language_info": {
   "codemirror_mode": {
    "name": "ipython",
    "version": 3
   },
   "file_extension": ".py",
   "mimetype": "text/x-python",
   "name": "python",
   "nbconvert_exporter": "python",
   "pygments_lexer": "ipython3",
   "version": "3.7.9"
  },
  "varInspector": {
   "cols": {
    "lenName": 16,
    "lenType": 16,
    "lenVar": 40
   },
   "kernels_config": {
    "python": {
     "delete_cmd_postfix": "",
     "delete_cmd_prefix": "del ",
     "library": "var_list.py",
     "varRefreshCmd": "print(var_dic_list())"
    },
    "r": {
     "delete_cmd_postfix": ") ",
     "delete_cmd_prefix": "rm(",
     "library": "var_list.r",
     "varRefreshCmd": "cat(var_dic_list()) "
    }
   },
   "types_to_exclude": [
    "module",
    "function",
    "builtin_function_or_method",
    "instance",
    "_Feature"
   ],
   "window_display": false
  }
 },
 "nbformat": 4,
 "nbformat_minor": 4
}
