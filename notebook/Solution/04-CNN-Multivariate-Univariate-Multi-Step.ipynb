{
 "cells": [
  {
   "cell_type": "markdown",
   "metadata": {
    "deletable": false,
    "editable": false
   },
   "source": [
    "> **Copyright &copy; 2020 CertifAI Sdn. Bhd.**<br>\n",
    " **Copyright &copy; 2021 CertifAI Sdn. Bhd.**<br>\n",
    " <br>\n",
    "This program and the accompanying materials are made available under the\n",
    "terms of the [Apache License, Version 2.0](https://www.apache.org/licenses/LICENSE-2.0). \\\n",
    "Unless required by applicable law or agreed to in writing, software\n",
    "distributed under the License is distributed on an \"AS IS\" BASIS, WITHOUT\n",
    "WARRANTIES OR CONDITIONS OF ANY KIND, either express or implied. See the\n",
    "License for the specific language governing permissions and limitations\n",
    "under the License. <br>\n",
    "<br>**SPDX-License-Identifier: Apache-2.0**> "
   ]
  },
  {
   "cell_type": "markdown",
   "metadata": {},
   "source": [
    "# Requirement\n",
    "You should complete the LSTM tutorial before starting the CNN tutorial. This is because most of the function used will be based on `data_module.py` and `deep_learning_module.py`\n",
    "\n",
    "Please proceed to the LSTM notebook if you dint complete it before  <br>\n",
    "\n",
    "1. [04-LSTM-Univariate-Single-Step](./04-LSTM-Univariate-Single-Step.ipynb)\n",
    "2. [04 - LSTM - Univariate Multi-Step.ipynb](./04-LSTM-Univariate-Multi-Step.ipynb)\n",
    "3. [04-LSTM-Multivariate-Input-Univariate-Output-Single-Step](./04-LSTM-Multivariate-Input-Univariate-Output-Single-Step.ipynb)<br>\n",
    "4. [04-LSTM-Multivariate-Input-Univariate-Output-Multi-Step](./04-LSTM-Multivariate-Input-Univariate-Output-Multi-Step.ipynb)<br>"
   ]
  },
  {
   "cell_type": "markdown",
   "metadata": {},
   "source": [
    "## Multivariate Input ,Univariate Output CNN ,Multi-Step\n",
    "This tutorial is to demonstrate the process to build CNN for Multivariate Input, Univariate Output for Multi-Step. <br>\n",
    "It consists of 2 major part which are :<br>\n",
    "\n",
    "Part 1 - The Demonstration of Building CNN using Synthetic data \n",
    "Part 2 - Exercise of building CNN using COVID-19 Data. \n",
    "\n",
    "## What will we accomplish?\n",
    "First, we will show the step in building the CNN :\n",
    "\n",
    "Step 1. Data Preparation (Data Splitting,Data Sequencing,Data Standardization and Batching the Data) <br>\n",
    "Step 2. Model Configuration for CNN<br>\n",
    "Step 3. Train the model<br>\n",
    "Step 4. Validate the model using graph<br>\n",
    "Step 5. Evaluation Metrics such as MSE<br>\n",
    "Step 6. Plot the forecast result<br>\n",
    "\n",
    "First, let's import the package needed"
   ]
  },
  {
   "cell_type": "code",
   "execution_count": 1,
   "metadata": {},
   "outputs": [],
   "source": [
    "%%capture\n",
    "# pip install this package to view the summary of CNN\n",
    "# used jupyter install due to it does not have conda version\n",
    "# %%capture suppress information of torchsummaryX installation\n",
    "!pip install torchsummaryX"
   ]
  },
  {
   "cell_type": "code",
   "execution_count": 2,
   "metadata": {},
   "outputs": [],
   "source": [
    "# import packages needed\n",
    "import numpy as np\n",
    "import pandas as pd\n",
    "import matplotlib.pyplot as plt\n",
    "import torch\n",
    "import torch.nn as nn\n",
    "import torch.nn.functional as F\n",
    "from torch.utils.data import DataLoader, TensorDataset\n",
    "from sklearn.metrics import mean_squared_error\n",
    "from sklearn.preprocessing import StandardScaler , MinMaxScaler\n",
    "import math\n",
    "from torchsummaryX import summary\n",
    "\n",
    "# To auto load the customise module\n",
    "%load_ext autoreload\n",
    "%autoreload 2\n",
    "import deep_learning_module\n",
    "import data_module"
   ]
  },
  {
   "cell_type": "markdown",
   "metadata": {},
   "source": [
    "## Hyperparameter\n",
    "Define the hyperparameter that need to tune the model"
   ]
  },
  {
   "cell_type": "code",
   "execution_count": 33,
   "metadata": {},
   "outputs": [],
   "source": [
    "split_ratio = 0.70\n",
    "num_epochs = 200\n",
    "window_size = 5\n",
    "batch_size = 5\n",
    "n_step = 2\n",
    "learning_rate = 0.001"
   ]
  },
  {
   "cell_type": "markdown",
   "metadata": {},
   "source": [
    "# Step 1 : Data Preparation\n",
    "We create synthetic data to make sure the model is created correctly and having the ability to perform the forecasting. <br>\n",
    "\n",
    "1. First, we will create a sequence of data with `np.array`.\n",
    "2. Then, we will assign a date to the sequence of data with `pd.date_range` and store it to series data by using `pd.Series`."
   ]
  },
  {
   "cell_type": "code",
   "execution_count": 34,
   "metadata": {},
   "outputs": [],
   "source": [
    "#Synthetic Data\n",
    "in_seq1 = np.array([x for x in range(0, 300, 10)])\n",
    "in_seq2 = np.array([x for x in range(5, 305, 10)])\n",
    "out_seq = np.array([in_seq1[i] + in_seq2[i] for i in range(len(in_seq1))])\n",
    "\n",
    "\n",
    "# convert to [rows, columns] structure\n",
    "in_seq1 = in_seq1.reshape((len(in_seq1), 1))\n",
    "in_seq2 = in_seq2.reshape((len(in_seq2), 1))\n",
    "out_seq = out_seq.reshape((len(out_seq), 1))\n",
    "\n",
    "# horizontally stack columns\n",
    "dataset = np.hstack((in_seq1, in_seq2, out_seq))"
   ]
  },
  {
   "cell_type": "code",
   "execution_count": 35,
   "metadata": {},
   "outputs": [
    {
     "data": {
      "text/html": [
       "<div>\n",
       "<style scoped>\n",
       "    .dataframe tbody tr th:only-of-type {\n",
       "        vertical-align: middle;\n",
       "    }\n",
       "\n",
       "    .dataframe tbody tr th {\n",
       "        vertical-align: top;\n",
       "    }\n",
       "\n",
       "    .dataframe thead th {\n",
       "        text-align: right;\n",
       "    }\n",
       "</style>\n",
       "<table border=\"1\" class=\"dataframe\">\n",
       "  <thead>\n",
       "    <tr style=\"text-align: right;\">\n",
       "      <th></th>\n",
       "      <th>in_seq1</th>\n",
       "      <th>in_seq2</th>\n",
       "      <th>out_seq</th>\n",
       "    </tr>\n",
       "    <tr>\n",
       "      <th>Date</th>\n",
       "      <th></th>\n",
       "      <th></th>\n",
       "      <th></th>\n",
       "    </tr>\n",
       "  </thead>\n",
       "  <tbody>\n",
       "    <tr>\n",
       "      <th>2020-01-01</th>\n",
       "      <td>0</td>\n",
       "      <td>5</td>\n",
       "      <td>5</td>\n",
       "    </tr>\n",
       "    <tr>\n",
       "      <th>2020-01-02</th>\n",
       "      <td>10</td>\n",
       "      <td>15</td>\n",
       "      <td>25</td>\n",
       "    </tr>\n",
       "    <tr>\n",
       "      <th>2020-01-03</th>\n",
       "      <td>20</td>\n",
       "      <td>25</td>\n",
       "      <td>45</td>\n",
       "    </tr>\n",
       "    <tr>\n",
       "      <th>2020-01-04</th>\n",
       "      <td>30</td>\n",
       "      <td>35</td>\n",
       "      <td>65</td>\n",
       "    </tr>\n",
       "    <tr>\n",
       "      <th>2020-01-05</th>\n",
       "      <td>40</td>\n",
       "      <td>45</td>\n",
       "      <td>85</td>\n",
       "    </tr>\n",
       "  </tbody>\n",
       "</table>\n",
       "</div>"
      ],
      "text/plain": [
       "            in_seq1  in_seq2  out_seq\n",
       "Date                                 \n",
       "2020-01-01        0        5        5\n",
       "2020-01-02       10       15       25\n",
       "2020-01-03       20       25       45\n",
       "2020-01-04       30       35       65\n",
       "2020-01-05       40       45       85"
      ]
     },
     "execution_count": 35,
     "metadata": {},
     "output_type": "execute_result"
    }
   ],
   "source": [
    "dataset = pd.DataFrame(dataset,columns =[\"in_seq1\",\"in_seq2\",\"out_seq\"],\n",
    "                      index = pd.date_range(\"1/1/2020\",periods=len(dataset),freq='D'))\n",
    "dataset.index.name=\"Date\"\n",
    "dataset.head()"
   ]
  },
  {
   "cell_type": "markdown",
   "metadata": {},
   "source": [
    "## Data Visualization\n",
    "Data visualization is important for us to visualize the pattern of data such as trend and seasonality. As the graph below, it is shown that it is an increasing trend in data"
   ]
  },
  {
   "cell_type": "code",
   "execution_count": 36,
   "metadata": {},
   "outputs": [
    {
     "data": {
      "text/plain": [
       "Text(0.5, 1.0, 'Synthetic Data')"
      ]
     },
     "execution_count": 36,
     "metadata": {},
     "output_type": "execute_result"
    },
    {
     "data": {
      "image/png": "[encoded data removed]",
      "text/plain": [
       "<Figure size 432x288 with 1 Axes>"
      ]
     },
     "metadata": {
      "needs_background": "light"
     },
     "output_type": "display_data"
    }
   ],
   "source": [
    "dataset.plot()\n",
    "plt.title(\"Synthetic Data\")"
   ]
  },
  {
   "cell_type": "markdown",
   "metadata": {},
   "source": [
    "## Data Splitting\n",
    "In Deep Learning, we will split the data into training and test dataset. The training data is used to train the model where the test data is used to validate the performance of the model."
   ]
  },
  {
   "cell_type": "code",
   "execution_count": 37,
   "metadata": {},
   "outputs": [
    {
     "data": {
      "text/plain": [
       "21"
      ]
     },
     "execution_count": 37,
     "metadata": {},
     "output_type": "execute_result"
    }
   ],
   "source": [
    "# Calculate the split ratio \n",
    "split_data = round(len(dataset)*split_ratio)\n",
    "split_data"
   ]
  },
  {
   "cell_type": "code",
   "execution_count": 38,
   "metadata": {},
   "outputs": [
    {
     "name": "stdout",
     "output_type": "stream",
     "text": [
      "train_data_shape\n",
      "(21, 3)\n",
      "test_data_shape\n",
      "(9, 3)\n"
     ]
    }
   ],
   "source": [
    "# Split data by indexing \n",
    "train_data = dataset[:split_data]\n",
    "test_data = dataset[split_data:]\n",
    "train_time = dataset.index[:split_data]\n",
    "test_time = dataset.index[split_data:]\n",
    "print(\"train_data_shape\")\n",
    "print(train_data.shape)\n",
    "print(\"test_data_shape\")\n",
    "print(test_data.shape)"
   ]
  },
  {
   "cell_type": "markdown",
   "metadata": {},
   "source": [
    "## Data Standardization\n",
    "Standardize your numeric attributes to have a 0 mean and unit variance."
   ]
  },
  {
   "cell_type": "code",
   "execution_count": 39,
   "metadata": {},
   "outputs": [],
   "source": [
    "# Build the standard scaler, Use to fit the train data and take the statistic of train data apply in test data\n",
    "scaler = StandardScaler().fit(train_data.values.reshape(-1,1))\n",
    "train_data_standard = scaler.transform(train_data.values.reshape(-1, 1))\n",
    "test_data_standard = scaler.transform(test_data.values.reshape(-1, 1))"
   ]
  },
  {
   "cell_type": "code",
   "execution_count": 40,
   "metadata": {},
   "outputs": [
    {
     "name": "stdout",
     "output_type": "stream",
     "text": [
      "train_data_standardized(21, 3)\n",
      "test_data_standardized(9, 3)\n"
     ]
    }
   ],
   "source": [
    "# Transform after scaling\n",
    "train_data_standard = train_data_standard.reshape(train_data.shape[0],train_data.shape[1])\n",
    "print(\"train_data_standardized\"+str(train_data_standard.shape))\n",
    "\n",
    "test_data_standard = test_data_standard.reshape(test_data.shape[0],test_data.shape[1])\n",
    "print(\"test_data_standardized\"+str(test_data_standard.shape))"
   ]
  },
  {
   "cell_type": "markdown",
   "metadata": {},
   "source": [
    "## Data Sequencing\n",
    "Sequencing the data by taking in the multivariate series into `x-feature` and `y-label`\n",
    "<img src = \"../../picture/multivariate univariate.png\"  width=\"300\" height  =\"300\" align=\"center\" />"
   ]
  },
  {
   "cell_type": "code",
   "execution_count": 41,
   "metadata": {},
   "outputs": [
    {
     "name": "stdout",
     "output_type": "stream",
     "text": [
      "trainX shape:(16, 5, 2) trainY shape:(16, 2)\n",
      "\n",
      "testX shape:(4, 5, 2) testY shape:(4, 2)\n"
     ]
    }
   ],
   "source": [
    "trainX, trainY = data_module.multivariate_univariate_multi_step(train_data_standard, window_size,n_step)\n",
    "testX, testY = data_module.multivariate_univariate_multi_step(test_data_standard, window_size,n_step)\n",
    "print(f\"trainX shape:{trainX.shape} trainY shape:{trainY.shape}\\n\")\n",
    "print(f\"testX shape:{testX.shape} testY shape:{testY.shape}\")"
   ]
  },
  {
   "cell_type": "code",
   "execution_count": 55,
   "metadata": {},
   "outputs": [
    {
     "name": "stdout",
     "output_type": "stream",
     "text": [
      "trainY shape:(16, 2, 1)\n",
      "testY shape:(4, 2, 1)\n"
     ]
    }
   ],
   "source": [
    "trainY = trainY.reshape(trainY.shape[0],n_step,1)\n",
    "testY = testY.reshape(testY.shape[0],n_step,1)\n",
    "print(f\"trainY shape:{trainY.shape}\")\n",
    "print(f\"testY shape:{testY.shape}\")"
   ]
  },
  {
   "cell_type": "markdown",
   "metadata": {},
   "source": [
    "## Data Transform\n",
    "Data need to transform from `NumPy` to `PyTorch` tensor before feeding into the model\n"
   ]
  },
  {
   "cell_type": "code",
   "execution_count": 56,
   "metadata": {},
   "outputs": [],
   "source": [
    "train_data_dict ,test_data_dict = data_module.key_assign(trainingX = trainX  , \n",
    "                       testingX = testX, \n",
    "                       trainingY = trainY, \n",
    "                       testingY = testY)\n",
    "\n",
    "train_data_dict ,test_data_dict = data_module.transform(train_data_dict ,test_data_dict)"
   ]
  },
  {
   "cell_type": "code",
   "execution_count": 57,
   "metadata": {},
   "outputs": [
    {
     "name": "stdout",
     "output_type": "stream",
     "text": [
      "train_data_x_feature shape : torch.Size([16, 5, 2])\n",
      "train_data_y_label shape : torch.Size([16, 2, 1])\n",
      "test_data_x_feature shape : torch.Size([4, 5, 2])\n",
      "test_data_y_label shape : torch.Size([4, 2, 1])\n"
     ]
    }
   ],
   "source": [
    "data_module.sanity_check(train_data_dict , test_data_dict)"
   ]
  },
  {
   "cell_type": "markdown",
   "metadata": {},
   "source": [
    "## Data Transpose \n",
    "You are require to transpose the x-feature data in a such a way that : <br>\n",
    ">`(batch_size, number_of_features, sequence_length)`."
   ]
  },
  {
   "cell_type": "code",
   "execution_count": 58,
   "metadata": {},
   "outputs": [],
   "source": [
    "# Data Transpose to suit for CNN \n",
    "train_data_dict , test_data_dict= data_module.transpose(train_data_dict,test_data_dict)"
   ]
  },
  {
   "cell_type": "code",
   "execution_count": 59,
   "metadata": {},
   "outputs": [
    {
     "name": "stdout",
     "output_type": "stream",
     "text": [
      "train_data_x_feature shape : torch.Size([16, 2, 5])\n",
      "train_data_y_label shape : torch.Size([16, 2, 1])\n",
      "test_data_x_feature shape : torch.Size([4, 2, 5])\n",
      "test_data_y_label shape : torch.Size([4, 2, 1])\n"
     ]
    }
   ],
   "source": [
    "data_module.sanity_check(train_data_dict , test_data_dict)"
   ]
  },
  {
   "cell_type": "markdown",
   "metadata": {},
   "source": [
    "## Data Iterator\n",
    "Iterator is created to allow the data separate into several batches to fasten the training process"
   ]
  },
  {
   "cell_type": "code",
   "execution_count": 60,
   "metadata": {},
   "outputs": [],
   "source": [
    "train_iter , test_iter = data_module.iterator(train_data_dict ,test_data_dict,batch_size = batch_size)"
   ]
  },
  {
   "cell_type": "markdown",
   "metadata": {},
   "source": [
    "# Step 2 :  CNN Model Configuration\n",
    "You may choose to use the CNN configuration that have been save in the `deep_learning_module.py` or code it by yourself."
   ]
  },
  {
   "cell_type": "code",
   "execution_count": 61,
   "metadata": {},
   "outputs": [],
   "source": [
    "class CNN(nn.Module):\n",
    "\n",
    "    def __init__(self,n_feature,n_step):\n",
    "        super(CNN, self).__init__()\n",
    "        \n",
    "        self.n_feature = n_feature\n",
    "        self.n_step = n_step\n",
    "\n",
    "        # Conv1d in_channels is base on num time series\n",
    "        # Input:(N,C,Lin) Output : (N,C,Lout)\n",
    "        self.conv1 = nn.Conv1d(in_channels = n_feature, out_channels = 30, kernel_size = 2)\n",
    "        \n",
    "        # For example Input:(N,C,Lin) Output : (N,C,Lout)\n",
    "        self.poo1 = nn.MaxPool1d(kernel_size=2)\n",
    "        \n",
    "        self.conv2 = nn.Conv1d(in_channels = 30, out_channels = 20, kernel_size = 2)\n",
    "        \n",
    "        # AdaptiveMaxPool1d use to make sure it always will output  = 1 ,to make sure return the correct batch size \n",
    "        self.pool2 = nn.AdaptiveMaxPool1d(1)\n",
    "        self.fc1 = nn.Linear(20, 10)\n",
    "        self.fc2 = nn.Linear(10,n_step)\n",
    "\n",
    "    def forward(self, x):\n",
    "        x = F.relu(self.conv1(x))\n",
    "        x = self.poo1(x)\n",
    "        x = F.relu(self.conv2(x))\n",
    "        x = self.pool2(x)\n",
    "        x = x.view(-1,20)\n",
    "        x = F.relu(self.fc1(x))\n",
    "        x = self.fc2(x)\n",
    "\n",
    "        return x"
   ]
  },
  {
   "cell_type": "markdown",
   "metadata": {},
   "source": [
    "## Input Model\n",
    "The number of features and number of step feed as the attribute for the model. The other attribute such as `kernel_size` , `in_channels` and `out_channels` for each convolution layer need to configure in the network configuration by user."
   ]
  },
  {
   "cell_type": "code",
   "execution_count": 62,
   "metadata": {},
   "outputs": [],
   "source": [
    "# seed\n",
    "torch.manual_seed(123)\n",
    "### BEGIN SOLUTION\n",
    "n_feature = train_data_dict['train_data_x_feature'].shape[1]\n",
    "\n",
    "# Input the attribute need by the model \n",
    "model = CNN(n_feature = n_feature,n_step = n_step )\n",
    "\n",
    "# Define the optimizer (Here we use SGD as our optimizer)\n",
    "optimizer = torch.optim.Adam(model.parameters(), lr=learning_rate)\n",
    "\n",
    "# Define the loss function (Here we use MSE as the loss function)\n",
    "loss_fn = nn.MSELoss()\n",
    "\n",
    "### END SOLUTION"
   ]
  },
  {
   "cell_type": "code",
   "execution_count": 63,
   "metadata": {},
   "outputs": [
    {
     "name": "stdout",
     "output_type": "stream",
     "text": [
      "====================================================\n",
      "        Kernel Shape Output Shape Params Mult-Adds\n",
      "Layer                                             \n",
      "0_conv1   [2, 30, 2]   [5, 30, 4]  150.0     480.0\n",
      "1_poo1             -   [5, 30, 2]      -         -\n",
      "2_conv2  [30, 20, 2]   [5, 20, 1]  1.22k      1.2k\n",
      "3_pool2            -   [5, 20, 1]      -         -\n",
      "4_fc1       [20, 10]      [5, 10]  210.0     200.0\n",
      "5_fc2        [10, 2]       [5, 2]   22.0      20.0\n",
      "----------------------------------------------------\n",
      "                      Totals\n",
      "Total params          1.602k\n",
      "Trainable params      1.602k\n",
      "Non-trainable params     0.0\n",
      "Mult-Adds               1.9k\n",
      "====================================================\n",
      "        Kernel Shape Output Shape  Params  Mult-Adds\n",
      "Layer                                               \n",
      "0_conv1   [2, 30, 2]   [5, 30, 4]   150.0      480.0\n",
      "1_poo1             -   [5, 30, 2]     NaN        NaN\n",
      "2_conv2  [30, 20, 2]   [5, 20, 1]  1220.0     1200.0\n",
      "3_pool2            -   [5, 20, 1]     NaN        NaN\n",
      "4_fc1       [20, 10]      [5, 10]   210.0      200.0\n",
      "5_fc2        [10, 2]       [5, 2]    22.0       20.0\n"
     ]
    }
   ],
   "source": [
    "seq_length = train_data_dict['train_data_x_feature'].shape[2]\n",
    "inputs = torch.zeros((batch_size,n_feature ,seq_length),dtype=torch.float) # batch size ,input_dim ,seq_length\n",
    "print(summary(model,inputs))"
   ]
  },
  {
   "cell_type": "code",
   "execution_count": 64,
   "metadata": {},
   "outputs": [
    {
     "data": {
      "text/plain": [
       "CNN(\n",
       "  (conv1): Conv1d(2, 30, kernel_size=(2,), stride=(1,))\n",
       "  (poo1): MaxPool1d(kernel_size=2, stride=2, padding=0, dilation=1, ceil_mode=False)\n",
       "  (conv2): Conv1d(30, 20, kernel_size=(2,), stride=(1,))\n",
       "  (pool2): AdaptiveMaxPool1d(output_size=1)\n",
       "  (fc1): Linear(in_features=20, out_features=10, bias=True)\n",
       "  (fc2): Linear(in_features=10, out_features=2, bias=True)\n",
       ")"
      ]
     },
     "execution_count": 64,
     "metadata": {},
     "output_type": "execute_result"
    }
   ],
   "source": [
    "# seed\n",
    "torch.manual_seed(123)\n",
    "\n",
    "#  Xavier Weight Initialize \n",
    "def weights_init(m):\n",
    "    if isinstance(m, nn.Conv1d):\n",
    "        nn.init.xavier_uniform_(m.weight.data)\n",
    "        \n",
    "model.apply(weights_init)"
   ]
  },
  {
   "cell_type": "markdown",
   "metadata": {},
   "source": [
    "# Step 3 : Training"
   ]
  },
  {
   "cell_type": "code",
   "execution_count": 65,
   "metadata": {},
   "outputs": [],
   "source": [
    "# Start Training\n",
    "# seed\n",
    "torch.manual_seed(123)\n",
    "# Start Training\n",
    "train_loss, val_loss = deep_learning_module.training(num_epochs, train_iter, test_iter, optimizer, loss_fn, model)"
   ]
  },
  {
   "cell_type": "markdown",
   "metadata": {},
   "source": [
    "# Step 4 : Validation \n",
    "A learning curve is plotted to define how well the data is fitting the model "
   ]
  },
  {
   "cell_type": "code",
   "execution_count": 66,
   "metadata": {},
   "outputs": [
    {
     "data": {
      "image/png": "[encoded data removed]",
      "text/plain": [
       "<Figure size 720x432 with 1 Axes>"
      ]
     },
     "metadata": {
      "needs_background": "light"
     },
     "output_type": "display_data"
    },
    {
     "name": "stdout",
     "output_type": "stream",
     "text": [
      "Epoch : 0 , training loss : 2.4388997107744217 , validation loss : 18.390308380126953\n",
      "Epoch : 1 , training loss : 2.398174216039479 , validation loss : 18.20909881591797\n",
      "Epoch : 2 , training loss : 2.3569496581330895 , validation loss : 18.013456344604492\n",
      "Epoch : 3 , training loss : 2.313496005255729 , validation loss : 17.802152633666992\n",
      "Epoch : 4 , training loss : 2.2679402204230428 , validation loss : 17.574291229248047\n",
      "Epoch : 5 , training loss : 2.220036224462092 , validation loss : 17.332033157348633\n",
      "Epoch : 6 , training loss : 2.1718964665196836 , validation loss : 17.10694694519043\n",
      "Epoch : 7 , training loss : 2.122897682711482 , validation loss : 16.869060516357422\n",
      "Epoch : 8 , training loss : 2.0707413707859814 , validation loss : 16.603933334350586\n",
      "Epoch : 9 , training loss : 2.014545224606991 , validation loss : 16.307064056396484\n",
      "Epoch : 10 , training loss : 1.9542933953925967 , validation loss : 15.953398704528809\n",
      "Epoch : 11 , training loss : 1.8898042989894748 , validation loss : 15.544201850891113\n",
      "Epoch : 12 , training loss : 1.8208768302574754 , validation loss : 15.08773422241211\n",
      "Epoch : 13 , training loss : 1.7474069613963366 , validation loss : 14.57371711730957\n",
      "Epoch : 14 , training loss : 1.6693614684045315 , validation loss : 13.992683410644531\n",
      "Epoch : 15 , training loss : 1.5866739135235548 , validation loss : 13.359766006469727\n",
      "Epoch : 16 , training loss : 1.4996288167312741 , validation loss : 12.671867370605469\n",
      "Epoch : 17 , training loss : 1.408699014224112 , validation loss : 11.928376197814941\n",
      "Epoch : 18 , training loss : 1.3143987115472555 , validation loss : 11.131163597106934\n",
      "Epoch : 19 , training loss : 1.2174602039158344 , validation loss : 10.28146743774414\n",
      "Epoch : 20 , training loss : 1.1188424061983824 , validation loss : 9.376154899597168\n",
      "Epoch : 21 , training loss : 1.0192028786987066 , validation loss : 8.430049896240234\n",
      "Epoch : 22 , training loss : 0.9198389984667301 , validation loss : 7.459982872009277\n",
      "Epoch : 23 , training loss : 0.8220987785607576 , validation loss : 6.486850738525391\n",
      "Epoch : 24 , training loss : 0.7272452618926764 , validation loss : 5.533159255981445\n",
      "Epoch : 25 , training loss : 0.6372573785483837 , validation loss : 4.619381427764893\n",
      "Epoch : 26 , training loss : 0.552832025103271 , validation loss : 3.77154278755188\n",
      "Epoch : 27 , training loss : 0.47493581753224134 , validation loss : 3.0112054347991943\n",
      "Epoch : 28 , training loss : 0.40445641707628965 , validation loss : 2.3565216064453125\n",
      "Epoch : 29 , training loss : 0.3417237186804414 , validation loss : 1.8128411769866943\n",
      "Epoch : 30 , training loss : 0.2866873014718294 , validation loss : 1.3754096031188965\n",
      "Epoch : 31 , training loss : 0.2383306948468089 , validation loss : 1.0336161851882935\n",
      "Epoch : 32 , training loss : 0.19584367726929486 , validation loss : 0.7712444067001343\n",
      "Epoch : 33 , training loss : 0.15874437242746353 , validation loss : 0.5717142820358276\n",
      "Epoch : 34 , training loss : 0.1269701598212123 , validation loss : 0.42089173197746277\n",
      "Epoch : 35 , training loss : 0.10112965700682253 , validation loss : 0.3076028525829315\n",
      "Epoch : 36 , training loss : 0.08097740286029875 , validation loss : 0.22414380311965942\n",
      "Epoch : 37 , training loss : 0.06650090601760894 , validation loss : 0.1647454798221588\n",
      "Epoch : 38 , training loss : 0.0559650759678334 , validation loss : 0.1249309554696083\n",
      "Epoch : 39 , training loss : 0.04847889964003116 , validation loss : 0.10053862631320953\n",
      "Epoch : 40 , training loss : 0.043150091893039644 , validation loss : 0.08771878480911255\n",
      "Epoch : 41 , training loss : 0.039279286400415 , validation loss : 0.08257776498794556\n",
      "Epoch : 42 , training loss : 0.03636996171553619 , validation loss : 0.08166299760341644\n",
      "Epoch : 43 , training loss : 0.03401990988641046 , validation loss : 0.08230862021446228\n",
      "Epoch : 44 , training loss : 0.031971059914212674 , validation loss : 0.0827384814620018\n",
      "Epoch : 45 , training loss : 0.029973556840559468 , validation loss : 0.08202262967824936\n",
      "Epoch : 46 , training loss : 0.028020922763971612 , validation loss : 0.07984651625156403\n",
      "Epoch : 47 , training loss : 0.02618791625718586 , validation loss : 0.07633267343044281\n",
      "Epoch : 48 , training loss : 0.024459615611704066 , validation loss : 0.0717582181096077\n",
      "Epoch : 49 , training loss : 0.02282204969378654 , validation loss : 0.06644537299871445\n",
      "Epoch : 50 , training loss : 0.021287902069161646 , validation loss : 0.060782674700021744\n",
      "Epoch : 51 , training loss : 0.0198499573598383 , validation loss : 0.05510488897562027\n",
      "Epoch : 52 , training loss : 0.01849833273445256 , validation loss : 0.04965611547231674\n",
      "Epoch : 53 , training loss : 0.017250331031391397 , validation loss : 0.044653624296188354\n",
      "Epoch : 54 , training loss : 0.016077664084150456 , validation loss : 0.0401594415307045\n",
      "Epoch : 55 , training loss : 0.014973848359659314 , validation loss : 0.03622227907180786\n",
      "Epoch : 56 , training loss : 0.013952478519058786 , validation loss : 0.03276727721095085\n",
      "Epoch : 57 , training loss : 0.012975780133274384 , validation loss : 0.029731538146734238\n",
      "Epoch : 58 , training loss : 0.012042260190355591 , validation loss : 0.027046576142311096\n",
      "Epoch : 59 , training loss : 0.011141943570692092 , validation loss : 0.024628110229969025\n",
      "Epoch : 60 , training loss : 0.010280878173944075 , validation loss : 0.02242377959191799\n",
      "Epoch : 61 , training loss : 0.009464296490477864 , validation loss : 0.02040652185678482\n",
      "Epoch : 62 , training loss : 0.008698827790794894 , validation loss : 0.018552793189883232\n",
      "Epoch : 63 , training loss : 0.007989864454430062 , validation loss : 0.016839860007166862\n",
      "Epoch : 64 , training loss : 0.007330541047849692 , validation loss : 0.015282126143574715\n",
      "Epoch : 65 , training loss : 0.006737698407960124 , validation loss : 0.01389187853783369\n",
      "Epoch : 66 , training loss : 0.006178630486829206 , validation loss : 0.012644749134778976\n",
      "Epoch : 67 , training loss : 0.005653615666233236 , validation loss : 0.011500602588057518\n",
      "Epoch : 68 , training loss : 0.005174683330551488 , validation loss : 0.01046681310981512\n",
      "Epoch : 69 , training loss : 0.004735183738375781 , validation loss : 0.00953768566250801\n",
      "Epoch : 70 , training loss : 0.004334291319537442 , validation loss : 0.008703847415745258\n",
      "Epoch : 71 , training loss : 0.0039633854539715685 , validation loss : 0.007946653291583061\n",
      "Epoch : 72 , training loss : 0.003620073253841838 , validation loss : 0.0072569213807582855\n",
      "Epoch : 73 , training loss : 0.003329402403323911 , validation loss : 0.006648840848356485\n",
      "Epoch : 74 , training loss : 0.0030714303411514265 , validation loss : 0.006125723477452993\n",
      "Epoch : 75 , training loss : 0.002840770936018089 , validation loss : 0.005682721268385649\n",
      "Epoch : 76 , training loss : 0.002628492396979709 , validation loss : 0.0053146774880588055\n",
      "Epoch : 77 , training loss : 0.002433633326290874 , validation loss : 0.005017722491174936\n",
      "Epoch : 78 , training loss : 0.0022556541425728938 , validation loss : 0.004778681322932243\n",
      "Epoch : 79 , training loss : 0.0020944168227288174 , validation loss : 0.00458876695483923\n",
      "Epoch : 80 , training loss : 0.0019470399311103392 , validation loss : 0.004435891285538673\n",
      "Epoch : 81 , training loss : 0.0018122254514310043 , validation loss : 0.004311863798648119\n",
      "Epoch : 82 , training loss : 0.0016901180515560554 , validation loss : 0.0042097484692931175\n",
      "Epoch : 83 , training loss : 0.0015832070239412133 , validation loss : 0.004129459150135517\n",
      "Epoch : 84 , training loss : 0.0014899383704687352 , validation loss : 0.0040702857077121735\n",
      "Epoch : 85 , training loss : 0.0014058639671929996 , validation loss : 0.004031704273074865\n",
      "Epoch : 86 , training loss : 0.001326554791376111 , validation loss : 0.004012942314147949\n",
      "Epoch : 87 , training loss : 0.0012534686538856477 , validation loss : 0.0040130410343408585\n",
      "Epoch : 88 , training loss : 0.0011867832736243145 , validation loss : 0.004027923569083214\n",
      "Epoch : 89 , training loss : 0.001123284615459852 , validation loss : 0.004056136589497328\n",
      "Epoch : 90 , training loss : 0.0010659424178811605 , validation loss : 0.00408951798453927\n",
      "Epoch : 91 , training loss : 0.0010111573565154686 , validation loss : 0.004126883111894131\n",
      "Epoch : 92 , training loss : 0.0009590818181095528 , validation loss : 0.004174205008894205\n",
      "Epoch : 93 , training loss : 0.0009109115362662124 , validation loss : 0.004228571895509958\n",
      "Epoch : 94 , training loss : 0.0008691304146850598 , validation loss : 0.004277046769857407\n",
      "Epoch : 95 , training loss : 0.0008273518451460404 , validation loss : 0.004320777487009764\n",
      "Epoch : 96 , training loss : 0.0007903121795607149 , validation loss : 0.004371426999568939\n",
      "Epoch : 97 , training loss : 0.0007549144029326271 , validation loss : 0.004426381550729275\n",
      "Epoch : 98 , training loss : 0.0007212066207102907 , validation loss : 0.004482849966734648\n",
      "Epoch : 99 , training loss : 0.0006913183215147001 , validation loss : 0.004530914593487978\n",
      "Epoch : 100 , training loss : 0.0006633657076235977 , validation loss : 0.004571620374917984\n",
      "Epoch : 101 , training loss : 0.0006368114022734517 , validation loss : 0.004609758034348488\n",
      "Epoch : 102 , training loss : 0.0006122698669059901 , validation loss : 0.0046523031778633595\n",
      "Epoch : 103 , training loss : 0.0005885032032892923 , validation loss : 0.004696484189480543\n",
      "Epoch : 104 , training loss : 0.000566437366160244 , validation loss : 0.004730701446533203\n",
      "Epoch : 105 , training loss : 0.0005460128145386989 , validation loss : 0.0047544874250888824\n",
      "Epoch : 106 , training loss : 0.000526576270658552 , validation loss : 0.00477948971092701\n",
      "Epoch : 107 , training loss : 0.0005080991945760616 , validation loss : 0.0048048775643110275\n",
      "Epoch : 108 , training loss : 0.0004900367216578161 , validation loss : 0.004817608278244734\n",
      "Epoch : 109 , training loss : 0.00047087380107768695 , validation loss : 0.004825839307159185\n",
      "Epoch : 110 , training loss : 0.0004527555474851397 , validation loss : 0.004837995395064354\n",
      "Epoch : 111 , training loss : 0.0004348043189565942 , validation loss : 0.004841578658670187\n",
      "Epoch : 112 , training loss : 0.00041790947170738946 , validation loss : 0.004841377027332783\n",
      "Epoch : 113 , training loss : 0.00040173425622924697 , validation loss : 0.004845874849706888\n",
      "Epoch : 114 , training loss : 0.0003844894035864854 , validation loss : 0.004841452930122614\n",
      "Epoch : 115 , training loss : 0.00036778503954337793 , validation loss : 0.004829379729926586\n",
      "Epoch : 116 , training loss : 0.0003520206814755511 , validation loss : 0.004813624080270529\n",
      "Epoch : 117 , training loss : 0.00033582120204300736 , validation loss : 0.004799596033990383\n",
      "Epoch : 118 , training loss : 0.0003197529986209702 , validation loss : 0.0047753616236150265\n",
      "Epoch : 119 , training loss : 0.0003042706994165201 , validation loss : 0.004744017496705055\n",
      "Epoch : 120 , training loss : 0.0002871913311537355 , validation loss : 0.00470659788697958\n",
      "Epoch : 121 , training loss : 0.0002717473648772284 , validation loss : 0.004653383977711201\n",
      "Epoch : 122 , training loss : 0.00026224516136608145 , validation loss : 0.004551870282739401\n",
      "Epoch : 123 , training loss : 0.00025653939474068466 , validation loss : 0.004409738350659609\n",
      "Epoch : 124 , training loss : 0.00025363755889884487 , validation loss : 0.004266209900379181\n",
      "Epoch : 125 , training loss : 0.00025271458753195475 , validation loss : 0.004167111124843359\n",
      "Epoch : 126 , training loss : 0.00025150384408334503 , validation loss : 0.004118417389690876\n",
      "Epoch : 127 , training loss : 0.0002487728481810336 , validation loss : 0.004118404351174831\n",
      "Epoch : 128 , training loss : 0.00024443398160656216 , validation loss : 0.004161742515861988\n",
      "Epoch : 129 , training loss : 0.0002389764504187042 , validation loss : 0.004213140346109867\n",
      "Epoch : 130 , training loss : 0.0002336683883186197 , validation loss : 0.004258301109075546\n",
      "Epoch : 131 , training loss : 0.00022891713024364435 , validation loss : 0.00428751902654767\n",
      "Epoch : 132 , training loss : 0.0002250326901958033 , validation loss : 0.004300364758819342\n",
      "Epoch : 133 , training loss : 0.00022172682156451629 , validation loss : 0.004299480002373457\n",
      "Epoch : 134 , training loss : 0.00021885909336560871 , validation loss : 0.00429554795846343\n",
      "Epoch : 135 , training loss : 0.00021621873884214438 , validation loss : 0.004290271550416946\n",
      "Epoch : 136 , training loss : 0.00021342971740523353 , validation loss : 0.004292137920856476\n",
      "Epoch : 137 , training loss : 0.00021037408600932395 , validation loss : 0.004298648331314325\n",
      "Epoch : 138 , training loss : 0.000207301864747933 , validation loss : 0.004314952529966831\n",
      "Epoch : 139 , training loss : 0.00020406653811733122 , validation loss : 0.004324135836213827\n",
      "Epoch : 140 , training loss : 0.0002008887247484381 , validation loss : 0.0043314616195857525\n",
      "Epoch : 141 , training loss : 0.00019794008494500304 , validation loss : 0.004337633494287729\n",
      "Epoch : 142 , training loss : 0.00019514329756020743 , validation loss : 0.004337616730481386\n",
      "Epoch : 143 , training loss : 0.00019241077757214953 , validation loss : 0.00433358084410429\n",
      "Epoch : 144 , training loss : 0.00018975446732838464 , validation loss : 0.004330147989094257\n",
      "Epoch : 145 , training loss : 0.00018715493115450954 , validation loss : 0.004327537026256323\n",
      "Epoch : 146 , training loss : 0.0001845796616635198 , validation loss : 0.004332553129643202\n",
      "Epoch : 147 , training loss : 0.00018204971001978265 , validation loss : 0.004329046234488487\n",
      "Epoch : 148 , training loss : 0.00017930706803781504 , validation loss : 0.004323461093008518\n",
      "Epoch : 149 , training loss : 0.00017671222531134845 , validation loss : 0.004318410065025091\n",
      "Epoch : 150 , training loss : 0.00017434357573620218 , validation loss : 0.004313215147703886\n",
      "Epoch : 151 , training loss : 0.00017193170128848578 , validation loss : 0.004308341536670923\n",
      "Epoch : 152 , training loss : 0.00016951298562162265 , validation loss : 0.004302205052226782\n",
      "Epoch : 153 , training loss : 0.00016712759224901674 , validation loss : 0.004295565653592348\n",
      "Epoch : 154 , training loss : 0.00016485280684719328 , validation loss : 0.0042969463393092155\n",
      "Epoch : 155 , training loss : 0.00016248389579232025 , validation loss : 0.004290192387998104\n",
      "Epoch : 156 , training loss : 0.00016026400612645375 , validation loss : 0.004285486880689859\n",
      "Epoch : 157 , training loss : 0.00015805045723027433 , validation loss : 0.004278885666280985\n",
      "Epoch : 158 , training loss : 0.00015583967251586728 , validation loss : 0.004269251599907875\n",
      "Epoch : 159 , training loss : 0.00015369212701443757 , validation loss : 0.004258119035512209\n",
      "Epoch : 160 , training loss : 0.00015166440675784543 , validation loss : 0.0042511639185249805\n",
      "Epoch : 161 , training loss : 0.00014955201663724438 , validation loss : 0.0042430260218679905\n",
      "Epoch : 162 , training loss : 0.00014747028399142437 , validation loss : 0.0042343419045209885\n",
      "Epoch : 163 , training loss : 0.00014553664459526772 , validation loss : 0.004233360756188631\n",
      "Epoch : 164 , training loss : 0.00014356340807353263 , validation loss : 0.004224174190312624\n",
      "Epoch : 165 , training loss : 0.0001414695582298009 , validation loss : 0.004211242776364088\n",
      "Epoch : 166 , training loss : 0.00013965590596853872 , validation loss : 0.004200537223368883\n",
      "Epoch : 167 , training loss : 0.00013791054152534343 , validation loss : 0.00419770460575819\n",
      "Epoch : 168 , training loss : 0.00013602375383925391 , validation loss : 0.00419158348813653\n",
      "Epoch : 169 , training loss : 0.00013419073889053834 , validation loss : 0.004183092620223761\n",
      "Epoch : 170 , training loss : 0.00013242714271655132 , validation loss : 0.004174637608230114\n",
      "Epoch : 171 , training loss : 0.000130665447386491 , validation loss : 0.00416569784283638\n",
      "Epoch : 172 , training loss : 0.0001288674691295455 , validation loss : 0.0041545541025698185\n",
      "Epoch : 173 , training loss : 0.0001271874651820326 , validation loss : 0.0041448683477938175\n",
      "Epoch : 174 , training loss : 0.00012554574277601205 , validation loss : 0.0041324542835354805\n",
      "Epoch : 175 , training loss : 0.00012389267851631303 , validation loss : 0.0041211009956896305\n",
      "Epoch : 176 , training loss : 0.00012228767570832133 , validation loss : 0.004111187066882849\n",
      "Epoch : 177 , training loss : 0.00012082530258794577 , validation loss : 0.004111594520509243\n",
      "Epoch : 178 , training loss : 0.00011930823438888183 , validation loss : 0.00410408154129982\n",
      "Epoch : 179 , training loss : 0.00011761840994495287 , validation loss : 0.004090568516403437\n",
      "Epoch : 180 , training loss : 0.00011616316135132365 , validation loss : 0.004081202670931816\n",
      "Epoch : 181 , training loss : 0.0001147432689094785 , validation loss : 0.004070573020726442\n",
      "Epoch : 182 , training loss : 0.00011333599718454934 , validation loss : 0.004060124047100544\n",
      "Epoch : 183 , training loss : 0.00011191360943030304 , validation loss : 0.004050669725984335\n",
      "Epoch : 184 , training loss : 0.0001105762229371976 , validation loss : 0.004044089466333389\n",
      "Epoch : 185 , training loss : 0.00010916418398210226 , validation loss : 0.004038774874061346\n",
      "Epoch : 186 , training loss : 0.00010775482201097475 , validation loss : 0.004027645569294691\n",
      "Epoch : 187 , training loss : 0.0001066659170874118 , validation loss : 0.004023618530482054\n",
      "Epoch : 188 , training loss : 0.0001052059549238038 , validation loss : 0.0040179952047765255\n",
      "Epoch : 189 , training loss : 0.00010392248407242732 , validation loss : 0.004004725255072117\n",
      "Epoch : 190 , training loss : 0.00010269632707604615 , validation loss : 0.003997201099991798\n",
      "Epoch : 191 , training loss : 0.000101526527146234 , validation loss : 0.003989344462752342\n",
      "Epoch : 192 , training loss : 0.00010032587078967481 , validation loss : 0.003975837491452694\n",
      "Epoch : 193 , training loss : 9.915458986142767e-05 , validation loss : 0.003963320050388575\n",
      "Epoch : 194 , training loss : 9.811532015646662e-05 , validation loss : 0.00395424198359251\n",
      "Epoch : 195 , training loss : 9.695568905954133e-05 , validation loss : 0.003945997450500727\n",
      "Epoch : 196 , training loss : 9.582615871295275e-05 , validation loss : 0.003938429988920689\n",
      "Epoch : 197 , training loss : 9.471485418544034e-05 , validation loss : 0.003929625265300274\n",
      "Epoch : 198 , training loss : 9.368283917865483e-05 , validation loss : 0.003922800067812204\n",
      "Epoch : 199 , training loss : 9.265891014820227e-05 , validation loss : 0.003921851050108671\n"
     ]
    }
   ],
   "source": [
    "data_module.learning_curve(num_epochs = num_epochs , train_loss = train_loss , val_loss = val_loss )"
   ]
  },
  {
   "cell_type": "markdown",
   "metadata": {},
   "source": [
    "# Step 5 : Evaluation\n",
    "This section is to inference the model by feeding in testing data and determine the output forecast value and calculate the RMSE.\n",
    "\n",
    "It consists of 4 sections :\n",
    "\n",
    "Section 1 : Feed in the train and test data to the model <br>\n",
    "Section 2 : Reshape both to the original data dimension <br> \n",
    "Section 3 : Invert the scaling back to the original data value <br>\n",
    "Section 4 : Calculate the RMSE of train and test dataata"
   ]
  },
  {
   "cell_type": "code",
   "execution_count": 67,
   "metadata": {},
   "outputs": [],
   "source": [
    "# Section 1 : make predictions\n",
    "with torch.no_grad():\n",
    "    y_train_prediction = model(train_data_dict['train_data_x_feature'])\n",
    "    y_test_prediction = model(test_data_dict['test_data_x_feature'])"
   ]
  },
  {
   "cell_type": "code",
   "execution_count": 68,
   "metadata": {},
   "outputs": [],
   "source": [
    "# Assign evaluation key\n",
    "\n",
    "prediction , output = data_module.key_assign_evaluation(y_train_prediction,\n",
    "                                                        y_test_prediction,\n",
    "                                                        train_data_dict,\n",
    "                                                        test_data_dict)\n",
    "# Section 2 : Reshape to original data\n",
    "# Squeeze the output dimension\n",
    "output_data = data_module.squeeze_dimension(output)"
   ]
  },
  {
   "cell_type": "code",
   "execution_count": 69,
   "metadata": {},
   "outputs": [
    {
     "name": "stdout",
     "output_type": "stream",
     "text": [
      "train_data_output shape : torch.Size([16, 2])\n",
      "test_data_output shape : torch.Size([4, 2])\n"
     ]
    }
   ],
   "source": [
    "data_module.sanity_check(data_1 = output_data,data_2 = {})"
   ]
  },
  {
   "cell_type": "code",
   "execution_count": 70,
   "metadata": {},
   "outputs": [],
   "source": [
    "# Section 3 : Invert the scaling back to the original data value\n",
    "prediction = data_module.inverse_scaler(prediction,scaler)\n",
    "output_data  = data_module.inverse_scaler(output_data ,scaler)"
   ]
  },
  {
   "cell_type": "code",
   "execution_count": 71,
   "metadata": {},
   "outputs": [
    {
     "name": "stdout",
     "output_type": "stream",
     "text": [
      "Test Data\t\t\tForecast\n",
      "[504.99997 525.     ]\t\t[498.11374 523.51746]\n",
      "[525. 545.]\t\t[517.0457  543.25946]\n",
      "[545. 565.]\t\t[536.0177 563.042 ]\n",
      "[565. 585.]\t\t[555.06836 582.9043 ]\n"
     ]
    }
   ],
   "source": [
    "# List the forecast value\n",
    "data_module.list_forecast_value(output_data,prediction) "
   ]
  },
  {
   "cell_type": "code",
   "execution_count": 72,
   "metadata": {},
   "outputs": [
    {
     "name": "stdout",
     "output_type": "stream",
     "text": [
      "Train Score: 0.94 RMSE\n",
      "Test Score: 6.16 RMSE\n"
     ]
    }
   ],
   "source": [
    "# Section 4 : Calculate the RMSE of train and test data\n",
    "### BEGIN SOLUTION\n",
    "trainScore,testScore = data_module.rmse(prediction,output_data)\n",
    "### END SOLUTION\n",
    "print('Train Score: %.2f RMSE' % (trainScore))\n",
    "print('Test Score: %.2f RMSE' % (testScore))"
   ]
  },
  {
   "cell_type": "markdown",
   "metadata": {},
   "source": [
    "# Step 6 : Forecast Plot"
   ]
  },
  {
   "cell_type": "code",
   "execution_count": 76,
   "metadata": {},
   "outputs": [
    {
     "data": {
      "image/png": "[encoded data removed]",
      "text/plain": [
       "<Figure size 720x432 with 1 Axes>"
      ]
     },
     "metadata": {
      "needs_background": "light"
     },
     "output_type": "display_data"
    }
   ],
   "source": [
    "data_module.multi_step_plot(original_test_data = test_data[\"out_seq\"],\n",
    "                            after_sequence_test_data = output_data,\n",
    "                            forecast_data = prediction,\n",
    "                            test_time = test_time,\n",
    "                            window_size = window_size,\n",
    "                            n_step = n_step,\n",
    "                            details={},\n",
    "                            original_plot=True,\n",
    "                            multivariate = True)\n"
   ]
  },
  {
   "cell_type": "markdown",
   "metadata": {},
   "source": [
    "# Part 2 : Exercise for Multivariate Multi-step\n",
    "## Task : Predict total number of death case in COVID-19 Malaysia 3 day in future\n",
    "\n",
    "### Introduction \n",
    "You are given a set of data that contain information about COVID-19 cases worldwide. You are required to perform some data analysis on it and predict the death cases.<br>\n",
    "\n",
    "Please follow the instruction and try to code the exercise.Please feel free to google to find out how to use a particular function in the data exploration part<br>\n",
    "\n",
    "\n",
    "\n",
    "Data Source : \n",
    "https://www.kaggle.com/sudalairajkumar/novel-corona-virus-2019-dataset"
   ]
  },
  {
   "cell_type": "markdown",
   "metadata": {},
   "source": [
    "## Hyperparameter\n",
    ">**Instruction** : <br>\n",
    "You are required to fill the `None` with a suitable value to make the model converge\n",
    "\n",
    ">**Expected Result** : <br>\n",
    "Train Score <= 10 RMSE<br>\n",
    "Test Score <= 10 RMSE<br>"
   ]
  },
  {
   "cell_type": "code",
   "execution_count": 100,
   "metadata": {},
   "outputs": [
    {
     "data": {
      "text/plain": [
       "<torch._C.Generator at 0x1c3a0000950>"
      ]
     },
     "execution_count": 100,
     "metadata": {},
     "output_type": "execute_result"
    }
   ],
   "source": [
    "#Hyperameter\n",
    "split_ratio_covid = 0.70\n",
    "num_epochs_covid = 100\n",
    "window_size_covid = 10\n",
    "n_step_covid = 3\n",
    "learning_rate_covid = 0.001\n",
    "batch_size_covid = 5\n",
    "#seed\n",
    "torch.manual_seed(123)"
   ]
  },
  {
   "cell_type": "markdown",
   "metadata": {},
   "source": [
    "# Step 1 : Data Preparation\n",
    "In this tutorial, you will face a complex real-world dataset. You are required to use some of the data exploration technique to help you prepare the data.\n",
    "\n",
    ">**Instruction** : <br>\n",
    "Read the file using `pd.read_csv`<br>\n",
    "Save your data as `cases`<br>\n",
    "Your file path `../../datasets/others/covid_19_data.csv`"
   ]
  },
  {
   "cell_type": "code",
   "execution_count": 101,
   "metadata": {},
   "outputs": [
    {
     "data": {
      "text/html": [
       "<div>\n",
       "<style scoped>\n",
       "    .dataframe tbody tr th:only-of-type {\n",
       "        vertical-align: middle;\n",
       "    }\n",
       "\n",
       "    .dataframe tbody tr th {\n",
       "        vertical-align: top;\n",
       "    }\n",
       "\n",
       "    .dataframe thead th {\n",
       "        text-align: right;\n",
       "    }\n",
       "</style>\n",
       "<table border=\"1\" class=\"dataframe\">\n",
       "  <thead>\n",
       "    <tr style=\"text-align: right;\">\n",
       "      <th></th>\n",
       "      <th>SNo</th>\n",
       "      <th>ObservationDate</th>\n",
       "      <th>Province/State</th>\n",
       "      <th>Country/Region</th>\n",
       "      <th>Last Update</th>\n",
       "      <th>Confirmed</th>\n",
       "      <th>Deaths</th>\n",
       "      <th>Recovered</th>\n",
       "    </tr>\n",
       "  </thead>\n",
       "  <tbody>\n",
       "    <tr>\n",
       "      <th>0</th>\n",
       "      <td>1</td>\n",
       "      <td>01/22/2020</td>\n",
       "      <td>Anhui</td>\n",
       "      <td>Mainland China</td>\n",
       "      <td>1/22/2020 17:00</td>\n",
       "      <td>1.0</td>\n",
       "      <td>0.0</td>\n",
       "      <td>0.0</td>\n",
       "    </tr>\n",
       "    <tr>\n",
       "      <th>1</th>\n",
       "      <td>2</td>\n",
       "      <td>01/22/2020</td>\n",
       "      <td>Beijing</td>\n",
       "      <td>Mainland China</td>\n",
       "      <td>1/22/2020 17:00</td>\n",
       "      <td>14.0</td>\n",
       "      <td>0.0</td>\n",
       "      <td>0.0</td>\n",
       "    </tr>\n",
       "    <tr>\n",
       "      <th>2</th>\n",
       "      <td>3</td>\n",
       "      <td>01/22/2020</td>\n",
       "      <td>Chongqing</td>\n",
       "      <td>Mainland China</td>\n",
       "      <td>1/22/2020 17:00</td>\n",
       "      <td>6.0</td>\n",
       "      <td>0.0</td>\n",
       "      <td>0.0</td>\n",
       "    </tr>\n",
       "    <tr>\n",
       "      <th>3</th>\n",
       "      <td>4</td>\n",
       "      <td>01/22/2020</td>\n",
       "      <td>Fujian</td>\n",
       "      <td>Mainland China</td>\n",
       "      <td>1/22/2020 17:00</td>\n",
       "      <td>1.0</td>\n",
       "      <td>0.0</td>\n",
       "      <td>0.0</td>\n",
       "    </tr>\n",
       "    <tr>\n",
       "      <th>4</th>\n",
       "      <td>5</td>\n",
       "      <td>01/22/2020</td>\n",
       "      <td>Gansu</td>\n",
       "      <td>Mainland China</td>\n",
       "      <td>1/22/2020 17:00</td>\n",
       "      <td>0.0</td>\n",
       "      <td>0.0</td>\n",
       "      <td>0.0</td>\n",
       "    </tr>\n",
       "  </tbody>\n",
       "</table>\n",
       "</div>"
      ],
      "text/plain": [
       "   SNo ObservationDate Province/State  Country/Region      Last Update  \\\n",
       "0    1      01/22/2020          Anhui  Mainland China  1/22/2020 17:00   \n",
       "1    2      01/22/2020        Beijing  Mainland China  1/22/2020 17:00   \n",
       "2    3      01/22/2020      Chongqing  Mainland China  1/22/2020 17:00   \n",
       "3    4      01/22/2020         Fujian  Mainland China  1/22/2020 17:00   \n",
       "4    5      01/22/2020          Gansu  Mainland China  1/22/2020 17:00   \n",
       "\n",
       "   Confirmed  Deaths  Recovered  \n",
       "0        1.0     0.0        0.0  \n",
       "1       14.0     0.0        0.0  \n",
       "2        6.0     0.0        0.0  \n",
       "3        1.0     0.0        0.0  \n",
       "4        0.0     0.0        0.0  "
      ]
     },
     "execution_count": 101,
     "metadata": {},
     "output_type": "execute_result"
    }
   ],
   "source": [
    "### BEGIN SOLUTION\n",
    "cases = pd.read_csv(\"../../datasets/others/covid_19_data.csv\")\n",
    "### END SOLUTION\n",
    "cases.head()"
   ]
  },
  {
   "cell_type": "markdown",
   "metadata": {},
   "source": [
    "As you can see, the data contain info on COVID-19 cases from other countries as well. Hence you need to slice the COVID-19 info only for Malaysia.\n",
    "\n",
    ">**Instruction** : <br>\n",
    "Slice the COVID-19 info only for Malaysia. You might need to use `df.loc[]` to help you slice the data.\n",
    "\n",
    ">**Expected Result** :<br>\n",
    "Example of first 5 row data :\n",
    "\n",
    "---\t|SNo\t|ObservationDate\t|Province/State\t|Country/Region\t|Last Update\t|Confirmed\t|Deaths\t|Recovered\n",
    " ---|---\t|---\t            |---\t        |---\t        |---\t        |---\t    |---\t|---\n",
    "78\t|79\t    |01/23/2020\t|NaN\t|Malaysia\t|1/23/20 |17:00\t|0.0\t|0.0\t|0.0\n",
    "168\t|169\t|01/25/2020\t|NaN\t|Malaysia\t|1/25/20 |17:00\t|3.0\t|0.0\t|0.0\n",
    "214\t|215\t|01/26/2020\t|NaN\t|Malaysia\t|1/26/20 |16:00\t|4.0\t|0.0\t|0.0\n",
    "260\t|261\t|01/27/2020\t|NaN\t|Malaysia\t|1/27/20 |23:59\t|4.0\t|0.0\t|0.0\n",
    "311\t|312\t|01/28/2020\t|NaN\t|Malaysia\t|1/28/20 |23:00\t|4.0\t|0.0\t|0.0"
   ]
  },
  {
   "cell_type": "code",
   "execution_count": 102,
   "metadata": {
    "scrolled": true
   },
   "outputs": [
    {
     "data": {
      "text/plain": [
       "array(['Mainland China', 'Hong Kong', 'Macau', 'Taiwan', 'US', 'Japan',\n",
       "       'Thailand', 'South Korea', 'Singapore', 'Philippines', 'Malaysia',\n",
       "       'Vietnam', 'Australia', 'Mexico', 'Brazil', 'Colombia', 'France',\n",
       "       'Nepal', 'Canada', 'Cambodia', 'Sri Lanka', 'Ivory Coast',\n",
       "       'Germany', 'Finland', 'United Arab Emirates', 'India', 'Italy',\n",
       "       'UK', 'Russia', 'Sweden', 'Spain', 'Belgium', 'Others', 'Egypt',\n",
       "       'Iran', 'Israel', 'Lebanon', 'Iraq', 'Oman', 'Afghanistan',\n",
       "       'Bahrain', 'Kuwait', 'Austria', 'Algeria', 'Croatia',\n",
       "       'Switzerland', 'Pakistan', 'Georgia', 'Greece', 'North Macedonia',\n",
       "       'Norway', 'Romania', 'Denmark', 'Estonia', 'Netherlands',\n",
       "       'San Marino', ' Azerbaijan', 'Belarus', 'Iceland', 'Lithuania',\n",
       "       'New Zealand', 'Nigeria', 'North Ireland', 'Ireland', 'Luxembourg',\n",
       "       'Monaco', 'Qatar', 'Ecuador', 'Azerbaijan', 'Czech Republic',\n",
       "       'Armenia', 'Dominican Republic', 'Indonesia', 'Portugal',\n",
       "       'Andorra', 'Latvia', 'Morocco', 'Saudi Arabia', 'Senegal',\n",
       "       'Argentina', 'Chile', 'Jordan', 'Ukraine', 'Saint Barthelemy',\n",
       "       'Hungary', 'Faroe Islands', 'Gibraltar', 'Liechtenstein', 'Poland',\n",
       "       'Tunisia', 'Palestine', 'Bosnia and Herzegovina', 'Slovenia',\n",
       "       'South Africa', 'Bhutan', 'Cameroon', 'Costa Rica', 'Peru',\n",
       "       'Serbia', 'Slovakia', 'Togo', 'Vatican City', 'French Guiana',\n",
       "       'Malta', 'Martinique', 'Republic of Ireland', 'Bulgaria',\n",
       "       'Maldives', 'Bangladesh', 'Moldova', 'Paraguay', 'Albania',\n",
       "       'Cyprus', 'St. Martin', 'Brunei', 'occupied Palestinian territory',\n",
       "       \"('St. Martin',)\", 'Burkina Faso', 'Channel Islands', 'Holy See',\n",
       "       'Mongolia', 'Panama', 'Bolivia', 'Honduras', 'Congo (Kinshasa)',\n",
       "       'Jamaica', 'Reunion', 'Turkey', 'Cuba', 'Guyana', 'Kazakhstan',\n",
       "       'Cayman Islands', 'Guadeloupe', 'Ethiopia', 'Sudan', 'Guinea',\n",
       "       'Antigua and Barbuda', 'Aruba', 'Kenya', 'Uruguay', 'Ghana',\n",
       "       'Jersey', 'Namibia', 'Seychelles', 'Trinidad and Tobago',\n",
       "       'Venezuela', 'Curacao', 'Eswatini', 'Gabon', 'Guatemala',\n",
       "       'Guernsey', 'Mauritania', 'Rwanda', 'Saint Lucia',\n",
       "       'Saint Vincent and the Grenadines', 'Suriname', 'Kosovo',\n",
       "       'Central African Republic', 'Congo (Brazzaville)',\n",
       "       'Equatorial Guinea', 'Uzbekistan', 'Guam', 'Puerto Rico', 'Benin',\n",
       "       'Greenland', 'Liberia', 'Mayotte', 'Republic of the Congo',\n",
       "       'Somalia', 'Tanzania', 'The Bahamas', 'Barbados', 'Montenegro',\n",
       "       'The Gambia', 'Kyrgyzstan', 'Mauritius', 'Zambia', 'Djibouti',\n",
       "       'Gambia, The', 'Bahamas, The', 'Chad', 'El Salvador', 'Fiji',\n",
       "       'Nicaragua', 'Madagascar', 'Haiti', 'Angola', 'Cabo Verde',\n",
       "       'Niger', 'Papua New Guinea', 'Zimbabwe', 'Cape Verde',\n",
       "       'East Timor', 'Eritrea', 'Uganda', 'Bahamas', 'Dominica', 'Gambia',\n",
       "       'Grenada', 'Mozambique', 'Samoa', 'Syria', 'Timor-Leste', 'Belize',\n",
       "       'Laos', 'Libya', 'Diamond Princess', 'Guinea-Bissau', 'Mali',\n",
       "       'Saint Kitts and Nevis', 'West Bank and Gaza', 'Burma',\n",
       "       'MS Zaandam', 'Botswana', 'Burundi', 'Sierra Leone', 'Malawi',\n",
       "       'South Sudan', 'Sao Tome and Principe', 'Yemen', 'Comoros',\n",
       "       'Tajikistan', 'Lesotho', 'Solomon Islands', 'Marshall Islands',\n",
       "       'Vanuatu', 'Micronesia'], dtype=object)"
      ]
     },
     "execution_count": 102,
     "metadata": {},
     "output_type": "execute_result"
    }
   ],
   "source": [
    "cases[\"Country/Region\"].unique()"
   ]
  },
  {
   "cell_type": "code",
   "execution_count": 103,
   "metadata": {},
   "outputs": [
    {
     "data": {
      "text/html": [
       "<div>\n",
       "<style scoped>\n",
       "    .dataframe tbody tr th:only-of-type {\n",
       "        vertical-align: middle;\n",
       "    }\n",
       "\n",
       "    .dataframe tbody tr th {\n",
       "        vertical-align: top;\n",
       "    }\n",
       "\n",
       "    .dataframe thead th {\n",
       "        text-align: right;\n",
       "    }\n",
       "</style>\n",
       "<table border=\"1\" class=\"dataframe\">\n",
       "  <thead>\n",
       "    <tr style=\"text-align: right;\">\n",
       "      <th></th>\n",
       "      <th>SNo</th>\n",
       "      <th>ObservationDate</th>\n",
       "      <th>Province/State</th>\n",
       "      <th>Country/Region</th>\n",
       "      <th>Last Update</th>\n",
       "      <th>Confirmed</th>\n",
       "      <th>Deaths</th>\n",
       "      <th>Recovered</th>\n",
       "    </tr>\n",
       "  </thead>\n",
       "  <tbody>\n",
       "    <tr>\n",
       "      <th>78</th>\n",
       "      <td>79</td>\n",
       "      <td>01/23/2020</td>\n",
       "      <td>NaN</td>\n",
       "      <td>Malaysia</td>\n",
       "      <td>1/23/20 17:00</td>\n",
       "      <td>0.0</td>\n",
       "      <td>0.0</td>\n",
       "      <td>0.0</td>\n",
       "    </tr>\n",
       "    <tr>\n",
       "      <th>168</th>\n",
       "      <td>169</td>\n",
       "      <td>01/25/2020</td>\n",
       "      <td>NaN</td>\n",
       "      <td>Malaysia</td>\n",
       "      <td>1/25/20 17:00</td>\n",
       "      <td>3.0</td>\n",
       "      <td>0.0</td>\n",
       "      <td>0.0</td>\n",
       "    </tr>\n",
       "    <tr>\n",
       "      <th>214</th>\n",
       "      <td>215</td>\n",
       "      <td>01/26/2020</td>\n",
       "      <td>NaN</td>\n",
       "      <td>Malaysia</td>\n",
       "      <td>1/26/20 16:00</td>\n",
       "      <td>4.0</td>\n",
       "      <td>0.0</td>\n",
       "      <td>0.0</td>\n",
       "    </tr>\n",
       "    <tr>\n",
       "      <th>260</th>\n",
       "      <td>261</td>\n",
       "      <td>01/27/2020</td>\n",
       "      <td>NaN</td>\n",
       "      <td>Malaysia</td>\n",
       "      <td>1/27/20 23:59</td>\n",
       "      <td>4.0</td>\n",
       "      <td>0.0</td>\n",
       "      <td>0.0</td>\n",
       "    </tr>\n",
       "    <tr>\n",
       "      <th>311</th>\n",
       "      <td>312</td>\n",
       "      <td>01/28/2020</td>\n",
       "      <td>NaN</td>\n",
       "      <td>Malaysia</td>\n",
       "      <td>1/28/20 23:00</td>\n",
       "      <td>4.0</td>\n",
       "      <td>0.0</td>\n",
       "      <td>0.0</td>\n",
       "    </tr>\n",
       "  </tbody>\n",
       "</table>\n",
       "</div>"
      ],
      "text/plain": [
       "     SNo ObservationDate Province/State Country/Region    Last Update  \\\n",
       "78    79      01/23/2020            NaN       Malaysia  1/23/20 17:00   \n",
       "168  169      01/25/2020            NaN       Malaysia  1/25/20 17:00   \n",
       "214  215      01/26/2020            NaN       Malaysia  1/26/20 16:00   \n",
       "260  261      01/27/2020            NaN       Malaysia  1/27/20 23:59   \n",
       "311  312      01/28/2020            NaN       Malaysia  1/28/20 23:00   \n",
       "\n",
       "     Confirmed  Deaths  Recovered  \n",
       "78         0.0     0.0        0.0  \n",
       "168        3.0     0.0        0.0  \n",
       "214        4.0     0.0        0.0  \n",
       "260        4.0     0.0        0.0  \n",
       "311        4.0     0.0        0.0  "
      ]
     },
     "execution_count": 103,
     "metadata": {},
     "output_type": "execute_result"
    }
   ],
   "source": [
    "### BEGIN SOLUTION\n",
    "new_covid_data = cases.loc[cases[\"Country/Region\"] == 'Malaysia']\n",
    "new_covid_data.head()\n",
    "### END SOLUTION"
   ]
  },
  {
   "cell_type": "markdown",
   "metadata": {},
   "source": [
    "We need to make sure there is no missing value in our data\n",
    ">**Instruction** : <br>\n",
    "Use `df.isnull().values.any()` to check any missing data in our dataset. `True` is meant there is `NaN` in our dataset<br>\n",
    "Most of the column does not contain `NaN` except for `Province/State ` . This is acceptable since this data does not useful to us and we will drop it later.\n",
    "\n",
    ">**Expected Result** :<br>\n",
    "\n",
    "Columns|Status\n",
    "---|---\n",
    "SNo                |False\n",
    "ObservationDate    |False\n",
    "Province/State      |True\n",
    "Country/Region     |False\n",
    "Last Update        |False\n",
    "Confirmed          |False\n",
    "Deaths             |False\n",
    "Recovered          |False\n"
   ]
  },
  {
   "cell_type": "code",
   "execution_count": 104,
   "metadata": {},
   "outputs": [
    {
     "data": {
      "text/plain": [
       "SNo                False\n",
       "ObservationDate    False\n",
       "Province/State      True\n",
       "Country/Region     False\n",
       "Last Update        False\n",
       "Confirmed          False\n",
       "Deaths             False\n",
       "Recovered          False\n",
       "dtype: bool"
      ]
     },
     "execution_count": 104,
     "metadata": {},
     "output_type": "execute_result"
    }
   ],
   "source": [
    "### BEGIN SOLUTION\n",
    "new_covid_data.isnull().any()\n",
    "### END SOLUTION"
   ]
  },
  {
   "cell_type": "markdown",
   "metadata": {},
   "source": [
    ">**Instruction** : <br>\n",
    "Set the `ObservationDate` as the index for the dataset.You are required to convert `ObservationDate` to datetime using `pd.to_datetime()` <br>\n",
    "\n",
    ">**Expected Result** :<br>\n",
    "Example of first 5 row data :\n",
    "\n",
    "ObservationDate\t|SNo\t|ObservationDate\t|Province/State\t|Country/Region\t|Last Update\t|Confirmed\t|Deaths\t|Recovered\n",
    " ---|---\t|---\t            |---\t        |---\t        |---\t        |---\t    |---\t|---\n",
    "01/23/2020\t|79\t    |01/23/2020\t|NaN\t|Malaysia\t|1/23/20 |17:00\t|0.0\t|0.0\t|0.0\n",
    "01/25/2020\t|169\t|01/25/2020\t|NaN\t|Malaysia\t|1/25/20 |17:00\t|3.0\t|0.0\t|0.0\n",
    "01/26/2020\t|215\t|01/26/2020\t|NaN\t|Malaysia\t|1/26/20 |16:00\t|4.0\t|0.0\t|0.0\n",
    "01/27/2020\t|261\t|01/27/2020\t|NaN\t|Malaysia\t|1/27/20 |23:59\t|4.0\t|0.0\t|0.0\n",
    "01/28/2020\t|312\t|01/28/2020\t|NaN\t|Malaysia\t|1/28/20 |23:00\t|4.0\t|0.0\t|0.0"
   ]
  },
  {
   "cell_type": "code",
   "execution_count": 105,
   "metadata": {},
   "outputs": [
    {
     "data": {
      "text/html": [
       "<div>\n",
       "<style scoped>\n",
       "    .dataframe tbody tr th:only-of-type {\n",
       "        vertical-align: middle;\n",
       "    }\n",
       "\n",
       "    .dataframe tbody tr th {\n",
       "        vertical-align: top;\n",
       "    }\n",
       "\n",
       "    .dataframe thead th {\n",
       "        text-align: right;\n",
       "    }\n",
       "</style>\n",
       "<table border=\"1\" class=\"dataframe\">\n",
       "  <thead>\n",
       "    <tr style=\"text-align: right;\">\n",
       "      <th></th>\n",
       "      <th>SNo</th>\n",
       "      <th>ObservationDate</th>\n",
       "      <th>Province/State</th>\n",
       "      <th>Country/Region</th>\n",
       "      <th>Last Update</th>\n",
       "      <th>Confirmed</th>\n",
       "      <th>Deaths</th>\n",
       "      <th>Recovered</th>\n",
       "    </tr>\n",
       "    <tr>\n",
       "      <th>ObservationDate</th>\n",
       "      <th></th>\n",
       "      <th></th>\n",
       "      <th></th>\n",
       "      <th></th>\n",
       "      <th></th>\n",
       "      <th></th>\n",
       "      <th></th>\n",
       "      <th></th>\n",
       "    </tr>\n",
       "  </thead>\n",
       "  <tbody>\n",
       "    <tr>\n",
       "      <th>2020-01-23</th>\n",
       "      <td>79</td>\n",
       "      <td>01/23/2020</td>\n",
       "      <td>NaN</td>\n",
       "      <td>Malaysia</td>\n",
       "      <td>1/23/20 17:00</td>\n",
       "      <td>0.0</td>\n",
       "      <td>0.0</td>\n",
       "      <td>0.0</td>\n",
       "    </tr>\n",
       "    <tr>\n",
       "      <th>2020-01-25</th>\n",
       "      <td>169</td>\n",
       "      <td>01/25/2020</td>\n",
       "      <td>NaN</td>\n",
       "      <td>Malaysia</td>\n",
       "      <td>1/25/20 17:00</td>\n",
       "      <td>3.0</td>\n",
       "      <td>0.0</td>\n",
       "      <td>0.0</td>\n",
       "    </tr>\n",
       "    <tr>\n",
       "      <th>2020-01-26</th>\n",
       "      <td>215</td>\n",
       "      <td>01/26/2020</td>\n",
       "      <td>NaN</td>\n",
       "      <td>Malaysia</td>\n",
       "      <td>1/26/20 16:00</td>\n",
       "      <td>4.0</td>\n",
       "      <td>0.0</td>\n",
       "      <td>0.0</td>\n",
       "    </tr>\n",
       "    <tr>\n",
       "      <th>2020-01-27</th>\n",
       "      <td>261</td>\n",
       "      <td>01/27/2020</td>\n",
       "      <td>NaN</td>\n",
       "      <td>Malaysia</td>\n",
       "      <td>1/27/20 23:59</td>\n",
       "      <td>4.0</td>\n",
       "      <td>0.0</td>\n",
       "      <td>0.0</td>\n",
       "    </tr>\n",
       "    <tr>\n",
       "      <th>2020-01-28</th>\n",
       "      <td>312</td>\n",
       "      <td>01/28/2020</td>\n",
       "      <td>NaN</td>\n",
       "      <td>Malaysia</td>\n",
       "      <td>1/28/20 23:00</td>\n",
       "      <td>4.0</td>\n",
       "      <td>0.0</td>\n",
       "      <td>0.0</td>\n",
       "    </tr>\n",
       "  </tbody>\n",
       "</table>\n",
       "</div>"
      ],
      "text/plain": [
       "                 SNo ObservationDate Province/State Country/Region  \\\n",
       "ObservationDate                                                      \n",
       "2020-01-23        79      01/23/2020            NaN       Malaysia   \n",
       "2020-01-25       169      01/25/2020            NaN       Malaysia   \n",
       "2020-01-26       215      01/26/2020            NaN       Malaysia   \n",
       "2020-01-27       261      01/27/2020            NaN       Malaysia   \n",
       "2020-01-28       312      01/28/2020            NaN       Malaysia   \n",
       "\n",
       "                   Last Update  Confirmed  Deaths  Recovered  \n",
       "ObservationDate                                               \n",
       "2020-01-23       1/23/20 17:00        0.0     0.0        0.0  \n",
       "2020-01-25       1/25/20 17:00        3.0     0.0        0.0  \n",
       "2020-01-26       1/26/20 16:00        4.0     0.0        0.0  \n",
       "2020-01-27       1/27/20 23:59        4.0     0.0        0.0  \n",
       "2020-01-28       1/28/20 23:00        4.0     0.0        0.0  "
      ]
     },
     "execution_count": 105,
     "metadata": {},
     "output_type": "execute_result"
    }
   ],
   "source": [
    "### BEGIN SOLUTION\n",
    "new_covid_data = new_covid_data.set_index(pd.to_datetime(new_covid_data[\"ObservationDate\"]))\n",
    "### END SOLUTION\n",
    "\n",
    "new_covid_data.head()"
   ]
  },
  {
   "cell_type": "markdown",
   "metadata": {},
   "source": [
    "Columns such as `SNo`,`ObservationDate`,`Province/State`,`Country/Region`,`Last Update` does not provide any useful information to us . Hence we need to drop it to make the data looks cleaner. \n",
    "\n",
    ">**Instruction** : <br>\n",
    "Use `df.drop` to drop the `columns = ['SNo','ObservationDate','Province/State','Country/Region','Last Update']`<br>\n",
    "\n",
    ">**Expected Result** :<br>\n",
    "\n",
    "ObservationDate\t|Confirmed\t|Deaths\t|Recovered\n",
    "\t---|---|---|---\t\t\n",
    "2020-01-23|\t0.0|\t0.0|\t0.0\n",
    "2020-01-25|\t3.0|\t0.0|\t0.0\n",
    "2020-01-26|\t4.0|\t0.0|\t0.0\n",
    "2020-01-27|\t4.0|\t0.0|\t0.0\n",
    "2020-01-28|\t4.0|    0.0|\t0.0"
   ]
  },
  {
   "cell_type": "code",
   "execution_count": 106,
   "metadata": {},
   "outputs": [
    {
     "data": {
      "text/html": [
       "<div>\n",
       "<style scoped>\n",
       "    .dataframe tbody tr th:only-of-type {\n",
       "        vertical-align: middle;\n",
       "    }\n",
       "\n",
       "    .dataframe tbody tr th {\n",
       "        vertical-align: top;\n",
       "    }\n",
       "\n",
       "    .dataframe thead th {\n",
       "        text-align: right;\n",
       "    }\n",
       "</style>\n",
       "<table border=\"1\" class=\"dataframe\">\n",
       "  <thead>\n",
       "    <tr style=\"text-align: right;\">\n",
       "      <th></th>\n",
       "      <th>Confirmed</th>\n",
       "      <th>Deaths</th>\n",
       "      <th>Recovered</th>\n",
       "    </tr>\n",
       "    <tr>\n",
       "      <th>ObservationDate</th>\n",
       "      <th></th>\n",
       "      <th></th>\n",
       "      <th></th>\n",
       "    </tr>\n",
       "  </thead>\n",
       "  <tbody>\n",
       "    <tr>\n",
       "      <th>2020-01-23</th>\n",
       "      <td>0.0</td>\n",
       "      <td>0.0</td>\n",
       "      <td>0.0</td>\n",
       "    </tr>\n",
       "    <tr>\n",
       "      <th>2020-01-25</th>\n",
       "      <td>3.0</td>\n",
       "      <td>0.0</td>\n",
       "      <td>0.0</td>\n",
       "    </tr>\n",
       "    <tr>\n",
       "      <th>2020-01-26</th>\n",
       "      <td>4.0</td>\n",
       "      <td>0.0</td>\n",
       "      <td>0.0</td>\n",
       "    </tr>\n",
       "    <tr>\n",
       "      <th>2020-01-27</th>\n",
       "      <td>4.0</td>\n",
       "      <td>0.0</td>\n",
       "      <td>0.0</td>\n",
       "    </tr>\n",
       "    <tr>\n",
       "      <th>2020-01-28</th>\n",
       "      <td>4.0</td>\n",
       "      <td>0.0</td>\n",
       "      <td>0.0</td>\n",
       "    </tr>\n",
       "  </tbody>\n",
       "</table>\n",
       "</div>"
      ],
      "text/plain": [
       "                 Confirmed  Deaths  Recovered\n",
       "ObservationDate                              \n",
       "2020-01-23             0.0     0.0        0.0\n",
       "2020-01-25             3.0     0.0        0.0\n",
       "2020-01-26             4.0     0.0        0.0\n",
       "2020-01-27             4.0     0.0        0.0\n",
       "2020-01-28             4.0     0.0        0.0"
      ]
     },
     "execution_count": 106,
     "metadata": {},
     "output_type": "execute_result"
    }
   ],
   "source": [
    "### BEGIN SOLUTION\n",
    "new_covid_data = new_covid_data.drop(columns = ['SNo','ObservationDate','Province/State','Country/Region','Last Update'])\n",
    "### END SOLUTION\n",
    "new_covid_data.head()"
   ]
  },
  {
   "cell_type": "markdown",
   "metadata": {},
   "source": [
    "To make our window sliding function working. You need to rearrange the data columns such as the targeted forecast series will be the last column of the data\n",
    ">**Instruction** : <br>\n",
    "Rearrage the data column using `df[]`<br>\n",
    "For example : <br>\n",
    "columns = [`A`,`B`,`C`]<br>\n",
    "rearrage columns = [`A`,`C`,`B`]<br>\n",
    "`df =  df[rearrage columns]`\n",
    "\n",
    ">**Expected Result** :<br>\n",
    "\n",
    "ObservationDate|\tConfirmed|\tRecovered|\tDeaths\n",
    "\t\t---|---|---|---\t\n",
    "2020-01-23|\t0.0|\t0.0|\t0.0\n",
    "2020-01-25|\t3.0|\t0.0|\t0.0\n",
    "2020-01-26|\t4.0|\t0.0|\t0.0\n",
    "2020-01-27|\t4.0|\t0.0|\t0.0\n",
    "2020-01-28|\t4.0|\t0.0|\t0.0"
   ]
  },
  {
   "cell_type": "code",
   "execution_count": 107,
   "metadata": {},
   "outputs": [
    {
     "data": {
      "text/html": [
       "<div>\n",
       "<style scoped>\n",
       "    .dataframe tbody tr th:only-of-type {\n",
       "        vertical-align: middle;\n",
       "    }\n",
       "\n",
       "    .dataframe tbody tr th {\n",
       "        vertical-align: top;\n",
       "    }\n",
       "\n",
       "    .dataframe thead th {\n",
       "        text-align: right;\n",
       "    }\n",
       "</style>\n",
       "<table border=\"1\" class=\"dataframe\">\n",
       "  <thead>\n",
       "    <tr style=\"text-align: right;\">\n",
       "      <th></th>\n",
       "      <th>Confirmed</th>\n",
       "      <th>Recovered</th>\n",
       "      <th>Deaths</th>\n",
       "    </tr>\n",
       "    <tr>\n",
       "      <th>ObservationDate</th>\n",
       "      <th></th>\n",
       "      <th></th>\n",
       "      <th></th>\n",
       "    </tr>\n",
       "  </thead>\n",
       "  <tbody>\n",
       "    <tr>\n",
       "      <th>2020-01-23</th>\n",
       "      <td>0.0</td>\n",
       "      <td>0.0</td>\n",
       "      <td>0.0</td>\n",
       "    </tr>\n",
       "    <tr>\n",
       "      <th>2020-01-25</th>\n",
       "      <td>3.0</td>\n",
       "      <td>0.0</td>\n",
       "      <td>0.0</td>\n",
       "    </tr>\n",
       "    <tr>\n",
       "      <th>2020-01-26</th>\n",
       "      <td>4.0</td>\n",
       "      <td>0.0</td>\n",
       "      <td>0.0</td>\n",
       "    </tr>\n",
       "    <tr>\n",
       "      <th>2020-01-27</th>\n",
       "      <td>4.0</td>\n",
       "      <td>0.0</td>\n",
       "      <td>0.0</td>\n",
       "    </tr>\n",
       "    <tr>\n",
       "      <th>2020-01-28</th>\n",
       "      <td>4.0</td>\n",
       "      <td>0.0</td>\n",
       "      <td>0.0</td>\n",
       "    </tr>\n",
       "  </tbody>\n",
       "</table>\n",
       "</div>"
      ],
      "text/plain": [
       "                 Confirmed  Recovered  Deaths\n",
       "ObservationDate                              \n",
       "2020-01-23             0.0        0.0     0.0\n",
       "2020-01-25             3.0        0.0     0.0\n",
       "2020-01-26             4.0        0.0     0.0\n",
       "2020-01-27             4.0        0.0     0.0\n",
       "2020-01-28             4.0        0.0     0.0"
      ]
     },
     "execution_count": 107,
     "metadata": {},
     "output_type": "execute_result"
    }
   ],
   "source": [
    "### BEGIN SOLUTION\n",
    "new_covid_data = new_covid_data[[\"Confirmed\",\"Recovered\",\"Deaths\"]]\n",
    "### END SOLUTION\n",
    "new_covid_data.head()"
   ]
  },
  {
   "cell_type": "markdown",
   "metadata": {},
   "source": [
    "## Data Visualization\n",
    "Data visualization is importance for us to visualize the pattern of data such as trend and seasonality. As the graph below, it is shown that it is an increasing trend in data"
   ]
  },
  {
   "cell_type": "code",
   "execution_count": 108,
   "metadata": {},
   "outputs": [
    {
     "data": {
      "image/png": "[encoded data removed]",
      "text/plain": [
       "<Figure size 792x648 with 3 Axes>"
      ]
     },
     "metadata": {
      "needs_background": "light"
     },
     "output_type": "display_data"
    }
   ],
   "source": [
    "# Visualize Data \n",
    "axes = new_covid_data[new_covid_data.columns].plot(alpha=1.0, linestyle='-', figsize=(11, 9), subplots=True)\n",
    "for ax in axes:\n",
    "    ax.set_ylabel('COVID-19-Malaysia')"
   ]
  },
  {
   "cell_type": "markdown",
   "metadata": {},
   "source": [
    "However, the data is in cumulative form. To perform time-series prediction, we need to convert the cumulative cases into daily cases.\n",
    "\n",
    ">**Instruction** : <br>\n",
    "Remove the cummulative. You might need to use a `For loop` to loop through the data for each columns .Use `new_covid_data[name] - new_covid_data[name].shift().fillna(0)` as the math operation to remove the cummulative<br>\n",
    "\n",
    ">**Expected Result** :<br>\n",
    "\n",
    "ObservationDate|\tConfirmed|\tRecovered|\tDeaths|\n",
    "\t---|\t---|---|---\t\n",
    "2020-01-23|\t0.0|\t0.0|\t0.0|\n",
    "2020-01-25|\t3.0|\t0.0|\t0.0|\n",
    "2020-01-26|\t1.0|\t0.0|\t0.0|\n",
    "2020-01-27|\t0.0|\t0.0|\t0.0|\n",
    "2020-01-28|\t0.0|\t0.0|\t0.0|"
   ]
  },
  {
   "cell_type": "code",
   "execution_count": 109,
   "metadata": {},
   "outputs": [
    {
     "data": {
      "text/html": [
       "<div>\n",
       "<style scoped>\n",
       "    .dataframe tbody tr th:only-of-type {\n",
       "        vertical-align: middle;\n",
       "    }\n",
       "\n",
       "    .dataframe tbody tr th {\n",
       "        vertical-align: top;\n",
       "    }\n",
       "\n",
       "    .dataframe thead th {\n",
       "        text-align: right;\n",
       "    }\n",
       "</style>\n",
       "<table border=\"1\" class=\"dataframe\">\n",
       "  <thead>\n",
       "    <tr style=\"text-align: right;\">\n",
       "      <th></th>\n",
       "      <th>Confirmed</th>\n",
       "      <th>Recovered</th>\n",
       "      <th>Deaths</th>\n",
       "    </tr>\n",
       "    <tr>\n",
       "      <th>ObservationDate</th>\n",
       "      <th></th>\n",
       "      <th></th>\n",
       "      <th></th>\n",
       "    </tr>\n",
       "  </thead>\n",
       "  <tbody>\n",
       "    <tr>\n",
       "      <th>2020-01-23</th>\n",
       "      <td>0.0</td>\n",
       "      <td>0.0</td>\n",
       "      <td>0.0</td>\n",
       "    </tr>\n",
       "    <tr>\n",
       "      <th>2020-01-25</th>\n",
       "      <td>3.0</td>\n",
       "      <td>0.0</td>\n",
       "      <td>0.0</td>\n",
       "    </tr>\n",
       "    <tr>\n",
       "      <th>2020-01-26</th>\n",
       "      <td>1.0</td>\n",
       "      <td>0.0</td>\n",
       "      <td>0.0</td>\n",
       "    </tr>\n",
       "    <tr>\n",
       "      <th>2020-01-27</th>\n",
       "      <td>0.0</td>\n",
       "      <td>0.0</td>\n",
       "      <td>0.0</td>\n",
       "    </tr>\n",
       "    <tr>\n",
       "      <th>2020-01-28</th>\n",
       "      <td>0.0</td>\n",
       "      <td>0.0</td>\n",
       "      <td>0.0</td>\n",
       "    </tr>\n",
       "  </tbody>\n",
       "</table>\n",
       "</div>"
      ],
      "text/plain": [
       "                 Confirmed  Recovered  Deaths\n",
       "ObservationDate                              \n",
       "2020-01-23             0.0        0.0     0.0\n",
       "2020-01-25             3.0        0.0     0.0\n",
       "2020-01-26             1.0        0.0     0.0\n",
       "2020-01-27             0.0        0.0     0.0\n",
       "2020-01-28             0.0        0.0     0.0"
      ]
     },
     "execution_count": 109,
     "metadata": {},
     "output_type": "execute_result"
    }
   ],
   "source": [
    "### BEGIN SOLUTION\n",
    "for name in new_covid_data.columns:\n",
    "        new_covid_data[name] = new_covid_data[name] - new_covid_data[name].shift().fillna(0)\n",
    "### END SOLUTION\n",
    "new_covid_data.head()"
   ]
  },
  {
   "cell_type": "code",
   "execution_count": 110,
   "metadata": {},
   "outputs": [
    {
     "data": {
      "image/png": "[encoded data removed]",
      "text/plain": [
       "<Figure size 792x648 with 3 Axes>"
      ]
     },
     "metadata": {
      "needs_background": "light"
     },
     "output_type": "display_data"
    }
   ],
   "source": [
    "# Visualize Data \n",
    "axes = new_covid_data[new_covid_data.columns].plot(alpha=1.0, linestyle='-', figsize=(11, 9), subplots=True)\n",
    "for ax in axes:\n",
    "    ax.set_ylabel('COVID-19-Malaysia')"
   ]
  },
  {
   "cell_type": "markdown",
   "metadata": {},
   "source": [
    "## Data Splitting\n",
    "In Deep Learning, we will split the data into training and test dataset. The training data is used to train the model where the test data is used to validate the performance of the model."
   ]
  },
  {
   "cell_type": "code",
   "execution_count": 111,
   "metadata": {},
   "outputs": [
    {
     "data": {
      "text/plain": [
       "21"
      ]
     },
     "execution_count": 111,
     "metadata": {},
     "output_type": "execute_result"
    }
   ],
   "source": [
    "split_data_covid = round(len(dataset)*split_ratio)\n",
    "split_data_covid"
   ]
  },
  {
   "cell_type": "code",
   "execution_count": 112,
   "metadata": {},
   "outputs": [
    {
     "name": "stdout",
     "output_type": "stream",
     "text": [
      "train_data_shape\n",
      "(380, 3)\n",
      "test_data_shape\n",
      "(21, 3)\n"
     ]
    }
   ],
   "source": [
    "# Split data by indexing \n",
    "train_data_covid = new_covid_data[:-split_data_covid ]\n",
    "test_data_covid = new_covid_data[-split_data_covid :]\n",
    "train_time_covid = new_covid_data.index[:-split_data_covid ]\n",
    "test_time_covid = new_covid_data.index[-split_data_covid :]\n",
    "\n",
    "print(\"train_data_shape\")\n",
    "print(train_data_covid.shape)\n",
    "print(\"test_data_shape\")\n",
    "print(test_data_covid.shape)"
   ]
  },
  {
   "cell_type": "markdown",
   "metadata": {},
   "source": [
    "## Data Normalization \n",
    "Normalize the data into range of 0 to 1"
   ]
  },
  {
   "cell_type": "code",
   "execution_count": 113,
   "metadata": {},
   "outputs": [
    {
     "name": "stdout",
     "output_type": "stream",
     "text": [
      "train_data_normalized_demand(1140, 1)\n",
      "test_data_normalized_demand(63, 1)\n"
     ]
    }
   ],
   "source": [
    "scaler_covid = MinMaxScaler().fit(train_data_covid.values.reshape(-1,1))\n",
    "train_data_normalized_covid  = scaler_covid.transform(train_data_covid.values.reshape(-1, 1))\n",
    "test_data_normalized_covid = scaler_covid.transform(test_data_covid.values.reshape(-1, 1))\n",
    "print(\"train_data_normalized_demand\"+str(train_data_normalized_covid.shape))\n",
    "print(\"test_data_normalized_demand\"+str(test_data_normalized_covid.shape))"
   ]
  },
  {
   "cell_type": "code",
   "execution_count": 114,
   "metadata": {},
   "outputs": [
    {
     "name": "stdout",
     "output_type": "stream",
     "text": [
      "test_data_normalized(380, 3)\n",
      "test_data_normalized(21, 3)\n"
     ]
    }
   ],
   "source": [
    "# Transform after scaling \n",
    "train_data_normalized_covid = train_data_normalized_covid.reshape(train_data_covid.shape[0],train_data_covid.shape[1])\n",
    "print(\"test_data_normalized\"+str(train_data_normalized_covid.shape))\n",
    "\n",
    "test_data_normalized_covid = test_data_normalized_covid.reshape(test_data_covid.shape[0],test_data_covid.shape[1])\n",
    "print(\"test_data_normalized\"+str(test_data_normalized_covid.shape))"
   ]
  },
  {
   "cell_type": "markdown",
   "metadata": {},
   "source": [
    "## Data Sequencing\n",
    "Sequencing the data by taking in the multivariate series into x-feature and y-label\n",
    "<img src = \"../../picture/multivariate univariate.png\"  width=\"300\" height  =\"300\" align=\"center\" />"
   ]
  },
  {
   "cell_type": "code",
   "execution_count": 115,
   "metadata": {},
   "outputs": [
    {
     "name": "stdout",
     "output_type": "stream",
     "text": [
      "trainX_demand shape:(369, 10, 2) trainY_demand shape:(369, 3)\n",
      "\n",
      "testX_demand shape:(10, 10, 2) testY_demand shape:(10, 3)\n"
     ]
    }
   ],
   "source": [
    "trainX_covid ,trainY_covid=  data_module.multivariate_univariate_multi_step(train_data_normalized_covid,window_size_covid,n_step_covid)\n",
    "testX_covid , testY_covid = data_module.multivariate_univariate_multi_step(test_data_normalized_covid,window_size_covid,n_step_covid)\n",
    "print(f\"trainX_demand shape:{trainX_covid.shape} trainY_demand shape:{trainY_covid.shape}\\n\")\n",
    "print(f\"testX_demand shape:{testX_covid.shape} testY_demand shape:{testY_covid.shape}\")"
   ]
  },
  {
   "cell_type": "code",
   "execution_count": 116,
   "metadata": {},
   "outputs": [
    {
     "name": "stdout",
     "output_type": "stream",
     "text": [
      "trainY shape:(369, 3, 1)\n",
      "testY shape:(10, 3, 1)\n"
     ]
    }
   ],
   "source": [
    "trainY_covid = trainY_covid.reshape(trainY_covid.shape[0],n_step_covid,1)\n",
    "testY_covid= testY_covid.reshape(testY_covid.shape[0],n_step_covid,1)\n",
    "print(f\"trainY shape:{trainY_covid.shape}\")\n",
    "print(f\"testY shape:{testY_covid.shape}\")"
   ]
  },
  {
   "cell_type": "markdown",
   "metadata": {},
   "source": [
    "### Data Transform\n",
    "Data need to transform from numpy to pytorch tensor before feed into the model.\n",
    "\n",
    ">**Instruction** : <br>\n",
    "Use `data_module.key_assign` to assign the key and `data_module.transform` to transform the data."
   ]
  },
  {
   "cell_type": "code",
   "execution_count": 117,
   "metadata": {},
   "outputs": [],
   "source": [
    "### BEGIN SOLUTION\n",
    "train_data_dict_covid ,test_data_dict_covid = data_module.key_assign(trainingX = trainX_covid  , \n",
    "                       testingX = testX_covid, \n",
    "                       trainingY = trainY_covid, \n",
    "                       testingY = testY_covid)\n",
    "train_data_dict_covid ,test_data_dict_covid = data_module.transform(train_data_dict_covid ,test_data_dict_covid)\n",
    "### END SOLUTION"
   ]
  },
  {
   "cell_type": "code",
   "execution_count": 118,
   "metadata": {},
   "outputs": [
    {
     "name": "stdout",
     "output_type": "stream",
     "text": [
      "train_data_x_feature shape : torch.Size([369, 10, 2])\n",
      "train_data_y_label shape : torch.Size([369, 3, 1])\n",
      "test_data_x_feature shape : torch.Size([10, 10, 2])\n",
      "test_data_y_label shape : torch.Size([10, 3, 1])\n"
     ]
    }
   ],
   "source": [
    "data_module.sanity_check(train_data_dict_covid , test_data_dict_covid)"
   ]
  },
  {
   "cell_type": "markdown",
   "metadata": {},
   "source": [
    "## Data Transpose \n",
    "You are require to transpose the x-feature data in a such a way that : <br>\n",
    ">`(batch_size, number_of_features, sequence_length)`.\n",
    "\n",
    "\n",
    ">**Instruction** : <br>\n",
    "Use `transpose` function in `data_module.py` to transpose the suitable input data for CNN model."
   ]
  },
  {
   "cell_type": "code",
   "execution_count": 122,
   "metadata": {},
   "outputs": [],
   "source": [
    "train_data_dict_covid , test_data_dict_covid = data_module.transpose(train_data_dict_covid,\n",
    "                                                                     test_data_dict_covid)"
   ]
  },
  {
   "cell_type": "code",
   "execution_count": 123,
   "metadata": {},
   "outputs": [
    {
     "name": "stdout",
     "output_type": "stream",
     "text": [
      "train_data_x_feature shape : torch.Size([369, 2, 10])\n",
      "train_data_y_label shape : torch.Size([369, 3, 1])\n",
      "test_data_x_feature shape : torch.Size([10, 2, 10])\n",
      "test_data_y_label shape : torch.Size([10, 3, 1])\n"
     ]
    }
   ],
   "source": [
    "data_module.sanity_check(train_data_dict_covid , test_data_dict_covid)"
   ]
  },
  {
   "cell_type": "markdown",
   "metadata": {},
   "source": [
    "## Data Iterator\n",
    "Iterator is created to allow the data separate into several batches to fasten the training process\n",
    ">**Instruction** : <br>\n",
    "Use `data_module.iterator` to create data iterator."
   ]
  },
  {
   "cell_type": "code",
   "execution_count": 124,
   "metadata": {},
   "outputs": [],
   "source": [
    "### BEGIN SOLUTION\n",
    "train_iter_covid , test_iter_covid = data_module.iterator(train_data_dict_covid ,\n",
    "                                                          test_data_dict_covid,\n",
    "                                                          batch_size = batch_size_covid)\n",
    "### END SOLUTION"
   ]
  },
  {
   "cell_type": "markdown",
   "metadata": {},
   "source": [
    "## Input Model\n",
    "\n",
    ">**Instruction** : <br>\n",
    "Input the model that you have configure"
   ]
  },
  {
   "cell_type": "code",
   "execution_count": 125,
   "metadata": {},
   "outputs": [],
   "source": [
    "# seed\n",
    "torch.manual_seed(123)\n",
    "\n",
    "n_feature_covid = train_data_dict_covid['train_data_x_feature'].shape[1]\n",
    "### BEGIN SOLUTION\n",
    "# Input the attribute need by the model \n",
    "model_covid = CNN(n_feature = n_feature_covid,\n",
    "                  n_step = n_step_covid )\n",
    "\n",
    "### END SOLUTION\n",
    "\n",
    "# Define the optimizer (Here we use Adam as our optimizer)\n",
    "### BEGIN SOLUTION\n",
    "optimizer_covid = torch.optim.Adam(model_covid.parameters(), lr=learning_rate_covid)\n",
    "### END SOLUTION\n",
    "\n",
    "# Define the loss function (Here we use MSE as the loss function)\n",
    "### BEGIN SOLUTION\n",
    "loss_fn_covid = nn.MSELoss()\n",
    "### END SOLUTION"
   ]
  },
  {
   "cell_type": "code",
   "execution_count": 126,
   "metadata": {},
   "outputs": [
    {
     "name": "stdout",
     "output_type": "stream",
     "text": [
      "====================================================\n",
      "        Kernel Shape Output Shape Params Mult-Adds\n",
      "Layer                                             \n",
      "0_conv1   [2, 30, 2]   [5, 30, 9]  150.0     1.08k\n",
      "1_poo1             -   [5, 30, 4]      -         -\n",
      "2_conv2  [30, 20, 2]   [5, 20, 3]  1.22k      3.6k\n",
      "3_pool2            -   [5, 20, 1]      -         -\n",
      "4_fc1       [20, 10]      [5, 10]  210.0     200.0\n",
      "5_fc2        [10, 3]       [5, 3]   33.0      30.0\n",
      "----------------------------------------------------\n",
      "                      Totals\n",
      "Total params          1.613k\n",
      "Trainable params      1.613k\n",
      "Non-trainable params     0.0\n",
      "Mult-Adds              4.91k\n",
      "====================================================\n",
      "        Kernel Shape Output Shape  Params  Mult-Adds\n",
      "Layer                                               \n",
      "0_conv1   [2, 30, 2]   [5, 30, 9]   150.0     1080.0\n",
      "1_poo1             -   [5, 30, 4]     NaN        NaN\n",
      "2_conv2  [30, 20, 2]   [5, 20, 3]  1220.0     3600.0\n",
      "3_pool2            -   [5, 20, 1]     NaN        NaN\n",
      "4_fc1       [20, 10]      [5, 10]   210.0      200.0\n",
      "5_fc2        [10, 3]       [5, 3]    33.0       30.0\n"
     ]
    }
   ],
   "source": [
    "seq_length_covid = train_data_dict_covid['train_data_x_feature'].shape[2]\n",
    "\n",
    "# batch size ,input_dim ,seq_length\n",
    "inputs = torch.zeros((batch_size_covid,\n",
    "                      n_feature_covid ,\n",
    "                      seq_length_covid),dtype=torch.float) \n",
    "\n",
    "print(summary(model_covid,inputs))"
   ]
  },
  {
   "cell_type": "code",
   "execution_count": 127,
   "metadata": {},
   "outputs": [
    {
     "data": {
      "text/plain": [
       "CNN(\n",
       "  (conv1): Conv1d(2, 30, kernel_size=(2,), stride=(1,))\n",
       "  (poo1): MaxPool1d(kernel_size=2, stride=2, padding=0, dilation=1, ceil_mode=False)\n",
       "  (conv2): Conv1d(30, 20, kernel_size=(2,), stride=(1,))\n",
       "  (pool2): AdaptiveMaxPool1d(output_size=1)\n",
       "  (fc1): Linear(in_features=20, out_features=10, bias=True)\n",
       "  (fc2): Linear(in_features=10, out_features=3, bias=True)\n",
       ")"
      ]
     },
     "execution_count": 127,
     "metadata": {},
     "output_type": "execute_result"
    }
   ],
   "source": [
    "torch.manual_seed(123)\n",
    "\n",
    "# Xavier weight intialization\n",
    "def weights_init(m):\n",
    "    if isinstance(m, nn.Conv1d):\n",
    "        nn.init.xavier_uniform_(m.weight.data)\n",
    "        \n",
    "model_covid.apply(weights_init)"
   ]
  },
  {
   "cell_type": "markdown",
   "metadata": {},
   "source": [
    "# Step 3 : Training\n",
    ">**Instruction** : <br>\n",
    "Use `deep_learning_module.training` to train the model."
   ]
  },
  {
   "cell_type": "code",
   "execution_count": 128,
   "metadata": {},
   "outputs": [],
   "source": [
    "#seed\n",
    "torch.manual_seed(123)\n",
    "### BEGIN SOLUTION\n",
    "\n",
    "# Start training \n",
    "train_loss_covid,val_loss_covid = deep_learning_module.training(num_epochs= num_epochs_covid ,\n",
    "                                                    train_iter = train_iter_covid,\n",
    "                                                    test_iter = test_iter_covid ,\n",
    "                                                    optimizer = optimizer_covid,\n",
    "                                                    loss_fn = loss_fn_covid,\n",
    "                                                    model = model_covid)\n",
    "### END SOLUTION"
   ]
  },
  {
   "cell_type": "markdown",
   "metadata": {},
   "source": [
    "# Step 4 : Validation"
   ]
  },
  {
   "cell_type": "code",
   "execution_count": 129,
   "metadata": {},
   "outputs": [
    {
     "data": {
      "image/png": "[encoded data removed]",
      "text/plain": [
       "<Figure size 720x432 with 1 Axes>"
      ]
     },
     "metadata": {
      "needs_background": "light"
     },
     "output_type": "display_data"
    },
    {
     "name": "stdout",
     "output_type": "stream",
     "text": [
      "Epoch : 0 , training loss : 0.017914985473454503 , validation loss : 0.0008677042205817997\n",
      "Epoch : 1 , training loss : 0.00019197204279299294 , validation loss : 1.3145560842531268e-05\n",
      "Epoch : 2 , training loss : 4.805578873918194e-05 , validation loss : 1.9494360003591282e-05\n",
      "Epoch : 3 , training loss : 1.892400673302271e-05 , validation loss : 3.5657587432069704e-05\n",
      "Epoch : 4 , training loss : 8.930394606246843e-06 , validation loss : 4.349088703747839e-05\n",
      "Epoch : 5 , training loss : 5.480725615694945e-06 , validation loss : 4.6482264224323444e-05\n",
      "Epoch : 6 , training loss : 4.089781870201629e-06 , validation loss : 4.687286673288327e-05\n",
      "Epoch : 7 , training loss : 3.3738806840884186e-06 , validation loss : 4.493790493143024e-05\n",
      "Epoch : 8 , training loss : 2.9385452074178114e-06 , validation loss : 4.302582328818971e-05\n",
      "Epoch : 9 , training loss : 2.692804934693288e-06 , validation loss : 4.1526276618242264e-05\n",
      "Epoch : 10 , training loss : 2.5585814555086942e-06 , validation loss : 4.049792823934695e-05\n",
      "Epoch : 11 , training loss : 2.4775471050413137e-06 , validation loss : 3.963268500228878e-05\n",
      "Epoch : 12 , training loss : 2.4359053101954925e-06 , validation loss : 3.907930658897385e-05\n",
      "Epoch : 13 , training loss : 2.417423474402304e-06 , validation loss : 3.8710500120942015e-05\n",
      "Epoch : 14 , training loss : 2.4321839773167886e-06 , validation loss : 3.858433137793327e-05\n",
      "Epoch : 15 , training loss : 2.4618283268658192e-06 , validation loss : 3.804807965934742e-05\n",
      "Epoch : 16 , training loss : 2.4913773743649487e-06 , validation loss : 3.757909780688351e-05\n",
      "Epoch : 17 , training loss : 2.522546369578742e-06 , validation loss : 3.722240489878459e-05\n",
      "Epoch : 18 , training loss : 2.5359120872219057e-06 , validation loss : 3.676925189211033e-05\n",
      "Epoch : 19 , training loss : 2.591303143136154e-06 , validation loss : 3.631268555182032e-05\n",
      "Epoch : 20 , training loss : 2.6220051441451235e-06 , validation loss : 3.5874922104994766e-05\n",
      "Epoch : 21 , training loss : 2.690347781296548e-06 , validation loss : 3.5557754927140195e-05\n",
      "Epoch : 22 , training loss : 2.7168519471588776e-06 , validation loss : 3.520559494063491e-05\n",
      "Epoch : 23 , training loss : 2.758129973108934e-06 , validation loss : 3.4882910767919384e-05\n",
      "Epoch : 24 , training loss : 2.797536344401173e-06 , validation loss : 3.472254229563987e-05\n",
      "Epoch : 25 , training loss : 2.81032916756331e-06 , validation loss : 3.464435121713905e-05\n",
      "Epoch : 26 , training loss : 2.80261061316786e-06 , validation loss : 3.4621562917891424e-05\n",
      "Epoch : 27 , training loss : 2.7721066911201333e-06 , validation loss : 3.454377110756468e-05\n",
      "Epoch : 28 , training loss : 2.7095807501136283e-06 , validation loss : 3.456528975220863e-05\n",
      "Epoch : 29 , training loss : 2.653843694894292e-06 , validation loss : 3.4509362194512505e-05\n",
      "Epoch : 30 , training loss : 2.588263636605917e-06 , validation loss : 3.4439488445059396e-05\n",
      "Epoch : 31 , training loss : 2.534773882687368e-06 , validation loss : 3.4128779589082114e-05\n",
      "Epoch : 32 , training loss : 2.4762353229702103e-06 , validation loss : 3.388989171071444e-05\n",
      "Epoch : 33 , training loss : 2.4471343492466943e-06 , validation loss : 3.370245758560486e-05\n",
      "Epoch : 34 , training loss : 2.4176458580651284e-06 , validation loss : 3.323026430734899e-05\n",
      "Epoch : 35 , training loss : 2.3705205621827485e-06 , validation loss : 3.304480287624756e-05\n",
      "Epoch : 36 , training loss : 2.3657544359188434e-06 , validation loss : 3.2372728128393646e-05\n",
      "Epoch : 37 , training loss : 2.2960710110179985e-06 , validation loss : 3.174251014570473e-05\n",
      "Epoch : 38 , training loss : 2.254353378439216e-06 , validation loss : 3.1328407203545794e-05\n",
      "Epoch : 39 , training loss : 2.1771203967453434e-06 , validation loss : 3.067086618102621e-05\n",
      "Epoch : 40 , training loss : 2.0314668183738287e-06 , validation loss : 3.075221502513159e-05\n",
      "Epoch : 41 , training loss : 1.9201000847201266e-06 , validation loss : 3.075918993999949e-05\n",
      "Epoch : 42 , training loss : 1.7755612522184492e-06 , validation loss : 3.066811495955335e-05\n",
      "Epoch : 43 , training loss : 1.6588334312123157e-06 , validation loss : 3.153954730805708e-05\n",
      "Epoch : 44 , training loss : 1.6222085894392866e-06 , validation loss : 3.1537548238702584e-05\n",
      "Epoch : 45 , training loss : 1.5815650754371822e-06 , validation loss : 3.263543840148486e-05\n",
      "Epoch : 46 , training loss : 1.614263861569428e-06 , validation loss : 3.248288339818828e-05\n",
      "Epoch : 47 , training loss : 1.6154123610065053e-06 , validation loss : 3.398007083887933e-05\n",
      "Epoch : 48 , training loss : 1.7348683768221193e-06 , validation loss : 3.4174122447439004e-05\n",
      "Epoch : 49 , training loss : 1.7489350194370652e-06 , validation loss : 3.479993665678194e-05\n",
      "Epoch : 50 , training loss : 1.8216750804745221e-06 , validation loss : 3.5469812246446963e-05\n",
      "Epoch : 51 , training loss : 1.9534463641080122e-06 , validation loss : 3.610109524743166e-05\n",
      "Epoch : 52 , training loss : 2.1145532585672983e-06 , validation loss : 3.6206451113685034e-05\n",
      "Epoch : 53 , training loss : 2.2860235730674103e-06 , validation loss : 3.625870340329129e-05\n",
      "Epoch : 54 , training loss : 2.4549535454929145e-06 , validation loss : 3.6101359910389874e-05\n",
      "Epoch : 55 , training loss : 2.5986769898738234e-06 , validation loss : 3.565052611520514e-05\n",
      "Epoch : 56 , training loss : 2.772407587877809e-06 , validation loss : 3.572521654859884e-05\n",
      "Epoch : 57 , training loss : 2.8987978033023927e-06 , validation loss : 3.569597720343154e-05\n",
      "Epoch : 58 , training loss : 3.113843236566627e-06 , validation loss : 3.552551606844645e-05\n",
      "Epoch : 59 , training loss : 3.1215371591990213e-06 , validation loss : 3.4878279620897956e-05\n",
      "Epoch : 60 , training loss : 2.8512188541316364e-06 , validation loss : 3.1371241675515193e-05\n",
      "Epoch : 61 , training loss : 2.0267091366407556e-06 , validation loss : 2.866398062906228e-05\n",
      "Epoch : 62 , training loss : 1.383572074942008e-06 , validation loss : 2.5587577056285227e-05\n",
      "Epoch : 63 , training loss : 1.0841657438524343e-06 , validation loss : 2.4332402063009795e-05\n",
      "Epoch : 64 , training loss : 1.0633527634232934e-06 , validation loss : 2.475527799106203e-05\n",
      "Epoch : 65 , training loss : 1.1350022026914022e-06 , validation loss : 2.532574899305473e-05\n",
      "Epoch : 66 , training loss : 1.2720258487867456e-06 , validation loss : 2.4974891402962385e-05\n",
      "Epoch : 67 , training loss : 1.5114364647221985e-06 , validation loss : 2.3366067125607515e-05\n",
      "Epoch : 68 , training loss : 1.9874636251184653e-06 , validation loss : 2.255110302940011e-05\n",
      "Epoch : 69 , training loss : 3.0956954383755935e-06 , validation loss : 2.5186294351442484e-05\n",
      "Epoch : 70 , training loss : 4.90672130404053e-06 , validation loss : 2.7448914352135034e-05\n",
      "Epoch : 71 , training loss : 5.5679780769847135e-06 , validation loss : 2.8022605874866713e-05\n",
      "Epoch : 72 , training loss : 5.355713776702927e-06 , validation loss : 2.4783551452856045e-05\n",
      "Epoch : 73 , training loss : 3.835976128187374e-06 , validation loss : 2.4529402253392618e-05\n",
      "Epoch : 74 , training loss : 3.118129357495444e-06 , validation loss : 2.5834175630734535e-05\n",
      "Epoch : 75 , training loss : 3.220312208125612e-06 , validation loss : 2.6325804356019944e-05\n",
      "Epoch : 76 , training loss : 3.1336258347314628e-06 , validation loss : 2.641372293510358e-05\n",
      "Epoch : 77 , training loss : 3.1632268421075234e-06 , validation loss : 2.6283586521458346e-05\n",
      "Epoch : 78 , training loss : 3.085436006090843e-06 , validation loss : 2.5977965378842782e-05\n",
      "Epoch : 79 , training loss : 3.109892757694565e-06 , validation loss : 2.6155928935622796e-05\n",
      "Epoch : 80 , training loss : 3.099972054976944e-06 , validation loss : 2.573463279986754e-05\n",
      "Epoch : 81 , training loss : 2.99975932035568e-06 , validation loss : 2.5775607355171815e-05\n",
      "Epoch : 82 , training loss : 3.020850740107609e-06 , validation loss : 2.534468376325094e-05\n",
      "Epoch : 83 , training loss : 2.866273057026446e-06 , validation loss : 2.4942156414908823e-05\n",
      "Epoch : 84 , training loss : 2.835877245557926e-06 , validation loss : 2.4530822429369437e-05\n",
      "Epoch : 85 , training loss : 2.67613203721932e-06 , validation loss : 2.4288458916998934e-05\n",
      "Epoch : 86 , training loss : 2.7236898512290055e-06 , validation loss : 2.3848996988817817e-05\n",
      "Epoch : 87 , training loss : 2.6301262867400263e-06 , validation loss : 2.3678574962104904e-05\n",
      "Epoch : 88 , training loss : 2.594098754755499e-06 , validation loss : 2.3190060801425716e-05\n",
      "Epoch : 89 , training loss : 2.4875051572549085e-06 , validation loss : 2.4136617867043242e-05\n",
      "Epoch : 90 , training loss : 2.535401245988093e-06 , validation loss : 2.3159697775554378e-05\n",
      "Epoch : 91 , training loss : 2.386711151325533e-06 , validation loss : 2.287316374349757e-05\n",
      "Epoch : 92 , training loss : 2.3081985652152564e-06 , validation loss : 2.3687946850259323e-05\n",
      "Epoch : 93 , training loss : 2.254573208557793e-06 , validation loss : 2.2758651084586745e-05\n",
      "Epoch : 94 , training loss : 2.1838188589024714e-06 , validation loss : 2.2098585304775042e-05\n",
      "Epoch : 95 , training loss : 2.148147969691072e-06 , validation loss : 2.3265603431354975e-05\n",
      "Epoch : 96 , training loss : 2.160856159549531e-06 , validation loss : 2.236368663943722e-05\n",
      "Epoch : 97 , training loss : 2.053816107434621e-06 , validation loss : 2.2222013285499997e-05\n",
      "Epoch : 98 , training loss : 2.114324036951205e-06 , validation loss : 2.1987936179357348e-05\n",
      "Epoch : 99 , training loss : 2.0796649079017556e-06 , validation loss : 2.2054976852814434e-05\n"
     ]
    }
   ],
   "source": [
    "# Plot Learning Curve \n",
    "### BEGIN SOLUTION\n",
    "data_module.learning_curve(num_epochs = num_epochs_covid,\n",
    "                           train_loss = train_loss_covid ,\n",
    "                           val_loss = val_loss_covid)\n",
    "\n",
    "### END SOLUTION"
   ]
  },
  {
   "cell_type": "markdown",
   "metadata": {},
   "source": [
    "# Step 5 : Evaluation\n",
    "This section is to inference the model by feeding in testing data and determine the output forecast value and calculate the RMSE. For this exercise, use the function in `data_module` to run in each section.\n",
    "\n",
    "It consists of 4 sections :\n",
    "\n",
    "Section 1 : Feed in the train and test data to the model <br>\n",
    "Section 2 : Reshape both to the original data dimension <br> \n",
    "Section 3 : Invert the scaling back to the original data value <br>\n",
    "Section 4 : Calculate the RMSE of train and test data\n",
    "\n",
    ">**Instruction** : <br>\n",
    "Complete each sections with the function in `data_module.py`"
   ]
  },
  {
   "cell_type": "code",
   "execution_count": 131,
   "metadata": {},
   "outputs": [],
   "source": [
    "# Section 1 : Make predictions\n",
    "\n",
    "### BEGIN SOLUTION\n",
    "with torch.no_grad():\n",
    "    y_train_prediction_covid = model_covid(train_data_dict_covid['train_data_x_feature'])\n",
    "    y_test_prediction_covid = model_covid(test_data_dict_covid['test_data_x_feature'])\n",
    "### END SOLUTION"
   ]
  },
  {
   "cell_type": "code",
   "execution_count": 132,
   "metadata": {},
   "outputs": [],
   "source": [
    "# Assign evaluation key\n",
    "### BEGIN SOLUTION\n",
    "prediction_covid , output_covid = data_module.key_assign_evaluation(y_train_prediction_covid,\n",
    "                                                                    y_test_prediction_covid,\n",
    "                                                                    train_data_dict_covid,\n",
    "                                                                    test_data_dict_covid)\n",
    "### END SOLUTION\n",
    "\n",
    "\n",
    "# Section 2 : Reshape data\n",
    "### BEGIN SOLUTION\n",
    "# Squeeze the output dimension\n",
    "output_data_covid = data_module.squeeze_dimension(output_covid)\n",
    "### END SOLUTION"
   ]
  },
  {
   "cell_type": "code",
   "execution_count": 133,
   "metadata": {},
   "outputs": [
    {
     "name": "stdout",
     "output_type": "stream",
     "text": [
      "train_data_output shape : torch.Size([369, 3])\n",
      "test_data_output shape : torch.Size([10, 3])\n"
     ]
    }
   ],
   "source": [
    "data_module.sanity_check(data_1 = output_data_covid,data_2 = {})"
   ]
  },
  {
   "cell_type": "code",
   "execution_count": 134,
   "metadata": {},
   "outputs": [],
   "source": [
    "# Section 3 : Invert the scaling back to orignal data value\n",
    "### BEGIN SOLUTION\n",
    "prediction_covid = data_module.inverse_scaler(prediction_covid,scaler_covid)\n",
    "output_data_covid  = data_module.inverse_scaler(output_data_covid ,scaler_covid)\n",
    "### END SOLUTION"
   ]
  },
  {
   "cell_type": "markdown",
   "metadata": {},
   "source": [
    "`np.rint` is use to round our data to integer since the death cases should be in the integer form"
   ]
  },
  {
   "cell_type": "code",
   "execution_count": 135,
   "metadata": {},
   "outputs": [],
   "source": [
    "prediction_covid['test_data_prediction'] = np.rint(prediction_covid['test_data_prediction'])\n",
    "output_data_covid['test_data_output'] =  np.rint(output_data_covid['test_data_output']) "
   ]
  },
  {
   "cell_type": "code",
   "execution_count": 136,
   "metadata": {},
   "outputs": [
    {
     "name": "stdout",
     "output_type": "stream",
     "text": [
      "Test Data\t\t\tForecast\n",
      "[ 8. 22. 25.]\t\t[ 6.  7. 14.]\n",
      "[22. 25. 13.]\t\t[ 3.  4. 17.]\n",
      "[25. 13.  8.]\t\t[19. 23. 20.]\n",
      "[13.  8.  5.]\t\t[ 8.  8. 23.]\n",
      "[8. 5. 6.]\t\t[39. 52. 22.]\n",
      "[ 5.  6. 14.]\t\t[37. 44. 27.]\n",
      "[ 6. 14. 12.]\t\t[49. 63. 30.]\n",
      "[14. 12. 12.]\t\t[60. 72. 32.]\n",
      "[12. 12. 11.]\t\t[26. 34. 28.]\n",
      "[12. 11. 10.]\t\t[35. 49. 24.]\n"
     ]
    }
   ],
   "source": [
    "# List the forecast value\n",
    "### BEGIN SOLUTION\n",
    "data_module.list_forecast_value(output_data_covid,prediction_covid) \n",
    "### END SOLUTION"
   ]
  },
  {
   "cell_type": "code",
   "execution_count": 137,
   "metadata": {},
   "outputs": [
    {
     "name": "stdout",
     "output_type": "stream",
     "text": [
      "Train Score: 21.45 RMSE\n",
      "Test Score: 26.89 RMSE\n"
     ]
    }
   ],
   "source": [
    "# calculate root mean squared error\n",
    "### BEGIN SOLUTION\n",
    "trainScore_covid,testScore_covid = data_module.rmse(prediction_covid,output_data_covid)\n",
    "print('Train Score: %.2f RMSE' % (trainScore_covid))\n",
    "print('Test Score: %.2f RMSE' % (testScore_covid))\n",
    "### END SOLUTION"
   ]
  },
  {
   "cell_type": "markdown",
   "metadata": {},
   "source": [
    "# Step 6 : Forecast Plot"
   ]
  },
  {
   "cell_type": "code",
   "execution_count": 139,
   "metadata": {},
   "outputs": [
    {
     "data": {
      "image/png": "[encoded data removed]",
      "text/plain": [
       "<Figure size 720x432 with 1 Axes>"
      ]
     },
     "metadata": {
      "needs_background": "light"
     },
     "output_type": "display_data"
    }
   ],
   "source": [
    "data_module.multi_step_plot(original_test_data = test_data_covid[\"Deaths\"],\n",
    "                            after_sequence_test_data = output_data_covid,\n",
    "                            forecast_data = prediction_covid,\n",
    "                            test_time = test_time_covid,\n",
    "                            window_size = window_size_covid,\n",
    "                            n_step = n_step_covid,\n",
    "                            details={},\n",
    "                            original_plot=True,\n",
    "                            multivariate = True)\n"
   ]
  },
  {
   "cell_type": "markdown",
   "metadata": {},
   "source": [
    "## Summary\n",
    "In this tutorial you should have learned:\n",
    "\n",
    "1. The flow of using CNN to perform multivariate input , univariate output multi-step forecasting<br>\n",
    "\n",
    "Congratulations, that concludes this lesson.<br>\n",
    "\n",
    "\n",
    "\n",
    "\n",
    "1. ~~*[04 - CNN- Univariate - Single-Step]*~~ *Complete*\n",
    "2. ~~*[04 - CNN-Univariate-Multi-Step]*~~*Complete*\n",
    "3. ~~*[04 - CNN-Multivariate-Univariate-Single-Step]*~~*Complete*\n",
    "4. ~~*[04 - CNN-Multivariate-Univariate-Multi-Step]*~~*Complete*"
   ]
  },
  {
   "cell_type": "markdown",
   "metadata": {},
   "source": [
    "## Reference\n",
    "1. [Deep Learning for Time Series Forecasting (Predict the Future with MLPs,CNNs and LSTMs in Python) , Jason Brownlee](https://machinelearningmastery.com/deep-learning-for-time-series-forecasting/)\n"
   ]
  }
 ],
 "metadata": {
  "kernelspec": {
   "display_name": "Python 3",
   "language": "python",
   "name": "python3"
  },
  "language_info": {
   "codemirror_mode": {
    "name": "ipython",
    "version": 3
   },
   "file_extension": ".py",
   "mimetype": "text/x-python",
   "name": "python",
   "nbconvert_exporter": "python",
   "pygments_lexer": "ipython3",
   "version": "3.7.9"
  }
 },
 "nbformat": 4,
 "nbformat_minor": 4
}
