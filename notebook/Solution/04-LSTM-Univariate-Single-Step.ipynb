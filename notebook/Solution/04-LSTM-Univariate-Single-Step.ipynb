{
 "cells": [
  {
   "cell_type": "markdown",
   "metadata": {
    "deletable": false,
    "editable": false
   },
   "source": [
    "> **Copyright &copy; 2020 CertifAI Sdn. Bhd.**<br>\n",
    " **Copyright &copy; 2021 CertifAI Sdn. Bhd.**<br>\n",
    " <br>\n",
    "This program and the accompanying materials are made available under the\n",
    "terms of the [Apache License, Version 2.0](https://www.apache.org/licenses/LICENSE-2.0). \\\n",
    "Unless required by applicable law or agreed to in writing, software\n",
    "distributed under the License is distributed on an \"AS IS\" BASIS, WITHOUT\n",
    "WARRANTIES OR CONDITIONS OF ANY KIND, either express or implied. See the\n",
    "License for the specific language governing permissions and limitations\n",
    "under the License. <br>\n",
    "<br>**SPDX-License-Identifier: Apache-2.0**"
   ]
  },
  {
   "cell_type": "markdown",
   "metadata": {},
   "source": [
    "# Univariate LSTM, Single Step Forecast\n",
    "\n",
    "## Introduction \n",
    "This tutorial is to demonstrate the process to build LSTM with the Univariate Time Series Data and forecast single step data<br>\n",
    "It consists of 2 major part which are :\n",
    "\n",
    "1. Demonstration of Building LSTM using Synthetic data \n",
    "2. Exercise of building LSTM using shampoo sales data.\n",
    "\n",
    "## What will we accomplish?\n",
    "First, we will show the step in building the LSTM : \n",
    "\n",
    "Step 1. Data Preparation (Data Splitting, Data Sequencing, Data Normalization and Batching the Data)<br>\n",
    "Step 2. Model Configuration (Vanila LSTM , Stacked LSTM , Bidirectional LSTM)<br>\n",
    "Step 3. Train the model <br>\n",
    "Step 4. Validate the model using the learning curve <br>\n",
    "Step 5. Evaluation Metrics such as MSE <br>\n",
    "Step 6. Plot the forecast result\n",
    "\n",
    "First, let's import the package needed"
   ]
  },
  {
   "cell_type": "code",
   "execution_count": 1,
   "metadata": {},
   "outputs": [
    {
     "name": "stdout",
     "output_type": "stream",
     "text": [
      "Requirement already satisfied: torchsummaryX in c:\\users\\boonkai.yeoh\\anaconda3\\envs\\nbgpy37\\lib\\site-packages (1.3.0)\n",
      "Requirement already satisfied: torch in c:\\users\\boonkai.yeoh\\anaconda3\\envs\\nbgpy37\\lib\\site-packages (from torchsummaryX) (1.7.0)\n",
      "Requirement already satisfied: numpy in c:\\users\\boonkai.yeoh\\anaconda3\\envs\\nbgpy37\\lib\\site-packages (from torchsummaryX) (1.20.0)\n",
      "Requirement already satisfied: pandas in c:\\users\\boonkai.yeoh\\anaconda3\\envs\\nbgpy37\\lib\\site-packages (from torchsummaryX) (1.1.5)\n",
      "Requirement already satisfied: pytz>=2017.2 in c:\\users\\boonkai.yeoh\\anaconda3\\envs\\nbgpy37\\lib\\site-packages (from pandas->torchsummaryX) (2021.1)\n",
      "Requirement already satisfied: python-dateutil>=2.7.3 in c:\\users\\boonkai.yeoh\\anaconda3\\envs\\nbgpy37\\lib\\site-packages (from pandas->torchsummaryX) (2.8.1)\n",
      "Requirement already satisfied: six>=1.5 in c:\\users\\boonkai.yeoh\\anaconda3\\envs\\nbgpy37\\lib\\site-packages (from python-dateutil>=2.7.3->pandas->torchsummaryX) (1.15.0)\n",
      "Requirement already satisfied: future in c:\\users\\boonkai.yeoh\\anaconda3\\envs\\nbgpy37\\lib\\site-packages (from torch->torchsummaryX) (0.18.2)\n",
      "Requirement already satisfied: typing_extensions in c:\\users\\boonkai.yeoh\\anaconda3\\envs\\nbgpy37\\lib\\site-packages (from torch->torchsummaryX) (3.7.4.3)\n",
      "Requirement already satisfied: dataclasses in c:\\users\\boonkai.yeoh\\anaconda3\\envs\\nbgpy37\\lib\\site-packages (from torch->torchsummaryX) (0.6)\n"
     ]
    }
   ],
   "source": [
    "# pip install this package to view the summary of LSTM due to original torchsummary does have the function to view the LSTM\n",
    "# used jupyter install due to it does not have conda version\n",
    "!pip install torchsummaryX"
   ]
  },
  {
   "cell_type": "code",
   "execution_count": 2,
   "metadata": {},
   "outputs": [],
   "source": [
    "#import packages needed\n",
    "import numpy as np\n",
    "import pandas as pd\n",
    "import matplotlib.pyplot as plt\n",
    "import torch\n",
    "import torch.nn as nn\n",
    "from torch.utils.data import DataLoader,TensorDataset\n",
    "from sklearn.metrics import mean_squared_error\n",
    "from sklearn.preprocessing import StandardScaler,MinMaxScaler\n",
    "import math\n",
    "from scipy import stats\n",
    "from torchsummaryX import summary"
   ]
  },
  {
   "cell_type": "markdown",
   "metadata": {},
   "source": [
    "# Part 1 : Demostration of Building LSTM using Synthetic data"
   ]
  },
  {
   "cell_type": "markdown",
   "metadata": {},
   "source": [
    "## Hyperparameter\n",
    "Define the hyperparameter that needs to tune the model "
   ]
  },
  {
   "cell_type": "code",
   "execution_count": 3,
   "metadata": {},
   "outputs": [],
   "source": [
    "split_ratio = 0.70\n",
    "num_epochs = 800\n",
    "# num_epochs = 1\n",
    "window_size = 2\n",
    "batch_size = 10"
   ]
  },
  {
   "cell_type": "markdown",
   "metadata": {},
   "source": [
    "# Step 1 : Data Preparation\n",
    "We create synthetic data to make sure the model is created correctly and having the ability to perform the forecasting <br>\n",
    "\n",
    "1. First , we will create a sequence of data with `np.array`\n",
    "2. Then , we will assign a date to the sequence of data with `pd.date_range` and store it to series data by using `pd.Series`"
   ]
  },
  {
   "cell_type": "code",
   "execution_count": 4,
   "metadata": {},
   "outputs": [
    {
     "name": "stdout",
     "output_type": "stream",
     "text": [
      "(40,)\n"
     ]
    },
    {
     "data": {
      "text/plain": [
       "array([  0,  10,  20,  30,  40,  50,  60,  70,  80,  90, 100, 110, 120,\n",
       "       130, 140, 150, 160, 170, 180, 190, 200, 210, 220, 230, 240, 250,\n",
       "       260, 270, 280, 290, 300, 310, 320, 330, 340, 350, 360, 370, 380,\n",
       "       390])"
      ]
     },
     "execution_count": 4,
     "metadata": {},
     "output_type": "execute_result"
    }
   ],
   "source": [
    "#Synthetic Data\n",
    "univariate_series = np.array([x for x in range(0, 400, 10)])\n",
    "print(univariate_series.shape)\n",
    "univariate_series"
   ]
  },
  {
   "cell_type": "code",
   "execution_count": 5,
   "metadata": {},
   "outputs": [
    {
     "data": {
      "text/plain": [
       "2020-01-01     0\n",
       "2020-01-02    10\n",
       "2020-01-03    20\n",
       "2020-01-04    30\n",
       "2020-01-05    40\n",
       "Freq: D, dtype: int32"
      ]
     },
     "execution_count": 5,
     "metadata": {},
     "output_type": "execute_result"
    }
   ],
   "source": [
    "univariate_series =pd.Series(univariate_series,pd.date_range(\"1/1/2020\",\n",
    "                                                             periods=len(univariate_series),\n",
    "                                                            freq='D'))\n",
    "univariate_series.head()"
   ]
  },
  {
   "cell_type": "markdown",
   "metadata": {},
   "source": [
    "## Data Visualization\n",
    "Data visualization is import for us to visualize the pattern of data such as trend and seasonality.As the graph below, it is shown that it is an increasing trend in data"
   ]
  },
  {
   "cell_type": "code",
   "execution_count": 6,
   "metadata": {},
   "outputs": [
    {
     "data": {
      "text/plain": [
       "Text(0.5, 1.0, 'Synthetic Data')"
      ]
     },
     "execution_count": 6,
     "metadata": {},
     "output_type": "execute_result"
    },
    {
     "data": {
      "image/png": "[encoded data removed]",
      "text/plain": [
       "<Figure size 432x288 with 1 Axes>"
      ]
     },
     "metadata": {
      "needs_background": "light"
     },
     "output_type": "display_data"
    }
   ],
   "source": [
    "### BEGIN SOLUTION\n",
    "\n",
    "univariate_series.plot()\n",
    "plt.title(\"Synthetic Data\")\n",
    "\n",
    "### BEGIN SOLUTION"
   ]
  },
  {
   "cell_type": "markdown",
   "metadata": {},
   "source": [
    "## Data Splitting\n",
    "In Deep Learning, we will split the data into training and test dataset.The training data is used to train the model where the test data is used to validate the performance of the model"
   ]
  },
  {
   "cell_type": "code",
   "execution_count": 7,
   "metadata": {},
   "outputs": [
    {
     "data": {
      "text/plain": [
       "28"
      ]
     },
     "execution_count": 7,
     "metadata": {},
     "output_type": "execute_result"
    }
   ],
   "source": [
    "# Split the data with ratio as state in hyperparameter\n",
    "split_data = round(len(univariate_series)*split_ratio)\n",
    "split_data"
   ]
  },
  {
   "cell_type": "code",
   "execution_count": 8,
   "metadata": {},
   "outputs": [
    {
     "name": "stdout",
     "output_type": "stream",
     "text": [
      "train_data_shape\n",
      "(28,)\n",
      "test_data_shape\n",
      "(12,)\n"
     ]
    }
   ],
   "source": [
    "# Split data by indexing \n",
    "train_data = univariate_series.values[:split_data]\n",
    "test_data = univariate_series.values[split_data:]\n",
    "train_time = univariate_series.index[:split_data]\n",
    "test_time = univariate_series.index[split_data:]\n",
    "print(\"train_data_shape\")\n",
    "print(train_data.shape)\n",
    "print(\"test_data_shape\")\n",
    "print(test_data.shape)"
   ]
  },
  {
   "cell_type": "markdown",
   "metadata": {},
   "source": [
    "## Data Standardization\n",
    "Standardize the data to have a 0 mean and unit variance to make our model converge faster"
   ]
  },
  {
   "cell_type": "code",
   "execution_count": 9,
   "metadata": {},
   "outputs": [],
   "source": [
    "### BEGIN SOLUTION\n",
    "\n",
    "scaler = StandardScaler().fit(train_data.reshape(-1, 1))\n",
    "train_data_standard = scaler.transform(train_data.reshape(-1, 1))\n",
    "test_data_standard = scaler.transform(test_data.reshape(-1, 1))\n",
    "\n",
    "### END SOLUTION"
   ]
  },
  {
   "cell_type": "markdown",
   "metadata": {},
   "source": [
    "## Data Sequencing\n",
    "Sequencing the data by take in the univariate series into `x-feature` and `y-label`<br>\n",
    "<img src = \"../../picture/Data Sequencing in Univariate Single Step.png\"  width=\"300\" height  =\"300\" align=\"center\" />\n"
   ]
  },
  {
   "cell_type": "code",
   "execution_count": 10,
   "metadata": {},
   "outputs": [],
   "source": [
    "# Data sequencing function \n",
    "### BEGIN SOLUTION\n",
    "\n",
    "def univariate_single_step(sequence, window_size):\n",
    "    x, y = list(), list()\n",
    "    for i in range(len(sequence)):\n",
    "    # find the end of this pattern\n",
    "        end_ix = i + window_size\n",
    "        # check if we are beyond the sequence\n",
    "        if end_ix > len(sequence)-1:\n",
    "            break\n",
    "    # gather input and output parts of the pattern\n",
    "        seq_x, seq_y = sequence[i:end_ix], sequence[end_ix]\n",
    "        x.append(seq_x)\n",
    "        y.append(seq_y)\n",
    "    return np.array(x), np.array(y)\n",
    "\n",
    "\n",
    "### END SOLUTION"
   ]
  },
  {
   "cell_type": "markdown",
   "metadata": {},
   "source": [
    "Sanity check the shape after sequencing the data"
   ]
  },
  {
   "cell_type": "code",
   "execution_count": 11,
   "metadata": {},
   "outputs": [
    {
     "name": "stdout",
     "output_type": "stream",
     "text": [
      "trainX shape:(26, 2, 1) trainY shape:(26, 1)\n",
      "\n",
      "testX shape:(10, 2, 1) testX shape:(10, 1)\n"
     ]
    }
   ],
   "source": [
    "trainX ,trainY =  univariate_single_step(train_data_standard,window_size)\n",
    "testX , testY = univariate_single_step(test_data_standard,window_size)\n",
    "print(f\"trainX shape:{trainX.shape} trainY shape:{trainY.shape}\\n\")\n",
    "print(f\"testX shape:{testX.shape} testX shape:{testY.shape}\")\n"
   ]
  },
  {
   "cell_type": "markdown",
   "metadata": {},
   "source": [
    "## Data Transform\n",
    "Before we train the model , we need to transform our data from `array data` to `torch tensor`"
   ]
  },
  {
   "cell_type": "code",
   "execution_count": 12,
   "metadata": {},
   "outputs": [
    {
     "name": "stdout",
     "output_type": "stream",
     "text": [
      "trainX shape:torch.Size([26, 2, 1]) trainY shape:torch.Size([26, 1])\n",
      "\n",
      "testX shape:torch.Size([10, 2, 1]) testY shape:torch.Size([10, 1])\n"
     ]
    }
   ],
   "source": [
    "#transfrom to Pytorch tensor\n",
    "\n",
    "### BEGIN SOLUTION\n",
    "trainX = torch.from_numpy(trainX).type(torch.Tensor)\n",
    "trainY = torch.from_numpy(trainY).type(torch.Tensor)\n",
    "testX = torch.from_numpy(testX).type(torch.Tensor)\n",
    "testY = torch.from_numpy(testY).type(torch.Tensor)\n",
    "\n",
    "### END SOLUTION\n",
    "\n",
    "print(f\"trainX shape:{trainX.shape} trainY shape:{trainY.shape}\\n\")\n",
    "print(f\"testX shape:{testX.shape} testY shape:{testY.shape}\")"
   ]
  },
  {
   "cell_type": "markdown",
   "metadata": {},
   "source": [
    "Perform sanity check the shape to make sure the transform is success"
   ]
  },
  {
   "cell_type": "code",
   "execution_count": 13,
   "metadata": {},
   "outputs": [
    {
     "name": "stdout",
     "output_type": "stream",
     "text": [
      "Features are now in the shape of torch.Size([26, 2, 1]) while labels are now in the shape of torch.Size([26, 1])\n",
      "\n",
      "x-feature\n",
      "26 = total number of data \n",
      "2 = window size \n",
      "1 = number of time series\n",
      "\n",
      "y-label\n",
      "26 = number of data\n",
      "1 = number of step\n",
      "\n"
     ]
    }
   ],
   "source": [
    "print(f\"Features are now in the shape of {trainX.shape} while labels are now in the shape of {trainY.shape}\\n\")\n",
    "print(\"x-feature\\n\"+str(trainX.shape[0])+\" = total number of data \")\n",
    "print(str(trainX.shape[1])+\" = window size \")\n",
    "print(str(trainX.shape[2])+\" = number of time series\\n\")\n",
    "print(\"y-label\\n\"+str(trainY.shape[0])+\" = number of data\")\n",
    "print(str(trainY.shape[1])+\" = number of step\\n\")"
   ]
  },
  {
   "cell_type": "markdown",
   "metadata": {},
   "source": [
    "## Data Iterator\n",
    "Iterator is created to allow the data separate into several batches to fasten the training process\n",
    "\n",
    "1. First, we will use `TensorDataset` to \"wrap\" the x-feature and y-label together \n",
    "2. Then, use `DataLoader` to create the iterator base on the `batch_size`. \n",
    "\n",
    ">`shuffle = False` will be select since we don want it to break the sequence information between each data"
   ]
  },
  {
   "cell_type": "code",
   "execution_count": 14,
   "metadata": {},
   "outputs": [],
   "source": [
    "# Create Iterator\n",
    "\n",
    "### BEGIN SOLUTION\n",
    "\n",
    "train_dataset = TensorDataset(trainX, trainY)\n",
    "train_iter = DataLoader(train_dataset,batch_size=batch_size,shuffle=False)\n",
    "\n",
    "test_dataset = TensorDataset(testX, testY)\n",
    "test_iter = DataLoader(test_dataset,batch_size=batch_size,shuffle=False)\n",
    "\n",
    "### END SOLUTION"
   ]
  },
  {
   "cell_type": "markdown",
   "metadata": {},
   "source": [
    "# Step 2 : LSTM Model Configuration "
   ]
  },
  {
   "cell_type": "markdown",
   "metadata": {},
   "source": [
    "The method uses to create the model is call pytorch subclass method. It consists of 2 part :\n",
    "1. The first part allows the user to define the structure of the model such as the **number of input unit**, **number of output unit** and **number of hidden unit** as well. \n",
    "2. The second part of the method consist of `forward()` method , it allow user to control the flow of input data and output data. \n",
    "\n",
    ">**How to initialise LSTM?**<br>\n",
    " 1.`nn.LSTM(number of feature , number of hidden unit,number of layer)`<br>\n",
    " 2.`nn.Linear(number of hidden, number of step)`<br>\n",
    "\n",
    ">**The dimension for LSTM in the `forward()` method (Data Flow Protocol)**<br>\n",
    "*if `number of layer` > 1 indicate it is stack LSTM*<br><br>\n",
    "*if `number of directions` = 2 indicate it is Bidirectional LSTM*<br><br>\n",
    "*Input*<br>\n",
    "`input(batch size,sequence length, number of feature)`<br>\n",
    "`h_0 (number of layer * number of directions, batch size, number of hidden unit)`<br>\n",
    "`c_0 (number of layer * number of directions, batch size, number of hidden unit)`<br><br>\n",
    "*Output*<br>\n",
    "`output ( batch,seq_len, num_directions * hidden_size)`<br>\n",
    "`h_n (number of layer* number of directions, batch size,  number of hidden unit)`<br>\n",
    "`c_n (number of layer* number of directions, batch size,  number of hidden unit)`<br><br>\n",
    "\n",
    ">**Model structure**<br>\n",
    "<img src = \"../../picture/lstm data flow.png\"  width=\"600\" height  =\"600\" />\n",
    "\n",
    ">**What is stacked LSTM?**<br>\n",
    "The LSTM unit(blue rectangle) is stacking as the depth (number of layer) increase<br>\n",
    "<img src = \"https://img-blog.csdnimg.cn/20190820152709292.png\"  width=\"500\" height  =\"500\" />\n",
    "\n",
    ">**What is hidden unit in LSTM?**<br>\n",
    "The hidden unit as know as the number of nodes for the hidden cell (cell state and hidden state of LSTM). You can imagine it as the number of hidden unit in the hidden layer of MLP. The hidden unit will concatenate with the sequence length of the data input and perform the subsequence maths operation. The left GIF is showing how the data flow of the LSTM. The right graphic is shown how the hidden unit is pass through a sequence by sequence\n",
    "\n",
    "<table><tr>\n",
    "<td><img src = \"https://miro.medium.com/max/700/1*goJVQs-p9kgLODFNyhl9zA.gif\" width=\"500\" height  =\"500\"/> </td>\n",
    "<td><img src = \"../../picture/hidden_layer_lstm.png\"  width=\"500\" height  =\"500\" /></td>\n",
    "</tr></table>\n",
    "\n"
   ]
  },
  {
   "cell_type": "markdown",
   "metadata": {},
   "source": [
    "## Vanila LSTM\n",
    "\n"
   ]
  },
  {
   "cell_type": "code",
   "execution_count": 15,
   "metadata": {},
   "outputs": [],
   "source": [
    "class LSTM(nn.Module):\n",
    "\n",
    "        def __init__(self, n_feature, hidden_dim, num_layers,n_step):\n",
    "            super(LSTM, self).__init__()\n",
    "            ### BEGIN SOLUTION\n",
    "            \n",
    "            # Number of feature of data\n",
    "            self.n_feature = n_feature\n",
    "            \n",
    "            # Hidden unit dimensions\n",
    "            self.hidden_dim = hidden_dim\n",
    "\n",
    "            # Number of hidden layers\n",
    "            self.num_layers = num_layers\n",
    "            \n",
    "            # Number of step ,step =1 -> single step forecast\n",
    "            self.n_step = n_step \n",
    "          \n",
    "\n",
    "            # Building your LSTM\n",
    "            # batch_first=True causes input/output tensors to be of shape\n",
    "            # Configuration -> (number of feature , number of hidden unit,number of layer)\n",
    "            self.lstm = nn.LSTM(n_feature, hidden_dim, num_layers, batch_first=True)\n",
    "\n",
    "            # Readout layer\n",
    "            self.fc = nn.Linear(hidden_dim, n_step)\n",
    "\n",
    "\n",
    "        def forward(self, x):\n",
    "            # Initialize hidden state with zeros\n",
    "            h0 = torch.zeros(self.num_layers, x.size(0), self.hidden_dim)\n",
    "\n",
    "            # Initialize cell state with zeros\n",
    "            c0 = torch.zeros(self.num_layers, x.size(0), self.hidden_dim)\n",
    "\n",
    "            # We need to detach as we are doing truncated backpropagation through time (BPTT)\n",
    "            # If we don't, we'll backprop all the way to the start even after going through another batch\n",
    "            out, (hn, cn) = self.lstm(x, (h0.detach(), c0.detach()))\n",
    "\n",
    "            # Index hidden state of last time step\n",
    "            # we just want last time step hidden states(output)\n",
    "            out = out[:, -1, :]\n",
    "            out = self.fc(out)\n",
    "            \n",
    "            ### END SOLUTION\n",
    "            return out"
   ]
  },
  {
   "cell_type": "markdown",
   "metadata": {},
   "source": [
    "## Bidirectional LSTM\n",
    "The only difference in the configuration of **Bidirectional LSTM** and **Vanila LSTM** is the input configuration of FC layer(`nn.Linear`) and number of layer of hidden cell(`h0` and `c0`) need be multiplication of 2 .<br> \n",
    "\n",
    "For example : \n",
    "`num_directions = 2` , indicate it as bidirectional<br>\n",
    "\n",
    "`self.fc = nn.Linear(hidden_dim * num_directions, output_dim)` <br>\n",
    "`h0 = torch.zeros(self.num_layers* num_directions, x.size(0), self.hidden_dim)`<br>\n",
    "`c0 = torch.zeros(self.num_layers* num_directions, x.size(0), self.hidden_dim)`\n",
    "\n",
    ">"
   ]
  },
  {
   "cell_type": "code",
   "execution_count": 16,
   "metadata": {},
   "outputs": [],
   "source": [
    "class BidirectionalLSTM(nn.Module):\n",
    "\n",
    "    def __init__(self, n_feature, hidden_dim, num_layers,n_step):\n",
    "        super(BidirectionalLSTM, self).__init__()\n",
    "        ### BEGIN SOLUTION\n",
    "\n",
    "        # Number of feature of data\n",
    "        self.n_feature = n_feature\n",
    "        \n",
    "        # Hidden dimensions\n",
    "        self.hidden_dim = hidden_dim\n",
    "\n",
    "        # Number of hidden layers\n",
    "        self.num_layers = num_layers\n",
    "        \n",
    "        # Number of step ,step =1 -> single step forecast\n",
    "        self.n_step = n_step \n",
    "\n",
    "        # Building your LSTM\n",
    "        # batch_first=True causes input/output tensors to be of shape\n",
    "        # Configuration -> (number of feature , number of hidden unit,number of layer)\n",
    "        self.lstm = nn.LSTM(n_feature, hidden_dim, num_layers, batch_first=True,bidirectional=True)\n",
    "\n",
    "        # Readout layer *2 for bidirectional LSTM\n",
    "        self.fc = nn.Linear(hidden_dim*2, n_step)\n",
    "\n",
    "    def forward(self, x):\n",
    "        # Initialize hidden state with zeros\n",
    "        h0 = torch.zeros(self.num_layers*2, x.size(0), self.hidden_dim)\n",
    "\n",
    "        # Initialize cell state with zeros\n",
    "        c0 = torch.zeros(self.num_layers*2, x.size(0), self.hidden_dim)\n",
    "\n",
    "        # We need to detach as we are doing truncated backpropagation through time (BPTT)\n",
    "        # If we don't, we'll backprop all the way to the start even after going through another batch\n",
    "        out, (hn, cn) = self.lstm(x, (h0.detach(), c0.detach()))\n",
    "        \n",
    "        # Index hidden state of last time step\n",
    "        # we just want last time step hidden states(output)\n",
    "        out = out[:, -1, :]\n",
    "\n",
    "        # Index hidden state of last time step\n",
    "        out = self.fc(out)\n",
    "        \n",
    "        ### END SOLUTION\n",
    "        return out"
   ]
  },
  {
   "cell_type": "markdown",
   "metadata": {},
   "source": [
    "## Input Model \n",
    "The model is input by feed in the require attributes such as **number of input layer**, **output layer** and **hidden layer**.\n",
    "\n",
    "How to Use : \n",
    "1. Select one of the model base on the application as below and comment others model\n",
    "2. IF use Vanila LSTM , set num_layer = 1 and use the model = LSTM()\n",
    "3. IF use stacked LSTM , set num_layer more than 1 and use the model = LSTM()\n",
    "4. IF use Bidirectional LSTM, use the  model = BidirectionalLSTM()\n"
   ]
  },
  {
   "cell_type": "code",
   "execution_count": 17,
   "metadata": {},
   "outputs": [],
   "source": [
    "#Arguments for LSTM model\n",
    "\n",
    "### BEGIN SOLUTION\n",
    "\n",
    "hidden_dim = 100\n",
    "number_of_time_series = 1 \n",
    "n_step = 1 \n",
    "\n",
    "#1 for vanila LSTM , >1 is mean stacked LSTM\n",
    "num_layers = 1 \n",
    "\n",
    "# Vanila , Stacked LSTM\n",
    "model = LSTM(n_feature=number_of_time_series, hidden_dim=hidden_dim,num_layers=num_layers,n_step = n_step)\n",
    "\n",
    "# Bidirectional LSTM\n",
    "# model = BidirectionalLSTM(n_feature=number_of_time_series, hidden_dim=hidden_dim, output_dim=timestep, num_layers=num_layers,n_step = n_step)\n",
    "\n",
    "### END SOLUTION"
   ]
  },
  {
   "cell_type": "markdown",
   "metadata": {},
   "source": [
    "Define the MSE as loss function and using Adam as the model optimiser"
   ]
  },
  {
   "cell_type": "code",
   "execution_count": 18,
   "metadata": {},
   "outputs": [],
   "source": [
    "#loss function \n",
    "\n",
    "### BEGIN SOLUTION\n",
    "loss_fn = torch.nn.MSELoss()\n",
    "### END SOLUTION\n",
    "\n",
    "# optimiser\n",
    "### BEGIN SOLUTION\n",
    "optimiser = torch.optim.Adam(model.parameters(), lr=0.001)\n",
    "### END SOLUTION"
   ]
  },
  {
   "cell_type": "markdown",
   "metadata": {},
   "source": [
    ">**How to calculate LSTM Parameter ,`Params`**<br>\n",
    "No of Feed Forward Neural Network,`g`<br>\n",
    "RNN -> 1<br>\n",
    "GRU -> 3<br>\n",
    "LSTM -> 4<br>\n",
    "number of hidden unit,`h`<br>\n",
    "sequence length,`i`<br>\n",
    "Params = `g × [h(h+i) + h]`<br>\n",
    "4*[100(100+2)+100]"
   ]
  },
  {
   "cell_type": "code",
   "execution_count": 19,
   "metadata": {},
   "outputs": [
    {
     "name": "stdout",
     "output_type": "stream",
     "text": [
      "====================================================\n",
      "       Kernel Shape  Output Shape  Params  Mult-Adds\n",
      "Layer                                               \n",
      "0_lstm            -  [10, 2, 100]   41200      40400\n",
      "1_fc       [100, 1]       [10, 1]     101        100\n",
      "----------------------------------------------------\n",
      "                      Totals\n",
      "Total params           41301\n",
      "Trainable params       41301\n",
      "Non-trainable params       0\n",
      "Mult-Adds              40500\n",
      "====================================================\n",
      "       Kernel Shape  Output Shape  Params  Mult-Adds\n",
      "Layer                                               \n",
      "0_lstm            -  [10, 2, 100]   41200      40400\n",
      "1_fc       [100, 1]       [10, 1]     101        100\n"
     ]
    }
   ],
   "source": [
    "inputs = torch.zeros((batch_size,window_size,1),dtype=torch.float) # batch size , seq_length , input_dim\n",
    "print(summary(model,inputs))"
   ]
  },
  {
   "cell_type": "markdown",
   "metadata": {},
   "source": [
    "# Step 3 : Training\n",
    "Pipeline :\n",
    "- Initialize epoch loss and running loss to zero for later use\n",
    "- Forward Pass\n",
    "- Calculate MSE\n",
    "- Zero out optimiser gradient \n",
    "- Backward Pass\n",
    "- Optimiser update \n",
    "- Compute running loss for each iteration\n",
    "- Compute the epoch loss"
   ]
  },
  {
   "cell_type": "code",
   "execution_count": 20,
   "metadata": {},
   "outputs": [],
   "source": [
    "torch.manual_seed(123)\n",
    "def training(num_epochs,train_iter,test_iter,optimiser,loss_fn,model):\n",
    "    # Create a list of zero value to store the averaged value\n",
    "    train_loss = np.zeros(num_epochs)\n",
    "    val_loss = np.zeros(num_epochs)\n",
    "    \n",
    "    ### BEGIN SOLUTION\n",
    "    \n",
    "    for t in range(num_epochs):\n",
    "        \n",
    "        # Initial the value to be zero to perform cummulative sum \n",
    "        running_loss_train = 0\n",
    "        running_loss_valid = 0\n",
    "        \n",
    "        # For loop to loop through each data in the data iterator\n",
    "        for _,(train_X,train_Y) in enumerate(train_iter):\n",
    "            \n",
    "            # Forward pass\n",
    "            y_train_pred = model(train_X)\n",
    "\n",
    "            # Reshape to ensure the predicted output (y_train_pred) same size with train_Y shape\n",
    "            y_train_pred=torch.reshape(y_train_pred,(train_Y.shape[0],train_Y.shape[1]))\n",
    "            \n",
    "            # Compare the value using MSE\n",
    "            loss_train = loss_fn(y_train_pred, train_Y)\n",
    "\n",
    "            # Zero out gradient, else they will accumulate between batches\n",
    "            optimiser.zero_grad()\n",
    "\n",
    "            # Backward pass\n",
    "            loss_train.backward()\n",
    "\n",
    "            # Update parameters\n",
    "            optimiser.step()\n",
    "            \n",
    "            # Since the loss_train.item will only return the average loss based number of batches\n",
    "            # loss_train.item()*train_X.size(0) -> to make it multiply with batch size \n",
    "            running_loss_train += loss_train.item()*train_X.size(0)\n",
    "            \n",
    "        # Average the loss base on total batch size ,train_iter.dataset is use to get the total batch size \n",
    "        epoch_loss_train = running_loss_train /len(train_iter.dataset)\n",
    "        # Store the averaged value\n",
    "        train_loss[t] = epoch_loss_train\n",
    "        \n",
    "        # Validate the test data loss\n",
    "        with torch.no_grad():\n",
    "            # For loop to loop through each data in the data iterator\n",
    "            for j,(test_X,test_Y) in enumerate(test_iter):\n",
    "                y_test_pred = model(test_X)\n",
    "\n",
    "                # Reshape to ensure the predicted output (y_test_pred) same size with test_y shape\n",
    "                y_test_pred=torch.reshape(y_test_pred,(test_Y.shape[0],test_Y.shape[1]))\n",
    "                \n",
    "                # Calculate the loss \n",
    "                loss_test = loss_fn(y_test_pred, test_Y)\n",
    "                \n",
    "                # Summing up the loss over each batch\n",
    "                running_loss_valid += loss_test.item()*test_X.size(0)\n",
    "                \n",
    "        # Average the loss base on total batch size \n",
    "        epoch_loss_test =running_loss_valid /len(test_iter.dataset)\n",
    "        \n",
    "        # Store the averaged value\n",
    "        val_loss[t] = epoch_loss_test\n",
    "        \n",
    "    ### END SOLUTION\n",
    "    return train_loss,val_loss"
   ]
  },
  {
   "cell_type": "code",
   "execution_count": 21,
   "metadata": {},
   "outputs": [],
   "source": [
    "# Start Training \n",
    "train_loss,val_loss = training(num_epochs,train_iter,test_iter,optimiser,loss_fn,model)"
   ]
  },
  {
   "cell_type": "markdown",
   "metadata": {},
   "source": [
    "# Step 4 : Validation \n",
    "A train loss and val loss is plotted to define how well the data is fitting the model "
   ]
  },
  {
   "cell_type": "code",
   "execution_count": 22,
   "metadata": {},
   "outputs": [
    {
     "data": {
      "image/png": "[encoded data removed]",
      "text/plain": [
       "<Figure size 720x432 with 1 Axes>"
      ]
     },
     "metadata": {
      "needs_background": "light"
     },
     "output_type": "display_data"
    }
   ],
   "source": [
    "def learning_curve(train_loss,val_loss):\n",
    "    plt.figure(figsize=(10,6))\n",
    "    plt.plot(train_loss, label=\"Training\")\n",
    "    plt.plot(val_loss, label=\"Testing\")\n",
    "    plt.xlabel(\"Epoch\")\n",
    "    plt.ylabel(\"MSE\")\n",
    "    plt.legend()\n",
    "    plt.title(\"Train Loss & Test Loss\")\n",
    "    plt.show()\n",
    "    \n",
    "learning_curve(train_loss,val_loss)\n",
    "# Uncomment to view the loss in numerical \n",
    "# for i in range(num_epochs):\n",
    "#     print(f'Epoch : {i} , training loss : {train_loss[i]} , validation loss : {val_loss[i]}')"
   ]
  },
  {
   "cell_type": "code",
   "execution_count": 23,
   "metadata": {},
   "outputs": [
    {
     "data": {
      "image/png": "[encoded data removed]",
      "text/plain": [
       "<Figure size 720x432 with 1 Axes>"
      ]
     },
     "metadata": {
      "needs_background": "light"
     },
     "output_type": "display_data"
    }
   ],
   "source": [
    "# Zoom in by fill in start_epoch and end_epoch\n",
    "def zoom_learning_curve(start_epoch,end_epoch,training_loss,validation_loss):\n",
    "    plt.figure(figsize=(10,6))\n",
    "    plt.plot(training_loss[start_epoch:end_epoch], label=\"Training loss\")\n",
    "    plt.plot(validation_loss[start_epoch:end_epoch], label=\"Testing loss\")\n",
    "    plt.title(\"Losses\")\n",
    "    plt.xlabel(\"Epoch_Demand\")\n",
    "    plt.ylabel(\"MSE_Demand\")\n",
    "    position=range(end_epoch-start_epoch)\n",
    "    labels=range(start_epoch,end_epoch)\n",
    "    plt.xticks(position, labels)\n",
    "    plt.legend()\n",
    "\n",
    "zoom_learning_curve(start_epoch= 790 ,end_epoch = 800,training_loss=train_loss,validation_loss = val_loss)"
   ]
  },
  {
   "cell_type": "markdown",
   "metadata": {},
   "source": [
    "# Step 5 : Evaluation\n",
    "This section is to inference the model by feeding in testing data and determine the output forecast value and calculate the RMSE .\n",
    "\n",
    "It consist of 4 section :\n",
    "\n",
    "Section 1 : Feed in the train and test data to the model <br>\n",
    "Section 2 : Reshape both to the original data dimension <br>\n",
    "Section 3 : Invert the scaling back to orignal data value <br>\n",
    "Section 4 : Calculate the RMSE of train and test data \n"
   ]
  },
  {
   "cell_type": "code",
   "execution_count": 24,
   "metadata": {},
   "outputs": [],
   "source": [
    "# Section 1 : make predictions\n",
    "with torch.no_grad():\n",
    "    y_train_prediction = model(trainX)\n",
    "    y_test_prediction = model(testX)\n",
    "\n",
    "# Section 2 : Reshape to original data\n",
    "y_train_prediction= torch.reshape(y_train_prediction,(y_train_prediction.shape[0],y_train_prediction.shape[1]))\n",
    "trainY = torch.reshape(trainY,(trainY.shape[0],trainY.shape[1]))\n",
    "y_test_prediction = torch.reshape(y_test_prediction,(y_test_prediction.shape[0],y_test_prediction.shape[1]))\n",
    "testY = torch.reshape(testY,(testY.shape[0],testY.shape[1]))"
   ]
  },
  {
   "cell_type": "code",
   "execution_count": 25,
   "metadata": {},
   "outputs": [],
   "source": [
    "# Section 3 : Invert predictions\n",
    "y_train_prediction= scaler.inverse_transform(y_train_prediction.detach().numpy())\n",
    "y_train = scaler.inverse_transform(trainY.detach().numpy())\n",
    "y_test_prediction = scaler.inverse_transform(y_test_prediction.detach().numpy())\n",
    "y_test = scaler.inverse_transform(testY.detach().numpy())"
   ]
  },
  {
   "cell_type": "code",
   "execution_count": 26,
   "metadata": {},
   "outputs": [
    {
     "name": "stdout",
     "output_type": "stream",
     "text": [
      "Test Data\t\t\t\\Forecast Data\n",
      "[300.]\t\t[296.80786]\n",
      "[310.]\t\t[305.80304]\n",
      "[320.]\t\t[314.6554]\n",
      "[330.]\t\t[323.3592]\n",
      "[340.]\t\t[331.90924]\n",
      "[350.]\t\t[340.3009]\n",
      "[360.]\t\t[348.53046]\n",
      "[370.]\t\t[356.59454]\n",
      "[380.]\t\t[364.49054]\n",
      "[390.]\t\t[372.21655]\n"
     ]
    }
   ],
   "source": [
    "print(\"Test Data\\t\\t\\t\\Forecast Data\")\n",
    "for i in range(len(y_test_prediction)):\n",
    "    print(f\"{y_test[i]}\\t\\t{y_test_prediction[i]}\")"
   ]
  },
  {
   "cell_type": "code",
   "execution_count": 27,
   "metadata": {},
   "outputs": [
    {
     "name": "stdout",
     "output_type": "stream",
     "text": [
      "Train Score: 0.55 RMSE\n",
      "Test Score: 10.62 RMSE\n"
     ]
    }
   ],
   "source": [
    "# Section 4 : Calculate root mean squared error for both train and test data \n",
    "trainScore = math.sqrt(mean_squared_error(y_train[:,0], y_train_prediction[:,0]))\n",
    "print('Train Score: %.2f RMSE' % (trainScore))\n",
    "testScore = math.sqrt(mean_squared_error(y_test[:,0], y_test_prediction[:,0]))\n",
    "print('Test Score: %.2f RMSE' % (testScore))"
   ]
  },
  {
   "cell_type": "markdown",
   "metadata": {},
   "source": [
    "# Step 6 : Forecast Plot "
   ]
  },
  {
   "cell_type": "code",
   "execution_count": 28,
   "metadata": {},
   "outputs": [
    {
     "data": {
      "text/plain": [
       "<matplotlib.legend.Legend at 0x1bc447ff348>"
      ]
     },
     "execution_count": 28,
     "metadata": {},
     "output_type": "execute_result"
    },
    {
     "data": {
      "image/png": "[encoded data removed]",
      "text/plain": [
       "<Figure size 720x432 with 1 Axes>"
      ]
     },
     "metadata": {
      "needs_background": "light"
     },
     "output_type": "display_data"
    }
   ],
   "source": [
    "sequence_test_time = test_time[window_size:]\n",
    "plt.figure(figsize=(10,6))\n",
    "plt.plot(y_test, label = 'Test Data')\n",
    "plt.plot(y_test_prediction,color=\"red\", label = 'Forecast')\n",
    "plt.xlabel(\"Time\")\n",
    "plt.ylabel(\"Value\")\n",
    "plt.title(\"Synthetic Data Forecast\")\n",
    "plt.legend()"
   ]
  },
  {
   "cell_type": "markdown",
   "metadata": {},
   "source": [
    "***"
   ]
  },
  {
   "cell_type": "markdown",
   "metadata": {},
   "source": [
    "# Part 2 : Exercise for Univariate \n",
    "## Task : Using LSTM to create a model that can predict lastest sales of shampoo"
   ]
  },
  {
   "cell_type": "markdown",
   "metadata": {},
   "source": [
    "## Hyperparameter\n",
    ">**Instruction** : <br>\n",
    "You are require to fill the `None` with suitable value to make the model converge"
   ]
  },
  {
   "cell_type": "code",
   "execution_count": 79,
   "metadata": {},
   "outputs": [],
   "source": [
    "#Hyperparameter\n",
    "\n",
    "### BEGIN SOLUTION\n",
    "num_epochs_shampoo = 400\n",
    "split_ratio_shampoo = 0.80\n",
    "batch_size_shampoo = 10\n",
    "window_size_shampoo = 3\n",
    "\n",
    "#Hidden Layer for LSTM\n",
    "hidden_dim = 64\n",
    "\n",
    "### END SOLUTION\n"
   ]
  },
  {
   "cell_type": "markdown",
   "metadata": {},
   "source": [
    "# Step 1 : Data Preparation\n",
    ">**Instruction** : <br>\n",
    "Read the file using `pd.read_csv`<br>\n",
    "Your file path `../../datasets/others/shampoo-sales.csv`\n",
    "\n",
    ">**Expected Result** : <br>\n",
    "Example of first 5 data\n",
    "\n",
    "month| sales\n",
    "---|---\n",
    "0| 1-01|    266.0\n",
    "1| 1-02|    145.9\n",
    "2| 1-03|    183.1\n",
    "3| 1-04|    119.3\n",
    "4| 1-05|    180.3"
   ]
  },
  {
   "cell_type": "code",
   "execution_count": 80,
   "metadata": {},
   "outputs": [
    {
     "data": {
      "text/html": [
       "<div>\n",
       "<style scoped>\n",
       "    .dataframe tbody tr th:only-of-type {\n",
       "        vertical-align: middle;\n",
       "    }\n",
       "\n",
       "    .dataframe tbody tr th {\n",
       "        vertical-align: top;\n",
       "    }\n",
       "\n",
       "    .dataframe thead th {\n",
       "        text-align: right;\n",
       "    }\n",
       "</style>\n",
       "<table border=\"1\" class=\"dataframe\">\n",
       "  <thead>\n",
       "    <tr style=\"text-align: right;\">\n",
       "      <th></th>\n",
       "      <th>month</th>\n",
       "      <th>sales</th>\n",
       "    </tr>\n",
       "  </thead>\n",
       "  <tbody>\n",
       "    <tr>\n",
       "      <th>0</th>\n",
       "      <td>1-01</td>\n",
       "      <td>266.0</td>\n",
       "    </tr>\n",
       "    <tr>\n",
       "      <th>1</th>\n",
       "      <td>1-02</td>\n",
       "      <td>145.9</td>\n",
       "    </tr>\n",
       "    <tr>\n",
       "      <th>2</th>\n",
       "      <td>1-03</td>\n",
       "      <td>183.1</td>\n",
       "    </tr>\n",
       "    <tr>\n",
       "      <th>3</th>\n",
       "      <td>1-04</td>\n",
       "      <td>119.3</td>\n",
       "    </tr>\n",
       "    <tr>\n",
       "      <th>4</th>\n",
       "      <td>1-05</td>\n",
       "      <td>180.3</td>\n",
       "    </tr>\n",
       "  </tbody>\n",
       "</table>\n",
       "</div>"
      ],
      "text/plain": [
       "  month  sales\n",
       "0  1-01  266.0\n",
       "1  1-02  145.9\n",
       "2  1-03  183.1\n",
       "3  1-04  119.3\n",
       "4  1-05  180.3"
      ]
     },
     "execution_count": 80,
     "metadata": {},
     "output_type": "execute_result"
    }
   ],
   "source": [
    "# Read CSV file \n",
    "\n",
    "### BEGIN SOLUTION\n",
    "shampoo = pd.read_csv('../../datasets/others/shampoo-sales.csv')\n",
    "### END SOLUTION\n",
    "\n",
    "shampoo.head() "
   ]
  },
  {
   "cell_type": "markdown",
   "metadata": {},
   "source": [
    ">**Instruction** : <br>\n",
    "Set the dataframe index as 'month' using `df.set_index`\n",
    "\n",
    ">**Expected Result** : <br>\n",
    "Example of first 5 data\n",
    "\n",
    "month| month| sales\n",
    "---|---|---\n",
    "1-01| 1-01|    266.0\n",
    "1-02| 1-02|    145.9\n",
    "1-03| 1-03|    183.1\n",
    "1-04| 1-04|    119.3\n",
    "1-05| 1-05|    180.3"
   ]
  },
  {
   "cell_type": "code",
   "execution_count": 81,
   "metadata": {},
   "outputs": [
    {
     "data": {
      "text/html": [
       "<div>\n",
       "<style scoped>\n",
       "    .dataframe tbody tr th:only-of-type {\n",
       "        vertical-align: middle;\n",
       "    }\n",
       "\n",
       "    .dataframe tbody tr th {\n",
       "        vertical-align: top;\n",
       "    }\n",
       "\n",
       "    .dataframe thead th {\n",
       "        text-align: right;\n",
       "    }\n",
       "</style>\n",
       "<table border=\"1\" class=\"dataframe\">\n",
       "  <thead>\n",
       "    <tr style=\"text-align: right;\">\n",
       "      <th></th>\n",
       "      <th>month</th>\n",
       "      <th>sales</th>\n",
       "    </tr>\n",
       "    <tr>\n",
       "      <th>month</th>\n",
       "      <th></th>\n",
       "      <th></th>\n",
       "    </tr>\n",
       "  </thead>\n",
       "  <tbody>\n",
       "    <tr>\n",
       "      <th>1-01</th>\n",
       "      <td>1-01</td>\n",
       "      <td>266.0</td>\n",
       "    </tr>\n",
       "    <tr>\n",
       "      <th>1-02</th>\n",
       "      <td>1-02</td>\n",
       "      <td>145.9</td>\n",
       "    </tr>\n",
       "    <tr>\n",
       "      <th>1-03</th>\n",
       "      <td>1-03</td>\n",
       "      <td>183.1</td>\n",
       "    </tr>\n",
       "    <tr>\n",
       "      <th>1-04</th>\n",
       "      <td>1-04</td>\n",
       "      <td>119.3</td>\n",
       "    </tr>\n",
       "    <tr>\n",
       "      <th>1-05</th>\n",
       "      <td>1-05</td>\n",
       "      <td>180.3</td>\n",
       "    </tr>\n",
       "  </tbody>\n",
       "</table>\n",
       "</div>"
      ],
      "text/plain": [
       "      month  sales\n",
       "month             \n",
       "1-01   1-01  266.0\n",
       "1-02   1-02  145.9\n",
       "1-03   1-03  183.1\n",
       "1-04   1-04  119.3\n",
       "1-05   1-05  180.3"
      ]
     },
     "execution_count": 81,
     "metadata": {},
     "output_type": "execute_result"
    }
   ],
   "source": [
    "### BEGIN SOLUTION\n",
    "shampoo_ts =  shampoo.set_index(shampoo['month'])  \n",
    "### END SOLUTION\n",
    "\n",
    "shampoo_ts.head() "
   ]
  },
  {
   "cell_type": "markdown",
   "metadata": {},
   "source": [
    ">**Instruction** : <br>\n",
    "Set the dataframe index as 'month' using `df.set_index`\n",
    "\n",
    ">**Expected Result** : <br>\n",
    "Example of first 5 data\n",
    "\n",
    "month|---\n",
    "---|---\n",
    "1-01|    266.0\n",
    "1-02|    145.9\n",
    "1-03|    183.1\n",
    "1-04|    119.3\n",
    "1-05|    180.3"
   ]
  },
  {
   "cell_type": "code",
   "execution_count": 82,
   "metadata": {},
   "outputs": [
    {
     "data": {
      "text/plain": [
       "month\n",
       "1-01    266.0\n",
       "1-02    145.9\n",
       "1-03    183.1\n",
       "1-04    119.3\n",
       "1-05    180.3\n",
       "Name: sales, dtype: float64"
      ]
     },
     "execution_count": 82,
     "metadata": {},
     "output_type": "execute_result"
    }
   ],
   "source": [
    "### BEGIN SOLUTION\n",
    "shampoo_ts = pd.Series(shampoo_ts['sales'])\n",
    "### END SOLUTION\n",
    "shampoo_ts.head()"
   ]
  },
  {
   "cell_type": "code",
   "execution_count": 83,
   "metadata": {},
   "outputs": [
    {
     "data": {
      "text/plain": [
       "Text(0.5, 1.0, 'Time Series plot ')"
      ]
     },
     "execution_count": 83,
     "metadata": {},
     "output_type": "execute_result"
    },
    {
     "data": {
      "image/png": "[encoded data removed]",
      "text/plain": [
       "<Figure size 720x432 with 1 Axes>"
      ]
     },
     "metadata": {
      "needs_background": "light"
     },
     "output_type": "display_data"
    }
   ],
   "source": [
    "plt.figure(figsize=(10,6))\n",
    "shampoo_ts.plot()\n",
    "plt.title(\"Time Series plot \")"
   ]
  },
  {
   "cell_type": "markdown",
   "metadata": {},
   "source": [
    "## Data Splitting"
   ]
  },
  {
   "cell_type": "code",
   "execution_count": 84,
   "metadata": {},
   "outputs": [],
   "source": [
    "# Split data by indexing \n",
    "split_data_shampoo = round(len(shampoo_ts)*split_ratio_shampoo)"
   ]
  },
  {
   "cell_type": "code",
   "execution_count": 85,
   "metadata": {},
   "outputs": [],
   "source": [
    "# Data Splitting\n",
    "train_data_shampoo = shampoo_ts[:split_data_shampoo]\n",
    "test_data_shampoo = shampoo_ts[split_data_shampoo:]\n",
    "train_time = train_data_shampoo.index\n",
    "test_time = test_data_shampoo.index"
   ]
  },
  {
   "cell_type": "markdown",
   "metadata": {},
   "source": [
    "## Data Standardlization \n",
    ">**Instruction** : <br>\n",
    "Use `StandardScaler()` to standardlize the data, save your train and test scaled data into `scaler_train_shampoo_data ` and `scaler_test_shampoo_data`.<br>\n",
    "\n",
    "Example :<br>\n",
    "`scaler_train_shampoo_data = scaler_shampoo.transform(train_data_shampoo.values.reshape(-1,1))`\n",
    "\n"
   ]
  },
  {
   "cell_type": "code",
   "execution_count": 86,
   "metadata": {},
   "outputs": [],
   "source": [
    "### BEGIN SOLUTION\n",
    "scaler_shampoo =StandardScaler().fit(train_data_shampoo.values.reshape(-1,1))\n",
    "scaler_train_shampoo_data = scaler_shampoo.transform(train_data_shampoo.values.reshape(-1,1))\n",
    "scaler_test_shampoo_data = scaler_shampoo.transform(test_data_shampoo.values.reshape(-1,1))\n",
    "\n",
    "### END SOLUTION"
   ]
  },
  {
   "cell_type": "markdown",
   "metadata": {},
   "source": [
    "## Data Sequencing \n",
    ">**Instruction** : <br>\n",
    "Use `univariate_single_step` that define in part 1 to perform window sliding,take the scaled datra save your data in to respective `x` and `y` variable.<br>\n",
    "\n",
    "Example :<br>\n",
    "`trainX_shampoo ,trainY_shampoo =  univariate_single_step(scaler_train_shampoo_data,window_size_shampoo)`\n"
   ]
  },
  {
   "cell_type": "code",
   "execution_count": 87,
   "metadata": {},
   "outputs": [
    {
     "name": "stdout",
     "output_type": "stream",
     "text": [
      "trainX shape:(26, 3, 1) trainY shape:(26, 1)\n",
      "\n",
      "testX shape:(4, 3, 1) testX shape:(4, 1)\n"
     ]
    }
   ],
   "source": [
    "### BEGIN SOLUTION\n",
    "trainX_shampoo ,trainY_shampoo =  univariate_single_step(scaler_train_shampoo_data,window_size_shampoo)\n",
    "testX_shampoo , testY_shampoo = univariate_single_step(scaler_test_shampoo_data,window_size_shampoo)\n",
    "### END SOLUTION\n",
    "\n",
    "print(f\"trainX shape:{trainX_shampoo.shape} trainY shape:{trainY_shampoo.shape}\\n\")\n",
    "print(f\"testX shape:{testX_shampoo.shape} testX shape:{testY_shampoo.shape}\")\n"
   ]
  },
  {
   "cell_type": "markdown",
   "metadata": {},
   "source": [
    "## Data Transform\n",
    ">**Instruction** : <br>\n",
    "Transform the data from `ndarray` to `torch tensor`<br>\n",
    "\n",
    "Example :<br>\n",
    "`trainX_shampoo = torch.from_numpy(trainX_shampoo).type(torch.Tensor)`<br>\n",
    "`trainY_shampoo = torch.from_numpy(trainY_shampoo).type(torch.Tensor)`<br>"
   ]
  },
  {
   "cell_type": "code",
   "execution_count": 88,
   "metadata": {},
   "outputs": [
    {
     "name": "stdout",
     "output_type": "stream",
     "text": [
      "trainX shape:torch.Size([26, 3, 1]) trainY shape:torch.Size([26, 1])\n",
      "\n",
      "testX shape:torch.Size([4, 3, 1]) testX shape:torch.Size([4, 1])\n"
     ]
    }
   ],
   "source": [
    "# Transfrom numpy to Pytorch tensor\n",
    "\n",
    "### BEGIN SOLUTION\n",
    "trainX_shampoo = torch.from_numpy(trainX_shampoo).type(torch.Tensor)\n",
    "trainY_shampoo = torch.from_numpy(trainY_shampoo).type(torch.Tensor)\n",
    "testX_shampoo = torch.from_numpy(testX_shampoo).type(torch.Tensor)\n",
    "testY_shampoo = torch.from_numpy(testY_shampoo).type(torch.Tensor)\n",
    "### END SOLUTION\n",
    "\n",
    "print(f\"trainX shape:{trainX_shampoo.shape} trainY shape:{trainY_shampoo.shape}\\n\")\n",
    "print(f\"testX shape:{testX_shampoo.shape} testX shape:{testY_shampoo.shape}\")"
   ]
  },
  {
   "cell_type": "markdown",
   "metadata": {},
   "source": [
    "## Data Iterator\n",
    ">**Instruction** : <br>\n",
    "You are require to create data interator to able the data store in batches<br>\n",
    "\n",
    "Example :<br>\n",
    "`train_dataset_shampoo = TensorDataset(trainX_shampoo, trainY_shampoo)`<br>\n",
    "`train_iter_shampoo = DataLoader(train_dataset_shampoo,batch_size=batch_size_shampoo,shuffle=False)`"
   ]
  },
  {
   "cell_type": "code",
   "execution_count": 89,
   "metadata": {},
   "outputs": [],
   "source": [
    "# Create Iterator\n",
    "\n",
    "### BEGIN SOLUTION\n",
    "train_dataset_shampoo = TensorDataset(trainX_shampoo, trainY_shampoo)\n",
    "train_iter_shampoo = DataLoader(train_dataset_shampoo,batch_size=batch_size_shampoo,shuffle=False)\n",
    "\n",
    "test_dataset_shampoo = TensorDataset(testX_shampoo, testY_shampoo)\n",
    "test_iter_shampoo = DataLoader(test_dataset_shampoo,batch_size=batch_size_shampoo,shuffle=False)\n",
    "### END SOLUTION"
   ]
  },
  {
   "cell_type": "markdown",
   "metadata": {},
   "source": [
    "# Step 2 : LSTM Model Configuration\n",
    ">**Instruction** : <br>\n",
    "You are require to create model LSTM configuration of Vanila LSTM and Bidirectional LSTM.The below hints may help you in configuration<br>\n",
    "\n",
    "Hints : \n",
    "\n",
    ">**How to initialise LSTM ?**<br>\n",
    " 1.`nn.LSTM(number of feature , number of hidden unit,number of layer)`<br>\n",
    " 2.`nn.Linear(number of hidden, number of step)`<br>\n",
    "\n",
    ">**The dimension for LSTM in `forward()` method**<br>\n",
    "*if `num_directions` = 2 indicate it is Bidirectional LSTM*<br><br>\n",
    "*Input*<br>\n",
    "`input(batch,seq_len, input_size)`<br>\n",
    "`h_0 (num_layers * num_directions, batch, hidden_size)`<br>\n",
    "`c_0 (num_layers * num_directions, batch, hidden_size)`<br><br>\n",
    "*Output*<br>\n",
    "`output ( batch,seq_len, num_directions * hidden_size)`<br>\n",
    "`h_n (num_layers * num_directions, batch, hidden_size)`<br>\n",
    "`c_n (num_layers * num_directions, batch, hidden_size)`<br><br>"
   ]
  },
  {
   "cell_type": "code",
   "execution_count": 90,
   "metadata": {},
   "outputs": [],
   "source": [
    "class LSTM_exercise(nn.Module):\n",
    "\n",
    "        def __init__(self, n_feature, hidden_dim, num_layers, n_step) :\n",
    "            super(LSTM_exercise, self).__init__()\n",
    "            ### BEGIN SOLUTION\n",
    "            self.n_feature = n_feature\n",
    "            # Hidden dimensions\n",
    "            self.hidden_dim = hidden_dim\n",
    "\n",
    "            # Number of hidden layers\n",
    "            self.num_layers = num_layers\n",
    "            \n",
    "            self.n_step = n_step \n",
    "\n",
    "            # Building your LSTM\n",
    "            # batch_first=True causes input/output tensors to be of shape\n",
    "            # Configuration -> (number of feature , number of hidden unit,number of layer)\n",
    "            self.lstm = nn.LSTM(n_feature, hidden_dim, num_layers, batch_first=True)\n",
    "\n",
    "            # Readout layer\n",
    "            self.fc = nn.Linear(hidden_dim,n_step)\n",
    "\n",
    "\n",
    "        def forward(self, x):\n",
    "            # Initialize hidden state with zeros\n",
    "            h0 = torch.zeros(self.num_layers, x.size(0), self.hidden_dim)\n",
    "\n",
    "            # Initialize cell state with zeros\n",
    "            c0 = torch.zeros(self.num_layers, x.size(0), self.hidden_dim)\n",
    "\n",
    "            # We need to detach as we are doing truncated backpropagation through time (BPTT)\n",
    "            # If we don't, we'll backprop all the way to the start even after going through another batch\n",
    "            out, (hn, cn) = self.lstm(x, (h0.detach(), c0.detach()))\n",
    "\n",
    "            # Index hidden state of last time step\n",
    "            # we just want last time step hidden states(output)\n",
    "            out = out[:, -1, :]\n",
    "            out = self.fc(out)\n",
    "            ### END SOLUTION\n",
    "            return out"
   ]
  },
  {
   "cell_type": "code",
   "execution_count": 91,
   "metadata": {},
   "outputs": [],
   "source": [
    "class BidirectionalLSTM_exercise(nn.Module):\n",
    "\n",
    "    def __init__(self, n_feature, hidden_dim, num_layers,n_step):\n",
    "        super(BidirectionalLSTM, self).__init__()\n",
    "        ### BEGIN SOLUTION\n",
    "        # Number of feature of data\n",
    "        self.n_feature = n_feature\n",
    "        \n",
    "        # Hidden dimensions\n",
    "        self.hidden_dim = hidden_dim\n",
    "\n",
    "        # Number of hidden layers\n",
    "        self.num_layers = num_layers\n",
    "        \n",
    "        # Number of step ,step =1 -> single step forecast\n",
    "        self.n_step = n_step \n",
    "\n",
    "        # Building your LSTM\n",
    "        # batch_first=True causes input/output tensors to be of shape\n",
    "        # Configuration -> (number of feature , number of hidden unit,number of layer)\n",
    "        self.lstm = nn.LSTM(n_feature, hidden_dim, num_layers, batch_first=True,bidirectional=True)\n",
    "\n",
    "        # Readout layer *2 for bidirectional LSTM\n",
    "        self.fc = nn.Linear(hidden_dim*2, n_step)\n",
    "\n",
    "    def forward(self, x):\n",
    "        # Initialize hidden state with zeros\n",
    "        h0 = torch.zeros(self.num_layers*2, x.size(0), self.hidden_dim)\n",
    "\n",
    "        # Initialize cell state with zeros\n",
    "        c0 = torch.zeros(self.num_layers*2, x.size(0), self.hidden_dim)\n",
    "\n",
    "        # We need to detach as we are doing truncated backpropagation through time (BPTT)\n",
    "        # If we don't, we'll backprop all the way to the start even after going through another batch\n",
    "        out, (hn, cn) = self.lstm(x, (h0.detach(), c0.detach()))\n",
    "        out = out[:, -1, :]\n",
    "\n",
    "        # Index hidden state of last time step\n",
    "        out = self.fc(out)\n",
    "        ### END SOLUTION\n",
    "        return out"
   ]
  },
  {
   "cell_type": "markdown",
   "metadata": {},
   "source": [
    "## Input Model \n",
    ">**Instruction** : <br>\n",
    "You are feel free to use any type of LSTM configuraion.Please input the correct attributes and have a fun with it and save your model with the name `model_shampoo `<br>\n",
    "Example :<br>\n",
    "`model_shampoo = LSTM_exercise(n_feature=number_of_time_series, hidden_dim=hidden_dim,num_layers=num_layers,n_step=n_step )`\n"
   ]
  },
  {
   "cell_type": "code",
   "execution_count": 92,
   "metadata": {},
   "outputs": [],
   "source": [
    "# Arguments for LSTM model\n",
    "\n",
    "### BEGIN SOLUTION\n",
    "number_of_time_series = 1 \n",
    "timestep = 1\n",
    "n_step =1 \n",
    "\n",
    "# num_layers : 1 for vanila LSTM , >1 is mean stacked LSTM\n",
    "num_layers = 1\n",
    "\n",
    "# Vanila ,Stacked LSTM\n",
    "model_shampoo = LSTM_exercise(n_feature=number_of_time_series, hidden_dim=hidden_dim,num_layers=num_layers,n_step=n_step )\n",
    "\n",
    "# Bidirectional LSTM\n",
    "# model_shampoo = BidirectionalLSTM_exercise(n_feature=number_of_time_series, hidden_dim=hidden_dim, num_layers=num_layers,n_step=n_step )\n",
    "### END SOLUTION\n"
   ]
  },
  {
   "cell_type": "markdown",
   "metadata": {},
   "source": [
    ">**Instruction** : <br>\n",
    "Use `MSELoss` as the loss function and `Adam` as the optimizer.Your are require to save `MSELoss` into to variable name `loss_fn_shampoo` and `Adam` optimizer into `optimiser_shampoo`<br>"
   ]
  },
  {
   "cell_type": "code",
   "execution_count": 93,
   "metadata": {},
   "outputs": [],
   "source": [
    "# Define MSE as Loss function \n",
    "### BEGIN SOLUTION\n",
    "loss_fn_shampoo = torch.nn.MSELoss()\n",
    "\n",
    "# Set up optimiser \n",
    "optimiser_shampoo = torch.optim.Adam(model_shampoo.parameters(),lr=0.001)\n",
    "### END SOLUTION"
   ]
  },
  {
   "cell_type": "markdown",
   "metadata": {},
   "source": [
    "# Step 3 : Training \n",
    ">**Instruction** : <br>\n",
    "Write your own training function that able to fit the data to the model<br>"
   ]
  },
  {
   "cell_type": "code",
   "execution_count": 94,
   "metadata": {},
   "outputs": [],
   "source": [
    "torch.manual_seed(123)\n",
    "def training_exercise(num_epochs,train_iter,test_iter,optimiser,loss_fn,model):\n",
    "    # Create a list of zero value to store the averaged value\n",
    "    train_loss = np.zeros(num_epochs)\n",
    "    val_loss = np.zeros(num_epochs)\n",
    "    \n",
    "    ### BEGIN SOLUTION\n",
    "    \n",
    "    for t in range(num_epochs):\n",
    "        \n",
    "        # Initial the value to be zero to perform cummulative sum \n",
    "        running_loss_train = 0\n",
    "        running_loss_valid = 0\n",
    "        \n",
    "        # For loop to loop through each data in the data iterator\n",
    "        for _,(train_X,train_Y) in enumerate(train_iter):\n",
    "            \n",
    "            # Forward pass\n",
    "            y_train_pred = model(train_X)\n",
    "\n",
    "            # Reshape to ensure the predicted output (y_train_pred) same size with train_Y shape\n",
    "            y_train_pred=torch.reshape(y_train_pred,(train_Y.shape[0],train_Y.shape[1]))\n",
    "            \n",
    "            # Compare the value using MSE\n",
    "            loss_train = loss_fn(y_train_pred, train_Y)\n",
    "\n",
    "            # Zero out gradient, else they will accumulate between batches\n",
    "            optimiser.zero_grad()\n",
    "\n",
    "            # Backward pass\n",
    "            loss_train.backward()\n",
    "\n",
    "            # Update parameters\n",
    "            optimiser.step()\n",
    "            \n",
    "            # Since the loss_train.item will only return the average loss based number of batches\n",
    "            # loss_train.item()*train_X.size(0) -> to make it multiply with batch size \n",
    "            running_loss_train += loss_train.item()*train_X.size(0)\n",
    "            \n",
    "        # Average the loss base on total batch size ,train_iter.dataset is use to get the total batch size \n",
    "        epoch_loss_train = running_loss_train /len(train_iter.dataset)\n",
    "        # Store the averaged value\n",
    "        train_loss[t] = epoch_loss_train\n",
    "        \n",
    "        # Validate the test data loss\n",
    "        with torch.no_grad():\n",
    "            # For loop to loop through each data in the data iterator\n",
    "            for j,(test_X,test_Y) in enumerate(test_iter):\n",
    "                y_test_pred = model(test_X)\n",
    "\n",
    "                # Reshape to ensure the predicted output (y_test_pred) same size with test_y shape\n",
    "                y_test_pred=torch.reshape(y_test_pred,(test_Y.shape[0],test_Y.shape[1]))\n",
    "                \n",
    "                # Calculate the loss \n",
    "                loss_test = loss_fn(y_test_pred, test_Y)\n",
    "                \n",
    "                # Summing up the loss over each batch\n",
    "                running_loss_valid += loss_test.item()*test_X.size(0)\n",
    "                \n",
    "        # Average the loss base on total batch size \n",
    "        epoch_loss_test =running_loss_valid /len(test_iter.dataset)\n",
    "        \n",
    "        # Store the averaged value\n",
    "        val_loss[t] = epoch_loss_test\n",
    "        \n",
    "    ### END SOLUTION\n",
    "    return train_loss,val_loss"
   ]
  },
  {
   "cell_type": "code",
   "execution_count": 95,
   "metadata": {},
   "outputs": [],
   "source": [
    "# Start Training \n",
    "train_loss_shampoo,val_loss_shampoo = training_exercise(num_epochs_shampoo,train_iter_shampoo,test_iter_shampoo,optimiser_shampoo,loss_fn_shampoo,model_shampoo)"
   ]
  },
  {
   "cell_type": "markdown",
   "metadata": {},
   "source": [
    "# Step 4 : Validate Model \n",
    "The first part is plot the Train loss & Test loss as the training goes on \n",
    "\n",
    "The second part serve as a function to zoom in certain period on Train loss & Test loss graph to have a clear visualize cause sometime the loss will skew and make us hard to determine the best fit epoch .\n",
    "\n",
    "For example : The learning curve is skew heavily on the left ,the remaining losses is hard to visualize\n",
    "<img src=\"https://3qeqpr26caki16dnhd19sv6by6v-wpengine.netdna-ssl.com/wp-content/uploads/2018/12/Example-of-Train-and-Validation-Learning-Curves-Showing-A-Good-Fit.png\" width =\"500\" height=500 >"
   ]
  },
  {
   "cell_type": "code",
   "execution_count": 96,
   "metadata": {},
   "outputs": [
    {
     "data": {
      "image/png": "[encoded data removed]",
      "text/plain": [
       "<Figure size 720x432 with 1 Axes>"
      ]
     },
     "metadata": {
      "needs_background": "light"
     },
     "output_type": "display_data"
    }
   ],
   "source": [
    "learning_curve(train_loss_shampoo,val_loss_shampoo)\n",
    "# Uncomment to view the loss in numerical \n",
    "# for i in range(num_epochs_shampoo):\n",
    "#     print(f'Epoch : {i} , training loss : {train_loss_shampoo[i]} , validation loss : {val_loss_shampoo[i]}')"
   ]
  },
  {
   "cell_type": "code",
   "execution_count": 97,
   "metadata": {},
   "outputs": [
    {
     "data": {
      "image/png": "[encoded data removed]",
      "text/plain": [
       "<Figure size 720x432 with 1 Axes>"
      ]
     },
     "metadata": {
      "needs_background": "light"
     },
     "output_type": "display_data"
    }
   ],
   "source": [
    "# Zoom in to visualize the graph by fill in start_epoch and end_epoch that want to analyse\n",
    "zoom_learning_curve(start_epoch = 330 ,end_epoch = 350 ,training_loss = train_loss_shampoo ,validation_loss = val_loss_shampoo )"
   ]
  },
  {
   "cell_type": "markdown",
   "metadata": {},
   "source": [
    "## Step 5 : Evaluation\n",
    ">**Instruction** : <br>\n",
    "Evaluate the model by input the `trainX_shampoo` data and `testX_shampoo` data .Remember to reshape it <br>\n"
   ]
  },
  {
   "cell_type": "code",
   "execution_count": 98,
   "metadata": {},
   "outputs": [],
   "source": [
    "# Make predictions\n",
    "\n",
    "### BEGIN SOLUTION\n",
    "with torch.no_grad():\n",
    "    y_train_prediction_shampoo= model_shampoo(trainX_shampoo)\n",
    "    y_test_prediction_shampoo= model_shampoo(testX_shampoo)\n",
    "\n",
    "# Reshape to original data\n",
    "y_train_prediction_shampoo = torch.reshape(y_train_prediction_shampoo,(y_train_prediction_shampoo.shape[0],y_train_prediction_shampoo.shape[1]))\n",
    "trainY_shampoo = torch.reshape(trainY_shampoo,(trainY_shampoo.shape[0],trainY_shampoo.shape[1]))\n",
    "y_test_prediction_shampoo = torch.reshape(y_test_prediction_shampoo,(y_test_prediction_shampoo.shape[0],y_test_prediction_shampoo.shape[1]))\n",
    "testY_shampoo = torch.reshape(testY_shampoo,(testY_shampoo.shape[0],testY_shampoo.shape[1]))\n",
    "\n",
    "### END SOLUTION"
   ]
  },
  {
   "cell_type": "code",
   "execution_count": 99,
   "metadata": {},
   "outputs": [],
   "source": [
    "# Invert predictions\n",
    "y_train_pred_shampoo = scaler_shampoo.inverse_transform(y_train_prediction_shampoo)\n",
    "y_train_shampoo = scaler_shampoo.inverse_transform(trainY_shampoo)\n",
    "y_test_pred_shampoo = scaler_shampoo.inverse_transform(y_test_prediction_shampoo)\n",
    "y_test_shampoo = scaler_shampoo.inverse_transform(testY_shampoo)"
   ]
  },
  {
   "cell_type": "code",
   "execution_count": 100,
   "metadata": {},
   "outputs": [
    {
     "name": "stdout",
     "output_type": "stream",
     "text": [
      "y-test\t\ty-predict\n",
      "[682.]\t\t[508.4924]\n",
      "[475.3]\t\t[484.53204]\n",
      "[581.3]\t\t[483.71506]\n",
      "[646.9]\t\t[524.4082]\n"
     ]
    }
   ],
   "source": [
    "print(\"y-test\\t\\ty-predict\")\n",
    "for i in range(len(y_test_shampoo)):\n",
    "    print(f\"{y_test_shampoo[i]}\\t\\t{y_test_pred_shampoo[i]}\")"
   ]
  },
  {
   "cell_type": "code",
   "execution_count": 101,
   "metadata": {},
   "outputs": [
    {
     "name": "stdout",
     "output_type": "stream",
     "text": [
      "Train Score: 27.85 RMSE\n",
      "Test Score: 116.96 RMSE\n"
     ]
    }
   ],
   "source": [
    "# Calculate root mean squared error\n",
    "trainScore_shampoo = math.sqrt(mean_squared_error(y_train_shampoo, y_train_pred_shampoo))\n",
    "print('Train Score: %.2f RMSE' % (trainScore_shampoo))\n",
    "testScore_shampoo = math.sqrt(mean_squared_error(y_test_shampoo, y_test_pred_shampoo))\n",
    "print('Test Score: %.2f RMSE' % (testScore_shampoo))"
   ]
  },
  {
   "cell_type": "markdown",
   "metadata": {},
   "source": [
    "# Step 6 : Forecast Plot"
   ]
  },
  {
   "cell_type": "code",
   "execution_count": 102,
   "metadata": {},
   "outputs": [
    {
     "data": {
      "text/plain": [
       "Text(0.5, 1.0, 'Shampoo Sales')"
      ]
     },
     "execution_count": 102,
     "metadata": {},
     "output_type": "execute_result"
    },
    {
     "data": {
      "image/png": "[encoded data removed]",
      "text/plain": [
       "<Figure size 720x432 with 1 Axes>"
      ]
     },
     "metadata": {
      "needs_background": "light"
     },
     "output_type": "display_data"
    }
   ],
   "source": [
    "plt.figure(figsize=(10,6))\n",
    "plt.plot(y_test_shampoo,color=\"green\",label = \"Test Data\")\n",
    "plt.plot(y_test_pred_shampoo,color=\"red\",label = \"Forecast Data\")\n",
    "plt.legend()\n",
    "plt.title(\"Shampoo Sales\")\n"
   ]
  },
  {
   "cell_type": "markdown",
   "metadata": {},
   "source": [
    "***\n",
    "## Optional\n",
    "This section is to demonstrate how the data sequence (window size) take place in the model."
   ]
  },
  {
   "cell_type": "code",
   "execution_count": 103,
   "metadata": {},
   "outputs": [
    {
     "data": {
      "text/plain": [
       "<matplotlib.legend.Legend at 0x1bc4d696c08>"
      ]
     },
     "execution_count": 103,
     "metadata": {},
     "output_type": "execute_result"
    },
    {
     "data": {
      "image/png": "[encoded data removed]",
      "text/plain": [
       "<Figure size 720x432 with 1 Axes>"
      ]
     },
     "metadata": {
      "needs_background": "light"
     },
     "output_type": "display_data"
    }
   ],
   "source": [
    "# Plot graph\n",
    "sequence_time_index = test_time[window_size_shampoo:]\n",
    "plt.figure(figsize=(10,6))\n",
    "plt.plot(test_time,test_data_shampoo.values.reshape(-1,1), label = 'Test Data')\n",
    "plt.plot(sequence_time_index,y_test_shampoo, color=\"green\",label = 'Test Data After Sequencing')\n",
    "plt.plot(sequence_time_index,y_test_pred_shampoo,color=\"red\", label = 'Forecast')\n",
    "plt.xlabel(\"Month\")\n",
    "plt.ylabel(\"Value\")\n",
    "plt.title(\"Shampoo Sales\")\n",
    "plt.legend()"
   ]
  },
  {
   "cell_type": "markdown",
   "metadata": {},
   "source": [
    "As you can see the data will be 'skip' to output certain number of data based on `window_size_shampoo` that you have define early. This is because it will take the `window_size_shampoo` data to make it as `x-feature` for the model"
   ]
  },
  {
   "cell_type": "markdown",
   "metadata": {},
   "source": [
    "## Summary\n",
    "In this assignment you should have learned:\n",
    "\n",
    "1. The flow of using LSTM to perform Forecasting\n",
    "2. The configuration of Vanila LSTM, Bidirectional LSTM \n",
    "Congratulations, that concludes this lesson.<br>\n",
    "\n",
    "Please proceed to other notebook for other type of data in LSTM forecasting : <br>\n",
    "\n",
    "1. [04 - LSTM - Univariate Multi-Step.ipynb](./04-LSTM-Univariate-Multi-Step.ipynb)<br>\n",
    "2. [04-LSTM-Multivariate-Input-Univariate-Output-Single-Step](./04-LSTM-Multivariate-Input-Univariate-Output-Single-Step.ipynb)<br>\n",
    "3. [04-LSTM-Multivariate-Input-Univariate-Output-Multi-Step](./04-LSTM-Multivariate-Input-Univariate-Output-Multi-Step.ipynb)<br>"
   ]
  },
  {
   "cell_type": "markdown",
   "metadata": {},
   "source": [
    "## Reference\n",
    "1. [Deep Learning for Time Series Forecasting (Predict the Future with MLPs,CNNs and LSTMs in Python) , Jason Brownlee](https://machinelearningmastery.com/deep-learning-for-time-series-forecasting/)\n",
    "2. [Animated RNN, LSTM and GRU](https://towardsdatascience.com/animated-rnn-lstm-and-gru-ef124d06cf45)\n",
    "3. [pytorch中LSTM的细节分析理解](https://blog.csdn.net/shunaoxi2313/article/details/99843368?utm_medium=distribute.pc_relevant.none-task-blog-BlogCommendFromMachineLearnPai2-2.control&dist_request_id=&depth_1-utm_source=distribute.pc_relevant.none-task-blog-BlogCommendFromMachineLearnPai2-2.control)"
   ]
  },
  {
   "cell_type": "code",
   "execution_count": null,
   "metadata": {},
   "outputs": [],
   "source": []
  }
 ],
 "metadata": {
  "celltoolbar": "Edit Metadata",
  "kernelspec": {
   "display_name": "Python 3",
   "language": "python",
   "name": "python3"
  },
  "language_info": {
   "codemirror_mode": {
    "name": "ipython",
    "version": 3
   },
   "file_extension": ".py",
   "mimetype": "text/x-python",
   "name": "python",
   "nbconvert_exporter": "python",
   "pygments_lexer": "ipython3",
   "version": "3.7.9"
  }
 },
 "nbformat": 4,
 "nbformat_minor": 4
}
