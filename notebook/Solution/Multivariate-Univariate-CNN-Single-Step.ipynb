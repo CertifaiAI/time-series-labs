{
 "cells": [
  {
   "cell_type": "markdown",
   "metadata": {},
   "source": [
    "Bug : "
   ]
  },
  {
   "cell_type": "markdown",
   "metadata": {},
   "source": [
    "## Multivariate Input ,Univariate Output CNN ,Single Step"
   ]
  },
  {
   "cell_type": "code",
   "execution_count": 1,
   "metadata": {},
   "outputs": [],
   "source": [
    "import numpy as np\n",
    "import pandas as pd\n",
    "import matplotlib.pyplot as plt\n",
    "import torch\n",
    "import torch.nn as nn\n",
    "import torch.nn.functional as F\n",
    "from torch.utils.data import DataLoader, TensorDataset\n",
    "from sklearn.metrics import mean_squared_error\n",
    "from sklearn.preprocessing import MinMaxScaler\n",
    "import math"
   ]
  },
  {
   "cell_type": "code",
   "execution_count": 2,
   "metadata": {},
   "outputs": [],
   "source": [
    "# Function needed\n",
    "\n",
    "# Data Sequencing Function\n",
    "def multivariate_univariate_single_step(sequence, window_size):\n",
    "    x, y = list(), list()\n",
    "    for i in range(len(sequence)):\n",
    "        # find the end of this pattern\n",
    "        end_ix = i + window_size\n",
    "        # check if we are beyond the sequence\n",
    "        if end_ix > len(sequence):\n",
    "            break\n",
    "        # gather input and output parts of the pattern\n",
    "        seq_x, seq_y = sequence[i:end_ix, :-1], sequence[end_ix - 1, -1]\n",
    "        x.append(seq_x)\n",
    "        y.append(seq_y)\n",
    "    return np.array(x), np.array(y)\n",
    "\n",
    "# Training Function\n",
    "def training(num_epochs, train_iter, test_iter, optimiser, loss_fn, model):\n",
    "    train_loss = np.zeros(num_epochs)\n",
    "    val_loss = np.zeros(num_epochs)\n",
    "    for t in range(num_epochs):\n",
    "        # Initialise hidden state\n",
    "        #     Don't do this if you want your LSTM to be stateful\n",
    "        #     model.hidden = model.init_hidden()\n",
    "        running_loss_train = 0\n",
    "        running_loss_valid = 0\n",
    "        for _, (train_X, train_Y) in enumerate(train_iter):\n",
    "            # Forward pass\n",
    "            y_train_pred = model(train_X)\n",
    "\n",
    "            # Reshape to perform MSE\n",
    "            # y_train_pred = torch.reshape(y_train_pred, (train_Y.shape[0],1))\n",
    "\n",
    "            loss_train = loss_fn(y_train_pred, train_Y)\n",
    "\n",
    "            # Zero out gradient, else they will accumulate between epochs\n",
    "            optimiser.zero_grad()\n",
    "\n",
    "            # Backward pass\n",
    "            loss_train.backward()\n",
    "\n",
    "            # Update parameters\n",
    "            optimiser.step()\n",
    "\n",
    "            running_loss_train += loss_train.item()\n",
    "\n",
    "        epoch_loss_train = running_loss_train / len(train_X)\n",
    "        train_loss[t] = epoch_loss_train\n",
    "\n",
    "        with torch.no_grad():\n",
    "            for _, (test_X, test_Y) in enumerate(test_iter):\n",
    "                y_test_pred = model(test_X)\n",
    "\n",
    "                # Reshape to perform MSE\n",
    "                # y_test_pred = torch.reshape(y_test_pred, (test_Y.shape[0], 1))\n",
    "                loss_test = loss_fn(y_test_pred, test_Y)\n",
    "                running_loss_valid += loss_test.item()\n",
    "\n",
    "        epoch_loss_test = running_loss_valid / len(test_X)\n",
    "\n",
    "        val_loss[t] = epoch_loss_test\n",
    "\n",
    "    return train_loss, val_loss"
   ]
  },
  {
   "cell_type": "markdown",
   "metadata": {},
   "source": [
    "## Hyperparameter"
   ]
  },
  {
   "cell_type": "code",
   "execution_count": 3,
   "metadata": {},
   "outputs": [
    {
     "data": {
      "text/plain": [
       "<torch._C.Generator at 0x1400012c5b0>"
      ]
     },
     "execution_count": 3,
     "metadata": {},
     "output_type": "execute_result"
    }
   ],
   "source": [
    "split_ratio = 0.70\n",
    "num_epochs = 11\n",
    "window_size = 3\n",
    "n_step = 1\n",
    "learning_rate = 0.01\n",
    "# seed\n",
    "torch.manual_seed(123)"
   ]
  },
  {
   "cell_type": "markdown",
   "metadata": {},
   "source": [
    "## Synthetic Data"
   ]
  },
  {
   "cell_type": "code",
   "execution_count": 4,
   "metadata": {},
   "outputs": [],
   "source": [
    "in_seq1 = np.array([x for x in range(0, 300, 10)])\n",
    "in_seq2 = np.array([x for x in range(5, 305, 10)])\n",
    "out_seq = np.array([in_seq1[i] + in_seq2[i] for i in range(len(in_seq1))])\n",
    "\n",
    "# convert to [rows, columns] structure\n",
    "in_seq1 = in_seq1.reshape((len(in_seq1), 1))\n",
    "in_seq2 = in_seq2.reshape((len(in_seq2), 1))\n",
    "out_seq = out_seq.reshape((len(out_seq), 1))\n",
    "\n",
    "# horizontally stack columns\n",
    "dataset = np.hstack((in_seq1, in_seq2, out_seq))"
   ]
  },
  {
   "cell_type": "code",
   "execution_count": 5,
   "metadata": {},
   "outputs": [
    {
     "name": "stdout",
     "output_type": "stream",
     "text": [
      "train_data_shape\n",
      "(21, 3)\n",
      "test_data_shape\n",
      "(9, 3)\n"
     ]
    }
   ],
   "source": [
    "split_data = round(len(dataset) * split_ratio)\n",
    "\n",
    "# split data by indexing\n",
    "train_data = dataset[:split_data]\n",
    "test_data = dataset[split_data:]\n",
    "print(\"train_data_shape\")\n",
    "print(train_data.shape)\n",
    "print(\"test_data_shape\")\n",
    "print(test_data.shape)"
   ]
  },
  {
   "cell_type": "markdown",
   "metadata": {},
   "source": [
    "## Data Normalization"
   ]
  },
  {
   "cell_type": "code",
   "execution_count": 6,
   "metadata": {},
   "outputs": [],
   "source": [
    "scaler = MinMaxScaler(feature_range=(-1, 1))\n",
    "train_data_normalized = scaler.fit_transform(train_data.reshape(-1, 1))\n",
    "test_data_normalized = scaler.fit_transform(test_data.reshape(-1, 1))"
   ]
  },
  {
   "cell_type": "code",
   "execution_count": 7,
   "metadata": {},
   "outputs": [
    {
     "name": "stdout",
     "output_type": "stream",
     "text": [
      "test_data_normalized(21, 3)\n",
      "test_data_normalized(9, 3)\n"
     ]
    }
   ],
   "source": [
    "# transform after scaling\n",
    "train_data_normalized = train_data_normalized.reshape(train_data.shape[0], train_data.shape[1])\n",
    "print(\"test_data_normalized\" + str(train_data_normalized.shape))\n",
    "\n",
    "test_data_normalized = test_data_normalized.reshape(test_data.shape[0], test_data.shape[1])\n",
    "print(\"test_data_normalized\" + str(test_data_normalized.shape))"
   ]
  },
  {
   "cell_type": "markdown",
   "metadata": {},
   "source": [
    "## Data Sequencing"
   ]
  },
  {
   "cell_type": "code",
   "execution_count": 8,
   "metadata": {},
   "outputs": [
    {
     "name": "stdout",
     "output_type": "stream",
     "text": [
      "trainX shape:(19, 3, 2) trainY shape:(19,)\n",
      "\n",
      "testX shape:(7, 3, 2) testY shape:(7,)\n"
     ]
    }
   ],
   "source": [
    "trainX, trainY = multivariate_univariate_single_step(train_data_normalized, window_size)\n",
    "testX, testY = multivariate_univariate_single_step(test_data_normalized, window_size)\n",
    "print(f\"trainX shape:{trainX.shape} trainY shape:{trainY.shape}\\n\")\n",
    "print(f\"testX shape:{testX.shape} testY shape:{testY.shape}\")"
   ]
  },
  {
   "cell_type": "markdown",
   "metadata": {},
   "source": [
    "## Data Transform"
   ]
  },
  {
   "cell_type": "code",
   "execution_count": 9,
   "metadata": {},
   "outputs": [],
   "source": [
    "# make training and test sets in torch\n",
    "trainX = torch.from_numpy(trainX).type(torch.Tensor)\n",
    "trainY = torch.from_numpy(trainY).type(torch.Tensor)\n",
    "testX = torch.from_numpy(testX).type(torch.Tensor)\n",
    "testY = torch.from_numpy(testY).type(torch.Tensor)"
   ]
  },
  {
   "cell_type": "code",
   "execution_count": 10,
   "metadata": {},
   "outputs": [],
   "source": [
    "# 3D Data Preparation\n",
    "trainX = torch.reshape(trainX, (trainX.shape[0], trainX.shape[1], trainX.shape[2]))\n",
    "trainY = torch.reshape(trainY, (trainY.shape[0], n_step))\n",
    "testX = torch.reshape(testX, (testX.shape[0], trainX.shape[1], trainX.shape[2]))\n",
    "testY = torch.reshape(testY, (testY.shape[0], n_step))\n"
   ]
  },
  {
   "cell_type": "code",
   "execution_count": 11,
   "metadata": {},
   "outputs": [
    {
     "name": "stdout",
     "output_type": "stream",
     "text": [
      "after transpose trainX shape:torch.Size([19, 2, 3]) trainY shape:torch.Size([19, 1])\n",
      "\n",
      "after transpose shape:torch.Size([7, 2, 3]) testY shape:torch.Size([7, 1])\n"
     ]
    }
   ],
   "source": [
    "# Data Transpose\n",
    "trainX = torch.transpose(trainX, 1, 2)\n",
    "testX = torch.transpose(testX, 1, 2)\n",
    "print(f\"after transpose trainX shape:{trainX.shape} trainY shape:{trainY.shape}\\n\")\n",
    "print(f\"after transpose shape:{testX.shape} testY shape:{testY.shape}\")"
   ]
  },
  {
   "cell_type": "code",
   "execution_count": 12,
   "metadata": {},
   "outputs": [],
   "source": [
    "# Create Iterator\n",
    "train_dataset = TensorDataset(trainX, trainY)\n",
    "train_iter = DataLoader(train_dataset, batch_size=1, shuffle=False)\n",
    "\n",
    "test_dataset = TensorDataset(testX, testY)\n",
    "test_iter = DataLoader(test_dataset, batch_size=1, shuffle=False)"
   ]
  },
  {
   "cell_type": "markdown",
   "metadata": {},
   "source": [
    "## CNN Configuration"
   ]
  },
  {
   "cell_type": "code",
   "execution_count": 13,
   "metadata": {},
   "outputs": [],
   "source": [
    "class CNN_Multivariate_Univariate(nn.Module):\n",
    "\n",
    "    def __init__(self,timeseries,n_step):\n",
    "        super(CNN_Multivariate_Univariate, self).__init__()\n",
    "        \n",
    "        self.timeseries = timeseries\n",
    "        self.n_step = n_step\n",
    "        # Conv1d1d kernel_size is base seqeunce\n",
    "        self.conv1 = nn.Conv1d(in_channels=timeseries, out_channels=64, kernel_size=2)\n",
    "        \n",
    "        # For example Input:(N,C,Lin) Output : (N,C,Lout)\n",
    "        self.poo1 = nn.MaxPool1d(kernel_size=2)\n",
    "        self.fc1 = nn.Linear(64, 50)\n",
    "        self.fc2 = nn.Linear(50,n_step)\n",
    "\n",
    "    def forward(self, x):\n",
    "        \n",
    "        x = self.poo1(F.relu(self.conv1(x)))\n",
    "        # Flatten\n",
    "        x = x.view(-1,64)\n",
    "        x = F.relu(self.fc1(x))\n",
    "        x = self.fc2(x)\n",
    "\n",
    "        return x"
   ]
  },
  {
   "cell_type": "markdown",
   "metadata": {},
   "source": [
    "## Model Deployment"
   ]
  },
  {
   "cell_type": "code",
   "execution_count": 14,
   "metadata": {},
   "outputs": [
    {
     "name": "stdout",
     "output_type": "stream",
     "text": [
      "CNN_Multivariate_Univariate(\n",
      "  (conv1): Conv1d(2, 64, kernel_size=(2,), stride=(1,))\n",
      "  (poo1): MaxPool1d(kernel_size=2, stride=2, padding=0, dilation=1, ceil_mode=False)\n",
      "  (fc1): Linear(in_features=64, out_features=50, bias=True)\n",
      "  (fc2): Linear(in_features=50, out_features=1, bias=True)\n",
      ")\n"
     ]
    }
   ],
   "source": [
    "model = CNN_Multivariate_Univariate(timeseries =trainX.shape[1],n_step = n_step)\n",
    "print(model.eval())\n",
    "optimizer = torch.optim.SGD(model.parameters(), lr=learning_rate)\n",
    "loss_fn = nn.MSELoss()"
   ]
  },
  {
   "cell_type": "code",
   "execution_count": 15,
   "metadata": {},
   "outputs": [
    {
     "data": {
      "text/plain": [
       "CNN_Multivariate_Univariate(\n",
       "  (conv1): Conv1d(2, 64, kernel_size=(2,), stride=(1,))\n",
       "  (poo1): MaxPool1d(kernel_size=2, stride=2, padding=0, dilation=1, ceil_mode=False)\n",
       "  (fc1): Linear(in_features=64, out_features=50, bias=True)\n",
       "  (fc2): Linear(in_features=50, out_features=1, bias=True)\n",
       ")"
      ]
     },
     "execution_count": 15,
     "metadata": {},
     "output_type": "execute_result"
    }
   ],
   "source": [
    "def weights_init(m):\n",
    "    if isinstance(m, nn.Conv1d):\n",
    "        nn.init.xavier_uniform_(m.weight.data)\n",
    "\n",
    "\n",
    "model.apply(weights_init)"
   ]
  },
  {
   "cell_type": "markdown",
   "metadata": {},
   "source": [
    "## Training"
   ]
  },
  {
   "cell_type": "code",
   "execution_count": 16,
   "metadata": {},
   "outputs": [],
   "source": [
    "train_loss, val_loss = training(num_epochs, train_iter, test_iter, optimizer, loss_fn, model)"
   ]
  },
  {
   "cell_type": "code",
   "execution_count": 17,
   "metadata": {},
   "outputs": [
    {
     "data": {
      "image/png": "[encoded data removed]",
      "text/plain": [
       "<Figure size 720x432 with 1 Axes>"
      ]
     },
     "metadata": {
      "needs_background": "light"
     },
     "output_type": "display_data"
    }
   ],
   "source": [
    "\n",
    "plt.figure(figsize=(10,6))\n",
    "plt.plot(train_loss, label=\"Training\")\n",
    "plt.plot(val_loss, label=\"Testing\")\n",
    "plt.xlabel(\"Epoch\")\n",
    "plt.ylabel(\"MSE\")\n",
    "plt.legend()\n",
    "plt.show()"
   ]
  },
  {
   "cell_type": "markdown",
   "metadata": {},
   "source": [
    "## Inference"
   ]
  },
  {
   "cell_type": "code",
   "execution_count": 18,
   "metadata": {},
   "outputs": [],
   "source": [
    "with torch.no_grad():\n",
    "    y_train_prediction = model(trainX)\n",
    "    y_test_prediction = model(testX)"
   ]
  },
  {
   "cell_type": "code",
   "execution_count": 19,
   "metadata": {},
   "outputs": [],
   "source": [
    "# Reshape to original data\n",
    "y_train_prediction = torch.reshape(y_train_prediction,(y_train_prediction.shape[0],y_train_prediction.shape[1]))\n",
    "trainY = torch.reshape(trainY,(trainY.shape[0],trainY.shape[1]))\n",
    "y_test_prediction = torch.reshape(y_test_prediction,(y_test_prediction.shape[0],y_test_prediction.shape[1]))\n",
    "testY = torch.reshape(testY,(testY.shape[0],testY.shape[1]))"
   ]
  },
  {
   "cell_type": "code",
   "execution_count": 20,
   "metadata": {},
   "outputs": [],
   "source": [
    "#Invert predictions\n",
    "y_train_prediction = scaler.inverse_transform(y_train_prediction.detach().numpy())\n",
    "y_train = scaler.inverse_transform(trainY.detach().numpy())\n",
    "y_test_prediction = scaler.inverse_transform(y_test_prediction.detach().numpy())\n",
    "y_test = scaler.inverse_transform(testY.detach().numpy())"
   ]
  },
  {
   "cell_type": "code",
   "execution_count": 21,
   "metadata": {},
   "outputs": [
    {
     "name": "stdout",
     "output_type": "stream",
     "text": [
      "y-test\t\t\t\ty-predict\n",
      "[465.]\t\t[399.37408]\n",
      "[484.99997]\t\t[403.9279]\n",
      "[505.]\t\t[408.6088]\n",
      "[525.]\t\t[413.23743]\n",
      "[545.]\t\t[417.94913]\n",
      "[565.]\t\t[422.969]\n",
      "[585.]\t\t[428.09253]\n"
     ]
    }
   ],
   "source": [
    "print(\"y-test\\t\\t\\t\\ty-predict\")\n",
    "for i in range(len(y_test_prediction)):\n",
    "    print(f\"{y_test[i]}\\t\\t{y_test_prediction[i]}\")"
   ]
  },
  {
   "cell_type": "code",
   "execution_count": 22,
   "metadata": {},
   "outputs": [
    {
     "name": "stdout",
     "output_type": "stream",
     "text": [
      "Train Score: 79.73 RMSE\n",
      "Test Score: 115.63 RMSE\n"
     ]
    }
   ],
   "source": [
    "# calculate root mean squared error\n",
    "trainScore = math.sqrt(mean_squared_error(y_train[:,0], y_train_prediction[:,0]))\n",
    "print('Train Score: %.2f RMSE' % (trainScore))\n",
    "testScore = math.sqrt(mean_squared_error(y_test[:,0], y_test_prediction[:,0]))\n",
    "print('Test Score: %.2f RMSE' % (testScore))"
   ]
  },
  {
   "cell_type": "code",
   "execution_count": 23,
   "metadata": {},
   "outputs": [
    {
     "data": {
      "image/png": "[encoded data removed]",
      "text/plain": [
       "<Figure size 720x432 with 1 Axes>"
      ]
     },
     "metadata": {
      "needs_background": "light"
     },
     "output_type": "display_data"
    }
   ],
   "source": [
    "plt.figure(figsize=(10,6))\n",
    "plt.plot(y_test, label=\"y_test\")\n",
    "plt.plot(y_test_prediction, label=\"y_test_prediction\")\n",
    "plt.xlabel(\"Time\")\n",
    "plt.ylabel(\"Value\")\n",
    "plt.legend()\n",
    "plt.show()"
   ]
  },
  {
   "cell_type": "markdown",
   "metadata": {},
   "source": [
    "## Exercise for Multivariate (Solution)\n",
    "Predict total number of demand of orders (Target Total Orders)\n",
    "Data Source : https://code.datasciencedojo.com/datasciencedojo/datasets/tree/master/Daily%20Demand%20Forecasting%20Orders"
   ]
  },
  {
   "cell_type": "code",
   "execution_count": 24,
   "metadata": {},
   "outputs": [
    {
     "data": {
      "text/html": [
       "<div>\n",
       "<style scoped>\n",
       "    .dataframe tbody tr th:only-of-type {\n",
       "        vertical-align: middle;\n",
       "    }\n",
       "\n",
       "    .dataframe tbody tr th {\n",
       "        vertical-align: top;\n",
       "    }\n",
       "\n",
       "    .dataframe thead th {\n",
       "        text-align: right;\n",
       "    }\n",
       "</style>\n",
       "<table border=\"1\" class=\"dataframe\">\n",
       "  <thead>\n",
       "    <tr style=\"text-align: right;\">\n",
       "      <th></th>\n",
       "      <th>Week of the month (first week, second, third, fourth or fifth week</th>\n",
       "      <th>Day of the week (Monday to Friday)</th>\n",
       "      <th>Non-urgent order</th>\n",
       "      <th>Urgent order</th>\n",
       "      <th>Order type A</th>\n",
       "      <th>Order type B</th>\n",
       "      <th>Order type C</th>\n",
       "      <th>Fiscal sector orders</th>\n",
       "      <th>Orders from the traffic controller sector</th>\n",
       "      <th>Banking orders (1)</th>\n",
       "      <th>Banking orders (2)</th>\n",
       "      <th>Banking orders (3)</th>\n",
       "      <th>Target (Total orders)</th>\n",
       "    </tr>\n",
       "  </thead>\n",
       "  <tbody>\n",
       "    <tr>\n",
       "      <th>0</th>\n",
       "      <td>1</td>\n",
       "      <td>4</td>\n",
       "      <td>316.307</td>\n",
       "      <td>223.270</td>\n",
       "      <td>61.543</td>\n",
       "      <td>175.586</td>\n",
       "      <td>302.448</td>\n",
       "      <td>0.000</td>\n",
       "      <td>65556</td>\n",
       "      <td>44914</td>\n",
       "      <td>188411</td>\n",
       "      <td>14793</td>\n",
       "      <td>539.577</td>\n",
       "    </tr>\n",
       "    <tr>\n",
       "      <th>1</th>\n",
       "      <td>1</td>\n",
       "      <td>5</td>\n",
       "      <td>128.633</td>\n",
       "      <td>96.042</td>\n",
       "      <td>38.058</td>\n",
       "      <td>56.037</td>\n",
       "      <td>130.580</td>\n",
       "      <td>0.000</td>\n",
       "      <td>40419</td>\n",
       "      <td>21399</td>\n",
       "      <td>89461</td>\n",
       "      <td>7679</td>\n",
       "      <td>224.675</td>\n",
       "    </tr>\n",
       "    <tr>\n",
       "      <th>2</th>\n",
       "      <td>1</td>\n",
       "      <td>6</td>\n",
       "      <td>43.651</td>\n",
       "      <td>84.375</td>\n",
       "      <td>21.826</td>\n",
       "      <td>25.125</td>\n",
       "      <td>82.461</td>\n",
       "      <td>1.386</td>\n",
       "      <td>11992</td>\n",
       "      <td>3452</td>\n",
       "      <td>21305</td>\n",
       "      <td>14947</td>\n",
       "      <td>129.412</td>\n",
       "    </tr>\n",
       "    <tr>\n",
       "      <th>3</th>\n",
       "      <td>2</td>\n",
       "      <td>2</td>\n",
       "      <td>171.297</td>\n",
       "      <td>127.667</td>\n",
       "      <td>41.542</td>\n",
       "      <td>113.294</td>\n",
       "      <td>162.284</td>\n",
       "      <td>18.156</td>\n",
       "      <td>49971</td>\n",
       "      <td>33703</td>\n",
       "      <td>69054</td>\n",
       "      <td>18423</td>\n",
       "      <td>317.120</td>\n",
       "    </tr>\n",
       "    <tr>\n",
       "      <th>4</th>\n",
       "      <td>2</td>\n",
       "      <td>3</td>\n",
       "      <td>90.532</td>\n",
       "      <td>113.526</td>\n",
       "      <td>37.679</td>\n",
       "      <td>56.618</td>\n",
       "      <td>116.220</td>\n",
       "      <td>6.459</td>\n",
       "      <td>48534</td>\n",
       "      <td>19646</td>\n",
       "      <td>16411</td>\n",
       "      <td>20257</td>\n",
       "      <td>210.517</td>\n",
       "    </tr>\n",
       "  </tbody>\n",
       "</table>\n",
       "</div>"
      ],
      "text/plain": [
       "   Week of the month (first week, second, third, fourth or fifth week  \\\n",
       "0                                                  1                    \n",
       "1                                                  1                    \n",
       "2                                                  1                    \n",
       "3                                                  2                    \n",
       "4                                                  2                    \n",
       "\n",
       "   Day of the week (Monday to Friday)  Non-urgent order  Urgent order  \\\n",
       "0                                   4           316.307       223.270   \n",
       "1                                   5           128.633        96.042   \n",
       "2                                   6            43.651        84.375   \n",
       "3                                   2           171.297       127.667   \n",
       "4                                   3            90.532       113.526   \n",
       "\n",
       "   Order type A  Order type B  Order type C  Fiscal sector orders  \\\n",
       "0        61.543       175.586       302.448                 0.000   \n",
       "1        38.058        56.037       130.580                 0.000   \n",
       "2        21.826        25.125        82.461                 1.386   \n",
       "3        41.542       113.294       162.284                18.156   \n",
       "4        37.679        56.618       116.220                 6.459   \n",
       "\n",
       "   Orders from the traffic controller sector  Banking orders (1)  \\\n",
       "0                                      65556               44914   \n",
       "1                                      40419               21399   \n",
       "2                                      11992                3452   \n",
       "3                                      49971               33703   \n",
       "4                                      48534               19646   \n",
       "\n",
       "   Banking orders (2)  Banking orders (3)  Target (Total orders)  \n",
       "0              188411               14793                539.577  \n",
       "1               89461                7679                224.675  \n",
       "2               21305               14947                129.412  \n",
       "3               69054               18423                317.120  \n",
       "4               16411               20257                210.517  "
      ]
     },
     "execution_count": 24,
     "metadata": {},
     "output_type": "execute_result"
    }
   ],
   "source": [
    "demand = pd.read_csv(r\"C:\\Users\\boonkai.yeoh\\Desktop\\Daily_Demand_Forecasting_Orders.csv\",sep=';')\n",
    "# demand = pd.read_csv(r\"..\\datasets\\others\\Daily_Demand_Forecasting_Orders.csv\",sep=';')\n",
    "demand.head()"
   ]
  },
  {
   "cell_type": "code",
   "execution_count": 25,
   "metadata": {},
   "outputs": [
    {
     "data": {
      "text/html": [
       "<div>\n",
       "<style scoped>\n",
       "    .dataframe tbody tr th:only-of-type {\n",
       "        vertical-align: middle;\n",
       "    }\n",
       "\n",
       "    .dataframe tbody tr th {\n",
       "        vertical-align: top;\n",
       "    }\n",
       "\n",
       "    .dataframe thead th {\n",
       "        text-align: right;\n",
       "    }\n",
       "</style>\n",
       "<table border=\"1\" class=\"dataframe\">\n",
       "  <thead>\n",
       "    <tr style=\"text-align: right;\">\n",
       "      <th></th>\n",
       "      <th>Week of the month (first week, second, third, fourth or fifth week</th>\n",
       "      <th>Day of the week (Monday to Friday)</th>\n",
       "      <th>Non-urgent order</th>\n",
       "      <th>Urgent order</th>\n",
       "      <th>Order type A</th>\n",
       "      <th>Order type B</th>\n",
       "      <th>Order type C</th>\n",
       "      <th>Fiscal sector orders</th>\n",
       "      <th>Orders from the traffic controller sector</th>\n",
       "      <th>Banking orders (1)</th>\n",
       "      <th>Banking orders (2)</th>\n",
       "      <th>Banking orders (3)</th>\n",
       "      <th>Target (Total orders)</th>\n",
       "    </tr>\n",
       "    <tr>\n",
       "      <th>Day</th>\n",
       "      <th></th>\n",
       "      <th></th>\n",
       "      <th></th>\n",
       "      <th></th>\n",
       "      <th></th>\n",
       "      <th></th>\n",
       "      <th></th>\n",
       "      <th></th>\n",
       "      <th></th>\n",
       "      <th></th>\n",
       "      <th></th>\n",
       "      <th></th>\n",
       "      <th></th>\n",
       "    </tr>\n",
       "  </thead>\n",
       "  <tbody>\n",
       "    <tr>\n",
       "      <th>1</th>\n",
       "      <td>1</td>\n",
       "      <td>5</td>\n",
       "      <td>128.633</td>\n",
       "      <td>96.042</td>\n",
       "      <td>38.058</td>\n",
       "      <td>56.037</td>\n",
       "      <td>130.580</td>\n",
       "      <td>0.000</td>\n",
       "      <td>40419</td>\n",
       "      <td>21399</td>\n",
       "      <td>89461</td>\n",
       "      <td>7679</td>\n",
       "      <td>224.675</td>\n",
       "    </tr>\n",
       "    <tr>\n",
       "      <th>2</th>\n",
       "      <td>1</td>\n",
       "      <td>6</td>\n",
       "      <td>43.651</td>\n",
       "      <td>84.375</td>\n",
       "      <td>21.826</td>\n",
       "      <td>25.125</td>\n",
       "      <td>82.461</td>\n",
       "      <td>1.386</td>\n",
       "      <td>11992</td>\n",
       "      <td>3452</td>\n",
       "      <td>21305</td>\n",
       "      <td>14947</td>\n",
       "      <td>129.412</td>\n",
       "    </tr>\n",
       "    <tr>\n",
       "      <th>3</th>\n",
       "      <td>2</td>\n",
       "      <td>2</td>\n",
       "      <td>171.297</td>\n",
       "      <td>127.667</td>\n",
       "      <td>41.542</td>\n",
       "      <td>113.294</td>\n",
       "      <td>162.284</td>\n",
       "      <td>18.156</td>\n",
       "      <td>49971</td>\n",
       "      <td>33703</td>\n",
       "      <td>69054</td>\n",
       "      <td>18423</td>\n",
       "      <td>317.120</td>\n",
       "    </tr>\n",
       "    <tr>\n",
       "      <th>4</th>\n",
       "      <td>2</td>\n",
       "      <td>3</td>\n",
       "      <td>90.532</td>\n",
       "      <td>113.526</td>\n",
       "      <td>37.679</td>\n",
       "      <td>56.618</td>\n",
       "      <td>116.220</td>\n",
       "      <td>6.459</td>\n",
       "      <td>48534</td>\n",
       "      <td>19646</td>\n",
       "      <td>16411</td>\n",
       "      <td>20257</td>\n",
       "      <td>210.517</td>\n",
       "    </tr>\n",
       "    <tr>\n",
       "      <th>5</th>\n",
       "      <td>2</td>\n",
       "      <td>4</td>\n",
       "      <td>110.925</td>\n",
       "      <td>96.360</td>\n",
       "      <td>30.792</td>\n",
       "      <td>50.704</td>\n",
       "      <td>125.868</td>\n",
       "      <td>79.000</td>\n",
       "      <td>52042</td>\n",
       "      <td>8773</td>\n",
       "      <td>47522</td>\n",
       "      <td>24966</td>\n",
       "      <td>207.364</td>\n",
       "    </tr>\n",
       "  </tbody>\n",
       "</table>\n",
       "</div>"
      ],
      "text/plain": [
       "     Week of the month (first week, second, third, fourth or fifth week  \\\n",
       "Day                                                                       \n",
       "1                                                    1                    \n",
       "2                                                    1                    \n",
       "3                                                    2                    \n",
       "4                                                    2                    \n",
       "5                                                    2                    \n",
       "\n",
       "     Day of the week (Monday to Friday)  Non-urgent order  Urgent order  \\\n",
       "Day                                                                       \n",
       "1                                     5           128.633        96.042   \n",
       "2                                     6            43.651        84.375   \n",
       "3                                     2           171.297       127.667   \n",
       "4                                     3            90.532       113.526   \n",
       "5                                     4           110.925        96.360   \n",
       "\n",
       "     Order type A  Order type B  Order type C  Fiscal sector orders  \\\n",
       "Day                                                                   \n",
       "1          38.058        56.037       130.580                 0.000   \n",
       "2          21.826        25.125        82.461                 1.386   \n",
       "3          41.542       113.294       162.284                18.156   \n",
       "4          37.679        56.618       116.220                 6.459   \n",
       "5          30.792        50.704       125.868                79.000   \n",
       "\n",
       "     Orders from the traffic controller sector  Banking orders (1)  \\\n",
       "Day                                                                  \n",
       "1                                        40419               21399   \n",
       "2                                        11992                3452   \n",
       "3                                        49971               33703   \n",
       "4                                        48534               19646   \n",
       "5                                        52042                8773   \n",
       "\n",
       "     Banking orders (2)  Banking orders (3)  Target (Total orders)  \n",
       "Day                                                                 \n",
       "1                 89461                7679                224.675  \n",
       "2                 21305               14947                129.412  \n",
       "3                 69054               18423                317.120  \n",
       "4                 16411               20257                210.517  \n",
       "5                 47522               24966                207.364  "
      ]
     },
     "execution_count": 25,
     "metadata": {},
     "output_type": "execute_result"
    }
   ],
   "source": [
    "demand.index.name = \"Day\"\n",
    "demand = demand.reindex(index=range(1,len(demand)))\n",
    "demand.iloc[0:5]"
   ]
  },
  {
   "cell_type": "code",
   "execution_count": 26,
   "metadata": {},
   "outputs": [
    {
     "data": {
      "text/html": [
       "<div>\n",
       "<style scoped>\n",
       "    .dataframe tbody tr th:only-of-type {\n",
       "        vertical-align: middle;\n",
       "    }\n",
       "\n",
       "    .dataframe tbody tr th {\n",
       "        vertical-align: top;\n",
       "    }\n",
       "\n",
       "    .dataframe thead th {\n",
       "        text-align: right;\n",
       "    }\n",
       "</style>\n",
       "<table border=\"1\" class=\"dataframe\">\n",
       "  <thead>\n",
       "    <tr style=\"text-align: right;\">\n",
       "      <th></th>\n",
       "      <th>Non-urgent order</th>\n",
       "      <th>Urgent order</th>\n",
       "      <th>Order type A</th>\n",
       "      <th>Order type B</th>\n",
       "      <th>Order type C</th>\n",
       "      <th>Fiscal sector orders</th>\n",
       "      <th>Orders from the traffic controller sector</th>\n",
       "      <th>Banking orders (1)</th>\n",
       "      <th>Banking orders (2)</th>\n",
       "      <th>Banking orders (3)</th>\n",
       "      <th>Target (Total orders)</th>\n",
       "    </tr>\n",
       "    <tr>\n",
       "      <th>Day</th>\n",
       "      <th></th>\n",
       "      <th></th>\n",
       "      <th></th>\n",
       "      <th></th>\n",
       "      <th></th>\n",
       "      <th></th>\n",
       "      <th></th>\n",
       "      <th></th>\n",
       "      <th></th>\n",
       "      <th></th>\n",
       "      <th></th>\n",
       "    </tr>\n",
       "  </thead>\n",
       "  <tbody>\n",
       "    <tr>\n",
       "      <th>1</th>\n",
       "      <td>128.633</td>\n",
       "      <td>96.042</td>\n",
       "      <td>38.058</td>\n",
       "      <td>56.037</td>\n",
       "      <td>130.580</td>\n",
       "      <td>0.000</td>\n",
       "      <td>40419</td>\n",
       "      <td>21399</td>\n",
       "      <td>89461</td>\n",
       "      <td>7679</td>\n",
       "      <td>224.675</td>\n",
       "    </tr>\n",
       "    <tr>\n",
       "      <th>2</th>\n",
       "      <td>43.651</td>\n",
       "      <td>84.375</td>\n",
       "      <td>21.826</td>\n",
       "      <td>25.125</td>\n",
       "      <td>82.461</td>\n",
       "      <td>1.386</td>\n",
       "      <td>11992</td>\n",
       "      <td>3452</td>\n",
       "      <td>21305</td>\n",
       "      <td>14947</td>\n",
       "      <td>129.412</td>\n",
       "    </tr>\n",
       "    <tr>\n",
       "      <th>3</th>\n",
       "      <td>171.297</td>\n",
       "      <td>127.667</td>\n",
       "      <td>41.542</td>\n",
       "      <td>113.294</td>\n",
       "      <td>162.284</td>\n",
       "      <td>18.156</td>\n",
       "      <td>49971</td>\n",
       "      <td>33703</td>\n",
       "      <td>69054</td>\n",
       "      <td>18423</td>\n",
       "      <td>317.120</td>\n",
       "    </tr>\n",
       "    <tr>\n",
       "      <th>4</th>\n",
       "      <td>90.532</td>\n",
       "      <td>113.526</td>\n",
       "      <td>37.679</td>\n",
       "      <td>56.618</td>\n",
       "      <td>116.220</td>\n",
       "      <td>6.459</td>\n",
       "      <td>48534</td>\n",
       "      <td>19646</td>\n",
       "      <td>16411</td>\n",
       "      <td>20257</td>\n",
       "      <td>210.517</td>\n",
       "    </tr>\n",
       "    <tr>\n",
       "      <th>5</th>\n",
       "      <td>110.925</td>\n",
       "      <td>96.360</td>\n",
       "      <td>30.792</td>\n",
       "      <td>50.704</td>\n",
       "      <td>125.868</td>\n",
       "      <td>79.000</td>\n",
       "      <td>52042</td>\n",
       "      <td>8773</td>\n",
       "      <td>47522</td>\n",
       "      <td>24966</td>\n",
       "      <td>207.364</td>\n",
       "    </tr>\n",
       "  </tbody>\n",
       "</table>\n",
       "</div>"
      ],
      "text/plain": [
       "     Non-urgent order  Urgent order  Order type A  Order type B  Order type C  \\\n",
       "Day                                                                             \n",
       "1             128.633        96.042        38.058        56.037       130.580   \n",
       "2              43.651        84.375        21.826        25.125        82.461   \n",
       "3             171.297       127.667        41.542       113.294       162.284   \n",
       "4              90.532       113.526        37.679        56.618       116.220   \n",
       "5             110.925        96.360        30.792        50.704       125.868   \n",
       "\n",
       "     Fiscal sector orders  Orders from the traffic controller sector  \\\n",
       "Day                                                                    \n",
       "1                   0.000                                      40419   \n",
       "2                   1.386                                      11992   \n",
       "3                  18.156                                      49971   \n",
       "4                   6.459                                      48534   \n",
       "5                  79.000                                      52042   \n",
       "\n",
       "     Banking orders (1)  Banking orders (2)  Banking orders (3)  \\\n",
       "Day                                                               \n",
       "1                 21399               89461                7679   \n",
       "2                  3452               21305               14947   \n",
       "3                 33703               69054               18423   \n",
       "4                 19646               16411               20257   \n",
       "5                  8773               47522               24966   \n",
       "\n",
       "     Target (Total orders)  \n",
       "Day                         \n",
       "1                  224.675  \n",
       "2                  129.412  \n",
       "3                  317.120  \n",
       "4                  210.517  \n",
       "5                  207.364  "
      ]
     },
     "execution_count": 26,
     "metadata": {},
     "output_type": "execute_result"
    }
   ],
   "source": [
    "demand_slice = demand.iloc[:,2::]\n",
    "demand_slice.iloc[0:5,:]"
   ]
  },
  {
   "cell_type": "code",
   "execution_count": 27,
   "metadata": {},
   "outputs": [
    {
     "data": {
      "text/plain": [
       "(59, 11)"
      ]
     },
     "execution_count": 27,
     "metadata": {},
     "output_type": "execute_result"
    }
   ],
   "source": [
    "demand_value = demand_slice.values\n",
    "demand_value.shape"
   ]
  },
  {
   "cell_type": "code",
   "execution_count": 68,
   "metadata": {},
   "outputs": [
    {
     "data": {
      "text/plain": [
       "<torch._C.Generator at 0x1400012c5b0>"
      ]
     },
     "execution_count": 68,
     "metadata": {},
     "output_type": "execute_result"
    }
   ],
   "source": [
    "#Hyperameter\n",
    "split_ratio_demand = 0.70\n",
    "num_epochs_demand  = 152\n",
    "window_size_demand = 3\n",
    "n_step_demand = 1\n",
    "learning_rate_demand = 0.01\n",
    "batch_size_demand = 1\n",
    "#seed\n",
    "torch.manual_seed(123)"
   ]
  },
  {
   "cell_type": "code",
   "execution_count": 69,
   "metadata": {},
   "outputs": [
    {
     "data": {
      "text/plain": [
       "21"
      ]
     },
     "execution_count": 69,
     "metadata": {},
     "output_type": "execute_result"
    }
   ],
   "source": [
    "split_data_demand = round(len(dataset)*split_ratio)\n",
    "split_data_demand"
   ]
  },
  {
   "cell_type": "code",
   "execution_count": 70,
   "metadata": {},
   "outputs": [
    {
     "name": "stdout",
     "output_type": "stream",
     "text": [
      "train_data_shape\n",
      "(38, 11)\n",
      "test_data_shape\n",
      "(21, 11)\n"
     ]
    }
   ],
   "source": [
    "#split data by indexing \n",
    "train_data_demand = demand_value[:-split_data_demand]\n",
    "test_data_demand = demand_value[-split_data_demand:]\n",
    "train_time = demand.index[:-split_data_demand]\n",
    "test_time = demand.index[-split_data_demand:]\n",
    "print(\"train_data_shape\")\n",
    "print(train_data_demand.shape)\n",
    "print(\"test_data_shape\")\n",
    "print(test_data_demand.shape)"
   ]
  },
  {
   "cell_type": "code",
   "execution_count": 71,
   "metadata": {},
   "outputs": [],
   "source": [
    "# Data Normalization\n",
    "scaler = MinMaxScaler(feature_range=(-1, 1))\n",
    "train_data_normalized_demand  = scaler.fit_transform(train_data_demand.reshape(-1, 1))\n",
    "test_data_normalized_demand = scaler.fit_transform(test_data_demand.reshape(-1, 1))"
   ]
  },
  {
   "cell_type": "code",
   "execution_count": 72,
   "metadata": {},
   "outputs": [
    {
     "name": "stdout",
     "output_type": "stream",
     "text": [
      "test_data_normalized(38, 11)\n",
      "test_data_normalized(21, 11)\n"
     ]
    }
   ],
   "source": [
    "# Transform after scaling\n",
    "train_data_normalized_demand = train_data_normalized_demand .reshape(train_data_demand.shape[0],train_data_demand.shape[1])\n",
    "print(\"test_data_normalized\"+str(train_data_normalized_demand.shape))\n",
    "\n",
    "test_data_normalized_demand = test_data_normalized_demand.reshape(test_data_demand.shape[0],test_data_demand.shape[1])\n",
    "print(\"test_data_normalized\"+str(test_data_normalized_demand.shape))"
   ]
  },
  {
   "cell_type": "code",
   "execution_count": 73,
   "metadata": {},
   "outputs": [
    {
     "name": "stdout",
     "output_type": "stream",
     "text": [
      "trainX_demand shape:(36, 3, 10) trainY_demand shape:(36,)\n",
      "\n",
      "testX_demand shape:(19, 3, 10) testX_demand shape:(19, 3, 10)\n"
     ]
    }
   ],
   "source": [
    "# Data Seqeuncing\n",
    "\n",
    "trainX_demand ,trainY_demand =  multivariate_univariate_single_step(train_data_normalized_demand,window_size_demand)\n",
    "testX_demand , testY_demand = multivariate_univariate_single_step(test_data_normalized_demand,window_size_demand)\n",
    "print(f\"trainX_demand shape:{trainX_demand.shape} trainY_demand shape:{trainY_demand.shape}\\n\")\n",
    "print(f\"testX_demand shape:{testX_demand.shape} testX_demand shape:{testX_demand.shape}\")"
   ]
  },
  {
   "cell_type": "code",
   "execution_count": 74,
   "metadata": {},
   "outputs": [
    {
     "name": "stdout",
     "output_type": "stream",
     "text": [
      "after transpose trainX shape:torch.Size([36, 10, 3]) trainY shape:torch.Size([19, 1])\n",
      "\n",
      "after transpose shape:torch.Size([19, 10, 3]) testY shape:torch.Size([7, 1])\n"
     ]
    }
   ],
   "source": [
    "#  Data Transform\n",
    "\n",
    "# make training and test sets in torch\n",
    "trainX_demand = torch.from_numpy(trainX_demand).type(torch.Tensor)\n",
    "trainY_demand = torch.from_numpy(trainY_demand).type(torch.Tensor)\n",
    "testX_demand = torch.from_numpy(testX_demand).type(torch.Tensor)\n",
    "testY_demand = torch.from_numpy(testY_demand).type(torch.Tensor)\n",
    "\n",
    "#3D Data Preparation\n",
    "trainX_demand = torch.reshape(trainX_demand,(trainX_demand.shape[0],trainX_demand.shape[1],trainX_demand.shape[2]))\n",
    "trainY_demand = torch.reshape(trainY_demand,(trainY_demand.shape[0],n_step_demand))\n",
    "testX_demand = torch.reshape(testX_demand,(testX_demand.shape[0],trainX_demand.shape[1],trainX_demand.shape[2]))\n",
    "testY_demand = torch.reshape(testY_demand,(testY_demand.shape[0],n_step_demand))\n",
    "\n",
    "# Data Transpose\n",
    "trainX_demand = torch.transpose(trainX_demand, 1, 2)\n",
    "testX_demand = torch.transpose(testX_demand, 1, 2)\n",
    "print(f\"after transpose trainX shape:{trainX_demand.shape} trainY shape:{trainY.shape}\\n\")\n",
    "print(f\"after transpose shape:{testX_demand.shape} testY shape:{testY.shape}\")"
   ]
  },
  {
   "cell_type": "code",
   "execution_count": 75,
   "metadata": {},
   "outputs": [
    {
     "name": "stdout",
     "output_type": "stream",
     "text": [
      "trainX_demand shape : torch.Size([36, 10, 3])\n",
      "trainY_demand shape : torch.Size([36, 1])\n",
      "testX_demand shape  : torch.Size([19, 10, 3])\n",
      "testY_demand_demand shape : torch.Size([19, 1])\n"
     ]
    }
   ],
   "source": [
    "print(f\"trainX_demand shape : {trainX_demand.shape}\")\n",
    "print(f\"trainY_demand shape : {trainY_demand.shape}\")\n",
    "print(f\"testX_demand shape  : {testX_demand.shape}\")\n",
    "print(f\"testY_demand_demand shape : {testY_demand.shape}\")"
   ]
  },
  {
   "cell_type": "code",
   "execution_count": 76,
   "metadata": {},
   "outputs": [],
   "source": [
    "# Create Iterator\n",
    "train_dataset_demand = TensorDataset(trainX_demand, trainY_demand)\n",
    "train_iter_demand = DataLoader(train_dataset_demand,batch_size=batch_size_demand,shuffle=False)\n",
    "\n",
    "test_dataset_demand = TensorDataset(testX_demand, testY_demand)\n",
    "test_iter_demand = DataLoader(test_dataset_demand,batch_size=batch_size_demand,shuffle=False)"
   ]
  },
  {
   "cell_type": "code",
   "execution_count": 77,
   "metadata": {},
   "outputs": [
    {
     "name": "stdout",
     "output_type": "stream",
     "text": [
      "CNN_Multivariate_Univariate(\n",
      "  (conv1): Conv1d(10, 64, kernel_size=(2,), stride=(1,))\n",
      "  (poo1): MaxPool1d(kernel_size=2, stride=2, padding=0, dilation=1, ceil_mode=False)\n",
      "  (fc1): Linear(in_features=64, out_features=50, bias=True)\n",
      "  (fc2): Linear(in_features=50, out_features=1, bias=True)\n",
      ")\n"
     ]
    }
   ],
   "source": [
    "model_demand = CNN_Multivariate_Univariate(timeseries=trainX_demand.shape[1], n_step=n_step_demand)\n",
    "print(model_demand.eval())\n",
    "optimizer_demand = torch.optim.SGD(model_demand.parameters(), lr=learning_rate_demand)\n",
    "loss_fn_demand = nn.MSELoss()"
   ]
  },
  {
   "cell_type": "code",
   "execution_count": 78,
   "metadata": {},
   "outputs": [],
   "source": [
    "train_loss_demand,val_loss_demand = training(num_epochs_demand,train_iter_demand,test_iter_demand,\n",
    "                                           optimiser = optimizer_demand,\n",
    "                                           loss_fn = loss_fn_demand,\n",
    "                                            model=model_demand)"
   ]
  },
  {
   "cell_type": "code",
   "execution_count": 79,
   "metadata": {},
   "outputs": [
    {
     "data": {
      "image/png": "[encoded data removed]",
      "text/plain": [
       "<Figure size 720x432 with 1 Axes>"
      ]
     },
     "metadata": {
      "needs_background": "light"
     },
     "output_type": "display_data"
    }
   ],
   "source": [
    "plt.figure(figsize=(10,6))\n",
    "plt.plot(train_loss_demand, label=\"Training loss\")\n",
    "plt.plot(val_loss_demand, label=\"Testing loss\")\n",
    "plt.xlabel(\"Epoch_Demand\")\n",
    "plt.ylabel(\"MSE_Demand\")\n",
    "plt.legend()\n",
    "plt.show()"
   ]
  },
  {
   "cell_type": "code",
   "execution_count": 81,
   "metadata": {},
   "outputs": [
    {
     "data": {
      "image/png": "[encoded data removed]",
      "text/plain": [
       "<Figure size 720x432 with 1 Axes>"
      ]
     },
     "metadata": {
      "needs_background": "light"
     },
     "output_type": "display_data"
    }
   ],
   "source": [
    "# Zoom in by fill in start_epoch and end_epoch\n",
    "start_epoch = 140\n",
    "end_epoch = 152\n",
    "plt.figure(figsize=(10,6))\n",
    "plt.plot(train_loss_demand[start_epoch:end_epoch], label=\"Training loss\")\n",
    "plt.plot(val_loss_demand[start_epoch:end_epoch], label=\"Testing loss\")\n",
    "plt.title(\"Losses\")\n",
    "plt.xlabel(\"Epoch_Demand\")\n",
    "plt.ylabel(\"MSE_Demand\")\n",
    "position=range(end_epoch-start_epoch)\n",
    "labels=range(start_epoch,end_epoch)\n",
    "plt.xticks(position, labels)\n",
    "plt.legend()\n",
    "plt.show()"
   ]
  },
  {
   "cell_type": "code",
   "execution_count": 82,
   "metadata": {},
   "outputs": [],
   "source": [
    "# Inference \n",
    "with torch.no_grad():\n",
    "    y_train_prediction_demand = model_demand(trainX_demand)\n",
    "    y_test_prediction_demand = model_demand(testX_demand)\n",
    "\n",
    "# Reshape to original data\n",
    "y_train_prediction_demand = torch.reshape(y_train_prediction_demand,(y_train_prediction_demand.shape[0],y_train_prediction_demand.shape[1]))\n",
    "trainY_demand = torch.reshape(trainY_demand,(trainY_demand.shape[0],trainY_demand.shape[1]))\n",
    "y_test_prediction_demand = torch.reshape(y_test_prediction_demand,(y_test_prediction_demand.shape[0],y_test_prediction_demand.shape[1]))\n",
    "testY_demand = torch.reshape(testY_demand,(testY_demand.shape[0],testY_demand.shape[1]))"
   ]
  },
  {
   "cell_type": "code",
   "execution_count": 83,
   "metadata": {},
   "outputs": [],
   "source": [
    "#Invert predictions\n",
    "y_train_prediction_demand = scaler.inverse_transform(y_train_prediction_demand.detach().numpy())\n",
    "y_train_demand = scaler.inverse_transform(trainY_demand.detach().numpy())\n",
    "y_test_prediction_demand = scaler.inverse_transform(y_test_prediction_demand.detach().numpy())\n",
    "y_test_demand = scaler.inverse_transform(testY_demand.detach().numpy())"
   ]
  },
  {
   "cell_type": "code",
   "execution_count": 84,
   "metadata": {},
   "outputs": [
    {
     "name": "stdout",
     "output_type": "stream",
     "text": [
      "y-test_demand\t\t\t\ty-predict_demand\n",
      "[268.00058]\t\t[-445.68835]\n",
      "[234.50491]\t\t[-1979.7262]\n",
      "[234.7216]\t\t[567.3854]\n",
      "[230.06537]\t\t[793.04144]\n",
      "[357.39624]\t\t[-22.636154]\n",
      "[259.24747]\t\t[-314.5478]\n",
      "[244.23564]\t\t[109.875046]\n",
      "[402.6081]\t\t[1252.1744]\n",
      "[255.05988]\t\t[1275.3044]\n",
      "[342.60614]\t\t[295.87247]\n",
      "[268.64056]\t\t[503.0346]\n",
      "[188.6027]\t\t[74.42921]\n",
      "[202.02213]\t\t[24.873566]\n",
      "[213.5065]\t\t[440.56848]\n",
      "[316.85074]\t\t[-914.03296]\n",
      "[286.41388]\t\t[949.116]\n",
      "[303.4464]\t\t[1481.7812]\n",
      "[304.9481]\t\t[3828.2312]\n",
      "[331.89783]\t\t[4903.539]\n"
     ]
    }
   ],
   "source": [
    "print(\"y-test_demand\\t\\t\\t\\ty-predict_demand\")\n",
    "for i in range(len(y_test_prediction_demand)):\n",
    "    print(f\"{y_test_demand[i]}\\t\\t{y_test_prediction_demand[i]}\")"
   ]
  },
  {
   "cell_type": "code",
   "execution_count": 85,
   "metadata": {},
   "outputs": [
    {
     "name": "stdout",
     "output_type": "stream",
     "text": [
      "y_test_demand_shape : (19, 1)\n",
      "y_test_demand_pred_shape : (19, 1)\n"
     ]
    }
   ],
   "source": [
    "print(f\"y_test_demand_shape : {y_test_demand.shape}\")\n",
    "print(f\"y_test_demand_pred_shape : {y_test_prediction_demand.shape}\")"
   ]
  },
  {
   "cell_type": "code",
   "execution_count": 86,
   "metadata": {},
   "outputs": [
    {
     "name": "stdout",
     "output_type": "stream",
     "text": [
      "Train Score: 1078.04 RMSE\n",
      "Test Score: 1537.31 RMSE\n"
     ]
    }
   ],
   "source": [
    "# calculate root mean squared error\n",
    "trainScore_demand = math.sqrt(mean_squared_error(y_train_demand[:,0], y_train_prediction_demand[:,0]))\n",
    "print('Train Score: %.2f RMSE' % (trainScore_demand))\n",
    "testScore_demand = math.sqrt(mean_squared_error(y_test_demand[:,0], y_test_prediction_demand[:,0]))\n",
    "print('Test Score: %.2f RMSE' % (testScore_demand))"
   ]
  },
  {
   "cell_type": "code",
   "execution_count": 87,
   "metadata": {},
   "outputs": [],
   "source": [
    "start_time =train_data_demand.shape[0]+window_size_demand\n",
    "end_time = len(demand)+1"
   ]
  },
  {
   "cell_type": "code",
   "execution_count": 88,
   "metadata": {},
   "outputs": [
    {
     "data": {
      "text/plain": [
       "range(41, 60)"
      ]
     },
     "execution_count": 88,
     "metadata": {},
     "output_type": "execute_result"
    }
   ],
   "source": [
    "# Adjust to make the sequence data plot on original test data \n",
    "a=range(start_time,end_time)\n",
    "a"
   ]
  },
  {
   "cell_type": "code",
   "execution_count": 89,
   "metadata": {},
   "outputs": [
    {
     "data": {
      "text/plain": [
       "<matplotlib.legend.Legend at 0x1400303b1c8>"
      ]
     },
     "execution_count": 89,
     "metadata": {},
     "output_type": "execute_result"
    },
    {
     "data": {
      "image/png": "[encoded data removed]",
      "text/plain": [
       "<Figure size 720x432 with 1 Axes>"
      ]
     },
     "metadata": {
      "needs_background": "light"
     },
     "output_type": "display_data"
    }
   ],
   "source": [
    "plt.figure(figsize=(10,6))\n",
    "plt.plot(test_time,test_data_demand[:,-1], label = 'Actual Data')\n",
    "plt.plot(a,y_test_demand, color=\"green\",label = 'Test Data After Sequencing')\n",
    "plt.plot(a,y_test_prediction_demand,color=\"red\", label = 'Forecast')\n",
    "plt.xlabel(\"Time\")\n",
    "plt.ylabel(\"Value\")\n",
    "plt.legend()"
   ]
  },
  {
   "cell_type": "markdown",
   "metadata": {},
   "source": [
    "## Reference\n",
    "1. Deep Learning for Time Series Forecasting (Predict the Future with MLPs,CNNs and LSTMs in Python) , Jason Brownlee"
   ]
  }
 ],
 "metadata": {
  "kernelspec": {
   "display_name": "Python 3",
   "language": "python",
   "name": "python3"
  },
  "language_info": {
   "codemirror_mode": {
    "name": "ipython",
    "version": 3
   },
   "file_extension": ".py",
   "mimetype": "text/x-python",
   "name": "python",
   "nbconvert_exporter": "python",
   "pygments_lexer": "ipython3",
   "version": "3.7.9"
  }
 },
 "nbformat": 4,
 "nbformat_minor": 4
}
