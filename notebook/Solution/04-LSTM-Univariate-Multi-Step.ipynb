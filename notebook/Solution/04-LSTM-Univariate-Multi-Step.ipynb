{
 "cells": [
  {
   "cell_type": "markdown",
   "metadata": {
    "deletable": false,
    "editable": false
   },
   "source": [
    "> **Copyright &copy; 2020 CertifAI Sdn. Bhd.**<br>\n",
    " **Copyright &copy; 2021 CertifAI Sdn. Bhd.**<br>\n",
    " <br>\n",
    "This program and the accompanying materials are made available under the\n",
    "terms of the [Apache License, Version 2.0](https://www.apache.org/licenses/LICENSE-2.0). \\\n",
    "Unless required by applicable law or agreed to in writing, software\n",
    "distributed under the License is distributed on an \"AS IS\" BASIS, WITHOUT\n",
    "WARRANTIES OR CONDITIONS OF ANY KIND, either express or implied. See the\n",
    "License for the specific language governing permissions and limitations\n",
    "under the License. <br>\n",
    "<br>**SPDX-License-Identifier: Apache-2.0**"
   ]
  },
  {
   "cell_type": "markdown",
   "metadata": {},
   "source": [
    "# Univariate LSTM, Multi-Step Forecast\n",
    "\n",
    "## Introduction\n",
    "This tutorial is to demonstrate the process in build LSTM for the Univariate Time Series Data for Multi Step,The flow of building the LSTM model is same in Univariate Single Step , the only different is in the **Data Sequencing** part.<br> \n",
    "\n",
    "It consists of 2 major part which are :<br> \n",
    "\n",
    "Part 1 - The Demostration of Building LSTM using Synthetic data<br>\n",
    "Part 2 - Exercise of building LSTM using shampoo sales data.<br> \n",
    "\n",
    "\n",
    "## What will we accomplish?\n",
    "First, we will show the step in building the LSTM :<br> \n",
    "\n",
    "Step 1. Data Preparation (Data Splitting,Data Sequencing,Data Normalization and Batching the Data) <br> \n",
    "Step 2. Model Configuration (Vanila LSTM , Stacked LSTM , Bidirectional LSTM) <br> \n",
    "Step 3. Train the model <br> \n",
    "Step 4. Validate the model using graph  <br> \n",
    "Step 5. Evaluation Metrics such as MSE <br> \n",
    "Step 6. Plot the forecast result\n",
    "\n",
    "First , let's us import the package needed"
   ]
  },
  {
   "cell_type": "code",
   "execution_count": 1,
   "metadata": {},
   "outputs": [],
   "source": [
    "%%capture\n",
    "# pip install this package to view the summary of LSTM due to original torchsummary does have the function to view the LSTM\n",
    "# used jupyter install due to it does not have conda version\n",
    "# %%capture supress information of torchsummaryX installation\n",
    "!pip install torchsummaryX"
   ]
  },
  {
   "cell_type": "code",
   "execution_count": 2,
   "metadata": {},
   "outputs": [],
   "source": [
    "#import packages needed\n",
    "import numpy as np\n",
    "import pandas as pd\n",
    "import matplotlib.pyplot as plt\n",
    "import torch\n",
    "import torch.nn as nn\n",
    "from torch.utils.data import DataLoader,TensorDataset\n",
    "from sklearn.metrics import mean_squared_error\n",
    "from sklearn.preprocessing import StandardScaler,MinMaxScaler\n",
    "import math\n",
    "from torchsummaryX import summary\n",
    "\n",
    "# To auto load the customise module\n",
    "%load_ext autoreload\n",
    "%autoreload 2\n",
    "import LSTM_module\n",
    "import data_module"
   ]
  },
  {
   "cell_type": "markdown",
   "metadata": {},
   "source": [
    "# Part 1 : Demostration of Building LSTM using Synthetic data"
   ]
  },
  {
   "cell_type": "markdown",
   "metadata": {},
   "source": [
    "## Hyperparameter\n",
    "Define the hyper parameter that need to tune the model"
   ]
  },
  {
   "cell_type": "code",
   "execution_count": 3,
   "metadata": {},
   "outputs": [],
   "source": [
    "split_ratio = 0.70\n",
    "num_epochs = 60\n",
    "window_size = 2\n",
    "batch_size = 2\n",
    "n_step = 2\n"
   ]
  },
  {
   "cell_type": "markdown",
   "metadata": {},
   "source": [
    "# Step 1 : Data Preparation\n",
    "We create synthetic data to make sure the model is created correctly and having the ability to perform the forecasting <br>\n",
    "\n",
    "1. First , we will create a sequence of data with `np.array`\n",
    "2. Then , we will assign a date to the sequence of data with `pd.date_range` and store it to series data by using `pd.Series"
   ]
  },
  {
   "cell_type": "code",
   "execution_count": 4,
   "metadata": {},
   "outputs": [
    {
     "name": "stdout",
     "output_type": "stream",
     "text": [
      "(40,)\n"
     ]
    },
    {
     "data": {
      "text/plain": [
       "array([  0,  10,  20,  30,  40,  50,  60,  70,  80,  90, 100, 110, 120,\n",
       "       130, 140, 150, 160, 170, 180, 190, 200, 210, 220, 230, 240, 250,\n",
       "       260, 270, 280, 290, 300, 310, 320, 330, 340, 350, 360, 370, 380,\n",
       "       390])"
      ]
     },
     "execution_count": 4,
     "metadata": {},
     "output_type": "execute_result"
    }
   ],
   "source": [
    "#Synthetic Data\n",
    "univariate_series = np.array([x for x in range(0, 400, 10)])\n",
    "print(univariate_series.shape)\n",
    "univariate_series"
   ]
  },
  {
   "cell_type": "code",
   "execution_count": 5,
   "metadata": {},
   "outputs": [
    {
     "data": {
      "text/plain": [
       "2020-01-01     0\n",
       "2020-01-02    10\n",
       "2020-01-03    20\n",
       "2020-01-04    30\n",
       "2020-01-05    40\n",
       "Freq: D, dtype: int32"
      ]
     },
     "execution_count": 5,
     "metadata": {},
     "output_type": "execute_result"
    }
   ],
   "source": [
    "univariate_series =pd.Series(univariate_series,pd.date_range(\"1/1/2020\",\n",
    "                                                             periods=len(univariate_series),\n",
    "                                                            freq='D'))\n",
    "univariate_series.head()"
   ]
  },
  {
   "cell_type": "markdown",
   "metadata": {},
   "source": [
    "## Data Visualization\n",
    "Data visualization is import for us to visualize the pattern of data such as trend and seasonality.As the graph below, it is shown that it is an increasing trend in data"
   ]
  },
  {
   "cell_type": "code",
   "execution_count": 6,
   "metadata": {},
   "outputs": [
    {
     "data": {
      "text/plain": [
       "Text(0.5, 1.0, 'Synthetic Data')"
      ]
     },
     "execution_count": 6,
     "metadata": {},
     "output_type": "execute_result"
    },
    {
     "data": {
      "image/png": "[encoded data removed]",
      "text/plain": [
       "<Figure size 432x288 with 1 Axes>"
      ]
     },
     "metadata": {
      "needs_background": "light"
     },
     "output_type": "display_data"
    }
   ],
   "source": [
    "### BEGIN SOLUTION\n",
    "\n",
    "univariate_series.plot()\n",
    "plt.title(\"Synthetic Data\")\n",
    "\n",
    "### BEGIN SOLUTION"
   ]
  },
  {
   "cell_type": "markdown",
   "metadata": {},
   "source": [
    "## Data Splitting\n",
    "In Deep Learning, we will split the data into training and test dataset.The training data is used to train the model where the test data is used to validate the performance of the model"
   ]
  },
  {
   "cell_type": "code",
   "execution_count": 7,
   "metadata": {},
   "outputs": [
    {
     "data": {
      "text/plain": [
       "28"
      ]
     },
     "execution_count": 7,
     "metadata": {},
     "output_type": "execute_result"
    }
   ],
   "source": [
    "split_data = round(len(univariate_series)*split_ratio)\n",
    "split_data"
   ]
  },
  {
   "cell_type": "code",
   "execution_count": 8,
   "metadata": {},
   "outputs": [
    {
     "name": "stdout",
     "output_type": "stream",
     "text": [
      "train_data_shape\n",
      "(28,)\n",
      "test_data_shape\n",
      "(12,)\n"
     ]
    }
   ],
   "source": [
    "#split data by indexing \n",
    "train_data = univariate_series[:split_data]\n",
    "test_data = univariate_series[split_data:]\n",
    "\n",
    "train_time = univariate_series.index[:split_data]\n",
    "test_time = univariate_series.index[split_data:]\n",
    "print(\"train_data_shape\")\n",
    "print(train_data.shape)\n",
    "print(\"test_data_shape\")\n",
    "print(test_data.shape)"
   ]
  },
  {
   "cell_type": "markdown",
   "metadata": {},
   "source": [
    "## Data Standardize\n",
    "Standardize the data to have a 0 mean and unit variance to make our model converge faster"
   ]
  },
  {
   "cell_type": "code",
   "execution_count": 9,
   "metadata": {},
   "outputs": [],
   "source": [
    "# Build the standard scaler, Use to fit the train data and take the statistic of train data apply in test data\n",
    "scaler = StandardScaler().fit(train_data.values.reshape(-1, 1))\n",
    "train_data_standard = scaler.transform(train_data.values.reshape(-1, 1))\n",
    "test_data_standard = scaler.transform(test_data.values.reshape(-1, 1))"
   ]
  },
  {
   "cell_type": "markdown",
   "metadata": {},
   "source": [
    "## Data Sequencing\n",
    "Sequencing the data by take in the univariate series into x-feature and y-label\n",
    "<img src = \"../../picture/Data Sequencing in Univariate Multi-step.png\"  width=\"300\" height  =\"300\" align=\"center\" />"
   ]
  },
  {
   "cell_type": "code",
   "execution_count": 10,
   "metadata": {},
   "outputs": [
    {
     "name": "stdout",
     "output_type": "stream",
     "text": [
      "trainX shape:(25, 2, 1) trainY shape:(25, 2, 1)\n",
      "\n",
      "testX shape:(9, 2, 1) testX shape:(9, 2, 1)\n"
     ]
    }
   ],
   "source": [
    "trainX ,trainY =  data_module.univariate_multi_step(train_data_standard,window_size,n_step)\n",
    "testX , testY = data_module.univariate_multi_step(test_data_standard,window_size,n_step)\n",
    "print(f\"trainX shape:{trainX.shape} trainY shape:{trainY.shape}\\n\")\n",
    "print(f\"testX shape:{testX.shape} testX shape:{testY.shape}\")"
   ]
  },
  {
   "cell_type": "markdown",
   "metadata": {},
   "source": [
    "## Data Transform\n",
    "Before we train the model , we need to transform our data from `array data` to `torch tensor`"
   ]
  },
  {
   "cell_type": "code",
   "execution_count": 11,
   "metadata": {
    "scrolled": true
   },
   "outputs": [
    {
     "name": "stdout",
     "output_type": "stream",
     "text": [
      "trainX shape:torch.Size([25, 2, 1]) trainY shape:torch.Size([25, 2, 1])\n",
      "\n",
      "testX shape:torch.Size([9, 2, 1]) testY shape:torch.Size([9, 2, 1])\n"
     ]
    }
   ],
   "source": [
    "#transfrom to Pytorch tensor\n",
    "trainX = torch.from_numpy(trainX).type(torch.Tensor)\n",
    "trainY = torch.from_numpy(trainY).type(torch.Tensor)\n",
    "testX = torch.from_numpy(testX).type(torch.Tensor)\n",
    "testY = torch.from_numpy(testY).type(torch.Tensor)\n",
    "print(f\"trainX shape:{trainX.shape} trainY shape:{trainY.shape}\\n\")\n",
    "print(f\"testX shape:{testX.shape} testY shape:{testY.shape}\")"
   ]
  },
  {
   "cell_type": "markdown",
   "metadata": {},
   "source": [
    "Perform sanity check the shape to make sure the transform is success"
   ]
  },
  {
   "cell_type": "code",
   "execution_count": 12,
   "metadata": {},
   "outputs": [
    {
     "name": "stdout",
     "output_type": "stream",
     "text": [
      "Features are now in the shape of torch.Size([25, 2, 1]) while labels are now in the shape of torch.Size([25, 2, 1])\n",
      "\n",
      "x-feature\n",
      "25 = total number of data \n",
      "2 = window size \n",
      "1 = number of time series\n",
      "\n",
      "y-label\n",
      "25 = number of data\n",
      "2 = number of step\n",
      "\n"
     ]
    }
   ],
   "source": [
    "print(f\"Features are now in the shape of {trainX.shape} while labels are now in the shape of {trainY.shape}\\n\")\n",
    "print(\"x-feature\\n\"+str(trainX.shape[0])+\" = total number of data \")\n",
    "print(str(trainX.shape[1])+\" = window size \")\n",
    "print(str(trainX.shape[2])+\" = number of time series\\n\")\n",
    "print(\"y-label\\n\"+str(trainY.shape[0])+\" = number of data\")\n",
    "print(str(trainY.shape[1])+\" = number of step\\n\")"
   ]
  },
  {
   "cell_type": "markdown",
   "metadata": {},
   "source": [
    "## Data Iterator\n",
    "Iterator is created to allow the data separate into several batches to fasten the training process\n",
    "\n",
    "1. First, we will use `TensorDataset` to \"wrap\" the x-feature and y-label together \n",
    "2. Then, use `DataLoader` to create the iterator base on the `batch_size`. \n",
    "\n",
    ">`shuffle = False` will be select since we don want it to break the sequence information between each data"
   ]
  },
  {
   "cell_type": "code",
   "execution_count": 13,
   "metadata": {},
   "outputs": [],
   "source": [
    "# Create Iterator\n",
    "train_dataset = TensorDataset(trainX, trainY)\n",
    "train_iter = DataLoader(train_dataset,batch_size=batch_size,shuffle=False)\n",
    "\n",
    "test_dataset = TensorDataset(testX, testY)\n",
    "test_iter = DataLoader(test_dataset,batch_size=batch_size,shuffle=False)"
   ]
  },
  {
   "cell_type": "markdown",
   "metadata": {},
   "source": [
    "# Step 2 : LSTM Model Configuration \n",
    "Please refer to [04-LSTM-Univariate-Single-Step # Step 2 : LSTM Model Configuration ](./04-LSTM-Univariate-Single-Step.ipynb) for the explanation"
   ]
  },
  {
   "cell_type": "markdown",
   "metadata": {},
   "source": [
    "## Input Model\n",
    "\n",
    "The model is input by feed in the require attributes such as number of input layer, output layer and hidden layer.\n",
    "\n",
    "How to Use :\n",
    "\n",
    "1. Select one of the model base on the application as below and comment others model<br>\n",
    "2. IF use Vanila LSTM , set num_layer = 1 and use the model = LSTM()<br>\n",
    "3. IF use stacked LSTM , set num_layer more than 1 and use the model = LSTM()<br>\n",
    "4. IF use Bidirectional LSTM, use the model = BidirectionalLSTM()<br>"
   ]
  },
  {
   "cell_type": "code",
   "execution_count": 14,
   "metadata": {},
   "outputs": [],
   "source": [
    "#Arguments for LSTM model\n",
    "hidden_dim = 10\n",
    "n_feature = 1 \n",
    "n_step = 2\n",
    "\n",
    "#1 for vanila LSTM , >1 is mean stacked LSTM\n",
    "num_layers = 1 \n",
    "\n",
    "#Vanila , Stacked LSTM\n",
    "# model = LSTM_module.LSTM(n_feature = n_feature ,\n",
    "#                          hidden_dim = hidden_dim ,\n",
    "#                          num_layers = num_layers,\n",
    "#                          n_step = n_step)\n",
    "\n",
    "#Bidirectional LSTM\n",
    "model = LSTM_module.BidirectionalLSTM(n_feature = n_feature ,\n",
    "                         hidden_dim = hidden_dim ,\n",
    "                         num_layers = num_layers,\n",
    "                         n_step = n_step)\n"
   ]
  },
  {
   "cell_type": "markdown",
   "metadata": {},
   "source": [
    "Define the MSE as loss function and using Adam as the model optimiser"
   ]
  },
  {
   "cell_type": "code",
   "execution_count": 15,
   "metadata": {},
   "outputs": [],
   "source": [
    "#loss function \n",
    "loss_fn = torch.nn.MSELoss()\n",
    "\n",
    "#optimiser\n",
    "optimiser = torch.optim.Adam(model.parameters(), lr=0.01)"
   ]
  },
  {
   "cell_type": "code",
   "execution_count": 16,
   "metadata": {},
   "outputs": [
    {
     "name": "stdout",
     "output_type": "stream",
     "text": [
      "===================================================\n",
      "       Kernel Shape Output Shape  Params  Mult-Adds\n",
      "Layer                                              \n",
      "0_lstm            -   [2, 2, 20]    1040        880\n",
      "1_fc        [20, 2]       [2, 2]      42         40\n",
      "---------------------------------------------------\n",
      "                      Totals\n",
      "Total params            1082\n",
      "Trainable params        1082\n",
      "Non-trainable params       0\n",
      "Mult-Adds                920\n",
      "===================================================\n",
      "       Kernel Shape Output Shape  Params  Mult-Adds\n",
      "Layer                                              \n",
      "0_lstm            -   [2, 2, 20]    1040        880\n",
      "1_fc        [20, 2]       [2, 2]      42         40\n"
     ]
    }
   ],
   "source": [
    "inputs = torch.zeros((batch_size,window_size,1),dtype=torch.float) # batch size , seq_length , input_dim\n",
    "print(summary(model,inputs))"
   ]
  },
  {
   "cell_type": "markdown",
   "metadata": {},
   "source": [
    "# Step 3 : Training"
   ]
  },
  {
   "cell_type": "code",
   "execution_count": 17,
   "metadata": {},
   "outputs": [],
   "source": [
    "# Start Training \n",
    "train_loss,val_loss = LSTM_module.training(num_epochs,train_iter,test_iter,optimiser,loss_fn,model)"
   ]
  },
  {
   "cell_type": "markdown",
   "metadata": {},
   "source": [
    "# Step 4 : Validation\n",
    "A train loss and val loss is plotted to define how well the data is fitting the model"
   ]
  },
  {
   "cell_type": "code",
   "execution_count": 18,
   "metadata": {
    "scrolled": true
   },
   "outputs": [
    {
     "data": {
      "image/png": "[encoded data removed]",
      "text/plain": [
       "<Figure size 720x432 with 1 Axes>"
      ]
     },
     "metadata": {
      "needs_background": "light"
     },
     "output_type": "display_data"
    },
    {
     "name": "stdout",
     "output_type": "stream",
     "text": [
      "Epoch : 0 , training loss : 0.8685571360588074 , validation loss : 6.33502917819553\n",
      "Epoch : 1 , training loss : 0.4626403042674065 , validation loss : 3.7618110444810657\n",
      "Epoch : 2 , training loss : 0.16307831961661579 , validation loss : 1.3134577804141574\n",
      "Epoch : 3 , training loss : 0.05833573764190078 , validation loss : 0.49761637714174056\n",
      "Epoch : 4 , training loss : 0.034363314509391785 , validation loss : 0.7541095614433289\n",
      "Epoch : 5 , training loss : 0.012558726435527206 , validation loss : 0.652678734726376\n",
      "Epoch : 6 , training loss : 0.0120319158770144 , validation loss : 0.6456832786401113\n",
      "Epoch : 7 , training loss : 0.010255965634714813 , validation loss : 0.6228007343080308\n",
      "Epoch : 8 , training loss : 0.00909775223582983 , validation loss : 0.5941798388957977\n",
      "Epoch : 9 , training loss : 0.007924206615425646 , validation loss : 0.5767356687121921\n",
      "Epoch : 10 , training loss : 0.007464418467134237 , validation loss : 0.5378080275323656\n",
      "Epoch : 11 , training loss : 0.0065921726799570025 , validation loss : 0.5166863103707632\n",
      "Epoch : 12 , training loss : 0.006155325006693602 , validation loss : 0.48426300949520534\n",
      "Epoch : 13 , training loss : 0.005535998439881951 , validation loss : 0.4615654978487227\n",
      "Epoch : 14 , training loss : 0.005190051747485995 , validation loss : 0.4344727198282878\n",
      "Epoch : 15 , training loss : 0.004654900352470577 , validation loss : 0.4147104058000777\n",
      "Epoch : 16 , training loss : 0.004450677162967622 , validation loss : 0.3900381558471256\n",
      "Epoch : 17 , training loss : 0.003925824684556573 , validation loss : 0.3742731677161323\n",
      "Epoch : 18 , training loss : 0.003947586305439472 , validation loss : 0.3499547524584664\n",
      "Epoch : 19 , training loss : 0.00335174051579088 , validation loss : 0.34011848436461556\n",
      "Epoch : 20 , training loss : 0.003988010557368398 , validation loss : 0.3120598296324412\n",
      "Epoch : 21 , training loss : 0.0034537463425658643 , validation loss : 0.31472230123149025\n",
      "Epoch : 22 , training loss : 0.006938071052427403 , validation loss : 0.27178862856494057\n",
      "Epoch : 23 , training loss : 0.010554536273702978 , validation loss : 0.3125643531481425\n",
      "Epoch : 24 , training loss : 0.031522366624121785 , validation loss : 0.21844224880139032\n",
      "Epoch : 25 , training loss : 0.07601933360099793 , validation loss : 0.4457824097739326\n",
      "Epoch : 26 , training loss : 0.11763769265264273 , validation loss : 0.20295139981640709\n",
      "Epoch : 27 , training loss : 0.11359602224081755 , validation loss : 0.710120227601793\n",
      "Epoch : 28 , training loss : 0.04921266171615571 , validation loss : 0.22431877586576673\n",
      "Epoch : 29 , training loss : 0.022277638763189316 , validation loss : 0.7528858317269219\n",
      "Epoch : 30 , training loss : 0.01064382679760456 , validation loss : 0.37215712666511536\n",
      "Epoch : 31 , training loss : 0.004963779940735549 , validation loss : 0.5249960886107551\n",
      "Epoch : 32 , training loss : 0.004715337315574288 , validation loss : 0.41909869180785286\n",
      "Epoch : 33 , training loss : 0.004151583737693727 , validation loss : 0.404285223947631\n",
      "Epoch : 34 , training loss : 0.00375473930966109 , validation loss : 0.376422514518102\n",
      "Epoch : 35 , training loss : 0.003521547196432948 , validation loss : 0.35264750983979964\n",
      "Epoch : 36 , training loss : 0.003178589271847159 , validation loss : 0.33645355039172703\n",
      "Epoch : 37 , training loss : 0.0029277749464381485 , validation loss : 0.3177423146035936\n",
      "Epoch : 38 , training loss : 0.0026208889461122454 , validation loss : 0.30355848537551033\n",
      "Epoch : 39 , training loss : 0.0023992863739840686 , validation loss : 0.2867818574110667\n",
      "Epoch : 40 , training loss : 0.002129080334561877 , validation loss : 0.2738797912995021\n",
      "Epoch : 41 , training loss : 0.001947438584174961 , validation loss : 0.25847458673848045\n",
      "Epoch : 42 , training loss : 0.0017058436956722289 , validation loss : 0.24725604719585842\n",
      "Epoch : 43 , training loss : 0.001567687017377466 , validation loss : 0.23301605549123552\n",
      "Epoch : 44 , training loss : 0.0013410316372755916 , validation loss : 0.22393549730380377\n",
      "Epoch : 45 , training loss : 0.0012598380167037249 , validation loss : 0.21024962100717756\n",
      "Epoch : 46 , training loss : 0.0010283794114366175 , validation loss : 0.20406571444537905\n",
      "Epoch : 47 , training loss : 0.0010463024923228659 , validation loss : 0.18965883056322733\n",
      "Epoch : 48 , training loss : 0.0007867901762074325 , validation loss : 0.18825032975938585\n",
      "Epoch : 49 , training loss : 0.0010624535256647505 , validation loss : 0.17024112078878614\n",
      "Epoch : 50 , training loss : 0.0008743971612875612 , validation loss : 0.17898666030830807\n",
      "Epoch : 51 , training loss : 0.002263474238134222 , validation loss : 0.1504688242243396\n",
      "Epoch : 52 , training loss : 0.004009948000311851 , validation loss : 0.18970881071355608\n",
      "Epoch : 53 , training loss : 0.012514412924647332 , validation loss : 0.1323673269814915\n",
      "Epoch : 54 , training loss : 0.037103556990623475 , validation loss : 0.34781961639722186\n",
      "Epoch : 55 , training loss : 0.07103939697146416 , validation loss : 0.11445353863139947\n",
      "Epoch : 56 , training loss : 0.1457284164428711 , validation loss : 1.0233067406548395\n",
      "Epoch : 57 , training loss : 0.08651020362973214 , validation loss : 0.1457894949449433\n",
      "Epoch : 58 , training loss : 0.013356668930500746 , validation loss : 0.40198539363013375\n",
      "Epoch : 59 , training loss : 0.006791070813778788 , validation loss : 0.2695699582497279\n"
     ]
    }
   ],
   "source": [
    "data_module.learning_curve(num_epochs,train_loss,val_loss)"
   ]
  },
  {
   "cell_type": "code",
   "execution_count": 19,
   "metadata": {},
   "outputs": [
    {
     "data": {
      "image/png": "[encoded data removed]",
      "text/plain": [
       "<Figure size 720x432 with 1 Axes>"
      ]
     },
     "metadata": {
      "needs_background": "light"
     },
     "output_type": "display_data"
    }
   ],
   "source": [
    "data_module.zoom_learning_curve(start_epoch = 50,\n",
    "                                end_epoch =60 ,\n",
    "                                training_loss = train_loss,\n",
    "                                validation_loss = val_loss)"
   ]
  },
  {
   "cell_type": "markdown",
   "metadata": {},
   "source": [
    "# Step 5 : Evaluation\n",
    "This section is to inference the model by feeding in testing data and determine the output forecast value and calculate the RMSE .\n",
    "\n",
    "It consist of 4 section :\n",
    "\n",
    "Section 1 : Feed in the train and test data to the model <br>\n",
    "Section 2 : Reshape both to the original data dimension <br> \n",
    "Section 3 : Invert the scaling back to orignal data value <br>\n",
    "Section 4 : Calculate the RMSE of train and test data"
   ]
  },
  {
   "cell_type": "code",
   "execution_count": 20,
   "metadata": {},
   "outputs": [],
   "source": [
    "# Section 1 : make predictions\n",
    "with torch.no_grad():\n",
    "    y_train_prediction = model(trainX)\n",
    "    y_test_prediction = model(testX)\n",
    "\n",
    "# Section 2 : Reshape to original data\n",
    "y_train_prediction= torch.reshape(y_train_prediction,(y_train_prediction.shape[0],y_train_prediction.shape[1]))\n",
    "trainY = torch.reshape(trainY,(trainY.shape[0],trainY.shape[1]))\n",
    "y_test_prediction = torch.reshape(y_test_prediction,(y_test_prediction.shape[0],y_test_prediction.shape[1]))\n",
    "testY = torch.reshape(testY,(testY.shape[0],testY.shape[1]))"
   ]
  },
  {
   "cell_type": "code",
   "execution_count": 21,
   "metadata": {},
   "outputs": [],
   "source": [
    "# Section 3 : Invert predictions\n",
    "y_train_prediction= scaler.inverse_transform(y_train_prediction.numpy())\n",
    "y_train = scaler.inverse_transform(trainY.numpy())\n",
    "y_test_prediction = scaler.inverse_transform(y_test_prediction.numpy())\n",
    "y_test = scaler.inverse_transform(testY.numpy())"
   ]
  },
  {
   "cell_type": "code",
   "execution_count": 22,
   "metadata": {},
   "outputs": [
    {
     "name": "stdout",
     "output_type": "stream",
     "text": [
      "Train Score: 5.15 RMSE\n",
      "Test Score: 41.94 RMSE\n"
     ]
    }
   ],
   "source": [
    "# Section 4 : Calculate root mean squared error for both train and test data \n",
    "trainScore = math.sqrt(mean_squared_error(y_train, y_train_prediction))\n",
    "print('Train Score: %.2f RMSE' % (trainScore))\n",
    "testScore = math.sqrt(mean_squared_error(y_test, y_test_prediction))\n",
    "print('Test Score: %.2f RMSE' % (testScore))"
   ]
  },
  {
   "cell_type": "markdown",
   "metadata": {},
   "source": [
    "# Step 6 : Forecast Plot\n",
    "\n",
    ">**How to plot multi-step forecast ?**<br>\n",
    ">**Pipeline** : <br>\n",
    "    1. First , we store the test data and forecast data in the form of `DataFrame` <br>\n",
    "    2. Then , we slice the time index from the test time index base on the `window_size shampoo` to create new time index only for the data after the sliding window (data sequencing) <br>\n",
    "    3. Create a for loop to plot the data sequence by sequence<br>\n",
    "\n",
    ">**Optional function :**<br>\n",
    "    1. Turn the `original_plot = True` to observe how sliding window (data sequence) take place in the test data<br>\n",
    "    2. Assign `details = plot_details`  if you want to add details as such x-axis label , y-axis label,title<br>"
   ]
  },
  {
   "cell_type": "code",
   "execution_count": 23,
   "metadata": {},
   "outputs": [],
   "source": [
    "plot_details ={\"x-axis\" : \"Day\",\n",
    "          \"y-axis\" : \"Values\",\n",
    "          \"title\"  : \"Synthetic Data\"\n",
    "         }"
   ]
  },
  {
   "cell_type": "code",
   "execution_count": 24,
   "metadata": {},
   "outputs": [],
   "source": [
    "from matplotlib.lines import Line2D\n",
    "def multi_step_plot(original_test_data,\n",
    "                    after_sequence_test_data ,\n",
    "                    forecast_data,test_time,window_size,\n",
    "                    n_step ,\n",
    "                    details = {},\n",
    "                    original_plot = False):\n",
    "    \n",
    "    # Plot Setting\n",
    "    plt.figure(figsize=(10,6))\n",
    "    plt.xticks(rotation=45)    \n",
    "    \n",
    "    # Store test and forecast data into DataFrame type \n",
    "    column_names = [\"timestep_\" + str(i) for i in range(after_sequence_test_data.shape[1])]\n",
    "    y_test_dataframe = pd.DataFrame(after_sequence_test_data,columns = column_names)\n",
    "    y_test_pred_dataframe =pd.DataFrame(forecast_data,columns = column_names)\n",
    "    \n",
    "    # Create time index for data after sequence\n",
    "    time_index_after_sequence = test_time[window_size:]\n",
    "    \n",
    "    # Test Data plot before sliding window(data sequencing)\n",
    "    if original_plot:\n",
    "        plt.plot(test_time,original_test_data,marker='x',color=\"blue\")\n",
    "\n",
    "    # For loop to plot the data step by step base on time index    \n",
    "    start_idx = 0 \n",
    "    for row in range(len(y_test_dataframe)):\n",
    "        \n",
    "        # Iterate the time index after sequence\n",
    "        time_index = time_index_after_sequence[start_idx:start_idx+n_step]\n",
    "        \n",
    "        # Plot the test data\n",
    "        plt.plot(time_index,y_test_dataframe.iloc[row],color=\"green\",marker='o')\n",
    "        \n",
    "        # Plot the forecast data\n",
    "        plt.plot(time_index,y_test_pred_dataframe.iloc[row],color=\"red\",marker='o')\n",
    "        \n",
    "        # Pointer for time_index_after_sequence\n",
    "        start_idx += 1\n",
    "        \n",
    "    # Customize the legend\n",
    "    custom_lines = [Line2D([0], [0], color=\"green\", lw=4),\n",
    "                Line2D([0], [0], color=\"red\", lw=4),\n",
    "                Line2D([0], [0], color=\"blue\", lw=4)]\n",
    "    plt.legend(custom_lines, ['Test Data After Sequencing', 'Forecast Data', 'Test Data Before Sequencing'])\n",
    "    \n",
    "    # Extra details - Optional function\n",
    "    if details != {}:\n",
    "        plt.xlabel(details[\"x-axis\"])\n",
    "        plt.ylabel(details[\"y-axis\"])\n",
    "        plt.title(details[\"title\"])\n",
    "    "
   ]
  },
  {
   "cell_type": "code",
   "execution_count": 25,
   "metadata": {},
   "outputs": [
    {
     "data": {
      "image/png": "[encoded data removed]",
      "text/plain": [
       "<Figure size 720x432 with 1 Axes>"
      ]
     },
     "metadata": {
      "needs_background": "light"
     },
     "output_type": "display_data"
    }
   ],
   "source": [
    "# Use the multi_step_plot function\n",
    "multi_step_plot(original_test_data = test_data,\n",
    "                after_sequence_test_data = y_test ,\n",
    "                forecast_data = y_test_prediction,\n",
    "                test_time = test_time,\n",
    "                window_size = window_size ,\n",
    "                n_step = n_step,\n",
    "                details = plot_details,\n",
    "                original_plot = False)"
   ]
  },
  {
   "cell_type": "markdown",
   "metadata": {},
   "source": [
    "***"
   ]
  },
  {
   "cell_type": "markdown",
   "metadata": {},
   "source": [
    "# Part 2 : Exercise for Univariate (Solution)\n",
    "## Task : Using LSTM to create a model that can predict lastest sales of shampoo"
   ]
  },
  {
   "cell_type": "markdown",
   "metadata": {},
   "source": [
    "## Hyperparameter\n",
    ">**Instruction** : <br>\n",
    "You are require to fill the `None` with suitable value to make the model converge\n",
    "\n",
    ">**Expected Result** : <br>\n",
    "Train Score <= 60 RMSE<br>\n",
    "Test Score <= 120 RMSE<br>"
   ]
  },
  {
   "cell_type": "code",
   "execution_count": 54,
   "metadata": {},
   "outputs": [],
   "source": [
    "#Hyperparameter\n",
    "num_epochs_shampoo = 100\n",
    "split_ratio = 0.70\n",
    "n_step_shampoo = 2\n",
    "batch_size_shampoo = 2\n",
    "window_size_shampoo = 2\n",
    "\n",
    "#Hidden Layer for LSTM\n",
    "hidden_dim_shampoo = 32\n",
    "\n"
   ]
  },
  {
   "cell_type": "markdown",
   "metadata": {},
   "source": [
    "# Step 1 : Data Preparation\n",
    ">**Instruction** : <br>\n",
    "Read the file using `pd.read_csv`<br>\n",
    "Your file path `../../datasets/others/shampoo-sales.csv`\n",
    "\n",
    ">**Expected Result** : <br>\n",
    "Example of first 5 data :\n",
    "\n",
    "month| sales\n",
    "---|---\n",
    "0| 1-01|    266.0\n",
    "1| 1-02|    145.9\n",
    "2| 1-03|    183.1\n",
    "3| 1-04|    119.3\n",
    "4| 1-05|    180.3"
   ]
  },
  {
   "cell_type": "code",
   "execution_count": 55,
   "metadata": {},
   "outputs": [
    {
     "data": {
      "text/html": [
       "<div>\n",
       "<style scoped>\n",
       "    .dataframe tbody tr th:only-of-type {\n",
       "        vertical-align: middle;\n",
       "    }\n",
       "\n",
       "    .dataframe tbody tr th {\n",
       "        vertical-align: top;\n",
       "    }\n",
       "\n",
       "    .dataframe thead th {\n",
       "        text-align: right;\n",
       "    }\n",
       "</style>\n",
       "<table border=\"1\" class=\"dataframe\">\n",
       "  <thead>\n",
       "    <tr style=\"text-align: right;\">\n",
       "      <th></th>\n",
       "      <th>month</th>\n",
       "      <th>sales</th>\n",
       "    </tr>\n",
       "  </thead>\n",
       "  <tbody>\n",
       "    <tr>\n",
       "      <th>0</th>\n",
       "      <td>1-01</td>\n",
       "      <td>266.0</td>\n",
       "    </tr>\n",
       "    <tr>\n",
       "      <th>1</th>\n",
       "      <td>1-02</td>\n",
       "      <td>145.9</td>\n",
       "    </tr>\n",
       "    <tr>\n",
       "      <th>2</th>\n",
       "      <td>1-03</td>\n",
       "      <td>183.1</td>\n",
       "    </tr>\n",
       "    <tr>\n",
       "      <th>3</th>\n",
       "      <td>1-04</td>\n",
       "      <td>119.3</td>\n",
       "    </tr>\n",
       "    <tr>\n",
       "      <th>4</th>\n",
       "      <td>1-05</td>\n",
       "      <td>180.3</td>\n",
       "    </tr>\n",
       "  </tbody>\n",
       "</table>\n",
       "</div>"
      ],
      "text/plain": [
       "  month  sales\n",
       "0  1-01  266.0\n",
       "1  1-02  145.9\n",
       "2  1-03  183.1\n",
       "3  1-04  119.3\n",
       "4  1-05  180.3"
      ]
     },
     "execution_count": 55,
     "metadata": {},
     "output_type": "execute_result"
    }
   ],
   "source": [
    "# Read CSV file \n",
    "\n",
    "### BEGIN SOLUTION\n",
    "shampoo = pd.read_csv('../../datasets/others/shampoo-sales.csv')\n",
    "### END SOLUTION\n",
    "\n",
    "shampoo.head() "
   ]
  },
  {
   "cell_type": "markdown",
   "metadata": {},
   "source": [
    ">**Instruction** : <br>\n",
    "Set the dataframe index as 'month' using `df.set_index`\n",
    "\n",
    ">**Expected Result** : <br>\n",
    "Example of first 5 data\n",
    "\n",
    "month| month| sales\n",
    "---|---|---\n",
    "1-01| 1-01|    266.0\n",
    "1-02| 1-02|    145.9\n",
    "1-03| 1-03|    183.1\n",
    "1-04| 1-04|    119.3\n",
    "1-05| 1-05|    180.3"
   ]
  },
  {
   "cell_type": "code",
   "execution_count": 56,
   "metadata": {},
   "outputs": [
    {
     "data": {
      "text/html": [
       "<div>\n",
       "<style scoped>\n",
       "    .dataframe tbody tr th:only-of-type {\n",
       "        vertical-align: middle;\n",
       "    }\n",
       "\n",
       "    .dataframe tbody tr th {\n",
       "        vertical-align: top;\n",
       "    }\n",
       "\n",
       "    .dataframe thead th {\n",
       "        text-align: right;\n",
       "    }\n",
       "</style>\n",
       "<table border=\"1\" class=\"dataframe\">\n",
       "  <thead>\n",
       "    <tr style=\"text-align: right;\">\n",
       "      <th></th>\n",
       "      <th>month</th>\n",
       "      <th>sales</th>\n",
       "    </tr>\n",
       "    <tr>\n",
       "      <th>month</th>\n",
       "      <th></th>\n",
       "      <th></th>\n",
       "    </tr>\n",
       "  </thead>\n",
       "  <tbody>\n",
       "    <tr>\n",
       "      <th>1-01</th>\n",
       "      <td>1-01</td>\n",
       "      <td>266.0</td>\n",
       "    </tr>\n",
       "    <tr>\n",
       "      <th>1-02</th>\n",
       "      <td>1-02</td>\n",
       "      <td>145.9</td>\n",
       "    </tr>\n",
       "    <tr>\n",
       "      <th>1-03</th>\n",
       "      <td>1-03</td>\n",
       "      <td>183.1</td>\n",
       "    </tr>\n",
       "    <tr>\n",
       "      <th>1-04</th>\n",
       "      <td>1-04</td>\n",
       "      <td>119.3</td>\n",
       "    </tr>\n",
       "    <tr>\n",
       "      <th>1-05</th>\n",
       "      <td>1-05</td>\n",
       "      <td>180.3</td>\n",
       "    </tr>\n",
       "  </tbody>\n",
       "</table>\n",
       "</div>"
      ],
      "text/plain": [
       "      month  sales\n",
       "month             \n",
       "1-01   1-01  266.0\n",
       "1-02   1-02  145.9\n",
       "1-03   1-03  183.1\n",
       "1-04   1-04  119.3\n",
       "1-05   1-05  180.3"
      ]
     },
     "execution_count": 56,
     "metadata": {},
     "output_type": "execute_result"
    }
   ],
   "source": [
    "### BEGIN SOLUTION\n",
    "shampoo_ts =  shampoo.set_index(shampoo['month'])  \n",
    "### END SOLUTION\n",
    "\n",
    "shampoo_ts.head() "
   ]
  },
  {
   "cell_type": "markdown",
   "metadata": {},
   "source": [
    ">**Instruction** : <br>\n",
    "Save the data in Series form using `pd.Series`\n",
    "\n",
    ">**Expected Result** : <br>\n",
    "Example of first 5 data\n",
    "\n",
    "month|---\n",
    "---|---\n",
    "1-01|    266.0\n",
    "1-02|    145.9\n",
    "1-03|    183.1\n",
    "1-04|    119.3\n",
    "1-05|    180.3"
   ]
  },
  {
   "cell_type": "code",
   "execution_count": 57,
   "metadata": {},
   "outputs": [
    {
     "data": {
      "text/plain": [
       "month\n",
       "1-01    266.0\n",
       "1-02    145.9\n",
       "1-03    183.1\n",
       "1-04    119.3\n",
       "1-05    180.3\n",
       "Name: sales, dtype: float64"
      ]
     },
     "execution_count": 57,
     "metadata": {},
     "output_type": "execute_result"
    }
   ],
   "source": [
    "### START SOLUTION\n",
    "shampoo_ts = pd.Series(shampoo_ts['sales'])\n",
    "### END SOLUTION\n",
    "shampoo_ts.head()"
   ]
  },
  {
   "cell_type": "code",
   "execution_count": 58,
   "metadata": {},
   "outputs": [
    {
     "data": {
      "text/plain": [
       "Text(0.5, 1.0, 'Time Series plot ')"
      ]
     },
     "execution_count": 58,
     "metadata": {},
     "output_type": "execute_result"
    },
    {
     "data": {
      "image/png": "[encoded data removed]",
      "text/plain": [
       "<Figure size 720x432 with 1 Axes>"
      ]
     },
     "metadata": {
      "needs_background": "light"
     },
     "output_type": "display_data"
    }
   ],
   "source": [
    "plt.figure(figsize=(10,6))\n",
    "shampoo_ts.plot()\n",
    "plt.title(\"Time Series plot \")"
   ]
  },
  {
   "cell_type": "markdown",
   "metadata": {},
   "source": [
    "### Data Splitting"
   ]
  },
  {
   "cell_type": "code",
   "execution_count": 59,
   "metadata": {},
   "outputs": [
    {
     "data": {
      "text/plain": [
       "25"
      ]
     },
     "execution_count": 59,
     "metadata": {},
     "output_type": "execute_result"
    }
   ],
   "source": [
    "#split data by indexing \n",
    "split_data = round(len(shampoo_ts)*split_ratio)\n",
    "split_data"
   ]
  },
  {
   "cell_type": "code",
   "execution_count": 60,
   "metadata": {},
   "outputs": [
    {
     "name": "stdout",
     "output_type": "stream",
     "text": [
      "train_data_shampoo_shape\n",
      "(25,)\n",
      "test_data_shampoo_shape\n",
      "(11,)\n"
     ]
    }
   ],
   "source": [
    "# Visualize data shape after splitting\n",
    "train_data_shampoo = shampoo_ts[:split_data]\n",
    "test_data_shampoo = shampoo_ts[split_data:]\n",
    "train_time_shampoo = shampoo_ts.index[:split_data]\n",
    "test_time_shampoo = shampoo_ts.index[split_data:]\n",
    "print(\"train_data_shampoo_shape\")\n",
    "print(train_data_shampoo.shape)\n",
    "print(\"test_data_shampoo_shape\")\n",
    "print(test_data_shampoo.shape)"
   ]
  },
  {
   "cell_type": "markdown",
   "metadata": {},
   "source": [
    "### Data Normalization\n",
    ">**Instruction** : <br>\n",
    "Use `MinMaxScaler()` to normalize the data, save your data scaler into `scaler_shampoo` and your train and test scaled data into `train_shampoo_scaled` and `test_shampoo_scaled`.<br>\n",
    "\n",
    "Example :<br>\n",
    "`train_shampoo_scaled = scaler_shampoo.transform(train_data_shampoo.values.reshape(-1,1))`"
   ]
  },
  {
   "cell_type": "code",
   "execution_count": 61,
   "metadata": {},
   "outputs": [],
   "source": [
    "scaler_shampoo = MinMaxScaler().fit(train_data_shampoo.values.reshape(-1,1))\n",
    "train_shampoo_scaled = scaler_shampoo.transform(train_data_shampoo.values.reshape(-1,1))\n",
    "test_shampoo_scaled = scaler_shampoo.transform(test_data_shampoo.values.reshape(-1,1))"
   ]
  },
  {
   "cell_type": "markdown",
   "metadata": {},
   "source": [
    "## Data Sequencing \n",
    ">**Instruction** : <br>\n",
    "Use `univariate_multi_step` from the `data_module`, take the scaled data save your data in to respective `x` and `y` variable.<br>\n",
    "\n",
    "Example :<br>\n",
    "`trainX_shampoo ,trainY_shampoo =  data_module.univariate_multi_step(train_shampoo_scaled,window_size_shampoo,n_step_shampoo)`"
   ]
  },
  {
   "cell_type": "code",
   "execution_count": 62,
   "metadata": {},
   "outputs": [
    {
     "name": "stdout",
     "output_type": "stream",
     "text": [
      "trainX shape:(22, 2, 1) trainY shape:(22, 2, 1)\n",
      "\n",
      "testX shape:(8, 2, 1) testY shape:(8, 2, 1)\n"
     ]
    }
   ],
   "source": [
    "trainX_shampoo ,trainY_shampoo =  data_module.univariate_multi_step(train_shampoo_scaled,window_size_shampoo,n_step_shampoo)\n",
    "testX_shampoo , testY_shampoo = data_module.univariate_multi_step(test_shampoo_scaled,window_size_shampoo,n_step_shampoo)\n",
    "print(f\"trainX shape:{trainX_shampoo.shape} trainY shape:{trainY_shampoo.shape}\\n\")\n",
    "print(f\"testX shape:{testX_shampoo.shape} testY shape:{testY_shampoo.shape}\")"
   ]
  },
  {
   "cell_type": "markdown",
   "metadata": {},
   "source": [
    "## Data Transform\n",
    ">**Instruction** : <br>\n",
    "Transform the data from `ndarray` to `torch tensor`<br>\n",
    "\n",
    "Example :<br>\n",
    "`trainX_shampoo = torch.from_numpy(trainX_shampoo).type(torch.Tensor)`<br>\n",
    "`trainY_shampoo = torch.from_numpy(trainY_shampoo).type(torch.Tensor)`<br>"
   ]
  },
  {
   "cell_type": "code",
   "execution_count": 63,
   "metadata": {},
   "outputs": [
    {
     "name": "stdout",
     "output_type": "stream",
     "text": [
      "trainX shape:torch.Size([22, 2, 1]) trainY shape:torch.Size([22, 2, 1])\n",
      "\n",
      "testX shape:torch.Size([8, 2, 1]) testX shape:torch.Size([8, 2, 1])\n"
     ]
    }
   ],
   "source": [
    "#Transfrom numpy to Pytorch tensor\n",
    "trainX_shampoo = torch.as_tensor(trainX_shampoo).float()\n",
    "trainY_shampoo = torch.as_tensor(trainY_shampoo).float()\n",
    "testX_shampoo = torch.as_tensor(testX_shampoo).float()\n",
    "testY_shampoo = torch.as_tensor(testY_shampoo).float()\n",
    "print(f\"trainX shape:{trainX_shampoo.shape} trainY shape:{trainY_shampoo.shape}\\n\")\n",
    "print(f\"testX shape:{testX_shampoo.shape} testX shape:{testY_shampoo.shape}\")\n"
   ]
  },
  {
   "cell_type": "markdown",
   "metadata": {},
   "source": [
    "## Data Iterator\n",
    ">**Instruction** : <br>\n",
    "You are require to create data interator to able the data store in batches<br>\n",
    "\n",
    "Example :<br>\n",
    "`train_dataset_shampoo = TensorDataset(trainX_shampoo, trainY_shampoo)`<br>\n",
    "`train_iter_shampoo = DataLoader(train_dataset_shampoo,batch_size=batch_size_shampoo,shuffle=False)`"
   ]
  },
  {
   "cell_type": "code",
   "execution_count": 64,
   "metadata": {},
   "outputs": [],
   "source": [
    "# Create Iterator\n",
    "train_dataset_shampoo = TensorDataset(trainX_shampoo, trainY_shampoo)\n",
    "train_iter_shampoo = DataLoader(train_dataset_shampoo,batch_size=batch_size_shampoo,shuffle=False)\n",
    "\n",
    "test_dataset_shampoo = TensorDataset(testX_shampoo, testY_shampoo)\n",
    "test_iter_shampoo = DataLoader(test_dataset_shampoo,batch_size=batch_size_shampoo,shuffle=False)"
   ]
  },
  {
   "cell_type": "markdown",
   "metadata": {},
   "source": [
    "## Input Model\n",
    ">**Instruction** : <br>\n",
    "You are require to input the correct model from `LSTM_module`.You are feel free to use any type of LSTM configuration.Please input the correct attributes and have a fun with it and save your model with the name `model_shampoo` <br>"
   ]
  },
  {
   "cell_type": "code",
   "execution_count": 65,
   "metadata": {},
   "outputs": [],
   "source": [
    "#Arguments for LSTM model\n",
    "### BEGIN SOLUTION\n",
    "n_feature = 1 \n",
    "#1 for vanila LSTM , >1 is mean stacked LSTM\n",
    "num_layers_shampoo = 1\n",
    "\n",
    "#Vanila , Stacked LSTM\n",
    "model_shampoo = LSTM_module.LSTM(n_feature = n_feature ,\n",
    "                         hidden_dim = hidden_dim_shampoo,\n",
    "                         num_layers = num_layers_shampoo,\n",
    "                         n_step = n_step_shampoo)\n",
    "\n",
    "# Bidirectional LSTM\n",
    "# model_shampoo = LSTM_module.BidirectionalLSTM(n_feature = n_feature ,\n",
    "#                          hidden_dim = hidden_dim_shampoo,\n",
    "#                          num_layers = num_layers_shampoo,\n",
    "#                          n_step = n_step_shampoo)\n",
    "### END SOLUTION"
   ]
  },
  {
   "cell_type": "markdown",
   "metadata": {},
   "source": [
    ">**Instruction** : <br>\n",
    "Use `MSELoss` as the loss function and `Adam` as the optimizer.Your are require to save `MSELoss` into to variable name `loss_fn_shampoo` and `Adam` optimizer into `optimiser_shampoo`<br>"
   ]
  },
  {
   "cell_type": "code",
   "execution_count": 66,
   "metadata": {},
   "outputs": [],
   "source": [
    "loss_fn_shampoo = torch.nn.MSELoss()\n",
    "\n",
    "optimiser_shampoo = torch.optim.Adam(model_shampoo.parameters(), lr=0.01)"
   ]
  },
  {
   "cell_type": "markdown",
   "metadata": {},
   "source": [
    "## Step 3 : Training\n",
    ">**Instruction** : <br>\n",
    "Input your training function from `LSTM_module`<br>"
   ]
  },
  {
   "cell_type": "code",
   "execution_count": 75,
   "metadata": {},
   "outputs": [],
   "source": [
    "# Start Training \n",
    "### BEGIN SOLUTION\n",
    "train_loss_shampoo,val_loss_shampoo = LSTM_module.training(num_epochs_shampoo,train_iter_shampoo,test_iter_shampoo,optimiser_shampoo,loss_fn_shampoo,model_shampoo)\n",
    "### END SOLUTION"
   ]
  },
  {
   "cell_type": "markdown",
   "metadata": {},
   "source": [
    "## Step 4 : Validate Model"
   ]
  },
  {
   "cell_type": "code",
   "execution_count": 68,
   "metadata": {
    "scrolled": true
   },
   "outputs": [
    {
     "data": {
      "image/png": "[encoded data removed]",
      "text/plain": [
       "<Figure size 720x432 with 1 Axes>"
      ]
     },
     "metadata": {
      "needs_background": "light"
     },
     "output_type": "display_data"
    },
    {
     "name": "stdout",
     "output_type": "stream",
     "text": [
      "Epoch : 0 , training loss : 0.06233304061672904 , validation loss : 0.3433772660791874\n",
      "Epoch : 1 , training loss : 0.12119243717329069 , validation loss : 0.9499602094292641\n",
      "Epoch : 2 , training loss : 0.0625513784418052 , validation loss : 0.7977941706776619\n",
      "Epoch : 3 , training loss : 0.052552273708649656 , validation loss : 0.6002853512763977\n",
      "Epoch : 4 , training loss : 0.062171750447966835 , validation loss : 0.630828820168972\n",
      "Epoch : 5 , training loss : 0.056392590261318466 , validation loss : 0.5797114595770836\n",
      "Epoch : 6 , training loss : 0.05403260725804351 , validation loss : 0.5038881748914719\n",
      "Epoch : 7 , training loss : 0.054175659717822615 , validation loss : 0.456723116338253\n",
      "Epoch : 8 , training loss : 0.0519407222640108 , validation loss : 0.3904261291027069\n",
      "Epoch : 9 , training loss : 0.050714796324345196 , validation loss : 0.32748950086534023\n",
      "Epoch : 10 , training loss : 0.04945325597443364 , validation loss : 0.27041337080299854\n",
      "Epoch : 11 , training loss : 0.0482530328868465 , validation loss : 0.22251969203352928\n",
      "Epoch : 12 , training loss : 0.04753111633048816 , validation loss : 0.19185718707740307\n",
      "Epoch : 13 , training loss : 0.046882917088541115 , validation loss : 0.17432682309299707\n",
      "Epoch : 14 , training loss : 0.046481618996370926 , validation loss : 0.1665599774569273\n",
      "Epoch : 15 , training loss : 0.04615150540220467 , validation loss : 0.16286823712289333\n",
      "Epoch : 16 , training loss : 0.045926232166080314 , validation loss : 0.1608035173267126\n",
      "Epoch : 17 , training loss : 0.04574153752235526 , validation loss : 0.1590241603553295\n",
      "Epoch : 18 , training loss : 0.045593268174508754 , validation loss : 0.15740096010267735\n",
      "Epoch : 19 , training loss : 0.04546254964291372 , validation loss : 0.1559400586411357\n",
      "Epoch : 20 , training loss : 0.04534460608424111 , validation loss : 0.1546865813434124\n",
      "Epoch : 21 , training loss : 0.04523581120354885 , validation loss : 0.1536438399925828\n",
      "Epoch : 22 , training loss : 0.045132435858249664 , validation loss : 0.1527622565627098\n",
      "Epoch : 23 , training loss : 0.04503370923074809 , validation loss : 0.15201124735176563\n",
      "Epoch : 24 , training loss : 0.04493763846006583 , validation loss : 0.1513544637709856\n",
      "Epoch : 25 , training loss : 0.04484366824511777 , validation loss : 0.15077410824596882\n",
      "Epoch : 26 , training loss : 0.04475084510208531 , validation loss : 0.1502549722790718\n",
      "Epoch : 27 , training loss : 0.04465866969390349 , validation loss : 0.14978668559342623\n",
      "Epoch : 28 , training loss : 0.04456662039526484 , validation loss : 0.14935942739248276\n",
      "Epoch : 29 , training loss : 0.04447427362372929 , validation loss : 0.14896413125097752\n",
      "Epoch : 30 , training loss : 0.04438126684081825 , validation loss : 0.1485920138657093\n",
      "Epoch : 31 , training loss : 0.044287252028218725 , validation loss : 0.14823486097157001\n",
      "Epoch : 32 , training loss : 0.0441919314167039 , validation loss : 0.1478851130232215\n",
      "Epoch : 33 , training loss : 0.04409502364102413 , validation loss : 0.1475355951115489\n",
      "Epoch : 34 , training loss : 0.04399624153633009 , validation loss : 0.14717956352978945\n",
      "Epoch : 35 , training loss : 0.043895346112549305 , validation loss : 0.14681049156934023\n",
      "Epoch : 36 , training loss : 0.04379208210263063 , validation loss : 0.1464219857007265\n",
      "Epoch : 37 , training loss : 0.043686225354163485 , validation loss : 0.14600755367428064\n",
      "Epoch : 38 , training loss : 0.04357753793539649 , validation loss : 0.14556059148162603\n",
      "Epoch : 39 , training loss : 0.04346581296571954 , validation loss : 0.14507447369396687\n",
      "Epoch : 40 , training loss : 0.043350867588411675 , validation loss : 0.14454248175024986\n",
      "Epoch : 41 , training loss : 0.04323251596228643 , validation loss : 0.143958012573421\n",
      "Epoch : 42 , training loss : 0.04311061464250088 , validation loss : 0.1433145059272647\n",
      "Epoch : 43 , training loss : 0.042985040419311685 , validation loss : 0.14260629937052727\n",
      "Epoch : 44 , training loss : 0.04285570555789904 , validation loss : 0.1418289290741086\n",
      "Epoch : 45 , training loss : 0.042722534240138804 , validation loss : 0.1409795330837369\n",
      "Epoch : 46 , training loss : 0.04258551247502593 , validation loss : 0.14005814865231514\n",
      "Epoch : 47 , training loss : 0.04244463810358535 , validation loss : 0.13906738348305225\n",
      "Epoch : 48 , training loss : 0.04229999566450715 , validation loss : 0.138012926094234\n",
      "Epoch : 49 , training loss : 0.0421517388895154 , validation loss : 0.13690238445997238\n",
      "Epoch : 50 , training loss : 0.04200012124651535 , validation loss : 0.13574463035911322\n",
      "Epoch : 51 , training loss : 0.041845522545786065 , validation loss : 0.13454898167401552\n",
      "Epoch : 52 , training loss : 0.041688420957970346 , validation loss : 0.13332439586520195\n",
      "Epoch : 53 , training loss : 0.041529430499808354 , validation loss : 0.13207973167300224\n",
      "Epoch : 54 , training loss : 0.04136928175152703 , validation loss : 0.1308236662298441\n",
      "Epoch : 55 , training loss : 0.04120883006941189 , validation loss : 0.1295646708458662\n",
      "Epoch : 56 , training loss : 0.04104901545427062 , validation loss : 0.12831100448966026\n",
      "Epoch : 57 , training loss : 0.04089087891307744 , validation loss : 0.12707060482352972\n",
      "Epoch : 58 , training loss : 0.04073545971715992 , validation loss : 0.12585088796913624\n",
      "Epoch : 59 , training loss : 0.04058380958370187 , validation loss : 0.1246590530499816\n",
      "Epoch : 60 , training loss : 0.04043685788796707 , validation loss : 0.12350178277119994\n",
      "Epoch : 61 , training loss : 0.04029539117420262 , validation loss : 0.12238543247804046\n",
      "Epoch : 62 , training loss : 0.040160016495395794 , validation loss : 0.12131610745564103\n",
      "Epoch : 63 , training loss : 0.04003107556226579 , validation loss : 0.12029932625591755\n",
      "Epoch : 64 , training loss : 0.03990870375524868 , validation loss : 0.11933985631912947\n",
      "Epoch : 65 , training loss : 0.03979279820553281 , validation loss : 0.11844171397387981\n",
      "Epoch : 66 , training loss : 0.039683047512715515 , validation loss : 0.11760786408558488\n",
      "Epoch : 67 , training loss : 0.03957903546027162 , validation loss : 0.11684018652886152\n",
      "Epoch : 68 , training loss : 0.0394802345386283 , validation loss : 0.11613948596641421\n",
      "Epoch : 69 , training loss : 0.03938608476892114 , validation loss : 0.11550587555393577\n",
      "Epoch : 70 , training loss : 0.039296050810001114 , validation loss : 0.1149386721663177\n",
      "Epoch : 71 , training loss : 0.039209614296189764 , validation loss : 0.11443689372390509\n",
      "Epoch : 72 , training loss : 0.039126346141777256 , validation loss : 0.11399945756420493\n",
      "Epoch : 73 , training loss : 0.0390458470210433 , validation loss : 0.11362524423748255\n",
      "Epoch : 74 , training loss : 0.03896781836043705 , validation loss : 0.11331314826384187\n",
      "Epoch : 75 , training loss : 0.03889198431914503 , validation loss : 0.1130623584613204\n",
      "Epoch : 76 , training loss : 0.03881813839755275 , validation loss : 0.11287215817719698\n",
      "Epoch : 77 , training loss : 0.03874610559168187 , validation loss : 0.11274179629981518\n",
      "Epoch : 78 , training loss : 0.038675737397914585 , validation loss : 0.11267072055488825\n",
      "Epoch : 79 , training loss : 0.03860690571706404 , validation loss : 0.11265816958621144\n",
      "Epoch : 80 , training loss : 0.03853949735110456 , validation loss : 0.11270341882482171\n",
      "Epoch : 81 , training loss : 0.0384734169664708 , validation loss : 0.11280574277043343\n",
      "Epoch : 82 , training loss : 0.03840856169435111 , validation loss : 0.11296417005360126\n",
      "Epoch : 83 , training loss : 0.03834484653039412 , validation loss : 0.11317774746567011\n",
      "Epoch : 84 , training loss : 0.03828217986632477 , validation loss : 0.11344550177454948\n",
      "Epoch : 85 , training loss : 0.03822048253972422 , validation loss : 0.11376633355394006\n",
      "Epoch : 86 , training loss : 0.038159684870730744 , validation loss : 0.11413925141096115\n",
      "Epoch : 87 , training loss : 0.03809969728304581 , validation loss : 0.11456315917894244\n",
      "Epoch : 88 , training loss : 0.03804044992747632 , validation loss : 0.11503718513995409\n",
      "Epoch : 89 , training loss : 0.037981868806210434 , validation loss : 0.11556038074195385\n",
      "Epoch : 90 , training loss : 0.03792389998720451 , validation loss : 0.116131950635463\n",
      "Epoch : 91 , training loss : 0.03786645728078755 , validation loss : 0.1167511772364378\n",
      "Epoch : 92 , training loss : 0.037809483114291324 , validation loss : 0.11741755669936538\n",
      "Epoch : 93 , training loss : 0.03775291110981594 , validation loss : 0.11813060101121664\n",
      "Epoch : 94 , training loss : 0.037696680731394074 , validation loss : 0.11889015836641192\n",
      "Epoch : 95 , training loss : 0.03764072094451298 , validation loss : 0.11969595961272717\n",
      "Epoch : 96 , training loss : 0.03758497273718769 , validation loss : 0.12054790928959846\n",
      "Epoch : 97 , training loss : 0.03752936236560345 , validation loss : 0.12144635571166873\n",
      "Epoch : 98 , training loss : 0.03747382362119176 , validation loss : 0.12239157129079103\n",
      "Epoch : 99 , training loss : 0.03741829156536947 , validation loss : 0.12338414136320353\n"
     ]
    }
   ],
   "source": [
    "# Plot Learning Curve \n",
    "data_module.learning_curve(num_epochs_shampoo,train_loss = train_loss_shampoo,\n",
    "                           val_loss = val_loss_shampoo)"
   ]
  },
  {
   "cell_type": "code",
   "execution_count": 69,
   "metadata": {},
   "outputs": [
    {
     "data": {
      "image/png": "[encoded data removed]",
      "text/plain": [
       "<Figure size 720x432 with 1 Axes>"
      ]
     },
     "metadata": {
      "needs_background": "light"
     },
     "output_type": "display_data"
    }
   ],
   "source": [
    "# Zoom in to visualize the graph by fill in start_epoch and end_epoch that want to analyse\n",
    "data_module.zoom_learning_curve(start_epoch = 25,\n",
    "                                end_epoch = 30,\n",
    "                                training_loss = train_loss_shampoo,\n",
    "                                validation_loss = val_loss_shampoo)"
   ]
  },
  {
   "cell_type": "markdown",
   "metadata": {},
   "source": [
    "## Step 6 : Forecast Plot"
   ]
  },
  {
   "cell_type": "code",
   "execution_count": 70,
   "metadata": {},
   "outputs": [],
   "source": [
    "# Make predictions\n",
    "with torch.no_grad():\n",
    "    y_train_prediction_shampoo= model_shampoo(trainX_shampoo)\n",
    "    y_test_prediction_shampoo= model_shampoo(testX_shampoo)\n",
    "\n",
    "# Reshape to original data\n",
    "y_train_prediction_shampoo = torch.reshape(y_train_prediction_shampoo,(y_train_prediction_shampoo.shape[0],y_train_prediction_shampoo.shape[1]))\n",
    "trainY_shampoo = torch.reshape(trainY_shampoo,(trainY_shampoo.shape[0],trainY_shampoo.shape[1]))\n",
    "y_test_prediction_shampoo = torch.reshape(y_test_prediction_shampoo,(y_test_prediction_shampoo.shape[0],y_test_prediction_shampoo.shape[1]))\n",
    "testY_shampoo = torch.reshape(testY_shampoo,(testY_shampoo.shape[0],testY_shampoo.shape[1]))"
   ]
  },
  {
   "cell_type": "code",
   "execution_count": 71,
   "metadata": {},
   "outputs": [],
   "source": [
    "# Invert predictions\n",
    "y_train_pred_shampoo = scaler_shampoo.inverse_transform(y_train_prediction_shampoo)\n",
    "y_train_shampoo = scaler_shampoo.inverse_transform(trainY_shampoo)\n",
    "y_test_pred_shampoo = scaler_shampoo.inverse_transform(y_test_prediction_shampoo)\n",
    "y_test_shampoo = scaler_shampoo.inverse_transform(testY_shampoo)"
   ]
  },
  {
   "cell_type": "code",
   "execution_count": 72,
   "metadata": {},
   "outputs": [
    {
     "name": "stdout",
     "output_type": "stream",
     "text": [
      "y-test\t\ty-predict\n",
      "[439.29998939 401.29999741]\t\t[393.23077967 401.05265768]\n",
      "[401.29999741 437.40001231]\t\t[346.09691177 394.85518205]\n",
      "[437.40001231 575.50001708]\t\t[425.88775055 456.88159734]\n",
      "[575.50001708 407.59999821]\t\t[409.3806749  445.68137969]\n",
      "[407.59999821 681.99999722]\t\t[441.31798754 452.84531275]\n",
      "[681.99999722 475.29998369]\t\t[494.25705065 517.1520573 ]\n",
      "[475.29998369 581.29998693]\t\t[424.34471965 418.64893267]\n",
      "[581.29998693 646.89999017]\t\t[543.50163981 551.76289855]\n"
     ]
    }
   ],
   "source": [
    "print(\"y-test\\t\\ty-predict\")\n",
    "for i in range(len(y_test_shampoo)):\n",
    "    print(f\"{y_test_shampoo[i]}\\t\\t{y_test_pred_shampoo[i]}\")"
   ]
  },
  {
   "cell_type": "code",
   "execution_count": 73,
   "metadata": {},
   "outputs": [
    {
     "name": "stdout",
     "output_type": "stream",
     "text": [
      "Train Score: 56.62 RMSE\n",
      "Test Score: 106.19 RMSE\n"
     ]
    }
   ],
   "source": [
    "# Calculate root mean squared error\n",
    "trainScore_shampoo = math.sqrt(mean_squared_error(y_train_shampoo, y_train_pred_shampoo))\n",
    "print('Train Score: %.2f RMSE' % (trainScore_shampoo))\n",
    "testScore_shampoo = math.sqrt(mean_squared_error(y_test_shampoo, y_test_pred_shampoo))\n",
    "print('Test Score: %.2f RMSE' % (testScore_shampoo))"
   ]
  },
  {
   "cell_type": "markdown",
   "metadata": {},
   "source": [
    "<!-- multi_step_plot(original_test_data = test_data,\n",
    "                after_sequence_test_data = y_test ,\n",
    "                forecast_data = y_test_prediction,\n",
    "                test_time = test_time,\n",
    "                window_size = window_size ,\n",
    "                n_step = n_step,\n",
    "                details = plot_details,\n",
    "                original_plot = False) -->"
   ]
  },
  {
   "cell_type": "code",
   "execution_count": 74,
   "metadata": {
    "scrolled": true
   },
   "outputs": [
    {
     "data": {
      "image/png": "[encoded data removed]",
      "text/plain": [
       "<Figure size 720x432 with 1 Axes>"
      ]
     },
     "metadata": {
      "needs_background": "light"
     },
     "output_type": "display_data"
    }
   ],
   "source": [
    "shampoo_details ={\"x-axis\" : \"Month\",\n",
    "          \"y-axis\" : \"Sales\",\n",
    "          \"title\"  : \"Shampoo Sales\"\n",
    "         }\n",
    "multi_step_plot(original_test_data = test_data_shampoo,\n",
    "                after_sequence_test_data = y_test_shampoo ,\n",
    "                forecast_data = y_test_pred_shampoo,\n",
    "                test_time = test_time_shampoo,\n",
    "                window_size = window_size_shampoo ,\n",
    "                n_step = n_step_shampoo,\n",
    "                details = shampoo_details,\n",
    "                original_plot = False)"
   ]
  },
  {
   "cell_type": "markdown",
   "metadata": {},
   "source": [
    "## Reference\n",
    "1. [Multistep Time Series Forecasting with LSTMs in Python](https://machinelearningmastery.com/multi-step-time-series-forecasting-long-short-term-memory-networks-python/)\n",
    "2. [Deep Learning for Time Series Forecasting (Predict the Future with MLPs,CNNs and LSTMs in Python) , Jason Brownlee](https://machinelearningmastery.com/deep-learning-for-time-series-forecasting/)"
   ]
  }
 ],
 "metadata": {
  "kernelspec": {
   "display_name": "Python 3",
   "language": "python",
   "name": "python3"
  },
  "language_info": {
   "codemirror_mode": {
    "name": "ipython",
    "version": 3
   },
   "file_extension": ".py",
   "mimetype": "text/x-python",
   "name": "python",
   "nbconvert_exporter": "python",
   "pygments_lexer": "ipython3",
   "version": "3.7.9"
  }
 },
 "nbformat": 4,
 "nbformat_minor": 4
}
