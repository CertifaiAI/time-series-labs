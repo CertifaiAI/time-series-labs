{
 "cells": [
  {
   "cell_type": "markdown",
   "metadata": {
    "deletable": false,
    "editable": false
   },
   "source": [
    "> **Copyright &copy; 2020 CertifAI Sdn. Bhd.**<br>\n",
    " **Copyright &copy; 2021 CertifAI Sdn. Bhd.**<br>\n",
    " <br>\n",
    "This program and the accompanying materials are made available under the\n",
    "terms of the [Apache License, Version 2.0](https://www.apache.org/licenses/LICENSE-2.0). \\\n",
    "Unless required by applicable law or agreed to in writing, software\n",
    "distributed under the License is distributed on an \"AS IS\" BASIS, WITHOUT\n",
    "WARRANTIES OR CONDITIONS OF ANY KIND, either express or implied. See the\n",
    "License for the specific language governing permissions and limitations\n",
    "under the License. <br>\n",
    "<br>**SPDX-License-Identifier: Apache-2.0**> "
   ]
  },
  {
   "cell_type": "markdown",
   "metadata": {},
   "source": [
    "# Requirement\n",
    "You should complete the LSTM tutorial before starting the CNN tutorial. This is because most of the function used will be based on `data_module.py` and `deep_learning_module.py`\n",
    "\n",
    "Please proceed to the LSTM notebook if you dint complete it before  <br>\n",
    "\n",
    "1. [04 - LSTM-Univariate-Single-Step](./04%20-%20LSTM-Univariate-Single-Step.ipynb)\n",
    "2. [04 - LSTM-Univariate Multi-Step.ipynb](./04%20-%20LSTM-Univariate-Multi-Step.ipynb)\n",
    "3. [04 - LSTM-Multivariate-Input-Univariate-Output-Single-Step](./04%20-%20LSTM-Multivariate-Input-Univariate-Output-Single-Step.ipynb)<br>\n",
    "4. [04 - LSTM-Multivariate-Input-Univariate-Output-Multi-Step](./04%20-%20LSTM-Multivariate-Input-Univariate-Output-Multi-Step.ipynb)<br>"
   ]
  },
  {
   "cell_type": "markdown",
   "metadata": {},
   "source": [
    "## Multivariate Input ,Univariate Output CNN ,Single Step\n",
    "This tutorial is to demonstrate the process in build CNN for Multivariate Input, Univariate Output  for Single Step. <br>\n",
    "It consists of 2 major part which are :\n",
    "\n",
    "Part 1 - The Demonstration of Building CNN using Synthetic data <br>\n",
    "Part 2 - Exercise of building CNN using COVID-19 Data.<br>\n",
    "\n",
    "\n",
    "## What will we accomplish?\n",
    "First, we will show the step in building the CNN :\n",
    "\n",
    "Step 1. Data Preparation (Data Splitting,Data Sequencing,Data Standardization and Batching the Data) <br>\n",
    "Step 2. Model Configuration for CNN<br>\n",
    "Step 3. Train the model<br>\n",
    "Step 4. Validate the model using graph<br>\n",
    "Step 5. Evaluation Metrics such as MSE<br>\n",
    "Step 6. Plot the forecast result<br>\n",
    "\n",
    "First, let's import the package needed"
   ]
  },
  {
   "cell_type": "code",
   "execution_count": 1,
   "metadata": {},
   "outputs": [],
   "source": [
    "%%capture\n",
    "# pip install this package to view the CNN summary\n",
    "# used jupyter install due to it does not have conda version\n",
    "# https://github.com/nmhkahn/torchsummaryX\n",
    "# %%capture suppress information of torchsummaryX installation\n",
    "!pip install torchsummaryX"
   ]
  },
  {
   "cell_type": "code",
   "execution_count": 2,
   "metadata": {},
   "outputs": [],
   "source": [
    "# import packages needed\n",
    "import numpy as np\n",
    "import pandas as pd\n",
    "import matplotlib.pyplot as plt\n",
    "import torch\n",
    "import torch.nn as nn\n",
    "import torch.nn.functional as F\n",
    "from torch.utils.data import DataLoader, TensorDataset\n",
    "from sklearn.metrics import mean_squared_error\n",
    "from sklearn.preprocessing import StandardScaler , MinMaxScaler\n",
    "import math\n",
    "from torchsummaryX import summary\n",
    "\n",
    "# To auto load the customise module\n",
    "%load_ext autoreload\n",
    "%autoreload 2\n",
    "import deep_learning_module\n",
    "import data_module"
   ]
  },
  {
   "cell_type": "markdown",
   "metadata": {},
   "source": [
    "# Part 1 : Demonstration of Building CNN using Synthetic data\n",
    "## Hyperparameter\n",
    "Define the hyperparameter that needs to tune the model "
   ]
  },
  {
   "cell_type": "code",
   "execution_count": 3,
   "metadata": {},
   "outputs": [],
   "source": [
    "split_ratio = 0.70\n",
    "num_epochs = 200\n",
    "window_size = 10\n",
    "batch_size = 5\n",
    "n_step = 1\n",
    "learning_rate = 0.001"
   ]
  },
  {
   "cell_type": "markdown",
   "metadata": {},
   "source": [
    "# Step 1 : Data Preparation\n",
    "We create synthetic data to make sure the model is created correctly and having the ability to perform the forecasting. <br>\n",
    "\n",
    "1. First, we will create a sequence of data with `np.array`.\n",
    "2. Then, we will assign a date to the sequence of data with `pd.date_range` and store it to series data by using `pd.Series`."
   ]
  },
  {
   "cell_type": "code",
   "execution_count": 4,
   "metadata": {},
   "outputs": [],
   "source": [
    "in_seq1 = np.array([x for x in range(0, 400, 10)])\n",
    "in_seq2 = np.array([x for x in range(5, 405, 10)])\n",
    "out_seq = np.array([in_seq1[i] + in_seq2[i] for i in range(len(in_seq1))])\n",
    "\n",
    "# convert to [rows, columns] structure\n",
    "in_seq1 = in_seq1.reshape((len(in_seq1), 1))\n",
    "in_seq2 = in_seq2.reshape((len(in_seq2), 1))\n",
    "out_seq = out_seq.reshape((len(out_seq), 1))\n",
    "\n",
    "# horizontally stack columns\n",
    "dataset = np.hstack((in_seq1, in_seq2, out_seq))"
   ]
  },
  {
   "cell_type": "code",
   "execution_count": 5,
   "metadata": {},
   "outputs": [
    {
     "data": {
      "text/html": [
       "<div>\n",
       "<style scoped>\n",
       "    .dataframe tbody tr th:only-of-type {\n",
       "        vertical-align: middle;\n",
       "    }\n",
       "\n",
       "    .dataframe tbody tr th {\n",
       "        vertical-align: top;\n",
       "    }\n",
       "\n",
       "    .dataframe thead th {\n",
       "        text-align: right;\n",
       "    }\n",
       "</style>\n",
       "<table border=\"1\" class=\"dataframe\">\n",
       "  <thead>\n",
       "    <tr style=\"text-align: right;\">\n",
       "      <th></th>\n",
       "      <th>in_seq1</th>\n",
       "      <th>in_seq2</th>\n",
       "      <th>out_seq</th>\n",
       "    </tr>\n",
       "    <tr>\n",
       "      <th>Date</th>\n",
       "      <th></th>\n",
       "      <th></th>\n",
       "      <th></th>\n",
       "    </tr>\n",
       "  </thead>\n",
       "  <tbody>\n",
       "    <tr>\n",
       "      <th>2020-01-01</th>\n",
       "      <td>0</td>\n",
       "      <td>5</td>\n",
       "      <td>5</td>\n",
       "    </tr>\n",
       "    <tr>\n",
       "      <th>2020-01-02</th>\n",
       "      <td>10</td>\n",
       "      <td>15</td>\n",
       "      <td>25</td>\n",
       "    </tr>\n",
       "    <tr>\n",
       "      <th>2020-01-03</th>\n",
       "      <td>20</td>\n",
       "      <td>25</td>\n",
       "      <td>45</td>\n",
       "    </tr>\n",
       "    <tr>\n",
       "      <th>2020-01-04</th>\n",
       "      <td>30</td>\n",
       "      <td>35</td>\n",
       "      <td>65</td>\n",
       "    </tr>\n",
       "    <tr>\n",
       "      <th>2020-01-05</th>\n",
       "      <td>40</td>\n",
       "      <td>45</td>\n",
       "      <td>85</td>\n",
       "    </tr>\n",
       "  </tbody>\n",
       "</table>\n",
       "</div>"
      ],
      "text/plain": [
       "            in_seq1  in_seq2  out_seq\n",
       "Date                                 \n",
       "2020-01-01        0        5        5\n",
       "2020-01-02       10       15       25\n",
       "2020-01-03       20       25       45\n",
       "2020-01-04       30       35       65\n",
       "2020-01-05       40       45       85"
      ]
     },
     "execution_count": 5,
     "metadata": {},
     "output_type": "execute_result"
    }
   ],
   "source": [
    "dataset = pd.DataFrame(dataset,columns =[\"in_seq1\",\"in_seq2\",\"out_seq\"],\n",
    "                      index = pd.date_range(\"1/1/2020\",periods=len(dataset),freq='D'))\n",
    "dataset.index.name=\"Date\"\n",
    "dataset.head()"
   ]
  },
  {
   "cell_type": "markdown",
   "metadata": {},
   "source": [
    "## Data Visualization\n",
    "Data visualization is important for us to visualize the pattern of data such as trend and seasonality. As the graph below, it is shown that it is an increasing trend in data"
   ]
  },
  {
   "cell_type": "code",
   "execution_count": 6,
   "metadata": {},
   "outputs": [
    {
     "data": {
      "text/plain": [
       "Text(0.5, 1.0, 'Synthetic Data')"
      ]
     },
     "execution_count": 6,
     "metadata": {},
     "output_type": "execute_result"
    },
    {
     "data": {
      "image/png": "[encoded data removed]",
      "text/plain": [
       "<Figure size 432x288 with 1 Axes>"
      ]
     },
     "metadata": {
      "needs_background": "light"
     },
     "output_type": "display_data"
    }
   ],
   "source": [
    "dataset.plot()\n",
    "plt.title(\"Synthetic Data\")"
   ]
  },
  {
   "cell_type": "markdown",
   "metadata": {},
   "source": [
    "## Data Splitting\n",
    "In Deep Learning, we will split the data into training and test dataset. The training data is used to train the model where the test data is used to validate the performance of the model."
   ]
  },
  {
   "cell_type": "code",
   "execution_count": 7,
   "metadata": {},
   "outputs": [
    {
     "data": {
      "text/plain": [
       "28"
      ]
     },
     "execution_count": 7,
     "metadata": {},
     "output_type": "execute_result"
    }
   ],
   "source": [
    "# Calculate the split ratio \n",
    "split_data = round(len(dataset)*split_ratio)\n",
    "split_data"
   ]
  },
  {
   "cell_type": "code",
   "execution_count": 8,
   "metadata": {},
   "outputs": [
    {
     "name": "stdout",
     "output_type": "stream",
     "text": [
      "train_data_shape\n",
      "(28, 3)\n",
      "test_data_shape\n",
      "(12, 3)\n"
     ]
    }
   ],
   "source": [
    "# Split data by indexing \n",
    "train_data = dataset[:split_data]\n",
    "test_data = dataset[split_data:]\n",
    "train_time = dataset.index[:split_data]\n",
    "test_time = dataset.index[split_data:]\n",
    "print(\"train_data_shape\")\n",
    "print(train_data.shape)\n",
    "print(\"test_data_shape\")\n",
    "print(test_data.shape)"
   ]
  },
  {
   "cell_type": "markdown",
   "metadata": {},
   "source": [
    "## Data Standardization\n",
    "Standardize your numeric attributes to have a 0 mean and unit variance.\n"
   ]
  },
  {
   "cell_type": "code",
   "execution_count": 9,
   "metadata": {},
   "outputs": [],
   "source": [
    "# Build the standard scaler, Use to fit the train data and take the statistic of train data apply in test data\n",
    "scaler = StandardScaler().fit(train_data.values.reshape(-1,1))\n",
    "train_data_standard = scaler.transform(train_data.values.reshape(-1, 1))\n",
    "test_data_standard = scaler.transform(test_data.values.reshape(-1, 1))"
   ]
  },
  {
   "cell_type": "code",
   "execution_count": 10,
   "metadata": {},
   "outputs": [
    {
     "name": "stdout",
     "output_type": "stream",
     "text": [
      "test_data_standardlized(28, 3)\n",
      "test_data_standardlized(12, 3)\n"
     ]
    }
   ],
   "source": [
    "# transform after scaling\n",
    "train_data_standard  = train_data_standard.reshape(train_data.shape[0], train_data.shape[1])\n",
    "print(\"test_data_standardlized\" + str(train_data_standard .shape))\n",
    "\n",
    "test_data_standard = test_data_standard.reshape(test_data.shape[0], test_data.shape[1])\n",
    "print(\"test_data_standardlized\" + str(test_data_standard.shape))"
   ]
  },
  {
   "cell_type": "markdown",
   "metadata": {},
   "source": [
    "## Data Sequencing\n",
    "Sequencing the data by taking in the multivariate series into `x-feature` and `y-label`\n",
    "<img src = \"../../picture/multivariate univariate.png\"  width=\"300\" height  =\"300\" align=\"center\" />"
   ]
  },
  {
   "cell_type": "code",
   "execution_count": 11,
   "metadata": {},
   "outputs": [
    {
     "name": "stdout",
     "output_type": "stream",
     "text": [
      "trainX shape:(19, 10, 2) trainY shape:(19,)\n",
      "\n",
      "testX shape:(3, 10, 2) testY shape:(3,)\n"
     ]
    }
   ],
   "source": [
    "trainX, trainY = data_module.multivariate_univariate_single_step(train_data_standard, window_size)\n",
    "testX, testY = data_module.multivariate_univariate_single_step(test_data_standard, window_size)\n",
    "print(f\"trainX shape:{trainX.shape} trainY shape:{trainY.shape}\\n\")\n",
    "print(f\"testX shape:{testX.shape} testY shape:{testY.shape}\")"
   ]
  },
  {
   "cell_type": "code",
   "execution_count": 12,
   "metadata": {},
   "outputs": [
    {
     "name": "stdout",
     "output_type": "stream",
     "text": [
      "trainY shape:(19, 1, 1)\n",
      "testY shape:(3, 1, 1)\n"
     ]
    }
   ],
   "source": [
    "trainY = trainY.reshape(trainY.shape[0],n_step,1)\n",
    "testY = testY.reshape(testY.shape[0],n_step,1)\n",
    "print(f\"trainY shape:{trainY.shape}\")\n",
    "print(f\"testY shape:{testY.shape}\")"
   ]
  },
  {
   "cell_type": "markdown",
   "metadata": {},
   "source": [
    "## Data Transform\n",
    "Data need to transform from `NumPy` to `PyTorch` tensor before feeding into the model."
   ]
  },
  {
   "cell_type": "code",
   "execution_count": 13,
   "metadata": {},
   "outputs": [],
   "source": [
    "train_data_dict ,test_data_dict = data_module.key_assign(trainingX = trainX  , \n",
    "                       testingX = testX, \n",
    "                       trainingY = trainY, \n",
    "                       testingY = testY)\n",
    "train_data_dict ,test_data_dict = data_module.transform(train_data_dict ,test_data_dict)"
   ]
  },
  {
   "cell_type": "code",
   "execution_count": 14,
   "metadata": {},
   "outputs": [
    {
     "name": "stdout",
     "output_type": "stream",
     "text": [
      "train_data_x_feature shape : torch.Size([19, 10, 2])\n",
      "train_data_y_label shape : torch.Size([19, 1, 1])\n",
      "test_data_x_feature shape : torch.Size([3, 10, 2])\n",
      "test_data_y_label shape : torch.Size([3, 1, 1])\n"
     ]
    }
   ],
   "source": [
    "data_module.sanity_check(train_data_dict , test_data_dict)"
   ]
  },
  {
   "cell_type": "markdown",
   "metadata": {},
   "source": [
    "## Data Transpose \n",
    "You are require to transpose the `x-feature` data in a such a way that : <br>\n",
    ">`(batch_size, number_of_features, sequence_length)`."
   ]
  },
  {
   "cell_type": "code",
   "execution_count": 15,
   "metadata": {},
   "outputs": [],
   "source": [
    "# Data Transpose to suit for CNN \n",
    "train_data_dict , test_data_dict= data_module.transpose(train_data_dict,test_data_dict)"
   ]
  },
  {
   "cell_type": "code",
   "execution_count": 16,
   "metadata": {},
   "outputs": [
    {
     "name": "stdout",
     "output_type": "stream",
     "text": [
      "train_data_x_feature shape : torch.Size([19, 2, 10])\n",
      "train_data_y_label shape : torch.Size([19, 1, 1])\n",
      "test_data_x_feature shape : torch.Size([3, 2, 10])\n",
      "test_data_y_label shape : torch.Size([3, 1, 1])\n"
     ]
    }
   ],
   "source": [
    "data_module.sanity_check(train_data_dict , test_data_dict)"
   ]
  },
  {
   "cell_type": "markdown",
   "metadata": {},
   "source": [
    "## Data Iterator\n",
    "Iterator is created to allow the data separate into several batches to fasten the training process\n",
    ">**Instruction** : <br>\n",
    "Use `data_module.iterator` to create data iterator."
   ]
  },
  {
   "cell_type": "code",
   "execution_count": 17,
   "metadata": {},
   "outputs": [],
   "source": [
    "train_iter , test_iter = data_module.iterator(train_data_dict ,test_data_dict,batch_size = batch_size)"
   ]
  },
  {
   "cell_type": "markdown",
   "metadata": {},
   "source": [
    "# Step 2 :  CNN Model Configuration\n",
    "You may choose to use the CNN configuration that have been save in the `deep_learning_module.py` or code it by yourself.For demostraction purpose , we will use the CNN configuration in `deep_learning_module.py`"
   ]
  },
  {
   "cell_type": "markdown",
   "metadata": {},
   "source": [
    "## Input Model\n",
    "The number of features and number of step feed as the attribute for the model. The other attribute such as `kernel_size` , `in_channels` and `out_channels` for each convolution layer need to configure in the network configuration by the user."
   ]
  },
  {
   "cell_type": "code",
   "execution_count": 18,
   "metadata": {},
   "outputs": [],
   "source": [
    "# seed\n",
    "torch.manual_seed(123)\n",
    "### BEGIN SOLUTION\n",
    "n_feature = train_data_dict['train_data_x_feature'].shape[1]\n",
    "\n",
    "# Input the attribute need by the model \n",
    "model = deep_learning_module.CNN(n_feature = n_feature,n_step = n_step )\n",
    "\n",
    "# Define the optimizer (Here we use SGD as our optimizer)\n",
    "optimizer = torch.optim.Adam(model.parameters(), lr=learning_rate)\n",
    "\n",
    "# Define the loss function (Here we use MSE as the loss function)\n",
    "loss_fn = nn.MSELoss()\n",
    "\n",
    "### END SOLUTION"
   ]
  },
  {
   "cell_type": "code",
   "execution_count": 19,
   "metadata": {},
   "outputs": [
    {
     "name": "stdout",
     "output_type": "stream",
     "text": [
      "====================================================\n",
      "        Kernel Shape Output Shape Params Mult-Adds\n",
      "Layer                                             \n",
      "0_conv1   [2, 30, 3]   [5, 30, 8]  210.0     1.44k\n",
      "1_poo1             -   [5, 30, 4]      -         -\n",
      "2_conv2  [30, 20, 2]   [5, 20, 3]  1.22k      3.6k\n",
      "3_pool2            -   [5, 20, 1]      -         -\n",
      "4_fc1       [20, 10]      [5, 10]  210.0     200.0\n",
      "5_fc2        [10, 1]       [5, 1]   11.0      10.0\n",
      "----------------------------------------------------\n",
      "                      Totals\n",
      "Total params          1.651k\n",
      "Trainable params      1.651k\n",
      "Non-trainable params     0.0\n",
      "Mult-Adds              5.25k\n",
      "====================================================\n",
      "        Kernel Shape Output Shape  Params  Mult-Adds\n",
      "Layer                                               \n",
      "0_conv1   [2, 30, 3]   [5, 30, 8]   210.0     1440.0\n",
      "1_poo1             -   [5, 30, 4]     NaN        NaN\n",
      "2_conv2  [30, 20, 2]   [5, 20, 3]  1220.0     3600.0\n",
      "3_pool2            -   [5, 20, 1]     NaN        NaN\n",
      "4_fc1       [20, 10]      [5, 10]   210.0      200.0\n",
      "5_fc2        [10, 1]       [5, 1]    11.0       10.0\n"
     ]
    }
   ],
   "source": [
    "seq_length = train_data_dict['train_data_x_feature'].shape[2]\n",
    "inputs = torch.zeros((batch_size,n_feature ,seq_length),dtype=torch.float) # batch size ,input_dim ,seq_length\n",
    "print(summary(model,inputs))"
   ]
  },
  {
   "cell_type": "code",
   "execution_count": 20,
   "metadata": {},
   "outputs": [
    {
     "data": {
      "text/plain": [
       "CNN(\n",
       "  (conv1): Conv1d(2, 30, kernel_size=(3,), stride=(1,))\n",
       "  (poo1): MaxPool1d(kernel_size=2, stride=2, padding=0, dilation=1, ceil_mode=False)\n",
       "  (conv2): Conv1d(30, 20, kernel_size=(2,), stride=(1,))\n",
       "  (pool2): AdaptiveMaxPool1d(output_size=1)\n",
       "  (fc1): Linear(in_features=20, out_features=10, bias=True)\n",
       "  (fc2): Linear(in_features=10, out_features=1, bias=True)\n",
       ")"
      ]
     },
     "execution_count": 20,
     "metadata": {},
     "output_type": "execute_result"
    }
   ],
   "source": [
    "# seed\n",
    "torch.manual_seed(123)\n",
    "\n",
    "#  Xavier Weight Initialize \n",
    "def weights_init(m):\n",
    "    if isinstance(m, nn.Conv1d):\n",
    "        nn.init.xavier_uniform_(m.weight.data)\n",
    "        \n",
    "model.apply(weights_init)"
   ]
  },
  {
   "cell_type": "markdown",
   "metadata": {},
   "source": [
    "# Step 3 : Training"
   ]
  },
  {
   "cell_type": "code",
   "execution_count": 21,
   "metadata": {},
   "outputs": [],
   "source": [
    "# seed\n",
    "torch.manual_seed(123)\n",
    "# Start Training\n",
    "train_loss, val_loss = deep_learning_module.training(num_epochs, train_iter, test_iter, optimizer, loss_fn, model)"
   ]
  },
  {
   "cell_type": "markdown",
   "metadata": {},
   "source": [
    "# Step 4 : Validation \n",
    "A learning curve is plotted to define how well the data is fitting the model "
   ]
  },
  {
   "cell_type": "code",
   "execution_count": 22,
   "metadata": {
    "scrolled": true
   },
   "outputs": [
    {
     "data": {
      "image/png": "[encoded data removed]",
      "text/plain": [
       "<Figure size 720x432 with 1 Axes>"
      ]
     },
     "metadata": {
      "needs_background": "light"
     },
     "output_type": "display_data"
    },
    {
     "name": "stdout",
     "output_type": "stream",
     "text": [
      "Epoch : 0 , training loss : 1.9394897369569855 , validation loss : 17.984899520874023\n",
      "Epoch : 1 , training loss : 1.9003961584285687 , validation loss : 17.837356567382812\n",
      "Epoch : 2 , training loss : 1.8762143201341754 , validation loss : 17.67344856262207\n",
      "Epoch : 3 , training loss : 1.8599939560027499 , validation loss : 17.50529670715332\n",
      "Epoch : 4 , training loss : 1.8433378979955848 , validation loss : 17.366514205932617\n",
      "Epoch : 5 , training loss : 1.8262099337420965 , validation loss : 17.239593505859375\n",
      "Epoch : 6 , training loss : 1.8084463922208862 , validation loss : 17.13066291809082\n",
      "Epoch : 7 , training loss : 1.7899091810380157 , validation loss : 17.035829544067383\n",
      "Epoch : 8 , training loss : 1.7701526043054305 , validation loss : 16.950883865356445\n",
      "Epoch : 9 , training loss : 1.7489593229011486 , validation loss : 16.870771408081055\n",
      "Epoch : 10 , training loss : 1.7261745698357884 , validation loss : 16.78141212463379\n",
      "Epoch : 11 , training loss : 1.7018303614305823 , validation loss : 16.666915893554688\n",
      "Epoch : 12 , training loss : 1.6758954717140448 , validation loss : 16.540143966674805\n",
      "Epoch : 13 , training loss : 1.6482691874629574 , validation loss : 16.396574020385742\n",
      "Epoch : 14 , training loss : 1.6187249953417402 , validation loss : 16.234636306762695\n",
      "Epoch : 15 , training loss : 1.587206248782183 , validation loss : 16.053733825683594\n",
      "Epoch : 16 , training loss : 1.5536781329857676 , validation loss : 15.847206115722656\n",
      "Epoch : 17 , training loss : 1.5180642349939597 , validation loss : 15.617324829101562\n",
      "Epoch : 18 , training loss : 1.4804486091199673 , validation loss : 15.373312950134277\n",
      "Epoch : 19 , training loss : 1.4405237851958526 , validation loss : 15.051849365234375\n",
      "Epoch : 20 , training loss : 1.3982883378079063 , validation loss : 14.678868293762207\n",
      "Epoch : 21 , training loss : 1.353865514068227 , validation loss : 14.276515007019043\n",
      "Epoch : 22 , training loss : 1.3072753583914356 , validation loss : 13.838154792785645\n",
      "Epoch : 23 , training loss : 1.2584746330976486 , validation loss : 13.371989250183105\n",
      "Epoch : 24 , training loss : 1.2076739857071324 , validation loss : 12.8873872756958\n",
      "Epoch : 25 , training loss : 1.1547284314506931 , validation loss : 12.390739440917969\n",
      "Epoch : 26 , training loss : 1.100291645056323 , validation loss : 11.883129119873047\n",
      "Epoch : 27 , training loss : 1.0439022975532632 , validation loss : 11.31155776977539\n",
      "Epoch : 28 , training loss : 0.9856626030645872 , validation loss : 10.663777351379395\n",
      "Epoch : 29 , training loss : 0.9261698283647236 , validation loss : 10.009784698486328\n",
      "Epoch : 30 , training loss : 0.8651779623408067 , validation loss : 9.324902534484863\n",
      "Epoch : 31 , training loss : 0.8026643685604397 , validation loss : 8.60693073272705\n",
      "Epoch : 32 , training loss : 0.7392976429117354 , validation loss : 7.811163425445557\n",
      "Epoch : 33 , training loss : 0.6747663491650632 , validation loss : 6.988254547119141\n",
      "Epoch : 34 , training loss : 0.6093145522632097 , validation loss : 6.174540996551514\n",
      "Epoch : 35 , training loss : 0.5429432027434048 , validation loss : 5.390220642089844\n",
      "Epoch : 36 , training loss : 0.47618744679187475 , validation loss : 4.616518497467041\n",
      "Epoch : 37 , training loss : 0.40903780001558754 , validation loss : 3.8407256603240967\n",
      "Epoch : 38 , training loss : 0.34293760084792185 , validation loss : 3.0808513164520264\n",
      "Epoch : 39 , training loss : 0.2793833029113318 , validation loss : 2.3871021270751953\n",
      "Epoch : 40 , training loss : 0.2204203052740348 , validation loss : 1.7600183486938477\n",
      "Epoch : 41 , training loss : 0.16787605673858993 , validation loss : 1.2162338495254517\n",
      "Epoch : 42 , training loss : 0.12309184513593975 , validation loss : 0.7724385261535645\n",
      "Epoch : 43 , training loss : 0.0870662674699959 , validation loss : 0.4379188120365143\n",
      "Epoch : 44 , training loss : 0.059450149732200724 , validation loss : 0.2095872163772583\n",
      "Epoch : 45 , training loss : 0.03952058316453507 , validation loss : 0.07434769719839096\n",
      "Epoch : 46 , training loss : 0.02625315616789617 , validation loss : 0.012414701282978058\n",
      "Epoch : 47 , training loss : 0.01818033783255439 , validation loss : 0.0006232181913219392\n",
      "Epoch : 48 , training loss : 0.01372817582695892 , validation loss : 0.016297562047839165\n",
      "Epoch : 49 , training loss : 0.011504640404478107 , validation loss : 0.04087716341018677\n",
      "Epoch : 50 , training loss : 0.010440859067449836 , validation loss : 0.06217072531580925\n",
      "Epoch : 51 , training loss : 0.009732075063144103 , validation loss : 0.0744696781039238\n",
      "Epoch : 52 , training loss : 0.009103636646422705 , validation loss : 0.07697845250368118\n",
      "Epoch : 53 , training loss : 0.00839127392483581 , validation loss : 0.07191652059555054\n",
      "Epoch : 54 , training loss : 0.0076248343163905176 , validation loss : 0.06246292591094971\n",
      "Epoch : 55 , training loss : 0.006897521735242519 , validation loss : 0.051499295979738235\n",
      "Epoch : 56 , training loss : 0.006226002140656898 , validation loss : 0.04100793972611427\n",
      "Epoch : 57 , training loss : 0.00564429630666334 , validation loss : 0.03201567009091377\n",
      "Epoch : 58 , training loss : 0.005156036953466307 , validation loss : 0.02488877810537815\n",
      "Epoch : 59 , training loss : 0.00473278145287431 , validation loss : 0.019501475617289543\n",
      "Epoch : 60 , training loss : 0.004369840274050243 , validation loss : 0.015584379434585571\n",
      "Epoch : 61 , training loss : 0.004070042779571132 , validation loss : 0.01285224873572588\n",
      "Epoch : 62 , training loss : 0.0038022630852585855 , validation loss : 0.010967002250254154\n",
      "Epoch : 63 , training loss : 0.0035489539521605415 , validation loss : 0.009676847606897354\n",
      "Epoch : 64 , training loss : 0.0033122584477256935 , validation loss : 0.008799524046480656\n",
      "Epoch : 65 , training loss : 0.003086176328092973 , validation loss : 0.008177791722118855\n",
      "Epoch : 66 , training loss : 0.0028778180492640545 , validation loss : 0.0077148019336164\n",
      "Epoch : 67 , training loss : 0.0026830665625120196 , validation loss : 0.007324878126382828\n",
      "Epoch : 68 , training loss : 0.00250543394845169 , validation loss : 0.006970616523176432\n",
      "Epoch : 69 , training loss : 0.002343702384869654 , validation loss : 0.00662153959274292\n",
      "Epoch : 70 , training loss : 0.0021957072372300133 , validation loss : 0.0062597524374723434\n",
      "Epoch : 71 , training loss : 0.0020620589886292643 , validation loss : 0.0058826967142522335\n",
      "Epoch : 72 , training loss : 0.0019400300945179832 , validation loss : 0.00548487389460206\n",
      "Epoch : 73 , training loss : 0.0018278012658380536 , validation loss : 0.005086640827357769\n",
      "Epoch : 74 , training loss : 0.0017225077428616043 , validation loss : 0.004708293359726667\n",
      "Epoch : 75 , training loss : 0.0016243558589179117 , validation loss : 0.004345681983977556\n",
      "Epoch : 76 , training loss : 0.0015359265679236206 , validation loss : 0.004008372314274311\n",
      "Epoch : 77 , training loss : 0.0014584799615764304 , validation loss : 0.0037180334329605103\n",
      "Epoch : 78 , training loss : 0.0013843797174846067 , validation loss : 0.003457794664427638\n",
      "Epoch : 79 , training loss : 0.001315190358773658 , validation loss : 0.003234065370634198\n",
      "Epoch : 80 , training loss : 0.0012495594668220484 , validation loss : 0.0030338794458657503\n",
      "Epoch : 81 , training loss : 0.0011880461664220906 , validation loss : 0.002855786820873618\n",
      "Epoch : 82 , training loss : 0.0011320977891476727 , validation loss : 0.00270004547201097\n",
      "Epoch : 83 , training loss : 0.0010851789847947657 , validation loss : 0.0025829423684626818\n",
      "Epoch : 84 , training loss : 0.00103794266913993 , validation loss : 0.0024914571549743414\n",
      "Epoch : 85 , training loss : 0.0009917571664309914 , validation loss : 0.0024096553679555655\n",
      "Epoch : 86 , training loss : 0.00094872353350327 , validation loss : 0.00233553908765316\n",
      "Epoch : 87 , training loss : 0.0009083486243310434 , validation loss : 0.002254819730296731\n",
      "Epoch : 88 , training loss : 0.0008727978244056239 , validation loss : 0.0021864043083041906\n",
      "Epoch : 89 , training loss : 0.0008402617210154666 , validation loss : 0.0021321552339941263\n",
      "Epoch : 90 , training loss : 0.0008083209594540102 , validation loss : 0.00207841326482594\n",
      "Epoch : 91 , training loss : 0.0007788233916998204 , validation loss : 0.00202740915119648\n",
      "Epoch : 92 , training loss : 0.0007500713384759269 , validation loss : 0.00196988508105278\n",
      "Epoch : 93 , training loss : 0.0007257224389927854 , validation loss : 0.0019250711193308234\n",
      "Epoch : 94 , training loss : 0.0007023745649923129 , validation loss : 0.0019002339104190469\n",
      "Epoch : 95 , training loss : 0.0006786904038898157 , validation loss : 0.0018710069125518203\n",
      "Epoch : 96 , training loss : 0.0006559379934945977 , validation loss : 0.0018408708274364471\n",
      "Epoch : 97 , training loss : 0.000636148953497851 , validation loss : 0.0018178430618718266\n",
      "Epoch : 98 , training loss : 0.0006178123884111349 , validation loss : 0.001810297486372292\n",
      "Epoch : 99 , training loss : 0.0005991442962304541 , validation loss : 0.0018129631644114852\n",
      "Epoch : 100 , training loss : 0.0005816054342032753 , validation loss : 0.001814263523556292\n",
      "Epoch : 101 , training loss : 0.0005642198995797356 , validation loss : 0.0018075377447530627\n",
      "Epoch : 102 , training loss : 0.0005496647951842629 , validation loss : 0.0018129842355847359\n",
      "Epoch : 103 , training loss : 0.000535397983376721 , validation loss : 0.0018322659889236093\n",
      "Epoch : 104 , training loss : 0.0005210068223899917 , validation loss : 0.0018491437658667564\n",
      "Epoch : 105 , training loss : 0.0005067114918921633 , validation loss : 0.0018563388148322701\n",
      "Epoch : 106 , training loss : 0.00049516211392505 , validation loss : 0.001878814771771431\n",
      "Epoch : 107 , training loss : 0.00048329453152530874 , validation loss : 0.0019119204953312874\n",
      "Epoch : 108 , training loss : 0.00047192635094305793 , validation loss : 0.0019344649044796824\n",
      "Epoch : 109 , training loss : 0.0004592486917604937 , validation loss : 0.001951390877366066\n",
      "Epoch : 110 , training loss : 0.000449861698526595 , validation loss : 0.001982348971068859\n",
      "Epoch : 111 , training loss : 0.0004402231915216697 , validation loss : 0.002023599110543728\n",
      "Epoch : 112 , training loss : 0.00043039448792114854 , validation loss : 0.0020625137258321047\n",
      "Epoch : 113 , training loss : 0.0004212076241138244 , validation loss : 0.0021082358434796333\n",
      "Epoch : 114 , training loss : 0.00041248901336649925 , validation loss : 0.002150780288502574\n",
      "Epoch : 115 , training loss : 0.00040402996206754133 , validation loss : 0.0021995387505739927\n",
      "Epoch : 116 , training loss : 0.00039581374930046305 , validation loss : 0.0022525715176016092\n",
      "Epoch : 117 , training loss : 0.0003879859194919271 , validation loss : 0.002300010994076729\n",
      "Epoch : 118 , training loss : 0.000380237409492685 , validation loss : 0.002339814091101289\n",
      "Epoch : 119 , training loss : 0.000373141794529817 , validation loss : 0.002389073371887207\n",
      "Epoch : 120 , training loss : 0.0003663595010661275 , validation loss : 0.0024396192748099566\n",
      "Epoch : 121 , training loss : 0.0003596749099271715 , validation loss : 0.0024873176589608192\n",
      "Epoch : 122 , training loss : 0.0003530837999086974 , validation loss : 0.002542410511523485\n",
      "Epoch : 123 , training loss : 0.0003463113328172384 , validation loss : 0.0025948157999664545\n",
      "Epoch : 124 , training loss : 0.0003401263100769077 , validation loss : 0.00264125969260931\n",
      "Epoch : 125 , training loss : 0.00033423516479639436 , validation loss : 0.002697397256270051\n",
      "Epoch : 126 , training loss : 0.0003283201218245698 , validation loss : 0.0027599092572927475\n",
      "Epoch : 127 , training loss : 0.0003225238588607968 , validation loss : 0.0028225413989275694\n",
      "Epoch : 128 , training loss : 0.0003163269594599689 , validation loss : 0.0028746472671628\n",
      "Epoch : 129 , training loss : 0.00031140891491974657 , validation loss : 0.002933299168944359\n",
      "Epoch : 130 , training loss : 0.0003060420291914948 , validation loss : 0.0029921599198132753\n",
      "Epoch : 131 , training loss : 0.0003014321961305349 , validation loss : 0.0030554255936294794\n",
      "Epoch : 132 , training loss : 0.0002964969393552134 , validation loss : 0.0031181208323687315\n",
      "Epoch : 133 , training loss : 0.0002917813552286182 , validation loss : 0.003176535479724407\n",
      "Epoch : 134 , training loss : 0.0002871597071613283 , validation loss : 0.0032310669776052237\n",
      "Epoch : 135 , training loss : 0.00028276764619237696 , validation loss : 0.003291235538199544\n",
      "Epoch : 136 , training loss : 0.0002783904840869486 , validation loss : 0.0033472434151917696\n",
      "Epoch : 137 , training loss : 0.0002742717115324922 , validation loss : 0.0034013893455266953\n",
      "Epoch : 138 , training loss : 0.0002703835803243381 , validation loss : 0.0034594659227877855\n",
      "Epoch : 139 , training loss : 0.0002662791984652071 , validation loss : 0.0035153368953615427\n",
      "Epoch : 140 , training loss : 0.0002625325300629667 , validation loss : 0.003574992762878537\n",
      "Epoch : 141 , training loss : 0.0002586385478360554 , validation loss : 0.0036333047319203615\n",
      "Epoch : 142 , training loss : 0.0002547950092488655 , validation loss : 0.003682053415104747\n",
      "Epoch : 143 , training loss : 0.0002515248492464276 , validation loss : 0.003741313936188817\n",
      "Epoch : 144 , training loss : 0.0002480111171806991 , validation loss : 0.0038027437403798103\n",
      "Epoch : 145 , training loss : 0.0002445245784321359 , validation loss : 0.003862411482259631\n",
      "Epoch : 146 , training loss : 0.00024100270399541937 , validation loss : 0.003916111774742603\n",
      "Epoch : 147 , training loss : 0.00023753151847478491 , validation loss : 0.0039725168608129025\n",
      "Epoch : 148 , training loss : 0.00023435992510425612 , validation loss : 0.004023461136966944\n",
      "Epoch : 149 , training loss : 0.00023093520193422017 , validation loss : 0.004072051029652357\n",
      "Epoch : 150 , training loss : 0.00022619905327079132 , validation loss : 0.004115343559533358\n",
      "Epoch : 151 , training loss : 0.00022160527824828597 , validation loss : 0.004164723213762045\n",
      "Epoch : 152 , training loss : 0.00021686376490642463 , validation loss : 0.004220262169837952\n",
      "Epoch : 153 , training loss : 0.00021181646470243946 , validation loss : 0.004269078839570284\n",
      "Epoch : 154 , training loss : 0.00020712635025694524 , validation loss : 0.004307190887629986\n",
      "Epoch : 155 , training loss : 0.00020244641832265953 , validation loss : 0.004354299511760473\n",
      "Epoch : 156 , training loss : 0.00019797564489540252 , validation loss : 0.004411299247294664\n",
      "Epoch : 157 , training loss : 0.00019358405226835442 , validation loss : 0.00446572108194232\n",
      "Epoch : 158 , training loss : 0.00018910212297908546 , validation loss : 0.004522770177572966\n",
      "Epoch : 159 , training loss : 0.00018511650619314568 , validation loss : 0.004586914554238319\n",
      "Epoch : 160 , training loss : 0.00018109319688320333 , validation loss : 0.004646162036806345\n",
      "Epoch : 161 , training loss : 0.00017708368010828149 , validation loss : 0.004702191799879074\n",
      "Epoch : 162 , training loss : 0.00017347780167734813 , validation loss : 0.004763422533869743\n",
      "Epoch : 163 , training loss : 0.00017000318429812692 , validation loss : 0.004815198015421629\n",
      "Epoch : 164 , training loss : 0.00016648201917154152 , validation loss : 0.004868486896157265\n",
      "Epoch : 165 , training loss : 0.00016341679015328592 , validation loss : 0.004921382293105125\n",
      "Epoch : 166 , training loss : 0.00016019311844597963 , validation loss : 0.004982423037290573\n",
      "Epoch : 167 , training loss : 0.0001572279227395101 , validation loss : 0.005030111409723759\n",
      "Epoch : 168 , training loss : 0.00015407015732642705 , validation loss : 0.005068447906523943\n",
      "Epoch : 169 , training loss : 0.0001513888273620978 , validation loss : 0.005113556515425444\n",
      "Epoch : 170 , training loss : 0.00014878937020655844 , validation loss : 0.005165314767509699\n",
      "Epoch : 171 , training loss : 0.00014613235697125723 , validation loss : 0.0052075739949941635\n",
      "Epoch : 172 , training loss : 0.0001437743361939762 , validation loss : 0.0052532777190208435\n",
      "Epoch : 173 , training loss : 0.00014142296123808543 , validation loss : 0.005307844374328852\n",
      "Epoch : 174 , training loss : 0.0001389635693301802 , validation loss : 0.0053560431115329266\n",
      "Epoch : 175 , training loss : 0.00013693221224361638 , validation loss : 0.005392879247665405\n",
      "Epoch : 176 , training loss : 0.0001347386342355381 , validation loss : 0.005438689142465591\n",
      "Epoch : 177 , training loss : 0.00013270960880618077 , validation loss : 0.005483539309352636\n",
      "Epoch : 178 , training loss : 0.00013070292152406182 , validation loss : 0.00553137669339776\n",
      "Epoch : 179 , training loss : 0.00012887829995490488 , validation loss : 0.005559162702411413\n",
      "Epoch : 180 , training loss : 0.00012701482161279082 , validation loss : 0.005591947585344315\n",
      "Epoch : 181 , training loss : 0.00012538191784092066 , validation loss : 0.005630000960081816\n",
      "Epoch : 182 , training loss : 0.00012364781497652935 , validation loss : 0.005670815706253052\n",
      "Epoch : 183 , training loss : 0.00012204703412671254 , validation loss : 0.005696356296539307\n",
      "Epoch : 184 , training loss : 0.00012045726141782085 , validation loss : 0.005730241071432829\n",
      "Epoch : 185 , training loss : 0.00011898587045403761 , validation loss : 0.005771730560809374\n",
      "Epoch : 186 , training loss : 0.0001174761865561442 , validation loss : 0.005806948523968458\n",
      "Epoch : 187 , training loss : 0.00011602921131270705 , validation loss : 0.005832389462739229\n",
      "Epoch : 188 , training loss : 0.00011478130574304439 , validation loss : 0.005865978542715311\n",
      "Epoch : 189 , training loss : 0.0001135017155799065 , validation loss : 0.0058957417495548725\n",
      "Epoch : 190 , training loss : 0.000112202462715734 , validation loss : 0.005930403713136911\n",
      "Epoch : 191 , training loss : 0.00011096117587409313 , validation loss : 0.005959337577223778\n",
      "Epoch : 192 , training loss : 0.00010970680073353976 , validation loss : 0.0059852139092981815\n",
      "Epoch : 193 , training loss : 0.0001087599293417665 , validation loss : 0.006020363420248032\n",
      "Epoch : 194 , training loss : 0.00010779928154653662 , validation loss : 0.006064858287572861\n",
      "Epoch : 195 , training loss : 0.00010683294136757276 , validation loss : 0.006096350494772196\n",
      "Epoch : 196 , training loss : 0.00010591806662169371 , validation loss : 0.006129375193268061\n",
      "Epoch : 197 , training loss : 0.00010506340308175392 , validation loss : 0.0061673265881836414\n",
      "Epoch : 198 , training loss : 0.00010426623238776014 , validation loss : 0.006197547074407339\n",
      "Epoch : 199 , training loss : 0.00010338926822920544 , validation loss : 0.006224016193300486\n"
     ]
    }
   ],
   "source": [
    "data_module.learning_curve(num_epochs = num_epochs , train_loss = train_loss , val_loss = val_loss )"
   ]
  },
  {
   "cell_type": "markdown",
   "metadata": {},
   "source": [
    "# Step 5 : Evaluation\n",
    "This section is to inference the model by feeding in testing data and determine the output forecast value and calculate the RMSE.\n",
    "\n",
    "It consists of 4 sections :\n",
    "\n",
    "Section 1 : Feed in the train and test data to the model <br>\n",
    "Section 2 : Reshape both to the original data dimension <br> \n",
    "Section 3 : Invert the scaling back to the original data value <br>\n",
    "Section 4 : Calculate the RMSE of train and test data"
   ]
  },
  {
   "cell_type": "code",
   "execution_count": 23,
   "metadata": {},
   "outputs": [],
   "source": [
    "# Section 1 : make predictions\n",
    "with torch.no_grad():\n",
    "    y_train_prediction = model(train_data_dict['train_data_x_feature'])\n",
    "    y_test_prediction = model(test_data_dict['test_data_x_feature'])"
   ]
  },
  {
   "cell_type": "code",
   "execution_count": 24,
   "metadata": {},
   "outputs": [],
   "source": [
    "# Assign evaluation key\n",
    "\n",
    "prediction , output = data_module.key_assign_evaluation(y_train_prediction,\n",
    "                                                        y_test_prediction,\n",
    "                                                        train_data_dict,\n",
    "                                                        test_data_dict)\n",
    "# Section 2 : Reshape to original data\n",
    "# Squeeze the output dimension\n",
    "output_data = data_module.squeeze_dimension(output)\n"
   ]
  },
  {
   "cell_type": "code",
   "execution_count": 25,
   "metadata": {},
   "outputs": [
    {
     "name": "stdout",
     "output_type": "stream",
     "text": [
      "train_data_output shape : torch.Size([19, 1])\n",
      "test_data_output shape : torch.Size([3, 1])\n"
     ]
    }
   ],
   "source": [
    "data_module.sanity_check(data_1 = output_data,data_2 = {})"
   ]
  },
  {
   "cell_type": "code",
   "execution_count": 26,
   "metadata": {},
   "outputs": [],
   "source": [
    "# Section 3 : Invert predictions\n",
    "prediction = data_module.inverse_scaler(prediction,scaler)\n",
    "output_data  = data_module.inverse_scaler(output_data ,scaler)"
   ]
  },
  {
   "cell_type": "code",
   "execution_count": 27,
   "metadata": {},
   "outputs": [
    {
     "name": "stdout",
     "output_type": "stream",
     "text": [
      "Test Data\t\t\tForecast\n",
      "[744.99994]\t\t[753.6096]\n",
      "[765.]\t\t[775.2738]\n",
      "[784.99994]\t\t[796.9381]\n"
     ]
    }
   ],
   "source": [
    "# List the forecast value\n",
    "data_module.list_forecast_value(output_data,prediction) "
   ]
  },
  {
   "cell_type": "code",
   "execution_count": 28,
   "metadata": {},
   "outputs": [
    {
     "name": "stdout",
     "output_type": "stream",
     "text": [
      "Train Score: 1.33 RMSE\n",
      "Test Score: 10.36 RMSE\n"
     ]
    }
   ],
   "source": [
    "# Section 4 : Calculate the RMSE of train and test data\n",
    "### BEGIN SOLUTION\n",
    "trainScore,testScore = data_module.rmse(prediction,output_data)\n",
    "### END SOLUTION\n",
    "print('Train Score: %.2f RMSE' % (trainScore))\n",
    "print('Test Score: %.2f RMSE' % (testScore))"
   ]
  },
  {
   "cell_type": "markdown",
   "metadata": {},
   "source": [
    "# Step 6 : Forecast Plot"
   ]
  },
  {
   "cell_type": "code",
   "execution_count": 29,
   "metadata": {},
   "outputs": [],
   "source": [
    "plot_details ={\"x-axis\" : \"Day\",\n",
    "          \"y-axis\" : \"Values\",\n",
    "          \"title\"  : \"Synthetic Data\"\n",
    "         }"
   ]
  },
  {
   "cell_type": "code",
   "execution_count": 30,
   "metadata": {},
   "outputs": [
    {
     "data": {
      "text/plain": [
       "Text(0.5, 0, 'Date')"
      ]
     },
     "execution_count": 30,
     "metadata": {},
     "output_type": "execute_result"
    },
    {
     "data": {
      "image/png": "[encoded data removed]",
      "text/plain": [
       "<Figure size 720x432 with 1 Axes>"
      ]
     },
     "metadata": {
      "needs_background": "light"
     },
     "output_type": "display_data"
    }
   ],
   "source": [
    "data_module.single_step_plot(original_test_data = test_data,\n",
    "                            sequence_test_data = output_data['test_data_output'],\n",
    "                            forecast_data = prediction['test_data_prediction'],\n",
    "                            test_time = test_time,\n",
    "                            window_size =  window_size,\n",
    "                            original_plot= False,\n",
    "                            multivariate= True)"
   ]
  },
  {
   "cell_type": "markdown",
   "metadata": {},
   "source": [
    "***"
   ]
  },
  {
   "cell_type": "markdown",
   "metadata": {},
   "source": [
    "# Part 2 : Exercise for Multivariate Multi-step\n",
    "## Task : Predict total number of death case in COVID-19 Malaysia 3 day in future\n",
    "\n",
    "### Introduction \n",
    "You are given a set of data that contain information about COVID-19 cases worldwide. You are required to perform some data analysis on it and predict the death cases.<br>\n",
    "\n",
    "Please follow the instruction and try to code the exercise.Please feel free to google to find out how to use a particular function in the data exploration part<br>\n",
    "\n",
    "\n",
    "\n",
    "Data Source : \n",
    "https://www.kaggle.com/sudalairajkumar/novel-corona-virus-2019-dataset"
   ]
  },
  {
   "cell_type": "markdown",
   "metadata": {},
   "source": [
    "## Hyperparameter\n",
    ">**Instruction** : <br>\n",
    "You are required to fill the `None` with a suitable value to make the model converge\n",
    "\n",
    ">**Expected Result** : <br>\n",
    "Train Score <= 50 RMSE<br>\n",
    "Test Score <= 50 RMSE<br>"
   ]
  },
  {
   "cell_type": "code",
   "execution_count": 67,
   "metadata": {},
   "outputs": [
    {
     "data": {
      "text/plain": [
       "<torch._C.Generator at 0x24b605de930>"
      ]
     },
     "execution_count": 67,
     "metadata": {},
     "output_type": "execute_result"
    }
   ],
   "source": [
    "#Hyperameter\n",
    "split_ratio_covid = 0.80\n",
    "num_epochs_covid = 150\n",
    "window_size_covid = 20\n",
    "n_step_covid = 1\n",
    "learning_rate_covid = 0.001\n",
    "batch_size_covid = 5\n",
    "#seed\n",
    "torch.manual_seed(123)"
   ]
  },
  {
   "cell_type": "markdown",
   "metadata": {},
   "source": [
    "# Step 1 : Data Preparation\n",
    "In this tutorial, you will face a complex real-world dataset. You are required to use some of the data exploration technique to help you prepare the data.\n",
    "\n",
    ">**Instruction** : <br>\n",
    "Read the file using `pd.read_csv`<br>\n",
    "Save your data as `cases`<br>\n",
    "Your file path `../../datasets/others/covid_19_data.csv`"
   ]
  },
  {
   "cell_type": "code",
   "execution_count": 68,
   "metadata": {},
   "outputs": [
    {
     "data": {
      "text/html": [
       "<div>\n",
       "<style scoped>\n",
       "    .dataframe tbody tr th:only-of-type {\n",
       "        vertical-align: middle;\n",
       "    }\n",
       "\n",
       "    .dataframe tbody tr th {\n",
       "        vertical-align: top;\n",
       "    }\n",
       "\n",
       "    .dataframe thead th {\n",
       "        text-align: right;\n",
       "    }\n",
       "</style>\n",
       "<table border=\"1\" class=\"dataframe\">\n",
       "  <thead>\n",
       "    <tr style=\"text-align: right;\">\n",
       "      <th></th>\n",
       "      <th>SNo</th>\n",
       "      <th>ObservationDate</th>\n",
       "      <th>Province/State</th>\n",
       "      <th>Country/Region</th>\n",
       "      <th>Last Update</th>\n",
       "      <th>Confirmed</th>\n",
       "      <th>Deaths</th>\n",
       "      <th>Recovered</th>\n",
       "    </tr>\n",
       "  </thead>\n",
       "  <tbody>\n",
       "    <tr>\n",
       "      <th>0</th>\n",
       "      <td>1</td>\n",
       "      <td>01/22/2020</td>\n",
       "      <td>Anhui</td>\n",
       "      <td>Mainland China</td>\n",
       "      <td>1/22/2020 17:00</td>\n",
       "      <td>1.0</td>\n",
       "      <td>0.0</td>\n",
       "      <td>0.0</td>\n",
       "    </tr>\n",
       "    <tr>\n",
       "      <th>1</th>\n",
       "      <td>2</td>\n",
       "      <td>01/22/2020</td>\n",
       "      <td>Beijing</td>\n",
       "      <td>Mainland China</td>\n",
       "      <td>1/22/2020 17:00</td>\n",
       "      <td>14.0</td>\n",
       "      <td>0.0</td>\n",
       "      <td>0.0</td>\n",
       "    </tr>\n",
       "    <tr>\n",
       "      <th>2</th>\n",
       "      <td>3</td>\n",
       "      <td>01/22/2020</td>\n",
       "      <td>Chongqing</td>\n",
       "      <td>Mainland China</td>\n",
       "      <td>1/22/2020 17:00</td>\n",
       "      <td>6.0</td>\n",
       "      <td>0.0</td>\n",
       "      <td>0.0</td>\n",
       "    </tr>\n",
       "    <tr>\n",
       "      <th>3</th>\n",
       "      <td>4</td>\n",
       "      <td>01/22/2020</td>\n",
       "      <td>Fujian</td>\n",
       "      <td>Mainland China</td>\n",
       "      <td>1/22/2020 17:00</td>\n",
       "      <td>1.0</td>\n",
       "      <td>0.0</td>\n",
       "      <td>0.0</td>\n",
       "    </tr>\n",
       "    <tr>\n",
       "      <th>4</th>\n",
       "      <td>5</td>\n",
       "      <td>01/22/2020</td>\n",
       "      <td>Gansu</td>\n",
       "      <td>Mainland China</td>\n",
       "      <td>1/22/2020 17:00</td>\n",
       "      <td>0.0</td>\n",
       "      <td>0.0</td>\n",
       "      <td>0.0</td>\n",
       "    </tr>\n",
       "  </tbody>\n",
       "</table>\n",
       "</div>"
      ],
      "text/plain": [
       "   SNo ObservationDate Province/State  Country/Region      Last Update  \\\n",
       "0    1      01/22/2020          Anhui  Mainland China  1/22/2020 17:00   \n",
       "1    2      01/22/2020        Beijing  Mainland China  1/22/2020 17:00   \n",
       "2    3      01/22/2020      Chongqing  Mainland China  1/22/2020 17:00   \n",
       "3    4      01/22/2020         Fujian  Mainland China  1/22/2020 17:00   \n",
       "4    5      01/22/2020          Gansu  Mainland China  1/22/2020 17:00   \n",
       "\n",
       "   Confirmed  Deaths  Recovered  \n",
       "0        1.0     0.0        0.0  \n",
       "1       14.0     0.0        0.0  \n",
       "2        6.0     0.0        0.0  \n",
       "3        1.0     0.0        0.0  \n",
       "4        0.0     0.0        0.0  "
      ]
     },
     "execution_count": 68,
     "metadata": {},
     "output_type": "execute_result"
    }
   ],
   "source": [
    "### BEGIN SOLUTION\n",
    "cases = pd.read_csv(\"../../datasets/others/covid_19_data.csv\")\n",
    "### END SOLUTION\n",
    "cases.head()"
   ]
  },
  {
   "cell_type": "markdown",
   "metadata": {},
   "source": [
    "As you can see, the data contain info on COVID-19 cases from other countries as well. Hence you need to slice the COVID-19 info only for Malaysia.\n",
    "\n",
    ">**Instruction** : <br>\n",
    "Slice the COVID-19 info only for Malaysia. You might need to use `df.loc[]` to help you slice the data.\n",
    "\n",
    ">**Expected Result** :<br>\n",
    "Example of first 5 row data :\n",
    "\n",
    "---\t|SNo\t|ObservationDate\t|Province/State\t|Country/Region\t|Last Update\t|Confirmed\t|Deaths\t|Recovered\n",
    " ---|---\t|---\t            |---\t        |---\t        |---\t        |---\t    |---\t|---\n",
    "78\t|79\t    |01/23/2020\t|NaN\t|Malaysia\t|1/23/20 |17:00\t|0.0\t|0.0\t|0.0\n",
    "168\t|169\t|01/25/2020\t|NaN\t|Malaysia\t|1/25/20 |17:00\t|3.0\t|0.0\t|0.0\n",
    "214\t|215\t|01/26/2020\t|NaN\t|Malaysia\t|1/26/20 |16:00\t|4.0\t|0.0\t|0.0\n",
    "260\t|261\t|01/27/2020\t|NaN\t|Malaysia\t|1/27/20 |23:59\t|4.0\t|0.0\t|0.0\n",
    "311\t|312\t|01/28/2020\t|NaN\t|Malaysia\t|1/28/20 |23:00\t|4.0\t|0.0\t|0.0"
   ]
  },
  {
   "cell_type": "code",
   "execution_count": 69,
   "metadata": {
    "scrolled": true
   },
   "outputs": [
    {
     "data": {
      "text/plain": [
       "array(['Mainland China', 'Hong Kong', 'Macau', 'Taiwan', 'US', 'Japan',\n",
       "       'Thailand', 'South Korea', 'Singapore', 'Philippines', 'Malaysia',\n",
       "       'Vietnam', 'Australia', 'Mexico', 'Brazil', 'Colombia', 'France',\n",
       "       'Nepal', 'Canada', 'Cambodia', 'Sri Lanka', 'Ivory Coast',\n",
       "       'Germany', 'Finland', 'United Arab Emirates', 'India', 'Italy',\n",
       "       'UK', 'Russia', 'Sweden', 'Spain', 'Belgium', 'Others', 'Egypt',\n",
       "       'Iran', 'Israel', 'Lebanon', 'Iraq', 'Oman', 'Afghanistan',\n",
       "       'Bahrain', 'Kuwait', 'Austria', 'Algeria', 'Croatia',\n",
       "       'Switzerland', 'Pakistan', 'Georgia', 'Greece', 'North Macedonia',\n",
       "       'Norway', 'Romania', 'Denmark', 'Estonia', 'Netherlands',\n",
       "       'San Marino', ' Azerbaijan', 'Belarus', 'Iceland', 'Lithuania',\n",
       "       'New Zealand', 'Nigeria', 'North Ireland', 'Ireland', 'Luxembourg',\n",
       "       'Monaco', 'Qatar', 'Ecuador', 'Azerbaijan', 'Czech Republic',\n",
       "       'Armenia', 'Dominican Republic', 'Indonesia', 'Portugal',\n",
       "       'Andorra', 'Latvia', 'Morocco', 'Saudi Arabia', 'Senegal',\n",
       "       'Argentina', 'Chile', 'Jordan', 'Ukraine', 'Saint Barthelemy',\n",
       "       'Hungary', 'Faroe Islands', 'Gibraltar', 'Liechtenstein', 'Poland',\n",
       "       'Tunisia', 'Palestine', 'Bosnia and Herzegovina', 'Slovenia',\n",
       "       'South Africa', 'Bhutan', 'Cameroon', 'Costa Rica', 'Peru',\n",
       "       'Serbia', 'Slovakia', 'Togo', 'Vatican City', 'French Guiana',\n",
       "       'Malta', 'Martinique', 'Republic of Ireland', 'Bulgaria',\n",
       "       'Maldives', 'Bangladesh', 'Moldova', 'Paraguay', 'Albania',\n",
       "       'Cyprus', 'St. Martin', 'Brunei', 'occupied Palestinian territory',\n",
       "       \"('St. Martin',)\", 'Burkina Faso', 'Channel Islands', 'Holy See',\n",
       "       'Mongolia', 'Panama', 'Bolivia', 'Honduras', 'Congo (Kinshasa)',\n",
       "       'Jamaica', 'Reunion', 'Turkey', 'Cuba', 'Guyana', 'Kazakhstan',\n",
       "       'Cayman Islands', 'Guadeloupe', 'Ethiopia', 'Sudan', 'Guinea',\n",
       "       'Antigua and Barbuda', 'Aruba', 'Kenya', 'Uruguay', 'Ghana',\n",
       "       'Jersey', 'Namibia', 'Seychelles', 'Trinidad and Tobago',\n",
       "       'Venezuela', 'Curacao', 'Eswatini', 'Gabon', 'Guatemala',\n",
       "       'Guernsey', 'Mauritania', 'Rwanda', 'Saint Lucia',\n",
       "       'Saint Vincent and the Grenadines', 'Suriname', 'Kosovo',\n",
       "       'Central African Republic', 'Congo (Brazzaville)',\n",
       "       'Equatorial Guinea', 'Uzbekistan', 'Guam', 'Puerto Rico', 'Benin',\n",
       "       'Greenland', 'Liberia', 'Mayotte', 'Republic of the Congo',\n",
       "       'Somalia', 'Tanzania', 'The Bahamas', 'Barbados', 'Montenegro',\n",
       "       'The Gambia', 'Kyrgyzstan', 'Mauritius', 'Zambia', 'Djibouti',\n",
       "       'Gambia, The', 'Bahamas, The', 'Chad', 'El Salvador', 'Fiji',\n",
       "       'Nicaragua', 'Madagascar', 'Haiti', 'Angola', 'Cabo Verde',\n",
       "       'Niger', 'Papua New Guinea', 'Zimbabwe', 'Cape Verde',\n",
       "       'East Timor', 'Eritrea', 'Uganda', 'Bahamas', 'Dominica', 'Gambia',\n",
       "       'Grenada', 'Mozambique', 'Samoa', 'Syria', 'Timor-Leste', 'Belize',\n",
       "       'Laos', 'Libya', 'Diamond Princess', 'Guinea-Bissau', 'Mali',\n",
       "       'Saint Kitts and Nevis', 'West Bank and Gaza', 'Burma',\n",
       "       'MS Zaandam', 'Botswana', 'Burundi', 'Sierra Leone', 'Malawi',\n",
       "       'South Sudan', 'Sao Tome and Principe', 'Yemen', 'Comoros',\n",
       "       'Tajikistan', 'Lesotho', 'Solomon Islands', 'Marshall Islands',\n",
       "       'Vanuatu', 'Micronesia'], dtype=object)"
      ]
     },
     "execution_count": 69,
     "metadata": {},
     "output_type": "execute_result"
    }
   ],
   "source": [
    "cases[\"Country/Region\"].unique()"
   ]
  },
  {
   "cell_type": "code",
   "execution_count": 70,
   "metadata": {},
   "outputs": [
    {
     "data": {
      "text/html": [
       "<div>\n",
       "<style scoped>\n",
       "    .dataframe tbody tr th:only-of-type {\n",
       "        vertical-align: middle;\n",
       "    }\n",
       "\n",
       "    .dataframe tbody tr th {\n",
       "        vertical-align: top;\n",
       "    }\n",
       "\n",
       "    .dataframe thead th {\n",
       "        text-align: right;\n",
       "    }\n",
       "</style>\n",
       "<table border=\"1\" class=\"dataframe\">\n",
       "  <thead>\n",
       "    <tr style=\"text-align: right;\">\n",
       "      <th></th>\n",
       "      <th>SNo</th>\n",
       "      <th>ObservationDate</th>\n",
       "      <th>Province/State</th>\n",
       "      <th>Country/Region</th>\n",
       "      <th>Last Update</th>\n",
       "      <th>Confirmed</th>\n",
       "      <th>Deaths</th>\n",
       "      <th>Recovered</th>\n",
       "    </tr>\n",
       "  </thead>\n",
       "  <tbody>\n",
       "    <tr>\n",
       "      <th>78</th>\n",
       "      <td>79</td>\n",
       "      <td>01/23/2020</td>\n",
       "      <td>NaN</td>\n",
       "      <td>Malaysia</td>\n",
       "      <td>1/23/20 17:00</td>\n",
       "      <td>0.0</td>\n",
       "      <td>0.0</td>\n",
       "      <td>0.0</td>\n",
       "    </tr>\n",
       "    <tr>\n",
       "      <th>168</th>\n",
       "      <td>169</td>\n",
       "      <td>01/25/2020</td>\n",
       "      <td>NaN</td>\n",
       "      <td>Malaysia</td>\n",
       "      <td>1/25/20 17:00</td>\n",
       "      <td>3.0</td>\n",
       "      <td>0.0</td>\n",
       "      <td>0.0</td>\n",
       "    </tr>\n",
       "    <tr>\n",
       "      <th>214</th>\n",
       "      <td>215</td>\n",
       "      <td>01/26/2020</td>\n",
       "      <td>NaN</td>\n",
       "      <td>Malaysia</td>\n",
       "      <td>1/26/20 16:00</td>\n",
       "      <td>4.0</td>\n",
       "      <td>0.0</td>\n",
       "      <td>0.0</td>\n",
       "    </tr>\n",
       "    <tr>\n",
       "      <th>260</th>\n",
       "      <td>261</td>\n",
       "      <td>01/27/2020</td>\n",
       "      <td>NaN</td>\n",
       "      <td>Malaysia</td>\n",
       "      <td>1/27/20 23:59</td>\n",
       "      <td>4.0</td>\n",
       "      <td>0.0</td>\n",
       "      <td>0.0</td>\n",
       "    </tr>\n",
       "    <tr>\n",
       "      <th>311</th>\n",
       "      <td>312</td>\n",
       "      <td>01/28/2020</td>\n",
       "      <td>NaN</td>\n",
       "      <td>Malaysia</td>\n",
       "      <td>1/28/20 23:00</td>\n",
       "      <td>4.0</td>\n",
       "      <td>0.0</td>\n",
       "      <td>0.0</td>\n",
       "    </tr>\n",
       "  </tbody>\n",
       "</table>\n",
       "</div>"
      ],
      "text/plain": [
       "     SNo ObservationDate Province/State Country/Region    Last Update  \\\n",
       "78    79      01/23/2020            NaN       Malaysia  1/23/20 17:00   \n",
       "168  169      01/25/2020            NaN       Malaysia  1/25/20 17:00   \n",
       "214  215      01/26/2020            NaN       Malaysia  1/26/20 16:00   \n",
       "260  261      01/27/2020            NaN       Malaysia  1/27/20 23:59   \n",
       "311  312      01/28/2020            NaN       Malaysia  1/28/20 23:00   \n",
       "\n",
       "     Confirmed  Deaths  Recovered  \n",
       "78         0.0     0.0        0.0  \n",
       "168        3.0     0.0        0.0  \n",
       "214        4.0     0.0        0.0  \n",
       "260        4.0     0.0        0.0  \n",
       "311        4.0     0.0        0.0  "
      ]
     },
     "execution_count": 70,
     "metadata": {},
     "output_type": "execute_result"
    }
   ],
   "source": [
    "### BEGIN SOLUTION\n",
    "new_covid_data = cases.loc[cases[\"Country/Region\"] == 'Malaysia']\n",
    "new_covid_data.head()\n",
    "### END SOLUTION"
   ]
  },
  {
   "cell_type": "markdown",
   "metadata": {},
   "source": [
    "We need to make sure there is no missing value in our data\n",
    ">**Instruction** : <br>\n",
    "Use `df.isnull().values.any()` to check any missing data in our dataset. `True` is meant there is `NaN` in our dataset<br>\n",
    "Most of the column does not contain `NaN` except for `Province/State ` . This is acceptable since this data does not useful to us and we will drop it later.\n",
    "\n",
    ">**Expected Result** :<br>\n",
    "\n",
    "Columns|Status\n",
    "---|---\n",
    "SNo                |False\n",
    "ObservationDate    |False\n",
    "Province/State      |True\n",
    "Country/Region     |False\n",
    "Last Update        |False\n",
    "Confirmed          |False\n",
    "Deaths             |False\n",
    "Recovered          |False"
   ]
  },
  {
   "cell_type": "code",
   "execution_count": 71,
   "metadata": {},
   "outputs": [
    {
     "data": {
      "text/plain": [
       "SNo                False\n",
       "ObservationDate    False\n",
       "Province/State      True\n",
       "Country/Region     False\n",
       "Last Update        False\n",
       "Confirmed          False\n",
       "Deaths             False\n",
       "Recovered          False\n",
       "dtype: bool"
      ]
     },
     "execution_count": 71,
     "metadata": {},
     "output_type": "execute_result"
    }
   ],
   "source": [
    "### BEGIN SOLUTION\n",
    "new_covid_data.isnull().any()\n",
    "### END SOLUTION"
   ]
  },
  {
   "cell_type": "markdown",
   "metadata": {},
   "source": [
    ">**Instruction** : <br>\n",
    "Set the `ObservationDate` as the index for the dataset.You are required to convert `ObservationDate` to datetime using `pd.to_datetime()` <br>\n",
    "\n",
    ">**Expected Result** :<br>\n",
    "Example of first 5 row data :\n",
    "\n",
    "ObservationDate\t|SNo\t|ObservationDate\t|Province/State\t|Country/Region\t|Last Update\t|Confirmed\t|Deaths\t|Recovered\n",
    " ---|---\t|---\t            |---\t        |---\t        |---\t        |---\t    |---\t|---\n",
    "01/23/2020\t|79\t    |01/23/2020\t|NaN\t|Malaysia\t|1/23/20 |17:00\t|0.0\t|0.0\t|0.0\n",
    "01/25/2020\t|169\t|01/25/2020\t|NaN\t|Malaysia\t|1/25/20 |17:00\t|3.0\t|0.0\t|0.0\n",
    "01/26/2020\t|215\t|01/26/2020\t|NaN\t|Malaysia\t|1/26/20 |16:00\t|4.0\t|0.0\t|0.0\n",
    "01/27/2020\t|261\t|01/27/2020\t|NaN\t|Malaysia\t|1/27/20 |23:59\t|4.0\t|0.0\t|0.0\n",
    "01/28/2020\t|312\t|01/28/2020\t|NaN\t|Malaysia\t|1/28/20 |23:00\t|4.0\t|0.0\t|0.0"
   ]
  },
  {
   "cell_type": "code",
   "execution_count": 72,
   "metadata": {},
   "outputs": [
    {
     "data": {
      "text/html": [
       "<div>\n",
       "<style scoped>\n",
       "    .dataframe tbody tr th:only-of-type {\n",
       "        vertical-align: middle;\n",
       "    }\n",
       "\n",
       "    .dataframe tbody tr th {\n",
       "        vertical-align: top;\n",
       "    }\n",
       "\n",
       "    .dataframe thead th {\n",
       "        text-align: right;\n",
       "    }\n",
       "</style>\n",
       "<table border=\"1\" class=\"dataframe\">\n",
       "  <thead>\n",
       "    <tr style=\"text-align: right;\">\n",
       "      <th></th>\n",
       "      <th>SNo</th>\n",
       "      <th>ObservationDate</th>\n",
       "      <th>Province/State</th>\n",
       "      <th>Country/Region</th>\n",
       "      <th>Last Update</th>\n",
       "      <th>Confirmed</th>\n",
       "      <th>Deaths</th>\n",
       "      <th>Recovered</th>\n",
       "    </tr>\n",
       "    <tr>\n",
       "      <th>ObservationDate</th>\n",
       "      <th></th>\n",
       "      <th></th>\n",
       "      <th></th>\n",
       "      <th></th>\n",
       "      <th></th>\n",
       "      <th></th>\n",
       "      <th></th>\n",
       "      <th></th>\n",
       "    </tr>\n",
       "  </thead>\n",
       "  <tbody>\n",
       "    <tr>\n",
       "      <th>2020-01-23</th>\n",
       "      <td>79</td>\n",
       "      <td>01/23/2020</td>\n",
       "      <td>NaN</td>\n",
       "      <td>Malaysia</td>\n",
       "      <td>1/23/20 17:00</td>\n",
       "      <td>0.0</td>\n",
       "      <td>0.0</td>\n",
       "      <td>0.0</td>\n",
       "    </tr>\n",
       "    <tr>\n",
       "      <th>2020-01-25</th>\n",
       "      <td>169</td>\n",
       "      <td>01/25/2020</td>\n",
       "      <td>NaN</td>\n",
       "      <td>Malaysia</td>\n",
       "      <td>1/25/20 17:00</td>\n",
       "      <td>3.0</td>\n",
       "      <td>0.0</td>\n",
       "      <td>0.0</td>\n",
       "    </tr>\n",
       "    <tr>\n",
       "      <th>2020-01-26</th>\n",
       "      <td>215</td>\n",
       "      <td>01/26/2020</td>\n",
       "      <td>NaN</td>\n",
       "      <td>Malaysia</td>\n",
       "      <td>1/26/20 16:00</td>\n",
       "      <td>4.0</td>\n",
       "      <td>0.0</td>\n",
       "      <td>0.0</td>\n",
       "    </tr>\n",
       "    <tr>\n",
       "      <th>2020-01-27</th>\n",
       "      <td>261</td>\n",
       "      <td>01/27/2020</td>\n",
       "      <td>NaN</td>\n",
       "      <td>Malaysia</td>\n",
       "      <td>1/27/20 23:59</td>\n",
       "      <td>4.0</td>\n",
       "      <td>0.0</td>\n",
       "      <td>0.0</td>\n",
       "    </tr>\n",
       "    <tr>\n",
       "      <th>2020-01-28</th>\n",
       "      <td>312</td>\n",
       "      <td>01/28/2020</td>\n",
       "      <td>NaN</td>\n",
       "      <td>Malaysia</td>\n",
       "      <td>1/28/20 23:00</td>\n",
       "      <td>4.0</td>\n",
       "      <td>0.0</td>\n",
       "      <td>0.0</td>\n",
       "    </tr>\n",
       "  </tbody>\n",
       "</table>\n",
       "</div>"
      ],
      "text/plain": [
       "                 SNo ObservationDate Province/State Country/Region  \\\n",
       "ObservationDate                                                      \n",
       "2020-01-23        79      01/23/2020            NaN       Malaysia   \n",
       "2020-01-25       169      01/25/2020            NaN       Malaysia   \n",
       "2020-01-26       215      01/26/2020            NaN       Malaysia   \n",
       "2020-01-27       261      01/27/2020            NaN       Malaysia   \n",
       "2020-01-28       312      01/28/2020            NaN       Malaysia   \n",
       "\n",
       "                   Last Update  Confirmed  Deaths  Recovered  \n",
       "ObservationDate                                               \n",
       "2020-01-23       1/23/20 17:00        0.0     0.0        0.0  \n",
       "2020-01-25       1/25/20 17:00        3.0     0.0        0.0  \n",
       "2020-01-26       1/26/20 16:00        4.0     0.0        0.0  \n",
       "2020-01-27       1/27/20 23:59        4.0     0.0        0.0  \n",
       "2020-01-28       1/28/20 23:00        4.0     0.0        0.0  "
      ]
     },
     "execution_count": 72,
     "metadata": {},
     "output_type": "execute_result"
    }
   ],
   "source": [
    "### BEGIN SOLUTION\n",
    "new_covid_data = new_covid_data.set_index(pd.to_datetime(new_covid_data[\"ObservationDate\"]))\n",
    "### END SOLUTION\n",
    "\n",
    "new_covid_data.head()"
   ]
  },
  {
   "cell_type": "markdown",
   "metadata": {},
   "source": [
    "Columns such as `SNo`,`ObservationDate`,`Province/State`,`Country/Region`,`Last Update` does not provide any useful information to us . Hence we need to drop it to make the data looks cleaner. \n",
    "\n",
    ">**Instruction** : <br>\n",
    "Use `df.drop` to drop the `columns = ['SNo','ObservationDate','Province/State','Country/Region','Last Update']`<br>\n",
    "\n",
    ">**Expected Result** :<br>\n",
    "\n",
    "ObservationDate\t|Confirmed\t|Deaths\t|Recovered\n",
    "\t---|---|---|---\t\t\n",
    "2020-01-23|\t0.0|\t0.0|\t0.0\n",
    "2020-01-25|\t3.0|\t0.0|\t0.0\n",
    "2020-01-26|\t4.0|\t0.0|\t0.0\n",
    "2020-01-27|\t4.0|\t0.0|\t0.0\n",
    "2020-01-28|\t4.0|    0.0|\t0.0"
   ]
  },
  {
   "cell_type": "code",
   "execution_count": 73,
   "metadata": {},
   "outputs": [
    {
     "data": {
      "text/html": [
       "<div>\n",
       "<style scoped>\n",
       "    .dataframe tbody tr th:only-of-type {\n",
       "        vertical-align: middle;\n",
       "    }\n",
       "\n",
       "    .dataframe tbody tr th {\n",
       "        vertical-align: top;\n",
       "    }\n",
       "\n",
       "    .dataframe thead th {\n",
       "        text-align: right;\n",
       "    }\n",
       "</style>\n",
       "<table border=\"1\" class=\"dataframe\">\n",
       "  <thead>\n",
       "    <tr style=\"text-align: right;\">\n",
       "      <th></th>\n",
       "      <th>Confirmed</th>\n",
       "      <th>Deaths</th>\n",
       "      <th>Recovered</th>\n",
       "    </tr>\n",
       "    <tr>\n",
       "      <th>ObservationDate</th>\n",
       "      <th></th>\n",
       "      <th></th>\n",
       "      <th></th>\n",
       "    </tr>\n",
       "  </thead>\n",
       "  <tbody>\n",
       "    <tr>\n",
       "      <th>2020-01-23</th>\n",
       "      <td>0.0</td>\n",
       "      <td>0.0</td>\n",
       "      <td>0.0</td>\n",
       "    </tr>\n",
       "    <tr>\n",
       "      <th>2020-01-25</th>\n",
       "      <td>3.0</td>\n",
       "      <td>0.0</td>\n",
       "      <td>0.0</td>\n",
       "    </tr>\n",
       "    <tr>\n",
       "      <th>2020-01-26</th>\n",
       "      <td>4.0</td>\n",
       "      <td>0.0</td>\n",
       "      <td>0.0</td>\n",
       "    </tr>\n",
       "    <tr>\n",
       "      <th>2020-01-27</th>\n",
       "      <td>4.0</td>\n",
       "      <td>0.0</td>\n",
       "      <td>0.0</td>\n",
       "    </tr>\n",
       "    <tr>\n",
       "      <th>2020-01-28</th>\n",
       "      <td>4.0</td>\n",
       "      <td>0.0</td>\n",
       "      <td>0.0</td>\n",
       "    </tr>\n",
       "  </tbody>\n",
       "</table>\n",
       "</div>"
      ],
      "text/plain": [
       "                 Confirmed  Deaths  Recovered\n",
       "ObservationDate                              \n",
       "2020-01-23             0.0     0.0        0.0\n",
       "2020-01-25             3.0     0.0        0.0\n",
       "2020-01-26             4.0     0.0        0.0\n",
       "2020-01-27             4.0     0.0        0.0\n",
       "2020-01-28             4.0     0.0        0.0"
      ]
     },
     "execution_count": 73,
     "metadata": {},
     "output_type": "execute_result"
    }
   ],
   "source": [
    "### BEGIN SOLUTION\n",
    "new_covid_data = new_covid_data.drop(columns = ['SNo','ObservationDate','Province/State','Country/Region','Last Update'])\n",
    "### END SOLUTION\n",
    "new_covid_data.head()"
   ]
  },
  {
   "cell_type": "markdown",
   "metadata": {},
   "source": [
    "To make our window sliding function working. You need to rearrange the data columns such as the targeted forecast series will be the last column of the data\n",
    ">**Instruction** : <br>\n",
    "Rearrage the data column using `df[]`<br>\n",
    "For example : <br>\n",
    "columns = [`A`,`B`,`C`]<br>\n",
    "rearrage columns = [`A`,`C`,`B`]<br>\n",
    "`df =  df[rearrage columns]`\n",
    "\n",
    ">**Expected Result** :<br>\n",
    "\n",
    "ObservationDate|\tConfirmed|\tRecovered|\tDeaths\n",
    "\t\t---|---|---|---\t\n",
    "2020-01-23|\t0.0|\t0.0|\t0.0\n",
    "2020-01-25|\t3.0|\t0.0|\t0.0\n",
    "2020-01-26|\t4.0|\t0.0|\t0.0\n",
    "2020-01-27|\t4.0|\t0.0|\t0.0\n",
    "2020-01-28|\t4.0|\t0.0|\t0.0"
   ]
  },
  {
   "cell_type": "code",
   "execution_count": 74,
   "metadata": {},
   "outputs": [
    {
     "data": {
      "text/html": [
       "<div>\n",
       "<style scoped>\n",
       "    .dataframe tbody tr th:only-of-type {\n",
       "        vertical-align: middle;\n",
       "    }\n",
       "\n",
       "    .dataframe tbody tr th {\n",
       "        vertical-align: top;\n",
       "    }\n",
       "\n",
       "    .dataframe thead th {\n",
       "        text-align: right;\n",
       "    }\n",
       "</style>\n",
       "<table border=\"1\" class=\"dataframe\">\n",
       "  <thead>\n",
       "    <tr style=\"text-align: right;\">\n",
       "      <th></th>\n",
       "      <th>Confirmed</th>\n",
       "      <th>Recovered</th>\n",
       "      <th>Deaths</th>\n",
       "    </tr>\n",
       "    <tr>\n",
       "      <th>ObservationDate</th>\n",
       "      <th></th>\n",
       "      <th></th>\n",
       "      <th></th>\n",
       "    </tr>\n",
       "  </thead>\n",
       "  <tbody>\n",
       "    <tr>\n",
       "      <th>2020-01-23</th>\n",
       "      <td>0.0</td>\n",
       "      <td>0.0</td>\n",
       "      <td>0.0</td>\n",
       "    </tr>\n",
       "    <tr>\n",
       "      <th>2020-01-25</th>\n",
       "      <td>3.0</td>\n",
       "      <td>0.0</td>\n",
       "      <td>0.0</td>\n",
       "    </tr>\n",
       "    <tr>\n",
       "      <th>2020-01-26</th>\n",
       "      <td>4.0</td>\n",
       "      <td>0.0</td>\n",
       "      <td>0.0</td>\n",
       "    </tr>\n",
       "    <tr>\n",
       "      <th>2020-01-27</th>\n",
       "      <td>4.0</td>\n",
       "      <td>0.0</td>\n",
       "      <td>0.0</td>\n",
       "    </tr>\n",
       "    <tr>\n",
       "      <th>2020-01-28</th>\n",
       "      <td>4.0</td>\n",
       "      <td>0.0</td>\n",
       "      <td>0.0</td>\n",
       "    </tr>\n",
       "  </tbody>\n",
       "</table>\n",
       "</div>"
      ],
      "text/plain": [
       "                 Confirmed  Recovered  Deaths\n",
       "ObservationDate                              \n",
       "2020-01-23             0.0        0.0     0.0\n",
       "2020-01-25             3.0        0.0     0.0\n",
       "2020-01-26             4.0        0.0     0.0\n",
       "2020-01-27             4.0        0.0     0.0\n",
       "2020-01-28             4.0        0.0     0.0"
      ]
     },
     "execution_count": 74,
     "metadata": {},
     "output_type": "execute_result"
    }
   ],
   "source": [
    "### BEGIN SOLUTION\n",
    "new_covid_data = new_covid_data[[\"Confirmed\",\"Recovered\",\"Deaths\"]]\n",
    "### END SOLUTION\n",
    "new_covid_data.head()"
   ]
  },
  {
   "cell_type": "markdown",
   "metadata": {},
   "source": [
    "## Data Visualization\n",
    "Data visualization is important for us to visualize the pattern of data such as trend and seasonality. As the graph below, it is shown that it is an increasing trend in data"
   ]
  },
  {
   "cell_type": "code",
   "execution_count": 75,
   "metadata": {},
   "outputs": [
    {
     "data": {
      "image/png": "[encoded data removed]",
      "text/plain": [
       "<Figure size 792x648 with 3 Axes>"
      ]
     },
     "metadata": {
      "needs_background": "light"
     },
     "output_type": "display_data"
    }
   ],
   "source": [
    "# Visualize Data \n",
    "axes = new_covid_data[new_covid_data.columns].plot(alpha=1.0, linestyle='-', figsize=(11, 9), subplots=True)\n",
    "for ax in axes:\n",
    "    ax.set_ylabel('COVID-19-Malaysia')"
   ]
  },
  {
   "cell_type": "markdown",
   "metadata": {},
   "source": [
    "However, the data is in cumulative form. To perform time-series prediction, we need to convert the cumulative cases into daily cases.\n",
    "\n",
    ">**Instruction** : <br>\n",
    "Remove the cummulative. You might need to use a `For loop` to loop through the data for each columns .Use `new_covid_data[name] - new_covid_data[name].shift().fillna(0)` as the math operation to remove the cummulative<br>\n",
    "\n",
    ">**Expected Result** :<br>\n",
    "\n",
    "ObservationDate|\tConfirmed|\tRecovered|\tDeaths|\n",
    "\t---|\t---|---|---\t\n",
    "2020-01-23|\t0.0|\t0.0|\t0.0|\n",
    "2020-01-25|\t3.0|\t0.0|\t0.0|\n",
    "2020-01-26|\t1.0|\t0.0|\t0.0|\n",
    "2020-01-27|\t0.0|\t0.0|\t0.0|\n",
    "2020-01-28|\t0.0|\t0.0|\t0.0|"
   ]
  },
  {
   "cell_type": "code",
   "execution_count": 76,
   "metadata": {},
   "outputs": [
    {
     "data": {
      "text/html": [
       "<div>\n",
       "<style scoped>\n",
       "    .dataframe tbody tr th:only-of-type {\n",
       "        vertical-align: middle;\n",
       "    }\n",
       "\n",
       "    .dataframe tbody tr th {\n",
       "        vertical-align: top;\n",
       "    }\n",
       "\n",
       "    .dataframe thead th {\n",
       "        text-align: right;\n",
       "    }\n",
       "</style>\n",
       "<table border=\"1\" class=\"dataframe\">\n",
       "  <thead>\n",
       "    <tr style=\"text-align: right;\">\n",
       "      <th></th>\n",
       "      <th>Confirmed</th>\n",
       "      <th>Recovered</th>\n",
       "      <th>Deaths</th>\n",
       "    </tr>\n",
       "    <tr>\n",
       "      <th>ObservationDate</th>\n",
       "      <th></th>\n",
       "      <th></th>\n",
       "      <th></th>\n",
       "    </tr>\n",
       "  </thead>\n",
       "  <tbody>\n",
       "    <tr>\n",
       "      <th>2020-01-23</th>\n",
       "      <td>0.0</td>\n",
       "      <td>0.0</td>\n",
       "      <td>0.0</td>\n",
       "    </tr>\n",
       "    <tr>\n",
       "      <th>2020-01-25</th>\n",
       "      <td>3.0</td>\n",
       "      <td>0.0</td>\n",
       "      <td>0.0</td>\n",
       "    </tr>\n",
       "    <tr>\n",
       "      <th>2020-01-26</th>\n",
       "      <td>1.0</td>\n",
       "      <td>0.0</td>\n",
       "      <td>0.0</td>\n",
       "    </tr>\n",
       "    <tr>\n",
       "      <th>2020-01-27</th>\n",
       "      <td>0.0</td>\n",
       "      <td>0.0</td>\n",
       "      <td>0.0</td>\n",
       "    </tr>\n",
       "    <tr>\n",
       "      <th>2020-01-28</th>\n",
       "      <td>0.0</td>\n",
       "      <td>0.0</td>\n",
       "      <td>0.0</td>\n",
       "    </tr>\n",
       "  </tbody>\n",
       "</table>\n",
       "</div>"
      ],
      "text/plain": [
       "                 Confirmed  Recovered  Deaths\n",
       "ObservationDate                              \n",
       "2020-01-23             0.0        0.0     0.0\n",
       "2020-01-25             3.0        0.0     0.0\n",
       "2020-01-26             1.0        0.0     0.0\n",
       "2020-01-27             0.0        0.0     0.0\n",
       "2020-01-28             0.0        0.0     0.0"
      ]
     },
     "execution_count": 76,
     "metadata": {},
     "output_type": "execute_result"
    }
   ],
   "source": [
    "### BEGIN SOLUTION\n",
    "for name in new_covid_data.columns:\n",
    "        new_covid_data[name] = new_covid_data[name] - new_covid_data[name].shift().fillna(0)\n",
    "### END SOLUTION\n",
    "new_covid_data.head()"
   ]
  },
  {
   "cell_type": "code",
   "execution_count": 77,
   "metadata": {},
   "outputs": [
    {
     "data": {
      "image/png": "[encoded data removed]",
      "text/plain": [
       "<Figure size 792x648 with 3 Axes>"
      ]
     },
     "metadata": {
      "needs_background": "light"
     },
     "output_type": "display_data"
    }
   ],
   "source": [
    "# Visualize Data \n",
    "axes = new_covid_data[new_covid_data.columns].plot(alpha=1.0, linestyle='-', figsize=(11, 9), subplots=True)\n",
    "for ax in axes:\n",
    "    ax.set_ylabel('COVID-19-Malaysia')"
   ]
  },
  {
   "cell_type": "markdown",
   "metadata": {},
   "source": [
    "## Data Splitting\n",
    "In Deep Learning, we will split the data into training and test dataset. The training data is used to train the model where the test data is used to validate the performance of the model."
   ]
  },
  {
   "cell_type": "code",
   "execution_count": 78,
   "metadata": {},
   "outputs": [
    {
     "data": {
      "text/plain": [
       "28"
      ]
     },
     "execution_count": 78,
     "metadata": {},
     "output_type": "execute_result"
    }
   ],
   "source": [
    "split_data_covid = round(len(dataset)*split_ratio)\n",
    "split_data_covid"
   ]
  },
  {
   "cell_type": "code",
   "execution_count": 79,
   "metadata": {},
   "outputs": [
    {
     "name": "stdout",
     "output_type": "stream",
     "text": [
      "train_data_shape\n",
      "(373, 3)\n",
      "test_data_shape\n",
      "(28, 3)\n"
     ]
    }
   ],
   "source": [
    "# Split data by indexing \n",
    "train_data_covid = new_covid_data[:-split_data_covid ]\n",
    "test_data_covid = new_covid_data[-split_data_covid :]\n",
    "train_time_covid = new_covid_data.index[:-split_data_covid ]\n",
    "test_time_covid = new_covid_data.index[-split_data_covid :]\n",
    "\n",
    "print(\"train_data_shape\")\n",
    "print(train_data_covid.shape)\n",
    "print(\"test_data_shape\")\n",
    "print(test_data_covid.shape)"
   ]
  },
  {
   "cell_type": "markdown",
   "metadata": {},
   "source": [
    "## Data Normalization \n",
    "Normalize the data into range of 0 to 1"
   ]
  },
  {
   "cell_type": "code",
   "execution_count": 80,
   "metadata": {},
   "outputs": [
    {
     "name": "stdout",
     "output_type": "stream",
     "text": [
      "train_data_normalized_demand(1119, 1)\n",
      "test_data_normalized_demand(84, 1)\n"
     ]
    }
   ],
   "source": [
    "scaler_covid = MinMaxScaler().fit(train_data_covid.values.reshape(-1,1))\n",
    "train_data_normalized_covid  = scaler_covid.transform(train_data_covid.values.reshape(-1, 1))\n",
    "test_data_normalized_covid = scaler_covid.transform(test_data_covid.values.reshape(-1, 1))\n",
    "print(\"train_data_normalized_demand\"+str(train_data_normalized_covid.shape))\n",
    "print(\"test_data_normalized_demand\"+str(test_data_normalized_covid.shape))"
   ]
  },
  {
   "cell_type": "markdown",
   "metadata": {},
   "source": [
    "Transform back to original data shape cause the MinMaxScaler from sklearn library only can work in 1D dimension"
   ]
  },
  {
   "cell_type": "code",
   "execution_count": 81,
   "metadata": {},
   "outputs": [
    {
     "name": "stdout",
     "output_type": "stream",
     "text": [
      "test_data_normalized(373, 3)\n",
      "test_data_normalized(28, 3)\n"
     ]
    }
   ],
   "source": [
    "# Transform after scaling \n",
    "train_data_normalized_covid = train_data_normalized_covid.reshape(train_data_covid.shape[0],train_data_covid.shape[1])\n",
    "print(\"test_data_normalized\"+str(train_data_normalized_covid.shape))\n",
    "\n",
    "test_data_normalized_covid = test_data_normalized_covid.reshape(test_data_covid.shape[0],test_data_covid.shape[1])\n",
    "print(\"test_data_normalized\"+str(test_data_normalized_covid.shape))"
   ]
  },
  {
   "cell_type": "markdown",
   "metadata": {},
   "source": [
    "## Data Sequencing\n",
    "Sequencing the data by taking in the multivariate series into `x-feature` and `y-label`\n",
    "<img src = \"../../picture/multivariate univariate.png\"  width=\"300\" height  =\"300\" align=\"center\" />"
   ]
  },
  {
   "cell_type": "code",
   "execution_count": 82,
   "metadata": {},
   "outputs": [
    {
     "name": "stdout",
     "output_type": "stream",
     "text": [
      "trainX_demand shape:(354, 20, 2) trainY_demand shape:(354, 1)\n",
      "\n",
      "testX_demand shape:(9, 20, 2) testY_demand shape:(9, 1)\n"
     ]
    }
   ],
   "source": [
    "trainX_covid ,trainY_covid=  data_module.multivariate_univariate_multi_step(train_data_normalized_covid,window_size_covid,n_step_covid)\n",
    "testX_covid , testY_covid = data_module.multivariate_univariate_multi_step(test_data_normalized_covid,window_size_covid,n_step_covid)\n",
    "print(f\"trainX_demand shape:{trainX_covid.shape} trainY_demand shape:{trainY_covid.shape}\\n\")\n",
    "print(f\"testX_demand shape:{testX_covid.shape} testY_demand shape:{testY_covid.shape}\")"
   ]
  },
  {
   "cell_type": "code",
   "execution_count": 83,
   "metadata": {},
   "outputs": [
    {
     "name": "stdout",
     "output_type": "stream",
     "text": [
      "trainY shape:(354, 1, 1)\n",
      "testY shape:(9, 1, 1)\n"
     ]
    }
   ],
   "source": [
    "trainY_covid = trainY_covid.reshape(trainY_covid.shape[0],n_step_covid,1)\n",
    "testY_covid= testY_covid.reshape(testY_covid.shape[0],n_step_covid,1)\n",
    "print(f\"trainY shape:{trainY_covid.shape}\")\n",
    "print(f\"testY shape:{testY_covid.shape}\")"
   ]
  },
  {
   "cell_type": "markdown",
   "metadata": {},
   "source": [
    "### Data Transform\n",
    "Data need to transform from `NumPy` to `PyTorch` tensor before feeding into the model\n",
    "\n",
    ">**Instruction** : <br>\n",
    "Use `data_module.key_assign` to assign the key and `data_module.transform` to transform the data."
   ]
  },
  {
   "cell_type": "code",
   "execution_count": 84,
   "metadata": {},
   "outputs": [],
   "source": [
    "### BEGIN SOLUTION\n",
    "train_data_dict_covid ,test_data_dict_covid = data_module.key_assign(trainingX = trainX_covid  , \n",
    "                       testingX = testX_covid, \n",
    "                       trainingY = trainY_covid, \n",
    "                       testingY = testY_covid)\n",
    "train_data_dict_covid ,test_data_dict_covid = data_module.transform(train_data_dict_covid ,test_data_dict_covid)\n",
    "### END SOLUTION"
   ]
  },
  {
   "cell_type": "code",
   "execution_count": 85,
   "metadata": {},
   "outputs": [
    {
     "name": "stdout",
     "output_type": "stream",
     "text": [
      "train_data_x_feature shape : torch.Size([354, 20, 2])\n",
      "train_data_y_label shape : torch.Size([354, 1, 1])\n",
      "test_data_x_feature shape : torch.Size([9, 20, 2])\n",
      "test_data_y_label shape : torch.Size([9, 1, 1])\n"
     ]
    }
   ],
   "source": [
    "data_module.sanity_check(train_data_dict_covid , test_data_dict_covid)"
   ]
  },
  {
   "cell_type": "markdown",
   "metadata": {},
   "source": [
    "## Data Transpose \n",
    "You are require to transpose the `x-feature` data in a such a way that : <br>\n",
    ">`(batch_size, number_of_features, sequence_length)`.\n",
    "\n",
    ">**Instruction** : <br>\n",
    "Use `transpose` function in `data_module.py` to transpose the suitable input data for CNN model."
   ]
  },
  {
   "cell_type": "code",
   "execution_count": 86,
   "metadata": {},
   "outputs": [],
   "source": [
    "train_data_dict_covid , test_data_dict_covid = data_module.transpose(train_data_dict_covid,\n",
    "                                                                     test_data_dict_covid)"
   ]
  },
  {
   "cell_type": "code",
   "execution_count": 87,
   "metadata": {},
   "outputs": [
    {
     "name": "stdout",
     "output_type": "stream",
     "text": [
      "train_data_x_feature shape : torch.Size([354, 2, 20])\n",
      "train_data_y_label shape : torch.Size([354, 1, 1])\n",
      "test_data_x_feature shape : torch.Size([9, 2, 20])\n",
      "test_data_y_label shape : torch.Size([9, 1, 1])\n"
     ]
    }
   ],
   "source": [
    "data_module.sanity_check(train_data_dict_covid , test_data_dict_covid)"
   ]
  },
  {
   "cell_type": "markdown",
   "metadata": {},
   "source": [
    "## Data Iterator\n",
    "Iterator is created to allow the data to separate into several batches to fasten the training process\n",
    ">**Instruction** : <br>\n",
    "Use `data_module.iterator` to create data iterator."
   ]
  },
  {
   "cell_type": "code",
   "execution_count": 88,
   "metadata": {},
   "outputs": [],
   "source": [
    "### BEGIN SOLUTION\n",
    "train_iter_covid , test_iter_covid = data_module.iterator(train_data_dict_covid ,\n",
    "                                                          test_data_dict_covid,\n",
    "                                                          batch_size = batch_size_covid)\n",
    "### END SOLUTION"
   ]
  },
  {
   "cell_type": "markdown",
   "metadata": {},
   "source": [
    "# Step 2 :  CNN Model Configuration\n",
    "You may choose to use the CNN configuration that have been save in the `deep_learning_module.py` or code it by yourself."
   ]
  },
  {
   "cell_type": "code",
   "execution_count": 89,
   "metadata": {},
   "outputs": [],
   "source": [
    "class CNN(nn.Module):\n",
    "\n",
    "    def __init__(self,n_feature,n_step):\n",
    "        super(CNN, self).__init__()\n",
    "        \n",
    "        self.n_feature = n_feature\n",
    "        self.n_step = n_step\n",
    "\n",
    "        # Conv1d in_channels is base on num time series\n",
    "        # Input:(N,C,Lin) Output : (N,C,Lout)\n",
    "        self.conv1 = nn.Conv1d(in_channels = n_feature, out_channels = 30, kernel_size = 3)\n",
    "        \n",
    "        # For example Input:(N,C,Lin) Output : (N,C,Lout)\n",
    "        self.pool1 = nn.MaxPool1d(kernel_size=2)\n",
    "        \n",
    "        self.conv2 = nn.Conv1d(in_channels = 30, out_channels = 20, kernel_size = 2)\n",
    "        \n",
    "        self.pool2 = nn.MaxPool1d(kernel_size=2)\n",
    "        \n",
    "        self.conv3 = nn.Conv1d(in_channels = 20, out_channels = 10, kernel_size = 2)\n",
    "        \n",
    "        # AdaptiveMaxPool1d use to make sure it always will output  = 1 ,to make sure return the correct batch size \n",
    "        self.pool3 = nn.AdaptiveMaxPool1d(1)\n",
    "        self.fc1 = nn.Linear(10, 5)\n",
    "        self.fc2 = nn.Linear(5,n_step)\n",
    "\n",
    "    def forward(self, x):\n",
    "        x = F.relu(self.conv1(x))\n",
    "        x = self.pool1(x)\n",
    "        x = F.relu(self.conv2(x))\n",
    "        x = self.pool2(x)\n",
    "        x = F.relu(self.conv3(x))\n",
    "        x = self.pool3(x)\n",
    "        x = x.view(-1,10)\n",
    "        x = F.relu(self.fc1(x))\n",
    "        x = self.fc2(x)\n",
    "\n",
    "        return x"
   ]
  },
  {
   "cell_type": "markdown",
   "metadata": {},
   "source": [
    "## Input Model\n",
    "\n",
    ">**Instruction** : <br>\n",
    "Input the model that you have configure , use `Adam` as the optimizer and `MSE` as the loss function"
   ]
  },
  {
   "cell_type": "code",
   "execution_count": 90,
   "metadata": {},
   "outputs": [],
   "source": [
    "# seed\n",
    "torch.manual_seed(123)\n",
    "\n",
    "n_feature_covid = train_data_dict_covid['train_data_x_feature'].shape[1]\n",
    "### BEGIN SOLUTION\n",
    "# Input the attribute need by the model \n",
    "model_covid = CNN(n_feature = n_feature_covid,\n",
    "                  n_step = n_step_covid )\n",
    "\n",
    "### END SOLUTION\n",
    "\n",
    "# Define the optimizer (Here we use Adam as our optimizer)\n",
    "### BEGIN SOLUTION\n",
    "optimizer_covid = torch.optim.Adam(model_covid.parameters(), lr=learning_rate_covid)\n",
    "### END SOLUTION\n",
    "\n",
    "# Define the loss function (Here we use MSE as the loss function)\n",
    "### BEGIN SOLUTION\n",
    "loss_fn_covid = nn.MSELoss()\n",
    "### END SOLUTION"
   ]
  },
  {
   "cell_type": "code",
   "execution_count": 91,
   "metadata": {},
   "outputs": [
    {
     "name": "stdout",
     "output_type": "stream",
     "text": [
      "====================================================\n",
      "        Kernel Shape Output Shape Params Mult-Adds\n",
      "Layer                                             \n",
      "0_conv1   [2, 30, 3]  [5, 30, 18]  210.0     3.24k\n",
      "1_pool1            -   [5, 30, 9]      -         -\n",
      "2_conv2  [30, 20, 2]   [5, 20, 8]  1.22k      9.6k\n",
      "3_pool2            -   [5, 20, 4]      -         -\n",
      "4_conv3  [20, 10, 2]   [5, 10, 3]  410.0      1.2k\n",
      "5_pool3            -   [5, 10, 1]      -         -\n",
      "6_fc1        [10, 5]       [5, 5]   55.0      50.0\n",
      "7_fc2         [5, 1]       [5, 1]    6.0       5.0\n",
      "----------------------------------------------------\n",
      "                       Totals\n",
      "Total params           1.901k\n",
      "Trainable params       1.901k\n",
      "Non-trainable params      0.0\n",
      "Mult-Adds             14.095k\n",
      "====================================================\n",
      "        Kernel Shape Output Shape  Params  Mult-Adds\n",
      "Layer                                               \n",
      "0_conv1   [2, 30, 3]  [5, 30, 18]   210.0     3240.0\n",
      "1_pool1            -   [5, 30, 9]     NaN        NaN\n",
      "2_conv2  [30, 20, 2]   [5, 20, 8]  1220.0     9600.0\n",
      "3_pool2            -   [5, 20, 4]     NaN        NaN\n",
      "4_conv3  [20, 10, 2]   [5, 10, 3]   410.0     1200.0\n",
      "5_pool3            -   [5, 10, 1]     NaN        NaN\n",
      "6_fc1        [10, 5]       [5, 5]    55.0       50.0\n",
      "7_fc2         [5, 1]       [5, 1]     6.0        5.0\n"
     ]
    }
   ],
   "source": [
    "seq_length_covid = train_data_dict_covid['train_data_x_feature'].shape[2]\n",
    "\n",
    "# batch size ,input_dim ,seq_length\n",
    "inputs = torch.zeros((batch_size_covid,\n",
    "                      n_feature_covid ,\n",
    "                      seq_length_covid),dtype=torch.float) \n",
    "\n",
    "print(summary(model_covid,inputs))"
   ]
  },
  {
   "cell_type": "code",
   "execution_count": 92,
   "metadata": {},
   "outputs": [
    {
     "data": {
      "text/plain": [
       "CNN(\n",
       "  (conv1): Conv1d(2, 30, kernel_size=(3,), stride=(1,))\n",
       "  (pool1): MaxPool1d(kernel_size=2, stride=2, padding=0, dilation=1, ceil_mode=False)\n",
       "  (conv2): Conv1d(30, 20, kernel_size=(2,), stride=(1,))\n",
       "  (pool2): MaxPool1d(kernel_size=2, stride=2, padding=0, dilation=1, ceil_mode=False)\n",
       "  (conv3): Conv1d(20, 10, kernel_size=(2,), stride=(1,))\n",
       "  (pool3): AdaptiveMaxPool1d(output_size=1)\n",
       "  (fc1): Linear(in_features=10, out_features=5, bias=True)\n",
       "  (fc2): Linear(in_features=5, out_features=1, bias=True)\n",
       ")"
      ]
     },
     "execution_count": 92,
     "metadata": {},
     "output_type": "execute_result"
    }
   ],
   "source": [
    "torch.manual_seed(123)\n",
    "\n",
    "# Xavier weight intialization\n",
    "def weights_init(m):\n",
    "    if isinstance(m, nn.Conv1d):\n",
    "        nn.init.xavier_uniform_(m.weight.data)\n",
    "        \n",
    "model_covid.apply(weights_init)"
   ]
  },
  {
   "cell_type": "markdown",
   "metadata": {},
   "source": [
    "# Step 3 : Training\n",
    ">**Instruction** : <br>\n",
    "Use `deep_learning_module.training` to train the model."
   ]
  },
  {
   "cell_type": "code",
   "execution_count": 93,
   "metadata": {},
   "outputs": [],
   "source": [
    "#seed\n",
    "torch.manual_seed(123)\n",
    "### BEGIN SOLUTION\n",
    "\n",
    "# Start training \n",
    "train_loss_covid,val_loss_covid = deep_learning_module.training(num_epochs= num_epochs_covid ,\n",
    "                                                    train_iter = train_iter_covid,\n",
    "                                                    test_iter = test_iter_covid ,\n",
    "                                                    optimizer = optimizer_covid,\n",
    "                                                    loss_fn = loss_fn_covid,\n",
    "                                                    model = model_covid)\n",
    "### END SOLUTION"
   ]
  },
  {
   "cell_type": "markdown",
   "metadata": {},
   "source": [
    "# Step 4 : Validation"
   ]
  },
  {
   "cell_type": "code",
   "execution_count": 94,
   "metadata": {
    "scrolled": true
   },
   "outputs": [
    {
     "data": {
      "image/png": "[encoded data removed]",
      "text/plain": [
       "<Figure size 720x432 with 1 Axes>"
      ]
     },
     "metadata": {
      "needs_background": "light"
     },
     "output_type": "display_data"
    },
    {
     "name": "stdout",
     "output_type": "stream",
     "text": [
      "Epoch : 0 , training loss : 0.00028513053371219 , validation loss : 4.041495685669361e-06\n",
      "Epoch : 1 , training loss : 7.424822190191704e-06 , validation loss : 6.746373451783762e-06\n",
      "Epoch : 2 , training loss : 2.0095136900703214e-06 , validation loss : 4.7632415872713966e-05\n",
      "Epoch : 3 , training loss : 5.3554759661670265e-06 , validation loss : 1.6947040926930236e-05\n",
      "Epoch : 4 , training loss : 7.181659838268001e-06 , validation loss : 1.940801212185761e-05\n",
      "Epoch : 5 , training loss : 2.226361088199855e-06 , validation loss : 3.388763959972291e-05\n",
      "Epoch : 6 , training loss : 4.515862922743595e-06 , validation loss : 1.4774674127693288e-05\n",
      "Epoch : 7 , training loss : 2.296815654913541e-06 , validation loss : 3.9101347283576615e-05\n",
      "Epoch : 8 , training loss : 6.954023787121056e-06 , validation loss : 4.4409321465839945e-05\n",
      "Epoch : 9 , training loss : 1.8035543215673255e-06 , validation loss : 4.466901777454445e-05\n",
      "Epoch : 10 , training loss : 4.753293008618384e-06 , validation loss : 3.1102979442544485e-05\n",
      "Epoch : 11 , training loss : 9.637845934838065e-07 , validation loss : 4.158139401826904e-05\n",
      "Epoch : 12 , training loss : 2.885066765789875e-06 , validation loss : 4.287566278233296e-05\n",
      "Epoch : 13 , training loss : 1.550574562849783e-06 , validation loss : 4.589282778195209e-05\n",
      "Epoch : 14 , training loss : 2.416339558749354e-06 , validation loss : 4.7172673576925365e-05\n",
      "Epoch : 15 , training loss : 1.9240352059103557e-06 , validation loss : 4.727708841932731e-05\n",
      "Epoch : 16 , training loss : 2.7531950242306347e-06 , validation loss : 4.8843813500651675e-05\n",
      "Epoch : 17 , training loss : 2.1429621633364675e-06 , validation loss : 4.746879656320541e-05\n",
      "Epoch : 18 , training loss : 3.111559667006171e-06 , validation loss : 5.2139772985052936e-05\n",
      "Epoch : 19 , training loss : 2.4650946722751867e-06 , validation loss : 5.157957922266279e-05\n",
      "Epoch : 20 , training loss : 3.4994934867555678e-06 , validation loss : 5.827717460407358e-05\n",
      "Epoch : 21 , training loss : 2.525847883414848e-06 , validation loss : 5.555025402120211e-05\n",
      "Epoch : 22 , training loss : 3.711413913805392e-06 , validation loss : 6.342582411081012e-05\n",
      "Epoch : 23 , training loss : 2.312773174344305e-06 , validation loss : 5.409656377095315e-05\n",
      "Epoch : 24 , training loss : 5.258358905033264e-06 , validation loss : 6.333732987210776e-05\n",
      "Epoch : 25 , training loss : 1.59268516966367e-06 , validation loss : 5.3688066044641244e-05\n",
      "Epoch : 26 , training loss : 6.7655066252909106e-06 , validation loss : 6.055178568607921e-05\n",
      "Epoch : 27 , training loss : 1.4405111063106644e-06 , validation loss : 5.2019661476757996e-05\n",
      "Epoch : 28 , training loss : 7.4392368107723545e-06 , validation loss : 7.064517073255654e-05\n",
      "Epoch : 29 , training loss : 1.2914073011462942e-06 , validation loss : 3.950450950974805e-05\n",
      "Epoch : 30 , training loss : 5.635995205420652e-06 , validation loss : 5.0611887773912815e-05\n",
      "Epoch : 31 , training loss : 1.3677614203217237e-06 , validation loss : 4.335493192936863e-05\n",
      "Epoch : 32 , training loss : 4.5515964672561595e-06 , validation loss : 5.220513412496075e-05\n",
      "Epoch : 33 , training loss : 1.928647902801157e-06 , validation loss : 6.104918995535829e-05\n",
      "Epoch : 34 , training loss : 3.627678616422712e-06 , validation loss : 7.283435600887363e-05\n",
      "Epoch : 35 , training loss : 2.919937066293835e-06 , validation loss : 7.40514426272259e-05\n",
      "Epoch : 36 , training loss : 3.7671111739025704e-06 , validation loss : 7.885296387636724e-05\n",
      "Epoch : 37 , training loss : 4.3177513923639695e-06 , validation loss : 7.187359127177236e-05\n",
      "Epoch : 38 , training loss : 4.270908675963918e-06 , validation loss : 7.575027322875232e-05\n",
      "Epoch : 39 , training loss : 4.53227154637857e-06 , validation loss : 9.661838541635209e-05\n",
      "Epoch : 40 , training loss : 3.7771069433476233e-06 , validation loss : 0.00010349069472997346\n",
      "Epoch : 41 , training loss : 5.279732302380284e-06 , validation loss : 0.00010288919212244864\n",
      "Epoch : 42 , training loss : 6.302666135860936e-06 , validation loss : 9.211228946999957e-05\n",
      "Epoch : 43 , training loss : 5.031489920636049e-06 , validation loss : 8.49606424000942e-05\n",
      "Epoch : 44 , training loss : 5.928365181942351e-06 , validation loss : 0.00014032152668935142\n",
      "Epoch : 45 , training loss : 5.072573057184758e-06 , validation loss : 0.00013626245426065806\n",
      "Epoch : 46 , training loss : 6.9407060387361135e-06 , validation loss : 0.00012047270057438355\n",
      "Epoch : 47 , training loss : 8.561809561562005e-06 , validation loss : 0.00012411723016864725\n",
      "Epoch : 48 , training loss : 4.3864938714434045e-06 , validation loss : 3.99714376221204e-05\n",
      "Epoch : 49 , training loss : 9.489831055634857e-06 , validation loss : 8.005991953218149e-05\n",
      "Epoch : 50 , training loss : 3.620782433726257e-06 , validation loss : 5.0246847321331086e-05\n",
      "Epoch : 51 , training loss : 1.4211875306552293e-05 , validation loss : 4.705710954213929e-05\n",
      "Epoch : 52 , training loss : 3.0440815356326775e-06 , validation loss : 3.5173987675484066e-05\n",
      "Epoch : 53 , training loss : 5.641820546348428e-06 , validation loss : 1.3631935517979502e-05\n",
      "Epoch : 54 , training loss : 1.468488396470234e-06 , validation loss : 2.533994504321729e-05\n",
      "Epoch : 55 , training loss : 2.7934912734295724e-06 , validation loss : 2.5812527989425387e-05\n",
      "Epoch : 56 , training loss : 2.9693927830222385e-06 , validation loss : 2.568659894879804e-05\n",
      "Epoch : 57 , training loss : 3.1152683453825e-06 , validation loss : 2.4486086759780948e-05\n",
      "Epoch : 58 , training loss : 3.155685026485451e-06 , validation loss : 2.4776775414162937e-05\n",
      "Epoch : 59 , training loss : 3.158418300218347e-06 , validation loss : 2.3069362012190846e-05\n",
      "Epoch : 60 , training loss : 3.2056581938548844e-06 , validation loss : 2.350565854511741e-05\n",
      "Epoch : 61 , training loss : 3.1745104771150796e-06 , validation loss : 2.2493299992573964e-05\n",
      "Epoch : 62 , training loss : 3.284004788086571e-06 , validation loss : 2.1800358404612376e-05\n",
      "Epoch : 63 , training loss : 3.0555191312913944e-06 , validation loss : 1.9433269092890743e-05\n",
      "Epoch : 64 , training loss : 3.2652105944150434e-06 , validation loss : 1.8360850036616386e-05\n",
      "Epoch : 65 , training loss : 2.857309187210224e-06 , validation loss : 1.6715429208286674e-05\n",
      "Epoch : 66 , training loss : 3.2105040265893355e-06 , validation loss : 1.535776704662971e-05\n",
      "Epoch : 67 , training loss : 2.7693506907533534e-06 , validation loss : 1.3489011709882308e-05\n",
      "Epoch : 68 , training loss : 3.100264581478583e-06 , validation loss : 9.336684039832713e-06\n",
      "Epoch : 69 , training loss : 2.5299034326949603e-06 , validation loss : 7.106640724588134e-06\n",
      "Epoch : 70 , training loss : 2.6530218914211746e-06 , validation loss : 4.490594670237948e-06\n",
      "Epoch : 71 , training loss : 2.421717764098097e-06 , validation loss : 2.906605257319623e-06\n",
      "Epoch : 72 , training loss : 2.312355428305665e-06 , validation loss : 1.7545716622812001e-06\n",
      "Epoch : 73 , training loss : 1.9568664931582115e-06 , validation loss : 1.420011762497274e-06\n",
      "Epoch : 74 , training loss : 1.6081167609437496e-06 , validation loss : 8.882358315531746e-07\n",
      "Epoch : 75 , training loss : 9.474473518765528e-07 , validation loss : 1.5395918858808323e-06\n",
      "Epoch : 76 , training loss : 6.283451348812897e-07 , validation loss : 1.176785316500981e-06\n",
      "Epoch : 77 , training loss : 8.153438539668556e-07 , validation loss : 1.9377344971063494e-06\n",
      "Epoch : 78 , training loss : 4.621756147406545e-07 , validation loss : 1.3407346210038263e-06\n",
      "Epoch : 79 , training loss : 5.912030813466601e-07 , validation loss : 2.0402447818115534e-06\n",
      "Epoch : 80 , training loss : 3.547559126153813e-07 , validation loss : 1.9163353499607183e-06\n",
      "Epoch : 81 , training loss : 3.098398041122847e-07 , validation loss : 1.8372520066299735e-06\n",
      "Epoch : 82 , training loss : 2.545413679760942e-07 , validation loss : 1.96009505594298e-06\n",
      "Epoch : 83 , training loss : 2.3319252156631408e-07 , validation loss : 2.4416947326244554e-06\n",
      "Epoch : 84 , training loss : 1.4974250137039447e-07 , validation loss : 1.984169380698909e-06\n",
      "Epoch : 85 , training loss : 1.8411748418640118e-07 , validation loss : 3.1985483575327735e-06\n",
      "Epoch : 86 , training loss : 1.317134987994782e-07 , validation loss : 3.006428136763538e-06\n",
      "Epoch : 87 , training loss : 1.2845877066714796e-07 , validation loss : 3.0084935739675225e-06\n",
      "Epoch : 88 , training loss : 1.3458441400921554e-07 , validation loss : 3.8114065622115354e-06\n",
      "Epoch : 89 , training loss : 1.76878736950042e-07 , validation loss : 3.7383402337177863e-06\n",
      "Epoch : 90 , training loss : 1.8374104643007916e-07 , validation loss : 4.254216593027296e-06\n",
      "Epoch : 91 , training loss : 3.0190260547045893e-07 , validation loss : 3.1312204353323777e-06\n",
      "Epoch : 92 , training loss : 1.7964835911610747e-07 , validation loss : 6.435454603585337e-06\n",
      "Epoch : 93 , training loss : 2.1636599454195026e-07 , validation loss : 3.6681482116465404e-06\n",
      "Epoch : 94 , training loss : 2.401287084897139e-07 , validation loss : 6.136522036589061e-06\n",
      "Epoch : 95 , training loss : 1.3185075822284018e-07 , validation loss : 4.258292594588258e-06\n",
      "Epoch : 96 , training loss : 1.361479606520676e-07 , validation loss : 3.6970976301139067e-06\n",
      "Epoch : 97 , training loss : 2.1451652645620863e-07 , validation loss : 2.8507274691946805e-06\n",
      "Epoch : 98 , training loss : 2.0377810722066082e-07 , validation loss : 2.936653092749313e-06\n",
      "Epoch : 99 , training loss : 1.838537919421189e-07 , validation loss : 2.8619600824539602e-06\n",
      "Epoch : 100 , training loss : 1.4130439816890877e-07 , validation loss : 2.5619844513534595e-06\n",
      "Epoch : 101 , training loss : 2.169264032984661e-07 , validation loss : 2.919013569327136e-06\n",
      "Epoch : 102 , training loss : 1.2166724126984336e-07 , validation loss : 2.174484557650026e-06\n",
      "Epoch : 103 , training loss : 2.11895900700574e-07 , validation loss : 2.198816117824107e-06\n",
      "Epoch : 104 , training loss : 1.284770960221428e-07 , validation loss : 1.6138007797255543e-06\n",
      "Epoch : 105 , training loss : 1.5546879311453208e-07 , validation loss : 1.994860768819409e-06\n",
      "Epoch : 106 , training loss : 1.462816187240144e-07 , validation loss : 1.4510591326042131e-06\n",
      "Epoch : 107 , training loss : 1.5782704443056818e-07 , validation loss : 1.91651234773518e-06\n",
      "Epoch : 108 , training loss : 1.7164380077011284e-07 , validation loss : 4.634019407805883e-06\n",
      "Epoch : 109 , training loss : 4.5535041977311645e-07 , validation loss : 1.003634464622236e-06\n",
      "Epoch : 110 , training loss : 1.394665366698472e-06 , validation loss : 1.0518699077187598e-06\n",
      "Epoch : 111 , training loss : 5.04368741742925e-07 , validation loss : 2.1557985595184923e-06\n",
      "Epoch : 112 , training loss : 3.7518060812077947e-07 , validation loss : 1.63864094954786e-06\n",
      "Epoch : 113 , training loss : 2.400343907505127e-07 , validation loss : 1.9908578047357473e-06\n",
      "Epoch : 114 , training loss : 1.8540878737812775e-07 , validation loss : 1.0972771254576703e-06\n",
      "Epoch : 115 , training loss : 1.6035535293292202e-07 , validation loss : 7.868215637548323e-07\n",
      "Epoch : 116 , training loss : 1.4371603234616484e-07 , validation loss : 6.857841741394724e-07\n",
      "Epoch : 117 , training loss : 1.8525979292720921e-07 , validation loss : 6.57458144814882e-07\n",
      "Epoch : 118 , training loss : 1.5575912620080826e-07 , validation loss : 7.221835605580256e-07\n",
      "Epoch : 119 , training loss : 1.8448446762866036e-07 , validation loss : 8.737710509699859e-07\n",
      "Epoch : 120 , training loss : 1.7620372173883574e-07 , validation loss : 8.831020244946962e-07\n",
      "Epoch : 121 , training loss : 1.3714224228949326e-07 , validation loss : 7.90215772718107e-07\n",
      "Epoch : 122 , training loss : 1.9586764484932231e-07 , validation loss : 7.238594687603634e-07\n",
      "Epoch : 123 , training loss : 1.5213145594481026e-07 , validation loss : 7.919126877216817e-07\n",
      "Epoch : 124 , training loss : 1.4240494008863822e-07 , validation loss : 7.963045997409305e-07\n",
      "Epoch : 125 , training loss : 1.5854256874944746e-07 , validation loss : 8.92856961501012e-07\n",
      "Epoch : 126 , training loss : 1.5110595372758107e-07 , validation loss : 7.395577325850253e-07\n",
      "Epoch : 127 , training loss : 1.4848682690713264e-07 , validation loss : 9.110119031498066e-07\n",
      "Epoch : 128 , training loss : 2.6166346849811367e-07 , validation loss : 8.109959897713755e-07\n",
      "Epoch : 129 , training loss : 2.020372282076419e-07 , validation loss : 8.250723087460049e-07\n",
      "Epoch : 130 , training loss : 2.478374991050498e-07 , validation loss : 6.628134138332421e-07\n",
      "Epoch : 131 , training loss : 2.765583112593669e-07 , validation loss : 8.540358054334421e-07\n",
      "Epoch : 132 , training loss : 2.5751000466253625e-07 , validation loss : 9.27971907711051e-07\n",
      "Epoch : 133 , training loss : 2.495227437147933e-07 , validation loss : 9.468128420545933e-07\n",
      "Epoch : 134 , training loss : 3.337977465143658e-07 , validation loss : 9.225838400400082e-07\n",
      "Epoch : 135 , training loss : 2.635568737376764e-07 , validation loss : 1.0067168558533822e-06\n",
      "Epoch : 136 , training loss : 3.1083765353684245e-07 , validation loss : 8.55698494382927e-07\n",
      "Epoch : 137 , training loss : 3.203399641675565e-07 , validation loss : 1.4153300627286726e-06\n",
      "Epoch : 138 , training loss : 4.0035069969956166e-07 , validation loss : 1.0608314874439707e-06\n",
      "Epoch : 139 , training loss : 5.495725109313516e-07 , validation loss : 1.0794405701138505e-06\n",
      "Epoch : 140 , training loss : 4.998649480831891e-07 , validation loss : 2.345850576704025e-06\n",
      "Epoch : 141 , training loss : 1.3436428079112714e-06 , validation loss : 3.296824919137483e-06\n",
      "Epoch : 142 , training loss : 1.0613197105594426e-06 , validation loss : 4.697479804841957e-06\n",
      "Epoch : 143 , training loss : 2.240549836247023e-06 , validation loss : 1.0418546884870415e-05\n",
      "Epoch : 144 , training loss : 1.3401372946643579e-06 , validation loss : 6.323365293307385e-06\n",
      "Epoch : 145 , training loss : 3.0702557651295586e-07 , validation loss : 2.6891694283727297e-06\n",
      "Epoch : 146 , training loss : 3.418454745108497e-07 , validation loss : 4.716109414301981e-06\n",
      "Epoch : 147 , training loss : 3.411720767687775e-07 , validation loss : 3.063600060057878e-06\n",
      "Epoch : 148 , training loss : 2.848951617488253e-07 , validation loss : 2.0494799931232896e-06\n",
      "Epoch : 149 , training loss : 4.469734280441467e-07 , validation loss : 3.6627795907406835e-07\n"
     ]
    }
   ],
   "source": [
    "# Plot Learning Curve \n",
    "### BEGIN SOLUTION\n",
    "data_module.learning_curve(num_epochs = num_epochs_covid,\n",
    "                           train_loss = train_loss_covid ,\n",
    "                           val_loss = val_loss_covid)\n",
    "\n",
    "### END SOLUTION"
   ]
  },
  {
   "cell_type": "markdown",
   "metadata": {},
   "source": [
    "# Step 5 : Evaluation\n",
    "This section is to inference the model by feeding in testing data and determine the output forecast value and calculate the RMSE. For this exercise, use the function in `data_module.py` to run in each section.\n",
    "\n",
    "It consists of 4 sections :\n",
    "\n",
    "Section 1 : Feed in the train and test data to the model <br>\n",
    "Section 2 : Reshape both to the original data dimension <br> \n",
    "Section 3 : Invert the scaling back to the original data value <br>\n",
    "Section 4 : Calculate the RMSE of train and test data\n",
    "\n",
    ">**Instruction** : <br>\n",
    "Complete each sections with the function in `data_module.py`"
   ]
  },
  {
   "cell_type": "code",
   "execution_count": 95,
   "metadata": {},
   "outputs": [],
   "source": [
    "# Section 1 : Make predictions\n",
    "\n",
    "### BEGIN SOLUTION\n",
    "with torch.no_grad():\n",
    "    y_train_prediction_covid = model_covid(train_data_dict_covid['train_data_x_feature'])\n",
    "    y_test_prediction_covid = model_covid(test_data_dict_covid['test_data_x_feature'])\n",
    "### END SOLUTION"
   ]
  },
  {
   "cell_type": "code",
   "execution_count": 96,
   "metadata": {},
   "outputs": [],
   "source": [
    "# Assign evaluation key\n",
    "### BEGIN SOLUTION\n",
    "prediction_covid , output_covid = data_module.key_assign_evaluation(y_train_prediction_covid,\n",
    "                                                                    y_test_prediction_covid,\n",
    "                                                                    train_data_dict_covid,\n",
    "                                                                    test_data_dict_covid)\n",
    "### END SOLUTION\n",
    "\n",
    "\n",
    "# Section 2 : Reshape data\n",
    "### BEGIN SOLUTION\n",
    "# Squeeze the output dimension\n",
    "output_data_covid = data_module.squeeze_dimension(output_covid)\n",
    "### END SOLUTION"
   ]
  },
  {
   "cell_type": "code",
   "execution_count": 97,
   "metadata": {},
   "outputs": [
    {
     "name": "stdout",
     "output_type": "stream",
     "text": [
      "train_data_output shape : torch.Size([354, 1])\n",
      "test_data_output shape : torch.Size([9, 1])\n"
     ]
    }
   ],
   "source": [
    "data_module.sanity_check(data_1 = output_data_covid,data_2 = {})"
   ]
  },
  {
   "cell_type": "code",
   "execution_count": 98,
   "metadata": {},
   "outputs": [],
   "source": [
    "# Section 3 : Invert the scaling back to orignal data value\n",
    "### BEGIN SOLUTION\n",
    "prediction_covid = data_module.inverse_scaler(prediction_covid,scaler_covid)\n",
    "output_data_covid  = data_module.inverse_scaler(output_data_covid ,scaler_covid)\n",
    "### END SOLUTION"
   ]
  },
  {
   "cell_type": "markdown",
   "metadata": {},
   "source": [
    "`np.rint` is use to round our data to integer since the death cases should be in the integer form"
   ]
  },
  {
   "cell_type": "code",
   "execution_count": 99,
   "metadata": {},
   "outputs": [],
   "source": [
    "prediction_covid['test_data_prediction'] = np.rint(prediction_covid['test_data_prediction'])\n",
    "output_data_covid['test_data_output'] =  np.rint(output_data_covid['test_data_output']) "
   ]
  },
  {
   "cell_type": "code",
   "execution_count": 100,
   "metadata": {},
   "outputs": [
    {
     "name": "stdout",
     "output_type": "stream",
     "text": [
      "Test Data\t\t\tForecast\n",
      "[13.]\t\t[11.]\n",
      "[8.]\t\t[7.]\n",
      "[5.]\t\t[8.]\n",
      "[6.]\t\t[10.]\n",
      "[14.]\t\t[12.]\n",
      "[12.]\t\t[9.]\n",
      "[12.]\t\t[12.]\n",
      "[11.]\t\t[17.]\n",
      "[10.]\t\t[15.]\n"
     ]
    }
   ],
   "source": [
    "# List the forecast value\n",
    "### BEGIN SOLUTION\n",
    "data_module.list_forecast_value(output_data_covid,prediction_covid) \n",
    "### END SOLUTION"
   ]
  },
  {
   "cell_type": "code",
   "execution_count": 101,
   "metadata": {},
   "outputs": [
    {
     "name": "stdout",
     "output_type": "stream",
     "text": [
      "Train Score: 14.44 RMSE\n",
      "Test Score: 3.40 RMSE\n"
     ]
    }
   ],
   "source": [
    "# calculate root mean squared error\n",
    "### BEGIN SOLUTION\n",
    "trainScore_covid,testScore_covid = data_module.rmse(prediction_covid,output_data_covid)\n",
    "print('Train Score: %.2f RMSE' % (trainScore_covid))\n",
    "print('Test Score: %.2f RMSE' % (testScore_covid))\n",
    "### END SOLUTION"
   ]
  },
  {
   "cell_type": "markdown",
   "metadata": {},
   "source": [
    "# Step 6 : Forecast Plot"
   ]
  },
  {
   "cell_type": "code",
   "execution_count": 102,
   "metadata": {},
   "outputs": [
    {
     "data": {
      "image/png": "[encoded data removed]",
      "text/plain": [
       "<Figure size 720x432 with 1 Axes>"
      ]
     },
     "metadata": {
      "needs_background": "light"
     },
     "output_type": "display_data"
    }
   ],
   "source": [
    "data_module.single_step_plot(original_test_data = test_data_covid[\"Deaths\"],\n",
    "                 sequence_test_data = output_data_covid['test_data_output'],\n",
    "                 forecast_data = prediction_covid['test_data_prediction'],\n",
    "                 test_time = test_time_covid,\n",
    "                 window_size = window_size_covid,\n",
    "                 original_plot = True,\n",
    "                 multivariate = True)\n"
   ]
  },
  {
   "cell_type": "markdown",
   "metadata": {},
   "source": [
    "## Summary\n",
    "In this tutorial you should have learned:\n",
    "\n",
    "1. The flow of using CNN to perform multivariate input , univariate output single-step forecasting<br>\n",
    "\n",
    "Congratulations, that concludes this lesson.<br>\n",
    "\n",
    "\n",
    "Please proceed to other notebooks for other types of data in CNN forecasting  <br>\n",
    "\n",
    "1. ~~*[04 - CNN- Univariate - Single-Step]*~~ *Complete*\n",
    "2. ~~*[04 - CNN-Univariate-Multi-Step]*~~*Complete*\n",
    "3. ~~*[04 - CNN-Multivariate-Univariate-Single-Step]*~~*Complete*\n",
    "4. [04 - CNN-Multivariate-Univariate-Multi-Step](./04%20-%20CNN-Multivariate-Univariate-Multi-Step.ipynb)<br>"
   ]
  },
  {
   "cell_type": "markdown",
   "metadata": {},
   "source": [
    "## Reference\n",
    "1. [Deep Learning for Time Series Forecasting (Predict the Future with MLPs,CNNs and LSTMs in Python) , Jason Brownlee](https://machinelearningmastery.com/deep-learning-for-time-series-forecasting/)"
   ]
  }
 ],
 "metadata": {
  "kernelspec": {
   "display_name": "Python 3",
   "language": "python",
   "name": "python3"
  },
  "language_info": {
   "codemirror_mode": {
    "name": "ipython",
    "version": 3
   },
   "file_extension": ".py",
   "mimetype": "text/x-python",
   "name": "python",
   "nbconvert_exporter": "python",
   "pygments_lexer": "ipython3",
   "version": "3.7.9"
  }
 },
 "nbformat": 4,
 "nbformat_minor": 4
}
