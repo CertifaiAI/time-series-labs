{
 "cells": [
  {
   "cell_type": "markdown",
   "metadata": {
    "deletable": false,
    "editable": false
   },
   "source": [
    "![logo](../../picture/license_header_logo.png)\n",
    "> **Copyright (c) 2020-2021 CertifAI Sdn. Bhd.**<br>\n",
    " <br>\n",
    "This program is part of OSRFramework. You can redistribute it and/or modify\n",
    "<br>it under the terms of the GNU Affero General Public License as published by\n",
    "<br>the Free Software Foundation, either version 3 of the License, or\n",
    "<br>(at your option) any later version.\n",
    "<br>\n",
    "<br>This program is distributed in the hope that it will be useful,\n",
    "<br>but WITHOUT ANY WARRANTY; without even the implied warranty of\n",
    "<br>MERCHANTABILITY or FITNESS FOR A PARTICULAR PURPOSE.  See the\n",
    "<br>GNU Affero General Public License for more details.\n",
    "<br>\n",
    "<br>You should have received a copy of the GNU Affero General Public License\n",
    "<br>along with this program.  If not, see <http://www.gnu.org/licenses/>.\n",
    "<br>"
   ]
  },
  {
   "cell_type": "markdown",
   "metadata": {},
   "source": [
    "## Multivariate Input, Univariate Output LSTM, Multistep\n",
    "\n",
    "This tutorial is to demonstrate the process of building an LSTM model for the **Multivariate Input, Univariate Output LSTM, Multistep**. It consists of 2 major parts which are:\n",
    "\n",
    "Part 1 - The Demonstration of Building LSTM using Synthetic data<br>\n",
    "Part 2 - Exercise for building LSTM using COVID-19 Data.<br>\n",
    "\n",
    "\n",
    "## What will we accomplish?\n",
    "First, we will show the steps for building the LSTM :\n",
    "\n",
    "Step 1. Data Preparation (Data Splitting, Data Sequencing, Data Standardization and Batching the Data)<br>\n",
    "Step 2. Model Configuration (Vanilla LSTM, Stacked LSTM, Bidirectional LSTM)<br>\n",
    "Step 3. Train the model<br>\n",
    "Step 4. Validate the model using a graph<br>\n",
    "Step 5. Evaluation Metrics such as MSE<br>\n",
    "Step 6. Plot the forecast result<br>\n",
    "\n",
    "\n",
    "Let's import the package needed."
   ]
  },
  {
   "cell_type": "code",
   "execution_count": 1,
   "metadata": {},
   "outputs": [],
   "source": [
    "# import libary need\n",
    "import numpy as np\n",
    "import pandas as pd\n",
    "import matplotlib.pyplot as plt\n",
    "import torch\n",
    "import torch.nn as nn\n",
    "from torch.utils.data import DataLoader,TensorDataset\n",
    "from sklearn.metrics import mean_squared_error\n",
    "from sklearn.preprocessing import MinMaxScaler, StandardScaler\n",
    "import math\n",
    "from torchsummaryX import summary\n",
    "\n",
    "# To auto load the customise module\n",
    "%load_ext autoreload\n",
    "%autoreload 2\n",
    "import deep_learning_module\n",
    "import data_module"
   ]
  },
  {
   "cell_type": "markdown",
   "metadata": {},
   "source": [
    "## Hyperparameter\n",
    "Define the hyperparameters that needs to be tuned in the model"
   ]
  },
  {
   "cell_type": "code",
   "execution_count": 2,
   "metadata": {},
   "outputs": [],
   "source": [
    "split_ratio = 0.70\n",
    "num_epochs = 300\n",
    "window_size = 4\n",
    "n_step = 2\n",
    "learning_rate = 0.01\n",
    "#seed\n",
    "torch.manual_seed(123)\n",
    "batch_size = 1"
   ]
  },
  {
   "cell_type": "markdown",
   "metadata": {},
   "source": [
    "# Step 1 : Data Preparation\n",
    "We create synthetic data to make sure the model is created correctly and has the ability to perform well in forecasting. <br>\n",
    "\n",
    "1. First, we will create a sequence of data with `np.array`.\n",
    "2. Then, we will assign a date to the sequence of data with `pd.date_range` and store it as a series data by using `pd.Series`."
   ]
  },
  {
   "cell_type": "code",
   "execution_count": 3,
   "metadata": {},
   "outputs": [],
   "source": [
    "#Synthetic Data\n",
    "in_seq1 = np.array([x for x in range(0, 300, 10)])\n",
    "in_seq2 = np.array([x for x in range(5, 305, 10)])\n",
    "out_seq = np.array([in_seq1[i] + in_seq2[i] for i in range(len(in_seq1))])\n",
    "\n",
    "\n",
    "# convert to [rows, columns] structure\n",
    "in_seq1 = in_seq1.reshape((len(in_seq1), 1))\n",
    "in_seq2 = in_seq2.reshape((len(in_seq2), 1))\n",
    "out_seq = out_seq.reshape((len(out_seq), 1))\n",
    "\n",
    "# horizontally stack columns\n",
    "dataset = np.hstack((in_seq1, in_seq2, out_seq))"
   ]
  },
  {
   "cell_type": "code",
   "execution_count": 4,
   "metadata": {},
   "outputs": [
    {
     "data": {
      "text/html": [
       "<div>\n",
       "<style scoped>\n",
       "    .dataframe tbody tr th:only-of-type {\n",
       "        vertical-align: middle;\n",
       "    }\n",
       "\n",
       "    .dataframe tbody tr th {\n",
       "        vertical-align: top;\n",
       "    }\n",
       "\n",
       "    .dataframe thead th {\n",
       "        text-align: right;\n",
       "    }\n",
       "</style>\n",
       "<table border=\"1\" class=\"dataframe\">\n",
       "  <thead>\n",
       "    <tr style=\"text-align: right;\">\n",
       "      <th></th>\n",
       "      <th>in_seq1</th>\n",
       "      <th>in_seq2</th>\n",
       "      <th>out_seq</th>\n",
       "    </tr>\n",
       "    <tr>\n",
       "      <th>Date</th>\n",
       "      <th></th>\n",
       "      <th></th>\n",
       "      <th></th>\n",
       "    </tr>\n",
       "  </thead>\n",
       "  <tbody>\n",
       "    <tr>\n",
       "      <th>2020-01-01</th>\n",
       "      <td>0</td>\n",
       "      <td>5</td>\n",
       "      <td>5</td>\n",
       "    </tr>\n",
       "    <tr>\n",
       "      <th>2020-01-02</th>\n",
       "      <td>10</td>\n",
       "      <td>15</td>\n",
       "      <td>25</td>\n",
       "    </tr>\n",
       "    <tr>\n",
       "      <th>2020-01-03</th>\n",
       "      <td>20</td>\n",
       "      <td>25</td>\n",
       "      <td>45</td>\n",
       "    </tr>\n",
       "    <tr>\n",
       "      <th>2020-01-04</th>\n",
       "      <td>30</td>\n",
       "      <td>35</td>\n",
       "      <td>65</td>\n",
       "    </tr>\n",
       "    <tr>\n",
       "      <th>2020-01-05</th>\n",
       "      <td>40</td>\n",
       "      <td>45</td>\n",
       "      <td>85</td>\n",
       "    </tr>\n",
       "  </tbody>\n",
       "</table>\n",
       "</div>"
      ],
      "text/plain": [
       "            in_seq1  in_seq2  out_seq\n",
       "Date                                 \n",
       "2020-01-01        0        5        5\n",
       "2020-01-02       10       15       25\n",
       "2020-01-03       20       25       45\n",
       "2020-01-04       30       35       65\n",
       "2020-01-05       40       45       85"
      ]
     },
     "execution_count": 4,
     "metadata": {},
     "output_type": "execute_result"
    }
   ],
   "source": [
    "dataset = pd.DataFrame(dataset,columns =[\"in_seq1\",\"in_seq2\",\"out_seq\"],\n",
    "                      index = pd.date_range(\"1/1/2020\",periods=len(dataset),freq='D'))\n",
    "dataset.index.name=\"Date\"\n",
    "dataset.head()"
   ]
  },
  {
   "cell_type": "markdown",
   "metadata": {},
   "source": [
    "## Data Visualization\n",
    "Data visualization is important for us to visualize the patterns of data such as trend and seasonality. Looking at the graph below, it is visible that there is an increasing trend in the data."
   ]
  },
  {
   "cell_type": "code",
   "execution_count": 5,
   "metadata": {},
   "outputs": [
    {
     "data": {
      "text/plain": [
       "Text(0.5, 1.0, 'Synthetic Data')"
      ]
     },
     "execution_count": 5,
     "metadata": {},
     "output_type": "execute_result"
    },
    {
     "data": {
      "image/png": "[encoded data removed]",
      "text/plain": [
       "<Figure size 432x288 with 1 Axes>"
      ]
     },
     "metadata": {
      "needs_background": "light"
     },
     "output_type": "display_data"
    }
   ],
   "source": [
    "dataset.plot()\n",
    "plt.title(\"Synthetic Data\")"
   ]
  },
  {
   "cell_type": "markdown",
   "metadata": {},
   "source": [
    "## Data Splitting\n",
    "In Deep Learning, we often split our data into training and test dataset. The training data is used to train the model whereas the test data is used to validate the performance of the model."
   ]
  },
  {
   "cell_type": "code",
   "execution_count": 6,
   "metadata": {},
   "outputs": [
    {
     "data": {
      "text/plain": [
       "21"
      ]
     },
     "execution_count": 6,
     "metadata": {},
     "output_type": "execute_result"
    }
   ],
   "source": [
    "# Calculate the split ratio \n",
    "split_data = round(len(dataset)*split_ratio)\n",
    "split_data"
   ]
  },
  {
   "cell_type": "code",
   "execution_count": 7,
   "metadata": {},
   "outputs": [
    {
     "name": "stdout",
     "output_type": "stream",
     "text": [
      "train_data_shape\n",
      "(21, 3)\n",
      "test_data_shape\n",
      "(9, 3)\n"
     ]
    }
   ],
   "source": [
    "# Split data by indexing \n",
    "train_data = dataset[:split_data]\n",
    "test_data = dataset[split_data:]\n",
    "train_time = dataset.index[:split_data]\n",
    "test_time = dataset.index[split_data:]\n",
    "print(\"train_data_shape\")\n",
    "print(train_data.shape)\n",
    "print(\"test_data_shape\")\n",
    "print(test_data.shape)"
   ]
  },
  {
   "cell_type": "markdown",
   "metadata": {},
   "source": [
    "## Data Standardization\n",
    "Standardize the data to have zero mean and unit variance in order to make our model converge faster."
   ]
  },
  {
   "cell_type": "code",
   "execution_count": 8,
   "metadata": {},
   "outputs": [
    {
     "name": "stdout",
     "output_type": "stream",
     "text": [
      "train_data_standardized(21, 3)\n",
      "test_data_standardized(9, 3)\n"
     ]
    }
   ],
   "source": [
    "scaler, train_data_standard, test_data_standard = data_module.multi_data_scaler(train_data,test_data,scale_mode = \"Standardize\")\n",
    "print(\"train_data_standardized\"+str(train_data_standard.shape))\n",
    "print(\"test_data_standardized\"+str(test_data_standard.shape))"
   ]
  },
  {
   "cell_type": "markdown",
   "metadata": {},
   "source": [
    "## Data Sequencing\n",
    "Sequencing the data by taking in a multivariate series into feature and label\n",
    "<img src = \"../../picture/multivariate univariate.png\"  width=\"300\" height  =\"300\" align=\"center\" />"
   ]
  },
  {
   "cell_type": "code",
   "execution_count": 9,
   "metadata": {},
   "outputs": [
    {
     "name": "stdout",
     "output_type": "stream",
     "text": [
      "trainX shape:(17, 4, 2) trainY shape:(17, 2)\n",
      "\n",
      "testX shape:(5, 4, 2) testY shape:(5, 2)\n"
     ]
    }
   ],
   "source": [
    "trainX, trainY = data_module.multivariate_univariate_multi_step(train_data_standard,window_size,n_step)\n",
    "testX, testY = data_module.multivariate_univariate_multi_step(test_data_standard,window_size,n_step)\n",
    "\n",
    "\n",
    "print(f\"trainX shape:{trainX.shape} trainY shape:{trainY.shape}\\n\")\n",
    "print(f\"testX shape:{testX.shape} testY shape:{testY.shape}\")"
   ]
  },
  {
   "cell_type": "code",
   "execution_count": 10,
   "metadata": {},
   "outputs": [
    {
     "name": "stdout",
     "output_type": "stream",
     "text": [
      "trainY shape:(17, 2, 1)\n",
      "testY shape:(5, 2, 1)\n"
     ]
    }
   ],
   "source": [
    "trainY = trainY.reshape(trainY.shape[0],n_step,1)\n",
    "testY = testY.reshape(testY.shape[0],n_step,1)\n",
    "print(f\"trainY shape:{trainY.shape}\")\n",
    "print(f\"testY shape:{testY.shape}\")"
   ]
  },
  {
   "cell_type": "markdown",
   "metadata": {},
   "source": [
    "## Data Transformation\n",
    "Data has to be transformed from NumPy to PyTorch tensor before being fed into the model. Furthermore, it is required to perform 3D Data Transformation when we are planning on developing an LSTM model.\n",
    "\n",
    ">**Instruction** : <br>\n",
    "Use `data_module.key_assign` to assign the key and `data_module.transform` to transform the data."
   ]
  },
  {
   "cell_type": "code",
   "execution_count": 11,
   "metadata": {},
   "outputs": [],
   "source": [
    "train_data_dict ,test_data_dict = data_module.key_assign(trainingX = trainX  , \n",
    "                       testingX = testX, \n",
    "                       trainingY = trainY, \n",
    "                       testingY = testY)\n",
    "train_data_dict ,test_data_dict = data_module.transform(train_data_dict ,test_data_dict)"
   ]
  },
  {
   "cell_type": "code",
   "execution_count": 12,
   "metadata": {},
   "outputs": [
    {
     "name": "stdout",
     "output_type": "stream",
     "text": [
      "train_data_x_feature shape : torch.Size([17, 4, 2])\n",
      "train_data_y_label shape : torch.Size([17, 2, 1])\n",
      "test_data_x_feature shape : torch.Size([5, 4, 2])\n",
      "test_data_y_label shape : torch.Size([5, 2, 1])\n"
     ]
    }
   ],
   "source": [
    "data_module.sanity_check(train_data_dict , test_data_dict)"
   ]
  },
  {
   "cell_type": "markdown",
   "metadata": {},
   "source": [
    "## Data Iterator\n",
    "Iterator is created to separate the data into several batches to fasten the training process.\n",
    ">**Instruction** : <br>\n",
    "Use `data_module.iterator` to create data iterator."
   ]
  },
  {
   "cell_type": "code",
   "execution_count": 13,
   "metadata": {},
   "outputs": [],
   "source": [
    "train_iter , test_iter = data_module.iterator(train_data_dict ,test_data_dict,batch_size = batch_size)"
   ]
  },
  {
   "cell_type": "markdown",
   "metadata": {},
   "source": [
    "## Input Model\n",
    "The model should be inputted with all required attributes such as number of input layers, output layers and hidden layers.\n",
    "\n",
    "How to Use :\n",
    "\n",
    "Select one of the model bases in the cell and comment out other models.<br>\n",
    "IF use Vanilla LSTM , set num_layer = 1 and use the model = LSTM()<br>\n",
    "IF use Stacked LSTM , set num_layer more than 1 and use the model = LSTM()<br>\n",
    "IF use Bidirectional LSTM, use the model = BidirectionalLSTM()"
   ]
  },
  {
   "cell_type": "code",
   "execution_count": 14,
   "metadata": {},
   "outputs": [],
   "source": [
    "# Arguments for LSTM model\n",
    "hidden_dim = 32\n",
    "number_of_time_series = trainX.shape[2] \n",
    "\n",
    "# num_layers : 1 for vanilla LSTM , >1 is for stacked LSTM\n",
    "num_layers = 1\n",
    " \n",
    "\n",
    "#Vanilla , Stacked LSTM\n",
    "model = deep_learning_module.LSTM(n_feature = number_of_time_series, \n",
    "                                  hidden_dim = hidden_dim ,\n",
    "                                  num_layers = num_layers , \n",
    "                                  n_step = n_step )\n",
    "\n",
    "#Bidirectional LSTM\n",
    "# model = deep_learning_module.BidirectionalLSTM(n_feature = number_of_time_series, \n",
    "#                                                hidden_dim = hidden_dim ,\n",
    "#                                                num_layers = num_layers , \n",
    "#                                                n_step = n_step)"
   ]
  },
  {
   "cell_type": "markdown",
   "metadata": {},
   "source": [
    "Define MSE as the loss function and use Adam as the model optimizer."
   ]
  },
  {
   "cell_type": "code",
   "execution_count": 15,
   "metadata": {},
   "outputs": [],
   "source": [
    "# Use MSE as loss function \n",
    "loss_fn = torch.nn.MSELoss()\n",
    "\n",
    "# Optimiser\n",
    "optimizer = torch.optim.Adam(model.parameters(), lr=learning_rate)"
   ]
  },
  {
   "cell_type": "code",
   "execution_count": 16,
   "metadata": {},
   "outputs": [
    {
     "name": "stdout",
     "output_type": "stream",
     "text": [
      "===================================================\n",
      "       Kernel Shape Output Shape  Params  Mult-Adds\n",
      "Layer                                              \n",
      "0_lstm            -   [1, 4, 32]    4608       4352\n",
      "1_fc        [32, 2]       [1, 2]      66         64\n",
      "---------------------------------------------------\n",
      "                      Totals\n",
      "Total params            4674\n",
      "Trainable params        4674\n",
      "Non-trainable params       0\n",
      "Mult-Adds               4416\n",
      "===================================================\n",
      "       Kernel Shape Output Shape  Params  Mult-Adds\n",
      "Layer                                              \n",
      "0_lstm            -   [1, 4, 32]    4608       4352\n",
      "1_fc        [32, 2]       [1, 2]      66         64\n"
     ]
    },
    {
     "data": {
      "text/plain": [
       "1"
      ]
     },
     "execution_count": 16,
     "metadata": {},
     "output_type": "execute_result"
    }
   ],
   "source": [
    "# print the summary of the LSTM model\n",
    "inputs = torch.zeros((batch_size,window_size,trainX.shape[2]),dtype=torch.float) # batch size , seq_length , input_dim\n",
    "print(summary(model,inputs))\n",
    "batch_size"
   ]
  },
  {
   "cell_type": "markdown",
   "metadata": {},
   "source": [
    "# Step 3 : Training\n",
    ">**Instruction** : <br>\n",
    "Use `deep_learning_module.training` to train the model."
   ]
  },
  {
   "cell_type": "code",
   "execution_count": 17,
   "metadata": {},
   "outputs": [],
   "source": [
    "#seed\n",
    "torch.manual_seed(123)\n",
    "\n",
    "# Start Training\n",
    "train_loss,val_loss = deep_learning_module.training(num_epochs = num_epochs,\n",
    "                                                    train_iter = train_iter,\n",
    "                                                    test_iter = test_iter,\n",
    "                                                    optimizer = optimizer,\n",
    "                                                    loss_fn = loss_fn,\n",
    "                                                    model = model)"
   ]
  },
  {
   "cell_type": "markdown",
   "metadata": {},
   "source": [
    "# Step 4 : Validation\n",
    "A train loss and val loss is plotted to define how well the data fits into the model."
   ]
  },
  {
   "cell_type": "code",
   "execution_count": 18,
   "metadata": {},
   "outputs": [
    {
     "data": {
      "image/png": "[encoded data removed]",
      "text/plain": [
       "<Figure size 720x432 with 1 Axes>"
      ]
     },
     "metadata": {
      "needs_background": "light"
     },
     "output_type": "display_data"
    },
    {
     "name": "stdout",
     "output_type": "stream",
     "text": [
      "Epoch : 0 , training loss : 0.7184968448298819 , validation loss : 6.532531356811523\n",
      "Epoch : 1 , training loss : 0.8296849243342876 , validation loss : 6.574133396148682\n",
      "Epoch : 2 , training loss : 0.6176418363226249 , validation loss : 5.4194801330566404\n",
      "Epoch : 3 , training loss : 0.45034290570080937 , validation loss : 1.9778761386871337\n",
      "Epoch : 4 , training loss : 0.21098322973600314 , validation loss : 0.25853811800479887\n",
      "Epoch : 5 , training loss : 0.5659901094896829 , validation loss : 1.0919748902320863\n",
      "Epoch : 6 , training loss : 0.20965512373539455 , validation loss : 0.07508319532498717\n",
      "Epoch : 7 , training loss : 0.2357226536842063 , validation loss : 0.029582480224780737\n",
      "Epoch : 8 , training loss : 0.4361646568457432 , validation loss : 1.0406222343444824\n",
      "Epoch : 9 , training loss : 0.10660229063839377 , validation loss : 0.2249377965927124\n",
      "Epoch : 10 , training loss : 0.07573854408612052 , validation loss : 0.6566842675209046\n",
      "Epoch : 11 , training loss : 0.038297978817033305 , validation loss : 0.6729147732257843\n",
      "Epoch : 12 , training loss : 0.07838518519009299 , validation loss : 0.3741795539855957\n",
      "Epoch : 13 , training loss : 0.12243420757380698 , validation loss : 0.05790058337152004\n",
      "Epoch : 14 , training loss : 0.2962287194643389 , validation loss : 0.8149175643920898\n",
      "Epoch : 15 , training loss : 0.09846111808848731 , validation loss : 0.20714572668075562\n",
      "Epoch : 16 , training loss : 0.1066860365544391 , validation loss : 0.6500016510486603\n",
      "Epoch : 17 , training loss : 0.053933294222481304 , validation loss : 0.3858207941055298\n",
      "Epoch : 18 , training loss : 0.13470830955296098 , validation loss : 0.724828588962555\n",
      "Epoch : 19 , training loss : 0.0897124520064715 , validation loss : 0.11591012105345726\n",
      "Epoch : 20 , training loss : 0.08712310246739756 , validation loss : 0.46642744541168213\n",
      "Epoch : 21 , training loss : 0.05332022033262012 , validation loss : 0.21411685645580292\n",
      "Epoch : 22 , training loss : 0.07487911339301397 , validation loss : 0.5475786447525024\n",
      "Epoch : 23 , training loss : 0.05556713573305922 , validation loss : 0.16346774697303773\n",
      "Epoch : 24 , training loss : 0.06647399649270536 , validation loss : 0.4609872102737427\n",
      "Epoch : 25 , training loss : 0.05493308409281513 , validation loss : 0.14395806938409805\n",
      "Epoch : 26 , training loss : 0.056306632413693214 , validation loss : 0.3994868576526642\n",
      "Epoch : 27 , training loss : 0.045615231796332145 , validation loss : 0.1449812613427639\n",
      "Epoch : 28 , training loss : 0.04766170166925911 , validation loss : 0.3782143294811249\n",
      "Epoch : 29 , training loss : 0.04227614271974958 , validation loss : 0.12400715872645378\n",
      "Epoch : 30 , training loss : 0.04455534583094584 , validation loss : 0.3446925938129425\n",
      "Epoch : 31 , training loss : 0.042092572144397045 , validation loss : 0.10257807150483131\n",
      "Epoch : 32 , training loss : 0.04209881968049826 , validation loss : 0.3091186583042145\n",
      "Epoch : 33 , training loss : 0.039389053619850206 , validation loss : 0.0916882649064064\n",
      "Epoch : 34 , training loss : 0.03872078483212082 , validation loss : 0.2843055188655853\n",
      "Epoch : 35 , training loss : 0.03673146151499275 , validation loss : 0.07977120503783226\n",
      "Epoch : 36 , training loss : 0.03656282234484987 , validation loss : 0.2644064277410507\n",
      "Epoch : 37 , training loss : 0.03569645270266954 , validation loss : 0.06714981831610203\n",
      "Epoch : 38 , training loss : 0.03532943914315718 , validation loss : 0.24468538165092468\n",
      "Epoch : 39 , training loss : 0.03471672351417296 , validation loss : 0.058021895959973334\n",
      "Epoch : 40 , training loss : 0.033812041825834006 , validation loss : 0.22680807411670684\n",
      "Epoch : 41 , training loss : 0.033223062808461046 , validation loss : 0.05109662897884846\n",
      "Epoch : 42 , training loss : 0.03215555289267179 , validation loss : 0.21150707453489304\n",
      "Epoch : 43 , training loss : 0.03189963116036618 , validation loss : 0.044636983796954154\n",
      "Epoch : 44 , training loss : 0.030767619281130677 , validation loss : 0.19738611727952957\n",
      "Epoch : 45 , training loss : 0.030858229188358084 , validation loss : 0.03900587894022465\n",
      "Epoch : 46 , training loss : 0.029501097906819162 , validation loss : 0.18383075743913652\n",
      "Epoch : 47 , training loss : 0.029795252211282357 , validation loss : 0.03441858552396297\n",
      "Epoch : 48 , training loss : 0.028209513464175603 , validation loss : 0.1711493566632271\n",
      "Epoch : 49 , training loss : 0.02869569104822243 , validation loss : 0.030452418141067028\n",
      "Epoch : 50 , training loss : 0.02698760649518055 , validation loss : 0.15947287231683732\n",
      "Epoch : 51 , training loss : 0.02769811233669958 , validation loss : 0.026885856222361327\n",
      "Epoch : 52 , training loss : 0.025909549227970487 , validation loss : 0.14867852479219437\n",
      "Epoch : 53 , training loss : 0.026815543540150803 , validation loss : 0.023760114051401614\n",
      "Epoch : 54 , training loss : 0.024945895872352755 , validation loss : 0.13873320966959\n",
      "Epoch : 55 , training loss : 0.025998918764183625 , validation loss : 0.021067565120756627\n",
      "Epoch : 56 , training loss : 0.024067857165766114 , validation loss : 0.1296713188290596\n",
      "Epoch : 57 , training loss : 0.025241749443332937 , validation loss : 0.018733268696814777\n",
      "Epoch : 58 , training loss : 0.023278091102838516 , validation loss : 0.12147308140993118\n",
      "Epoch : 59 , training loss : 0.02455680666710524 , validation loss : 0.016709237545728683\n",
      "Epoch : 60 , training loss : 0.022573741098098895 , validation loss : 0.11406635493040085\n",
      "Epoch : 61 , training loss : 0.023937835919615978 , validation loss : 0.01497200196608901\n",
      "Epoch : 62 , training loss : 0.021937221322920832 , validation loss : 0.10737003833055496\n",
      "Epoch : 63 , training loss : 0.023368352161282125 , validation loss : 0.013490575086325406\n",
      "Epoch : 64 , training loss : 0.021351247395881835 , validation loss : 0.10130588412284851\n",
      "Epoch : 65 , training loss : 0.022837344118777442 , validation loss : 0.01222747815772891\n",
      "Epoch : 66 , training loss : 0.0208051645758507 , validation loss : 0.09579558223485947\n",
      "Epoch : 67 , training loss : 0.02233885944930508 , validation loss : 0.011149041540920734\n",
      "Epoch : 68 , training loss : 0.020290986333480653 , validation loss : 0.09076120555400849\n",
      "Epoch : 69 , training loss : 0.02186702682143625 , validation loss : 0.010227242205291986\n",
      "Epoch : 70 , training loss : 0.019801005693700385 , validation loss : 0.08613276258111\n",
      "Epoch : 71 , training loss : 0.0214154829736799 , validation loss : 0.009437530161812901\n",
      "Epoch : 72 , training loss : 0.019329127999406087 , validation loss : 0.08185128793120384\n",
      "Epoch : 73 , training loss : 0.020979738671003896 , validation loss : 0.008758097048848867\n",
      "Epoch : 74 , training loss : 0.018871914520037964 , validation loss : 0.0778686247766018\n",
      "Epoch : 75 , training loss : 0.020557447747491738 , validation loss : 0.00817073374055326\n",
      "Epoch : 76 , training loss : 0.018427457345430467 , validation loss : 0.07414578273892403\n",
      "Epoch : 77 , training loss : 0.020147053127670112 , validation loss : 0.00766051271930337\n",
      "Epoch : 78 , training loss : 0.01799484047531972 , validation loss : 0.07065270021557808\n",
      "Epoch : 79 , training loss : 0.019747731385423857 , validation loss : 0.007215266302227974\n",
      "Epoch : 80 , training loss : 0.01757373209179872 , validation loss : 0.06736575663089753\n",
      "Epoch : 81 , training loss : 0.01935902052997228 , validation loss : 0.006825044564902782\n",
      "Epoch : 82 , training loss : 0.01716408719520961 , validation loss : 0.06426724642515183\n",
      "Epoch : 83 , training loss : 0.01898067392518415 , validation loss : 0.006481524650007486\n",
      "Epoch : 84 , training loss : 0.01676602815517553 , validation loss : 0.06134287267923355\n",
      "Epoch : 85 , training loss : 0.018612596672028303 , validation loss : 0.006177949905395508\n",
      "Epoch : 86 , training loss : 0.016379450910094687 , validation loss : 0.0585809338837862\n",
      "Epoch : 87 , training loss : 0.01825444374288268 , validation loss : 0.005908461241051555\n",
      "Epoch : 88 , training loss : 0.016003916824154335 , validation loss : 0.05597073994576931\n",
      "Epoch : 89 , training loss : 0.01790552613708903 , validation loss : 0.005668291402980685\n",
      "Epoch : 90 , training loss : 0.015638573243289582 , validation loss : 0.053502129018306734\n",
      "Epoch : 91 , training loss : 0.017564829343053347 , validation loss : 0.005453113745898008\n",
      "Epoch : 92 , training loss : 0.015282183945493992 , validation loss : 0.05116445086896419\n",
      "Epoch : 93 , training loss : 0.017230825909577748 , validation loss : 0.005259313527494669\n",
      "Epoch : 94 , training loss : 0.014932718651834875 , validation loss : 0.04894659742712974\n",
      "Epoch : 95 , training loss : 0.016901321133927387 , validation loss : 0.00508355014026165\n",
      "Epoch : 96 , training loss : 0.014587764655623366 , validation loss : 0.046836039051413536\n",
      "Epoch : 97 , training loss : 0.016573583967435884 , validation loss : 0.004923016531392932\n",
      "Epoch : 98 , training loss : 0.014244015831483173 , validation loss : 0.04481871277093887\n",
      "Epoch : 99 , training loss : 0.016243887873476043 , validation loss : 0.004775103647261858\n",
      "Epoch : 100 , training loss : 0.013897177958022118 , validation loss : 0.04287896081805229\n",
      "Epoch : 101 , training loss : 0.01590725642574184 , validation loss : 0.004637548886239529\n",
      "Epoch : 102 , training loss : 0.013541714580188616 , validation loss : 0.04099810048937798\n",
      "Epoch : 103 , training loss : 0.0155571606626515 , validation loss : 0.004508319962769747\n",
      "Epoch : 104 , training loss : 0.013170466047834934 , validation loss : 0.03915448561310768\n",
      "Epoch : 105 , training loss : 0.015184989110018839 , validation loss : 0.0043856104835867885\n",
      "Epoch : 106 , training loss : 0.01277390632458264 , validation loss : 0.03732135370373726\n",
      "Epoch : 107 , training loss : 0.014778811210656868 , validation loss : 0.004267935361713171\n",
      "Epoch : 108 , training loss : 0.012339111206529196 , validation loss : 0.03546524476259947\n",
      "Epoch : 109 , training loss : 0.014321909607935916 , validation loss : 0.0041541603859514\n",
      "Epoch : 110 , training loss : 0.011848225016472176 , validation loss : 0.03354284986853599\n",
      "Epoch : 111 , training loss : 0.013790420551017365 , validation loss : 0.004043874004855752\n",
      "Epoch : 112 , training loss : 0.011276228274629615 , validation loss : 0.031495889835059646\n",
      "Epoch : 113 , training loss : 0.01314949759227388 , validation loss : 0.003938412945717573\n",
      "Epoch : 114 , training loss : 0.010587764181015218 , validation loss : 0.02924486920237541\n",
      "Epoch : 115 , training loss : 0.012347551031887312 , validation loss : 0.003843093104660511\n",
      "Epoch : 116 , training loss : 0.009733494982142207 , validation loss : 0.026677705720067023\n",
      "Epoch : 117 , training loss : 0.011308573367868495 , validation loss : 0.0037740711122751236\n",
      "Epoch : 118 , training loss : 0.008647880853064796 , validation loss : 0.023636211920529605\n",
      "Epoch : 119 , training loss : 0.009925066845265547 , validation loss : 0.0037780865095555782\n",
      "Epoch : 120 , training loss : 0.007257401167648555 , validation loss : 0.01989751970395446\n",
      "Epoch : 121 , training loss : 0.008069135323881604 , validation loss : 0.003999035013839603\n",
      "Epoch : 122 , training loss : 0.005530146176103218 , validation loss : 0.015176920592784882\n",
      "Epoch : 123 , training loss : 0.005704190071837194 , validation loss : 0.004948319541290403\n",
      "Epoch : 124 , training loss : 0.003673890242145503 , validation loss : 0.009319038642570377\n",
      "Epoch : 125 , training loss : 0.0034962100009365447 , validation loss : 0.008996920951176435\n",
      "Epoch : 126 , training loss : 0.0029303863300489917 , validation loss : 0.0037582325981929897\n",
      "Epoch : 127 , training loss : 0.0060841983448720865 , validation loss : 0.03205578699707985\n",
      "Epoch : 128 , training loss : 0.009635958163177265 , validation loss : 0.005791461793705821\n",
      "Epoch : 129 , training loss : 0.03453899520065855 , validation loss : 0.1658850997686386\n",
      "Epoch : 130 , training loss : 0.04345709104638766 , validation loss : 0.01038760868832469\n",
      "Epoch : 131 , training loss : 0.05764301206149599 , validation loss : 0.14495016038417816\n",
      "Epoch : 132 , training loss : 0.06106728880310103 , validation loss : 0.004845920298248529\n",
      "Epoch : 133 , training loss : 0.02489282678374473 , validation loss : 0.03931700624525547\n",
      "Epoch : 134 , training loss : 0.03216333648956874 , validation loss : 0.0016932671424001455\n",
      "Epoch : 135 , training loss : 0.029292084834784928 , validation loss : 0.04730658382177353\n",
      "Epoch : 136 , training loss : 0.029799868174664238 , validation loss : 0.0016874344437383115\n",
      "Epoch : 137 , training loss : 0.01815786787226577 , validation loss : 0.029735557734966278\n",
      "Epoch : 138 , training loss : 0.015881248177987906 , validation loss : 0.0035712748649530113\n",
      "Epoch : 139 , training loss : 0.010190395926816991 , validation loss : 0.02464366741478443\n",
      "Epoch : 140 , training loss : 0.009695442300974666 , validation loss : 0.003090252820402384\n",
      "Epoch : 141 , training loss : 0.006927303899507986 , validation loss : 0.01625541029497981\n",
      "Epoch : 142 , training loss : 0.006765932139400962 , validation loss : 0.002882681420305744\n",
      "Epoch : 143 , training loss : 0.00466473657981142 , validation loss : 0.00921119232662022\n",
      "Epoch : 144 , training loss : 0.004247937034158574 , validation loss : 0.003917184518650174\n",
      "Epoch : 145 , training loss : 0.0028179452693781488 , validation loss : 0.004152636084472761\n",
      "Epoch : 146 , training loss : 0.0024193543649744242 , validation loss : 0.007415389968082308\n",
      "Epoch : 147 , training loss : 0.0020129995550900383 , validation loss : 0.001686829177197069\n",
      "Epoch : 148 , training loss : 0.003423378338886644 , validation loss : 0.02003484619781375\n",
      "Epoch : 149 , training loss : 0.005069357343018055 , validation loss : 0.004521192703396082\n",
      "Epoch : 150 , training loss : 0.01339253836297704 , validation loss : 0.06133234798908234\n",
      "Epoch : 151 , training loss : 0.02020861256032196 , validation loss : 0.008775628451257945\n",
      "Epoch : 152 , training loss : 0.027110492783215118 , validation loss : 0.07768532186746598\n",
      "Epoch : 153 , training loss : 0.03395221867899904 , validation loss : 0.0017797632375732065\n",
      "Epoch : 154 , training loss : 0.018496963561761625 , validation loss : 0.030355450138449667\n",
      "Epoch : 155 , training loss : 0.016297175861943874 , validation loss : 0.01279171472415328\n",
      "Epoch : 156 , training loss : 0.006998189136324714 , validation loss : 0.023526998609304427\n",
      "Epoch : 157 , training loss : 0.005295195042890555 , validation loss : 0.020212962199002503\n",
      "Epoch : 158 , training loss : 0.0029651190519978305 , validation loss : 0.011105615645647049\n",
      "Epoch : 159 , training loss : 0.002300773781077142 , validation loss : 0.021915008407086135\n",
      "Epoch : 160 , training loss : 0.0022178257728656344 , validation loss : 0.002121501840883866\n",
      "Epoch : 161 , training loss : 0.004475414978942889 , validation loss : 0.035756141692399976\n",
      "Epoch : 162 , training loss : 0.006969924776486176 , validation loss : 0.0035278781782835723\n",
      "Epoch : 163 , training loss : 0.014186650726889424 , validation loss : 0.06736087128520012\n",
      "Epoch : 164 , training loss : 0.020812441632562483 , validation loss : 0.00428769513964653\n",
      "Epoch : 165 , training loss : 0.019777712449842298 , validation loss : 0.04946227446198463\n",
      "Epoch : 166 , training loss : 0.023765422529349427 , validation loss : 0.003977468644734472\n",
      "Epoch : 167 , training loss : 0.010551803193640593 , validation loss : 0.02126857005059719\n",
      "Epoch : 168 , training loss : 0.009003184152120144 , validation loss : 0.02588706389069557\n",
      "Epoch : 169 , training loss : 0.004213058138381765 , validation loss : 0.01057766298763454\n",
      "Epoch : 170 , training loss : 0.003875746215004149 , validation loss : 0.04033989831805229\n",
      "Epoch : 171 , training loss : 0.004046987418619478 , validation loss : 0.0012568007630761712\n",
      "Epoch : 172 , training loss : 0.00929867654271862 , validation loss : 0.05803525224328041\n",
      "Epoch : 173 , training loss : 0.013640640098053743 , validation loss : 0.006764125172048807\n",
      "Epoch : 174 , training loss : 0.01914920860230375 , validation loss : 0.06203790083527565\n",
      "Epoch : 175 , training loss : 0.025829978765453714 , validation loss : 0.0013202306348830462\n",
      "Epoch : 176 , training loss : 0.014320174734875228 , validation loss : 0.021693338919430972\n",
      "Epoch : 177 , training loss : 0.013711204864247359 , validation loss : 0.018423828482627868\n",
      "Epoch : 178 , training loss : 0.005515117071541574 , validation loss : 0.010702974069863558\n",
      "Epoch : 179 , training loss : 0.004537863142425469 , validation loss : 0.04224503338336945\n",
      "Epoch : 180 , training loss : 0.003708141117760319 , validation loss : 0.0011049421736970544\n",
      "Epoch : 181 , training loss : 0.007590511108419913 , validation loss : 0.05255618132650852\n",
      "Epoch : 182 , training loss : 0.010823193588294089 , validation loss : 0.006722087971866131\n",
      "Epoch : 183 , training loss : 0.015898161254453418 , validation loss : 0.05213420763611794\n",
      "Epoch : 184 , training loss : 0.021764982255049022 , validation loss : 0.0015289532835595309\n",
      "Epoch : 185 , training loss : 0.012715602574804934 , validation loss : 0.01761186560615897\n",
      "Epoch : 186 , training loss : 0.012611433639797135 , validation loss : 0.017969673778861762\n",
      "Epoch : 187 , training loss : 0.005166221128089804 , validation loss : 0.00599398366175592\n",
      "Epoch : 188 , training loss : 0.00473369425844794 , validation loss : 0.0449889849871397\n",
      "Epoch : 189 , training loss : 0.004295570525915965 , validation loss : 0.0012906003335956483\n",
      "Epoch : 190 , training loss : 0.009302453696042956 , validation loss : 0.05321554616093636\n",
      "Epoch : 191 , training loss : 0.013272755923989119 , validation loss : 0.008597086183726788\n",
      "Epoch : 192 , training loss : 0.01506071064430029 , validation loss : 0.03615398108959198\n",
      "Epoch : 193 , training loss : 0.019752050694398136 , validation loss : 0.0009695284301415086\n",
      "Epoch : 194 , training loss : 0.009067920645654393 , validation loss : 0.00856580059044063\n",
      "Epoch : 195 , training loss : 0.008087487504834664 , validation loss : 0.02946000751107931\n",
      "Epoch : 196 , training loss : 0.003956609777507016 , validation loss : 0.0010290244972566143\n",
      "Epoch : 197 , training loss : 0.005490849136977512 , validation loss : 0.04807814359664917\n",
      "Epoch : 198 , training loss : 0.006914647802820101 , validation loss : 0.006522352062165737\n",
      "Epoch : 199 , training loss : 0.01265449280018562 , validation loss : 0.04603970311582088\n",
      "Epoch : 200 , training loss : 0.01785617500407919 , validation loss : 0.004195126937702298\n",
      "Epoch : 201 , training loss : 0.012100274934388889 , validation loss : 0.01382626099511981\n",
      "Epoch : 202 , training loss : 0.013039192927274545 , validation loss : 0.0137908436357975\n",
      "Epoch : 203 , training loss : 0.00513276962652419 , validation loss : 0.0020122281966905575\n",
      "Epoch : 204 , training loss : 0.0049270651772316985 , validation loss : 0.044865796342492104\n",
      "Epoch : 205 , training loss : 0.004567720625987824 , validation loss : 0.0035119491396471856\n",
      "Epoch : 206 , training loss : 0.009750589457004988 , validation loss : 0.04686788134276867\n",
      "Epoch : 207 , training loss : 0.013992960719807504 , validation loss : 0.008593721129000188\n",
      "Epoch : 208 , training loss : 0.012507180642013041 , validation loss : 0.019060314819216728\n",
      "Epoch : 209 , training loss : 0.01529665399052379 , validation loss : 0.004901508172042668\n",
      "Epoch : 210 , training loss : 0.006105354923299862 , validation loss : 0.0020582635755999946\n",
      "Epoch : 211 , training loss : 0.005351134131642003 , validation loss : 0.038569774478673935\n",
      "Epoch : 212 , training loss : 0.003828301950467422 , validation loss : 0.002590404520742595\n",
      "Epoch : 213 , training loss : 0.008013327701893799 , validation loss : 0.045415861159563066\n",
      "Epoch : 214 , training loss : 0.011601276749655987 , validation loss : 0.010540289059281348\n",
      "Epoch : 215 , training loss : 0.012213410971713422 , validation loss : 0.021783579140901566\n",
      "Epoch : 216 , training loss : 0.015830375094939134 , validation loss : 0.002015080058481544\n",
      "Epoch : 217 , training loss : 0.006616819769132074 , validation loss : 0.0017663616061327047\n",
      "Epoch : 218 , training loss : 0.005728478232841179 , validation loss : 0.03489790037274361\n",
      "Epoch : 219 , training loss : 0.003617606953947175 , validation loss : 0.0026448982767760753\n",
      "Epoch : 220 , training loss : 0.00734016894677873 , validation loss : 0.043612968921661374\n",
      "Epoch : 221 , training loss : 0.010713679497123796 , validation loss : 0.011297393590211868\n",
      "Epoch : 222 , training loss : 0.011786989692034374 , validation loss : 0.020949887856841088\n",
      "Epoch : 223 , training loss : 0.015447495078232724 , validation loss : 0.001701989010325633\n",
      "Epoch : 224 , training loss : 0.006469971028336123 , validation loss : 0.0011485389888548525\n",
      "Epoch : 225 , training loss : 0.005576637157954632 , validation loss : 0.03480124734342098\n",
      "Epoch : 226 , training loss : 0.00359695207889137 , validation loss : 0.0035636682994663717\n",
      "Epoch : 227 , training loss : 0.007558464664137265 , validation loss : 0.04245450161397457\n",
      "Epoch : 228 , training loss : 0.011188222217991579 , validation loss : 0.011108925566077232\n",
      "Epoch : 229 , training loss : 0.01133219486398636 , validation loss : 0.017139614932239054\n",
      "Epoch : 230 , training loss : 0.014428552720346488 , validation loss : 0.0036819453001953662\n",
      "Epoch : 231 , training loss : 0.005689861732261146 , validation loss : 0.0004732937371500157\n",
      "Epoch : 232 , training loss : 0.004947898740363812 , validation loss : 0.037932255491614345\n",
      "Epoch : 233 , training loss : 0.0038654076291576903 , validation loss : 0.005455324240028858\n",
      "Epoch : 234 , training loss : 0.008626350505069776 , validation loss : 0.04124104082584381\n",
      "Epoch : 235 , training loss : 0.012821985844391962 , validation loss : 0.008541139774024487\n",
      "Epoch : 236 , training loss : 0.010579012445305125 , validation loss : 0.010930928029119968\n",
      "Epoch : 237 , training loss : 0.012293272593631306 , validation loss : 0.010667501948773861\n",
      "Epoch : 238 , training loss : 0.004508354891975293 , validation loss : 0.0003118073744872163\n",
      "Epoch : 239 , training loss : 0.004496487746270278 , validation loss : 0.04303146824240685\n",
      "Epoch : 240 , training loss : 0.00499935624162283 , validation loss : 0.008380267675966025\n",
      "Epoch : 241 , training loss : 0.010260266503718519 , validation loss : 0.0375730887055397\n",
      "Epoch : 242 , training loss : 0.014943244511788875 , validation loss : 0.002699838113039732\n",
      "Epoch : 243 , training loss : 0.009133954205454382 , validation loss : 0.004277613270096481\n",
      "Epoch : 244 , training loss : 0.008905266235267524 , validation loss : 0.024411197006702422\n",
      "Epoch : 245 , training loss : 0.0035321676079868615 , validation loss : 0.0016911320679355412\n",
      "Epoch : 246 , training loss : 0.005330750206827789 , validation loss : 0.046536076813936234\n",
      "Epoch : 247 , training loss : 0.007819804616220234 , validation loss : 0.011541909724473953\n",
      "Epoch : 248 , training loss : 0.011168963154940523 , validation loss : 0.026615628413856028\n",
      "Epoch : 249 , training loss : 0.015329968369127634 , validation loss : 0.0009894326469293447\n",
      "Epoch : 250 , training loss : 0.006594458236898337 , validation loss : 0.0007350236610363936\n",
      "Epoch : 251 , training loss : 0.00546045955749886 , validation loss : 0.03829643316566944\n",
      "Epoch : 252 , training loss : 0.0034507787649464957 , validation loss : 0.0046568125486373905\n",
      "Epoch : 253 , training loss : 0.007971818309563198 , validation loss : 0.04612258672714233\n",
      "Epoch : 254 , training loss : 0.01210390397168607 , validation loss : 0.007798619382083416\n",
      "Epoch : 255 , training loss : 0.009972737361642751 , validation loss : 0.011311662755906582\n",
      "Epoch : 256 , training loss : 0.01123946405170821 , validation loss : 0.016218427754938602\n",
      "Epoch : 257 , training loss : 0.003935454377343002 , validation loss : 0.0007188513787696138\n",
      "Epoch : 258 , training loss : 0.004326399628018194 , validation loss : 0.049559693038463595\n",
      "Epoch : 259 , training loss : 0.005763441525392837 , validation loss : 0.008544431813061238\n",
      "Epoch : 260 , training loss : 0.010568098656007992 , validation loss : 0.03812417611479759\n",
      "Epoch : 261 , training loss : 0.014899650332689121 , validation loss : 0.00047831719130044805\n",
      "Epoch : 262 , training loss : 0.007276834926468676 , validation loss : 0.002236305733822519\n",
      "Epoch : 263 , training loss : 0.006107875374602693 , validation loss : 0.042164423316717145\n",
      "Epoch : 264 , training loss : 0.003218832687707618 , validation loss : 0.0032081167795695365\n",
      "Epoch : 265 , training loss : 0.007284075702687807 , validation loss : 0.056201453506946566\n",
      "Epoch : 266 , training loss : 0.011318936386059623 , validation loss : 0.00702591072767973\n",
      "Epoch : 267 , training loss : 0.009949629476656863 , validation loss : 0.016342887468636037\n",
      "Epoch : 268 , training loss : 0.011325811587619897 , validation loss : 0.02038830881938338\n",
      "Epoch : 269 , training loss : 0.003858864214956103 , validation loss : 0.0008873656741343438\n",
      "Epoch : 270 , training loss : 0.004234966174836326 , validation loss : 0.05969985164701939\n",
      "Epoch : 271 , training loss : 0.005904165682937566 , validation loss : 0.006590198585763573\n",
      "Epoch : 272 , training loss : 0.010633272700622054 , validation loss : 0.0461210809648037\n",
      "Epoch : 273 , training loss : 0.014729148211378796 , validation loss : 0.0027099162769445686\n",
      "Epoch : 274 , training loss : 0.006648901961478473 , validation loss : 0.003261801030021161\n",
      "Epoch : 275 , training loss : 0.00535243288750815 , validation loss : 0.05745748765766621\n",
      "Epoch : 276 , training loss : 0.003345249789109563 , validation loss : 0.0026587237254716454\n",
      "Epoch : 277 , training loss : 0.008408057956116596 , validation loss : 0.07143363282084465\n",
      "Epoch : 278 , training loss : 0.01287500590330298 , validation loss : 0.0026841896469704807\n",
      "Epoch : 279 , training loss : 0.009170159509855747 , validation loss : 0.015542579628527165\n",
      "Epoch : 280 , training loss : 0.009208490454886272 , validation loss : 0.04381042756140232\n",
      "Epoch : 281 , training loss : 0.0032089935677290403 , validation loss : 0.0015888550551608205\n",
      "Epoch : 282 , training loss : 0.005115498457170735 , validation loss : 0.07727907299995422\n",
      "Epoch : 283 , training loss : 0.008208459378104582 , validation loss : 0.0050982978427782655\n",
      "Epoch : 284 , training loss : 0.010586662769235452 , validation loss : 0.04539392590522766\n",
      "Epoch : 285 , training loss : 0.013397747264046784 , validation loss : 0.02059528692625463\n",
      "Epoch : 286 , training loss : 0.004743295645526172 , validation loss : 0.0039119147171732035\n",
      "Epoch : 287 , training loss : 0.0040521945742083895 , validation loss : 0.08140206784009933\n",
      "Epoch : 288 , training loss : 0.0046133599004379525 , validation loss : 0.0029644608264788987\n",
      "Epoch : 289 , training loss : 0.010544810563741895 , validation loss : 0.08422362208366393\n",
      "Epoch : 290 , training loss : 0.014781196087235859 , validation loss : 0.006489030004013329\n",
      "Epoch : 291 , training loss : 0.007098849682199002 , validation loss : 0.011782206845236943\n",
      "Epoch : 292 , training loss : 0.005666688458672177 , validation loss : 0.08895512335002423\n",
      "Epoch : 293 , training loss : 0.003203823450295364 , validation loss : 0.0030834878562018275\n",
      "Epoch : 294 , training loss : 0.008208498495471705 , validation loss : 0.10919868499040604\n",
      "Epoch : 295 , training loss : 0.012597651769122904 , validation loss : 0.0027592586469836534\n",
      "Epoch : 296 , training loss : 0.00900490815494028 , validation loss : 0.029233111906796692\n",
      "Epoch : 297 , training loss : 0.008567377026124364 , validation loss : 0.07603050954639912\n",
      "Epoch : 298 , training loss : 0.0029746057982586484 , validation loss : 0.005374109640251845\n",
      "Epoch : 299 , training loss : 0.0053840084055615444 , validation loss : 0.11647257432341576\n"
     ]
    }
   ],
   "source": [
    "data_module.learning_curve(num_epochs = num_epochs,\n",
    "                           train_loss = train_loss ,\n",
    "                           val_loss = val_loss)"
   ]
  },
  {
   "cell_type": "markdown",
   "metadata": {},
   "source": [
    "# Step 5 : Evaluation\n",
    "This section is to inference the model by feeding in testing data and determining the output forecast value and calculate the RMSE. For this tutorial, we will use the function in `data_module` to run in each section.\n",
    "\n",
    "It consists of 4 sections :\n",
    "\n",
    "Section 1 : Feed in the train and test data to the model <br>\n",
    "Section 2 : Reshape both to the original data dimension <br> \n",
    "Section 3 : Invert the scaling back to the original data value <br>\n",
    "Section 4 : Calculate the RMSE of train and test data"
   ]
  },
  {
   "cell_type": "code",
   "execution_count": 19,
   "metadata": {},
   "outputs": [],
   "source": [
    "# Section 1 : make predictions\n",
    "y_train_prediction = model(train_data_dict['train_data_x_feature'])\n",
    "y_test_prediction = model(test_data_dict['test_data_x_feature'])"
   ]
  },
  {
   "cell_type": "code",
   "execution_count": 20,
   "metadata": {},
   "outputs": [],
   "source": [
    "# Assign evaluation key\n",
    "prediction , output = data_module.key_assign_evaluation(y_train_prediction,\n",
    "    y_test_prediction,\n",
    "    train_data_dict,\n",
    "    test_data_dict)\n",
    "# Squeeze the output dimension\n",
    "output_data = data_module.squeeze_dimension(output)"
   ]
  },
  {
   "cell_type": "code",
   "execution_count": 21,
   "metadata": {},
   "outputs": [
    {
     "name": "stdout",
     "output_type": "stream",
     "text": [
      "train_data_output shape : torch.Size([17, 2])\n",
      "test_data_output shape : torch.Size([5, 2])\n"
     ]
    }
   ],
   "source": [
    "data_module.sanity_check(data_1 = output_data,data_2 = {})"
   ]
  },
  {
   "cell_type": "code",
   "execution_count": 22,
   "metadata": {},
   "outputs": [],
   "source": [
    "# Section 3 : Invert predictions\n",
    "data_scaler = scaler[list(scaler)[-1]]\n",
    "prediction = data_module.inverse_scaler(prediction,data_scaler)\n",
    "output_data  = data_module.inverse_scaler(output_data ,data_scaler)"
   ]
  },
  {
   "cell_type": "code",
   "execution_count": 23,
   "metadata": {},
   "outputs": [
    {
     "name": "stdout",
     "output_type": "stream",
     "text": [
      "train_data_prediction shape : (17, 2)\n",
      "test_data_prediction shape : (5, 2)\n",
      "train_data_output shape : (17, 2)\n",
      "test_data_output shape : (5, 2)\n"
     ]
    }
   ],
   "source": [
    "data_module.sanity_check(data_1 = prediction,data_2 = output_data )"
   ]
  },
  {
   "cell_type": "code",
   "execution_count": 24,
   "metadata": {},
   "outputs": [
    {
     "name": "stdout",
     "output_type": "stream",
     "text": [
      "Test Data\t\t\tForecast\n",
      "[485. 505.]\t\t[460.49533 485.658  ]\n",
      "[505. 525.]\t\t[473.40594 499.755  ]\n",
      "[525. 545.]\t\t[484.41214 511.98923]\n",
      "[545. 565.]\t\t[493.33102 522.13586]\n",
      "[565. 585.]\t\t[500.0985  530.07965]\n"
     ]
    }
   ],
   "source": [
    "# List the forecast value\n",
    "data_module.list_forecast_value(output_data,prediction) "
   ]
  },
  {
   "cell_type": "code",
   "execution_count": 25,
   "metadata": {},
   "outputs": [
    {
     "name": "stdout",
     "output_type": "stream",
     "text": [
      "Train Score: 15.00 RMSE\n",
      "Test Score: 41.33 RMSE\n"
     ]
    }
   ],
   "source": [
    "# Section 4 : Calculate the RMSE of train and test data\n",
    "trainScore,testScore = data_module.rmse(prediction,output_data)\n",
    "print('Train Score: %.2f RMSE' % (trainScore))\n",
    "print('Test Score: %.2f RMSE' % (testScore))"
   ]
  },
  {
   "cell_type": "markdown",
   "metadata": {},
   "source": [
    "# Step 6 : Forecast Plot\n",
    "A similar concept to the forecast plot in multivariate input, univariate output single step, you need to add an extra `test_time[window_size-1:]` and the condition to the function `multivariate = False`. Please refer to [04 - LSTM_Multivariate_Univariate_SingleStep **# Step 6 : Forecast Plot**](./04%20-%20LSTM_Multivariate_Univariate_SingleStep.ipynb) for explanation."
   ]
  },
  {
   "cell_type": "code",
   "execution_count": 26,
   "metadata": {},
   "outputs": [],
   "source": [
    "from matplotlib.lines import Line2D\n",
    "def multi_step_plot(original_test_data,\n",
    "                    after_sequence_test_data ,\n",
    "                    forecast_data,test_time,window_size,\n",
    "                    n_step ,\n",
    "                    details = {},\n",
    "                    original_plot = False,\n",
    "                    multivariate = False):\n",
    "    \n",
    "    \"\"\" \n",
    "    Plot the result of multi-step forecast \n",
    "    \n",
    "    Arguments:\n",
    "    original_test_data -- test data before sequence\n",
    "    after_sequence_test_data -- (dict) output data dictionary\n",
    "    forecast_data -- (dict) prediction data dictionary\n",
    "    test_time -- time index for test data before sequence\n",
    "    window_size -- window size for the data sequence\n",
    "    n_step -- the number of future step , 1 -> single >1 -> multi-step\n",
    "    details -- (dict) details for plot such as \"x-axis\" ,\"y-axis\", \"title\"\n",
    "    original_plot -- (boolean) True ->observe how sliding window (data sequence) take place in the test data\n",
    "    \n",
    "    \"\"\"\n",
    "    \n",
    "    after_sequence_test_data = after_sequence_test_data['test_data_output'] \n",
    "    forecast_data = forecast_data[\"test_data_prediction\"]\n",
    "    \n",
    "    \n",
    "    \n",
    "    # Plot Setting\n",
    "    plt.figure(figsize=(10,6))\n",
    "    plt.xticks(rotation=45)    \n",
    "    \n",
    "    # Store test and forecast data into DataFrame type \n",
    "    column_names = [\"timestep_\" + str(i) for i in range(after_sequence_test_data.shape[1])]\n",
    "    y_test_dataframe = pd.DataFrame(after_sequence_test_data,columns = column_names)\n",
    "    y_test_pred_dataframe =pd.DataFrame(forecast_data,columns = column_names)\n",
    "    \n",
    "    # Create time index for data after sequence\n",
    "    if multivariate:\n",
    "        time_index_after_sequence = test_time[window_size-1:]\n",
    "        \n",
    "    else:\n",
    "        time_index_after_sequence = test_time[window_size:]\n",
    "    \n",
    "    # Test Data plot before sliding window(data sequencing)\n",
    "    if original_plot:\n",
    "        plt.plot(test_time,original_test_data,marker='x',color=\"blue\")\n",
    "\n",
    "    # For loop to plot the data step by step base on time index    \n",
    "    start_idx = 0 \n",
    "    for row in range(len(y_test_dataframe)):\n",
    "        \n",
    "               \n",
    "        # Iterate the time index after sequence\n",
    "        time_index = time_index_after_sequence[start_idx:start_idx+n_step]\n",
    "        \n",
    "        \n",
    "        \n",
    "        # Plot the test data\n",
    "        plt.plot(time_index,y_test_dataframe.iloc[row],color=\"green\",marker='o')\n",
    "        \n",
    "        # Plot the forecast data\n",
    "        plt.plot(time_index,y_test_pred_dataframe.iloc[row],color=\"red\",marker='o')\n",
    "        \n",
    "        # Pointer for time_index_after_sequence\n",
    "        start_idx += 1\n",
    "        \n",
    "    # Customize the legend\n",
    "    custom_lines = [Line2D([0], [0], color=\"green\", lw=4),\n",
    "                Line2D([0], [0], color=\"red\", lw=4),\n",
    "                Line2D([0], [0], color=\"blue\", lw=4)]\n",
    "    plt.legend(custom_lines, ['Test Data After Sequencing', 'Forecast Data', 'Test Data Before Sequencing'])\n",
    "    \n",
    "    # Extra details - Optional function\n",
    "    if details != {}:\n",
    "        plt.xlabel(details[\"x-axis\"])\n",
    "        plt.ylabel(details[\"y-axis\"])\n",
    "        plt.title(details[\"title\"])"
   ]
  },
  {
   "cell_type": "code",
   "execution_count": 27,
   "metadata": {},
   "outputs": [
    {
     "data": {
      "image/png": "[encoded data removed]",
      "text/plain": [
       "<Figure size 720x432 with 1 Axes>"
      ]
     },
     "metadata": {
      "needs_background": "light"
     },
     "output_type": "display_data"
    }
   ],
   "source": [
    "multi_step_plot(original_test_data = test_data[\"out_seq\"],\n",
    "                            after_sequence_test_data = output_data,\n",
    "                            forecast_data = prediction,\n",
    "                            test_time = test_time,\n",
    "                            window_size = window_size,\n",
    "                            n_step = n_step,\n",
    "                            details={},\n",
    "                            original_plot=False,\n",
    "                            multivariate = True)"
   ]
  },
  {
   "cell_type": "markdown",
   "metadata": {},
   "source": [
    "# Part 2 : Exercise for Multivariate Multi-step\n",
    "## Task : Predict total number of death case in COVID-19 Malaysia 3 day in future\n",
    "\n",
    "### Introduction \n",
    "You are given a set of data that contain information about COVID-19 cases worldwide. You are required to perform some data analysis on it and predict the death cases.<br>\n",
    "\n",
    "Please follow the instruction and try to code the exercise. Please feel free to google to find out how to use a particular function in the data exploration part.<br>\n",
    "\n",
    "\n",
    "\n",
    "Data Source : \n",
    "https://www.kaggle.com/sudalairajkumar/novel-corona-virus-2019-dataset"
   ]
  },
  {
   "cell_type": "markdown",
   "metadata": {},
   "source": [
    "## Hyperparameter\n",
    ">**Instruction** : <br>\n",
    "You are required to fill the `None` with a suitable value to make the model converge\n",
    "\n",
    ">**Expected Result** : <br>\n",
    "Train Score <= 10 RMSE<br>\n",
    "Test Score <= 10 RMSE<br>"
   ]
  },
  {
   "cell_type": "code",
   "execution_count": 28,
   "metadata": {},
   "outputs": [
    {
     "data": {
      "text/plain": [
       "<torch._C.Generator at 0x233e7768890>"
      ]
     },
     "execution_count": 28,
     "metadata": {},
     "output_type": "execute_result"
    }
   ],
   "source": [
    "#Hyperameter\n",
    "split_ratio_covid = 0.70\n",
    "num_epochs_covid = 100\n",
    "window_size_covid = 5\n",
    "n_step_covid = 3\n",
    "learning_rate_covid = 0.001\n",
    "batch_size_covid = 5\n",
    "#seed\n",
    "torch.manual_seed(123)"
   ]
  },
  {
   "cell_type": "markdown",
   "metadata": {},
   "source": [
    "# Step 1 : Data Preparation\n",
    "In this tutorial, you will face a complex real-world dataset. You are required to use some of the data exploration technique to help you prepare the data.\n",
    "\n",
    ">**Instruction** : <br>\n",
    "Read the file using `pd.read_csv`<br>\n",
    "Save your data as `cases`<br>\n",
    "Your file path `../../datasets/others/covid_19_data.csv`"
   ]
  },
  {
   "cell_type": "code",
   "execution_count": 29,
   "metadata": {},
   "outputs": [
    {
     "data": {
      "text/html": [
       "<div>\n",
       "<style scoped>\n",
       "    .dataframe tbody tr th:only-of-type {\n",
       "        vertical-align: middle;\n",
       "    }\n",
       "\n",
       "    .dataframe tbody tr th {\n",
       "        vertical-align: top;\n",
       "    }\n",
       "\n",
       "    .dataframe thead th {\n",
       "        text-align: right;\n",
       "    }\n",
       "</style>\n",
       "<table border=\"1\" class=\"dataframe\">\n",
       "  <thead>\n",
       "    <tr style=\"text-align: right;\">\n",
       "      <th></th>\n",
       "      <th>SNo</th>\n",
       "      <th>ObservationDate</th>\n",
       "      <th>Province/State</th>\n",
       "      <th>Country/Region</th>\n",
       "      <th>Last Update</th>\n",
       "      <th>Confirmed</th>\n",
       "      <th>Deaths</th>\n",
       "      <th>Recovered</th>\n",
       "    </tr>\n",
       "  </thead>\n",
       "  <tbody>\n",
       "    <tr>\n",
       "      <th>0</th>\n",
       "      <td>1</td>\n",
       "      <td>01/22/2020</td>\n",
       "      <td>Anhui</td>\n",
       "      <td>Mainland China</td>\n",
       "      <td>1/22/2020 17:00</td>\n",
       "      <td>1.0</td>\n",
       "      <td>0.0</td>\n",
       "      <td>0.0</td>\n",
       "    </tr>\n",
       "    <tr>\n",
       "      <th>1</th>\n",
       "      <td>2</td>\n",
       "      <td>01/22/2020</td>\n",
       "      <td>Beijing</td>\n",
       "      <td>Mainland China</td>\n",
       "      <td>1/22/2020 17:00</td>\n",
       "      <td>14.0</td>\n",
       "      <td>0.0</td>\n",
       "      <td>0.0</td>\n",
       "    </tr>\n",
       "    <tr>\n",
       "      <th>2</th>\n",
       "      <td>3</td>\n",
       "      <td>01/22/2020</td>\n",
       "      <td>Chongqing</td>\n",
       "      <td>Mainland China</td>\n",
       "      <td>1/22/2020 17:00</td>\n",
       "      <td>6.0</td>\n",
       "      <td>0.0</td>\n",
       "      <td>0.0</td>\n",
       "    </tr>\n",
       "    <tr>\n",
       "      <th>3</th>\n",
       "      <td>4</td>\n",
       "      <td>01/22/2020</td>\n",
       "      <td>Fujian</td>\n",
       "      <td>Mainland China</td>\n",
       "      <td>1/22/2020 17:00</td>\n",
       "      <td>1.0</td>\n",
       "      <td>0.0</td>\n",
       "      <td>0.0</td>\n",
       "    </tr>\n",
       "    <tr>\n",
       "      <th>4</th>\n",
       "      <td>5</td>\n",
       "      <td>01/22/2020</td>\n",
       "      <td>Gansu</td>\n",
       "      <td>Mainland China</td>\n",
       "      <td>1/22/2020 17:00</td>\n",
       "      <td>0.0</td>\n",
       "      <td>0.0</td>\n",
       "      <td>0.0</td>\n",
       "    </tr>\n",
       "  </tbody>\n",
       "</table>\n",
       "</div>"
      ],
      "text/plain": [
       "   SNo ObservationDate Province/State  Country/Region      Last Update  \\\n",
       "0    1      01/22/2020          Anhui  Mainland China  1/22/2020 17:00   \n",
       "1    2      01/22/2020        Beijing  Mainland China  1/22/2020 17:00   \n",
       "2    3      01/22/2020      Chongqing  Mainland China  1/22/2020 17:00   \n",
       "3    4      01/22/2020         Fujian  Mainland China  1/22/2020 17:00   \n",
       "4    5      01/22/2020          Gansu  Mainland China  1/22/2020 17:00   \n",
       "\n",
       "   Confirmed  Deaths  Recovered  \n",
       "0        1.0     0.0        0.0  \n",
       "1       14.0     0.0        0.0  \n",
       "2        6.0     0.0        0.0  \n",
       "3        1.0     0.0        0.0  \n",
       "4        0.0     0.0        0.0  "
      ]
     },
     "execution_count": 29,
     "metadata": {},
     "output_type": "execute_result"
    }
   ],
   "source": [
    "### BEGIN SOLUTION\n",
    "cases = pd.read_csv(\"../../datasets/others/covid_19_data.csv\")\n",
    "### END SOLUTION\n",
    "cases.head()"
   ]
  },
  {
   "cell_type": "markdown",
   "metadata": {},
   "source": [
    "As you can see, the data contains info on COVID-19 cases from other countries as well. Hence, you need to slice the COVID-19 info to extract the data relevant to Malaysia.\n",
    "\n",
    ">**Instruction** : <br>\n",
    "Slice the COVID-19 info only for Malaysia. You might need to use `df.loc[]` to help you slice the data.\n",
    "\n",
    ">**Expected Result** :<br>\n",
    "Example of the first 5 rows:\n",
    "\n",
    "---\t|SNo\t|ObservationDate\t|Province/State\t|Country/Region\t|Last Update\t|Confirmed\t|Deaths\t|Recovered\n",
    " ---|---\t|---\t            |---\t        |---\t        |---\t        |---\t    |---\t|---\n",
    "78\t|79\t    |01/23/2020\t|NaN\t|Malaysia\t|1/23/20 |17:00\t|0.0\t|0.0\t|0.0\n",
    "168\t|169\t|01/25/2020\t|NaN\t|Malaysia\t|1/25/20 |17:00\t|3.0\t|0.0\t|0.0\n",
    "214\t|215\t|01/26/2020\t|NaN\t|Malaysia\t|1/26/20 |16:00\t|4.0\t|0.0\t|0.0\n",
    "260\t|261\t|01/27/2020\t|NaN\t|Malaysia\t|1/27/20 |23:59\t|4.0\t|0.0\t|0.0\n",
    "311\t|312\t|01/28/2020\t|NaN\t|Malaysia\t|1/28/20 |23:00\t|4.0\t|0.0\t|0.0"
   ]
  },
  {
   "cell_type": "code",
   "execution_count": 30,
   "metadata": {
    "scrolled": true
   },
   "outputs": [
    {
     "data": {
      "text/plain": [
       "array(['Mainland China', 'Hong Kong', 'Macau', 'Taiwan', 'US', 'Japan',\n",
       "       'Thailand', 'South Korea', 'Singapore', 'Philippines', 'Malaysia',\n",
       "       'Vietnam', 'Australia', 'Mexico', 'Brazil', 'Colombia', 'France',\n",
       "       'Nepal', 'Canada', 'Cambodia', 'Sri Lanka', 'Ivory Coast',\n",
       "       'Germany', 'Finland', 'United Arab Emirates', 'India', 'Italy',\n",
       "       'UK', 'Russia', 'Sweden', 'Spain', 'Belgium', 'Others', 'Egypt',\n",
       "       'Iran', 'Israel', 'Lebanon', 'Iraq', 'Oman', 'Afghanistan',\n",
       "       'Bahrain', 'Kuwait', 'Austria', 'Algeria', 'Croatia',\n",
       "       'Switzerland', 'Pakistan', 'Georgia', 'Greece', 'North Macedonia',\n",
       "       'Norway', 'Romania', 'Denmark', 'Estonia', 'Netherlands',\n",
       "       'San Marino', ' Azerbaijan', 'Belarus', 'Iceland', 'Lithuania',\n",
       "       'New Zealand', 'Nigeria', 'North Ireland', 'Ireland', 'Luxembourg',\n",
       "       'Monaco', 'Qatar', 'Ecuador', 'Azerbaijan', 'Czech Republic',\n",
       "       'Armenia', 'Dominican Republic', 'Indonesia', 'Portugal',\n",
       "       'Andorra', 'Latvia', 'Morocco', 'Saudi Arabia', 'Senegal',\n",
       "       'Argentina', 'Chile', 'Jordan', 'Ukraine', 'Saint Barthelemy',\n",
       "       'Hungary', 'Faroe Islands', 'Gibraltar', 'Liechtenstein', 'Poland',\n",
       "       'Tunisia', 'Palestine', 'Bosnia and Herzegovina', 'Slovenia',\n",
       "       'South Africa', 'Bhutan', 'Cameroon', 'Costa Rica', 'Peru',\n",
       "       'Serbia', 'Slovakia', 'Togo', 'Vatican City', 'French Guiana',\n",
       "       'Malta', 'Martinique', 'Republic of Ireland', 'Bulgaria',\n",
       "       'Maldives', 'Bangladesh', 'Moldova', 'Paraguay', 'Albania',\n",
       "       'Cyprus', 'St. Martin', 'Brunei', 'occupied Palestinian territory',\n",
       "       \"('St. Martin',)\", 'Burkina Faso', 'Channel Islands', 'Holy See',\n",
       "       'Mongolia', 'Panama', 'Bolivia', 'Honduras', 'Congo (Kinshasa)',\n",
       "       'Jamaica', 'Reunion', 'Turkey', 'Cuba', 'Guyana', 'Kazakhstan',\n",
       "       'Cayman Islands', 'Guadeloupe', 'Ethiopia', 'Sudan', 'Guinea',\n",
       "       'Antigua and Barbuda', 'Aruba', 'Kenya', 'Uruguay', 'Ghana',\n",
       "       'Jersey', 'Namibia', 'Seychelles', 'Trinidad and Tobago',\n",
       "       'Venezuela', 'Curacao', 'Eswatini', 'Gabon', 'Guatemala',\n",
       "       'Guernsey', 'Mauritania', 'Rwanda', 'Saint Lucia',\n",
       "       'Saint Vincent and the Grenadines', 'Suriname', 'Kosovo',\n",
       "       'Central African Republic', 'Congo (Brazzaville)',\n",
       "       'Equatorial Guinea', 'Uzbekistan', 'Guam', 'Puerto Rico', 'Benin',\n",
       "       'Greenland', 'Liberia', 'Mayotte', 'Republic of the Congo',\n",
       "       'Somalia', 'Tanzania', 'The Bahamas', 'Barbados', 'Montenegro',\n",
       "       'The Gambia', 'Kyrgyzstan', 'Mauritius', 'Zambia', 'Djibouti',\n",
       "       'Gambia, The', 'Bahamas, The', 'Chad', 'El Salvador', 'Fiji',\n",
       "       'Nicaragua', 'Madagascar', 'Haiti', 'Angola', 'Cabo Verde',\n",
       "       'Niger', 'Papua New Guinea', 'Zimbabwe', 'Cape Verde',\n",
       "       'East Timor', 'Eritrea', 'Uganda', 'Bahamas', 'Dominica', 'Gambia',\n",
       "       'Grenada', 'Mozambique', 'Samoa', 'Syria', 'Timor-Leste', 'Belize',\n",
       "       'Laos', 'Libya', 'Diamond Princess', 'Guinea-Bissau', 'Mali',\n",
       "       'Saint Kitts and Nevis', 'West Bank and Gaza', 'Burma',\n",
       "       'MS Zaandam', 'Botswana', 'Burundi', 'Sierra Leone', 'Malawi',\n",
       "       'South Sudan', 'Sao Tome and Principe', 'Yemen', 'Comoros',\n",
       "       'Tajikistan', 'Lesotho', 'Solomon Islands', 'Marshall Islands',\n",
       "       'Vanuatu', 'Micronesia'], dtype=object)"
      ]
     },
     "execution_count": 30,
     "metadata": {},
     "output_type": "execute_result"
    }
   ],
   "source": [
    "cases[\"Country/Region\"].unique()"
   ]
  },
  {
   "cell_type": "code",
   "execution_count": 31,
   "metadata": {},
   "outputs": [
    {
     "data": {
      "text/html": [
       "<div>\n",
       "<style scoped>\n",
       "    .dataframe tbody tr th:only-of-type {\n",
       "        vertical-align: middle;\n",
       "    }\n",
       "\n",
       "    .dataframe tbody tr th {\n",
       "        vertical-align: top;\n",
       "    }\n",
       "\n",
       "    .dataframe thead th {\n",
       "        text-align: right;\n",
       "    }\n",
       "</style>\n",
       "<table border=\"1\" class=\"dataframe\">\n",
       "  <thead>\n",
       "    <tr style=\"text-align: right;\">\n",
       "      <th></th>\n",
       "      <th>SNo</th>\n",
       "      <th>ObservationDate</th>\n",
       "      <th>Province/State</th>\n",
       "      <th>Country/Region</th>\n",
       "      <th>Last Update</th>\n",
       "      <th>Confirmed</th>\n",
       "      <th>Deaths</th>\n",
       "      <th>Recovered</th>\n",
       "    </tr>\n",
       "  </thead>\n",
       "  <tbody>\n",
       "    <tr>\n",
       "      <th>78</th>\n",
       "      <td>79</td>\n",
       "      <td>01/23/2020</td>\n",
       "      <td>NaN</td>\n",
       "      <td>Malaysia</td>\n",
       "      <td>1/23/20 17:00</td>\n",
       "      <td>0.0</td>\n",
       "      <td>0.0</td>\n",
       "      <td>0.0</td>\n",
       "    </tr>\n",
       "    <tr>\n",
       "      <th>168</th>\n",
       "      <td>169</td>\n",
       "      <td>01/25/2020</td>\n",
       "      <td>NaN</td>\n",
       "      <td>Malaysia</td>\n",
       "      <td>1/25/20 17:00</td>\n",
       "      <td>3.0</td>\n",
       "      <td>0.0</td>\n",
       "      <td>0.0</td>\n",
       "    </tr>\n",
       "    <tr>\n",
       "      <th>214</th>\n",
       "      <td>215</td>\n",
       "      <td>01/26/2020</td>\n",
       "      <td>NaN</td>\n",
       "      <td>Malaysia</td>\n",
       "      <td>1/26/20 16:00</td>\n",
       "      <td>4.0</td>\n",
       "      <td>0.0</td>\n",
       "      <td>0.0</td>\n",
       "    </tr>\n",
       "    <tr>\n",
       "      <th>260</th>\n",
       "      <td>261</td>\n",
       "      <td>01/27/2020</td>\n",
       "      <td>NaN</td>\n",
       "      <td>Malaysia</td>\n",
       "      <td>1/27/20 23:59</td>\n",
       "      <td>4.0</td>\n",
       "      <td>0.0</td>\n",
       "      <td>0.0</td>\n",
       "    </tr>\n",
       "    <tr>\n",
       "      <th>311</th>\n",
       "      <td>312</td>\n",
       "      <td>01/28/2020</td>\n",
       "      <td>NaN</td>\n",
       "      <td>Malaysia</td>\n",
       "      <td>1/28/20 23:00</td>\n",
       "      <td>4.0</td>\n",
       "      <td>0.0</td>\n",
       "      <td>0.0</td>\n",
       "    </tr>\n",
       "  </tbody>\n",
       "</table>\n",
       "</div>"
      ],
      "text/plain": [
       "     SNo ObservationDate Province/State Country/Region    Last Update  \\\n",
       "78    79      01/23/2020            NaN       Malaysia  1/23/20 17:00   \n",
       "168  169      01/25/2020            NaN       Malaysia  1/25/20 17:00   \n",
       "214  215      01/26/2020            NaN       Malaysia  1/26/20 16:00   \n",
       "260  261      01/27/2020            NaN       Malaysia  1/27/20 23:59   \n",
       "311  312      01/28/2020            NaN       Malaysia  1/28/20 23:00   \n",
       "\n",
       "     Confirmed  Deaths  Recovered  \n",
       "78         0.0     0.0        0.0  \n",
       "168        3.0     0.0        0.0  \n",
       "214        4.0     0.0        0.0  \n",
       "260        4.0     0.0        0.0  \n",
       "311        4.0     0.0        0.0  "
      ]
     },
     "execution_count": 31,
     "metadata": {},
     "output_type": "execute_result"
    }
   ],
   "source": [
    "### BEGIN SOLUTION\n",
    "new_covid_data = cases.loc[cases[\"Country/Region\"] == 'Malaysia']\n",
    "new_covid_data.head()\n",
    "### END SOLUTION"
   ]
  },
  {
   "cell_type": "markdown",
   "metadata": {},
   "source": [
    "We need to make sure there is no missing value in our data\n",
    ">**Instruction** : <br>\n",
    "Use `df.isnull().values.any()` to check any missing data in our dataset. `True` is meant there is `NaN` in our dataset<br>\n",
    "Most of the columns does not contain `NaN` except for `Province/State `. This is acceptable for the time being as this column will be dropped later due to its insignificance in our goal.\n",
    "\n",
    ">**Expected Result** :<br>\n",
    "\n",
    "Columns|Status\n",
    "---|---\n",
    "SNo                |False\n",
    "ObservationDate    |False\n",
    "Province/State      |True\n",
    "Country/Region     |False\n",
    "Last Update        |False\n",
    "Confirmed          |False\n",
    "Deaths             |False\n",
    "Recovered          |False\n"
   ]
  },
  {
   "cell_type": "code",
   "execution_count": 32,
   "metadata": {},
   "outputs": [
    {
     "data": {
      "text/plain": [
       "SNo                False\n",
       "ObservationDate    False\n",
       "Province/State      True\n",
       "Country/Region     False\n",
       "Last Update        False\n",
       "Confirmed          False\n",
       "Deaths             False\n",
       "Recovered          False\n",
       "dtype: bool"
      ]
     },
     "execution_count": 32,
     "metadata": {},
     "output_type": "execute_result"
    }
   ],
   "source": [
    "### BEGIN SOLUTION\n",
    "new_covid_data.isnull().any()\n",
    "### END SOLUTION"
   ]
  },
  {
   "cell_type": "markdown",
   "metadata": {},
   "source": [
    ">**Instruction** : <br>\n",
    "Set the `ObservationDate` as the index for the dataset. You are required to convert `ObservationDate` to datetime using `pd.to_datetime()` <br>\n",
    "\n",
    ">**Expected Result** :<br>\n",
    "Example of the first 5 rows:\n",
    "\n",
    "ObservationDate\t|SNo\t|ObservationDate\t|Province/State\t|Country/Region\t|Last Update\t|Confirmed\t|Deaths\t|Recovered\n",
    " ---|---\t|---\t            |---\t        |---\t        |---\t        |---\t    |---\t|---\n",
    "01/23/2020\t|79\t    |01/23/2020\t|NaN\t|Malaysia\t|1/23/20 |17:00\t|0.0\t|0.0\t|0.0\n",
    "01/25/2020\t|169\t|01/25/2020\t|NaN\t|Malaysia\t|1/25/20 |17:00\t|3.0\t|0.0\t|0.0\n",
    "01/26/2020\t|215\t|01/26/2020\t|NaN\t|Malaysia\t|1/26/20 |16:00\t|4.0\t|0.0\t|0.0\n",
    "01/27/2020\t|261\t|01/27/2020\t|NaN\t|Malaysia\t|1/27/20 |23:59\t|4.0\t|0.0\t|0.0\n",
    "01/28/2020\t|312\t|01/28/2020\t|NaN\t|Malaysia\t|1/28/20 |23:00\t|4.0\t|0.0\t|0.0"
   ]
  },
  {
   "cell_type": "code",
   "execution_count": 33,
   "metadata": {},
   "outputs": [
    {
     "data": {
      "text/html": [
       "<div>\n",
       "<style scoped>\n",
       "    .dataframe tbody tr th:only-of-type {\n",
       "        vertical-align: middle;\n",
       "    }\n",
       "\n",
       "    .dataframe tbody tr th {\n",
       "        vertical-align: top;\n",
       "    }\n",
       "\n",
       "    .dataframe thead th {\n",
       "        text-align: right;\n",
       "    }\n",
       "</style>\n",
       "<table border=\"1\" class=\"dataframe\">\n",
       "  <thead>\n",
       "    <tr style=\"text-align: right;\">\n",
       "      <th></th>\n",
       "      <th>SNo</th>\n",
       "      <th>ObservationDate</th>\n",
       "      <th>Province/State</th>\n",
       "      <th>Country/Region</th>\n",
       "      <th>Last Update</th>\n",
       "      <th>Confirmed</th>\n",
       "      <th>Deaths</th>\n",
       "      <th>Recovered</th>\n",
       "    </tr>\n",
       "    <tr>\n",
       "      <th>ObservationDate</th>\n",
       "      <th></th>\n",
       "      <th></th>\n",
       "      <th></th>\n",
       "      <th></th>\n",
       "      <th></th>\n",
       "      <th></th>\n",
       "      <th></th>\n",
       "      <th></th>\n",
       "    </tr>\n",
       "  </thead>\n",
       "  <tbody>\n",
       "    <tr>\n",
       "      <th>2020-01-23</th>\n",
       "      <td>79</td>\n",
       "      <td>01/23/2020</td>\n",
       "      <td>NaN</td>\n",
       "      <td>Malaysia</td>\n",
       "      <td>1/23/20 17:00</td>\n",
       "      <td>0.0</td>\n",
       "      <td>0.0</td>\n",
       "      <td>0.0</td>\n",
       "    </tr>\n",
       "    <tr>\n",
       "      <th>2020-01-25</th>\n",
       "      <td>169</td>\n",
       "      <td>01/25/2020</td>\n",
       "      <td>NaN</td>\n",
       "      <td>Malaysia</td>\n",
       "      <td>1/25/20 17:00</td>\n",
       "      <td>3.0</td>\n",
       "      <td>0.0</td>\n",
       "      <td>0.0</td>\n",
       "    </tr>\n",
       "    <tr>\n",
       "      <th>2020-01-26</th>\n",
       "      <td>215</td>\n",
       "      <td>01/26/2020</td>\n",
       "      <td>NaN</td>\n",
       "      <td>Malaysia</td>\n",
       "      <td>1/26/20 16:00</td>\n",
       "      <td>4.0</td>\n",
       "      <td>0.0</td>\n",
       "      <td>0.0</td>\n",
       "    </tr>\n",
       "    <tr>\n",
       "      <th>2020-01-27</th>\n",
       "      <td>261</td>\n",
       "      <td>01/27/2020</td>\n",
       "      <td>NaN</td>\n",
       "      <td>Malaysia</td>\n",
       "      <td>1/27/20 23:59</td>\n",
       "      <td>4.0</td>\n",
       "      <td>0.0</td>\n",
       "      <td>0.0</td>\n",
       "    </tr>\n",
       "    <tr>\n",
       "      <th>2020-01-28</th>\n",
       "      <td>312</td>\n",
       "      <td>01/28/2020</td>\n",
       "      <td>NaN</td>\n",
       "      <td>Malaysia</td>\n",
       "      <td>1/28/20 23:00</td>\n",
       "      <td>4.0</td>\n",
       "      <td>0.0</td>\n",
       "      <td>0.0</td>\n",
       "    </tr>\n",
       "  </tbody>\n",
       "</table>\n",
       "</div>"
      ],
      "text/plain": [
       "                 SNo ObservationDate Province/State Country/Region  \\\n",
       "ObservationDate                                                      \n",
       "2020-01-23        79      01/23/2020            NaN       Malaysia   \n",
       "2020-01-25       169      01/25/2020            NaN       Malaysia   \n",
       "2020-01-26       215      01/26/2020            NaN       Malaysia   \n",
       "2020-01-27       261      01/27/2020            NaN       Malaysia   \n",
       "2020-01-28       312      01/28/2020            NaN       Malaysia   \n",
       "\n",
       "                   Last Update  Confirmed  Deaths  Recovered  \n",
       "ObservationDate                                               \n",
       "2020-01-23       1/23/20 17:00        0.0     0.0        0.0  \n",
       "2020-01-25       1/25/20 17:00        3.0     0.0        0.0  \n",
       "2020-01-26       1/26/20 16:00        4.0     0.0        0.0  \n",
       "2020-01-27       1/27/20 23:59        4.0     0.0        0.0  \n",
       "2020-01-28       1/28/20 23:00        4.0     0.0        0.0  "
      ]
     },
     "execution_count": 33,
     "metadata": {},
     "output_type": "execute_result"
    }
   ],
   "source": [
    "### BEGIN SOLUTION\n",
    "new_covid_data = new_covid_data.set_index(pd.to_datetime(new_covid_data[\"ObservationDate\"]))\n",
    "### END SOLUTION\n",
    "\n",
    "new_covid_data.head()"
   ]
  },
  {
   "cell_type": "markdown",
   "metadata": {},
   "source": [
    "Columns such as `SNo`, `ObservationDate`, `Province/State`, `Country/Region`, and `Last Update` do not provide any useful information to us. Hence, we need to drop it to make the data look cleaner. \n",
    "\n",
    ">**Instruction** : <br>\n",
    "Use `df.drop` to drop the `columns = ['SNo','ObservationDate','Province/State','Country/Region','Last Update']`<br>\n",
    "\n",
    ">**Expected Result** :<br>\n",
    "\n",
    "ObservationDate\t|Confirmed\t|Deaths\t|Recovered\n",
    "\t---|---|---|---\t\t\n",
    "2020-01-23|\t0.0|\t0.0|\t0.0\n",
    "2020-01-25|\t3.0|\t0.0|\t0.0\n",
    "2020-01-26|\t4.0|\t0.0|\t0.0\n",
    "2020-01-27|\t4.0|\t0.0|\t0.0\n",
    "2020-01-28|\t4.0|    0.0|\t0.0"
   ]
  },
  {
   "cell_type": "code",
   "execution_count": 34,
   "metadata": {},
   "outputs": [
    {
     "data": {
      "text/html": [
       "<div>\n",
       "<style scoped>\n",
       "    .dataframe tbody tr th:only-of-type {\n",
       "        vertical-align: middle;\n",
       "    }\n",
       "\n",
       "    .dataframe tbody tr th {\n",
       "        vertical-align: top;\n",
       "    }\n",
       "\n",
       "    .dataframe thead th {\n",
       "        text-align: right;\n",
       "    }\n",
       "</style>\n",
       "<table border=\"1\" class=\"dataframe\">\n",
       "  <thead>\n",
       "    <tr style=\"text-align: right;\">\n",
       "      <th></th>\n",
       "      <th>Confirmed</th>\n",
       "      <th>Deaths</th>\n",
       "      <th>Recovered</th>\n",
       "    </tr>\n",
       "    <tr>\n",
       "      <th>ObservationDate</th>\n",
       "      <th></th>\n",
       "      <th></th>\n",
       "      <th></th>\n",
       "    </tr>\n",
       "  </thead>\n",
       "  <tbody>\n",
       "    <tr>\n",
       "      <th>2020-01-23</th>\n",
       "      <td>0.0</td>\n",
       "      <td>0.0</td>\n",
       "      <td>0.0</td>\n",
       "    </tr>\n",
       "    <tr>\n",
       "      <th>2020-01-25</th>\n",
       "      <td>3.0</td>\n",
       "      <td>0.0</td>\n",
       "      <td>0.0</td>\n",
       "    </tr>\n",
       "    <tr>\n",
       "      <th>2020-01-26</th>\n",
       "      <td>4.0</td>\n",
       "      <td>0.0</td>\n",
       "      <td>0.0</td>\n",
       "    </tr>\n",
       "    <tr>\n",
       "      <th>2020-01-27</th>\n",
       "      <td>4.0</td>\n",
       "      <td>0.0</td>\n",
       "      <td>0.0</td>\n",
       "    </tr>\n",
       "    <tr>\n",
       "      <th>2020-01-28</th>\n",
       "      <td>4.0</td>\n",
       "      <td>0.0</td>\n",
       "      <td>0.0</td>\n",
       "    </tr>\n",
       "  </tbody>\n",
       "</table>\n",
       "</div>"
      ],
      "text/plain": [
       "                 Confirmed  Deaths  Recovered\n",
       "ObservationDate                              \n",
       "2020-01-23             0.0     0.0        0.0\n",
       "2020-01-25             3.0     0.0        0.0\n",
       "2020-01-26             4.0     0.0        0.0\n",
       "2020-01-27             4.0     0.0        0.0\n",
       "2020-01-28             4.0     0.0        0.0"
      ]
     },
     "execution_count": 34,
     "metadata": {},
     "output_type": "execute_result"
    }
   ],
   "source": [
    "### BEGIN SOLUTION\n",
    "new_covid_data = new_covid_data.drop(columns = ['SNo','ObservationDate','Province/State','Country/Region','Last Update'])\n",
    "### END SOLUTION\n",
    "new_covid_data.head()\n"
   ]
  },
  {
   "cell_type": "markdown",
   "metadata": {},
   "source": [
    "To make the sliding window function work, you need to rearrange the data columns such a way that the targeted forecast series will be the last column of the data\n",
    ">**Instruction** : <br>\n",
    "Rearrage the data column using `df[]`<br>\n",
    "For example : <br>\n",
    "columns = [`A`,`B`,`C`]<br>\n",
    "rearranged columns = [`A`,`C`,`B`]<br>\n",
    "`df =  df[rearrage columns]`\n",
    "\n",
    ">**Expected Result** :<br>\n",
    "\n",
    "ObservationDate|\tConfirmed|\tRecovered|\tDeaths\n",
    "\t\t---|---|---|---\t\n",
    "2020-01-23|\t0.0|\t0.0|\t0.0\n",
    "2020-01-25|\t3.0|\t0.0|\t0.0\n",
    "2020-01-26|\t4.0|\t0.0|\t0.0\n",
    "2020-01-27|\t4.0|\t0.0|\t0.0\n",
    "2020-01-28|\t4.0|\t0.0|\t0.0"
   ]
  },
  {
   "cell_type": "code",
   "execution_count": 35,
   "metadata": {},
   "outputs": [
    {
     "data": {
      "text/html": [
       "<div>\n",
       "<style scoped>\n",
       "    .dataframe tbody tr th:only-of-type {\n",
       "        vertical-align: middle;\n",
       "    }\n",
       "\n",
       "    .dataframe tbody tr th {\n",
       "        vertical-align: top;\n",
       "    }\n",
       "\n",
       "    .dataframe thead th {\n",
       "        text-align: right;\n",
       "    }\n",
       "</style>\n",
       "<table border=\"1\" class=\"dataframe\">\n",
       "  <thead>\n",
       "    <tr style=\"text-align: right;\">\n",
       "      <th></th>\n",
       "      <th>Confirmed</th>\n",
       "      <th>Recovered</th>\n",
       "      <th>Deaths</th>\n",
       "    </tr>\n",
       "    <tr>\n",
       "      <th>ObservationDate</th>\n",
       "      <th></th>\n",
       "      <th></th>\n",
       "      <th></th>\n",
       "    </tr>\n",
       "  </thead>\n",
       "  <tbody>\n",
       "    <tr>\n",
       "      <th>2020-01-23</th>\n",
       "      <td>0.0</td>\n",
       "      <td>0.0</td>\n",
       "      <td>0.0</td>\n",
       "    </tr>\n",
       "    <tr>\n",
       "      <th>2020-01-25</th>\n",
       "      <td>3.0</td>\n",
       "      <td>0.0</td>\n",
       "      <td>0.0</td>\n",
       "    </tr>\n",
       "    <tr>\n",
       "      <th>2020-01-26</th>\n",
       "      <td>4.0</td>\n",
       "      <td>0.0</td>\n",
       "      <td>0.0</td>\n",
       "    </tr>\n",
       "    <tr>\n",
       "      <th>2020-01-27</th>\n",
       "      <td>4.0</td>\n",
       "      <td>0.0</td>\n",
       "      <td>0.0</td>\n",
       "    </tr>\n",
       "    <tr>\n",
       "      <th>2020-01-28</th>\n",
       "      <td>4.0</td>\n",
       "      <td>0.0</td>\n",
       "      <td>0.0</td>\n",
       "    </tr>\n",
       "  </tbody>\n",
       "</table>\n",
       "</div>"
      ],
      "text/plain": [
       "                 Confirmed  Recovered  Deaths\n",
       "ObservationDate                              \n",
       "2020-01-23             0.0        0.0     0.0\n",
       "2020-01-25             3.0        0.0     0.0\n",
       "2020-01-26             4.0        0.0     0.0\n",
       "2020-01-27             4.0        0.0     0.0\n",
       "2020-01-28             4.0        0.0     0.0"
      ]
     },
     "execution_count": 35,
     "metadata": {},
     "output_type": "execute_result"
    }
   ],
   "source": [
    "### BEGIN SOLUTION\n",
    "new_covid_data = new_covid_data[[\"Confirmed\",\"Recovered\",\"Deaths\"]]\n",
    "### END SOLUTION\n",
    "new_covid_data.head()"
   ]
  },
  {
   "cell_type": "markdown",
   "metadata": {},
   "source": [
    "## Data Visualization\n",
    "Data visualization is important for us to visualize the pattern of data such as trend and seasonality. Looking at the graph below, it is seen that there is an increasing trend in data."
   ]
  },
  {
   "cell_type": "code",
   "execution_count": 36,
   "metadata": {},
   "outputs": [
    {
     "data": {
      "image/png": "[encoded data removed]",
      "text/plain": [
       "<Figure size 792x648 with 3 Axes>"
      ]
     },
     "metadata": {
      "needs_background": "light"
     },
     "output_type": "display_data"
    }
   ],
   "source": [
    "# Visualize Data \n",
    "axes = new_covid_data[new_covid_data.columns].plot(alpha=1.0, linestyle='-', figsize=(11, 9), subplots=True)\n",
    "for ax in axes:\n",
    "    ax.set_ylabel('COVID-19-Malaysia')"
   ]
  },
  {
   "cell_type": "markdown",
   "metadata": {},
   "source": [
    "However, the data is in cumulative form. To perform time-series prediction, we need to convert the cumulative cases into daily cases.\n",
    "\n",
    ">**Instruction** : <br>\n",
    "Remove the cumulative count. You might need to use a `For loop` to loop through the data for each columns. Use `new_covid_data[name] - new_covid_data[name].shift().fillna(0)` as the math operation to remove the cumulative.<br>\n",
    "\n",
    ">**Expected Result** :<br>\n",
    "\n",
    "ObservationDate|\tConfirmed|\tRecovered|\tDeaths|\n",
    "\t---|\t---|---|---\t\n",
    "2020-01-23|\t0.0|\t0.0|\t0.0|\n",
    "2020-01-25|\t3.0|\t0.0|\t0.0|\n",
    "2020-01-26|\t1.0|\t0.0|\t0.0|\n",
    "2020-01-27|\t0.0|\t0.0|\t0.0|\n",
    "2020-01-28|\t0.0|\t0.0|\t0.0|"
   ]
  },
  {
   "cell_type": "code",
   "execution_count": 37,
   "metadata": {},
   "outputs": [
    {
     "data": {
      "text/html": [
       "<div>\n",
       "<style scoped>\n",
       "    .dataframe tbody tr th:only-of-type {\n",
       "        vertical-align: middle;\n",
       "    }\n",
       "\n",
       "    .dataframe tbody tr th {\n",
       "        vertical-align: top;\n",
       "    }\n",
       "\n",
       "    .dataframe thead th {\n",
       "        text-align: right;\n",
       "    }\n",
       "</style>\n",
       "<table border=\"1\" class=\"dataframe\">\n",
       "  <thead>\n",
       "    <tr style=\"text-align: right;\">\n",
       "      <th></th>\n",
       "      <th>Confirmed</th>\n",
       "      <th>Recovered</th>\n",
       "      <th>Deaths</th>\n",
       "    </tr>\n",
       "    <tr>\n",
       "      <th>ObservationDate</th>\n",
       "      <th></th>\n",
       "      <th></th>\n",
       "      <th></th>\n",
       "    </tr>\n",
       "  </thead>\n",
       "  <tbody>\n",
       "    <tr>\n",
       "      <th>2020-01-23</th>\n",
       "      <td>0.0</td>\n",
       "      <td>0.0</td>\n",
       "      <td>0.0</td>\n",
       "    </tr>\n",
       "    <tr>\n",
       "      <th>2020-01-25</th>\n",
       "      <td>3.0</td>\n",
       "      <td>0.0</td>\n",
       "      <td>0.0</td>\n",
       "    </tr>\n",
       "    <tr>\n",
       "      <th>2020-01-26</th>\n",
       "      <td>1.0</td>\n",
       "      <td>0.0</td>\n",
       "      <td>0.0</td>\n",
       "    </tr>\n",
       "    <tr>\n",
       "      <th>2020-01-27</th>\n",
       "      <td>0.0</td>\n",
       "      <td>0.0</td>\n",
       "      <td>0.0</td>\n",
       "    </tr>\n",
       "    <tr>\n",
       "      <th>2020-01-28</th>\n",
       "      <td>0.0</td>\n",
       "      <td>0.0</td>\n",
       "      <td>0.0</td>\n",
       "    </tr>\n",
       "  </tbody>\n",
       "</table>\n",
       "</div>"
      ],
      "text/plain": [
       "                 Confirmed  Recovered  Deaths\n",
       "ObservationDate                              \n",
       "2020-01-23             0.0        0.0     0.0\n",
       "2020-01-25             3.0        0.0     0.0\n",
       "2020-01-26             1.0        0.0     0.0\n",
       "2020-01-27             0.0        0.0     0.0\n",
       "2020-01-28             0.0        0.0     0.0"
      ]
     },
     "execution_count": 37,
     "metadata": {},
     "output_type": "execute_result"
    }
   ],
   "source": [
    "### BEGIN SOLUTION\n",
    "for name in new_covid_data.columns:\n",
    "        new_covid_data[name] = new_covid_data[name] - new_covid_data[name].shift().fillna(0)\n",
    "### END SOLUTION\n",
    "new_covid_data.head()"
   ]
  },
  {
   "cell_type": "code",
   "execution_count": 38,
   "metadata": {},
   "outputs": [
    {
     "data": {
      "image/png": "[encoded data removed]",
      "text/plain": [
       "<Figure size 792x648 with 3 Axes>"
      ]
     },
     "metadata": {
      "needs_background": "light"
     },
     "output_type": "display_data"
    }
   ],
   "source": [
    "# Visualize Data \n",
    "axes = new_covid_data[new_covid_data.columns].plot(alpha=1.0, linestyle='-', figsize=(11, 9), subplots=True)\n",
    "for ax in axes:\n",
    "    ax.set_ylabel('COVID-19-Malaysia')"
   ]
  },
  {
   "cell_type": "markdown",
   "metadata": {},
   "source": [
    "## Data Splitting\n",
    "In Deep Learning, we will split the data into training and test dataset. The training data is used to train the model where the test data is used to validate the performance of the model."
   ]
  },
  {
   "cell_type": "code",
   "execution_count": 39,
   "metadata": {},
   "outputs": [
    {
     "data": {
      "text/plain": [
       "21"
      ]
     },
     "execution_count": 39,
     "metadata": {},
     "output_type": "execute_result"
    }
   ],
   "source": [
    "split_data_covid = round(len(dataset)*split_ratio)\n",
    "split_data_covid"
   ]
  },
  {
   "cell_type": "code",
   "execution_count": 40,
   "metadata": {},
   "outputs": [
    {
     "name": "stdout",
     "output_type": "stream",
     "text": [
      "train_data_shape\n",
      "(380, 3)\n",
      "test_data_shape\n",
      "(21, 3)\n"
     ]
    }
   ],
   "source": [
    "# Split data by indexing \n",
    "train_data_covid = new_covid_data[:-split_data_covid ]\n",
    "test_data_covid = new_covid_data[-split_data_covid :]\n",
    "train_time_covid = new_covid_data.index[:-split_data_covid ]\n",
    "test_time_covid = new_covid_data.index[-split_data_covid :]\n",
    "\n",
    "print(\"train_data_shape\")\n",
    "print(train_data_covid.shape)\n",
    "print(\"test_data_shape\")\n",
    "print(test_data_covid.shape)"
   ]
  },
  {
   "cell_type": "markdown",
   "metadata": {},
   "source": [
    "## Data Normalization \n",
    "Normalize the data into a range of 0 to 1"
   ]
  },
  {
   "cell_type": "code",
   "execution_count": 41,
   "metadata": {},
   "outputs": [
    {
     "name": "stdout",
     "output_type": "stream",
     "text": [
      "train_data_normalized_demand(380, 3)\n",
      "test_data_normalized_demand(21, 3)\n"
     ]
    }
   ],
   "source": [
    "scaler_covid,train_data_normalized_covid,test_data_normalized_covid = data_module.multi_data_scaler(train_data_covid,\n",
    "                                                                                         test_data_covid,\n",
    "                                                                                         scale_mode = \"Normalize\")\n",
    "print(\"train_data_normalized_demand\"+str(train_data_normalized_covid.shape))\n",
    "print(\"test_data_normalized_demand\"+str(test_data_normalized_covid.shape))"
   ]
  },
  {
   "cell_type": "markdown",
   "metadata": {},
   "source": [
    "## Data Sequencing\n",
    "Sequencing the data by taking in the multivariate series into feature and label\n",
    "<img src = \"../../picture/multivariate univariate.png\"  width=\"300\" height  =\"300\" align=\"center\" />"
   ]
  },
  {
   "cell_type": "code",
   "execution_count": 42,
   "metadata": {},
   "outputs": [
    {
     "name": "stdout",
     "output_type": "stream",
     "text": [
      "trainX_demand shape:(374, 5, 2) trainY_demand shape:(374, 3)\n",
      "\n",
      "testX_demand shape:(15, 5, 2) testY_demand shape:(15, 3)\n"
     ]
    }
   ],
   "source": [
    "trainX_covid ,trainY_covid=  data_module.multivariate_univariate_multi_step(train_data_normalized_covid,window_size_covid,n_step_covid)\n",
    "testX_covid , testY_covid = data_module.multivariate_univariate_multi_step(test_data_normalized_covid,window_size_covid,n_step_covid)\n",
    "print(f\"trainX_demand shape:{trainX_covid.shape} trainY_demand shape:{trainY_covid.shape}\\n\")\n",
    "print(f\"testX_demand shape:{testX_covid.shape} testY_demand shape:{testY_covid.shape}\")"
   ]
  },
  {
   "cell_type": "code",
   "execution_count": 43,
   "metadata": {},
   "outputs": [
    {
     "name": "stdout",
     "output_type": "stream",
     "text": [
      "trainY shape:(374, 3, 1)\n",
      "testY shape:(15, 3, 1)\n"
     ]
    }
   ],
   "source": [
    "trainY_covid = trainY_covid.reshape(trainY_covid.shape[0],n_step_covid,1)\n",
    "testY_covid= testY_covid.reshape(testY_covid.shape[0],n_step_covid,1)\n",
    "print(f\"trainY shape:{trainY_covid.shape}\")\n",
    "print(f\"testY shape:{testY_covid.shape}\")"
   ]
  },
  {
   "cell_type": "markdown",
   "metadata": {},
   "source": [
    "## Data Transformation\n",
    "Data has to be transformed from NumPy to PyTorch tensor before being fed into the model. Furthermore, it is required to perform 3D Data Transformation when we are planning on developing an LSTM model.\n",
    "\n",
    ">**Instruction** : <br>\n",
    "Use `data_module.key_assign` to assign the key and `data_module.transform` to transform the data."
   ]
  },
  {
   "cell_type": "code",
   "execution_count": 44,
   "metadata": {},
   "outputs": [],
   "source": [
    "### BEGIN SOLUTION\n",
    "train_data_dict_covid ,test_data_dict_covid = data_module.key_assign(trainingX = trainX_covid  , \n",
    "                       testingX = testX_covid, \n",
    "                       trainingY = trainY_covid, \n",
    "                       testingY = testY_covid)\n",
    "train_data_dict_covid ,test_data_dict_covid = data_module.transform(train_data_dict_covid ,test_data_dict_covid)\n",
    "### END SOLUTION"
   ]
  },
  {
   "cell_type": "code",
   "execution_count": 45,
   "metadata": {},
   "outputs": [
    {
     "name": "stdout",
     "output_type": "stream",
     "text": [
      "train_data_x_feature shape : torch.Size([374, 5, 2])\n",
      "train_data_y_label shape : torch.Size([374, 3, 1])\n",
      "test_data_x_feature shape : torch.Size([15, 5, 2])\n",
      "test_data_y_label shape : torch.Size([15, 3, 1])\n"
     ]
    }
   ],
   "source": [
    "data_module.sanity_check(train_data_dict_covid , test_data_dict_covid)"
   ]
  },
  {
   "cell_type": "markdown",
   "metadata": {},
   "source": [
    "## Data Iterator\n",
    "Iterator is created to separate the data into several batches to fasten the training process.\n",
    ">**Instruction** : <br>\n",
    "Use `data_module.iterator` to create data iterator."
   ]
  },
  {
   "cell_type": "code",
   "execution_count": 46,
   "metadata": {},
   "outputs": [],
   "source": [
    "### BEGIN SOLUTION\n",
    "train_iter_covid , test_iter_covid = data_module.iterator(train_data_dict_covid ,\n",
    "                                                          test_data_dict_covid,\n",
    "                                                          batch_size = batch_size_covid)\n",
    "### END SOLUTION"
   ]
  },
  {
   "cell_type": "markdown",
   "metadata": {},
   "source": [
    "## Input Model\n",
    "The model should be inputted with all required attributes such as number of input layers, output layers and hidden layers.\n",
    "\n",
    "How to Use :\n",
    "\n",
    "1. Select one of the model bases in the cell and comment out other models.<br>\n",
    "2. IF use Vanilla LSTM , set num_layer = 1 and use the model = LSTM()<br>\n",
    "3. IF use Stacked LSTM , set num_layer more than 1 and use the model = LSTM()<br>\n",
    "4. IF use Bidirectional LSTM, use the model = BidirectionalLSTM()\n",
    "\n",
    ">**Instruction** :\\\n",
    "Import the LSTM model from `deep_learning_module`. You are required to import both Vanilla LSTM and Bidirectional LSTM and save it as `model`"
   ]
  },
  {
   "cell_type": "code",
   "execution_count": 47,
   "metadata": {},
   "outputs": [],
   "source": [
    "#seed\n",
    "torch.manual_seed(123)\n",
    "### BEGIN SOLUTION\n",
    "#Arguments for LSTM model\n",
    "hidden_dim_covid = 32\n",
    "n_feature_covid = trainX_covid.shape[2] \n",
    "\n",
    "#1 for vanila LSTM , >1 is mean stacked LSTM\n",
    "num_layers_covid = 1\n",
    "\n",
    "\n",
    "#Vanilla , Stacked LSTM\n",
    "model_covid = deep_learning_module.LSTM(n_feature = n_feature_covid, \n",
    "                                        hidden_dim = hidden_dim_covid ,\n",
    "                                        num_layers = num_layers_covid , \n",
    "                                        n_step = n_step_covid )\n",
    "\n",
    "#Bidirectional LSTM\n",
    "# model_demand = deep_learning_module.BidirectionalLSTM(n_feature = n_feature_covid, \n",
    "            #                                         hidden_dim = hidden_dim_covid ,\n",
    "            #                                         num_layers = num_layers_covid , \n",
    "            #                                         n_step = n_step_covid)\n",
    "            \n",
    "### END SOLUTION"
   ]
  },
  {
   "cell_type": "code",
   "execution_count": 48,
   "metadata": {},
   "outputs": [],
   "source": [
    "#loss function \n",
    "loss_fn_covid = torch.nn.MSELoss()\n",
    "\n",
    "#optimiser\n",
    "optimizer_covid = torch.optim.Adam(model_covid.parameters(), lr=learning_rate_covid)"
   ]
  },
  {
   "cell_type": "code",
   "execution_count": 49,
   "metadata": {},
   "outputs": [
    {
     "name": "stdout",
     "output_type": "stream",
     "text": [
      "===================================================\n",
      "       Kernel Shape Output Shape  Params  Mult-Adds\n",
      "Layer                                              \n",
      "0_lstm            -   [5, 5, 32]    4608       4352\n",
      "1_fc        [32, 3]       [5, 3]      99         96\n",
      "---------------------------------------------------\n",
      "                      Totals\n",
      "Total params            4707\n",
      "Trainable params        4707\n",
      "Non-trainable params       0\n",
      "Mult-Adds               4448\n",
      "===================================================\n",
      "       Kernel Shape Output Shape  Params  Mult-Adds\n",
      "Layer                                              \n",
      "0_lstm            -   [5, 5, 32]    4608       4352\n",
      "1_fc        [32, 3]       [5, 3]      99         96\n"
     ]
    }
   ],
   "source": [
    "# print the summary of the LSTM model\n",
    "inputs = torch.zeros((batch_size_covid,window_size_covid,trainX_covid.shape[2]),dtype=torch.float) # batch size , seq_length , input_dim\n",
    "print(summary(model_covid,inputs))"
   ]
  },
  {
   "cell_type": "markdown",
   "metadata": {},
   "source": [
    "# Step 3 : Training\n",
    ">**Instruction** : <br>\n",
    "Use `deep_learning_module.training` to train the model."
   ]
  },
  {
   "cell_type": "code",
   "execution_count": 50,
   "metadata": {},
   "outputs": [],
   "source": [
    "#seed\n",
    "torch.manual_seed(123)\n",
    "### BEGIN SOLUTION\n",
    "\n",
    "# Start training \n",
    "train_loss_covid,val_loss_covid = deep_learning_module.training(num_epochs= num_epochs_covid ,\n",
    "                                                    train_iter = train_iter_covid,\n",
    "                                                    test_iter = test_iter_covid ,\n",
    "                                                    optimizer = optimizer_covid,\n",
    "                                                    loss_fn = loss_fn_covid,\n",
    "                                                    model = model_covid)\n",
    "### END SOLUTION"
   ]
  },
  {
   "cell_type": "code",
   "execution_count": 51,
   "metadata": {},
   "outputs": [
    {
     "data": {
      "image/png": "[encoded data removed]",
      "text/plain": [
       "<Figure size 720x432 with 1 Axes>"
      ]
     },
     "metadata": {
      "needs_background": "light"
     },
     "output_type": "display_data"
    },
    {
     "name": "stdout",
     "output_type": "stream",
     "text": [
      "Epoch : 0 , training loss : 0.023637442468580874 , validation loss : 0.22390254338582358\n",
      "Epoch : 1 , training loss : 0.01753509687320491 , validation loss : 0.2316015064716339\n",
      "Epoch : 2 , training loss : 0.018574691512907627 , validation loss : 0.24307705958684286\n",
      "Epoch : 3 , training loss : 0.015681033145361935 , validation loss : 0.24973461031913757\n",
      "Epoch : 4 , training loss : 0.014560064299309202 , validation loss : 0.2777053117752075\n",
      "Epoch : 5 , training loss : 0.01346330395392001 , validation loss : 0.2711446483929952\n",
      "Epoch : 6 , training loss : 0.01305365677415145 , validation loss : 0.26589787503083545\n",
      "Epoch : 7 , training loss : 0.01268471686355898 , validation loss : 0.2817295541365941\n",
      "Epoch : 8 , training loss : 0.012320364810024485 , validation loss : 0.23171302924553552\n",
      "Epoch : 9 , training loss : 0.01162286013197474 , validation loss : 0.23240593820810318\n",
      "Epoch : 10 , training loss : 0.01147009513461965 , validation loss : 0.2511201451222102\n",
      "Epoch : 11 , training loss : 0.01230858486513336 , validation loss : 0.25983618199825287\n",
      "Epoch : 12 , training loss : 0.011959034214056558 , validation loss : 0.2533816248178482\n",
      "Epoch : 13 , training loss : 0.011785100526991145 , validation loss : 0.25561027228832245\n",
      "Epoch : 14 , training loss : 0.011756003273168418 , validation loss : 0.23651757836341858\n",
      "Epoch : 15 , training loss : 0.011149062312393107 , validation loss : 0.21204093346993128\n",
      "Epoch : 16 , training loss : 0.010973485212205676 , validation loss : 0.2667297025521596\n",
      "Epoch : 17 , training loss : 0.011171734881759342 , validation loss : 0.1927530566851298\n",
      "Epoch : 18 , training loss : 0.010824736919303518 , validation loss : 0.2355315958460172\n",
      "Epoch : 19 , training loss : 0.01120109957511818 , validation loss : 0.18078539768854776\n",
      "Epoch : 20 , training loss : 0.010438248755191918 , validation loss : 0.23689749340216318\n",
      "Epoch : 21 , training loss : 0.010777930961634858 , validation loss : 0.15649816145499548\n",
      "Epoch : 22 , training loss : 0.009626329653199105 , validation loss : 0.16887969772020975\n",
      "Epoch : 23 , training loss : 0.009273310759085008 , validation loss : 0.152631938457489\n",
      "Epoch : 24 , training loss : 0.008794848139137092 , validation loss : 0.1563639516631762\n",
      "Epoch : 25 , training loss : 0.008686679750215573 , validation loss : 0.1493328089515368\n",
      "Epoch : 26 , training loss : 0.008571310934809801 , validation loss : 0.1513831615447998\n",
      "Epoch : 27 , training loss : 0.008518545723064869 , validation loss : 0.14752365152041116\n",
      "Epoch : 28 , training loss : 0.008410315400505155 , validation loss : 0.14911271135012308\n",
      "Epoch : 29 , training loss : 0.00838245607702632 , validation loss : 0.13849645853042603\n",
      "Epoch : 30 , training loss : 0.008244168775563788 , validation loss : 0.1451356622080008\n",
      "Epoch : 31 , training loss : 0.00827893080411663 , validation loss : 0.12174497544765472\n",
      "Epoch : 32 , training loss : 0.008028490479264147 , validation loss : 0.13887586072087288\n",
      "Epoch : 33 , training loss : 0.008132587572788149 , validation loss : 0.11341871817906697\n",
      "Epoch : 34 , training loss : 0.007797329893843529 , validation loss : 0.12155953918894132\n",
      "Epoch : 35 , training loss : 0.007761236791617329 , validation loss : 0.09702385341127713\n",
      "Epoch : 36 , training loss : 0.0074197295094578335 , validation loss : 0.1084453451136748\n",
      "Epoch : 37 , training loss : 0.007561471878141353 , validation loss : 0.09559421613812447\n",
      "Epoch : 38 , training loss : 0.0074246218073483 , validation loss : 0.10770978406071663\n",
      "Epoch : 39 , training loss : 0.0075545859299929 , validation loss : 0.09230988845229149\n",
      "Epoch : 40 , training loss : 0.007408670631838976 , validation loss : 0.11042844131588936\n",
      "Epoch : 41 , training loss : 0.00750312092276287 , validation loss : 0.09091871666411559\n",
      "Epoch : 42 , training loss : 0.007179362498926125 , validation loss : 0.10588007668654124\n",
      "Epoch : 43 , training loss : 0.007220903607802827 , validation loss : 0.08924619170526664\n",
      "Epoch : 44 , training loss : 0.006872348292908232 , validation loss : 0.09414450637996197\n",
      "Epoch : 45 , training loss : 0.006932974106760602 , validation loss : 0.08529260382056236\n",
      "Epoch : 46 , training loss : 0.006690480365019529 , validation loss : 0.08637131191790104\n",
      "Epoch : 47 , training loss : 0.0069267694198717365 , validation loss : 0.08324417285621166\n",
      "Epoch : 48 , training loss : 0.006687727220246245 , validation loss : 0.08626772835850716\n",
      "Epoch : 49 , training loss : 0.0070027932150086 , validation loss : 0.08569600929816563\n",
      "Epoch : 50 , training loss : 0.0067284690289098874 , validation loss : 0.09234784170985222\n",
      "Epoch : 51 , training loss : 0.007055252667319085 , validation loss : 0.08660398547848065\n",
      "Epoch : 52 , training loss : 0.006791428964385113 , validation loss : 0.09752087978025277\n",
      "Epoch : 53 , training loss : 0.0070388462566845856 , validation loss : 0.09705628827214241\n",
      "Epoch : 54 , training loss : 0.006798375184424023 , validation loss : 0.0997967744867007\n",
      "Epoch : 55 , training loss : 0.007185883321819181 , validation loss : 0.08927781134843826\n",
      "Epoch : 56 , training loss : 0.006836537832497468 , validation loss : 0.09817864745855331\n",
      "Epoch : 57 , training loss : 0.006685443265945636 , validation loss : 0.10092277203996976\n",
      "Epoch : 58 , training loss : 0.0065364449934474 , validation loss : 0.0990472100675106\n",
      "Epoch : 59 , training loss : 0.006652719877061623 , validation loss : 0.09431107776860397\n",
      "Epoch : 60 , training loss : 0.00657934435273388 , validation loss : 0.08483392124374707\n",
      "Epoch : 61 , training loss : 0.006633273747773633 , validation loss : 0.07878048283358415\n",
      "Epoch : 62 , training loss : 0.007792472284420224 , validation loss : 0.08212097423772018\n",
      "Epoch : 63 , training loss : 0.007676550328317274 , validation loss : 0.10329017291466396\n",
      "Epoch : 64 , training loss : 0.009869118677715474 , validation loss : 0.10543187831838925\n",
      "Epoch : 65 , training loss : 0.007509172001121632 , validation loss : 0.13149751598636308\n",
      "Epoch : 66 , training loss : 0.0077375793937007106 , validation loss : 0.10118762589991093\n",
      "Epoch : 67 , training loss : 0.006939177359476026 , validation loss : 0.1251132699350516\n",
      "Epoch : 68 , training loss : 0.00729857776643177 , validation loss : 0.09830769586066405\n",
      "Epoch : 69 , training loss : 0.006417831299980348 , validation loss : 0.10818878437081973\n",
      "Epoch : 70 , training loss : 0.007473130796868762 , validation loss : 0.0893517155200243\n",
      "Epoch : 71 , training loss : 0.008255672803144192 , validation loss : 0.08157110773026943\n",
      "Epoch : 72 , training loss : 0.010989707704991202 , validation loss : 0.15263554205497107\n",
      "Epoch : 73 , training loss : 0.00802659727239728 , validation loss : 0.12437265738844872\n",
      "Epoch : 74 , training loss : 0.007115188282016832 , validation loss : 0.0914392185707887\n",
      "Epoch : 75 , training loss : 0.0063910306541017725 , validation loss : 0.08368981008728345\n",
      "Epoch : 76 , training loss : 0.006092944253162673 , validation loss : 0.09123672048250835\n",
      "Epoch : 77 , training loss : 0.006140895877509522 , validation loss : 0.09807139510909717\n",
      "Epoch : 78 , training loss : 0.006628095290536177 , validation loss : 0.1179150827229023\n",
      "Epoch : 79 , training loss : 0.0063529750463778645 , validation loss : 0.10246369863549869\n",
      "Epoch : 80 , training loss : 0.006441322976648336 , validation loss : 0.09380261972546577\n",
      "Epoch : 81 , training loss : 0.006628865425495058 , validation loss : 0.08544804652531941\n",
      "Epoch : 82 , training loss : 0.008759112820123184 , validation loss : 0.10412006452679634\n",
      "Epoch : 83 , training loss : 0.00690580545136359 , validation loss : 0.1247786357998848\n",
      "Epoch : 84 , training loss : 0.006545511611063331 , validation loss : 0.10085334007938702\n",
      "Epoch : 85 , training loss : 0.006000347167448253 , validation loss : 0.08563388884067535\n",
      "Epoch : 86 , training loss : 0.00659260963326758 , validation loss : 0.09530581285556157\n",
      "Epoch : 87 , training loss : 0.008668523396302 , validation loss : 0.09902006511886914\n",
      "Epoch : 88 , training loss : 0.011326427004305856 , validation loss : 0.10694636777043343\n",
      "Epoch : 89 , training loss : 0.007832777736658175 , validation loss : 0.10236041123668353\n",
      "Epoch : 90 , training loss : 0.007695732387937921 , validation loss : 0.08482668921351433\n",
      "Epoch : 91 , training loss : 0.007306737678451868 , validation loss : 0.11644752696156502\n",
      "Epoch : 92 , training loss : 0.009346637195259468 , validation loss : 0.09242699233194192\n",
      "Epoch : 93 , training loss : 0.007331850093641623 , validation loss : 0.0821673075358073\n",
      "Epoch : 94 , training loss : 0.007225502795885657 , validation loss : 0.08540876023471355\n",
      "Epoch : 95 , training loss : 0.0067601210224562565 , validation loss : 0.13288932914535204\n",
      "Epoch : 96 , training loss : 0.008434464057649029 , validation loss : 0.08821278251707554\n",
      "Epoch : 97 , training loss : 0.00791303459041265 , validation loss : 0.07928418119748433\n",
      "Epoch : 98 , training loss : 0.007763634461050308 , validation loss : 0.09239293572803338\n",
      "Epoch : 99 , training loss : 0.006669893016698873 , validation loss : 0.09683930625518163\n"
     ]
    }
   ],
   "source": [
    "# Plot Learning Curve \n",
    "### BEGIN SOLUTION\n",
    "data_module.learning_curve(num_epochs = num_epochs_covid,\n",
    "                           train_loss = train_loss_covid ,\n",
    "                           val_loss = val_loss_covid)\n",
    "\n",
    "### END SOLUTION"
   ]
  },
  {
   "cell_type": "markdown",
   "metadata": {},
   "source": [
    "# Step 5 : Evaluation\n",
    "This section is to inference the model by feeding in testing data and determining the output forecast value and calculate the RMSE. For this exercise, use the function in `data_module` to run in each section.\n",
    "\n",
    "It consists of 4 sections :\n",
    "\n",
    "Section 1 : Feed in the train and test data to the model <br>\n",
    "Section 2 : Reshape both to the original data dimension <br> \n",
    "Section 3 : Invert the scaling back to the original data value <br>\n",
    "Section 4 : Calculate the RMSE of train and test data\n",
    "\n",
    ">**Instruction** : <br>\n",
    "Complete each section with a function from `data_module`"
   ]
  },
  {
   "cell_type": "code",
   "execution_count": 52,
   "metadata": {},
   "outputs": [],
   "source": [
    "# Section 1 : Make predictions\n",
    "\n",
    "### BEGIN SOLUTION\n",
    "with torch.no_grad():\n",
    "    y_train_prediction_covid = model_covid(train_data_dict_covid['train_data_x_feature'])\n",
    "    y_test_prediction_covid = model_covid(test_data_dict_covid['test_data_x_feature'])\n",
    "### END SOLUTION"
   ]
  },
  {
   "cell_type": "code",
   "execution_count": 53,
   "metadata": {},
   "outputs": [],
   "source": [
    "# Assign evaluation key\n",
    "### BEGIN SOLUTION\n",
    "prediction_covid , output_covid = data_module.key_assign_evaluation(y_train_prediction_covid,\n",
    "                                                                    y_test_prediction_covid,\n",
    "                                                                    train_data_dict_covid,\n",
    "                                                                    test_data_dict_covid)\n",
    "### END SOLUTION\n",
    "\n",
    "### BEGIN SOLUTION\n",
    "# Squeeze the output dimension\n",
    "output_data_covid = data_module.squeeze_dimension(output_covid)\n",
    "### END SOLUTION"
   ]
  },
  {
   "cell_type": "code",
   "execution_count": 54,
   "metadata": {},
   "outputs": [
    {
     "name": "stdout",
     "output_type": "stream",
     "text": [
      "train_data_output shape : torch.Size([374, 3])\n",
      "test_data_output shape : torch.Size([15, 3])\n"
     ]
    }
   ],
   "source": [
    "data_module.sanity_check(data_1 = output_data_covid,data_2 = {})"
   ]
  },
  {
   "cell_type": "code",
   "execution_count": 55,
   "metadata": {},
   "outputs": [],
   "source": [
    "#Invert predictions\n",
    "### BEGIN SOLUTION\n",
    "scaler_covid_output = scaler_covid[list(scaler_covid)[-1]]\n",
    "prediction_covid = data_module.inverse_scaler(prediction_covid,scaler_covid_output)\n",
    "output_data_covid  = data_module.inverse_scaler(output_data_covid ,scaler_covid_output)\n",
    "### END SOLUTION"
   ]
  },
  {
   "cell_type": "markdown",
   "metadata": {},
   "source": [
    "`np.rint` is use to round our data to integer since the death cases should be in the integer form"
   ]
  },
  {
   "cell_type": "code",
   "execution_count": 56,
   "metadata": {},
   "outputs": [],
   "source": [
    "prediction_covid['test_data_prediction'] = np.rint(prediction_covid['test_data_prediction'])\n",
    "output_data_covid['test_data_output'] =  np.rint(output_data_covid['test_data_output']) "
   ]
  },
  {
   "cell_type": "code",
   "execution_count": 57,
   "metadata": {},
   "outputs": [
    {
     "name": "stdout",
     "output_type": "stream",
     "text": [
      "Test Data\t\t\tForecast\n",
      "[13. 17.  5.]\t\t[11. 11. 11.]\n",
      "[17.  5.  7.]\t\t[12. 11. 12.]\n",
      "[ 5.  7. 10.]\t\t[13. 13. 14.]\n",
      "[ 7. 10.  8.]\t\t[11. 10.  9.]\n",
      "[10.  8. 22.]\t\t[10.  9.  8.]\n",
      "[ 8. 22. 25.]\t\t[10.  9.  8.]\n",
      "[22. 25. 13.]\t\t[9. 9. 7.]\n",
      "[25. 13.  8.]\t\t[9. 9. 7.]\n",
      "[13.  8.  5.]\t\t[9. 9. 7.]\n",
      "[8. 5. 6.]\t\t[10.  9.  7.]\n",
      "[ 5.  6. 14.]\t\t[10. 10.  8.]\n",
      "[ 6. 14. 12.]\t\t[10.  9.  7.]\n",
      "[14. 12. 12.]\t\t[10.  9.  7.]\n",
      "[12. 12. 11.]\t\t[11. 12. 13.]\n",
      "[12. 11. 10.]\t\t[9. 9. 7.]\n"
     ]
    }
   ],
   "source": [
    "# List the forecast value\n",
    "### BEGIN SOLUTION\n",
    "data_module.list_forecast_value(output_data_covid,prediction_covid) \n",
    "### END SOLUTION"
   ]
  },
  {
   "cell_type": "code",
   "execution_count": 58,
   "metadata": {},
   "outputs": [
    {
     "name": "stdout",
     "output_type": "stream",
     "text": [
      "Train Score: 1.68 RMSE\n",
      "Test Score: 6.58 RMSE\n"
     ]
    }
   ],
   "source": [
    "# calculate root mean squared error\n",
    "### BEGIN SOLUTION\n",
    "trainScore_covid,testScore_covid = data_module.rmse(prediction_covid,output_data_covid)\n",
    "print('Train Score: %.2f RMSE' % (trainScore_covid))\n",
    "print('Test Score: %.2f RMSE' % (testScore_covid))\n",
    "### END SOLUTION"
   ]
  },
  {
   "cell_type": "markdown",
   "metadata": {},
   "source": [
    "# Step 6 : Forecast Plot"
   ]
  },
  {
   "cell_type": "code",
   "execution_count": 59,
   "metadata": {},
   "outputs": [
    {
     "data": {
      "image/png": "[encoded data removed]",
      "text/plain": [
       "<Figure size 720x432 with 1 Axes>"
      ]
     },
     "metadata": {
      "needs_background": "light"
     },
     "output_type": "display_data"
    }
   ],
   "source": [
    "multi_step_plot(original_test_data = test_data_covid[\"Deaths\"],\n",
    "                            after_sequence_test_data = output_data_covid,\n",
    "                            forecast_data = prediction_covid,\n",
    "                            test_time = test_time_covid,\n",
    "                            window_size = window_size_covid,\n",
    "                            n_step = n_step_covid,\n",
    "                            details={},\n",
    "                            original_plot=False,\n",
    "                            multivariate = True)\n"
   ]
  },
  {
   "cell_type": "markdown",
   "metadata": {},
   "source": [
    "## Summary\n",
    "In this tutorial you should have learned:\n",
    "\n",
    "1. The pipeline of using LSTM perform multivariate input univariate output multi-step \n",
    "2. How to import function and class from Python module `data_module.py` and `deep_learning_module.py` \n",
    "3. Some basic data exploratory technique\n",
    "\n",
    "Congratulations, that concludes this lesson.<br>\n",
    "\n",
    "Please save the latest `multi_step_plot` function to the `data_module.py`\n",
    "\n",
    "\n",
    "Please proceed to other notebooks for other types of data in LSTM forecasting <br>\n",
    "1. ~~*[04 - LSTM_Univariate_SingleStep]*~~  *Complete*\n",
    "2. ~~*[04 - LSTM_Univariate_MultiStep.ipynb]*~~ *Complete*\n",
    "3. ~~[04 - LSTM_Multivariate_Univariate_SingleStep]~~ *Complete*\n",
    "4. ~~[04 - LSTM_Multivariate_Univariate_MultiStep]~~*Complete*"
   ]
  },
  {
   "cell_type": "markdown",
   "metadata": {},
   "source": [
    "## Reference\n",
    "1. [Multistep Time Series Forecasting with LSTMs in Python](https://machinelearningmastery.com/multi-step-time-series-forecasting-long-short-term-memory-networks-python/)\n",
    "2. [Deep Learning for Time Series Forecasting (Predict the Future with MLPs,CNNs and LSTMs in Python) , Jason Brownlee](https://machinelearningmastery.com/deep-learning-for-time-series-forecasting/)"
   ]
  }
 ],
 "metadata": {
  "kernelspec": {
   "display_name": "Python 3",
   "language": "python",
   "name": "python3"
  },
  "language_info": {
   "codemirror_mode": {
    "name": "ipython",
    "version": 3
   },
   "file_extension": ".py",
   "mimetype": "text/x-python",
   "name": "python",
   "nbconvert_exporter": "python",
   "pygments_lexer": "ipython3",
   "version": "3.7.9"
  },
  "varInspector": {
   "cols": {
    "lenName": 16,
    "lenType": 16,
    "lenVar": 40
   },
   "kernels_config": {
    "python": {
     "delete_cmd_postfix": "",
     "delete_cmd_prefix": "del ",
     "library": "var_list.py",
     "varRefreshCmd": "print(var_dic_list())"
    },
    "r": {
     "delete_cmd_postfix": ") ",
     "delete_cmd_prefix": "rm(",
     "library": "var_list.r",
     "varRefreshCmd": "cat(var_dic_list()) "
    }
   },
   "types_to_exclude": [
    "module",
    "function",
    "builtin_function_or_method",
    "instance",
    "_Feature"
   ],
   "window_display": false
  }
 },
 "nbformat": 4,
 "nbformat_minor": 4
}