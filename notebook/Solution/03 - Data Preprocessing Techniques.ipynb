{
 "cells": [
  {
   "cell_type": "markdown",
   "metadata": {
    "deletable": false,
    "editable": false
   },
   "source": [
    "![logo](../../picture/license_header_logo.png)\n",
    "> **Copyright (c) 2020-2021 CertifAI Sdn. Bhd.**<br>\n",
    " <br>\n",
    "This program is part of OSRFramework. You can redistribute it and/or modify\n",
    "<br>it under the terms of the GNU Affero General Public License as published by\n",
    "<br>the Free Software Foundation, either version 3 of the License, or\n",
    "<br>(at your option) any later version.\n",
    "<br>\n",
    "<br>This program is distributed in the hope that it will be useful,\n",
    "<br>but WITHOUT ANY WARRANTY; without even the implied warranty of\n",
    "<br>MERCHANTABILITY or FITNESS FOR A PARTICULAR PURPOSE.  See the\n",
    "<br>GNU Affero General Public License for more details.\n",
    "<br>\n",
    "<br>You should have received a copy of the GNU Affero General Public License\n",
    "<br>along with this program.  If not, see <http://www.gnu.org/licenses/>.\n",
    "<br>"
   ]
  },
  {
   "cell_type": "markdown",
   "metadata": {},
   "source": [
    "# Data Preprocessing Techniques\n",
    "\n",
    "## Introduction\n",
    "In this hands-on, we will introduce some of the techniques for handling different types of data.\n",
    ">**Instruction**:<br>\n",
    "The instructor will code with you and guide you in the process of dealing with multiple kinds of time series data problem like missing data, outlier, etc.\n",
    "You are required to complete the exercise after the demonstration.\n",
    "\n",
    "## What will we accomplish?\n",
    "At the end of this lab, you will be able to:\n",
    "1. Identify the missing data and ways to handle it.\n",
    "2. Identify outliers and ways to handle it\n",
    "3. Correct handle different type of time series data.\n"
   ]
  },
  {
   "cell_type": "markdown",
   "metadata": {},
   "source": [
    "# Eg . 1 - Missing Data \n",
    "\n",
    ">Why is there a need to handle missing data in the Time Series dataset?<br>\n",
    "This is because most of the ML & DL are not designed to deal with missing values. Hence, to make the learning models work effectively, the time series has to be in a continuous form.\n",
    "\n",
    "First,import the library needed for this hands-on "
   ]
  },
  {
   "cell_type": "code",
   "execution_count": 1,
   "metadata": {},
   "outputs": [],
   "source": [
    "import pandas as pd\n",
    "import numpy as np\n",
    "import matplotlib.pyplot as plt"
   ]
  },
  {
   "cell_type": "code",
   "execution_count": 2,
   "metadata": {},
   "outputs": [
    {
     "data": {
      "text/html": [
       "<div>\n",
       "<style scoped>\n",
       "    .dataframe tbody tr th:only-of-type {\n",
       "        vertical-align: middle;\n",
       "    }\n",
       "\n",
       "    .dataframe tbody tr th {\n",
       "        vertical-align: top;\n",
       "    }\n",
       "\n",
       "    .dataframe thead th {\n",
       "        text-align: right;\n",
       "    }\n",
       "</style>\n",
       "<table border=\"1\" class=\"dataframe\">\n",
       "  <thead>\n",
       "    <tr style=\"text-align: right;\">\n",
       "      <th></th>\n",
       "      <th>Date</th>\n",
       "      <th>reference</th>\n",
       "      <th>target</th>\n",
       "    </tr>\n",
       "  </thead>\n",
       "  <tbody>\n",
       "    <tr>\n",
       "      <th>0</th>\n",
       "      <td>15-01-2010</td>\n",
       "      <td>12.0</td>\n",
       "      <td>12.0</td>\n",
       "    </tr>\n",
       "    <tr>\n",
       "      <th>1</th>\n",
       "      <td>15-02-2010</td>\n",
       "      <td>18.0</td>\n",
       "      <td>18.0</td>\n",
       "    </tr>\n",
       "    <tr>\n",
       "      <th>2</th>\n",
       "      <td>15-03-2010</td>\n",
       "      <td>22.0</td>\n",
       "      <td>22.0</td>\n",
       "    </tr>\n",
       "    <tr>\n",
       "      <th>3</th>\n",
       "      <td>15-04-2010</td>\n",
       "      <td>26.0</td>\n",
       "      <td>26.0</td>\n",
       "    </tr>\n",
       "    <tr>\n",
       "      <th>4</th>\n",
       "      <td>15-05-2010</td>\n",
       "      <td>31.0</td>\n",
       "      <td>NaN</td>\n",
       "    </tr>\n",
       "  </tbody>\n",
       "</table>\n",
       "</div>"
      ],
      "text/plain": [
       "         Date  reference  target\n",
       "0  15-01-2010       12.0    12.0\n",
       "1  15-02-2010       18.0    18.0\n",
       "2  15-03-2010       22.0    22.0\n",
       "3  15-04-2010       26.0    26.0\n",
       "4  15-05-2010       31.0     NaN"
      ]
     },
     "execution_count": 2,
     "metadata": {},
     "output_type": "execute_result"
    }
   ],
   "source": [
    "# Read CSV data \n",
    "df=pd.read_csv(\"https://raw.githubusercontent.com/drnesr/WaterConsumption/master/data/SampleData.csv\")\n",
    "df.head()"
   ]
  },
  {
   "cell_type": "code",
   "execution_count": 3,
   "metadata": {},
   "outputs": [
    {
     "data": {
      "text/html": [
       "<div>\n",
       "<style scoped>\n",
       "    .dataframe tbody tr th:only-of-type {\n",
       "        vertical-align: middle;\n",
       "    }\n",
       "\n",
       "    .dataframe tbody tr th {\n",
       "        vertical-align: top;\n",
       "    }\n",
       "\n",
       "    .dataframe thead th {\n",
       "        text-align: right;\n",
       "    }\n",
       "</style>\n",
       "<table border=\"1\" class=\"dataframe\">\n",
       "  <thead>\n",
       "    <tr style=\"text-align: right;\">\n",
       "      <th></th>\n",
       "      <th>reference</th>\n",
       "      <th>target</th>\n",
       "    </tr>\n",
       "    <tr>\n",
       "      <th>Date</th>\n",
       "      <th></th>\n",
       "      <th></th>\n",
       "    </tr>\n",
       "  </thead>\n",
       "  <tbody>\n",
       "    <tr>\n",
       "      <th>2010-01-15</th>\n",
       "      <td>12.0</td>\n",
       "      <td>12.0</td>\n",
       "    </tr>\n",
       "    <tr>\n",
       "      <th>2010-02-15</th>\n",
       "      <td>18.0</td>\n",
       "      <td>18.0</td>\n",
       "    </tr>\n",
       "    <tr>\n",
       "      <th>2010-03-15</th>\n",
       "      <td>22.0</td>\n",
       "      <td>22.0</td>\n",
       "    </tr>\n",
       "    <tr>\n",
       "      <th>2010-04-15</th>\n",
       "      <td>26.0</td>\n",
       "      <td>26.0</td>\n",
       "    </tr>\n",
       "    <tr>\n",
       "      <th>2010-05-15</th>\n",
       "      <td>31.0</td>\n",
       "      <td>NaN</td>\n",
       "    </tr>\n",
       "  </tbody>\n",
       "</table>\n",
       "</div>"
      ],
      "text/plain": [
       "            reference  target\n",
       "Date                         \n",
       "2010-01-15       12.0    12.0\n",
       "2010-02-15       18.0    18.0\n",
       "2010-03-15       22.0    22.0\n",
       "2010-04-15       26.0    26.0\n",
       "2010-05-15       31.0     NaN"
      ]
     },
     "execution_count": 3,
     "metadata": {},
     "output_type": "execute_result"
    }
   ],
   "source": [
    "# Converting the column to DateTime format\n",
    "df.Date = pd.to_datetime(df.Date, format='%d-%m-%Y')\n",
    "df = df.set_index('Date')\n",
    "df.head()"
   ]
  },
  {
   "cell_type": "markdown",
   "metadata": {},
   "source": [
    "## Eg. 1.1 - Check the 'NaN' value availability \n",
    "\n",
    "There are two ways to check the presence of `NaN` values in the data:\n",
    "1. `df.info()` - check the total number of data is not `Null` for each column\n",
    "2. `df.isnull().any()` - boolean check the availability of `NaN` value for each columns\n",
    "3. Time plot visualization"
   ]
  },
  {
   "cell_type": "markdown",
   "metadata": {},
   "source": [
    "### Eg. 1.1.1 - Use `df.info`"
   ]
  },
  {
   "cell_type": "code",
   "execution_count": 4,
   "metadata": {},
   "outputs": [
    {
     "name": "stdout",
     "output_type": "stream",
     "text": [
      "<class 'pandas.core.frame.DataFrame'>\n",
      "DatetimeIndex: 96 entries, 2010-01-15 to 2017-12-15\n",
      "Data columns (total 2 columns):\n",
      " #   Column     Non-Null Count  Dtype  \n",
      "---  ------     --------------  -----  \n",
      " 0   reference  96 non-null     float64\n",
      " 1   target     75 non-null     float64\n",
      "dtypes: float64(2)\n",
      "memory usage: 2.2 KB\n"
     ]
    }
   ],
   "source": [
    "# df.info is use to check how many data is not Null per column \n",
    "### BEGIN SOLUTION\n",
    "df.info()\n",
    "### END SOLUTION"
   ]
  },
  {
   "cell_type": "markdown",
   "metadata": {},
   "source": [
    "### Eg. 1.1.2 - Use `df.isnull().any()`"
   ]
  },
  {
   "cell_type": "code",
   "execution_count": 5,
   "metadata": {},
   "outputs": [
    {
     "data": {
      "text/plain": [
       "reference    False\n",
       "target        True\n",
       "dtype: bool"
      ]
     },
     "execution_count": 5,
     "metadata": {},
     "output_type": "execute_result"
    }
   ],
   "source": [
    "# True means there is a NaN value in the columns\n",
    "### BEGIN SOLUTION\n",
    "df.isnull().any()\n",
    "### END SOLUTION"
   ]
  },
  {
   "cell_type": "code",
   "execution_count": 6,
   "metadata": {},
   "outputs": [
    {
     "data": {
      "text/plain": [
       "reference     0\n",
       "target       21\n",
       "dtype: int64"
      ]
     },
     "execution_count": 6,
     "metadata": {},
     "output_type": "execute_result"
    }
   ],
   "source": [
    "# count how many NaN value in the column\n",
    "df.isnull().sum()"
   ]
  },
  {
   "cell_type": "markdown",
   "metadata": {},
   "source": [
    "### Eg. 1.1.3 - Time plot visualization"
   ]
  },
  {
   "cell_type": "code",
   "execution_count": 7,
   "metadata": {},
   "outputs": [
    {
     "data": {
      "image/png": "[encoded data removed]",
      "text/plain": [
       "<Figure size 1440x720 with 1 Axes>"
      ]
     },
     "metadata": {
      "needs_background": "light"
     },
     "output_type": "display_data"
    }
   ],
   "source": [
    "## Visualize the plot\n",
    "# From the below time series plot , we can see that there are some missing data shown.\n",
    "df.plot(style=['k--', 'bo-', 'r*'], figsize=(20, 10));"
   ]
  },
  {
   "cell_type": "markdown",
   "metadata": {},
   "source": [
    "## Eg. 1.2 - Imputing missing values\n",
    "Pandas has a function that is used to impute the missing data called `df.fillna`. It allows the user to select the type of imputing method to fill the `NaN` value.\n",
    "\n",
    "Method:\n",
    "1. Imputing with zero value\n",
    "2. Impute using the mean & median values\n",
    "3. Impute using the rolling average\n",
    "4. Imputing using interpolation with different methods\n",
    "5. Imputing by filling the value from dataset\n",
    "\n",
    "For details, please refer [here](https://pandas.pydata.org/pandas-docs/stable/user_guide/missing_data.html)"
   ]
  },
  {
   "cell_type": "markdown",
   "metadata": {},
   "source": [
    "### Eg. 1.2.1 - Imputing with zero value"
   ]
  },
  {
   "cell_type": "code",
   "execution_count": 8,
   "metadata": {},
   "outputs": [
    {
     "data": {
      "text/html": [
       "<div>\n",
       "<style scoped>\n",
       "    .dataframe tbody tr th:only-of-type {\n",
       "        vertical-align: middle;\n",
       "    }\n",
       "\n",
       "    .dataframe tbody tr th {\n",
       "        vertical-align: top;\n",
       "    }\n",
       "\n",
       "    .dataframe thead th {\n",
       "        text-align: right;\n",
       "    }\n",
       "</style>\n",
       "<table border=\"1\" class=\"dataframe\">\n",
       "  <thead>\n",
       "    <tr style=\"text-align: right;\">\n",
       "      <th></th>\n",
       "      <th>reference</th>\n",
       "      <th>target</th>\n",
       "      <th>FillZero</th>\n",
       "    </tr>\n",
       "    <tr>\n",
       "      <th>Date</th>\n",
       "      <th></th>\n",
       "      <th></th>\n",
       "      <th></th>\n",
       "    </tr>\n",
       "  </thead>\n",
       "  <tbody>\n",
       "    <tr>\n",
       "      <th>2010-01-15</th>\n",
       "      <td>12.0</td>\n",
       "      <td>12.0</td>\n",
       "      <td>12.0</td>\n",
       "    </tr>\n",
       "    <tr>\n",
       "      <th>2010-02-15</th>\n",
       "      <td>18.0</td>\n",
       "      <td>18.0</td>\n",
       "      <td>18.0</td>\n",
       "    </tr>\n",
       "    <tr>\n",
       "      <th>2010-03-15</th>\n",
       "      <td>22.0</td>\n",
       "      <td>22.0</td>\n",
       "      <td>22.0</td>\n",
       "    </tr>\n",
       "    <tr>\n",
       "      <th>2010-04-15</th>\n",
       "      <td>26.0</td>\n",
       "      <td>26.0</td>\n",
       "      <td>26.0</td>\n",
       "    </tr>\n",
       "    <tr>\n",
       "      <th>2010-05-15</th>\n",
       "      <td>31.0</td>\n",
       "      <td>NaN</td>\n",
       "      <td>0.0</td>\n",
       "    </tr>\n",
       "    <tr>\n",
       "      <th>2010-06-15</th>\n",
       "      <td>38.0</td>\n",
       "      <td>NaN</td>\n",
       "      <td>0.0</td>\n",
       "    </tr>\n",
       "  </tbody>\n",
       "</table>\n",
       "</div>"
      ],
      "text/plain": [
       "            reference  target  FillZero\n",
       "Date                                   \n",
       "2010-01-15       12.0    12.0      12.0\n",
       "2010-02-15       18.0    18.0      18.0\n",
       "2010-03-15       22.0    22.0      22.0\n",
       "2010-04-15       26.0    26.0      26.0\n",
       "2010-05-15       31.0     NaN       0.0\n",
       "2010-06-15       38.0     NaN       0.0"
      ]
     },
     "execution_count": 8,
     "metadata": {},
     "output_type": "execute_result"
    }
   ],
   "source": [
    "### BEGIN SOLUTION\n",
    "df = df.assign(FillZero=df.target.fillna(0))\n",
    "### END SOLUTION\n",
    "df.head(6)"
   ]
  },
  {
   "cell_type": "markdown",
   "metadata": {},
   "source": [
    "### Eg. 1.2.2 - Impute using the mean & median values"
   ]
  },
  {
   "cell_type": "code",
   "execution_count": 9,
   "metadata": {},
   "outputs": [
    {
     "data": {
      "text/html": [
       "<div>\n",
       "<style scoped>\n",
       "    .dataframe tbody tr th:only-of-type {\n",
       "        vertical-align: middle;\n",
       "    }\n",
       "\n",
       "    .dataframe tbody tr th {\n",
       "        vertical-align: top;\n",
       "    }\n",
       "\n",
       "    .dataframe thead th {\n",
       "        text-align: right;\n",
       "    }\n",
       "</style>\n",
       "<table border=\"1\" class=\"dataframe\">\n",
       "  <thead>\n",
       "    <tr style=\"text-align: right;\">\n",
       "      <th></th>\n",
       "      <th>reference</th>\n",
       "      <th>target</th>\n",
       "      <th>FillZero</th>\n",
       "      <th>FillMean</th>\n",
       "    </tr>\n",
       "    <tr>\n",
       "      <th>Date</th>\n",
       "      <th></th>\n",
       "      <th></th>\n",
       "      <th></th>\n",
       "      <th></th>\n",
       "    </tr>\n",
       "  </thead>\n",
       "  <tbody>\n",
       "    <tr>\n",
       "      <th>2010-01-15</th>\n",
       "      <td>12.0</td>\n",
       "      <td>12.0</td>\n",
       "      <td>12.0</td>\n",
       "      <td>12.000000</td>\n",
       "    </tr>\n",
       "    <tr>\n",
       "      <th>2010-02-15</th>\n",
       "      <td>18.0</td>\n",
       "      <td>18.0</td>\n",
       "      <td>18.0</td>\n",
       "      <td>18.000000</td>\n",
       "    </tr>\n",
       "    <tr>\n",
       "      <th>2010-03-15</th>\n",
       "      <td>22.0</td>\n",
       "      <td>22.0</td>\n",
       "      <td>22.0</td>\n",
       "      <td>22.000000</td>\n",
       "    </tr>\n",
       "    <tr>\n",
       "      <th>2010-04-15</th>\n",
       "      <td>26.0</td>\n",
       "      <td>26.0</td>\n",
       "      <td>26.0</td>\n",
       "      <td>26.000000</td>\n",
       "    </tr>\n",
       "    <tr>\n",
       "      <th>2010-05-15</th>\n",
       "      <td>31.0</td>\n",
       "      <td>NaN</td>\n",
       "      <td>0.0</td>\n",
       "      <td>25.887473</td>\n",
       "    </tr>\n",
       "    <tr>\n",
       "      <th>2010-06-15</th>\n",
       "      <td>38.0</td>\n",
       "      <td>NaN</td>\n",
       "      <td>0.0</td>\n",
       "      <td>25.887473</td>\n",
       "    </tr>\n",
       "  </tbody>\n",
       "</table>\n",
       "</div>"
      ],
      "text/plain": [
       "            reference  target  FillZero   FillMean\n",
       "Date                                              \n",
       "2010-01-15       12.0    12.0      12.0  12.000000\n",
       "2010-02-15       18.0    18.0      18.0  18.000000\n",
       "2010-03-15       22.0    22.0      22.0  22.000000\n",
       "2010-04-15       26.0    26.0      26.0  26.000000\n",
       "2010-05-15       31.0     NaN       0.0  25.887473\n",
       "2010-06-15       38.0     NaN       0.0  25.887473"
      ]
     },
     "execution_count": 9,
     "metadata": {},
     "output_type": "execute_result"
    }
   ],
   "source": [
    "### BEGIN SOLUTION\n",
    "df = df.assign(FillMean=df.target.fillna(df.target.mean()))\n",
    "### END SOLUTION\n",
    "df.head(6)"
   ]
  },
  {
   "cell_type": "code",
   "execution_count": 10,
   "metadata": {},
   "outputs": [
    {
     "data": {
      "text/html": [
       "<div>\n",
       "<style scoped>\n",
       "    .dataframe tbody tr th:only-of-type {\n",
       "        vertical-align: middle;\n",
       "    }\n",
       "\n",
       "    .dataframe tbody tr th {\n",
       "        vertical-align: top;\n",
       "    }\n",
       "\n",
       "    .dataframe thead th {\n",
       "        text-align: right;\n",
       "    }\n",
       "</style>\n",
       "<table border=\"1\" class=\"dataframe\">\n",
       "  <thead>\n",
       "    <tr style=\"text-align: right;\">\n",
       "      <th></th>\n",
       "      <th>reference</th>\n",
       "      <th>target</th>\n",
       "      <th>FillZero</th>\n",
       "      <th>FillMean</th>\n",
       "      <th>FillMedian</th>\n",
       "    </tr>\n",
       "    <tr>\n",
       "      <th>Date</th>\n",
       "      <th></th>\n",
       "      <th></th>\n",
       "      <th></th>\n",
       "      <th></th>\n",
       "      <th></th>\n",
       "    </tr>\n",
       "  </thead>\n",
       "  <tbody>\n",
       "    <tr>\n",
       "      <th>2010-01-15</th>\n",
       "      <td>12.0</td>\n",
       "      <td>12.0</td>\n",
       "      <td>12.0</td>\n",
       "      <td>12.000000</td>\n",
       "      <td>12.000000</td>\n",
       "    </tr>\n",
       "    <tr>\n",
       "      <th>2010-02-15</th>\n",
       "      <td>18.0</td>\n",
       "      <td>18.0</td>\n",
       "      <td>18.0</td>\n",
       "      <td>18.000000</td>\n",
       "      <td>18.000000</td>\n",
       "    </tr>\n",
       "    <tr>\n",
       "      <th>2010-03-15</th>\n",
       "      <td>22.0</td>\n",
       "      <td>22.0</td>\n",
       "      <td>22.0</td>\n",
       "      <td>22.000000</td>\n",
       "      <td>22.000000</td>\n",
       "    </tr>\n",
       "    <tr>\n",
       "      <th>2010-04-15</th>\n",
       "      <td>26.0</td>\n",
       "      <td>26.0</td>\n",
       "      <td>26.0</td>\n",
       "      <td>26.000000</td>\n",
       "      <td>26.000000</td>\n",
       "    </tr>\n",
       "    <tr>\n",
       "      <th>2010-05-15</th>\n",
       "      <td>31.0</td>\n",
       "      <td>NaN</td>\n",
       "      <td>0.0</td>\n",
       "      <td>25.887473</td>\n",
       "      <td>23.787254</td>\n",
       "    </tr>\n",
       "    <tr>\n",
       "      <th>2010-06-15</th>\n",
       "      <td>38.0</td>\n",
       "      <td>NaN</td>\n",
       "      <td>0.0</td>\n",
       "      <td>25.887473</td>\n",
       "      <td>23.787254</td>\n",
       "    </tr>\n",
       "  </tbody>\n",
       "</table>\n",
       "</div>"
      ],
      "text/plain": [
       "            reference  target  FillZero   FillMean  FillMedian\n",
       "Date                                                          \n",
       "2010-01-15       12.0    12.0      12.0  12.000000   12.000000\n",
       "2010-02-15       18.0    18.0      18.0  18.000000   18.000000\n",
       "2010-03-15       22.0    22.0      22.0  22.000000   22.000000\n",
       "2010-04-15       26.0    26.0      26.0  26.000000   26.000000\n",
       "2010-05-15       31.0     NaN       0.0  25.887473   23.787254\n",
       "2010-06-15       38.0     NaN       0.0  25.887473   23.787254"
      ]
     },
     "execution_count": 10,
     "metadata": {},
     "output_type": "execute_result"
    }
   ],
   "source": [
    "### BEGIN SOLUTION\n",
    "df = df.assign(FillMedian=df.target.fillna(df.target.median()))\n",
    "### END SOLUTION\n",
    "df.head(6)"
   ]
  },
  {
   "cell_type": "markdown",
   "metadata": {},
   "source": [
    "### Eg 1.2.3 - Impute using the rolling average"
   ]
  },
  {
   "cell_type": "code",
   "execution_count": 11,
   "metadata": {},
   "outputs": [
    {
     "data": {
      "text/html": [
       "<div>\n",
       "<style scoped>\n",
       "    .dataframe tbody tr th:only-of-type {\n",
       "        vertical-align: middle;\n",
       "    }\n",
       "\n",
       "    .dataframe tbody tr th {\n",
       "        vertical-align: top;\n",
       "    }\n",
       "\n",
       "    .dataframe thead th {\n",
       "        text-align: right;\n",
       "    }\n",
       "</style>\n",
       "<table border=\"1\" class=\"dataframe\">\n",
       "  <thead>\n",
       "    <tr style=\"text-align: right;\">\n",
       "      <th></th>\n",
       "      <th>reference</th>\n",
       "      <th>target</th>\n",
       "      <th>FillZero</th>\n",
       "      <th>FillMean</th>\n",
       "      <th>FillMedian</th>\n",
       "      <th>RollingMean</th>\n",
       "    </tr>\n",
       "    <tr>\n",
       "      <th>Date</th>\n",
       "      <th></th>\n",
       "      <th></th>\n",
       "      <th></th>\n",
       "      <th></th>\n",
       "      <th></th>\n",
       "      <th></th>\n",
       "    </tr>\n",
       "  </thead>\n",
       "  <tbody>\n",
       "    <tr>\n",
       "      <th>2010-01-15</th>\n",
       "      <td>12.0</td>\n",
       "      <td>12.0</td>\n",
       "      <td>12.0</td>\n",
       "      <td>12.000000</td>\n",
       "      <td>12.000000</td>\n",
       "      <td>12.0</td>\n",
       "    </tr>\n",
       "    <tr>\n",
       "      <th>2010-02-15</th>\n",
       "      <td>18.0</td>\n",
       "      <td>18.0</td>\n",
       "      <td>18.0</td>\n",
       "      <td>18.000000</td>\n",
       "      <td>18.000000</td>\n",
       "      <td>18.0</td>\n",
       "    </tr>\n",
       "    <tr>\n",
       "      <th>2010-03-15</th>\n",
       "      <td>22.0</td>\n",
       "      <td>22.0</td>\n",
       "      <td>22.0</td>\n",
       "      <td>22.000000</td>\n",
       "      <td>22.000000</td>\n",
       "      <td>22.0</td>\n",
       "    </tr>\n",
       "    <tr>\n",
       "      <th>2010-04-15</th>\n",
       "      <td>26.0</td>\n",
       "      <td>26.0</td>\n",
       "      <td>26.0</td>\n",
       "      <td>26.000000</td>\n",
       "      <td>26.000000</td>\n",
       "      <td>26.0</td>\n",
       "    </tr>\n",
       "    <tr>\n",
       "      <th>2010-05-15</th>\n",
       "      <td>31.0</td>\n",
       "      <td>NaN</td>\n",
       "      <td>0.0</td>\n",
       "      <td>25.887473</td>\n",
       "      <td>23.787254</td>\n",
       "      <td>19.5</td>\n",
       "    </tr>\n",
       "    <tr>\n",
       "      <th>2010-06-15</th>\n",
       "      <td>38.0</td>\n",
       "      <td>NaN</td>\n",
       "      <td>0.0</td>\n",
       "      <td>25.887473</td>\n",
       "      <td>23.787254</td>\n",
       "      <td>19.5</td>\n",
       "    </tr>\n",
       "  </tbody>\n",
       "</table>\n",
       "</div>"
      ],
      "text/plain": [
       "            reference  target  FillZero   FillMean  FillMedian  RollingMean\n",
       "Date                                                                       \n",
       "2010-01-15       12.0    12.0      12.0  12.000000   12.000000         12.0\n",
       "2010-02-15       18.0    18.0      18.0  18.000000   18.000000         18.0\n",
       "2010-03-15       22.0    22.0      22.0  22.000000   22.000000         22.0\n",
       "2010-04-15       26.0    26.0      26.0  26.000000   26.000000         26.0\n",
       "2010-05-15       31.0     NaN       0.0  25.887473   23.787254         19.5\n",
       "2010-06-15       38.0     NaN       0.0  25.887473   23.787254         19.5"
      ]
     },
     "execution_count": 11,
     "metadata": {},
     "output_type": "execute_result"
    }
   ],
   "source": [
    "### BEGIN SOLUTION\n",
    "df = df.assign(RollingMean=df.target.fillna(df.target.rolling(24,min_periods=1,).mean()))\n",
    "### END SOLUTION\n",
    "df.head(6)"
   ]
  },
  {
   "cell_type": "markdown",
   "metadata": {},
   "source": [
    "### Eg 1.2.4 - Imputing using interpolation with different methods"
   ]
  },
  {
   "cell_type": "code",
   "execution_count": 12,
   "metadata": {},
   "outputs": [
    {
     "data": {
      "text/html": [
       "<div>\n",
       "<style scoped>\n",
       "    .dataframe tbody tr th:only-of-type {\n",
       "        vertical-align: middle;\n",
       "    }\n",
       "\n",
       "    .dataframe tbody tr th {\n",
       "        vertical-align: top;\n",
       "    }\n",
       "\n",
       "    .dataframe thead th {\n",
       "        text-align: right;\n",
       "    }\n",
       "</style>\n",
       "<table border=\"1\" class=\"dataframe\">\n",
       "  <thead>\n",
       "    <tr style=\"text-align: right;\">\n",
       "      <th></th>\n",
       "      <th>reference</th>\n",
       "      <th>target</th>\n",
       "      <th>FillZero</th>\n",
       "      <th>FillMean</th>\n",
       "      <th>FillMedian</th>\n",
       "      <th>RollingMean</th>\n",
       "      <th>InterpolateLinear</th>\n",
       "      <th>InterpolateTime</th>\n",
       "      <th>InterpolateQuadratic</th>\n",
       "      <th>InterpolateCubic</th>\n",
       "    </tr>\n",
       "    <tr>\n",
       "      <th>Date</th>\n",
       "      <th></th>\n",
       "      <th></th>\n",
       "      <th></th>\n",
       "      <th></th>\n",
       "      <th></th>\n",
       "      <th></th>\n",
       "      <th></th>\n",
       "      <th></th>\n",
       "      <th></th>\n",
       "      <th></th>\n",
       "    </tr>\n",
       "  </thead>\n",
       "  <tbody>\n",
       "    <tr>\n",
       "      <th>2010-01-15</th>\n",
       "      <td>12.0</td>\n",
       "      <td>12.0</td>\n",
       "      <td>12.0</td>\n",
       "      <td>12.000000</td>\n",
       "      <td>12.000000</td>\n",
       "      <td>12.0</td>\n",
       "      <td>12.000000</td>\n",
       "      <td>12.000000</td>\n",
       "      <td>12.000000</td>\n",
       "      <td>12.000000</td>\n",
       "    </tr>\n",
       "    <tr>\n",
       "      <th>2010-02-15</th>\n",
       "      <td>18.0</td>\n",
       "      <td>18.0</td>\n",
       "      <td>18.0</td>\n",
       "      <td>18.000000</td>\n",
       "      <td>18.000000</td>\n",
       "      <td>18.0</td>\n",
       "      <td>18.000000</td>\n",
       "      <td>18.000000</td>\n",
       "      <td>18.000000</td>\n",
       "      <td>18.000000</td>\n",
       "    </tr>\n",
       "    <tr>\n",
       "      <th>2010-03-15</th>\n",
       "      <td>22.0</td>\n",
       "      <td>22.0</td>\n",
       "      <td>22.0</td>\n",
       "      <td>22.000000</td>\n",
       "      <td>22.000000</td>\n",
       "      <td>22.0</td>\n",
       "      <td>22.000000</td>\n",
       "      <td>22.000000</td>\n",
       "      <td>22.000000</td>\n",
       "      <td>22.000000</td>\n",
       "    </tr>\n",
       "    <tr>\n",
       "      <th>2010-04-15</th>\n",
       "      <td>26.0</td>\n",
       "      <td>26.0</td>\n",
       "      <td>26.0</td>\n",
       "      <td>26.000000</td>\n",
       "      <td>26.000000</td>\n",
       "      <td>26.0</td>\n",
       "      <td>26.000000</td>\n",
       "      <td>26.000000</td>\n",
       "      <td>26.000000</td>\n",
       "      <td>26.000000</td>\n",
       "    </tr>\n",
       "    <tr>\n",
       "      <th>2010-05-15</th>\n",
       "      <td>31.0</td>\n",
       "      <td>NaN</td>\n",
       "      <td>0.0</td>\n",
       "      <td>25.887473</td>\n",
       "      <td>23.787254</td>\n",
       "      <td>19.5</td>\n",
       "      <td>32.333333</td>\n",
       "      <td>32.263736</td>\n",
       "      <td>32.500323</td>\n",
       "      <td>32.891644</td>\n",
       "    </tr>\n",
       "    <tr>\n",
       "      <th>2010-06-15</th>\n",
       "      <td>38.0</td>\n",
       "      <td>NaN</td>\n",
       "      <td>0.0</td>\n",
       "      <td>25.887473</td>\n",
       "      <td>23.787254</td>\n",
       "      <td>19.5</td>\n",
       "      <td>38.666667</td>\n",
       "      <td>38.736264</td>\n",
       "      <td>41.271191</td>\n",
       "      <td>40.737470</td>\n",
       "    </tr>\n",
       "  </tbody>\n",
       "</table>\n",
       "</div>"
      ],
      "text/plain": [
       "            reference  target  FillZero   FillMean  FillMedian  RollingMean  \\\n",
       "Date                                                                          \n",
       "2010-01-15       12.0    12.0      12.0  12.000000   12.000000         12.0   \n",
       "2010-02-15       18.0    18.0      18.0  18.000000   18.000000         18.0   \n",
       "2010-03-15       22.0    22.0      22.0  22.000000   22.000000         22.0   \n",
       "2010-04-15       26.0    26.0      26.0  26.000000   26.000000         26.0   \n",
       "2010-05-15       31.0     NaN       0.0  25.887473   23.787254         19.5   \n",
       "2010-06-15       38.0     NaN       0.0  25.887473   23.787254         19.5   \n",
       "\n",
       "            InterpolateLinear  InterpolateTime  InterpolateQuadratic  \\\n",
       "Date                                                                   \n",
       "2010-01-15          12.000000        12.000000             12.000000   \n",
       "2010-02-15          18.000000        18.000000             18.000000   \n",
       "2010-03-15          22.000000        22.000000             22.000000   \n",
       "2010-04-15          26.000000        26.000000             26.000000   \n",
       "2010-05-15          32.333333        32.263736             32.500323   \n",
       "2010-06-15          38.666667        38.736264             41.271191   \n",
       "\n",
       "            InterpolateCubic  \n",
       "Date                          \n",
       "2010-01-15         12.000000  \n",
       "2010-02-15         18.000000  \n",
       "2010-03-15         22.000000  \n",
       "2010-04-15         26.000000  \n",
       "2010-05-15         32.891644  \n",
       "2010-06-15         40.737470  "
      ]
     },
     "execution_count": 12,
     "metadata": {},
     "output_type": "execute_result"
    }
   ],
   "source": [
    "### BEGIN SOLUTION\n",
    "df = df.assign(InterpolateLinear=df.target.interpolate(method='linear'))\n",
    "df = df.assign(InterpolateTime=df.target.interpolate(method='time'))\n",
    "df = df.assign(InterpolateQuadratic=df.target.interpolate(method='quadratic'))\n",
    "df = df.assign(InterpolateCubic=df.target.interpolate(method='cubic'))\n",
    "### END SOLUTION\n",
    "df.head(6)"
   ]
  },
  {
   "cell_type": "markdown",
   "metadata": {},
   "source": [
    "### Eg 1.2.5 - Imputing by filling the value from the dataset\n",
    "This imputing method is filling the `NaN` value with the value from the dataset itself.<br>\n",
    "\n",
    "It consists of two methods: <br>\n",
    "1. `df.fillna(method='ffill')` - Last observation carried forward (LOCF)\n",
    "2. `df.fillna(method='bfill')` - Next observation carried backward (NOCB)"
   ]
  },
  {
   "cell_type": "code",
   "execution_count": 13,
   "metadata": {},
   "outputs": [
    {
     "data": {
      "text/html": [
       "<div>\n",
       "<style scoped>\n",
       "    .dataframe tbody tr th:only-of-type {\n",
       "        vertical-align: middle;\n",
       "    }\n",
       "\n",
       "    .dataframe tbody tr th {\n",
       "        vertical-align: top;\n",
       "    }\n",
       "\n",
       "    .dataframe thead th {\n",
       "        text-align: right;\n",
       "    }\n",
       "</style>\n",
       "<table border=\"1\" class=\"dataframe\">\n",
       "  <thead>\n",
       "    <tr style=\"text-align: right;\">\n",
       "      <th></th>\n",
       "      <th>reference</th>\n",
       "      <th>target</th>\n",
       "      <th>FillZero</th>\n",
       "      <th>FillMean</th>\n",
       "      <th>FillMedian</th>\n",
       "      <th>RollingMean</th>\n",
       "      <th>InterpolateLinear</th>\n",
       "      <th>InterpolateTime</th>\n",
       "      <th>InterpolateQuadratic</th>\n",
       "      <th>InterpolateCubic</th>\n",
       "      <th>ForwardFill</th>\n",
       "    </tr>\n",
       "    <tr>\n",
       "      <th>Date</th>\n",
       "      <th></th>\n",
       "      <th></th>\n",
       "      <th></th>\n",
       "      <th></th>\n",
       "      <th></th>\n",
       "      <th></th>\n",
       "      <th></th>\n",
       "      <th></th>\n",
       "      <th></th>\n",
       "      <th></th>\n",
       "      <th></th>\n",
       "    </tr>\n",
       "  </thead>\n",
       "  <tbody>\n",
       "    <tr>\n",
       "      <th>2010-01-15</th>\n",
       "      <td>12.0</td>\n",
       "      <td>12.0</td>\n",
       "      <td>12.0</td>\n",
       "      <td>12.000000</td>\n",
       "      <td>12.000000</td>\n",
       "      <td>12.0</td>\n",
       "      <td>12.000000</td>\n",
       "      <td>12.000000</td>\n",
       "      <td>12.000000</td>\n",
       "      <td>12.000000</td>\n",
       "      <td>12.0</td>\n",
       "    </tr>\n",
       "    <tr>\n",
       "      <th>2010-02-15</th>\n",
       "      <td>18.0</td>\n",
       "      <td>18.0</td>\n",
       "      <td>18.0</td>\n",
       "      <td>18.000000</td>\n",
       "      <td>18.000000</td>\n",
       "      <td>18.0</td>\n",
       "      <td>18.000000</td>\n",
       "      <td>18.000000</td>\n",
       "      <td>18.000000</td>\n",
       "      <td>18.000000</td>\n",
       "      <td>18.0</td>\n",
       "    </tr>\n",
       "    <tr>\n",
       "      <th>2010-03-15</th>\n",
       "      <td>22.0</td>\n",
       "      <td>22.0</td>\n",
       "      <td>22.0</td>\n",
       "      <td>22.000000</td>\n",
       "      <td>22.000000</td>\n",
       "      <td>22.0</td>\n",
       "      <td>22.000000</td>\n",
       "      <td>22.000000</td>\n",
       "      <td>22.000000</td>\n",
       "      <td>22.000000</td>\n",
       "      <td>22.0</td>\n",
       "    </tr>\n",
       "    <tr>\n",
       "      <th>2010-04-15</th>\n",
       "      <td>26.0</td>\n",
       "      <td>26.0</td>\n",
       "      <td>26.0</td>\n",
       "      <td>26.000000</td>\n",
       "      <td>26.000000</td>\n",
       "      <td>26.0</td>\n",
       "      <td>26.000000</td>\n",
       "      <td>26.000000</td>\n",
       "      <td>26.000000</td>\n",
       "      <td>26.000000</td>\n",
       "      <td>26.0</td>\n",
       "    </tr>\n",
       "    <tr>\n",
       "      <th>2010-05-15</th>\n",
       "      <td>31.0</td>\n",
       "      <td>NaN</td>\n",
       "      <td>0.0</td>\n",
       "      <td>25.887473</td>\n",
       "      <td>23.787254</td>\n",
       "      <td>19.5</td>\n",
       "      <td>32.333333</td>\n",
       "      <td>32.263736</td>\n",
       "      <td>32.500323</td>\n",
       "      <td>32.891644</td>\n",
       "      <td>26.0</td>\n",
       "    </tr>\n",
       "    <tr>\n",
       "      <th>2010-06-15</th>\n",
       "      <td>38.0</td>\n",
       "      <td>NaN</td>\n",
       "      <td>0.0</td>\n",
       "      <td>25.887473</td>\n",
       "      <td>23.787254</td>\n",
       "      <td>19.5</td>\n",
       "      <td>38.666667</td>\n",
       "      <td>38.736264</td>\n",
       "      <td>41.271191</td>\n",
       "      <td>40.737470</td>\n",
       "      <td>26.0</td>\n",
       "    </tr>\n",
       "  </tbody>\n",
       "</table>\n",
       "</div>"
      ],
      "text/plain": [
       "            reference  target  FillZero   FillMean  FillMedian  RollingMean  \\\n",
       "Date                                                                          \n",
       "2010-01-15       12.0    12.0      12.0  12.000000   12.000000         12.0   \n",
       "2010-02-15       18.0    18.0      18.0  18.000000   18.000000         18.0   \n",
       "2010-03-15       22.0    22.0      22.0  22.000000   22.000000         22.0   \n",
       "2010-04-15       26.0    26.0      26.0  26.000000   26.000000         26.0   \n",
       "2010-05-15       31.0     NaN       0.0  25.887473   23.787254         19.5   \n",
       "2010-06-15       38.0     NaN       0.0  25.887473   23.787254         19.5   \n",
       "\n",
       "            InterpolateLinear  InterpolateTime  InterpolateQuadratic  \\\n",
       "Date                                                                   \n",
       "2010-01-15          12.000000        12.000000             12.000000   \n",
       "2010-02-15          18.000000        18.000000             18.000000   \n",
       "2010-03-15          22.000000        22.000000             22.000000   \n",
       "2010-04-15          26.000000        26.000000             26.000000   \n",
       "2010-05-15          32.333333        32.263736             32.500323   \n",
       "2010-06-15          38.666667        38.736264             41.271191   \n",
       "\n",
       "            InterpolateCubic  ForwardFill  \n",
       "Date                                       \n",
       "2010-01-15         12.000000         12.0  \n",
       "2010-02-15         18.000000         18.0  \n",
       "2010-03-15         22.000000         22.0  \n",
       "2010-04-15         26.000000         26.0  \n",
       "2010-05-15         32.891644         26.0  \n",
       "2010-06-15         40.737470         26.0  "
      ]
     },
     "execution_count": 13,
     "metadata": {},
     "output_type": "execute_result"
    }
   ],
   "source": [
    "### BEGIN SOLUTION\n",
    "df = df.assign(ForwardFill=df.target.fillna(method='ffill'))\n",
    "### END SOLUTION\n",
    "df.head(6)\n"
   ]
  },
  {
   "cell_type": "code",
   "execution_count": 14,
   "metadata": {},
   "outputs": [
    {
     "data": {
      "text/html": [
       "<div>\n",
       "<style scoped>\n",
       "    .dataframe tbody tr th:only-of-type {\n",
       "        vertical-align: middle;\n",
       "    }\n",
       "\n",
       "    .dataframe tbody tr th {\n",
       "        vertical-align: top;\n",
       "    }\n",
       "\n",
       "    .dataframe thead th {\n",
       "        text-align: right;\n",
       "    }\n",
       "</style>\n",
       "<table border=\"1\" class=\"dataframe\">\n",
       "  <thead>\n",
       "    <tr style=\"text-align: right;\">\n",
       "      <th></th>\n",
       "      <th>reference</th>\n",
       "      <th>target</th>\n",
       "      <th>FillZero</th>\n",
       "      <th>FillMean</th>\n",
       "      <th>FillMedian</th>\n",
       "      <th>RollingMean</th>\n",
       "      <th>InterpolateLinear</th>\n",
       "      <th>InterpolateTime</th>\n",
       "      <th>InterpolateQuadratic</th>\n",
       "      <th>InterpolateCubic</th>\n",
       "      <th>ForwardFill</th>\n",
       "      <th>BackwardFill</th>\n",
       "    </tr>\n",
       "    <tr>\n",
       "      <th>Date</th>\n",
       "      <th></th>\n",
       "      <th></th>\n",
       "      <th></th>\n",
       "      <th></th>\n",
       "      <th></th>\n",
       "      <th></th>\n",
       "      <th></th>\n",
       "      <th></th>\n",
       "      <th></th>\n",
       "      <th></th>\n",
       "      <th></th>\n",
       "      <th></th>\n",
       "    </tr>\n",
       "  </thead>\n",
       "  <tbody>\n",
       "    <tr>\n",
       "      <th>2010-01-15</th>\n",
       "      <td>12.0</td>\n",
       "      <td>12.0</td>\n",
       "      <td>12.0</td>\n",
       "      <td>12.000000</td>\n",
       "      <td>12.000000</td>\n",
       "      <td>12.0</td>\n",
       "      <td>12.000000</td>\n",
       "      <td>12.000000</td>\n",
       "      <td>12.000000</td>\n",
       "      <td>12.000000</td>\n",
       "      <td>12.0</td>\n",
       "      <td>12.0</td>\n",
       "    </tr>\n",
       "    <tr>\n",
       "      <th>2010-02-15</th>\n",
       "      <td>18.0</td>\n",
       "      <td>18.0</td>\n",
       "      <td>18.0</td>\n",
       "      <td>18.000000</td>\n",
       "      <td>18.000000</td>\n",
       "      <td>18.0</td>\n",
       "      <td>18.000000</td>\n",
       "      <td>18.000000</td>\n",
       "      <td>18.000000</td>\n",
       "      <td>18.000000</td>\n",
       "      <td>18.0</td>\n",
       "      <td>18.0</td>\n",
       "    </tr>\n",
       "    <tr>\n",
       "      <th>2010-03-15</th>\n",
       "      <td>22.0</td>\n",
       "      <td>22.0</td>\n",
       "      <td>22.0</td>\n",
       "      <td>22.000000</td>\n",
       "      <td>22.000000</td>\n",
       "      <td>22.0</td>\n",
       "      <td>22.000000</td>\n",
       "      <td>22.000000</td>\n",
       "      <td>22.000000</td>\n",
       "      <td>22.000000</td>\n",
       "      <td>22.0</td>\n",
       "      <td>22.0</td>\n",
       "    </tr>\n",
       "    <tr>\n",
       "      <th>2010-04-15</th>\n",
       "      <td>26.0</td>\n",
       "      <td>26.0</td>\n",
       "      <td>26.0</td>\n",
       "      <td>26.000000</td>\n",
       "      <td>26.000000</td>\n",
       "      <td>26.0</td>\n",
       "      <td>26.000000</td>\n",
       "      <td>26.000000</td>\n",
       "      <td>26.000000</td>\n",
       "      <td>26.000000</td>\n",
       "      <td>26.0</td>\n",
       "      <td>26.0</td>\n",
       "    </tr>\n",
       "    <tr>\n",
       "      <th>2010-05-15</th>\n",
       "      <td>31.0</td>\n",
       "      <td>NaN</td>\n",
       "      <td>0.0</td>\n",
       "      <td>25.887473</td>\n",
       "      <td>23.787254</td>\n",
       "      <td>19.5</td>\n",
       "      <td>32.333333</td>\n",
       "      <td>32.263736</td>\n",
       "      <td>32.500323</td>\n",
       "      <td>32.891644</td>\n",
       "      <td>26.0</td>\n",
       "      <td>45.0</td>\n",
       "    </tr>\n",
       "    <tr>\n",
       "      <th>2010-06-15</th>\n",
       "      <td>38.0</td>\n",
       "      <td>NaN</td>\n",
       "      <td>0.0</td>\n",
       "      <td>25.887473</td>\n",
       "      <td>23.787254</td>\n",
       "      <td>19.5</td>\n",
       "      <td>38.666667</td>\n",
       "      <td>38.736264</td>\n",
       "      <td>41.271191</td>\n",
       "      <td>40.737470</td>\n",
       "      <td>26.0</td>\n",
       "      <td>45.0</td>\n",
       "    </tr>\n",
       "    <tr>\n",
       "      <th>2010-07-15</th>\n",
       "      <td>45.0</td>\n",
       "      <td>45.0</td>\n",
       "      <td>45.0</td>\n",
       "      <td>45.000000</td>\n",
       "      <td>45.000000</td>\n",
       "      <td>45.0</td>\n",
       "      <td>45.000000</td>\n",
       "      <td>45.000000</td>\n",
       "      <td>45.000000</td>\n",
       "      <td>45.000000</td>\n",
       "      <td>45.0</td>\n",
       "      <td>45.0</td>\n",
       "    </tr>\n",
       "  </tbody>\n",
       "</table>\n",
       "</div>"
      ],
      "text/plain": [
       "            reference  target  FillZero   FillMean  FillMedian  RollingMean  \\\n",
       "Date                                                                          \n",
       "2010-01-15       12.0    12.0      12.0  12.000000   12.000000         12.0   \n",
       "2010-02-15       18.0    18.0      18.0  18.000000   18.000000         18.0   \n",
       "2010-03-15       22.0    22.0      22.0  22.000000   22.000000         22.0   \n",
       "2010-04-15       26.0    26.0      26.0  26.000000   26.000000         26.0   \n",
       "2010-05-15       31.0     NaN       0.0  25.887473   23.787254         19.5   \n",
       "2010-06-15       38.0     NaN       0.0  25.887473   23.787254         19.5   \n",
       "2010-07-15       45.0    45.0      45.0  45.000000   45.000000         45.0   \n",
       "\n",
       "            InterpolateLinear  InterpolateTime  InterpolateQuadratic  \\\n",
       "Date                                                                   \n",
       "2010-01-15          12.000000        12.000000             12.000000   \n",
       "2010-02-15          18.000000        18.000000             18.000000   \n",
       "2010-03-15          22.000000        22.000000             22.000000   \n",
       "2010-04-15          26.000000        26.000000             26.000000   \n",
       "2010-05-15          32.333333        32.263736             32.500323   \n",
       "2010-06-15          38.666667        38.736264             41.271191   \n",
       "2010-07-15          45.000000        45.000000             45.000000   \n",
       "\n",
       "            InterpolateCubic  ForwardFill  BackwardFill  \n",
       "Date                                                     \n",
       "2010-01-15         12.000000         12.0          12.0  \n",
       "2010-02-15         18.000000         18.0          18.0  \n",
       "2010-03-15         22.000000         22.0          22.0  \n",
       "2010-04-15         26.000000         26.0          26.0  \n",
       "2010-05-15         32.891644         26.0          45.0  \n",
       "2010-06-15         40.737470         26.0          45.0  \n",
       "2010-07-15         45.000000         45.0          45.0  "
      ]
     },
     "execution_count": 14,
     "metadata": {},
     "output_type": "execute_result"
    }
   ],
   "source": [
    "### BEGIN SOLUTION\n",
    "df = df.assign(BackwardFill=df.target.fillna(method='bfill'))\n",
    "### END SOLUTION\n",
    "df.head(7)"
   ]
  },
  {
   "cell_type": "markdown",
   "metadata": {},
   "source": [
    "# Eg. 2 - Outlier Handling \n",
    "\n",
    "Ways to identify outliers:\n",
    "1. Visualize time plot \n",
    "2. Boxplot\n",
    "3. Check the statistical properties of the dataset\n",
    "\n",
    "\n",
    "Ways to handle outliers:\n",
    "1. Treat them as missing data points\n",
    "\n",
    "2. Correct them with linear interpolation\n",
    "\n",
    "3. Cap the data until a certain range\n"
   ]
  },
  {
   "cell_type": "code",
   "execution_count": 15,
   "metadata": {},
   "outputs": [],
   "source": [
    "# Create synthetic data with outlier\n",
    "\n",
    "# seed \n",
    "np.random.seed(123)\n",
    "\n",
    "# Random integer data generate\n",
    "outlier_data = np.random.randint(0,10, size=100)\n",
    "\n",
    "# Generate some outlier\n",
    "outlier_data[50] = 15\n",
    "outlier_data[20] = 20\n",
    "outlier_data[60] = 25\n",
    "outlier_data[25] = -20\n",
    "outlier_data[30] = -30\n",
    "\n",
    "# Convert the Numpy data into Series\n",
    "outlier_series = pd.DataFrame(outlier_data,columns =['Outlier'])"
   ]
  },
  {
   "cell_type": "markdown",
   "metadata": {},
   "source": [
    "## Eg. 2.1 - Outlier Identification\n",
    "1. Time plot visualization \n",
    "2. Use boxplot\n",
    "3. Check the statistical properties of the dataset"
   ]
  },
  {
   "cell_type": "markdown",
   "metadata": {},
   "source": [
    "### Eg. 2.1.1 - Time plot visualization\n",
    "We can visualize the outlier by plotting a time plot."
   ]
  },
  {
   "cell_type": "code",
   "execution_count": 16,
   "metadata": {},
   "outputs": [
    {
     "data": {
      "text/plain": [
       "[<matplotlib.lines.Line2D at 0x1bb0960d048>]"
      ]
     },
     "execution_count": 16,
     "metadata": {},
     "output_type": "execute_result"
    },
    {
     "data": {
      "image/png": "[encoded data removed]",
      "text/plain": [
       "<Figure size 432x288 with 1 Axes>"
      ]
     },
     "metadata": {
      "needs_background": "light"
     },
     "output_type": "display_data"
    }
   ],
   "source": [
    "# Time plot\n",
    "### BEGIN SOLUTION\n",
    "plt.plot(outlier_series)\n",
    "### END SOLUTION"
   ]
  },
  {
   "cell_type": "markdown",
   "metadata": {},
   "source": [
    "### Eg. 2.1.2  - Boxplot\n",
    "We can also use a boxplot to see if there are any outliers existing in our data."
   ]
  },
  {
   "cell_type": "code",
   "execution_count": 17,
   "metadata": {},
   "outputs": [
    {
     "data": {
      "image/png": "[encoded data removed]",
      "text/plain": [
       "<Figure size 432x288 with 1 Axes>"
      ]
     },
     "metadata": {
      "needs_background": "light"
     },
     "output_type": "display_data"
    }
   ],
   "source": [
    "### BEGIN SOLUTION\n",
    "plt.boxplot(outlier_series)\n",
    "### END SOLUTION\n",
    "\n",
    "plt.show()"
   ]
  },
  {
   "cell_type": "markdown",
   "metadata": {},
   "source": [
    "### Eg. 2.1.3 - Check the statistical properties of the dataset\n",
    "Pandas library provides a function called `df.describe()` to check the statistical properties of the dataset.<br>\n",
    "\n",
    "For example:<br>\n",
    "As shown in the statistical properties below, the mean of the data is 4.3, standard deviation is about 5.80 but the min and max is deviating from the standard deviation. Hence, it is proof that there is an outlier data point inside."
   ]
  },
  {
   "cell_type": "code",
   "execution_count": 18,
   "metadata": {},
   "outputs": [
    {
     "data": {
      "text/html": [
       "<div>\n",
       "<style scoped>\n",
       "    .dataframe tbody tr th:only-of-type {\n",
       "        vertical-align: middle;\n",
       "    }\n",
       "\n",
       "    .dataframe tbody tr th {\n",
       "        vertical-align: top;\n",
       "    }\n",
       "\n",
       "    .dataframe thead th {\n",
       "        text-align: right;\n",
       "    }\n",
       "</style>\n",
       "<table border=\"1\" class=\"dataframe\">\n",
       "  <thead>\n",
       "    <tr style=\"text-align: right;\">\n",
       "      <th></th>\n",
       "      <th>Outlier</th>\n",
       "    </tr>\n",
       "  </thead>\n",
       "  <tbody>\n",
       "    <tr>\n",
       "      <th>count</th>\n",
       "      <td>100.000000</td>\n",
       "    </tr>\n",
       "    <tr>\n",
       "      <th>mean</th>\n",
       "      <td>4.030000</td>\n",
       "    </tr>\n",
       "    <tr>\n",
       "      <th>std</th>\n",
       "      <td>5.762041</td>\n",
       "    </tr>\n",
       "    <tr>\n",
       "      <th>min</th>\n",
       "      <td>-30.000000</td>\n",
       "    </tr>\n",
       "    <tr>\n",
       "      <th>25%</th>\n",
       "      <td>2.000000</td>\n",
       "    </tr>\n",
       "    <tr>\n",
       "      <th>50%</th>\n",
       "      <td>4.000000</td>\n",
       "    </tr>\n",
       "    <tr>\n",
       "      <th>75%</th>\n",
       "      <td>6.000000</td>\n",
       "    </tr>\n",
       "    <tr>\n",
       "      <th>max</th>\n",
       "      <td>25.000000</td>\n",
       "    </tr>\n",
       "  </tbody>\n",
       "</table>\n",
       "</div>"
      ],
      "text/plain": [
       "          Outlier\n",
       "count  100.000000\n",
       "mean     4.030000\n",
       "std      5.762041\n",
       "min    -30.000000\n",
       "25%      2.000000\n",
       "50%      4.000000\n",
       "75%      6.000000\n",
       "max     25.000000"
      ]
     },
     "execution_count": 18,
     "metadata": {},
     "output_type": "execute_result"
    }
   ],
   "source": [
    "### BEGIN SOLUTION\n",
    "outlier_series.describe()\n",
    "### END SOLUTION"
   ]
  },
  {
   "cell_type": "markdown",
   "metadata": {},
   "source": [
    "## Eg 2.2 - Outlier Treatment\n",
    "Ways to handle outliers:\n",
    "1. Treat the outliers as missing data points\n",
    "\n",
    "2. Correct the outliers with linear interpolation\n",
    "\n",
    "3. Cap the outliers with a certain range"
   ]
  },
  {
   "cell_type": "markdown",
   "metadata": {},
   "source": [
    "First, we need to find out the 10% and 90% quantile of the dataset and set it as the threshold for the outliers. Any data beyond the threshold will be treated as outliers.\n"
   ]
  },
  {
   "cell_type": "code",
   "execution_count": 19,
   "metadata": {},
   "outputs": [
    {
     "name": "stdout",
     "output_type": "stream",
     "text": [
      "10% quantile : 0.0\n",
      "90% quantile : 9.0\n"
     ]
    }
   ],
   "source": [
    "### BEGIN SOLUTION\n",
    "ten_percent_quantile = float(outlier_series.quantile(0.10))\n",
    "ninety_percent_quantile = float(outlier_series.quantile(0.90))\n",
    "### END SOLUTION\n",
    "print(f\"10% quantile : {ten_percent_quantile}\")\n",
    "print(f\"90% quantile : {ninety_percent_quantile}\")"
   ]
  },
  {
   "cell_type": "markdown",
   "metadata": {},
   "source": [
    "### Eg. 2.2.1 -  Treat the outliers as a missing data point\n",
    "Use `np.where()` to sort the data that is beyond the threshold and assign it with `NaN`"
   ]
  },
  {
   "cell_type": "code",
   "execution_count": 20,
   "metadata": {},
   "outputs": [
    {
     "data": {
      "text/plain": [
       "array([ 2.,  2.,  6.,  1.,  3.,  9.,  6.,  1.,  0.,  1.,  9.,  0.,  0.,\n",
       "        9.,  3.,  4.,  0.,  0.,  4.,  1., nan,  3.,  2.,  4.,  7., nan,\n",
       "        4.,  8.,  0.,  7., nan,  3.,  4.,  6.,  1.,  5.,  6.,  2.,  1.,\n",
       "        8.,  3.,  5.,  0.,  2.,  6.,  2.,  4.,  4.,  6.,  3., nan,  6.,\n",
       "        4.,  7.,  6.,  7.,  1.,  5.,  7.,  9., nan,  4.,  8.,  1.,  2.,\n",
       "        1.,  1.,  3.,  5.,  9.,  0.,  8.,  1.,  6.,  3.,  3.,  5.,  9.,\n",
       "        7.,  9.,  2.,  3.,  3.,  3.,  8.,  6.,  9.,  7.,  6.,  3.,  9.,\n",
       "        6.,  6.,  6.,  1.,  3.,  4.,  3.,  1.,  0.])"
      ]
     },
     "execution_count": 20,
     "metadata": {},
     "output_type": "execute_result"
    }
   ],
   "source": [
    "# Sort the data that is beyond the threshold and assign it with np.nan value\n",
    "### BEGIN SOLUTION\n",
    "fill_nan = np.where(outlier_series[\"Outlier\"]<0.0,np.nan,outlier_series[\"Outlier\"])\n",
    "fill_nan = np.where(outlier_series[\"Outlier\"]>9.0,np.nan,fill_nan)\n",
    "### END SOLUTION\n",
    "fill_nan"
   ]
  },
  {
   "cell_type": "code",
   "execution_count": 21,
   "metadata": {},
   "outputs": [
    {
     "data": {
      "text/plain": [
       "5"
      ]
     },
     "execution_count": 21,
     "metadata": {},
     "output_type": "execute_result"
    }
   ],
   "source": [
    "pd.Series(fill_nan).isnull().sum()"
   ]
  },
  {
   "cell_type": "markdown",
   "metadata": {},
   "source": [
    "### Eg. 2.2.2 - Correct them with linear interpolation\n",
    "Use `np.where()` sort the data that is beyond the threshold and assign it with the value of `nan`. Then perform linear interpolation with `df.interpolate(method='linear')`"
   ]
  },
  {
   "cell_type": "code",
   "execution_count": 22,
   "metadata": {},
   "outputs": [
    {
     "data": {
      "text/plain": [
       "array([ 2.,  2.,  6.,  1.,  3.,  9.,  6.,  1.,  0.,  1.,  9.,  0.,  0.,\n",
       "        9.,  3.,  4.,  0.,  0.,  4.,  1., nan,  3.,  2.,  4.,  7., nan,\n",
       "        4.,  8.,  0.,  7., nan,  3.,  4.,  6.,  1.,  5.,  6.,  2.,  1.,\n",
       "        8.,  3.,  5.,  0.,  2.,  6.,  2.,  4.,  4.,  6.,  3., nan,  6.,\n",
       "        4.,  7.,  6.,  7.,  1.,  5.,  7.,  9., nan,  4.,  8.,  1.,  2.,\n",
       "        1.,  1.,  3.,  5.,  9.,  0.,  8.,  1.,  6.,  3.,  3.,  5.,  9.,\n",
       "        7.,  9.,  2.,  3.,  3.,  3.,  8.,  6.,  9.,  7.,  6.,  3.,  9.,\n",
       "        6.,  6.,  6.,  1.,  3.,  4.,  3.,  1.,  0.])"
      ]
     },
     "execution_count": 22,
     "metadata": {},
     "output_type": "execute_result"
    }
   ],
   "source": [
    "# Sort the data that is beyond the threshold and assign it with np.nan value\n",
    "### BEGIN SOLUTION\n",
    "fill_nan = np.where(outlier_series[\"Outlier\"]<0.0,np.nan,outlier_series[\"Outlier\"])\n",
    "fill_nan = np.where(outlier_series[\"Outlier\"]>9.0,np.nan,fill_nan)\n",
    "### END SOLUTION\n",
    "fill_nan"
   ]
  },
  {
   "cell_type": "code",
   "execution_count": 23,
   "metadata": {},
   "outputs": [],
   "source": [
    "# Convert the Numpy array to Series to enable it to use interpolate function in Pandas library\n",
    "fill_nan = pd.Series(fill_nan)"
   ]
  },
  {
   "cell_type": "code",
   "execution_count": 24,
   "metadata": {
    "scrolled": true
   },
   "outputs": [
    {
     "data": {
      "text/plain": [
       "<matplotlib.axes._subplots.AxesSubplot at 0x1bb0acf3c48>"
      ]
     },
     "execution_count": 24,
     "metadata": {},
     "output_type": "execute_result"
    },
    {
     "data": {
      "image/png": "[encoded data removed]",
      "text/plain": [
       "<Figure size 432x288 with 1 Axes>"
      ]
     },
     "metadata": {
      "needs_background": "light"
     },
     "output_type": "display_data"
    }
   ],
   "source": [
    "# Perform linear interpolation\n",
    "### BEGIN SOLUTION\n",
    "fill_nan =  fill_nan.interpolate(method='linear')\n",
    "### END SOLUTION\n",
    "fill_nan.plot()"
   ]
  },
  {
   "cell_type": "code",
   "execution_count": 25,
   "metadata": {},
   "outputs": [
    {
     "data": {
      "text/plain": [
       "array([2. , 2. , 6. , 1. , 3. , 9. , 6. , 1. , 0. , 1. , 9. , 0. , 0. ,\n",
       "       9. , 3. , 4. , 0. , 0. , 4. , 1. , 2. , 3. , 2. , 4. , 7. , 5.5,\n",
       "       4. , 8. , 0. , 7. , 5. , 3. , 4. , 6. , 1. , 5. , 6. , 2. , 1. ,\n",
       "       8. , 3. , 5. , 0. , 2. , 6. , 2. , 4. , 4. , 6. , 3. , 4.5, 6. ,\n",
       "       4. , 7. , 6. , 7. , 1. , 5. , 7. , 9. , 6.5, 4. , 8. , 1. , 2. ,\n",
       "       1. , 1. , 3. , 5. , 9. , 0. , 8. , 1. , 6. , 3. , 3. , 5. , 9. ,\n",
       "       7. , 9. , 2. , 3. , 3. , 3. , 8. , 6. , 9. , 7. , 6. , 3. , 9. ,\n",
       "       6. , 6. , 6. , 1. , 3. , 4. , 3. , 1. , 0. ])"
      ]
     },
     "execution_count": 25,
     "metadata": {},
     "output_type": "execute_result"
    }
   ],
   "source": [
    "#Show nan value that been replaced using linear interpolation\n",
    "np.array(fill_nan)"
   ]
  },
  {
   "cell_type": "markdown",
   "metadata": {},
   "source": [
    "### Eg. 2.2.3 - Cap the outliers with a certain range\n",
    "Use `np.where()` to sort the data that is beyond the threshold and assign it with respective quantile value."
   ]
  },
  {
   "cell_type": "code",
   "execution_count": 26,
   "metadata": {},
   "outputs": [
    {
     "data": {
      "text/plain": [
       "<matplotlib.axes._subplots.AxesSubplot at 0x1bb0adc0908>"
      ]
     },
     "execution_count": 26,
     "metadata": {},
     "output_type": "execute_result"
    },
    {
     "data": {
      "image/png": "[encoded data removed]",
      "text/plain": [
       "<Figure size 432x288 with 1 Axes>"
      ]
     },
     "metadata": {
      "needs_background": "light"
     },
     "output_type": "display_data"
    }
   ],
   "source": [
    "# Sort the data that is beyong with the threshold and assign it with respective quantile value.\n",
    "### BEGIN SOLUTION\n",
    "capped_series = np.where(outlier_series< ten_percent_quantile, ten_percent_quantile,outlier_series)\n",
    "capped_series = np.where(outlier_series> ninety_percent_quantile, ninety_percent_quantile,capped_series)\n",
    "### END SOLUTION\n",
    "capped_series  = pd.DataFrame(capped_series,columns = ['capped_series '])\n",
    "capped_series.plot()"
   ]
  },
  {
   "cell_type": "markdown",
   "metadata": {},
   "source": [
    "# Eg. 3 - Different types of data handling techniques  "
   ]
  },
  {
   "cell_type": "code",
   "execution_count": 27,
   "metadata": {},
   "outputs": [],
   "source": [
    "# Create synthetic data \n",
    "date = pd.DataFrame({'Date': pd.date_range('2020-01-01', '2020-02-03', freq='1H', closed='left')})\n",
    "# reproducibility\n",
    "np.random.seed(123)\n",
    "\n",
    "# time component\n",
    "time = np.arange(len(date))\n",
    "\n",
    "# data\n",
    "noise = np.random.normal(loc=0, scale=6.5, size=len(time))\n",
    "trend = time * 2.75\n",
    "seasonality = 10 + np.sin(time * 0.25) * 20\n",
    "data = trend + seasonality + noise\n",
    "data = pd.Series(data)"
   ]
  },
  {
   "cell_type": "markdown",
   "metadata": {},
   "source": [
    "## Eg. 3.1 - Cumulative Data \n",
    "Sometimes the data comes in cumulative form. To perform the time series prediction, you need to remove the accumulation by using `cumulative - cumulative.shift().fillna(0)` "
   ]
  },
  {
   "cell_type": "code",
   "execution_count": 28,
   "metadata": {},
   "outputs": [],
   "source": [
    "# Create synthetic cummulative data\n",
    "### BEGIN SOLUTION\n",
    "cumulative = data.cumsum()\n",
    "### END SOLUTION"
   ]
  },
  {
   "cell_type": "code",
   "execution_count": 29,
   "metadata": {},
   "outputs": [],
   "source": [
    "# Remove cummualative \n",
    "### BEGIN SOLUTION\n",
    "remove_cumulative = cumulative - cumulative.shift().fillna(0)\n",
    "### END SOLUTION"
   ]
  },
  {
   "cell_type": "code",
   "execution_count": 30,
   "metadata": {},
   "outputs": [
    {
     "data": {
      "image/png": "[encoded data removed]",
      "text/plain": [
       "<Figure size 720x360 with 2 Axes>"
      ]
     },
     "metadata": {
      "needs_background": "light"
     },
     "output_type": "display_data"
    }
   ],
   "source": [
    "fig, (ax1, ax2) = plt.subplots(1, 2,figsize=(10,5))\n",
    "ax1.plot(cumulative)\n",
    "ax2.plot(remove_cumulative)\n",
    "ax1.title.set_text('Data in cumulative form')\n",
    "ax2.title.set_text('Data in normal form')"
   ]
  },
  {
   "cell_type": "markdown",
   "metadata": {},
   "source": [
    "## Eg. 3.2 - Hourly Data\n",
    "Sometimes the data may be in an hourly frequency, but you're doing an analysis that requires data to be in a daily basis. This type of processing is possible using `df.resample('D').sum()`."
   ]
  },
  {
   "cell_type": "code",
   "execution_count": 31,
   "metadata": {},
   "outputs": [
    {
     "data": {
      "text/html": [
       "<div>\n",
       "<style scoped>\n",
       "    .dataframe tbody tr th:only-of-type {\n",
       "        vertical-align: middle;\n",
       "    }\n",
       "\n",
       "    .dataframe tbody tr th {\n",
       "        vertical-align: top;\n",
       "    }\n",
       "\n",
       "    .dataframe thead th {\n",
       "        text-align: right;\n",
       "    }\n",
       "</style>\n",
       "<table border=\"1\" class=\"dataframe\">\n",
       "  <thead>\n",
       "    <tr style=\"text-align: right;\">\n",
       "      <th></th>\n",
       "      <th>Random_Data</th>\n",
       "    </tr>\n",
       "    <tr>\n",
       "      <th>Date</th>\n",
       "      <th></th>\n",
       "    </tr>\n",
       "  </thead>\n",
       "  <tbody>\n",
       "    <tr>\n",
       "      <th>2020-01-01 00:00:00</th>\n",
       "      <td>2.943401</td>\n",
       "    </tr>\n",
       "    <tr>\n",
       "      <th>2020-01-01 01:00:00</th>\n",
       "      <td>24.180825</td>\n",
       "    </tr>\n",
       "    <tr>\n",
       "      <th>2020-01-01 02:00:00</th>\n",
       "      <td>26.927871</td>\n",
       "    </tr>\n",
       "    <tr>\n",
       "      <th>2020-01-01 03:00:00</th>\n",
       "      <td>22.091860</td>\n",
       "    </tr>\n",
       "    <tr>\n",
       "      <th>2020-01-01 04:00:00</th>\n",
       "      <td>34.068518</td>\n",
       "    </tr>\n",
       "  </tbody>\n",
       "</table>\n",
       "</div>"
      ],
      "text/plain": [
       "                     Random_Data\n",
       "Date                            \n",
       "2020-01-01 00:00:00     2.943401\n",
       "2020-01-01 01:00:00    24.180825\n",
       "2020-01-01 02:00:00    26.927871\n",
       "2020-01-01 03:00:00    22.091860\n",
       "2020-01-01 04:00:00    34.068518"
      ]
     },
     "execution_count": 31,
     "metadata": {},
     "output_type": "execute_result"
    }
   ],
   "source": [
    "# Create the hourly synthetic data \n",
    "### BEGIN SOLUTION\n",
    "rand_data = pd.DataFrame(data,columns=['Random_Data'])\n",
    "rand_data = rand_data.set_index(date['Date'])\n",
    "### END SOLUTION\n",
    "rand_data.head()"
   ]
  },
  {
   "cell_type": "markdown",
   "metadata": {},
   "source": [
    "Using `df.resample('D').sum()`, every hourly data will be summed up into daily frequency."
   ]
  },
  {
   "cell_type": "code",
   "execution_count": 32,
   "metadata": {},
   "outputs": [
    {
     "data": {
      "text/html": [
       "<div>\n",
       "<style scoped>\n",
       "    .dataframe tbody tr th:only-of-type {\n",
       "        vertical-align: middle;\n",
       "    }\n",
       "\n",
       "    .dataframe tbody tr th {\n",
       "        vertical-align: top;\n",
       "    }\n",
       "\n",
       "    .dataframe thead th {\n",
       "        text-align: right;\n",
       "    }\n",
       "</style>\n",
       "<table border=\"1\" class=\"dataframe\">\n",
       "  <thead>\n",
       "    <tr style=\"text-align: right;\">\n",
       "      <th></th>\n",
       "      <th>Random_Data</th>\n",
       "    </tr>\n",
       "    <tr>\n",
       "      <th>Date</th>\n",
       "      <th></th>\n",
       "    </tr>\n",
       "  </thead>\n",
       "  <tbody>\n",
       "    <tr>\n",
       "      <th>2020-01-01</th>\n",
       "      <td>1035.880847</td>\n",
       "    </tr>\n",
       "    <tr>\n",
       "      <th>2020-01-02</th>\n",
       "      <td>2547.314940</td>\n",
       "    </tr>\n",
       "    <tr>\n",
       "      <th>2020-01-03</th>\n",
       "      <td>4234.612322</td>\n",
       "    </tr>\n",
       "    <tr>\n",
       "      <th>2020-01-04</th>\n",
       "      <td>5770.604876</td>\n",
       "    </tr>\n",
       "    <tr>\n",
       "      <th>2020-01-05</th>\n",
       "      <td>7336.365689</td>\n",
       "    </tr>\n",
       "  </tbody>\n",
       "</table>\n",
       "</div>"
      ],
      "text/plain": [
       "            Random_Data\n",
       "Date                   \n",
       "2020-01-01  1035.880847\n",
       "2020-01-02  2547.314940\n",
       "2020-01-03  4234.612322\n",
       "2020-01-04  5770.604876\n",
       "2020-01-05  7336.365689"
      ]
     },
     "execution_count": 32,
     "metadata": {},
     "output_type": "execute_result"
    }
   ],
   "source": [
    "### BEGIN SOLUTION\n",
    "resample_data = rand_data.resample('D').sum()\n",
    "### END SOLUTION\n",
    "resample_data.head()"
   ]
  },
  {
   "cell_type": "markdown",
   "metadata": {},
   "source": [
    "## Eg. 3.3 - Change the data type to float \n",
    "Sometimes we might need to change the data type to perform analysis. For example, data that is a numerical value may be in a `String` type. Hence, use `df.astype(dtype)` to cast the data to the `float` data type."
   ]
  },
  {
   "cell_type": "code",
   "execution_count": 33,
   "metadata": {},
   "outputs": [],
   "source": [
    "# Change the data type of `Random_Data` to String type and save it as `String_Random_Data`\n",
    "### BEGIN SOLUTION\n",
    "rand_data = rand_data.assign(String_Random_Data = rand_data['Random_Data'].apply(str))\n",
    "### END SOLUTION"
   ]
  },
  {
   "cell_type": "code",
   "execution_count": 34,
   "metadata": {},
   "outputs": [
    {
     "data": {
      "text/plain": [
       "Random_Data           float64\n",
       "String_Random_Data     object\n",
       "dtype: object"
      ]
     },
     "execution_count": 34,
     "metadata": {},
     "output_type": "execute_result"
    }
   ],
   "source": [
    "# Examine each data type in the DataFrame\n",
    "rand_data.dtypes"
   ]
  },
  {
   "cell_type": "code",
   "execution_count": 35,
   "metadata": {},
   "outputs": [
    {
     "data": {
      "text/html": [
       "<div>\n",
       "<style scoped>\n",
       "    .dataframe tbody tr th:only-of-type {\n",
       "        vertical-align: middle;\n",
       "    }\n",
       "\n",
       "    .dataframe tbody tr th {\n",
       "        vertical-align: top;\n",
       "    }\n",
       "\n",
       "    .dataframe thead th {\n",
       "        text-align: right;\n",
       "    }\n",
       "</style>\n",
       "<table border=\"1\" class=\"dataframe\">\n",
       "  <thead>\n",
       "    <tr style=\"text-align: right;\">\n",
       "      <th></th>\n",
       "      <th>Random_Data</th>\n",
       "      <th>String_Random_Data</th>\n",
       "    </tr>\n",
       "    <tr>\n",
       "      <th>Date</th>\n",
       "      <th></th>\n",
       "      <th></th>\n",
       "    </tr>\n",
       "  </thead>\n",
       "  <tbody>\n",
       "    <tr>\n",
       "      <th>2020-01-01 00:00:00</th>\n",
       "      <td>2.943401</td>\n",
       "      <td>2.9434010785463522</td>\n",
       "    </tr>\n",
       "    <tr>\n",
       "      <th>2020-01-01 01:00:00</th>\n",
       "      <td>24.180825</td>\n",
       "      <td>24.180824587883762</td>\n",
       "    </tr>\n",
       "    <tr>\n",
       "      <th>2020-01-01 02:00:00</th>\n",
       "      <td>26.927871</td>\n",
       "      <td>26.92787100942201</td>\n",
       "    </tr>\n",
       "    <tr>\n",
       "      <th>2020-01-01 03:00:00</th>\n",
       "      <td>22.091860</td>\n",
       "      <td>22.091859559999087</td>\n",
       "    </tr>\n",
       "    <tr>\n",
       "      <th>2020-01-01 04:00:00</th>\n",
       "      <td>34.068518</td>\n",
       "      <td>34.06851805836244</td>\n",
       "    </tr>\n",
       "  </tbody>\n",
       "</table>\n",
       "</div>"
      ],
      "text/plain": [
       "                     Random_Data  String_Random_Data\n",
       "Date                                                \n",
       "2020-01-01 00:00:00     2.943401  2.9434010785463522\n",
       "2020-01-01 01:00:00    24.180825  24.180824587883762\n",
       "2020-01-01 02:00:00    26.927871   26.92787100942201\n",
       "2020-01-01 03:00:00    22.091860  22.091859559999087\n",
       "2020-01-01 04:00:00    34.068518   34.06851805836244"
      ]
     },
     "execution_count": 35,
     "metadata": {},
     "output_type": "execute_result"
    }
   ],
   "source": [
    "rand_data.head()"
   ]
  },
  {
   "cell_type": "markdown",
   "metadata": {},
   "source": [
    "Some of the Pandas function will not work as the data is in `object` data type.For example,`rand_data.resample('D').sum()` will not work in `String_Random_Data`."
   ]
  },
  {
   "cell_type": "code",
   "execution_count": 36,
   "metadata": {},
   "outputs": [
    {
     "data": {
      "text/html": [
       "<div>\n",
       "<style scoped>\n",
       "    .dataframe tbody tr th:only-of-type {\n",
       "        vertical-align: middle;\n",
       "    }\n",
       "\n",
       "    .dataframe tbody tr th {\n",
       "        vertical-align: top;\n",
       "    }\n",
       "\n",
       "    .dataframe thead th {\n",
       "        text-align: right;\n",
       "    }\n",
       "</style>\n",
       "<table border=\"1\" class=\"dataframe\">\n",
       "  <thead>\n",
       "    <tr style=\"text-align: right;\">\n",
       "      <th></th>\n",
       "      <th>Random_Data</th>\n",
       "    </tr>\n",
       "    <tr>\n",
       "      <th>Date</th>\n",
       "      <th></th>\n",
       "    </tr>\n",
       "  </thead>\n",
       "  <tbody>\n",
       "    <tr>\n",
       "      <th>2020-01-01</th>\n",
       "      <td>1035.880847</td>\n",
       "    </tr>\n",
       "    <tr>\n",
       "      <th>2020-01-02</th>\n",
       "      <td>2547.314940</td>\n",
       "    </tr>\n",
       "    <tr>\n",
       "      <th>2020-01-03</th>\n",
       "      <td>4234.612322</td>\n",
       "    </tr>\n",
       "    <tr>\n",
       "      <th>2020-01-04</th>\n",
       "      <td>5770.604876</td>\n",
       "    </tr>\n",
       "    <tr>\n",
       "      <th>2020-01-05</th>\n",
       "      <td>7336.365689</td>\n",
       "    </tr>\n",
       "  </tbody>\n",
       "</table>\n",
       "</div>"
      ],
      "text/plain": [
       "            Random_Data\n",
       "Date                   \n",
       "2020-01-01  1035.880847\n",
       "2020-01-02  2547.314940\n",
       "2020-01-03  4234.612322\n",
       "2020-01-04  5770.604876\n",
       "2020-01-05  7336.365689"
      ]
     },
     "execution_count": 36,
     "metadata": {},
     "output_type": "execute_result"
    }
   ],
   "source": [
    "### BEGIN SOLUTION\n",
    "resample_data = rand_data.resample('D').sum()\n",
    "### END SOLUTION\n",
    "resample_data.head()"
   ]
  },
  {
   "cell_type": "markdown",
   "metadata": {},
   "source": [
    "Hence, we need to cast the `String_Random_Data` to float."
   ]
  },
  {
   "cell_type": "code",
   "execution_count": 37,
   "metadata": {},
   "outputs": [],
   "source": [
    "# Cast data to float data type\n",
    "### BEGIN SOLUTION\n",
    "rand_data['String_Random_Data'] = rand_data['String_Random_Data'].astype(float)\n",
    "### END SOLUTION"
   ]
  },
  {
   "cell_type": "code",
   "execution_count": 38,
   "metadata": {},
   "outputs": [
    {
     "data": {
      "text/plain": [
       "Random_Data           float64\n",
       "String_Random_Data    float64\n",
       "dtype: object"
      ]
     },
     "execution_count": 38,
     "metadata": {},
     "output_type": "execute_result"
    }
   ],
   "source": [
    "# Examine each data type in the DataFrame\n",
    "rand_data.dtypes"
   ]
  },
  {
   "cell_type": "code",
   "execution_count": 39,
   "metadata": {},
   "outputs": [
    {
     "data": {
      "text/html": [
       "<div>\n",
       "<style scoped>\n",
       "    .dataframe tbody tr th:only-of-type {\n",
       "        vertical-align: middle;\n",
       "    }\n",
       "\n",
       "    .dataframe tbody tr th {\n",
       "        vertical-align: top;\n",
       "    }\n",
       "\n",
       "    .dataframe thead th {\n",
       "        text-align: right;\n",
       "    }\n",
       "</style>\n",
       "<table border=\"1\" class=\"dataframe\">\n",
       "  <thead>\n",
       "    <tr style=\"text-align: right;\">\n",
       "      <th></th>\n",
       "      <th>Random_Data</th>\n",
       "      <th>String_Random_Data</th>\n",
       "    </tr>\n",
       "    <tr>\n",
       "      <th>Date</th>\n",
       "      <th></th>\n",
       "      <th></th>\n",
       "    </tr>\n",
       "  </thead>\n",
       "  <tbody>\n",
       "    <tr>\n",
       "      <th>2020-01-01</th>\n",
       "      <td>1035.880847</td>\n",
       "      <td>1035.880847</td>\n",
       "    </tr>\n",
       "    <tr>\n",
       "      <th>2020-01-02</th>\n",
       "      <td>2547.314940</td>\n",
       "      <td>2547.314940</td>\n",
       "    </tr>\n",
       "    <tr>\n",
       "      <th>2020-01-03</th>\n",
       "      <td>4234.612322</td>\n",
       "      <td>4234.612322</td>\n",
       "    </tr>\n",
       "    <tr>\n",
       "      <th>2020-01-04</th>\n",
       "      <td>5770.604876</td>\n",
       "      <td>5770.604876</td>\n",
       "    </tr>\n",
       "    <tr>\n",
       "      <th>2020-01-05</th>\n",
       "      <td>7336.365689</td>\n",
       "      <td>7336.365689</td>\n",
       "    </tr>\n",
       "  </tbody>\n",
       "</table>\n",
       "</div>"
      ],
      "text/plain": [
       "            Random_Data  String_Random_Data\n",
       "Date                                       \n",
       "2020-01-01  1035.880847         1035.880847\n",
       "2020-01-02  2547.314940         2547.314940\n",
       "2020-01-03  4234.612322         4234.612322\n",
       "2020-01-04  5770.604876         5770.604876\n",
       "2020-01-05  7336.365689         7336.365689"
      ]
     },
     "execution_count": 39,
     "metadata": {},
     "output_type": "execute_result"
    }
   ],
   "source": [
    "# df.resample('D').sum() result after casting \n",
    "resample_data = rand_data.resample('D').sum()\n",
    "resample_data.head()"
   ]
  },
  {
   "cell_type": "markdown",
   "metadata": {},
   "source": [
    "# Ex. 1 Exercise for Data Preprocessing Techniques\n",
    "## Introduction \n",
    "You are given a set of data that contain a few problems like missing data, outliers, etc.<br> \n",
    "\n",
    "*The COVID-19 dataset used in this exercise is synthetic.*\n",
    "\n",
    ">**Details of Data**: <br>\n",
    "Cases    : The number of COVID-19 cases in Wonder Land<br>\n",
    "Discharged    : The number of discharged patients from Hospital <br>\n",
    "Death    : Number of deceased COVID-19 patients.<br>\n",
    "ICU    : Number of patients in ICU<br>\n",
    "\n",
    ">**Instruction**: <br>\n",
    "Perform suitable data analysis and select the correct method to handle the problematic data.\n",
    "\n",
    "\n",
    "\n",
    "\n",
    ">**Expected Result**:<br>\n",
    "For the first 5 rows:\n",
    "\n",
    "date|\tCases|\tDischarged|\tDeath|\tICU\n",
    "---|---|---|---|---\t\t\t\t\n",
    "01/03/2020|\t29.0|\t22.0|\t0.0|\t0.0\n",
    "02/03/2020|\t0.0|\t0.0|\t0.0|\t0.0\n",
    "03/03/2020|\t7.0|\t0.0|\t0.0|\t0.0\n",
    "04/03/2020|\t14.0|\t0.0|\t0.0|\t0.0\n",
    "05/03/2020|\t0.0|\t0.0|\t0.0|\t0.0"
   ]
  },
  {
   "cell_type": "code",
   "execution_count": 40,
   "metadata": {},
   "outputs": [
    {
     "data": {
      "text/html": [
       "<div>\n",
       "<style scoped>\n",
       "    .dataframe tbody tr th:only-of-type {\n",
       "        vertical-align: middle;\n",
       "    }\n",
       "\n",
       "    .dataframe tbody tr th {\n",
       "        vertical-align: top;\n",
       "    }\n",
       "\n",
       "    .dataframe thead th {\n",
       "        text-align: right;\n",
       "    }\n",
       "</style>\n",
       "<table border=\"1\" class=\"dataframe\">\n",
       "  <thead>\n",
       "    <tr style=\"text-align: right;\">\n",
       "      <th></th>\n",
       "      <th>Unnamed: 0</th>\n",
       "      <th>Cases</th>\n",
       "      <th>Discharged</th>\n",
       "      <th>Death</th>\n",
       "      <th>ICU</th>\n",
       "    </tr>\n",
       "    <tr>\n",
       "      <th>date</th>\n",
       "      <th></th>\n",
       "      <th></th>\n",
       "      <th></th>\n",
       "      <th></th>\n",
       "      <th></th>\n",
       "    </tr>\n",
       "  </thead>\n",
       "  <tbody>\n",
       "    <tr>\n",
       "      <th>01/03/2020</th>\n",
       "      <td>0</td>\n",
       "      <td>29</td>\n",
       "      <td>22.0</td>\n",
       "      <td>0.0</td>\n",
       "      <td>0</td>\n",
       "    </tr>\n",
       "    <tr>\n",
       "      <th>02/03/2020</th>\n",
       "      <td>1</td>\n",
       "      <td>29</td>\n",
       "      <td>NaN</td>\n",
       "      <td>0.0</td>\n",
       "      <td>0</td>\n",
       "    </tr>\n",
       "    <tr>\n",
       "      <th>03/03/2020</th>\n",
       "      <td>2</td>\n",
       "      <td>36</td>\n",
       "      <td>NaN</td>\n",
       "      <td>0.0</td>\n",
       "      <td>0</td>\n",
       "    </tr>\n",
       "    <tr>\n",
       "      <th>04/03/2020</th>\n",
       "      <td>3</td>\n",
       "      <td>50</td>\n",
       "      <td>NaN</td>\n",
       "      <td>0.0</td>\n",
       "      <td>0</td>\n",
       "    </tr>\n",
       "    <tr>\n",
       "      <th>05/03/2020</th>\n",
       "      <td>4</td>\n",
       "      <td>50</td>\n",
       "      <td>NaN</td>\n",
       "      <td>0.0</td>\n",
       "      <td>-10</td>\n",
       "    </tr>\n",
       "  </tbody>\n",
       "</table>\n",
       "</div>"
      ],
      "text/plain": [
       "            Unnamed: 0  Cases  Discharged  Death  ICU\n",
       "date                                                 \n",
       "01/03/2020           0     29        22.0    0.0    0\n",
       "02/03/2020           1     29         NaN    0.0    0\n",
       "03/03/2020           2     36         NaN    0.0    0\n",
       "04/03/2020           3     50         NaN    0.0    0\n",
       "05/03/2020           4     50         NaN    0.0  -10"
      ]
     },
     "execution_count": 40,
     "metadata": {},
     "output_type": "execute_result"
    }
   ],
   "source": [
    "# Read the CSV data\n",
    "covid_data = pd.read_csv(\"../../datasets/others/covid-19_dummy.csv\")\n",
    "covid_data = covid_data.set_index('date')\n",
    "covid_data.head()"
   ]
  },
  {
   "cell_type": "code",
   "execution_count": 41,
   "metadata": {
    "scrolled": true
   },
   "outputs": [
    {
     "data": {
      "image/png": "[encoded data removed]",
      "text/plain": [
       "<Figure size 792x648 with 5 Axes>"
      ]
     },
     "metadata": {
      "needs_background": "light"
     },
     "output_type": "display_data"
    }
   ],
   "source": [
    "# Visualization\n",
    "axes = covid_data[covid_data.columns].plot(alpha=1.0, linestyle='-', figsize=(11, 9), subplots=True)\n",
    "for ax in axes:\n",
    "    ax.set_ylabel('COVID-19 in Wonder Land')"
   ]
  },
  {
   "cell_type": "code",
   "execution_count": 42,
   "metadata": {},
   "outputs": [
    {
     "data": {
      "text/html": [
       "<div>\n",
       "<style scoped>\n",
       "    .dataframe tbody tr th:only-of-type {\n",
       "        vertical-align: middle;\n",
       "    }\n",
       "\n",
       "    .dataframe tbody tr th {\n",
       "        vertical-align: top;\n",
       "    }\n",
       "\n",
       "    .dataframe thead th {\n",
       "        text-align: right;\n",
       "    }\n",
       "</style>\n",
       "<table border=\"1\" class=\"dataframe\">\n",
       "  <thead>\n",
       "    <tr style=\"text-align: right;\">\n",
       "      <th></th>\n",
       "      <th>Cases</th>\n",
       "      <th>Discharged</th>\n",
       "      <th>Death</th>\n",
       "      <th>ICU</th>\n",
       "    </tr>\n",
       "    <tr>\n",
       "      <th>date</th>\n",
       "      <th></th>\n",
       "      <th></th>\n",
       "      <th></th>\n",
       "      <th></th>\n",
       "    </tr>\n",
       "  </thead>\n",
       "  <tbody>\n",
       "    <tr>\n",
       "      <th>01/03/2020</th>\n",
       "      <td>29.0</td>\n",
       "      <td>22.0</td>\n",
       "      <td>0.0</td>\n",
       "      <td>0.0</td>\n",
       "    </tr>\n",
       "    <tr>\n",
       "      <th>02/03/2020</th>\n",
       "      <td>0.0</td>\n",
       "      <td>0.0</td>\n",
       "      <td>0.0</td>\n",
       "      <td>0.0</td>\n",
       "    </tr>\n",
       "    <tr>\n",
       "      <th>03/03/2020</th>\n",
       "      <td>7.0</td>\n",
       "      <td>0.0</td>\n",
       "      <td>0.0</td>\n",
       "      <td>0.0</td>\n",
       "    </tr>\n",
       "    <tr>\n",
       "      <th>04/03/2020</th>\n",
       "      <td>14.0</td>\n",
       "      <td>0.0</td>\n",
       "      <td>0.0</td>\n",
       "      <td>0.0</td>\n",
       "    </tr>\n",
       "    <tr>\n",
       "      <th>05/03/2020</th>\n",
       "      <td>0.0</td>\n",
       "      <td>0.0</td>\n",
       "      <td>0.0</td>\n",
       "      <td>0.0</td>\n",
       "    </tr>\n",
       "  </tbody>\n",
       "</table>\n",
       "</div>"
      ],
      "text/plain": [
       "            Cases  Discharged  Death  ICU\n",
       "date                                     \n",
       "01/03/2020   29.0        22.0    0.0  0.0\n",
       "02/03/2020    0.0         0.0    0.0  0.0\n",
       "03/03/2020    7.0         0.0    0.0  0.0\n",
       "04/03/2020   14.0         0.0    0.0  0.0\n",
       "05/03/2020    0.0         0.0    0.0  0.0"
      ]
     },
     "execution_count": 42,
     "metadata": {},
     "output_type": "execute_result"
    }
   ],
   "source": [
    "### BEGIN SOLUTION\n",
    "process_covid = covid_data.fillna(method='ffill')\n",
    "process_covid[\"ICU\"] = np.where(process_covid[\"ICU\"]<0.0,0,process_covid[\"ICU\"])\n",
    "process_covid = process_covid.drop(columns=['Unnamed: 0'])\n",
    "process_covid = process_covid.astype(float)\n",
    "for name in process_covid.columns:\n",
    "    process_covid[name] = process_covid[name] - process_covid[name].shift().fillna(0)\n",
    "process_covid.head() \n",
    "### END SOLUTION"
   ]
  },
  {
   "cell_type": "code",
   "execution_count": 43,
   "metadata": {},
   "outputs": [
    {
     "data": {
      "image/png": "[encoded data removed]",
      "text/plain": [
       "<Figure size 792x648 with 4 Axes>"
      ]
     },
     "metadata": {
      "needs_background": "light"
     },
     "output_type": "display_data"
    }
   ],
   "source": [
    "axes = process_covid[process_covid.columns].plot(alpha=1.0, linestyle='-', figsize=(11, 9), subplots=True)\n",
    "for ax in axes:\n",
    "    ax.set_ylabel('COVID-19 in Wonder Land')"
   ]
  },
  {
   "cell_type": "markdown",
   "metadata": {},
   "source": [
    "# Reference\n",
    "1. [Pandas Documentation](https://pandas.pydata.org/pandas-docs/stable/reference/api/pandas.DataFrame.fillna.html)\n",
    "2. [Imputing the time-series using python.](https://drnesr.medium.com/filling-gaps-of-a-time-series-using-python-d4bfddd8c460)\n",
    "3. [Day 19: The easiest way to remove outliers from time series data](https://neuraljojo.medium.com/day-19-the-easiest-way-to-remove-outliers-from-time-series-data-d7a3f322d759)\n",
    "4. [Cleaning up Data from Outliers](https://www.pluralsight.com/guides/cleaning-up-data-from-outliers)"
   ]
  }
 ],
 "metadata": {
  "celltoolbar": "Edit Metadata",
  "kernelspec": {
   "display_name": "Python 3",
   "language": "python",
   "name": "python3"
  },
  "language_info": {
   "codemirror_mode": {
    "name": "ipython",
    "version": 3
   },
   "file_extension": ".py",
   "mimetype": "text/x-python",
   "name": "python",
   "nbconvert_exporter": "python",
   "pygments_lexer": "ipython3",
   "version": "3.7.6"
  }
 },
 "nbformat": 4,
 "nbformat_minor": 5
}