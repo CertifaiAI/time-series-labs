{
 "cells": [
  {
   "cell_type": "markdown",
   "metadata": {
    "deletable": false,
    "editable": false
   },
   "source": [
    "> **Copyright &copy; 2020 CertifAI Sdn. Bhd.**<br>\n",
    " **Copyright &copy; 2021 CertifAI Sdn. Bhd.**<br>\n",
    " <br>\n",
    "This program and the accompanying materials are made available under the\n",
    "terms of the [Apache License, Version 2.0](https://www.apache.org/licenses/LICENSE-2.0). \\\n",
    "Unless required by applicable law or agreed to in writing, software\n",
    "distributed under the License is distributed on an \"AS IS\" BASIS, WITHOUT\n",
    "WARRANTIES OR CONDITIONS OF ANY KIND, either express or implied. See the\n",
    "License for the specific language governing permissions and limitations\n",
    "under the License. <br>\n",
    "<br>**SPDX-License-Identifier: Apache-2.0**"
   ]
  },
  {
   "cell_type": "markdown",
   "metadata": {},
   "source": [
    "# Univariate LSTM"
   ]
  },
  {
   "cell_type": "markdown",
   "metadata": {},
   "source": [
    "This tutorial is to demonstrate the process in build LSTM for the Univariate Time Series Data,<br>\n",
    "It consists of 2 major part which are :\n",
    "\n",
    "1. The Demostration of Building LSTM using Synthetic data \n",
    "2. Exercise of building LSTM using shampoo sales data.\n",
    "\n",
    "First, we will show the step in building the LSTM : \n",
    "\n",
    "Step 1. Data Preparation (Data Splitting,Data Sequencing,Data Normalization and Batching the Data)<br>\n",
    "Step 2. Model Configuration (Vanila LSTM , Stacked LSTM , Bidirectional LSTM)<br>\n",
    "Step 3. Train the model <br>\n",
    "Step 4. Validate the model using graph <br>\n",
    "Step 5. Evaluation Metrics such as MSE <br>\n",
    "Step 6. Plot the forecast result\n",
    "\n",
    "First , let's us import the package needed"
   ]
  },
  {
   "cell_type": "code",
   "execution_count": 1,
   "metadata": {},
   "outputs": [],
   "source": [
    "#import packages needed\n",
    "import numpy as np\n",
    "import pandas as pd\n",
    "import matplotlib.pyplot as plt\n",
    "import torch\n",
    "import torch.nn as nn\n",
    "from torch.utils.data import DataLoader,TensorDataset\n",
    "from sklearn.metrics import mean_squared_error\n",
    "from sklearn.preprocessing import StandardScaler,MinMaxScaler\n",
    "import math\n",
    "from scipy import stats"
   ]
  },
  {
   "cell_type": "code",
   "execution_count": 2,
   "metadata": {},
   "outputs": [],
   "source": [
    "#Data sequencing function \n",
    "def univariate_single_step(sequence, window_size):\n",
    "    x, y = list(), list()\n",
    "    for i in range(len(sequence)):\n",
    "    # find the end of this pattern\n",
    "        end_ix = i + window_size\n",
    "        # check if we are beyond the sequence\n",
    "        if end_ix > len(sequence)-1:\n",
    "            break\n",
    "    # gather input and output parts of the pattern\n",
    "        seq_x, seq_y = sequence[i:end_ix], sequence[end_ix]\n",
    "        x.append(seq_x)\n",
    "        y.append(seq_y)\n",
    "    return np.array(x), np.array(y)\n"
   ]
  },
  {
   "cell_type": "markdown",
   "metadata": {},
   "source": [
    "## Hyper parameter\n",
    "Define the hyper parameter that need to tune the model "
   ]
  },
  {
   "cell_type": "code",
   "execution_count": 3,
   "metadata": {},
   "outputs": [
    {
     "data": {
      "text/plain": [
       "<torch._C.Generator at 0x1e272cea310>"
      ]
     },
     "execution_count": 3,
     "metadata": {},
     "output_type": "execute_result"
    }
   ],
   "source": [
    "split_ratio = 0.70\n",
    "num_epochs = 800\n",
    "window_size = 2\n",
    "batch_size = 10\n",
    "#seed\n",
    "torch.manual_seed(123)"
   ]
  },
  {
   "cell_type": "markdown",
   "metadata": {},
   "source": [
    "# Data Preparation\n",
    "We create synthetic data to make sure the model is created correctly and having ability to perform the forecasting "
   ]
  },
  {
   "cell_type": "code",
   "execution_count": 4,
   "metadata": {},
   "outputs": [
    {
     "name": "stdout",
     "output_type": "stream",
     "text": [
      "(40,)\n"
     ]
    },
    {
     "data": {
      "text/plain": [
       "array([  0,  10,  20,  30,  40,  50,  60,  70,  80,  90, 100, 110, 120,\n",
       "       130, 140, 150, 160, 170, 180, 190, 200, 210, 220, 230, 240, 250,\n",
       "       260, 270, 280, 290, 300, 310, 320, 330, 340, 350, 360, 370, 380,\n",
       "       390])"
      ]
     },
     "execution_count": 4,
     "metadata": {},
     "output_type": "execute_result"
    }
   ],
   "source": [
    "#Synthetic Data\n",
    "univariate_series = np.array([x for x in range(0, 400, 10)])\n",
    "print(univariate_series.shape)\n",
    "univariate_series"
   ]
  },
  {
   "cell_type": "markdown",
   "metadata": {},
   "source": [
    "## Data Splitting"
   ]
  },
  {
   "cell_type": "code",
   "execution_count": 5,
   "metadata": {},
   "outputs": [
    {
     "data": {
      "text/plain": [
       "28"
      ]
     },
     "execution_count": 5,
     "metadata": {},
     "output_type": "execute_result"
    }
   ],
   "source": [
    "split_data = round(len(univariate_series)*split_ratio)\n",
    "split_data"
   ]
  },
  {
   "cell_type": "code",
   "execution_count": 6,
   "metadata": {},
   "outputs": [
    {
     "name": "stdout",
     "output_type": "stream",
     "text": [
      "train_data_shape\n",
      "(28,)\n",
      "test_data_shape\n",
      "(12,)\n"
     ]
    }
   ],
   "source": [
    "#split data by indexing \n",
    "train_data = univariate_series[:split_data]\n",
    "test_data = univariate_series[split_data:]\n",
    "print(\"train_data_shape\")\n",
    "print(train_data.shape)\n",
    "print(\"test_data_shape\")\n",
    "print(test_data.shape)"
   ]
  },
  {
   "cell_type": "markdown",
   "metadata": {},
   "source": [
    "## Data Standardization\n",
    "Standardize your numeric attributes to have a 0 mean and unit variance."
   ]
  },
  {
   "cell_type": "code",
   "execution_count": 7,
   "metadata": {},
   "outputs": [],
   "source": [
    "# Build the standard scaler, Use to fit the train data and take the statistic of train data apply in test data\n",
    "scaler = StandardScaler().fit(train_data.reshape(-1, 1))\n",
    "train_data_standard = scaler.transform(train_data.reshape(-1, 1))\n",
    "test_data_standard = scaler.transform(test_data.reshape(-1, 1))"
   ]
  },
  {
   "cell_type": "markdown",
   "metadata": {},
   "source": [
    "## Data Sequencing\n",
    "Sequencing the data "
   ]
  },
  {
   "cell_type": "code",
   "execution_count": 8,
   "metadata": {},
   "outputs": [
    {
     "name": "stdout",
     "output_type": "stream",
     "text": [
      "trainX shape:(26, 2, 1) trainY shape:(26, 1)\n",
      "\n",
      "testX shape:(10, 2, 1) testX shape:(10, 1)\n"
     ]
    }
   ],
   "source": [
    "trainX ,trainY =  univariate_single_step(train_data_standard,window_size)\n",
    "testX , testY = univariate_single_step(test_data_standard,window_size)\n",
    "print(f\"trainX shape:{trainX.shape} trainY shape:{trainY.shape}\\n\")\n",
    "print(f\"testX shape:{testX.shape} testX shape:{testY.shape}\")\n"
   ]
  },
  {
   "cell_type": "markdown",
   "metadata": {},
   "source": [
    "## Data Transform\n",
    "Data need to transform from numpy to pytorch tensor before feed into the model "
   ]
  },
  {
   "cell_type": "code",
   "execution_count": 9,
   "metadata": {},
   "outputs": [
    {
     "name": "stdout",
     "output_type": "stream",
     "text": [
      "trainX shape:torch.Size([26, 2, 1]) trainY shape:torch.Size([26, 1])\n",
      "\n",
      "testX shape:torch.Size([10, 2, 1]) testY shape:torch.Size([10, 1])\n"
     ]
    }
   ],
   "source": [
    "#transfrom to Pytorch tensor\n",
    "trainX = torch.from_numpy(trainX).type(torch.Tensor)\n",
    "trainY = torch.from_numpy(trainY).type(torch.Tensor)\n",
    "testX = torch.from_numpy(testX).type(torch.Tensor)\n",
    "testY = torch.from_numpy(testY).type(torch.Tensor)\n",
    "print(f\"trainX shape:{trainX.shape} trainY shape:{trainY.shape}\\n\")\n",
    "print(f\"testX shape:{testX.shape} testY shape:{testY.shape}\")"
   ]
  },
  {
   "cell_type": "code",
   "execution_count": 10,
   "metadata": {},
   "outputs": [
    {
     "name": "stdout",
     "output_type": "stream",
     "text": [
      "Features are now in the shape of torch.Size([26, 2, 1]) while labels are now in the shape of torch.Size([26, 1])\n",
      "\n",
      "x-feature\n",
      "26 = total number of data \n",
      "2 = window size \n",
      "1 = number of time series\n",
      "\n",
      "y-label\n",
      "26 = number of data\n",
      "1 = number of step\n",
      "\n"
     ]
    }
   ],
   "source": [
    "#  Display the shape to make sure the transform is success\n",
    "print(f\"Features are now in the shape of {trainX.shape} while labels are now in the shape of {trainY.shape}\\n\")\n",
    "print(\"x-feature\\n\"+str(trainX.shape[0])+\" = total number of data \")\n",
    "print(str(trainX.shape[1])+\" = window size \")\n",
    "print(str(trainX.shape[2])+\" = number of time series\\n\")\n",
    "print(\"y-label\\n\"+str(trainY.shape[0])+\" = number of data\")\n",
    "print(str(trainY.shape[1])+\" = number of step\\n\")"
   ]
  },
  {
   "cell_type": "markdown",
   "metadata": {},
   "source": [
    "## Data Iterator\n",
    "Iterator is create to allow the data separate into several batches to fasten the training process"
   ]
  },
  {
   "cell_type": "code",
   "execution_count": 11,
   "metadata": {},
   "outputs": [],
   "source": [
    "# Create Iterator\n",
    "train_dataset = TensorDataset(trainX, trainY)\n",
    "train_iter = DataLoader(train_dataset,batch_size=batch_size,shuffle=False)\n",
    "\n",
    "test_dataset = TensorDataset(testX, testY)\n",
    "test_iter = DataLoader(test_dataset,batch_size=batch_size,shuffle=False)"
   ]
  },
  {
   "cell_type": "markdown",
   "metadata": {},
   "source": [
    "# LSTM Model Configuration "
   ]
  },
  {
   "cell_type": "markdown",
   "metadata": {},
   "source": [
    "## Vanila LSTM\n",
    "\n",
    "The method use to create the model is call pytorch subclass method. It consists of 2 part where the first part is allow user to define the structure of the model such as the **number of input unit**, **number of output unit** and **number of hidden unit** as well. \n",
    "\n",
    "Second part of the method consist of forward() method , it allow user to control the flow of input data. "
   ]
  },
  {
   "cell_type": "code",
   "execution_count": 12,
   "metadata": {},
   "outputs": [],
   "source": [
    "class LSTM(nn.Module):\n",
    "\n",
    "        def __init__(self, n_feature, hidden_dim, num_layers, output_dim):\n",
    "            super(LSTM, self).__init__()\n",
    "\n",
    "            self.n_feature = n_feature\n",
    "            # Hidden dimensions\n",
    "            self.hidden_dim = hidden_dim\n",
    "\n",
    "            # Number of hidden layers\n",
    "            self.num_layers = num_layers\n",
    "\n",
    "            # Building your LSTM\n",
    "            # batch_first=True causes input/output tensors to be of shape\n",
    "            # (batch_dim, seq_dim, feature_dim)\n",
    "            self.lstm = nn.LSTM(n_feature, hidden_dim, num_layers, batch_first=True)\n",
    "\n",
    "            # Readout layer\n",
    "            self.fc = nn.Linear(hidden_dim, output_dim)\n",
    "\n",
    "\n",
    "        def forward(self, x):\n",
    "            # Initialize hidden state with zeros\n",
    "            h0 = torch.zeros(self.num_layers, x.size(0), self.hidden_dim)\n",
    "\n",
    "            # Initialize cell state with zeros\n",
    "            c0 = torch.zeros(self.num_layers, x.size(0), self.hidden_dim)\n",
    "\n",
    "            # One time step\n",
    "            # We need to detach as we are doing truncated backpropagation through time (BPTT)\n",
    "            # If we don't, we'll backprop all the way to the start even after going through another batch\n",
    "            out, (hn, cn) = self.lstm(x, (h0.detach(), c0.detach()))\n",
    "\n",
    "            # Index hidden state of last time step\n",
    "            # just want last time step hidden states!\n",
    "            out = self.fc(out)\n",
    "        \n",
    "            return out[:, -1, :]"
   ]
  },
  {
   "cell_type": "markdown",
   "metadata": {},
   "source": [
    "## Bidirectional LSTM\n",
    "The only different in the configuration of Bidirectional LSTM and Vanila LSTM is the number of layer need be multiplication of  2 or *2. For example : \n",
    "\n",
    "self.fc = nn.Linear(hidden_dim *2, output_dim) <br>\n",
    "h0 = torch.zeros(self.num_layers *2, x.size(0), self.hidden_dim)<br>\n",
    "c0 = torch.zeros(self.num_layers *2, x.size(0), self.hidden_dim)"
   ]
  },
  {
   "cell_type": "code",
   "execution_count": 13,
   "metadata": {},
   "outputs": [],
   "source": [
    "class BidirectionalLSTM(nn.Module):\n",
    "\n",
    "    def __init__(self, n_feature, hidden_dim, num_layers, output_dim):\n",
    "        super(BidirectionalLSTM, self).__init__()\n",
    "\n",
    "        self.n_feature = n_feature\n",
    "        # Hidden dimensions\n",
    "        self.hidden_dim = hidden_dim\n",
    "\n",
    "        # Number of hidden layers\n",
    "        self.num_layers = num_layers\n",
    "\n",
    "        # Building your LSTM\n",
    "        # batch_first=True causes input/output tensors to be of shape\n",
    "        # (batch_dim, seq_dim, feature_dim)\n",
    "        self.lstm = nn.LSTM(n_feature, hidden_dim, num_layers, batch_first=True,bidirectional=True)\n",
    "\n",
    "        # Readout layer *2 for bidirectional LSTM\n",
    "        self.fc = nn.Linear(hidden_dim*2, output_dim)\n",
    "\n",
    "    def forward(self, x):\n",
    "        # Initialize hidden state with zeros\n",
    "        h0 = torch.zeros(self.num_layers*2, x.size(0), self.hidden_dim)\n",
    "\n",
    "        # Initialize cell state with zeros\n",
    "        c0 = torch.zeros(self.num_layers*2, x.size(0), self.hidden_dim)\n",
    "\n",
    "        # We need to detach as we are doing truncated backpropagation through time (BPTT)\n",
    "        # If we don't, we'll backprop all the way to the start even after going through another batch\n",
    "        out, (hn, cn) = self.lstm(x, (h0.detach(), c0.detach()))\n",
    "\n",
    "        # Index hidden state of last time step\n",
    "        out = self.fc(out)\n",
    "        \n",
    "        return out[:, -1, :]"
   ]
  },
  {
   "cell_type": "markdown",
   "metadata": {},
   "source": [
    "## Input Model \n",
    "The model is input by feed in the require attributes such as number of input layer, output layer and hidden layer.\n",
    "\n",
    "How to Use : \n",
    "1. Select one of the model base on the application as below and comment others model\n",
    "2. IF use Vanila LSTM , set num_layer = 1 and use the model = LSTM()\n",
    "3. IF use stacked LSTM , set num_layer more than 1 and use the model = LSTM()\n",
    "4. IF use Bidirectional LSTM, use the  model = BidirectionalLSTM()\n"
   ]
  },
  {
   "cell_type": "code",
   "execution_count": 14,
   "metadata": {},
   "outputs": [],
   "source": [
    "#Arguments for LSTM model\n",
    "hidden_dim = 100\n",
    "number_of_time_series = 1 \n",
    "timestep = 1 \n",
    "\n",
    "#1 for vanila LSTM , >1 is mean stacked LSTM\n",
    "num_layers = 3 \n",
    "\n",
    "#Vanila , Stacked LSTM\n",
    "model = LSTM(n_feature=number_of_time_series, hidden_dim=hidden_dim, output_dim=timestep, num_layers=num_layers)\n",
    "\n",
    "#Bidirectional LSTM\n",
    "# model = BidirectionalLSTM(n_feature=number_of_time_series, hidden_dim=hidden_dim, output_dim=timestep, num_layers=num_layers)\n"
   ]
  },
  {
   "cell_type": "markdown",
   "metadata": {},
   "source": [
    "Define the MSE as loss function and using Adam as the model optimiser"
   ]
  },
  {
   "cell_type": "code",
   "execution_count": 15,
   "metadata": {},
   "outputs": [],
   "source": [
    "#loss function \n",
    "loss_fn = torch.nn.MSELoss()\n",
    "\n",
    "#optimiser\n",
    "optimiser = torch.optim.Adam(model.parameters(), lr=0.001)"
   ]
  },
  {
   "cell_type": "markdown",
   "metadata": {},
   "source": [
    "## Training"
   ]
  },
  {
   "cell_type": "code",
   "execution_count": 16,
   "metadata": {},
   "outputs": [],
   "source": [
    "def training(num_epochs,train_iter,test_iter,optimiser,loss_fn,model):\n",
    "    # Create a list of zero value to store the averaged value\n",
    "    train_loss = np.zeros(num_epochs)\n",
    "    val_loss = np.zeros(num_epochs)\n",
    "    \n",
    "    # For loop to loop through the data iterator\n",
    "    for t in range(num_epochs):\n",
    "        \n",
    "        # Initial the value to be zero to perform cummulative sum \n",
    "        running_loss_train = 0\n",
    "        running_loss_valid = 0\n",
    "        \n",
    "        for _,(train_X,train_Y) in enumerate(train_iter):\n",
    "\n",
    "            # Forward pass\n",
    "            y_train_pred = model(train_X)\n",
    "\n",
    "            # Reshape to ensure the predicted output (y_train_pred) same size with train_Y shape\n",
    "            y_train_pred=torch.reshape(y_train_pred,(train_Y.shape[0],train_Y.shape[1]))\n",
    "            \n",
    "            #Compare the value using MSE\n",
    "            loss_train = loss_fn(y_train_pred, train_Y)\n",
    "\n",
    "            # Zero out gradient, else they will accumulate between epochs\n",
    "            optimiser.zero_grad()\n",
    "\n",
    "            # Backward pass\n",
    "            loss_train.backward()\n",
    "\n",
    "            # Update parameters\n",
    "            optimiser.step()\n",
    "            \n",
    "            # Summing up the loss over each epoch\n",
    "            running_loss_train += loss_train.item()\n",
    "            \n",
    "        # Average the loss base of the batch size \n",
    "        epoch_loss_train = running_loss_train /len(train_X)\n",
    "        \n",
    "        # Store the averaged value\n",
    "        train_loss[t] = epoch_loss_train\n",
    "        \n",
    "        # Validate the test data loss\n",
    "        with torch.no_grad():\n",
    "            for _,(test_X,test_Y) in enumerate(test_iter):\n",
    "                y_test_pred = model(test_X)\n",
    "\n",
    "                # Reshape to ensure the predicted output (y_test_pred) same size with test_y shape\n",
    "                y_test_pred=torch.reshape(y_test_pred,(test_Y.shape[0],test_Y.shape[1]))\n",
    "                \n",
    "                # Calculate the loss \n",
    "                loss_test = loss_fn(y_test_pred, test_Y)\n",
    "                \n",
    "                # Summing up the loss over each epoch\n",
    "                running_loss_valid += loss_test.item()\n",
    "                \n",
    "        # Average the loss base of the batch size \n",
    "        epoch_loss_test =running_loss_valid /len(test_X)\n",
    "        \n",
    "        # Store the averaged value\n",
    "        val_loss[t] = epoch_loss_test\n",
    "    \n",
    "    return train_loss,val_loss"
   ]
  },
  {
   "cell_type": "code",
   "execution_count": 17,
   "metadata": {},
   "outputs": [],
   "source": [
    "# Start Training \n",
    "train_loss,val_loss = training(num_epochs,train_iter,test_iter,optimiser,loss_fn,model)"
   ]
  },
  {
   "cell_type": "markdown",
   "metadata": {},
   "source": [
    "## Evaluation \n",
    "A train loss and val loss is plotted to define how well the data is fitting the model "
   ]
  },
  {
   "cell_type": "code",
   "execution_count": 18,
   "metadata": {},
   "outputs": [
    {
     "data": {
      "image/png": "[encoded data removed]",
      "text/plain": [
       "<Figure size 720x432 with 1 Axes>"
      ]
     },
     "metadata": {
      "needs_background": "light"
     },
     "output_type": "display_data"
    }
   ],
   "source": [
    "plt.figure(figsize=(10,6))\n",
    "plt.plot(train_loss, label=\"Training\")\n",
    "plt.plot(val_loss, label=\"Testing\")\n",
    "plt.xlabel(\"Epoch\")\n",
    "plt.ylabel(\"MSE\")\n",
    "plt.legend()\n",
    "plt.title(\"Train Loss & Test Loss\")\n",
    "plt.show()"
   ]
  },
  {
   "cell_type": "code",
   "execution_count": 19,
   "metadata": {},
   "outputs": [
    {
     "data": {
      "text/plain": [
       "<matplotlib.legend.Legend at 0x1e27749c048>"
      ]
     },
     "execution_count": 19,
     "metadata": {},
     "output_type": "execute_result"
    },
    {
     "data": {
      "image/png": "[encoded data removed]",
      "text/plain": [
       "<Figure size 720x432 with 1 Axes>"
      ]
     },
     "metadata": {
      "needs_background": "light"
     },
     "output_type": "display_data"
    }
   ],
   "source": [
    "# Zoom in by fill in start_epoch and end_epoch\n",
    "start_epoch = 790\n",
    "end_epoch = 800\n",
    "plt.figure(figsize=(10,6))\n",
    "plt.plot(train_loss[start_epoch:end_epoch], label=\"Training loss\")\n",
    "plt.plot(val_loss[start_epoch:end_epoch], label=\"Testing loss\")\n",
    "plt.title(\"Losses\")\n",
    "plt.xlabel(\"Epoch_Demand\")\n",
    "plt.ylabel(\"MSE_Demand\")\n",
    "position=range(end_epoch-start_epoch)\n",
    "labels=range(start_epoch,end_epoch)\n",
    "plt.xticks(position, labels)\n",
    "plt.legend()"
   ]
  },
  {
   "cell_type": "markdown",
   "metadata": {},
   "source": [
    "## Inference\n",
    "This section is to inference the model by feeding in testing data and determine the output forecast value and calculate the RMSE .\n",
    "\n",
    "It consist of 4 section :\n",
    "\n",
    "Section 1 : Feed in the train and test data to the model <br>\n",
    "Section 2 : Reshape both to the original data dimension <br>\n",
    "Section 3 : Invert the scaling back to orignal data value <br>\n",
    "Section 4 : Calculate the RMSE of train and test data \n"
   ]
  },
  {
   "cell_type": "code",
   "execution_count": 20,
   "metadata": {},
   "outputs": [],
   "source": [
    "# Section 1 : make predictions\n",
    "with torch.no_grad():\n",
    "    y_train_prediction = model(trainX)\n",
    "    y_test_prediction = model(testX)\n",
    "\n",
    "# Section 2 : Reshape to original data\n",
    "y_train_prediction= torch.reshape(y_train_prediction,(y_train_prediction.shape[0],y_train_prediction.shape[1]))\n",
    "trainY = torch.reshape(trainY,(trainY.shape[0],trainY.shape[1]))\n",
    "y_test_prediction = torch.reshape(y_test_prediction,(y_test_prediction.shape[0],y_test_prediction.shape[1]))\n",
    "testY = torch.reshape(testY,(testY.shape[0],testY.shape[1]))"
   ]
  },
  {
   "cell_type": "code",
   "execution_count": 21,
   "metadata": {},
   "outputs": [],
   "source": [
    "# Section 3 : Invert predictions\n",
    "y_train_prediction= scaler.inverse_transform(y_train_prediction.detach().numpy())\n",
    "y_train = scaler.inverse_transform(trainY.detach().numpy())\n",
    "y_test_prediction = scaler.inverse_transform(y_test_prediction.detach().numpy())\n",
    "y_test = scaler.inverse_transform(testY.detach().numpy())"
   ]
  },
  {
   "cell_type": "code",
   "execution_count": 22,
   "metadata": {},
   "outputs": [
    {
     "name": "stdout",
     "output_type": "stream",
     "text": [
      "Test Data\t\t\t\\Forecast Data\n",
      "[300.]\t\t[296.56827]\n",
      "[310.]\t\t[304.94238]\n",
      "[320.]\t\t[312.96844]\n",
      "[330.]\t\t[320.63867]\n",
      "[340.]\t\t[327.9511]\n",
      "[350.]\t\t[334.9082]\n",
      "[360.]\t\t[341.51648]\n",
      "[370.]\t\t[347.78534]\n",
      "[380.]\t\t[353.72638]\n",
      "[390.]\t\t[359.3528]\n"
     ]
    }
   ],
   "source": [
    "print(\"Test Data\\t\\t\\t\\Forecast Data\")\n",
    "for i in range(len(y_test_prediction)):\n",
    "    print(f\"{y_test[i]}\\t\\t{y_test_prediction[i]}\")"
   ]
  },
  {
   "cell_type": "code",
   "execution_count": 23,
   "metadata": {},
   "outputs": [
    {
     "name": "stdout",
     "output_type": "stream",
     "text": [
      "y_test_shape : (10, 1)\n",
      "y_test_pred_shape : (10, 1)\n"
     ]
    }
   ],
   "source": [
    "print(f\"y_test_shape : {y_test.shape}\")\n",
    "print(f\"y_test_pred_shape : {y_test_prediction.shape}\")"
   ]
  },
  {
   "cell_type": "code",
   "execution_count": 24,
   "metadata": {},
   "outputs": [
    {
     "name": "stdout",
     "output_type": "stream",
     "text": [
      "Train Score: 0.24 RMSE\n",
      "Test Score: 17.36 RMSE\n"
     ]
    }
   ],
   "source": [
    "# Section 4 : Calculate root mean squared error for both train and test data \n",
    "trainScore = math.sqrt(mean_squared_error(y_train[:,0], y_train_prediction[:,0]))\n",
    "print('Train Score: %.2f RMSE' % (trainScore))\n",
    "testScore = math.sqrt(mean_squared_error(y_test[:,0], y_test_prediction[:,0]))\n",
    "print('Test Score: %.2f RMSE' % (testScore))"
   ]
  },
  {
   "cell_type": "markdown",
   "metadata": {},
   "source": [
    "# Exercise for Univariate (Solution)"
   ]
  },
  {
   "cell_type": "markdown",
   "metadata": {},
   "source": [
    "Task : Using LSTM to create a model that can predict lastest sales of shampoo"
   ]
  },
  {
   "cell_type": "markdown",
   "metadata": {},
   "source": [
    "## Hyperparameter"
   ]
  },
  {
   "cell_type": "code",
   "execution_count": 72,
   "metadata": {},
   "outputs": [
    {
     "data": {
      "text/plain": [
       "<torch._C.Generator at 0x1e272cea310>"
      ]
     },
     "execution_count": 72,
     "metadata": {},
     "output_type": "execute_result"
    }
   ],
   "source": [
    "#Hyperparameter\n",
    "num_epochs_shampoo = 345\n",
    "split_ratio = 0.70\n",
    "batch_size_shampoo = 1\n",
    "window_size_shampoo = 5\n",
    "\n",
    "#Hidden Layer for LSTM\n",
    "hidden_dim = 64\n",
    "\n",
    "#seed\n",
    "torch.manual_seed(123)"
   ]
  },
  {
   "cell_type": "markdown",
   "metadata": {},
   "source": [
    "## Data Preparation"
   ]
  },
  {
   "cell_type": "code",
   "execution_count": 73,
   "metadata": {},
   "outputs": [],
   "source": [
    "shampoo = pd.read_csv('../../datasets/others/shampoo-sales.csv')\n",
    "shampoo_ts =shampoo['sales']                          "
   ]
  },
  {
   "cell_type": "code",
   "execution_count": 74,
   "metadata": {},
   "outputs": [
    {
     "data": {
      "text/plain": [
       "Text(0.5, 1.0, 'Time Series plot ')"
      ]
     },
     "execution_count": 74,
     "metadata": {},
     "output_type": "execute_result"
    },
    {
     "data": {
      "image/png": "[encoded data removed]",
      "text/plain": [
       "<Figure size 720x432 with 1 Axes>"
      ]
     },
     "metadata": {
      "needs_background": "light"
     },
     "output_type": "display_data"
    }
   ],
   "source": [
    "plt.figure(figsize=(10,6))\n",
    "plt.plot(shampoo_ts ,label = 'Shampoo Sales')\n",
    "plt.title(\"Time Series plot \")"
   ]
  },
  {
   "cell_type": "markdown",
   "metadata": {},
   "source": [
    "### Data Splitting"
   ]
  },
  {
   "cell_type": "code",
   "execution_count": 75,
   "metadata": {},
   "outputs": [
    {
     "data": {
      "text/plain": [
       "25"
      ]
     },
     "execution_count": 75,
     "metadata": {},
     "output_type": "execute_result"
    }
   ],
   "source": [
    "# Split data by indexing \n",
    "split_data = round(len(shampoo_ts)*split_ratio)\n",
    "split_data"
   ]
  },
  {
   "cell_type": "markdown",
   "metadata": {},
   "source": [
    "### Data Standardlization \n",
    "Standardlize the data into mean = 0 , variance = 1"
   ]
  },
  {
   "cell_type": "code",
   "execution_count": 76,
   "metadata": {},
   "outputs": [
    {
     "data": {
      "text/plain": [
       "array([[-0.31732191],\n",
       "       [-1.13514084],\n",
       "       [-0.88182806],\n",
       "       [-1.31627309],\n",
       "       [-0.90089462],\n",
       "       [-0.98124652],\n",
       "       [-0.55020624],\n",
       "       [-0.59991546],\n",
       "       [-0.81577608],\n",
       "       [-1.29175895],\n",
       "       [ 0.16274665],\n",
       "       [-0.86276151],\n",
       "       [-0.80556185],\n",
       "       [-1.1106267 ],\n",
       "       [-0.69797202],\n",
       "       [-0.26761269],\n",
       "       [-0.82530935],\n",
       "       [-0.17432277],\n",
       "       [-0.58970124],\n",
       "       [-0.06128535],\n",
       "       [-0.15457527],\n",
       "       [ 0.74223366],\n",
       "       [-0.32753614],\n",
       "       [ 0.20224165],\n",
       "       [ 0.18453699],\n",
       "       [ 0.87025194],\n",
       "       [ 0.02247129],\n",
       "       [ 0.86276151],\n",
       "       [ 0.60400115],\n",
       "       [ 0.84982349],\n",
       "       [ 1.79021311],\n",
       "       [ 0.6469009 ],\n",
       "       [ 2.51542307],\n",
       "       [ 1.1079029 ],\n",
       "       [ 1.82970812],\n",
       "       [ 2.27641021]])"
      ]
     },
     "execution_count": 76,
     "metadata": {},
     "output_type": "execute_result"
    }
   ],
   "source": [
    "scaler_shampoo =StandardScaler().fit(shampoo_ts.values.reshape(-1,1))\n",
    "\n",
    "scaler_shampoo_data = scaler_shampoo.transform(shampoo_ts.values.reshape(-1,1))\n",
    "scaler_shampoo_data\n"
   ]
  },
  {
   "cell_type": "code",
   "execution_count": 77,
   "metadata": {},
   "outputs": [
    {
     "name": "stdout",
     "output_type": "stream",
     "text": [
      "train_data_shampoo_shape\n",
      "(25, 1)\n",
      "test_data_shampoo_shape\n",
      "(11, 1)\n"
     ]
    }
   ],
   "source": [
    "# Visualize data shape after splitting\n",
    "train_data_shampoo = scaler_shampoo_data[:split_data]\n",
    "test_data_shampoo = scaler_shampoo_data[split_data:]\n",
    "train_time = shampoo_ts.index[:split_data]\n",
    "test_time = shampoo_ts.index[split_data:]\n",
    "print(\"train_data_shampoo_shape\")\n",
    "print(train_data_shampoo.shape)\n",
    "print(\"test_data_shampoo_shape\")\n",
    "print(test_data_shampoo.shape)"
   ]
  },
  {
   "cell_type": "code",
   "execution_count": 78,
   "metadata": {},
   "outputs": [
    {
     "data": {
      "text/plain": [
       "Text(0.5, 1.0, 'Time Series Graph after split')"
      ]
     },
     "execution_count": 78,
     "metadata": {},
     "output_type": "execute_result"
    },
    {
     "data": {
      "image/png": "[encoded data removed]",
      "text/plain": [
       "<Figure size 720x432 with 1 Axes>"
      ]
     },
     "metadata": {
      "needs_background": "light"
     },
     "output_type": "display_data"
    }
   ],
   "source": [
    "plt.figure(figsize=(10,6))\n",
    "plt.plot(train_data_shampoo)\n",
    "plt.title(\"Time Series Graph after split\")"
   ]
  },
  {
   "cell_type": "markdown",
   "metadata": {},
   "source": [
    "### Data Sequencing "
   ]
  },
  {
   "cell_type": "code",
   "execution_count": 79,
   "metadata": {},
   "outputs": [
    {
     "name": "stdout",
     "output_type": "stream",
     "text": [
      "trainX shape:(20, 5, 1) trainY shape:(20, 1)\n",
      "\n",
      "testX shape:(6, 5, 1) testX shape:(6, 1)\n"
     ]
    }
   ],
   "source": [
    "trainX_shampoo ,trainY_shampoo =  univariate_single_step(train_data_shampoo,window_size_shampoo)\n",
    "testX_shampoo , testY_shampoo = univariate_single_step(test_data_shampoo,window_size_shampoo)\n",
    "print(f\"trainX shape:{trainX_shampoo.shape} trainY shape:{trainY_shampoo.shape}\\n\")\n",
    "print(f\"testX shape:{testX_shampoo.shape} testX shape:{testY_shampoo.shape}\")"
   ]
  },
  {
   "cell_type": "markdown",
   "metadata": {},
   "source": [
    "### Data Transform"
   ]
  },
  {
   "cell_type": "code",
   "execution_count": 80,
   "metadata": {},
   "outputs": [
    {
     "name": "stdout",
     "output_type": "stream",
     "text": [
      "trainX shape:torch.Size([20, 5, 1]) trainY shape:torch.Size([20, 1])\n",
      "\n",
      "testX shape:torch.Size([6, 5, 1]) testX shape:torch.Size([6, 1])\n"
     ]
    }
   ],
   "source": [
    "# Transfrom numpy to Pytorch tensor\n",
    "# Make training and test sets in torch\n",
    "trainX_shampoo = torch.from_numpy(trainX_shampoo).type(torch.Tensor)\n",
    "trainY_shampoo = torch.from_numpy(trainY_shampoo).type(torch.Tensor)\n",
    "testX_shampoo = torch.from_numpy(testX_shampoo).type(torch.Tensor)\n",
    "testY_shampoo = torch.from_numpy(testY_shampoo).type(torch.Tensor)\n",
    "print(f\"trainX shape:{trainX_shampoo.shape} trainY shape:{trainY_shampoo.shape}\\n\")\n",
    "print(f\"testX shape:{testX_shampoo.shape} testX shape:{testY_shampoo.shape}\")"
   ]
  },
  {
   "cell_type": "markdown",
   "metadata": {},
   "source": [
    "### Data Iterator"
   ]
  },
  {
   "cell_type": "code",
   "execution_count": 81,
   "metadata": {},
   "outputs": [],
   "source": [
    "# Create Iterator\n",
    "train_dataset_shampoo = TensorDataset(trainX_shampoo, trainY_shampoo)\n",
    "train_iter_shampoo = DataLoader(train_dataset_shampoo,batch_size=batch_size_shampoo,shuffle=False)\n",
    "\n",
    "test_dataset_shampoo = TensorDataset(testX_shampoo, testY_shampoo)\n",
    "test_iter_shampoo = DataLoader(test_dataset_shampoo,batch_size=batch_size_shampoo,shuffle=False)"
   ]
  },
  {
   "cell_type": "markdown",
   "metadata": {},
   "source": [
    "## Input Model \n",
    "\n",
    "The model is input by feed in the require attributes such as number of input layer, output layer and hidden layer.\n",
    "\n",
    "How to Use :\n",
    "\n",
    "1. Select one of the model base on the application as below and comment others model\n",
    "2. IF use Vanila LSTM , set num_layer = 1 and use the model = LSTM()\n",
    "3. IF use stacked LSTM , set num_layer more that 1 and use the model = LSTM()\n",
    "4. IF use Bidirectional LSTM,use the model = BidirectionalLSTM()"
   ]
  },
  {
   "cell_type": "code",
   "execution_count": 82,
   "metadata": {},
   "outputs": [],
   "source": [
    "# Arguments for LSTM model\n",
    "number_of_time_series = 1 \n",
    "timestep = 1\n",
    "output_dim =1 \n",
    "\n",
    "# num_layers : 1 for vanila LSTM , >1 is mean stacked LSTM\n",
    "num_layers = 1\n",
    "\n",
    "# Vanila ,Stacked LSTM\n",
    "model_shampoo = LSTM(n_feature=number_of_time_series, hidden_dim=hidden_dim, output_dim=timestep, num_layers=num_layers)\n",
    "\n",
    "# Bidirectional LSTM\n",
    "# model_shampoo = BidirectionalLSTM(n_feature=number_of_time_series, hidden_dim=hidden_dim, output_dim=timestep, num_layers=num_layers)\n",
    "\n"
   ]
  },
  {
   "cell_type": "code",
   "execution_count": 83,
   "metadata": {},
   "outputs": [],
   "source": [
    "# Define MSE as Loss function \n",
    "loss_fn_shampoo = torch.nn.MSELoss()\n",
    "\n",
    "# Set up optimiser \n",
    "optimiser_shampoo = torch.optim.Adam(model_shampoo.parameters(),lr=0.09)"
   ]
  },
  {
   "cell_type": "markdown",
   "metadata": {},
   "source": [
    "## Training "
   ]
  },
  {
   "cell_type": "code",
   "execution_count": 84,
   "metadata": {},
   "outputs": [],
   "source": [
    "# Start Training \n",
    "train_loss_shampoo,val_loss_shampoo = training(num_epochs_shampoo,train_iter_shampoo,test_iter_shampoo,optimiser_shampoo,loss_fn_shampoo,model_shampoo)"
   ]
  },
  {
   "cell_type": "markdown",
   "metadata": {},
   "source": [
    "## Evaluate\n",
    "The first part is plot the Train loss & Test loss as the training goes on \n",
    "\n",
    "The second part serve as a function to zoom in certain period on Train loss & Test loss graph to have a clear visualize cause sometime the loss will skew and make us hard to determine the best fit epoch .\n",
    "\n",
    "For example : The learning curve is skew heavily on the left ,the remaining losses is hard to visualize\n",
    "<img src=\"https://3qeqpr26caki16dnhd19sv6by6v-wpengine.netdna-ssl.com/wp-content/uploads/2018/12/Example-of-Train-and-Validation-Learning-Curves-Showing-A-Good-Fit.png\" width =\"500\" height=500 >"
   ]
  },
  {
   "cell_type": "code",
   "execution_count": 85,
   "metadata": {},
   "outputs": [
    {
     "data": {
      "image/png": "[encoded data removed]",
      "text/plain": [
       "<Figure size 720x432 with 1 Axes>"
      ]
     },
     "metadata": {
      "needs_background": "light"
     },
     "output_type": "display_data"
    }
   ],
   "source": [
    "# Plot Learning Curve \n",
    "plt.figure(figsize=(10,6))\n",
    "plt.plot(train_loss_shampoo, label=\"Training loss\")\n",
    "plt.plot(val_loss_shampoo, label=\"Testing loss\")\n",
    "plt.xlabel(\"Epoch_shampoo\")\n",
    "plt.ylabel(\"MSE_shampoo\")\n",
    "plt.legend()\n",
    "plt.title(\"Learning Curve\")\n",
    "plt.show()"
   ]
  },
  {
   "cell_type": "code",
   "execution_count": 86,
   "metadata": {},
   "outputs": [
    {
     "data": {
      "image/png": "[encoded data removed]",
      "text/plain": [
       "<Figure size 1440x432 with 1 Axes>"
      ]
     },
     "metadata": {
      "needs_background": "light"
     },
     "output_type": "display_data"
    }
   ],
   "source": [
    "# Zoom in to visualize the graph by fill in start_epoch and end_epoch that want to analyse\n",
    "start_epoch = 330\n",
    "end_epoch = 350\n",
    "plt.figure(figsize=(20,6))\n",
    "plt.plot(train_loss_shampoo[start_epoch:end_epoch], label=\"Training loss\")\n",
    "plt.plot(val_loss_shampoo[start_epoch:end_epoch], label=\"Testing loss\")\n",
    "plt.title(\"Learning Curve\")\n",
    "plt.xlabel(\"Epoch_Demand\")\n",
    "plt.ylabel(\"MSE_Demand\")\n",
    "position=range(end_epoch-start_epoch)\n",
    "labels=range(start_epoch,end_epoch)\n",
    "plt.xticks(position, labels)\n",
    "plt.legend()\n",
    "plt.show()"
   ]
  },
  {
   "cell_type": "markdown",
   "metadata": {},
   "source": [
    "## Inference\n",
    "This section is to inference the model and plot the forecast result "
   ]
  },
  {
   "cell_type": "code",
   "execution_count": 87,
   "metadata": {},
   "outputs": [],
   "source": [
    "# Make predictions\n",
    "with torch.no_grad():\n",
    "    y_train_prediction_shampoo= model_shampoo(trainX_shampoo)\n",
    "    y_test_prediction_shampoo= model_shampoo(testX_shampoo)\n",
    "\n",
    "# Reshape to original data\n",
    "y_train_prediction_shampoo = torch.reshape(y_train_prediction_shampoo,(y_train_prediction_shampoo.shape[0],y_train_prediction_shampoo.shape[1]))\n",
    "trainY_shampoo = torch.reshape(trainY_shampoo,(trainY_shampoo.shape[0],trainY_shampoo.shape[1]))\n",
    "y_test_prediction_shampoo = torch.reshape(y_test_prediction_shampoo,(y_test_prediction_shampoo.shape[0],y_test_prediction_shampoo.shape[1]))\n",
    "testY_shampoo = torch.reshape(testY_shampoo,(testY_shampoo.shape[0],testY_shampoo.shape[1]))"
   ]
  },
  {
   "cell_type": "code",
   "execution_count": 88,
   "metadata": {},
   "outputs": [],
   "source": [
    "# Invert predictions\n",
    "y_train_pred_shampoo = scaler_shampoo.inverse_transform(y_train_prediction_shampoo)\n",
    "y_train_shampoo = scaler_shampoo.inverse_transform(trainY_shampoo)\n",
    "y_test_pred_shampoo = scaler_shampoo.inverse_transform(y_test_prediction_shampoo)\n",
    "y_test_shampoo = scaler_shampoo.inverse_transform(testY_shampoo)"
   ]
  },
  {
   "cell_type": "code",
   "execution_count": 89,
   "metadata": {},
   "outputs": [
    {
     "name": "stdout",
     "output_type": "stream",
     "text": [
      "y-test\t\ty-predict\n",
      "[575.5]\t\t[367.23096]\n",
      "[407.6]\t\t[346.09232]\n",
      "[682.]\t\t[435.73004]\n",
      "[475.3]\t\t[386.43616]\n",
      "[581.3]\t\t[434.07306]\n",
      "[646.89996]\t\t[429.7873]\n"
     ]
    }
   ],
   "source": [
    "print(\"y-test\\t\\ty-predict\")\n",
    "for i in range(len(y_test_shampoo)):\n",
    "    print(f\"{y_test_shampoo[i]}\\t\\t{y_test_pred_shampoo[i]}\")"
   ]
  },
  {
   "cell_type": "code",
   "execution_count": 90,
   "metadata": {},
   "outputs": [
    {
     "name": "stdout",
     "output_type": "stream",
     "text": [
      "y_test_shape : (6, 1)\n",
      "y_test_pred_shape : (6, 1)\n"
     ]
    }
   ],
   "source": [
    "print(f\"y_test_shape : {y_test_shampoo.shape}\")   \n",
    "print(f\"y_test_pred_shape : {y_test_pred_shampoo.shape}\")"
   ]
  },
  {
   "cell_type": "code",
   "execution_count": 91,
   "metadata": {},
   "outputs": [
    {
     "name": "stdout",
     "output_type": "stream",
     "text": [
      "Train Score: 57.49 RMSE\n",
      "Test Score: 175.37 RMSE\n"
     ]
    }
   ],
   "source": [
    "# Calculate root mean squared error\n",
    "trainScore_shampoo = math.sqrt(mean_squared_error(y_train_shampoo[:,0], y_train_pred_shampoo[:,0]))\n",
    "print('Train Score: %.2f RMSE' % (trainScore_shampoo))\n",
    "testScore_shampoo = math.sqrt(mean_squared_error(y_test_shampoo[:,0], y_test_pred_shampoo[:,0]))\n",
    "print('Test Score: %.2f RMSE' % (testScore_shampoo))"
   ]
  },
  {
   "cell_type": "markdown",
   "metadata": {},
   "source": [
    "## Result "
   ]
  },
  {
   "cell_type": "code",
   "execution_count": 92,
   "metadata": {},
   "outputs": [],
   "source": [
    "test_data_shampoo = scaler_shampoo.inverse_transform(test_data_shampoo)"
   ]
  },
  {
   "cell_type": "code",
   "execution_count": 93,
   "metadata": {},
   "outputs": [],
   "source": [
    "# Adjustment to make the sequence data plot on original test data \n",
    "a=range(split_data+window_size_shampoo,split_data+len(y_test_shampoo)+window_size_shampoo)"
   ]
  },
  {
   "cell_type": "code",
   "execution_count": 94,
   "metadata": {},
   "outputs": [
    {
     "data": {
      "text/plain": [
       "<matplotlib.legend.Legend at 0x1e27717b888>"
      ]
     },
     "execution_count": 94,
     "metadata": {},
     "output_type": "execute_result"
    },
    {
     "data": {
      "image/png": "[encoded data removed]",
      "text/plain": [
       "<Figure size 720x432 with 1 Axes>"
      ]
     },
     "metadata": {
      "needs_background": "light"
     },
     "output_type": "display_data"
    }
   ],
   "source": [
    "plt.figure(figsize=(10,6))\n",
    "plt.plot(test_time,test_data_shampoo, label = 'Test Data')\n",
    "plt.plot(a,y_test_shampoo, color=\"green\",label = 'Test Data After Sequencing')\n",
    "plt.plot(a,y_test_pred_shampoo,color=\"red\", label = 'Forecast')\n",
    "plt.xlabel(\"Time\")\n",
    "plt.ylabel(\"Value\")\n",
    "plt.title(\"Shampoo Sales\")\n",
    "plt.legend()"
   ]
  },
  {
   "cell_type": "markdown",
   "metadata": {},
   "source": [
    "## Reference\n",
    "1. Deep Learning for Time Series Forecasting (Predict the Future with MLPs,CNNs and LSTMs in Python) , Jason Brownlee"
   ]
  }
 ],
 "metadata": {
  "celltoolbar": "Edit Metadata",
  "kernelspec": {
   "display_name": "Python 3",
   "language": "python",
   "name": "python3"
  },
  "language_info": {
   "codemirror_mode": {
    "name": "ipython",
    "version": 3
   },
   "file_extension": ".py",
   "mimetype": "text/x-python",
   "name": "python",
   "nbconvert_exporter": "python",
   "pygments_lexer": "ipython3",
   "version": "3.7.9"
  }
 },
 "nbformat": 4,
 "nbformat_minor": 4
}
