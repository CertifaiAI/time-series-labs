{
 "cells": [
  {
   "cell_type": "markdown",
   "metadata": {
    "deletable": false,
    "editable": false
   },
   "source": [
    "![logo](../../picture/license_header_logo.png)\n",
    "> **Copyright (c) 2020-2021 CertifAI Sdn. Bhd.**<br>\n",
    " <br>\n",
    "This program is part of OSRFramework. You can redistribute it and/or modify\n",
    "<br>it under the terms of the GNU Affero General Public License as published by\n",
    "<br>the Free Software Foundation, either version 3 of the License, or\n",
    "<br>(at your option) any later version.\n",
    "<br>\n",
    "<br>This program is distributed in the hope that it will be useful,\n",
    "<br>but WITHOUT ANY WARRANTY; without even the implied warranty of\n",
    "<br>MERCHANTABILITY or FITNESS FOR A PARTICULAR PURPOSE.  See the\n",
    "<br>GNU Affero General Public License for more details.\n",
    "<br>\n",
    "<br>You should have received a copy of the GNU Affero General Public License\n",
    "<br>along with this program.  If not, see <http://www.gnu.org/licenses/>.\n",
    "<br>"
   ]
  },
  {
   "cell_type": "markdown",
   "metadata": {},
   "source": [
    "# Requirement\n",
    "You should complete both LSTM and CNN tutorials before starting this tutorial. This is because most of the function used will be based on  `data_module.py` and `deep_learning_module.py`"
   ]
  },
  {
   "cell_type": "markdown",
   "metadata": {},
   "source": [
    "# Hybrid Model (CNN-LSTM)\n",
    "This hands-on is to demonstrate the process of building a Hybrid model (CNN-LSTM) for univariate single-step time series. <br>\n",
    "This hands-on consists of two main parts which are :<br>\n",
    "\n",
    "1. Demonstration proccess of building hybrid model in synthetic data\n",
    "2. Exercise of building hybrid model using minimum daily temperatures in city Melbourne, Australia. \n",
    "\n",
    "\n",
    "## What will we accomplish?\n",
    "First, we will show the step in building the hybrid model (CNN-LSTM) :\n",
    "\n",
    "Step 1. Data Preparation (Data Splitting,Data Sequencing,Data Normalization and Batching the Data)<br>\n",
    "Step 2. Model Configuration for CNN-LSTM<br>\n",
    "Step 3. Train the model<br>\n",
    "Step 4. Validate the model using graph<br>\n",
    "Step 5. Evaluation Metrics such as MSE<br>\n",
    "Step 6. Plot the forecast result<br>\n",
    "\n",
    "Let's import the packages needed for this hands-on."
   ]
  },
  {
   "cell_type": "code",
   "execution_count": 1,
   "metadata": {},
   "outputs": [],
   "source": [
    "#import packages needed\n",
    "import numpy as np\n",
    "import pandas as pd\n",
    "import matplotlib.pyplot as plt\n",
    "import torch\n",
    "import torch.nn as nn\n",
    "import torch.nn.functional as F\n",
    "from torch.utils.data import DataLoader,TensorDataset\n",
    "from sklearn.metrics import mean_squared_error\n",
    "from sklearn.preprocessing import MinMaxScaler,StandardScaler\n",
    "import math\n",
    "\n",
    "from torchsummaryX import summary\n",
    "\n",
    "# To auto load the customise module\n",
    "%load_ext autoreload\n",
    "%autoreload 2\n",
    "import deep_learning_module\n",
    "import data_module"
   ]
  },
  {
   "cell_type": "markdown",
   "metadata": {},
   "source": [
    "# Part 1 : Demonstration of Building CNN-LSTM using Synthetic data\n",
    "## Hyperparameter\n",
    "Define the hyperparameter that is needed to tune the model."
   ]
  },
  {
   "cell_type": "code",
   "execution_count": 2,
   "metadata": {},
   "outputs": [
    {
     "data": {
      "text/plain": [
       "<torch._C.Generator at 0x191b3623eb0>"
      ]
     },
     "execution_count": 2,
     "metadata": {},
     "output_type": "execute_result"
    }
   ],
   "source": [
    "split_ratio = 0.70\n",
    "num_epochs = 60\n",
    "window_size = 3\n",
    "batch_size = 20\n",
    "learning_rate=0.01\n",
    "n_step = 1\n",
    "#seed\n",
    "torch.manual_seed(123)"
   ]
  },
  {
   "cell_type": "markdown",
   "metadata": {},
   "source": [
    "# Step 1 : Data Preparation\n",
    "We create synthetic data to make sure the model is created correctly and having the ability to perform the forecasting. <br>\n",
    "\n",
    "1. First, we will create a sequence of data with `np.array`.\n",
    "2. Then, we will assign a date to the sequence of data with `pd.date_range` and store it to series data by using `pd.Series`."
   ]
  },
  {
   "cell_type": "code",
   "execution_count": 3,
   "metadata": {},
   "outputs": [
    {
     "name": "stdout",
     "output_type": "stream",
     "text": [
      "(40,)\n"
     ]
    },
    {
     "data": {
      "text/plain": [
       "array([  0,  10,  20,  30,  40,  50,  60,  70,  80,  90, 100, 110, 120,\n",
       "       130, 140, 150, 160, 170, 180, 190, 200, 210, 220, 230, 240, 250,\n",
       "       260, 270, 280, 290, 300, 310, 320, 330, 340, 350, 360, 370, 380,\n",
       "       390])"
      ]
     },
     "execution_count": 3,
     "metadata": {},
     "output_type": "execute_result"
    }
   ],
   "source": [
    "#Synthetic Data\n",
    "univariate_series = np.array([x for x in range(0, 400, 10)])\n",
    "print(univariate_series.shape)\n",
    "univariate_series"
   ]
  },
  {
   "cell_type": "code",
   "execution_count": 4,
   "metadata": {},
   "outputs": [
    {
     "data": {
      "text/plain": [
       "2020-01-01     0\n",
       "2020-01-02    10\n",
       "2020-01-03    20\n",
       "2020-01-04    30\n",
       "2020-01-05    40\n",
       "Freq: D, dtype: int32"
      ]
     },
     "execution_count": 4,
     "metadata": {},
     "output_type": "execute_result"
    }
   ],
   "source": [
    "# Create time index for Synthetic Data\n",
    "univariate_series =pd.Series(univariate_series,pd.date_range(\"1/1/2020\",\n",
    "                                                             periods=len(univariate_series),\n",
    "                                                            freq='D'))\n",
    "univariate_series.head()"
   ]
  },
  {
   "cell_type": "markdown",
   "metadata": {},
   "source": [
    "## Data Visualization\n",
    "Data visualization is important for us to visualize the pattern of data such as trend and seasonality. As the graph below, it is shown that it is an increasing trend in data\n",
    "\n",
    ">**Instruction** : <br>\n",
    "Plot the graph using `univariate_series.plot` with the title `Synthetic Data\"`"
   ]
  },
  {
   "cell_type": "code",
   "execution_count": 5,
   "metadata": {},
   "outputs": [
    {
     "data": {
      "text/plain": [
       "Text(0.5, 1.0, 'Synthetic Data')"
      ]
     },
     "execution_count": 5,
     "metadata": {},
     "output_type": "execute_result"
    },
    {
     "data": {
      "image/png": "[encoded data removed]",
      "text/plain": [
       "<Figure size 432x288 with 1 Axes>"
      ]
     },
     "metadata": {
      "needs_background": "light"
     },
     "output_type": "display_data"
    }
   ],
   "source": [
    "### BEGIN SOLUTION\n",
    "\n",
    "univariate_series.plot()\n",
    "plt.title(\"Synthetic Data\")\n",
    "\n",
    "### BEGIN SOLUTION"
   ]
  },
  {
   "cell_type": "markdown",
   "metadata": {},
   "source": [
    "## Data Splitting\n",
    "In Deep Learning, we will split the data into training and test dataset.The training data is used to train the model where the test data is used to validate the performance of the model\n",
    ">**Instruction** : <br>\n",
    "Split the data by indexing. Remember to split the time index for later use"
   ]
  },
  {
   "cell_type": "code",
   "execution_count": 6,
   "metadata": {},
   "outputs": [
    {
     "data": {
      "text/plain": [
       "28"
      ]
     },
     "execution_count": 6,
     "metadata": {},
     "output_type": "execute_result"
    }
   ],
   "source": [
    "split_data = round(len(univariate_series)*split_ratio)\n",
    "split_data"
   ]
  },
  {
   "cell_type": "code",
   "execution_count": 7,
   "metadata": {},
   "outputs": [
    {
     "name": "stdout",
     "output_type": "stream",
     "text": [
      "train_data_shape\n",
      "(28,)\n",
      "test_data_shape\n",
      "(12,)\n"
     ]
    }
   ],
   "source": [
    "#split data by indexing \n",
    "train_data = univariate_series[:split_data]\n",
    "test_data = univariate_series[split_data:]\n",
    "train_time = univariate_series.index[:split_data]\n",
    "test_time = univariate_series.index[split_data:]\n",
    "print(\"train_data_shape\")\n",
    "print(train_data.shape)\n",
    "print(\"test_data_shape\")\n",
    "print(test_data.shape)"
   ]
  },
  {
   "cell_type": "markdown",
   "metadata": {},
   "source": [
    "## Data Normalization\n",
    "Use MinMaxScaler to normalize the data into values ranging from 0 to 1."
   ]
  },
  {
   "cell_type": "code",
   "execution_count": 8,
   "metadata": {},
   "outputs": [],
   "source": [
    "scaler = MinMaxScaler().fit(train_data.values.reshape(-1, 1))\n",
    "train_data_normalized = scaler.transform(train_data.values.reshape(-1, 1))\n",
    "\n",
    "test_data_normalized = scaler.transform(test_data.values.reshape(-1, 1))"
   ]
  },
  {
   "cell_type": "markdown",
   "metadata": {},
   "source": [
    "## Data Sequencing\n",
    "Sequencing the data by taking in the univariate series into `x-feature` and `y-label`<br>\n",
    "<img src = \"../../picture/Data Sequencing in Univariate Single Step.png\"  width=\"300\" height  =\"300\" align=\"center\" />"
   ]
  },
  {
   "cell_type": "code",
   "execution_count": 9,
   "metadata": {},
   "outputs": [
    {
     "name": "stdout",
     "output_type": "stream",
     "text": [
      "trainX shape:(25, 3, 1) trainY shape:(25, 1)\n",
      "\n",
      "testX shape:(9, 3, 1) testY shape:(9, 1)\n"
     ]
    }
   ],
   "source": [
    "trainX ,trainY =  data_module.univariate_single_step(train_data_normalized,window_size)\n",
    "testX , testY = data_module.univariate_single_step(test_data_normalized,window_size)\n",
    "print(f\"trainX shape:{trainX.shape} trainY shape:{trainY.shape}\\n\")\n",
    "print(f\"testX shape:{testX.shape} testY shape:{testY.shape}\")"
   ]
  },
  {
   "cell_type": "code",
   "execution_count": 10,
   "metadata": {},
   "outputs": [
    {
     "name": "stdout",
     "output_type": "stream",
     "text": [
      "trainY shape:(25, 1, 1)\n",
      "testY shape:(9, 1, 1)\n"
     ]
    }
   ],
   "source": [
    "trainY = trainY.reshape(trainY.shape[0],n_step,1)\n",
    "testY = testY.reshape(testY.shape[0],n_step,1)\n",
    "print(f\"trainY shape:{trainY.shape}\")\n",
    "print(f\"testY shape:{testY.shape}\")"
   ]
  },
  {
   "cell_type": "markdown",
   "metadata": {},
   "source": [
    "## Data Transform\n",
    "Data need to be transformed from `NumPy` to `PyTorch` tensor before feeding into the CNN-LSTM model."
   ]
  },
  {
   "cell_type": "code",
   "execution_count": 11,
   "metadata": {},
   "outputs": [],
   "source": [
    "\n",
    "train_data_dict ,test_data_dict = data_module.key_assign(trainingX = trainX  , \n",
    "                       testingX = testX, \n",
    "                       trainingY = trainY, \n",
    "                       testingY = testY)\n",
    "\n",
    "\n",
    "\n",
    "train_data_dict ,test_data_dict = data_module.transform(train_data_dict ,test_data_dict)\n"
   ]
  },
  {
   "cell_type": "code",
   "execution_count": 12,
   "metadata": {},
   "outputs": [
    {
     "name": "stdout",
     "output_type": "stream",
     "text": [
      "train_data_x_feature shape : torch.Size([25, 3, 1])\n",
      "train_data_y_label shape : torch.Size([25, 1, 1])\n",
      "test_data_x_feature shape : torch.Size([9, 3, 1])\n",
      "test_data_y_label shape : torch.Size([9, 1, 1])\n"
     ]
    }
   ],
   "source": [
    "data_module.sanity_check(train_data_dict , test_data_dict)"
   ]
  },
  {
   "cell_type": "markdown",
   "metadata": {},
   "source": [
    "## Data Transpose \n",
    "You are required to transpose the x-feature data in such a way that : <br>\n",
    ">`(batch_size, number_of_features, sequence_length)`.\n",
    "\n",
    "This is because CNN requires the input shape as `(batch_size, number_of_features, sequence_length)`. Hence, we will create a function that accepts the dictionary data of train data and test data as input. Transpose of the x-features for both train data and test data is done using `torch.transpose()`. The return of the function will be in a dictionary class type."
   ]
  },
  {
   "cell_type": "code",
   "execution_count": 13,
   "metadata": {},
   "outputs": [],
   "source": [
    "# Data Transpose\n",
    "train_data_dict , test_data_dict= data_module.transpose(train_data_dict,test_data_dict)"
   ]
  },
  {
   "cell_type": "code",
   "execution_count": 14,
   "metadata": {},
   "outputs": [
    {
     "name": "stdout",
     "output_type": "stream",
     "text": [
      "train_data_x_feature shape : torch.Size([25, 1, 3])\n",
      "train_data_y_label shape : torch.Size([25, 1, 1])\n",
      "test_data_x_feature shape : torch.Size([9, 1, 3])\n",
      "test_data_y_label shape : torch.Size([9, 1, 1])\n"
     ]
    }
   ],
   "source": [
    "data_module.sanity_check(train_data_dict , test_data_dict)"
   ]
  },
  {
   "cell_type": "markdown",
   "metadata": {},
   "source": [
    "## Data Iterator\n",
    "Iterator is created to separate the data into several batches to fasten the training process."
   ]
  },
  {
   "cell_type": "code",
   "execution_count": 15,
   "metadata": {},
   "outputs": [],
   "source": [
    "# Create Iterator\n",
    "train_iter , test_iter = data_module.iterator(train_data_dict ,test_data_dict,batch_size = batch_size)\n"
   ]
  },
  {
   "cell_type": "markdown",
   "metadata": {},
   "source": [
    "# Step 2 : CNN-LSTM Configuration \n",
    "\n",
    "![CNN-LSTM](https://3qeqpr26caki16dnhd19sv6by6v-wpengine.netdna-ssl.com/wp-content/uploads/2017/07/Convolutional-Neural-Network-Long-Short-Term-Memory-Network-Archiecture.png)\n",
    "<center><b>Data Flow in CNN-LSTM</b></center>\n",
    "\n",
    ">**How does it work**?\n",
    "The input data will first pass to the CNN model followed by the LSTM model as shown in the figure above.<br>\n",
    "\n",
    ">**How to initialize the configuration**?<br>\n",
    "    1. First, you need to initialize the constructor just like the initialization in our previous tutorial Python class `CNN`. The `forward()` method in `CNN_hybrid` will be a similar configuration to the one from the previous tutorial.<br>\n",
    "    2. Secondly, create a new class called `Combine`. Initialize the constructor like the LSTM model with an extra line: `self.cnn = CNN(n_features,n_step)` to enable its access to the `CNN` class. In the `forward()` method, add in `c_out = self.cnn(x)` as the first line of the code to take the input data and input it to the CNN class. The return output of CNN needs to be reshaped before inputting to LSTM.<br>\n",
    "\n"
   ]
  },
  {
   "cell_type": "code",
   "execution_count": 16,
   "metadata": {},
   "outputs": [],
   "source": [
    "class CNN_hybrid(nn.Module):\n",
    "    def __init__(self,n_features,n_step):\n",
    "        super(CNN_hybrid, self).__init__()\n",
    "        self.n_features = n_features\n",
    "        self.n_step = n_step\n",
    "        self.conv1 = nn.Conv1d(in_channels = n_features,out_channels=10, kernel_size=2)\n",
    "        self.poo1 = nn.AdaptiveMaxPool1d(1)\n",
    "        self.fc1 = nn.Linear(10, 20)\n",
    "        self.fc2 = nn.Linear(20, n_step)\n",
    "\n",
    "    def forward(self, x):\n",
    "        x = self.poo1(F.relu(self.conv1(x)))\n",
    "        x = x.view(-1, 10)\n",
    "        x = F.relu(self.fc1(x))\n",
    "        x = self.fc2(x)\n",
    "        return x\n",
    "\n",
    "\n",
    "class Combine(nn.Module):\n",
    "    def __init__(self,n_features,n_step,hidden_size,num_layers):\n",
    "        super(Combine, self).__init__()\n",
    "        self.n_features = n_features\n",
    "        self.n_step = n_step\n",
    "        self.hidden_size = hidden_size\n",
    "        self.num_layers = num_layers \n",
    "\n",
    "        self.cnn = CNN_hybrid(n_features,n_step)\n",
    "\n",
    "        self.lstm = nn.LSTM(\n",
    "            input_size= n_features,\n",
    "            hidden_size= hidden_size,\n",
    "            num_layers= num_layers ,\n",
    "            batch_first=True)\n",
    "        self.linear = nn.Linear(hidden_size,n_step)\n",
    "\n",
    "    def forward(self, x):\n",
    "        # The data flow into CNN first\n",
    "        c_out = self.cnn(x)\n",
    "\n",
    "        # Reshape the c_out to fit in LSTM\n",
    "        c_out = torch.reshape(c_out,(c_out.shape[0],c_out.shape[1],1))\n",
    "\n",
    "        # Initialize hidden state with zeros\n",
    "        h0 = torch.zeros(self.num_layers, x.size(0), self.hidden_size)\n",
    "\n",
    "        # Initialize cell state\n",
    "        c0 = torch.zeros(self.num_layers, x.size(0), self.hidden_size)\n",
    "        \n",
    "        # The output of CNN will flow into LSTM \n",
    "        out, (hn, cn) = self.lstm(c_out, (h0.detach(), c0.detach()))\n",
    "        \n",
    "        out = out[:, -1, :]\n",
    "        \n",
    "        out = self.linear(out)\n",
    "        \n",
    "\n",
    "        return (out)"
   ]
  },
  {
   "cell_type": "markdown",
   "metadata": {},
   "source": [
    "## Input Model"
   ]
  },
  {
   "cell_type": "code",
   "execution_count": 17,
   "metadata": {},
   "outputs": [
    {
     "name": "stdout",
     "output_type": "stream",
     "text": [
      "Combine(\n",
      "  (cnn): CNN_hybrid(\n",
      "    (conv1): Conv1d(1, 10, kernel_size=(2,), stride=(1,))\n",
      "    (poo1): AdaptiveMaxPool1d(output_size=1)\n",
      "    (fc1): Linear(in_features=10, out_features=20, bias=True)\n",
      "    (fc2): Linear(in_features=20, out_features=1, bias=True)\n",
      "  )\n",
      "  (lstm): LSTM(1, 32, batch_first=True)\n",
      "  (linear): Linear(in_features=32, out_features=1, bias=True)\n",
      ")\n"
     ]
    }
   ],
   "source": [
    "# seed\n",
    "torch.manual_seed(123)\n",
    "\n",
    "n_feature = train_data_dict['train_data_x_feature'].shape[1]\n",
    "hidden_size = 32 \n",
    "num_layers = 1\n",
    "\n",
    "model = Combine(n_features = n_feature,\n",
    "             n_step = n_step,\n",
    "             hidden_size = hidden_size,\n",
    "             num_layers = num_layers)\n",
    "print(model.eval())\n",
    "\n",
    "#loss function\n",
    "loss_fn = torch.nn.MSELoss()\n",
    "\n",
    "#optimiser\n",
    "optimizer = torch.optim.Adam(model.parameters(), lr=learning_rate)\n",
    "\n"
   ]
  },
  {
   "cell_type": "code",
   "execution_count": 18,
   "metadata": {},
   "outputs": [
    {
     "data": {
      "text/plain": [
       "Combine(\n",
       "  (cnn): CNN_hybrid(\n",
       "    (conv1): Conv1d(1, 10, kernel_size=(2,), stride=(1,))\n",
       "    (poo1): AdaptiveMaxPool1d(output_size=1)\n",
       "    (fc1): Linear(in_features=10, out_features=20, bias=True)\n",
       "    (fc2): Linear(in_features=20, out_features=1, bias=True)\n",
       "  )\n",
       "  (lstm): LSTM(1, 32, batch_first=True)\n",
       "  (linear): Linear(in_features=32, out_features=1, bias=True)\n",
       ")"
      ]
     },
     "execution_count": 18,
     "metadata": {},
     "output_type": "execute_result"
    }
   ],
   "source": [
    "# seed\n",
    "torch.manual_seed(123)\n",
    "\n",
    "def weights_init(m):\n",
    "    if isinstance(m, nn.Conv1d):\n",
    "        nn.init.xavier_uniform_(m.weight.data)\n",
    "        \n",
    "model.apply(weights_init)"
   ]
  },
  {
   "cell_type": "code",
   "execution_count": 19,
   "metadata": {
    "scrolled": true
   },
   "outputs": [
    {
     "name": "stdout",
     "output_type": "stream",
     "text": [
      "=========================================================================\n",
      "                             Kernel Shape Output Shape Params Mult-Adds\n",
      "Layer                                                                  \n",
      "0_cnn.Conv1d_conv1             [1, 10, 2]  [20, 10, 2]   30.0      40.0\n",
      "1_cnn.AdaptiveMaxPool1d_poo1            -  [20, 10, 1]      -         -\n",
      "2_cnn.Linear_fc1                 [10, 20]     [20, 20]  220.0     200.0\n",
      "3_cnn.Linear_fc2                  [20, 1]      [20, 1]   21.0      20.0\n",
      "4_lstm                                  -  [20, 1, 32]  4.48k    4.224k\n",
      "5_linear                          [32, 1]      [20, 1]   33.0      32.0\n",
      "-------------------------------------------------------------------------\n",
      "                      Totals\n",
      "Total params          4.784k\n",
      "Trainable params      4.784k\n",
      "Non-trainable params     0.0\n",
      "Mult-Adds             4.516k\n",
      "=========================================================================\n",
      "                             Kernel Shape Output Shape  Params  Mult-Adds\n",
      "Layer                                                                    \n",
      "0_cnn.Conv1d_conv1             [1, 10, 2]  [20, 10, 2]    30.0       40.0\n",
      "1_cnn.AdaptiveMaxPool1d_poo1            -  [20, 10, 1]     NaN        NaN\n",
      "2_cnn.Linear_fc1                 [10, 20]     [20, 20]   220.0      200.0\n",
      "3_cnn.Linear_fc2                  [20, 1]      [20, 1]    21.0       20.0\n",
      "4_lstm                                  -  [20, 1, 32]  4480.0     4224.0\n",
      "5_linear                          [32, 1]      [20, 1]    33.0       32.0\n"
     ]
    }
   ],
   "source": [
    "seq_length = train_data_dict['train_data_x_feature'].shape[2]\n",
    "inputs = torch.zeros((batch_size,n_feature ,seq_length),dtype=torch.float) # batch size ,input_dim ,seq_length\n",
    "print(summary(model,inputs))"
   ]
  },
  {
   "cell_type": "markdown",
   "metadata": {},
   "source": [
    "# Step 3 : Training"
   ]
  },
  {
   "cell_type": "code",
   "execution_count": 20,
   "metadata": {},
   "outputs": [],
   "source": [
    "# seed\n",
    "torch.manual_seed(123)\n",
    "# Start Training\n",
    "train_loss, val_loss = deep_learning_module.training(num_epochs, train_iter, test_iter, optimizer, loss_fn, model)"
   ]
  },
  {
   "cell_type": "markdown",
   "metadata": {},
   "source": [
    "# Step 4 : Validation \n",
    "A learning curve is plotted to define how well the data is fitting the model "
   ]
  },
  {
   "cell_type": "code",
   "execution_count": 21,
   "metadata": {
    "scrolled": true
   },
   "outputs": [
    {
     "data": {
      "image/png": "[encoded data removed]",
      "text/plain": [
       "<Figure size 720x432 with 1 Axes>"
      ]
     },
     "metadata": {
      "needs_background": "light"
     },
     "output_type": "display_data"
    },
    {
     "name": "stdout",
     "output_type": "stream",
     "text": [
      "Epoch : 0 , training loss : 0.49378840923309325 , validation loss : 1.7917041778564453\n",
      "Epoch : 1 , training loss : 0.4129299998283386 , validation loss : 1.6274195909500122\n",
      "Epoch : 2 , training loss : 0.3419968247413635 , validation loss : 1.4577746391296387\n",
      "Epoch : 3 , training loss : 0.2731207966804504 , validation loss : 1.2741748094558716\n",
      "Epoch : 4 , training loss : 0.205336594581604 , validation loss : 1.0730152130126953\n",
      "Epoch : 5 , training loss : 0.14186214208602904 , validation loss : 0.8563950061798096\n",
      "Epoch : 6 , training loss : 0.09037506878376007 , validation loss : 0.6336524486541748\n",
      "Epoch : 7 , training loss : 0.06368815898895264 , validation loss : 0.4264334738254547\n",
      "Epoch : 8 , training loss : 0.07509501948952675 , validation loss : 0.27023622393608093\n",
      "Epoch : 9 , training loss : 0.12137907594442368 , validation loss : 0.18873776495456696\n",
      "Epoch : 10 , training loss : 0.16695354860275985 , validation loss : 0.16878217458724976\n",
      "Epoch : 11 , training loss : 0.1797507844865322 , validation loss : 0.18773992359638214\n",
      "Epoch : 12 , training loss : 0.16307290215045214 , validation loss : 0.23004038631916046\n",
      "Epoch : 13 , training loss : 0.13559087365865707 , validation loss : 0.28312215209007263\n",
      "Epoch : 14 , training loss : 0.11084353029727936 , validation loss : 0.3359476923942566\n",
      "Epoch : 15 , training loss : 0.09338502883911133 , validation loss : 0.3808479905128479\n",
      "Epoch : 16 , training loss : 0.08264492452144623 , validation loss : 0.4134617745876312\n",
      "Epoch : 17 , training loss : 0.07654393017292023 , validation loss : 0.4325723648071289\n",
      "Epoch : 18 , training loss : 0.07320265322923661 , validation loss : 0.43874144554138184\n",
      "Epoch : 19 , training loss : 0.07151085436344147 , validation loss : 0.43374067544937134\n",
      "Epoch : 20 , training loss : 0.07101146280765533 , validation loss : 0.42006582021713257\n",
      "Epoch : 21 , training loss : 0.07151522189378738 , validation loss : 0.4005414545536041\n",
      "Epoch : 22 , training loss : 0.07295427471399307 , validation loss : 0.3780260980129242\n",
      "Epoch : 23 , training loss : 0.07515469789505005 , validation loss : 0.3551669716835022\n",
      "Epoch : 24 , training loss : 0.07770848646759987 , validation loss : 0.3341605067253113\n",
      "Epoch : 25 , training loss : 0.07996152192354203 , validation loss : 0.31656354665756226\n",
      "Epoch : 26 , training loss : 0.08119317665696144 , validation loss : 0.303139328956604\n",
      "Epoch : 27 , training loss : 0.08080667406320571 , validation loss : 0.29307252168655396\n",
      "Epoch : 28 , training loss : 0.07850836962461472 , validation loss : 0.28683722019195557\n",
      "Epoch : 29 , training loss : 0.07441441416740417 , validation loss : 0.28275197744369507\n",
      "Epoch : 30 , training loss : 0.06899632103741168 , validation loss : 0.2789255976676941\n",
      "Epoch : 31 , training loss : 0.06266431994736195 , validation loss : 0.27355092763900757\n",
      "Epoch : 32 , training loss : 0.055730153992772105 , validation loss : 0.26475679874420166\n",
      "Epoch : 33 , training loss : 0.048410074040293696 , validation loss : 0.2510145902633667\n",
      "Epoch : 34 , training loss : 0.040823934227228166 , validation loss : 0.23188842833042145\n",
      "Epoch : 35 , training loss : 0.03315847776830196 , validation loss : 0.20824408531188965\n",
      "Epoch : 36 , training loss : 0.02565122041851282 , validation loss : 0.1813371628522873\n",
      "Epoch : 37 , training loss : 0.018533827923238277 , validation loss : 0.15373565256595612\n",
      "Epoch : 38 , training loss : 0.012064261501654983 , validation loss : 0.1283586472272873\n",
      "Epoch : 39 , training loss : 0.0064723915187641975 , validation loss : 0.10783623903989792\n",
      "Epoch : 40 , training loss : 0.002290435670875013 , validation loss : 0.092655710875988\n",
      "Epoch : 41 , training loss : 0.0005498177401022985 , validation loss : 0.0810256376862526\n",
      "Epoch : 42 , training loss : 0.0015926864405628293 , validation loss : 0.07075150310993195\n",
      "Epoch : 43 , training loss : 0.0036990787368267773 , validation loss : 0.06188903748989105\n",
      "Epoch : 44 , training loss : 0.0047754221595823765 , validation loss : 0.056727901101112366\n",
      "Epoch : 45 , training loss : 0.0044906772673130035 , validation loss : 0.05634574219584465\n",
      "Epoch : 46 , training loss : 0.0034923031227663158 , validation loss : 0.05931514501571655\n",
      "Epoch : 47 , training loss : 0.0023424285114742815 , validation loss : 0.06325776129961014\n",
      "Epoch : 48 , training loss : 0.001307617744896561 , validation loss : 0.06641669571399689\n",
      "Epoch : 49 , training loss : 0.0005917924689128995 , validation loss : 0.06846727430820465\n",
      "Epoch : 50 , training loss : 0.00037928769597783685 , validation loss : 0.07010089606046677\n",
      "Epoch : 51 , training loss : 0.0005556512507610023 , validation loss : 0.07187739759683609\n",
      "Epoch : 52 , training loss : 0.0008071140677202493 , validation loss : 0.07332703471183777\n",
      "Epoch : 53 , training loss : 0.0009285156964324414 , validation loss : 0.07344836741685867\n",
      "Epoch : 54 , training loss : 0.0008996521937660873 , validation loss : 0.07150641083717346\n",
      "Epoch : 55 , training loss : 0.0007764442823827266 , validation loss : 0.06805412471294403\n",
      "Epoch : 56 , training loss : 0.0006146872969111427 , validation loss : 0.06436335295438766\n",
      "Epoch : 57 , training loss : 0.00044886062969453635 , validation loss : 0.06141473725438118\n",
      "Epoch : 58 , training loss : 0.0003075055603403598 , validation loss : 0.05940339341759682\n",
      "Epoch : 59 , training loss : 0.0002391203881416004 , validation loss : 0.057703714817762375\n"
     ]
    }
   ],
   "source": [
    "# Create Learining Curve \n",
    "data_module.learning_curve(num_epochs = num_epochs , train_loss = train_loss , val_loss = val_loss )"
   ]
  },
  {
   "cell_type": "markdown",
   "metadata": {},
   "source": [
    "# Step 5 : Evaluation\n",
    "This section is to inference the model by feeding in testing data, determining the output forecast values and calculating the RMSE. \n",
    "\n",
    "> For this exercise, use the function in `data_module` to run in each section.\n",
    "\n",
    "It consists of 4 sections :\n",
    "\n",
    "Section 1 : Feed in the train and test data to the model <br>\n",
    "Section 2 : Reshape both to the original data dimension <br> \n",
    "Section 3 : Invert the scaling back to the original data value <br>\n",
    "Section 4 : Calculate the RMSE of train and test data"
   ]
  },
  {
   "cell_type": "code",
   "execution_count": 22,
   "metadata": {},
   "outputs": [],
   "source": [
    "# make predictions\n",
    "with torch.no_grad():\n",
    "    y_train_prediction = model(train_data_dict['train_data_x_feature'])\n",
    "    y_test_prediction = model(test_data_dict['test_data_x_feature'])"
   ]
  },
  {
   "cell_type": "code",
   "execution_count": 23,
   "metadata": {},
   "outputs": [],
   "source": [
    "# Assign evaluation key\n",
    "prediction , output = data_module.key_assign_evaluation(y_train_prediction,\n",
    "    y_test_prediction,\n",
    "    train_data_dict,\n",
    "    test_data_dict)\n",
    "\n",
    "# Section 2 : Reshape to original data\n",
    "# Squeeze the output dimension\n",
    "output_data = data_module.squeeze_dimension(output)\n"
   ]
  },
  {
   "cell_type": "code",
   "execution_count": 24,
   "metadata": {},
   "outputs": [
    {
     "name": "stdout",
     "output_type": "stream",
     "text": [
      "train_data_output shape : torch.Size([25, 1])\n",
      "test_data_output shape : torch.Size([9, 1])\n"
     ]
    }
   ],
   "source": [
    "data_module.sanity_check(data_1 = output_data,data_2 = {})"
   ]
  },
  {
   "cell_type": "code",
   "execution_count": 25,
   "metadata": {},
   "outputs": [],
   "source": [
    "# Section 3 : Invert predictions\n",
    "prediction = data_module.inverse_scaler(prediction,scaler)\n",
    "output_data  = data_module.inverse_scaler(output_data ,scaler)"
   ]
  },
  {
   "cell_type": "code",
   "execution_count": 26,
   "metadata": {},
   "outputs": [
    {
     "name": "stdout",
     "output_type": "stream",
     "text": [
      "train_data_prediction shape : (25, 1)\n",
      "test_data_prediction shape : (9, 1)\n",
      "train_data_output shape : (25, 1)\n",
      "test_data_output shape : (9, 1)\n"
     ]
    }
   ],
   "source": [
    "data_module.sanity_check(data_1 = prediction,data_2 = output_data )"
   ]
  },
  {
   "cell_type": "code",
   "execution_count": 27,
   "metadata": {},
   "outputs": [
    {
     "name": "stdout",
     "output_type": "stream",
     "text": [
      "Test Data\t\t\tForecast\n",
      "[310.]\t\t[280.90417]\n",
      "[320.]\t\t[284.09375]\n",
      "[330.]\t\t[287.20572]\n",
      "[340.]\t\t[289.06573]\n",
      "[349.99997]\t\t[290.0198]\n",
      "[360.]\t\t[290.97293]\n",
      "[370.]\t\t[291.9251]\n",
      "[380.]\t\t[292.87628]\n",
      "[390.]\t\t[293.8265]\n"
     ]
    }
   ],
   "source": [
    "# List the forecast value\n",
    "data_module.list_forecast_value(output_data,prediction) "
   ]
  },
  {
   "cell_type": "code",
   "execution_count": 28,
   "metadata": {},
   "outputs": [
    {
     "name": "stdout",
     "output_type": "stream",
     "text": [
      "Train Score: 4.27 RMSE\n",
      "Test Score: 64.86 RMSE\n"
     ]
    }
   ],
   "source": [
    "# Section 4 : Calculate the RMSE of train and test data\n",
    "### BEGIN SOLUTION\n",
    "trainScore,testScore = data_module.rmse(prediction,output_data)\n",
    "### END SOLUTION\n",
    "print('Train Score: %.2f RMSE' % (trainScore))\n",
    "print('Test Score: %.2f RMSE' % (testScore))"
   ]
  },
  {
   "cell_type": "markdown",
   "metadata": {},
   "source": [
    "# Step 6 : Forecast Plot"
   ]
  },
  {
   "cell_type": "code",
   "execution_count": 29,
   "metadata": {},
   "outputs": [
    {
     "data": {
      "image/png": "[encoded data removed]",
      "text/plain": [
       "<Figure size 720x432 with 1 Axes>"
      ]
     },
     "metadata": {
      "needs_background": "light"
     },
     "output_type": "display_data"
    }
   ],
   "source": [
    "data_module.single_step_plot(original_test_data = test_data,\n",
    "                            sequence_test_data = output_data['test_data_output'],\n",
    "                            forecast_data = prediction['test_data_prediction'],\n",
    "                            test_time = test_time,\n",
    "                            window_size =  window_size,\n",
    "                            original_plot=False,\n",
    "                            multivariate=False)"
   ]
  },
  {
   "cell_type": "markdown",
   "metadata": {},
   "source": [
    "# Part 2 : Exercise for Univariate \n",
    "## Task : Use Hybrid model (CNN-LSTM) to predict the temperature for Melbourne\n",
    "\n",
    "### Introduction\n",
    "You are given a set of dataset that describes the minimum daily temperatures over 10 years (1981-1990) in the city Melbourne, Australia. The units are in degrees Celsius and there are 3650 observations.\n",
    "\n",
    "### Data Sources :\n",
    "[The source of the data is credited as the Australian Bureau of Meteorology.](https://raw.githubusercontent.com/jbrownlee/Datasets/master/daily-min-temperatures.csv)"
   ]
  },
  {
   "cell_type": "markdown",
   "metadata": {},
   "source": [
    "## Hyperparameter\n",
    ">**Instruction** : <br>\n",
    "You are required to fill `None` with a suitable value to make the model converge\n",
    "\n",
    ">**Expected Result** : <br>\n",
    "Train Score <= 10 RMSE<br>\n",
    "Test Score <= 10 RMSE<br>"
   ]
  },
  {
   "cell_type": "code",
   "execution_count": 30,
   "metadata": {},
   "outputs": [
    {
     "data": {
      "text/plain": [
       "<torch._C.Generator at 0x191b3623eb0>"
      ]
     },
     "execution_count": 30,
     "metadata": {},
     "output_type": "execute_result"
    }
   ],
   "source": [
    "# Hyperparameter\n",
    "num_epochs_temperature = 100\n",
    "batch_size_temperature = 30\n",
    "window_size_temperature = 12\n",
    "learning_rate_temperature = 0.001\n",
    "n_step_temperature = 1 \n",
    "split_data_ratio_temperature = 0.70\n",
    "#seed\n",
    "torch.manual_seed(123)"
   ]
  },
  {
   "cell_type": "markdown",
   "metadata": {},
   "source": [
    "# Step 1 : Data Preparation\n",
    ">**Instruction** : <br>\n",
    "Read the `CSV` file using `pd.read_csv`<br>\n",
    "Your file path `https://raw.githubusercontent.com/jbrownlee/Datasets/master/daily-min-temperatures.csv`\n",
    "\n",
    ">**Expected Result**<br>\n",
    "Example of the first 5 rows of data:\n",
    "\n",
    "---|\tDate|\tTemp\n",
    "---|---|---\n",
    "0|\t1981-01-01|\t20.7\n",
    "1|\t1981-01-02|\t17.9\n",
    "2|\t1981-01-03|\t18.8\n",
    "3|\t1981-01-04|\t14.6\n",
    "4|\t1981-01-05|\t15.8"
   ]
  },
  {
   "cell_type": "code",
   "execution_count": 31,
   "metadata": {},
   "outputs": [
    {
     "data": {
      "text/html": [
       "<div>\n",
       "<style scoped>\n",
       "    .dataframe tbody tr th:only-of-type {\n",
       "        vertical-align: middle;\n",
       "    }\n",
       "\n",
       "    .dataframe tbody tr th {\n",
       "        vertical-align: top;\n",
       "    }\n",
       "\n",
       "    .dataframe thead th {\n",
       "        text-align: right;\n",
       "    }\n",
       "</style>\n",
       "<table border=\"1\" class=\"dataframe\">\n",
       "  <thead>\n",
       "    <tr style=\"text-align: right;\">\n",
       "      <th></th>\n",
       "      <th>Date</th>\n",
       "      <th>Temp</th>\n",
       "    </tr>\n",
       "  </thead>\n",
       "  <tbody>\n",
       "    <tr>\n",
       "      <th>0</th>\n",
       "      <td>1981-01-01</td>\n",
       "      <td>20.7</td>\n",
       "    </tr>\n",
       "    <tr>\n",
       "      <th>1</th>\n",
       "      <td>1981-01-02</td>\n",
       "      <td>17.9</td>\n",
       "    </tr>\n",
       "    <tr>\n",
       "      <th>2</th>\n",
       "      <td>1981-01-03</td>\n",
       "      <td>18.8</td>\n",
       "    </tr>\n",
       "    <tr>\n",
       "      <th>3</th>\n",
       "      <td>1981-01-04</td>\n",
       "      <td>14.6</td>\n",
       "    </tr>\n",
       "    <tr>\n",
       "      <th>4</th>\n",
       "      <td>1981-01-05</td>\n",
       "      <td>15.8</td>\n",
       "    </tr>\n",
       "  </tbody>\n",
       "</table>\n",
       "</div>"
      ],
      "text/plain": [
       "         Date  Temp\n",
       "0  1981-01-01  20.7\n",
       "1  1981-01-02  17.9\n",
       "2  1981-01-03  18.8\n",
       "3  1981-01-04  14.6\n",
       "4  1981-01-05  15.8"
      ]
     },
     "execution_count": 31,
     "metadata": {},
     "output_type": "execute_result"
    }
   ],
   "source": [
    "# Read CSV file \n",
    "### BEGIN SOLUTION\n",
    "temperature = pd.read_csv('https://raw.githubusercontent.com/jbrownlee/Datasets/master/daily-min-temperatures.csv')\n",
    "### END SOLUTION\n",
    "temperature.head() "
   ]
  },
  {
   "cell_type": "markdown",
   "metadata": {},
   "source": [
    ">**Instruction** : <br>\n",
    "Convert the `Date` by using `pd.to_datetime`\n",
    "Set the index as 'Date' using `df.set_index`\n",
    "\n",
    ">**Expected Result** : <br>\n",
    "Example of the first 5 rows:\n",
    "\n",
    "Date|\tTemp\n",
    "---|---\n",
    "1981-01-01|\t20.7\n",
    "1981-01-02|\t17.9\n",
    "1981-01-03|\t18.8\n",
    "1981-01-04|\t14.6\n",
    "1981-01-05|\t15.8"
   ]
  },
  {
   "cell_type": "code",
   "execution_count": 32,
   "metadata": {},
   "outputs": [
    {
     "data": {
      "text/html": [
       "<div>\n",
       "<style scoped>\n",
       "    .dataframe tbody tr th:only-of-type {\n",
       "        vertical-align: middle;\n",
       "    }\n",
       "\n",
       "    .dataframe tbody tr th {\n",
       "        vertical-align: top;\n",
       "    }\n",
       "\n",
       "    .dataframe thead th {\n",
       "        text-align: right;\n",
       "    }\n",
       "</style>\n",
       "<table border=\"1\" class=\"dataframe\">\n",
       "  <thead>\n",
       "    <tr style=\"text-align: right;\">\n",
       "      <th></th>\n",
       "      <th>Temp</th>\n",
       "    </tr>\n",
       "    <tr>\n",
       "      <th>Date</th>\n",
       "      <th></th>\n",
       "    </tr>\n",
       "  </thead>\n",
       "  <tbody>\n",
       "    <tr>\n",
       "      <th>1981-01-01</th>\n",
       "      <td>20.7</td>\n",
       "    </tr>\n",
       "    <tr>\n",
       "      <th>1981-01-02</th>\n",
       "      <td>17.9</td>\n",
       "    </tr>\n",
       "    <tr>\n",
       "      <th>1981-01-03</th>\n",
       "      <td>18.8</td>\n",
       "    </tr>\n",
       "    <tr>\n",
       "      <th>1981-01-04</th>\n",
       "      <td>14.6</td>\n",
       "    </tr>\n",
       "    <tr>\n",
       "      <th>1981-01-05</th>\n",
       "      <td>15.8</td>\n",
       "    </tr>\n",
       "  </tbody>\n",
       "</table>\n",
       "</div>"
      ],
      "text/plain": [
       "            Temp\n",
       "Date            \n",
       "1981-01-01  20.7\n",
       "1981-01-02  17.9\n",
       "1981-01-03  18.8\n",
       "1981-01-04  14.6\n",
       "1981-01-05  15.8"
      ]
     },
     "execution_count": 32,
     "metadata": {},
     "output_type": "execute_result"
    }
   ],
   "source": [
    "### BEGIN SOLUTION\n",
    "temperature['Date'] = pd.to_datetime(temperature['Date'])\n",
    "temperature = temperature.set_index('Date')\n",
    "### END SOLUTION\n",
    "temperature.head()"
   ]
  },
  {
   "cell_type": "markdown",
   "metadata": {},
   "source": [
    ">**Instruction** : <br>\n",
    "Save the data in `Series` format using `pd.Series`\n",
    "\n",
    ">**Expected Result** : <br>\n",
    "Example of the first 5 rows of data:\n",
    "\n",
    "Date|---\n",
    "---|---\n",
    "1981-01-01|    20.7\n",
    "1981-01-02|    17.9\n",
    "1981-01-03|    18.8\n",
    "1981-01-04|    14.6\n",
    "1981-01-05|    15.8"
   ]
  },
  {
   "cell_type": "code",
   "execution_count": 33,
   "metadata": {},
   "outputs": [
    {
     "data": {
      "text/plain": [
       "Date\n",
       "1981-01-01    20.7\n",
       "1981-01-02    17.9\n",
       "1981-01-03    18.8\n",
       "1981-01-04    14.6\n",
       "1981-01-05    15.8\n",
       "Name: Temp, dtype: float64"
      ]
     },
     "execution_count": 33,
     "metadata": {},
     "output_type": "execute_result"
    }
   ],
   "source": [
    "### BEGIN SOLUTION\n",
    "temperature_ts = pd.Series(temperature['Temp'])\n",
    "### END SOLUTION\n",
    "temperature_ts.head()"
   ]
  },
  {
   "cell_type": "markdown",
   "metadata": {},
   "source": [
    "## Data Visualization\n",
    "Data visualization is important for us to visualize the pattern of data such as trend and seasonality.\n",
    ">**Instruction** : <br>\n",
    "Use `df.plot()` to plot the `temperature_ts`"
   ]
  },
  {
   "cell_type": "code",
   "execution_count": 34,
   "metadata": {},
   "outputs": [
    {
     "data": {
      "text/plain": [
       "<AxesSubplot:xlabel='Date'>"
      ]
     },
     "execution_count": 34,
     "metadata": {},
     "output_type": "execute_result"
    },
    {
     "data": {
      "image/png": "[encoded data removed]",
      "text/plain": [
       "<Figure size 432x288 with 1 Axes>"
      ]
     },
     "metadata": {
      "needs_background": "light"
     },
     "output_type": "display_data"
    }
   ],
   "source": [
    "## BEGIN SOLUTION\n",
    "temperature_ts.plot()\n",
    "### END SOLUTION"
   ]
  },
  {
   "cell_type": "markdown",
   "metadata": {},
   "source": [
    "## Data Splitting"
   ]
  },
  {
   "cell_type": "code",
   "execution_count": 35,
   "metadata": {},
   "outputs": [],
   "source": [
    "# Create split data ratio\n",
    "split_ratio = round(len(temperature_ts)*split_data_ratio_temperature)"
   ]
  },
  {
   "cell_type": "code",
   "execution_count": 36,
   "metadata": {},
   "outputs": [
    {
     "name": "stdout",
     "output_type": "stream",
     "text": [
      "train_data_shampoo_shape\n",
      "(2555,)\n",
      "test_data_shampoo_shape\n",
      "(1095,)\n"
     ]
    }
   ],
   "source": [
    "# Split data by indexing \n",
    "train_data_temperature= temperature_ts[:split_ratio]\n",
    "test_data_temperature = temperature_ts[split_ratio:]\n",
    "train_time_temperature = temperature_ts.index[:split_ratio ]\n",
    "test_time_temperature = temperature_ts.index[split_ratio:]\n",
    "print(\"train_data_shampoo_shape\")\n",
    "print(train_data_temperature.shape)\n",
    "print(\"test_data_shampoo_shape\")\n",
    "print(test_data_temperature.shape)"
   ]
  },
  {
   "cell_type": "markdown",
   "metadata": {},
   "source": [
    "## Data Standardization\n",
    ">**Instruction** : <br>\n",
    "Use `StandardScaler()` to  standardize the data, save your data scaler into `scaler_temperature`.<br>\n",
    "Train and test scaled data into `scaler_train_shampoo_data ` and `test_data_scaled_temperature`.<br>\n",
    "\n",
    "Example :<br>\n",
    "`train_data_scaled_temperature = scaler_temperature.transform(train_data_temperature.values.reshape(-1, 1))`\n"
   ]
  },
  {
   "cell_type": "code",
   "execution_count": 37,
   "metadata": {},
   "outputs": [],
   "source": [
    "### BEGIN SOLUTION\n",
    "scaler_temperature = StandardScaler().fit(train_data_temperature.values.reshape(-1, 1))\n",
    "train_data_scaled_temperature = scaler_temperature.transform(train_data_temperature.values.reshape(-1, 1))\n",
    "test_data_scaled_temperature = scaler_temperature.transform(test_data_temperature.values.reshape((-1, 1)))\n",
    "### END SOLUTION"
   ]
  },
  {
   "cell_type": "markdown",
   "metadata": {},
   "source": [
    "## Data Sequencing \n",
    ">**Instruction** : <br>\n",
    "Use `data_module.univariate_single_step` to perform sliding window operation by taking the scaled data and save your data into respective `x` and `y` variable.<br>\n",
    "\n",
    "Example :<br>\n",
    "`trainX_temperature ,trainY_temperature =  data_module.univariate_single_step(train_data_scaled_temperature,\n",
    "                                                                             window_size_temperature)`"
   ]
  },
  {
   "cell_type": "code",
   "execution_count": 38,
   "metadata": {},
   "outputs": [
    {
     "name": "stdout",
     "output_type": "stream",
     "text": [
      "trainX shape:(2543, 12, 1) trainY shape:(2543, 1)\n",
      "\n",
      "testX shape:(1083, 12, 1) testX shape:(1083, 1)\n"
     ]
    }
   ],
   "source": [
    "### BEGIN SOLUTION\n",
    "trainX_temperature ,trainY_temperature =  data_module.univariate_single_step(train_data_scaled_temperature,\n",
    "                                                                             window_size_temperature)\n",
    "\n",
    "testX_temperature , testY_temperature = data_module.univariate_single_step(test_data_scaled_temperature,\n",
    "                                                                           window_size_temperature)\n",
    "### END SOLUTION\n",
    "print(f\"trainX shape:{trainX_temperature.shape} trainY shape:{trainY_temperature.shape}\\n\")\n",
    "print(f\"testX shape:{testX_temperature.shape} testX shape:{testY_temperature.shape}\")"
   ]
  },
  {
   "cell_type": "code",
   "execution_count": 39,
   "metadata": {},
   "outputs": [
    {
     "name": "stdout",
     "output_type": "stream",
     "text": [
      "trainY shape:(2543, 1, 1)\n",
      "testY shape:(1083, 1, 1)\n"
     ]
    }
   ],
   "source": [
    "trainY_temperature= trainY_temperature.reshape(trainY_temperature.shape[0],n_step,1)\n",
    "testY_temperature= testY_temperature.reshape(testY_temperature.shape[0],n_step,1)\n",
    "print(f\"trainY shape:{trainY_temperature.shape}\")\n",
    "print(f\"testY shape:{testY_temperature.shape}\")"
   ]
  },
  {
   "cell_type": "markdown",
   "metadata": {},
   "source": [
    "## Data Transform\n",
    "Data has to be transformed from `NumPy` to `PyTorch` tensor before feeding into the CNN-LSTM model.\n",
    "\n",
    ">**Instruction** : <br>\n",
    "Use `data_module.key_assign` to assign the key and `data_module.transform` to transform the data."
   ]
  },
  {
   "cell_type": "code",
   "execution_count": 40,
   "metadata": {},
   "outputs": [],
   "source": [
    "# Key Assign \n",
    "### BEGIN SOLUTION\n",
    "train_data_dict_temperature ,test_data_dict_temperature = data_module.key_assign(trainingX = trainX_temperature  , \n",
    "                       testingX = testX_temperature, \n",
    "                       trainingY = trainY_temperature, \n",
    "                       testingY = testY_temperature)\n",
    "### END SOLUTION\n",
    "\n",
    "# Transform data\n",
    "### BEGIN SOLUTION\n",
    "train_data_dict_temperature ,test_data_dict_temperature= data_module.transform(train_data_dict_temperature ,\n",
    "                                                                          test_data_dict_temperature)\n",
    "### END SOLUTION"
   ]
  },
  {
   "cell_type": "code",
   "execution_count": 41,
   "metadata": {},
   "outputs": [
    {
     "name": "stdout",
     "output_type": "stream",
     "text": [
      "train_data_x_feature shape : torch.Size([2543, 12, 1])\n",
      "train_data_y_label shape : torch.Size([2543, 1, 1])\n",
      "test_data_x_feature shape : torch.Size([1083, 12, 1])\n",
      "test_data_y_label shape : torch.Size([1083, 1, 1])\n"
     ]
    }
   ],
   "source": [
    "data_module.sanity_check(train_data_dict_temperature , test_data_dict_temperature)"
   ]
  },
  {
   "cell_type": "markdown",
   "metadata": {},
   "source": [
    "## Data Transpose \n",
    "You are required to transpose the x-feature data in such a way that : <br>\n",
    ">`(batch_size, number_of_features, sequence_length)`.\n",
    "\n",
    "This is because CNN requires the input shape as `(batch_size, number_of_features, sequence_length)` .\n",
    "\n",
    ">**Instruction** : <br>\n",
    "Use `transpose` function in `data_module.py` to transpose the suitable input data for CNN-LSTM model."
   ]
  },
  {
   "cell_type": "code",
   "execution_count": 42,
   "metadata": {},
   "outputs": [],
   "source": [
    "### BEGIN SOLUTION\n",
    "train_data_dict_temperature , test_data_dict_temperature = data_module.transpose(train_data_dict_temperature,\n",
    "                                                                     test_data_dict_temperature)\n",
    "### END SOLUTION"
   ]
  },
  {
   "cell_type": "markdown",
   "metadata": {},
   "source": [
    "## Data Iterator\n",
    ">**Instruction** : <br>\n",
    "Use `data_module.iterator` to create data iterator"
   ]
  },
  {
   "cell_type": "code",
   "execution_count": 43,
   "metadata": {},
   "outputs": [],
   "source": [
    "# Create Iterator\n",
    "### BEGIN SOLUTION\n",
    "train_iter_temperature , test_iter_temperature = data_module.iterator(train_data_dict_temperature ,\n",
    "                                                                      test_data_dict_temperature,\n",
    "                                                                      batch_size = batch_size_temperature)\n",
    "### END SOLUTION"
   ]
  },
  {
   "cell_type": "markdown",
   "metadata": {},
   "source": [
    "# Step 2 : CNN-LSTM Configuration \n",
    ">**Instruction** : <br>\n",
    "You are suggested to configure your own CNN-LSTM model. Name the `Combine` class as `Combine_temperature` "
   ]
  },
  {
   "cell_type": "code",
   "execution_count": 44,
   "metadata": {},
   "outputs": [],
   "source": [
    "class CNN(nn.Module):\n",
    "    def __init__(self,n_features,n_step):\n",
    "        super(CNN, self).__init__()\n",
    "        ### BEGIN SOLUTION\n",
    "        self.n_features = n_features\n",
    "        self.n_step = n_step\n",
    "        self.conv1 = nn.Conv1d(in_channels = n_features,out_channels=10, kernel_size=2)\n",
    "        self.poo1 = nn.AdaptiveMaxPool1d(1)\n",
    "        self.fc1 = nn.Linear(10, 20)\n",
    "        self.fc2 = nn.Linear(20, n_step)\n",
    "        ### END SOLUTION\n",
    "\n",
    "    def forward(self, x):\n",
    "        ### BEGIN SOLUTION\n",
    "        x = self.poo1(F.relu(self.conv1(x)))\n",
    "        x = x.view(-1, 10)\n",
    "        x = F.relu(self.fc1(x))\n",
    "        x = self.fc2(x)\n",
    "        ### END SOLUTION\n",
    "        return x\n",
    "\n",
    "\n",
    "class Combine_temperature(nn.Module):\n",
    "    def __init__(self,n_features,n_step,hidden_size,num_layers):\n",
    "        super(Combine_temperature, self).__init__()\n",
    "        ### BEGIN SOLUTION\n",
    "        self.n_features = n_features\n",
    "        self.n_step = n_step\n",
    "        self.hidden_size = hidden_size\n",
    "        self.num_layers = num_layers \n",
    "\n",
    "        self.cnn = CNN(n_features,n_step)\n",
    "\n",
    "        self.lstm = nn.LSTM(\n",
    "            input_size= n_features,\n",
    "            hidden_size= hidden_size,\n",
    "            num_layers= num_layers ,\n",
    "            batch_first=True)\n",
    "        self.linear = nn.Linear(hidden_size,n_step)\n",
    "        ### END SOLUTION\n",
    "\n",
    "    def forward(self, x):\n",
    "        # The data flow into CNN first\n",
    "        c_out = self.cnn(x)\n",
    "\n",
    "        # Reshape the c_out to fit in LSTM\n",
    "        c_out = torch.reshape(c_out,(c_out.shape[0],c_out.shape[1],1))\n",
    "\n",
    "        # Initialize hidden state with zeros\n",
    "        h0 = torch.zeros(self.num_layers, x.size(0), self.hidden_size)\n",
    "\n",
    "        # Initialize cell state\n",
    "        c0 = torch.zeros(self.num_layers, x.size(0), self.hidden_size)\n",
    "        \n",
    "        # The output of CNN will flow into LSTM \n",
    "        out, (hn, cn) = self.lstm(c_out, (h0.detach(), c0.detach()))\n",
    "        \n",
    "        out = out[:, -1, :]\n",
    "        \n",
    "        out = self.linear(out)\n",
    "        ### END SOLUTION\n",
    "        \n",
    "\n",
    "        return (out)"
   ]
  },
  {
   "cell_type": "markdown",
   "metadata": {},
   "source": [
    "## Input Model\n",
    "\n",
    "\n",
    "\n",
    ">**Instruction** : <br>\n",
    "Use the `Combine_temperature` configuration as the model for the temperature data. Use `Adam` as the optimizer and `MSE` as the loss function."
   ]
  },
  {
   "cell_type": "code",
   "execution_count": 45,
   "metadata": {},
   "outputs": [],
   "source": [
    "# seed\n",
    "torch.manual_seed(123)\n",
    "\n",
    "n_feature_temperature = train_data_dict_temperature['train_data_x_feature'].shape[1]\n",
    "hidden_size_temperature = 16\n",
    "num_layers_temperature = 1\n",
    "\n",
    "### BEGIN SOLUTION\n",
    "model_temperature = Combine_temperature(n_feature_temperature,n_step_temperature,hidden_size_temperature,num_layers_temperature)\n",
    "\n",
    "#loss function\n",
    "loss_fn_temperature = torch.nn.MSELoss()\n",
    "\n",
    "#optimiser\n",
    "optimizer_temperature = torch.optim.Adam(model_temperature.parameters(), lr=learning_rate_temperature)\n",
    "### END SOLUTION"
   ]
  },
  {
   "cell_type": "code",
   "execution_count": 46,
   "metadata": {},
   "outputs": [
    {
     "name": "stdout",
     "output_type": "stream",
     "text": [
      "==========================================================================\n",
      "                             Kernel Shape  Output Shape  Params Mult-Adds\n",
      "Layer                                                                    \n",
      "0_cnn.Conv1d_conv1             [1, 10, 2]  [30, 10, 11]    30.0     220.0\n",
      "1_cnn.AdaptiveMaxPool1d_poo1            -   [30, 10, 1]       -         -\n",
      "2_cnn.Linear_fc1                 [10, 20]      [30, 20]   220.0     200.0\n",
      "3_cnn.Linear_fc2                  [20, 1]       [30, 1]    21.0      20.0\n",
      "4_lstm                                  -   [30, 1, 16]  1.216k    1.088k\n",
      "5_linear                          [16, 1]       [30, 1]    17.0      16.0\n",
      "--------------------------------------------------------------------------\n",
      "                      Totals\n",
      "Total params          1.504k\n",
      "Trainable params      1.504k\n",
      "Non-trainable params     0.0\n",
      "Mult-Adds             1.544k\n",
      "==========================================================================\n",
      "                             Kernel Shape  Output Shape  Params  Mult-Adds\n",
      "Layer                                                                     \n",
      "0_cnn.Conv1d_conv1             [1, 10, 2]  [30, 10, 11]    30.0      220.0\n",
      "1_cnn.AdaptiveMaxPool1d_poo1            -   [30, 10, 1]     NaN        NaN\n",
      "2_cnn.Linear_fc1                 [10, 20]      [30, 20]   220.0      200.0\n",
      "3_cnn.Linear_fc2                  [20, 1]       [30, 1]    21.0       20.0\n",
      "4_lstm                                  -   [30, 1, 16]  1216.0     1088.0\n",
      "5_linear                          [16, 1]       [30, 1]    17.0       16.0\n"
     ]
    }
   ],
   "source": [
    "seq_length_temperature = train_data_dict_temperature['train_data_x_feature'].shape[2]\n",
    "inputs = torch.zeros((batch_size_temperature,\n",
    "                      n_feature_temperature ,\n",
    "                      seq_length_temperature),dtype=torch.float) # batch size ,input_dim ,seq_length\n",
    "print(summary(model_temperature,inputs))"
   ]
  },
  {
   "cell_type": "code",
   "execution_count": 47,
   "metadata": {},
   "outputs": [
    {
     "data": {
      "text/plain": [
       "Combine_temperature(\n",
       "  (cnn): CNN(\n",
       "    (conv1): Conv1d(1, 10, kernel_size=(2,), stride=(1,))\n",
       "    (poo1): AdaptiveMaxPool1d(output_size=1)\n",
       "    (fc1): Linear(in_features=10, out_features=20, bias=True)\n",
       "    (fc2): Linear(in_features=20, out_features=1, bias=True)\n",
       "  )\n",
       "  (lstm): LSTM(1, 16, batch_first=True)\n",
       "  (linear): Linear(in_features=16, out_features=1, bias=True)\n",
       ")"
      ]
     },
     "execution_count": 47,
     "metadata": {},
     "output_type": "execute_result"
    }
   ],
   "source": [
    "# seed\n",
    "torch.manual_seed(123)\n",
    "\n",
    "def weights_init(m):\n",
    "    if isinstance(m, nn.Conv1d):\n",
    "        nn.init.xavier_uniform_(m.weight.data)\n",
    "        \n",
    "model_temperature.apply(weights_init)"
   ]
  },
  {
   "cell_type": "markdown",
   "metadata": {},
   "source": [
    "# Step 3 : Training"
   ]
  },
  {
   "cell_type": "code",
   "execution_count": 48,
   "metadata": {},
   "outputs": [],
   "source": [
    "torch.manual_seed(123)\n",
    "train_loss_temperature,val_loss_temperature = deep_learning_module.training(num_epochs_temperature,\n",
    "                                                                    train_iter_temperature,\n",
    "                                                                    test_iter_temperature,\n",
    "                                                                    optimizer_temperature,\n",
    "                                                                    loss_fn_temperature,\n",
    "                                                                    model_temperature)"
   ]
  },
  {
   "cell_type": "markdown",
   "metadata": {},
   "source": [
    "# Step 4 : Validation"
   ]
  },
  {
   "cell_type": "code",
   "execution_count": 49,
   "metadata": {},
   "outputs": [
    {
     "data": {
      "image/png": "[encoded data removed]",
      "text/plain": [
       "<Figure size 720x432 with 1 Axes>"
      ]
     },
     "metadata": {
      "needs_background": "light"
     },
     "output_type": "display_data"
    },
    {
     "name": "stdout",
     "output_type": "stream",
     "text": [
      "Epoch : 0 , training loss : 0.9985006960578383 , validation loss : 0.9572441407848263\n",
      "Epoch : 1 , training loss : 0.9758131025791918 , validation loss : 0.8860651324000055\n",
      "Epoch : 2 , training loss : 0.7770931489159167 , validation loss : 0.5314532745000068\n",
      "Epoch : 3 , training loss : 0.537343065018172 , validation loss : 0.4375603802068742\n",
      "Epoch : 4 , training loss : 0.5087938724401379 , validation loss : 0.4343102104198239\n",
      "Epoch : 5 , training loss : 0.5053702884896084 , validation loss : 0.43350399873758616\n",
      "Epoch : 6 , training loss : 0.5031764328690715 , validation loss : 0.4327814189763611\n",
      "Epoch : 7 , training loss : 0.5013193643168113 , validation loss : 0.43205276342144966\n",
      "Epoch : 8 , training loss : 0.49974828242458696 , validation loss : 0.4312915827593975\n",
      "Epoch : 9 , training loss : 0.4983278716285539 , validation loss : 0.43066104321928894\n",
      "Epoch : 10 , training loss : 0.4970620718121388 , validation loss : 0.42994417613398006\n",
      "Epoch : 11 , training loss : 0.4959346610661618 , validation loss : 0.42923732130811487\n",
      "Epoch : 12 , training loss : 0.49488347938714233 , validation loss : 0.4286336925221282\n",
      "Epoch : 13 , training loss : 0.4939158648732981 , validation loss : 0.42799239710922715\n",
      "Epoch : 14 , training loss : 0.4929787678672627 , validation loss : 0.42745100795562246\n",
      "Epoch : 15 , training loss : 0.4921086541531923 , validation loss : 0.4268297599293188\n",
      "Epoch : 16 , training loss : 0.4912283137305909 , validation loss : 0.4262143776357339\n",
      "Epoch : 17 , training loss : 0.49043249397169075 , validation loss : 0.425525492206835\n",
      "Epoch : 18 , training loss : 0.4896844854234852 , validation loss : 0.42490877995365545\n",
      "Epoch : 19 , training loss : 0.48895779699731706 , validation loss : 0.4243364900020351\n",
      "Epoch : 20 , training loss : 0.4882525788181371 , validation loss : 0.4238462680512188\n",
      "Epoch : 21 , training loss : 0.487570089509625 , validation loss : 0.42342724141321686\n",
      "Epoch : 22 , training loss : 0.4869124829956644 , validation loss : 0.4229317250096567\n",
      "Epoch : 23 , training loss : 0.48631617684698086 , validation loss : 0.4224196901116675\n",
      "Epoch : 24 , training loss : 0.4857251238644803 , validation loss : 0.4218235500053686\n",
      "Epoch : 25 , training loss : 0.4851950565356698 , validation loss : 0.4212593094876598\n",
      "Epoch : 26 , training loss : 0.4846749531088314 , validation loss : 0.4208267842963792\n",
      "Epoch : 27 , training loss : 0.48417836897634775 , validation loss : 0.4205189332407267\n",
      "Epoch : 28 , training loss : 0.48369585797395753 , validation loss : 0.4202130923971245\n",
      "Epoch : 29 , training loss : 0.4831907637373369 , validation loss : 0.4199597647728352\n",
      "Epoch : 30 , training loss : 0.48266751801128516 , validation loss : 0.41966220967657347\n",
      "Epoch : 31 , training loss : 0.48211023752913434 , validation loss : 0.4193565108274159\n",
      "Epoch : 32 , training loss : 0.48155879568875515 , validation loss : 0.41904663403939013\n",
      "Epoch : 33 , training loss : 0.48101591902176694 , validation loss : 0.41868020556970315\n",
      "Epoch : 34 , training loss : 0.48056116414220135 , validation loss : 0.41832735977674784\n",
      "Epoch : 35 , training loss : 0.48010917849958856 , validation loss : 0.4180406401362115\n",
      "Epoch : 36 , training loss : 0.47972508137543934 , validation loss : 0.4177641096290129\n",
      "Epoch : 37 , training loss : 0.47936479009561916 , validation loss : 0.4175183941865562\n",
      "Epoch : 38 , training loss : 0.4790001957378095 , validation loss : 0.41718831736790507\n",
      "Epoch : 39 , training loss : 0.47863722931574615 , validation loss : 0.4168901965228474\n",
      "Epoch : 40 , training loss : 0.47826765821620415 , validation loss : 0.4165466092630106\n",
      "Epoch : 41 , training loss : 0.47793551497791303 , validation loss : 0.41626933823827234\n",
      "Epoch : 42 , training loss : 0.47764773436573327 , validation loss : 0.4160774458313252\n",
      "Epoch : 43 , training loss : 0.4773952437815964 , validation loss : 0.4159042535148499\n",
      "Epoch : 44 , training loss : 0.4771409198565601 , validation loss : 0.41575237163381235\n",
      "Epoch : 45 , training loss : 0.47689738085642136 , validation loss : 0.41563517672533473\n",
      "Epoch : 46 , training loss : 0.4766536148406369 , validation loss : 0.4155599779534538\n",
      "Epoch : 47 , training loss : 0.4764123086825253 , validation loss : 0.41543545592524667\n",
      "Epoch : 48 , training loss : 0.476166048248687 , validation loss : 0.4153686613257242\n",
      "Epoch : 49 , training loss : 0.47593840750427263 , validation loss : 0.41533657425493414\n",
      "Epoch : 50 , training loss : 0.4757135346256463 , validation loss : 0.41531896636591725\n",
      "Epoch : 51 , training loss : 0.4754999977511962 , validation loss : 0.4152906292693437\n",
      "Epoch : 52 , training loss : 0.475301474285932 , validation loss : 0.41517344166697556\n",
      "Epoch : 53 , training loss : 0.47510074548396924 , validation loss : 0.41517306059351256\n",
      "Epoch : 54 , training loss : 0.47492342097432044 , validation loss : 0.41507541972349227\n",
      "Epoch : 55 , training loss : 0.47474847803704623 , validation loss : 0.4149807573520576\n",
      "Epoch : 56 , training loss : 0.474567793775533 , validation loss : 0.41493890081581314\n",
      "Epoch : 57 , training loss : 0.47440260641695803 , validation loss : 0.41486411007157326\n",
      "Epoch : 58 , training loss : 0.47425752492622275 , validation loss : 0.4147228515626981\n",
      "Epoch : 59 , training loss : 0.4740850942907397 , validation loss : 0.41458713207548675\n",
      "Epoch : 60 , training loss : 0.4739265133323887 , validation loss : 0.4144467914120973\n",
      "Epoch : 61 , training loss : 0.4737667700483065 , validation loss : 0.41431672338633657\n",
      "Epoch : 62 , training loss : 0.4735773084227419 , validation loss : 0.41417930062622904\n",
      "Epoch : 63 , training loss : 0.4733982169037488 , validation loss : 0.41401343629630977\n",
      "Epoch : 64 , training loss : 0.4732214089129977 , validation loss : 0.41387442352864223\n",
      "Epoch : 65 , training loss : 0.47301251051278737 , validation loss : 0.41376319787674004\n",
      "Epoch : 66 , training loss : 0.4728453336177358 , validation loss : 0.41364603157353863\n",
      "Epoch : 67 , training loss : 0.47267302962161406 , validation loss : 0.4136059626400306\n",
      "Epoch : 68 , training loss : 0.4725303115265322 , validation loss : 0.41350185124002337\n",
      "Epoch : 69 , training loss : 0.47237105829904175 , validation loss : 0.41331677246126775\n",
      "Epoch : 70 , training loss : 0.4721712906249058 , validation loss : 0.4132682089990526\n",
      "Epoch : 71 , training loss : 0.47197283988996513 , validation loss : 0.4131997795233766\n",
      "Epoch : 72 , training loss : 0.47181663424585263 , validation loss : 0.4131837531387641\n",
      "Epoch : 73 , training loss : 0.47166679820065605 , validation loss : 0.41316475907025907\n",
      "Epoch : 74 , training loss : 0.471528636684954 , validation loss : 0.4131220146146838\n",
      "Epoch : 75 , training loss : 0.47136874468224377 , validation loss : 0.41313671533255697\n",
      "Epoch : 76 , training loss : 0.4712269160159685 , validation loss : 0.4131438641749591\n",
      "Epoch : 77 , training loss : 0.4710853085994158 , validation loss : 0.4131632992517915\n",
      "Epoch : 78 , training loss : 0.4709405171979003 , validation loss : 0.4132243078253606\n",
      "Epoch : 79 , training loss : 0.47078034970828786 , validation loss : 0.41327281250848\n",
      "Epoch : 80 , training loss : 0.4706283795566386 , validation loss : 0.4132570905450969\n",
      "Epoch : 81 , training loss : 0.47051713796426964 , validation loss : 0.4132472816183957\n",
      "Epoch : 82 , training loss : 0.47040983036049133 , validation loss : 0.4132520466877813\n",
      "Epoch : 83 , training loss : 0.4702726169172535 , validation loss : 0.4132689020062418\n",
      "Epoch : 84 , training loss : 0.4701250043620381 , validation loss : 0.4131568127061522\n",
      "Epoch : 85 , training loss : 0.4699880834573655 , validation loss : 0.4132100739142241\n",
      "Epoch : 86 , training loss : 0.4698543466314105 , validation loss : 0.41322034828550597\n",
      "Epoch : 87 , training loss : 0.46972883283224715 , validation loss : 0.4131076348290219\n",
      "Epoch : 88 , training loss : 0.46956847819623826 , validation loss : 0.4131197662729966\n",
      "Epoch : 89 , training loss : 0.4694629893544805 , validation loss : 0.4130982734737634\n",
      "Epoch : 90 , training loss : 0.4693568180360243 , validation loss : 0.41311881466255296\n",
      "Epoch : 91 , training loss : 0.4692621372180148 , validation loss : 0.4131090860617788\n",
      "Epoch : 92 , training loss : 0.4691704321788888 , validation loss : 0.41316891356353286\n",
      "Epoch : 93 , training loss : 0.4690751277387869 , validation loss : 0.41328727014342176\n",
      "Epoch : 94 , training loss : 0.4690220320360706 , validation loss : 0.4133186353128042\n",
      "Epoch : 95 , training loss : 0.46892749507315645 , validation loss : 0.4134225961326562\n",
      "Epoch : 96 , training loss : 0.46886122299375094 , validation loss : 0.41342687652216725\n",
      "Epoch : 97 , training loss : 0.4687832102408055 , validation loss : 0.41355109169377513\n",
      "Epoch : 98 , training loss : 0.46871177538661 , validation loss : 0.41361078260843115\n",
      "Epoch : 99 , training loss : 0.46862327902512996 , validation loss : 0.41365278584475\n"
     ]
    }
   ],
   "source": [
    "data_module.learning_curve(num_epochs = num_epochs_temperature , train_loss = train_loss_temperature , val_loss = val_loss_temperature )\n"
   ]
  },
  {
   "cell_type": "markdown",
   "metadata": {},
   "source": [
    "# Step 5 : Evaluation\n",
    "This section is to inference the model by feeding in testing data, determining the output forecast values and calculating the RMSE.\n",
    ">**Instruction** : <br>\n",
    "Use the function created in `data_module.py` to perform the task in each section.\n",
    "\n",
    "It consists of 4 sections :\n",
    "\n",
    "Section 1 : Feed in the train and test data to the model <br>\n",
    "Section 2 : Reshape both to the original data dimension <br> \n",
    "Section 3 : Invert the scaling back to the original data value <br>\n",
    "Section 4 : Calculate the RMSE of train and test dat"
   ]
  },
  {
   "cell_type": "code",
   "execution_count": 50,
   "metadata": {},
   "outputs": [],
   "source": [
    "# Section 1 : make predictions\n",
    "### BEGIN SOLUTION\n",
    "with torch.no_grad():\n",
    "    y_train_prediction_temperature = model_temperature(train_data_dict_temperature['train_data_x_feature'])\n",
    "    y_test_prediction_temperature = model_temperature(test_data_dict_temperature['test_data_x_feature'])\n",
    "### END SOLUTION"
   ]
  },
  {
   "cell_type": "code",
   "execution_count": 51,
   "metadata": {},
   "outputs": [],
   "source": [
    "# Assign evaluation key\n",
    "### BEGIN SOLUTION\n",
    "prediction_temperature , output_temperature = data_module.key_assign_evaluation(y_train_prediction_temperature,\n",
    "                                                                    y_test_prediction_temperature,\n",
    "                                                                    train_data_dict_temperature,\n",
    "                                                                    test_data_dict_temperature)\n",
    "### END SOLUTION\n",
    "\n",
    "\n",
    "# Section 2 : Reshape to original data\n",
    "# Squeeze the output dimension\n",
    "### BEGIN SOLUTION\n",
    "output_data_temperature = data_module.squeeze_dimension(output_temperature)\n",
    "### END SOLUTION"
   ]
  },
  {
   "cell_type": "code",
   "execution_count": 52,
   "metadata": {},
   "outputs": [
    {
     "name": "stdout",
     "output_type": "stream",
     "text": [
      "train_data_output shape : torch.Size([2543, 1])\n",
      "test_data_output shape : torch.Size([1083, 1])\n"
     ]
    }
   ],
   "source": [
    "data_module.sanity_check(data_1 = output_temperature,data_2 = {})"
   ]
  },
  {
   "cell_type": "code",
   "execution_count": 53,
   "metadata": {},
   "outputs": [],
   "source": [
    "# Section 3 : Invert the scaling back to orignal data value\n",
    "### BEGIN SOLUTION\n",
    "prediction_temperature = data_module.inverse_scaler(prediction_temperature,scaler_temperature)\n",
    "output_data_temperature  = data_module.inverse_scaler(output_data_temperature ,scaler_temperature)\n",
    "### END SOLUTION"
   ]
  },
  {
   "cell_type": "code",
   "execution_count": 54,
   "metadata": {},
   "outputs": [
    {
     "name": "stdout",
     "output_type": "stream",
     "text": [
      "Test Data\t\t\tForecast\n",
      "[22.4]\t\t[14.9955015]\n",
      "[21.4]\t\t[15.5577]\n",
      "[20.9]\t\t[15.687998]\n",
      "[17.6]\t\t[15.68926]\n",
      "[15.5]\t\t[16.572258]\n",
      "[16.6]\t\t[16.563574]\n",
      "[16.2]\t\t[16.565306]\n",
      "[15.6]\t\t[16.565306]\n",
      "[14.5]\t\t[16.570417]\n",
      "[14.]\t\t[16.222725]\n",
      "[15.6]\t\t[15.922064]\n",
      "[12.3]\t\t[15.922064]\n",
      "[11.6]\t\t[14.768543]\n",
      "[12.6]\t\t[14.160766]\n",
      "[14.9]\t\t[13.9098]\n",
      "[17.300001]\t\t[13.802187]\n",
      "[21.4]\t\t[13.754176]\n",
      "[23.4]\t\t[14.276303]\n",
      "[14.4]\t\t[14.715339]\n",
      "[14.1]\t\t[14.715339]\n",
      "[15.]\t\t[14.715339]\n",
      "[14.5]\t\t[14.715339]\n",
      "[15.1]\t\t[14.715339]\n",
      "[13.900001]\t\t[14.715339]\n",
      "[13.4]\t\t[15.343761]\n",
      "[9.2]\t\t[15.8544855]\n",
      "[12.5]\t\t[13.102722]\n",
      "[15.1]\t\t[13.057842]\n",
      "[12.1]\t\t[13.057842]\n",
      "[14.5]\t\t[12.632841]\n",
      "[16.3]\t\t[12.271707]\n",
      "[16.5]\t\t[12.435296]\n",
      "[14.9]\t\t[12.554744]\n",
      "[13.2]\t\t[12.554744]\n",
      "[11.8]\t\t[12.554744]\n",
      "[13.6]\t\t[12.554744]\n",
      "[16.2]\t\t[12.554744]\n",
      "[14.1]\t\t[14.234973]\n",
      "[13.5]\t\t[14.058261]\n",
      "[15.]\t\t[14.016606]\n",
      "[14.8]\t\t[14.016606]\n",
      "[16.2]\t\t[14.016606]\n",
      "[16.2]\t\t[14.016606]\n",
      "[13.3]\t\t[13.97277]\n",
      "[15.3]\t\t[13.97277]\n",
      "[18.4]\t\t[13.97277]\n",
      "[16.2]\t\t[14.888962]\n",
      "[16.3]\t\t[14.996829]\n",
      "[12.4]\t\t[14.996829]\n",
      "[15.6]\t\t[14.473824]\n",
      "[14.9]\t\t[14.622366]\n",
      "[14.8]\t\t[14.622366]\n",
      "[12.7]\t\t[14.622366]\n",
      "[14.2]\t\t[14.600939]\n",
      "[16.8]\t\t[14.589179]\n",
      "[16.7]\t\t[14.589179]\n",
      "[16.2]\t\t[14.589179]\n",
      "[14.5]\t\t[14.651539]\n",
      "[10.]\t\t[14.63864]\n",
      "[12.6]\t\t[13.033401]\n",
      "[11.9]\t\t[12.973426]\n",
      "[11.8]\t\t[12.861501]\n",
      "[13.4]\t\t[12.861501]\n",
      "[14.5]\t\t[12.861501]\n",
      "[15.7]\t\t[12.861501]\n",
      "[15.3]\t\t[12.861501]\n",
      "[13.900001]\t\t[12.940834]\n",
      "[13.7]\t\t[12.868336]\n",
      "[15.1]\t\t[12.695682]\n",
      "[15.6]\t\t[12.695682]\n",
      "[14.4]\t\t[13.938634]\n",
      "[13.900001]\t\t[13.576862]\n",
      "[16.2]\t\t[13.576862]\n",
      "[16.7]\t\t[14.815612]\n",
      "[15.5]\t\t[15.198104]\n",
      "[16.4]\t\t[15.198104]\n",
      "[17.5]\t\t[15.198104]\n",
      "[18.2]\t\t[15.291486]\n",
      "[16.1]\t\t[15.394352]\n",
      "[16.5]\t\t[15.522901]\n",
      "[14.6]\t\t[15.522901]\n",
      "[16.4]\t\t[15.522901]\n",
      "[13.6]\t\t[15.522901]\n",
      "[15.900001]\t\t[15.360127]\n",
      "[11.9]\t\t[15.361798]\n",
      "[14.7]\t\t[14.268105]\n",
      "[9.4]\t\t[14.47011]\n",
      "[6.6]\t\t[12.766208]\n",
      "[7.9]\t\t[10.399885]\n",
      "[11.]\t\t[10.113667]\n",
      "[15.7]\t\t[10.304615]\n",
      "[15.2]\t\t[10.485331]\n",
      "[15.900001]\t\t[10.485331]\n",
      "[10.6]\t\t[10.446864]\n",
      "[8.3]\t\t[10.446864]\n",
      "[8.6]\t\t[10.446864]\n",
      "[12.7]\t\t[10.446864]\n",
      "[10.5]\t\t[10.446864]\n",
      "[12.]\t\t[10.446864]\n",
      "[11.1]\t\t[11.327702]\n",
      "[13.]\t\t[11.682689]\n",
      "[12.4]\t\t[11.682689]\n",
      "[13.3]\t\t[11.731328]\n",
      "[15.900001]\t\t[11.731328]\n",
      "[12.]\t\t[11.633131]\n",
      "[13.7]\t\t[11.633131]\n",
      "[17.6]\t\t[11.903539]\n",
      "[14.3]\t\t[13.44593]\n",
      "[13.7]\t\t[13.281794]\n",
      "[15.2]\t\t[13.689362]\n",
      "[14.5]\t\t[13.720378]\n",
      "[14.9]\t\t[14.25055]\n",
      "[15.5]\t\t[14.2778845]\n",
      "[16.4]\t\t[14.328796]\n",
      "[14.5]\t\t[14.329003]\n",
      "[12.6]\t\t[14.329003]\n",
      "[13.6]\t\t[14.723796]\n",
      "[11.2]\t\t[14.734097]\n",
      "[11.]\t\t[13.200839]\n",
      "[12.]\t\t[12.999831]\n",
      "[6.8]\t\t[12.999831]\n",
      "[10.6]\t\t[9.818344]\n",
      "[13.1]\t\t[10.794568]\n",
      "[13.5]\t\t[10.794568]\n",
      "[11.7]\t\t[10.794568]\n",
      "[13.2]\t\t[10.582198]\n",
      "[12.]\t\t[10.278867]\n",
      "[10.4]\t\t[10.278867]\n",
      "[10.]\t\t[10.278867]\n",
      "[8.2]\t\t[10.278867]\n",
      "[9.4]\t\t[10.278867]\n",
      "[10.3]\t\t[10.278867]\n",
      "[8.1]\t\t[11.259556]\n",
      "[8.7]\t\t[10.610548]\n",
      "[12.6]\t\t[10.198802]\n",
      "[10.9]\t\t[11.002093]\n",
      "[8.7]\t\t[11.002093]\n",
      "[9.3]\t\t[10.915328]\n",
      "[6.3]\t\t[10.765847]\n",
      "[7.8]\t\t[9.48966]\n",
      "[10.]\t\t[9.409219]\n",
      "[11.]\t\t[9.409219]\n",
      "[11.1]\t\t[9.409219]\n",
      "[12.6]\t\t[9.409219]\n",
      "[10.2]\t\t[9.530794]\n",
      "[11.1]\t\t[9.530794]\n",
      "[8.7]\t\t[9.038143]\n",
      "[9.5]\t\t[9.038143]\n",
      "[9.7]\t\t[9.038143]\n",
      "[8.2]\t\t[9.038143]\n",
      "[4.9999995]\t\t[10.001874]\n",
      "[6.5]\t\t[8.276715]\n",
      "[12.1]\t\t[8.105535]\n",
      "[8.9]\t\t[9.251224]\n",
      "[6.1000004]\t\t[9.251224]\n",
      "[2.7999997]\t\t[9.010433]\n",
      "[3.6999998]\t\t[7.7278666]\n",
      "[6.8]\t\t[7.6017513]\n",
      "[6.6]\t\t[7.6017513]\n",
      "[7.]\t\t[7.6017513]\n",
      "[7.3]\t\t[7.6017513]\n",
      "[7.9]\t\t[7.6017513]\n",
      "[10.6]\t\t[7.6017513]\n",
      "[8.1]\t\t[7.6017513]\n",
      "[6.7]\t\t[6.9903584]\n",
      "[8.]\t\t[6.9903584]\n",
      "[10.]\t\t[6.9903584]\n",
      "[6.7]\t\t[7.4313207]\n",
      "[9.4]\t\t[8.951243]\n",
      "[9.3]\t\t[8.910669]\n",
      "[6.]\t\t[8.959052]\n",
      "[5.7999997]\t\t[8.647437]\n",
      "[4.9]\t\t[8.44097]\n",
      "[4.9999995]\t\t[7.953333]\n",
      "[8.400001]\t\t[7.848361]\n",
      "[12.3]\t\t[8.087513]\n",
      "[13.]\t\t[8.411716]\n",
      "[11.4]\t\t[8.681051]\n",
      "[6.8]\t\t[8.681051]\n",
      "[7.6]\t\t[8.681051]\n",
      "[12.4]\t\t[8.681051]\n",
      "[7.1]\t\t[8.975678]\n",
      "[7.5]\t\t[8.975678]\n",
      "[10.]\t\t[8.975678]\n",
      "[5.3]\t\t[9.060748]\n",
      "[6.3]\t\t[9.310466]\n",
      "[8.]\t\t[9.224784]\n",
      "[8.3]\t\t[9.224784]\n",
      "[9.3]\t\t[9.049325]\n",
      "[9.5]\t\t[8.915183]\n",
      "[5.6]\t\t[8.915183]\n",
      "[7.]\t\t[8.915183]\n",
      "[8.5]\t\t[7.986994]\n",
      "[8.5]\t\t[7.986994]\n",
      "[8.2]\t\t[7.986994]\n",
      "[8.5]\t\t[7.811739]\n",
      "[9.6]\t\t[7.9546804]\n",
      "[9.7]\t\t[8.023547]\n",
      "[7.1]\t\t[8.000611]\n",
      "[8.400001]\t\t[8.000611]\n",
      "[9.2]\t\t[8.000611]\n",
      "[9.8]\t\t[8.000611]\n",
      "[8.1]\t\t[8.70836]\n",
      "[9.4]\t\t[8.9299345]\n",
      "[10.]\t\t[8.867037]\n",
      "[5.1]\t\t[8.8959]\n",
      "[6.7]\t\t[7.7781167]\n",
      "[6.9]\t\t[7.8007984]\n",
      "[6.8]\t\t[7.8007984]\n",
      "[8.6]\t\t[7.8007984]\n",
      "[9.1]\t\t[7.8022]\n",
      "[3.8999996]\t\t[7.8022]\n",
      "[4.8]\t\t[7.2274284]\n",
      "[8.400001]\t\t[7.1037335]\n",
      "[11.6]\t\t[7.586941]\n",
      "[12.1]\t\t[7.7203836]\n",
      "[12.4]\t\t[7.9118214]\n",
      "[10.]\t\t[7.9677544]\n",
      "[10.1]\t\t[7.9677544]\n",
      "[9.7]\t\t[7.9677544]\n",
      "[11.7]\t\t[7.9677544]\n",
      "[7.9]\t\t[7.9677544]\n",
      "[8.6]\t\t[7.9677544]\n",
      "[7.7000003]\t\t[8.562271]\n",
      "[5.7999997]\t\t[10.390684]\n",
      "[8.7]\t\t[9.046139]\n",
      "[10.6]\t\t[9.045426]\n",
      "[6.7]\t\t[9.045426]\n",
      "[8.8]\t\t[8.838189]\n",
      "[9.7]\t\t[8.838189]\n",
      "[9.]\t\t[8.838189]\n",
      "[11.8]\t\t[8.838189]\n",
      "[15.2]\t\t[8.817255]\n",
      "[10.]\t\t[9.400497]\n",
      "[10.5]\t\t[9.400497]\n",
      "[5.5]\t\t[9.400497]\n",
      "[9.4]\t\t[9.214424]\n",
      "[8.8]\t\t[9.549956]\n",
      "[5.3]\t\t[9.549956]\n",
      "[13.]\t\t[9.427993]\n",
      "[15.2]\t\t[10.521802]\n",
      "[13.2]\t\t[10.585439]\n",
      "[11.5]\t\t[10.585439]\n",
      "[6.8]\t\t[10.585439]\n",
      "[4.7]\t\t[10.585439]\n",
      "[5.2]\t\t[10.11664]\n",
      "[6.8]\t\t[10.044676]\n",
      "[10.7]\t\t[10.044676]\n",
      "[10.1]\t\t[10.044676]\n",
      "[10.]\t\t[10.044676]\n",
      "[9.8]\t\t[10.044676]\n",
      "[5.5]\t\t[8.932459]\n",
      "[13.5]\t\t[8.78234]\n",
      "[16.6]\t\t[9.57404]\n",
      "[8.400001]\t\t[10.291863]\n",
      "[8.2]\t\t[10.291863]\n",
      "[11.1]\t\t[10.56881]\n",
      "[10.8]\t\t[10.856514]\n",
      "[8.8]\t\t[11.00476]\n",
      "[10.8]\t\t[11.00476]\n",
      "[8.7]\t\t[11.00476]\n",
      "[12.4]\t\t[11.00476]\n",
      "[9.]\t\t[11.00476]\n",
      "[13.5]\t\t[12.67591]\n",
      "[14.7]\t\t[11.450859]\n",
      "[10.9]\t\t[11.296771]\n",
      "[8.5]\t\t[11.574961]\n",
      "[6.]\t\t[11.951413]\n",
      "[12.7]\t\t[9.965606]\n",
      "[11.1]\t\t[10.759544]\n",
      "[8.7]\t\t[10.759544]\n",
      "[12.3]\t\t[10.759544]\n",
      "[13.3]\t\t[10.759544]\n",
      "[5.6]\t\t[10.759544]\n",
      "[13.7]\t\t[10.337466]\n",
      "[8.5]\t\t[10.62147]\n",
      "[11.2]\t\t[10.361225]\n",
      "[8.7]\t\t[10.361225]\n",
      "[11.7]\t\t[10.361225]\n",
      "[12.5]\t\t[10.729474]\n",
      "[8.2]\t\t[10.755389]\n",
      "[15.6]\t\t[10.755389]\n",
      "[10.3]\t\t[10.729812]\n",
      "[11.4]\t\t[10.729812]\n",
      "[9.7]\t\t[10.729812]\n",
      "[6.3]\t\t[12.544675]\n",
      "[14.3]\t\t[10.713956]\n",
      "[11.3]\t\t[10.998782]\n",
      "[7.3]\t\t[10.998782]\n",
      "[12.8]\t\t[10.998782]\n",
      "[11.9]\t\t[10.998782]\n",
      "[14.3]\t\t[10.998782]\n",
      "[11.6]\t\t[11.011658]\n",
      "[13.2]\t\t[11.088767]\n",
      "[15.5]\t\t[11.088767]\n",
      "[14.1]\t\t[11.320305]\n",
      "[9.5]\t\t[11.320305]\n",
      "[7.2]\t\t[12.199191]\n",
      "[11.8]\t\t[11.372009]\n",
      "[16.8]\t\t[11.372009]\n",
      "[12.5]\t\t[11.206158]\n",
      "[9.4]\t\t[10.895781]\n",
      "[11.9]\t\t[10.895781]\n",
      "[10.3]\t\t[10.895781]\n",
      "[16.9]\t\t[10.895781]\n",
      "[17.5]\t\t[11.312852]\n",
      "[7.5]\t\t[11.672473]\n",
      "[8.6]\t\t[11.457728]\n",
      "[11.1]\t\t[11.421229]\n",
      "[11.5]\t\t[11.540198]\n",
      "[10.7]\t\t[11.540198]\n",
      "[15.7]\t\t[11.540198]\n",
      "[12.8]\t\t[11.540198]\n",
      "[13.]\t\t[11.540198]\n",
      "[12.9]\t\t[11.540198]\n",
      "[14.3]\t\t[11.540198]\n",
      "[13.7]\t\t[11.226467]\n",
      "[12.1]\t\t[10.66144]\n",
      "[11.9]\t\t[11.724773]\n",
      "[11.8]\t\t[13.343716]\n",
      "[11.4]\t\t[13.591686]\n",
      "[10.3]\t\t[13.591686]\n",
      "[11.7]\t\t[13.288954]\n",
      "[12.]\t\t[12.17202]\n",
      "[17.4]\t\t[12.17202]\n",
      "[16.8]\t\t[13.461273]\n",
      "[16.2]\t\t[13.650905]\n",
      "[13.]\t\t[13.650905]\n",
      "[12.5]\t\t[13.650905]\n",
      "[12.4]\t\t[13.650905]\n",
      "[16.1]\t\t[13.650905]\n",
      "[20.2]\t\t[13.650905]\n",
      "[14.3]\t\t[13.874019]\n",
      "[11.]\t\t[14.794816]\n",
      "[14.4]\t\t[14.392123]\n",
      "[15.7]\t\t[14.417657]\n",
      "[19.7]\t\t[13.842942]\n",
      "[20.699999]\t\t[13.842942]\n",
      "[23.9]\t\t[14.084272]\n",
      "[16.6]\t\t[14.26809]\n",
      "[17.5]\t\t[14.26809]\n",
      "[14.9]\t\t[14.275865]\n",
      "[13.6]\t\t[14.268153]\n",
      "[11.9]\t\t[14.250418]\n",
      "[15.2]\t\t[14.250418]\n",
      "[17.300001]\t\t[14.832942]\n",
      "[19.800001]\t\t[14.833741]\n",
      "[15.8]\t\t[14.833741]\n",
      "[9.5]\t\t[14.749717]\n",
      "[12.9]\t\t[13.153436]\n",
      "[12.9]\t\t[12.936236]\n",
      "[14.8]\t\t[12.936236]\n",
      "[14.1]\t\t[12.936236]\n",
      "[14.3]\t\t[12.936236]\n",
      "[17.4]\t\t[12.936236]\n",
      "[18.5]\t\t[12.936236]\n",
      "[16.8]\t\t[12.936236]\n",
      "[11.5]\t\t[12.936236]\n",
      "[9.5]\t\t[12.952446]\n",
      "[12.2]\t\t[12.7140045]\n",
      "[15.7]\t\t[12.913561]\n",
      "[16.3]\t\t[12.841531]\n",
      "[13.6]\t\t[12.841531]\n",
      "[12.6]\t\t[12.841531]\n",
      "[13.8]\t\t[12.841531]\n",
      "[12.1]\t\t[12.841531]\n",
      "[13.4]\t\t[12.91294]\n",
      "[17.300001]\t\t[12.802447]\n",
      "[19.4]\t\t[12.50247]\n",
      "[16.6]\t\t[12.938334]\n",
      "[13.900001]\t\t[14.525665]\n",
      "[13.1]\t\t[14.800053]\n",
      "[16.]\t\t[14.800053]\n",
      "[14.5]\t\t[14.800053]\n",
      "[15.]\t\t[14.800053]\n",
      "[12.6]\t\t[14.800053]\n",
      "[12.5]\t\t[14.800053]\n",
      "[15.2]\t\t[14.997811]\n",
      "[16.2]\t\t[14.997811]\n",
      "[16.5]\t\t[14.692718]\n",
      "[20.1]\t\t[14.690685]\n",
      "[20.6]\t\t[14.650085]\n",
      "[16.9]\t\t[14.881058]\n",
      "[16.5]\t\t[14.881058]\n",
      "[16.1]\t\t[14.881058]\n",
      "[14.4]\t\t[14.881058]\n",
      "[16.3]\t\t[14.881058]\n",
      "[15.7]\t\t[14.934076]\n",
      "[14.2]\t\t[16.068924]\n",
      "[13.2]\t\t[16.010483]\n",
      "[16.8]\t\t[15.393248]\n",
      "[18.5]\t\t[15.50718]\n",
      "[16.7]\t\t[15.707203]\n",
      "[15.3]\t\t[15.402557]\n",
      "[15.900001]\t\t[15.402557]\n",
      "[15.2]\t\t[15.402557]\n",
      "[17.5]\t\t[15.402557]\n",
      "[18.3]\t\t[15.402557]\n",
      "[19.4]\t\t[15.410117]\n",
      "[19.4]\t\t[15.545719]\n",
      "[19.5]\t\t[15.594156]\n",
      "[20.5]\t\t[16.644941]\n",
      "[15.7]\t\t[16.205471]\n",
      "[15.]\t\t[16.205471]\n",
      "[16.1]\t\t[16.169369]\n",
      "[14.3]\t\t[16.169369]\n",
      "[13.]\t\t[15.869506]\n",
      "[16.2]\t\t[15.051018]\n",
      "[17.7]\t\t[15.404829]\n",
      "[13.2]\t\t[15.404829]\n",
      "[15.8]\t\t[15.359729]\n",
      "[18.5]\t\t[15.359729]\n",
      "[20.4]\t\t[15.359729]\n",
      "[22.]\t\t[15.238998]\n",
      "[19.7]\t\t[15.397481]\n",
      "[19.6]\t\t[15.397481]\n",
      "[20.3]\t\t[15.397481]\n",
      "[18.3]\t\t[15.397481]\n",
      "[18.9]\t\t[15.566444]\n",
      "[20.3]\t\t[15.378974]\n",
      "[21.4]\t\t[15.378974]\n",
      "[18.3]\t\t[16.46885]\n",
      "[17.8]\t\t[16.345907]\n",
      "[17.7]\t\t[15.989158]\n",
      "[12.8]\t\t[15.816182]\n",
      "[15.1]\t\t[14.599972]\n",
      "[15.]\t\t[15.053206]\n",
      "[14.8]\t\t[15.053206]\n",
      "[12.]\t\t[15.053206]\n",
      "[12.5]\t\t[14.554694]\n",
      "[15.]\t\t[14.480496]\n",
      "[17.1]\t\t[14.556084]\n",
      "[17.300001]\t\t[14.536192]\n",
      "[16.9]\t\t[14.324397]\n",
      "[16.5]\t\t[14.287528]\n",
      "[13.6]\t\t[14.202402]\n",
      "[13.2]\t\t[14.202402]\n",
      "[9.4]\t\t[14.202402]\n",
      "[9.5]\t\t[12.459967]\n",
      "[11.8]\t\t[12.044075]\n",
      "[10.4]\t\t[12.094182]\n",
      "[9.7]\t\t[12.094182]\n",
      "[12.6]\t\t[12.094182]\n",
      "[13.3]\t\t[12.360206]\n",
      "[15.1]\t\t[12.315938]\n",
      "[14.2]\t\t[12.240779]\n",
      "[14.2]\t\t[11.863619]\n",
      "[19.199999]\t\t[11.863619]\n",
      "[12.6]\t\t[12.477313]\n",
      "[14.2]\t\t[12.707992]\n",
      "[11.9]\t\t[12.929647]\n",
      "[13.900001]\t\t[12.929647]\n",
      "[13.5]\t\t[12.929647]\n",
      "[15.3]\t\t[14.437149]\n",
      "[13.900001]\t\t[14.601982]\n",
      "[14.]\t\t[14.601982]\n",
      "[12.9]\t\t[14.601982]\n",
      "[8.5]\t\t[14.601982]\n",
      "[11.4]\t\t[12.200548]\n",
      "[10.9]\t\t[11.520085]\n",
      "[12.]\t\t[11.520085]\n",
      "[8.6]\t\t[11.520085]\n",
      "[9.]\t\t[11.5017605]\n",
      "[9.6]\t\t[11.269955]\n",
      "[10.2]\t\t[11.269955]\n",
      "[9.8]\t\t[11.171044]\n",
      "[8.3]\t\t[11.1124935]\n",
      "[11.]\t\t[10.906217]\n",
      "[11.9]\t\t[10.6244335]\n",
      "[14.]\t\t[10.6620245]\n",
      "[15.8]\t\t[10.924398]\n",
      "[14.5]\t\t[11.279113]\n",
      "[13.2]\t\t[11.279113]\n",
      "[14.2]\t\t[11.279113]\n",
      "[14.6]\t\t[11.326882]\n",
      "[11.8]\t\t[11.326882]\n",
      "[14.4]\t\t[11.326882]\n",
      "[10.4]\t\t[11.326882]\n",
      "[10.3]\t\t[12.66584]\n",
      "[10.8]\t\t[12.585378]\n",
      "[10.5]\t\t[12.585378]\n",
      "[9.5]\t\t[12.585378]\n",
      "[12.5]\t\t[12.033515]\n",
      "[13.7]\t\t[12.196328]\n",
      "[12.7]\t\t[12.196328]\n",
      "[11.9]\t\t[12.196328]\n",
      "[11.4]\t\t[12.045322]\n",
      "[9.7]\t\t[12.045322]\n",
      "[8.3]\t\t[11.985605]\n",
      "[8.1]\t\t[11.011478]\n",
      "[11.7]\t\t[10.758749]\n",
      "[11.6]\t\t[11.023777]\n",
      "[7.4]\t\t[11.023777]\n",
      "[5.2]\t\t[10.493677]\n",
      "[11.]\t\t[8.97781]\n",
      "[9.5]\t\t[9.68824]\n",
      "[9.2]\t\t[9.528714]\n",
      "[10.7]\t\t[9.43765]\n",
      "[9.]\t\t[9.43765]\n",
      "[10.2]\t\t[9.43765]\n",
      "[10.3]\t\t[9.43765]\n",
      "[12.1]\t\t[9.43765]\n",
      "[13.2]\t\t[9.43765]\n",
      "[6.6]\t\t[9.674237]\n",
      "[2.2999997]\t\t[9.674237]\n",
      "[1.4000001]\t\t[7.873293]\n",
      "[2.1]\t\t[6.351276]\n",
      "[6.6]\t\t[6.3452563]\n",
      "[8.9]\t\t[7.077349]\n",
      "[7.8]\t\t[7.077349]\n",
      "[9.]\t\t[7.077349]\n",
      "[10.3]\t\t[7.077349]\n",
      "[7.9]\t\t[7.077349]\n",
      "[7.2]\t\t[7.077349]\n",
      "[8.6]\t\t[6.7044544]\n",
      "[8.8]\t\t[6.7044544]\n",
      "[6.2]\t\t[6.7044544]\n",
      "[9.5]\t\t[7.003445]\n",
      "[10.2]\t\t[9.114044]\n",
      "[9.7]\t\t[9.021443]\n",
      "[11.2]\t\t[9.021443]\n",
      "[10.2]\t\t[9.16214]\n",
      "[10.1]\t\t[9.16214]\n",
      "[8.1]\t\t[9.16214]\n",
      "[6.6]\t\t[9.16214]\n",
      "[4.9999995]\t\t[9.1502495]\n",
      "[4.7]\t\t[8.36283]\n",
      "[5.3]\t\t[8.146712]\n",
      "[4.5]\t\t[8.146712]\n",
      "[2.2999997]\t\t[7.4688663]\n",
      "[1.4000001]\t\t[6.4621987]\n",
      "[0.49999955]\t\t[6.0997276]\n",
      "[2.4]\t\t[5.736293]\n",
      "[8.]\t\t[5.9584184]\n",
      "[6.]\t\t[6.3905563]\n",
      "[7.1]\t\t[6.3235164]\n",
      "[9.7]\t\t[6.3235164]\n",
      "[6.9]\t\t[6.427484]\n",
      "[5.3]\t\t[6.427484]\n",
      "[7.]\t\t[6.427484]\n",
      "[6.2]\t\t[6.427484]\n",
      "[7.]\t\t[6.427484]\n",
      "[9.7]\t\t[6.427484]\n",
      "[8.]\t\t[7.2401533]\n",
      "[8.5]\t\t[8.963936]\n",
      "[7.1]\t\t[8.054123]\n",
      "[7.5]\t\t[8.054123]\n",
      "[3.3000002]\t\t[8.054123]\n",
      "[1.7999997]\t\t[7.0327535]\n",
      "[2.6]\t\t[6.329119]\n",
      "[5.3]\t\t[6.3112946]\n",
      "[5.7999997]\t\t[6.4015555]\n",
      "[5.7999997]\t\t[6.4015555]\n",
      "[7.2]\t\t[6.4015555]\n",
      "[5.3]\t\t[6.3485546]\n",
      "[1.5999999]\t\t[6.3377743]\n",
      "[3.1000004]\t\t[6.1999993]\n",
      "[5.3]\t\t[6.1999993]\n",
      "[7.7000003]\t\t[6.1999993]\n",
      "[4.2000003]\t\t[6.1999993]\n",
      "[5.5]\t\t[6.219516]\n",
      "[9.]\t\t[6.225377]\n",
      "[11.2]\t\t[6.309037]\n",
      "[8.]\t\t[6.589515]\n",
      "[7.6]\t\t[6.589515]\n",
      "[3.6999998]\t\t[6.589515]\n",
      "[7.5]\t\t[6.589515]\n",
      "[8.1]\t\t[7.3755126]\n",
      "[8.400001]\t\t[7.725953]\n",
      "[7.1]\t\t[7.769765]\n",
      "[7.6]\t\t[7.769765]\n",
      "[7.6]\t\t[7.769765]\n",
      "[5.6]\t\t[7.8159494]\n",
      "[7.]\t\t[7.8159494]\n",
      "[10.5]\t\t[7.555838]\n",
      "[7.3]\t\t[7.65504]\n",
      "[7.8]\t\t[7.65504]\n",
      "[5.7999997]\t\t[8.682952]\n",
      "[3.8000002]\t\t[8.541235]\n",
      "[5.7999997]\t\t[7.5094924]\n",
      "[6.7]\t\t[7.5036316]\n",
      "[6.6]\t\t[7.5036316]\n",
      "[6.6]\t\t[7.5036316]\n",
      "[9.]\t\t[7.5036316]\n",
      "[8.1]\t\t[7.5036316]\n",
      "[5.1]\t\t[7.5036316]\n",
      "[8.6]\t\t[7.088251]\n",
      "[7.]\t\t[7.3841324]\n",
      "[5.5]\t\t[7.3841324]\n",
      "[7.4]\t\t[7.3841324]\n",
      "[6.2]\t\t[7.9779606]\n",
      "[4.2000003]\t\t[8.117007]\n",
      "[6.3]\t\t[7.6051493]\n",
      "[7.]\t\t[7.600629]\n",
      "[4.]\t\t[7.600629]\n",
      "[8.]\t\t[7.4945607]\n",
      "[8.8]\t\t[7.6015196]\n",
      "[8.8]\t\t[7.686264]\n",
      "[6.1000004]\t\t[7.7194448]\n",
      "[8.6]\t\t[7.7194448]\n",
      "[8.9]\t\t[7.7194448]\n",
      "[7.8]\t\t[7.7221656]\n",
      "[4.9999995]\t\t[7.7221656]\n",
      "[7.]\t\t[7.724602]\n",
      "[13.3]\t\t[7.74775]\n",
      "[7.9]\t\t[8.695053]\n",
      "[7.5]\t\t[9.307339]\n",
      "[8.3]\t\t[9.311012]\n",
      "[7.2]\t\t[9.311012]\n",
      "[6.5]\t\t[9.311012]\n",
      "[8.9]\t\t[9.311012]\n",
      "[7.4]\t\t[9.311012]\n",
      "[9.9]\t\t[9.311012]\n",
      "[9.3]\t\t[9.311012]\n",
      "[10.6]\t\t[10.253407]\n",
      "[8.6]\t\t[10.333375]\n",
      "[7.2]\t\t[8.928449]\n",
      "[12.6]\t\t[8.928449]\n",
      "[7.8]\t\t[10.000643]\n",
      "[6.3]\t\t[10.000643]\n",
      "[9.2]\t\t[9.866526]\n",
      "[5.7999997]\t\t[9.88409]\n",
      "[9.]\t\t[9.553594]\n",
      "[4.9999995]\t\t[9.553594]\n",
      "[11.9]\t\t[9.065732]\n",
      "[13.4]\t\t[9.6081085]\n",
      "[10.5]\t\t[9.959857]\n",
      "[6.2]\t\t[9.959857]\n",
      "[5.1]\t\t[9.959857]\n",
      "[9.5]\t\t[9.773783]\n",
      "[11.7]\t\t[9.773783]\n",
      "[9.2]\t\t[9.773783]\n",
      "[7.3]\t\t[9.773783]\n",
      "[9.7]\t\t[9.773783]\n",
      "[9.4]\t\t[9.773783]\n",
      "[10.]\t\t[9.947007]\n",
      "[10.9]\t\t[9.15905]\n",
      "[11.]\t\t[8.855761]\n",
      "[10.9]\t\t[8.821271]\n",
      "[8.]\t\t[8.821271]\n",
      "[11.2]\t\t[10.2783785]\n",
      "[7.5]\t\t[9.928029]\n",
      "[7.2]\t\t[9.905133]\n",
      "[13.2]\t\t[9.6937065]\n",
      "[12.9]\t\t[10.773864]\n",
      "[9.4]\t\t[11.041655]\n",
      "[10.2]\t\t[11.041655]\n",
      "[9.5]\t\t[11.041655]\n",
      "[12.4]\t\t[11.041655]\n",
      "[10.2]\t\t[11.041655]\n",
      "[13.4]\t\t[11.041655]\n",
      "[11.6]\t\t[11.041655]\n",
      "[8.]\t\t[11.041655]\n",
      "[9.]\t\t[11.053768]\n",
      "[9.3]\t\t[11.737593]\n",
      "[13.5]\t\t[10.666493]\n",
      "[8.]\t\t[10.964566]\n",
      "[8.1]\t\t[10.875423]\n",
      "[10.]\t\t[10.692649]\n",
      "[8.5]\t\t[10.692649]\n",
      "[12.5]\t\t[10.692649]\n",
      "[15.]\t\t[10.692649]\n",
      "[13.3]\t\t[11.029271]\n",
      "[11.]\t\t[11.029271]\n",
      "[11.9]\t\t[11.029271]\n",
      "[8.3]\t\t[11.029271]\n",
      "[9.7]\t\t[11.029271]\n",
      "[11.3]\t\t[10.991416]\n",
      "[12.5]\t\t[11.228505]\n",
      "[9.4]\t\t[11.503933]\n",
      "[11.4]\t\t[11.503933]\n",
      "[13.2]\t\t[11.544298]\n",
      "[13.8]\t\t[10.859672]\n",
      "[16.]\t\t[10.705855]\n",
      "[10.9]\t\t[11.012619]\n",
      "[11.9]\t\t[11.012619]\n",
      "[12.4]\t\t[11.012619]\n",
      "[13.2]\t\t[11.6563015]\n",
      "[15.5]\t\t[11.98053]\n",
      "[21.6]\t\t[11.98053]\n",
      "[14.9]\t\t[13.121159]\n",
      "[14.4]\t\t[13.924305]\n",
      "[12.9]\t\t[14.198631]\n",
      "[13.1]\t\t[14.198631]\n",
      "[14.]\t\t[14.198631]\n",
      "[17.9]\t\t[14.198631]\n",
      "[17.7]\t\t[14.915683]\n",
      "[16.3]\t\t[15.244524]\n",
      "[18.3]\t\t[15.52334]\n",
      "[13.7]\t\t[15.534043]\n",
      "[13.3]\t\t[15.534043]\n",
      "[10.6]\t\t[15.063327]\n",
      "[14.1]\t\t[13.573731]\n",
      "[16.]\t\t[13.573731]\n",
      "[16.5]\t\t[13.573731]\n",
      "[14.1]\t\t[13.573731]\n",
      "[18.7]\t\t[13.573731]\n",
      "[16.2]\t\t[13.664755]\n",
      "[14.8]\t\t[13.664376]\n",
      "[12.6]\t\t[13.664376]\n",
      "[10.4]\t\t[13.607847]\n",
      "[12.2]\t\t[13.461315]\n",
      "[12.6]\t\t[13.438678]\n",
      "[12.1]\t\t[13.438678]\n",
      "[17.300001]\t\t[13.438678]\n",
      "[16.4]\t\t[13.718171]\n",
      "[12.6]\t\t[13.718171]\n",
      "[12.3]\t\t[13.718171]\n",
      "[11.8]\t\t[13.701255]\n",
      "[12.]\t\t[13.658166]\n",
      "[12.7]\t\t[13.658166]\n",
      "[16.4]\t\t[13.658166]\n",
      "[16.]\t\t[14.5620575]\n",
      "[13.3]\t\t[14.610359]\n",
      "[11.7]\t\t[14.610359]\n",
      "[10.4]\t\t[14.517433]\n",
      "[14.4]\t\t[13.336075]\n",
      "[12.7]\t\t[13.429035]\n",
      "[14.8]\t\t[13.429035]\n",
      "[13.3]\t\t[13.429035]\n",
      "[15.6]\t\t[13.429035]\n",
      "[14.5]\t\t[13.429035]\n",
      "[14.3]\t\t[13.429035]\n",
      "[15.3]\t\t[13.565739]\n",
      "[16.4]\t\t[13.368001]\n",
      "[14.8]\t\t[13.563826]\n",
      "[17.4]\t\t[13.563826]\n",
      "[18.800001]\t\t[15.072074]\n",
      "[22.1]\t\t[14.784229]\n",
      "[19.]\t\t[15.246176]\n",
      "[15.5]\t\t[15.257406]\n",
      "[15.8]\t\t[15.863343]\n",
      "[14.7]\t\t[15.863343]\n",
      "[10.7]\t\t[15.863343]\n",
      "[11.5]\t\t[13.538463]\n",
      "[15.]\t\t[13.410808]\n",
      "[14.5]\t\t[13.759907]\n",
      "[14.5]\t\t[13.759907]\n",
      "[13.3]\t\t[13.759907]\n",
      "[14.3]\t\t[13.759907]\n",
      "[14.3]\t\t[14.169369]\n",
      "[20.5]\t\t[13.560085]\n",
      "[15.]\t\t[14.022759]\n",
      "[17.1]\t\t[14.022759]\n",
      "[16.9]\t\t[14.022759]\n",
      "[16.9]\t\t[14.601013]\n",
      "[13.6]\t\t[15.776522]\n",
      "[16.4]\t\t[15.797094]\n",
      "[16.1]\t\t[15.797094]\n",
      "[12.]\t\t[15.797094]\n",
      "[12.2]\t\t[15.006678]\n",
      "[14.8]\t\t[14.82652]\n",
      "[14.8]\t\t[14.82652]\n",
      "[14.4]\t\t[14.101451]\n",
      "[12.9]\t\t[14.101451]\n",
      "[13.4]\t\t[14.107821]\n",
      "[15.900001]\t\t[14.098087]\n",
      "[16.1]\t\t[13.970011]\n",
      "[17.6]\t\t[13.970011]\n",
      "[15.6]\t\t[14.134229]\n",
      "[15.]\t\t[14.134229]\n",
      "[13.]\t\t[14.41544]\n",
      "[14.1]\t\t[14.880198]\n",
      "[17.300001]\t\t[14.805177]\n",
      "[15.7]\t\t[14.886837]\n",
      "[18.6]\t\t[14.886837]\n",
      "[12.7]\t\t[14.938085]\n",
      "[14.]\t\t[14.670675]\n",
      "[13.7]\t\t[14.662311]\n",
      "[16.3]\t\t[14.662311]\n",
      "[20.]\t\t[14.662311]\n",
      "[17.]\t\t[14.746966]\n",
      "[15.2]\t\t[14.746966]\n",
      "[16.5]\t\t[14.806462]\n",
      "[16.5]\t\t[14.806462]\n",
      "[17.300001]\t\t[14.806462]\n",
      "[19.1]\t\t[14.806462]\n",
      "[19.3]\t\t[14.806462]\n",
      "[17.300001]\t\t[15.516634]\n",
      "[19.]\t\t[15.538502]\n",
      "[19.800001]\t\t[16.327961]\n",
      "[19.3]\t\t[16.39626]\n",
      "[17.2]\t\t[15.91264]\n",
      "[14.2]\t\t[15.91264]\n",
      "[10.3]\t\t[15.549957]\n",
      "[13.]\t\t[12.937161]\n",
      "[15.3]\t\t[13.492585]\n",
      "[15.]\t\t[13.492585]\n",
      "[12.1]\t\t[13.511375]\n",
      "[9.2]\t\t[13.511375]\n",
      "[11.]\t\t[12.680892]\n",
      "[15.]\t\t[12.575936]\n",
      "[11.6]\t\t[13.13799]\n",
      "[11.6]\t\t[12.852786]\n",
      "[15.1]\t\t[12.349656]\n",
      "[15.]\t\t[12.349656]\n",
      "[13.6]\t\t[12.349656]\n",
      "[12.5]\t\t[12.349656]\n",
      "[14.3]\t\t[12.349656]\n",
      "[16.]\t\t[12.339381]\n",
      "[17.4]\t\t[12.434564]\n",
      "[16.9]\t\t[13.942766]\n",
      "[18.]\t\t[14.364394]\n",
      "[20.6]\t\t[14.264106]\n",
      "[14.2]\t\t[14.421652]\n",
      "[10.9]\t\t[15.029795]\n",
      "[11.9]\t\t[13.436422]\n",
      "[13.3]\t\t[13.385877]\n",
      "[15.3]\t\t[13.385877]\n",
      "[14.7]\t\t[13.385877]\n",
      "[11.]\t\t[13.385877]\n",
      "[12.2]\t\t[13.385877]\n",
      "[14.2]\t\t[13.385877]\n",
      "[17.]\t\t[13.407595]\n",
      "[15.8]\t\t[13.600653]\n",
      "[15.2]\t\t[13.270691]\n",
      "[15.1]\t\t[13.270691]\n",
      "[14.7]\t\t[13.328039]\n",
      "[18.5]\t\t[13.342443]\n",
      "[16.4]\t\t[13.64765]\n",
      "[18.4]\t\t[13.64765]\n",
      "[15.1]\t\t[13.718757]\n",
      "[9.9]\t\t[14.533468]\n",
      "[10.2]\t\t[13.015754]\n",
      "[12.6]\t\t[12.619094]\n",
      "[13.2]\t\t[12.619094]\n",
      "[11.5]\t\t[12.619094]\n",
      "[13.8]\t\t[12.619094]\n",
      "[14.5]\t\t[12.619094]\n",
      "[14.7]\t\t[12.619094]\n",
      "[11.2]\t\t[12.487165]\n",
      "[12.7]\t\t[12.487165]\n",
      "[13.7]\t\t[12.327644]\n",
      "[11.5]\t\t[12.072251]\n",
      "[10.4]\t\t[12.477302]\n",
      "[8.9]\t\t[12.7428055]\n",
      "[11.1]\t\t[11.4352865]\n",
      "[9.5]\t\t[11.504513]\n",
      "[13.]\t\t[11.504513]\n",
      "[13.900001]\t\t[11.935587]\n",
      "[12.6]\t\t[11.935587]\n",
      "[14.3]\t\t[11.7484665]\n",
      "[16.]\t\t[11.782649]\n",
      "[13.3]\t\t[12.103218]\n",
      "[7.]\t\t[12.103218]\n",
      "[4.9]\t\t[10.762346]\n",
      "[6.9]\t\t[9.085427]\n",
      "[13.7]\t\t[9.075119]\n",
      "[10.6]\t\t[10.085781]\n",
      "[12.3]\t\t[10.085781]\n",
      "[11.1]\t\t[10.085781]\n",
      "[10.2]\t\t[10.085781]\n",
      "[9.5]\t\t[10.085781]\n",
      "[8.9]\t\t[10.085781]\n",
      "[13.4]\t\t[9.801865]\n",
      "[9.1]\t\t[9.452456]\n",
      "[9.4]\t\t[9.452456]\n",
      "[8.7]\t\t[10.749255]\n",
      "[5.7999997]\t\t[12.348797]\n",
      "[4.5]\t\t[9.429422]\n",
      "[7.2]\t\t[8.530166]\n",
      "[10.]\t\t[8.530166]\n",
      "[10.5]\t\t[8.530166]\n",
      "[10.7]\t\t[8.530166]\n",
      "[8.2]\t\t[8.530166]\n",
      "[6.1000004]\t\t[8.530166]\n",
      "[4.5]\t\t[7.9209657]\n",
      "[6.1000004]\t\t[7.91003]\n",
      "[9.8]\t\t[7.91003]\n",
      "[9.7]\t\t[8.130138]\n",
      "[8.2]\t\t[8.130138]\n",
      "[8.400001]\t\t[8.143811]\n",
      "[8.5]\t\t[8.143811]\n",
      "[10.4]\t\t[8.143811]\n",
      "[6.8]\t\t[8.143811]\n",
      "[6.]\t\t[8.020537]\n",
      "[6.6]\t\t[8.020537]\n",
      "[7.8]\t\t[8.020537]\n",
      "[10.3]\t\t[8.800074]\n",
      "[7.2]\t\t[8.932388]\n",
      "[7.4]\t\t[8.522195]\n",
      "[11.4]\t\t[8.522195]\n",
      "[5.3999996]\t\t[9.053971]\n",
      "[4.4]\t\t[8.585525]\n",
      "[6.4]\t\t[8.060567]\n",
      "[9.3]\t\t[8.060567]\n",
      "[7.7000003]\t\t[8.060567]\n",
      "[8.1]\t\t[8.060567]\n",
      "[8.3]\t\t[8.060567]\n",
      "[9.1]\t\t[8.060567]\n",
      "[7.7000003]\t\t[8.060567]\n",
      "[10.6]\t\t[8.060567]\n",
      "[8.2]\t\t[8.060567]\n",
      "[7.9]\t\t[7.722314]\n",
      "[5.2]\t\t[7.722314]\n",
      "[5.9]\t\t[8.14476]\n",
      "[3.6999998]\t\t[8.157081]\n",
      "[5.6]\t\t[7.334031]\n",
      "[9.4]\t\t[7.3199325]\n",
      "[7.4]\t\t[7.598387]\n",
      "[7.3]\t\t[7.598387]\n",
      "[7.7000003]\t\t[7.598387]\n",
      "[7.7000003]\t\t[7.598387]\n",
      "[9.3]\t\t[7.4591026]\n"
     ]
    },
    {
     "name": "stdout",
     "output_type": "stream",
     "text": [
      "[4.4]\t\t[7.459869]\n",
      "[5.7000003]\t\t[7.459869]\n",
      "[10.2]\t\t[7.459869]\n",
      "[10.2]\t\t[7.646879]\n",
      "[9.3]\t\t[8.149882]\n",
      "[5.3999996]\t\t[8.198051]\n",
      "[4.9999995]\t\t[8.198051]\n",
      "[7.6]\t\t[8.158872]\n",
      "[9.6]\t\t[8.158872]\n",
      "[10.4]\t\t[8.158872]\n",
      "[11.2]\t\t[8.158872]\n",
      "[9.1]\t\t[8.287192]\n",
      "[11.2]\t\t[8.712545]\n",
      "[6.8]\t\t[8.726342]\n",
      "[8.3]\t\t[8.206298]\n",
      "[9.7]\t\t[8.206298]\n",
      "[9.6]\t\t[8.206298]\n",
      "[9.8]\t\t[8.206298]\n",
      "[10.8]\t\t[9.16966]\n",
      "[9.2]\t\t[9.081994]\n",
      "[6.5]\t\t[9.060216]\n",
      "[8.1]\t\t[8.906003]\n",
      "[7.3]\t\t[8.824059]\n",
      "[7.9]\t\t[8.824059]\n",
      "[6.]\t\t[8.746822]\n",
      "[4.9999995]\t\t[8.454993]\n",
      "[6.8]\t\t[7.8330545]\n",
      "[9.8]\t\t[7.931106]\n",
      "[5.7000003]\t\t[8.200738]\n",
      "[8.6]\t\t[8.200738]\n",
      "[10.6]\t\t[8.063695]\n",
      "[7.8]\t\t[8.130657]\n",
      "[7.7000003]\t\t[8.130657]\n",
      "[8.6]\t\t[8.130657]\n",
      "[6.5]\t\t[8.130657]\n",
      "[6.9]\t\t[8.130657]\n",
      "[6.4]\t\t[8.130657]\n",
      "[8.5]\t\t[8.490829]\n",
      "[7.8]\t\t[8.556796]\n",
      "[9.3]\t\t[8.556796]\n",
      "[8.400001]\t\t[8.978061]\n",
      "[7.8]\t\t[8.716072]\n",
      "[7.4]\t\t[8.515714]\n",
      "[7.7000003]\t\t[8.515714]\n",
      "[8.9]\t\t[8.515714]\n",
      "[9.7]\t\t[8.515714]\n",
      "[9.9]\t\t[8.6391945]\n",
      "[6.1000004]\t\t[8.702303]\n",
      "[6.6]\t\t[8.550223]\n",
      "[7.6]\t\t[8.209684]\n",
      "[7.4]\t\t[8.209684]\n",
      "[8.]\t\t[8.130218]\n",
      "[2.1]\t\t[8.130218]\n",
      "[5.9]\t\t[6.330033]\n",
      "[11.6]\t\t[6.902021]\n",
      "[8.6]\t\t[7.255986]\n",
      "[7.9]\t\t[7.255986]\n",
      "[6.]\t\t[7.255986]\n",
      "[9.5]\t\t[7.255986]\n",
      "[8.6]\t\t[7.255986]\n",
      "[7.6]\t\t[7.255986]\n",
      "[10.4]\t\t[7.255986]\n",
      "[10.3]\t\t[7.255986]\n",
      "[7.5]\t\t[7.295963]\n",
      "[3.]\t\t[9.248115]\n",
      "[5.3]\t\t[7.8328934]\n",
      "[10.5]\t\t[7.2095337]\n",
      "[14.6]\t\t[7.640869]\n",
      "[12.6]\t\t[8.132916]\n",
      "[9.8]\t\t[8.132916]\n",
      "[7.2]\t\t[8.132916]\n",
      "[10.1]\t\t[8.132916]\n",
      "[10.4]\t\t[8.132916]\n",
      "[3.6999998]\t\t[8.132916]\n",
      "[7.3]\t\t[8.132916]\n",
      "[11.6]\t\t[8.132916]\n",
      "[16.3]\t\t[8.46277]\n",
      "[9.6]\t\t[8.687519]\n",
      "[6.8]\t\t[8.362532]\n",
      "[5.2]\t\t[8.362532]\n",
      "[10.6]\t\t[8.362532]\n",
      "[16.3]\t\t[8.749686]\n",
      "[9.8]\t\t[8.682088]\n",
      "[4.6000004]\t\t[8.682088]\n",
      "[11.1]\t\t[8.682088]\n",
      "[8.7]\t\t[9.569132]\n",
      "[10.]\t\t[9.617619]\n",
      "[11.3]\t\t[9.617619]\n",
      "[10.5]\t\t[9.5665865]\n",
      "[9.9]\t\t[9.5665865]\n",
      "[11.]\t\t[9.5665865]\n",
      "[14.]\t\t[9.685862]\n",
      "[9.2]\t\t[9.685862]\n",
      "[9.8]\t\t[9.642258]\n",
      "[6.]\t\t[9.642258]\n",
      "[9.8]\t\t[10.591763]\n",
      "[9.2]\t\t[9.650904]\n",
      "[11.8]\t\t[9.650904]\n",
      "[10.3]\t\t[9.650904]\n",
      "[7.5]\t\t[9.650904]\n",
      "[7.7000003]\t\t[9.650904]\n",
      "[15.8]\t\t[9.634548]\n",
      "[14.6]\t\t[10.645269]\n",
      "[10.5]\t\t[10.90713]\n",
      "[11.3]\t\t[10.90713]\n",
      "[10.9]\t\t[10.90713]\n",
      "[6.4]\t\t[11.818655]\n",
      "[10.9]\t\t[11.15293]\n",
      "[9.]\t\t[11.15293]\n",
      "[10.9]\t\t[11.15293]\n",
      "[12.4]\t\t[11.15293]\n",
      "[11.6]\t\t[11.15293]\n",
      "[13.3]\t\t[11.265114]\n",
      "[14.4]\t\t[10.547184]\n",
      "[18.4]\t\t[10.392598]\n",
      "[13.6]\t\t[10.651361]\n",
      "[14.9]\t\t[10.651361]\n",
      "[14.8]\t\t[10.651361]\n",
      "[15.400001]\t\t[12.417618]\n",
      "[11.8]\t\t[12.135796]\n",
      "[13.]\t\t[13.448972]\n",
      "[11.1]\t\t[14.077503]\n",
      "[12.5]\t\t[13.789906]\n",
      "[18.3]\t\t[13.781686]\n",
      "[19.199999]\t\t[14.301217]\n",
      "[15.400001]\t\t[14.589122]\n",
      "[13.1]\t\t[14.589122]\n",
      "[11.5]\t\t[14.589122]\n",
      "[8.6]\t\t[14.589122]\n",
      "[12.6]\t\t[12.749457]\n",
      "[13.8]\t\t[12.749457]\n",
      "[14.6]\t\t[12.749457]\n",
      "[13.2]\t\t[12.749457]\n",
      "[12.3]\t\t[12.749457]\n",
      "[8.8]\t\t[12.749457]\n",
      "[10.7]\t\t[12.638047]\n",
      "[9.9]\t\t[12.265461]\n",
      "[8.3]\t\t[11.877675]\n",
      "[15.]\t\t[11.602405]\n",
      "[12.2]\t\t[12.282761]\n",
      "[10.5]\t\t[12.282761]\n",
      "[11.1]\t\t[12.282761]\n",
      "[13.]\t\t[12.282761]\n",
      "[12.9]\t\t[12.132696]\n",
      "[8.8]\t\t[12.054207]\n",
      "[14.7]\t\t[12.054207]\n",
      "[14.7]\t\t[12.054207]\n",
      "[12.7]\t\t[12.34266]\n",
      "[13.3]\t\t[12.34266]\n",
      "[13.2]\t\t[12.904799]\n",
      "[16.2]\t\t[12.712108]\n",
      "[17.300001]\t\t[12.838536]\n",
      "[20.5]\t\t[13.138613]\n",
      "[20.2]\t\t[13.317202]\n",
      "[19.4]\t\t[13.437671]\n",
      "[15.5]\t\t[13.437671]\n",
      "[14.1]\t\t[15.931267]\n",
      "[11.]\t\t[14.954195]\n",
      "[11.1]\t\t[13.851091]\n",
      "[14.]\t\t[13.65781]\n",
      "[11.4]\t\t[13.704969]\n",
      "[12.5]\t\t[13.704969]\n",
      "[13.4]\t\t[13.704969]\n",
      "[13.6]\t\t[13.704969]\n",
      "[13.900001]\t\t[14.042068]\n",
      "[17.2]\t\t[14.044628]\n",
      "[14.7]\t\t[13.371468]\n",
      "[15.400001]\t\t[13.321889]\n",
      "[13.1]\t\t[13.321889]\n",
      "[13.2]\t\t[13.515637]\n",
      "[13.900001]\t\t[13.758859]\n",
      "[10.]\t\t[13.758859]\n",
      "[12.9]\t\t[12.817565]\n",
      "[14.6]\t\t[12.808253]\n",
      "[14.]\t\t[12.808253]\n",
      "[13.6]\t\t[12.808253]\n",
      "[13.5]\t\t[12.808252]\n",
      "[15.7]\t\t[12.821974]\n",
      "[13.]\t\t[12.789268]\n"
     ]
    }
   ],
   "source": [
    "# List the forecast value\n",
    "### BEGIN SOLUTION\n",
    "data_module.list_forecast_value(output_data_temperature,prediction_temperature) \n",
    "### END SOLUTION"
   ]
  },
  {
   "cell_type": "code",
   "execution_count": 55,
   "metadata": {},
   "outputs": [
    {
     "name": "stdout",
     "output_type": "stream",
     "text": [
      "Train Score: 2.79 RMSE\n",
      "Test Score: 2.63 RMSE\n"
     ]
    }
   ],
   "source": [
    "# calculate root mean squared error\n",
    "### BEGIN SOLUTION\n",
    "trainScore_temperature,testScore_temperature = data_module.rmse(prediction_temperature,output_data_temperature)\n",
    "print('Train Score: %.2f RMSE' % (trainScore_temperature))\n",
    "print('Test Score: %.2f RMSE' % (testScore_temperature))\n",
    "### END SOLUTION"
   ]
  },
  {
   "cell_type": "markdown",
   "metadata": {},
   "source": [
    "# Step 6 : Forecast Plot\n",
    ">Instruction :<br>\n",
    "Use `data_module.single_step_plot` function to plot the forecast result."
   ]
  },
  {
   "cell_type": "code",
   "execution_count": 56,
   "metadata": {},
   "outputs": [
    {
     "data": {
      "image/png": "[encoded data removed]",
      "text/plain": [
       "<Figure size 720x432 with 1 Axes>"
      ]
     },
     "metadata": {
      "needs_background": "light"
     },
     "output_type": "display_data"
    }
   ],
   "source": [
    "### BEGIN SOLUTION\n",
    "data_module.single_step_plot(original_test_data = test_data_temperature,\n",
    "                            sequence_test_data = output_data_temperature['test_data_output'],\n",
    "                            forecast_data = prediction_temperature['test_data_prediction'],\n",
    "                            test_time = test_time_temperature,\n",
    "                            window_size =  window_size_temperature,\n",
    "                            original_plot= False,\n",
    "                            multivariate=False)\n",
    "### END SOLUTION"
   ]
  },
  {
   "cell_type": "markdown",
   "metadata": {},
   "source": [
    "## Summary\n",
    "In this tutorial you should have learnt:\n",
    "\n",
    "1. The flow of using Hybrid Model (CNN-LSTM) to perform univariate forecasting.<br>\n",
    "2. The configuration of the Hybrid Model (CNN-LSTM) and the concept of it<br>\n",
    "\n",
    "Congratulations, that concludes this lesson.<br>"
   ]
  },
  {
   "cell_type": "markdown",
   "metadata": {},
   "source": [
    "## Reference \n",
    "1. [Deep Learning for Time Series Forecasting (Predict the Future with MLPs,CNNs and LSTMs in Python) , Jason Brownlee](https://machinelearningmastery.com/deep-learning-for-time-series-forecasting/)\n",
    "2. [[CNN]Time-series Forecasting with Pytorch](https://www.kaggle.com/hanjoonchoe/cnn-time-series-forecasting-with-pytorch)\n",
    "3. [PyTorch: learning conv1D,conv2D and conv3D](https://programmer.group/pytorch-learning-conv1d-conv2d-and-conv3d.html)"
   ]
  }
 ],
 "metadata": {
  "kernelspec": {
   "display_name": "Python 3",
   "language": "python",
   "name": "python3"
  },
  "language_info": {
   "codemirror_mode": {
    "name": "ipython",
    "version": 3
   },
   "file_extension": ".py",
   "mimetype": "text/x-python",
   "name": "python",
   "nbconvert_exporter": "python",
   "pygments_lexer": "ipython3",
   "version": "3.7.10"
  }
 },
 "nbformat": 4,
 "nbformat_minor": 4
}
