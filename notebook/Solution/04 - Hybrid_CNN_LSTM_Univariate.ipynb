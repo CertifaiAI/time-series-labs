{
 "cells": [
  {
   "cell_type": "markdown",
   "metadata": {
    "deletable": false,
    "editable": false
   },
   "source": [
    "![logo](../../picture/license_header_logo.png)\n",
    "> **Copyright (c) 2020-2021 CertifAI Sdn. Bhd.**<br>\n",
    " <br>\n",
    "This program is part of OSRFramework. You can redistribute it and/or modify\n",
    "<br>it under the terms of the GNU Affero General Public License as published by\n",
    "<br>the Free Software Foundation, either version 3 of the License, or\n",
    "<br>(at your option) any later version.\n",
    "<br>\n",
    "<br>This program is distributed in the hope that it will be useful,\n",
    "<br>but WITHOUT ANY WARRANTY; without even the implied warranty of\n",
    "<br>MERCHANTABILITY or FITNESS FOR A PARTICULAR PURPOSE.  See the\n",
    "<br>GNU Affero General Public License for more details.\n",
    "<br>\n",
    "<br>You should have received a copy of the GNU Affero General Public License\n",
    "<br>along with this program.  If not, see <http://www.gnu.org/licenses/>.\n",
    "<br>"
   ]
  },
  {
   "cell_type": "markdown",
   "metadata": {},
   "source": [
    "# Requirement\n",
    "You should complete both LSTM and CNN tutorials before starting this tutorial. This is because most of the function used will be based on  `data_module.py` and `deep_learning_module.py`"
   ]
  },
  {
   "cell_type": "markdown",
   "metadata": {},
   "source": [
    "# Hybrid Model (CNN-LSTM)\n",
    "This hands-on is to demonstrate the process of building a Hybrid model (CNN-LSTM) for univariate single-step time series. <br>\n",
    "This hands-on consists of two main parts which are :<br>\n",
    "\n",
    "1. Demonstration proccess of building hybrid model in synthetic data\n",
    "2. Exercise of building hybrid model using minimum daily temperatures in city Melbourne, Australia. \n",
    "\n",
    "\n",
    "## What will we accomplish?\n",
    "First, we will show the step in building the hybrid model (CNN-LSTM) :\n",
    "\n",
    "Step 1. Data Preparation (Data Splitting,Data Sequencing,Data Normalization and Batching the Data)<br>\n",
    "Step 2. Model Configuration for CNN-LSTM<br>\n",
    "Step 3. Train the model<br>\n",
    "Step 4. Validate the model using graph<br>\n",
    "Step 5. Evaluation Metrics such as MSE<br>\n",
    "Step 6. Plot the forecast result<br>\n",
    "\n",
    "Let's import the packages needed for this hands-on."
   ]
  },
  {
   "cell_type": "code",
   "execution_count": 1,
   "metadata": {},
   "outputs": [],
   "source": [
    "#import packages needed\n",
    "import numpy as np\n",
    "import pandas as pd\n",
    "import matplotlib.pyplot as plt\n",
    "import torch\n",
    "import torch.nn as nn\n",
    "import torch.nn.functional as F\n",
    "from torch.utils.data import DataLoader,TensorDataset\n",
    "from sklearn.metrics import mean_squared_error\n",
    "from sklearn.preprocessing import MinMaxScaler,StandardScaler\n",
    "import math\n",
    "\n",
    "from torchsummaryX import summary\n",
    "\n",
    "# To auto load the customise module\n",
    "%load_ext autoreload\n",
    "%autoreload 2\n",
    "import deep_learning_module\n",
    "import data_module"
   ]
  },
  {
   "cell_type": "markdown",
   "metadata": {},
   "source": [
    "# Part 1 : Demonstration of Building CNN-LSTM using Synthetic data\n",
    "## Hyperparameter\n",
    "Define the hyperparameter that is needed to tune the model."
   ]
  },
  {
   "cell_type": "code",
   "execution_count": 2,
   "metadata": {},
   "outputs": [
    {
     "data": {
      "text/plain": [
       "<torch._C.Generator at 0x289429874d0>"
      ]
     },
     "execution_count": 2,
     "metadata": {},
     "output_type": "execute_result"
    }
   ],
   "source": [
    "split_ratio = 0.70\n",
    "num_epochs = 60\n",
    "window_size = 3\n",
    "batch_size = 20\n",
    "learning_rate=0.01\n",
    "n_step = 1\n",
    "#seed\n",
    "torch.manual_seed(123)"
   ]
  },
  {
   "cell_type": "markdown",
   "metadata": {},
   "source": [
    "# Step 1 : Data Preparation\n",
    "We create synthetic data to make sure the model is created correctly and having the ability to perform the forecasting. <br>\n",
    "\n",
    "1. First, we will create a sequence of data with `np.array`.\n",
    "2. Then, we will assign a date to the sequence of data with `pd.date_range` and store it to series data by using `pd.Series`."
   ]
  },
  {
   "cell_type": "code",
   "execution_count": 3,
   "metadata": {},
   "outputs": [
    {
     "name": "stdout",
     "output_type": "stream",
     "text": [
      "(40,)\n"
     ]
    },
    {
     "data": {
      "text/plain": [
       "array([  0,  10,  20,  30,  40,  50,  60,  70,  80,  90, 100, 110, 120,\n",
       "       130, 140, 150, 160, 170, 180, 190, 200, 210, 220, 230, 240, 250,\n",
       "       260, 270, 280, 290, 300, 310, 320, 330, 340, 350, 360, 370, 380,\n",
       "       390])"
      ]
     },
     "execution_count": 3,
     "metadata": {},
     "output_type": "execute_result"
    }
   ],
   "source": [
    "#Synthetic Data\n",
    "univariate_series = np.array([x for x in range(0, 400, 10)])\n",
    "print(univariate_series.shape)\n",
    "univariate_series"
   ]
  },
  {
   "cell_type": "code",
   "execution_count": 4,
   "metadata": {},
   "outputs": [
    {
     "data": {
      "text/plain": [
       "2020-01-01     0\n",
       "2020-01-02    10\n",
       "2020-01-03    20\n",
       "2020-01-04    30\n",
       "2020-01-05    40\n",
       "Freq: D, dtype: int32"
      ]
     },
     "execution_count": 4,
     "metadata": {},
     "output_type": "execute_result"
    }
   ],
   "source": [
    "# Create time index for Synthetic Data\n",
    "univariate_series =pd.Series(univariate_series,pd.date_range(\"1/1/2020\",\n",
    "                                                             periods=len(univariate_series),\n",
    "                                                            freq='D'))\n",
    "univariate_series.head()"
   ]
  },
  {
   "cell_type": "markdown",
   "metadata": {},
   "source": [
    "## Data Visualization\n",
    "Data visualization is important for us to visualize the pattern of data such as trend and seasonality. As the graph below, it is shown that it is an increasing trend in data\n",
    "\n",
    ">**Instruction** : <br>\n",
    "Plot the graph using `univariate_series.plot` with the title `Synthetic Data\"`"
   ]
  },
  {
   "cell_type": "code",
   "execution_count": 5,
   "metadata": {},
   "outputs": [
    {
     "data": {
      "text/plain": [
       "Text(0.5, 1.0, 'Synthetic Data')"
      ]
     },
     "execution_count": 5,
     "metadata": {},
     "output_type": "execute_result"
    },
    {
     "data": {
      "image/png": "[encoded data removed]",
      "text/plain": [
       "<Figure size 432x288 with 1 Axes>"
      ]
     },
     "metadata": {
      "needs_background": "light"
     },
     "output_type": "display_data"
    }
   ],
   "source": [
    "### BEGIN SOLUTION\n",
    "\n",
    "univariate_series.plot()\n",
    "plt.title(\"Synthetic Data\")\n",
    "\n",
    "### BEGIN SOLUTION"
   ]
  },
  {
   "cell_type": "markdown",
   "metadata": {},
   "source": [
    "## Data Splitting\n",
    "In Deep Learning, we will split the data into training and test dataset.The training data is used to train the model where the test data is used to validate the performance of the model\n",
    ">**Instruction** : <br>\n",
    "Split the data by indexing. Remember to split the time index for later use"
   ]
  },
  {
   "cell_type": "code",
   "execution_count": 6,
   "metadata": {},
   "outputs": [
    {
     "data": {
      "text/plain": [
       "28"
      ]
     },
     "execution_count": 6,
     "metadata": {},
     "output_type": "execute_result"
    }
   ],
   "source": [
    "split_data = round(len(univariate_series)*split_ratio)\n",
    "split_data"
   ]
  },
  {
   "cell_type": "code",
   "execution_count": 7,
   "metadata": {},
   "outputs": [
    {
     "name": "stdout",
     "output_type": "stream",
     "text": [
      "train_data_shape\n",
      "(28,)\n",
      "test_data_shape\n",
      "(12,)\n"
     ]
    }
   ],
   "source": [
    "#split data by indexing \n",
    "train_data = univariate_series[:split_data]\n",
    "test_data = univariate_series[split_data:]\n",
    "train_time = univariate_series.index[:split_data]\n",
    "test_time = univariate_series.index[split_data:]\n",
    "print(\"train_data_shape\")\n",
    "print(train_data.shape)\n",
    "print(\"test_data_shape\")\n",
    "print(test_data.shape)"
   ]
  },
  {
   "cell_type": "markdown",
   "metadata": {},
   "source": [
    "## Data Normalization\n",
    "Use MinMaxScaler to normalize the data into values ranging from 0 to 1."
   ]
  },
  {
   "cell_type": "code",
   "execution_count": 8,
   "metadata": {},
   "outputs": [],
   "source": [
    "scaler = MinMaxScaler().fit(train_data.values.reshape(-1, 1))\n",
    "train_data_normalized = scaler.transform(train_data.values.reshape(-1, 1))\n",
    "\n",
    "test_data_normalized = scaler.transform(test_data.values.reshape(-1, 1))"
   ]
  },
  {
   "cell_type": "markdown",
   "metadata": {},
   "source": [
    "## Data Sequencing\n",
    "Sequencing the data by taking in the univariate series into `x-feature` and `y-label`<br>\n",
    "<img src = \"../../picture/Data Sequencing in Univariate Single Step.png\"  width=\"300\" height  =\"300\" align=\"center\" />"
   ]
  },
  {
   "cell_type": "code",
   "execution_count": 9,
   "metadata": {},
   "outputs": [
    {
     "name": "stdout",
     "output_type": "stream",
     "text": [
      "trainX shape:(25, 3, 1) trainY shape:(25, 1)\n",
      "\n",
      "testX shape:(9, 3, 1) testY shape:(9, 1)\n"
     ]
    }
   ],
   "source": [
    "trainX ,trainY =  data_module.univariate_single_step(train_data_normalized,window_size)\n",
    "testX , testY = data_module.univariate_single_step(test_data_normalized,window_size)\n",
    "print(f\"trainX shape:{trainX.shape} trainY shape:{trainY.shape}\\n\")\n",
    "print(f\"testX shape:{testX.shape} testY shape:{testY.shape}\")"
   ]
  },
  {
   "cell_type": "code",
   "execution_count": 10,
   "metadata": {},
   "outputs": [
    {
     "name": "stdout",
     "output_type": "stream",
     "text": [
      "trainY shape:(25, 1, 1)\n",
      "testY shape:(9, 1, 1)\n"
     ]
    }
   ],
   "source": [
    "trainY = trainY.reshape(trainY.shape[0],n_step,1)\n",
    "testY = testY.reshape(testY.shape[0],n_step,1)\n",
    "print(f\"trainY shape:{trainY.shape}\")\n",
    "print(f\"testY shape:{testY.shape}\")"
   ]
  },
  {
   "cell_type": "markdown",
   "metadata": {},
   "source": [
    "## Data Transform\n",
    "Data need to be transformed from `NumPy` to `PyTorch` tensor before feeding into the CNN-LSTM model."
   ]
  },
  {
   "cell_type": "code",
   "execution_count": 11,
   "metadata": {},
   "outputs": [],
   "source": [
    "\n",
    "train_data_dict ,test_data_dict = data_module.key_assign(trainingX = trainX  , \n",
    "                       testingX = testX, \n",
    "                       trainingY = trainY, \n",
    "                       testingY = testY)\n",
    "\n",
    "\n",
    "\n",
    "train_data_dict ,test_data_dict = data_module.transform(train_data_dict ,test_data_dict)\n"
   ]
  },
  {
   "cell_type": "code",
   "execution_count": 12,
   "metadata": {},
   "outputs": [
    {
     "name": "stdout",
     "output_type": "stream",
     "text": [
      "train_data_x_feature shape : torch.Size([25, 3, 1])\n",
      "train_data_y_label shape : torch.Size([25, 1, 1])\n",
      "test_data_x_feature shape : torch.Size([9, 3, 1])\n",
      "test_data_y_label shape : torch.Size([9, 1, 1])\n"
     ]
    }
   ],
   "source": [
    "data_module.sanity_check(train_data_dict , test_data_dict)"
   ]
  },
  {
   "cell_type": "markdown",
   "metadata": {},
   "source": [
    "## Data Transpose \n",
    "You are required to transpose the x-feature data in such a way that : <br>\n",
    ">`(batch_size, number_of_features, sequence_length)`.\n",
    "\n",
    "This is because CNN requires the input shape as `(batch_size, number_of_features, sequence_length)`. Hence, we will create a function that accepts the dictionary data of train data and test data as input. Transpose of the x-features for both train data and test data is done using `torch.transpose()`. The return of the function will be in a dictionary class type."
   ]
  },
  {
   "cell_type": "code",
   "execution_count": 13,
   "metadata": {},
   "outputs": [],
   "source": [
    "# Data Transpose\n",
    "train_data_dict , test_data_dict= data_module.transpose(train_data_dict,test_data_dict)"
   ]
  },
  {
   "cell_type": "code",
   "execution_count": 14,
   "metadata": {},
   "outputs": [
    {
     "name": "stdout",
     "output_type": "stream",
     "text": [
      "train_data_x_feature shape : torch.Size([25, 1, 3])\n",
      "train_data_y_label shape : torch.Size([25, 1, 1])\n",
      "test_data_x_feature shape : torch.Size([9, 1, 3])\n",
      "test_data_y_label shape : torch.Size([9, 1, 1])\n"
     ]
    }
   ],
   "source": [
    "data_module.sanity_check(train_data_dict , test_data_dict)"
   ]
  },
  {
   "cell_type": "markdown",
   "metadata": {},
   "source": [
    "## Data Iterator\n",
    "Iterator is created to separate the data into several batches to fasten the training process."
   ]
  },
  {
   "cell_type": "code",
   "execution_count": 15,
   "metadata": {},
   "outputs": [],
   "source": [
    "# Create Iterator\n",
    "train_iter , test_iter = data_module.iterator(train_data_dict ,test_data_dict,batch_size = batch_size)\n"
   ]
  },
  {
   "cell_type": "markdown",
   "metadata": {},
   "source": [
    "# Step 2 : CNN-LSTM Configuration \n",
    "\n",
    "![CNN-LSTM](https://3qeqpr26caki16dnhd19sv6by6v-wpengine.netdna-ssl.com/wp-content/uploads/2017/07/Convolutional-Neural-Network-Long-Short-Term-Memory-Network-Archiecture.png)\n",
    "<center><b>Data Flow in CNN-LSTM</b></center>\n",
    "\n",
    ">**How does it work**?\n",
    "The input data will first pass to the CNN model followed by the LSTM model as shown in the figure above.<br>\n",
    "\n",
    ">**How to initialize the configuration**?<br>\n",
    "    1. First, you need to initialize the constructor just like the initialization in our previous tutorial Python class `CNN`. The `forward()` method in `CNN_hybrid` will be a similar configuration to the one from the previous tutorial.<br>\n",
    "    2. Secondly, create a new class called `Combine`. Initialize the constructor like the LSTM model with an extra line: `self.cnn = CNN(n_features,n_step)` to enable its access to the `CNN` class. In the `forward()` method, add in `c_out = self.cnn(x)` as the first line of the code to take the input data and input it to the CNN class. The return output of CNN needs to be reshaped before inputting to LSTM.<br>\n",
    "\n"
   ]
  },
  {
   "cell_type": "code",
   "execution_count": 16,
   "metadata": {},
   "outputs": [],
   "source": [
    "class CNN_hybrid(nn.Module):\n",
    "    def __init__(self,n_features,n_step):\n",
    "        super(CNN_hybrid, self).__init__()\n",
    "        self.n_features = n_features\n",
    "        self.n_step = n_step\n",
    "        self.conv1 = nn.Conv1d(in_channels = n_features,out_channels=10, kernel_size=2)\n",
    "        self.poo1 = nn.AdaptiveMaxPool1d(1)\n",
    "        self.fc1 = nn.Linear(10, 20)\n",
    "        self.fc2 = nn.Linear(20, n_step)\n",
    "\n",
    "    def forward(self, x):\n",
    "        x = self.poo1(F.relu(self.conv1(x)))\n",
    "        x = x.view(-1, 10)\n",
    "        x = F.relu(self.fc1(x))\n",
    "        x = self.fc2(x)\n",
    "        return x\n",
    "\n",
    "\n",
    "class Combine(nn.Module):\n",
    "    def __init__(self,n_features,n_step,hidden_size,num_layers):\n",
    "        super(Combine, self).__init__()\n",
    "        self.n_features = n_features\n",
    "        self.n_step = n_step\n",
    "        self.hidden_size = hidden_size\n",
    "        self.num_layers = num_layers \n",
    "\n",
    "        self.cnn = CNN_hybrid(n_features,n_step)\n",
    "\n",
    "        self.lstm = nn.LSTM(\n",
    "            input_size= n_features,\n",
    "            hidden_size= hidden_size,\n",
    "            num_layers= num_layers ,\n",
    "            batch_first=True)\n",
    "        self.linear = nn.Linear(hidden_size,n_step)\n",
    "\n",
    "    def forward(self, x):\n",
    "        # The data flow into CNN first\n",
    "        c_out = self.cnn(x)\n",
    "\n",
    "        # Reshape the c_out to fit in LSTM\n",
    "        c_out = torch.reshape(c_out,(c_out.shape[0],c_out.shape[1],1))\n",
    "\n",
    "        # Initialize hidden state with zeros\n",
    "        h0 = torch.zeros(self.num_layers, x.size(0), self.hidden_size)\n",
    "\n",
    "        # Initialize cell state\n",
    "        c0 = torch.zeros(self.num_layers, x.size(0), self.hidden_size)\n",
    "        \n",
    "        # The output of CNN will flow into LSTM \n",
    "        out, (hn, cn) = self.lstm(c_out, (h0.detach(), c0.detach()))\n",
    "        \n",
    "        out = out[:, -1, :]\n",
    "        \n",
    "        out = self.linear(out)\n",
    "        \n",
    "\n",
    "        return (out)"
   ]
  },
  {
   "cell_type": "markdown",
   "metadata": {},
   "source": [
    "## Input Model"
   ]
  },
  {
   "cell_type": "code",
   "execution_count": 17,
   "metadata": {},
   "outputs": [
    {
     "name": "stdout",
     "output_type": "stream",
     "text": [
      "Combine(\n",
      "  (cnn): CNN_hybrid(\n",
      "    (conv1): Conv1d(1, 10, kernel_size=(2,), stride=(1,))\n",
      "    (poo1): AdaptiveMaxPool1d(output_size=1)\n",
      "    (fc1): Linear(in_features=10, out_features=20, bias=True)\n",
      "    (fc2): Linear(in_features=20, out_features=1, bias=True)\n",
      "  )\n",
      "  (lstm): LSTM(1, 32, batch_first=True)\n",
      "  (linear): Linear(in_features=32, out_features=1, bias=True)\n",
      ")\n"
     ]
    }
   ],
   "source": [
    "# seed\n",
    "torch.manual_seed(123)\n",
    "\n",
    "n_feature = train_data_dict['train_data_x_feature'].shape[1]\n",
    "hidden_size = 32 \n",
    "num_layers = 1\n",
    "\n",
    "model = Combine(n_features = n_feature,\n",
    "             n_step = n_step,\n",
    "             hidden_size = hidden_size,\n",
    "             num_layers = num_layers)\n",
    "print(model.eval())\n",
    "\n",
    "#loss function\n",
    "loss_fn = torch.nn.MSELoss()\n",
    "\n",
    "#optimiser\n",
    "optimizer = torch.optim.Adam(model.parameters(), lr=learning_rate)\n",
    "\n"
   ]
  },
  {
   "cell_type": "code",
   "execution_count": 18,
   "metadata": {},
   "outputs": [
    {
     "data": {
      "text/plain": [
       "Combine(\n",
       "  (cnn): CNN_hybrid(\n",
       "    (conv1): Conv1d(1, 10, kernel_size=(2,), stride=(1,))\n",
       "    (poo1): AdaptiveMaxPool1d(output_size=1)\n",
       "    (fc1): Linear(in_features=10, out_features=20, bias=True)\n",
       "    (fc2): Linear(in_features=20, out_features=1, bias=True)\n",
       "  )\n",
       "  (lstm): LSTM(1, 32, batch_first=True)\n",
       "  (linear): Linear(in_features=32, out_features=1, bias=True)\n",
       ")"
      ]
     },
     "execution_count": 18,
     "metadata": {},
     "output_type": "execute_result"
    }
   ],
   "source": [
    "# seed\n",
    "torch.manual_seed(123)\n",
    "\n",
    "def weights_init(m):\n",
    "    if isinstance(m, nn.Conv1d):\n",
    "        nn.init.xavier_uniform_(m.weight.data)\n",
    "        \n",
    "model.apply(weights_init)"
   ]
  },
  {
   "cell_type": "code",
   "execution_count": 19,
   "metadata": {
    "scrolled": true
   },
   "outputs": [
    {
     "name": "stdout",
     "output_type": "stream",
     "text": [
      "=========================================================================\n",
      "                             Kernel Shape Output Shape Params Mult-Adds\n",
      "Layer                                                                  \n",
      "0_cnn.Conv1d_conv1             [1, 10, 2]  [20, 10, 2]   30.0      40.0\n",
      "1_cnn.AdaptiveMaxPool1d_poo1            -  [20, 10, 1]      -         -\n",
      "2_cnn.Linear_fc1                 [10, 20]     [20, 20]  220.0     200.0\n",
      "3_cnn.Linear_fc2                  [20, 1]      [20, 1]   21.0      20.0\n",
      "4_lstm                                  -  [20, 1, 32]  4.48k    4.224k\n",
      "5_linear                          [32, 1]      [20, 1]   33.0      32.0\n",
      "-------------------------------------------------------------------------\n",
      "                      Totals\n",
      "Total params          4.784k\n",
      "Trainable params      4.784k\n",
      "Non-trainable params     0.0\n",
      "Mult-Adds             4.516k\n",
      "=========================================================================\n",
      "                             Kernel Shape Output Shape  Params  Mult-Adds\n",
      "Layer                                                                    \n",
      "0_cnn.Conv1d_conv1             [1, 10, 2]  [20, 10, 2]    30.0       40.0\n",
      "1_cnn.AdaptiveMaxPool1d_poo1            -  [20, 10, 1]     NaN        NaN\n",
      "2_cnn.Linear_fc1                 [10, 20]     [20, 20]   220.0      200.0\n",
      "3_cnn.Linear_fc2                  [20, 1]      [20, 1]    21.0       20.0\n",
      "4_lstm                                  -  [20, 1, 32]  4480.0     4224.0\n",
      "5_linear                          [32, 1]      [20, 1]    33.0       32.0\n"
     ]
    }
   ],
   "source": [
    "seq_length = train_data_dict['train_data_x_feature'].shape[2]\n",
    "inputs = torch.zeros((batch_size,n_feature ,seq_length),dtype=torch.float) # batch size ,input_dim ,seq_length\n",
    "print(summary(model,inputs))"
   ]
  },
  {
   "cell_type": "markdown",
   "metadata": {},
   "source": [
    "# Step 3 : Training"
   ]
  },
  {
   "cell_type": "code",
   "execution_count": 20,
   "metadata": {},
   "outputs": [],
   "source": [
    "# seed\n",
    "torch.manual_seed(123)\n",
    "# Start Training\n",
    "train_loss, val_loss = deep_learning_module.training(num_epochs, train_iter, test_iter, optimizer, loss_fn, model)"
   ]
  },
  {
   "cell_type": "markdown",
   "metadata": {},
   "source": [
    "# Step 4 : Validation \n",
    "A learning curve is plotted to define how well the data is fitting the model "
   ]
  },
  {
   "cell_type": "code",
   "execution_count": 21,
   "metadata": {
    "scrolled": true
   },
   "outputs": [
    {
     "data": {
      "image/png": "[encoded data removed]",
      "text/plain": [
       "<Figure size 720x432 with 1 Axes>"
      ]
     },
     "metadata": {
      "needs_background": "light"
     },
     "output_type": "display_data"
    },
    {
     "name": "stdout",
     "output_type": "stream",
     "text": [
      "Epoch : 0 , training loss : 0.49378840923309325 , validation loss : 1.7917041778564453\n",
      "Epoch : 1 , training loss : 0.4129299998283386 , validation loss : 1.6274195909500122\n",
      "Epoch : 2 , training loss : 0.3419968247413635 , validation loss : 1.4577746391296387\n",
      "Epoch : 3 , training loss : 0.2731207966804504 , validation loss : 1.2741748094558716\n",
      "Epoch : 4 , training loss : 0.205336594581604 , validation loss : 1.0730152130126953\n",
      "Epoch : 5 , training loss : 0.14186214208602904 , validation loss : 0.8563950061798096\n",
      "Epoch : 6 , training loss : 0.09037506878376007 , validation loss : 0.6336524486541748\n",
      "Epoch : 7 , training loss : 0.06368815302848815 , validation loss : 0.4264334738254547\n",
      "Epoch : 8 , training loss : 0.07509502544999122 , validation loss : 0.27023622393608093\n",
      "Epoch : 9 , training loss : 0.12137908730655908 , validation loss : 0.18873776495456696\n",
      "Epoch : 10 , training loss : 0.16695354897528886 , validation loss : 0.16878217458724976\n",
      "Epoch : 11 , training loss : 0.17975077256560326 , validation loss : 0.18773990869522095\n",
      "Epoch : 12 , training loss : 0.16307290345430375 , validation loss : 0.23004041612148285\n",
      "Epoch : 13 , training loss : 0.13559086248278618 , validation loss : 0.283122181892395\n",
      "Epoch : 14 , training loss : 0.11084351688623428 , validation loss : 0.3359476923942566\n",
      "Epoch : 15 , training loss : 0.09338502511382103 , validation loss : 0.3808480501174927\n",
      "Epoch : 16 , training loss : 0.08264492452144623 , validation loss : 0.4134618043899536\n",
      "Epoch : 17 , training loss : 0.07654392719268799 , validation loss : 0.4325723648071289\n",
      "Epoch : 18 , training loss : 0.07320265024900437 , validation loss : 0.4387414753437042\n",
      "Epoch : 19 , training loss : 0.07151085138320923 , validation loss : 0.43374067544937134\n",
      "Epoch : 20 , training loss : 0.07101146876811981 , validation loss : 0.4200657904148102\n",
      "Epoch : 21 , training loss : 0.07151522189378738 , validation loss : 0.40054142475128174\n",
      "Epoch : 22 , training loss : 0.07295426875352859 , validation loss : 0.3780261278152466\n",
      "Epoch : 23 , training loss : 0.07515469193458557 , validation loss : 0.3551669716835022\n",
      "Epoch : 24 , training loss : 0.07770848721265793 , validation loss : 0.3341604769229889\n",
      "Epoch : 25 , training loss : 0.07996152192354203 , validation loss : 0.31656354665756226\n",
      "Epoch : 26 , training loss : 0.08119317069649697 , validation loss : 0.303139328956604\n",
      "Epoch : 27 , training loss : 0.08080667406320571 , validation loss : 0.29307249188423157\n",
      "Epoch : 28 , training loss : 0.0785083681344986 , validation loss : 0.28683722019195557\n",
      "Epoch : 29 , training loss : 0.07441440336406231 , validation loss : 0.2827519178390503\n",
      "Epoch : 30 , training loss : 0.06899630650877953 , validation loss : 0.2789255678653717\n",
      "Epoch : 31 , training loss : 0.062664308026433 , validation loss : 0.27355092763900757\n",
      "Epoch : 32 , training loss : 0.055730130150914194 , validation loss : 0.2647567689418793\n",
      "Epoch : 33 , training loss : 0.04841007217764855 , validation loss : 0.25101450085639954\n",
      "Epoch : 34 , training loss : 0.04082391634583473 , validation loss : 0.23188836872577667\n",
      "Epoch : 35 , training loss : 0.03315846137702465 , validation loss : 0.20824404060840607\n",
      "Epoch : 36 , training loss : 0.025651202350854874 , validation loss : 0.18133710324764252\n",
      "Epoch : 37 , training loss : 0.018533813674002884 , validation loss : 0.15373559296131134\n",
      "Epoch : 38 , training loss : 0.012064244272187353 , validation loss : 0.1283586174249649\n",
      "Epoch : 39 , training loss : 0.006472379399929196 , validation loss : 0.10783623903989792\n",
      "Epoch : 40 , training loss : 0.0022904288023710253 , validation loss : 0.09265569597482681\n",
      "Epoch : 41 , training loss : 0.0005498174170497805 , validation loss : 0.08102566003799438\n",
      "Epoch : 42 , training loss : 0.001592693367274478 , validation loss : 0.07075151801109314\n",
      "Epoch : 43 , training loss : 0.00369908781722188 , validation loss : 0.061889052391052246\n",
      "Epoch : 44 , training loss : 0.00477542351000011 , validation loss : 0.05672793090343475\n",
      "Epoch : 45 , training loss : 0.0044906757771968845 , validation loss : 0.05634579434990883\n",
      "Epoch : 46 , training loss : 0.0034923020750284193 , validation loss : 0.05931519716978073\n",
      "Epoch : 47 , training loss : 0.002342428208794445 , validation loss : 0.06325779110193253\n",
      "Epoch : 48 , training loss : 0.0013076163246296345 , validation loss : 0.06641672551631927\n",
      "Epoch : 49 , training loss : 0.000591790903126821 , validation loss : 0.06846728920936584\n",
      "Epoch : 50 , training loss : 0.00037928816163912416 , validation loss : 0.07010091096162796\n",
      "Epoch : 51 , training loss : 0.0005556518794037401 , validation loss : 0.07187744230031967\n",
      "Epoch : 52 , training loss : 0.0008071152493357659 , validation loss : 0.07332707196474075\n",
      "Epoch : 53 , training loss : 0.00092851662193425 , validation loss : 0.07344843447208405\n",
      "Epoch : 54 , training loss : 0.0008996529621072113 , validation loss : 0.07150642573833466\n",
      "Epoch : 55 , training loss : 0.0007764450856484473 , validation loss : 0.06805410981178284\n",
      "Epoch : 56 , training loss : 0.0006146872416138649 , validation loss : 0.06436332315206528\n",
      "Epoch : 57 , training loss : 0.0004488614067668095 , validation loss : 0.06141473725438118\n",
      "Epoch : 58 , training loss : 0.00030750519727007486 , validation loss : 0.059403419494628906\n",
      "Epoch : 59 , training loss : 0.0002391204070590902 , validation loss : 0.05770374834537506\n"
     ]
    }
   ],
   "source": [
    "# Create Learining Curve \n",
    "data_module.learning_curve(num_epochs = num_epochs , train_loss = train_loss , val_loss = val_loss )"
   ]
  },
  {
   "cell_type": "markdown",
   "metadata": {},
   "source": [
    "# Step 5 : Evaluation\n",
    "This section is to inference the model by feeding in testing data, determining the output forecast values and calculating the RMSE. \n",
    "\n",
    "> For this exercise, use the function in `data_module` to run in each section.\n",
    "\n",
    "It consists of 4 sections :\n",
    "\n",
    "Section 1 : Feed in the train and test data to the model <br>\n",
    "Section 2 : Reshape both to the original data dimension <br> \n",
    "Section 3 : Invert the scaling back to the original data value <br>\n",
    "Section 4 : Calculate the RMSE of train and test data"
   ]
  },
  {
   "cell_type": "code",
   "execution_count": 22,
   "metadata": {},
   "outputs": [],
   "source": [
    "# make predictions\n",
    "with torch.no_grad():\n",
    "    y_train_prediction = model(train_data_dict['train_data_x_feature'])\n",
    "    y_test_prediction = model(test_data_dict['test_data_x_feature'])"
   ]
  },
  {
   "cell_type": "code",
   "execution_count": 23,
   "metadata": {},
   "outputs": [],
   "source": [
    "# Assign evaluation key\n",
    "prediction , output = data_module.key_assign_evaluation(y_train_prediction,\n",
    "    y_test_prediction,\n",
    "    train_data_dict,\n",
    "    test_data_dict)\n",
    "\n",
    "# Section 2 : Reshape to original data\n",
    "# Squeeze the output dimension\n",
    "output_data = data_module.squeeze_dimension(output)\n"
   ]
  },
  {
   "cell_type": "code",
   "execution_count": 24,
   "metadata": {},
   "outputs": [
    {
     "name": "stdout",
     "output_type": "stream",
     "text": [
      "train_data_output shape : torch.Size([25, 1])\n",
      "test_data_output shape : torch.Size([9, 1])\n"
     ]
    }
   ],
   "source": [
    "data_module.sanity_check(data_1 = output_data,data_2 = {})"
   ]
  },
  {
   "cell_type": "code",
   "execution_count": 25,
   "metadata": {},
   "outputs": [],
   "source": [
    "# Section 3 : Invert predictions\n",
    "prediction = data_module.inverse_scaler(prediction,scaler)\n",
    "output_data  = data_module.inverse_scaler(output_data ,scaler)"
   ]
  },
  {
   "cell_type": "code",
   "execution_count": 26,
   "metadata": {},
   "outputs": [
    {
     "name": "stdout",
     "output_type": "stream",
     "text": [
      "train_data_prediction shape : (25, 1)\n",
      "test_data_prediction shape : (9, 1)\n",
      "train_data_output shape : (25, 1)\n",
      "test_data_output shape : (9, 1)\n"
     ]
    }
   ],
   "source": [
    "data_module.sanity_check(data_1 = prediction,data_2 = output_data )"
   ]
  },
  {
   "cell_type": "code",
   "execution_count": 27,
   "metadata": {},
   "outputs": [
    {
     "name": "stdout",
     "output_type": "stream",
     "text": [
      "Test Data\t\t\tForecast\n",
      "[310.]\t\t[280.90417]\n",
      "[320.]\t\t[284.09375]\n",
      "[330.]\t\t[287.2057]\n",
      "[340.]\t\t[289.06567]\n",
      "[349.99997]\t\t[290.01978]\n",
      "[360.]\t\t[290.97293]\n",
      "[370.]\t\t[291.9251]\n",
      "[380.]\t\t[292.87628]\n",
      "[390.]\t\t[293.82648]\n"
     ]
    }
   ],
   "source": [
    "# List the forecast value\n",
    "data_module.list_forecast_value(output_data,prediction) "
   ]
  },
  {
   "cell_type": "code",
   "execution_count": 28,
   "metadata": {},
   "outputs": [
    {
     "name": "stdout",
     "output_type": "stream",
     "text": [
      "Train Score: 4.27 RMSE\n",
      "Test Score: 64.86 RMSE\n"
     ]
    }
   ],
   "source": [
    "# Section 4 : Calculate the RMSE of train and test data\n",
    "### BEGIN SOLUTION\n",
    "trainScore,testScore = data_module.rmse(prediction,output_data)\n",
    "### END SOLUTION\n",
    "print('Train Score: %.2f RMSE' % (trainScore))\n",
    "print('Test Score: %.2f RMSE' % (testScore))"
   ]
  },
  {
   "cell_type": "markdown",
   "metadata": {},
   "source": [
    "# Step 6 : Forecast Plot"
   ]
  },
  {
   "cell_type": "code",
   "execution_count": 29,
   "metadata": {},
   "outputs": [
    {
     "data": {
      "image/png": "[encoded data removed]",
      "text/plain": [
       "<Figure size 720x432 with 1 Axes>"
      ]
     },
     "metadata": {
      "needs_background": "light"
     },
     "output_type": "display_data"
    }
   ],
   "source": [
    "data_module.single_step_plot(original_test_data = test_data,\n",
    "                            sequence_test_data = output_data['test_data_output'],\n",
    "                            forecast_data = prediction['test_data_prediction'],\n",
    "                            test_time = test_time,\n",
    "                            window_size =  window_size,\n",
    "                            original_plot=False,\n",
    "                            multivariate=False)"
   ]
  },
  {
   "cell_type": "markdown",
   "metadata": {},
   "source": [
    "# Part 2 : Exercise for Univariate \n",
    "## Task : Use Hybrid model (CNN-LSTM) to predict the temperature for Melbourne\n",
    "\n",
    "### Introduction\n",
    "You are given a set of dataset that describes the minimum daily temperatures over 10 years (1981-1990) in the city Melbourne, Australia. The units are in degrees Celsius and there are 3650 observations.\n",
    "\n",
    "### Data Sources :\n",
    "[The source of the data is credited as the Australian Bureau of Meteorology.](https://raw.githubusercontent.com/jbrownlee/Datasets/master/daily-min-temperatures.csv)"
   ]
  },
  {
   "cell_type": "markdown",
   "metadata": {},
   "source": [
    "## Hyperparameter\n",
    ">**Instruction** : <br>\n",
    "You are required to fill `None` with a suitable value to make the model converge\n",
    "\n",
    ">**Expected Result** : <br>\n",
    "Train Score <= 10 RMSE<br>\n",
    "Test Score <= 10 RMSE<br>"
   ]
  },
  {
   "cell_type": "code",
   "execution_count": 30,
   "metadata": {},
   "outputs": [
    {
     "ename": "SyntaxError",
     "evalue": "invalid syntax (<ipython-input-30-4b625085a1ec>, line 2)",
     "output_type": "error",
     "traceback": [
      "\u001b[1;36m  File \u001b[1;32m\"<ipython-input-30-4b625085a1ec>\"\u001b[1;36m, line \u001b[1;32m2\u001b[0m\n\u001b[1;33m    >**Instruction** : <br>\u001b[0m\n\u001b[1;37m    ^\u001b[0m\n\u001b[1;31mSyntaxError\u001b[0m\u001b[1;31m:\u001b[0m invalid syntax\n"
     ]
    }
   ],
   "source": [
    "## Hyperparameter\n",
    "num_epochs_temperature = 100\n",
    "batch_size_temperature = 30\n",
    "window_size_temperature = 12\n",
    "learning_rate_temperature = 0.001\n",
    "n_step_temperature = 1 \n",
    "split_data_ratio_temperature = 0.70\n",
    "#seed\n",
    "torch.manual_seed(123)"
   ]
  },
  {
   "cell_type": "markdown",
   "metadata": {},
   "source": [
    "# Step 1 : Data Preparation\n",
    ">**Instruction** : <br>\n",
    "Read the `CSV` file using `pd.read_csv`<br>\n",
    "Your file path `https://raw.githubusercontent.com/jbrownlee/Datasets/master/daily-min-temperatures.csv`\n",
    "\n",
    ">**Expected Result**<br>\n",
    "Example of the first 5 rows of data:\n",
    "\n",
    "---|\tDate|\tTemp\n",
    "---|---|---\n",
    "0|\t1981-01-01|\t20.7\n",
    "1|\t1981-01-02|\t17.9\n",
    "2|\t1981-01-03|\t18.8\n",
    "3|\t1981-01-04|\t14.6\n",
    "4|\t1981-01-05|\t15.8"
   ]
  },
  {
   "cell_type": "code",
   "execution_count": null,
   "metadata": {},
   "outputs": [],
   "source": [
    "# Read CSV file \n",
    "### BEGIN SOLUTION\n",
    "temperature = pd.read_csv('https://raw.githubusercontent.com/jbrownlee/Datasets/master/daily-min-temperatures.csv')\n",
    "### END SOLUTION\n",
    "temperature.head() "
   ]
  },
  {
   "cell_type": "markdown",
   "metadata": {},
   "source": [
    ">**Instruction** : <br>\n",
    "Convert the `Date` by using `pd.to_datetime`\n",
    "Set the index as 'Date' using `df.set_index`\n",
    "\n",
    ">**Expected Result** : <br>\n",
    "Example of the first 5 rows:\n",
    "\n",
    "Date|\tTemp\n",
    "---|---\n",
    "1981-01-01|\t20.7\n",
    "1981-01-02|\t17.9\n",
    "1981-01-03|\t18.8\n",
    "1981-01-04|\t14.6\n",
    "1981-01-05|\t15.8"
   ]
  },
  {
   "cell_type": "code",
   "execution_count": null,
   "metadata": {},
   "outputs": [],
   "source": [
    "### BEGIN SOLUTION\n",
    "temperature['Date'] = pd.to_datetime(temperature['Date'])\n",
    "temperature = temperature.set_index('Date')\n",
    "### END SOLUTION\n",
    "temperature.head()"
   ]
  },
  {
   "cell_type": "markdown",
   "metadata": {},
   "source": [
    ">**Instruction** : <br>\n",
    "Save the data in `Series` format using `pd.Series`\n",
    "\n",
    ">**Expected Result** : <br>\n",
    "Example of the first 5 rows of data:\n",
    "\n",
    "Date|---\n",
    "---|---\n",
    "1981-01-01|    20.7\n",
    "1981-01-02|    17.9\n",
    "1981-01-03|    18.8\n",
    "1981-01-04|    14.6\n",
    "1981-01-05|    15.8"
   ]
  },
  {
   "cell_type": "code",
   "execution_count": null,
   "metadata": {},
   "outputs": [],
   "source": [
    "### BEGIN SOLUTION\n",
    "temperature_ts = pd.Series(temperature['Temp'])\n",
    "### END SOLUTION\n",
    "temperature_ts.head()"
   ]
  },
  {
   "cell_type": "markdown",
   "metadata": {},
   "source": [
    "## Data Visualization\n",
    "Data visualization is important for us to visualize the pattern of data such as trend and seasonality.\n",
    ">**Instruction** : <br>\n",
    "Use `df.plot()` to plot the `temperature_ts`"
   ]
  },
  {
   "cell_type": "code",
   "execution_count": null,
   "metadata": {},
   "outputs": [],
   "source": [
    "## BEGIN SOLUTION\n",
    "temperature_ts.plot()\n",
    "### END SOLUTION"
   ]
  },
  {
   "cell_type": "markdown",
   "metadata": {},
   "source": [
    "## Data Splitting"
   ]
  },
  {
   "cell_type": "code",
   "execution_count": null,
   "metadata": {},
   "outputs": [],
   "source": [
    "# Create split data ratio\n",
    "split_ratio = round(len(temperature_ts)*split_data_ratio_temperature)"
   ]
  },
  {
   "cell_type": "code",
   "execution_count": null,
   "metadata": {},
   "outputs": [],
   "source": [
    "# Split data by indexing \n",
    "train_data_temperature= temperature_ts[:split_ratio]\n",
    "test_data_temperature = temperature_ts[split_ratio:]\n",
    "train_time_temperature = temperature_ts.index[:split_ratio ]\n",
    "test_time_temperature = temperature_ts.index[split_ratio:]\n",
    "print(\"train_data_shampoo_shape\")\n",
    "print(train_data_temperature.shape)\n",
    "print(\"test_data_shampoo_shape\")\n",
    "print(test_data_temperature.shape)"
   ]
  },
  {
   "cell_type": "markdown",
   "metadata": {},
   "source": [
    "## Data Standardization\n",
    ">**Instruction** : <br>\n",
    "Use `StandardScaler()` to  standardize the data, save your data scaler into `scaler_temperature`.<br>\n",
    "Train and test scaled data into `scaler_train_shampoo_data ` and `test_data_scaled_temperature`.<br>\n",
    "\n",
    "Example :<br>\n",
    "`train_data_scaled_temperature = scaler_temperature.transform(train_data_temperature.values.reshape(-1, 1))`\n"
   ]
  },
  {
   "cell_type": "code",
   "execution_count": null,
   "metadata": {},
   "outputs": [],
   "source": [
    "### BEGIN SOLUTION\n",
    "scaler_temperature = StandardScaler().fit(train_data_temperature.values.reshape(-1, 1))\n",
    "train_data_scaled_temperature = scaler_temperature.transform(train_data_temperature.values.reshape(-1, 1))\n",
    "test_data_scaled_temperature = scaler_temperature.transform(test_data_temperature.values.reshape((-1, 1)))\n",
    "### END SOLUTION"
   ]
  },
  {
   "cell_type": "markdown",
   "metadata": {},
   "source": [
    "## Data Sequencing \n",
    ">**Instruction** : <br>\n",
    "Use `data_module.univariate_single_step` to perform sliding window operation by taking the scaled data and save your data into respective `x` and `y` variable.<br>\n",
    "\n",
    "Example :<br>\n",
    "`trainX_temperature ,trainY_temperature =  data_module.univariate_single_step(train_data_scaled_temperature,\n",
    "                                                                             window_size_temperature)`"
   ]
  },
  {
   "cell_type": "code",
   "execution_count": null,
   "metadata": {},
   "outputs": [],
   "source": [
    "### BEGIN SOLUTION\n",
    "trainX_temperature ,trainY_temperature =  data_module.univariate_single_step(train_data_scaled_temperature,\n",
    "                                                                             window_size_temperature)\n",
    "\n",
    "testX_temperature , testY_temperature = data_module.univariate_single_step(test_data_scaled_temperature,\n",
    "                                                                           window_size_temperature)\n",
    "### END SOLUTION\n",
    "print(f\"trainX shape:{trainX_temperature.shape} trainY shape:{trainY_temperature.shape}\\n\")\n",
    "print(f\"testX shape:{testX_temperature.shape} testX shape:{testY_temperature.shape}\")"
   ]
  },
  {
   "cell_type": "code",
   "execution_count": null,
   "metadata": {},
   "outputs": [],
   "source": [
    "trainY_temperature= trainY_temperature.reshape(trainY_temperature.shape[0],n_step,1)\n",
    "testY_temperature= testY_temperature.reshape(testY_temperature.shape[0],n_step,1)\n",
    "print(f\"trainY shape:{trainY_temperature.shape}\")\n",
    "print(f\"testY shape:{testY_temperature.shape}\")"
   ]
  },
  {
   "cell_type": "markdown",
   "metadata": {},
   "source": [
    "## Data Transform\n",
    "Data has to be transformed from `NumPy` to `PyTorch` tensor before feeding into the CNN-LSTM model.\n",
    "\n",
    ">**Instruction** : <br>\n",
    "Use `data_module.key_assign` to assign the key and `data_module.transform` to transform the data."
   ]
  },
  {
   "cell_type": "code",
   "execution_count": null,
   "metadata": {},
   "outputs": [],
   "source": [
    "# Key Assign \n",
    "### BEGIN SOLUTION\n",
    "train_data_dict_temperature ,test_data_dict_temperature = data_module.key_assign(trainingX = trainX_temperature  , \n",
    "                       testingX = testX_temperature, \n",
    "                       trainingY = trainY_temperature, \n",
    "                       testingY = testY_temperature)\n",
    "### END SOLUTION\n",
    "\n",
    "# Transform data\n",
    "### BEGIN SOLUTION\n",
    "train_data_dict_temperature ,test_data_dict_temperature= data_module.transform(train_data_dict_temperature ,\n",
    "                                                                          test_data_dict_temperature)\n",
    "### END SOLUTION"
   ]
  },
  {
   "cell_type": "code",
   "execution_count": null,
   "metadata": {},
   "outputs": [],
   "source": [
    "data_module.sanity_check(train_data_dict_temperature , test_data_dict_temperature)"
   ]
  },
  {
   "cell_type": "markdown",
   "metadata": {},
   "source": [
    "## Data Transpose \n",
    "You are required to transpose the x-feature data in such a way that : <br>\n",
    ">`(batch_size, number_of_features, sequence_length)`.\n",
    "\n",
    "This is because CNN requires the input shape as `(batch_size, number_of_features, sequence_length)` .\n",
    "\n",
    ">**Instruction** : <br>\n",
    "Use `transpose` function in `data_module.py` to transpose the suitable input data for CNN-LSTM model."
   ]
  },
  {
   "cell_type": "code",
   "execution_count": null,
   "metadata": {},
   "outputs": [],
   "source": [
    "### BEGIN SOLUTION\n",
    "train_data_dict_temperature , test_data_dict_temperature = data_module.transpose(train_data_dict_temperature,\n",
    "                                                                     test_data_dict_temperature)\n",
    "### END SOLUTION"
   ]
  },
  {
   "cell_type": "markdown",
   "metadata": {},
   "source": [
    "## Data Iterator\n",
    ">**Instruction** : <br>\n",
    "Use `data_module.iterator` to create data iterator"
   ]
  },
  {
   "cell_type": "code",
   "execution_count": null,
   "metadata": {},
   "outputs": [],
   "source": [
    "# Create Iterator\n",
    "### BEGIN SOLUTION\n",
    "train_iter_temperature , test_iter_temperature = data_module.iterator(train_data_dict_temperature ,\n",
    "                                                                      test_data_dict_temperature,\n",
    "                                                                      batch_size = batch_size_temperature)\n",
    "### END SOLUTION"
   ]
  },
  {
   "cell_type": "markdown",
   "metadata": {},
   "source": [
    "# Step 2 : CNN-LSTM Configuration \n",
    ">**Instruction** : <br>\n",
    "You are suggested to configure your own CNN-LSTM model. Name the `Combine` class as `Combine_temperature` "
   ]
  },
  {
   "cell_type": "code",
   "execution_count": null,
   "metadata": {},
   "outputs": [],
   "source": [
    "class CNN(nn.Module):\n",
    "    def __init__(self,n_features,n_step):\n",
    "        super(CNN, self).__init__()\n",
    "        ### BEGIN SOLUTION\n",
    "        self.n_features = n_features\n",
    "        self.n_step = n_step\n",
    "        self.conv1 = nn.Conv1d(in_channels = n_features,out_channels=10, kernel_size=2)\n",
    "        self.poo1 = nn.AdaptiveMaxPool1d(1)\n",
    "        self.fc1 = nn.Linear(10, 20)\n",
    "        self.fc2 = nn.Linear(20, n_step)\n",
    "        ### END SOLUTION\n",
    "\n",
    "    def forward(self, x):\n",
    "        ### BEGIN SOLUTION\n",
    "        x = self.poo1(F.relu(self.conv1(x)))\n",
    "        x = x.view(-1, 10)\n",
    "        x = F.relu(self.fc1(x))\n",
    "        x = self.fc2(x)\n",
    "        ### END SOLUTION\n",
    "        return x\n",
    "\n",
    "\n",
    "class Combine_temperature(nn.Module):\n",
    "    def __init__(self,n_features,n_step,hidden_size,num_layers):\n",
    "        super(Combine_temperature, self).__init__()\n",
    "        ### BEGIN SOLUTION\n",
    "        self.n_features = n_features\n",
    "        self.n_step = n_step\n",
    "        self.hidden_size = hidden_size\n",
    "        self.num_layers = num_layers \n",
    "\n",
    "        self.cnn = CNN(n_features,n_step)\n",
    "\n",
    "        self.lstm = nn.LSTM(\n",
    "            input_size= n_features,\n",
    "            hidden_size= hidden_size,\n",
    "            num_layers= num_layers ,\n",
    "            batch_first=True)\n",
    "        self.linear = nn.Linear(hidden_size,n_step)\n",
    "        ### END SOLUTION\n",
    "\n",
    "    def forward(self, x):\n",
    "        # The data flow into CNN first\n",
    "        c_out = self.cnn(x)\n",
    "\n",
    "        # Reshape the c_out to fit in LSTM\n",
    "        c_out = torch.reshape(c_out,(c_out.shape[0],c_out.shape[1],1))\n",
    "\n",
    "        # Initialize hidden state with zeros\n",
    "        h0 = torch.zeros(self.num_layers, x.size(0), self.hidden_size)\n",
    "\n",
    "        # Initialize cell state\n",
    "        c0 = torch.zeros(self.num_layers, x.size(0), self.hidden_size)\n",
    "        \n",
    "        # The output of CNN will flow into LSTM \n",
    "        out, (hn, cn) = self.lstm(c_out, (h0.detach(), c0.detach()))\n",
    "        \n",
    "        out = out[:, -1, :]\n",
    "        \n",
    "        out = self.linear(out)\n",
    "        ### END SOLUTION\n",
    "        \n",
    "\n",
    "        return (out)"
   ]
  },
  {
   "cell_type": "markdown",
   "metadata": {},
   "source": [
    "## Input Model\n",
    "\n",
    "\n",
    "\n",
    ">**Instruction** : <br>\n",
    "Use the `Combine_temperature` configuration as the model for the temperature data. Use `Adam` as the optimizer and `MSE` as the loss function."
   ]
  },
  {
   "cell_type": "code",
   "execution_count": null,
   "metadata": {},
   "outputs": [],
   "source": [
    "# seed\n",
    "torch.manual_seed(123)\n",
    "\n",
    "n_feature_temperature = train_data_dict_temperature['train_data_x_feature'].shape[1]\n",
    "hidden_size_temperature = 16\n",
    "num_layers_temperature = 1\n",
    "\n",
    "### BEGIN SOLUTION\n",
    "model_temperature = Combine_temperature(n_feature_temperature,n_step_temperature,hidden_size_temperature,num_layers_temperature)\n",
    "\n",
    "#loss function\n",
    "loss_fn_temperature = torch.nn.MSELoss()\n",
    "\n",
    "#optimiser\n",
    "optimizer_temperature = torch.optim.Adam(model_temperature.parameters(), lr=learning_rate_temperature)\n",
    "### END SOLUTION"
   ]
  },
  {
   "cell_type": "code",
   "execution_count": null,
   "metadata": {},
   "outputs": [],
   "source": [
    "seq_length_temperature = train_data_dict_temperature['train_data_x_feature'].shape[2]\n",
    "inputs = torch.zeros((batch_size_temperature,\n",
    "                      n_feature_temperature ,\n",
    "                      seq_length_temperature),dtype=torch.float) # batch size ,input_dim ,seq_length\n",
    "print(summary(model_temperature,inputs))"
   ]
  },
  {
   "cell_type": "code",
   "execution_count": null,
   "metadata": {},
   "outputs": [],
   "source": [
    "# seed\n",
    "torch.manual_seed(123)\n",
    "\n",
    "def weights_init(m):\n",
    "    if isinstance(m, nn.Conv1d):\n",
    "        nn.init.xavier_uniform_(m.weight.data)\n",
    "        \n",
    "model_temperature.apply(weights_init)"
   ]
  },
  {
   "cell_type": "markdown",
   "metadata": {},
   "source": [
    "# Step 3 : Training"
   ]
  },
  {
   "cell_type": "code",
   "execution_count": null,
   "metadata": {},
   "outputs": [],
   "source": [
    "torch.manual_seed(123)\n",
    "train_loss_temperature,val_loss_temperature = deep_learning_module.training(num_epochs_temperature,\n",
    "                                                                    train_iter_temperature,\n",
    "                                                                    test_iter_temperature,\n",
    "                                                                    optimizer_temperature,\n",
    "                                                                    loss_fn_temperature,\n",
    "                                                                    model_temperature)"
   ]
  },
  {
   "cell_type": "markdown",
   "metadata": {},
   "source": [
    "# Step 4 : Validation"
   ]
  },
  {
   "cell_type": "code",
   "execution_count": null,
   "metadata": {},
   "outputs": [],
   "source": [
    "data_module.learning_curve(num_epochs = num_epochs_temperature , train_loss = train_loss_temperature , val_loss = val_loss_temperature )\n"
   ]
  },
  {
   "cell_type": "markdown",
   "metadata": {},
   "source": [
    "# Step 5 : Evaluation\n",
    "This section is to inference the model by feeding in testing data, determining the output forecast values and calculating the RMSE.\n",
    ">**Instruction** : <br>\n",
    "Use the function created in `data_module.py` to perform the task in each section.\n",
    "\n",
    "It consists of 4 sections :\n",
    "\n",
    "Section 1 : Feed in the train and test data to the model <br>\n",
    "Section 2 : Reshape both to the original data dimension <br> \n",
    "Section 3 : Invert the scaling back to the original data value <br>\n",
    "Section 4 : Calculate the RMSE of train and test dat"
   ]
  },
  {
   "cell_type": "code",
   "execution_count": null,
   "metadata": {},
   "outputs": [],
   "source": [
    "# Section 1 : make predictions\n",
    "### BEGIN SOLUTION\n",
    "with torch.no_grad():\n",
    "    y_train_prediction_temperature = model_temperature(train_data_dict_temperature['train_data_x_feature'])\n",
    "    y_test_prediction_temperature = model_temperature(test_data_dict_temperature['test_data_x_feature'])\n",
    "### END SOLUTION"
   ]
  },
  {
   "cell_type": "code",
   "execution_count": null,
   "metadata": {},
   "outputs": [],
   "source": [
    "# Assign evaluation key\n",
    "### BEGIN SOLUTION\n",
    "prediction_temperature , output_temperature = data_module.key_assign_evaluation(y_train_prediction_temperature,\n",
    "                                                                    y_test_prediction_temperature,\n",
    "                                                                    train_data_dict_temperature,\n",
    "                                                                    test_data_dict_temperature)\n",
    "### END SOLUTION\n",
    "\n",
    "\n",
    "# Section 2 : Reshape to original data\n",
    "# Squeeze the output dimension\n",
    "### BEGIN SOLUTION\n",
    "output_data_temperature = data_module.squeeze_dimension(output_temperature)\n",
    "### END SOLUTION"
   ]
  },
  {
   "cell_type": "code",
   "execution_count": null,
   "metadata": {},
   "outputs": [],
   "source": [
    "data_module.sanity_check(data_1 = output_temperature,data_2 = {})"
   ]
  },
  {
   "cell_type": "code",
   "execution_count": null,
   "metadata": {},
   "outputs": [],
   "source": [
    "# Section 3 : Invert the scaling back to orignal data value\n",
    "### BEGIN SOLUTION\n",
    "prediction_temperature = data_module.inverse_scaler(prediction_temperature,scaler_temperature)\n",
    "output_data_temperature  = data_module.inverse_scaler(output_data_temperature ,scaler_temperature)\n",
    "### END SOLUTION"
   ]
  },
  {
   "cell_type": "code",
   "execution_count": null,
   "metadata": {},
   "outputs": [],
   "source": [
    "# List the forecast value\n",
    "### BEGIN SOLUTION\n",
    "data_module.list_forecast_value(output_data_temperature,prediction_temperature) \n",
    "### END SOLUTION"
   ]
  },
  {
   "cell_type": "code",
   "execution_count": null,
   "metadata": {},
   "outputs": [],
   "source": [
    "# calculate root mean squared error\n",
    "### BEGIN SOLUTION\n",
    "trainScore_temperature,testScore_temperature = data_module.rmse(prediction_temperature,output_data_temperature)\n",
    "print('Train Score: %.2f RMSE' % (trainScore_temperature))\n",
    "print('Test Score: %.2f RMSE' % (testScore_temperature))\n",
    "### END SOLUTION"
   ]
  },
  {
   "cell_type": "markdown",
   "metadata": {},
   "source": [
    "# Step 6 : Forecast Plot\n",
    ">Instruction :<br>\n",
    "Use `data_module.single_step_plot` function to plot the forecast result."
   ]
  },
  {
   "cell_type": "code",
   "execution_count": null,
   "metadata": {},
   "outputs": [],
   "source": [
    "### BEGIN SOLUTION\n",
    "data_module.single_step_plot(original_test_data = test_data_temperature,\n",
    "                            sequence_test_data = output_data_temperature['test_data_output'],\n",
    "                            forecast_data = prediction_temperature['test_data_prediction'],\n",
    "                            test_time = test_time_temperature,\n",
    "                            window_size =  window_size_temperature,\n",
    "                            original_plot= False,\n",
    "                            multivariate=False)\n",
    "### END SOLUTION"
   ]
  },
  {
   "cell_type": "markdown",
   "metadata": {},
   "source": [
    "## Summary\n",
    "In this tutorial you should have learnt:\n",
    "\n",
    "1. The flow of using Hybrid Model (CNN-LSTM) to perform univariate forecasting.<br>\n",
    "2. The configuration of the Hybrid Model (CNN-LSTM) and the concept of it<br>\n",
    "\n",
    "Congratulations, that concludes this lesson.<br>"
   ]
  },
  {
   "cell_type": "markdown",
   "metadata": {},
   "source": [
    "## Reference \n",
    "1. [Deep Learning for Time Series Forecasting (Predict the Future with MLPs,CNNs and LSTMs in Python) , Jason Brownlee](https://machinelearningmastery.com/deep-learning-for-time-series-forecasting/)\n",
    "2. [[CNN]Time-series Forecasting with Pytorch](https://www.kaggle.com/hanjoonchoe/cnn-time-series-forecasting-with-pytorch)\n",
    "3. [PyTorch: learning conv1D,conv2D and conv3D](https://programmer.group/pytorch-learning-conv1d-conv2d-and-conv3d.html)"
   ]
  }
 ],
 "metadata": {
  "kernelspec": {
   "display_name": "Python 3",
   "language": "python",
   "name": "python3"
  },
  "language_info": {
   "codemirror_mode": {
    "name": "ipython",
    "version": 3
   },
   "file_extension": ".py",
   "mimetype": "text/x-python",
   "name": "python",
   "nbconvert_exporter": "python",
   "pygments_lexer": "ipython3",
   "version": "3.7.10"
  },
  "varInspector": {
   "cols": {
    "lenName": 16,
    "lenType": 16,
    "lenVar": 40
   },
   "kernels_config": {
    "python": {
     "delete_cmd_postfix": "",
     "delete_cmd_prefix": "del ",
     "library": "var_list.py",
     "varRefreshCmd": "print(var_dic_list())"
    },
    "r": {
     "delete_cmd_postfix": ") ",
     "delete_cmd_prefix": "rm(",
     "library": "var_list.r",
     "varRefreshCmd": "cat(var_dic_list()) "
    }
   },
   "types_to_exclude": [
    "module",
    "function",
    "builtin_function_or_method",
    "instance",
    "_Feature"
   ],
   "window_display": false
  }
 },
 "nbformat": 4,
 "nbformat_minor": 4
}
