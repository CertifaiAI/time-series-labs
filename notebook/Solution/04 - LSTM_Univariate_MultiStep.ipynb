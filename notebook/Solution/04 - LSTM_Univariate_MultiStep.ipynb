{
 "cells": [
  {
   "cell_type": "markdown",
   "metadata": {
    "deletable": false,
    "editable": false
   },
   "source": [
    "![logo](../../picture/license_logo.png)\n",
    "> **Copyright &copy; 2020 - 2021 CertifAI Sdn. Bhd.**<br>\n",
    " <br>\n",
    "This program and the accompanying materials are made available under the\n",
    "terms of the [Apache License, Version 2.0](https://www.apache.org/licenses/LICENSE-2.0). \\\n",
    "Unless required by applicable law or agreed to in writing, software\n",
    "distributed under the License is distributed on an \"AS IS\" BASIS, WITHOUT\n",
    "WARRANTIES OR CONDITIONS OF ANY KIND, either express or implied. See the\n",
    "License for the specific language governing permissions and limitations\n",
    "under the License. <br>\n",
    "<br>**SPDX-License-Identifier: Apache-2.0**"
   ]
  },
  {
   "cell_type": "markdown",
   "metadata": {},
   "source": [
    "# Univariate LSTM, Multi-Step Forecast\n",
    "\n",
    "## Introduction\n",
    "This tutorial is to demonstrate the process of building an LSTM model for Univariate Time Series Data for Multi Step. The flow of building the LSTM model is the same as in the Univariate Single Step, with an only difference being in the **Data Sequencing** part.<br> \n",
    "\n",
    "This notebook consists of 2 major parts which are:<br> \n",
    "\n",
    "Part 1 - The Demonstration of Building LSTM using Synthetic data.<br>\n",
    "Part 2 - Exercise of building LSTM using shampoo sales data.<br> \n",
    "\n",
    ">**Instruction** : <br>\n",
    "The instructor will code with you and guide you in the process of building the LSTM model using Synthetic data.<br>\n",
    "You are required to complete the exercise after the demonstration.\n",
    "\n",
    "## What will we accomplish?\n",
    "First, we will show the steps in building the LSTM:<br> \n",
    "\n",
    "Step 1. Data Preparation (Data Splitting,Data Sequencing,Data Scaling and Batching the Data). <br> \n",
    "Step 2. Model Configuration (Vanila LSTM , Stacked LSTM , Bidirectional LSTM). <br> \n",
    "Step 3. Train the model. <br> \n",
    "Step 4. Validate the model using graph.  <br> \n",
    "Step 5. Evaluation Metrics such as MSE. <br> \n",
    "Step 6. Plot the forecast result.\n",
    "\n",
    "Secondly, learn to use Python Dictionaries to make the code more manageable.\n",
    "\n",
    "Let's import the package needed."
   ]
  },
  {
   "cell_type": "code",
   "execution_count": 1,
   "metadata": {},
   "outputs": [],
   "source": [
    "#import packages needed\n",
    "import numpy as np\n",
    "import pandas as pd\n",
    "import matplotlib.pyplot as plt\n",
    "import torch\n",
    "import torch.nn as nn\n",
    "from torch.utils.data import DataLoader,TensorDataset\n",
    "from sklearn.metrics import mean_squared_error\n",
    "from sklearn.preprocessing import StandardScaler,MinMaxScaler\n",
    "import math\n",
    "from matplotlib.lines import Line2D\n",
    "from torchsummaryX import summary\n",
    "\n",
    "# To auto load the customise module\n",
    "%load_ext autoreload\n",
    "%autoreload 2\n",
    "import deep_learning_module\n",
    "import data_module"
   ]
  },
  {
   "cell_type": "markdown",
   "metadata": {},
   "source": [
    "# Part 1 : Demonstration of Building LSTM using Synthetic data"
   ]
  },
  {
   "cell_type": "markdown",
   "metadata": {},
   "source": [
    "## Hyperparameter\n",
    "Define the tuneable hyperparameters of the model."
   ]
  },
  {
   "cell_type": "code",
   "execution_count": 2,
   "metadata": {},
   "outputs": [],
   "source": [
    "split_ratio = 0.70\n",
    "num_epochs = 60\n",
    "window_size = 2\n",
    "batch_size = 2\n",
    "n_step = 2\n"
   ]
  },
  {
   "cell_type": "markdown",
   "metadata": {},
   "source": [
    "# Step 1 : Data Preparation\n",
    "We're creating a set of synthetic data to have something to work with and understand the process of creating a model better.<br>\n",
    "\n",
    "1. We will create a sequence of data with `np.array`.\n",
    "2. Then, we will assign a date to the sequence of data with `pd.date_range` and store it in a series format by using `pd.Series`."
   ]
  },
  {
   "cell_type": "code",
   "execution_count": 3,
   "metadata": {},
   "outputs": [
    {
     "name": "stdout",
     "output_type": "stream",
     "text": [
      "(40,)\n"
     ]
    },
    {
     "data": {
      "text/plain": [
       "array([  0,  10,  20,  30,  40,  50,  60,  70,  80,  90, 100, 110, 120,\n",
       "       130, 140, 150, 160, 170, 180, 190, 200, 210, 220, 230, 240, 250,\n",
       "       260, 270, 280, 290, 300, 310, 320, 330, 340, 350, 360, 370, 380,\n",
       "       390])"
      ]
     },
     "execution_count": 3,
     "metadata": {},
     "output_type": "execute_result"
    }
   ],
   "source": [
    "# Synthetic Data\n",
    "univariate_series = np.array([x for x in range(0, 400, 10)])\n",
    "print(univariate_series.shape)\n",
    "univariate_series"
   ]
  },
  {
   "cell_type": "code",
   "execution_count": 4,
   "metadata": {},
   "outputs": [
    {
     "data": {
      "text/plain": [
       "2020-01-01     0\n",
       "2020-01-02    10\n",
       "2020-01-03    20\n",
       "2020-01-04    30\n",
       "2020-01-05    40\n",
       "Freq: D, dtype: int32"
      ]
     },
     "execution_count": 4,
     "metadata": {},
     "output_type": "execute_result"
    }
   ],
   "source": [
    "univariate_series = pd.Series(univariate_series,pd.date_range(\"1/1/2020\",\n",
    "                                                             periods=len(univariate_series),\n",
    "                                                            freq='D'))\n",
    "univariate_series.head()"
   ]
  },
  {
   "cell_type": "markdown",
   "metadata": {},
   "source": [
    "## Data Visualization\n",
    "Data visualization is important for us to visualize the pattern of data such as trend and seasonality. As seen in the graph below, there is an increasing trend in the data.\n",
    "\n",
    ">**Instruction** : <br>\n",
    "Plot the graph using `univariate_series.plot` with the title `Synthetic Data\"`"
   ]
  },
  {
   "cell_type": "code",
   "execution_count": 5,
   "metadata": {},
   "outputs": [
    {
     "data": {
      "text/plain": [
       "Text(0.5, 1.0, 'Synthetic Data')"
      ]
     },
     "execution_count": 5,
     "metadata": {},
     "output_type": "execute_result"
    },
    {
     "data": {
      "image/png": "[encoded data removed]",
      "text/plain": [
       "<Figure size 432x288 with 1 Axes>"
      ]
     },
     "metadata": {
      "needs_background": "light"
     },
     "output_type": "display_data"
    }
   ],
   "source": [
    "### BEGIN SOLUTION\n",
    "\n",
    "univariate_series.plot()\n",
    "plt.title(\"Synthetic Data\")\n",
    "\n",
    "### BEGIN SOLUTION"
   ]
  },
  {
   "cell_type": "markdown",
   "metadata": {},
   "source": [
    "## Data Splitting\n",
    "In Deep Learning, we will split the data into training and test dataset. The training data is used to train the model where the test data is used to validate the performance of the model.\n",
    ">**Instruction** : <br>\n",
    "Split the data by indexing. Remember to split the time index for later use. "
   ]
  },
  {
   "cell_type": "code",
   "execution_count": 6,
   "metadata": {},
   "outputs": [
    {
     "data": {
      "text/plain": [
       "28"
      ]
     },
     "execution_count": 6,
     "metadata": {},
     "output_type": "execute_result"
    }
   ],
   "source": [
    "split_data = round(len(univariate_series)*split_ratio)\n",
    "split_data"
   ]
  },
  {
   "cell_type": "code",
   "execution_count": 7,
   "metadata": {},
   "outputs": [
    {
     "name": "stdout",
     "output_type": "stream",
     "text": [
      "train_data_shape\n",
      "(28,)\n",
      "test_data_shape\n",
      "(12,)\n"
     ]
    }
   ],
   "source": [
    "#split data by indexing \n",
    "train_data = univariate_series[:split_data]\n",
    "test_data = univariate_series[split_data:]\n",
    "\n",
    "train_time = univariate_series.index[:split_data]\n",
    "test_time = univariate_series.index[split_data:]\n",
    "print(\"train_data_shape\")\n",
    "print(train_data.shape)\n",
    "print(\"test_data_shape\")\n",
    "print(test_data.shape)"
   ]
  },
  {
   "cell_type": "markdown",
   "metadata": {},
   "source": [
    "## Data Standardization\n",
    "Standardize the data to have 0 mean and unit variance in order to make our model converge faster\n",
    ">**Instruction** : <br>\n",
    "Use `StandardScaler()` as the scaler for the data. Create scaled data using `scaler.transform` and store in respective `train_data_standard` and `test_data_standard`"
   ]
  },
  {
   "cell_type": "code",
   "execution_count": 8,
   "metadata": {},
   "outputs": [],
   "source": [
    "# Build the standard scaler, Use to fit the train data and take the statistic of train data of train data to apply in test data.\n",
    "scaler = StandardScaler().fit(train_data.values.reshape(-1, 1))\n",
    "train_data_standard = scaler.transform(train_data.values.reshape(-1, 1))\n",
    "test_data_standard = scaler.transform(test_data.values.reshape(-1, 1))"
   ]
  },
  {
   "cell_type": "code",
   "execution_count": 9,
   "metadata": {},
   "outputs": [
    {
     "name": "stdout",
     "output_type": "stream",
     "text": [
      "train_data_standard shape : (28, 1)\n",
      "test_data_standard shape : (12, 1)\n"
     ]
    }
   ],
   "source": [
    "print(f\"train_data_standard shape : {train_data_standard.shape}\")\n",
    "print(f\"test_data_standard shape : {test_data_standard.shape}\")"
   ]
  },
  {
   "cell_type": "markdown",
   "metadata": {},
   "source": [
    "## Data Sequencing\n",
    "Sequencing the data by taking in the univariate series into `feature` and `label`\n",
    "<img src = \"../../picture/Data Sequencing in Univariate Multi-step.png\"  width=\"300\" height  =\"300\" align=\"center\" />\n",
    ">**Instruction** : <br>\n",
    "You might need to use the sequencing function in `data_module` that will be able to perform the sliding window to create the multi-step univariate data."
   ]
  },
  {
   "cell_type": "code",
   "execution_count": 10,
   "metadata": {},
   "outputs": [
    {
     "name": "stdout",
     "output_type": "stream",
     "text": [
      "trainX shape:(25, 2, 1) trainY shape:(25, 2, 1)\n",
      "\n",
      "testX shape:(9, 2, 1) testY shape:(9, 2, 1)\n"
     ]
    }
   ],
   "source": [
    "### BEGIN SOLUTION\n",
    "trainX ,trainY =  data_module.univariate_multi_step(train_data_standard,window_size,n_step)\n",
    "testX , testY = data_module.univariate_multi_step(test_data_standard,window_size,n_step)\n",
    "### END SOLUTION\n",
    "print(f\"trainX shape:{trainX.shape} trainY shape:{trainY.shape}\\n\")\n",
    "print(f\"testX shape:{testX.shape} testY shape:{testY.shape}\")"
   ]
  },
  {
   "cell_type": "markdown",
   "metadata": {},
   "source": [
    "As you can see that the label data after sequence will have an additional dimension where the label dimension in [04 - LSTM_Univariate_SingleStep #Data Sequencing](./04%20-%20LSTM_Univariate_SingleStep.ipynb). : <br>\n",
    "`trainY shape:(26, 1)`<br>\n",
    "`testY shape: (10, 1)`<br>\n",
    "\n",
    "Hence, we need to modify our training function in the `deep_learning_module` by adding an additional dimension in the training and the testing.<br>\n",
    "`y_train_pred=torch.reshape(y_train_pred,(train_Y.shape[0],train_Y.shape[1],train_Y.shape[2]))`<br>\n",
    "`y_test_pred=torch.reshape(y_test_pred,(test_Y.shape[0],test_Y.shape[1],test_Y.shape[2]))`<br>\n",
    ">**Instruction** : <br>\n",
    "Follow the instructor guidance to modify the `deep_learning_module`. "
   ]
  },
  {
   "cell_type": "markdown",
   "metadata": {},
   "source": [
    "After modifying the training function, we will create two dictionaries named `train_data_dictionary` , `test_data_dictionary` by creating a function name called  `key_assign`.These two dictionary will be applied in most of the following function..\n",
    ">**Instruction** : <br>\n",
    "Follow the instructor guidance to create the `key_assign` function."
   ]
  },
  {
   "cell_type": "code",
   "execution_count": 11,
   "metadata": {},
   "outputs": [],
   "source": [
    "def key_assign(trainingX,testingX,trainingY,testingY):\n",
    "    \"\"\" \n",
    "    Use to assign  the key to create the train_data_dict and test_data_dict\n",
    "    \n",
    "    Arguments:\n",
    "    trainingX -- feature for traning data \n",
    "    testingX -- feature for testing data\n",
    "    trainingY -- label for traning data\n",
    "    testingY -- label for testing data\n",
    "    \n",
    "    Returns: \n",
    "    train_data_dict -- dictionary of trainingX and trainingY\n",
    "    test_data_dict -- dictionary of testingX and testingY\n",
    "    \"\"\"\n",
    "    ### BEGIN SOLUTION\n",
    "    \n",
    "    # Create a dictionary that can store the train set feature and label\n",
    "    train_data_dict = {\"train_data_x_feature\" : trainingX, \"train_data_y_label\" : trainingY}\n",
    "    \n",
    "    # Create a dictionary that can store the test set feature and label\n",
    "    test_data_dict  = {\"test_data_x_feature\" : testingX , \"test_data_y_label\" : testingY }\n",
    "    \n",
    "    ### END SOLUTION\n",
    "    return train_data_dict , test_data_dict\n",
    "\n",
    "train_data_dictionary , test_data_dictionary = key_assign(trainingX = trainX,\n",
    "                                 testingX = testX,\n",
    "                                 trainingY = trainY,\n",
    "                                 testingY = testY)\n"
   ]
  },
  {
   "cell_type": "markdown",
   "metadata": {},
   "source": [
    "## Data Transform\n",
    "Before we train the model, we need to transform our data from `ndarray` to `torch tensor`. It is almost the same process with the data transform in [04 - LSTM_Univariate_SingleStep #Data Transform](./04%20-%20LSTM_Univariate_SingleStep.ipynb)<br>\n",
    "But this time we are trying to use the `train_data_dict` and `test_data_dict` to perform the data transform.\n",
    ">**Instruction** : <br>\n",
    "Follow the instructor guidance to create the `transform` function."
   ]
  },
  {
   "cell_type": "code",
   "execution_count": 12,
   "metadata": {},
   "outputs": [],
   "source": [
    "def transform(train_data_dict, test_data_dict):\n",
    "    \"\"\" \n",
    "    Transform the NumPy data to torch tensor\n",
    "    \n",
    "    Arguments:\n",
    "    train_data_dict -- train data dictionary \n",
    "    test_data_dict -- test data dictionary\n",
    "    \n",
    "    Returns: \n",
    "    train_data_dict -- train data dictionary \n",
    "    test_data_dict -- test data dictionary\n",
    "    \"\"\"\n",
    "    ### BEGIN SOLUTION\n",
    "    for train_datapoint in train_data_dict:\n",
    "        train_data_dict[train_datapoint] =  torch.from_numpy(train_data_dict[train_datapoint]).type(torch.Tensor)\n",
    "        \n",
    "    for test_datapoint in test_data_dict:\n",
    "        test_data_dict[test_datapoint] = torch.from_numpy(test_data_dict[test_datapoint]).type(torch.Tensor)\n",
    "        \n",
    "    ### END SOLUTION\n",
    "\n",
    "    return train_data_dict,test_data_dict\n",
    "\n",
    "train_data_dictionary,test_data_dictionary = transform(train_data_dictionary,test_data_dictionary)"
   ]
  },
  {
   "cell_type": "markdown",
   "metadata": {},
   "source": [
    "Perform a sanity check of the shape to make sure the transform is correct\n",
    ">**Instruction** : <br>\n",
    "Follow the instructor guidance to create the `sanity_check` function"
   ]
  },
  {
   "cell_type": "code",
   "execution_count": 13,
   "metadata": {},
   "outputs": [],
   "source": [
    "def sanity_check(data_1,data_2):\n",
    "    \"\"\" \n",
    "    Print the shape of data_1 and data_2\n",
    "    \n",
    "    Arguments:\n",
    "    data_1 -- (dict) type of data\n",
    "    data_2 -- (dict) type of data \n",
    "    \"\"\"\n",
    "    \n",
    "    ### BEGIN SOLUTION\n",
    "\n",
    "    for key_1 in data_1:\n",
    "        print(key_1 +\" shape : \" + str(data_1[key_1].shape))\n",
    "    for key_2 in data_2:\n",
    "        print(key_2 +\" shape : \" + str(data_2[key_2].shape))\n",
    "        \n",
    "    ### END SOLUTION"
   ]
  },
  {
   "cell_type": "code",
   "execution_count": 14,
   "metadata": {},
   "outputs": [
    {
     "name": "stdout",
     "output_type": "stream",
     "text": [
      "train_data_x_feature shape : torch.Size([25, 2, 1])\n",
      "train_data_y_label shape : torch.Size([25, 2, 1])\n",
      "test_data_x_feature shape : torch.Size([9, 2, 1])\n",
      "test_data_y_label shape : torch.Size([9, 2, 1])\n"
     ]
    }
   ],
   "source": [
    "# Sanity check\n",
    "sanity_check(train_data_dictionary,test_data_dictionary)"
   ]
  },
  {
   "cell_type": "markdown",
   "metadata": {},
   "source": [
    "## Data Iterator\n",
    "Iterator is created to separate the data into several batches to fasten the training process\n",
    "\n",
    "1. First, we will use `TensorDataset` to \"wrap\" the feature and label together \n",
    "2. Then, use `DataLoader` to create the iterator base on the `batch_size`. \n",
    "\n",
    ">`shuffle = False` will be select since we don't want it to break the sequence information between each data<br>\n",
    "\n",
    "This time, we'll  create a function by taking in the `train_data_dict`,`test_data_dict` as input to create the iterator\n",
    ">**Instruction** : <br>\n",
    "Follow the instructor guidance to create the `iterator` function\n"
   ]
  },
  {
   "cell_type": "code",
   "execution_count": 15,
   "metadata": {},
   "outputs": [],
   "source": [
    "# Create Iterator\n",
    "def iterator(train_data_dict,test_data_dict,batch_size):\n",
    "    \"\"\" \n",
    "    Create iterator for train data and test data \n",
    "    \n",
    "    Arguments:\n",
    "    train_data_dict -- train data dictionary \n",
    "    test_data_dict -- test data dictionary\n",
    "    \n",
    "    Returns: \n",
    "    train_iter -- train data iterator \n",
    "    test_iter -- test data iterator \n",
    "    \"\"\"\n",
    "    ### BEGIN SOLUTION\n",
    "    train_dataset = TensorDataset(train_data_dict[\"train_data_x_feature\" ],\n",
    "                                  train_data_dict[\"train_data_y_label\"])\n",
    "    train_iter = DataLoader(train_dataset,batch_size=batch_size,shuffle=False)\n",
    "\n",
    "    test_dataset = TensorDataset(test_data_dict[\"test_data_x_feature\"],\n",
    "                                 test_data_dict[\"test_data_y_label\"])\n",
    "    test_iter = DataLoader(test_dataset,batch_size=batch_size,shuffle=False)\n",
    "    ### END SOLUTION\n",
    "    \n",
    "    return train_iter , test_iter\n",
    "\n",
    "train_iter , test_iter = iterator(train_data_dictionary,test_data_dictionary,batch_size)"
   ]
  },
  {
   "cell_type": "markdown",
   "metadata": {},
   "source": [
    "# Step 2 : LSTM Model Configuration \n",
    "Please refer to [04 - LSTM_Univariate_SingleStep # Step 2 : LSTM Model Configuration ](./04%20-%20LSTM_Univariate_SingleStep.ipynb) for the explanation"
   ]
  },
  {
   "cell_type": "markdown",
   "metadata": {},
   "source": [
    "## Input Model\n",
    "\n",
    "The model is initiated with the following required attributes: **number of input layer**, **output layer** and **hidden layer**.\n",
    "\n",
    "How to Use :\n",
    "\n",
    "1. Select one of the model base on the application as below and comment others model<br>\n",
    "2. IF use Vanila LSTM , set num_layer = 1 and use the model = LSTM()<br>\n",
    "3. IF use stacked LSTM , set num_layer more than 1 and use the model = LSTM()<br>\n",
    "4. IF use Bidirectional LSTM, use the model = BidirectionalLSTM()<br>\n",
    "\n",
    ">**Instruction** : <br>\n",
    "Follow the instructor guidance to use the LSTM configuration from the `deep_learning_module`.\n"
   ]
  },
  {
   "cell_type": "code",
   "execution_count": 16,
   "metadata": {},
   "outputs": [],
   "source": [
    "# seed\n",
    "torch.manual_seed(123)\n",
    "\n",
    "#Arguments for LSTM model\n",
    "hidden_dim = 10\n",
    "n_feature = 1 \n",
    "n_step = 2\n",
    "\n",
    "#1 for vanila LSTM , >1 is mean stacked LSTM\n",
    "num_layers = 1 \n",
    "\n",
    "### BEGIN SOLUTION\n",
    "#Vanila , Stacked LSTM\n",
    "model = deep_learning_module.LSTM(n_feature = n_feature ,\n",
    "                         hidden_dim = hidden_dim ,\n",
    "                         num_layers = num_layers,\n",
    "                         n_step = n_step)\n",
    "\n",
    "#Bidirectional LSTM\n",
    "# model = deep_learning_module.BidirectionalLSTM(n_feature = n_feature ,\n",
    "#                          hidden_dim = hidden_dim ,\n",
    "#                          num_layers = num_layers,\n",
    "#                          n_step = n_step)\n",
    "### END SOLUTION"
   ]
  },
  {
   "cell_type": "markdown",
   "metadata": {},
   "source": [
    "Define the MSE as loss function and using Adam as the model optimizer"
   ]
  },
  {
   "cell_type": "code",
   "execution_count": 17,
   "metadata": {},
   "outputs": [],
   "source": [
    "#loss function \n",
    "loss_fn = torch.nn.MSELoss()\n",
    "\n",
    "#optimiser\n",
    "optimizer = torch.optim.Adam(model.parameters(), lr=0.01)"
   ]
  },
  {
   "cell_type": "code",
   "execution_count": 18,
   "metadata": {},
   "outputs": [
    {
     "name": "stdout",
     "output_type": "stream",
     "text": [
      "===================================================\n",
      "       Kernel Shape Output Shape  Params  Mult-Adds\n",
      "Layer                                              \n",
      "0_lstm            -   [2, 2, 10]     520        440\n",
      "1_fc        [10, 2]       [2, 2]      22         20\n",
      "---------------------------------------------------\n",
      "                      Totals\n",
      "Total params             542\n",
      "Trainable params         542\n",
      "Non-trainable params       0\n",
      "Mult-Adds                460\n",
      "===================================================\n",
      "       Kernel Shape Output Shape  Params  Mult-Adds\n",
      "Layer                                              \n",
      "0_lstm            -   [2, 2, 10]     520        440\n",
      "1_fc        [10, 2]       [2, 2]      22         20\n"
     ]
    }
   ],
   "source": [
    "inputs = torch.zeros((batch_size,window_size,1),dtype=torch.float) # batch size , seq_length , input_dim\n",
    "print(summary(model,inputs))"
   ]
  },
  {
   "cell_type": "markdown",
   "metadata": {},
   "source": [
    "# Step 3 : Training\n",
    ">**Instruction** : <br>\n",
    "Follow the instructor guidance to use the `training` function from the `deep_learning_module`"
   ]
  },
  {
   "cell_type": "code",
   "execution_count": 19,
   "metadata": {},
   "outputs": [],
   "source": [
    "# Start Training \n",
    "torch.manual_seed(123)\n",
    "train_loss,val_loss = deep_learning_module.training(num_epochs,train_iter,test_iter,optimizer,loss_fn,model)"
   ]
  },
  {
   "cell_type": "markdown",
   "metadata": {},
   "source": [
    "# Step 4 : Validation\n",
    "A train loss and val loss is plotted to define how well the data is fitting the model"
   ]
  },
  {
   "cell_type": "code",
   "execution_count": 20,
   "metadata": {
    "scrolled": true
   },
   "outputs": [
    {
     "data": {
      "image/png": "[encoded data removed]",
      "text/plain": [
       "<Figure size 720x432 with 1 Axes>"
      ]
     },
     "metadata": {
      "needs_background": "light"
     },
     "output_type": "display_data"
    },
    {
     "name": "stdout",
     "output_type": "stream",
     "text": [
      "Epoch : 0 , training loss : 0.8443968538939953 , validation loss : 5.601115332709418\n",
      "Epoch : 1 , training loss : 0.581803732663393 , validation loss : 4.743873861100939\n",
      "Epoch : 2 , training loss : 0.2952052553743124 , validation loss : 3.5546370612250433\n",
      "Epoch : 3 , training loss : 0.048428872178774326 , validation loss : 2.2803226047092013\n",
      "Epoch : 4 , training loss : 0.056232127360999584 , validation loss : 1.6957567400402493\n",
      "Epoch : 5 , training loss : 0.026377766523510218 , validation loss : 1.6291644308302138\n",
      "Epoch : 6 , training loss : 0.019731516893953086 , validation loss : 1.402187877231174\n",
      "Epoch : 7 , training loss : 0.019590658619999885 , validation loss : 1.1879600485165913\n",
      "Epoch : 8 , training loss : 0.01713146744295955 , validation loss : 1.113423552778032\n",
      "Epoch : 9 , training loss : 0.014501050040125847 , validation loss : 1.0493167638778687\n",
      "Epoch : 10 , training loss : 0.012740965038537978 , validation loss : 0.9737101727061801\n",
      "Epoch : 11 , training loss : 0.010865259869024157 , validation loss : 0.9158719115787082\n",
      "Epoch : 12 , training loss : 0.009409838658757507 , validation loss : 0.8572844598028395\n",
      "Epoch : 13 , training loss : 0.008213418098166584 , validation loss : 0.80440663629108\n",
      "Epoch : 14 , training loss : 0.007225535199977457 , validation loss : 0.7557707164022658\n",
      "Epoch : 15 , training loss : 0.0063100512837991115 , validation loss : 0.7130086223284403\n",
      "Epoch : 16 , training loss : 0.005652649365365505 , validation loss : 0.6708354387018416\n",
      "Epoch : 17 , training loss : 0.004818877940997481 , validation loss : 0.6363442871305678\n",
      "Epoch : 18 , training loss : 0.004538655038923025 , validation loss : 0.5963315301471286\n",
      "Epoch : 19 , training loss : 0.003558543948456645 , validation loss : 0.5714818901485867\n",
      "Epoch : 20 , training loss : 0.004221208805684 , validation loss : 0.5272062884436713\n",
      "Epoch : 21 , training loss : 0.0028561984736006707 , validation loss : 0.5221194525559744\n",
      "Epoch : 22 , training loss : 0.007955828672274947 , validation loss : 0.4567398495144314\n",
      "Epoch : 23 , training loss : 0.01016825317114126 , validation loss : 0.518344004948934\n",
      "Epoch : 24 , training loss : 0.043533396433340386 , validation loss : 0.36336729096041787\n",
      "Epoch : 25 , training loss : 0.07578503739088774 , validation loss : 0.6507742934756808\n",
      "Epoch : 26 , training loss : 0.1604736398672685 , validation loss : 0.37067655887868667\n",
      "Epoch : 27 , training loss : 0.06005723860114813 , validation loss : 0.517002307706409\n",
      "Epoch : 28 , training loss : 0.031973335930015306 , validation loss : 0.5660140348805321\n",
      "Epoch : 29 , training loss : 0.014675354585051537 , validation loss : 0.8291154172685411\n",
      "Epoch : 30 , training loss : 0.009551551488693804 , validation loss : 0.6778555611769358\n",
      "Epoch : 31 , training loss : 0.004951549394754693 , validation loss : 0.7332740988996294\n",
      "Epoch : 32 , training loss : 0.004544423462357372 , validation loss : 0.6258285045623779\n",
      "Epoch : 33 , training loss : 0.00328533918102039 , validation loss : 0.6029523346159193\n",
      "Epoch : 34 , training loss : 0.003001093949424103 , validation loss : 0.5515361295806037\n",
      "Epoch : 35 , training loss : 0.002213938732165843 , validation loss : 0.5325907667477926\n",
      "Epoch : 36 , training loss : 0.002089779658708721 , validation loss : 0.49781233900123173\n",
      "Epoch : 37 , training loss : 0.001446074231644161 , validation loss : 0.4857350207037396\n",
      "Epoch : 38 , training loss : 0.001637290231010411 , validation loss : 0.45309242937299943\n",
      "Epoch : 39 , training loss : 0.001135094870987814 , validation loss : 0.44967736800511676\n",
      "Epoch : 40 , training loss : 0.0020267029308161 , validation loss : 0.4141851282782025\n",
      "Epoch : 41 , training loss : 0.002114293815102428 , validation loss : 0.42781394223372143\n",
      "Epoch : 42 , training loss : 0.005679773868578195 , validation loss : 0.3803178949488534\n",
      "Epoch : 43 , training loss : 0.010475232638418675 , validation loss : 0.439664567510287\n",
      "Epoch : 44 , training loss : 0.026721569783985613 , validation loss : 0.3547441263993581\n",
      "Epoch : 45 , training loss : 0.053052320033311846 , validation loss : 0.5817157891061571\n",
      "Epoch : 46 , training loss : 0.08628737889230251 , validation loss : 0.3613697654671139\n",
      "Epoch : 47 , training loss : 0.06093374527990818 , validation loss : 0.7173487080468072\n",
      "Epoch : 48 , training loss : 0.046403850121423604 , validation loss : 0.46347134643130833\n",
      "Epoch : 49 , training loss : 0.012736940160393714 , validation loss : 0.7276589605543349\n",
      "Epoch : 50 , training loss : 0.006409528669901192 , validation loss : 0.5648200313250223\n",
      "Epoch : 51 , training loss : 0.002980920468107797 , validation loss : 0.6191130015585158\n",
      "Epoch : 52 , training loss : 0.002372425650828518 , validation loss : 0.5360592421558168\n",
      "Epoch : 53 , training loss : 0.001586791264708154 , validation loss : 0.5203840268982781\n",
      "Epoch : 54 , training loss : 0.001299291676550638 , validation loss : 0.48578471276495194\n",
      "Epoch : 55 , training loss : 0.0009470877356216079 , validation loss : 0.4713764141003291\n",
      "Epoch : 56 , training loss : 0.000785513632799848 , validation loss : 0.452349078324106\n",
      "Epoch : 57 , training loss : 0.0005898963683284819 , validation loss : 0.4428258687257767\n",
      "Epoch : 58 , training loss : 0.0005301569250150351 , validation loss : 0.4283558494514889\n",
      "Epoch : 59 , training loss : 0.0004182228265563026 , validation loss : 0.4229372839132945\n"
     ]
    }
   ],
   "source": [
    "data_module.learning_curve(num_epochs,train_loss,val_loss)"
   ]
  },
  {
   "cell_type": "code",
   "execution_count": 21,
   "metadata": {},
   "outputs": [
    {
     "data": {
      "image/png": "[encoded data removed]",
      "text/plain": [
       "<Figure size 720x432 with 1 Axes>"
      ]
     },
     "metadata": {
      "needs_background": "light"
     },
     "output_type": "display_data"
    }
   ],
   "source": [
    "data_module.zoom_learning_curve(start_epoch = 50,\n",
    "                                end_epoch =60 ,\n",
    "                                training_loss = train_loss,\n",
    "                                validation_loss = val_loss)"
   ]
  },
  {
   "cell_type": "markdown",
   "metadata": {},
   "source": [
    "# Step 5 : Evaluation\n",
    "This section is to inference the model by feeding in testing data and determining the output forecast value and calculate the RMSE. For this tutorial, we will use the Python Dictionaries concept to create the function to run in each section.\n",
    ">**Instruction** : <br>\n",
    "Follow the instructor guidance to create the function for each section<br>\n",
    "\n",
    "It consists of 4 sections :\n",
    "\n",
    "Section 1 : Feed in the train and test data to the model <br>\n",
    "Section 2 : Reshape both to the original data dimension <br> \n",
    "Section 3 : Invert the scaling back to the original data value <br>\n",
    "Section 4 : Calculate the RMSE of train and test data"
   ]
  },
  {
   "cell_type": "code",
   "execution_count": 22,
   "metadata": {},
   "outputs": [],
   "source": [
    "# Section 1 : Feed in the train and test data to the model\n",
    "with torch.no_grad():\n",
    "    y_train_prediction = model(train_data_dictionary[\"train_data_x_feature\"])\n",
    "    y_test_prediction = model(test_data_dictionary[\"test_data_x_feature\"])\n",
    "    \n",
    "\n"
   ]
  },
  {
   "cell_type": "markdown",
   "metadata": {},
   "source": [
    "We will create two new dictionary namely `prediction` and `output_data`.<br>\n",
    "The `prediction` dictionary is to store the prediction of the model for both train data and test data .<br>\n",
    "The `output_data` dictionary is to store the label data for both train data and test data.<br>\n",
    ">**Instruction** : <br>\n",
    "Follow the instructor guidance to create the `key_assign_evaluation` function\n"
   ]
  },
  {
   "cell_type": "code",
   "execution_count": 23,
   "metadata": {},
   "outputs": [],
   "source": [
    "def key_assign_evaluation(y_train_prediction,\n",
    "                          y_test_prediction,\n",
    "                          train_data_dictionary,\n",
    "                          test_data_dictionary):\n",
    "    \"\"\" \n",
    "    Assign key for prediction and output data dictionary \n",
    "    \n",
    "    Arguments:\n",
    "    y_train_prediction -- (tensor) prediction for training data\n",
    "    y_test_prediction -- (tensor) prediction for test data\n",
    "    train_data_dictionary -- (dict) train data dictionary\n",
    "    test_data_dictionary -- (dict) test data dictionary\n",
    "    \n",
    "    \n",
    "    Returns: \n",
    "    prediction -- (dict) dictionary that consists of prediction from train data and test data\n",
    "    output_data -- (dict) dictionary that consists of output(label) from train data and test data\n",
    "    \"\"\"\n",
    "    ### BEGIN SOLUTION\n",
    "    prediction ={\"train_data_prediction\" : y_train_prediction,\n",
    "            \"test_data_prediction\" :y_test_prediction }\n",
    "    output_data ={\"train_data_output\" : train_data_dictionary[\"train_data_y_label\"] ,\n",
    "               \"test_data_output\" : test_data_dictionary[\"test_data_y_label\"]}\n",
    "    ### END SOLUTION\n",
    "    return prediction , output_data\n",
    "\n",
    "prediction , output_data = key_assign_evaluation(y_train_prediction,y_test_prediction,\n",
    "                                                 train_data_dictionary,\n",
    "                                                 test_data_dictionary)     "
   ]
  },
  {
   "cell_type": "code",
   "execution_count": 24,
   "metadata": {},
   "outputs": [
    {
     "name": "stdout",
     "output_type": "stream",
     "text": [
      "train_data_prediction shape : torch.Size([25, 2])\n",
      "test_data_prediction shape : torch.Size([9, 2])\n",
      "train_data_output shape : torch.Size([25, 2, 1])\n",
      "test_data_output shape : torch.Size([9, 2, 1])\n"
     ]
    }
   ],
   "source": [
    "# Check the prediction and output shape\n",
    "sanity_check(data_1 = prediction,data_2 = output_data)"
   ]
  },
  {
   "cell_type": "markdown",
   "metadata": {},
   "source": [
    "The train and test output data (label data) will have an extra dimension of 1 as shown as in the `sanity_check`<br>\n",
    "\n",
    "`train_data_output shape : torch.Size([25, 2, 1])`<br>\n",
    "`test_data_output shape : torch.Size([9, 2, 1])`<br>\n",
    "\n",
    "Hence, we use `torch.squeeze` to eliminate the extra dimension of 1 to make sure it can be used to calculate the `RMSE` later.\n",
    ">**Instruction** : <br>\n",
    "Follow the instructor guidance to create the `squeeze_dimension` function.\n"
   ]
  },
  {
   "cell_type": "code",
   "execution_count": 1,
   "metadata": {},
   "outputs": [
    {
     "ename": "NameError",
     "evalue": "name 'output_data' is not defined",
     "output_type": "error",
     "traceback": [
      "\u001b[1;31m---------------------------------------------------------------------------\u001b[0m",
      "\u001b[1;31mNameError\u001b[0m                                 Traceback (most recent call last)",
      "\u001b[1;32m<ipython-input-1-8ec458de2bc8>\u001b[0m in \u001b[0;36m<module>\u001b[1;34m\u001b[0m\n\u001b[0;32m     16\u001b[0m     \u001b[1;32mreturn\u001b[0m \u001b[0moutput\u001b[0m\u001b[1;33m\u001b[0m\u001b[1;33m\u001b[0m\u001b[0m\n\u001b[0;32m     17\u001b[0m \u001b[1;33m\u001b[0m\u001b[0m\n\u001b[1;32m---> 18\u001b[1;33m \u001b[0moutput_data\u001b[0m \u001b[1;33m=\u001b[0m \u001b[0msqueeze_dimension\u001b[0m\u001b[1;33m(\u001b[0m\u001b[0moutput_data\u001b[0m\u001b[1;33m)\u001b[0m\u001b[1;33m\u001b[0m\u001b[1;33m\u001b[0m\u001b[0m\n\u001b[0m",
      "\u001b[1;31mNameError\u001b[0m: name 'output_data' is not defined"
     ]
    }
   ],
   "source": [
    "# Section 2 : Reshape both to the original data dimension\n",
    "def squeeze_dimension(output):\n",
    "    \"\"\" \n",
    "    Squeeze the dimension of output data\n",
    "    \n",
    "    Arguments:\n",
    "    output -- (dict) output_data\n",
    "    \n",
    "    Returns: \n",
    "    output_data -- (dict) output_data\n",
    "    \"\"\"\n",
    "    ### BEGIN SOLUTION\n",
    "    for key in output:\n",
    "        output[key] = torch.squeeze(output[key],2)\n",
    "    ### END SOLUTION\n",
    "    return output\n",
    "\n",
    "output_data = squeeze_dimension(output_data)"
   ]
  },
  {
   "cell_type": "code",
   "execution_count": 26,
   "metadata": {},
   "outputs": [
    {
     "name": "stdout",
     "output_type": "stream",
     "text": [
      "train_data_output shape : torch.Size([25, 2])\n",
      "test_data_output shape : torch.Size([9, 2])\n"
     ]
    }
   ],
   "source": [
    "# Check the output shape\n",
    "sanity_check(data_1 = output_data,data_2 = {})"
   ]
  },
  {
   "cell_type": "markdown",
   "metadata": {},
   "source": [
    ">**Instruction** : <br>\n",
    "Follow the instructor guidance to create the `inverse_scaler` function to scale back the scaled data to the original data value.\n"
   ]
  },
  {
   "cell_type": "code",
   "execution_count": 27,
   "metadata": {},
   "outputs": [],
   "source": [
    "# Section 3 : Invert the scaling back to orignal data value\n",
    "def inverse_scaler(scaled_data,scaler):\n",
    "    \"\"\" \n",
    "    Inverse the scaled data\n",
    "    \n",
    "    Arguments:\n",
    "    scaled_data -- (dict) data that being scaled \n",
    "    scaler -- scaler \n",
    "    \n",
    "    Returns: \n",
    "    scaled_data -- (dict) data after inverse scale\n",
    "    \"\"\"\n",
    "    ### BEGIN SOLUTION\n",
    "    for item in scaled_data:\n",
    "        scaled_data[item] =  scaler.inverse_transform(scaled_data[item].detach().numpy())\n",
    "    ### END SOLUTION\n",
    "    return scaled_data\n",
    "    \n",
    "prediction = inverse_scaler(prediction,scaler)\n",
    "output_data  = inverse_scaler(output_data ,scaler)\n"
   ]
  },
  {
   "cell_type": "code",
   "execution_count": 28,
   "metadata": {},
   "outputs": [
    {
     "name": "stdout",
     "output_type": "stream",
     "text": [
      "train_data_prediction shape : (25, 2)\n",
      "test_data_prediction shape : (9, 2)\n",
      "train_data_output shape : (25, 2)\n",
      "test_data_output shape : (9, 2)\n"
     ]
    }
   ],
   "source": [
    "sanity_check(data_1 = prediction,data_2 = output_data )"
   ]
  },
  {
   "cell_type": "markdown",
   "metadata": {},
   "source": [
    "\n",
    ">**Instruction** : <br>\n",
    "Follow the instructor guidance to create the `list_forecast_value` function to list the label (output) for test data and prediction side by side \n"
   ]
  },
  {
   "cell_type": "code",
   "execution_count": 29,
   "metadata": {},
   "outputs": [
    {
     "name": "stdout",
     "output_type": "stream",
     "text": [
      "Test Data\t\t\tForecast\n",
      "[300. 310.]\t\t[279.51312 290.955  ]\n",
      "[310. 320.]\t\t[283.2722  295.02792]\n",
      "[320. 330.]\t\t[286.44586 298.53497]\n",
      "[330. 340.]\t\t[289.10562 301.5451 ]\n",
      "[340. 350.]\t\t[291.31644 304.12073]\n",
      "[350. 360.]\t\t[293.13647 306.3172 ]\n",
      "[360. 370.]\t\t[294.61688 308.18304]\n",
      "[370. 380.]\t\t[295.80243 309.76035]\n",
      "[380. 390.]\t\t[296.73196 311.08557]\n"
     ]
    }
   ],
   "source": [
    "def list_forecast_value(output_data,prediction):\n",
    "    \"\"\" \n",
    "    To list the test output and prediction output side by side\n",
    "    \n",
    "    Arguments:\n",
    "    output_data --  (dict) output data dictionary\n",
    "    prediction -- (dict) prediction output dictionary\n",
    "    \"\"\"\n",
    "    ### BEGIN SOLUTION\n",
    "    print(\"Test Data\\t\\t\\tForecast\")\n",
    "    for test, forecast in zip(output_data[\"test_data_output\"],prediction[\"test_data_prediction\"]):   \n",
    "        print(f\"{test}\\t\\t{forecast}\")\n",
    "    ### END SOLUTION\n",
    "        \n",
    "list_forecast_value(output_data,prediction)        "
   ]
  },
  {
   "cell_type": "markdown",
   "metadata": {},
   "source": [
    ">**Instruction** : <br>\n",
    "Follow the instructor guidance to create the `rmse` function to calculate the RMSE of train and test data\n"
   ]
  },
  {
   "cell_type": "code",
   "execution_count": 30,
   "metadata": {},
   "outputs": [
    {
     "name": "stdout",
     "output_type": "stream",
     "text": [
      "Train Score: 1.55 RMSE\n",
      "Test Score: 52.53 RMSE\n"
     ]
    }
   ],
   "source": [
    "# Section 4 : Calculate the RMSE of train and test data\n",
    "def rmse(prediction,output_data):\n",
    "    \"\"\" \n",
    "    Calculate RMSE between output data and prediction data \n",
    "    \n",
    "    Arguments:\n",
    "    prediction -- (dict) prediction output dictionary\n",
    "    output_data --  (dict) output data dictionary\n",
    "    \n",
    "    Returns:\n",
    "    trainScore - RMSE of train dataset\n",
    "    testScore - RMSE of test dataset\n",
    "    \"\"\"\n",
    "    trainScore = math.sqrt(mean_squared_error(prediction[\"train_data_prediction\"], output_data[\"train_data_output\"]))\n",
    "    testScore = math.sqrt(mean_squared_error(prediction[\"test_data_prediction\"], output_data[\"test_data_output\"]))\n",
    "    return trainScore,testScore\n",
    "\n",
    "trainScore,testScore = rmse(prediction,output_data)\n",
    "print('Train Score: %.2f RMSE' % (trainScore))\n",
    "print('Test Score: %.2f RMSE' % (testScore))"
   ]
  },
  {
   "cell_type": "markdown",
   "metadata": {},
   "source": [
    "# Step 6 : Forecast Plot\n",
    "\n",
    ">**How to plot a multi-step forecast?**<br>\n",
    ">**Pipeline** : <br>\n",
    "    1. First, we store the test data and forecast data in the form of `DataFrame` using `pd.DataFrame`.<br>\n",
    "    2. Then, we slice the time index from the test time index base on the value in `window_size shampoo` to create new time index only for the data after the sliding window (data sequencing) <br>\n",
    "    3. Create a for loop to plot the data sequence by sequence<br>\n",
    "\n",
    ">**Optional function :**<br>\n",
    "    1. Turn the `original_plot = True` to observe how sliding window (data sequence) take place in the test data<br>\n",
    "    2. Assign `details = plot_details`  if you want to add details as such x-axis label , y-axis label,title<br>\n",
    "    \n",
    ">**Instruction** : <br>\n",
    "Follow the instructor guidance to create the `multi_step_plot` function\n"
   ]
  },
  {
   "cell_type": "code",
   "execution_count": 31,
   "metadata": {},
   "outputs": [],
   "source": [
    "plot_details ={\"x-axis\" : \"Day\",\n",
    "          \"y-axis\" : \"Values\",\n",
    "          \"title\"  : \"Synthetic Data\"\n",
    "         }"
   ]
  },
  {
   "cell_type": "code",
   "execution_count": 32,
   "metadata": {},
   "outputs": [],
   "source": [
    "# Plot forecast plot for multi-step\n",
    "def multi_step_plot(original_test_data,\n",
    "                    after_sequence_test_data ,\n",
    "                    forecast_data,test_time,window_size,\n",
    "                    n_step ,\n",
    "                    details = {},\n",
    "                    original_plot = False):\n",
    "    \n",
    "    \"\"\" \n",
    "    Plot the result of the multi-step forecast \n",
    "    \n",
    "    Arguments:\n",
    "    \n",
    "    original_test_data -- test data before sequence\n",
    "    \n",
    "    after_sequence_test_data -- (dict) output data dictionary\n",
    "    \n",
    "    forecast_data -- (dict) prediction data dictionary\n",
    "    \n",
    "    test_time --  time index for test data before sliding window (data sequence)\n",
    "    \n",
    "    window_size -- window size for the data sequence\n",
    "    \n",
    "    n_step -- the number of future step , 1 -> single >1 -> multi-step\n",
    "    \n",
    "    details -- (dict) details for plot such as \"x-axis\" ,\"y-axis\", \"title\"\n",
    "    \n",
    "    original_plot -- (boolean) True ->observe how sliding window (data sequence) take place in the test data\n",
    "    \n",
    "    \"\"\"\n",
    "    \n",
    "    after_sequence_test_data = after_sequence_test_data['test_data_output'] \n",
    "    forecast_data = forecast_data[\"test_data_prediction\"]\n",
    "    \n",
    "    # Plot Setting\n",
    "    plt.figure(figsize=(10,6))\n",
    "    plt.xticks(rotation=45)    \n",
    "    \n",
    "    # Store test and forecast data into DataFrame type \n",
    "    column_names = [\"timestep_\" + str(i) for i in range(after_sequence_test_data.shape[1])]\n",
    "    y_test_dataframe = pd.DataFrame(after_sequence_test_data,columns = column_names)\n",
    "    y_test_pred_dataframe =pd.DataFrame(forecast_data,columns = column_names)\n",
    "    \n",
    "    # Create time index for data after sequence\n",
    "    time_index_after_sequence = test_time[window_size:]\n",
    "    \n",
    "    # Test Data plot before sliding window(data sequencing)\n",
    "    if original_plot:\n",
    "        plt.plot(test_time,original_test_data,marker='x',color=\"blue\")\n",
    "\n",
    "    # For loop to plot the data step by step base on time index    \n",
    "    start_idx = 0 \n",
    "    for row in range(len(y_test_dataframe)):\n",
    "        \n",
    "        # Iterate the time index after sequence\n",
    "        time_index = time_index_after_sequence[start_idx:start_idx+n_step]\n",
    "        \n",
    "        # Plot the test data\n",
    "        plt.plot(time_index,y_test_dataframe.iloc[row],color=\"green\",marker='o')\n",
    "        \n",
    "        # Plot the forecast data\n",
    "        plt.plot(time_index,y_test_pred_dataframe.iloc[row],color=\"red\",marker='o')\n",
    "        \n",
    "        # Pointer for time_index_after_sequence\n",
    "        start_idx += 1\n",
    "        \n",
    "    # Customize the legend\n",
    "    custom_lines = [Line2D([0], [0], color=\"green\", lw=4),\n",
    "                Line2D([0], [0], color=\"red\", lw=4),\n",
    "                Line2D([0], [0], color=\"blue\", lw=4)]\n",
    "    plt.legend(custom_lines, ['Test Data After Sequencing', 'Forecast Data', 'Test Data Before Sequencing'])\n",
    "    \n",
    "    # Extra details - Optional function\n",
    "    if details != {}:\n",
    "        plt.xlabel(details[\"x-axis\"])\n",
    "        plt.ylabel(details[\"y-axis\"])\n",
    "        plt.title(details[\"title\"])\n",
    "    "
   ]
  },
  {
   "cell_type": "code",
   "execution_count": 33,
   "metadata": {},
   "outputs": [
    {
     "data": {
      "image/png": "[encoded data removed]",
      "text/plain": [
       "<Figure size 720x432 with 1 Axes>"
      ]
     },
     "metadata": {
      "needs_background": "light"
     },
     "output_type": "display_data"
    }
   ],
   "source": [
    "# Use the multi_step_plot function\n",
    "multi_step_plot(original_test_data = test_data,\n",
    "                after_sequence_test_data = output_data ,\n",
    "                forecast_data = prediction,\n",
    "                test_time = test_time,\n",
    "                window_size = window_size ,\n",
    "                n_step = n_step,\n",
    "                details = plot_details,\n",
    "                original_plot = False)"
   ]
  },
  {
   "cell_type": "markdown",
   "metadata": {},
   "source": [
    "***"
   ]
  },
  {
   "cell_type": "markdown",
   "metadata": {},
   "source": [
    "# Part 2 : Exercise for Univariate \n",
    "## Task : To create an LSTM model that can predict sales of shampoo in multi-step"
   ]
  },
  {
   "cell_type": "markdown",
   "metadata": {},
   "source": [
    "## Hyperparameter\n",
    ">**Instruction** : <br>\n",
    "You are required to fill `None` with a suitable value to make the model converge\n",
    "\n",
    ">**Expected Result** : <br>\n",
    "Train Score <= 60 RMSE<br>\n",
    "Test Score <= 120 RMSE<br>"
   ]
  },
  {
   "cell_type": "code",
   "execution_count": 34,
   "metadata": {},
   "outputs": [],
   "source": [
    "#Hyperparameter\n",
    "num_epochs_shampoo = 100\n",
    "split_ratio = 0.70\n",
    "n_step_shampoo = 2\n",
    "batch_size_shampoo = 2\n",
    "window_size_shampoo = 2\n",
    "\n",
    "#Hidden Layer for LSTM\n",
    "hidden_dim_shampoo = 32\n",
    "\n"
   ]
  },
  {
   "cell_type": "markdown",
   "metadata": {},
   "source": [
    "# Step 1 : Data Preparation\n",
    ">**Instruction** : <br>\n",
    "Read the file using `pd.read_csv`<br>\n",
    "Your file path `../../datasets/others/shampoo-sales.csv`\n",
    "Save your data as `shampoo`\n",
    "\n",
    ">**Expected Result** : <br>\n",
    "Example of the first 5 rows:\n",
    "\n",
    "month| sales\n",
    "---|---\n",
    "0| 1-01|    266.0\n",
    "1| 1-02|    145.9\n",
    "2| 1-03|    183.1\n",
    "3| 1-04|    119.3\n",
    "4| 1-05|    180.3"
   ]
  },
  {
   "cell_type": "code",
   "execution_count": 35,
   "metadata": {},
   "outputs": [
    {
     "data": {
      "text/html": [
       "<div>\n",
       "<style scoped>\n",
       "    .dataframe tbody tr th:only-of-type {\n",
       "        vertical-align: middle;\n",
       "    }\n",
       "\n",
       "    .dataframe tbody tr th {\n",
       "        vertical-align: top;\n",
       "    }\n",
       "\n",
       "    .dataframe thead th {\n",
       "        text-align: right;\n",
       "    }\n",
       "</style>\n",
       "<table border=\"1\" class=\"dataframe\">\n",
       "  <thead>\n",
       "    <tr style=\"text-align: right;\">\n",
       "      <th></th>\n",
       "      <th>month</th>\n",
       "      <th>sales</th>\n",
       "    </tr>\n",
       "  </thead>\n",
       "  <tbody>\n",
       "    <tr>\n",
       "      <th>0</th>\n",
       "      <td>1-01</td>\n",
       "      <td>266.0</td>\n",
       "    </tr>\n",
       "    <tr>\n",
       "      <th>1</th>\n",
       "      <td>1-02</td>\n",
       "      <td>145.9</td>\n",
       "    </tr>\n",
       "    <tr>\n",
       "      <th>2</th>\n",
       "      <td>1-03</td>\n",
       "      <td>183.1</td>\n",
       "    </tr>\n",
       "    <tr>\n",
       "      <th>3</th>\n",
       "      <td>1-04</td>\n",
       "      <td>119.3</td>\n",
       "    </tr>\n",
       "    <tr>\n",
       "      <th>4</th>\n",
       "      <td>1-05</td>\n",
       "      <td>180.3</td>\n",
       "    </tr>\n",
       "  </tbody>\n",
       "</table>\n",
       "</div>"
      ],
      "text/plain": [
       "  month  sales\n",
       "0  1-01  266.0\n",
       "1  1-02  145.9\n",
       "2  1-03  183.1\n",
       "3  1-04  119.3\n",
       "4  1-05  180.3"
      ]
     },
     "execution_count": 35,
     "metadata": {},
     "output_type": "execute_result"
    }
   ],
   "source": [
    "# Read CSV file \n",
    "\n",
    "### BEGIN SOLUTION\n",
    "shampoo = pd.read_csv('../../datasets/others/shampoo-sales.csv')\n",
    "### END SOLUTION\n",
    "\n",
    "shampoo.head() "
   ]
  },
  {
   "cell_type": "markdown",
   "metadata": {},
   "source": [
    ">**Instruction** : <br>\n",
    "Set the `dataframe` index as `month` using `df.set_index`\n",
    "\n",
    ">**Expected Result** <br>\n",
    "Example of the first 5 rows:\n",
    "\n",
    "month| month| sales\n",
    "---|---|---\n",
    "1-01| 1-01|    266.0\n",
    "1-02| 1-02|    145.9\n",
    "1-03| 1-03|    183.1\n",
    "1-04| 1-04|    119.3\n",
    "1-05| 1-05|    180.3"
   ]
  },
  {
   "cell_type": "code",
   "execution_count": 36,
   "metadata": {},
   "outputs": [
    {
     "data": {
      "text/html": [
       "<div>\n",
       "<style scoped>\n",
       "    .dataframe tbody tr th:only-of-type {\n",
       "        vertical-align: middle;\n",
       "    }\n",
       "\n",
       "    .dataframe tbody tr th {\n",
       "        vertical-align: top;\n",
       "    }\n",
       "\n",
       "    .dataframe thead th {\n",
       "        text-align: right;\n",
       "    }\n",
       "</style>\n",
       "<table border=\"1\" class=\"dataframe\">\n",
       "  <thead>\n",
       "    <tr style=\"text-align: right;\">\n",
       "      <th></th>\n",
       "      <th>month</th>\n",
       "      <th>sales</th>\n",
       "    </tr>\n",
       "    <tr>\n",
       "      <th>month</th>\n",
       "      <th></th>\n",
       "      <th></th>\n",
       "    </tr>\n",
       "  </thead>\n",
       "  <tbody>\n",
       "    <tr>\n",
       "      <th>1-01</th>\n",
       "      <td>1-01</td>\n",
       "      <td>266.0</td>\n",
       "    </tr>\n",
       "    <tr>\n",
       "      <th>1-02</th>\n",
       "      <td>1-02</td>\n",
       "      <td>145.9</td>\n",
       "    </tr>\n",
       "    <tr>\n",
       "      <th>1-03</th>\n",
       "      <td>1-03</td>\n",
       "      <td>183.1</td>\n",
       "    </tr>\n",
       "    <tr>\n",
       "      <th>1-04</th>\n",
       "      <td>1-04</td>\n",
       "      <td>119.3</td>\n",
       "    </tr>\n",
       "    <tr>\n",
       "      <th>1-05</th>\n",
       "      <td>1-05</td>\n",
       "      <td>180.3</td>\n",
       "    </tr>\n",
       "  </tbody>\n",
       "</table>\n",
       "</div>"
      ],
      "text/plain": [
       "      month  sales\n",
       "month             \n",
       "1-01   1-01  266.0\n",
       "1-02   1-02  145.9\n",
       "1-03   1-03  183.1\n",
       "1-04   1-04  119.3\n",
       "1-05   1-05  180.3"
      ]
     },
     "execution_count": 36,
     "metadata": {},
     "output_type": "execute_result"
    }
   ],
   "source": [
    "### BEGIN SOLUTION\n",
    "shampoo_ts =  shampoo.set_index(shampoo['month'])  \n",
    "### END SOLUTION\n",
    "\n",
    "shampoo_ts.head() "
   ]
  },
  {
   "cell_type": "markdown",
   "metadata": {},
   "source": [
    ">**Instruction** : <br>\n",
    "Save the data in `Series` form using `pd.Series`\n",
    "\n",
    ">**Expected Result** : <br>\n",
    "Example of the first 5 data\n",
    "\n",
    "month|---\n",
    "---|---\n",
    "1-01|    266.0\n",
    "1-02|    145.9\n",
    "1-03|    183.1\n",
    "1-04|    119.3\n",
    "1-05|    180.3"
   ]
  },
  {
   "cell_type": "code",
   "execution_count": 37,
   "metadata": {},
   "outputs": [
    {
     "data": {
      "text/plain": [
       "month\n",
       "1-01    266.0\n",
       "1-02    145.9\n",
       "1-03    183.1\n",
       "1-04    119.3\n",
       "1-05    180.3\n",
       "Name: sales, dtype: float64"
      ]
     },
     "execution_count": 37,
     "metadata": {},
     "output_type": "execute_result"
    }
   ],
   "source": [
    "### START SOLUTION\n",
    "shampoo_ts = pd.Series(shampoo_ts['sales'])\n",
    "### END SOLUTION\n",
    "shampoo_ts.head()"
   ]
  },
  {
   "cell_type": "code",
   "execution_count": 38,
   "metadata": {},
   "outputs": [
    {
     "data": {
      "text/plain": [
       "Text(0.5, 1.0, 'Time Series plot ')"
      ]
     },
     "execution_count": 38,
     "metadata": {},
     "output_type": "execute_result"
    },
    {
     "data": {
      "image/png": "[encoded data removed]",
      "text/plain": [
       "<Figure size 720x432 with 1 Axes>"
      ]
     },
     "metadata": {
      "needs_background": "light"
     },
     "output_type": "display_data"
    }
   ],
   "source": [
    "plt.figure(figsize=(10,6))\n",
    "shampoo_ts.plot()\n",
    "plt.title(\"Time Series plot \")"
   ]
  },
  {
   "cell_type": "markdown",
   "metadata": {},
   "source": [
    "## Data Splitting\n",
    ">**Instruction** : <br>\n",
    "Split the data using indexing, your data should be splitted into `train_data_shampoo` and `test_data_shampoo`. Do remember to save the time index for train data and test data as well. Save the time index as `train_time_shampoo` and `test_time_shampoo`."
   ]
  },
  {
   "cell_type": "code",
   "execution_count": 39,
   "metadata": {},
   "outputs": [
    {
     "data": {
      "text/plain": [
       "25"
      ]
     },
     "execution_count": 39,
     "metadata": {},
     "output_type": "execute_result"
    }
   ],
   "source": [
    "#split data by indexing \n",
    "split_data = round(len(shampoo_ts)*split_ratio)\n",
    "split_data"
   ]
  },
  {
   "cell_type": "code",
   "execution_count": 40,
   "metadata": {},
   "outputs": [
    {
     "name": "stdout",
     "output_type": "stream",
     "text": [
      "train_data_shampoo_shape\n",
      "(25,)\n",
      "test_data_shampoo_shape\n",
      "(11,)\n"
     ]
    }
   ],
   "source": [
    "# Visualize data shape after splitting\n",
    "train_data_shampoo = shampoo_ts[:split_data]\n",
    "test_data_shampoo = shampoo_ts[split_data:]\n",
    "train_time_shampoo = shampoo_ts.index[:split_data]\n",
    "test_time_shampoo = shampoo_ts.index[split_data:]\n",
    "print(\"train_data_shampoo_shape\")\n",
    "print(train_data_shampoo.shape)\n",
    "print(\"test_data_shampoo_shape\")\n",
    "print(test_data_shampoo.shape)"
   ]
  },
  {
   "cell_type": "markdown",
   "metadata": {},
   "source": [
    "## Data Normalization\n",
    ">**Instruction** : <br>\n",
    "Use `MinMaxScaler()` to normalize the data, save your data scaler into `scaler_shampoo` and your train and test scaled data into `train_shampoo_scaled` and `test_shampoo_scaled`.<br>\n",
    "\n",
    "Example :<br>\n",
    "`train_shampoo_scaled = scaler_shampoo.transform(train_data_shampoo.values.reshape(-1,1))`"
   ]
  },
  {
   "cell_type": "code",
   "execution_count": 41,
   "metadata": {},
   "outputs": [],
   "source": [
    "scaler_shampoo = MinMaxScaler().fit(train_data_shampoo.values.reshape(-1,1))\n",
    "train_shampoo_scaled = scaler_shampoo.transform(train_data_shampoo.values.reshape(-1,1))\n",
    "test_shampoo_scaled = scaler_shampoo.transform(test_data_shampoo.values.reshape(-1,1))"
   ]
  },
  {
   "cell_type": "markdown",
   "metadata": {},
   "source": [
    "## Data Sequencing \n",
    ">**Instruction** : <br>\n",
    "Use `univariate_multi_step` from the `data_module` to manipulate the scaled data into respective `x` and `y` variable.<br>\n",
    "\n",
    "Example :<br>\n",
    "`trainX_shampoo ,trainY_shampoo =  data_module.univariate_multi_step(train_shampoo_scaled,window_size_shampoo,n_step_shampoo)`"
   ]
  },
  {
   "cell_type": "code",
   "execution_count": 42,
   "metadata": {},
   "outputs": [
    {
     "name": "stdout",
     "output_type": "stream",
     "text": [
      "trainX shape:(22, 2, 1) trainY shape:(22, 2, 1)\n",
      "\n",
      "testX shape:(8, 2, 1) testY shape:(8, 2, 1)\n"
     ]
    }
   ],
   "source": [
    "### BEGIN SOLUTION\n",
    "trainX_shampoo ,trainY_shampoo =  data_module.univariate_multi_step(train_shampoo_scaled,window_size_shampoo,n_step_shampoo)\n",
    "testX_shampoo , testY_shampoo = data_module.univariate_multi_step(test_shampoo_scaled,window_size_shampoo,n_step_shampoo)\n",
    "### END SOLUTION\n",
    "\n",
    "print(f\"trainX shape:{trainX_shampoo.shape} trainY shape:{trainY_shampoo.shape}\\n\")\n",
    "print(f\"testX shape:{testX_shampoo.shape} testY shape:{testY_shampoo.shape}\")"
   ]
  },
  {
   "cell_type": "markdown",
   "metadata": {},
   "source": [
    "## Data Transform\n",
    ">**Instruction** : <br>\n",
    "Assign your scaled data to dictionary by using `key_assign(trainingX,testingX,trainingY ,testingY)`.\n",
    "Transform the data from `ndarray` to `torch tensor` using `transform(train_dict , test_dict)`<br>\n"
   ]
  },
  {
   "cell_type": "code",
   "execution_count": 43,
   "metadata": {},
   "outputs": [],
   "source": [
    "### BEGIN SOLUTION\n",
    "train_shampoo_dict , test_shampoo_dict = key_assign(trainingX = trainX_shampoo ,\n",
    "           testingX = testX_shampoo,\n",
    "           trainingY = trainY_shampoo ,\n",
    "           testingY = testY_shampoo)\n",
    "\n",
    "train_shampoo_dict , test_shampoo_dict = transform(train_shampoo_dict , test_shampoo_dict)\n",
    "### END SOLUTION"
   ]
  },
  {
   "cell_type": "code",
   "execution_count": 44,
   "metadata": {},
   "outputs": [
    {
     "name": "stdout",
     "output_type": "stream",
     "text": [
      "train_data_x_feature shape : torch.Size([22, 2, 1])\n",
      "train_data_y_label shape : torch.Size([22, 2, 1])\n",
      "test_data_x_feature shape : torch.Size([8, 2, 1])\n",
      "test_data_y_label shape : torch.Size([8, 2, 1])\n"
     ]
    }
   ],
   "source": [
    "sanity_check(train_shampoo_dict , test_shampoo_dict)"
   ]
  },
  {
   "cell_type": "markdown",
   "metadata": {},
   "source": [
    "## Data Iterator\n",
    ">**Instruction** : <br>\n",
    "You are required to use the `iterator` function to create a data iterator that will enable the data to be stored in batches<br>\n"
   ]
  },
  {
   "cell_type": "code",
   "execution_count": 45,
   "metadata": {},
   "outputs": [],
   "source": [
    "### BEGIN SOLUTION\n",
    "train_iter_shampoo , test_iter_shampoo = iterator(train_shampoo_dict, test_shampoo_dict,batch_size_shampoo)\n",
    "### END SOLUTION"
   ]
  },
  {
   "cell_type": "markdown",
   "metadata": {},
   "source": [
    "## Input Model\n",
    ">**Instruction** : <br>\n",
    "You are required to input the correct model from `deep_learning_module`. Feel free to use any type of LSTM configuration. Please input the correct attributes and experiment with it. Save your model with the name `model_shampoo `<br>"
   ]
  },
  {
   "cell_type": "code",
   "execution_count": 46,
   "metadata": {},
   "outputs": [],
   "source": [
    "#Arguments for LSTM model\n",
    "# seed\n",
    "torch.manual_seed(123)\n",
    "### BEGIN SOLUTION\n",
    "n_feature = 1 \n",
    "#1 for vanila LSTM , >1 is mean stacked LSTM\n",
    "num_layers_shampoo = 1\n",
    "\n",
    "#Vanila , Stacked LSTM\n",
    "model_shampoo = deep_learning_module.LSTM(n_feature = n_feature ,\n",
    "                         hidden_dim = hidden_dim_shampoo,\n",
    "                         num_layers = num_layers_shampoo,\n",
    "                         n_step = n_step_shampoo)\n",
    "\n",
    "# Bidirectional LSTM\n",
    "# model_shampoo = deep_learning_module.BidirectionalLSTM(n_feature = n_feature ,\n",
    "#                          hidden_dim = hidden_dim_shampoo,\n",
    "#                          num_layers = num_layers_shampoo,\n",
    "#                          n_step = n_step_shampoo)\n",
    "### END SOLUTION"
   ]
  },
  {
   "cell_type": "markdown",
   "metadata": {},
   "source": [
    ">**Instruction** : <br>\n",
    "Use `MSELoss` as the loss function and `Adam` as the optimizer. You are required to save `MSELoss` into a variable named `loss_fn_shampoo` and `Adam` optimizer into `optimizer_shampoo`<br>"
   ]
  },
  {
   "cell_type": "code",
   "execution_count": 47,
   "metadata": {},
   "outputs": [],
   "source": [
    "### BEGIN SOLUTION\n",
    "loss_fn_shampoo = torch.nn.MSELoss()\n",
    "\n",
    "optimizer_shampoo = torch.optim.Adam(model_shampoo.parameters(), lr=0.01)"
   ]
  },
  {
   "cell_type": "markdown",
   "metadata": {},
   "source": [
    "# Step 3 : Training\n",
    ">**Instruction** : <br>\n",
    "Input your training function from `deep_learning_module`<br>"
   ]
  },
  {
   "cell_type": "code",
   "execution_count": 48,
   "metadata": {},
   "outputs": [],
   "source": [
    "# Start Training \n",
    "# seed\n",
    "torch.manual_seed(123)\n",
    "\n",
    "### BEGIN SOLUTION\n",
    "train_loss_shampoo,val_loss_shampoo = deep_learning_module.training(num_epochs_shampoo,\n",
    "                                                                    train_iter_shampoo,\n",
    "                                                                    test_iter_shampoo,\n",
    "                                                                    optimizer_shampoo,\n",
    "                                                                    loss_fn_shampoo,\n",
    "                                                                    model_shampoo)\n",
    "### END SOLUTION"
   ]
  },
  {
   "cell_type": "markdown",
   "metadata": {},
   "source": [
    "# Step 4 : Validation"
   ]
  },
  {
   "cell_type": "code",
   "execution_count": 49,
   "metadata": {
    "scrolled": true
   },
   "outputs": [
    {
     "data": {
      "image/png": "[encoded data removed]",
      "text/plain": [
       "<Figure size 720x432 with 1 Axes>"
      ]
     },
     "metadata": {
      "needs_background": "light"
     },
     "output_type": "display_data"
    },
    {
     "name": "stdout",
     "output_type": "stream",
     "text": [
      "Epoch : 0 , training loss : 0.06233304061672904 , validation loss : 0.3433772660791874\n",
      "Epoch : 1 , training loss : 0.12119243717329069 , validation loss : 0.9499602094292641\n",
      "Epoch : 2 , training loss : 0.0625513784418052 , validation loss : 0.7977941706776619\n",
      "Epoch : 3 , training loss : 0.052552273708649656 , validation loss : 0.6002853512763977\n",
      "Epoch : 4 , training loss : 0.062171750447966835 , validation loss : 0.630828820168972\n",
      "Epoch : 5 , training loss : 0.056392590261318466 , validation loss : 0.5797114595770836\n",
      "Epoch : 6 , training loss : 0.05403260725804351 , validation loss : 0.5038881748914719\n",
      "Epoch : 7 , training loss : 0.054175659717822615 , validation loss : 0.456723116338253\n",
      "Epoch : 8 , training loss : 0.0519407222640108 , validation loss : 0.3904261291027069\n",
      "Epoch : 9 , training loss : 0.050714796324345196 , validation loss : 0.32748950086534023\n",
      "Epoch : 10 , training loss : 0.04945325597443364 , validation loss : 0.27041337080299854\n",
      "Epoch : 11 , training loss : 0.0482530328868465 , validation loss : 0.22251969203352928\n",
      "Epoch : 12 , training loss : 0.04753111633048816 , validation loss : 0.19185718707740307\n",
      "Epoch : 13 , training loss : 0.046882917088541115 , validation loss : 0.17432682309299707\n",
      "Epoch : 14 , training loss : 0.046481618996370926 , validation loss : 0.1665599774569273\n",
      "Epoch : 15 , training loss : 0.04615150540220467 , validation loss : 0.16286823712289333\n",
      "Epoch : 16 , training loss : 0.045926232166080314 , validation loss : 0.1608035173267126\n",
      "Epoch : 17 , training loss : 0.04574153752235526 , validation loss : 0.1590241603553295\n",
      "Epoch : 18 , training loss : 0.045593268174508754 , validation loss : 0.15740096010267735\n",
      "Epoch : 19 , training loss : 0.04546254964291372 , validation loss : 0.1559400586411357\n",
      "Epoch : 20 , training loss : 0.04534460608424111 , validation loss : 0.1546865813434124\n",
      "Epoch : 21 , training loss : 0.04523581120354885 , validation loss : 0.1536438399925828\n",
      "Epoch : 22 , training loss : 0.045132435858249664 , validation loss : 0.1527622565627098\n",
      "Epoch : 23 , training loss : 0.04503370923074809 , validation loss : 0.15201124735176563\n",
      "Epoch : 24 , training loss : 0.04493763846006583 , validation loss : 0.1513544637709856\n",
      "Epoch : 25 , training loss : 0.04484366824511777 , validation loss : 0.15077410824596882\n",
      "Epoch : 26 , training loss : 0.04475084510208531 , validation loss : 0.1502549722790718\n",
      "Epoch : 27 , training loss : 0.04465866969390349 , validation loss : 0.14978668559342623\n",
      "Epoch : 28 , training loss : 0.04456662039526484 , validation loss : 0.14935942739248276\n",
      "Epoch : 29 , training loss : 0.04447427362372929 , validation loss : 0.14896413125097752\n",
      "Epoch : 30 , training loss : 0.04438126684081825 , validation loss : 0.1485920138657093\n",
      "Epoch : 31 , training loss : 0.044287252028218725 , validation loss : 0.14823486097157001\n",
      "Epoch : 32 , training loss : 0.0441919314167039 , validation loss : 0.1478851130232215\n",
      "Epoch : 33 , training loss : 0.04409502364102413 , validation loss : 0.1475355951115489\n",
      "Epoch : 34 , training loss : 0.04399624153633009 , validation loss : 0.14717956352978945\n",
      "Epoch : 35 , training loss : 0.043895346112549305 , validation loss : 0.14681049156934023\n",
      "Epoch : 36 , training loss : 0.04379208210263063 , validation loss : 0.1464219857007265\n",
      "Epoch : 37 , training loss : 0.043686225354163485 , validation loss : 0.14600755367428064\n",
      "Epoch : 38 , training loss : 0.04357753793539649 , validation loss : 0.14556059148162603\n",
      "Epoch : 39 , training loss : 0.04346581296571954 , validation loss : 0.14507447369396687\n",
      "Epoch : 40 , training loss : 0.043350867588411675 , validation loss : 0.14454248175024986\n",
      "Epoch : 41 , training loss : 0.04323251596228643 , validation loss : 0.143958012573421\n",
      "Epoch : 42 , training loss : 0.04311061464250088 , validation loss : 0.1433145059272647\n",
      "Epoch : 43 , training loss : 0.042985040419311685 , validation loss : 0.14260629937052727\n",
      "Epoch : 44 , training loss : 0.04285570555789904 , validation loss : 0.1418289290741086\n",
      "Epoch : 45 , training loss : 0.042722534240138804 , validation loss : 0.1409795330837369\n",
      "Epoch : 46 , training loss : 0.04258551247502593 , validation loss : 0.14005814865231514\n",
      "Epoch : 47 , training loss : 0.04244463810358535 , validation loss : 0.13906738348305225\n",
      "Epoch : 48 , training loss : 0.04229999566450715 , validation loss : 0.138012926094234\n",
      "Epoch : 49 , training loss : 0.0421517388895154 , validation loss : 0.13690238445997238\n",
      "Epoch : 50 , training loss : 0.04200012124651535 , validation loss : 0.13574463035911322\n",
      "Epoch : 51 , training loss : 0.041845522545786065 , validation loss : 0.13454898167401552\n",
      "Epoch : 52 , training loss : 0.041688420957970346 , validation loss : 0.13332439586520195\n",
      "Epoch : 53 , training loss : 0.041529430499808354 , validation loss : 0.13207973167300224\n",
      "Epoch : 54 , training loss : 0.04136928175152703 , validation loss : 0.1308236662298441\n",
      "Epoch : 55 , training loss : 0.04120883006941189 , validation loss : 0.1295646708458662\n",
      "Epoch : 56 , training loss : 0.04104901545427062 , validation loss : 0.12831100448966026\n",
      "Epoch : 57 , training loss : 0.04089087891307744 , validation loss : 0.12707060482352972\n",
      "Epoch : 58 , training loss : 0.04073545971715992 , validation loss : 0.12585088796913624\n",
      "Epoch : 59 , training loss : 0.04058380958370187 , validation loss : 0.1246590530499816\n",
      "Epoch : 60 , training loss : 0.04043685788796707 , validation loss : 0.12350178277119994\n",
      "Epoch : 61 , training loss : 0.04029539117420262 , validation loss : 0.12238543247804046\n",
      "Epoch : 62 , training loss : 0.040160016495395794 , validation loss : 0.12131610745564103\n",
      "Epoch : 63 , training loss : 0.04003107556226579 , validation loss : 0.12029932625591755\n",
      "Epoch : 64 , training loss : 0.03990870375524868 , validation loss : 0.11933985631912947\n",
      "Epoch : 65 , training loss : 0.03979279820553281 , validation loss : 0.11844171397387981\n",
      "Epoch : 66 , training loss : 0.039683047512715515 , validation loss : 0.11760786408558488\n",
      "Epoch : 67 , training loss : 0.03957903546027162 , validation loss : 0.11684018652886152\n",
      "Epoch : 68 , training loss : 0.0394802345386283 , validation loss : 0.11613948596641421\n",
      "Epoch : 69 , training loss : 0.03938608476892114 , validation loss : 0.11550587555393577\n",
      "Epoch : 70 , training loss : 0.039296050810001114 , validation loss : 0.1149386721663177\n",
      "Epoch : 71 , training loss : 0.039209614296189764 , validation loss : 0.11443689372390509\n",
      "Epoch : 72 , training loss : 0.039126346141777256 , validation loss : 0.11399945756420493\n",
      "Epoch : 73 , training loss : 0.0390458470210433 , validation loss : 0.11362524423748255\n",
      "Epoch : 74 , training loss : 0.03896781836043705 , validation loss : 0.11331314826384187\n",
      "Epoch : 75 , training loss : 0.03889198431914503 , validation loss : 0.1130623584613204\n",
      "Epoch : 76 , training loss : 0.03881813839755275 , validation loss : 0.11287215817719698\n",
      "Epoch : 77 , training loss : 0.03874610559168187 , validation loss : 0.11274179629981518\n",
      "Epoch : 78 , training loss : 0.038675737397914585 , validation loss : 0.11267072055488825\n",
      "Epoch : 79 , training loss : 0.03860690571706404 , validation loss : 0.11265816958621144\n",
      "Epoch : 80 , training loss : 0.03853949735110456 , validation loss : 0.11270341882482171\n",
      "Epoch : 81 , training loss : 0.0384734169664708 , validation loss : 0.11280574277043343\n",
      "Epoch : 82 , training loss : 0.03840856169435111 , validation loss : 0.11296417005360126\n",
      "Epoch : 83 , training loss : 0.03834484653039412 , validation loss : 0.11317774746567011\n",
      "Epoch : 84 , training loss : 0.03828217986632477 , validation loss : 0.11344550177454948\n",
      "Epoch : 85 , training loss : 0.03822048253972422 , validation loss : 0.11376633355394006\n",
      "Epoch : 86 , training loss : 0.038159684870730744 , validation loss : 0.11413925141096115\n",
      "Epoch : 87 , training loss : 0.03809969728304581 , validation loss : 0.11456315917894244\n",
      "Epoch : 88 , training loss : 0.03804044992747632 , validation loss : 0.11503718513995409\n",
      "Epoch : 89 , training loss : 0.037981868806210434 , validation loss : 0.11556038074195385\n",
      "Epoch : 90 , training loss : 0.03792389998720451 , validation loss : 0.116131950635463\n",
      "Epoch : 91 , training loss : 0.03786645728078755 , validation loss : 0.1167511772364378\n",
      "Epoch : 92 , training loss : 0.037809483114291324 , validation loss : 0.11741755669936538\n",
      "Epoch : 93 , training loss : 0.03775291110981594 , validation loss : 0.11813060101121664\n",
      "Epoch : 94 , training loss : 0.037696680731394074 , validation loss : 0.11889015836641192\n",
      "Epoch : 95 , training loss : 0.03764072094451298 , validation loss : 0.11969595961272717\n",
      "Epoch : 96 , training loss : 0.03758497273718769 , validation loss : 0.12054790928959846\n",
      "Epoch : 97 , training loss : 0.03752936236560345 , validation loss : 0.12144635571166873\n",
      "Epoch : 98 , training loss : 0.03747382362119176 , validation loss : 0.12239157129079103\n",
      "Epoch : 99 , training loss : 0.03741829156536947 , validation loss : 0.12338414136320353\n"
     ]
    }
   ],
   "source": [
    "# Plot Learning Curve \n",
    "data_module.learning_curve(num_epochs_shampoo,train_loss = train_loss_shampoo,\n",
    "                           val_loss = val_loss_shampoo)"
   ]
  },
  {
   "cell_type": "code",
   "execution_count": 50,
   "metadata": {},
   "outputs": [
    {
     "data": {
      "image/png": "[encoded data removed]",
      "text/plain": [
       "<Figure size 720x432 with 1 Axes>"
      ]
     },
     "metadata": {
      "needs_background": "light"
     },
     "output_type": "display_data"
    }
   ],
   "source": [
    "# Zoom in to visualize the graph by fill in start_epoch and end_epoch that want to analyse\n",
    "data_module.zoom_learning_curve(start_epoch = 25,\n",
    "                                end_epoch = 30,\n",
    "                                training_loss = train_loss_shampoo,\n",
    "                                validation_loss = val_loss_shampoo)"
   ]
  },
  {
   "cell_type": "markdown",
   "metadata": {},
   "source": [
    "# Step 5 : Evaluation\n",
    "This section is to inference the model by feeding in testing data and using the forecasted value to calculate the RMSE. For this tutorial, we will use the Python Dictionaries concept to create the function to run in each section.\n",
    ">**Instruction** : <br>\n",
    "Use the function created in Part 1 to perform the task in each section.\n",
    "\n",
    "It consists of 4 sections :\n",
    "\n",
    "Section 1 : Feed in the train and test data to the model <br>\n",
    "Section 2 : Reshape both to the original data dimension <br> \n",
    "Section 3 : Invert the scaling back to the original data value <br>\n",
    "Section 4 : Calculate the RMSE of train and test data"
   ]
  },
  {
   "cell_type": "code",
   "execution_count": 51,
   "metadata": {},
   "outputs": [],
   "source": [
    "# Section 1 : Make predictions\n",
    "with torch.no_grad():\n",
    "    y_train_prediction_shampoo= model_shampoo(train_shampoo_dict[\"train_data_x_feature\"])\n",
    "    y_test_prediction_shampoo= model_shampoo(test_shampoo_dict['test_data_x_feature'])\n",
    "\n"
   ]
  },
  {
   "cell_type": "markdown",
   "metadata": {},
   "source": [
    ">**Instruction** : <br>\n",
    "Use `key_assign_evaluation` to create the dictionary of `prediction_shampoo ` and `output_data_shampoo`"
   ]
  },
  {
   "cell_type": "code",
   "execution_count": 52,
   "metadata": {},
   "outputs": [],
   "source": [
    "### BEGIN SOLUTION\n",
    "prediction_shampoo , output_data_shampoo = key_assign_evaluation(y_train_prediction = y_train_prediction_shampoo ,\n",
    "                                                 y_test_prediction = y_test_prediction_shampoo ,\n",
    "                                                 train_data_dictionary = train_shampoo_dict,\n",
    "                                                 test_data_dictionary =test_shampoo_dict) \n",
    "### END SOLUTION"
   ]
  },
  {
   "cell_type": "markdown",
   "metadata": {},
   "source": [
    ">**Instruction** : <br>\n",
    "Use `squeeze_dimension` to eliminate the extra dimension for `output_data_shampoo`"
   ]
  },
  {
   "cell_type": "code",
   "execution_count": 53,
   "metadata": {},
   "outputs": [],
   "source": [
    "### BEGIN SOLUTION\n",
    "output_data_shampoo = squeeze_dimension(output_data_shampoo)\n",
    "### END SOLUTION"
   ]
  },
  {
   "cell_type": "markdown",
   "metadata": {},
   "source": [
    ">**Instruction** : <br>\n",
    "Use `inverse_scaler` to convert the scaled data back to original data. Your returned result must be in the dictionary form"
   ]
  },
  {
   "cell_type": "code",
   "execution_count": 54,
   "metadata": {},
   "outputs": [],
   "source": [
    "### BEGIN SOLUTION\n",
    "prediction_shampoo = inverse_scaler(prediction_shampoo ,scaler_shampoo)\n",
    "output_data_shampoo = inverse_scaler(output_data_shampoo,scaler_shampoo)\n",
    "### END SOLUTION"
   ]
  },
  {
   "cell_type": "code",
   "execution_count": 55,
   "metadata": {},
   "outputs": [
    {
     "name": "stdout",
     "output_type": "stream",
     "text": [
      "train_data_prediction shape : (22, 2)\n",
      "test_data_prediction shape : (8, 2)\n",
      "train_data_output shape : (22, 2)\n",
      "test_data_output shape : (8, 2)\n"
     ]
    }
   ],
   "source": [
    "sanity_check(prediction_shampoo,output_data_shampoo)"
   ]
  },
  {
   "cell_type": "code",
   "execution_count": 56,
   "metadata": {},
   "outputs": [
    {
     "name": "stdout",
     "output_type": "stream",
     "text": [
      "Test Data\t\t\tForecast\n",
      "[439.3 401.3]\t\t[393.23077 401.05264]\n",
      "[401.3 437.4]\t\t[346.09692 394.8552 ]\n",
      "[437.4 575.5]\t\t[425.88773 456.8816 ]\n",
      "[575.5     407.59998]\t\t[409.38068 445.68137]\n",
      "[407.59998 682.     ]\t\t[441.31796 452.8453 ]\n",
      "[682.      475.29996]\t\t[494.25705 517.15204]\n",
      "[475.29996 581.3    ]\t\t[424.3447  418.64893]\n",
      "[581.3     646.89996]\t\t[543.50165 551.7629 ]\n"
     ]
    }
   ],
   "source": [
    "list_forecast_value(output_data_shampoo,prediction_shampoo)"
   ]
  },
  {
   "cell_type": "code",
   "execution_count": 57,
   "metadata": {},
   "outputs": [
    {
     "name": "stdout",
     "output_type": "stream",
     "text": [
      "Train Score: 56.62 RMSE\n",
      "Test Score: 106.19 RMSE\n"
     ]
    }
   ],
   "source": [
    "trainScore_shampoo,testScore_shampoo = rmse(prediction_shampoo,output_data_shampoo)\n",
    "print('Train Score: %.2f RMSE' % (trainScore_shampoo))\n",
    "print('Test Score: %.2f RMSE' % (testScore_shampoo))"
   ]
  },
  {
   "cell_type": "code",
   "execution_count": 58,
   "metadata": {
    "scrolled": true
   },
   "outputs": [
    {
     "data": {
      "image/png": "[encoded data removed]",
      "text/plain": [
       "<Figure size 720x432 with 1 Axes>"
      ]
     },
     "metadata": {
      "needs_background": "light"
     },
     "output_type": "display_data"
    }
   ],
   "source": [
    "shampoo_details ={\"x-axis\" : \"Month\",\n",
    "          \"y-axis\" : \"Sales\",\n",
    "          \"title\"  : \"Shampoo Sales\"\n",
    "         }\n",
    "multi_step_plot(original_test_data = test_data_shampoo,\n",
    "                after_sequence_test_data = output_data_shampoo ,\n",
    "                forecast_data = prediction_shampoo,\n",
    "                test_time = test_time_shampoo,\n",
    "                window_size = window_size_shampoo ,\n",
    "                n_step = n_step_shampoo,\n",
    "                details = shampoo_details,\n",
    "                original_plot = False)"
   ]
  },
  {
   "cell_type": "markdown",
   "metadata": {},
   "source": [
    "## Summary\n",
    "Through this tutorial you should have learned:\n",
    "\n",
    "1. The pipeline of using LSTM perform univariate multi-step forecast \n",
    "2. Using Python Dictionaries make the code more manageable \n",
    "3. How to import function and class from Python module `data_module.py` and `deep_learning_module.py` \n",
    "\n",
    "Congratulations, that concludes this lesson.<br>\n",
    "\n",
    "Please save the functions below to `data_module.py` .<br>\n",
    "\n",
    "The following tutorial will utilise these function :<br>\n",
    "`key_assign` <br>\n",
    "`key_assign_evaluation`<br>\n",
    "`transform`<br>\n",
    "`sanity_check`<br>\n",
    "`iterator`<br>\n",
    "`squeeze_dimension`<br>\n",
    "`inverse_scaler`<br>\n",
    "`list_forecast_value`<br>\n",
    "`rmse`<br>\n",
    "`multi_step_plot`<br>\n",
    "\n",
    "\n",
    "\n",
    "Please proceed to other notebook for other type of data in LSTM forecasting  <br>\n",
    "1. ~~*[04 - LSTM_Univariate_SingleStep]*~~  *Complete*\n",
    "2. ~~*[04 - LSTM_Univariate_MultiStep.ipynb]*~~ *Complete*\n",
    "3. [04 - LSTM_Multivariate_Univariate_SingleStep](./04%20-%20LSTM_Multivariate_Univariate_SingleStep.ipynb)<br>\n",
    "4. [04 - LSTM_Multivariate_Univariate_MultiStep](./04%20-%20LSTM_Multivariate_Univariate_MultiStep.ipynb)<br>"
   ]
  },
  {
   "cell_type": "markdown",
   "metadata": {},
   "source": [
    "## Reference\n",
    "1. [Multistep Time Series Forecasting with LSTMs in Python](https://machinelearningmastery.com/multi-step-time-series-forecasting-long-short-term-memory-networks-python/)\n",
    "2. [Deep Learning for Time Series Forecasting (Predict the Future with MLPs,CNNs and LSTMs in Python) , Jason Brownlee](https://machinelearningmastery.com/deep-learning-for-time-series-forecasting/)"
   ]
  }
 ],
 "metadata": {
  "kernelspec": {
   "display_name": "Python 3",
   "language": "python",
   "name": "python3"
  },
  "language_info": {
   "codemirror_mode": {
    "name": "ipython",
    "version": 3
   },
   "file_extension": ".py",
   "mimetype": "text/x-python",
   "name": "python",
   "nbconvert_exporter": "python",
   "pygments_lexer": "ipython3",
   "version": "3.7.9"
  }
 },
 "nbformat": 4,
 "nbformat_minor": 4
}
