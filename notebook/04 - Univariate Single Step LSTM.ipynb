{
 "cells": [
  {
   "cell_type": "markdown",
   "metadata": {},
   "source": [
    "# Univariate LSTM"
   ]
  },
  {
   "cell_type": "markdown",
   "metadata": {},
   "source": [
    "This tutorial is to demonstrate the process in build LSTM for the Univariate Time Series Data,<br>\n",
    "It consists of 2 major part which are :\n",
    "\n",
    "1. The Demostration of Building LSTM using Synthetic data \n",
    "2. Exercise of building LSTM using shampoo sales data.\n",
    "\n",
    "First, we will show the step in building the LSTM : \n",
    "\n",
    "Step 1. Data Preparation (Data Splitting,Data Sequencing,Data Normalization and Batching the Data)<br>\n",
    "Step 2. Model Configuration (Vanila LSTM , Stacked LSTM , Bidirectional LSTM)<br>\n",
    "Step 3. Train the model <br>\n",
    "Step 4. Validate the model using graph <br>\n",
    "Step 5. Evaluation Metrics such as MSE <br>\n",
    "Step 6. Plot the forecast result\n",
    "\n",
    "First , let's us import the package needed"
   ]
  },
  {
   "cell_type": "code",
   "execution_count": 62,
   "metadata": {},
   "outputs": [],
   "source": [
    "#import packages needed\n",
    "import numpy as np\n",
    "import pandas as pd\n",
    "import matplotlib.pyplot as plt\n",
    "import torch\n",
    "import torch.nn as nn\n",
    "from torch.utils.data import DataLoader,TensorDataset\n",
    "from sklearn.metrics import mean_squared_error\n",
    "from sklearn.preprocessing import MinMaxScaler\n",
    "import math"
   ]
  },
  {
   "cell_type": "code",
   "execution_count": 63,
   "metadata": {},
   "outputs": [],
   "source": [
    "#Data sequencing function \n",
    "def univariate_single_step(sequence, window_size):\n",
    "    x, y = list(), list()\n",
    "    for i in range(len(sequence)):\n",
    "    # find the end of this pattern\n",
    "        end_ix = i + window_size\n",
    "        # check if we are beyond the sequence\n",
    "        if end_ix > len(sequence)-1:\n",
    "            break\n",
    "    # gather input and output parts of the pattern\n",
    "        seq_x, seq_y = sequence[i:end_ix], sequence[end_ix]\n",
    "        x.append(seq_x)\n",
    "        y.append(seq_y)\n",
    "    return np.array(x), np.array(y)\n"
   ]
  },
  {
   "cell_type": "markdown",
   "metadata": {},
   "source": [
    "## Hyper parameter\n",
    "Define the hyper parameter that need to tune the model "
   ]
  },
  {
   "cell_type": "code",
   "execution_count": 64,
   "metadata": {},
   "outputs": [
    {
     "data": {
      "text/plain": [
       "<torch._C.Generator at 0x244519c01b0>"
      ]
     },
     "execution_count": 64,
     "metadata": {},
     "output_type": "execute_result"
    }
   ],
   "source": [
    "split_ratio = 0.70\n",
    "num_epochs = 60\n",
    "window_size = 2\n",
    "batch_size = 1\n",
    "#seed\n",
    "torch.manual_seed(123)"
   ]
  },
  {
   "cell_type": "markdown",
   "metadata": {},
   "source": [
    "# Data Preparation\n",
    "We create synthetic data to make sure the model is created correctly and having ability to perform the forecasting "
   ]
  },
  {
   "cell_type": "code",
   "execution_count": 65,
   "metadata": {},
   "outputs": [
    {
     "name": "stdout",
     "output_type": "stream",
     "text": [
      "(40,)\n"
     ]
    },
    {
     "data": {
      "text/plain": [
       "array([  0,  10,  20,  30,  40,  50,  60,  70,  80,  90, 100, 110, 120,\n",
       "       130, 140, 150, 160, 170, 180, 190, 200, 210, 220, 230, 240, 250,\n",
       "       260, 270, 280, 290, 300, 310, 320, 330, 340, 350, 360, 370, 380,\n",
       "       390])"
      ]
     },
     "execution_count": 65,
     "metadata": {},
     "output_type": "execute_result"
    }
   ],
   "source": [
    "#Synthetic Data\n",
    "univariate_series = np.array([x for x in range(0, 400, 10)])\n",
    "print(univariate_series.shape)\n",
    "univariate_series"
   ]
  },
  {
   "cell_type": "markdown",
   "metadata": {},
   "source": [
    "## Data Splitting"
   ]
  },
  {
   "cell_type": "code",
   "execution_count": 66,
   "metadata": {},
   "outputs": [
    {
     "data": {
      "text/plain": [
       "28"
      ]
     },
     "execution_count": 66,
     "metadata": {},
     "output_type": "execute_result"
    }
   ],
   "source": [
    "split_data = round(len(univariate_series)*split_ratio)\n",
    "split_data"
   ]
  },
  {
   "cell_type": "code",
   "execution_count": 67,
   "metadata": {},
   "outputs": [
    {
     "name": "stdout",
     "output_type": "stream",
     "text": [
      "train_data_shape\n",
      "(28,)\n",
      "test_data_shape\n",
      "(12,)\n"
     ]
    }
   ],
   "source": [
    "#split data by indexing \n",
    "train_data = univariate_series[:split_data]\n",
    "test_data = univariate_series[split_data:]\n",
    "print(\"train_data_shape\")\n",
    "print(train_data.shape)\n",
    "print(\"test_data_shape\")\n",
    "print(test_data.shape)"
   ]
  },
  {
   "cell_type": "markdown",
   "metadata": {},
   "source": [
    "## Data Normalization\n",
    "The data is scaled to the range of -1 to 1 to standardize the data value"
   ]
  },
  {
   "cell_type": "code",
   "execution_count": 68,
   "metadata": {},
   "outputs": [],
   "source": [
    "scaler = MinMaxScaler(feature_range=(-1, 1))\n",
    "train_data_normalized = scaler.fit_transform(train_data.reshape(-1, 1))\n",
    "\n",
    "test_data_normalized = scaler.fit_transform(test_data.reshape(-1, 1))"
   ]
  },
  {
   "cell_type": "markdown",
   "metadata": {},
   "source": [
    "## Data Sequencing\n",
    "Sequencing the data "
   ]
  },
  {
   "cell_type": "code",
   "execution_count": 69,
   "metadata": {},
   "outputs": [
    {
     "name": "stdout",
     "output_type": "stream",
     "text": [
      "trainX shape:(26, 2, 1) trainY shape:(26, 1)\n",
      "\n",
      "testX shape:(10, 2, 1) testX shape:(10, 1)\n"
     ]
    }
   ],
   "source": [
    "trainX ,trainY =  univariate_single_step(train_data_normalized,window_size)\n",
    "testX , testY = univariate_single_step(test_data_normalized,window_size)\n",
    "print(f\"trainX shape:{trainX.shape} trainY shape:{trainY.shape}\\n\")\n",
    "print(f\"testX shape:{testX.shape} testX shape:{testY.shape}\")\n"
   ]
  },
  {
   "cell_type": "markdown",
   "metadata": {},
   "source": [
    "## Data Transform\n",
    "Data need to transform from numpy to pytorch tensor before feed into the model "
   ]
  },
  {
   "cell_type": "code",
   "execution_count": 70,
   "metadata": {},
   "outputs": [
    {
     "name": "stdout",
     "output_type": "stream",
     "text": [
      "trainX shape:torch.Size([26, 2, 1]) trainY shape:torch.Size([26, 1])\n",
      "\n",
      "testX shape:torch.Size([10, 2, 1]) testY shape:torch.Size([10, 1])\n"
     ]
    }
   ],
   "source": [
    "#transfrom to Pytorch tensor\n",
    "trainX = torch.from_numpy(trainX).type(torch.Tensor)\n",
    "trainY = torch.from_numpy(trainY).type(torch.Tensor)\n",
    "testX = torch.from_numpy(testX).type(torch.Tensor)\n",
    "testY = torch.from_numpy(testY).type(torch.Tensor)\n",
    "print(f\"trainX shape:{trainX.shape} trainY shape:{trainY.shape}\\n\")\n",
    "print(f\"testX shape:{testX.shape} testY shape:{testY.shape}\")"
   ]
  },
  {
   "cell_type": "code",
   "execution_count": 71,
   "metadata": {},
   "outputs": [
    {
     "name": "stdout",
     "output_type": "stream",
     "text": [
      "Features are now in the shape of torch.Size([26, 2, 1]) while labels are now in the shape of torch.Size([26, 1])\n",
      "\n",
      "x-feature\n",
      "26 = total number of data \n",
      "2 = window size \n",
      "1 = number of time series\n",
      "\n",
      "y-label\n",
      "26 = number of data\n",
      "1 = number of step\n",
      "\n"
     ]
    }
   ],
   "source": [
    "#  Display the shape to make sure the transform is success\n",
    "print(f\"Features are now in the shape of {trainX.shape} while labels are now in the shape of {trainY.shape}\\n\")\n",
    "print(\"x-feature\\n\"+str(trainX.shape[0])+\" = total number of data \")\n",
    "print(str(trainX.shape[1])+\" = window size \")\n",
    "print(str(trainX.shape[2])+\" = number of time series\\n\")\n",
    "print(\"y-label\\n\"+str(trainY.shape[0])+\" = number of data\")\n",
    "print(str(trainY.shape[1])+\" = number of step\\n\")"
   ]
  },
  {
   "cell_type": "markdown",
   "metadata": {},
   "source": [
    "## Data Iterator\n",
    "Iterator is create to allow the data separate into several batches to fasten the training process"
   ]
  },
  {
   "cell_type": "code",
   "execution_count": 72,
   "metadata": {},
   "outputs": [],
   "source": [
    "# Create Iterator\n",
    "train_dataset = TensorDataset(trainX, trainY)\n",
    "train_iter = DataLoader(train_dataset,batch_size=batch_size,shuffle=False)\n",
    "\n",
    "test_dataset = TensorDataset(testX, testY)\n",
    "test_iter = DataLoader(test_dataset,batch_size=batch_size,shuffle=False)"
   ]
  },
  {
   "cell_type": "markdown",
   "metadata": {},
   "source": [
    "# LSTM Model Configuration "
   ]
  },
  {
   "cell_type": "markdown",
   "metadata": {},
   "source": [
    "## Vanila LSTM\n",
    "\n",
    "The method use to create the model is call pytorch subclass method. It consists of 2 part where the first part is allow user to define the structure of the model such as the **number of input unit**, **number of output unit** and **number of hidden unit** as well. \n",
    "\n",
    "Second part of the method consist of forward() method , it allow user to control the flow of input data. "
   ]
  },
  {
   "cell_type": "code",
   "execution_count": 12,
   "metadata": {},
   "outputs": [],
   "source": [
    "class LSTM(nn.Module):\n",
    "\n",
    "        def __init__(self, n_feature, hidden_dim, num_layers, output_dim):\n",
    "            super(LSTM, self).__init__()\n",
    "\n",
    "            self.n_feature = n_feature\n",
    "            # Hidden dimensions\n",
    "            self.hidden_dim = hidden_dim\n",
    "\n",
    "            # Number of hidden layers\n",
    "            self.num_layers = num_layers\n",
    "\n",
    "            # Building your LSTM\n",
    "            # batch_first=True causes input/output tensors to be of shape\n",
    "            # (batch_dim, seq_dim, feature_dim)\n",
    "            self.lstm = nn.LSTM(n_feature, hidden_dim, num_layers, batch_first=True)\n",
    "\n",
    "            # Readout layer\n",
    "            self.fc = nn.Linear(hidden_dim, output_dim)\n",
    "\n",
    "\n",
    "        def forward(self, x):\n",
    "            # Initialize hidden state with zeros\n",
    "            h0 = torch.zeros(self.num_layers, x.size(0), self.hidden_dim)\n",
    "\n",
    "            # Initialize cell state with zeros\n",
    "            c0 = torch.zeros(self.num_layers, x.size(0), self.hidden_dim)\n",
    "\n",
    "            # One time step\n",
    "            # We need to detach as we are doing truncated backpropagation through time (BPTT)\n",
    "            # If we don't, we'll backprop all the way to the start even after going through another batch\n",
    "            out, (hn, cn) = self.lstm(x, (h0.detach(), c0.detach()))\n",
    "\n",
    "            # Index hidden state of last time step\n",
    "            # just want last time step hidden states!\n",
    "            out = self.fc(out[:, -1, :])\n",
    "            return out"
   ]
  },
  {
   "cell_type": "markdown",
   "metadata": {},
   "source": [
    "## Bidirectional LSTM\n",
    "The only different in the configuration of Bidirectional LSTM and Vanila LSTM is the number of layer need be multiplication of  2 or *2. For example : \n",
    "\n",
    "self.fc = nn.Linear(hidden_dim *2, output_dim) <br>\n",
    "h0 = torch.zeros(self.num_layers *2, x.size(0), self.hidden_dim)<br>\n",
    "c0 = torch.zeros(self.num_layers *2, x.size(0), self.hidden_dim)"
   ]
  },
  {
   "cell_type": "code",
   "execution_count": 13,
   "metadata": {},
   "outputs": [],
   "source": [
    "class BidirectionalLSTM(nn.Module):\n",
    "\n",
    "    def __init__(self, n_feature, hidden_dim, num_layers, output_dim):\n",
    "        super(BidirectionalLSTM, self).__init__()\n",
    "\n",
    "        self.n_feature = n_feature\n",
    "        # Hidden dimensions\n",
    "        self.hidden_dim = hidden_dim\n",
    "\n",
    "        # Number of hidden layers\n",
    "        self.num_layers = num_layers\n",
    "\n",
    "        # Building your LSTM\n",
    "        # batch_first=True causes input/output tensors to be of shape\n",
    "        # (batch_dim, seq_dim, feature_dim)\n",
    "        self.lstm = nn.LSTM(n_feature, hidden_dim, num_layers, batch_first=True,bidirectional=True)\n",
    "\n",
    "        # Readout layer *2 for bidirectional LSTM\n",
    "        self.fc = nn.Linear(hidden_dim*2, output_dim)\n",
    "\n",
    "    def forward(self, x):\n",
    "        # Initialize hidden state with zeros\n",
    "        h0 = torch.zeros(self.num_layers*2, x.size(0), self.hidden_dim)\n",
    "\n",
    "        # Initialize cell state with zeros\n",
    "        c0 = torch.zeros(self.num_layers*2, x.size(0), self.hidden_dim)\n",
    "\n",
    "        # We need to detach as we are doing truncated backpropagation through time (BPTT)\n",
    "        # If we don't, we'll backprop all the way to the start even after going through another batch\n",
    "        out, (hn, cn) = self.lstm(x, (h0.detach(), c0.detach()))\n",
    "\n",
    "        # Index hidden state of last time step\n",
    "        out = self.fc(out[:, -1, :])\n",
    "        \n",
    "        return out"
   ]
  },
  {
   "cell_type": "markdown",
   "metadata": {},
   "source": [
    "## Input Model \n",
    "The model is input by feed in the require attributes such as number of input layer, output layer and hidden layer.\n",
    "\n",
    "How to Use : \n",
    "1. Select one of the model base on the application as below and comment others model\n",
    "2. IF use Vanila LSTM , set num_layer = 1 and use the model = LSTM()\n",
    "3. IF use stacked LSTM , set num_layer more than 1 and use the model = LSTM()\n",
    "4. IF use Bidirectional LSTM, use the  model = BidirectionalLSTM()\n"
   ]
  },
  {
   "cell_type": "code",
   "execution_count": 14,
   "metadata": {},
   "outputs": [],
   "source": [
    "#Arguments for LSTM model\n",
    "hidden_dim = 10\n",
    "number_of_time_series = 1 \n",
    "timestep = 1 \n",
    "\n",
    "#1 for vanila LSTM , >1 is mean stacked LSTM\n",
    "num_layers = 3 \n",
    "\n",
    "#Vanila , Stacked LSTM\n",
    "model = LSTM(n_feature=number_of_time_series, hidden_dim=hidden_dim, output_dim=timestep, num_layers=num_layers)\n",
    "\n",
    "#Bidirectional LSTM\n",
    "# model = BidirectionalLSTM(n_feature=number_of_time_series, hidden_dim=hidden_dim, output_dim=timestep, num_layers=num_layers)\n"
   ]
  },
  {
   "cell_type": "markdown",
   "metadata": {},
   "source": [
    "Define the MSE as loss function and using Adam as the model optimiser"
   ]
  },
  {
   "cell_type": "code",
   "execution_count": 15,
   "metadata": {},
   "outputs": [],
   "source": [
    "#loss function \n",
    "loss_fn = torch.nn.MSELoss()\n",
    "\n",
    "#optimiser\n",
    "optimiser = torch.optim.Adam(model.parameters(), lr=0.01)"
   ]
  },
  {
   "cell_type": "markdown",
   "metadata": {},
   "source": [
    "## Training"
   ]
  },
  {
   "cell_type": "code",
   "execution_count": 16,
   "metadata": {},
   "outputs": [],
   "source": [
    "def training(num_epochs,train_iter,test_iter,optimiser,loss_fn,model):\n",
    "    # Create a list of zero value to store the averaged value\n",
    "    train_loss = np.zeros(num_epochs)\n",
    "    val_loss = np.zeros(num_epochs)\n",
    "    \n",
    "    # For loop to loop through the data iterator\n",
    "    for t in range(num_epochs):\n",
    "        \n",
    "        # Initial the value to be zero to perform cummulative sum \n",
    "        running_loss_train = 0\n",
    "        running_loss_valid = 0\n",
    "        \n",
    "        for _,(train_X,train_Y) in enumerate(train_iter):\n",
    "\n",
    "            # Forward pass\n",
    "            y_train_pred = model(train_X)\n",
    "\n",
    "            # Reshape to ensure the predicted output (y_train_pred) same size with train_Y shape\n",
    "            y_train_pred=torch.reshape(y_train_pred,(train_Y.shape[0],train_Y.shape[1]))\n",
    "            \n",
    "            #Compare the value using MSE\n",
    "            loss_train = loss_fn(y_train_pred, train_Y)\n",
    "\n",
    "            # Zero out gradient, else they will accumulate between epochs\n",
    "            optimiser.zero_grad()\n",
    "\n",
    "            # Backward pass\n",
    "            loss_train.backward()\n",
    "\n",
    "            # Update parameters\n",
    "            optimiser.step()\n",
    "            \n",
    "            # Summing up the loss over each epoch\n",
    "            running_loss_train += loss_train.item()\n",
    "            \n",
    "        # Average the loss base of the batch size \n",
    "        epoch_loss_train = running_loss_train /len(train_X)\n",
    "        \n",
    "        # Store the averaged value\n",
    "        train_loss[t] = epoch_loss_train\n",
    "        \n",
    "        # Validate the test data loss\n",
    "        with torch.no_grad():\n",
    "            for _,(test_X,test_Y) in enumerate(test_iter):\n",
    "                y_test_pred = model(test_X)\n",
    "\n",
    "                # Reshape to ensure the predicted output (y_test_pred) same size with test_y shape\n",
    "                y_test_pred=torch.reshape(y_test_pred,(test_Y.shape[0],test_Y.shape[1]))\n",
    "                \n",
    "                # Calculate the loss \n",
    "                loss_test = loss_fn(y_test_pred, test_Y)\n",
    "                \n",
    "                # Summing up the loss over each epoch\n",
    "                running_loss_valid += loss_test.item()\n",
    "                \n",
    "        # Average the loss base of the batch size \n",
    "        epoch_loss_test =running_loss_valid /len(test_X)\n",
    "        \n",
    "        # Store the averaged value\n",
    "        val_loss[t] = epoch_loss_test\n",
    "    \n",
    "    return train_loss,val_loss"
   ]
  },
  {
   "cell_type": "code",
   "execution_count": 17,
   "metadata": {},
   "outputs": [],
   "source": [
    "# Start Training \n",
    "train_loss,val_loss = training(num_epochs,train_iter,test_iter,optimiser,loss_fn,model)"
   ]
  },
  {
   "cell_type": "markdown",
   "metadata": {},
   "source": [
    "## Evaluation \n",
    "A train loss and val loss is plotted to define how well the data is fitting the model "
   ]
  },
  {
   "cell_type": "code",
   "execution_count": 18,
   "metadata": {},
   "outputs": [
    {
     "data": {
      "image/png": "[encoded data removed]",
      "text/plain": [
       "<Figure size 720x432 with 1 Axes>"
      ]
     },
     "metadata": {
      "needs_background": "light"
     },
     "output_type": "display_data"
    }
   ],
   "source": [
    "plt.figure(figsize=(10,6))\n",
    "plt.plot(train_loss, label=\"Training\")\n",
    "plt.plot(val_loss, label=\"Testing\")\n",
    "plt.xlabel(\"Epoch\")\n",
    "plt.ylabel(\"MSE\")\n",
    "plt.legend()\n",
    "plt.title(\"Train Loss & Test Loss\")\n",
    "plt.show()"
   ]
  },
  {
   "cell_type": "markdown",
   "metadata": {},
   "source": [
    "## Inference\n",
    "This section is to inference the model by feeding in testing data and determine the output forecast value and calculate the RMSE .\n",
    "\n",
    "It consist of 4 section :\n",
    "\n",
    "Section 1 : Feed in the train and test data to the model <br>\n",
    "Section 2 : Reshape both to the original data dimension <br>\n",
    "Section 3 : Invert the scaling back to orignal data value <br>\n",
    "Section 4 : Calculate the RMSE of train and test data \n"
   ]
  },
  {
   "cell_type": "code",
   "execution_count": 19,
   "metadata": {},
   "outputs": [],
   "source": [
    "# Section 1 : make predictions\n",
    "with torch.no_grad():\n",
    "    y_train_prediction = model(trainX)\n",
    "    y_test_prediction = model(testX)\n",
    "\n",
    "# Section 2 : Reshape to original data\n",
    "y_train_prediction= torch.reshape(y_train_prediction,(y_train_prediction.shape[0],y_train_prediction.shape[1]))\n",
    "trainY = torch.reshape(trainY,(trainY.shape[0],trainY.shape[1]))\n",
    "y_test_prediction = torch.reshape(y_test_prediction,(y_test_prediction.shape[0],y_test_prediction.shape[1]))\n",
    "testY = torch.reshape(testY,(testY.shape[0],testY.shape[1]))"
   ]
  },
  {
   "cell_type": "code",
   "execution_count": 20,
   "metadata": {},
   "outputs": [],
   "source": [
    "# Section 3 : Invert predictions\n",
    "y_train_prediction= scaler.inverse_transform(y_train_prediction.detach().numpy())\n",
    "y_train = scaler.inverse_transform(trainY.detach().numpy())\n",
    "y_test_prediction = scaler.inverse_transform(y_test_prediction.detach().numpy())\n",
    "y_test = scaler.inverse_transform(testY.detach().numpy())"
   ]
  },
  {
   "cell_type": "code",
   "execution_count": 21,
   "metadata": {},
   "outputs": [
    {
     "name": "stdout",
     "output_type": "stream",
     "text": [
      "y-test\t\ty-predict\n",
      "[300.]\t\t[310.20367]\n",
      "[310.]\t\t[311.43823]\n",
      "[320.]\t\t[315.70956]\n",
      "[330.]\t\t[329.74063]\n",
      "[340.]\t\t[338.36484]\n",
      "[350.]\t\t[342.25262]\n",
      "[360.]\t\t[350.28894]\n",
      "[370.]\t\t[360.10208]\n",
      "[380.]\t\t[367.71237]\n",
      "[390.]\t\t[375.00922]\n"
     ]
    }
   ],
   "source": [
    "print(\"y-test\\t\\ty-predict\")\n",
    "for i in range(len(y_test_prediction)):\n",
    "    print(f\"{y_test[i]}\\t\\t{y_test_prediction[i]}\")"
   ]
  },
  {
   "cell_type": "code",
   "execution_count": 22,
   "metadata": {},
   "outputs": [
    {
     "name": "stdout",
     "output_type": "stream",
     "text": [
      "y_test_shape : (10, 1)\n",
      "y_test_pred_shape : (10, 1)\n"
     ]
    }
   ],
   "source": [
    "print(f\"y_test_shape : {y_test.shape}\")\n",
    "print(f\"y_test_pred_shape : {y_test_prediction.shape}\")"
   ]
  },
  {
   "cell_type": "code",
   "execution_count": 23,
   "metadata": {},
   "outputs": [
    {
     "name": "stdout",
     "output_type": "stream",
     "text": [
      "Train Score: 8.50 RMSE\n",
      "Test Score: 8.69 RMSE\n"
     ]
    }
   ],
   "source": [
    "# Section 4 : Calculate root mean squared error for both train and test data \n",
    "trainScore = math.sqrt(mean_squared_error(y_train[:,0], y_train_prediction[:,0]))\n",
    "print('Train Score: %.2f RMSE' % (trainScore))\n",
    "testScore = math.sqrt(mean_squared_error(y_test[:,0], y_test_prediction[:,0]))\n",
    "print('Test Score: %.2f RMSE' % (testScore))"
   ]
  },
  {
   "cell_type": "markdown",
   "metadata": {},
   "source": [
    "# Exercise for Univariate (Solution)"
   ]
  },
  {
   "cell_type": "markdown",
   "metadata": {},
   "source": [
    "Task : Using LSTM to create a model that can predict lastest sales of shampoo"
   ]
  },
  {
   "cell_type": "markdown",
   "metadata": {},
   "source": [
    "## Hyperparameter"
   ]
  },
  {
   "cell_type": "code",
   "execution_count": 24,
   "metadata": {},
   "outputs": [
    {
     "data": {
      "text/plain": [
       "<torch._C.Generator at 0x244519c01b0>"
      ]
     },
     "execution_count": 24,
     "metadata": {},
     "output_type": "execute_result"
    }
   ],
   "source": [
    "#Hyperparameter\n",
    "num_epochs_shampoo = 39\n",
    "split_ratio = 0.70\n",
    "batch_size_shampoo = 5\n",
    "window_size_shampoo = 2\n",
    "\n",
    "#Hidden Layer for LSTM\n",
    "hidden_dim = 32\n",
    "\n",
    "#seed\n",
    "torch.manual_seed(123)"
   ]
  },
  {
   "cell_type": "markdown",
   "metadata": {},
   "source": [
    "## Data Preparation"
   ]
  },
  {
   "cell_type": "code",
   "execution_count": 25,
   "metadata": {},
   "outputs": [
    {
     "data": {
      "text/plain": [
       "0    266.0\n",
       "1    145.9\n",
       "2    183.1\n",
       "3    119.3\n",
       "4    180.3\n",
       "Name: sales, dtype: float64"
      ]
     },
     "execution_count": 25,
     "metadata": {},
     "output_type": "execute_result"
    }
   ],
   "source": [
    "shampoo = pd.read_csv('../datasets/others/shampoo-sales.csv')\n",
    "shampoo_ts =shampoo['sales']\n",
    "shampoo_ts.head() \n",
    "                            "
   ]
  },
  {
   "cell_type": "markdown",
   "metadata": {},
   "source": [
    "### Data Splitting"
   ]
  },
  {
   "cell_type": "code",
   "execution_count": 26,
   "metadata": {},
   "outputs": [
    {
     "data": {
      "text/plain": [
       "25"
      ]
     },
     "execution_count": 26,
     "metadata": {},
     "output_type": "execute_result"
    }
   ],
   "source": [
    "# Split data by indexing \n",
    "split_data = round(len(shampoo_ts)*split_ratio)\n",
    "split_data"
   ]
  },
  {
   "cell_type": "code",
   "execution_count": 27,
   "metadata": {},
   "outputs": [
    {
     "name": "stdout",
     "output_type": "stream",
     "text": [
      "train_data_shampoo_shape\n",
      "(25,)\n",
      "test_data_shampoo_shape\n",
      "(11,)\n"
     ]
    }
   ],
   "source": [
    "# Visualize data shape after splitting\n",
    "train_data_shampoo = shampoo_ts[:split_data]\n",
    "test_data_shampoo = shampoo_ts[split_data:]\n",
    "train_time = shampoo_ts.index[:split_data]\n",
    "test_time = shampoo_ts.index[split_data:]\n",
    "print(\"train_data_shampoo_shape\")\n",
    "print(train_data_shampoo.shape)\n",
    "print(\"test_data_shampoo_shape\")\n",
    "print(test_data_shampoo.shape)"
   ]
  },
  {
   "cell_type": "markdown",
   "metadata": {},
   "source": [
    "### Data Normalization"
   ]
  },
  {
   "cell_type": "code",
   "execution_count": 28,
   "metadata": {},
   "outputs": [
    {
     "data": {
      "text/plain": [
       "array([[-0.82401588],\n",
       "       [-0.57790275],\n",
       "       [-1.        ],\n",
       "       [-0.59642739],\n",
       "       [-0.67449553]])"
      ]
     },
     "execution_count": 28,
     "metadata": {},
     "output_type": "execute_result"
    }
   ],
   "source": [
    "# Reshape before normalize\n",
    "train_data_shampoo = train_data_shampoo.values.reshape(-1, 1)\n",
    "test_data_shampoo = test_data_shampoo.values.reshape((-1, 1))\n",
    "\n",
    "# Build Scaler and scale the train and test data\n",
    "scaler = MinMaxScaler(feature_range=(-1, 1))\n",
    "train_data_normalized_shampoo = scaler.fit_transform(train_data_shampoo)\n",
    "test_data_normalized_shampoo = scaler.fit_transform(test_data_shampoo)\n",
    "train_data_normalized_shampoo[1:6]"
   ]
  },
  {
   "cell_type": "markdown",
   "metadata": {},
   "source": [
    "### Data Sequencing "
   ]
  },
  {
   "cell_type": "code",
   "execution_count": 29,
   "metadata": {},
   "outputs": [
    {
     "name": "stdout",
     "output_type": "stream",
     "text": [
      "trainX shape:(23, 2, 1) trainY shape:(23, 1)\n",
      "\n",
      "testX shape:(9, 2, 1) testX shape:(9, 1)\n"
     ]
    }
   ],
   "source": [
    "trainX_shampoo ,trainY_shampoo =  univariate_single_step(train_data_normalized_shampoo,window_size_shampoo)\n",
    "testX_shampoo , testY_shampoo = univariate_single_step(test_data_normalized_shampoo,window_size_shampoo)\n",
    "print(f\"trainX shape:{trainX_shampoo.shape} trainY shape:{trainY_shampoo.shape}\\n\")\n",
    "print(f\"testX shape:{testX_shampoo.shape} testX shape:{testY_shampoo.shape}\")"
   ]
  },
  {
   "cell_type": "markdown",
   "metadata": {},
   "source": [
    "### Data Transform"
   ]
  },
  {
   "cell_type": "code",
   "execution_count": 30,
   "metadata": {},
   "outputs": [
    {
     "name": "stdout",
     "output_type": "stream",
     "text": [
      "trainX shape:torch.Size([23, 2, 1]) trainY shape:torch.Size([23, 1])\n",
      "\n",
      "testX shape:torch.Size([9, 2, 1]) testX shape:torch.Size([9, 1])\n"
     ]
    }
   ],
   "source": [
    "# Transfrom numpy to Pytorch tensor\n",
    "# Make training and test sets in torch\n",
    "trainX_shampoo = torch.from_numpy(trainX_shampoo).type(torch.Tensor)\n",
    "trainY_shampoo = torch.from_numpy(trainY_shampoo).type(torch.Tensor)\n",
    "testX_shampoo = torch.from_numpy(testX_shampoo).type(torch.Tensor)\n",
    "testY_shampoo = torch.from_numpy(testY_shampoo).type(torch.Tensor)\n",
    "print(f\"trainX shape:{trainX_shampoo.shape} trainY shape:{trainY_shampoo.shape}\\n\")\n",
    "print(f\"testX shape:{testX_shampoo.shape} testX shape:{testY_shampoo.shape}\")\n"
   ]
  },
  {
   "cell_type": "markdown",
   "metadata": {},
   "source": [
    "### Data Iterator"
   ]
  },
  {
   "cell_type": "code",
   "execution_count": 31,
   "metadata": {},
   "outputs": [],
   "source": [
    "# Create Iterator\n",
    "train_dataset_shampoo = TensorDataset(trainX_shampoo, trainY_shampoo)\n",
    "train_iter_shampoo = DataLoader(train_dataset_shampoo,batch_size=batch_size_shampoo,shuffle=False)\n",
    "\n",
    "test_dataset_shampoo = TensorDataset(testX_shampoo, testY_shampoo)\n",
    "test_iter_shampoo = DataLoader(test_dataset_shampoo,batch_size=batch_size_shampoo,shuffle=False)"
   ]
  },
  {
   "cell_type": "markdown",
   "metadata": {},
   "source": [
    "## Input Model \n",
    "\n",
    "The model is input by feed in the require attributes such as number of input layer, output layer and hidden layer.\n",
    "\n",
    "How to Use :\n",
    "\n",
    "1. Select one of the model base on the application as below and comment others model\n",
    "2. IF use Vanila LSTM , set num_layer = 1 and use the model = LSTM()\n",
    "3. IF use stacked LSTM , set num_layer more that 1 and use the model = LSTM()\n",
    "4. IF use Bidirectional LSTM,use the model = BidirectionalLSTM()"
   ]
  },
  {
   "cell_type": "code",
   "execution_count": 45,
   "metadata": {},
   "outputs": [],
   "source": [
    "# Arguments for LSTM model\n",
    "number_of_time_series = 1 \n",
    "timestep = 1\n",
    "output_dim =1 \n",
    "\n",
    "# num_layers : 1 for vanila LSTM , >1 is mean stacked LSTM\n",
    "num_layers = 3\n",
    "\n",
    "# Vanila ,Stacked LSTM\n",
    "# model_shampoo = LSTM(n_feature=number_of_time_series, hidden_dim=hidden_dim, output_dim=timestep, num_layers=num_layers)\n",
    "\n",
    "# Bidirectional LSTM\n",
    "model_shampoo = BidirectionalLSTM(n_feature=number_of_time_series, hidden_dim=hidden_dim, output_dim=timestep, num_layers=num_layers)\n",
    "\n"
   ]
  },
  {
   "cell_type": "code",
   "execution_count": 46,
   "metadata": {},
   "outputs": [],
   "source": [
    "# Define MSE as Loss function \n",
    "loss_fn_shampoo = torch.nn.MSELoss()\n",
    "\n",
    "# Set up optimiser \n",
    "optimiser_shampoo = torch.optim.Adam(model_shampoo.parameters(), lr=0.01)"
   ]
  },
  {
   "cell_type": "markdown",
   "metadata": {},
   "source": [
    "## Training "
   ]
  },
  {
   "cell_type": "code",
   "execution_count": 47,
   "metadata": {},
   "outputs": [],
   "source": [
    "# Start Training \n",
    "train_loss_shampoo,val_loss_shampoo = training(num_epochs_shampoo,train_iter_shampoo,test_iter_shampoo,optimiser_shampoo,loss_fn_shampoo,model_shampoo)"
   ]
  },
  {
   "cell_type": "markdown",
   "metadata": {},
   "source": [
    "## Evaluate\n",
    "The first part is plot the Train loss & Test loss as the training goes on \n",
    "\n",
    "The second part serve as a function to zoom in certain period on Train loss & Test loss graph to have a clear visualize cause sometime the loss will skew and make us hard to determine the best fit epoch .\n",
    "\n",
    "For example : The learning curve is skew heavily on the left ,the remaining losses is hard to visualize\n",
    "<img src=\"https://3qeqpr26caki16dnhd19sv6by6v-wpengine.netdna-ssl.com/wp-content/uploads/2018/12/Example-of-Train-and-Validation-Learning-Curves-Showing-A-Good-Fit.png\" width =\"500\" height=500 >"
   ]
  },
  {
   "cell_type": "code",
   "execution_count": 73,
   "metadata": {},
   "outputs": [
    {
     "data": {
      "image/png": "[encoded data removed]",
      "text/plain": [
       "<Figure size 720x432 with 1 Axes>"
      ]
     },
     "metadata": {
      "needs_background": "light"
     },
     "output_type": "display_data"
    }
   ],
   "source": [
    "# Plot Learning Curve \n",
    "plt.figure(figsize=(10,6))\n",
    "plt.plot(train_loss_shampoo, label=\"Training loss\")\n",
    "plt.plot(val_loss_shampoo, label=\"Testing loss\")\n",
    "plt.xlabel(\"Epoch_shampoo\")\n",
    "plt.ylabel(\"MSE_shampoo\")\n",
    "plt.legend()\n",
    "plt.title(\"Learning Curve\")\n",
    "plt.show()"
   ]
  },
  {
   "cell_type": "code",
   "execution_count": 74,
   "metadata": {},
   "outputs": [
    {
     "data": {
      "image/png": "[encoded data removed]",
      "text/plain": [
       "<Figure size 720x432 with 1 Axes>"
      ]
     },
     "metadata": {
      "needs_background": "light"
     },
     "output_type": "display_data"
    }
   ],
   "source": [
    "# Zoom in to visualize the graph by fill in start_epoch and end_epoch that want to analyse\n",
    "start_epoch = 35\n",
    "end_epoch = 40\n",
    "plt.figure(figsize=(10,6))\n",
    "plt.plot(train_loss_shampoo[start_epoch:end_epoch], label=\"Training loss\")\n",
    "plt.plot(val_loss_shampoo[start_epoch:end_epoch], label=\"Testing loss\")\n",
    "plt.title(\"Learning Curve\")\n",
    "plt.xlabel(\"Epoch_Demand\")\n",
    "plt.ylabel(\"MSE_Demand\")\n",
    "position=range(end_epoch-start_epoch)\n",
    "labels=range(start_epoch,end_epoch)\n",
    "plt.xticks(position, labels)\n",
    "plt.legend()\n",
    "plt.show()"
   ]
  },
  {
   "cell_type": "markdown",
   "metadata": {},
   "source": [
    "## Inference\n",
    "This section is to inference the model and plot the forecast result "
   ]
  },
  {
   "cell_type": "code",
   "execution_count": 50,
   "metadata": {},
   "outputs": [],
   "source": [
    "# Make predictions\n",
    "with torch.no_grad():\n",
    "    y_train_prediction_shampoo= model_shampoo(trainX_shampoo)\n",
    "    y_test_prediction_shampoo= model_shampoo(testX_shampoo)\n",
    "\n",
    "# Reshape to original data\n",
    "y_train_prediction_shampoo = torch.reshape(y_train_prediction_shampoo,(y_train_prediction_shampoo.shape[0],y_train_prediction_shampoo.shape[1]))\n",
    "trainY_shampoo = torch.reshape(trainY_shampoo,(trainY_shampoo.shape[0],trainY_shampoo.shape[1]))\n",
    "y_test_prediction_shampoo = torch.reshape(y_test_prediction_shampoo,(y_test_prediction_shampoo.shape[0],y_test_prediction_shampoo.shape[1]))\n",
    "testY_shampoo = torch.reshape(testY_shampoo,(testY_shampoo.shape[0],testY_shampoo.shape[1]))"
   ]
  },
  {
   "cell_type": "code",
   "execution_count": 51,
   "metadata": {},
   "outputs": [],
   "source": [
    "# Invert predictions\n",
    "y_train_pred_shampoo = scaler.inverse_transform(y_train_prediction_shampoo.detach().numpy())\n",
    "y_train_shampoo = scaler.inverse_transform(trainY_shampoo.detach().numpy())\n",
    "y_test_pred_shampoo = scaler.inverse_transform(y_test_prediction_shampoo.detach().numpy())\n",
    "y_test_shampoo = scaler.inverse_transform(testY_shampoo.detach().numpy())"
   ]
  },
  {
   "cell_type": "code",
   "execution_count": 53,
   "metadata": {},
   "outputs": [
    {
     "name": "stdout",
     "output_type": "stream",
     "text": [
      "y-test\t\ty-predict\n",
      "[439.3]\t\t[429.17902]\n",
      "[401.30002]\t\t[408.8876]\n",
      "[437.4]\t\t[422.51743]\n",
      "[575.5]\t\t[414.8212]\n",
      "[407.60004]\t\t[582.279]\n",
      "[682.]\t\t[474.78647]\n",
      "[475.3]\t\t[565.3284]\n",
      "[581.3]\t\t[594.95605]\n",
      "[646.9]\t\t[597.13715]\n"
     ]
    }
   ],
   "source": [
    "print(\"y-test\\t\\ty-predict\")\n",
    "for i in range(len(y_test_shampoo)):\n",
    "    print(f\"{y_test_shampoo[i]}\\t\\t{y_test_pred_shampoo[i]}\")"
   ]
  },
  {
   "cell_type": "code",
   "execution_count": 54,
   "metadata": {},
   "outputs": [
    {
     "name": "stdout",
     "output_type": "stream",
     "text": [
      "y_test_shape : (9, 1)\n",
      "y_test_pred_shape : (9, 1)\n"
     ]
    }
   ],
   "source": [
    "print(f\"y_test_shape : {y_test_shampoo.shape}\")   \n",
    "print(f\"y_test_pred_shape : {y_test_pred_shampoo.shape}\")"
   ]
  },
  {
   "cell_type": "code",
   "execution_count": 55,
   "metadata": {},
   "outputs": [
    {
     "name": "stdout",
     "output_type": "stream",
     "text": [
      "Train Score: 59.43 RMSE\n",
      "Test Score: 110.76 RMSE\n"
     ]
    }
   ],
   "source": [
    "# Calculate root mean squared error\n",
    "trainScore_shampoo = math.sqrt(mean_squared_error(y_train_shampoo[:,0], y_train_pred_shampoo[:,0]))\n",
    "print('Train Score: %.2f RMSE' % (trainScore_shampoo))\n",
    "testScore_shampoo = math.sqrt(mean_squared_error(y_test_shampoo[:,0], y_test_pred_shampoo[:,0]))\n",
    "print('Test Score: %.2f RMSE' % (testScore_shampoo))"
   ]
  },
  {
   "cell_type": "markdown",
   "metadata": {},
   "source": [
    "## Result "
   ]
  },
  {
   "cell_type": "code",
   "execution_count": 58,
   "metadata": {},
   "outputs": [],
   "source": [
    "# Adjustment to make the sequence data plot on original test data \n",
    "a=range(split_data+window_size_shampoo,split_data+len(y_test_shampoo)+window_size_shampoo)"
   ]
  },
  {
   "cell_type": "code",
   "execution_count": 61,
   "metadata": {},
   "outputs": [
    {
     "data": {
      "text/plain": [
       "<matplotlib.legend.Legend at 0x2445c2acdc8>"
      ]
     },
     "execution_count": 61,
     "metadata": {},
     "output_type": "execute_result"
    },
    {
     "data": {
      "image/png": "[encoded data removed]",
      "text/plain": [
       "<Figure size 720x432 with 1 Axes>"
      ]
     },
     "metadata": {
      "needs_background": "light"
     },
     "output_type": "display_data"
    }
   ],
   "source": [
    "plt.figure(figsize=(10,6))\n",
    "plt.plot(test_time,test_data_shampoo, label = 'Test Data')\n",
    "plt.plot(a,y_test_shampoo, color=\"green\",label = 'Test Data After Sequencing')\n",
    "plt.plot(a,y_test_pred_shampoo,color=\"red\", label = 'Forecast')\n",
    "plt.xlabel(\"Time\")\n",
    "plt.ylabel(\"Value\")\n",
    "plt.title(\"Shampoo Sales\")\n",
    "plt.legend()"
   ]
  },
  {
   "cell_type": "markdown",
   "metadata": {},
   "source": [
    "## Reference\n",
    "1. Deep Learning for Time Series Forecasting (Predict the Future with MLPs,CNNs and LSTMs in Python) , Jason Brownlee"
   ]
  }
 ],
 "metadata": {
  "kernelspec": {
   "display_name": "Python 3",
   "language": "python",
   "name": "python3"
  },
  "language_info": {
   "codemirror_mode": {
    "name": "ipython",
    "version": 3
   },
   "file_extension": ".py",
   "mimetype": "text/x-python",
   "name": "python",
   "nbconvert_exporter": "python",
   "pygments_lexer": "ipython3",
   "version": "3.7.9"
  }
 },
 "nbformat": 4,
 "nbformat_minor": 4
}
