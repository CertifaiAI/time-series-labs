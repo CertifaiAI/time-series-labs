{
 "cells": [
  {
   "cell_type": "markdown",
   "metadata": {},
   "source": [
    "# 05 Data Preparation for Deep Learning\n",
    "It is important to first transform any data that you have into a suitable format before any time series analysis can be done. This lab will guide you through from the basics of transforming raw time series data into structure suitable for supervised learning task, and ways to transform time series data into 3-dimensional structure to be feed into convolutional neural networks (CNN) and long short-term memory (LSTM). At the end of this lab, you will be able to:\n",
    "\n",
    "1. transform a time series dataset into a two-dimensional supervised learning format, and\n",
    "2. transform a two-dimensional time series dataset into a three-dimensional structure."
   ]
  },
  {
   "cell_type": "markdown",
   "metadata": {},
   "source": [
    "But first let us import some necessary libraries for this lab."
   ]
  },
  {
   "cell_type": "code",
   "execution_count": 3,
   "metadata": {},
   "outputs": [],
   "source": [
    "# importing required libraries or modules for this lab\n",
    "from numpy import array"
   ]
  },
  {
   "cell_type": "markdown",
   "metadata": {},
   "source": [
    "## Transforming Time Series Data for Supervised Learning Task\n",
    "\n",
    "Below provides an example of a function written with the purpose to transform a univariate time series into a structure suitable for supervised learning."
   ]
  },
  {
   "cell_type": "markdown",
   "metadata": {},
   "source": [
    "Suppose we have a univariate time series. It has a 1-dimensional structure, and thus is unable to perform supervised learning. Why? Because there are no clear distinctions of features and labels."
   ]
  },
  {
   "cell_type": "code",
   "execution_count": 4,
   "metadata": {},
   "outputs": [
    {
     "name": "stdout",
     "output_type": "stream",
     "text": [
      "(10,)\n"
     ]
    }
   ],
   "source": [
    "# define univariate time series\n",
    "series = array([1,2,3,4,5,6,7,8,9,10])\n",
    "print(series.shape)"
   ]
  },
  {
   "cell_type": "code",
   "execution_count": 1,
   "metadata": {},
   "outputs": [],
   "source": [
    "# split a univariate sequence into samples\n",
    "def split_sequence(sequence, n_steps):\n",
    "    X, y = list(), list()\n",
    "    for i in range(len(sequence)):\n",
    "    # find the end of this pattern\n",
    "        end_ix = i + n_steps\n",
    "        # check if we are beyond the sequence\n",
    "        if end_ix > len(sequence)-1:\n",
    "            break\n",
    "    # gather input and output parts of the pattern\n",
    "        seq_x, seq_y = sequence[i:end_ix], sequence[end_ix]\n",
    "        X.append(seq_x)\n",
    "        y.append(seq_y)\n",
    "    return array(X), array(y)"
   ]
  },
  {
   "cell_type": "code",
   "execution_count": 5,
   "metadata": {},
   "outputs": [
    {
     "name": "stdout",
     "output_type": "stream",
     "text": [
      "Features are now in the shape of (7, 3) while labels are now in the shape of (7,)\n",
      "[1 2 3] 4\n",
      "[2 3 4] 5\n",
      "[3 4 5] 6\n",
      "[4 5 6] 7\n",
      "[5 6 7] 8\n",
      "[6 7 8] 9\n",
      "[7 8 9] 10\n"
     ]
    }
   ],
   "source": [
    "# calling the function to transform time series into features and labels\n",
    "x, y = split_sequence(series, 3)\n",
    "print(f\"Features are now in the shape of {x.shape} while labels are now in the shape of {y.shape}\")\n",
    "\n",
    "# printing out each sample\n",
    "for i in range(len(x)):\n",
    "    print(x[i], y[i])"
   ]
  },
  {
   "cell_type": "markdown",
   "metadata": {},
   "source": [
    "\"Running the example first prints the shape of the time series, in this case 10 time steps\n",
    "of observations. Next, the series is split into input and output components for a supervised\n",
    "learning problem. We can see that for the chosen representation that we have 7 samples for the\n",
    "input and output and 3 input features. The shape of the output is 7 samples represented as (7,)\n",
    "indicating that the array is a single column. It could also be represented as a two-dimensional\n",
    "array with 7 rows and 1 column [7, 1]. Finally , the input and output aspects of each sample\n",
    "are printed, showing the expected breakdown of the problem.\""
   ]
  },
  {
   "cell_type": "markdown",
   "metadata": {},
   "source": [
    "## Preparing 3-Dimensional Data\n",
    "\"Preparing time series data for CNNs and LSTMs requires one additional step beyond transforming\n",
    "the data into a supervised learning problem.\"\n",
    "\"The input layer for CNN and LSTM models is specified by the input shape argument on\n",
    "the first hidden layer of the network. This too can make things confusing for beginners as\n",
    "intuitively we may expect the first layer defined in the model be the input layer, not the first\n",
    "hidden layer. For example, below is an example of a network with one hidden LSTM layer and\n",
    "one Dense output layer.\""
   ]
  },
  {
   "cell_type": "code",
   "execution_count": null,
   "metadata": {},
   "outputs": [],
   "source": []
  },
  {
   "cell_type": "markdown",
   "metadata": {},
   "source": [
    "Source: Deep Learning for Time Series Forecasting, Jason Brownlee"
   ]
  },
  {
   "cell_type": "code",
   "execution_count": null,
   "metadata": {},
   "outputs": [],
   "source": []
  }
 ],
 "metadata": {
  "kernelspec": {
   "display_name": "Python 3",
   "language": "python",
   "name": "python3"
  },
  "language_info": {
   "codemirror_mode": {
    "name": "ipython",
    "version": 3
   },
   "file_extension": ".py",
   "mimetype": "text/x-python",
   "name": "python",
   "nbconvert_exporter": "python",
   "pygments_lexer": "ipython3",
   "version": "3.7.3"
  }
 },
 "nbformat": 4,
 "nbformat_minor": 4
}
