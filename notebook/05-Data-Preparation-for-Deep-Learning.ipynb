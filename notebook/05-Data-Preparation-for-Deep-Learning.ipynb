{
 "cells": [
  {
   "cell_type": "markdown",
   "metadata": {},
   "source": [
    "TODO : \n",
    "- Find multivariate real world data \n",
    "- Create exercise and solution for it "
   ]
  },
  {
   "cell_type": "markdown",
   "metadata": {},
   "source": [
    "# 05 Data Preparation for Deep Learning\n",
    "It is important to first transform any data that you have into a suitable format before any time series analysis can be done. This lab will guide you through from the basics of transforming raw time series data into structure suitable for supervised learning task, and ways to transform time series data into 3-dimensional structure in PyTorch to be feed into convolutional neural networks (CNN) and long short-term memory (LSTM). At the end of this lab, you will be able to:\n",
    "\n",
    "1. transform a time series dataset into a x-feature and y-label base on supervised learning format, and\n",
    "2. transform a it into a three-dimensional structure."
   ]
  },
  {
   "cell_type": "markdown",
   "metadata": {},
   "source": [
    "But first let us import some necessary libraries for this lab."
   ]
  },
  {
   "cell_type": "code",
   "execution_count": 156,
   "metadata": {},
   "outputs": [],
   "source": [
    "# importing required libraries or modules for this lab\n",
    "import numpy as np \n",
    "import pandas as pd\n",
    "import torch"
   ]
  },
  {
   "cell_type": "markdown",
   "metadata": {},
   "source": [
    "# Transforming Time Series Data for Supervised Learning Task\n",
    "\n",
    "Below provides an example of a function written with the purpose to transform a univariate time series into a structure suitable for supervised learning."
   ]
  },
  {
   "cell_type": "markdown",
   "metadata": {},
   "source": [
    "Suppose we have a univariate time series. It has a 1-dimensional structure, and thus is unable to perform supervised learning. Why? Because there are no clear distinctions of features and labels."
   ]
  },
  {
   "cell_type": "markdown",
   "metadata": {},
   "source": [
    "# Univariate Data Prepation"
   ]
  },
  {
   "cell_type": "markdown",
   "metadata": {},
   "source": [
    "## Univariate for Single Step Forecasting"
   ]
  },
  {
   "cell_type": "code",
   "execution_count": 157,
   "metadata": {},
   "outputs": [
    {
     "name": "stdout",
     "output_type": "stream",
     "text": [
      "(10,)\n"
     ]
    }
   ],
   "source": [
    "# Example of time series\n",
    "univariate_series = np.array([1,2,3,4,5,6,7,8,9,10])\n",
    "print(univariate_series.shape)"
   ]
  },
  {
   "cell_type": "code",
   "execution_count": 158,
   "metadata": {},
   "outputs": [],
   "source": [
    "# split a univariate sequence into samples\n",
    "def univariate_single_step(sequence, window_size):\n",
    "    x, y = list(), list()\n",
    "    for i in range(len(sequence)):\n",
    "    # find the end of this pattern\n",
    "        end_ix = i + window_size\n",
    "        # check if we are beyond the sequence\n",
    "        if end_ix > len(sequence)-1:\n",
    "            break\n",
    "    # gather input and output parts of the pattern\n",
    "        seq_x, seq_y = sequence[i:end_ix], sequence[end_ix]\n",
    "        x.append(seq_x)\n",
    "        y.append(seq_y)\n",
    "    return np.array(x), np.array(y)"
   ]
  },
  {
   "cell_type": "code",
   "execution_count": 159,
   "metadata": {},
   "outputs": [
    {
     "name": "stdout",
     "output_type": "stream",
     "text": [
      "Features are now in the shape of (7, 3) while labels are now in the shape of (7,)\n",
      "\n",
      "x-feature\n",
      "7 = total number of data \n",
      "3 = window size\n",
      "\n",
      "y-label\n",
      "7 = number of data\n",
      "\n",
      "[1 2 3] 4\n",
      "[2 3 4] 5\n",
      "[3 4 5] 6\n",
      "[4 5 6] 7\n",
      "[5 6 7] 8\n",
      "[6 7 8] 9\n",
      "[7 8 9] 10\n"
     ]
    }
   ],
   "source": [
    "# calling the function to transform time series into features and labels\n",
    "x_feature, y_label = univariate_single_step(univariate_series,window_size = 3)\n",
    "print(f\"Features are now in the shape of {x_feature.shape} while labels are now in the shape of {y_label.shape}\\n\")\n",
    "print(\"x-feature\\n\"+str(x_feature.shape[0])+\" = total number of data \")\n",
    "print(str(x_feature.shape[1])+\" = window size\\n\")\n",
    "print(\"y-label\\n\"+str(y_label.shape[0])+\" = number of data\\n\")\n",
    "\n",
    "# printing out each sample\n",
    "for i in range(len(x_feature)):\n",
    "    print(x_feature[i], y_label[i])"
   ]
  },
  {
   "cell_type": "markdown",
   "metadata": {},
   "source": [
    "## Univariate for Multi-Step  Forecasting"
   ]
  },
  {
   "cell_type": "code",
   "execution_count": 160,
   "metadata": {},
   "outputs": [],
   "source": [
    "def univariate_multi_step(sequence,window_size,n_multistep):\n",
    "    x, y = list(), list()\n",
    "    for i in range(len(sequence)):\n",
    "    # find the end of this pattern\n",
    "        end_ix = i + window_size\n",
    "        out_ix = end_ix+n_multistep\n",
    "        # check if we are beyond the sequence\n",
    "        if out_ix > len(sequence):\n",
    "            break\n",
    "    # gather input and output parts of the pattern\n",
    "        seq_x, seq_y = sequence[i:end_ix], sequence[end_ix:out_ix]\n",
    "        x.append(seq_x)\n",
    "        y.append(seq_y)\n",
    "    return np.array(x), np.array(y)"
   ]
  },
  {
   "cell_type": "code",
   "execution_count": 161,
   "metadata": {},
   "outputs": [
    {
     "name": "stdout",
     "output_type": "stream",
     "text": [
      "Features are now in the shape of (6, 3) while labels are now in the shape of (6, 2)\n",
      "\n",
      "x-feature\n",
      "6 = total number of data \n",
      "3 = window size \n",
      "\n",
      "y-label\n",
      "6 = number of data\n",
      "2 = number of step\n",
      "\n",
      "[1 2 3] [4 5]\n",
      "[2 3 4] [5 6]\n",
      "[3 4 5] [6 7]\n",
      "[4 5 6] [7 8]\n",
      "[5 6 7] [8 9]\n",
      "[6 7 8] [ 9 10]\n"
     ]
    }
   ],
   "source": [
    "x_feature, y_label = univariate_multi_step(univariate_series,window_size = 3,n_multistep = 2)\n",
    "print(f\"Features are now in the shape of {x_feature.shape} while labels are now in the shape of {y_label.shape}\\n\")\n",
    "print(\"x-feature\\n\"+str(x_feature.shape[0])+\" = total number of data \")\n",
    "print(str(x_feature.shape[1])+\" = window size \\n\")\n",
    "print(\"y-label\\n\"+str(y_label.shape[0])+\" = number of data\")\n",
    "print(str(y_label.shape[1])+\" = number of step\\n\")\n",
    "# printing out each sample\n",
    "for i in range(len(x_feature)):\n",
    "    print(x_feature[i], y_label[i])"
   ]
  },
  {
   "cell_type": "markdown",
   "metadata": {},
   "source": [
    "## Exercise for Univariate (Solution)\n",
    "Try to apply in AirPassengers data by create single step and multi step for univariate time series\n"
   ]
  },
  {
   "cell_type": "code",
   "execution_count": 162,
   "metadata": {},
   "outputs": [
    {
     "data": {
      "text/plain": [
       "1949-01-31    112\n",
       "1949-02-28    118\n",
       "1949-03-31    132\n",
       "1949-04-30    129\n",
       "1949-05-31    121\n",
       "             ... \n",
       "1960-08-31    606\n",
       "1960-09-30    508\n",
       "1960-10-31    461\n",
       "1960-11-30    390\n",
       "1960-12-31    432\n",
       "Freq: M, Length: 144, dtype: int64"
      ]
     },
     "execution_count": 162,
     "metadata": {},
     "output_type": "execute_result"
    }
   ],
   "source": [
    "airpassengers = pd.read_csv('../datasets/decomposition/AirPassengers.csv')\n",
    "airpassengers_ts = pd.Series(airpassengers['#Passengers'].values, \n",
    "                            index = pd.date_range('1949-01', periods = len(airpassengers), freq='M'))\n",
    "airpassengers_ts"
   ]
  },
  {
   "cell_type": "markdown",
   "metadata": {},
   "source": [
    "## Univariate Single-Step Forecasting "
   ]
  },
  {
   "cell_type": "code",
   "execution_count": 164,
   "metadata": {},
   "outputs": [
    {
     "name": "stdout",
     "output_type": "stream",
     "text": [
      "Features are now in the shape of (139, 5) while labels are now in the shape of (139,)\n",
      "[112 118 132 129 121] 135\n",
      "[118 132 129 121 135] 148\n",
      "[132 129 121 135 148] 148\n",
      "[129 121 135 148 148] 136\n",
      "[121 135 148 148 136] 119\n",
      "[135 148 148 136 119] 104\n",
      "[148 148 136 119 104] 118\n",
      "[148 136 119 104 118] 115\n",
      "[136 119 104 118 115] 126\n",
      "[119 104 118 115 126] 141\n"
     ]
    }
   ],
   "source": [
    "x_feature, y_label = univariate_single_step(airpassengers_ts, window_size = 5)\n",
    "print(f\"Features are now in the shape of {x_feature.shape} while labels are now in the shape of {y_label.shape}\")\n",
    "#print out sample\n",
    "for i in range(10):\n",
    "    print(x_feature[i], y_label[i])"
   ]
  },
  {
   "cell_type": "markdown",
   "metadata": {},
   "source": [
    "## Univariate Multi-Step Forecasting"
   ]
  },
  {
   "cell_type": "code",
   "execution_count": 166,
   "metadata": {},
   "outputs": [
    {
     "name": "stdout",
     "output_type": "stream",
     "text": [
      "Features are now in the shape of (138, 5) while labels are now in the shape of (138, 2)\n",
      "[112 118 132 129 121] [135 148]\n",
      "[118 132 129 121 135] [148 148]\n",
      "[132 129 121 135 148] [148 136]\n",
      "[129 121 135 148 148] [136 119]\n",
      "[121 135 148 148 136] [119 104]\n",
      "[135 148 148 136 119] [104 118]\n",
      "[148 148 136 119 104] [118 115]\n",
      "[148 136 119 104 118] [115 126]\n",
      "[136 119 104 118 115] [126 141]\n",
      "[119 104 118 115 126] [141 135]\n"
     ]
    }
   ],
   "source": [
    "x_feature, y_label = univariate_multi_step(airpassengers_ts, window_size = 5, n_multistep = 2)\n",
    "print(f\"Features are now in the shape of {x_feature.shape} while labels are now in the shape of {y_label.shape}\")\n",
    "\n",
    "# printing out sample\n",
    "for i in range(10):\n",
    "    print(x_feature[i], y_label[i])"
   ]
  },
  {
   "cell_type": "markdown",
   "metadata": {},
   "source": [
    "# Multivariate Data Preparation"
   ]
  },
  {
   "cell_type": "markdown",
   "metadata": {},
   "source": [
    "## Single Step Forecast"
   ]
  },
  {
   "cell_type": "markdown",
   "metadata": {},
   "source": [
    "## Multivariate Input , Univariate Output for Single Step Forecast"
   ]
  },
  {
   "cell_type": "code",
   "execution_count": 167,
   "metadata": {},
   "outputs": [
    {
     "data": {
      "text/plain": [
       "array([[ 10,  15,  25],\n",
       "       [ 20,  25,  45],\n",
       "       [ 30,  35,  65],\n",
       "       [ 40,  45,  85],\n",
       "       [ 50,  55, 105],\n",
       "       [ 60,  65, 125],\n",
       "       [ 70,  75, 145],\n",
       "       [ 80,  85, 165],\n",
       "       [ 90,  95, 185]])"
      ]
     },
     "execution_count": 167,
     "metadata": {},
     "output_type": "execute_result"
    }
   ],
   "source": [
    "series1 = np.array([10, 20, 30, 40, 50, 60, 70, 80, 90])\n",
    "series2 = np.array([15, 25, 35, 45, 55, 65, 75, 85, 95])\n",
    "outputseries = np.array([25,45,65,85,105,125,145,165,185])\n",
    "\n",
    "series1 = series1.reshape(len(series1),1)\n",
    "series2 = series2.reshape(len(series2),1)\n",
    "outputseries = outputseries.reshape(len(outputseries),1)\n",
    "#horizontally stack column\n",
    "multivariate_dataset = np.hstack((series1,series2,outputseries))\n",
    "multivariate_dataset"
   ]
  },
  {
   "cell_type": "code",
   "execution_count": 168,
   "metadata": {},
   "outputs": [],
   "source": [
    "def multivariate_univariate_single_step(sequence,window_size):\n",
    "    x, y = list(), list()\n",
    "    for i in range(len(sequence)):\n",
    "    # find the end of this pattern\n",
    "        end_ix = i + window_size\n",
    "        # check if we are beyond the sequence\n",
    "        if end_ix > len(sequence):\n",
    "            break\n",
    "    # gather input and output parts of the pattern\n",
    "        seq_x, seq_y = sequence[i:end_ix,:-1], sequence[end_ix-1,-1]\n",
    "        x.append(seq_x)\n",
    "        y.append(seq_y)\n",
    "    return np.array(x), np.array(y)"
   ]
  },
  {
   "cell_type": "code",
   "execution_count": 169,
   "metadata": {},
   "outputs": [
    {
     "name": "stdout",
     "output_type": "stream",
     "text": [
      "Features are now in the shape of (8, 2, 2) while labels are now in the shape of (8,)\n",
      "\n",
      "x-feature\n",
      "8 = total number of data \n",
      "2 = window size \n",
      "2 = number of time series\n",
      "\n",
      "y-label\n",
      "8 = number of data\n",
      "\n",
      "[[10 15]\n",
      " [20 25]] 45\n",
      "[[20 25]\n",
      " [30 35]] 65\n",
      "[[30 35]\n",
      " [40 45]] 85\n",
      "[[40 45]\n",
      " [50 55]] 105\n",
      "[[50 55]\n",
      " [60 65]] 125\n"
     ]
    }
   ],
   "source": [
    "x_feature, y_label = multivariate_univariate_single_step(multivariate_dataset, window_size = 2)\n",
    "print(f\"Features are now in the shape of {x_feature.shape} while labels are now in the shape of {y_label.shape}\\n\")\n",
    "print(\"x-feature\\n\"+str(x_feature.shape[0])+\" = total number of data \")\n",
    "print(str(x_feature.shape[1])+\" = window size \")\n",
    "print(str(x_feature.shape[2])+\" = number of time series\\n\")\n",
    "print(\"y-label\\n\"+str(y_label.shape[0])+\" = number of data\\n\")\n",
    "\n",
    "\n",
    "# printing out sample\n",
    "for i in range(5):\n",
    "    print(x_feature[i], y_label[i])"
   ]
  },
  {
   "cell_type": "markdown",
   "metadata": {},
   "source": [
    "## Multivariate Input , Multivariate Output for Single Step Forecast\n"
   ]
  },
  {
   "cell_type": "code",
   "execution_count": 170,
   "metadata": {},
   "outputs": [
    {
     "data": {
      "text/plain": [
       "array([[ 10,  15,  25],\n",
       "       [ 20,  25,  45],\n",
       "       [ 30,  35,  65],\n",
       "       [ 40,  45,  85],\n",
       "       [ 50,  55, 105],\n",
       "       [ 60,  65, 125],\n",
       "       [ 70,  75, 145],\n",
       "       [ 80,  85, 165],\n",
       "       [ 90,  95, 185]])"
      ]
     },
     "execution_count": 170,
     "metadata": {},
     "output_type": "execute_result"
    }
   ],
   "source": [
    "series1 = np.array([10, 20, 30, 40, 50, 60, 70, 80, 90])\n",
    "series2 = np.array([15, 25, 35, 45, 55, 65, 75, 85, 95])\n",
    "series3 = np.array([25,45,65,85,105,125,145,165,185])\n",
    "\n",
    "series1 = series1.reshape(len(series1),1)\n",
    "series2 = series2.reshape(len(series2),1)\n",
    "series3 = series3.reshape(len(series3),1)\n",
    "#horizontally stack column\n",
    "multivariate_output_dataset = np.hstack((series1,series2,series3))\n",
    "multivariate_output_dataset"
   ]
  },
  {
   "cell_type": "code",
   "execution_count": 171,
   "metadata": {},
   "outputs": [],
   "source": [
    "def multivariate_multivariate_single_step(sequence,window_size):\n",
    "    x, y = list(), list()\n",
    "    for i in range(len(sequence)):\n",
    "    # find the end of this pattern\n",
    "        end_ix = i + window_size\n",
    "        # check if we are beyond the sequence\n",
    "        if end_ix >= len(sequence):\n",
    "            break\n",
    "    # gather input and output parts of the pattern\n",
    "        seq_x, seq_y = sequence[i:end_ix,:], sequence[end_ix,:]\n",
    "        x.append(seq_x)\n",
    "        y.append(seq_y)\n",
    "    return np.array(x), np.array(y)"
   ]
  },
  {
   "cell_type": "code",
   "execution_count": 172,
   "metadata": {},
   "outputs": [
    {
     "name": "stdout",
     "output_type": "stream",
     "text": [
      "Features are now in the shape of (5, 4, 3) while labels are now in the shape of (5, 3)\n",
      "\n",
      "x-feature\n",
      "5 = number of data \n",
      "4 = window size \n",
      "3 = number of time series\n",
      "\n",
      "y-label\n",
      "5 = number of data\n",
      "3 = number of step\n",
      "\n",
      "[[10 15 25]\n",
      " [20 25 45]\n",
      " [30 35 65]\n",
      " [40 45 85]] [ 50  55 105]\n",
      "[[ 20  25  45]\n",
      " [ 30  35  65]\n",
      " [ 40  45  85]\n",
      " [ 50  55 105]] [ 60  65 125]\n",
      "[[ 30  35  65]\n",
      " [ 40  45  85]\n",
      " [ 50  55 105]\n",
      " [ 60  65 125]] [ 70  75 145]\n",
      "[[ 40  45  85]\n",
      " [ 50  55 105]\n",
      " [ 60  65 125]\n",
      " [ 70  75 145]] [ 80  85 165]\n",
      "[[ 50  55 105]\n",
      " [ 60  65 125]\n",
      " [ 70  75 145]\n",
      " [ 80  85 165]] [ 90  95 185]\n"
     ]
    }
   ],
   "source": [
    "x_feature, y_label = multivariate_multivariate_single_step(multivariate_output_dataset, window_size = 4)\n",
    "print(f\"Features are now in the shape of {x_feature.shape} while labels are now in the shape of {y_label.shape}\\n\")\n",
    "print(\"x-feature\\n\"+str(x_feature.shape[0])+\" = number of data \")\n",
    "print(str(x_feature.shape[1])+\" = window size \")\n",
    "print(str(x_feature.shape[2])+\" = number of time series\\n\")\n",
    "print(\"y-label\\n\"+str(y_label.shape[0])+\" = number of data\")\n",
    "print(str(y_label.shape[1])+\" = number of step\\n\")\n",
    "\n",
    "# printing out sample\n",
    "for i in range(x_feature.shape[0]):\n",
    "    print(x_feature[i], y_label[i])"
   ]
  },
  {
   "cell_type": "markdown",
   "metadata": {},
   "source": [
    "## Multi- Step Forecast\n"
   ]
  },
  {
   "cell_type": "markdown",
   "metadata": {},
   "source": [
    "## Multivariate Input , Univariate Output for Multi Step Forecast"
   ]
  },
  {
   "cell_type": "code",
   "execution_count": 173,
   "metadata": {},
   "outputs": [
    {
     "data": {
      "text/plain": [
       "array([[ 10,  15,  25],\n",
       "       [ 20,  25,  45],\n",
       "       [ 30,  35,  65],\n",
       "       [ 40,  45,  85],\n",
       "       [ 50,  55, 105],\n",
       "       [ 60,  65, 125],\n",
       "       [ 70,  75, 145],\n",
       "       [ 80,  85, 165],\n",
       "       [ 90,  95, 185]])"
      ]
     },
     "execution_count": 173,
     "metadata": {},
     "output_type": "execute_result"
    }
   ],
   "source": [
    "series1 = np.array([10, 20, 30, 40, 50, 60, 70, 80, 90])\n",
    "series2 = np.array([15, 25, 35, 45, 55, 65, 75, 85, 95])\n",
    "outputseries = np.array([25,45,65,85,105,125,145,165,185])\n",
    "\n",
    "series1 = series1.reshape(len(series1),1)\n",
    "series2 = series2.reshape(len(series2),1)\n",
    "outputseries = outputseries.reshape(len(outputseries),1)\n",
    "#horizontally stack column\n",
    "multivariate_dataset2 = np.hstack((series1,series2,outputseries))\n",
    "multivariate_dataset2"
   ]
  },
  {
   "cell_type": "code",
   "execution_count": 174,
   "metadata": {},
   "outputs": [],
   "source": [
    "def multivariate_univariate_multi_step(sequence,window_size,n_multistep):\n",
    "    x, y = list(), list()\n",
    "    for i in range(len(sequence)):\n",
    "    # find the end of this pattern\n",
    "        end_ix = i + window_size\n",
    "        out_ix = end_ix + n_multistep -1\n",
    "        # check if we are beyond the sequence\n",
    "        if out_ix > len(sequence):\n",
    "            break\n",
    "    # gather input and output parts of the pattern\n",
    "        seq_x, seq_y = sequence[i:end_ix,:-1], sequence[end_ix-1:out_ix,-1]\n",
    "        x.append(seq_x)\n",
    "        y.append(seq_y)\n",
    "    return np.array(x), np.array(y)"
   ]
  },
  {
   "cell_type": "code",
   "execution_count": 175,
   "metadata": {},
   "outputs": [
    {
     "name": "stdout",
     "output_type": "stream",
     "text": [
      "Features are now in the shape of (5, 3, 2) while labels are now in the shape of (5, 3)\n",
      "\n",
      "x-feature\n",
      "5 = total number of data \n",
      "3 = window size \n",
      "2 = number of time series\n",
      "\n",
      "y-label\n",
      "5 =number of data\n",
      "3 =number of step\n",
      "\n",
      "[[10 15]\n",
      " [20 25]\n",
      " [30 35]] [ 65  85 105]\n",
      "[[20 25]\n",
      " [30 35]\n",
      " [40 45]] [ 85 105 125]\n",
      "[[30 35]\n",
      " [40 45]\n",
      " [50 55]] [105 125 145]\n",
      "[[40 45]\n",
      " [50 55]\n",
      " [60 65]] [125 145 165]\n",
      "[[50 55]\n",
      " [60 65]\n",
      " [70 75]] [145 165 185]\n"
     ]
    }
   ],
   "source": [
    "x_feature, y_label = multivariate_univariate_multi_step(multivariate_dataset2, window_size = 3 ,n_multistep = 3)\n",
    "print(f\"Features are now in the shape of {x_feature.shape} while labels are now in the shape of {y_label.shape}\\n\")\n",
    "print(\"x-feature\\n\"+str(x_feature.shape[0])+\" = total number of data \")\n",
    "print(str(x_feature.shape[1])+\" = window size \")\n",
    "print(str(x_feature.shape[2])+\" = number of time series\\n\")\n",
    "print(\"y-label\\n\"+str(y_label.shape[0])+\" =number of data\")\n",
    "print(str(y_label.shape[1])+\" =number of step\\n\")\n",
    "\n",
    "# printing out sample\n",
    "for i in range(x_feature.shape[0]):\n",
    "    print(x_feature[i], y_label[i])"
   ]
  },
  {
   "cell_type": "markdown",
   "metadata": {},
   "source": [
    "## Multivariate Input , Multivariate Output for Multi Step Forecast\n"
   ]
  },
  {
   "cell_type": "code",
   "execution_count": 176,
   "metadata": {},
   "outputs": [
    {
     "data": {
      "text/plain": [
       "array([[ 10,  15,  25],\n",
       "       [ 20,  25,  45],\n",
       "       [ 30,  35,  65],\n",
       "       [ 40,  45,  85],\n",
       "       [ 50,  55, 105],\n",
       "       [ 60,  65, 125],\n",
       "       [ 70,  75, 145],\n",
       "       [ 80,  85, 165],\n",
       "       [ 90,  95, 185]])"
      ]
     },
     "execution_count": 176,
     "metadata": {},
     "output_type": "execute_result"
    }
   ],
   "source": [
    "series1 = np.array([10, 20, 30, 40, 50, 60, 70, 80, 90])\n",
    "series2 = np.array([15, 25, 35, 45, 55, 65, 75, 85, 95])\n",
    "series3 = np.array([25,45,65,85,105,125,145,165,185])\n",
    "\n",
    "series1 = series1.reshape(len(series1),1)\n",
    "series2 = series2.reshape(len(series2),1)\n",
    "series3 = series3.reshape(len(series3),1)\n",
    "#horizontally stack column\n",
    "multivariate_output_dataset_multi = np.hstack((series1,series2,series3))\n",
    "multivariate_output_dataset_multi"
   ]
  },
  {
   "cell_type": "code",
   "execution_count": 177,
   "metadata": {},
   "outputs": [],
   "source": [
    "def multivariate_multivariate_multi_step(sequence,window_size,n_multistep):\n",
    "    x, y = list(),list()\n",
    "    for i in range(len(sequence)):\n",
    "    # find the end of this pattern\n",
    "        end_ix = i + window_size\n",
    "        out_ix = end_ix + n_multistep\n",
    "        # check if we are beyond the sequence\n",
    "        if end_ix >= len(sequence):\n",
    "            break\n",
    "    # gather input and output parts of the pattern\n",
    "        seq_x, seq_y = sequence[i:end_ix,:], sequence[end_ix:out_ix,:]\n",
    "        x.append(seq_x)\n",
    "        y.append(seq_y)\n",
    "    return np.array(x), np.array(y,dtype='object')"
   ]
  },
  {
   "cell_type": "markdown",
   "metadata": {},
   "source": [
    "TO Do : solve the bug that cannot print the y-label multistep value"
   ]
  },
  {
   "cell_type": "code",
   "execution_count": 178,
   "metadata": {},
   "outputs": [
    {
     "name": "stdout",
     "output_type": "stream",
     "text": [
      "Features are now in the shape of (5, 4, 3) while labels are now in the shape of (5,)\n",
      "\n",
      "x-feature\n",
      "5 = total number of data \n",
      "4 = window size \n",
      "3 = number of time series\n",
      "\n",
      "y-label\n",
      "5 =number of data\n",
      "\n",
      "[[10 15 25]\n",
      " [20 25 45]\n",
      " [30 35 65]\n",
      " [40 45 85]] [[ 50  55 105]\n",
      " [ 60  65 125]\n",
      " [ 70  75 145]]\n",
      "[[ 20  25  45]\n",
      " [ 30  35  65]\n",
      " [ 40  45  85]\n",
      " [ 50  55 105]] [[ 60  65 125]\n",
      " [ 70  75 145]\n",
      " [ 80  85 165]]\n",
      "[[ 30  35  65]\n",
      " [ 40  45  85]\n",
      " [ 50  55 105]\n",
      " [ 60  65 125]] [[ 70  75 145]\n",
      " [ 80  85 165]\n",
      " [ 90  95 185]]\n",
      "[[ 40  45  85]\n",
      " [ 50  55 105]\n",
      " [ 60  65 125]\n",
      " [ 70  75 145]] [[ 80  85 165]\n",
      " [ 90  95 185]]\n",
      "[[ 50  55 105]\n",
      " [ 60  65 125]\n",
      " [ 70  75 145]\n",
      " [ 80  85 165]] [[ 90  95 185]]\n"
     ]
    }
   ],
   "source": [
    "x_feature, y_label = multivariate_multivariate_multi_step(multivariate_output_dataset_multi, window_size = 4 ,n_multistep = 3)\n",
    "print(f\"Features are now in the shape of {x_feature.shape} while labels are now in the shape of {y_label.shape}\\n\")\n",
    "print(\"x-feature\\n\"+str(x_feature.shape[0])+\" = total number of data \")\n",
    "print(str(x_feature.shape[1])+\" = window size \")\n",
    "print(str(x_feature.shape[2])+\" = number of time series\\n\")\n",
    "print(\"y-label\\n\"+str(y_label.shape[0])+\" =number of data\\n\")\n",
    "\n",
    "\n",
    "# printing out sample\n",
    "for i in range(x_feature.shape[0]):\n",
    "    print(x_feature[i], y_label[i])"
   ]
  },
  {
   "cell_type": "code",
   "execution_count": 179,
   "metadata": {},
   "outputs": [
    {
     "data": {
      "text/plain": [
       "[array([[ 50,  55, 105],\n",
       "        [ 60,  65, 125],\n",
       "        [ 70,  75, 145]]),\n",
       " array([[ 60,  65, 125],\n",
       "        [ 70,  75, 145],\n",
       "        [ 80,  85, 165]]),\n",
       " array([[ 70,  75, 145],\n",
       "        [ 80,  85, 165],\n",
       "        [ 90,  95, 185]]),\n",
       " array([[ 80,  85, 165],\n",
       "        [ 90,  95, 185]]),\n",
       " array([[ 90,  95, 185]])]"
      ]
     },
     "execution_count": 179,
     "metadata": {},
     "output_type": "execute_result"
    }
   ],
   "source": [
    "# Easy to view\n",
    "list(y_label)"
   ]
  },
  {
   "cell_type": "markdown",
   "metadata": {},
   "source": [
    "\"Running the example first prints the shape of the time series, in this case 10 time steps\n",
    "of observations. Next, the series is split into input and output components for a supervised\n",
    "learning problem. We can see that for the chosen representation that we have 7 samples for the\n",
    "input and output and 3 input features. The shape of the output is 7 samples represented as (7,)\n",
    "indicating that the array is a single column. It could also be represented as a two-dimensional\n",
    "array with 7 rows and 1 column [7, 1]. Finally , the input and output aspects of each sample\n",
    "are printed, showing the expected breakdown of the problem.\""
   ]
  },
  {
   "cell_type": "markdown",
   "metadata": {},
   "source": [
    "# Preparing 3-Dimensional Data\n",
    "Preparing time series data for CNNs and LSTMs requires one additional step beyond transforming\n",
    "the data into a supervised learning problem.Some configuration is needed in building the LSTM model in Pytorch : \\\n",
    "batch_size = True [ total number of data ,window size ,number of time series ]"
   ]
  },
  {
   "cell_type": "code",
   "execution_count": 180,
   "metadata": {},
   "outputs": [],
   "source": [
    "#For example :\n",
    "class LSTM(torch.nn.Module):\n",
    "    \n",
    "     def __init__(self, n_feature, hidden_dim, num_layers, output_dim):\n",
    "                super(LSTM, self).__init__()\n",
    "\n",
    "                self.n_feature = n_feature\n",
    "                # Hidden dimensions\n",
    "                self.hidden_dim = hidden_dim\n",
    "\n",
    "                # Number of hidden layers\n",
    "                self.num_layers = num_layers\n",
    "\n",
    "                # Building your LSTM\n",
    "                # batch_first=True causes input/output tensors to be of shape\n",
    "                # (batch_dim, seq_dim, feature_dim)\n",
    "                self.lstm = nn.LSTM(n_feature, hidden_dim, num_layers, batch_first=True)\n",
    "\n",
    "                # Readout layer\n",
    "                self.fc = nn.Linear(hidden_dim, output_dim)\n",
    "               "
   ]
  },
  {
   "cell_type": "markdown",
   "metadata": {},
   "source": [
    "## Example of Series"
   ]
  },
  {
   "cell_type": "markdown",
   "metadata": {},
   "source": [
    "Source: \n",
    "- Deep Learning for Time Series Forecasting, Jason Brownlee \n",
    "- https://www.kaggle.com/taronzakaryan/stock-prediction-lstm-using-pytorch\n",
    "- https://stackoverflow.com/questions/56858924/multivariate-input-lstm-in-pytorch"
   ]
  },
  {
   "cell_type": "code",
   "execution_count": null,
   "metadata": {},
   "outputs": [],
   "source": []
  }
 ],
 "metadata": {
  "kernelspec": {
   "display_name": "Python 3",
   "language": "python",
   "name": "python3"
  },
  "language_info": {
   "codemirror_mode": {
    "name": "ipython",
    "version": 3
   },
   "file_extension": ".py",
   "mimetype": "text/x-python",
   "name": "python",
   "nbconvert_exporter": "python",
   "pygments_lexer": "ipython3",
   "version": "3.7.9"
  }
 },
 "nbformat": 4,
 "nbformat_minor": 4
}
